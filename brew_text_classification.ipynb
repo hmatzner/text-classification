{
  "nbformat": 4,
  "nbformat_minor": 0,
  "metadata": {
    "colab": {
      "provenance": []
    },
    "kernelspec": {
      "name": "python3",
      "display_name": "Python 3"
    },
    "language_info": {
      "name": "python"
    }
  },
  "cells": [
    {
      "cell_type": "code",
      "execution_count": 1,
      "metadata": {
        "colab": {
          "base_uri": "https://localhost:8080/"
        },
        "id": "z06ZbeBBgXQA",
        "outputId": "7b4dc257-540c-4cbd-8bfa-ad8bb2d3cbda"
      },
      "outputs": [
        {
          "output_type": "stream",
          "name": "stdout",
          "text": [
            "Looking in indexes: https://pypi.org/simple, https://us-python.pkg.dev/colab-wheels/public/simple/\n",
            "Collecting transformers\n",
            "  Downloading transformers-4.25.1-py3-none-any.whl (5.8 MB)\n",
            "\u001b[K     |████████████████████████████████| 5.8 MB 5.1 MB/s \n",
            "\u001b[?25hCollecting newspaper3k\n",
            "  Downloading newspaper3k-0.2.8-py3-none-any.whl (211 kB)\n",
            "\u001b[K     |████████████████████████████████| 211 kB 57.7 MB/s \n",
            "\u001b[?25hRequirement already satisfied: regex!=2019.12.17 in /usr/local/lib/python3.8/dist-packages (from transformers) (2022.6.2)\n",
            "Collecting huggingface-hub<1.0,>=0.10.0\n",
            "  Downloading huggingface_hub-0.11.1-py3-none-any.whl (182 kB)\n",
            "\u001b[K     |████████████████████████████████| 182 kB 67.3 MB/s \n",
            "\u001b[?25hCollecting tokenizers!=0.11.3,<0.14,>=0.11.1\n",
            "  Downloading tokenizers-0.13.2-cp38-cp38-manylinux_2_17_x86_64.manylinux2014_x86_64.whl (7.6 MB)\n",
            "\u001b[K     |████████████████████████████████| 7.6 MB 37.8 MB/s \n",
            "\u001b[?25hRequirement already satisfied: tqdm>=4.27 in /usr/local/lib/python3.8/dist-packages (from transformers) (4.64.1)\n",
            "Requirement already satisfied: requests in /usr/local/lib/python3.8/dist-packages (from transformers) (2.23.0)\n",
            "Requirement already satisfied: numpy>=1.17 in /usr/local/lib/python3.8/dist-packages (from transformers) (1.21.6)\n",
            "Requirement already satisfied: packaging>=20.0 in /usr/local/lib/python3.8/dist-packages (from transformers) (21.3)\n",
            "Requirement already satisfied: pyyaml>=5.1 in /usr/local/lib/python3.8/dist-packages (from transformers) (6.0)\n",
            "Requirement already satisfied: filelock in /usr/local/lib/python3.8/dist-packages (from transformers) (3.8.0)\n",
            "Requirement already satisfied: typing-extensions>=3.7.4.3 in /usr/local/lib/python3.8/dist-packages (from huggingface-hub<1.0,>=0.10.0->transformers) (4.1.1)\n",
            "Requirement already satisfied: pyparsing!=3.0.5,>=2.0.2 in /usr/local/lib/python3.8/dist-packages (from packaging>=20.0->transformers) (3.0.9)\n",
            "Collecting feedparser>=5.2.1\n",
            "  Downloading feedparser-6.0.10-py3-none-any.whl (81 kB)\n",
            "\u001b[K     |████████████████████████████████| 81 kB 10.2 MB/s \n",
            "\u001b[?25hRequirement already satisfied: lxml>=3.6.0 in /usr/local/lib/python3.8/dist-packages (from newspaper3k) (4.9.1)\n",
            "Requirement already satisfied: python-dateutil>=2.5.3 in /usr/local/lib/python3.8/dist-packages (from newspaper3k) (2.8.2)\n",
            "Collecting tldextract>=2.0.1\n",
            "  Downloading tldextract-3.4.0-py3-none-any.whl (93 kB)\n",
            "\u001b[K     |████████████████████████████████| 93 kB 3.0 MB/s \n",
            "\u001b[?25hCollecting cssselect>=0.9.2\n",
            "  Downloading cssselect-1.2.0-py2.py3-none-any.whl (18 kB)\n",
            "Collecting feedfinder2>=0.0.4\n",
            "  Downloading feedfinder2-0.0.4.tar.gz (3.3 kB)\n",
            "Collecting tinysegmenter==0.3\n",
            "  Downloading tinysegmenter-0.3.tar.gz (16 kB)\n",
            "Requirement already satisfied: nltk>=3.2.1 in /usr/local/lib/python3.8/dist-packages (from newspaper3k) (3.7)\n",
            "Requirement already satisfied: beautifulsoup4>=4.4.1 in /usr/local/lib/python3.8/dist-packages (from newspaper3k) (4.6.3)\n",
            "Requirement already satisfied: Pillow>=3.3.0 in /usr/local/lib/python3.8/dist-packages (from newspaper3k) (7.1.2)\n",
            "Collecting jieba3k>=0.35.1\n",
            "  Downloading jieba3k-0.35.1.zip (7.4 MB)\n",
            "\u001b[K     |████████████████████████████████| 7.4 MB 37.3 MB/s \n",
            "\u001b[?25hRequirement already satisfied: six in /usr/local/lib/python3.8/dist-packages (from feedfinder2>=0.0.4->newspaper3k) (1.15.0)\n",
            "Collecting sgmllib3k\n",
            "  Downloading sgmllib3k-1.0.0.tar.gz (5.8 kB)\n",
            "Requirement already satisfied: joblib in /usr/local/lib/python3.8/dist-packages (from nltk>=3.2.1->newspaper3k) (1.2.0)\n",
            "Requirement already satisfied: click in /usr/local/lib/python3.8/dist-packages (from nltk>=3.2.1->newspaper3k) (7.1.2)\n",
            "Requirement already satisfied: chardet<4,>=3.0.2 in /usr/local/lib/python3.8/dist-packages (from requests->transformers) (3.0.4)\n",
            "Requirement already satisfied: urllib3!=1.25.0,!=1.25.1,<1.26,>=1.21.1 in /usr/local/lib/python3.8/dist-packages (from requests->transformers) (1.24.3)\n",
            "Requirement already satisfied: idna<3,>=2.5 in /usr/local/lib/python3.8/dist-packages (from requests->transformers) (2.10)\n",
            "Requirement already satisfied: certifi>=2017.4.17 in /usr/local/lib/python3.8/dist-packages (from requests->transformers) (2022.9.24)\n",
            "Collecting requests-file>=1.4\n",
            "  Downloading requests_file-1.5.1-py2.py3-none-any.whl (3.7 kB)\n",
            "Building wheels for collected packages: tinysegmenter, feedfinder2, jieba3k, sgmllib3k\n",
            "  Building wheel for tinysegmenter (setup.py) ... \u001b[?25l\u001b[?25hdone\n",
            "  Created wheel for tinysegmenter: filename=tinysegmenter-0.3-py3-none-any.whl size=13552 sha256=764c2e668b311f4c778a0b9d81881b4f70ad0730c6fdbb0f350ea362c266ae5b\n",
            "  Stored in directory: /root/.cache/pip/wheels/99/74/83/8fac1c8d9c648cfabebbbffe97a889f6624817f3aa0bbe6c09\n",
            "  Building wheel for feedfinder2 (setup.py) ... \u001b[?25l\u001b[?25hdone\n",
            "  Created wheel for feedfinder2: filename=feedfinder2-0.0.4-py3-none-any.whl size=3354 sha256=a82dc12b8cf04411caca72d031e0a77a796db461596094254d679095ce56e88a\n",
            "  Stored in directory: /root/.cache/pip/wheels/b6/09/68/a9f15498ac02c23dde29f18745bc6a6f574ba4ab41861a3575\n",
            "  Building wheel for jieba3k (setup.py) ... \u001b[?25l\u001b[?25hdone\n",
            "  Created wheel for jieba3k: filename=jieba3k-0.35.1-py3-none-any.whl size=7398405 sha256=15dfbec8b876f4afe3bbe3ad7fe25cc2f0e6469469eb10ed15ce6bf50b467680\n",
            "  Stored in directory: /root/.cache/pip/wheels/1f/7e/0c/54f3b0f5164278677899f2db08f2b07943ce2d024a3c862afb\n",
            "  Building wheel for sgmllib3k (setup.py) ... \u001b[?25l\u001b[?25hdone\n",
            "  Created wheel for sgmllib3k: filename=sgmllib3k-1.0.0-py3-none-any.whl size=6066 sha256=045e7cd4ac7f03df4ad4353cad92ff8cdf03dcdb36e1047b414de80f12ad5039\n",
            "  Stored in directory: /root/.cache/pip/wheels/83/63/2f/117884c3b19d46b64d3d61690333aa80c88dc14050e269c546\n",
            "Successfully built tinysegmenter feedfinder2 jieba3k sgmllib3k\n",
            "Installing collected packages: sgmllib3k, requests-file, tokenizers, tldextract, tinysegmenter, jieba3k, huggingface-hub, feedparser, feedfinder2, cssselect, transformers, newspaper3k\n",
            "Successfully installed cssselect-1.2.0 feedfinder2-0.0.4 feedparser-6.0.10 huggingface-hub-0.11.1 jieba3k-0.35.1 newspaper3k-0.2.8 requests-file-1.5.1 sgmllib3k-1.0.0 tinysegmenter-0.3 tldextract-3.4.0 tokenizers-0.13.2 transformers-4.25.1\n"
          ]
        }
      ],
      "source": [
        "! pip install transformers newspaper3k"
      ]
    },
    {
      "cell_type": "code",
      "source": [
        "# ! python -m spacy download en_core_web_sm"
      ],
      "metadata": {
        "id": "Rv3cITONx2YR"
      },
      "execution_count": 2,
      "outputs": []
    },
    {
      "cell_type": "code",
      "source": [
        "import os\n",
        "import re\n",
        "import pandas as pd\n",
        "import numpy as np\n",
        "import matplotlib.pyplot as plt\n",
        "import spacy\n",
        "from newspaper import Article\n",
        "from nltk.tokenize import word_tokenize\n",
        "from nltk.stem.porter import *\n",
        "from collections import Counter\n",
        "from sklearn.model_selection import train_test_split\n",
        "from sklearn.preprocessing import OneHotEncoder, OrdinalEncoder\n",
        "from sklearn.feature_extraction.text import CountVectorizer, TfidfVectorizer\n",
        "from sklearn.linear_model import LogisticRegression\n",
        "from sklearn.svm import SVC\n",
        "from sklearn.ensemble import RandomForestClassifier\n",
        "from sklearn.neighbors import KNeighborsClassifier\n",
        "from sklearn.model_selection import GridSearchCV\n",
        "from sklearn.metrics import ConfusionMatrixDisplay\n",
        "from sklearn.metrics import classification_report\n",
        "from transformers import pipeline\n",
        "import nltk\n",
        "nltk.download('punkt')"
      ],
      "metadata": {
        "colab": {
          "base_uri": "https://localhost:8080/"
        },
        "id": "tWUZxI5DgfDZ",
        "outputId": "b20d352d-adfe-44c9-917f-dddf788e99db"
      },
      "execution_count": 101,
      "outputs": [
        {
          "output_type": "stream",
          "name": "stderr",
          "text": [
            "[nltk_data] Downloading package punkt to /root/nltk_data...\n",
            "[nltk_data]   Package punkt is already up-to-date!\n"
          ]
        },
        {
          "output_type": "execute_result",
          "data": {
            "text/plain": [
              "True"
            ]
          },
          "metadata": {},
          "execution_count": 101
        }
      ]
    },
    {
      "cell_type": "code",
      "source": [
        "from google.colab import drive\n",
        "drive.mount('/content/drive')"
      ],
      "metadata": {
        "colab": {
          "base_uri": "https://localhost:8080/"
        },
        "id": "BZcfvSLlgoLD",
        "outputId": "d6a046e1-71c8-4efa-a99d-d4769bd8f3e9"
      },
      "execution_count": 4,
      "outputs": [
        {
          "output_type": "stream",
          "name": "stdout",
          "text": [
            "Mounted at /content/drive\n"
          ]
        }
      ]
    },
    {
      "cell_type": "code",
      "source": [
        "MAIN_FOLDER = '/content/drive/MyDrive/url_classification/'\n",
        "HTML_FOLDER = MAIN_FOLDER + 'html_files_Nov-24-2022/'\n",
        "os.chdir(MAIN_FOLDER)"
      ],
      "metadata": {
        "id": "D99y09i0gryz"
      },
      "execution_count": 5,
      "outputs": []
    },
    {
      "cell_type": "code",
      "source": [
        "TARGET = 'label'\n",
        "TEXT = 'text'"
      ],
      "metadata": {
        "id": "znjzbSmzrkXP"
      },
      "execution_count": 6,
      "outputs": []
    },
    {
      "cell_type": "code",
      "source": [
        "def get_html_files(html_folder=HTML_FOLDER):\n",
        "  html_files = os.listdir(HTML_FOLDER)\n",
        "  return html_files\n",
        "\n",
        "html_files = get_html_files()"
      ],
      "metadata": {
        "id": "whpXujqVgr1f"
      },
      "execution_count": 7,
      "outputs": []
    },
    {
      "cell_type": "code",
      "source": [
        "def create_df(csv_path='url_classification_temporary.csv', usecols=['File Name', 'Label']):\n",
        "  df = pd.read_csv(csv_path, usecols = usecols)\n",
        "  df.rename(columns={usecols[0]: 'filename', usecols[1]: 'label'}, inplace=True)\n",
        "  df = df[~df['filename'].isna()]\n",
        "  print(f'Original shape: {df.shape}')\n",
        "  df = df[df['label'] != '-']\n",
        "  df.reset_index(drop=True, inplace=True)\n",
        "  print(f'Final shape: {df.shape}')\n",
        "  return df\n",
        "\n",
        "df = create_df('url_classification_temporary4.csv')"
      ],
      "metadata": {
        "id": "AzR_llqKgr3t",
        "colab": {
          "base_uri": "https://localhost:8080/"
        },
        "outputId": "33d8a0e8-c912-45fb-8555-83766b514663"
      },
      "execution_count": 8,
      "outputs": [
        {
          "output_type": "stream",
          "name": "stdout",
          "text": [
            "Original shape: (281, 2)\n",
            "Final shape: (223, 2)\n"
          ]
        }
      ]
    },
    {
      "cell_type": "code",
      "source": [
        "def get_target_distribution(df, normalize=False):\n",
        "  return df[TARGET].value_counts(normalize=normalize)\n",
        "\n",
        "get_target_distribution(df, normalize=True)"
      ],
      "metadata": {
        "id": "jjNIw68Vgr6D",
        "colab": {
          "base_uri": "https://localhost:8080/"
        },
        "outputId": "faf0fc62-38da-4d27-c835-bb811b4ba039"
      },
      "execution_count": 9,
      "outputs": [
        {
          "output_type": "execute_result",
          "data": {
            "text/plain": [
              "Home Page        0.336323\n",
              "Blog             0.228700\n",
              "Product Page     0.152466\n",
              "MISC             0.147982\n",
              "Article          0.040359\n",
              "White Paper      0.035874\n",
              "Event            0.022422\n",
              "Education        0.017937\n",
              "Video Content    0.004484\n",
              "Online Course    0.004484\n",
              "Q&A Page         0.004484\n",
              "About Page       0.004484\n",
              "Name: label, dtype: float64"
            ]
          },
          "metadata": {},
          "execution_count": 9
        }
      ]
    },
    {
      "cell_type": "code",
      "source": [
        "def read_htmls(df):\n",
        "  current_filenames = df['filename'].values\n",
        "  htmls = list()\n",
        "\n",
        "  for i, filename in enumerate(current_filenames):\n",
        "    try:\n",
        "      with open(f'{HTML_FOLDER}{filename}') as f:\n",
        "        html = f.read()\n",
        "        htmls.append(html)\n",
        "    except FileNotFoundError:\n",
        "      print(f'File {i} not found: \"{filename}\"')\n",
        "  \n",
        "  return htmls\n",
        "\n",
        "htmls = read_htmls(df)"
      ],
      "metadata": {
        "id": "JS0owJeIgr8U"
      },
      "execution_count": 10,
      "outputs": []
    },
    {
      "cell_type": "code",
      "source": [
        "def read_articles(htmls):\n",
        "  toi_articles = list()\n",
        "\n",
        "  for html in htmls:\n",
        "    toi_article = Article(url = ' ', language=\"en\")\n",
        "    toi_article.set_html(html)\n",
        "    toi_article.parse()\n",
        "    toi_article.nlp()\n",
        "    toi_articles.append(toi_article)\n",
        "\n",
        "  return toi_articles\n",
        "\n",
        "toi_articles = read_articles(htmls)"
      ],
      "metadata": {
        "id": "JM7wBwMagsGA"
      },
      "execution_count": 11,
      "outputs": []
    },
    {
      "cell_type": "code",
      "source": [
        "def create_y(df):\n",
        "  return df['label'].tolist()\n",
        "\n",
        "y = create_y(df)"
      ],
      "metadata": {
        "id": "AaQIR7XDjcZv"
      },
      "execution_count": 12,
      "outputs": []
    },
    {
      "cell_type": "code",
      "source": [
        "assert len(toi_articles) == len(y)"
      ],
      "metadata": {
        "id": "T_QAtpW4jccM"
      },
      "execution_count": 13,
      "outputs": []
    },
    {
      "cell_type": "code",
      "source": [
        "def create_summary(toi_articles):\n",
        "  title_and_summary = [(toi_article.title + '. ' + toi_article.summary).replace('\\n', ' ') for toi_article in toi_articles]\n",
        "  return title_and_summary\n",
        "\n",
        "title_and_summary = create_summary(toi_articles)"
      ],
      "metadata": {
        "id": "aAbmXEZZjceq"
      },
      "execution_count": 14,
      "outputs": []
    },
    {
      "cell_type": "code",
      "source": [
        "def create_df_text(text, y, minimum_words=None, maximum_classes=None):\n",
        "  df_text = pd.DataFrame({TEXT: title_and_summary, TARGET: y})\n",
        "  df_text[TEXT] = df_text.loc[:, TEXT].str.lower()\n",
        "\n",
        "  if minimum_words:\n",
        "    df_text = df_text[df_text[TEXT].str.split().str.len() > minimum_words]\n",
        "\n",
        "  if maximum_classes:\n",
        "    relevant_labels = df_text[TARGET].value_counts()[:maximum_classes].index\n",
        "    df_text = df_text[df_text[TARGET].isin(relevant_labels)]\n",
        "    \n",
        "  return df_text\n",
        "\n",
        "df_text = create_df_text(title_and_summary, y, minimum_words=30, maximum_classes=4)"
      ],
      "metadata": {
        "id": "PL2o3njajcg0"
      },
      "execution_count": 15,
      "outputs": []
    },
    {
      "cell_type": "code",
      "source": [
        "def split_X_y(df, test_size=0.2):\n",
        "  X = df.drop(TARGET, axis=1)\n",
        "  y = df[TARGET]\n",
        "\n",
        "  X_train, X_test, y_train, y_test = train_test_split(X, y, \n",
        "                                                      test_size=test_size,\n",
        "                                                      stratify=y, \n",
        "                                                      random_state=0)\n",
        "  return X_train, X_test, y_train, y_test\n",
        "\n",
        "X_train, X_test, y_train, y_test = split_X_y(df_text, test_size=0.2)"
      ],
      "metadata": {
        "id": "Y8BT5nELthAF"
      },
      "execution_count": 16,
      "outputs": []
    },
    {
      "cell_type": "code",
      "source": [
        "def get_baseline_accuracy(y_train, y_test):\n",
        "  majority_class = y_train.value_counts().index[0]\n",
        "  baseline_accuracy = sum(y_test == majority_class) / len(y_test)\n",
        "  return baseline_accuracy\n",
        "\n",
        "get_baseline_accuracy(y_train, y_test)"
      ],
      "metadata": {
        "colab": {
          "base_uri": "https://localhost:8080/"
        },
        "id": "2oNDMzoCuWJS",
        "outputId": "0bd0d459-5432-4cd0-e65d-70c772788ba8"
      },
      "execution_count": 17,
      "outputs": [
        {
          "output_type": "execute_result",
          "data": {
            "text/plain": [
              "0.34285714285714286"
            ]
          },
          "metadata": {},
          "execution_count": 17
        }
      ]
    },
    {
      "cell_type": "code",
      "source": [
        "def get_most_common_tokens(amount=10):\n",
        "  tokenized = [word_tokenize(string) for string in X_train[TEXT]]\n",
        "  flat_list = [item for sublist in tokenized for item in sublist]\n",
        "  return Counter(flat_list).most_common(amount)\n",
        "\n",
        "get_most_common_tokens(amount=5)"
      ],
      "metadata": {
        "colab": {
          "base_uri": "https://localhost:8080/"
        },
        "id": "HmeTzYrXuey6",
        "outputId": "b2a576de-1f67-442b-dcef-2604ba4de8e5"
      },
      "execution_count": 18,
      "outputs": [
        {
          "output_type": "execute_result",
          "data": {
            "text/plain": [
              "[('.', 661), (',', 532), ('to', 457), ('the', 408), ('and', 351)]"
            ]
          },
          "metadata": {},
          "execution_count": 18
        }
      ]
    },
    {
      "cell_type": "code",
      "source": [
        "def fit_transform_articles(X_train, vectorizer='count'): # I could add stop_words=False/True as a parameter if I see later that it could make a difference\n",
        "  articles = X_train[TEXT]\n",
        "  vectorizers = {'count': CountVectorizer(), 'tfidf': TfidfVectorizer()}\n",
        "\n",
        "  try:\n",
        "    vectorizer = vectorizers[vectorizer]\n",
        "  except KeyError:\n",
        "    raise KeyError(\"vectorizer should be either 'count' or 'tfidf'\")\n",
        "\n",
        "  X = vectorizer.fit_transform(articles)\n",
        "  return X\n",
        "\n",
        "X = fit_transform_articles(X_train, vectorizer='tfidf') # to see output: X.toarray()"
      ],
      "metadata": {
        "id": "jsTxF3vjQ3V7"
      },
      "execution_count": 38,
      "outputs": []
    },
    {
      "cell_type": "code",
      "source": [
        "def load_nlp():\n",
        "  nlp = spacy.load('en_core_web_sm')\n",
        "  return nlp\n",
        "\n",
        "nlp = load_nlp()"
      ],
      "metadata": {
        "id": "P_X8ZyOOyEpl"
      },
      "execution_count": 20,
      "outputs": []
    },
    {
      "cell_type": "code",
      "source": [
        "def lemmatize_text(X_train, nlp):\n",
        "  lemmatized_text = list()\n",
        "  for text in X_train[TEXT]:\n",
        "    lemmas = [token.lemma_.lower() for token in nlp(text)]\n",
        "    lemmatized_text.append(lemmas)\n",
        "\n",
        "  return lemmatized_text\n",
        "\n",
        "lemmatized_text = lemmatize_text(X_train, nlp)"
      ],
      "metadata": {
        "id": "gRqWz30xx-K3"
      },
      "execution_count": 21,
      "outputs": []
    },
    {
      "cell_type": "code",
      "source": [
        "def fit_transform_articles(X_train, X_test, vectorizer='count'):\n",
        "  vectorizers = {'count': CountVectorizer(), 'tfidf': TfidfVectorizer()}\n",
        "\n",
        "  try:\n",
        "    vectorizer = vectorizers[vectorizer]\n",
        "  except KeyError:\n",
        "    raise KeyError(\"vectorizer should be either 'count' or 'tfidf'\")\n",
        "\n",
        "  X_train_transformed = vectorizer.fit_transform(X_train[TEXT])\n",
        "  X_test_transformed = vectorizer.transform(X_test[TEXT])\n",
        "\n",
        "  return X_train_transformed, X_test_transformed, vectorizer\n",
        "\n",
        "X_train_transformed, X_test_transformed, vectorizer = fit_transform_articles(X_train, X_test, vectorizer='tfidf') # to see output: X_train.toarray() or X_test.toarray()"
      ],
      "metadata": {
        "id": "x1-TaZfDyidM"
      },
      "execution_count": 42,
      "outputs": []
    },
    {
      "cell_type": "markdown",
      "source": [
        "### Modeling"
      ],
      "metadata": {
        "id": "rFB-8GCfVEWx"
      }
    },
    {
      "cell_type": "code",
      "source": [
        "def fit_model(model=LogisticRegression(max_iter=3000), X_train=X_train_transformed, y_train=y_train):\n",
        "  clf = model\n",
        "  clf.fit(X_train, y_train)\n",
        "  return clf\n",
        "\n",
        "clf = fit_model(model=LogisticRegression(max_iter=3000, \n",
        "                                         random_state=0), \n",
        "                X_train=X_train_transformed, \n",
        "                y_train=y_train)"
      ],
      "metadata": {
        "id": "oDWsciBnz2Xi"
      },
      "execution_count": 68,
      "outputs": []
    },
    {
      "cell_type": "code",
      "source": [
        "def predict(clf, X_test=X_test_transformed):\n",
        "  y_pred = clf.predict(X_test)\n",
        "  return y_pred\n",
        "\n",
        "y_pred = predict(clf, X_test=X_test_transformed)"
      ],
      "metadata": {
        "id": "FX3QkGUO0663"
      },
      "execution_count": 69,
      "outputs": []
    },
    {
      "cell_type": "code",
      "source": [
        "def get_accuracy(y_test, y_pred):\n",
        "  accuracy = sum(y_pred == y_test) / len(y_test)\n",
        "  return accuracy\n",
        "\n",
        "get_accuracy(y_test, y_pred)"
      ],
      "metadata": {
        "colab": {
          "base_uri": "https://localhost:8080/"
        },
        "id": "uKo2ehVj1UGl",
        "outputId": "7a8e7b21-61b9-4337-aca1-6f01a159d0eb"
      },
      "execution_count": 70,
      "outputs": [
        {
          "output_type": "execute_result",
          "data": {
            "text/plain": [
              "0.5714285714285714"
            ]
          },
          "metadata": {},
          "execution_count": 70
        }
      ]
    },
    {
      "cell_type": "code",
      "source": [
        "def print_important_features(clf, features=5):\n",
        "  \"\"\" \n",
        "  Get the most important features of a classifier when using a linear kernel (e.g. Logistic Regression, not SVM)\n",
        "  \"\"\"\n",
        "  coef_importances = np.argsort(clf.coef_, axis=1)\n",
        "  for i, class_ in enumerate(coef_importances[:, :features]):\n",
        "      print(f'Class \"{clf.classes_[i]}\" - {features} most important features: '\n",
        "            f'{vectorizer.get_feature_names_out()[class_]}')\n",
        "      \n",
        "print_important_features(clf, features=5)"
      ],
      "metadata": {
        "colab": {
          "base_uri": "https://localhost:8080/"
        },
        "id": "RijCFRLJ1dZY",
        "outputId": "b2307922-7977-483c-e79e-5de4c092c588"
      },
      "execution_count": 55,
      "outputs": [
        {
          "output_type": "stream",
          "name": "stdout",
          "text": [
            "Class \"Blog\" - 5 most important features: ['guest' 'our' 'and' 'seo' 'digital']\n",
            "Class \"Home Page\" - 5 most important features: ['keyword' 'guest' 'stock' 'your' 'post']\n",
            "Class \"MISC\" - 5 most important features: ['search' 'of' 'how' 'what' 'the']\n",
            "Class \"Product Page\" - 5 most important features: ['guest' 'post' 'keyword' 'marketing' 'has']\n"
          ]
        }
      ]
    },
    {
      "cell_type": "code",
      "source": [
        "def print_confusion_matrix(y_test, y_pred):\n",
        "  ConfusionMatrixDisplay.from_predictions(y_test, y_pred)\n",
        "  plt.title('Confusion matrix', size=15)\n",
        "  plt.show()"
      ],
      "metadata": {
        "id": "cxr2AIQuTVeK"
      },
      "execution_count": 48,
      "outputs": []
    },
    {
      "cell_type": "markdown",
      "source": [
        "Stop, don't print (and erase the results) of the confusion matrix."
      ],
      "metadata": {
        "id": "0sGRzp4dPemx"
      }
    },
    {
      "cell_type": "code",
      "source": [
        "print_confusion_matrix(y_test, y_pred) # until row 262"
      ],
      "metadata": {
        "colab": {
          "base_uri": "https://localhost:8080/",
          "height": 297
        },
        "id": "CukDKK8J1__S",
        "outputId": "26d3e30c-8e27-4fa0-a801-30d74ae5776c"
      },
      "execution_count": 27,
      "outputs": [
        {
          "output_type": "display_data",
          "data": {
            "text/plain": [
              "<Figure size 432x288 with 2 Axes>"
            ],
            "image/png": "[encoded data removed]"
          },
          "metadata": {
            "needs_background": "light"
          }
        }
      ]
    },
    {
      "cell_type": "code",
      "source": [
        "print_confusion_matrix(y_test, y_pred) # after (with more data) until row 281"
      ],
      "metadata": {
        "colab": {
          "base_uri": "https://localhost:8080/",
          "height": 297
        },
        "id": "HZUxueEf2WUk",
        "outputId": "a0196c2c-2263-4616-e4e2-5ba4a8bfa885"
      },
      "execution_count": 56,
      "outputs": [
        {
          "output_type": "display_data",
          "data": {
            "text/plain": [
              "<Figure size 432x288 with 2 Axes>"
            ],
            "image/png": "[encoded data removed]"
          },
          "metadata": {
            "needs_background": "light"
          }
        }
      ]
    },
    {
      "cell_type": "code",
      "source": [],
      "metadata": {
        "id": "a440KiCvTinP"
      },
      "execution_count": null,
      "outputs": []
    },
    {
      "cell_type": "markdown",
      "source": [
        "#### Trying SVM (instead of Logistic Regression)"
      ],
      "metadata": {
        "id": "bjlyrbbZVOqX"
      }
    },
    {
      "cell_type": "code",
      "source": [
        "clf = fit_model(model=SVC(C=1.0,\n",
        "                          class_weight='balanced', \n",
        "                          random_state=0), \n",
        "                X_train=X_train_transformed, \n",
        "                y_train=y_train)"
      ],
      "metadata": {
        "id": "0c4-e-pSVUs9"
      },
      "execution_count": 72,
      "outputs": []
    },
    {
      "cell_type": "code",
      "source": [
        "y_pred = predict(clf, X_test=X_test_transformed)"
      ],
      "metadata": {
        "id": "JqHbR_sIVXSE"
      },
      "execution_count": 73,
      "outputs": []
    },
    {
      "cell_type": "code",
      "source": [
        "get_accuracy(y_test, y_pred)"
      ],
      "metadata": {
        "colab": {
          "base_uri": "https://localhost:8080/"
        },
        "id": "aqH9spUZVXVf",
        "outputId": "756f5c50-9b6a-4edf-917a-bf79ea4af126"
      },
      "execution_count": 75,
      "outputs": [
        {
          "output_type": "execute_result",
          "data": {
            "text/plain": [
              "0.6571428571428571"
            ]
          },
          "metadata": {},
          "execution_count": 75
        }
      ]
    },
    {
      "cell_type": "code",
      "source": [
        "print_confusion_matrix(y_test, y_pred) # after (with more data) until row 281"
      ],
      "metadata": {
        "colab": {
          "base_uri": "https://localhost:8080/",
          "height": 297
        },
        "id": "kFC2U9a_Vgx2",
        "outputId": "45e4f26c-bd42-44d3-f4db-cb2d1ea68367"
      },
      "execution_count": 76,
      "outputs": [
        {
          "output_type": "display_data",
          "data": {
            "text/plain": [
              "<Figure size 432x288 with 2 Axes>"
            ],
            "image/png": "[encoded data removed]"
          },
          "metadata": {
            "needs_background": "light"
          }
        }
      ]
    },
    {
      "cell_type": "code",
      "source": [
        "clf = fit_model(model=SVC(C=1,\n",
        "                          class_weight='balanced', \n",
        "                          random_state=0), \n",
        "                X_train=X_train_transformed, \n",
        "                y_train=y_train)\n",
        "\n",
        "y_pred = predict(clf, X_test=X_test_transformed)\n",
        "\n",
        "get_accuracy(y_test, y_pred)"
      ],
      "metadata": {
        "colab": {
          "base_uri": "https://localhost:8080/"
        },
        "id": "rEt67ILyWnQ_",
        "outputId": "18977cf1-63f7-45a3-f14e-7f2953baa8b2"
      },
      "execution_count": 84,
      "outputs": [
        {
          "output_type": "execute_result",
          "data": {
            "text/plain": [
              "0.6571428571428571"
            ]
          },
          "metadata": {},
          "execution_count": 84
        }
      ]
    },
    {
      "cell_type": "code",
      "source": [
        "def get_best_clf(clfs, X_train, X_test, y_train, y_test):\n",
        "    results = []\n",
        "    best_clf = None\n",
        "    best_clf_name = None\n",
        "    best_accuracy = 0\n",
        "\n",
        "    for clf_name, clf in clfs:\n",
        "        clf.fit(X_train, y_train)\n",
        "        acc = clf.score(X_test, y_test) # accuracy score\n",
        "        \n",
        "        if acc > best_accuracy:\n",
        "            best_accuracy = acc\n",
        "            best_clf = clf\n",
        "            best_clf_name = clf_name\n",
        "\n",
        "        results.append({'clf': clf_name,\n",
        "                        'accuracy': acc})\n",
        "        \n",
        "    print(pd.DataFrame(results).set_index('clf'))\n",
        "    return best_clf, best_clf_name, best_accuracy\n",
        "\n",
        "\n",
        "clfs = [\n",
        "    ('LogisticRegression', LogisticRegression(max_iter=4000,\n",
        "                                              random_state=0)), \n",
        "    ('RandomForest', RandomForestClassifier(max_depth=18,\n",
        "                                            n_estimators=75,\n",
        "                                            random_state=0)), \n",
        "    ('KNN 5', KNeighborsClassifier(n_neighbors=5)),\n",
        "    ('SVM C1', SVC(C=1,\n",
        "                   class_weight='balanced', \n",
        "                   random_state=0), )\n",
        "]\n",
        "\n",
        "# clf, clf_name, val_acc = get_best_clf(clfs, X_train, X_test, y_train, y_test) # To use when I have more data for validation set\n",
        "# print(f'Best classifier: {clf_name}, validation accuracy: {val_acc:.3f}, '\n",
        "#       f'test accuracy: {clf.score(X_test, y_test):.3f}')\n",
        "\n",
        "clf, clf_name, test_acc = get_best_clf(clfs, X_train_transformed, X_test_transformed, y_train, y_test)\n",
        "print(f'Best classifier: {clf_name}, test accuracy: {test_acc:.3f}')"
      ],
      "metadata": {
        "colab": {
          "base_uri": "https://localhost:8080/"
        },
        "id": "KJpxtSaHWnT7",
        "outputId": "e55fb2f4-4b65-4550-ab9d-6afe04a00493"
      },
      "execution_count": 99,
      "outputs": [
        {
          "output_type": "stream",
          "name": "stdout",
          "text": [
            "                    accuracy\n",
            "clf                         \n",
            "LogisticRegression  0.571429\n",
            "RandomForest        0.542857\n",
            "KNN 5               0.685714\n",
            "SVM C1              0.657143\n",
            "Best classifier: KNN 5, test accuracy: 0.686\n"
          ]
        }
      ]
    },
    {
      "cell_type": "code",
      "source": [
        "def print_search_results(est, X_test, y_test):\n",
        "    print('Best parameters set found on validation set:', est.best_params_)\n",
        "    print(f'Best validation score: {est.best_score_:.3f}')\n",
        "\n",
        "    means = est.cv_results_['mean_test_score']\n",
        "    stds = est.cv_results_['std_test_score']\n",
        "    params_all = est.cv_results_['params']\n",
        "    print('\\nScores on validation set:')\n",
        "    for mean_score, std_score, params in zip(means, stds, params_all):\n",
        "        print(f'{mean_score:.3f} (+/-{(std_score * 2):.3f}) for {params}')\n",
        "\n",
        "    print(\"\\nDetailed classification report:\")\n",
        "    print(\"The model is trained on the full train set.\")\n",
        "    print(\"The scores are computed on the full test set.\")\n",
        "    y_pred = est.predict(X_test)\n",
        "    print(classification_report(y_test, y_pred))"
      ],
      "metadata": {
        "id": "VNgDQrPji20b"
      },
      "execution_count": 107,
      "outputs": []
    },
    {
      "cell_type": "code",
      "source": [
        "# def grid_search_knn(X_train, y_train): # To use when I have more data for cross validation (cv)\n",
        "#   metric = 'accuracy'\n",
        "\n",
        "#   params_dict_knn = [{\n",
        "#       'metric': ['minkowski', 'euclidean'], \n",
        "#       'n_neighbors': [4, 5, 6, 7], \n",
        "#       'weights': ['uniform', 'distance'],\n",
        "#       'algorithm':['auto', 'ball_tree']}]\n",
        "\n",
        "#   print(f'KNN Tuning hyper-parameters for {metric}')\n",
        "\n",
        "#   clf_knn = GridSearchCV(KNeighborsClassifier(), \n",
        "#                         params_dict_knn, \n",
        "#                         scoring=metric, \n",
        "#                         cv=5, \n",
        "#                         verbose=10,\n",
        "#                         n_jobs=-1)\n",
        "\n",
        "#   return clf_knn.fit(X_train, y_train)\n",
        "\n",
        "# clf_knn = grid_search_knn(X_train_transformed, y_train)\n",
        "# print_search_results(clf_knn, X_test_transformed, y_test)"
      ],
      "metadata": {
        "id": "V-mn1n63V8tz"
      },
      "execution_count": 123,
      "outputs": []
    },
    {
      "cell_type": "code",
      "source": [],
      "metadata": {
        "id": "NsBkhrD3ij3G"
      },
      "execution_count": null,
      "outputs": []
    }
  ]
}