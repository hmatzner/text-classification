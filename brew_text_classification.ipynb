{
  "nbformat": 4,
  "nbformat_minor": 0,
  "metadata": {
    "colab": {
      "provenance": []
    },
    "kernelspec": {
      "name": "python3",
      "display_name": "Python 3"
    },
    "language_info": {
      "name": "python"
    }
  },
  "cells": [
    {
      "cell_type": "code",
      "execution_count": 1,
      "metadata": {
        "colab": {
          "base_uri": "https://localhost:8080/"
        },
        "id": "z06ZbeBBgXQA",
        "outputId": "ead03d40-c4a2-43ae-cdd6-cf1a99e493ba"
      },
      "outputs": [
        {
          "output_type": "stream",
          "name": "stdout",
          "text": [
            "Looking in indexes: https://pypi.org/simple, https://us-python.pkg.dev/colab-wheels/public/simple/\n",
            "Requirement already satisfied: transformers in /usr/local/lib/python3.8/dist-packages (4.25.1)\n",
            "Requirement already satisfied: newspaper3k in /usr/local/lib/python3.8/dist-packages (0.2.8)\n",
            "Requirement already satisfied: regex!=2019.12.17 in /usr/local/lib/python3.8/dist-packages (from transformers) (2022.6.2)\n",
            "Requirement already satisfied: requests in /usr/local/lib/python3.8/dist-packages (from transformers) (2.23.0)\n",
            "Requirement already satisfied: huggingface-hub<1.0,>=0.10.0 in /usr/local/lib/python3.8/dist-packages (from transformers) (0.11.1)\n",
            "Requirement already satisfied: pyyaml>=5.1 in /usr/local/lib/python3.8/dist-packages (from transformers) (6.0)\n",
            "Requirement already satisfied: numpy>=1.17 in /usr/local/lib/python3.8/dist-packages (from transformers) (1.21.6)\n",
            "Requirement already satisfied: filelock in /usr/local/lib/python3.8/dist-packages (from transformers) (3.8.0)\n",
            "Requirement already satisfied: tokenizers!=0.11.3,<0.14,>=0.11.1 in /usr/local/lib/python3.8/dist-packages (from transformers) (0.13.2)\n",
            "Requirement already satisfied: tqdm>=4.27 in /usr/local/lib/python3.8/dist-packages (from transformers) (4.64.1)\n",
            "Requirement already satisfied: packaging>=20.0 in /usr/local/lib/python3.8/dist-packages (from transformers) (21.3)\n",
            "Requirement already satisfied: typing-extensions>=3.7.4.3 in /usr/local/lib/python3.8/dist-packages (from huggingface-hub<1.0,>=0.10.0->transformers) (4.1.1)\n",
            "Requirement already satisfied: pyparsing!=3.0.5,>=2.0.2 in /usr/local/lib/python3.8/dist-packages (from packaging>=20.0->transformers) (3.0.9)\n",
            "Requirement already satisfied: python-dateutil>=2.5.3 in /usr/local/lib/python3.8/dist-packages (from newspaper3k) (2.8.2)\n",
            "Requirement already satisfied: lxml>=3.6.0 in /usr/local/lib/python3.8/dist-packages (from newspaper3k) (4.9.1)\n",
            "Requirement already satisfied: cssselect>=0.9.2 in /usr/local/lib/python3.8/dist-packages (from newspaper3k) (1.2.0)\n",
            "Requirement already satisfied: tinysegmenter==0.3 in /usr/local/lib/python3.8/dist-packages (from newspaper3k) (0.3)\n",
            "Requirement already satisfied: Pillow>=3.3.0 in /usr/local/lib/python3.8/dist-packages (from newspaper3k) (7.1.2)\n",
            "Requirement already satisfied: nltk>=3.2.1 in /usr/local/lib/python3.8/dist-packages (from newspaper3k) (3.7)\n",
            "Requirement already satisfied: beautifulsoup4>=4.4.1 in /usr/local/lib/python3.8/dist-packages (from newspaper3k) (4.6.3)\n",
            "Requirement already satisfied: tldextract>=2.0.1 in /usr/local/lib/python3.8/dist-packages (from newspaper3k) (3.4.0)\n",
            "Requirement already satisfied: jieba3k>=0.35.1 in /usr/local/lib/python3.8/dist-packages (from newspaper3k) (0.35.1)\n",
            "Requirement already satisfied: feedfinder2>=0.0.4 in /usr/local/lib/python3.8/dist-packages (from newspaper3k) (0.0.4)\n",
            "Requirement already satisfied: feedparser>=5.2.1 in /usr/local/lib/python3.8/dist-packages (from newspaper3k) (6.0.10)\n",
            "Requirement already satisfied: six in /usr/local/lib/python3.8/dist-packages (from feedfinder2>=0.0.4->newspaper3k) (1.15.0)\n",
            "Requirement already satisfied: sgmllib3k in /usr/local/lib/python3.8/dist-packages (from feedparser>=5.2.1->newspaper3k) (1.0.0)\n",
            "Requirement already satisfied: joblib in /usr/local/lib/python3.8/dist-packages (from nltk>=3.2.1->newspaper3k) (1.2.0)\n",
            "Requirement already satisfied: click in /usr/local/lib/python3.8/dist-packages (from nltk>=3.2.1->newspaper3k) (7.1.2)\n",
            "Requirement already satisfied: chardet<4,>=3.0.2 in /usr/local/lib/python3.8/dist-packages (from requests->transformers) (3.0.4)\n",
            "Requirement already satisfied: idna<3,>=2.5 in /usr/local/lib/python3.8/dist-packages (from requests->transformers) (2.10)\n",
            "Requirement already satisfied: certifi>=2017.4.17 in /usr/local/lib/python3.8/dist-packages (from requests->transformers) (2022.9.24)\n",
            "Requirement already satisfied: urllib3!=1.25.0,!=1.25.1,<1.26,>=1.21.1 in /usr/local/lib/python3.8/dist-packages (from requests->transformers) (1.24.3)\n",
            "Requirement already satisfied: requests-file>=1.4 in /usr/local/lib/python3.8/dist-packages (from tldextract>=2.0.1->newspaper3k) (1.5.1)\n"
          ]
        }
      ],
      "source": [
        "! pip install transformers newspaper3k"
      ]
    },
    {
      "cell_type": "code",
      "source": [
        "# ! python -m spacy download en_core_web_sm"
      ],
      "metadata": {
        "id": "Rv3cITONx2YR"
      },
      "execution_count": 2,
      "outputs": []
    },
    {
      "cell_type": "code",
      "source": [
        "import os\n",
        "import pandas as pd\n",
        "import numpy as np\n",
        "import re\n",
        "from sklearn.model_selection import train_test_split\n",
        "from sklearn.preprocessing import OneHotEncoder, OrdinalEncoder\n",
        "from sklearn.feature_extraction.text import CountVectorizer, TfidfVectorizer\n",
        "from transformers import pipeline\n",
        "from newspaper import Article\n",
        "import nltk\n",
        "nltk.download('punkt')\n",
        "from nltk.tokenize import word_tokenize\n",
        "from nltk.stem.porter import *\n",
        "from collections import Counter\n",
        "import spacy\n",
        "from sklearn.linear_model import LogisticRegression\n",
        "from sklearn.metrics import ConfusionMatrixDisplay\n",
        "import matplotlib.pyplot as plt"
      ],
      "metadata": {
        "colab": {
          "base_uri": "https://localhost:8080/"
        },
        "id": "tWUZxI5DgfDZ",
        "outputId": "e71911c3-409f-4285-dece-8920709a5b7d"
      },
      "execution_count": 3,
      "outputs": [
        {
          "output_type": "stream",
          "name": "stderr",
          "text": [
            "[nltk_data] Downloading package punkt to /root/nltk_data...\n",
            "[nltk_data]   Package punkt is already up-to-date!\n"
          ]
        }
      ]
    },
    {
      "cell_type": "code",
      "source": [
        "from google.colab import drive\n",
        "drive.mount('/content/drive')"
      ],
      "metadata": {
        "colab": {
          "base_uri": "https://localhost:8080/"
        },
        "id": "BZcfvSLlgoLD",
        "outputId": "4cc0238b-ac21-495d-a7c9-25822affa0f5"
      },
      "execution_count": 4,
      "outputs": [
        {
          "output_type": "stream",
          "name": "stdout",
          "text": [
            "Drive already mounted at /content/drive; to attempt to forcibly remount, call drive.mount(\"/content/drive\", force_remount=True).\n"
          ]
        }
      ]
    },
    {
      "cell_type": "code",
      "source": [
        "MAIN_FOLDER = '/content/drive/MyDrive/url_classification/'\n",
        "HTML_FOLDER = MAIN_FOLDER + 'html_files_Nov-24-2022/'\n",
        "os.chdir(MAIN_FOLDER)"
      ],
      "metadata": {
        "id": "D99y09i0gryz"
      },
      "execution_count": 5,
      "outputs": []
    },
    {
      "cell_type": "code",
      "source": [
        "TARGET = 'label'\n",
        "TEXT = 'text'"
      ],
      "metadata": {
        "id": "znjzbSmzrkXP"
      },
      "execution_count": 6,
      "outputs": []
    },
    {
      "cell_type": "code",
      "source": [
        "def get_html_files(html_folder=HTML_FOLDER):\n",
        "  html_files = os.listdir(HTML_FOLDER)\n",
        "  return html_files\n",
        "\n",
        "html_files = get_html_files()"
      ],
      "metadata": {
        "id": "whpXujqVgr1f"
      },
      "execution_count": 28,
      "outputs": []
    },
    {
      "cell_type": "code",
      "source": [
        "def create_df(csv_path='url_classification_temporary.csv', usecols=['File Name', 'Label']):\n",
        "  df = pd.read_csv(csv_path, usecols = usecols)\n",
        "  df.rename(columns={usecols[0]: 'filename', usecols[1]: 'label'}, inplace=True)\n",
        "  df = df[~df['filename'].isna()]\n",
        "  print(f'Original shape: {df.shape}')\n",
        "  df = df[df['label'] != '-']\n",
        "  df.reset_index(drop=True, inplace=True)\n",
        "  print(f'Final shape: {df.shape}')\n",
        "  return df\n",
        "\n",
        "df = create_df('url_classification_temporary4.csv')"
      ],
      "metadata": {
        "id": "AzR_llqKgr3t",
        "colab": {
          "base_uri": "https://localhost:8080/"
        },
        "outputId": "af6dc99d-2f5f-4d45-c574-ad8fc2f388df"
      },
      "execution_count": 29,
      "outputs": [
        {
          "output_type": "stream",
          "name": "stdout",
          "text": [
            "Original shape: (281, 2)\n",
            "Final shape: (223, 2)\n"
          ]
        }
      ]
    },
    {
      "cell_type": "code",
      "source": [
        "def get_target_distribution(df, normalize=False):\n",
        "  return df[TARGET].value_counts(normalize=normalize)\n",
        "\n",
        "get_target_distribution(df, normalize=True)"
      ],
      "metadata": {
        "id": "jjNIw68Vgr6D",
        "colab": {
          "base_uri": "https://localhost:8080/"
        },
        "outputId": "b2ae2dc3-5881-406b-8f39-172d8a0d20f4"
      },
      "execution_count": 30,
      "outputs": [
        {
          "output_type": "execute_result",
          "data": {
            "text/plain": [
              "Home Page        0.336323\n",
              "Blog             0.228700\n",
              "Product Page     0.152466\n",
              "MISC             0.147982\n",
              "Article          0.040359\n",
              "White Paper      0.035874\n",
              "Event            0.022422\n",
              "Education        0.017937\n",
              "Video Content    0.004484\n",
              "Online Course    0.004484\n",
              "Q&A Page         0.004484\n",
              "About Page       0.004484\n",
              "Name: label, dtype: float64"
            ]
          },
          "metadata": {},
          "execution_count": 30
        }
      ]
    },
    {
      "cell_type": "code",
      "source": [
        "def read_htmls(df):\n",
        "  current_filenames = df['filename'].values\n",
        "  htmls = list()\n",
        "\n",
        "  for i, filename in enumerate(current_filenames):\n",
        "    try:\n",
        "      with open(f'{HTML_FOLDER}{filename}') as f:\n",
        "        html = f.read()\n",
        "        htmls.append(html)\n",
        "    except FileNotFoundError:\n",
        "      print(f'File {i} not found: \"{filename}\"')\n",
        "  \n",
        "  return htmls\n",
        "\n",
        "htmls = read_htmls(df)"
      ],
      "metadata": {
        "id": "JS0owJeIgr8U"
      },
      "execution_count": 31,
      "outputs": []
    },
    {
      "cell_type": "code",
      "source": [
        "def read_articles(htmls):\n",
        "  toi_articles = list()\n",
        "\n",
        "  for html in htmls:\n",
        "    toi_article = Article(url = ' ', language=\"en\")\n",
        "    toi_article.set_html(html)\n",
        "    toi_article.parse()\n",
        "    toi_article.nlp()\n",
        "    toi_articles.append(toi_article)\n",
        "\n",
        "  return toi_articles\n",
        "\n",
        "toi_articles = read_articles(htmls)"
      ],
      "metadata": {
        "id": "JM7wBwMagsGA"
      },
      "execution_count": 32,
      "outputs": []
    },
    {
      "cell_type": "code",
      "source": [
        "def create_y(df):\n",
        "  return df['label'].tolist()\n",
        "\n",
        "y = create_y(df)"
      ],
      "metadata": {
        "id": "AaQIR7XDjcZv"
      },
      "execution_count": 33,
      "outputs": []
    },
    {
      "cell_type": "code",
      "source": [
        "assert len(toi_articles) == len(y)"
      ],
      "metadata": {
        "id": "T_QAtpW4jccM"
      },
      "execution_count": 34,
      "outputs": []
    },
    {
      "cell_type": "code",
      "source": [
        "def create_summary(toi_articles):\n",
        "  title_and_summary = [(toi_article.title + '. ' + toi_article.summary).replace('\\n', ' ') for toi_article in toi_articles]\n",
        "  return title_and_summary\n",
        "\n",
        "title_and_summary = create_summary(toi_articles)"
      ],
      "metadata": {
        "id": "aAbmXEZZjceq"
      },
      "execution_count": 35,
      "outputs": []
    },
    {
      "cell_type": "code",
      "source": [
        "def create_df_text(text, y, minimum_words=None, maximum_classes=None):\n",
        "  df_text = pd.DataFrame({TEXT: title_and_summary, TARGET: y})\n",
        "  df_text[TEXT] = df_text.loc[:, TEXT].str.lower()\n",
        "  if minimum_words:\n",
        "    df_text = df_text[df_text[TEXT].str.split().str.len() > minimum_words]\n",
        "  if maximum_classes:\n",
        "    relevant_labels = df_text[TARGET].value_counts()[:maximum_classes].index\n",
        "    df_text = df_text[df_text[TARGET].isin(relevant_labels)]\n",
        "  return df_text\n",
        "\n",
        "df_text = create_df_text(title_and_summary, y, minimum_words=30, maximum_classes=4)"
      ],
      "metadata": {
        "id": "PL2o3njajcg0"
      },
      "execution_count": 36,
      "outputs": []
    },
    {
      "cell_type": "code",
      "source": [
        "def split_X_y(df, test_size=0.2):\n",
        "  X = df.drop(TARGET, axis=1)\n",
        "  y = df[TARGET]\n",
        "\n",
        "  X_train, X_test, y_train, y_test = train_test_split(X, y, \n",
        "                                                      test_size=test_size,\n",
        "                                                      stratify=y, \n",
        "                                                      random_state=0)\n",
        "  return X_train, X_test, y_train, y_test\n",
        "\n",
        "X_train, X_test, y_train, y_test = split_X_y(df_text, test_size=0.2)"
      ],
      "metadata": {
        "id": "Y8BT5nELthAF"
      },
      "execution_count": 37,
      "outputs": []
    },
    {
      "cell_type": "code",
      "source": [
        "def get_baseline_accuracy(y_train, y_test):\n",
        "  majority_class = y_train.value_counts().index[0]\n",
        "  accuracy = sum(y_test == majority_class) / len(y_test)\n",
        "  return accuracy\n",
        "\n",
        "get_baseline_accuracy(y_train, y_test)"
      ],
      "metadata": {
        "colab": {
          "base_uri": "https://localhost:8080/"
        },
        "id": "2oNDMzoCuWJS",
        "outputId": "51a824f2-a845-4a91-a45f-93f1572b6b8c"
      },
      "execution_count": 38,
      "outputs": [
        {
          "output_type": "execute_result",
          "data": {
            "text/plain": [
              "0.34285714285714286"
            ]
          },
          "metadata": {},
          "execution_count": 38
        }
      ]
    },
    {
      "cell_type": "code",
      "source": [
        "def get_most_common_tokens(amount=10):\n",
        "  tokenized = [word_tokenize(string) for string in X_train[TEXT]]\n",
        "  flat_list = [item for sublist in tokenized for item in sublist]\n",
        "  return Counter(flat_list).most_common(amount)\n",
        "\n",
        "get_most_common_tokens(amount=5)"
      ],
      "metadata": {
        "colab": {
          "base_uri": "https://localhost:8080/"
        },
        "id": "HmeTzYrXuey6",
        "outputId": "d14dd9ef-686e-4515-da33-633cfa26b6b3"
      },
      "execution_count": 39,
      "outputs": [
        {
          "output_type": "execute_result",
          "data": {
            "text/plain": [
              "[('.', 661), (',', 532), ('to', 457), ('the', 408), ('and', 351)]"
            ]
          },
          "metadata": {},
          "execution_count": 39
        }
      ]
    },
    {
      "cell_type": "code",
      "source": [
        "def fit_transform_articles(X_train, vectorizer='count'): # I could add stop_words=False/True as a parameter if I see later that it could make a difference\n",
        "  articles = X_train[TEXT]\n",
        "  if vectorizer == 'count':\n",
        "    vectorizer = CountVectorizer()\n",
        "  elif vectorizer == 'tfidf':\n",
        "    vectorizer = TfidfVectorizer()\n",
        "  else:\n",
        "    raise Exception(\"vectorizer should be either 'count' or 'tfidf'\")\n",
        "  X = vectorizer.fit_transform(articles)\n",
        "  return X\n",
        "\n",
        "X = fit_transform_articles(X_train, vectorizer='tfidf') # to see output: X.toarray()"
      ],
      "metadata": {
        "id": "amIaIIDVvfPz"
      },
      "execution_count": 40,
      "outputs": []
    },
    {
      "cell_type": "code",
      "source": [
        "def load_nlp():\n",
        "  nlp = spacy.load('en_core_web_sm')\n",
        "  return nlp\n",
        "\n",
        "nlp = load_nlp()"
      ],
      "metadata": {
        "id": "P_X8ZyOOyEpl"
      },
      "execution_count": 41,
      "outputs": []
    },
    {
      "cell_type": "code",
      "source": [
        "def lemmatize_text(X_train, nlp):\n",
        "  lemmatized_text = list()\n",
        "  for text in X_train[TEXT]:\n",
        "    lemmas = [token.lemma_.lower() for token in nlp(text)]\n",
        "    lemmatized_text.append(lemmas)\n",
        "\n",
        "  return lemmatized_text\n",
        "\n",
        "lemmatized_text = lemmatize_text(X_train, nlp)"
      ],
      "metadata": {
        "id": "gRqWz30xx-K3"
      },
      "execution_count": 42,
      "outputs": []
    },
    {
      "cell_type": "code",
      "source": [
        "def fit_transform_articles(X_train, X_test, vectorizer='count'):\n",
        "  if vectorizer == 'count':\n",
        "    vectorizer = CountVectorizer(max_features=10000, ngram_range=(1, 3))\n",
        "  elif vectorizer == 'tfidf':\n",
        "    vectorizer = TfidfVectorizer(max_features=10000, ngram_range=(1, 3))\n",
        "  else:\n",
        "    raise Exception(\"vectorizer should be either 'count' or 'tfidf'\")\n",
        "  X_train_transformed = vectorizer.fit_transform(X_train[TEXT])\n",
        "  X_test_transformed = vectorizer.transform(X_test[TEXT])\n",
        "\n",
        "  return X_train_transformed, X_test_transformed, vectorizer\n",
        "\n",
        "X_train_transformed, X_test_transformed, vectorizer = fit_transform_articles(X_train, X_test, vectorizer='tfidf') # to see output: X_train.toarray() or X_test.toarray()"
      ],
      "metadata": {
        "id": "x1-TaZfDyidM"
      },
      "execution_count": 43,
      "outputs": []
    },
    {
      "cell_type": "code",
      "source": [
        "def fit_model(model=LogisticRegression(max_iter=3000), X_train=X_train_transformed, y_train=y_train):\n",
        "  clf = model\n",
        "  clf.fit(X_train, y_train)\n",
        "  return clf\n",
        "\n",
        "clf = fit_model(model=LogisticRegression(max_iter=3000), \n",
        "                X_train=X_train_transformed, \n",
        "                y_train=y_train)"
      ],
      "metadata": {
        "id": "oDWsciBnz2Xi"
      },
      "execution_count": 44,
      "outputs": []
    },
    {
      "cell_type": "code",
      "source": [
        "def predict(clf, X_test=X_test_transformed):\n",
        "  y_pred = clf.predict(X_test)\n",
        "  return y_pred\n",
        "\n",
        "y_pred = predict(clf, X_test=X_test_transformed)"
      ],
      "metadata": {
        "id": "FX3QkGUO0663"
      },
      "execution_count": 45,
      "outputs": []
    },
    {
      "cell_type": "code",
      "source": [
        "def get_accuracy(y_train, y_test):\n",
        "  accuracy = sum(y_pred == y_test) / len(y_test)\n",
        "  return accuracy\n",
        "\n",
        "get_accuracy(y_train, y_test)"
      ],
      "metadata": {
        "colab": {
          "base_uri": "https://localhost:8080/"
        },
        "id": "uKo2ehVj1UGl",
        "outputId": "904bef2c-2470-405b-9804-a3a7a08ec28e"
      },
      "execution_count": 46,
      "outputs": [
        {
          "output_type": "execute_result",
          "data": {
            "text/plain": [
              "0.5428571428571428"
            ]
          },
          "metadata": {},
          "execution_count": 46
        }
      ]
    },
    {
      "cell_type": "code",
      "source": [
        "def print_important_features(clf, features=5):\n",
        "  coef_importances = np.argsort(clf.coef_, axis=1)\n",
        "  for i, class_ in enumerate(coef_importances[:, :features]):\n",
        "      print(f'Class \"{clf.classes_[i]}\" - {features} most important features: '\n",
        "            f'{vectorizer.get_feature_names_out()[class_]}')\n",
        "      \n",
        "print_important_features(clf, features=5)"
      ],
      "metadata": {
        "colab": {
          "base_uri": "https://localhost:8080/"
        },
        "id": "RijCFRLJ1dZY",
        "outputId": "a863b70d-9eaf-4648-c47a-eced38792781"
      },
      "execution_count": 47,
      "outputs": [
        {
          "output_type": "stream",
          "name": "stdout",
          "text": [
            "Class \"Blog\" - 5 most important features: ['guest' 'our' 'and' 'seo' 'guest post']\n",
            "Class \"Home Page\" - 5 most important features: ['keyword' 'guest' 'post' 'your' 'stock']\n",
            "Class \"MISC\" - 5 most important features: ['search' 'the' 'of' 'how' 'what']\n",
            "Class \"Product Page\" - 5 most important features: ['guest' 'marketing' 'keyword' 'has' 'post']\n"
          ]
        }
      ]
    },
    {
      "cell_type": "code",
      "source": [
        "def print_confusion_matrix(y_test, y_pred):\n",
        "  ConfusionMatrixDisplay.from_predictions(y_test, y_pred)\n",
        "  plt.title('Confusion matrix', size=15)\n",
        "  plt.show()\n",
        "\n",
        "print_confusion_matrix(y_test, y_pred) # until row 262"
      ],
      "metadata": {
        "colab": {
          "base_uri": "https://localhost:8080/",
          "height": 297
        },
        "id": "CukDKK8J1__S",
        "outputId": "26d3e30c-8e27-4fa0-a801-30d74ae5776c"
      },
      "execution_count": 27,
      "outputs": [
        {
          "output_type": "display_data",
          "data": {
            "text/plain": [
              "<Figure size 432x288 with 2 Axes>"
            ],
            "image/png": "[encoded data removed]"
          },
          "metadata": {
            "needs_background": "light"
          }
        }
      ]
    },
    {
      "cell_type": "code",
      "source": [
        "print_confusion_matrix(y_test, y_pred) # after (with more data) until row 281"
      ],
      "metadata": {
        "colab": {
          "base_uri": "https://localhost:8080/",
          "height": 297
        },
        "id": "HZUxueEf2WUk",
        "outputId": "4dc4a001-abdb-4427-83d0-b739edf97a86"
      },
      "execution_count": 48,
      "outputs": [
        {
          "output_type": "display_data",
          "data": {
            "text/plain": [
              "<Figure size 432x288 with 2 Axes>"
            ],
            "image/png": "[encoded data removed]"
          },
          "metadata": {
            "needs_background": "light"
          }
        }
      ]
    },
    {
      "cell_type": "code",
      "source": [],
      "metadata": {
        "id": "QM90r96S4wJW"
      },
      "execution_count": null,
      "outputs": []
    }
  ]
}