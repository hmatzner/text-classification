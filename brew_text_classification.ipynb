{
  "nbformat": 4,
  "nbformat_minor": 0,
  "metadata": {
    "colab": {
      "provenance": []
    },
    "kernelspec": {
      "name": "python3",
      "display_name": "Python 3"
    },
    "language_info": {
      "name": "python"
    }
  },
  "cells": [
    {
      "cell_type": "markdown",
      "source": [
        "# Setup"
      ],
      "metadata": {
        "id": "erv7zNSQRr_C"
      }
    },
    {
      "cell_type": "code",
      "execution_count": 1,
      "metadata": {
        "colab": {
          "base_uri": "https://localhost:8080/"
        },
        "id": "z06ZbeBBgXQA",
        "outputId": "71cc41ab-0958-417d-c8a2-961fa512b3e5"
      },
      "outputs": [
        {
          "output_type": "stream",
          "name": "stdout",
          "text": [
            "Looking in indexes: https://pypi.org/simple, https://us-python.pkg.dev/colab-wheels/public/simple/\n",
            "Requirement already satisfied: transformers in /usr/local/lib/python3.8/dist-packages (4.25.1)\n",
            "Requirement already satisfied: newspaper3k in /usr/local/lib/python3.8/dist-packages (0.2.8)\n",
            "Requirement already satisfied: pyyaml>=5.1 in /usr/local/lib/python3.8/dist-packages (from transformers) (6.0)\n",
            "Requirement already satisfied: tqdm>=4.27 in /usr/local/lib/python3.8/dist-packages (from transformers) (4.64.1)\n",
            "Requirement already satisfied: requests in /usr/local/lib/python3.8/dist-packages (from transformers) (2.23.0)\n",
            "Requirement already satisfied: tokenizers!=0.11.3,<0.14,>=0.11.1 in /usr/local/lib/python3.8/dist-packages (from transformers) (0.13.2)\n",
            "Requirement already satisfied: huggingface-hub<1.0,>=0.10.0 in /usr/local/lib/python3.8/dist-packages (from transformers) (0.11.1)\n",
            "Requirement already satisfied: filelock in /usr/local/lib/python3.8/dist-packages (from transformers) (3.8.0)\n",
            "Requirement already satisfied: numpy>=1.17 in /usr/local/lib/python3.8/dist-packages (from transformers) (1.21.6)\n",
            "Requirement already satisfied: packaging>=20.0 in /usr/local/lib/python3.8/dist-packages (from transformers) (21.3)\n",
            "Requirement already satisfied: regex!=2019.12.17 in /usr/local/lib/python3.8/dist-packages (from transformers) (2022.6.2)\n",
            "Requirement already satisfied: typing-extensions>=3.7.4.3 in /usr/local/lib/python3.8/dist-packages (from huggingface-hub<1.0,>=0.10.0->transformers) (4.1.1)\n",
            "Requirement already satisfied: pyparsing!=3.0.5,>=2.0.2 in /usr/local/lib/python3.8/dist-packages (from packaging>=20.0->transformers) (3.0.9)\n",
            "Requirement already satisfied: beautifulsoup4>=4.4.1 in /usr/local/lib/python3.8/dist-packages (from newspaper3k) (4.6.3)\n",
            "Requirement already satisfied: jieba3k>=0.35.1 in /usr/local/lib/python3.8/dist-packages (from newspaper3k) (0.35.1)\n",
            "Requirement already satisfied: lxml>=3.6.0 in /usr/local/lib/python3.8/dist-packages (from newspaper3k) (4.9.1)\n",
            "Requirement already satisfied: Pillow>=3.3.0 in /usr/local/lib/python3.8/dist-packages (from newspaper3k) (7.1.2)\n",
            "Requirement already satisfied: feedparser>=5.2.1 in /usr/local/lib/python3.8/dist-packages (from newspaper3k) (6.0.10)\n",
            "Requirement already satisfied: tldextract>=2.0.1 in /usr/local/lib/python3.8/dist-packages (from newspaper3k) (3.4.0)\n",
            "Requirement already satisfied: cssselect>=0.9.2 in /usr/local/lib/python3.8/dist-packages (from newspaper3k) (1.2.0)\n",
            "Requirement already satisfied: nltk>=3.2.1 in /usr/local/lib/python3.8/dist-packages (from newspaper3k) (3.7)\n",
            "Requirement already satisfied: feedfinder2>=0.0.4 in /usr/local/lib/python3.8/dist-packages (from newspaper3k) (0.0.4)\n",
            "Requirement already satisfied: tinysegmenter==0.3 in /usr/local/lib/python3.8/dist-packages (from newspaper3k) (0.3)\n",
            "Requirement already satisfied: python-dateutil>=2.5.3 in /usr/local/lib/python3.8/dist-packages (from newspaper3k) (2.8.2)\n",
            "Requirement already satisfied: six in /usr/local/lib/python3.8/dist-packages (from feedfinder2>=0.0.4->newspaper3k) (1.15.0)\n",
            "Requirement already satisfied: sgmllib3k in /usr/local/lib/python3.8/dist-packages (from feedparser>=5.2.1->newspaper3k) (1.0.0)\n",
            "Requirement already satisfied: click in /usr/local/lib/python3.8/dist-packages (from nltk>=3.2.1->newspaper3k) (7.1.2)\n",
            "Requirement already satisfied: joblib in /usr/local/lib/python3.8/dist-packages (from nltk>=3.2.1->newspaper3k) (1.2.0)\n",
            "Requirement already satisfied: certifi>=2017.4.17 in /usr/local/lib/python3.8/dist-packages (from requests->transformers) (2022.9.24)\n",
            "Requirement already satisfied: idna<3,>=2.5 in /usr/local/lib/python3.8/dist-packages (from requests->transformers) (2.10)\n",
            "Requirement already satisfied: urllib3!=1.25.0,!=1.25.1,<1.26,>=1.21.1 in /usr/local/lib/python3.8/dist-packages (from requests->transformers) (1.24.3)\n",
            "Requirement already satisfied: chardet<4,>=3.0.2 in /usr/local/lib/python3.8/dist-packages (from requests->transformers) (3.0.4)\n",
            "Requirement already satisfied: requests-file>=1.4 in /usr/local/lib/python3.8/dist-packages (from tldextract>=2.0.1->newspaper3k) (1.5.1)\n"
          ]
        }
      ],
      "source": [
        "! pip install transformers newspaper3k"
      ]
    },
    {
      "cell_type": "code",
      "source": [
        "# ! python -m spacy download en_core_web_sm"
      ],
      "metadata": {
        "id": "Rv3cITONx2YR"
      },
      "execution_count": 2,
      "outputs": []
    },
    {
      "cell_type": "code",
      "source": [
        "import os\n",
        "import re\n",
        "import pandas as pd\n",
        "import numpy as np\n",
        "import matplotlib.pyplot as plt\n",
        "import spacy\n",
        "from newspaper import Article\n",
        "from nltk.tokenize import word_tokenize\n",
        "from nltk.stem.porter import *\n",
        "from nltk.corpus import stopwords\n",
        "from collections import Counter\n",
        "from sklearn.model_selection import train_test_split\n",
        "from sklearn.preprocessing import OneHotEncoder, OrdinalEncoder\n",
        "from sklearn.feature_extraction.text import CountVectorizer, TfidfVectorizer\n",
        "from sklearn.linear_model import LogisticRegression\n",
        "from sklearn.svm import SVC\n",
        "from sklearn.ensemble import RandomForestClassifier\n",
        "from sklearn.neighbors import KNeighborsClassifier\n",
        "from sklearn.naive_bayes import MultinomialNB\n",
        "from sklearn.model_selection import GridSearchCV\n",
        "from sklearn.metrics import ConfusionMatrixDisplay\n",
        "from sklearn.metrics import classification_report\n",
        "from transformers import pipeline\n",
        "import nltk\n",
        "nltk.download('punkt')\n",
        "nltk.download('stopwords')"
      ],
      "metadata": {
        "colab": {
          "base_uri": "https://localhost:8080/"
        },
        "id": "tWUZxI5DgfDZ",
        "outputId": "23e9940b-ec3f-4ac6-bfc4-d21ca9b20fd6"
      },
      "execution_count": 3,
      "outputs": [
        {
          "output_type": "stream",
          "name": "stderr",
          "text": [
            "[nltk_data] Downloading package punkt to /root/nltk_data...\n",
            "[nltk_data]   Package punkt is already up-to-date!\n",
            "[nltk_data] Downloading package stopwords to /root/nltk_data...\n",
            "[nltk_data]   Package stopwords is already up-to-date!\n"
          ]
        },
        {
          "output_type": "execute_result",
          "data": {
            "text/plain": [
              "True"
            ]
          },
          "metadata": {},
          "execution_count": 3
        }
      ]
    },
    {
      "cell_type": "code",
      "source": [
        "from google.colab import drive\n",
        "drive.mount('/content/drive')"
      ],
      "metadata": {
        "colab": {
          "base_uri": "https://localhost:8080/"
        },
        "id": "BZcfvSLlgoLD",
        "outputId": "e9ac6a34-d516-4f35-b30a-423781f75119"
      },
      "execution_count": 4,
      "outputs": [
        {
          "output_type": "stream",
          "name": "stdout",
          "text": [
            "Drive already mounted at /content/drive; to attempt to forcibly remount, call drive.mount(\"/content/drive\", force_remount=True).\n"
          ]
        }
      ]
    },
    {
      "cell_type": "code",
      "source": [
        "MAIN_FOLDER = '/content/drive/MyDrive/url_classification/'\n",
        "HTML_FOLDER = MAIN_FOLDER + 'html_files_Nov-24-2022/'\n",
        "os.chdir(MAIN_FOLDER)"
      ],
      "metadata": {
        "id": "D99y09i0gryz"
      },
      "execution_count": 5,
      "outputs": []
    },
    {
      "cell_type": "code",
      "source": [
        "TARGET = 'label'\n",
        "TEXT = 'text'\n",
        "STOPWORDS = set(stopwords.words('english'))"
      ],
      "metadata": {
        "id": "znjzbSmzrkXP"
      },
      "execution_count": 6,
      "outputs": []
    },
    {
      "cell_type": "markdown",
      "source": [
        "# Defining functions get_data and preprocessing:"
      ],
      "metadata": {
        "id": "eVdWbZOeRlFV"
      }
    },
    {
      "cell_type": "code",
      "source": [
        "def get_html_files(html_folder=HTML_FOLDER):\n",
        "  html_files = os.listdir(html_folder)\n",
        "  return html_files"
      ],
      "metadata": {
        "id": "whpXujqVgr1f"
      },
      "execution_count": 7,
      "outputs": []
    },
    {
      "cell_type": "code",
      "source": [
        "def create_df(csv_path, usecols=['File Name', 'Label']):\n",
        "  df = pd.read_csv(csv_path, usecols = usecols)\n",
        "  df.rename(columns={usecols[0]: 'filename', usecols[1]: 'label'}, inplace=True)\n",
        "  df = df[~df['filename'].isna()]\n",
        "  print(f'Original shape: {df.shape}')\n",
        "  df = df[df['label'] != '-']\n",
        "  df.reset_index(drop=True, inplace=True)\n",
        "  print(f'Final shape: {df.shape}')\n",
        "  return df"
      ],
      "metadata": {
        "id": "AzR_llqKgr3t"
      },
      "execution_count": 8,
      "outputs": []
    },
    {
      "cell_type": "code",
      "source": [
        "def get_target_distribution(df, normalize=False):\n",
        "  return df[TARGET].value_counts(normalize=normalize)"
      ],
      "metadata": {
        "id": "jjNIw68Vgr6D"
      },
      "execution_count": 9,
      "outputs": []
    },
    {
      "cell_type": "code",
      "source": [
        "def read_htmls(df):\n",
        "  current_filenames = df['filename'].values\n",
        "  htmls = list()\n",
        "\n",
        "  for i, filename in enumerate(current_filenames):\n",
        "    try:\n",
        "      with open(f'{HTML_FOLDER}{filename}') as f:\n",
        "        html = f.read()\n",
        "        htmls.append(html)\n",
        "    except FileNotFoundError:\n",
        "      print(f'File {i} not found: \"{filename}\"')\n",
        "  \n",
        "  return htmls"
      ],
      "metadata": {
        "id": "JS0owJeIgr8U"
      },
      "execution_count": 10,
      "outputs": []
    },
    {
      "cell_type": "code",
      "source": [
        "def read_articles(htmls):\n",
        "  toi_articles = list()\n",
        "\n",
        "  for html in htmls:\n",
        "    toi_article = Article(url = ' ', language=\"en\")\n",
        "    toi_article.set_html(html)\n",
        "    toi_article.parse()\n",
        "    toi_article.nlp()\n",
        "    toi_articles.append(toi_article)\n",
        "\n",
        "  return toi_articles"
      ],
      "metadata": {
        "id": "JM7wBwMagsGA"
      },
      "execution_count": 11,
      "outputs": []
    },
    {
      "cell_type": "code",
      "source": [
        "def create_y(df):\n",
        "  return df[TARGET].tolist()"
      ],
      "metadata": {
        "id": "AaQIR7XDjcZv"
      },
      "execution_count": 12,
      "outputs": []
    },
    {
      "cell_type": "code",
      "source": [
        "def create_summary(toi_articles):\n",
        "  title_and_summary = [(toi_article.title + '. ' + toi_article.summary).replace('\\n', ' ') for toi_article in toi_articles]\n",
        "  return title_and_summary"
      ],
      "metadata": {
        "id": "aAbmXEZZjceq"
      },
      "execution_count": 13,
      "outputs": []
    },
    {
      "cell_type": "code",
      "source": [
        "def create_df_text(text, y, minimum_words=None, maximum_classes=None):\n",
        "  df_text = pd.DataFrame({TEXT: title_and_summary, TARGET: y})\n",
        "  df_text[TEXT] = df_text.loc[:, TEXT].str.lower()\n",
        "\n",
        "  if minimum_words:\n",
        "    df_text = df_text[df_text[TEXT].str.split().str.len() > minimum_words]\n",
        "\n",
        "  if maximum_classes:\n",
        "    relevant_labels = df_text[TARGET].value_counts()[:maximum_classes].index\n",
        "    df_text = df_text[df_text[TARGET].isin(relevant_labels)]\n",
        "    \n",
        "  return df_text"
      ],
      "metadata": {
        "id": "PL2o3njajcg0"
      },
      "execution_count": 14,
      "outputs": []
    },
    {
      "cell_type": "code",
      "source": [
        "def split_X_y(df, test_size, random_state):\n",
        "  X = df.drop(TARGET, axis=1)\n",
        "  y = df[TARGET]\n",
        "\n",
        "  X_train, X_test, y_train, y_test = train_test_split(X, y, \n",
        "                                                      test_size=test_size,\n",
        "                                                      stratify=y, \n",
        "                                                      random_state=random_state)\n",
        "  return X_train, X_test, y_train, y_test"
      ],
      "metadata": {
        "id": "Y8BT5nELthAF"
      },
      "execution_count": 15,
      "outputs": []
    },
    {
      "cell_type": "code",
      "source": [
        "def get_baseline_accuracy(y_train, y_test):\n",
        "  majority_class = y_train.value_counts().index[0]\n",
        "  baseline_accuracy = sum(y_test == majority_class) / len(y_test)\n",
        "  return baseline_accuracy"
      ],
      "metadata": {
        "id": "2oNDMzoCuWJS"
      },
      "execution_count": 16,
      "outputs": []
    },
    {
      "cell_type": "code",
      "source": [
        "def get_most_common_tokens(X_train, amount=10):\n",
        "  tokenized = [word_tokenize(string) for string in X_train[TEXT]]\n",
        "  flat_list = [item for sublist in tokenized for item in sublist]\n",
        "  return Counter(flat_list).most_common(amount)"
      ],
      "metadata": {
        "id": "HmeTzYrXuey6"
      },
      "execution_count": 17,
      "outputs": []
    },
    {
      "cell_type": "code",
      "source": [
        "def load_nlp():\n",
        "  nlp = spacy.load('en_core_web_sm')\n",
        "  return nlp"
      ],
      "metadata": {
        "id": "P_X8ZyOOyEpl"
      },
      "execution_count": 18,
      "outputs": []
    },
    {
      "cell_type": "code",
      "source": [
        "def lemmatize_text(X_train, nlp):\n",
        "  lemmatized_text = list()\n",
        "  for text in X_train[TEXT]:\n",
        "    lemmas = [token.lemma_.lower() for token in nlp(text)]\n",
        "    lemmatized_text.append(lemmas)\n",
        "\n",
        "  return lemmatized_text"
      ],
      "metadata": {
        "id": "gRqWz30xx-K3"
      },
      "execution_count": 19,
      "outputs": []
    },
    {
      "cell_type": "code",
      "source": [
        "def fit_transform_articles(X_train, X_test, vectorizer, stop_words):\n",
        "  vectorizers = {'count': CountVectorizer(stop_words=stop_words), 'tfidf': TfidfVectorizer(stop_words=stop_words)}\n",
        "\n",
        "  try:\n",
        "    vectorizer = vectorizers[vectorizer]\n",
        "  except KeyError:\n",
        "    raise KeyError(\"vectorizer should be either 'count' or 'tfidf'\")\n",
        "\n",
        "  X_train_transformed = vectorizer.fit_transform(X_train[TEXT])\n",
        "  X_test_transformed = vectorizer.transform(X_test[TEXT])\n",
        "\n",
        "  return X_train_transformed, X_test_transformed, vectorizer"
      ],
      "metadata": {
        "id": "x1-TaZfDyidM"
      },
      "execution_count": 20,
      "outputs": []
    },
    {
      "cell_type": "code",
      "source": [
        "def get_data(csv_path='url_classification_temporary.csv'):\n",
        "  html_files = get_html_files()\n",
        "  df = create_df(csv_path)\n",
        "  # get_target_distribution(df, normalize=True)\n",
        "  htmls = read_htmls(df)\n",
        "  toi_articles = read_articles(htmls)\n",
        "  y = create_y(df)\n",
        "  assert len(toi_articles) == len(y)\n",
        "  title_and_summary = create_summary(toi_articles)\n",
        "\n",
        "  return y, title_and_summary\n",
        "\n",
        "def preprocessing(y, title_and_summary, maximum_classes=4, minimum_words=30, test_size=0.2, random_state=None, vectorizer='count', stop_words=None):\n",
        "  df_text = create_df_text(title_and_summary, y, minimum_words, maximum_classes=maximum_classes)\n",
        "  X_train, X_test, y_train, y_test = split_X_y(df_text, test_size, random_state)\n",
        "  # get_baseline_accuracy(y_train, y_test)\n",
        "  # get_most_common_tokens(amount=5)\n",
        "  nlp = load_nlp()\n",
        "  # lemmatized_text = lemmatize_text(X_train, nlp) # NOT USING IT, NECESSARY? DON'T THINK SO, BUT CHECK\n",
        "  X_train_transformed, X_test_transformed, vectorizer = fit_transform_articles(X_train, X_test, vectorizer, stop_words) # to see output: X_train.toarray() or X_test.toarray()\n",
        "\n",
        "  return X_train_transformed, X_test_transformed, y_train, y_test, vectorizer"
      ],
      "metadata": {
        "id": "qCkLSzkSNLuX"
      },
      "execution_count": 21,
      "outputs": []
    },
    {
      "cell_type": "markdown",
      "source": [
        "# Defining functions for modeling:"
      ],
      "metadata": {
        "id": "rFB-8GCfVEWx"
      }
    },
    {
      "cell_type": "code",
      "source": [
        "def fit_model(clf, X_train_transformed, y_train):\n",
        "  clf.fit(X_train_transformed, y_train)\n",
        "  return clf"
      ],
      "metadata": {
        "id": "oDWsciBnz2Xi"
      },
      "execution_count": 22,
      "outputs": []
    },
    {
      "cell_type": "code",
      "source": [
        "def predict(clf, X_test_transformed):\n",
        "  y_pred = clf.predict(X_test_transformed)\n",
        "  return y_pred"
      ],
      "metadata": {
        "id": "FX3QkGUO0663"
      },
      "execution_count": 23,
      "outputs": []
    },
    {
      "cell_type": "code",
      "source": [
        "def get_accuracy(y_test, y_pred):\n",
        "  accuracy = sum(y_pred == y_test) / len(y_test)\n",
        "  return accuracy"
      ],
      "metadata": {
        "id": "uKo2ehVj1UGl"
      },
      "execution_count": 24,
      "outputs": []
    },
    {
      "cell_type": "code",
      "source": [
        "def print_important_features(clf, features=5):\n",
        "  \"\"\" \n",
        "  Get the most important features of a classifier when using a linear kernel (e.g. Logistic Regression, not SVM)\n",
        "  \"\"\"\n",
        "  coef_importances = np.argsort(clf.coef_, axis=1)\n",
        "  for i, class_ in enumerate(coef_importances[:, :features]):\n",
        "      print(f'Class \"{clf.classes_[i]}\" - {features} most important features: '\n",
        "            f'{vectorizer.get_feature_names_out()[class_]}')"
      ],
      "metadata": {
        "id": "RijCFRLJ1dZY"
      },
      "execution_count": 25,
      "outputs": []
    },
    {
      "cell_type": "code",
      "source": [
        "def print_confusion_matrix(y_test, y_pred):\n",
        "  ConfusionMatrixDisplay.from_predictions(y_test, y_pred)\n",
        "  plt.title(f'Confusion matrix - acc {get_accuracy(y_test, y_pred):.3f}', size=15)\n",
        "  plt.show()"
      ],
      "metadata": {
        "id": "cxr2AIQuTVeK"
      },
      "execution_count": 26,
      "outputs": []
    },
    {
      "cell_type": "markdown",
      "source": [
        "# Executing functions get_data and preprocessing:"
      ],
      "metadata": {
        "id": "Bpyd4XbuSN4i"
      }
    },
    {
      "cell_type": "code",
      "source": [
        "y, title_and_summary = get_data(csv_path='url_classification_temporary5.csv')"
      ],
      "metadata": {
        "colab": {
          "base_uri": "https://localhost:8080/"
        },
        "id": "OdAL2KOTSQmv",
        "outputId": "d9240554-3057-497c-b5b9-427f628355cb"
      },
      "execution_count": 28,
      "outputs": [
        {
          "output_type": "stream",
          "name": "stdout",
          "text": [
            "Original shape: (294, 2)\n",
            "Final shape: (236, 2)\n"
          ]
        }
      ]
    },
    {
      "cell_type": "code",
      "source": [
        "X_train_transformed, X_test_transformed, y_train, y_test, vectorizer = preprocessing(y, title_and_summary, maximum_classes=4, \n",
        "                                                                                     test_size=0.2, random_state=0, vectorizer='tfidf', stop_words=STOPWORDS)"
      ],
      "metadata": {
        "id": "1800h2o3SQpV"
      },
      "execution_count": 29,
      "outputs": []
    },
    {
      "cell_type": "markdown",
      "source": [
        "# Executing functions for modeling:"
      ],
      "metadata": {
        "id": "oyhKm3Z4SGAy"
      }
    },
    {
      "cell_type": "code",
      "source": [
        "clf = fit_model(LogisticRegression(max_iter=3000, \n",
        "                                   random_state=0), \n",
        "                X_train_transformed, \n",
        "                y_train)\n",
        "\n",
        "y_pred = predict(clf, X_test_transformed)\n",
        "\n",
        "# print_important_features(clf, features=5)\n",
        "\n",
        "print_confusion_matrix(y_test, y_pred)"
      ],
      "metadata": {
        "colab": {
          "base_uri": "https://localhost:8080/",
          "height": 297
        },
        "id": "ZGXBXvhARfz4",
        "outputId": "5cd78aa9-4836-4c5f-cac5-afb4c2d57ebd"
      },
      "execution_count": 33,
      "outputs": [
        {
          "output_type": "display_data",
          "data": {
            "text/plain": [
              "<Figure size 432x288 with 2 Axes>"
            ],
            "image/png": "[encoded data removed]"
          },
          "metadata": {
            "needs_background": "light"
          }
        }
      ]
    },
    {
      "cell_type": "markdown",
      "source": [
        "Stop, don't print (and erase the results) of the confusion matrix."
      ],
      "metadata": {
        "id": "0sGRzp4dPemx"
      }
    },
    {
      "cell_type": "code",
      "source": [
        "print_confusion_matrix(y_test, y_pred) # 3rd version"
      ],
      "metadata": {
        "id": "CukDKK8J1__S"
      },
      "execution_count": null,
      "outputs": []
    },
    {
      "cell_type": "code",
      "source": [
        "print_confusion_matrix(y_test, y_pred) # 4th version"
      ],
      "metadata": {
        "id": "HZUxueEf2WUk"
      },
      "execution_count": null,
      "outputs": []
    },
    {
      "cell_type": "code",
      "source": [
        "print_confusion_matrix(y_test, y_pred) # 5th version"
      ],
      "metadata": {
        "id": "a440KiCvTinP"
      },
      "execution_count": null,
      "outputs": []
    },
    {
      "cell_type": "markdown",
      "source": [
        "#### Trying SVM"
      ],
      "metadata": {
        "id": "bjlyrbbZVOqX"
      }
    },
    {
      "cell_type": "code",
      "source": [
        "clf = fit_model(SVC(C=1.0,\n",
        "                    class_weight='balanced', \n",
        "                    random_state=0), \n",
        "                X_train_transformed, \n",
        "                y_train)\n",
        "\n",
        "y_pred = predict(clf, X_test_transformed)\n",
        "\n",
        "print_confusion_matrix(y_test, y_pred) # 4th version"
      ],
      "metadata": {
        "id": "0c4-e-pSVUs9",
        "colab": {
          "base_uri": "https://localhost:8080/",
          "height": 297
        },
        "outputId": "13f9019f-5af8-47f3-892b-6a904b4c63ee"
      },
      "execution_count": 34,
      "outputs": [
        {
          "output_type": "display_data",
          "data": {
            "text/plain": [
              "<Figure size 432x288 with 2 Axes>"
            ],
            "image/png": "[encoded data removed]"
          },
          "metadata": {
            "needs_background": "light"
          }
        }
      ]
    },
    {
      "cell_type": "markdown",
      "source": [
        "#### Trying KNN 5"
      ],
      "metadata": {
        "id": "DZt1hvEr0-CE"
      }
    },
    {
      "cell_type": "code",
      "source": [
        "# without stop words\n",
        "clf = fit_model(model=KNeighborsClassifier(n_neighbors=5), \n",
        "                X_train=X_train_transformed, \n",
        "                y_train=y_train)\n",
        "\n",
        "y_pred = predict(clf, X_test=X_test_transformed)\n",
        "\n",
        "print_confusion_matrix(y_test, y_pred)"
      ],
      "metadata": {
        "id": "M2tj7MYY04IS"
      },
      "execution_count": null,
      "outputs": []
    },
    {
      "cell_type": "code",
      "source": [
        "# with stop words from NLTK\n",
        "clf = fit_model(KNeighborsClassifier(n_neighbors=5), \n",
        "                X_train_transformed, \n",
        "                y_train)\n",
        "\n",
        "y_pred = predict(clf, X_test_transformed)\n",
        "\n",
        "print_confusion_matrix(y_test, y_pred)"
      ],
      "metadata": {
        "colab": {
          "base_uri": "https://localhost:8080/",
          "height": 297
        },
        "id": "tx0ZsbLG1LeS",
        "outputId": "2d86e221-f327-471f-e3f7-fbcd233b7086"
      },
      "execution_count": 36,
      "outputs": [
        {
          "output_type": "display_data",
          "data": {
            "text/plain": [
              "<Figure size 432x288 with 2 Axes>"
            ],
            "image/png": "[encoded data removed]"
          },
          "metadata": {
            "needs_background": "light"
          }
        }
      ]
    },
    {
      "cell_type": "markdown",
      "source": [
        "### Continuation"
      ],
      "metadata": {
        "id": "vz3_DDzR1G4b"
      }
    },
    {
      "cell_type": "code",
      "source": [
        "# until row 281\n",
        "clf = fit_model(model=SVC(C=1,\n",
        "                          class_weight='balanced', \n",
        "                          random_state=0), \n",
        "                X_train=X_train_transformed, \n",
        "                y_train=y_train)\n",
        "\n",
        "y_pred = predict(clf, X_test=X_test_transformed)\n",
        "\n",
        "get_accuracy(y_test, y_pred)"
      ],
      "metadata": {
        "id": "rEt67ILyWnQ_"
      },
      "execution_count": null,
      "outputs": []
    },
    {
      "cell_type": "code",
      "source": [
        "# until row 295\n",
        "clf = fit_model(model=SVC(C=1,\n",
        "                          class_weight='balanced', \n",
        "                          random_state=0), \n",
        "                X_train=X_train_transformed, \n",
        "                y_train=y_train)\n",
        "\n",
        "y_pred = predict(clf, X_test=X_test_transformed)\n",
        "\n",
        "get_accuracy(y_test, y_pred)"
      ],
      "metadata": {
        "id": "C1T-Dj-wv9vZ"
      },
      "execution_count": null,
      "outputs": []
    },
    {
      "cell_type": "code",
      "source": [
        "# until row 281\n",
        "def get_best_clf(clfs, X_train, X_test, y_train, y_test):\n",
        "    results = []\n",
        "    best_clf = None\n",
        "    best_clf_name = None\n",
        "    best_accuracy = 0\n",
        "\n",
        "    for clf_name, clf in clfs:\n",
        "        clf.fit(X_train, y_train)\n",
        "        acc = clf.score(X_test, y_test) # accuracy score\n",
        "        \n",
        "        if acc > best_accuracy:\n",
        "            best_accuracy = acc\n",
        "            best_clf = clf\n",
        "            best_clf_name = clf_name\n",
        "\n",
        "        results.append({'clf': clf_name,\n",
        "                        'accuracy': acc})\n",
        "        \n",
        "    print(pd.DataFrame(results).set_index('clf'))\n",
        "    return best_clf, best_clf_name, best_accuracy"
      ],
      "metadata": {
        "id": "KJpxtSaHWnT7"
      },
      "execution_count": null,
      "outputs": []
    },
    {
      "cell_type": "code",
      "source": [
        "# until row 295\n",
        "clfs = [\n",
        "    ('LogisticRegression', LogisticRegression(max_iter=4000,\n",
        "                                              random_state=0)), \n",
        "    ('RandomForest', RandomForestClassifier(max_depth=18,\n",
        "                                            n_estimators=75,\n",
        "                                            random_state=0)), \n",
        "    ('KNN 5', KNeighborsClassifier(n_neighbors=5)),\n",
        "    ('SVM C1', SVC(C=1,\n",
        "                   class_weight='balanced', \n",
        "                   random_state=0), ),\n",
        "    ('MultinomialNB', MultinomialNB())\n",
        "]\n",
        "\n",
        "# clf, clf_name, val_acc = get_best_clf(clfs, X_train, X_test, y_train, y_test) # To use when I have more data for validation set\n",
        "# print(f'Best classifier: {clf_name}, validation accuracy: {val_acc:.3f}, '\n",
        "#       f'test accuracy: {clf.score(X_test, y_test):.3f}')\n",
        "\n",
        "clf, clf_name, test_acc = get_best_clf(clfs, X_train_transformed, X_test_transformed, y_train, y_test)\n",
        "print(f'Best classifier: {clf_name}, test accuracy: {test_acc:.3f}')"
      ],
      "metadata": {
        "id": "b_zeFjz9wOam"
      },
      "execution_count": null,
      "outputs": []
    },
    {
      "cell_type": "code",
      "source": [
        "def print_search_results(est, X_test, y_test):\n",
        "    print('Best parameters set found on validation set:', est.best_params_)\n",
        "    print(f'Best validation score: {est.best_score_:.3f}')\n",
        "\n",
        "    means = est.cv_results_['mean_test_score']\n",
        "    stds = est.cv_results_['std_test_score']\n",
        "    params_all = est.cv_results_['params']\n",
        "    print('\\nScores on validation set:')\n",
        "    for mean_score, std_score, params in zip(means, stds, params_all):\n",
        "        print(f'{mean_score:.3f} (+/-{(std_score * 2):.3f}) for {params}')\n",
        "\n",
        "    print(\"\\nDetailed classification report:\")\n",
        "    print(\"The model is trained on the full train set.\")\n",
        "    print(\"The scores are computed on the full test set.\")\n",
        "    y_pred = est.predict(X_test)\n",
        "    print(classification_report(y_test, y_pred))"
      ],
      "metadata": {
        "id": "VNgDQrPji20b"
      },
      "execution_count": null,
      "outputs": []
    },
    {
      "cell_type": "code",
      "source": [
        "# def grid_search_knn(X_train, y_train): # To use when I have more data for cross validation (cv)\n",
        "#   metric = 'accuracy'\n",
        "\n",
        "#   params_dict_knn = [{\n",
        "#       'metric': ['minkowski', 'euclidean'], \n",
        "#       'n_neighbors': [4, 5, 6, 7], \n",
        "#       'weights': ['uniform', 'distance'],\n",
        "#       'algorithm':['auto', 'ball_tree']}]\n",
        "\n",
        "#   print(f'KNN Tuning hyper-parameters for {metric}')\n",
        "\n",
        "#   clf_knn = GridSearchCV(KNeighborsClassifier(), \n",
        "#                         params_dict_knn, \n",
        "#                         scoring=metric, \n",
        "#                         cv=5, \n",
        "#                         verbose=10,\n",
        "#                         n_jobs=-1)\n",
        "\n",
        "#   return clf_knn.fit(X_train, y_train)\n",
        "\n",
        "# clf_knn = grid_search_knn(X_train_transformed, y_train)\n",
        "# print_search_results(clf_knn, X_test_transformed, y_test)"
      ],
      "metadata": {
        "id": "V-mn1n63V8tz"
      },
      "execution_count": null,
      "outputs": []
    },
    {
      "cell_type": "code",
      "source": [],
      "metadata": {
        "id": "NsBkhrD3ij3G"
      },
      "execution_count": null,
      "outputs": []
    }
  ]
}