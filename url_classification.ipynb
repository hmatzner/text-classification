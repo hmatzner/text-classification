{
  "cells": [
    {
      "cell_type": "markdown",
      "metadata": {
        "id": "ETBiYhSFxLNt"
      },
      "source": [
        "# 0. Setup"
      ]
    },
    {
      "cell_type": "code",
      "execution_count": 3,
      "metadata": {
        "colab": {
          "base_uri": "https://localhost:8080/"
        },
        "id": "-QLU-43EwevJ",
        "outputId": "d1a70c3c-4e19-47fc-8a0c-65e738706d27"
      },
      "outputs": [
        {
          "output_type": "stream",
          "name": "stdout",
          "text": [
            "Looking in indexes: https://pypi.org/simple, https://us-python.pkg.dev/colab-wheels/public/simple/\n",
            "Collecting transformers\n",
            "  Downloading transformers-4.25.1-py3-none-any.whl (5.8 MB)\n",
            "\u001b[K     |████████████████████████████████| 5.8 MB 5.0 MB/s \n",
            "\u001b[?25hCollecting newspaper3k\n",
            "  Downloading newspaper3k-0.2.8-py3-none-any.whl (211 kB)\n",
            "\u001b[K     |████████████████████████████████| 211 kB 58.4 MB/s \n",
            "\u001b[?25hCollecting datasets\n",
            "  Downloading datasets-2.8.0-py3-none-any.whl (452 kB)\n",
            "\u001b[K     |████████████████████████████████| 452 kB 67.0 MB/s \n",
            "\u001b[?25hCollecting urllib3==1.25.11\n",
            "  Downloading urllib3-1.25.11-py2.py3-none-any.whl (127 kB)\n",
            "\u001b[K     |████████████████████████████████| 127 kB 60.6 MB/s \n",
            "\u001b[?25hRequirement already satisfied: numpy>=1.17 in /usr/local/lib/python3.8/dist-packages (from transformers) (1.21.6)\n",
            "Collecting huggingface-hub<1.0,>=0.10.0\n",
            "  Downloading huggingface_hub-0.11.1-py3-none-any.whl (182 kB)\n",
            "\u001b[K     |████████████████████████████████| 182 kB 61.0 MB/s \n",
            "\u001b[?25hRequirement already satisfied: tqdm>=4.27 in /usr/local/lib/python3.8/dist-packages (from transformers) (4.64.1)\n",
            "Requirement already satisfied: requests in /usr/local/lib/python3.8/dist-packages (from transformers) (2.23.0)\n",
            "Requirement already satisfied: packaging>=20.0 in /usr/local/lib/python3.8/dist-packages (from transformers) (21.3)\n",
            "Requirement already satisfied: regex!=2019.12.17 in /usr/local/lib/python3.8/dist-packages (from transformers) (2022.6.2)\n",
            "Requirement already satisfied: pyyaml>=5.1 in /usr/local/lib/python3.8/dist-packages (from transformers) (6.0)\n",
            "Requirement already satisfied: filelock in /usr/local/lib/python3.8/dist-packages (from transformers) (3.8.2)\n",
            "Collecting tokenizers!=0.11.3,<0.14,>=0.11.1\n",
            "  Downloading tokenizers-0.13.2-cp38-cp38-manylinux_2_17_x86_64.manylinux2014_x86_64.whl (7.6 MB)\n",
            "\u001b[K     |████████████████████████████████| 7.6 MB 44.5 MB/s \n",
            "\u001b[?25hRequirement already satisfied: typing-extensions>=3.7.4.3 in /usr/local/lib/python3.8/dist-packages (from huggingface-hub<1.0,>=0.10.0->transformers) (4.4.0)\n",
            "Requirement already satisfied: pyparsing!=3.0.5,>=2.0.2 in /usr/local/lib/python3.8/dist-packages (from packaging>=20.0->transformers) (3.0.9)\n",
            "Collecting tinysegmenter==0.3\n",
            "  Downloading tinysegmenter-0.3.tar.gz (16 kB)\n",
            "Requirement already satisfied: nltk>=3.2.1 in /usr/local/lib/python3.8/dist-packages (from newspaper3k) (3.7)\n",
            "Collecting feedfinder2>=0.0.4\n",
            "  Downloading feedfinder2-0.0.4.tar.gz (3.3 kB)\n",
            "Requirement already satisfied: Pillow>=3.3.0 in /usr/local/lib/python3.8/dist-packages (from newspaper3k) (7.1.2)\n",
            "Collecting tldextract>=2.0.1\n",
            "  Downloading tldextract-3.4.0-py3-none-any.whl (93 kB)\n",
            "\u001b[K     |████████████████████████████████| 93 kB 2.6 MB/s \n",
            "\u001b[?25hCollecting feedparser>=5.2.1\n",
            "  Downloading feedparser-6.0.10-py3-none-any.whl (81 kB)\n",
            "\u001b[K     |████████████████████████████████| 81 kB 9.0 MB/s \n",
            "\u001b[?25hCollecting cssselect>=0.9.2\n",
            "  Downloading cssselect-1.2.0-py2.py3-none-any.whl (18 kB)\n",
            "Requirement already satisfied: beautifulsoup4>=4.4.1 in /usr/local/lib/python3.8/dist-packages (from newspaper3k) (4.6.3)\n",
            "Requirement already satisfied: lxml>=3.6.0 in /usr/local/lib/python3.8/dist-packages (from newspaper3k) (4.9.2)\n",
            "Requirement already satisfied: python-dateutil>=2.5.3 in /usr/local/lib/python3.8/dist-packages (from newspaper3k) (2.8.2)\n",
            "Collecting jieba3k>=0.35.1\n",
            "  Downloading jieba3k-0.35.1.zip (7.4 MB)\n",
            "\u001b[K     |████████████████████████████████| 7.4 MB 51.6 MB/s \n",
            "\u001b[?25hRequirement already satisfied: six in /usr/local/lib/python3.8/dist-packages (from feedfinder2>=0.0.4->newspaper3k) (1.15.0)\n",
            "Collecting sgmllib3k\n",
            "  Downloading sgmllib3k-1.0.0.tar.gz (5.8 kB)\n",
            "Requirement already satisfied: joblib in /usr/local/lib/python3.8/dist-packages (from nltk>=3.2.1->newspaper3k) (1.2.0)\n",
            "Requirement already satisfied: click in /usr/local/lib/python3.8/dist-packages (from nltk>=3.2.1->newspaper3k) (7.1.2)\n",
            "Requirement already satisfied: chardet<4,>=3.0.2 in /usr/local/lib/python3.8/dist-packages (from requests->transformers) (3.0.4)\n",
            "Requirement already satisfied: idna<3,>=2.5 in /usr/local/lib/python3.8/dist-packages (from requests->transformers) (2.10)\n",
            "Requirement already satisfied: certifi>=2017.4.17 in /usr/local/lib/python3.8/dist-packages (from requests->transformers) (2022.12.7)\n",
            "Collecting requests-file>=1.4\n",
            "  Downloading requests_file-1.5.1-py2.py3-none-any.whl (3.7 kB)\n",
            "Collecting multiprocess\n",
            "  Downloading multiprocess-0.70.14-py38-none-any.whl (132 kB)\n",
            "\u001b[K     |████████████████████████████████| 132 kB 47.0 MB/s \n",
            "\u001b[?25hRequirement already satisfied: dill<0.3.7 in /usr/local/lib/python3.8/dist-packages (from datasets) (0.3.6)\n",
            "Requirement already satisfied: aiohttp in /usr/local/lib/python3.8/dist-packages (from datasets) (3.8.3)\n",
            "Requirement already satisfied: pyarrow>=6.0.0 in /usr/local/lib/python3.8/dist-packages (from datasets) (9.0.0)\n",
            "Collecting responses<0.19\n",
            "  Downloading responses-0.18.0-py3-none-any.whl (38 kB)\n",
            "Requirement already satisfied: fsspec[http]>=2021.11.1 in /usr/local/lib/python3.8/dist-packages (from datasets) (2022.11.0)\n",
            "Requirement already satisfied: pandas in /usr/local/lib/python3.8/dist-packages (from datasets) (1.3.5)\n",
            "Collecting xxhash\n",
            "  Downloading xxhash-3.2.0-cp38-cp38-manylinux_2_17_x86_64.manylinux2014_x86_64.whl (213 kB)\n",
            "\u001b[K     |████████████████████████████████| 213 kB 72.8 MB/s \n",
            "\u001b[?25hRequirement already satisfied: yarl<2.0,>=1.0 in /usr/local/lib/python3.8/dist-packages (from aiohttp->datasets) (1.8.2)\n",
            "Requirement already satisfied: async-timeout<5.0,>=4.0.0a3 in /usr/local/lib/python3.8/dist-packages (from aiohttp->datasets) (4.0.2)\n",
            "Requirement already satisfied: attrs>=17.3.0 in /usr/local/lib/python3.8/dist-packages (from aiohttp->datasets) (22.1.0)\n",
            "Requirement already satisfied: frozenlist>=1.1.1 in /usr/local/lib/python3.8/dist-packages (from aiohttp->datasets) (1.3.3)\n",
            "Requirement already satisfied: multidict<7.0,>=4.5 in /usr/local/lib/python3.8/dist-packages (from aiohttp->datasets) (6.0.3)\n",
            "Requirement already satisfied: charset-normalizer<3.0,>=2.0 in /usr/local/lib/python3.8/dist-packages (from aiohttp->datasets) (2.1.1)\n",
            "Requirement already satisfied: aiosignal>=1.1.2 in /usr/local/lib/python3.8/dist-packages (from aiohttp->datasets) (1.3.1)\n",
            "Requirement already satisfied: pytz>=2017.3 in /usr/local/lib/python3.8/dist-packages (from pandas->datasets) (2022.6)\n",
            "Building wheels for collected packages: tinysegmenter, feedfinder2, jieba3k, sgmllib3k\n",
            "  Building wheel for tinysegmenter (setup.py) ... \u001b[?25l\u001b[?25hdone\n",
            "  Created wheel for tinysegmenter: filename=tinysegmenter-0.3-py3-none-any.whl size=13552 sha256=6dd8ff60f966061815eb8ed0c103084062dff7fd32901a50aee8a6e5c9c73842\n",
            "  Stored in directory: /root/.cache/pip/wheels/99/74/83/8fac1c8d9c648cfabebbbffe97a889f6624817f3aa0bbe6c09\n",
            "  Building wheel for feedfinder2 (setup.py) ... \u001b[?25l\u001b[?25hdone\n",
            "  Created wheel for feedfinder2: filename=feedfinder2-0.0.4-py3-none-any.whl size=3354 sha256=03ae4ad9889e56dbb50bcb40e4bfff6fd7273110183418cf9bec9043fbe02e17\n",
            "  Stored in directory: /root/.cache/pip/wheels/b6/09/68/a9f15498ac02c23dde29f18745bc6a6f574ba4ab41861a3575\n",
            "  Building wheel for jieba3k (setup.py) ... \u001b[?25l\u001b[?25hdone\n",
            "  Created wheel for jieba3k: filename=jieba3k-0.35.1-py3-none-any.whl size=7398405 sha256=12b324344ee2b43b61c2ad4233be7f39d475f31753e7042ba88c7894e072f968\n",
            "  Stored in directory: /root/.cache/pip/wheels/1f/7e/0c/54f3b0f5164278677899f2db08f2b07943ce2d024a3c862afb\n",
            "  Building wheel for sgmllib3k (setup.py) ... \u001b[?25l\u001b[?25hdone\n",
            "  Created wheel for sgmllib3k: filename=sgmllib3k-1.0.0-py3-none-any.whl size=6066 sha256=af543af071d751315af8605b54762ec9aa96901b1f923f3be5f99362281de885\n",
            "  Stored in directory: /root/.cache/pip/wheels/83/63/2f/117884c3b19d46b64d3d61690333aa80c88dc14050e269c546\n",
            "Successfully built tinysegmenter feedfinder2 jieba3k sgmllib3k\n",
            "Installing collected packages: urllib3, sgmllib3k, requests-file, xxhash, tokenizers, tldextract, tinysegmenter, responses, multiprocess, jieba3k, huggingface-hub, feedparser, feedfinder2, cssselect, transformers, newspaper3k, datasets\n",
            "  Attempting uninstall: urllib3\n",
            "    Found existing installation: urllib3 1.24.3\n",
            "    Uninstalling urllib3-1.24.3:\n",
            "      Successfully uninstalled urllib3-1.24.3\n",
            "Successfully installed cssselect-1.2.0 datasets-2.8.0 feedfinder2-0.0.4 feedparser-6.0.10 huggingface-hub-0.11.1 jieba3k-0.35.1 multiprocess-0.70.14 newspaper3k-0.2.8 requests-file-1.5.1 responses-0.18.0 sgmllib3k-1.0.0 tinysegmenter-0.3 tldextract-3.4.0 tokenizers-0.13.2 transformers-4.25.1 urllib3-1.25.11 xxhash-3.2.0\n"
          ]
        }
      ],
      "source": [
        "# TO REMOVE\n",
        "! pip install transformers newspaper3k datasets urllib3==1.25.11"
      ]
    },
    {
      "cell_type": "code",
      "execution_count": 4,
      "metadata": {
        "colab": {
          "base_uri": "https://localhost:8080/"
        },
        "id": "GNOP_xBSwpM9",
        "outputId": "ca5dd651-dc5a-4ddb-f593-6c780806b33f"
      },
      "outputs": [
        {
          "output_type": "stream",
          "name": "stderr",
          "text": [
            "[nltk_data] Downloading package punkt to /root/nltk_data...\n",
            "[nltk_data]   Unzipping tokenizers/punkt.zip.\n",
            "[nltk_data] Downloading package stopwords to /root/nltk_data...\n",
            "[nltk_data]   Unzipping corpora/stopwords.zip.\n"
          ]
        },
        {
          "output_type": "execute_result",
          "data": {
            "text/plain": [
              "True"
            ]
          },
          "metadata": {},
          "execution_count": 4
        }
      ],
      "source": [
        "import urllib3\n",
        "import os\n",
        "import re\n",
        "import pickle\n",
        "import pandas as pd\n",
        "import numpy as np\n",
        "import matplotlib.pyplot as plt\n",
        "import seaborn as sns\n",
        "from typing import List, Dict, Tuple, Union, Any\n",
        "from tqdm import tqdm\n",
        "import newspaper\n",
        "from newspaper import Article\n",
        "from collections import Counter\n",
        "from sklearn.model_selection import train_test_split, GridSearchCV, StratifiedKFold, cross_val_score\n",
        "from sklearn.metrics import ConfusionMatrixDisplay, classification_report, roc_auc_score\n",
        "from sklearn.preprocessing import OneHotEncoder, OrdinalEncoder\n",
        "from sklearn.feature_extraction.text import CountVectorizer, TfidfVectorizer\n",
        "from sklearn.linear_model import LogisticRegression\n",
        "from sklearn.svm import SVC\n",
        "from sklearn.ensemble import RandomForestClassifier\n",
        "from sklearn.neighbors import KNeighborsClassifier\n",
        "from sklearn.naive_bayes import MultinomialNB\n",
        "import datasets\n",
        "from datasets.dataset_dict import DatasetDict\n",
        "from datasets import Dataset\n",
        "from datasets import load_dataset\n",
        "import transformers\n",
        "from transformers import pipeline\n",
        "from transformers import TFAutoModel \n",
        "from transformers import AutoTokenizer\n",
        "from transformers import DataCollatorWithPadding\n",
        "from nltk.tokenize import word_tokenize\n",
        "from nltk.stem.porter import *\n",
        "from nltk.corpus import stopwords\n",
        "import nltk\n",
        "nltk.download('punkt')\n",
        "nltk.download('stopwords')"
      ]
    },
    {
      "cell_type": "code",
      "execution_count": 5,
      "metadata": {
        "id": "u97Iw7hIlzoq",
        "colab": {
          "base_uri": "https://localhost:8080/"
        },
        "outputId": "47e3444d-ce73-47d2-be82-8c71b0028645"
      },
      "outputs": [
        {
          "output_type": "stream",
          "name": "stderr",
          "text": [
            "/usr/local/lib/python3.8/dist-packages/torch/cuda/__init__.py:497: UserWarning: Can't initialize NVML\n",
            "  warnings.warn(\"Can't initialize NVML\")\n"
          ]
        }
      ],
      "source": [
        "import spacy"
      ]
    },
    {
      "cell_type": "code",
      "execution_count": 6,
      "metadata": {
        "id": "lurQqiFLlz3W"
      },
      "outputs": [],
      "source": [
        "import spacy"
      ]
    },
    {
      "cell_type": "code",
      "execution_count": 7,
      "metadata": {
        "colab": {
          "base_uri": "https://localhost:8080/"
        },
        "id": "eXRjeKlWwsL9",
        "outputId": "d7f0aed9-944e-447d-f934-d8ea3298861f"
      },
      "outputs": [
        {
          "output_type": "stream",
          "name": "stdout",
          "text": [
            "Mounted at /content/drive\n"
          ]
        }
      ],
      "source": [
        "# TO REMOVE\n",
        "from google.colab import drive\n",
        "drive.mount('/content/drive', force_remount=True)"
      ]
    },
    {
      "cell_type": "markdown",
      "metadata": {
        "id": "iLz28NRNt37B"
      },
      "source": [
        "# 0.1 Defining variables"
      ]
    },
    {
      "cell_type": "code",
      "execution_count": 92,
      "metadata": {
        "id": "9piP3Hcmt7Zt"
      },
      "outputs": [],
      "source": [
        "URL = 'url'\n",
        "TEXT = 'text'\n",
        "LEMMATIZED = 'cleaned_lemmatized_text'\n",
        "TARGET = 'label'\n",
        "\n",
        "MAIN_FOLDER = '/content/drive/MyDrive/url_classification/'\n",
        "HTML_FOLDER = MAIN_FOLDER + 'html_files_Nov-24-2022/'\n",
        "\n",
        "html_folder = HTML_FOLDER # is it being used or I can delete it?\n",
        "\n",
        "nlp = spacy.load('en_core_web_sm')\n",
        "\n",
        "DISTILBERT_MAX_INPUT = 510 # 512 - the [CLS] and [SEP] tokens\n",
        "\n",
        "labels_encoded = {'Article': 0, 'Blog': 1, 'Event': 2, 'Webinar': 3, 'PR': 4, 'MISC': 5}\n",
        "labels_decoded = {y: x for x, y in labels_encoded.items()}\n",
        "\n",
        "maximum_classes = len(labels_encoded)\n",
        "\n",
        "REPLACE_BY_SPACE_RE = re.compile('[/(){}\\[\\]\\|@,;]')\n",
        "BAD_SYMBOLS_RE = re.compile('[^0-9A-Za-z #+_]')\n",
        "STOPWORDS = set(stopwords.words('english'))"
      ]
    },
    {
      "cell_type": "code",
      "source": [
        "os.chdir(MAIN_FOLDER)"
      ],
      "metadata": {
        "id": "LF9b6MWaZH2u"
      },
      "execution_count": 9,
      "outputs": []
    },
    {
      "cell_type": "markdown",
      "metadata": {
        "id": "4GwHtk5on9DE"
      },
      "source": [
        "# 0.2 Functions"
      ]
    },
    {
      "cell_type": "markdown",
      "metadata": {
        "id": "LYi72BOuqFgy"
      },
      "source": [
        "## Saving/loading variables"
      ]
    },
    {
      "cell_type": "code",
      "execution_count": 85,
      "metadata": {
        "id": "0ksnZ0TYn5v2"
      },
      "outputs": [],
      "source": [
        "def save_variables(variables: Dict[str, Any]) -> None:\n",
        "  \"\"\"\n",
        "  Saves variables to disk using pickle.\n",
        "  \n",
        "  @variables: dictionary where the keys are the names to use when saving the variables, and the values are the variables to be saved.\n",
        "  \n",
        "  Returns:\n",
        "  None\n",
        "  \"\"\"\n",
        "\n",
        "  for variable_name, variable in variables.items():\n",
        "    with open(f'./saved_variables/{variable_name}.pickle', 'wb') as f:\n",
        "      pickle.dump(variable, f)\n",
        "\n",
        "\n",
        "def read_variable(variable_name):\n",
        "  \"\"\"\n",
        "  Loads a variable previously saved in disk using pickle.\n",
        "\n",
        "  @variable_name: path of the variable saved\n",
        "\n",
        "  Returns:\n",
        "  - variable: the loaded variable\n",
        "  \"\"\"\n",
        "\n",
        "  with open(f'./saved_variables/{variable_name}.pickle', 'rb') as f:\n",
        "    variable = pickle.load(f)\n",
        "  return variable"
      ]
    },
    {
      "cell_type": "markdown",
      "metadata": {
        "id": "qQDm4AyuDZuC"
      },
      "source": [
        "## Preprocessing"
      ]
    },
    {
      "cell_type": "code",
      "execution_count": 86,
      "metadata": {
        "id": "WSG3LYaKDZ65"
      },
      "outputs": [],
      "source": [
        "def read_csv(csv_path: str, usecols: List[str] = None, namecols: List[str] = None, remove_nan: str = None, ignore_dash: bool = False) -> pd.DataFrame:\n",
        "  \"\"\"\n",
        "  Create a DataFrame from a CSV file.\n",
        "\n",
        "  @csv_path: the path to the CSV file.\n",
        "  @usecols: a list of column names to use from the CSV file. If not provided, all columns will be used.\n",
        "  @namecols: a list of new names for the columns from the CSV file. If not provided, the original column names will be used.\n",
        "  @remove_nan: the name of the column from where rows with missing values will be removed. It must be from namecols (or from usecols, if namecols was not provided). If not provided, all rows will be kept.\n",
        "  @ignore_dash: a flag indicating whether to ignore rows with a dash (`-`) in the target column. If not provided, rows with a dash in the target column will be included in the data.\n",
        "\n",
        "  Returns: \n",
        "  - df: a pandas DataFrame object.\n",
        "  \"\"\"\n",
        "\n",
        "  df = pd.read_csv(csv_path, usecols=usecols)\n",
        "\n",
        "  if namecols:\n",
        "    assert len(usecols) == len(namecols)\n",
        "    rename_columns = {usecols[i]: namecols[i] for i in range(len(usecols))}\n",
        "    df.rename(columns=rename_columns, inplace=True)\n",
        "  \n",
        "  if remove_nan:\n",
        "    df = df[~df[remove_nan].isna()]\n",
        "\n",
        "  if ignore_dash:\n",
        "    df = df[df['label'] != '-']\n",
        "  \n",
        "  df.loc[df[TARGET] == 'MISC/Blog?', TARGET] = 'MISC' # all sections of blogs labeled as 'MISC/Blog?' become part of 'MISC'.\n",
        "\n",
        "  df.reset_index(drop=True, inplace=True)\n",
        "\n",
        "  return df\n",
        "\n",
        "\n",
        "def read_htmls(df: pd.DataFrame, column: str) -> List[str]:\n",
        "  \"\"\"\n",
        "  Read HTML files from a pandas DataFrame.\n",
        "\n",
        "  @df: a DataFrame with a column containing the names of the HTML files.\n",
        "  @column: the name of the column in the DataFrame where the filenames are stored.\n",
        "\n",
        "  Returns: \n",
        "  - htmls: a list of strings, one for each HTML file.\n",
        "  \"\"\"\n",
        "\n",
        "  filenames = df[column].values\n",
        "  htmls = list()\n",
        "\n",
        "  for i, filename in enumerate(tqdm(filenames)):\n",
        "    try:\n",
        "      with open(f'{HTML_FOLDER}{filename}') as f:\n",
        "        html = f.read()\n",
        "        htmls.append(html)\n",
        "    except FileNotFoundError:\n",
        "      print(f'File {i} not found: \"{filename}\"')\n",
        "  \n",
        "  return htmls\n",
        "\n",
        "\n",
        "def read_articles(htmls: List[str]) -> List[newspaper.article.Article]:\n",
        "  \"\"\"\n",
        "  Read articles from a list of HTML strings.\n",
        "  \n",
        "  @htmls: a list of HTML strings representing articles.\n",
        "  \n",
        "  Returns: \n",
        "  - toi_articles: a list of newspaper.article.Article objects, one for each HTML string.\n",
        "  \"\"\"\n",
        "  \n",
        "  toi_articles = list()\n",
        "\n",
        "  for html in tqdm(htmls):\n",
        "    toi_article = Article(url = ' ', language = 'en')\n",
        "    toi_article.set_html(html)\n",
        "    toi_article.parse()\n",
        "    toi_article.nlp()\n",
        "    toi_articles.append(toi_article)\n",
        "\n",
        "  return toi_articles\n",
        "\n",
        "\n",
        "def create_df_from_articles(df: pd.DataFrame, toi_articles: List[newspaper.article.Article]) -> pd.DataFrame:\n",
        "  \"\"\"\n",
        "  Create a DataFrame with article text and labels from a list of articles.\n",
        "  \n",
        "  @df: a DataFrame with a TARGET column containing the labels for the articles.\n",
        "  @toi_articles: a list of newspaper.article.Article objects.\n",
        "  \n",
        "  Returns: a DataFrame with two columns: TEXT, containing the concatenated title and text of the articles, and TARGET, containing the labels for the articles.\n",
        "  \"\"\"\n",
        "\n",
        "  summaries = [(toi_article.title + '. ' + toi_article.text).replace('\\n', ' ') for toi_article in toi_articles]\n",
        "  y = df[TARGET].tolist()\n",
        "  assert len(y) == len(summaries)\n",
        "\n",
        "  df_text1 = pd.DataFrame({TEXT: summaries, TARGET: y})\n",
        "\n",
        "  return df_text1"
      ]
    },
    {
      "cell_type": "code",
      "source": [
        "def read_or_create_variables(variable_names: List[str]) -> List[Any]:\n",
        "  \"\"\"\n",
        "  Read or create variables with the given names. If a variable exists, it is read and returned. \n",
        "  If a variable with a given name does not exist, it is created and an empty list is returned.\n",
        "  \n",
        "  @variable_names: list of strings representing the names of the variables to be read and/or created.\n",
        "  \n",
        "  Returns:\n",
        "  - variables: list of the read and/or created variables.\n",
        "  \"\"\"\n",
        "\n",
        "  variables = list()\n",
        "\n",
        "  for variable_name in variable_names:\n",
        "    try:\n",
        "      variable = read_variable(variable_name)\n",
        "      print(f'SUCCESS: variable {variable_name} was read, it contains {len(variable)} elements.')\n",
        "    except FileNotFoundError:\n",
        "      variable = list()\n",
        "      print(f'Variable {variable_name} was just created and contains {len(variable)} elements.')\n",
        "\n",
        "    variables.append(variable)\n",
        "\n",
        "  return variables\n",
        "\n",
        "\n",
        "def create_new_urls(df: pd.DataFrame, column: str) -> pd.Series:\n",
        "  \"\"\"\n",
        "  Creates the urls to read based on the difference between all URLs and the ones already read.\n",
        "\n",
        "  @df (pd.DataFrame): a DataFrame with a column containing the URLs.\n",
        "  @column (str): the name of the column in the DataFrame where the URLs are stored.\n",
        "\n",
        "  Returns:\n",
        "  - urls_new: pandas Series object with strings of the URLs to read.\n",
        "  \"\"\"\n",
        "\n",
        "  urls = df[column]\n",
        "  mask = np.isin(urls, urls_old)\n",
        "  urls_new = urls[~mask]\n",
        "  print(f'There are {len(urls_new)} new URLs to read.')\n",
        "\n",
        "  return urls_new\n",
        "\n",
        "\n",
        "def read_texts_from_urls(urls_new: pd.Series, urls_old: List[str]) -> Tuple[List[str], List[int], List[int]]:\n",
        "  \"\"\"\n",
        "  Reads the relevant text from each URL.\n",
        "\n",
        "  @urls_new: pandas Series object with strings of the URLs to read.\n",
        "  @urls_old: list of strings of the URLs that have already been read.\n",
        "  \n",
        "  Returns a tuple of three elements:\n",
        "  - texts_new: list of strings of the texts read from the URLs.\n",
        "  - indexes_new: list of integers representing the indexes of the URLs that were read successfully.\n",
        "  - idx_label_to_remove: list of integers representing the indexes, starting from 0, that threw errors and should be deleted.\n",
        "  \"\"\"\n",
        "\n",
        "  texts_new = list()\n",
        "  indexes_new = list()\n",
        "\n",
        "  idx_label_to_remove = list()\n",
        "  idx_label = 0\n",
        "\n",
        "  for i, url in enumerate(urls_new, len(urls_old)):\n",
        "    try:\n",
        "      toi_article = Article(url=url, language='en')\n",
        "      toi_article.download()\n",
        "      toi_article.parse()\n",
        "      toi_article.nlp()\n",
        "      text = (toi_article.title + '. ' + toi_article.text).replace('\\n', ' ')\n",
        "      texts_new.append(text)\n",
        "      indexes_new.append(i)\n",
        "      print(f'{i}: url \"{url}\" read successfully.')\n",
        "    except Exception:\n",
        "      idx_label_to_remove.append(idx_label)\n",
        "      print(f'{i}: ERROR: url \"{url}\" was not read successfully.')\n",
        "    \n",
        "    idx_label += 1\n",
        "  \n",
        "  if idx_label_to_remove:\n",
        "    print(f'\\nWhen reading the new URLs, {len(urls_new) - len(indexes_new)} of them threw an error and could not be read.')\n",
        "  elif texts_new:\n",
        "    print('All URLs were successfully read.')\n",
        "  else:\n",
        "    print('No new URL was read.')\n",
        "\n",
        "  return texts_new, indexes_new, idx_label_to_remove\n",
        "\n",
        "\n",
        "def create_new_labels(df: pd.DataFrame, urls_to_read: pd.Series, idx_label_to_remove: List[int]) -> List[str]:\n",
        "  \"\"\"\n",
        "  Creates a list of labels for the given URLs and removes the labels corresponding to the URLs that threw errors.\n",
        "  \n",
        "  @df: pandas DataFrame containing the labels.\n",
        "  @urls_to_read: pandas Series object with strings of the URLs for which the labels should be created.\n",
        "  @idx_label_to_remove: list of integers representing the indexes of the URLs that threw errors and should have their labels removed.\n",
        "  \n",
        "  Returns:\n",
        "  - labels_new: list of labels according to the new URLs, discarding the ones that threw errors.\n",
        "  \"\"\"\n",
        "  \n",
        "  labels_new = df.loc[urls_to_read.index, TARGET]\n",
        "  assert (labels_new == df.loc[labels_new.index, TARGET]).all()\n",
        "  labels_new.reset_index(drop=True, inplace=True)\n",
        "  labels_new = labels_new.drop(idx_label_to_remove).tolist()\n",
        "\n",
        "  return labels_new\n",
        "\n",
        "\n",
        "def update_variables(old_variables: List[Any], new_variables: List[Any]) -> List[Any]:\n",
        "  \"\"\"\n",
        "  Updates the old variables with the new variables.\n",
        "  \n",
        "  @old_variables: list of variables that should be updated.\n",
        "  @new_variables: list of variables used to update the old variables, should be of same length and order as `old_variables`.\n",
        "  \n",
        "  Returns:\n",
        "  - updated_variables: list of variables that are the result of updating the old variables with the new variables.\n",
        "  \"\"\"\n",
        "\n",
        "  assert len(old_variables) == len(new_variables)\n",
        "\n",
        "  updated_variables = list()\n",
        "  zipped_variables = list(zip(old_variables, new_variables))\n",
        "\n",
        "  for old_var, new_var in zipped_variables:\n",
        "    updated_variable = old_var + new_var\n",
        "    updated_variables.append(updated_variable)\n",
        "\n",
        "  return updated_variables\n",
        "\n",
        "\n",
        "def create_df_from_lists(labels: List[str], indexes: List[int], texts: List[str], urls: List[str]) -> pd.DataFrame:\n",
        "  \"\"\"\n",
        "  Creates a pandas DataFrame with columns for URLs, texts, and labels.\n",
        "  \n",
        "  @labels: list of strings representing the labels of the articles.\n",
        "  @indexes: list of integers representing the indexes of the articles.\n",
        "  @texts: list of strings representing the texts of the articles.\n",
        "  @urls: list of strings representing the URLs of the articles.\n",
        "  \n",
        "  Returns:\n",
        "  - df_text2: pandas DataFrame with columns for URLs, texts, and labels.\n",
        "  \"\"\"\n",
        "\n",
        "  df_text2 = pd.DataFrame({\n",
        "      URL: pd.Series(urls).loc[indexes],\n",
        "      TEXT: texts,\n",
        "      TARGET: labels,\n",
        "      }).reset_index(drop=True)\n",
        "\n",
        "  return df_text2"
      ],
      "metadata": {
        "id": "pij5B9aluZnF"
      },
      "execution_count": 87,
      "outputs": []
    },
    {
      "cell_type": "code",
      "source": [
        "def remove_duplicates(df: pd.DataFrame, column: str) -> pd.DataFrame:\n",
        "  \"\"\"\n",
        "  Remove duplicate rows from a DataFrame based on a specific column.\n",
        "  \n",
        "  Parameters:\n",
        "  - df: a DataFrame with a column containing values to be checked for duplicates.\n",
        "  - column: the name of the column in the DataFrame where the values are stored.\n",
        "  \n",
        "  Returns:\n",
        "  - df: DataFrame with duplicate rows removed. If there were no duplicates, the original DataFrame is returned.\n",
        "  \"\"\"\n",
        "\n",
        "  if df[column].duplicated().any():\n",
        "    original_amount = df.shape[0]\n",
        "    df = df[~df[column].duplicated()]\n",
        "    print(f\"{original_amount - df.shape[0]} rows had duplicate values in the dataframe's column '{column}' and were deleted.\")\n",
        "    assert not df[column].duplicated().any()\n",
        "\n",
        "  else:\n",
        "    print(f\"There are no duplicate values in the dataframe's column '{column}'.\")\n",
        "  \n",
        "  return df\n",
        "\n",
        "\n",
        "def remove_rows(df: pd.DataFrame, with_errors: bool = False, irrelevant: bool = False, below_threshold: int = None) -> pd.DataFrame:\n",
        "  \"\"\"\n",
        "  Removes rows from a pandas DataFrame that meet certain conditions.\n",
        "  \n",
        "  Parameters:\n",
        "  - df: pandas DataFrame from which rows should be removed.\n",
        "  - with_errors: boolean flag indicating whether rows with URLs' texts that throw errors should be removed. If set to True, rows with texts that have less than 100 words and contain both the strings \" 404 \" and \" error \" will be removed.\n",
        "  - irrelevant: boolean flag indicating whether rows with irrelevant labels should be removed. If set to True, rows with labels that are not included in the dictionary `labels_encoded` will be removed.\n",
        "  - below_threshold: integer representing the minimum number of words that the text of a URL must contain for it to be included in the final DataFrame. Rows with texts containing fewer words than this threshold will be removed.\n",
        "\n",
        "  Returns:\n",
        "  - df: pandas DataFrame with rows that met a condition removed.\n",
        "  \"\"\"\n",
        "\n",
        "  if with_errors:\n",
        "    words = df[TEXT].str.split().str.len()\n",
        "    condition1 = words < 100 # empirical threshold\n",
        "    condition2 = df[TEXT].str.contains(' 404 ')\n",
        "    condition3 = df[TEXT].str.contains(' error ')\n",
        "    df = df[~(condition1 & condition2 & condition3)]\n",
        "\n",
        "  if irrelevant:\n",
        "    df = df[df[TARGET].isin(labels_encoded)]\n",
        "    df.reset_index(drop=True, inplace=True)\n",
        "\n",
        "  # If the words that the text a URL contains is below this threshold, the row is discarded\n",
        "  if below_threshold:\n",
        "    words = df[TEXT].str.split().str.len()\n",
        "    df = df[words >= below_threshold]\n",
        "\n",
        "  return df\n",
        "\n",
        "\n",
        "def text_preprocessing(text: str, lemmatize: bool = False, clean: bool = False) -> str:\n",
        "  \"\"\"\n",
        "  Preprocess text by applying lemmatization and cleaning operations.\n",
        "  \n",
        "  Parameters:\n",
        "  - text: a string of the text to be preprocessed.\n",
        "  - lemmatize: a flag indicating whether to apply lemmatization to the text. Default is False.\n",
        "  - clean: a flag indicating whether to clean the text. Default is False.\n",
        "  \n",
        "  Returns:\n",
        "  - text: a string of the preprocessed text.\n",
        "  \"\"\"\n",
        "\n",
        "  if lemmatize:\n",
        "    text = ' '.join(token.lemma_ for token in nlp(text))\n",
        "  \n",
        "  if clean:\n",
        "    text = REPLACE_BY_SPACE_RE.sub(' ', text)\n",
        "    text = BAD_SYMBOLS_RE.sub('', text)\n",
        "    text = ' '.join(word for word in text.split() if word not in STOPWORDS)\n",
        "\n",
        "  return text"
      ],
      "metadata": {
        "id": "RTB1aY4ozErs"
      },
      "execution_count": null,
      "outputs": []
    },
    {
      "cell_type": "code",
      "source": [
        "def split_data(df: pd.DataFrame, column: str, test_size: float = 0.2, val_size: float = None, random_state: int = None) -> Union[Tuple[pd.DataFrame, pd.DataFrame, pd.Series, pd.Series], Tuple[pd.DataFrame, pd.DataFrame, pd.DataFrame, pd.Series, pd.Series, pd.Series]]:\n",
        "  \"\"\"\n",
        "  Splits a pandas DataFrame into training, validation (if needed), and test sets.\n",
        "  Data is split in a stratified fashion according to `df[TARGET]`.\n",
        "  \n",
        "  Parameters:\n",
        "  - df: pandas DataFrame containing the data to be split.\n",
        "  - column: name of the column in the DataFrame to be used as the input data (X).\n",
        "  - test_size: float representing the proportion of the whole data to be used for the test set. Must be between 0.0 and 1.0.\n",
        "  - val_size: float representing the proportion of the whole data to be used for the validation set. Must be between 0.0 and 1.0.\n",
        "  - random_state: integer seed for the random number generator.\n",
        "  \n",
        "  Returns:\n",
        "  - X_train: pandas DataFrame containing the input data for the training set.\n",
        "  - (if `val_size` is provided) X_val: pandas DataFrame containing the input data for the validation set.\n",
        "  - X_test: pandas DataFrame containing the input data for the test set.\n",
        "  - y_train: pandas Series containing the target data for the training set.\n",
        "  - (if `val_size` is provided) y_val: pandas Series containing the target data for the validation set.\n",
        "  - y_test: pandas Series containing the target data for the test set.\n",
        "  \"\"\"\n",
        "\n",
        "  X = df[[column]]\n",
        "  y = df[TARGET]\n",
        "\n",
        "  X_train, X_test, y_train, y_test = train_test_split(X, y, \n",
        "                                                      test_size=test_size,\n",
        "                                                      stratify=y, \n",
        "                                                      random_state=random_state\n",
        "                                                      )\n",
        "  \n",
        "  if val_size:\n",
        "    X_train, X_val, y_train, y_val = train_test_split(X_train, y_train, \n",
        "                                                      test_size=1/((1-test_size)/val_size),\n",
        "                                                      stratify=y_train, \n",
        "                                                      random_state=random_state)\n",
        "    \n",
        "    return X_train, X_val, X_test, y_train, y_val, y_test\n",
        "\n",
        "  return X_train, X_test, y_train, y_test\n",
        "\n",
        "\n",
        "def vectorize_data(column: str, X_train: pd.DataFrame, X_test: pd.DataFrame, X_val: pd.DataFrame = None, ngram_range: Tuple[int, int] = (1, 1)) -> Union[Tuple[pd.DataFrame, pd.DataFrame], Tuple[pd.DataFrame, pd.DataFrame, pd.DataFrame]]:\n",
        "  \"\"\"\n",
        "  Vectorizes the data in a pandas DataFrame column using the TfidfVectorizer.\n",
        "  \n",
        "  Parameters:\n",
        "  - column: name of the column in the DataFrame to be vectorized.\n",
        "  - X_train: pandas DataFrame containing the input data for the training set.\n",
        "  - X_test: pandas DataFrame containing the input data for the test set.\n",
        "  - X_val: (optional) pandas DataFrame containing the input data for the validation set.\n",
        "  - ngram_range: tuple of integers specifying the lower and upper boundaries of the range of n-values for different n-grams to be extracted.\n",
        "  \n",
        "  Returns:\n",
        "  - X_train: pandas DataFrame containing the vectorized input data for the training set.\n",
        "  - X_test: pandas DataFrame containing the vectorized input data for the test set.\n",
        "  - (if `X_val` is provided) X_val: pandas DataFrame containing the vectorized input data for the validation set.\n",
        "  \"\"\"\n",
        "\n",
        "  vectorizer = TfidfVectorizer(ngram_range=ngram_range)\n",
        "  X_train_tr = vectorizer.fit_transform(X_train[column])\n",
        "  X_test_tr = vectorizer.transform(X_test[column])\n",
        "\n",
        "  if X_val:\n",
        "    X_val_tr = vectorizer.transform(X_val[column])\n",
        "\n",
        "    return X_train_tr, X_val_tr, X_test_tr\n",
        "\n",
        "  return X_train_tr, X_test_tr"
      ],
      "metadata": {
        "id": "W1nD2opwwomj"
      },
      "execution_count": null,
      "outputs": []
    },
    {
      "cell_type": "markdown",
      "metadata": {
        "id": "USmRK3kDqLiQ"
      },
      "source": [
        "## Modeling"
      ]
    },
    {
      "cell_type": "code",
      "execution_count": 88,
      "metadata": {
        "id": "guCVwFCNqQhY"
      },
      "outputs": [],
      "source": [
        "def fit_model(clf, X_train, y_train):\n",
        "  clf.fit(X_train, y_train)\n",
        "  return clf\n",
        "\n",
        "\n",
        "def predict(clf, X_test):\n",
        "  y_pred = clf.predict(X_test)\n",
        "  return y_pred\n",
        "\n",
        "\n",
        "def get_accuracy(y_test, y_pred):\n",
        "  accuracy = sum(y_pred == y_test) / len(y_test)\n",
        "  return accuracy\n",
        "\n",
        "\n",
        "def create_misclassified_df(X_test, y_test, y_pred):\n",
        "  if type(y_pred) == np.ndarray and type(y_test) == pd.core.series.Series:\n",
        "    y_pred = pd.Series(y_pred, index=y_test.index) # setting y_pred to same type and indexes as y_test\n",
        "  \n",
        "  mask = y_pred != y_test\n",
        "  \n",
        "  if type(y_pred) == np.ndarray and type(y_test) == np.ndarray:\n",
        "    y_pred = pd.Series(y_pred)\n",
        "    y_test = pd.Series(y_test)\n",
        "    \n",
        "  df = X_test.copy()[mask]\n",
        "  df['y_true'] = y_test[mask].replace(labels_decoded)\n",
        "  df['y_pred'] = y_pred[mask].replace(labels_decoded) \n",
        "  return df\n",
        "  "
      ]
    },
    {
      "cell_type": "markdown",
      "source": [
        "## EDA (not needed in the .py file):"
      ],
      "metadata": {
        "id": "5pvCA0rrs4dD"
      }
    },
    {
      "cell_type": "code",
      "source": [
        "def check_if_exists(variable_name):\n",
        "  \"\"\"\n",
        "  Checks if a variable exists in the global scope.\n",
        "\n",
        "  @variable_name: name of the variable\n",
        "\n",
        "  Returns:\n",
        "  None\n",
        "  \"\"\"\n",
        "  \n",
        "  if variable_name in globals():\n",
        "    print(f'Variable \"{variable_name}\" exists.')\n",
        "  else:\n",
        "    print(f'Variable \"{variable_name}\" does not exist.')\n",
        "\n",
        "\n",
        "def get_most_common_tokens(df, column, amount=10):\n",
        "  tokenized = [word_tokenize(string) for string in df[column]]\n",
        "  flat_list = [item for sublist in tokenized for item in sublist]\n",
        "  return Counter(flat_list).most_common(amount)\n",
        "\n",
        "\n",
        "def print_important_features(clf, vectorizer, features=5):\n",
        "  \"\"\" \n",
        "  Get the most important features of a classifier when using a linear kernel (e.g. Logistic Regression)\n",
        "  \"\"\"\n",
        "  coef_importances = np.argsort(clf.coef_, axis=1)\n",
        "  \n",
        "  for i, class_ in enumerate(coef_importances[:, :features]):\n",
        "      print(f'Class \"{labels_decoded[clf.classes_[i]]}\" - {features} most important features: '\n",
        "            f'{vectorizer.get_feature_names_out()[class_]}')\n",
        "      \n",
        "\n",
        "def get_best_clf(clfs, X_train, X_test, y_train, y_test):\n",
        "    results = []\n",
        "    best_clf = None\n",
        "    best_clf_name = None\n",
        "    best_accuracy = 0\n",
        "\n",
        "    for clf_name, clf in clfs:\n",
        "        clf.fit(X_train, y_train)\n",
        "        acc = clf.score(X_test, y_test) # accuracy score\n",
        "        \n",
        "        if acc > best_accuracy:\n",
        "            best_accuracy = acc\n",
        "            best_clf = clf\n",
        "            best_clf_name = clf_name\n",
        "\n",
        "        results.append({'clf': clf_name,\n",
        "                        'accuracy': acc})\n",
        "        \n",
        "    print(pd.DataFrame(results).set_index('clf'))\n",
        "    return best_clf, best_clf_name, best_accuracy\n",
        "\n",
        "\n",
        "\n",
        "def print_train_val_len_start(train_index, val_index):\n",
        "    print(f'TRAIN index len: {len(train_index)}, start: {train_index[:3]}, '\n",
        "          f'\\tVALIDATION index len: {len(val_index)}, start: {val_index[:3]}')\n",
        "\n",
        "\n",
        "def print_val_scores(scores, extra_info=False):\n",
        "    print(f'Cross validation scores: mean: {np.mean(scores):.3f}, all: {[round(score, 3) for score in scores]}')\n",
        "    if extra_info:\n",
        "        print('(std: {np.std(scores):.3f}, min: {min(scores):.3f}, max: {max(scores):.3f})')\n",
        "\n",
        "\n",
        "def print_confusion_matrix(y_test, y_pred, with_report=False):\n",
        "\n",
        "  accuracy = get_accuracy(y_test, y_pred)\n",
        "\n",
        "  y_test = list(map(lambda x: labels_decoded[x], y_test))\n",
        "  y_pred = list(map(lambda x: labels_decoded[x], y_pred))\n",
        "\n",
        "  ConfusionMatrixDisplay.from_predictions(y_test, y_pred)\n",
        "  plt.title(f'Confusion matrix - acc {accuracy:.3f}', size=15)\n",
        "  plt.show()\n",
        "  if with_report:\n",
        "    print('\\n' + classification_report(y_test, y_pred))"
      ],
      "metadata": {
        "id": "Iti-V6NAtCaR"
      },
      "execution_count": 89,
      "outputs": []
    },
    {
      "cell_type": "markdown",
      "metadata": {
        "id": "5G9XYkHXS-VR"
      },
      "source": [
        "# 0.3 (Optional) Load \"df_text1\""
      ]
    },
    {
      "cell_type": "code",
      "execution_count": 13,
      "metadata": {
        "colab": {
          "base_uri": "https://localhost:8080/"
        },
        "id": "2rwBFwhITAm-",
        "outputId": "64cfbe5b-ec04-48ce-b143-cbd41da20433"
      },
      "outputs": [
        {
          "output_type": "stream",
          "name": "stdout",
          "text": [
            "Variable \"df_text1\" does not exist.\n",
            "Reading variable \"df_text1\"...\n",
            "Variable \"df_text1\" exists.\n"
          ]
        }
      ],
      "source": [
        "VARIABLE = 'df_text1'\n",
        "\n",
        "check_if_exists(VARIABLE)\n",
        "print(f'Reading variable \"{VARIABLE}\"...')\n",
        "df_text1 = read_variable(VARIABLE)\n",
        "check_if_exists(VARIABLE)"
      ]
    },
    {
      "cell_type": "code",
      "source": [
        "df_text1"
      ],
      "metadata": {
        "colab": {
          "base_uri": "https://localhost:8080/",
          "height": 424
        },
        "id": "gaBZvjv2Sn2P",
        "outputId": "4811d431-6da9-4fd4-d3ec-6b4ab0e440ae"
      },
      "execution_count": 14,
      "outputs": [
        {
          "output_type": "execute_result",
          "data": {
            "text/plain": [
              "                                                  text         label\n",
              "0    2020 User Summit. 2020 User Summit  *UPDATE - ...         Event\n",
              "1    When Is ADA Compliance Legally Required?. The ...   White Paper\n",
              "2    Write For Us. Want to Write for Us?  Digital L...          MISC\n",
              "3    Write for Us. Yes, you. We’re always looking f...          MISC\n",
              "4    FAQs for some new features available in the Be...          Blog\n",
              "..                                                 ...           ...\n",
              "456  The Art of SEO, 2nd Edition. Four acknowledged...  Product Page\n",
              "457  Submit A Guest Post – Guidelines (Write for Us...          MISC\n",
              "458  Fully Managed Magento Hosting — JetRails. Full...          MISC\n",
              "459  Mission-Critical Hosting For Magento Open Sour...          MISC\n",
              "460  How to Write an Engaging Title Tag for Better ...          Blog\n",
              "\n",
              "[461 rows x 2 columns]"
            ],
            "text/html": [
              "\n",
              "  <div id=\"df-23a26e04-1c25-4c24-adcc-f41946659dd4\">\n",
              "    <div class=\"colab-df-container\">\n",
              "      <div>\n",
              "<style scoped>\n",
              "    .dataframe tbody tr th:only-of-type {\n",
              "        vertical-align: middle;\n",
              "    }\n",
              "\n",
              "    .dataframe tbody tr th {\n",
              "        vertical-align: top;\n",
              "    }\n",
              "\n",
              "    .dataframe thead th {\n",
              "        text-align: right;\n",
              "    }\n",
              "</style>\n",
              "<table border=\"1\" class=\"dataframe\">\n",
              "  <thead>\n",
              "    <tr style=\"text-align: right;\">\n",
              "      <th></th>\n",
              "      <th>text</th>\n",
              "      <th>label</th>\n",
              "    </tr>\n",
              "  </thead>\n",
              "  <tbody>\n",
              "    <tr>\n",
              "      <th>0</th>\n",
              "      <td>2020 User Summit. 2020 User Summit  *UPDATE - ...</td>\n",
              "      <td>Event</td>\n",
              "    </tr>\n",
              "    <tr>\n",
              "      <th>1</th>\n",
              "      <td>When Is ADA Compliance Legally Required?. The ...</td>\n",
              "      <td>White Paper</td>\n",
              "    </tr>\n",
              "    <tr>\n",
              "      <th>2</th>\n",
              "      <td>Write For Us. Want to Write for Us?  Digital L...</td>\n",
              "      <td>MISC</td>\n",
              "    </tr>\n",
              "    <tr>\n",
              "      <th>3</th>\n",
              "      <td>Write for Us. Yes, you. We’re always looking f...</td>\n",
              "      <td>MISC</td>\n",
              "    </tr>\n",
              "    <tr>\n",
              "      <th>4</th>\n",
              "      <td>FAQs for some new features available in the Be...</td>\n",
              "      <td>Blog</td>\n",
              "    </tr>\n",
              "    <tr>\n",
              "      <th>...</th>\n",
              "      <td>...</td>\n",
              "      <td>...</td>\n",
              "    </tr>\n",
              "    <tr>\n",
              "      <th>456</th>\n",
              "      <td>The Art of SEO, 2nd Edition. Four acknowledged...</td>\n",
              "      <td>Product Page</td>\n",
              "    </tr>\n",
              "    <tr>\n",
              "      <th>457</th>\n",
              "      <td>Submit A Guest Post – Guidelines (Write for Us...</td>\n",
              "      <td>MISC</td>\n",
              "    </tr>\n",
              "    <tr>\n",
              "      <th>458</th>\n",
              "      <td>Fully Managed Magento Hosting — JetRails. Full...</td>\n",
              "      <td>MISC</td>\n",
              "    </tr>\n",
              "    <tr>\n",
              "      <th>459</th>\n",
              "      <td>Mission-Critical Hosting For Magento Open Sour...</td>\n",
              "      <td>MISC</td>\n",
              "    </tr>\n",
              "    <tr>\n",
              "      <th>460</th>\n",
              "      <td>How to Write an Engaging Title Tag for Better ...</td>\n",
              "      <td>Blog</td>\n",
              "    </tr>\n",
              "  </tbody>\n",
              "</table>\n",
              "<p>461 rows × 2 columns</p>\n",
              "</div>\n",
              "      <button class=\"colab-df-convert\" onclick=\"convertToInteractive('df-23a26e04-1c25-4c24-adcc-f41946659dd4')\"\n",
              "              title=\"Convert this dataframe to an interactive table.\"\n",
              "              style=\"display:none;\">\n",
              "        \n",
              "  <svg xmlns=\"http://www.w3.org/2000/svg\" height=\"24px\"viewBox=\"0 0 24 24\"\n",
              "       width=\"24px\">\n",
              "    <path d=\"M0 0h24v24H0V0z\" fill=\"none\"/>\n",
              "    <path d=\"M18.56 5.44l.94 2.06.94-2.06 2.06-.94-2.06-.94-.94-2.06-.94 2.06-2.06.94zm-11 1L8.5 8.5l.94-2.06 2.06-.94-2.06-.94L8.5 2.5l-.94 2.06-2.06.94zm10 10l.94 2.06.94-2.06 2.06-.94-2.06-.94-.94-2.06-.94 2.06-2.06.94z\"/><path d=\"M17.41 7.96l-1.37-1.37c-.4-.4-.92-.59-1.43-.59-.52 0-1.04.2-1.43.59L10.3 9.45l-7.72 7.72c-.78.78-.78 2.05 0 2.83L4 21.41c.39.39.9.59 1.41.59.51 0 1.02-.2 1.41-.59l7.78-7.78 2.81-2.81c.8-.78.8-2.07 0-2.86zM5.41 20L4 18.59l7.72-7.72 1.47 1.35L5.41 20z\"/>\n",
              "  </svg>\n",
              "      </button>\n",
              "      \n",
              "  <style>\n",
              "    .colab-df-container {\n",
              "      display:flex;\n",
              "      flex-wrap:wrap;\n",
              "      gap: 12px;\n",
              "    }\n",
              "\n",
              "    .colab-df-convert {\n",
              "      background-color: #E8F0FE;\n",
              "      border: none;\n",
              "      border-radius: 50%;\n",
              "      cursor: pointer;\n",
              "      display: none;\n",
              "      fill: #1967D2;\n",
              "      height: 32px;\n",
              "      padding: 0 0 0 0;\n",
              "      width: 32px;\n",
              "    }\n",
              "\n",
              "    .colab-df-convert:hover {\n",
              "      background-color: #E2EBFA;\n",
              "      box-shadow: 0px 1px 2px rgba(60, 64, 67, 0.3), 0px 1px 3px 1px rgba(60, 64, 67, 0.15);\n",
              "      fill: #174EA6;\n",
              "    }\n",
              "\n",
              "    [theme=dark] .colab-df-convert {\n",
              "      background-color: #3B4455;\n",
              "      fill: #D2E3FC;\n",
              "    }\n",
              "\n",
              "    [theme=dark] .colab-df-convert:hover {\n",
              "      background-color: #434B5C;\n",
              "      box-shadow: 0px 1px 3px 1px rgba(0, 0, 0, 0.15);\n",
              "      filter: drop-shadow(0px 1px 2px rgba(0, 0, 0, 0.3));\n",
              "      fill: #FFFFFF;\n",
              "    }\n",
              "  </style>\n",
              "\n",
              "      <script>\n",
              "        const buttonEl =\n",
              "          document.querySelector('#df-23a26e04-1c25-4c24-adcc-f41946659dd4 button.colab-df-convert');\n",
              "        buttonEl.style.display =\n",
              "          google.colab.kernel.accessAllowed ? 'block' : 'none';\n",
              "\n",
              "        async function convertToInteractive(key) {\n",
              "          const element = document.querySelector('#df-23a26e04-1c25-4c24-adcc-f41946659dd4');\n",
              "          const dataTable =\n",
              "            await google.colab.kernel.invokeFunction('convertToInteractive',\n",
              "                                                     [key], {});\n",
              "          if (!dataTable) return;\n",
              "\n",
              "          const docLinkHtml = 'Like what you see? Visit the ' +\n",
              "            '<a target=\"_blank\" href=https://colab.research.google.com/notebooks/data_table.ipynb>data table notebook</a>'\n",
              "            + ' to learn more about interactive tables.';\n",
              "          element.innerHTML = '';\n",
              "          dataTable['output_type'] = 'display_data';\n",
              "          await google.colab.output.renderOutput(dataTable, element);\n",
              "          const docLink = document.createElement('div');\n",
              "          docLink.innerHTML = docLinkHtml;\n",
              "          element.appendChild(docLink);\n",
              "        }\n",
              "      </script>\n",
              "    </div>\n",
              "  </div>\n",
              "  "
            ]
          },
          "metadata": {},
          "execution_count": 14
        }
      ]
    },
    {
      "cell_type": "markdown",
      "metadata": {
        "id": "GdUa4JQWiS-j"
      },
      "source": [
        "# 0.4 (Optional) Load \"df_text2\""
      ]
    },
    {
      "cell_type": "code",
      "execution_count": 15,
      "metadata": {
        "colab": {
          "base_uri": "https://localhost:8080/"
        },
        "id": "pv5HSQJ3kOgm",
        "outputId": "741c79af-2bea-4b3f-c4a5-7033645ccf43"
      },
      "outputs": [
        {
          "output_type": "stream",
          "name": "stdout",
          "text": [
            "Variable \"df_text2\" does not exist.\n",
            "Reading variable \"df_text2\"...\n",
            "Variable \"df_text2\" exists.\n"
          ]
        }
      ],
      "source": [
        "VARIABLE = 'df_text2'\n",
        "\n",
        "check_if_exists(VARIABLE)\n",
        "print(f'Reading variable \"{VARIABLE}\"...')\n",
        "df_text2 = read_variable(VARIABLE)\n",
        "check_if_exists(VARIABLE)"
      ]
    },
    {
      "cell_type": "code",
      "execution_count": 16,
      "metadata": {
        "colab": {
          "base_uri": "https://localhost:8080/",
          "height": 0
        },
        "id": "r1tLPsCmMEEV",
        "outputId": "64134fd6-3d1c-4ca7-8e6d-0cf1207d1434"
      },
      "outputs": [
        {
          "output_type": "execute_result",
          "data": {
            "text/plain": [
              "                                                    url  \\\n",
              "0     http://www.nctech.org/events/event/2021/awards...   \n",
              "1                             http://cdd-biologics.com/   \n",
              "2                                 http://sfesummit.com/   \n",
              "3      http://www.obviohealth.com/events/informa-1-2021   \n",
              "4                     http://www.genesisconference.com/   \n",
              "...                                                 ...   \n",
              "1014         http://www.entrepreneur.com/article/400416   \n",
              "1015  http://www.koreabiomed.com/news/articleView.ht...   \n",
              "1016  http://www.finsmes.com/2021/10/science-37-clos...   \n",
              "1017  http://seekingalpha.com/article/4450420-labora...   \n",
              "1018  http://washingtontechnology.com/companies/2022...   \n",
              "\n",
              "                                                   text    label  \n",
              "0     NC TECH Awards Gala. #nctechawards  Awards Gal...    Event  \n",
              "1     Computational Drug Development for Biologics 2...    Event  \n",
              "2     12th Annual Sales Force Effectiveness & Digita...    Event  \n",
              "3     ObvioHealth. MAGI Clinical Research Conference...  Webinar  \n",
              "4                                 Home : Genesis 2022.     Event  \n",
              "...                                                 ...      ...  \n",
              "1014  Veeva Systems is a Top Stock for 2022. Veeva S...  Article  \n",
              "1015  Medidata’s Acorn AI solution raises clinical t...  Article  \n",
              "1016  Science 37 Closes Business Combination with Li...        ?  \n",
              "1017  Laboratory Corp: 18%-20% Yearly Return With Sa...        -  \n",
              "1018  Accenture’s federal arm hires new applied inte...  Article  \n",
              "\n",
              "[1019 rows x 3 columns]"
            ],
            "text/html": [
              "\n",
              "  <div id=\"df-dcbfc830-7c3d-41ca-8e86-cf6dee26e94a\">\n",
              "    <div class=\"colab-df-container\">\n",
              "      <div>\n",
              "<style scoped>\n",
              "    .dataframe tbody tr th:only-of-type {\n",
              "        vertical-align: middle;\n",
              "    }\n",
              "\n",
              "    .dataframe tbody tr th {\n",
              "        vertical-align: top;\n",
              "    }\n",
              "\n",
              "    .dataframe thead th {\n",
              "        text-align: right;\n",
              "    }\n",
              "</style>\n",
              "<table border=\"1\" class=\"dataframe\">\n",
              "  <thead>\n",
              "    <tr style=\"text-align: right;\">\n",
              "      <th></th>\n",
              "      <th>url</th>\n",
              "      <th>text</th>\n",
              "      <th>label</th>\n",
              "    </tr>\n",
              "  </thead>\n",
              "  <tbody>\n",
              "    <tr>\n",
              "      <th>0</th>\n",
              "      <td>http://www.nctech.org/events/event/2021/awards...</td>\n",
              "      <td>NC TECH Awards Gala. #nctechawards  Awards Gal...</td>\n",
              "      <td>Event</td>\n",
              "    </tr>\n",
              "    <tr>\n",
              "      <th>1</th>\n",
              "      <td>http://cdd-biologics.com/</td>\n",
              "      <td>Computational Drug Development for Biologics 2...</td>\n",
              "      <td>Event</td>\n",
              "    </tr>\n",
              "    <tr>\n",
              "      <th>2</th>\n",
              "      <td>http://sfesummit.com/</td>\n",
              "      <td>12th Annual Sales Force Effectiveness &amp; Digita...</td>\n",
              "      <td>Event</td>\n",
              "    </tr>\n",
              "    <tr>\n",
              "      <th>3</th>\n",
              "      <td>http://www.obviohealth.com/events/informa-1-2021</td>\n",
              "      <td>ObvioHealth. MAGI Clinical Research Conference...</td>\n",
              "      <td>Webinar</td>\n",
              "    </tr>\n",
              "    <tr>\n",
              "      <th>4</th>\n",
              "      <td>http://www.genesisconference.com/</td>\n",
              "      <td>Home : Genesis 2022.</td>\n",
              "      <td>Event</td>\n",
              "    </tr>\n",
              "    <tr>\n",
              "      <th>...</th>\n",
              "      <td>...</td>\n",
              "      <td>...</td>\n",
              "      <td>...</td>\n",
              "    </tr>\n",
              "    <tr>\n",
              "      <th>1014</th>\n",
              "      <td>http://www.entrepreneur.com/article/400416</td>\n",
              "      <td>Veeva Systems is a Top Stock for 2022. Veeva S...</td>\n",
              "      <td>Article</td>\n",
              "    </tr>\n",
              "    <tr>\n",
              "      <th>1015</th>\n",
              "      <td>http://www.koreabiomed.com/news/articleView.ht...</td>\n",
              "      <td>Medidata’s Acorn AI solution raises clinical t...</td>\n",
              "      <td>Article</td>\n",
              "    </tr>\n",
              "    <tr>\n",
              "      <th>1016</th>\n",
              "      <td>http://www.finsmes.com/2021/10/science-37-clos...</td>\n",
              "      <td>Science 37 Closes Business Combination with Li...</td>\n",
              "      <td>?</td>\n",
              "    </tr>\n",
              "    <tr>\n",
              "      <th>1017</th>\n",
              "      <td>http://seekingalpha.com/article/4450420-labora...</td>\n",
              "      <td>Laboratory Corp: 18%-20% Yearly Return With Sa...</td>\n",
              "      <td>-</td>\n",
              "    </tr>\n",
              "    <tr>\n",
              "      <th>1018</th>\n",
              "      <td>http://washingtontechnology.com/companies/2022...</td>\n",
              "      <td>Accenture’s federal arm hires new applied inte...</td>\n",
              "      <td>Article</td>\n",
              "    </tr>\n",
              "  </tbody>\n",
              "</table>\n",
              "<p>1019 rows × 3 columns</p>\n",
              "</div>\n",
              "      <button class=\"colab-df-convert\" onclick=\"convertToInteractive('df-dcbfc830-7c3d-41ca-8e86-cf6dee26e94a')\"\n",
              "              title=\"Convert this dataframe to an interactive table.\"\n",
              "              style=\"display:none;\">\n",
              "        \n",
              "  <svg xmlns=\"http://www.w3.org/2000/svg\" height=\"24px\"viewBox=\"0 0 24 24\"\n",
              "       width=\"24px\">\n",
              "    <path d=\"M0 0h24v24H0V0z\" fill=\"none\"/>\n",
              "    <path d=\"M18.56 5.44l.94 2.06.94-2.06 2.06-.94-2.06-.94-.94-2.06-.94 2.06-2.06.94zm-11 1L8.5 8.5l.94-2.06 2.06-.94-2.06-.94L8.5 2.5l-.94 2.06-2.06.94zm10 10l.94 2.06.94-2.06 2.06-.94-2.06-.94-.94-2.06-.94 2.06-2.06.94z\"/><path d=\"M17.41 7.96l-1.37-1.37c-.4-.4-.92-.59-1.43-.59-.52 0-1.04.2-1.43.59L10.3 9.45l-7.72 7.72c-.78.78-.78 2.05 0 2.83L4 21.41c.39.39.9.59 1.41.59.51 0 1.02-.2 1.41-.59l7.78-7.78 2.81-2.81c.8-.78.8-2.07 0-2.86zM5.41 20L4 18.59l7.72-7.72 1.47 1.35L5.41 20z\"/>\n",
              "  </svg>\n",
              "      </button>\n",
              "      \n",
              "  <style>\n",
              "    .colab-df-container {\n",
              "      display:flex;\n",
              "      flex-wrap:wrap;\n",
              "      gap: 12px;\n",
              "    }\n",
              "\n",
              "    .colab-df-convert {\n",
              "      background-color: #E8F0FE;\n",
              "      border: none;\n",
              "      border-radius: 50%;\n",
              "      cursor: pointer;\n",
              "      display: none;\n",
              "      fill: #1967D2;\n",
              "      height: 32px;\n",
              "      padding: 0 0 0 0;\n",
              "      width: 32px;\n",
              "    }\n",
              "\n",
              "    .colab-df-convert:hover {\n",
              "      background-color: #E2EBFA;\n",
              "      box-shadow: 0px 1px 2px rgba(60, 64, 67, 0.3), 0px 1px 3px 1px rgba(60, 64, 67, 0.15);\n",
              "      fill: #174EA6;\n",
              "    }\n",
              "\n",
              "    [theme=dark] .colab-df-convert {\n",
              "      background-color: #3B4455;\n",
              "      fill: #D2E3FC;\n",
              "    }\n",
              "\n",
              "    [theme=dark] .colab-df-convert:hover {\n",
              "      background-color: #434B5C;\n",
              "      box-shadow: 0px 1px 3px 1px rgba(0, 0, 0, 0.15);\n",
              "      filter: drop-shadow(0px 1px 2px rgba(0, 0, 0, 0.3));\n",
              "      fill: #FFFFFF;\n",
              "    }\n",
              "  </style>\n",
              "\n",
              "      <script>\n",
              "        const buttonEl =\n",
              "          document.querySelector('#df-dcbfc830-7c3d-41ca-8e86-cf6dee26e94a button.colab-df-convert');\n",
              "        buttonEl.style.display =\n",
              "          google.colab.kernel.accessAllowed ? 'block' : 'none';\n",
              "\n",
              "        async function convertToInteractive(key) {\n",
              "          const element = document.querySelector('#df-dcbfc830-7c3d-41ca-8e86-cf6dee26e94a');\n",
              "          const dataTable =\n",
              "            await google.colab.kernel.invokeFunction('convertToInteractive',\n",
              "                                                     [key], {});\n",
              "          if (!dataTable) return;\n",
              "\n",
              "          const docLinkHtml = 'Like what you see? Visit the ' +\n",
              "            '<a target=\"_blank\" href=https://colab.research.google.com/notebooks/data_table.ipynb>data table notebook</a>'\n",
              "            + ' to learn more about interactive tables.';\n",
              "          element.innerHTML = '';\n",
              "          dataTable['output_type'] = 'display_data';\n",
              "          await google.colab.output.renderOutput(dataTable, element);\n",
              "          const docLink = document.createElement('div');\n",
              "          docLink.innerHTML = docLinkHtml;\n",
              "          element.appendChild(docLink);\n",
              "        }\n",
              "      </script>\n",
              "    </div>\n",
              "  </div>\n",
              "  "
            ]
          },
          "metadata": {},
          "execution_count": 16
        }
      ],
      "source": [
        "df_text2"
      ]
    },
    {
      "cell_type": "markdown",
      "metadata": {
        "id": "W3WHVdpY2x8u"
      },
      "source": [
        "# 0.5 (Optional) Load \"df_text\""
      ]
    },
    {
      "cell_type": "code",
      "execution_count": 17,
      "metadata": {
        "colab": {
          "base_uri": "https://localhost:8080/"
        },
        "id": "8rJocXLB23Vz",
        "outputId": "ea167892-581e-4f8b-b3bf-f4a6b1fea717"
      },
      "outputs": [
        {
          "output_type": "stream",
          "name": "stdout",
          "text": [
            "Variable \"df_text\" does not exist.\n",
            "Reading variable \"df_text\"...\n",
            "Variable \"df_text\" exists.\n"
          ]
        }
      ],
      "source": [
        "VARIABLE = 'df_text'\n",
        "\n",
        "check_if_exists(VARIABLE)\n",
        "print(f'Reading variable \"{VARIABLE}\"...')\n",
        "df_text = read_variable(VARIABLE)\n",
        "check_if_exists(VARIABLE)"
      ]
    },
    {
      "cell_type": "code",
      "source": [
        "df_text"
      ],
      "metadata": {
        "colab": {
          "base_uri": "https://localhost:8080/",
          "height": 424
        },
        "id": "ludGXcXlStTz",
        "outputId": "a6e85872-3201-4470-82f3-17ebb90d0e6c"
      },
      "execution_count": 18,
      "outputs": [
        {
          "output_type": "execute_result",
          "data": {
            "text/plain": [
              "                                                  text    label  \\\n",
              "0    2020 User Summit. 2020 User Summit  *UPDATE - ...    Event   \n",
              "1    Write For Us. Want to Write for Us?  Digital L...     MISC   \n",
              "2    Write for Us. Yes, you. We’re always looking f...     MISC   \n",
              "3    FAQs for some new features available in the Be...     Blog   \n",
              "4    The Best Nootropic Stack to Replace Adderall &...  Article   \n",
              "..                                                 ...      ...   \n",
              "959  Veeva Systems Korea aims to become cloud SW le...  Article   \n",
              "960  Digital transformation of clinical research ac...  Article   \n",
              "961  Veeva Systems is a Top Stock for 2022. Veeva S...  Article   \n",
              "962  Medidata’s Acorn AI solution raises clinical t...  Article   \n",
              "963  Accenture’s federal arm hires new applied inte...  Article   \n",
              "\n",
              "                                                   url  \\\n",
              "0                                                  NaN   \n",
              "1                                                  NaN   \n",
              "2                                                  NaN   \n",
              "3                                                  NaN   \n",
              "4                                                  NaN   \n",
              "..                                                 ...   \n",
              "959  http://www.koreabiomed.com/news/articleView.ht...   \n",
              "960  http://www.outsourcing-pharma.com/Article/2021...   \n",
              "961         http://www.entrepreneur.com/article/400416   \n",
              "962  http://www.koreabiomed.com/news/articleView.ht...   \n",
              "963  http://washingtontechnology.com/companies/2022...   \n",
              "\n",
              "                               cleaned_lemmatized_text  \n",
              "0    2020 User Summit 2020 User Summit update March...  \n",
              "1    write want write Digital Lamp one fast grow te...  \n",
              "2    write yes always look new author get idea chal...  \n",
              "3    FAQs new feature available Beta Wayback Machin...  \n",
              "4    Best Nootropic Stack replace Adderall Ritalin ...  \n",
              "..                                                 ...  \n",
              "959  Veeva Systems Korea aim become cloud SW leader...  \n",
              "960  digital transformation clinical research accel...  \n",
              "961  Veeva Systems Top Stock 2022 Veeva Systems VEE...  \n",
              "962  Medidata Acorn AI solution raise clinical tria...  \n",
              "963  Accenture federal arm hire new apply intellige...  \n",
              "\n",
              "[857 rows x 4 columns]"
            ],
            "text/html": [
              "\n",
              "  <div id=\"df-6cf5b4f1-b35a-4573-8689-99acb6c22d07\">\n",
              "    <div class=\"colab-df-container\">\n",
              "      <div>\n",
              "<style scoped>\n",
              "    .dataframe tbody tr th:only-of-type {\n",
              "        vertical-align: middle;\n",
              "    }\n",
              "\n",
              "    .dataframe tbody tr th {\n",
              "        vertical-align: top;\n",
              "    }\n",
              "\n",
              "    .dataframe thead th {\n",
              "        text-align: right;\n",
              "    }\n",
              "</style>\n",
              "<table border=\"1\" class=\"dataframe\">\n",
              "  <thead>\n",
              "    <tr style=\"text-align: right;\">\n",
              "      <th></th>\n",
              "      <th>text</th>\n",
              "      <th>label</th>\n",
              "      <th>url</th>\n",
              "      <th>cleaned_lemmatized_text</th>\n",
              "    </tr>\n",
              "  </thead>\n",
              "  <tbody>\n",
              "    <tr>\n",
              "      <th>0</th>\n",
              "      <td>2020 User Summit. 2020 User Summit  *UPDATE - ...</td>\n",
              "      <td>Event</td>\n",
              "      <td>NaN</td>\n",
              "      <td>2020 User Summit 2020 User Summit update March...</td>\n",
              "    </tr>\n",
              "    <tr>\n",
              "      <th>1</th>\n",
              "      <td>Write For Us. Want to Write for Us?  Digital L...</td>\n",
              "      <td>MISC</td>\n",
              "      <td>NaN</td>\n",
              "      <td>write want write Digital Lamp one fast grow te...</td>\n",
              "    </tr>\n",
              "    <tr>\n",
              "      <th>2</th>\n",
              "      <td>Write for Us. Yes, you. We’re always looking f...</td>\n",
              "      <td>MISC</td>\n",
              "      <td>NaN</td>\n",
              "      <td>write yes always look new author get idea chal...</td>\n",
              "    </tr>\n",
              "    <tr>\n",
              "      <th>3</th>\n",
              "      <td>FAQs for some new features available in the Be...</td>\n",
              "      <td>Blog</td>\n",
              "      <td>NaN</td>\n",
              "      <td>FAQs new feature available Beta Wayback Machin...</td>\n",
              "    </tr>\n",
              "    <tr>\n",
              "      <th>4</th>\n",
              "      <td>The Best Nootropic Stack to Replace Adderall &amp;...</td>\n",
              "      <td>Article</td>\n",
              "      <td>NaN</td>\n",
              "      <td>Best Nootropic Stack replace Adderall Ritalin ...</td>\n",
              "    </tr>\n",
              "    <tr>\n",
              "      <th>...</th>\n",
              "      <td>...</td>\n",
              "      <td>...</td>\n",
              "      <td>...</td>\n",
              "      <td>...</td>\n",
              "    </tr>\n",
              "    <tr>\n",
              "      <th>959</th>\n",
              "      <td>Veeva Systems Korea aims to become cloud SW le...</td>\n",
              "      <td>Article</td>\n",
              "      <td>http://www.koreabiomed.com/news/articleView.ht...</td>\n",
              "      <td>Veeva Systems Korea aim become cloud SW leader...</td>\n",
              "    </tr>\n",
              "    <tr>\n",
              "      <th>960</th>\n",
              "      <td>Digital transformation of clinical research ac...</td>\n",
              "      <td>Article</td>\n",
              "      <td>http://www.outsourcing-pharma.com/Article/2021...</td>\n",
              "      <td>digital transformation clinical research accel...</td>\n",
              "    </tr>\n",
              "    <tr>\n",
              "      <th>961</th>\n",
              "      <td>Veeva Systems is a Top Stock for 2022. Veeva S...</td>\n",
              "      <td>Article</td>\n",
              "      <td>http://www.entrepreneur.com/article/400416</td>\n",
              "      <td>Veeva Systems Top Stock 2022 Veeva Systems VEE...</td>\n",
              "    </tr>\n",
              "    <tr>\n",
              "      <th>962</th>\n",
              "      <td>Medidata’s Acorn AI solution raises clinical t...</td>\n",
              "      <td>Article</td>\n",
              "      <td>http://www.koreabiomed.com/news/articleView.ht...</td>\n",
              "      <td>Medidata Acorn AI solution raise clinical tria...</td>\n",
              "    </tr>\n",
              "    <tr>\n",
              "      <th>963</th>\n",
              "      <td>Accenture’s federal arm hires new applied inte...</td>\n",
              "      <td>Article</td>\n",
              "      <td>http://washingtontechnology.com/companies/2022...</td>\n",
              "      <td>Accenture federal arm hire new apply intellige...</td>\n",
              "    </tr>\n",
              "  </tbody>\n",
              "</table>\n",
              "<p>857 rows × 4 columns</p>\n",
              "</div>\n",
              "      <button class=\"colab-df-convert\" onclick=\"convertToInteractive('df-6cf5b4f1-b35a-4573-8689-99acb6c22d07')\"\n",
              "              title=\"Convert this dataframe to an interactive table.\"\n",
              "              style=\"display:none;\">\n",
              "        \n",
              "  <svg xmlns=\"http://www.w3.org/2000/svg\" height=\"24px\"viewBox=\"0 0 24 24\"\n",
              "       width=\"24px\">\n",
              "    <path d=\"M0 0h24v24H0V0z\" fill=\"none\"/>\n",
              "    <path d=\"M18.56 5.44l.94 2.06.94-2.06 2.06-.94-2.06-.94-.94-2.06-.94 2.06-2.06.94zm-11 1L8.5 8.5l.94-2.06 2.06-.94-2.06-.94L8.5 2.5l-.94 2.06-2.06.94zm10 10l.94 2.06.94-2.06 2.06-.94-2.06-.94-.94-2.06-.94 2.06-2.06.94z\"/><path d=\"M17.41 7.96l-1.37-1.37c-.4-.4-.92-.59-1.43-.59-.52 0-1.04.2-1.43.59L10.3 9.45l-7.72 7.72c-.78.78-.78 2.05 0 2.83L4 21.41c.39.39.9.59 1.41.59.51 0 1.02-.2 1.41-.59l7.78-7.78 2.81-2.81c.8-.78.8-2.07 0-2.86zM5.41 20L4 18.59l7.72-7.72 1.47 1.35L5.41 20z\"/>\n",
              "  </svg>\n",
              "      </button>\n",
              "      \n",
              "  <style>\n",
              "    .colab-df-container {\n",
              "      display:flex;\n",
              "      flex-wrap:wrap;\n",
              "      gap: 12px;\n",
              "    }\n",
              "\n",
              "    .colab-df-convert {\n",
              "      background-color: #E8F0FE;\n",
              "      border: none;\n",
              "      border-radius: 50%;\n",
              "      cursor: pointer;\n",
              "      display: none;\n",
              "      fill: #1967D2;\n",
              "      height: 32px;\n",
              "      padding: 0 0 0 0;\n",
              "      width: 32px;\n",
              "    }\n",
              "\n",
              "    .colab-df-convert:hover {\n",
              "      background-color: #E2EBFA;\n",
              "      box-shadow: 0px 1px 2px rgba(60, 64, 67, 0.3), 0px 1px 3px 1px rgba(60, 64, 67, 0.15);\n",
              "      fill: #174EA6;\n",
              "    }\n",
              "\n",
              "    [theme=dark] .colab-df-convert {\n",
              "      background-color: #3B4455;\n",
              "      fill: #D2E3FC;\n",
              "    }\n",
              "\n",
              "    [theme=dark] .colab-df-convert:hover {\n",
              "      background-color: #434B5C;\n",
              "      box-shadow: 0px 1px 3px 1px rgba(0, 0, 0, 0.15);\n",
              "      filter: drop-shadow(0px 1px 2px rgba(0, 0, 0, 0.3));\n",
              "      fill: #FFFFFF;\n",
              "    }\n",
              "  </style>\n",
              "\n",
              "      <script>\n",
              "        const buttonEl =\n",
              "          document.querySelector('#df-6cf5b4f1-b35a-4573-8689-99acb6c22d07 button.colab-df-convert');\n",
              "        buttonEl.style.display =\n",
              "          google.colab.kernel.accessAllowed ? 'block' : 'none';\n",
              "\n",
              "        async function convertToInteractive(key) {\n",
              "          const element = document.querySelector('#df-6cf5b4f1-b35a-4573-8689-99acb6c22d07');\n",
              "          const dataTable =\n",
              "            await google.colab.kernel.invokeFunction('convertToInteractive',\n",
              "                                                     [key], {});\n",
              "          if (!dataTable) return;\n",
              "\n",
              "          const docLinkHtml = 'Like what you see? Visit the ' +\n",
              "            '<a target=\"_blank\" href=https://colab.research.google.com/notebooks/data_table.ipynb>data table notebook</a>'\n",
              "            + ' to learn more about interactive tables.';\n",
              "          element.innerHTML = '';\n",
              "          dataTable['output_type'] = 'display_data';\n",
              "          await google.colab.output.renderOutput(dataTable, element);\n",
              "          const docLink = document.createElement('div');\n",
              "          docLink.innerHTML = docLinkHtml;\n",
              "          element.appendChild(docLink);\n",
              "        }\n",
              "      </script>\n",
              "    </div>\n",
              "  </div>\n",
              "  "
            ]
          },
          "metadata": {},
          "execution_count": 18
        }
      ]
    },
    {
      "cell_type": "markdown",
      "metadata": {
        "id": "0gmbS9VMU4qb"
      },
      "source": [
        "# 0.6 (Optional) Create and save \"df_text1\" - general preprocessing of html"
      ]
    },
    {
      "cell_type": "code",
      "source": [
        "df1 = read_csv('activities_unlabeled.csv', \n",
        "               usecols=['File Name', 'Label'], \n",
        "               namecols=['filename', 'label'], \n",
        "               remove_nan='filename', \n",
        "               ignore_dash=True)\n",
        "\n",
        "htmls = read_htmls(df1, 'filename')\n",
        "\n",
        "toi_articles = read_articles(htmls)\n",
        "\n",
        "df_text1 = create_df_from_articles(df1, toi_articles)"
      ],
      "metadata": {
        "colab": {
          "base_uri": "https://localhost:8080/"
        },
        "id": "U8EdLlkBN_Sd",
        "outputId": "015269cd-4eba-4125-9390-45b4b985ebfe"
      },
      "execution_count": 93,
      "outputs": [
        {
          "output_type": "stream",
          "name": "stderr",
          "text": [
            "100%|██████████| 461/461 [02:08<00:00,  3.59it/s]\n",
            "100%|██████████| 461/461 [01:32<00:00,  4.99it/s]\n"
          ]
        }
      ]
    },
    {
      "cell_type": "code",
      "source": [
        "df_text1"
      ],
      "metadata": {
        "colab": {
          "base_uri": "https://localhost:8080/",
          "height": 424
        },
        "id": "MRV6alpnHf8X",
        "outputId": "9b8fa564-579b-400e-cd85-9a89ec931eeb"
      },
      "execution_count": 94,
      "outputs": [
        {
          "output_type": "execute_result",
          "data": {
            "text/plain": [
              "                                                  text         label\n",
              "0    2020 User Summit. 2020 User Summit  *UPDATE - ...         Event\n",
              "1    When Is ADA Compliance Legally Required?. The ...   White Paper\n",
              "2    Write For Us. Want to Write for Us?  Digital L...          MISC\n",
              "3    Write for Us. Yes, you. We’re always looking f...          MISC\n",
              "4    FAQs for some new features available in the Be...          Blog\n",
              "..                                                 ...           ...\n",
              "456  The Art of SEO, 2nd Edition. Four acknowledged...  Product Page\n",
              "457  Submit A Guest Post – Guidelines (Write for Us...          MISC\n",
              "458  Fully Managed Magento Hosting — JetRails. Full...          MISC\n",
              "459  Mission-Critical Hosting For Magento Open Sour...          MISC\n",
              "460  How to Write an Engaging Title Tag for Better ...          Blog\n",
              "\n",
              "[461 rows x 2 columns]"
            ],
            "text/html": [
              "\n",
              "  <div id=\"df-19510c33-34c7-495d-a769-026dcf7dc46e\">\n",
              "    <div class=\"colab-df-container\">\n",
              "      <div>\n",
              "<style scoped>\n",
              "    .dataframe tbody tr th:only-of-type {\n",
              "        vertical-align: middle;\n",
              "    }\n",
              "\n",
              "    .dataframe tbody tr th {\n",
              "        vertical-align: top;\n",
              "    }\n",
              "\n",
              "    .dataframe thead th {\n",
              "        text-align: right;\n",
              "    }\n",
              "</style>\n",
              "<table border=\"1\" class=\"dataframe\">\n",
              "  <thead>\n",
              "    <tr style=\"text-align: right;\">\n",
              "      <th></th>\n",
              "      <th>text</th>\n",
              "      <th>label</th>\n",
              "    </tr>\n",
              "  </thead>\n",
              "  <tbody>\n",
              "    <tr>\n",
              "      <th>0</th>\n",
              "      <td>2020 User Summit. 2020 User Summit  *UPDATE - ...</td>\n",
              "      <td>Event</td>\n",
              "    </tr>\n",
              "    <tr>\n",
              "      <th>1</th>\n",
              "      <td>When Is ADA Compliance Legally Required?. The ...</td>\n",
              "      <td>White Paper</td>\n",
              "    </tr>\n",
              "    <tr>\n",
              "      <th>2</th>\n",
              "      <td>Write For Us. Want to Write for Us?  Digital L...</td>\n",
              "      <td>MISC</td>\n",
              "    </tr>\n",
              "    <tr>\n",
              "      <th>3</th>\n",
              "      <td>Write for Us. Yes, you. We’re always looking f...</td>\n",
              "      <td>MISC</td>\n",
              "    </tr>\n",
              "    <tr>\n",
              "      <th>4</th>\n",
              "      <td>FAQs for some new features available in the Be...</td>\n",
              "      <td>Blog</td>\n",
              "    </tr>\n",
              "    <tr>\n",
              "      <th>...</th>\n",
              "      <td>...</td>\n",
              "      <td>...</td>\n",
              "    </tr>\n",
              "    <tr>\n",
              "      <th>456</th>\n",
              "      <td>The Art of SEO, 2nd Edition. Four acknowledged...</td>\n",
              "      <td>Product Page</td>\n",
              "    </tr>\n",
              "    <tr>\n",
              "      <th>457</th>\n",
              "      <td>Submit A Guest Post – Guidelines (Write for Us...</td>\n",
              "      <td>MISC</td>\n",
              "    </tr>\n",
              "    <tr>\n",
              "      <th>458</th>\n",
              "      <td>Fully Managed Magento Hosting — JetRails. Full...</td>\n",
              "      <td>MISC</td>\n",
              "    </tr>\n",
              "    <tr>\n",
              "      <th>459</th>\n",
              "      <td>Mission-Critical Hosting For Magento Open Sour...</td>\n",
              "      <td>MISC</td>\n",
              "    </tr>\n",
              "    <tr>\n",
              "      <th>460</th>\n",
              "      <td>How to Write an Engaging Title Tag for Better ...</td>\n",
              "      <td>Blog</td>\n",
              "    </tr>\n",
              "  </tbody>\n",
              "</table>\n",
              "<p>461 rows × 2 columns</p>\n",
              "</div>\n",
              "      <button class=\"colab-df-convert\" onclick=\"convertToInteractive('df-19510c33-34c7-495d-a769-026dcf7dc46e')\"\n",
              "              title=\"Convert this dataframe to an interactive table.\"\n",
              "              style=\"display:none;\">\n",
              "        \n",
              "  <svg xmlns=\"http://www.w3.org/2000/svg\" height=\"24px\"viewBox=\"0 0 24 24\"\n",
              "       width=\"24px\">\n",
              "    <path d=\"M0 0h24v24H0V0z\" fill=\"none\"/>\n",
              "    <path d=\"M18.56 5.44l.94 2.06.94-2.06 2.06-.94-2.06-.94-.94-2.06-.94 2.06-2.06.94zm-11 1L8.5 8.5l.94-2.06 2.06-.94-2.06-.94L8.5 2.5l-.94 2.06-2.06.94zm10 10l.94 2.06.94-2.06 2.06-.94-2.06-.94-.94-2.06-.94 2.06-2.06.94z\"/><path d=\"M17.41 7.96l-1.37-1.37c-.4-.4-.92-.59-1.43-.59-.52 0-1.04.2-1.43.59L10.3 9.45l-7.72 7.72c-.78.78-.78 2.05 0 2.83L4 21.41c.39.39.9.59 1.41.59.51 0 1.02-.2 1.41-.59l7.78-7.78 2.81-2.81c.8-.78.8-2.07 0-2.86zM5.41 20L4 18.59l7.72-7.72 1.47 1.35L5.41 20z\"/>\n",
              "  </svg>\n",
              "      </button>\n",
              "      \n",
              "  <style>\n",
              "    .colab-df-container {\n",
              "      display:flex;\n",
              "      flex-wrap:wrap;\n",
              "      gap: 12px;\n",
              "    }\n",
              "\n",
              "    .colab-df-convert {\n",
              "      background-color: #E8F0FE;\n",
              "      border: none;\n",
              "      border-radius: 50%;\n",
              "      cursor: pointer;\n",
              "      display: none;\n",
              "      fill: #1967D2;\n",
              "      height: 32px;\n",
              "      padding: 0 0 0 0;\n",
              "      width: 32px;\n",
              "    }\n",
              "\n",
              "    .colab-df-convert:hover {\n",
              "      background-color: #E2EBFA;\n",
              "      box-shadow: 0px 1px 2px rgba(60, 64, 67, 0.3), 0px 1px 3px 1px rgba(60, 64, 67, 0.15);\n",
              "      fill: #174EA6;\n",
              "    }\n",
              "\n",
              "    [theme=dark] .colab-df-convert {\n",
              "      background-color: #3B4455;\n",
              "      fill: #D2E3FC;\n",
              "    }\n",
              "\n",
              "    [theme=dark] .colab-df-convert:hover {\n",
              "      background-color: #434B5C;\n",
              "      box-shadow: 0px 1px 3px 1px rgba(0, 0, 0, 0.15);\n",
              "      filter: drop-shadow(0px 1px 2px rgba(0, 0, 0, 0.3));\n",
              "      fill: #FFFFFF;\n",
              "    }\n",
              "  </style>\n",
              "\n",
              "      <script>\n",
              "        const buttonEl =\n",
              "          document.querySelector('#df-19510c33-34c7-495d-a769-026dcf7dc46e button.colab-df-convert');\n",
              "        buttonEl.style.display =\n",
              "          google.colab.kernel.accessAllowed ? 'block' : 'none';\n",
              "\n",
              "        async function convertToInteractive(key) {\n",
              "          const element = document.querySelector('#df-19510c33-34c7-495d-a769-026dcf7dc46e');\n",
              "          const dataTable =\n",
              "            await google.colab.kernel.invokeFunction('convertToInteractive',\n",
              "                                                     [key], {});\n",
              "          if (!dataTable) return;\n",
              "\n",
              "          const docLinkHtml = 'Like what you see? Visit the ' +\n",
              "            '<a target=\"_blank\" href=https://colab.research.google.com/notebooks/data_table.ipynb>data table notebook</a>'\n",
              "            + ' to learn more about interactive tables.';\n",
              "          element.innerHTML = '';\n",
              "          dataTable['output_type'] = 'display_data';\n",
              "          await google.colab.output.renderOutput(dataTable, element);\n",
              "          const docLink = document.createElement('div');\n",
              "          docLink.innerHTML = docLinkHtml;\n",
              "          element.appendChild(docLink);\n",
              "        }\n",
              "      </script>\n",
              "    </div>\n",
              "  </div>\n",
              "  "
            ]
          },
          "metadata": {},
          "execution_count": 94
        }
      ]
    },
    {
      "cell_type": "code",
      "execution_count": 95,
      "metadata": {
        "id": "UyiIxV6MVgM0"
      },
      "outputs": [],
      "source": [
        "save_variables(variables={'df_text1': df_text1})"
      ]
    },
    {
      "cell_type": "markdown",
      "metadata": {
        "id": "NiNNjVFqWwB0"
      },
      "source": [
        "# 0.7 (Optional) Create and save \"df_text2\" - general preprocessing of urls"
      ]
    },
    {
      "cell_type": "code",
      "source": [
        "df2 = read_csv('activities_labeled13.csv', \n",
        "               usecols=['url', 'true_label'], \n",
        "               namecols=['url', 'label'], \n",
        "               remove_nan='label')\n",
        "\n",
        "labels_old, indexes_old, texts_old, urls_old = read_or_create_variables(['labels_old', 'indexes_old', 'texts_old', 'urls_old'])\n",
        "\n",
        "urls_new = create_new_urls(df2, 'url')\n",
        "\n",
        "texts_new, indexes_new, idx_label_to_remove = read_texts_from_urls(urls_new, urls_old)\n",
        "\n",
        "labels_new = create_new_labels(df2, urls_new, idx_label_to_remove)\n",
        "\n",
        "labels, indexes, texts, urls = update_variables(old_variables=[labels_old, indexes_old, texts_old, urls_old],\n",
        "                                                new_variables=[labels_new, indexes_new, texts_new, urls_new.tolist()])\n",
        "\n",
        "assert len(texts) == len(pd.Series(urls).loc[indexes]) == len(indexes) == len(labels)\n",
        "\n",
        "df_text2 = create_df_from_lists(labels, indexes, texts, urls)"
      ],
      "metadata": {
        "colab": {
          "base_uri": "https://localhost:8080/"
        },
        "id": "fR2QQK0HXERz",
        "outputId": "54dd8eee-d6fd-4a8a-bce5-d4c89f065bcb"
      },
      "execution_count": 96,
      "outputs": [
        {
          "output_type": "stream",
          "name": "stdout",
          "text": [
            "SUCCESS: variable labels_old was read, it contains 1019 elements.\n",
            "SUCCESS: variable indexes_old was read, it contains 1019 elements.\n",
            "SUCCESS: variable texts_old was read, it contains 1019 elements.\n",
            "SUCCESS: variable urls_old was read, it contains 1246 elements.\n",
            "There are 0 new URLs to read.\n",
            "No new URL was read.\n"
          ]
        }
      ]
    },
    {
      "cell_type": "code",
      "source": [
        "df_text2"
      ],
      "metadata": {
        "colab": {
          "base_uri": "https://localhost:8080/",
          "height": 424
        },
        "id": "hGjFLrxtH6h8",
        "outputId": "7b467fc8-79bc-4f38-f2ef-3d791c158c3f"
      },
      "execution_count": 97,
      "outputs": [
        {
          "output_type": "execute_result",
          "data": {
            "text/plain": [
              "                                                    url  \\\n",
              "0     http://www.nctech.org/events/event/2021/awards...   \n",
              "1                             http://cdd-biologics.com/   \n",
              "2                                 http://sfesummit.com/   \n",
              "3      http://www.obviohealth.com/events/informa-1-2021   \n",
              "4                     http://www.genesisconference.com/   \n",
              "...                                                 ...   \n",
              "1014         http://www.entrepreneur.com/article/400416   \n",
              "1015  http://www.koreabiomed.com/news/articleView.ht...   \n",
              "1016  http://www.finsmes.com/2021/10/science-37-clos...   \n",
              "1017  http://seekingalpha.com/article/4450420-labora...   \n",
              "1018  http://washingtontechnology.com/companies/2022...   \n",
              "\n",
              "                                                   text    label  \n",
              "0     NC TECH Awards Gala. #nctechawards  Awards Gal...    Event  \n",
              "1     Computational Drug Development for Biologics 2...    Event  \n",
              "2     12th Annual Sales Force Effectiveness & Digita...    Event  \n",
              "3     ObvioHealth. MAGI Clinical Research Conference...  Webinar  \n",
              "4                                 Home : Genesis 2022.     Event  \n",
              "...                                                 ...      ...  \n",
              "1014  Veeva Systems is a Top Stock for 2022. Veeva S...  Article  \n",
              "1015  Medidata’s Acorn AI solution raises clinical t...  Article  \n",
              "1016  Science 37 Closes Business Combination with Li...        ?  \n",
              "1017  Laboratory Corp: 18%-20% Yearly Return With Sa...        -  \n",
              "1018  Accenture’s federal arm hires new applied inte...  Article  \n",
              "\n",
              "[1019 rows x 3 columns]"
            ],
            "text/html": [
              "\n",
              "  <div id=\"df-0003df76-3227-43c3-aef3-2e17b355db24\">\n",
              "    <div class=\"colab-df-container\">\n",
              "      <div>\n",
              "<style scoped>\n",
              "    .dataframe tbody tr th:only-of-type {\n",
              "        vertical-align: middle;\n",
              "    }\n",
              "\n",
              "    .dataframe tbody tr th {\n",
              "        vertical-align: top;\n",
              "    }\n",
              "\n",
              "    .dataframe thead th {\n",
              "        text-align: right;\n",
              "    }\n",
              "</style>\n",
              "<table border=\"1\" class=\"dataframe\">\n",
              "  <thead>\n",
              "    <tr style=\"text-align: right;\">\n",
              "      <th></th>\n",
              "      <th>url</th>\n",
              "      <th>text</th>\n",
              "      <th>label</th>\n",
              "    </tr>\n",
              "  </thead>\n",
              "  <tbody>\n",
              "    <tr>\n",
              "      <th>0</th>\n",
              "      <td>http://www.nctech.org/events/event/2021/awards...</td>\n",
              "      <td>NC TECH Awards Gala. #nctechawards  Awards Gal...</td>\n",
              "      <td>Event</td>\n",
              "    </tr>\n",
              "    <tr>\n",
              "      <th>1</th>\n",
              "      <td>http://cdd-biologics.com/</td>\n",
              "      <td>Computational Drug Development for Biologics 2...</td>\n",
              "      <td>Event</td>\n",
              "    </tr>\n",
              "    <tr>\n",
              "      <th>2</th>\n",
              "      <td>http://sfesummit.com/</td>\n",
              "      <td>12th Annual Sales Force Effectiveness &amp; Digita...</td>\n",
              "      <td>Event</td>\n",
              "    </tr>\n",
              "    <tr>\n",
              "      <th>3</th>\n",
              "      <td>http://www.obviohealth.com/events/informa-1-2021</td>\n",
              "      <td>ObvioHealth. MAGI Clinical Research Conference...</td>\n",
              "      <td>Webinar</td>\n",
              "    </tr>\n",
              "    <tr>\n",
              "      <th>4</th>\n",
              "      <td>http://www.genesisconference.com/</td>\n",
              "      <td>Home : Genesis 2022.</td>\n",
              "      <td>Event</td>\n",
              "    </tr>\n",
              "    <tr>\n",
              "      <th>...</th>\n",
              "      <td>...</td>\n",
              "      <td>...</td>\n",
              "      <td>...</td>\n",
              "    </tr>\n",
              "    <tr>\n",
              "      <th>1014</th>\n",
              "      <td>http://www.entrepreneur.com/article/400416</td>\n",
              "      <td>Veeva Systems is a Top Stock for 2022. Veeva S...</td>\n",
              "      <td>Article</td>\n",
              "    </tr>\n",
              "    <tr>\n",
              "      <th>1015</th>\n",
              "      <td>http://www.koreabiomed.com/news/articleView.ht...</td>\n",
              "      <td>Medidata’s Acorn AI solution raises clinical t...</td>\n",
              "      <td>Article</td>\n",
              "    </tr>\n",
              "    <tr>\n",
              "      <th>1016</th>\n",
              "      <td>http://www.finsmes.com/2021/10/science-37-clos...</td>\n",
              "      <td>Science 37 Closes Business Combination with Li...</td>\n",
              "      <td>?</td>\n",
              "    </tr>\n",
              "    <tr>\n",
              "      <th>1017</th>\n",
              "      <td>http://seekingalpha.com/article/4450420-labora...</td>\n",
              "      <td>Laboratory Corp: 18%-20% Yearly Return With Sa...</td>\n",
              "      <td>-</td>\n",
              "    </tr>\n",
              "    <tr>\n",
              "      <th>1018</th>\n",
              "      <td>http://washingtontechnology.com/companies/2022...</td>\n",
              "      <td>Accenture’s federal arm hires new applied inte...</td>\n",
              "      <td>Article</td>\n",
              "    </tr>\n",
              "  </tbody>\n",
              "</table>\n",
              "<p>1019 rows × 3 columns</p>\n",
              "</div>\n",
              "      <button class=\"colab-df-convert\" onclick=\"convertToInteractive('df-0003df76-3227-43c3-aef3-2e17b355db24')\"\n",
              "              title=\"Convert this dataframe to an interactive table.\"\n",
              "              style=\"display:none;\">\n",
              "        \n",
              "  <svg xmlns=\"http://www.w3.org/2000/svg\" height=\"24px\"viewBox=\"0 0 24 24\"\n",
              "       width=\"24px\">\n",
              "    <path d=\"M0 0h24v24H0V0z\" fill=\"none\"/>\n",
              "    <path d=\"M18.56 5.44l.94 2.06.94-2.06 2.06-.94-2.06-.94-.94-2.06-.94 2.06-2.06.94zm-11 1L8.5 8.5l.94-2.06 2.06-.94-2.06-.94L8.5 2.5l-.94 2.06-2.06.94zm10 10l.94 2.06.94-2.06 2.06-.94-2.06-.94-.94-2.06-.94 2.06-2.06.94z\"/><path d=\"M17.41 7.96l-1.37-1.37c-.4-.4-.92-.59-1.43-.59-.52 0-1.04.2-1.43.59L10.3 9.45l-7.72 7.72c-.78.78-.78 2.05 0 2.83L4 21.41c.39.39.9.59 1.41.59.51 0 1.02-.2 1.41-.59l7.78-7.78 2.81-2.81c.8-.78.8-2.07 0-2.86zM5.41 20L4 18.59l7.72-7.72 1.47 1.35L5.41 20z\"/>\n",
              "  </svg>\n",
              "      </button>\n",
              "      \n",
              "  <style>\n",
              "    .colab-df-container {\n",
              "      display:flex;\n",
              "      flex-wrap:wrap;\n",
              "      gap: 12px;\n",
              "    }\n",
              "\n",
              "    .colab-df-convert {\n",
              "      background-color: #E8F0FE;\n",
              "      border: none;\n",
              "      border-radius: 50%;\n",
              "      cursor: pointer;\n",
              "      display: none;\n",
              "      fill: #1967D2;\n",
              "      height: 32px;\n",
              "      padding: 0 0 0 0;\n",
              "      width: 32px;\n",
              "    }\n",
              "\n",
              "    .colab-df-convert:hover {\n",
              "      background-color: #E2EBFA;\n",
              "      box-shadow: 0px 1px 2px rgba(60, 64, 67, 0.3), 0px 1px 3px 1px rgba(60, 64, 67, 0.15);\n",
              "      fill: #174EA6;\n",
              "    }\n",
              "\n",
              "    [theme=dark] .colab-df-convert {\n",
              "      background-color: #3B4455;\n",
              "      fill: #D2E3FC;\n",
              "    }\n",
              "\n",
              "    [theme=dark] .colab-df-convert:hover {\n",
              "      background-color: #434B5C;\n",
              "      box-shadow: 0px 1px 3px 1px rgba(0, 0, 0, 0.15);\n",
              "      filter: drop-shadow(0px 1px 2px rgba(0, 0, 0, 0.3));\n",
              "      fill: #FFFFFF;\n",
              "    }\n",
              "  </style>\n",
              "\n",
              "      <script>\n",
              "        const buttonEl =\n",
              "          document.querySelector('#df-0003df76-3227-43c3-aef3-2e17b355db24 button.colab-df-convert');\n",
              "        buttonEl.style.display =\n",
              "          google.colab.kernel.accessAllowed ? 'block' : 'none';\n",
              "\n",
              "        async function convertToInteractive(key) {\n",
              "          const element = document.querySelector('#df-0003df76-3227-43c3-aef3-2e17b355db24');\n",
              "          const dataTable =\n",
              "            await google.colab.kernel.invokeFunction('convertToInteractive',\n",
              "                                                     [key], {});\n",
              "          if (!dataTable) return;\n",
              "\n",
              "          const docLinkHtml = 'Like what you see? Visit the ' +\n",
              "            '<a target=\"_blank\" href=https://colab.research.google.com/notebooks/data_table.ipynb>data table notebook</a>'\n",
              "            + ' to learn more about interactive tables.';\n",
              "          element.innerHTML = '';\n",
              "          dataTable['output_type'] = 'display_data';\n",
              "          await google.colab.output.renderOutput(dataTable, element);\n",
              "          const docLink = document.createElement('div');\n",
              "          docLink.innerHTML = docLinkHtml;\n",
              "          element.appendChild(docLink);\n",
              "        }\n",
              "      </script>\n",
              "    </div>\n",
              "  </div>\n",
              "  "
            ]
          },
          "metadata": {},
          "execution_count": 97
        }
      ]
    },
    {
      "cell_type": "code",
      "execution_count": 98,
      "metadata": {
        "id": "1q8wFLvIiC3p"
      },
      "outputs": [],
      "source": [
        "save_variables(variables={'labels_old': labels,\n",
        "                          'indexes_old': indexes,\n",
        "                          'texts_old': texts,\n",
        "                          'urls_old': urls,\n",
        "                          'df_text2': df_text2})"
      ]
    },
    {
      "cell_type": "markdown",
      "metadata": {
        "id": "uZwWQnXV5mhk"
      },
      "source": [
        "# 0.8 (Optional) Create and save \"df_text\""
      ]
    },
    {
      "cell_type": "code",
      "source": [
        "df_text2 = remove_duplicates(df_text2, URL)\n",
        "\n",
        "df_text = pd.concat([df_text1, df_text2]).reset_index(drop=True)\n",
        "\n",
        "df_text = remove_duplicates(df_text, TEXT)\n",
        "\n",
        "df_text = remove_rows(df_text, with_errors=True, irrelevant=True, below_threshold=51)\n",
        "\n",
        "df_text[LEMMATIZED] = df_text[TEXT].apply(lambda x: text_preprocessing(x, lemmatize=True, clean=True))"
      ],
      "metadata": {
        "colab": {
          "base_uri": "https://localhost:8080/"
        },
        "id": "xpoavElBjPJW",
        "outputId": "ab70cac2-6ba0-4ad3-d4d2-1a69ad825dd0"
      },
      "execution_count": 105,
      "outputs": [
        {
          "output_type": "stream",
          "name": "stdout",
          "text": [
            "There are no duplicate values in the dataframe's column 'url'.\n",
            "59 rows had duplicate values in the dataframe's column 'text' and were deleted.\n"
          ]
        }
      ]
    },
    {
      "cell_type": "code",
      "source": [
        "df_text"
      ],
      "metadata": {
        "colab": {
          "base_uri": "https://localhost:8080/",
          "height": 424
        },
        "id": "Im6n6mArIqpm",
        "outputId": "4286e54c-0b61-4056-cd6f-cf3c7cef19eb"
      },
      "execution_count": 103,
      "outputs": [
        {
          "output_type": "execute_result",
          "data": {
            "text/plain": [
              "                                                  text    label  \\\n",
              "0    2020 User Summit. 2020 User Summit  *UPDATE - ...    Event   \n",
              "1    Write For Us. Want to Write for Us?  Digital L...     MISC   \n",
              "2    Write for Us. Yes, you. We’re always looking f...     MISC   \n",
              "3    FAQs for some new features available in the Be...     Blog   \n",
              "4    The Best Nootropic Stack to Replace Adderall &...  Article   \n",
              "..                                                 ...      ...   \n",
              "959  Veeva Systems Korea aims to become cloud SW le...  Article   \n",
              "960  Digital transformation of clinical research ac...  Article   \n",
              "961  Veeva Systems is a Top Stock for 2022. Veeva S...  Article   \n",
              "962  Medidata’s Acorn AI solution raises clinical t...  Article   \n",
              "963  Accenture’s federal arm hires new applied inte...  Article   \n",
              "\n",
              "                                                   url  \\\n",
              "0                                                  NaN   \n",
              "1                                                  NaN   \n",
              "2                                                  NaN   \n",
              "3                                                  NaN   \n",
              "4                                                  NaN   \n",
              "..                                                 ...   \n",
              "959  http://www.koreabiomed.com/news/articleView.ht...   \n",
              "960  http://www.outsourcing-pharma.com/Article/2021...   \n",
              "961         http://www.entrepreneur.com/article/400416   \n",
              "962  http://www.koreabiomed.com/news/articleView.ht...   \n",
              "963  http://washingtontechnology.com/companies/2022...   \n",
              "\n",
              "                               cleaned_lemmatized_text  \n",
              "0    2020 User Summit 2020 User Summit update March...  \n",
              "1    write want write Digital Lamp one fast grow te...  \n",
              "2    write yes always look new author get idea chal...  \n",
              "3    FAQs new feature available Beta Wayback Machin...  \n",
              "4    Best Nootropic Stack replace Adderall Ritalin ...  \n",
              "..                                                 ...  \n",
              "959  Veeva Systems Korea aim become cloud SW leader...  \n",
              "960  digital transformation clinical research accel...  \n",
              "961  Veeva Systems Top Stock 2022 Veeva Systems VEE...  \n",
              "962  Medidata Acorn AI solution raise clinical tria...  \n",
              "963  Accenture federal arm hire new apply intellige...  \n",
              "\n",
              "[857 rows x 4 columns]"
            ],
            "text/html": [
              "\n",
              "  <div id=\"df-414056b2-092b-4958-b0b8-bf9411bad9e7\">\n",
              "    <div class=\"colab-df-container\">\n",
              "      <div>\n",
              "<style scoped>\n",
              "    .dataframe tbody tr th:only-of-type {\n",
              "        vertical-align: middle;\n",
              "    }\n",
              "\n",
              "    .dataframe tbody tr th {\n",
              "        vertical-align: top;\n",
              "    }\n",
              "\n",
              "    .dataframe thead th {\n",
              "        text-align: right;\n",
              "    }\n",
              "</style>\n",
              "<table border=\"1\" class=\"dataframe\">\n",
              "  <thead>\n",
              "    <tr style=\"text-align: right;\">\n",
              "      <th></th>\n",
              "      <th>text</th>\n",
              "      <th>label</th>\n",
              "      <th>url</th>\n",
              "      <th>cleaned_lemmatized_text</th>\n",
              "    </tr>\n",
              "  </thead>\n",
              "  <tbody>\n",
              "    <tr>\n",
              "      <th>0</th>\n",
              "      <td>2020 User Summit. 2020 User Summit  *UPDATE - ...</td>\n",
              "      <td>Event</td>\n",
              "      <td>NaN</td>\n",
              "      <td>2020 User Summit 2020 User Summit update March...</td>\n",
              "    </tr>\n",
              "    <tr>\n",
              "      <th>1</th>\n",
              "      <td>Write For Us. Want to Write for Us?  Digital L...</td>\n",
              "      <td>MISC</td>\n",
              "      <td>NaN</td>\n",
              "      <td>write want write Digital Lamp one fast grow te...</td>\n",
              "    </tr>\n",
              "    <tr>\n",
              "      <th>2</th>\n",
              "      <td>Write for Us. Yes, you. We’re always looking f...</td>\n",
              "      <td>MISC</td>\n",
              "      <td>NaN</td>\n",
              "      <td>write yes always look new author get idea chal...</td>\n",
              "    </tr>\n",
              "    <tr>\n",
              "      <th>3</th>\n",
              "      <td>FAQs for some new features available in the Be...</td>\n",
              "      <td>Blog</td>\n",
              "      <td>NaN</td>\n",
              "      <td>FAQs new feature available Beta Wayback Machin...</td>\n",
              "    </tr>\n",
              "    <tr>\n",
              "      <th>4</th>\n",
              "      <td>The Best Nootropic Stack to Replace Adderall &amp;...</td>\n",
              "      <td>Article</td>\n",
              "      <td>NaN</td>\n",
              "      <td>Best Nootropic Stack replace Adderall Ritalin ...</td>\n",
              "    </tr>\n",
              "    <tr>\n",
              "      <th>...</th>\n",
              "      <td>...</td>\n",
              "      <td>...</td>\n",
              "      <td>...</td>\n",
              "      <td>...</td>\n",
              "    </tr>\n",
              "    <tr>\n",
              "      <th>959</th>\n",
              "      <td>Veeva Systems Korea aims to become cloud SW le...</td>\n",
              "      <td>Article</td>\n",
              "      <td>http://www.koreabiomed.com/news/articleView.ht...</td>\n",
              "      <td>Veeva Systems Korea aim become cloud SW leader...</td>\n",
              "    </tr>\n",
              "    <tr>\n",
              "      <th>960</th>\n",
              "      <td>Digital transformation of clinical research ac...</td>\n",
              "      <td>Article</td>\n",
              "      <td>http://www.outsourcing-pharma.com/Article/2021...</td>\n",
              "      <td>digital transformation clinical research accel...</td>\n",
              "    </tr>\n",
              "    <tr>\n",
              "      <th>961</th>\n",
              "      <td>Veeva Systems is a Top Stock for 2022. Veeva S...</td>\n",
              "      <td>Article</td>\n",
              "      <td>http://www.entrepreneur.com/article/400416</td>\n",
              "      <td>Veeva Systems Top Stock 2022 Veeva Systems VEE...</td>\n",
              "    </tr>\n",
              "    <tr>\n",
              "      <th>962</th>\n",
              "      <td>Medidata’s Acorn AI solution raises clinical t...</td>\n",
              "      <td>Article</td>\n",
              "      <td>http://www.koreabiomed.com/news/articleView.ht...</td>\n",
              "      <td>Medidata Acorn AI solution raise clinical tria...</td>\n",
              "    </tr>\n",
              "    <tr>\n",
              "      <th>963</th>\n",
              "      <td>Accenture’s federal arm hires new applied inte...</td>\n",
              "      <td>Article</td>\n",
              "      <td>http://washingtontechnology.com/companies/2022...</td>\n",
              "      <td>Accenture federal arm hire new apply intellige...</td>\n",
              "    </tr>\n",
              "  </tbody>\n",
              "</table>\n",
              "<p>857 rows × 4 columns</p>\n",
              "</div>\n",
              "      <button class=\"colab-df-convert\" onclick=\"convertToInteractive('df-414056b2-092b-4958-b0b8-bf9411bad9e7')\"\n",
              "              title=\"Convert this dataframe to an interactive table.\"\n",
              "              style=\"display:none;\">\n",
              "        \n",
              "  <svg xmlns=\"http://www.w3.org/2000/svg\" height=\"24px\"viewBox=\"0 0 24 24\"\n",
              "       width=\"24px\">\n",
              "    <path d=\"M0 0h24v24H0V0z\" fill=\"none\"/>\n",
              "    <path d=\"M18.56 5.44l.94 2.06.94-2.06 2.06-.94-2.06-.94-.94-2.06-.94 2.06-2.06.94zm-11 1L8.5 8.5l.94-2.06 2.06-.94-2.06-.94L8.5 2.5l-.94 2.06-2.06.94zm10 10l.94 2.06.94-2.06 2.06-.94-2.06-.94-.94-2.06-.94 2.06-2.06.94z\"/><path d=\"M17.41 7.96l-1.37-1.37c-.4-.4-.92-.59-1.43-.59-.52 0-1.04.2-1.43.59L10.3 9.45l-7.72 7.72c-.78.78-.78 2.05 0 2.83L4 21.41c.39.39.9.59 1.41.59.51 0 1.02-.2 1.41-.59l7.78-7.78 2.81-2.81c.8-.78.8-2.07 0-2.86zM5.41 20L4 18.59l7.72-7.72 1.47 1.35L5.41 20z\"/>\n",
              "  </svg>\n",
              "      </button>\n",
              "      \n",
              "  <style>\n",
              "    .colab-df-container {\n",
              "      display:flex;\n",
              "      flex-wrap:wrap;\n",
              "      gap: 12px;\n",
              "    }\n",
              "\n",
              "    .colab-df-convert {\n",
              "      background-color: #E8F0FE;\n",
              "      border: none;\n",
              "      border-radius: 50%;\n",
              "      cursor: pointer;\n",
              "      display: none;\n",
              "      fill: #1967D2;\n",
              "      height: 32px;\n",
              "      padding: 0 0 0 0;\n",
              "      width: 32px;\n",
              "    }\n",
              "\n",
              "    .colab-df-convert:hover {\n",
              "      background-color: #E2EBFA;\n",
              "      box-shadow: 0px 1px 2px rgba(60, 64, 67, 0.3), 0px 1px 3px 1px rgba(60, 64, 67, 0.15);\n",
              "      fill: #174EA6;\n",
              "    }\n",
              "\n",
              "    [theme=dark] .colab-df-convert {\n",
              "      background-color: #3B4455;\n",
              "      fill: #D2E3FC;\n",
              "    }\n",
              "\n",
              "    [theme=dark] .colab-df-convert:hover {\n",
              "      background-color: #434B5C;\n",
              "      box-shadow: 0px 1px 3px 1px rgba(0, 0, 0, 0.15);\n",
              "      filter: drop-shadow(0px 1px 2px rgba(0, 0, 0, 0.3));\n",
              "      fill: #FFFFFF;\n",
              "    }\n",
              "  </style>\n",
              "\n",
              "      <script>\n",
              "        const buttonEl =\n",
              "          document.querySelector('#df-414056b2-092b-4958-b0b8-bf9411bad9e7 button.colab-df-convert');\n",
              "        buttonEl.style.display =\n",
              "          google.colab.kernel.accessAllowed ? 'block' : 'none';\n",
              "\n",
              "        async function convertToInteractive(key) {\n",
              "          const element = document.querySelector('#df-414056b2-092b-4958-b0b8-bf9411bad9e7');\n",
              "          const dataTable =\n",
              "            await google.colab.kernel.invokeFunction('convertToInteractive',\n",
              "                                                     [key], {});\n",
              "          if (!dataTable) return;\n",
              "\n",
              "          const docLinkHtml = 'Like what you see? Visit the ' +\n",
              "            '<a target=\"_blank\" href=https://colab.research.google.com/notebooks/data_table.ipynb>data table notebook</a>'\n",
              "            + ' to learn more about interactive tables.';\n",
              "          element.innerHTML = '';\n",
              "          dataTable['output_type'] = 'display_data';\n",
              "          await google.colab.output.renderOutput(dataTable, element);\n",
              "          const docLink = document.createElement('div');\n",
              "          docLink.innerHTML = docLinkHtml;\n",
              "          element.appendChild(docLink);\n",
              "        }\n",
              "      </script>\n",
              "    </div>\n",
              "  </div>\n",
              "  "
            ]
          },
          "metadata": {},
          "execution_count": 103
        }
      ]
    },
    {
      "cell_type": "code",
      "execution_count": 104,
      "metadata": {
        "id": "HPv761fdnuHV"
      },
      "outputs": [],
      "source": [
        "save_variables({'df_text': df_text})"
      ]
    },
    {
      "cell_type": "markdown",
      "metadata": {
        "id": "aTICn2Pbqsdk"
      },
      "source": [
        "# 0.9 Further EDA and preprocessing on \"df_text\" (all not to be included in the .py file)"
      ]
    },
    {
      "cell_type": "code",
      "execution_count": null,
      "metadata": {
        "colab": {
          "base_uri": "https://localhost:8080/",
          "height": 279
        },
        "id": "POCgjKRDQeUQ",
        "outputId": "def9008e-862b-45c1-a2ba-461384489122"
      },
      "outputs": [
        {
          "data": {
            "image/png": "[encoded data removed]",
            "text/plain": [
              "<Figure size 432x288 with 1 Axes>"
            ]
          },
          "metadata": {},
          "output_type": "display_data"
        }
      ],
      "source": [
        "# To play with:\n",
        "\n",
        "# THRESHOLD1 = 50\n",
        "# THRESHOLD2 = 51\n",
        "\n",
        "# characters = df_text[TEXT].str.split().str.len()\n",
        "# df_text.loc[(characters >= THRESHOLD1) & (characters <= THRESHOLD2), TEXT].tolist()"
      ]
    },
    {
      "cell_type": "code",
      "execution_count": null,
      "metadata": {
        "colab": {
          "base_uri": "https://localhost:8080/"
        },
        "id": "Yo4new9SROKG",
        "outputId": "167e8a37-d232-4e46-dbc0-a6a96595fb27"
      },
      "outputs": [
        {
          "data": {
            "text/plain": [
              "72.0"
            ]
          },
          "execution_count": 77,
          "metadata": {},
          "output_type": "execute_result"
        }
      ],
      "source": [
        "# By analizing the texts, errors started to show up in the ones that had below 51 words.\n",
        "\n",
        "fraction_ignored = 0.165 # We will lose 16.5% of our data\n",
        "\n",
        "values = df_text['text'].str.split().str.len()\n",
        "minimum_words = values.quantile(fraction_ignored)\n",
        "minimum_words"
      ]
    },
    {
      "cell_type": "code",
      "execution_count": null,
      "metadata": {
        "colab": {
          "base_uri": "https://localhost:8080/"
        },
        "id": "OkaRinySQ8ho",
        "outputId": "2c313286-a77a-42db-85d1-9a7a0847f607"
      },
      "outputs": [
        {
          "data": {
            "text/plain": [
              "25%    110.5\n",
              "75%    697.5\n",
              "Name: text, dtype: float64"
            ]
          },
          "execution_count": 67,
          "metadata": {},
          "output_type": "execute_result"
        }
      ],
      "source": [
        "values.describe()[['25%', '75%']]"
      ]
    },
    {
      "cell_type": "code",
      "source": [
        "mask = df_text[TEXT].str.split().str.len() > DISTILBERT_MAX_INPUT\n",
        "print(f'There are {mask.sum()} texts ({mask.sum() / df_text.shape[0]:.0%} of the total) that will be truncated by DistilBERT '\n",
        "      f'for having more than {DISTILBERT_MAX_INPUT} words.')"
      ],
      "metadata": {
        "id": "8gZzvBteImXg"
      },
      "execution_count": null,
      "outputs": []
    },
    {
      "cell_type": "code",
      "source": [
        "plt.hist(df_text[TEXT].str.split().str.len(), bins=16)\n",
        "plt.show()"
      ],
      "metadata": {
        "id": "ipTWe8bIIr_X"
      },
      "execution_count": null,
      "outputs": []
    },
    {
      "cell_type": "code",
      "source": [
        "# df_text.loc[df_text[TEXT].str.split().str.len() > DISTILBERT_MAX_INPUT, TEXT].str.split().str.len()"
      ],
      "metadata": {
        "id": "gvgjdibHIsMN"
      },
      "execution_count": null,
      "outputs": []
    },
    {
      "cell_type": "code",
      "source": [
        "def clean_text(text):\n",
        "    \"\"\"\n",
        "    @text: a string\n",
        "    Returns a cleaned version of the provided string\n",
        "    \"\"\"\n",
        "    text = REPLACE_BY_SPACE_RE.sub(' ', text) # replaces REPLACE_BY_SPACE_RE symbols by space in text\n",
        "    text = BAD_SYMBOLS_RE.sub('', text) # deletes symbols which are in BAD_SYMBOLS_RE from text\n",
        "    text = ' '.join(word for word in text.split() if word not in STOPWORDS) # deletes stopwords from text\n",
        "    return text"
      ],
      "metadata": {
        "id": "JZ9CDYmuhYOQ"
      },
      "execution_count": null,
      "outputs": []
    },
    {
      "cell_type": "code",
      "source": [
        "def lemmatize_text(text):\n",
        "    \"\"\"\n",
        "    @text: a string\n",
        "    Returns a lemmatized version of the provided string\n",
        "    \"\"\"\n",
        "    lemmatized = ' '.join(token.lemma_ for token in nlp(text))\n",
        "    return lemmatized\n",
        "\n",
        "print(f\"Amount of words before lemmatizing text: {df_text[TEXT].apply(lambda x: len(x.split(' '))).sum()}\")\n",
        "print(f\"Amount of unique words before lemmatizing text: {np.unique(np.concatenate(df_text[TEXT].str.split().values, axis=0)).shape[0]}\\n\")\n",
        "df_text['lemmatized_text'] = df_text[TEXT].apply(lemmatize_text)\n",
        "print(f\"Amount of words after lemmatizing text: {df_text['lemmatized_text'].apply(lambda x: len(x.split(' '))).sum()}\")\n",
        "print(f\"Amount of unique words before lemmatizing text: {np.unique(np.concatenate(df_text['lemmatized_text'].str.split().values, axis=0)).shape[0]}\")"
      ],
      "metadata": {
        "id": "xVwxdf-3hYX4"
      },
      "execution_count": null,
      "outputs": []
    },
    {
      "cell_type": "code",
      "source": [
        "print(f\"Amount of words before cleaning lemmatized text: {df_text['lemmatized_text'].apply(lambda x: len(x.split(' '))).sum()}\")\n",
        "print(f\"Amount of unique words before cleaning lemmatized text: {np.unique(np.concatenate(df_text['lemmatized_text'].str.split().values, axis=0)).shape[0]}\\n\")\n",
        "df_text['lemmatized_cleaned_text'] = df_text['lemmatized_text'].apply(clean_text)\n",
        "print(f\"Amount of words after cleaning lemmatized text: {df_text['lemmatized_cleaned_text'].apply(lambda x: len(x.split(' '))).sum()}\")\n",
        "print(f\"Amount of unique words before cleaning lemmatized text: {np.unique(np.concatenate(df_text['lemmatized_cleaned_text'].str.split().values, axis=0)).shape[0]}\")"
      ],
      "metadata": {
        "id": "R2UnGV8ShYih"
      },
      "execution_count": null,
      "outputs": []
    },
    {
      "cell_type": "markdown",
      "metadata": {
        "id": "hi5Q4K3TXrVa"
      },
      "source": [
        "# 1. BoW approach"
      ]
    },
    {
      "cell_type": "markdown",
      "metadata": {
        "id": "VgRRupt9X9DS"
      },
      "source": [
        "## Preprocessing"
      ]
    },
    {
      "cell_type": "code",
      "source": [
        "df_text[TARGET] = df_text[TARGET].replace(labels_encoded)\n",
        "\n",
        "X_train, X_test, y_train, y_test = split_data(df_text, LEMMATIZED, test_size=0.2, random_state=0)\n",
        "\n",
        "X_train_tr, X_test_tr = vectorize_data(LEMMATIZED, X_train, X_test, ngram_range=(1, 1))"
      ],
      "metadata": {
        "id": "VEq6F8DQCqrk"
      },
      "execution_count": null,
      "outputs": []
    },
    {
      "cell_type": "code",
      "source": [
        "# NOT INCLUDE IN .py FILE AND DELETE THIS SENTENCE FROM HERE WHEN I'M DONE.\n",
        "# Making sure the split was stratified correctly.\n",
        "train_distribution = y_train.value_counts(normalize=True)\n",
        "test_distribution = y_test.value_counts(normalize=True)\n",
        "assert (np.isclose(train_distribution, test_distribution, rtol=1e-01)).all()\n",
        "\n",
        "# NOT INCLUDE IN .py FILE AND DELETE THIS SENTENCE FROM HERE WHEN I'M DONE.\n",
        "# Important cell # 10\n",
        "majority_class = y_train.value_counts().index[0]\n",
        "baseline_accuracy = sum(y_test == majority_class) / len(y_test)\n",
        "print(f'Baseline accuracy when predicting always the majority class: {baseline_accuracy:.4f}')\n",
        "\n",
        "# NOT INCLUDE IN .py FILE AND DELETE THIS SENTENCE FROM HERE WHEN I'M DONE.\n",
        "get_most_common_tokens(df=X_train, column='cleaned_lemmatized_text', amount=10)"
      ],
      "metadata": {
        "colab": {
          "base_uri": "https://localhost:8080/"
        },
        "id": "0-63hyoXKrxU",
        "outputId": "20a02191-e8c4-4573-84f7-a0109c983bc1"
      },
      "execution_count": null,
      "outputs": [
        {
          "output_type": "stream",
          "name": "stdout",
          "text": [
            "Baseline accuracy when predicting always the majority class: 0.2326\n"
          ]
        },
        {
          "output_type": "execute_result",
          "data": {
            "text/plain": [
              "[('use', 1690),\n",
              " ('patient', 1572),\n",
              " ('clinical', 1394),\n",
              " ('trial', 1351),\n",
              " ('datum', 1345),\n",
              " ('company', 1241),\n",
              " ('I', 1232),\n",
              " ('make', 1187),\n",
              " ('content', 1174),\n",
              " ('post', 1077)]"
            ]
          },
          "metadata": {},
          "execution_count": 20
        }
      ]
    },
    {
      "cell_type": "markdown",
      "metadata": {
        "id": "u3EYegdLd7v7"
      },
      "source": [
        "## Modeling"
      ]
    },
    {
      "cell_type": "code",
      "execution_count": null,
      "metadata": {
        "id": "0aVfjqrWeA0q"
      },
      "outputs": [],
      "source": [
        "clfs = [\n",
        "    ('LogisticRegression', LogisticRegression(max_iter=3000,\n",
        "                                              class_weight='balanced')), \n",
        "    ('RandomForest', RandomForestClassifier(max_depth=18,\n",
        "                                            n_estimators=75,\n",
        "                                            random_state=0)), \n",
        "    ('KNN 5', KNeighborsClassifier(n_neighbors=5)),\n",
        "    ('SVM C1', SVC(C=1, \n",
        "                   class_weight='balanced')),\n",
        "    ('MultinomialNB', MultinomialNB())\n",
        "]"
      ]
    },
    {
      "cell_type": "code",
      "execution_count": null,
      "metadata": {
        "colab": {
          "base_uri": "https://localhost:8080/"
        },
        "id": "sGv5ZSL6f0Db",
        "outputId": "7ac4894a-7bbd-4c9f-d60a-0262634c500b"
      },
      "outputs": [
        {
          "output_type": "stream",
          "name": "stdout",
          "text": [
            "\n",
            "StratifiedKFold - classifier: LogisticRegression:\n",
            "\n",
            "TRAIN index len: 548, start: [121 122 125], \tVALIDATION index len: 137, start: [0 1 2]\n",
            "\tMean y: TRAIN: 2.389,\tVALIDATION: 2.394\n",
            "TRAIN index len: 548, start: [0 1 2], \tVALIDATION index len: 137, start: [121 122 125]\n",
            "\tMean y: TRAIN: 2.394,\tVALIDATION: 2.372\n",
            "TRAIN index len: 548, start: [0 1 2], \tVALIDATION index len: 137, start: [255 258 260]\n",
            "\tMean y: TRAIN: 2.387,\tVALIDATION: 2.401\n",
            "TRAIN index len: 548, start: [0 1 2], \tVALIDATION index len: 137, start: [364 370 371]\n",
            "\tMean y: TRAIN: 2.387,\tVALIDATION: 2.401\n",
            "TRAIN index len: 548, start: [0 1 2], \tVALIDATION index len: 137, start: [481 498 512]\n",
            "\tMean y: TRAIN: 2.392,\tVALIDATION: 2.380\n",
            "Cross validation scores: mean: 0.780, all: [0.723, 0.788, 0.818, 0.73, 0.839]\n",
            "\n",
            "StratifiedKFold - classifier: RandomForest:\n",
            "\n",
            "TRAIN index len: 548, start: [121 122 125], \tVALIDATION index len: 137, start: [0 1 2]\n",
            "\tMean y: TRAIN: 2.389,\tVALIDATION: 2.394\n",
            "TRAIN index len: 548, start: [0 1 2], \tVALIDATION index len: 137, start: [121 122 125]\n",
            "\tMean y: TRAIN: 2.394,\tVALIDATION: 2.372\n",
            "TRAIN index len: 548, start: [0 1 2], \tVALIDATION index len: 137, start: [255 258 260]\n",
            "\tMean y: TRAIN: 2.387,\tVALIDATION: 2.401\n",
            "TRAIN index len: 548, start: [0 1 2], \tVALIDATION index len: 137, start: [364 370 371]\n",
            "\tMean y: TRAIN: 2.387,\tVALIDATION: 2.401\n",
            "TRAIN index len: 548, start: [0 1 2], \tVALIDATION index len: 137, start: [481 498 512]\n",
            "\tMean y: TRAIN: 2.392,\tVALIDATION: 2.380\n",
            "Cross validation scores: mean: 0.721, all: [0.664, 0.781, 0.745, 0.664, 0.752]\n",
            "\n",
            "StratifiedKFold - classifier: KNN 5:\n",
            "\n",
            "TRAIN index len: 548, start: [121 122 125], \tVALIDATION index len: 137, start: [0 1 2]\n",
            "\tMean y: TRAIN: 2.389,\tVALIDATION: 2.394\n",
            "TRAIN index len: 548, start: [0 1 2], \tVALIDATION index len: 137, start: [121 122 125]\n",
            "\tMean y: TRAIN: 2.394,\tVALIDATION: 2.372\n",
            "TRAIN index len: 548, start: [0 1 2], \tVALIDATION index len: 137, start: [255 258 260]\n",
            "\tMean y: TRAIN: 2.387,\tVALIDATION: 2.401\n",
            "TRAIN index len: 548, start: [0 1 2], \tVALIDATION index len: 137, start: [364 370 371]\n",
            "\tMean y: TRAIN: 2.387,\tVALIDATION: 2.401\n",
            "TRAIN index len: 548, start: [0 1 2], \tVALIDATION index len: 137, start: [481 498 512]\n",
            "\tMean y: TRAIN: 2.392,\tVALIDATION: 2.380\n",
            "Cross validation scores: mean: 0.631, all: [0.62, 0.635, 0.65, 0.584, 0.664]\n",
            "\n",
            "StratifiedKFold - classifier: SVM C1:\n",
            "\n",
            "TRAIN index len: 548, start: [121 122 125], \tVALIDATION index len: 137, start: [0 1 2]\n",
            "\tMean y: TRAIN: 2.389,\tVALIDATION: 2.394\n",
            "TRAIN index len: 548, start: [0 1 2], \tVALIDATION index len: 137, start: [121 122 125]\n",
            "\tMean y: TRAIN: 2.394,\tVALIDATION: 2.372\n",
            "TRAIN index len: 548, start: [0 1 2], \tVALIDATION index len: 137, start: [255 258 260]\n",
            "\tMean y: TRAIN: 2.387,\tVALIDATION: 2.401\n",
            "TRAIN index len: 548, start: [0 1 2], \tVALIDATION index len: 137, start: [364 370 371]\n",
            "\tMean y: TRAIN: 2.387,\tVALIDATION: 2.401\n",
            "TRAIN index len: 548, start: [0 1 2], \tVALIDATION index len: 137, start: [481 498 512]\n",
            "\tMean y: TRAIN: 2.392,\tVALIDATION: 2.380\n",
            "Cross validation scores: mean: 0.752, all: [0.701, 0.803, 0.759, 0.693, 0.803]\n",
            "\n",
            "StratifiedKFold - classifier: MultinomialNB:\n",
            "\n",
            "TRAIN index len: 548, start: [121 122 125], \tVALIDATION index len: 137, start: [0 1 2]\n",
            "\tMean y: TRAIN: 2.389,\tVALIDATION: 2.394\n",
            "TRAIN index len: 548, start: [0 1 2], \tVALIDATION index len: 137, start: [121 122 125]\n",
            "\tMean y: TRAIN: 2.394,\tVALIDATION: 2.372\n",
            "TRAIN index len: 548, start: [0 1 2], \tVALIDATION index len: 137, start: [255 258 260]\n",
            "\tMean y: TRAIN: 2.387,\tVALIDATION: 2.401\n",
            "TRAIN index len: 548, start: [0 1 2], \tVALIDATION index len: 137, start: [364 370 371]\n",
            "\tMean y: TRAIN: 2.387,\tVALIDATION: 2.401\n",
            "TRAIN index len: 548, start: [0 1 2], \tVALIDATION index len: 137, start: [481 498 512]\n",
            "\tMean y: TRAIN: 2.392,\tVALIDATION: 2.380\n",
            "Cross validation scores: mean: 0.642, all: [0.635, 0.664, 0.65, 0.577, 0.686]\n"
          ]
        }
      ],
      "source": [
        "for clf in clfs:\n",
        "  print(f'\\nStratifiedKFold - classifier: {clf[0]}:\\n')\n",
        "  skf = StratifiedKFold(n_splits=5)\n",
        "  for train_index, val_index in skf.split(X_train_tr, y_train):\n",
        "      print_train_val_len_start(train_index, val_index)\n",
        "      print(f'\\tMean y: TRAIN: {y_train.iloc[train_index].mean():.3f},\\tVALIDATION: {y_train.iloc[val_index].mean():.3f}')\n",
        "\n",
        "  scores = cross_val_score(clf[1], \n",
        "                          X_train_tr,\n",
        "                          y_train,\n",
        "                          cv=5)\n",
        "  \n",
        "  print_val_scores(scores)"
      ]
    },
    {
      "cell_type": "markdown",
      "metadata": {
        "id": "A8SShZlAiM-s"
      },
      "source": [
        "Checking results on the test set:"
      ]
    },
    {
      "cell_type": "code",
      "source": [
        "def get_best_clf(clfs, X_train, X_test, y_train, y_test):\n",
        "    results = []\n",
        "    best_clf = None\n",
        "    best_clf_name = None\n",
        "    best_accuracy = 0\n",
        "\n",
        "    for clf_name, clf in clfs:\n",
        "        clf.fit(X_train, y_train)\n",
        "        acc = clf.score(X_test, y_test) # accuracy score\n",
        "        \n",
        "        if acc > best_accuracy:\n",
        "            best_accuracy = acc\n",
        "            best_clf = clf\n",
        "            best_clf_name = clf_name\n",
        "\n",
        "        results.append({'clf': clf_name,\n",
        "                        'accuracy': acc})\n",
        "        \n",
        "    print(pd.DataFrame(results).set_index('clf'))\n",
        "\n",
        "    return best_clf, best_clf_name, best_accuracy"
      ],
      "metadata": {
        "id": "3WKXk15XN18Z"
      },
      "execution_count": null,
      "outputs": []
    },
    {
      "cell_type": "code",
      "execution_count": null,
      "metadata": {
        "colab": {
          "base_uri": "https://localhost:8080/"
        },
        "id": "aGg_SS1hW1yw",
        "outputId": "e5f439f3-e22a-4864-c578-99bd5ff1d8f2"
      },
      "outputs": [
        {
          "output_type": "stream",
          "name": "stdout",
          "text": [
            "                    accuracy\n",
            "clf                         \n",
            "LogisticRegression  0.790698\n",
            "RandomForest        0.750000\n",
            "KNN 5               0.668605\n",
            "SVM C1              0.761628\n",
            "MultinomialNB       0.616279\n",
            "Best classifier: LogisticRegression, test accuracy: 0.791\n"
          ]
        }
      ],
      "source": [
        "# clf, clf_name, val_acc = get_best_clf(clfs, X_train, X_test, y_train, y_test)\n",
        "# print(f'Best classifier: {clf_name}, validation accuracy: {val_acc:.3f}, '\n",
        "#       f'test accuracy: {clf.score(X_test, y_test):.3f}')\n",
        "\n",
        "clf, clf_name, test_acc = get_best_clf(clfs, X_train_tr, X_test_tr, y_train, y_test)\n",
        "print(f'Best classifier: {clf_name}, test accuracy: {test_acc:.3f}')"
      ]
    },
    {
      "cell_type": "code",
      "execution_count": null,
      "metadata": {
        "colab": {
          "base_uri": "https://localhost:8080/",
          "height": 674
        },
        "id": "wrxIZuatvin7",
        "outputId": "7ab87862-38f9-4f07-a2cf-6852a449ea30"
      },
      "outputs": [
        {
          "output_type": "display_data",
          "data": {
            "text/plain": [
              "<Figure size 432x288 with 2 Axes>"
            ],
            "image/png": "[encoded data removed]"
          },
          "metadata": {
            "needs_background": "light"
          }
        },
        {
          "output_type": "stream",
          "name": "stdout",
          "text": [
            "\n",
            "              precision    recall  f1-score   support\n",
            "\n",
            "     Article       0.00      0.00      0.00        17\n",
            "        Blog       0.48      0.88      0.62        40\n",
            "       Event       0.95      0.57      0.71        35\n",
            "        MISC       0.00      0.00      0.00        15\n",
            "          PR       0.56      0.93      0.70        30\n",
            "     Webinar       0.82      0.66      0.73        35\n",
            "\n",
            "    accuracy                           0.62       172\n",
            "   macro avg       0.47      0.51      0.46       172\n",
            "weighted avg       0.57      0.62      0.56       172\n",
            "\n"
          ]
        },
        {
          "output_type": "stream",
          "name": "stderr",
          "text": [
            "/usr/local/lib/python3.8/dist-packages/sklearn/metrics/_classification.py:1318: UndefinedMetricWarning: Precision and F-score are ill-defined and being set to 0.0 in labels with no predicted samples. Use `zero_division` parameter to control this behavior.\n",
            "  _warn_prf(average, modifier, msg_start, len(result))\n",
            "/usr/local/lib/python3.8/dist-packages/sklearn/metrics/_classification.py:1318: UndefinedMetricWarning: Precision and F-score are ill-defined and being set to 0.0 in labels with no predicted samples. Use `zero_division` parameter to control this behavior.\n",
            "  _warn_prf(average, modifier, msg_start, len(result))\n",
            "/usr/local/lib/python3.8/dist-packages/sklearn/metrics/_classification.py:1318: UndefinedMetricWarning: Precision and F-score are ill-defined and being set to 0.0 in labels with no predicted samples. Use `zero_division` parameter to control this behavior.\n",
            "  _warn_prf(average, modifier, msg_start, len(result))\n"
          ]
        }
      ],
      "source": [
        "clf = fit_model(MultinomialNB(),\n",
        "                X_train_tr, \n",
        "                y_train)\n",
        "\n",
        "y_pred = predict(clf, X_test_tr)\n",
        "\n",
        "print_confusion_matrix(y_test, y_pred, with_report=True)"
      ]
    },
    {
      "cell_type": "code",
      "execution_count": null,
      "metadata": {
        "colab": {
          "base_uri": "https://localhost:8080/",
          "height": 547
        },
        "id": "iwpto42C5dQR",
        "outputId": "7cd24261-84aa-4cb1-a670-98ffa3cabb9e"
      },
      "outputs": [
        {
          "output_type": "display_data",
          "data": {
            "text/plain": [
              "<Figure size 432x288 with 2 Axes>"
            ],
            "image/png": "[encoded data removed]"
          },
          "metadata": {
            "needs_background": "light"
          }
        },
        {
          "output_type": "stream",
          "name": "stdout",
          "text": [
            "\n",
            "              precision    recall  f1-score   support\n",
            "\n",
            "     Article       0.75      0.18      0.29        17\n",
            "        Blog       0.71      0.80      0.75        40\n",
            "       Event       0.76      0.91      0.83        35\n",
            "        MISC       1.00      0.53      0.70        15\n",
            "          PR       0.87      0.87      0.87        30\n",
            "     Webinar       0.70      0.86      0.77        35\n",
            "\n",
            "    accuracy                           0.76       172\n",
            "   macro avg       0.80      0.69      0.70       172\n",
            "weighted avg       0.77      0.76      0.74       172\n",
            "\n"
          ]
        }
      ],
      "source": [
        "clf = fit_model(SVC(C=1, \n",
        "                    class_weight='balanced'\n",
        "                    ),\n",
        "                X_train_tr, \n",
        "                y_train)\n",
        "\n",
        "y_pred = predict(clf, X_test_tr)\n",
        "\n",
        "print_confusion_matrix(y_test, y_pred, with_report=True)"
      ]
    },
    {
      "cell_type": "code",
      "execution_count": null,
      "metadata": {
        "colab": {
          "base_uri": "https://localhost:8080/",
          "height": 674
        },
        "id": "Hs_XD8NeWDLB",
        "outputId": "b240da2d-83f0-43f4-f4d7-d817d92461c7"
      },
      "outputs": [
        {
          "output_type": "display_data",
          "data": {
            "text/plain": [
              "<Figure size 432x288 with 2 Axes>"
            ],
            "image/png": "[encoded data removed]"
          },
          "metadata": {
            "needs_background": "light"
          }
        },
        {
          "output_type": "stream",
          "name": "stdout",
          "text": [
            "\n",
            "              precision    recall  f1-score   support\n",
            "\n",
            "     Article       0.00      0.00      0.00        17\n",
            "        Blog       0.70      0.82      0.76        40\n",
            "       Event       0.80      0.91      0.85        35\n",
            "        MISC       1.00      0.53      0.70        15\n",
            "          PR       0.80      0.93      0.86        30\n",
            "     Webinar       0.74      0.89      0.81        35\n",
            "\n",
            "    accuracy                           0.77       172\n",
            "   macro avg       0.67      0.68      0.66       172\n",
            "weighted avg       0.70      0.77      0.72       172\n",
            "\n"
          ]
        },
        {
          "output_type": "stream",
          "name": "stderr",
          "text": [
            "/usr/local/lib/python3.8/dist-packages/sklearn/metrics/_classification.py:1318: UndefinedMetricWarning: Precision and F-score are ill-defined and being set to 0.0 in labels with no predicted samples. Use `zero_division` parameter to control this behavior.\n",
            "  _warn_prf(average, modifier, msg_start, len(result))\n",
            "/usr/local/lib/python3.8/dist-packages/sklearn/metrics/_classification.py:1318: UndefinedMetricWarning: Precision and F-score are ill-defined and being set to 0.0 in labels with no predicted samples. Use `zero_division` parameter to control this behavior.\n",
            "  _warn_prf(average, modifier, msg_start, len(result))\n",
            "/usr/local/lib/python3.8/dist-packages/sklearn/metrics/_classification.py:1318: UndefinedMetricWarning: Precision and F-score are ill-defined and being set to 0.0 in labels with no predicted samples. Use `zero_division` parameter to control this behavior.\n",
            "  _warn_prf(average, modifier, msg_start, len(result))\n"
          ]
        }
      ],
      "source": [
        "clf = fit_model(LogisticRegression(max_iter=3000, \n",
        "                                  #  class_weight='balanced',\n",
        "                                   ), \n",
        "                X_train_tr, \n",
        "                y_train,\n",
        "                )\n",
        "\n",
        "y_pred = predict(clf, X_test_tr)\n",
        "\n",
        "print_confusion_matrix(y_test, y_pred, with_report=True)"
      ]
    },
    {
      "cell_type": "code",
      "source": [
        "clf = LogisticRegression(max_iter=3000, class_weight='balanced').fit(X_train_tr, y_train)\n",
        "acc = clf.score(X_test_tr, y_test) \n",
        "acc"
      ],
      "metadata": {
        "colab": {
          "base_uri": "https://localhost:8080/"
        },
        "id": "-vf1mR0vcQ20",
        "outputId": "5ca0c726-d834-43a9-98e2-40b6439f207b"
      },
      "execution_count": null,
      "outputs": [
        {
          "output_type": "execute_result",
          "data": {
            "text/plain": [
              "0.7906976744186046"
            ]
          },
          "metadata": {},
          "execution_count": 46
        }
      ]
    },
    {
      "cell_type": "code",
      "source": [
        "clf = fit_model(LogisticRegression(max_iter=3000, \n",
        "                                   class_weight='balanced',\n",
        "                                   ), \n",
        "                X_train_tr, \n",
        "                y_train,\n",
        "                )\n",
        "\n",
        "acc = clf.score(X_test_tr, y_test) \n",
        "acc\n",
        "\n"
      ],
      "metadata": {
        "colab": {
          "base_uri": "https://localhost:8080/"
        },
        "id": "fPWvSK_nc_zM",
        "outputId": "d54f1909-240d-4f17-9253-43f4e2b108d5"
      },
      "execution_count": null,
      "outputs": [
        {
          "output_type": "execute_result",
          "data": {
            "text/plain": [
              "0.7906976744186046"
            ]
          },
          "metadata": {},
          "execution_count": 47
        }
      ]
    },
    {
      "cell_type": "code",
      "source": [
        "def get_accuracy(y_test, y_pred):\n",
        "  accuracy = sum(y_pred == y_test) / len(y_test)\n",
        "  return accuracy\n",
        "\n",
        "def predict(clf, X_test):\n",
        "  y_pred = clf.predict(X_test)\n",
        "  return y_pred"
      ],
      "metadata": {
        "id": "19-xVRVdeqY-"
      },
      "execution_count": null,
      "outputs": []
    },
    {
      "cell_type": "code",
      "execution_count": null,
      "metadata": {
        "colab": {
          "base_uri": "https://localhost:8080/",
          "height": 547
        },
        "id": "7NUtygLZxaP7",
        "outputId": "dd276af2-8fcd-404f-e2a5-dd44c55cd8f4"
      },
      "outputs": [
        {
          "output_type": "display_data",
          "data": {
            "text/plain": [
              "<Figure size 432x288 with 2 Axes>"
            ],
            "image/png": "[encoded data removed]"
          },
          "metadata": {
            "needs_background": "light"
          }
        },
        {
          "output_type": "stream",
          "name": "stdout",
          "text": [
            "\n",
            "              precision    recall  f1-score   support\n",
            "\n",
            "     Article       0.55      0.35      0.43        17\n",
            "        Blog       0.82      0.80      0.81        40\n",
            "       Event       0.79      0.89      0.84        35\n",
            "        MISC       0.91      0.67      0.77        15\n",
            "          PR       0.87      0.87      0.87        30\n",
            "     Webinar       0.74      0.89      0.81        35\n",
            "\n",
            "    accuracy                           0.79       172\n",
            "   macro avg       0.78      0.74      0.75       172\n",
            "weighted avg       0.79      0.79      0.78       172\n",
            "\n"
          ]
        }
      ],
      "source": [
        "clf = fit_model(LogisticRegression(max_iter=3000, \n",
        "                                   class_weight='balanced',\n",
        "                                   ), \n",
        "                X_train_tr, \n",
        "                y_train,\n",
        "                )\n",
        "\n",
        "y_pred = predict(clf, X_test_tr)\n",
        "\n",
        "print_confusion_matrix(y_test, y_pred, with_report=True)"
      ]
    },
    {
      "cell_type": "code",
      "execution_count": null,
      "metadata": {
        "colab": {
          "base_uri": "https://localhost:8080/"
        },
        "id": "_3cXE7n8BzgT",
        "outputId": "030e1af3-5f26-4f27-f5c0-7e600e4c93eb"
      },
      "outputs": [
        {
          "output_type": "execute_result",
          "data": {
            "text/plain": [
              "(685, 16490)"
            ]
          },
          "metadata": {},
          "execution_count": 50
        }
      ],
      "source": [
        "X_train_tr.toarray().shape"
      ]
    },
    {
      "cell_type": "code",
      "execution_count": null,
      "metadata": {
        "colab": {
          "base_uri": "https://localhost:8080/",
          "height": 547
        },
        "id": "FsGzsdhfiMEl",
        "outputId": "26f96ef8-c267-4cdf-f597-9bebbd79f56a"
      },
      "outputs": [
        {
          "output_type": "display_data",
          "data": {
            "text/plain": [
              "<Figure size 432x288 with 2 Axes>"
            ],
            "image/png": "[encoded data removed]"
          },
          "metadata": {
            "needs_background": "light"
          }
        },
        {
          "output_type": "stream",
          "name": "stdout",
          "text": [
            "\n",
            "              precision    recall  f1-score   support\n",
            "\n",
            "     Article       0.33      0.29      0.31        17\n",
            "        Blog       0.61      0.82      0.70        40\n",
            "       Event       0.88      0.66      0.75        35\n",
            "        MISC       0.90      0.60      0.72        15\n",
            "          PR       0.63      0.90      0.74        30\n",
            "     Webinar       0.88      0.60      0.71        35\n",
            "\n",
            "    accuracy                           0.69       172\n",
            "   macro avg       0.71      0.65      0.66       172\n",
            "weighted avg       0.72      0.69      0.68       172\n",
            "\n"
          ]
        }
      ],
      "source": [
        "clf = fit_model(LogisticRegression(\n",
        "    max_iter=3000, \n",
        "    class_weight='balanced',\n",
        "    solver='liblinear', # default: 'lbfgs' \n",
        "    penalty='l1', # default: 'l2'\n",
        "    ), \n",
        "    X_train_tr, \n",
        "    y_train,\n",
        "    )\n",
        "\n",
        "y_pred = predict(clf, X_test_tr)\n",
        "\n",
        "print_confusion_matrix(y_test, y_pred, with_report=True)"
      ]
    },
    {
      "cell_type": "code",
      "execution_count": null,
      "metadata": {
        "id": "n3JbYJvieeoD"
      },
      "outputs": [],
      "source": [
        "# print_important_features(clf, features=5)"
      ]
    },
    {
      "cell_type": "code",
      "execution_count": null,
      "metadata": {
        "colab": {
          "base_uri": "https://localhost:8080/",
          "height": 1000
        },
        "id": "Ox6JIG0mqPzP",
        "outputId": "22512a21-68e8-42b4-aac0-eb60f550afae"
      },
      "outputs": [
        {
          "output_type": "execute_result",
          "data": {
            "text/plain": [
              "                               cleaned_lemmatized_text   y_true   y_pred\n",
              "932  IQVIA IQV buy remain Q2 Solutions Stake Ups EP...       PR     Blog\n",
              "821  reduce Clinical Trial Costs use decentralize c...     Blog  Article\n",
              "713  CVS ink deal Medable enroll patient clinical t...  Article       PR\n",
              "680  California end Verily covid19 testing partners...  Article       PR\n",
              "880  Power Patient Centricity Rare Disease Studies ...     Blog       PR\n",
              "904  introduce Medical Perspective Clinical Trial T...     Blog       PR\n",
              "207  millennial really want work thing rest Us Do f...  Article     MISC\n",
              "222  fully manage Magento Hosting JetRails fully ma...     MISC     Blog\n",
              "631  advance Data Management Practices Intelligent ...  Webinar       PR\n",
              "538  MedTech Digital Week Tuesday 9 March 2021 10 E...  Webinar  Article\n",
              "11   Element Index hrefhttp html5doctorcom author j...     MISC     Blog\n",
              "951  IQVIA IQV announce Launch Clinical Data Analyt...       PR     Blog\n",
              "842  ctm key Unlocking Clinical Data Power country ...     Blog  Webinar\n",
              "371  Women Leaders Emerging Tech Discussion co host...    Event     Blog\n",
              "105  Repurposing Content develop new material conte...  Article     Blog\n",
              "338  4th Virtual Clinical Trials switch virtual tri...    Event  Article\n",
              "688  current Health launch decentralize clinical tr...  Article       PR\n",
              "554  new Paths apply RWE OTC Medicines unlock poten...  Webinar       PR\n",
              "337  Veeva Research Sites Forum North America Clini...    Event  Article\n",
              "595  accelerate clinical adoption good practice AI ...  Webinar       PR\n",
              "740  IQVIA announce growth Orchestrated Customer En...  Article     Blog\n",
              "822  rnsa 2021 BrightInsight post conference perspe...     Blog    Event\n",
              "309  outsource Clinical Trials Clinical Trial Suppl...    Event     Blog\n",
              "269  Panel Discussion open datum rare disease DST C...    Event     Blog\n",
              "329  2022 HBS Health Care Conference New Care healt...     MISC    Event\n",
              "139  html element reference htmlcolon HyperText Mar...  Article     Blog\n",
              "626  HIMSS Learning Center Online Learning committe...     MISC  Webinar\n",
              "869  Intern full time employee celebrate two year T...     Blog  Article\n",
              "102  Great Content start Great Questions Content Ma...  Article     Blog\n",
              "473  brand prepared overcome Privacy Regulations CC...  Webinar     Blog\n",
              "228  ObvioHealth MAGI Clinical Research Conference ...  Webinar    Event\n",
              "912  Rare Diseases affect COVID Pandemic Raconteur ...     Blog  Article\n",
              "112  blogge 101 ABC start blog scratch blogging evo...     MISC     Blog\n",
              "689  IQVIA pay Quest Diagnostics 760 get full contr...  Article       PR\n",
              "530  Complex Biologics Development make simple Medi...  Webinar     Blog\n",
              "482  Key Considerations implement Decentralized Cli...  Webinar  Article\n",
              "768  Quest Diagnostics Offloads Interest Q2 Solutio...  Article  Webinar\n",
              "526  redefine Patient Engagement Patient Registries...  Webinar       PR\n",
              "336  Virtual ACRP 2021 ACRP 2021 EXPO 365 enjoy yea...    Event     Blog\n",
              "620  cancer wait ongoing impact covid19 health serv...  Webinar       PR\n",
              "321  Clinical Trials Europe look forward welcome In...    Event  Article\n",
              "555  Global Strategies accelerate Time Market Emerg...  Webinar       PR\n",
              "744  IQVIA Reports Third Quarter 2021 Results raise...       PR  Article\n",
              "352  B2B marketing Leaders Forum APAC 2022 move bey...    Event     Blog\n",
              "206  walk Meetings Right new HBR Learning Meeting M...  Article     Blog\n",
              "145  coronavirus outbreak grind e commerce operatio...  Article     Blog\n",
              "121  font display css Tricks font display property ...     MISC     Blog\n",
              "299  Conduct Decentralized Trials today new environ...    Event       PR\n",
              "253  IQVIA Biotech meet IQVIA Biotech team booth # ...    Event       PR\n",
              "550  21st Century Digital Lab Medidata Solutions co...  Webinar     Blog\n",
              "308  outsource Clinical Trials West Coast 2023 comp...    Event  Article\n",
              "404  10 000 day Transform Sept 21 23 2021 first day...    Event     Blog\n",
              "563  post pandemic change strategy Digital Transfor...  Webinar       PR\n",
              "580  Harness power ecoa next trial unlock potential...  Webinar       PR"
            ],
            "text/html": [
              "\n",
              "  <div id=\"df-0fa38555-5bbe-43ee-91e8-d6454b676e92\">\n",
              "    <div class=\"colab-df-container\">\n",
              "      <div>\n",
              "<style scoped>\n",
              "    .dataframe tbody tr th:only-of-type {\n",
              "        vertical-align: middle;\n",
              "    }\n",
              "\n",
              "    .dataframe tbody tr th {\n",
              "        vertical-align: top;\n",
              "    }\n",
              "\n",
              "    .dataframe thead th {\n",
              "        text-align: right;\n",
              "    }\n",
              "</style>\n",
              "<table border=\"1\" class=\"dataframe\">\n",
              "  <thead>\n",
              "    <tr style=\"text-align: right;\">\n",
              "      <th></th>\n",
              "      <th>cleaned_lemmatized_text</th>\n",
              "      <th>y_true</th>\n",
              "      <th>y_pred</th>\n",
              "    </tr>\n",
              "  </thead>\n",
              "  <tbody>\n",
              "    <tr>\n",
              "      <th>932</th>\n",
              "      <td>IQVIA IQV buy remain Q2 Solutions Stake Ups EP...</td>\n",
              "      <td>PR</td>\n",
              "      <td>Blog</td>\n",
              "    </tr>\n",
              "    <tr>\n",
              "      <th>821</th>\n",
              "      <td>reduce Clinical Trial Costs use decentralize c...</td>\n",
              "      <td>Blog</td>\n",
              "      <td>Article</td>\n",
              "    </tr>\n",
              "    <tr>\n",
              "      <th>713</th>\n",
              "      <td>CVS ink deal Medable enroll patient clinical t...</td>\n",
              "      <td>Article</td>\n",
              "      <td>PR</td>\n",
              "    </tr>\n",
              "    <tr>\n",
              "      <th>680</th>\n",
              "      <td>California end Verily covid19 testing partners...</td>\n",
              "      <td>Article</td>\n",
              "      <td>PR</td>\n",
              "    </tr>\n",
              "    <tr>\n",
              "      <th>880</th>\n",
              "      <td>Power Patient Centricity Rare Disease Studies ...</td>\n",
              "      <td>Blog</td>\n",
              "      <td>PR</td>\n",
              "    </tr>\n",
              "    <tr>\n",
              "      <th>904</th>\n",
              "      <td>introduce Medical Perspective Clinical Trial T...</td>\n",
              "      <td>Blog</td>\n",
              "      <td>PR</td>\n",
              "    </tr>\n",
              "    <tr>\n",
              "      <th>207</th>\n",
              "      <td>millennial really want work thing rest Us Do f...</td>\n",
              "      <td>Article</td>\n",
              "      <td>MISC</td>\n",
              "    </tr>\n",
              "    <tr>\n",
              "      <th>222</th>\n",
              "      <td>fully manage Magento Hosting JetRails fully ma...</td>\n",
              "      <td>MISC</td>\n",
              "      <td>Blog</td>\n",
              "    </tr>\n",
              "    <tr>\n",
              "      <th>631</th>\n",
              "      <td>advance Data Management Practices Intelligent ...</td>\n",
              "      <td>Webinar</td>\n",
              "      <td>PR</td>\n",
              "    </tr>\n",
              "    <tr>\n",
              "      <th>538</th>\n",
              "      <td>MedTech Digital Week Tuesday 9 March 2021 10 E...</td>\n",
              "      <td>Webinar</td>\n",
              "      <td>Article</td>\n",
              "    </tr>\n",
              "    <tr>\n",
              "      <th>11</th>\n",
              "      <td>Element Index hrefhttp html5doctorcom author j...</td>\n",
              "      <td>MISC</td>\n",
              "      <td>Blog</td>\n",
              "    </tr>\n",
              "    <tr>\n",
              "      <th>951</th>\n",
              "      <td>IQVIA IQV announce Launch Clinical Data Analyt...</td>\n",
              "      <td>PR</td>\n",
              "      <td>Blog</td>\n",
              "    </tr>\n",
              "    <tr>\n",
              "      <th>842</th>\n",
              "      <td>ctm key Unlocking Clinical Data Power country ...</td>\n",
              "      <td>Blog</td>\n",
              "      <td>Webinar</td>\n",
              "    </tr>\n",
              "    <tr>\n",
              "      <th>371</th>\n",
              "      <td>Women Leaders Emerging Tech Discussion co host...</td>\n",
              "      <td>Event</td>\n",
              "      <td>Blog</td>\n",
              "    </tr>\n",
              "    <tr>\n",
              "      <th>105</th>\n",
              "      <td>Repurposing Content develop new material conte...</td>\n",
              "      <td>Article</td>\n",
              "      <td>Blog</td>\n",
              "    </tr>\n",
              "    <tr>\n",
              "      <th>338</th>\n",
              "      <td>4th Virtual Clinical Trials switch virtual tri...</td>\n",
              "      <td>Event</td>\n",
              "      <td>Article</td>\n",
              "    </tr>\n",
              "    <tr>\n",
              "      <th>688</th>\n",
              "      <td>current Health launch decentralize clinical tr...</td>\n",
              "      <td>Article</td>\n",
              "      <td>PR</td>\n",
              "    </tr>\n",
              "    <tr>\n",
              "      <th>554</th>\n",
              "      <td>new Paths apply RWE OTC Medicines unlock poten...</td>\n",
              "      <td>Webinar</td>\n",
              "      <td>PR</td>\n",
              "    </tr>\n",
              "    <tr>\n",
              "      <th>337</th>\n",
              "      <td>Veeva Research Sites Forum North America Clini...</td>\n",
              "      <td>Event</td>\n",
              "      <td>Article</td>\n",
              "    </tr>\n",
              "    <tr>\n",
              "      <th>595</th>\n",
              "      <td>accelerate clinical adoption good practice AI ...</td>\n",
              "      <td>Webinar</td>\n",
              "      <td>PR</td>\n",
              "    </tr>\n",
              "    <tr>\n",
              "      <th>740</th>\n",
              "      <td>IQVIA announce growth Orchestrated Customer En...</td>\n",
              "      <td>Article</td>\n",
              "      <td>Blog</td>\n",
              "    </tr>\n",
              "    <tr>\n",
              "      <th>822</th>\n",
              "      <td>rnsa 2021 BrightInsight post conference perspe...</td>\n",
              "      <td>Blog</td>\n",
              "      <td>Event</td>\n",
              "    </tr>\n",
              "    <tr>\n",
              "      <th>309</th>\n",
              "      <td>outsource Clinical Trials Clinical Trial Suppl...</td>\n",
              "      <td>Event</td>\n",
              "      <td>Blog</td>\n",
              "    </tr>\n",
              "    <tr>\n",
              "      <th>269</th>\n",
              "      <td>Panel Discussion open datum rare disease DST C...</td>\n",
              "      <td>Event</td>\n",
              "      <td>Blog</td>\n",
              "    </tr>\n",
              "    <tr>\n",
              "      <th>329</th>\n",
              "      <td>2022 HBS Health Care Conference New Care healt...</td>\n",
              "      <td>MISC</td>\n",
              "      <td>Event</td>\n",
              "    </tr>\n",
              "    <tr>\n",
              "      <th>139</th>\n",
              "      <td>html element reference htmlcolon HyperText Mar...</td>\n",
              "      <td>Article</td>\n",
              "      <td>Blog</td>\n",
              "    </tr>\n",
              "    <tr>\n",
              "      <th>626</th>\n",
              "      <td>HIMSS Learning Center Online Learning committe...</td>\n",
              "      <td>MISC</td>\n",
              "      <td>Webinar</td>\n",
              "    </tr>\n",
              "    <tr>\n",
              "      <th>869</th>\n",
              "      <td>Intern full time employee celebrate two year T...</td>\n",
              "      <td>Blog</td>\n",
              "      <td>Article</td>\n",
              "    </tr>\n",
              "    <tr>\n",
              "      <th>102</th>\n",
              "      <td>Great Content start Great Questions Content Ma...</td>\n",
              "      <td>Article</td>\n",
              "      <td>Blog</td>\n",
              "    </tr>\n",
              "    <tr>\n",
              "      <th>473</th>\n",
              "      <td>brand prepared overcome Privacy Regulations CC...</td>\n",
              "      <td>Webinar</td>\n",
              "      <td>Blog</td>\n",
              "    </tr>\n",
              "    <tr>\n",
              "      <th>228</th>\n",
              "      <td>ObvioHealth MAGI Clinical Research Conference ...</td>\n",
              "      <td>Webinar</td>\n",
              "      <td>Event</td>\n",
              "    </tr>\n",
              "    <tr>\n",
              "      <th>912</th>\n",
              "      <td>Rare Diseases affect COVID Pandemic Raconteur ...</td>\n",
              "      <td>Blog</td>\n",
              "      <td>Article</td>\n",
              "    </tr>\n",
              "    <tr>\n",
              "      <th>112</th>\n",
              "      <td>blogge 101 ABC start blog scratch blogging evo...</td>\n",
              "      <td>MISC</td>\n",
              "      <td>Blog</td>\n",
              "    </tr>\n",
              "    <tr>\n",
              "      <th>689</th>\n",
              "      <td>IQVIA pay Quest Diagnostics 760 get full contr...</td>\n",
              "      <td>Article</td>\n",
              "      <td>PR</td>\n",
              "    </tr>\n",
              "    <tr>\n",
              "      <th>530</th>\n",
              "      <td>Complex Biologics Development make simple Medi...</td>\n",
              "      <td>Webinar</td>\n",
              "      <td>Blog</td>\n",
              "    </tr>\n",
              "    <tr>\n",
              "      <th>482</th>\n",
              "      <td>Key Considerations implement Decentralized Cli...</td>\n",
              "      <td>Webinar</td>\n",
              "      <td>Article</td>\n",
              "    </tr>\n",
              "    <tr>\n",
              "      <th>768</th>\n",
              "      <td>Quest Diagnostics Offloads Interest Q2 Solutio...</td>\n",
              "      <td>Article</td>\n",
              "      <td>Webinar</td>\n",
              "    </tr>\n",
              "    <tr>\n",
              "      <th>526</th>\n",
              "      <td>redefine Patient Engagement Patient Registries...</td>\n",
              "      <td>Webinar</td>\n",
              "      <td>PR</td>\n",
              "    </tr>\n",
              "    <tr>\n",
              "      <th>336</th>\n",
              "      <td>Virtual ACRP 2021 ACRP 2021 EXPO 365 enjoy yea...</td>\n",
              "      <td>Event</td>\n",
              "      <td>Blog</td>\n",
              "    </tr>\n",
              "    <tr>\n",
              "      <th>620</th>\n",
              "      <td>cancer wait ongoing impact covid19 health serv...</td>\n",
              "      <td>Webinar</td>\n",
              "      <td>PR</td>\n",
              "    </tr>\n",
              "    <tr>\n",
              "      <th>321</th>\n",
              "      <td>Clinical Trials Europe look forward welcome In...</td>\n",
              "      <td>Event</td>\n",
              "      <td>Article</td>\n",
              "    </tr>\n",
              "    <tr>\n",
              "      <th>555</th>\n",
              "      <td>Global Strategies accelerate Time Market Emerg...</td>\n",
              "      <td>Webinar</td>\n",
              "      <td>PR</td>\n",
              "    </tr>\n",
              "    <tr>\n",
              "      <th>744</th>\n",
              "      <td>IQVIA Reports Third Quarter 2021 Results raise...</td>\n",
              "      <td>PR</td>\n",
              "      <td>Article</td>\n",
              "    </tr>\n",
              "    <tr>\n",
              "      <th>352</th>\n",
              "      <td>B2B marketing Leaders Forum APAC 2022 move bey...</td>\n",
              "      <td>Event</td>\n",
              "      <td>Blog</td>\n",
              "    </tr>\n",
              "    <tr>\n",
              "      <th>206</th>\n",
              "      <td>walk Meetings Right new HBR Learning Meeting M...</td>\n",
              "      <td>Article</td>\n",
              "      <td>Blog</td>\n",
              "    </tr>\n",
              "    <tr>\n",
              "      <th>145</th>\n",
              "      <td>coronavirus outbreak grind e commerce operatio...</td>\n",
              "      <td>Article</td>\n",
              "      <td>Blog</td>\n",
              "    </tr>\n",
              "    <tr>\n",
              "      <th>121</th>\n",
              "      <td>font display css Tricks font display property ...</td>\n",
              "      <td>MISC</td>\n",
              "      <td>Blog</td>\n",
              "    </tr>\n",
              "    <tr>\n",
              "      <th>299</th>\n",
              "      <td>Conduct Decentralized Trials today new environ...</td>\n",
              "      <td>Event</td>\n",
              "      <td>PR</td>\n",
              "    </tr>\n",
              "    <tr>\n",
              "      <th>253</th>\n",
              "      <td>IQVIA Biotech meet IQVIA Biotech team booth # ...</td>\n",
              "      <td>Event</td>\n",
              "      <td>PR</td>\n",
              "    </tr>\n",
              "    <tr>\n",
              "      <th>550</th>\n",
              "      <td>21st Century Digital Lab Medidata Solutions co...</td>\n",
              "      <td>Webinar</td>\n",
              "      <td>Blog</td>\n",
              "    </tr>\n",
              "    <tr>\n",
              "      <th>308</th>\n",
              "      <td>outsource Clinical Trials West Coast 2023 comp...</td>\n",
              "      <td>Event</td>\n",
              "      <td>Article</td>\n",
              "    </tr>\n",
              "    <tr>\n",
              "      <th>404</th>\n",
              "      <td>10 000 day Transform Sept 21 23 2021 first day...</td>\n",
              "      <td>Event</td>\n",
              "      <td>Blog</td>\n",
              "    </tr>\n",
              "    <tr>\n",
              "      <th>563</th>\n",
              "      <td>post pandemic change strategy Digital Transfor...</td>\n",
              "      <td>Webinar</td>\n",
              "      <td>PR</td>\n",
              "    </tr>\n",
              "    <tr>\n",
              "      <th>580</th>\n",
              "      <td>Harness power ecoa next trial unlock potential...</td>\n",
              "      <td>Webinar</td>\n",
              "      <td>PR</td>\n",
              "    </tr>\n",
              "  </tbody>\n",
              "</table>\n",
              "</div>\n",
              "      <button class=\"colab-df-convert\" onclick=\"convertToInteractive('df-0fa38555-5bbe-43ee-91e8-d6454b676e92')\"\n",
              "              title=\"Convert this dataframe to an interactive table.\"\n",
              "              style=\"display:none;\">\n",
              "        \n",
              "  <svg xmlns=\"http://www.w3.org/2000/svg\" height=\"24px\"viewBox=\"0 0 24 24\"\n",
              "       width=\"24px\">\n",
              "    <path d=\"M0 0h24v24H0V0z\" fill=\"none\"/>\n",
              "    <path d=\"M18.56 5.44l.94 2.06.94-2.06 2.06-.94-2.06-.94-.94-2.06-.94 2.06-2.06.94zm-11 1L8.5 8.5l.94-2.06 2.06-.94-2.06-.94L8.5 2.5l-.94 2.06-2.06.94zm10 10l.94 2.06.94-2.06 2.06-.94-2.06-.94-.94-2.06-.94 2.06-2.06.94z\"/><path d=\"M17.41 7.96l-1.37-1.37c-.4-.4-.92-.59-1.43-.59-.52 0-1.04.2-1.43.59L10.3 9.45l-7.72 7.72c-.78.78-.78 2.05 0 2.83L4 21.41c.39.39.9.59 1.41.59.51 0 1.02-.2 1.41-.59l7.78-7.78 2.81-2.81c.8-.78.8-2.07 0-2.86zM5.41 20L4 18.59l7.72-7.72 1.47 1.35L5.41 20z\"/>\n",
              "  </svg>\n",
              "      </button>\n",
              "      \n",
              "  <style>\n",
              "    .colab-df-container {\n",
              "      display:flex;\n",
              "      flex-wrap:wrap;\n",
              "      gap: 12px;\n",
              "    }\n",
              "\n",
              "    .colab-df-convert {\n",
              "      background-color: #E8F0FE;\n",
              "      border: none;\n",
              "      border-radius: 50%;\n",
              "      cursor: pointer;\n",
              "      display: none;\n",
              "      fill: #1967D2;\n",
              "      height: 32px;\n",
              "      padding: 0 0 0 0;\n",
              "      width: 32px;\n",
              "    }\n",
              "\n",
              "    .colab-df-convert:hover {\n",
              "      background-color: #E2EBFA;\n",
              "      box-shadow: 0px 1px 2px rgba(60, 64, 67, 0.3), 0px 1px 3px 1px rgba(60, 64, 67, 0.15);\n",
              "      fill: #174EA6;\n",
              "    }\n",
              "\n",
              "    [theme=dark] .colab-df-convert {\n",
              "      background-color: #3B4455;\n",
              "      fill: #D2E3FC;\n",
              "    }\n",
              "\n",
              "    [theme=dark] .colab-df-convert:hover {\n",
              "      background-color: #434B5C;\n",
              "      box-shadow: 0px 1px 3px 1px rgba(0, 0, 0, 0.15);\n",
              "      filter: drop-shadow(0px 1px 2px rgba(0, 0, 0, 0.3));\n",
              "      fill: #FFFFFF;\n",
              "    }\n",
              "  </style>\n",
              "\n",
              "      <script>\n",
              "        const buttonEl =\n",
              "          document.querySelector('#df-0fa38555-5bbe-43ee-91e8-d6454b676e92 button.colab-df-convert');\n",
              "        buttonEl.style.display =\n",
              "          google.colab.kernel.accessAllowed ? 'block' : 'none';\n",
              "\n",
              "        async function convertToInteractive(key) {\n",
              "          const element = document.querySelector('#df-0fa38555-5bbe-43ee-91e8-d6454b676e92');\n",
              "          const dataTable =\n",
              "            await google.colab.kernel.invokeFunction('convertToInteractive',\n",
              "                                                     [key], {});\n",
              "          if (!dataTable) return;\n",
              "\n",
              "          const docLinkHtml = 'Like what you see? Visit the ' +\n",
              "            '<a target=\"_blank\" href=https://colab.research.google.com/notebooks/data_table.ipynb>data table notebook</a>'\n",
              "            + ' to learn more about interactive tables.';\n",
              "          element.innerHTML = '';\n",
              "          dataTable['output_type'] = 'display_data';\n",
              "          await google.colab.output.renderOutput(dataTable, element);\n",
              "          const docLink = document.createElement('div');\n",
              "          docLink.innerHTML = docLinkHtml;\n",
              "          element.appendChild(docLink);\n",
              "        }\n",
              "      </script>\n",
              "    </div>\n",
              "  </div>\n",
              "  "
            ]
          },
          "metadata": {},
          "execution_count": 56
        }
      ],
      "source": [
        "misclassified_df = create_misclassified_df(X_test, y_test, y_pred)\n",
        "assert (misclassified_df['y_true'] != misclassified_df['y_pred']).all()\n",
        "misclassified_df"
      ]
    },
    {
      "cell_type": "code",
      "execution_count": null,
      "metadata": {
        "colab": {
          "base_uri": "https://localhost:8080/",
          "height": 143
        },
        "id": "4mOhN5ig8y0o",
        "outputId": "bbb0b5a4-0fda-42b5-e4be-476b8c774edb"
      },
      "outputs": [
        {
          "output_type": "execute_result",
          "data": {
            "text/plain": [
              "'IQVIA IQV buy remain Q2 Solutions Stake Ups EPS View page authorize sponsor otherwise approve endorse company represent herein company logo represent herein trademark Microsoft Corporation Dow Jones Company Nasdaq Inc Forbes Media LLC Investor Business Daily Inc Morningstar Inc Copyright 2022 Zacks Investment Research 10 Riverside Plaza Suite # 1600 Chicago IL 60606 center everything strong commitment independent research share profitable discovery investor dedication give investor trading advantage lead creation prove Zacks Rank stock rating system since 1988 double SP 500 average gain +2451 per year return cover period January 1 1988 September 12 2022 Zacks Rank stock rating system return compute monthly base beginning month end month Zacks Rank stock price plus dividend receive particular month simple equally weight average return Zacks Rank stock calculate determine monthly return monthly return compound arrive annual return Zacks Rank stock include Zacks hypothetical portfolio beginning month include return calculation zack rank stock often change throughout month certain Zacks Rank stock month end price available pricing information collect certain reason exclude return calculation visit Performance disclosure information performance number display visit wwwzacksdatacom get datum content mobile app website real time price BATS delay quote Sungard NYSE AMEX datum least 20 minute delay NASDAQ data least 15 minute delay site protect reCAPTCHA Google Privacy Policy term Service apply'"
            ],
            "application/vnd.google.colaboratory.intrinsic+json": {
              "type": "string"
            }
          },
          "metadata": {},
          "execution_count": 58
        }
      ],
      "source": [
        "INDEX = 0\n",
        "true_index = misclassified_df.index[INDEX]\n",
        "misclassified_df.loc[true_index, 'cleaned_lemmatized_text']"
      ]
    },
    {
      "cell_type": "markdown",
      "metadata": {
        "id": "pkv3vI9Bj1P6"
      },
      "source": [
        "# 2. DistilBERT approach (Ashwin N)"
      ]
    },
    {
      "cell_type": "markdown",
      "metadata": {
        "id": "PFTfCyWBkUn8"
      },
      "source": [
        "### Preprocessing"
      ]
    },
    {
      "cell_type": "code",
      "source": [
        "df_text[TARGET] = df_text[TARGET].replace(labels_encoded)"
      ],
      "metadata": {
        "id": "G7N_i_uQQbpJ"
      },
      "execution_count": 22,
      "outputs": []
    },
    {
      "cell_type": "code",
      "source": [
        "X_train, X_test, y_train, y_test = split_data(df_text, column=TEXT, test_size=0.2, val_size=None, random_state=0)"
      ],
      "metadata": {
        "id": "kUUWVvUONBiY"
      },
      "execution_count": 63,
      "outputs": []
    },
    {
      "cell_type": "code",
      "source": [
        "X_train.shape, X_test.shape, y_train.shape, y_test.shape"
      ],
      "metadata": {
        "colab": {
          "base_uri": "https://localhost:8080/"
        },
        "id": "nGCggIFnW_ls",
        "outputId": "6536f302-e743-4288-9e06-87fd9e141837"
      },
      "execution_count": 64,
      "outputs": [
        {
          "output_type": "execute_result",
          "data": {
            "text/plain": [
              "((685, 1), (172, 1), (685,), (172,))"
            ]
          },
          "metadata": {},
          "execution_count": 64
        }
      ]
    },
    {
      "cell_type": "code",
      "source": [
        "def create_datasetdict(X_train: pd.DataFrame, X_test: pd.DataFrame, y_train: pd.Series, \n",
        "                       y_test: pd.Series, X_val: pd.DataFrame = None, y_val: pd.Series = None) -> DatasetDict:\n",
        "  \"\"\"\n",
        "  Creates a DatasetDict object from pandas DataFrames and Series.\n",
        "  \n",
        "  Parameters:\n",
        "  - X_train: pandas DataFrame containing the input data for the training set.\n",
        "  - X_test: pandas DataFrame containing the input data for the test set.\n",
        "  - y_train: pandas Series containing the target data for the training set.\n",
        "  - y_test: pandas Series containing the target data for the test set.\n",
        "  - X_val: (optional) pandas DataFrame containing the input data for the validation set.\n",
        "  - y_val: (optional) pandas Series containing the target data for the validation set.\n",
        "  \n",
        "  Returns:\n",
        "  - dataset: DatasetDict object containing the training, validation (optional) and test sets.\n",
        "  \"\"\"\n",
        "\n",
        "  datasets = {\n",
        "    'train': Dataset.from_dict(\n",
        "        {TEXT: X_train[TEXT],\n",
        "         TARGET: y_train,\n",
        "         }\n",
        "         ),\n",
        "    'test': Dataset.from_dict(\n",
        "        {TEXT: X_test[TEXT],\n",
        "         TARGET: y_test,\n",
        "         }\n",
        "         )\n",
        "    }\n",
        "  \n",
        "  if X_val is not None and y_val is not None:\n",
        "    datasets['validation'] = Dataset.from_dict(\n",
        "        {TEXT: X_val[TEXT],\n",
        "         TARGET: y_val,\n",
        "         }\n",
        "         )\n",
        "\n",
        "  dataset = DatasetDict(datasets)\n",
        "  \n",
        "  return dataset"
      ],
      "metadata": {
        "id": "rmDdaN69QyS9"
      },
      "execution_count": 65,
      "outputs": []
    },
    {
      "cell_type": "code",
      "source": [
        "dataset = create_datasetdict(X_train, X_test, y_train, y_test)"
      ],
      "metadata": {
        "id": "XmKC_udOUO0n"
      },
      "execution_count": 66,
      "outputs": []
    },
    {
      "cell_type": "code",
      "source": [
        "dataset"
      ],
      "metadata": {
        "colab": {
          "base_uri": "https://localhost:8080/"
        },
        "id": "9QivHgTRWnpW",
        "outputId": "811b2c60-e90e-423c-a81a-384a7b27acc2"
      },
      "execution_count": 67,
      "outputs": [
        {
          "output_type": "execute_result",
          "data": {
            "text/plain": [
              "DatasetDict({\n",
              "    train: Dataset({\n",
              "        features: ['text', 'label'],\n",
              "        num_rows: 685\n",
              "    })\n",
              "    test: Dataset({\n",
              "        features: ['text', 'label'],\n",
              "        num_rows: 172\n",
              "    })\n",
              "})"
            ]
          },
          "metadata": {},
          "execution_count": 67
        }
      ]
    },
    {
      "cell_type": "code",
      "execution_count": 68,
      "metadata": {
        "id": "FJ2rH2UeKGOH"
      },
      "outputs": [],
      "source": [
        "model_ckpt = \"distilbert-base-uncased\"\n",
        "tokenizer = AutoTokenizer.from_pretrained(model_ckpt)"
      ]
    },
    {
      "cell_type": "code",
      "execution_count": 69,
      "metadata": {
        "id": "oo83xEZNLSb4"
      },
      "outputs": [],
      "source": [
        "def tokenize(batch):\n",
        "    return tokenizer(batch[TEXT], padding=True, truncation=True)"
      ]
    },
    {
      "cell_type": "code",
      "execution_count": 70,
      "metadata": {
        "colab": {
          "base_uri": "https://localhost:8080/",
          "height": 81,
          "referenced_widgets": [
            "b0b9a278aaee41708e49a5192e1cf3b9",
            "ede1b0f1d02040fdb46598eec4913e1a",
            "b390316fb04f4e07a1a599dadfb29a1b",
            "87d7463e44d14977ae51f5b3b6352737",
            "6392fc56961345bd830af2236bc6a68c",
            "5235d88f78b748bb854686629613b6d1",
            "e1dde7d23ab045fa9675d00b65b2b437",
            "4b055e87c1a747bda082f3f13633d129",
            "c84de846c76f459fbf65f8f8b9440f0e",
            "9080673b39234771bcbcdeb884730c0c",
            "97524ce82a4c4327a8ee4d489000f72e",
            "2b420b4cdbce41708eadfee6de609218",
            "7295378feefd43d69462170a47de0d7e",
            "aec9a93595d84748a7ffc802856625f1",
            "718a6bbe0a16490e9ef4d1dfe2a9d884",
            "82b5b93b24ec4e81a6aea726f9680b45",
            "15ff61937c404a388f04d6a218d05d66",
            "3dfdfda47b214d019d0a7debf67f7420",
            "295804a9540145b2b3d78e501af69314",
            "fd5bfcf898ca4d58bd1c4cbdddc03956",
            "d1eca58a707d4681b06c4e8ce3c9ac48",
            "aab690a02334427682d422b269074375"
          ]
        },
        "id": "XjUpsqs0LdI9",
        "outputId": "c89edfcd-c9e4-4cdb-e839-e19008674b38"
      },
      "outputs": [
        {
          "output_type": "display_data",
          "data": {
            "text/plain": [
              "  0%|          | 0/1 [00:00<?, ?ba/s]"
            ],
            "application/vnd.jupyter.widget-view+json": {
              "version_major": 2,
              "version_minor": 0,
              "model_id": "b0b9a278aaee41708e49a5192e1cf3b9"
            }
          },
          "metadata": {}
        },
        {
          "output_type": "display_data",
          "data": {
            "text/plain": [
              "  0%|          | 0/1 [00:00<?, ?ba/s]"
            ],
            "application/vnd.jupyter.widget-view+json": {
              "version_major": 2,
              "version_minor": 0,
              "model_id": "2b420b4cdbce41708eadfee6de609218"
            }
          },
          "metadata": {}
        }
      ],
      "source": [
        "dataset_encoded = dataset.map(\n",
        "    tokenize, \n",
        "    batched=True, \n",
        "    batch_size=None,\n",
        "    )"
      ]
    },
    {
      "cell_type": "code",
      "execution_count": 71,
      "metadata": {
        "colab": {
          "base_uri": "https://localhost:8080/"
        },
        "id": "QF4E2nnILqDh",
        "outputId": "66179dd8-896e-42d2-e879-f4c781874592"
      },
      "outputs": [
        {
          "output_type": "stream",
          "name": "stderr",
          "text": [
            "Some layers from the model checkpoint at distilbert-base-uncased were not used when initializing TFDistilBertModel: ['vocab_transform', 'vocab_layer_norm', 'activation_13', 'vocab_projector']\n",
            "- This IS expected if you are initializing TFDistilBertModel from the checkpoint of a model trained on another task or with another architecture (e.g. initializing a BertForSequenceClassification model from a BertForPreTraining model).\n",
            "- This IS NOT expected if you are initializing TFDistilBertModel from the checkpoint of a model that you expect to be exactly identical (initializing a BertForSequenceClassification model from a BertForSequenceClassification model).\n",
            "All the layers of TFDistilBertModel were initialized from the model checkpoint at distilbert-base-uncased.\n",
            "If your task is similar to the task the model of the checkpoint was trained on, you can already use TFDistilBertModel for predictions without further training.\n"
          ]
        }
      ],
      "source": [
        "tf_model = TFAutoModel.from_pretrained(model_ckpt)"
      ]
    },
    {
      "cell_type": "code",
      "execution_count": 72,
      "metadata": {
        "id": "2UirnPdrMLyd"
      },
      "outputs": [],
      "source": [
        "dataset_encoded.reset_format()\n",
        "\n",
        "def extract_hidden_states(batch):\n",
        "    # First convert text to tokens\n",
        "    inputs = tokenizer(\n",
        "        batch[TEXT], \n",
        "        padding=True, \n",
        "        truncation=True, \n",
        "        return_tensors='tf',\n",
        "        )\n",
        "    \n",
        "    # Extract last hidden states\n",
        "    outputs = tf_model(inputs)\n",
        "\n",
        "     # Return vector for [CLS] token\n",
        "    return {'hidden_state': outputs.last_hidden_state[:, 0].numpy()}"
      ]
    },
    {
      "cell_type": "code",
      "execution_count": 73,
      "metadata": {
        "colab": {
          "base_uri": "https://localhost:8080/",
          "height": 351,
          "referenced_widgets": [
            "95e02698a13042ffa4dfad82af71f2b4",
            "177697eda6204cc1a309d2b444c807af",
            "3891c73eb5c94a6c962c32b16f68064e",
            "f6fa8b76cf7745b4bcfad07deb2e9e4a",
            "e08bc0ca9e3c49d492f190e1c19eaf22",
            "556b3024f17a48b9baddd7590020df2d",
            "010bd429c554429eb259888e37eecb3a",
            "8cfa4dadfb21465d8ba88d53c15dfec1",
            "b53b608ceaf64c4bbc7b57cd23503b32",
            "909a329d28494de398e2c7c5fa0d7398",
            "f1799d8b4cd244c689cbb924223ed6b5",
            "b5de9e113b4c410bb2a9dddd2957db7c",
            "d9d9f36e2a2e42f293a42c00ae15ff6e",
            "02425dedb5c042f2a53f980962f99c24",
            "0141ad57415542adbaf2ee8d4338e9d4",
            "b67bf5ef60bf42a4a40d9c6b8f583564",
            "edfd8578e61b4fc080cbd746964c38d6",
            "2c8b38388a32400380dcc2aa6b37b9e1",
            "fc1e2f5307fe45bea590268a3d1df978",
            "5d737dc31980425fbe13c9afef247064",
            "3a294c010fc949d9843d6aef24322fe0",
            "ab18772bb9d6495bb92420a8b96bc38c"
          ]
        },
        "id": "NbIkt76cOXDD",
        "outputId": "cb1d0951-f743-425a-bdee-a670baae0ddb"
      },
      "outputs": [
        {
          "output_type": "stream",
          "name": "stderr",
          "text": [
            "WARNING:tensorflow:Skipping full serialization of Keras layer <keras.layers.regularization.dropout.Dropout object at 0x7fa5b3390760>, because it is not built.\n",
            "WARNING:tensorflow:Skipping full serialization of Keras layer <keras.layers.regularization.dropout.Dropout object at 0x7fa5b3135130>, because it is not built.\n",
            "WARNING:tensorflow:Skipping full serialization of Keras layer <keras.layers.regularization.dropout.Dropout object at 0x7fa5b3132730>, because it is not built.\n",
            "WARNING:tensorflow:Skipping full serialization of Keras layer <keras.layers.regularization.dropout.Dropout object at 0x7fa5ae2f9d30>, because it is not built.\n",
            "WARNING:tensorflow:Skipping full serialization of Keras layer <keras.layers.regularization.dropout.Dropout object at 0x7fa5ae30a370>, because it is not built.\n",
            "WARNING:tensorflow:Skipping full serialization of Keras layer <keras.layers.regularization.dropout.Dropout object at 0x7fa5ae314970>, because it is not built.\n",
            "WARNING:absl:Found untraced functions such as embeddings_layer_call_fn, embeddings_layer_call_and_return_conditional_losses, transformer_layer_call_fn, transformer_layer_call_and_return_conditional_losses, LayerNorm_layer_call_fn while saving (showing 5 of 164). These functions will not be directly callable after loading.\n"
          ]
        },
        {
          "output_type": "display_data",
          "data": {
            "text/plain": [
              "  0%|          | 0/43 [00:00<?, ?ba/s]"
            ],
            "application/vnd.jupyter.widget-view+json": {
              "version_major": 2,
              "version_minor": 0,
              "model_id": "95e02698a13042ffa4dfad82af71f2b4"
            }
          },
          "metadata": {}
        },
        {
          "output_type": "stream",
          "name": "stderr",
          "text": [
            "WARNING:tensorflow:Skipping full serialization of Keras layer <keras.layers.regularization.dropout.Dropout object at 0x7fa5b3390760>, because it is not built.\n",
            "WARNING:tensorflow:Skipping full serialization of Keras layer <keras.layers.regularization.dropout.Dropout object at 0x7fa5b3135130>, because it is not built.\n",
            "WARNING:tensorflow:Skipping full serialization of Keras layer <keras.layers.regularization.dropout.Dropout object at 0x7fa5b3132730>, because it is not built.\n",
            "WARNING:tensorflow:Skipping full serialization of Keras layer <keras.layers.regularization.dropout.Dropout object at 0x7fa5ae2f9d30>, because it is not built.\n",
            "WARNING:tensorflow:Skipping full serialization of Keras layer <keras.layers.regularization.dropout.Dropout object at 0x7fa5ae30a370>, because it is not built.\n",
            "WARNING:tensorflow:Skipping full serialization of Keras layer <keras.layers.regularization.dropout.Dropout object at 0x7fa5ae314970>, because it is not built.\n",
            "WARNING:absl:Found untraced functions such as embeddings_layer_call_fn, embeddings_layer_call_and_return_conditional_losses, transformer_layer_call_fn, transformer_layer_call_and_return_conditional_losses, LayerNorm_layer_call_fn while saving (showing 5 of 164). These functions will not be directly callable after loading.\n"
          ]
        },
        {
          "output_type": "display_data",
          "data": {
            "text/plain": [
              "  0%|          | 0/11 [00:00<?, ?ba/s]"
            ],
            "application/vnd.jupyter.widget-view+json": {
              "version_major": 2,
              "version_minor": 0,
              "model_id": "b5de9e113b4c410bb2a9dddd2957db7c"
            }
          },
          "metadata": {}
        }
      ],
      "source": [
        "dataset_hidden = dataset_encoded.map(\n",
        "    extract_hidden_states, \n",
        "    batched=True, \n",
        "    batch_size=16,\n",
        "    )"
      ]
    },
    {
      "cell_type": "code",
      "execution_count": 74,
      "metadata": {
        "id": "sUM-AR0AOb0-"
      },
      "outputs": [],
      "source": [
        "X_train_ = np.array(dataset_hidden['train']['hidden_state'])\n",
        "# X_valid_ = np.array(dataset_hidden['validation']['hidden_state'])\n",
        "\n",
        "y_train_ = np.array(dataset_hidden['train']['label'])\n",
        "# y_valid_ = np.array(dataset_hidden['validation']['label'])\n",
        "\n",
        "X_test_ = np.array(dataset_hidden['test']['hidden_state'])\n",
        "y_test_ = np.array(dataset_hidden['test']['label'])"
      ]
    },
    {
      "cell_type": "code",
      "execution_count": 75,
      "metadata": {
        "colab": {
          "base_uri": "https://localhost:8080/"
        },
        "id": "3nyJFjY0hszs",
        "outputId": "1b5a344a-993e-42ac-cd70-134eff0a3bb3"
      },
      "outputs": [
        {
          "output_type": "execute_result",
          "data": {
            "text/plain": [
              "((685, 768), (172, 768), (685,), (172,))"
            ]
          },
          "metadata": {},
          "execution_count": 75
        }
      ],
      "source": [
        "X_train_.shape, X_test_.shape, y_train_.shape, y_test_.shape"
      ]
    },
    {
      "cell_type": "code",
      "source": [
        "# X_train_valid_ = np.concatenate([X_train_, X_valid_])\n",
        "# y_train_valid_ = np.concatenate([y_train_, y_valid_])"
      ],
      "metadata": {
        "id": "Q1ZLWVB5F4Du"
      },
      "execution_count": null,
      "outputs": []
    },
    {
      "cell_type": "code",
      "source": [
        "# X_train_valid_.shape, y_train_valid_.shape"
      ],
      "metadata": {
        "id": "W4gsdzOlRHar"
      },
      "execution_count": 76,
      "outputs": []
    },
    {
      "cell_type": "code",
      "execution_count": null,
      "metadata": {
        "id": "GOMnTPm3iGKn"
      },
      "outputs": [],
      "source": [
        "# X_valid_test_ = np.concatenate([X_valid_, X_test_])\n",
        "# X_valid_.shape, X_test_.shape, X_valid_test_.shape"
      ]
    },
    {
      "cell_type": "code",
      "execution_count": null,
      "metadata": {
        "id": "CNrLLzQGiRAT"
      },
      "outputs": [],
      "source": [
        "# y_valid_test_ = np.concatenate([y_valid_, y_test_])\n",
        "# y_valid_.shape, y_test_.shape, y_valid_test_.shape"
      ]
    },
    {
      "cell_type": "markdown",
      "metadata": {
        "id": "AB6HG9dIkFhJ"
      },
      "source": [
        "### a) Modeling - ML approach:"
      ]
    },
    {
      "cell_type": "code",
      "execution_count": 77,
      "metadata": {
        "colab": {
          "base_uri": "https://localhost:8080/"
        },
        "id": "EPY4m5g7QtGe",
        "outputId": "78349477-79e0-4199-968f-7ce8214b5cff"
      },
      "outputs": [
        {
          "output_type": "execute_result",
          "data": {
            "text/plain": [
              "0.8023255813953488"
            ]
          },
          "metadata": {},
          "execution_count": 77
        }
      ],
      "source": [
        "# We increase `max_iter` to guarantee convergence\n",
        "lr_clf = LogisticRegression(max_iter=3000)\n",
        "lr_clf.fit(X_train_, y_train_)\n",
        "lr_clf.score(X_test_, y_test_)"
      ]
    },
    {
      "cell_type": "code",
      "execution_count": 78,
      "metadata": {
        "colab": {
          "base_uri": "https://localhost:8080/",
          "height": 547
        },
        "id": "G0QrDybR4Qq1",
        "outputId": "e246c65b-d616-4fb9-bbb8-524ca9424412"
      },
      "outputs": [
        {
          "output_type": "display_data",
          "data": {
            "text/plain": [
              "<Figure size 432x288 with 2 Axes>"
            ],
            "image/png": "[encoded data removed]"
          },
          "metadata": {
            "needs_background": "light"
          }
        },
        {
          "output_type": "stream",
          "name": "stdout",
          "text": [
            "\n",
            "              precision    recall  f1-score   support\n",
            "\n",
            "     Article       0.86      0.35      0.50        17\n",
            "        Blog       0.74      0.80      0.77        40\n",
            "       Event       0.74      0.83      0.78        35\n",
            "        MISC       0.90      0.60      0.72        15\n",
            "          PR       0.74      0.87      0.80        30\n",
            "     Webinar       0.74      0.80      0.77        35\n",
            "\n",
            "    accuracy                           0.76       172\n",
            "   macro avg       0.79      0.71      0.72       172\n",
            "weighted avg       0.77      0.76      0.75       172\n",
            "\n"
          ]
        }
      ],
      "source": [
        "rf_clf = fit_model(RandomForestClassifier(max_depth=10,\n",
        "                                          n_estimators=50,\n",
        "                                          random_state=0,\n",
        "                                          ),\n",
        "                X_train_, \n",
        "                y_train_)\n",
        "\n",
        "y_pred = predict(rf_clf, X_test_)\n",
        "y_probs = rf_clf.predict_proba(X_test_)\n",
        "\n",
        "print_confusion_matrix(y_test_, y_pred, with_report=True)"
      ]
    },
    {
      "cell_type": "code",
      "execution_count": 79,
      "metadata": {
        "colab": {
          "base_uri": "https://localhost:8080/",
          "height": 547
        },
        "id": "dM91xMM-3wau",
        "outputId": "418390b0-ae8f-4314-abcf-b1db2af36896"
      },
      "outputs": [
        {
          "output_type": "display_data",
          "data": {
            "text/plain": [
              "<Figure size 432x288 with 2 Axes>"
            ],
            "image/png": "[encoded data removed]"
          },
          "metadata": {
            "needs_background": "light"
          }
        },
        {
          "output_type": "stream",
          "name": "stdout",
          "text": [
            "\n",
            "              precision    recall  f1-score   support\n",
            "\n",
            "     Article       0.50      0.29      0.37        17\n",
            "        Blog       0.88      0.75      0.81        40\n",
            "       Event       0.74      0.83      0.78        35\n",
            "        MISC       0.91      0.67      0.77        15\n",
            "          PR       0.68      0.90      0.77        30\n",
            "     Webinar       0.68      0.74      0.71        35\n",
            "\n",
            "    accuracy                           0.74       172\n",
            "   macro avg       0.73      0.70      0.70       172\n",
            "weighted avg       0.74      0.74      0.73       172\n",
            "\n"
          ]
        }
      ],
      "source": [
        "svc_clf = fit_model(SVC(C=1,\n",
        "                        class_weight='balanced',\n",
        "                        ),\n",
        "                    X_train_, \n",
        "                    y_train_,\n",
        "                    )\n",
        "\n",
        "y_pred = predict(svc_clf, X_test_)\n",
        "\n",
        "print_confusion_matrix(y_test_, y_pred, with_report=True)"
      ]
    },
    {
      "cell_type": "code",
      "execution_count": 80,
      "metadata": {
        "colab": {
          "base_uri": "https://localhost:8080/",
          "height": 547
        },
        "id": "rGc8QPcyQuHp",
        "outputId": "1292f992-3224-44b0-b3e2-c8ad4cabbbec"
      },
      "outputs": [
        {
          "output_type": "display_data",
          "data": {
            "text/plain": [
              "<Figure size 432x288 with 2 Axes>"
            ],
            "image/png": "[encoded data removed]"
          },
          "metadata": {
            "needs_background": "light"
          }
        },
        {
          "output_type": "stream",
          "name": "stdout",
          "text": [
            "\n",
            "              precision    recall  f1-score   support\n",
            "\n",
            "     Article       0.53      0.53      0.53        17\n",
            "        Blog       0.91      0.80      0.85        40\n",
            "       Event       0.79      0.89      0.84        35\n",
            "        MISC       0.90      0.60      0.72        15\n",
            "          PR       0.79      0.90      0.84        30\n",
            "     Webinar       0.81      0.86      0.83        35\n",
            "\n",
            "    accuracy                           0.80       172\n",
            "   macro avg       0.79      0.76      0.77       172\n",
            "weighted avg       0.81      0.80      0.80       172\n",
            "\n"
          ]
        }
      ],
      "source": [
        "lr_clf = fit_model(LogisticRegression(max_iter=3000, \n",
        "                                      class_weight='balanced', \n",
        "                                      ), \n",
        "                   X_train_, \n",
        "                   y_train_,\n",
        "                   )\n",
        "\n",
        "y_pred = predict(lr_clf, X_test_)\n",
        "y_probs = lr_clf.predict_proba(X_test_)\n",
        "\n",
        "print_confusion_matrix(y_test_, y_pred, with_report=True)"
      ]
    },
    {
      "cell_type": "code",
      "execution_count": 81,
      "metadata": {
        "colab": {
          "base_uri": "https://localhost:8080/",
          "height": 547
        },
        "id": "A1PZ0cg5RLhT",
        "outputId": "01b010a3-d176-49b1-a9a3-f094ef837e23"
      },
      "outputs": [
        {
          "output_type": "display_data",
          "data": {
            "text/plain": [
              "<Figure size 432x288 with 2 Axes>"
            ],
            "image/png": "[encoded data removed]"
          },
          "metadata": {
            "needs_background": "light"
          }
        },
        {
          "output_type": "stream",
          "name": "stdout",
          "text": [
            "\n",
            "              precision    recall  f1-score   support\n",
            "\n",
            "     Article       0.94      0.99      0.96        69\n",
            "        Blog       1.00      0.98      0.99       158\n",
            "       Event       0.99      0.97      0.98       139\n",
            "        MISC       0.98      0.98      0.98        62\n",
            "          PR       0.99      0.98      0.99       120\n",
            "     Webinar       0.97      0.99      0.98       137\n",
            "\n",
            "    accuracy                           0.98       685\n",
            "   macro avg       0.98      0.98      0.98       685\n",
            "weighted avg       0.98      0.98      0.98       685\n",
            "\n"
          ]
        }
      ],
      "source": [
        "# Check if it's overfitting\n",
        "y_pred_train = predict(lr_clf, X_train_)\n",
        "print_confusion_matrix(y_train_, y_pred_train, with_report=True)"
      ]
    },
    {
      "cell_type": "code",
      "execution_count": 82,
      "metadata": {
        "colab": {
          "base_uri": "https://localhost:8080/",
          "height": 547
        },
        "id": "95U-aGaS9n2F",
        "outputId": "5024bd5a-85a3-47cf-d274-6882cbafc972"
      },
      "outputs": [
        {
          "output_type": "display_data",
          "data": {
            "text/plain": [
              "<Figure size 432x288 with 2 Axes>"
            ],
            "image/png": "[encoded data removed]"
          },
          "metadata": {
            "needs_background": "light"
          }
        },
        {
          "output_type": "stream",
          "name": "stdout",
          "text": [
            "\n",
            "              precision    recall  f1-score   support\n",
            "\n",
            "     Article       0.73      0.47      0.57        17\n",
            "        Blog       0.85      0.82      0.84        40\n",
            "       Event       0.83      0.83      0.83        35\n",
            "        MISC       0.77      0.67      0.71        15\n",
            "          PR       0.71      0.83      0.77        30\n",
            "     Webinar       0.77      0.86      0.81        35\n",
            "\n",
            "    accuracy                           0.78       172\n",
            "   macro avg       0.78      0.75      0.75       172\n",
            "weighted avg       0.79      0.78      0.78       172\n",
            "\n"
          ]
        }
      ],
      "source": [
        "lr_clf = fit_model(LogisticRegression(\n",
        "    max_iter=3000, \n",
        "    class_weight='balanced',\n",
        "    solver='liblinear', # default: 'lbfgs' \n",
        "    penalty='l1', # default: 'l2'\n",
        "    ), \n",
        "    X_train_, \n",
        "    y_train_,\n",
        "    )\n",
        "\n",
        "y_pred = predict(lr_clf, X_test_)\n",
        "y_probs = lr_clf.predict_proba(X_test_)\n",
        "\n",
        "print_confusion_matrix(y_test_, y_pred, with_report=True)"
      ]
    },
    {
      "cell_type": "code",
      "execution_count": 83,
      "metadata": {
        "colab": {
          "base_uri": "https://localhost:8080/",
          "height": 547
        },
        "id": "F-fbLHtAN4J1",
        "outputId": "5d51d5a4-97eb-43d9-a209-9d8d1ed66e9b"
      },
      "outputs": [
        {
          "output_type": "display_data",
          "data": {
            "text/plain": [
              "<Figure size 432x288 with 2 Axes>"
            ],
            "image/png": "[encoded data removed]"
          },
          "metadata": {
            "needs_background": "light"
          }
        },
        {
          "output_type": "stream",
          "name": "stdout",
          "text": [
            "\n",
            "              precision    recall  f1-score   support\n",
            "\n",
            "     Article       0.82      0.67      0.74        69\n",
            "        Blog       0.92      0.92      0.92       158\n",
            "       Event       0.90      0.91      0.91       139\n",
            "        MISC       0.90      0.85      0.88        62\n",
            "          PR       0.87      0.95      0.91       120\n",
            "     Webinar       0.91      0.93      0.92       137\n",
            "\n",
            "    accuracy                           0.89       685\n",
            "   macro avg       0.89      0.87      0.88       685\n",
            "weighted avg       0.89      0.89      0.89       685\n",
            "\n"
          ]
        }
      ],
      "source": [
        "# Check if it's overfitting\n",
        "y_pred_train = predict(lr_clf, X_train_)\n",
        "print_confusion_matrix(y_train_, y_pred_train, with_report=True)"
      ]
    },
    {
      "cell_type": "code",
      "execution_count": 84,
      "metadata": {
        "colab": {
          "base_uri": "https://localhost:8080/",
          "height": 547
        },
        "id": "Cdmbe1tmo9iX",
        "outputId": "f432dfc6-7326-43d2-f895-1b1e7f1eead1"
      },
      "outputs": [
        {
          "output_type": "display_data",
          "data": {
            "text/plain": [
              "<Figure size 432x288 with 2 Axes>"
            ],
            "image/png": "[encoded data removed]"
          },
          "metadata": {
            "needs_background": "light"
          }
        },
        {
          "output_type": "stream",
          "name": "stdout",
          "text": [
            "\n",
            "              precision    recall  f1-score   support\n",
            "\n",
            "     Article       0.54      0.41      0.47        17\n",
            "        Blog       0.92      0.85      0.88        40\n",
            "       Event       0.79      0.89      0.84        35\n",
            "        MISC       0.90      0.60      0.72        15\n",
            "          PR       0.75      0.90      0.82        30\n",
            "     Webinar       0.81      0.86      0.83        35\n",
            "\n",
            "    accuracy                           0.80       172\n",
            "   macro avg       0.79      0.75      0.76       172\n",
            "weighted avg       0.80      0.80      0.80       172\n",
            "\n"
          ]
        }
      ],
      "source": [
        "lr_clf = fit_model(LogisticRegression(max_iter=3000, \n",
        "                                  #  class_weight='balanced', \n",
        "                                   ), \n",
        "                X_train_, \n",
        "                y_train_)\n",
        "\n",
        "y_pred = predict(lr_clf, X_test_)\n",
        "y_probs = lr_clf.predict_proba(X_test_)\n",
        "\n",
        "print_confusion_matrix(y_test_, y_pred, with_report=True)"
      ]
    },
    {
      "cell_type": "code",
      "execution_count": null,
      "metadata": {
        "id": "xI0UTfYNMGu6"
      },
      "outputs": [],
      "source": [
        "# lr_clf = fit_model(LogisticRegression(\n",
        "#     max_iter=3000, \n",
        "#     class_weight='balanced',\n",
        "#     solver='saga', # default: 'lbfgs' \n",
        "#     penalty='elasticnet', # default: 'l2',\n",
        "#     l1_ratio=0.9, # only relevant when penalty='elasticnet'\n",
        "#     ), \n",
        "#                 X_train_, \n",
        "#                 y_train_)\n",
        "\n",
        "# y_pred = predict(lr_clf, X_valid_test_)\n",
        "# y_probs = lr_clf.predict_proba(X_valid_test_)\n",
        "\n",
        "# print_confusion_matrix(y_valid_test_, y_pred, with_report=True)"
      ]
    },
    {
      "cell_type": "code",
      "execution_count": null,
      "metadata": {
        "colab": {
          "base_uri": "https://localhost:8080/",
          "height": 547
        },
        "id": "ydsp-E-_JRqL",
        "outputId": "bb19651c-78de-468e-f2c1-7fc6ecc32bca"
      },
      "outputs": [
        {
          "output_type": "display_data",
          "data": {
            "text/plain": [
              "<Figure size 432x288 with 2 Axes>"
            ],
            "image/png": "[encoded data removed]"
          },
          "metadata": {
            "needs_background": "light"
          }
        },
        {
          "output_type": "stream",
          "name": "stdout",
          "text": [
            "\n",
            "              precision    recall  f1-score   support\n",
            "\n",
            "     Article       0.98      0.88      0.93        69\n",
            "        Blog       0.96      0.99      0.98       158\n",
            "       Event       0.98      0.97      0.97       139\n",
            "        MISC       0.98      0.94      0.96        62\n",
            "          PR       0.98      0.99      0.98       120\n",
            "     Webinar       0.96      0.99      0.98       137\n",
            "\n",
            "    accuracy                           0.97       685\n",
            "   macro avg       0.97      0.96      0.97       685\n",
            "weighted avg       0.97      0.97      0.97       685\n",
            "\n"
          ]
        }
      ],
      "source": [
        "# Check if it's overfitting\n",
        "y_pred_train = predict(lr_clf, X_train_valid_)\n",
        "print_confusion_matrix(y_train_valid_, y_pred_train, with_report=True)"
      ]
    },
    {
      "cell_type": "code",
      "execution_count": null,
      "metadata": {
        "colab": {
          "base_uri": "https://localhost:8080/",
          "height": 547
        },
        "id": "1NxnDCjnUPd4",
        "outputId": "327f1dd5-7218-40ff-aab1-1e4c506c12f5"
      },
      "outputs": [
        {
          "output_type": "display_data",
          "data": {
            "text/plain": [
              "<Figure size 432x288 with 2 Axes>"
            ],
            "image/png": "[encoded data removed]"
          },
          "metadata": {
            "needs_background": "light"
          }
        },
        {
          "output_type": "stream",
          "name": "stdout",
          "text": [
            "\n",
            "              precision    recall  f1-score   support\n",
            "\n",
            "     Article       0.53      0.53      0.53        17\n",
            "        Blog       0.91      0.80      0.85        40\n",
            "       Event       0.79      0.89      0.84        35\n",
            "        MISC       0.90      0.60      0.72        15\n",
            "          PR       0.79      0.90      0.84        30\n",
            "     Webinar       0.81      0.86      0.83        35\n",
            "\n",
            "    accuracy                           0.80       172\n",
            "   macro avg       0.79      0.76      0.77       172\n",
            "weighted avg       0.81      0.80      0.80       172\n",
            "\n"
          ]
        }
      ],
      "source": [
        "lr_clf = fit_model(LogisticRegression(max_iter=3000, \n",
        "                                   class_weight='balanced', \n",
        "                                   ), \n",
        "                X_train_valid_, \n",
        "                y_train_valid_)\n",
        "\n",
        "y_pred = predict(lr_clf, X_test_)\n",
        "y_probs = lr_clf.predict_proba(X_test_)\n",
        "\n",
        "print_confusion_matrix(y_test_, y_pred, with_report=True)"
      ]
    },
    {
      "cell_type": "code",
      "source": [
        "pickle.dump(lr_clf, open('/content/drive/MyDrive/url_classification/Models/distilbert_lr_clf', 'wb'))"
      ],
      "metadata": {
        "id": "R_qBAWFGO9V5"
      },
      "execution_count": null,
      "outputs": []
    },
    {
      "cell_type": "code",
      "source": [
        "# lr_clf = pickle.load(open('/content/drive/MyDrive/url_classification/Models/distilbert_lr_clf', 'rb'))"
      ],
      "metadata": {
        "id": "2-NlnFLYOzyK"
      },
      "execution_count": null,
      "outputs": []
    },
    {
      "cell_type": "code",
      "execution_count": null,
      "metadata": {
        "colab": {
          "base_uri": "https://localhost:8080/",
          "height": 641
        },
        "id": "YvaTz1NzZzqV",
        "outputId": "8715fb6b-ecb6-4c63-dbb5-1341f652c461"
      },
      "outputs": [
        {
          "output_type": "execute_result",
          "data": {
            "text/plain": [
              "                                                  text  label  \\\n",
              "0    2020 User Summit. 2020 User Summit  *UPDATE - ...      2   \n",
              "1    Write For Us. Want to Write for Us?  Digital L...      5   \n",
              "2    Write for Us. Yes, you. We’re always looking f...      5   \n",
              "3    FAQs for some new features available in the Be...      1   \n",
              "4    The Best Nootropic Stack to Replace Adderall &...      0   \n",
              "..                                                 ...    ...   \n",
              "959  Veeva Systems Korea aims to become cloud SW le...      0   \n",
              "960  Digital transformation of clinical research ac...      0   \n",
              "961  Veeva Systems is a Top Stock for 2022. Veeva S...      0   \n",
              "962  Medidata’s Acorn AI solution raises clinical t...      0   \n",
              "963  Accenture’s federal arm hires new applied inte...      0   \n",
              "\n",
              "                                                   url  \\\n",
              "0                                                  NaN   \n",
              "1                                                  NaN   \n",
              "2                                                  NaN   \n",
              "3                                                  NaN   \n",
              "4                                                  NaN   \n",
              "..                                                 ...   \n",
              "959  http://www.koreabiomed.com/news/articleView.ht...   \n",
              "960  http://www.outsourcing-pharma.com/Article/2021...   \n",
              "961         http://www.entrepreneur.com/article/400416   \n",
              "962  http://www.koreabiomed.com/news/articleView.ht...   \n",
              "963  http://washingtontechnology.com/companies/2022...   \n",
              "\n",
              "                                       lemmatized_text  \\\n",
              "0    2020 User Summit . 2020 User Summit   * update...   \n",
              "1    write for we . want to write for we ?   Digita...   \n",
              "2    write for we . yes , you . we ’re always look ...   \n",
              "3    FAQs for some new feature available in the Bet...   \n",
              "4    the Best Nootropic Stack to replace Adderall &...   \n",
              "..                                                 ...   \n",
              "959  Veeva Systems Korea aim to become cloud SW lea...   \n",
              "960  digital transformation of clinical research ac...   \n",
              "961  Veeva Systems be a Top Stock for 2022 . Veeva ...   \n",
              "962  Medidata ’s Acorn AI solution raise clinical t...   \n",
              "963  Accenture ’s federal arm hire new apply intell...   \n",
              "\n",
              "                               lemmatized_cleaned_text  \n",
              "0    2020 User Summit 2020 User Summit update March...  \n",
              "1    write want write Digital Lamp one fast grow te...  \n",
              "2    write yes always look new author get idea chal...  \n",
              "3    FAQs new feature available Beta Wayback Machin...  \n",
              "4    Best Nootropic Stack replace Adderall Ritalin ...  \n",
              "..                                                 ...  \n",
              "959  Veeva Systems Korea aim become cloud SW leader...  \n",
              "960  digital transformation clinical research accel...  \n",
              "961  Veeva Systems Top Stock 2022 Veeva Systems VEE...  \n",
              "962  Medidata Acorn AI solution raise clinical tria...  \n",
              "963  Accenture federal arm hire new apply intellige...  \n",
              "\n",
              "[857 rows x 5 columns]"
            ],
            "text/html": [
              "\n",
              "  <div id=\"df-96a25c25-e70b-45a3-9ef9-d0941e79a7e4\">\n",
              "    <div class=\"colab-df-container\">\n",
              "      <div>\n",
              "<style scoped>\n",
              "    .dataframe tbody tr th:only-of-type {\n",
              "        vertical-align: middle;\n",
              "    }\n",
              "\n",
              "    .dataframe tbody tr th {\n",
              "        vertical-align: top;\n",
              "    }\n",
              "\n",
              "    .dataframe thead th {\n",
              "        text-align: right;\n",
              "    }\n",
              "</style>\n",
              "<table border=\"1\" class=\"dataframe\">\n",
              "  <thead>\n",
              "    <tr style=\"text-align: right;\">\n",
              "      <th></th>\n",
              "      <th>text</th>\n",
              "      <th>label</th>\n",
              "      <th>url</th>\n",
              "      <th>lemmatized_text</th>\n",
              "      <th>lemmatized_cleaned_text</th>\n",
              "    </tr>\n",
              "  </thead>\n",
              "  <tbody>\n",
              "    <tr>\n",
              "      <th>0</th>\n",
              "      <td>2020 User Summit. 2020 User Summit  *UPDATE - ...</td>\n",
              "      <td>2</td>\n",
              "      <td>NaN</td>\n",
              "      <td>2020 User Summit . 2020 User Summit   * update...</td>\n",
              "      <td>2020 User Summit 2020 User Summit update March...</td>\n",
              "    </tr>\n",
              "    <tr>\n",
              "      <th>1</th>\n",
              "      <td>Write For Us. Want to Write for Us?  Digital L...</td>\n",
              "      <td>5</td>\n",
              "      <td>NaN</td>\n",
              "      <td>write for we . want to write for we ?   Digita...</td>\n",
              "      <td>write want write Digital Lamp one fast grow te...</td>\n",
              "    </tr>\n",
              "    <tr>\n",
              "      <th>2</th>\n",
              "      <td>Write for Us. Yes, you. We’re always looking f...</td>\n",
              "      <td>5</td>\n",
              "      <td>NaN</td>\n",
              "      <td>write for we . yes , you . we ’re always look ...</td>\n",
              "      <td>write yes always look new author get idea chal...</td>\n",
              "    </tr>\n",
              "    <tr>\n",
              "      <th>3</th>\n",
              "      <td>FAQs for some new features available in the Be...</td>\n",
              "      <td>1</td>\n",
              "      <td>NaN</td>\n",
              "      <td>FAQs for some new feature available in the Bet...</td>\n",
              "      <td>FAQs new feature available Beta Wayback Machin...</td>\n",
              "    </tr>\n",
              "    <tr>\n",
              "      <th>4</th>\n",
              "      <td>The Best Nootropic Stack to Replace Adderall &amp;...</td>\n",
              "      <td>0</td>\n",
              "      <td>NaN</td>\n",
              "      <td>the Best Nootropic Stack to replace Adderall &amp;...</td>\n",
              "      <td>Best Nootropic Stack replace Adderall Ritalin ...</td>\n",
              "    </tr>\n",
              "    <tr>\n",
              "      <th>...</th>\n",
              "      <td>...</td>\n",
              "      <td>...</td>\n",
              "      <td>...</td>\n",
              "      <td>...</td>\n",
              "      <td>...</td>\n",
              "    </tr>\n",
              "    <tr>\n",
              "      <th>959</th>\n",
              "      <td>Veeva Systems Korea aims to become cloud SW le...</td>\n",
              "      <td>0</td>\n",
              "      <td>http://www.koreabiomed.com/news/articleView.ht...</td>\n",
              "      <td>Veeva Systems Korea aim to become cloud SW lea...</td>\n",
              "      <td>Veeva Systems Korea aim become cloud SW leader...</td>\n",
              "    </tr>\n",
              "    <tr>\n",
              "      <th>960</th>\n",
              "      <td>Digital transformation of clinical research ac...</td>\n",
              "      <td>0</td>\n",
              "      <td>http://www.outsourcing-pharma.com/Article/2021...</td>\n",
              "      <td>digital transformation of clinical research ac...</td>\n",
              "      <td>digital transformation clinical research accel...</td>\n",
              "    </tr>\n",
              "    <tr>\n",
              "      <th>961</th>\n",
              "      <td>Veeva Systems is a Top Stock for 2022. Veeva S...</td>\n",
              "      <td>0</td>\n",
              "      <td>http://www.entrepreneur.com/article/400416</td>\n",
              "      <td>Veeva Systems be a Top Stock for 2022 . Veeva ...</td>\n",
              "      <td>Veeva Systems Top Stock 2022 Veeva Systems VEE...</td>\n",
              "    </tr>\n",
              "    <tr>\n",
              "      <th>962</th>\n",
              "      <td>Medidata’s Acorn AI solution raises clinical t...</td>\n",
              "      <td>0</td>\n",
              "      <td>http://www.koreabiomed.com/news/articleView.ht...</td>\n",
              "      <td>Medidata ’s Acorn AI solution raise clinical t...</td>\n",
              "      <td>Medidata Acorn AI solution raise clinical tria...</td>\n",
              "    </tr>\n",
              "    <tr>\n",
              "      <th>963</th>\n",
              "      <td>Accenture’s federal arm hires new applied inte...</td>\n",
              "      <td>0</td>\n",
              "      <td>http://washingtontechnology.com/companies/2022...</td>\n",
              "      <td>Accenture ’s federal arm hire new apply intell...</td>\n",
              "      <td>Accenture federal arm hire new apply intellige...</td>\n",
              "    </tr>\n",
              "  </tbody>\n",
              "</table>\n",
              "<p>857 rows × 5 columns</p>\n",
              "</div>\n",
              "      <button class=\"colab-df-convert\" onclick=\"convertToInteractive('df-96a25c25-e70b-45a3-9ef9-d0941e79a7e4')\"\n",
              "              title=\"Convert this dataframe to an interactive table.\"\n",
              "              style=\"display:none;\">\n",
              "        \n",
              "  <svg xmlns=\"http://www.w3.org/2000/svg\" height=\"24px\"viewBox=\"0 0 24 24\"\n",
              "       width=\"24px\">\n",
              "    <path d=\"M0 0h24v24H0V0z\" fill=\"none\"/>\n",
              "    <path d=\"M18.56 5.44l.94 2.06.94-2.06 2.06-.94-2.06-.94-.94-2.06-.94 2.06-2.06.94zm-11 1L8.5 8.5l.94-2.06 2.06-.94-2.06-.94L8.5 2.5l-.94 2.06-2.06.94zm10 10l.94 2.06.94-2.06 2.06-.94-2.06-.94-.94-2.06-.94 2.06-2.06.94z\"/><path d=\"M17.41 7.96l-1.37-1.37c-.4-.4-.92-.59-1.43-.59-.52 0-1.04.2-1.43.59L10.3 9.45l-7.72 7.72c-.78.78-.78 2.05 0 2.83L4 21.41c.39.39.9.59 1.41.59.51 0 1.02-.2 1.41-.59l7.78-7.78 2.81-2.81c.8-.78.8-2.07 0-2.86zM5.41 20L4 18.59l7.72-7.72 1.47 1.35L5.41 20z\"/>\n",
              "  </svg>\n",
              "      </button>\n",
              "      \n",
              "  <style>\n",
              "    .colab-df-container {\n",
              "      display:flex;\n",
              "      flex-wrap:wrap;\n",
              "      gap: 12px;\n",
              "    }\n",
              "\n",
              "    .colab-df-convert {\n",
              "      background-color: #E8F0FE;\n",
              "      border: none;\n",
              "      border-radius: 50%;\n",
              "      cursor: pointer;\n",
              "      display: none;\n",
              "      fill: #1967D2;\n",
              "      height: 32px;\n",
              "      padding: 0 0 0 0;\n",
              "      width: 32px;\n",
              "    }\n",
              "\n",
              "    .colab-df-convert:hover {\n",
              "      background-color: #E2EBFA;\n",
              "      box-shadow: 0px 1px 2px rgba(60, 64, 67, 0.3), 0px 1px 3px 1px rgba(60, 64, 67, 0.15);\n",
              "      fill: #174EA6;\n",
              "    }\n",
              "\n",
              "    [theme=dark] .colab-df-convert {\n",
              "      background-color: #3B4455;\n",
              "      fill: #D2E3FC;\n",
              "    }\n",
              "\n",
              "    [theme=dark] .colab-df-convert:hover {\n",
              "      background-color: #434B5C;\n",
              "      box-shadow: 0px 1px 3px 1px rgba(0, 0, 0, 0.15);\n",
              "      filter: drop-shadow(0px 1px 2px rgba(0, 0, 0, 0.3));\n",
              "      fill: #FFFFFF;\n",
              "    }\n",
              "  </style>\n",
              "\n",
              "      <script>\n",
              "        const buttonEl =\n",
              "          document.querySelector('#df-96a25c25-e70b-45a3-9ef9-d0941e79a7e4 button.colab-df-convert');\n",
              "        buttonEl.style.display =\n",
              "          google.colab.kernel.accessAllowed ? 'block' : 'none';\n",
              "\n",
              "        async function convertToInteractive(key) {\n",
              "          const element = document.querySelector('#df-96a25c25-e70b-45a3-9ef9-d0941e79a7e4');\n",
              "          const dataTable =\n",
              "            await google.colab.kernel.invokeFunction('convertToInteractive',\n",
              "                                                     [key], {});\n",
              "          if (!dataTable) return;\n",
              "\n",
              "          const docLinkHtml = 'Like what you see? Visit the ' +\n",
              "            '<a target=\"_blank\" href=https://colab.research.google.com/notebooks/data_table.ipynb>data table notebook</a>'\n",
              "            + ' to learn more about interactive tables.';\n",
              "          element.innerHTML = '';\n",
              "          dataTable['output_type'] = 'display_data';\n",
              "          await google.colab.output.renderOutput(dataTable, element);\n",
              "          const docLink = document.createElement('div');\n",
              "          docLink.innerHTML = docLinkHtml;\n",
              "          element.appendChild(docLink);\n",
              "        }\n",
              "      </script>\n",
              "    </div>\n",
              "  </div>\n",
              "  "
            ]
          },
          "metadata": {},
          "execution_count": 118
        }
      ],
      "source": [
        "df_text"
      ]
    },
    {
      "cell_type": "code",
      "execution_count": null,
      "metadata": {
        "colab": {
          "base_uri": "https://localhost:8080/"
        },
        "id": "9B0saGpNP_Cw",
        "outputId": "2ca3a476-8764-4873-a5b8-34775e8c0806"
      },
      "outputs": [
        {
          "output_type": "execute_result",
          "data": {
            "text/plain": [
              "{'Article': 0, 'Blog': 1, 'Event': 2, 'Webinar': 3, 'PR': 4, 'MISC': 5}"
            ]
          },
          "metadata": {},
          "execution_count": 119
        }
      ],
      "source": [
        "labels_encoded"
      ]
    },
    {
      "cell_type": "code",
      "execution_count": null,
      "metadata": {
        "id": "IfoQG3iJQoqm"
      },
      "outputs": [],
      "source": [
        "mask = y_pred != y_test_"
      ]
    },
    {
      "cell_type": "code",
      "source": [
        "X_test = pd.DataFrame(X_test, columns=['text']) # transform into DataFrame\n",
        "\n",
        "misclassified_df = create_misclassified_df(X_test=X_test, y_test=y_test, y_pred=y_pred)\n",
        "assert (misclassified_df['y_true'] != misclassified_df['y_pred']).all()\n",
        "misclassified_df.head()"
      ],
      "metadata": {
        "colab": {
          "base_uri": "https://localhost:8080/",
          "height": 206
        },
        "id": "tun5Kx4aJ_dX",
        "outputId": "ccca76a8-1eb7-4cfd-bf39-1083c06a5c93"
      },
      "execution_count": null,
      "outputs": [
        {
          "output_type": "execute_result",
          "data": {
            "text/plain": [
              "                                                  text   y_true   y_pred\n",
              "932  IQVIA (IQV) Buys Remaining Q2 Solutions Stake,...       PR  Article\n",
              "713  CVS inks a deal with Medable to enroll more pa...  Article  Webinar\n",
              "680  California ends Verily COVID-19 testing partne...  Article       PR\n",
              "84   How to Use Hashtags: How Many, Best Ones, and ...     Blog  Article\n",
              "791  Overview of EMA's latest IDMP Updates in 2022....     Blog  Webinar"
            ],
            "text/html": [
              "\n",
              "  <div id=\"df-3cdffaa2-15be-44a5-ae31-fb5412bc728d\">\n",
              "    <div class=\"colab-df-container\">\n",
              "      <div>\n",
              "<style scoped>\n",
              "    .dataframe tbody tr th:only-of-type {\n",
              "        vertical-align: middle;\n",
              "    }\n",
              "\n",
              "    .dataframe tbody tr th {\n",
              "        vertical-align: top;\n",
              "    }\n",
              "\n",
              "    .dataframe thead th {\n",
              "        text-align: right;\n",
              "    }\n",
              "</style>\n",
              "<table border=\"1\" class=\"dataframe\">\n",
              "  <thead>\n",
              "    <tr style=\"text-align: right;\">\n",
              "      <th></th>\n",
              "      <th>text</th>\n",
              "      <th>y_true</th>\n",
              "      <th>y_pred</th>\n",
              "    </tr>\n",
              "  </thead>\n",
              "  <tbody>\n",
              "    <tr>\n",
              "      <th>932</th>\n",
              "      <td>IQVIA (IQV) Buys Remaining Q2 Solutions Stake,...</td>\n",
              "      <td>PR</td>\n",
              "      <td>Article</td>\n",
              "    </tr>\n",
              "    <tr>\n",
              "      <th>713</th>\n",
              "      <td>CVS inks a deal with Medable to enroll more pa...</td>\n",
              "      <td>Article</td>\n",
              "      <td>Webinar</td>\n",
              "    </tr>\n",
              "    <tr>\n",
              "      <th>680</th>\n",
              "      <td>California ends Verily COVID-19 testing partne...</td>\n",
              "      <td>Article</td>\n",
              "      <td>PR</td>\n",
              "    </tr>\n",
              "    <tr>\n",
              "      <th>84</th>\n",
              "      <td>How to Use Hashtags: How Many, Best Ones, and ...</td>\n",
              "      <td>Blog</td>\n",
              "      <td>Article</td>\n",
              "    </tr>\n",
              "    <tr>\n",
              "      <th>791</th>\n",
              "      <td>Overview of EMA's latest IDMP Updates in 2022....</td>\n",
              "      <td>Blog</td>\n",
              "      <td>Webinar</td>\n",
              "    </tr>\n",
              "  </tbody>\n",
              "</table>\n",
              "</div>\n",
              "      <button class=\"colab-df-convert\" onclick=\"convertToInteractive('df-3cdffaa2-15be-44a5-ae31-fb5412bc728d')\"\n",
              "              title=\"Convert this dataframe to an interactive table.\"\n",
              "              style=\"display:none;\">\n",
              "        \n",
              "  <svg xmlns=\"http://www.w3.org/2000/svg\" height=\"24px\"viewBox=\"0 0 24 24\"\n",
              "       width=\"24px\">\n",
              "    <path d=\"M0 0h24v24H0V0z\" fill=\"none\"/>\n",
              "    <path d=\"M18.56 5.44l.94 2.06.94-2.06 2.06-.94-2.06-.94-.94-2.06-.94 2.06-2.06.94zm-11 1L8.5 8.5l.94-2.06 2.06-.94-2.06-.94L8.5 2.5l-.94 2.06-2.06.94zm10 10l.94 2.06.94-2.06 2.06-.94-2.06-.94-.94-2.06-.94 2.06-2.06.94z\"/><path d=\"M17.41 7.96l-1.37-1.37c-.4-.4-.92-.59-1.43-.59-.52 0-1.04.2-1.43.59L10.3 9.45l-7.72 7.72c-.78.78-.78 2.05 0 2.83L4 21.41c.39.39.9.59 1.41.59.51 0 1.02-.2 1.41-.59l7.78-7.78 2.81-2.81c.8-.78.8-2.07 0-2.86zM5.41 20L4 18.59l7.72-7.72 1.47 1.35L5.41 20z\"/>\n",
              "  </svg>\n",
              "      </button>\n",
              "      \n",
              "  <style>\n",
              "    .colab-df-container {\n",
              "      display:flex;\n",
              "      flex-wrap:wrap;\n",
              "      gap: 12px;\n",
              "    }\n",
              "\n",
              "    .colab-df-convert {\n",
              "      background-color: #E8F0FE;\n",
              "      border: none;\n",
              "      border-radius: 50%;\n",
              "      cursor: pointer;\n",
              "      display: none;\n",
              "      fill: #1967D2;\n",
              "      height: 32px;\n",
              "      padding: 0 0 0 0;\n",
              "      width: 32px;\n",
              "    }\n",
              "\n",
              "    .colab-df-convert:hover {\n",
              "      background-color: #E2EBFA;\n",
              "      box-shadow: 0px 1px 2px rgba(60, 64, 67, 0.3), 0px 1px 3px 1px rgba(60, 64, 67, 0.15);\n",
              "      fill: #174EA6;\n",
              "    }\n",
              "\n",
              "    [theme=dark] .colab-df-convert {\n",
              "      background-color: #3B4455;\n",
              "      fill: #D2E3FC;\n",
              "    }\n",
              "\n",
              "    [theme=dark] .colab-df-convert:hover {\n",
              "      background-color: #434B5C;\n",
              "      box-shadow: 0px 1px 3px 1px rgba(0, 0, 0, 0.15);\n",
              "      filter: drop-shadow(0px 1px 2px rgba(0, 0, 0, 0.3));\n",
              "      fill: #FFFFFF;\n",
              "    }\n",
              "  </style>\n",
              "\n",
              "      <script>\n",
              "        const buttonEl =\n",
              "          document.querySelector('#df-3cdffaa2-15be-44a5-ae31-fb5412bc728d button.colab-df-convert');\n",
              "        buttonEl.style.display =\n",
              "          google.colab.kernel.accessAllowed ? 'block' : 'none';\n",
              "\n",
              "        async function convertToInteractive(key) {\n",
              "          const element = document.querySelector('#df-3cdffaa2-15be-44a5-ae31-fb5412bc728d');\n",
              "          const dataTable =\n",
              "            await google.colab.kernel.invokeFunction('convertToInteractive',\n",
              "                                                     [key], {});\n",
              "          if (!dataTable) return;\n",
              "\n",
              "          const docLinkHtml = 'Like what you see? Visit the ' +\n",
              "            '<a target=\"_blank\" href=https://colab.research.google.com/notebooks/data_table.ipynb>data table notebook</a>'\n",
              "            + ' to learn more about interactive tables.';\n",
              "          element.innerHTML = '';\n",
              "          dataTable['output_type'] = 'display_data';\n",
              "          await google.colab.output.renderOutput(dataTable, element);\n",
              "          const docLink = document.createElement('div');\n",
              "          docLink.innerHTML = docLinkHtml;\n",
              "          element.appendChild(docLink);\n",
              "        }\n",
              "      </script>\n",
              "    </div>\n",
              "  </div>\n",
              "  "
            ]
          },
          "metadata": {},
          "execution_count": 121
        }
      ]
    },
    {
      "cell_type": "code",
      "execution_count": null,
      "metadata": {
        "id": "XmYmrgoOEeyo"
      },
      "outputs": [],
      "source": [
        "# X_valid_test = np.concatenate([X_val, X_test]) # concatenate\n",
        "# X_valid_test = pd.DataFrame(X_valid_test, columns=['text']) # transform into DataFrame\n",
        "\n",
        "# misclassified_df = create_misclassified_df(X_test=X_valid_test, y_test=y_valid_test_, y_pred=y_pred)\n",
        "# assert (misclassified_df['y_true'] != misclassified_df['y_pred']).all()\n",
        "# misclassified_df"
      ]
    },
    {
      "cell_type": "code",
      "execution_count": null,
      "metadata": {
        "colab": {
          "base_uri": "https://localhost:8080/"
        },
        "id": "hJ-tZHm4gOJX",
        "outputId": "6bc2c775-52e1-4fc8-afdd-f964068e2c30"
      },
      "outputs": [
        {
          "output_type": "execute_result",
          "data": {
            "text/plain": [
              "(34, 3)"
            ]
          },
          "metadata": {},
          "execution_count": 123
        }
      ],
      "source": [
        "misclassified_df.shape"
      ]
    },
    {
      "cell_type": "code",
      "execution_count": null,
      "metadata": {
        "colab": {
          "base_uri": "https://localhost:8080/",
          "height": 1000
        },
        "id": "s_uQkJmDdT42",
        "outputId": "21a6942e-0983-47bf-a0fd-dfbc4edcfe41"
      },
      "outputs": [
        {
          "output_type": "execute_result",
          "data": {
            "text/plain": [
              "                                                  text   y_true   y_pred  \\\n",
              "932  IQVIA (IQV) Buys Remaining Q2 Solutions Stake,...       PR  Article   \n",
              "713  CVS inks a deal with Medable to enroll more pa...  Article  Webinar   \n",
              "680  California ends Verily COVID-19 testing partne...  Article       PR   \n",
              "84   How to Use Hashtags: How Many, Best Ones, and ...     Blog  Article   \n",
              "791  Overview of EMA's latest IDMP Updates in 2022....     Blog  Webinar   \n",
              "880  The Power of Patient-Centricity in Rare Diseas...     Blog  Webinar   \n",
              "904  Introducing a Medical Perspective on Clinical ...     Blog       PR   \n",
              "524  New Data on the Future of CNS Clinical Trials....  Webinar    Event   \n",
              "207  What Do Millennials Really Want at Work? The S...  Article     MISC   \n",
              "222  Fully Managed Magento Hosting — JetRails. Full...     MISC    Event   \n",
              "619  Fierce Healthcare Webinar: Outlook for Telehea...  Webinar       PR   \n",
              "951  IQVIA (IQV) Announces Launch of Clinical Data ...       PR  Article   \n",
              "842  CTMS: Key to Unlocking Clinical Data Power. Co...     Blog  Webinar   \n",
              "371  Women Leaders in Emerging Tech Discussion co-h...    Event  Webinar   \n",
              "338  4th Virtual Clinical Trials. Switching to virt...    Event  Webinar   \n",
              "921  IQVIA already hiring for dozens of roles at ne...  Article       PR   \n",
              "822  RNSA 2021: BrightInsight’s post-conference per...     Blog    Event   \n",
              "309  Outsourcing in Clinical Trials & Clinical Tria...    Event     Blog   \n",
              "329  2022 HBS Health Care Conference. The New Where...     MISC    Event   \n",
              "778  Verily and Janssen to collaborate on home-base...  Article       PR   \n",
              "626  HIMSS Learning Center. Online Learning  We are...     MISC    Event   \n",
              "102  Great Content Starts with Great Questions for ...  Article     Blog   \n",
              "741  ObvioHealth Shares News Regarding Diversity of...       PR  Article   \n",
              "228  ObvioHealth. MAGI Clinical Research Conference...  Webinar    Event   \n",
              "112  Blogging 101: The ABC's of starting a blog fro...     MISC     Blog   \n",
              "960  Digital transformation of clinical research ac...  Article       PR   \n",
              "39   AWS Privacy. Privacy Notice  To see prior vers...     MISC  Article   \n",
              "555  Global Strategies for Accelerating Time to Mar...  Webinar       PR   \n",
              "456  Ross McEwan CBE, CEO of National Australia Ban...  Webinar    Event   \n",
              "61   Artificial Intelligence Is Here - People Just ...     Blog  Article   \n",
              "3    FAQs for some new features available in the Be...     Blog  Article   \n",
              "206  How to Do Walking Meetings Right. New!  HBR Le...  Article    Event   \n",
              "121  font-display | CSS-Tricks. The font-display pr...     MISC  Article   \n",
              "299  In Conduct of Decentralized Trials. In today’s...    Event  Webinar   \n",
              "\n",
              "                                                   url  \n",
              "932  http://www.zacks.com/stock/news/1348735/iqvia-...  \n",
              "713  http://www.statnews.com/2022/02/08/cvs-medable...  \n",
              "680  http://www.beckershospitalreview.com/healthcar...  \n",
              "84                                                 NaN  \n",
              "791  http://www.calyx.ai/journal/overview-ema-lates...  \n",
              "880  http://medrio.com/resource/the-power-of-patien...  \n",
              "904  http://www.calyx.ai/journal/a-medical-perspect...  \n",
              "524  http://science37.com/Company/Events/webinar-ne...  \n",
              "207                                                NaN  \n",
              "222                                                NaN  \n",
              "619  http://pages.questexinfo.com/glookowbnr1208202...  \n",
              "951  http://www.zacks.com/stock/news/1754370/iqvia-...  \n",
              "842  http://www.calyx.ai/journal/ctms-unlocking-cli...  \n",
              "371  http://www.eventbrite.com/e/women-leaders-in-e...  \n",
              "338  http://dgevents.com/event/4th-virtual-clinical...  \n",
              "921  http://www.wraltechwire.com/2021/10/08/iqvia-a...  \n",
              "822  http://brightinsight.com/blog/rnsa-2021-bright...  \n",
              "309      http://www.arena-international.com/octnordics  \n",
              "329  http://www.eventbrite.com/e/2022-hbs-health-ca...  \n",
              "778  http://www.pmlive.com/pharma_news/verily_and_j...  \n",
              "626  http://www.himsslearn.org/building-hospital-ho...  \n",
              "102                                                NaN  \n",
              "741  http://marketersmedia.com/obviohealth-shares-n...  \n",
              "228   http://www.obviohealth.com/events/informa-1-2021  \n",
              "112                                                NaN  \n",
              "960  http://www.outsourcing-pharma.com/Article/2021...  \n",
              "39                                                 NaN  \n",
              "555  http://www.iqvia.com/locations/asia-pacific/ev...  \n",
              "456  http://abcc-eventresponse.secure.force.com/Eve...  \n",
              "61                                                 NaN  \n",
              "3                                                  NaN  \n",
              "206                                                NaN  \n",
              "121                                                NaN  \n",
              "299  http://app.swapcard.com/event/scdm-2021-annual...  "
            ],
            "text/html": [
              "\n",
              "  <div id=\"df-867afca5-e8e5-473b-8152-d62a9f1638b0\">\n",
              "    <div class=\"colab-df-container\">\n",
              "      <div>\n",
              "<style scoped>\n",
              "    .dataframe tbody tr th:only-of-type {\n",
              "        vertical-align: middle;\n",
              "    }\n",
              "\n",
              "    .dataframe tbody tr th {\n",
              "        vertical-align: top;\n",
              "    }\n",
              "\n",
              "    .dataframe thead th {\n",
              "        text-align: right;\n",
              "    }\n",
              "</style>\n",
              "<table border=\"1\" class=\"dataframe\">\n",
              "  <thead>\n",
              "    <tr style=\"text-align: right;\">\n",
              "      <th></th>\n",
              "      <th>text</th>\n",
              "      <th>y_true</th>\n",
              "      <th>y_pred</th>\n",
              "      <th>url</th>\n",
              "    </tr>\n",
              "  </thead>\n",
              "  <tbody>\n",
              "    <tr>\n",
              "      <th>932</th>\n",
              "      <td>IQVIA (IQV) Buys Remaining Q2 Solutions Stake,...</td>\n",
              "      <td>PR</td>\n",
              "      <td>Article</td>\n",
              "      <td>http://www.zacks.com/stock/news/1348735/iqvia-...</td>\n",
              "    </tr>\n",
              "    <tr>\n",
              "      <th>713</th>\n",
              "      <td>CVS inks a deal with Medable to enroll more pa...</td>\n",
              "      <td>Article</td>\n",
              "      <td>Webinar</td>\n",
              "      <td>http://www.statnews.com/2022/02/08/cvs-medable...</td>\n",
              "    </tr>\n",
              "    <tr>\n",
              "      <th>680</th>\n",
              "      <td>California ends Verily COVID-19 testing partne...</td>\n",
              "      <td>Article</td>\n",
              "      <td>PR</td>\n",
              "      <td>http://www.beckershospitalreview.com/healthcar...</td>\n",
              "    </tr>\n",
              "    <tr>\n",
              "      <th>84</th>\n",
              "      <td>How to Use Hashtags: How Many, Best Ones, and ...</td>\n",
              "      <td>Blog</td>\n",
              "      <td>Article</td>\n",
              "      <td>NaN</td>\n",
              "    </tr>\n",
              "    <tr>\n",
              "      <th>791</th>\n",
              "      <td>Overview of EMA's latest IDMP Updates in 2022....</td>\n",
              "      <td>Blog</td>\n",
              "      <td>Webinar</td>\n",
              "      <td>http://www.calyx.ai/journal/overview-ema-lates...</td>\n",
              "    </tr>\n",
              "    <tr>\n",
              "      <th>880</th>\n",
              "      <td>The Power of Patient-Centricity in Rare Diseas...</td>\n",
              "      <td>Blog</td>\n",
              "      <td>Webinar</td>\n",
              "      <td>http://medrio.com/resource/the-power-of-patien...</td>\n",
              "    </tr>\n",
              "    <tr>\n",
              "      <th>904</th>\n",
              "      <td>Introducing a Medical Perspective on Clinical ...</td>\n",
              "      <td>Blog</td>\n",
              "      <td>PR</td>\n",
              "      <td>http://www.calyx.ai/journal/a-medical-perspect...</td>\n",
              "    </tr>\n",
              "    <tr>\n",
              "      <th>524</th>\n",
              "      <td>New Data on the Future of CNS Clinical Trials....</td>\n",
              "      <td>Webinar</td>\n",
              "      <td>Event</td>\n",
              "      <td>http://science37.com/Company/Events/webinar-ne...</td>\n",
              "    </tr>\n",
              "    <tr>\n",
              "      <th>207</th>\n",
              "      <td>What Do Millennials Really Want at Work? The S...</td>\n",
              "      <td>Article</td>\n",
              "      <td>MISC</td>\n",
              "      <td>NaN</td>\n",
              "    </tr>\n",
              "    <tr>\n",
              "      <th>222</th>\n",
              "      <td>Fully Managed Magento Hosting — JetRails. Full...</td>\n",
              "      <td>MISC</td>\n",
              "      <td>Event</td>\n",
              "      <td>NaN</td>\n",
              "    </tr>\n",
              "    <tr>\n",
              "      <th>619</th>\n",
              "      <td>Fierce Healthcare Webinar: Outlook for Telehea...</td>\n",
              "      <td>Webinar</td>\n",
              "      <td>PR</td>\n",
              "      <td>http://pages.questexinfo.com/glookowbnr1208202...</td>\n",
              "    </tr>\n",
              "    <tr>\n",
              "      <th>951</th>\n",
              "      <td>IQVIA (IQV) Announces Launch of Clinical Data ...</td>\n",
              "      <td>PR</td>\n",
              "      <td>Article</td>\n",
              "      <td>http://www.zacks.com/stock/news/1754370/iqvia-...</td>\n",
              "    </tr>\n",
              "    <tr>\n",
              "      <th>842</th>\n",
              "      <td>CTMS: Key to Unlocking Clinical Data Power. Co...</td>\n",
              "      <td>Blog</td>\n",
              "      <td>Webinar</td>\n",
              "      <td>http://www.calyx.ai/journal/ctms-unlocking-cli...</td>\n",
              "    </tr>\n",
              "    <tr>\n",
              "      <th>371</th>\n",
              "      <td>Women Leaders in Emerging Tech Discussion co-h...</td>\n",
              "      <td>Event</td>\n",
              "      <td>Webinar</td>\n",
              "      <td>http://www.eventbrite.com/e/women-leaders-in-e...</td>\n",
              "    </tr>\n",
              "    <tr>\n",
              "      <th>338</th>\n",
              "      <td>4th Virtual Clinical Trials. Switching to virt...</td>\n",
              "      <td>Event</td>\n",
              "      <td>Webinar</td>\n",
              "      <td>http://dgevents.com/event/4th-virtual-clinical...</td>\n",
              "    </tr>\n",
              "    <tr>\n",
              "      <th>921</th>\n",
              "      <td>IQVIA already hiring for dozens of roles at ne...</td>\n",
              "      <td>Article</td>\n",
              "      <td>PR</td>\n",
              "      <td>http://www.wraltechwire.com/2021/10/08/iqvia-a...</td>\n",
              "    </tr>\n",
              "    <tr>\n",
              "      <th>822</th>\n",
              "      <td>RNSA 2021: BrightInsight’s post-conference per...</td>\n",
              "      <td>Blog</td>\n",
              "      <td>Event</td>\n",
              "      <td>http://brightinsight.com/blog/rnsa-2021-bright...</td>\n",
              "    </tr>\n",
              "    <tr>\n",
              "      <th>309</th>\n",
              "      <td>Outsourcing in Clinical Trials &amp; Clinical Tria...</td>\n",
              "      <td>Event</td>\n",
              "      <td>Blog</td>\n",
              "      <td>http://www.arena-international.com/octnordics</td>\n",
              "    </tr>\n",
              "    <tr>\n",
              "      <th>329</th>\n",
              "      <td>2022 HBS Health Care Conference. The New Where...</td>\n",
              "      <td>MISC</td>\n",
              "      <td>Event</td>\n",
              "      <td>http://www.eventbrite.com/e/2022-hbs-health-ca...</td>\n",
              "    </tr>\n",
              "    <tr>\n",
              "      <th>778</th>\n",
              "      <td>Verily and Janssen to collaborate on home-base...</td>\n",
              "      <td>Article</td>\n",
              "      <td>PR</td>\n",
              "      <td>http://www.pmlive.com/pharma_news/verily_and_j...</td>\n",
              "    </tr>\n",
              "    <tr>\n",
              "      <th>626</th>\n",
              "      <td>HIMSS Learning Center. Online Learning  We are...</td>\n",
              "      <td>MISC</td>\n",
              "      <td>Event</td>\n",
              "      <td>http://www.himsslearn.org/building-hospital-ho...</td>\n",
              "    </tr>\n",
              "    <tr>\n",
              "      <th>102</th>\n",
              "      <td>Great Content Starts with Great Questions for ...</td>\n",
              "      <td>Article</td>\n",
              "      <td>Blog</td>\n",
              "      <td>NaN</td>\n",
              "    </tr>\n",
              "    <tr>\n",
              "      <th>741</th>\n",
              "      <td>ObvioHealth Shares News Regarding Diversity of...</td>\n",
              "      <td>PR</td>\n",
              "      <td>Article</td>\n",
              "      <td>http://marketersmedia.com/obviohealth-shares-n...</td>\n",
              "    </tr>\n",
              "    <tr>\n",
              "      <th>228</th>\n",
              "      <td>ObvioHealth. MAGI Clinical Research Conference...</td>\n",
              "      <td>Webinar</td>\n",
              "      <td>Event</td>\n",
              "      <td>http://www.obviohealth.com/events/informa-1-2021</td>\n",
              "    </tr>\n",
              "    <tr>\n",
              "      <th>112</th>\n",
              "      <td>Blogging 101: The ABC's of starting a blog fro...</td>\n",
              "      <td>MISC</td>\n",
              "      <td>Blog</td>\n",
              "      <td>NaN</td>\n",
              "    </tr>\n",
              "    <tr>\n",
              "      <th>960</th>\n",
              "      <td>Digital transformation of clinical research ac...</td>\n",
              "      <td>Article</td>\n",
              "      <td>PR</td>\n",
              "      <td>http://www.outsourcing-pharma.com/Article/2021...</td>\n",
              "    </tr>\n",
              "    <tr>\n",
              "      <th>39</th>\n",
              "      <td>AWS Privacy. Privacy Notice  To see prior vers...</td>\n",
              "      <td>MISC</td>\n",
              "      <td>Article</td>\n",
              "      <td>NaN</td>\n",
              "    </tr>\n",
              "    <tr>\n",
              "      <th>555</th>\n",
              "      <td>Global Strategies for Accelerating Time to Mar...</td>\n",
              "      <td>Webinar</td>\n",
              "      <td>PR</td>\n",
              "      <td>http://www.iqvia.com/locations/asia-pacific/ev...</td>\n",
              "    </tr>\n",
              "    <tr>\n",
              "      <th>456</th>\n",
              "      <td>Ross McEwan CBE, CEO of National Australia Ban...</td>\n",
              "      <td>Webinar</td>\n",
              "      <td>Event</td>\n",
              "      <td>http://abcc-eventresponse.secure.force.com/Eve...</td>\n",
              "    </tr>\n",
              "    <tr>\n",
              "      <th>61</th>\n",
              "      <td>Artificial Intelligence Is Here - People Just ...</td>\n",
              "      <td>Blog</td>\n",
              "      <td>Article</td>\n",
              "      <td>NaN</td>\n",
              "    </tr>\n",
              "    <tr>\n",
              "      <th>3</th>\n",
              "      <td>FAQs for some new features available in the Be...</td>\n",
              "      <td>Blog</td>\n",
              "      <td>Article</td>\n",
              "      <td>NaN</td>\n",
              "    </tr>\n",
              "    <tr>\n",
              "      <th>206</th>\n",
              "      <td>How to Do Walking Meetings Right. New!  HBR Le...</td>\n",
              "      <td>Article</td>\n",
              "      <td>Event</td>\n",
              "      <td>NaN</td>\n",
              "    </tr>\n",
              "    <tr>\n",
              "      <th>121</th>\n",
              "      <td>font-display | CSS-Tricks. The font-display pr...</td>\n",
              "      <td>MISC</td>\n",
              "      <td>Article</td>\n",
              "      <td>NaN</td>\n",
              "    </tr>\n",
              "    <tr>\n",
              "      <th>299</th>\n",
              "      <td>In Conduct of Decentralized Trials. In today’s...</td>\n",
              "      <td>Event</td>\n",
              "      <td>Webinar</td>\n",
              "      <td>http://app.swapcard.com/event/scdm-2021-annual...</td>\n",
              "    </tr>\n",
              "  </tbody>\n",
              "</table>\n",
              "</div>\n",
              "      <button class=\"colab-df-convert\" onclick=\"convertToInteractive('df-867afca5-e8e5-473b-8152-d62a9f1638b0')\"\n",
              "              title=\"Convert this dataframe to an interactive table.\"\n",
              "              style=\"display:none;\">\n",
              "        \n",
              "  <svg xmlns=\"http://www.w3.org/2000/svg\" height=\"24px\"viewBox=\"0 0 24 24\"\n",
              "       width=\"24px\">\n",
              "    <path d=\"M0 0h24v24H0V0z\" fill=\"none\"/>\n",
              "    <path d=\"M18.56 5.44l.94 2.06.94-2.06 2.06-.94-2.06-.94-.94-2.06-.94 2.06-2.06.94zm-11 1L8.5 8.5l.94-2.06 2.06-.94-2.06-.94L8.5 2.5l-.94 2.06-2.06.94zm10 10l.94 2.06.94-2.06 2.06-.94-2.06-.94-.94-2.06-.94 2.06-2.06.94z\"/><path d=\"M17.41 7.96l-1.37-1.37c-.4-.4-.92-.59-1.43-.59-.52 0-1.04.2-1.43.59L10.3 9.45l-7.72 7.72c-.78.78-.78 2.05 0 2.83L4 21.41c.39.39.9.59 1.41.59.51 0 1.02-.2 1.41-.59l7.78-7.78 2.81-2.81c.8-.78.8-2.07 0-2.86zM5.41 20L4 18.59l7.72-7.72 1.47 1.35L5.41 20z\"/>\n",
              "  </svg>\n",
              "      </button>\n",
              "      \n",
              "  <style>\n",
              "    .colab-df-container {\n",
              "      display:flex;\n",
              "      flex-wrap:wrap;\n",
              "      gap: 12px;\n",
              "    }\n",
              "\n",
              "    .colab-df-convert {\n",
              "      background-color: #E8F0FE;\n",
              "      border: none;\n",
              "      border-radius: 50%;\n",
              "      cursor: pointer;\n",
              "      display: none;\n",
              "      fill: #1967D2;\n",
              "      height: 32px;\n",
              "      padding: 0 0 0 0;\n",
              "      width: 32px;\n",
              "    }\n",
              "\n",
              "    .colab-df-convert:hover {\n",
              "      background-color: #E2EBFA;\n",
              "      box-shadow: 0px 1px 2px rgba(60, 64, 67, 0.3), 0px 1px 3px 1px rgba(60, 64, 67, 0.15);\n",
              "      fill: #174EA6;\n",
              "    }\n",
              "\n",
              "    [theme=dark] .colab-df-convert {\n",
              "      background-color: #3B4455;\n",
              "      fill: #D2E3FC;\n",
              "    }\n",
              "\n",
              "    [theme=dark] .colab-df-convert:hover {\n",
              "      background-color: #434B5C;\n",
              "      box-shadow: 0px 1px 3px 1px rgba(0, 0, 0, 0.15);\n",
              "      filter: drop-shadow(0px 1px 2px rgba(0, 0, 0, 0.3));\n",
              "      fill: #FFFFFF;\n",
              "    }\n",
              "  </style>\n",
              "\n",
              "      <script>\n",
              "        const buttonEl =\n",
              "          document.querySelector('#df-867afca5-e8e5-473b-8152-d62a9f1638b0 button.colab-df-convert');\n",
              "        buttonEl.style.display =\n",
              "          google.colab.kernel.accessAllowed ? 'block' : 'none';\n",
              "\n",
              "        async function convertToInteractive(key) {\n",
              "          const element = document.querySelector('#df-867afca5-e8e5-473b-8152-d62a9f1638b0');\n",
              "          const dataTable =\n",
              "            await google.colab.kernel.invokeFunction('convertToInteractive',\n",
              "                                                     [key], {});\n",
              "          if (!dataTable) return;\n",
              "\n",
              "          const docLinkHtml = 'Like what you see? Visit the ' +\n",
              "            '<a target=\"_blank\" href=https://colab.research.google.com/notebooks/data_table.ipynb>data table notebook</a>'\n",
              "            + ' to learn more about interactive tables.';\n",
              "          element.innerHTML = '';\n",
              "          dataTable['output_type'] = 'display_data';\n",
              "          await google.colab.output.renderOutput(dataTable, element);\n",
              "          const docLink = document.createElement('div');\n",
              "          docLink.innerHTML = docLinkHtml;\n",
              "          element.appendChild(docLink);\n",
              "        }\n",
              "      </script>\n",
              "    </div>\n",
              "  </div>\n",
              "  "
            ]
          },
          "metadata": {},
          "execution_count": 124
        }
      ],
      "source": [
        "df_merged = pd.merge(misclassified_df, df_text[['url', 'text']], on='text')\n",
        "df_merged.index = misclassified_df.index\n",
        "df_merged"
      ]
    },
    {
      "cell_type": "code",
      "execution_count": null,
      "metadata": {
        "colab": {
          "base_uri": "https://localhost:8080/"
        },
        "id": "H-EbtgsZgSbE",
        "outputId": "57736b5d-3cfc-4a01-9297-e417ea598188"
      },
      "outputs": [
        {
          "output_type": "execute_result",
          "data": {
            "text/plain": [
              "(34, 4)"
            ]
          },
          "metadata": {},
          "execution_count": 125
        }
      ],
      "source": [
        "df_merged.shape"
      ]
    },
    {
      "cell_type": "code",
      "execution_count": null,
      "metadata": {
        "colab": {
          "base_uri": "https://localhost:8080/",
          "height": 206
        },
        "id": "chnyzsDjBTD9",
        "outputId": "a6e37969-ebba-4c2a-ec80-cc27edb650fc"
      },
      "outputs": [
        {
          "output_type": "execute_result",
          "data": {
            "text/plain": [
              "     y_true  y_pred\n",
              "932       4       0\n",
              "713       0       3\n",
              "680       0       4\n",
              "84        1       0\n",
              "791       1       3"
            ],
            "text/html": [
              "\n",
              "  <div id=\"df-bb205f1e-8b36-41d2-bfcf-a5d9148d8c1a\">\n",
              "    <div class=\"colab-df-container\">\n",
              "      <div>\n",
              "<style scoped>\n",
              "    .dataframe tbody tr th:only-of-type {\n",
              "        vertical-align: middle;\n",
              "    }\n",
              "\n",
              "    .dataframe tbody tr th {\n",
              "        vertical-align: top;\n",
              "    }\n",
              "\n",
              "    .dataframe thead th {\n",
              "        text-align: right;\n",
              "    }\n",
              "</style>\n",
              "<table border=\"1\" class=\"dataframe\">\n",
              "  <thead>\n",
              "    <tr style=\"text-align: right;\">\n",
              "      <th></th>\n",
              "      <th>y_true</th>\n",
              "      <th>y_pred</th>\n",
              "    </tr>\n",
              "  </thead>\n",
              "  <tbody>\n",
              "    <tr>\n",
              "      <th>932</th>\n",
              "      <td>4</td>\n",
              "      <td>0</td>\n",
              "    </tr>\n",
              "    <tr>\n",
              "      <th>713</th>\n",
              "      <td>0</td>\n",
              "      <td>3</td>\n",
              "    </tr>\n",
              "    <tr>\n",
              "      <th>680</th>\n",
              "      <td>0</td>\n",
              "      <td>4</td>\n",
              "    </tr>\n",
              "    <tr>\n",
              "      <th>84</th>\n",
              "      <td>1</td>\n",
              "      <td>0</td>\n",
              "    </tr>\n",
              "    <tr>\n",
              "      <th>791</th>\n",
              "      <td>1</td>\n",
              "      <td>3</td>\n",
              "    </tr>\n",
              "  </tbody>\n",
              "</table>\n",
              "</div>\n",
              "      <button class=\"colab-df-convert\" onclick=\"convertToInteractive('df-bb205f1e-8b36-41d2-bfcf-a5d9148d8c1a')\"\n",
              "              title=\"Convert this dataframe to an interactive table.\"\n",
              "              style=\"display:none;\">\n",
              "        \n",
              "  <svg xmlns=\"http://www.w3.org/2000/svg\" height=\"24px\"viewBox=\"0 0 24 24\"\n",
              "       width=\"24px\">\n",
              "    <path d=\"M0 0h24v24H0V0z\" fill=\"none\"/>\n",
              "    <path d=\"M18.56 5.44l.94 2.06.94-2.06 2.06-.94-2.06-.94-.94-2.06-.94 2.06-2.06.94zm-11 1L8.5 8.5l.94-2.06 2.06-.94-2.06-.94L8.5 2.5l-.94 2.06-2.06.94zm10 10l.94 2.06.94-2.06 2.06-.94-2.06-.94-.94-2.06-.94 2.06-2.06.94z\"/><path d=\"M17.41 7.96l-1.37-1.37c-.4-.4-.92-.59-1.43-.59-.52 0-1.04.2-1.43.59L10.3 9.45l-7.72 7.72c-.78.78-.78 2.05 0 2.83L4 21.41c.39.39.9.59 1.41.59.51 0 1.02-.2 1.41-.59l7.78-7.78 2.81-2.81c.8-.78.8-2.07 0-2.86zM5.41 20L4 18.59l7.72-7.72 1.47 1.35L5.41 20z\"/>\n",
              "  </svg>\n",
              "      </button>\n",
              "      \n",
              "  <style>\n",
              "    .colab-df-container {\n",
              "      display:flex;\n",
              "      flex-wrap:wrap;\n",
              "      gap: 12px;\n",
              "    }\n",
              "\n",
              "    .colab-df-convert {\n",
              "      background-color: #E8F0FE;\n",
              "      border: none;\n",
              "      border-radius: 50%;\n",
              "      cursor: pointer;\n",
              "      display: none;\n",
              "      fill: #1967D2;\n",
              "      height: 32px;\n",
              "      padding: 0 0 0 0;\n",
              "      width: 32px;\n",
              "    }\n",
              "\n",
              "    .colab-df-convert:hover {\n",
              "      background-color: #E2EBFA;\n",
              "      box-shadow: 0px 1px 2px rgba(60, 64, 67, 0.3), 0px 1px 3px 1px rgba(60, 64, 67, 0.15);\n",
              "      fill: #174EA6;\n",
              "    }\n",
              "\n",
              "    [theme=dark] .colab-df-convert {\n",
              "      background-color: #3B4455;\n",
              "      fill: #D2E3FC;\n",
              "    }\n",
              "\n",
              "    [theme=dark] .colab-df-convert:hover {\n",
              "      background-color: #434B5C;\n",
              "      box-shadow: 0px 1px 3px 1px rgba(0, 0, 0, 0.15);\n",
              "      filter: drop-shadow(0px 1px 2px rgba(0, 0, 0, 0.3));\n",
              "      fill: #FFFFFF;\n",
              "    }\n",
              "  </style>\n",
              "\n",
              "      <script>\n",
              "        const buttonEl =\n",
              "          document.querySelector('#df-bb205f1e-8b36-41d2-bfcf-a5d9148d8c1a button.colab-df-convert');\n",
              "        buttonEl.style.display =\n",
              "          google.colab.kernel.accessAllowed ? 'block' : 'none';\n",
              "\n",
              "        async function convertToInteractive(key) {\n",
              "          const element = document.querySelector('#df-bb205f1e-8b36-41d2-bfcf-a5d9148d8c1a');\n",
              "          const dataTable =\n",
              "            await google.colab.kernel.invokeFunction('convertToInteractive',\n",
              "                                                     [key], {});\n",
              "          if (!dataTable) return;\n",
              "\n",
              "          const docLinkHtml = 'Like what you see? Visit the ' +\n",
              "            '<a target=\"_blank\" href=https://colab.research.google.com/notebooks/data_table.ipynb>data table notebook</a>'\n",
              "            + ' to learn more about interactive tables.';\n",
              "          element.innerHTML = '';\n",
              "          dataTable['output_type'] = 'display_data';\n",
              "          await google.colab.output.renderOutput(dataTable, element);\n",
              "          const docLink = document.createElement('div');\n",
              "          docLink.innerHTML = docLinkHtml;\n",
              "          element.appendChild(docLink);\n",
              "        }\n",
              "      </script>\n",
              "    </div>\n",
              "  </div>\n",
              "  "
            ]
          },
          "metadata": {},
          "execution_count": 126
        }
      ],
      "source": [
        "df_confidences = df_merged[['y_true', 'y_pred']].applymap(lambda x: labels_encoded[x])\n",
        "df_confidences.head()"
      ]
    },
    {
      "cell_type": "code",
      "execution_count": null,
      "metadata": {
        "colab": {
          "base_uri": "https://localhost:8080/"
        },
        "id": "2wcva9vZEIS6",
        "outputId": "f9d5359d-ad1d-4b32-b4f9-e33e3a957d7c"
      },
      "outputs": [
        {
          "output_type": "execute_result",
          "data": {
            "text/plain": [
              "(34, 2)"
            ]
          },
          "metadata": {},
          "execution_count": 127
        }
      ],
      "source": [
        "df_confidences.shape"
      ]
    },
    {
      "cell_type": "code",
      "execution_count": null,
      "metadata": {
        "id": "I9C_G1wYZN38"
      },
      "outputs": [],
      "source": [
        "mask = y_pred != y_test"
      ]
    },
    {
      "cell_type": "code",
      "execution_count": null,
      "metadata": {
        "id": "Friii2kkFDHF"
      },
      "outputs": [],
      "source": [
        "# mask = y_pred != y_valid_test_ and y_valid_test_ != 5"
      ]
    },
    {
      "cell_type": "code",
      "execution_count": null,
      "metadata": {
        "id": "WFQ7jPyqGKCc"
      },
      "outputs": [],
      "source": [
        "# num_misc = (df_confidences['y_true'] == 5).sum()\n",
        "# num_misc"
      ]
    },
    {
      "cell_type": "code",
      "execution_count": null,
      "metadata": {
        "colab": {
          "base_uri": "https://localhost:8080/"
        },
        "id": "iwoCCpR4Z28H",
        "outputId": "1925b5a1-d96e-48f5-8748-550c0398005c"
      },
      "outputs": [
        {
          "output_type": "execute_result",
          "data": {
            "text/plain": [
              "array([0.47852343, 0.65779459, 0.76266637, 0.52429177, 0.57569192,\n",
              "       0.45889863, 0.44239946, 0.52224769, 0.83887097, 0.35747723,\n",
              "       0.53192366, 0.44348663, 0.74126559, 0.74942645, 0.75143545,\n",
              "       0.58862598, 0.94488167, 0.57746427, 0.63949315, 0.4560506 ,\n",
              "       0.74984187, 0.81554   , 0.61604311, 0.80690224, 0.69743319,\n",
              "       0.47026566, 0.45883194, 0.48844072, 0.65657218, 0.58439351,\n",
              "       0.55748788, 0.64155521, 0.72504326, 0.52251202])"
            ]
          },
          "metadata": {},
          "execution_count": 133
        }
      ],
      "source": [
        "confidence_pred = y_probs[mask, df_confidences['y_pred']]\n",
        "confidence_pred"
      ]
    },
    {
      "cell_type": "code",
      "execution_count": null,
      "metadata": {
        "colab": {
          "base_uri": "https://localhost:8080/"
        },
        "id": "sJOkAm-wSiko",
        "outputId": "6f16ee46-883a-432e-e386-a19b04088e0f"
      },
      "outputs": [
        {
          "output_type": "execute_result",
          "data": {
            "text/plain": [
              "array([1.06330982e-02, 4.54263046e-03, 2.22608013e-01, 2.14130355e-01,\n",
              "       3.98678983e-02, 3.44417994e-01, 1.44923409e-01, 3.26513112e-01,\n",
              "       8.50907755e-03, 2.97718536e-01, 2.65714554e-01, 2.19222882e-02,\n",
              "       2.58530860e-03, 1.49308210e-01, 1.86888861e-01, 4.07322569e-01,\n",
              "       3.73701648e-02, 4.54404803e-02, 3.71951038e-02, 4.54936333e-01,\n",
              "       5.91491198e-02, 1.79204692e-01, 2.29012076e-01, 1.09156224e-01,\n",
              "       2.80255528e-01, 1.49794599e-01, 3.55854160e-01, 1.67886807e-01,\n",
              "       1.83898898e-01, 3.95439028e-01, 4.18313024e-01, 2.08382098e-04,\n",
              "       2.51553251e-01, 3.69709096e-01])"
            ]
          },
          "metadata": {},
          "execution_count": 134
        }
      ],
      "source": [
        "confidence_true = y_probs[mask, df_confidences['y_true']]\n",
        "confidence_true"
      ]
    },
    {
      "cell_type": "code",
      "execution_count": null,
      "metadata": {
        "id": "WmMtGjXMegRh"
      },
      "outputs": [],
      "source": [
        "# confidence_true = y_probs[:-num_misc][mask[:-num_misc], df_confidences['y_true'][:-num_misc]]\n",
        "# confidence_true = np.concatenate((confidence_true, np.zeros(num_misc)), axis=0)\n",
        "# confidence_true"
      ]
    },
    {
      "cell_type": "code",
      "execution_count": null,
      "metadata": {
        "id": "h-5q_7xqeXsY"
      },
      "outputs": [],
      "source": [
        "df_merged['conf_true'] = confidence_true.round(2)\n",
        "df_merged['conf_pred'] = confidence_pred.round(2)"
      ]
    },
    {
      "cell_type": "code",
      "execution_count": null,
      "metadata": {
        "colab": {
          "base_uri": "https://localhost:8080/",
          "height": 206
        },
        "id": "5CEy04J3eKKy",
        "outputId": "fecb10c1-9770-449a-ad01-f564fa8e5485"
      },
      "outputs": [
        {
          "output_type": "execute_result",
          "data": {
            "text/plain": [
              "                                                  text   y_true   y_pred  \\\n",
              "61   Artificial Intelligence Is Here - People Just ...     Blog  Article   \n",
              "3    FAQs for some new features available in the Be...     Blog  Article   \n",
              "206  How to Do Walking Meetings Right. New!  HBR Le...  Article    Event   \n",
              "121  font-display | CSS-Tricks. The font-display pr...     MISC  Article   \n",
              "299  In Conduct of Decentralized Trials. In today’s...    Event  Webinar   \n",
              "\n",
              "                                                   url  conf_true  conf_pred  \n",
              "61                                                 NaN       0.40       0.58  \n",
              "3                                                  NaN       0.42       0.56  \n",
              "206                                                NaN       0.00       0.64  \n",
              "121                                                NaN       0.25       0.73  \n",
              "299  http://app.swapcard.com/event/scdm-2021-annual...       0.37       0.52  "
            ],
            "text/html": [
              "\n",
              "  <div id=\"df-fcb2e9d3-747b-40f8-ba39-a5f9c42a384b\">\n",
              "    <div class=\"colab-df-container\">\n",
              "      <div>\n",
              "<style scoped>\n",
              "    .dataframe tbody tr th:only-of-type {\n",
              "        vertical-align: middle;\n",
              "    }\n",
              "\n",
              "    .dataframe tbody tr th {\n",
              "        vertical-align: top;\n",
              "    }\n",
              "\n",
              "    .dataframe thead th {\n",
              "        text-align: right;\n",
              "    }\n",
              "</style>\n",
              "<table border=\"1\" class=\"dataframe\">\n",
              "  <thead>\n",
              "    <tr style=\"text-align: right;\">\n",
              "      <th></th>\n",
              "      <th>text</th>\n",
              "      <th>y_true</th>\n",
              "      <th>y_pred</th>\n",
              "      <th>url</th>\n",
              "      <th>conf_true</th>\n",
              "      <th>conf_pred</th>\n",
              "    </tr>\n",
              "  </thead>\n",
              "  <tbody>\n",
              "    <tr>\n",
              "      <th>61</th>\n",
              "      <td>Artificial Intelligence Is Here - People Just ...</td>\n",
              "      <td>Blog</td>\n",
              "      <td>Article</td>\n",
              "      <td>NaN</td>\n",
              "      <td>0.40</td>\n",
              "      <td>0.58</td>\n",
              "    </tr>\n",
              "    <tr>\n",
              "      <th>3</th>\n",
              "      <td>FAQs for some new features available in the Be...</td>\n",
              "      <td>Blog</td>\n",
              "      <td>Article</td>\n",
              "      <td>NaN</td>\n",
              "      <td>0.42</td>\n",
              "      <td>0.56</td>\n",
              "    </tr>\n",
              "    <tr>\n",
              "      <th>206</th>\n",
              "      <td>How to Do Walking Meetings Right. New!  HBR Le...</td>\n",
              "      <td>Article</td>\n",
              "      <td>Event</td>\n",
              "      <td>NaN</td>\n",
              "      <td>0.00</td>\n",
              "      <td>0.64</td>\n",
              "    </tr>\n",
              "    <tr>\n",
              "      <th>121</th>\n",
              "      <td>font-display | CSS-Tricks. The font-display pr...</td>\n",
              "      <td>MISC</td>\n",
              "      <td>Article</td>\n",
              "      <td>NaN</td>\n",
              "      <td>0.25</td>\n",
              "      <td>0.73</td>\n",
              "    </tr>\n",
              "    <tr>\n",
              "      <th>299</th>\n",
              "      <td>In Conduct of Decentralized Trials. In today’s...</td>\n",
              "      <td>Event</td>\n",
              "      <td>Webinar</td>\n",
              "      <td>http://app.swapcard.com/event/scdm-2021-annual...</td>\n",
              "      <td>0.37</td>\n",
              "      <td>0.52</td>\n",
              "    </tr>\n",
              "  </tbody>\n",
              "</table>\n",
              "</div>\n",
              "      <button class=\"colab-df-convert\" onclick=\"convertToInteractive('df-fcb2e9d3-747b-40f8-ba39-a5f9c42a384b')\"\n",
              "              title=\"Convert this dataframe to an interactive table.\"\n",
              "              style=\"display:none;\">\n",
              "        \n",
              "  <svg xmlns=\"http://www.w3.org/2000/svg\" height=\"24px\"viewBox=\"0 0 24 24\"\n",
              "       width=\"24px\">\n",
              "    <path d=\"M0 0h24v24H0V0z\" fill=\"none\"/>\n",
              "    <path d=\"M18.56 5.44l.94 2.06.94-2.06 2.06-.94-2.06-.94-.94-2.06-.94 2.06-2.06.94zm-11 1L8.5 8.5l.94-2.06 2.06-.94-2.06-.94L8.5 2.5l-.94 2.06-2.06.94zm10 10l.94 2.06.94-2.06 2.06-.94-2.06-.94-.94-2.06-.94 2.06-2.06.94z\"/><path d=\"M17.41 7.96l-1.37-1.37c-.4-.4-.92-.59-1.43-.59-.52 0-1.04.2-1.43.59L10.3 9.45l-7.72 7.72c-.78.78-.78 2.05 0 2.83L4 21.41c.39.39.9.59 1.41.59.51 0 1.02-.2 1.41-.59l7.78-7.78 2.81-2.81c.8-.78.8-2.07 0-2.86zM5.41 20L4 18.59l7.72-7.72 1.47 1.35L5.41 20z\"/>\n",
              "  </svg>\n",
              "      </button>\n",
              "      \n",
              "  <style>\n",
              "    .colab-df-container {\n",
              "      display:flex;\n",
              "      flex-wrap:wrap;\n",
              "      gap: 12px;\n",
              "    }\n",
              "\n",
              "    .colab-df-convert {\n",
              "      background-color: #E8F0FE;\n",
              "      border: none;\n",
              "      border-radius: 50%;\n",
              "      cursor: pointer;\n",
              "      display: none;\n",
              "      fill: #1967D2;\n",
              "      height: 32px;\n",
              "      padding: 0 0 0 0;\n",
              "      width: 32px;\n",
              "    }\n",
              "\n",
              "    .colab-df-convert:hover {\n",
              "      background-color: #E2EBFA;\n",
              "      box-shadow: 0px 1px 2px rgba(60, 64, 67, 0.3), 0px 1px 3px 1px rgba(60, 64, 67, 0.15);\n",
              "      fill: #174EA6;\n",
              "    }\n",
              "\n",
              "    [theme=dark] .colab-df-convert {\n",
              "      background-color: #3B4455;\n",
              "      fill: #D2E3FC;\n",
              "    }\n",
              "\n",
              "    [theme=dark] .colab-df-convert:hover {\n",
              "      background-color: #434B5C;\n",
              "      box-shadow: 0px 1px 3px 1px rgba(0, 0, 0, 0.15);\n",
              "      filter: drop-shadow(0px 1px 2px rgba(0, 0, 0, 0.3));\n",
              "      fill: #FFFFFF;\n",
              "    }\n",
              "  </style>\n",
              "\n",
              "      <script>\n",
              "        const buttonEl =\n",
              "          document.querySelector('#df-fcb2e9d3-747b-40f8-ba39-a5f9c42a384b button.colab-df-convert');\n",
              "        buttonEl.style.display =\n",
              "          google.colab.kernel.accessAllowed ? 'block' : 'none';\n",
              "\n",
              "        async function convertToInteractive(key) {\n",
              "          const element = document.querySelector('#df-fcb2e9d3-747b-40f8-ba39-a5f9c42a384b');\n",
              "          const dataTable =\n",
              "            await google.colab.kernel.invokeFunction('convertToInteractive',\n",
              "                                                     [key], {});\n",
              "          if (!dataTable) return;\n",
              "\n",
              "          const docLinkHtml = 'Like what you see? Visit the ' +\n",
              "            '<a target=\"_blank\" href=https://colab.research.google.com/notebooks/data_table.ipynb>data table notebook</a>'\n",
              "            + ' to learn more about interactive tables.';\n",
              "          element.innerHTML = '';\n",
              "          dataTable['output_type'] = 'display_data';\n",
              "          await google.colab.output.renderOutput(dataTable, element);\n",
              "          const docLink = document.createElement('div');\n",
              "          docLink.innerHTML = docLinkHtml;\n",
              "          element.appendChild(docLink);\n",
              "        }\n",
              "      </script>\n",
              "    </div>\n",
              "  </div>\n",
              "  "
            ]
          },
          "metadata": {},
          "execution_count": 137
        }
      ],
      "source": [
        "df_merged.tail()"
      ]
    },
    {
      "cell_type": "code",
      "execution_count": null,
      "metadata": {
        "id": "sTVMMCP6eyDs"
      },
      "outputs": [],
      "source": [
        "df_merged = df_merged[['url', 'text', 'y_true', 'conf_true', 'y_pred', 'conf_pred']]"
      ]
    },
    {
      "cell_type": "code",
      "execution_count": null,
      "metadata": {
        "colab": {
          "base_uri": "https://localhost:8080/"
        },
        "id": "S9Vc0LXvucMZ",
        "outputId": "4a826a82-b3aa-4c61-8c56-3d99e6b5b222"
      },
      "outputs": [
        {
          "output_type": "execute_result",
          "data": {
            "text/plain": [
              "(34, 6)"
            ]
          },
          "metadata": {},
          "execution_count": 139
        }
      ],
      "source": [
        "df_merged.shape"
      ]
    },
    {
      "cell_type": "code",
      "source": [
        "# df = df_merged.iloc[13:, :]"
      ],
      "metadata": {
        "id": "JJw9cZahRFPX"
      },
      "execution_count": null,
      "outputs": []
    },
    {
      "cell_type": "code",
      "execution_count": null,
      "metadata": {
        "id": "8_d56jd4uYjI"
      },
      "outputs": [],
      "source": [
        "# df.drop('text', axis=1).head(3)"
      ]
    },
    {
      "cell_type": "code",
      "source": [
        "misclassified = df_merged.shape[0]\n",
        "misclassified_truncated = (df_merged[TEXT].str.split().str.len() > DISTILBERT_MAX_INPUT).sum()\n",
        "print(f'Out of the {misclassified} misclassified samples, {misclassified_truncated}'\n",
        "      f' ({misclassified_truncated / misclassified:.0%} of the total) were truncated.')"
      ],
      "metadata": {
        "colab": {
          "base_uri": "https://localhost:8080/"
        },
        "id": "wuJvKfQAGbFi",
        "outputId": "3f5517a4-f60b-4767-f022-e11532c8df32"
      },
      "execution_count": null,
      "outputs": [
        {
          "output_type": "stream",
          "name": "stdout",
          "text": [
            "Out of the 34 misclassified samples, 11 (32% of the total) were truncated.\n"
          ]
        }
      ]
    },
    {
      "cell_type": "code",
      "execution_count": null,
      "metadata": {
        "id": "ra7fZpx_3E80"
      },
      "outputs": [],
      "source": [
        "save_variables({'df_merged': df_merged})"
      ]
    },
    {
      "cell_type": "code",
      "execution_count": null,
      "metadata": {
        "colab": {
          "base_uri": "https://localhost:8080/"
        },
        "id": "JMI8oP6jhX0x",
        "outputId": "7f87f8ac-5221-463f-804a-7a1f5a908c11"
      },
      "outputs": [
        {
          "output_type": "execute_result",
          "data": {
            "text/plain": [
              "['http://www.zacks.com/stock/news/1348735/iqvia-iqv-buys-remaining-q2-solutions-stake-ups-eps-view?cid=CS-ZC-FT-analyst_blog%7Ccompany_news_-_corporate_actions-1348735',\n",
              " 'http://www.statnews.com/2022/02/08/cvs-medable-clinical-trials/',\n",
              " 'http://www.beckershospitalreview.com/healthcare-information-technology/california-ends-verily-covid-19-testing-partnership.html',\n",
              " nan,\n",
              " 'http://www.calyx.ai/journal/overview-ema-latest-idmp-updates/',\n",
              " 'http://medrio.com/resource/the-power-of-patient-centricity-in-rare-disease-studies/',\n",
              " 'http://www.calyx.ai/journal/a-medical-perspective-on-clinical-trial-technology/',\n",
              " 'http://science37.com/Company/Events/webinar-new-data-future-cns-clinical-trials',\n",
              " nan,\n",
              " nan,\n",
              " 'http://pages.questexinfo.com/glookowbnr12082021/?pk=Glooko',\n",
              " 'http://www.zacks.com/stock/news/1754370/iqvia-iqv-announces-launch-of-clinical-data-analytics-suite?cid=CS-ZC-FT-analyst_blog%7Ccompany_news_-_corporate_actions-1754370',\n",
              " 'http://www.calyx.ai/journal/ctms-unlocking-clinical-data-power/',\n",
              " 'http://www.eventbrite.com/e/women-leaders-in-emerging-tech-discussion-co-hosted-by-accenture-and-wits-tickets-168994401805',\n",
              " 'http://dgevents.com/event/4th-virtual-clinical-trials/',\n",
              " 'http://www.wraltechwire.com/2021/10/08/iqvia-already-hiring-for-dozens-of-roles-at-new-innovation-laboratories-facility/',\n",
              " 'http://brightinsight.com/blog/rnsa-2021-brightinsights-post-conference-perspectives',\n",
              " 'http://www.arena-international.com/octnordics',\n",
              " 'http://www.eventbrite.com/e/2022-hbs-health-care-conference-the-new-where-for-care-health-at-home-tickets-218150593297',\n",
              " 'http://www.pmlive.com/pharma_news/verily_and_janssen_to_collaborate_on_home-based_covid-19_immune_response_study_1363067',\n",
              " 'http://www.himsslearn.org/building-hospital-home-program-ground?source=sponsor1',\n",
              " nan,\n",
              " 'http://marketersmedia.com/obviohealth-shares-news-regarding-diversity-of-clinical-trials/89061532',\n",
              " 'http://www.obviohealth.com/events/informa-1-2021',\n",
              " nan,\n",
              " 'http://www.outsourcing-pharma.com/Article/2021/11/01/Digital-transformation-of-clinical-research-accelerating-rapidly',\n",
              " nan,\n",
              " 'http://www.iqvia.com/locations/asia-pacific/events/2021/05/global-strategies-for-accelerating-time-to-market-for-emerging-biopharmas',\n",
              " 'http://abcc-eventresponse.secure.force.com/EventDetail?Id=a1L6F00000NIwMRUA1',\n",
              " nan,\n",
              " nan,\n",
              " nan,\n",
              " nan,\n",
              " 'http://app.swapcard.com/event/scdm-2021-annual-conference/planning/UGxhbm5pbmdfNDEzMTMx']"
            ]
          },
          "metadata": {},
          "execution_count": 145
        }
      ],
      "source": [
        "misclassified_urls = df_merged['url'].tolist()\n",
        "misclassified_urls"
      ]
    },
    {
      "cell_type": "code",
      "execution_count": null,
      "metadata": {
        "colab": {
          "base_uri": "https://localhost:8080/"
        },
        "id": "Dkr2Cxia4VHz",
        "outputId": "4a2d090c-02a1-48f5-f0ff-18e804efd7d6"
      },
      "outputs": [
        {
          "output_type": "execute_result",
          "data": {
            "text/plain": [
              "array([0.47852343, 0.65779459, 0.76266637])"
            ]
          },
          "metadata": {},
          "execution_count": 146
        }
      ],
      "source": [
        "wrong_conf_pred = np.max(y_probs[mask], axis=1)\n",
        "wrong_conf_pred[:3]"
      ]
    },
    {
      "cell_type": "code",
      "execution_count": null,
      "metadata": {
        "colab": {
          "base_uri": "https://localhost:8080/"
        },
        "id": "qgAeTi5B49gu",
        "outputId": "f56ad757-ecae-478f-fca8-615856afd7b7"
      },
      "outputs": [
        {
          "output_type": "execute_result",
          "data": {
            "text/plain": [
              "array([0.91784542, 0.51219777, 0.98621136])"
            ]
          },
          "metadata": {},
          "execution_count": 147
        }
      ],
      "source": [
        "right_conf_pred = np.max(y_probs[~mask], axis=1)\n",
        "right_conf_pred[:3]"
      ]
    },
    {
      "cell_type": "code",
      "execution_count": null,
      "metadata": {
        "id": "eta97-C56Jdt"
      },
      "outputs": [],
      "source": [
        "assert y_probs.shape[0] == wrong_conf_pred.shape[0] + right_conf_pred.shape[0]"
      ]
    },
    {
      "cell_type": "code",
      "execution_count": null,
      "metadata": {
        "id": "UUhYzccUQD87"
      },
      "outputs": [],
      "source": [
        "# Comparison between using 'l1' vs 'l2' regularization (without class Article, with Home Page):\n",
        "# Acc test set - 'l1': 0.812, 'l2': 0.808\n",
        "# Acc train set - 'l1': 0.898, 'l2': 0.983\n",
        "# Average confidence of misclassified samples - 'l1': 0.5134, 'l2': 0.6213\n",
        "# Average confidence of correctly classified samples - 'l1': 0.6977, 'l2': 0.8412\n",
        "# Median confidence of misclassified samples - 'l1': 0.4976, 'l2': 0.5665\n",
        "# Median confidence of correctly classified samples - 'l1': 0.7224, 'l2': 0.8995"
      ]
    },
    {
      "cell_type": "code",
      "execution_count": null,
      "metadata": {
        "id": "e_gvtgjju6c1"
      },
      "outputs": [],
      "source": [
        "# Comparison between using 'l1' vs 'l2' regularization (with class Article, without Home Page):\n",
        "# Acc test set - 'l1': 0.717, 'l2': 0.759\n",
        "# Acc train set - 'l1': 0.886, 'l2': 0.988\n",
        "# Average confidence of misclassified samples - 'l1': 0.581, 'l2': 0.600\n",
        "# Average confidence of correctly classified samples - 'l1': 0.671, 'l2': 0.660\n",
        "# Median confidence of misclassified samples - 'l1': 0.564, 'l2': 0.5813\n",
        "# Median confidence of correctly classified samples - 'l1': 0.698, 'l2': 0.6841"
      ]
    },
    {
      "cell_type": "code",
      "source": [
        "sns.set_theme()"
      ],
      "metadata": {
        "id": "LRatji2GWYzs"
      },
      "execution_count": null,
      "outputs": []
    },
    {
      "cell_type": "code",
      "source": [
        "print(f'Confidence of incorrectly classified samples \\t- Median: {np.median(wrong_conf_pred):.4f}, Mean: {np.mean(wrong_conf_pred):.4f}.')\n",
        "print(f'Confidence of correctly classified samples \\t- Median: {np.median(right_conf_pred):.4f}, Mean: {np.mean(right_conf_pred):.4f}.')"
      ],
      "metadata": {
        "colab": {
          "base_uri": "https://localhost:8080/"
        },
        "id": "vz8UrWw2WxeT",
        "outputId": "2af61794-6512-40b7-d481-563989abacc2"
      },
      "execution_count": null,
      "outputs": [
        {
          "output_type": "stream",
          "name": "stdout",
          "text": [
            "Confidence of incorrectly classified samples \t- Median: 0.5865, Mean: 0.6128.\n",
            "Confidence of correctly classified samples \t- Median: 0.8802, Mean: 0.8285.\n"
          ]
        }
      ]
    },
    {
      "cell_type": "code",
      "source": [
        "density=True\n",
        "# plt.hist(wrong_conf_pred, bins=np.linspace(0, 1, 11), density=density, color='r', alpha=0.6)\n",
        "plt.hist(wrong_conf_pred, bins=np.linspace(0, 1, 11), density=density, color='r', alpha=0.6, cumulative=1)\n",
        "# plt.title('Cumulative confidence distribution in misclassified samples\\n', size=14)\n",
        "plt.title('Incorrectly classified samples', size=15)\n",
        "plt.xlabel('Confidence')\n",
        "plt.show()"
      ],
      "metadata": {
        "colab": {
          "base_uri": "https://localhost:8080/",
          "height": 303
        },
        "id": "J5s-hL2tWxha",
        "outputId": "2d4db828-3d08-4dd7-9d23-fc91766e8a63"
      },
      "execution_count": null,
      "outputs": [
        {
          "output_type": "display_data",
          "data": {
            "text/plain": [
              "<Figure size 432x288 with 1 Axes>"
            ],
            "image/png": "[encoded data removed]"
          },
          "metadata": {}
        }
      ]
    },
    {
      "cell_type": "code",
      "source": [
        "density=True\n",
        "# plt.hist(right_conf_pred, bins=np.linspace(0, 1, 11), density=density, color='b', alpha=0.6)\n",
        "plt.hist(right_conf_pred, bins=np.linspace(0, 1, 11), density=density, color='g', alpha=0.6, cumulative=1)\n",
        "plt.title('Cumulative confidence distribution in correctly classified samples\\n', size=14)\n",
        "# plt.title('Correctly classified samples', size=15)\n",
        "plt.xlabel('Confidence')\n",
        "plt.show()"
      ],
      "metadata": {
        "id": "W6kOSV9cWxpv"
      },
      "execution_count": null,
      "outputs": []
    },
    {
      "cell_type": "code",
      "source": [
        "density=False\n",
        "plt.hist(wrong_conf_pred, bins=np.linspace(0, 1, 11), density=density, alpha=0.6, color='r')\n",
        "# plt.title('Confidence distribution in misclassified samples\\n', size=14)\n",
        "plt.title('Incorrectly classified samples', size=15)\n",
        "plt.xlabel('Confidence')\n",
        "plt.ylabel('Number of samples')\n",
        "plt.show()"
      ],
      "metadata": {
        "colab": {
          "base_uri": "https://localhost:8080/",
          "height": 303
        },
        "id": "MmFg0x5oWxsb",
        "outputId": "ff921c42-63ba-411f-c8ab-32d417d7b325"
      },
      "execution_count": null,
      "outputs": [
        {
          "output_type": "display_data",
          "data": {
            "text/plain": [
              "<Figure size 432x288 with 1 Axes>"
            ],
            "image/png": "[encoded data removed]"
          },
          "metadata": {}
        }
      ]
    },
    {
      "cell_type": "code",
      "source": [
        "density=False\n",
        "plt.hist(right_conf_pred, bins=np.linspace(0, 1, 11), density=density, alpha=0.6, color='g')\n",
        "# plt.title('Confidence distribution in correctly classified samples\\n', size=14)\n",
        "plt.title('Correctly classified samples', size=15)\n",
        "plt.xlabel('Confidence')\n",
        "plt.ylabel('Number of samples')\n",
        "plt.show()"
      ],
      "metadata": {
        "colab": {
          "base_uri": "https://localhost:8080/",
          "height": 303
        },
        "id": "Dlsv9d4XWxys",
        "outputId": "e2f55eef-3191-42de-bef1-5c08992c9963"
      },
      "execution_count": null,
      "outputs": [
        {
          "output_type": "display_data",
          "data": {
            "text/plain": [
              "<Figure size 432x288 with 1 Axes>"
            ],
            "image/png": "[encoded data removed]"
          },
          "metadata": {}
        }
      ]
    },
    {
      "cell_type": "code",
      "execution_count": null,
      "metadata": {
        "id": "5YDrow8UReqD"
      },
      "outputs": [],
      "source": [
        "# misclassified_df = create_misclassified_df(X_test=X_valid_test, y_test=y_valid_test_, y_pred=y_pred)\n",
        "# assert (misclassified_df['y_true'] != misclassified_df['y_pred']).all()\n",
        "# # misclassified_df\n",
        "\n",
        "# df_merged = pd.merge(misclassified_df, df_text[['url', 'text']], on='text')\n",
        "# df_merged.index = misclassified_df.index\n",
        "# # df_merged\n",
        "\n",
        "# df_confidences = df_merged[['y_true', 'y_pred']].applymap(lambda x: labels_encoded[x])\n",
        "# # df_confidences.head()\n",
        "\n",
        "# mask = y_pred != y_valid_test_\n",
        "\n",
        "# confidence_pred = y_probs[mask, df_confidences['y_pred']]\n",
        "# # confidence_pred\n",
        "\n",
        "# confidence_true = y_probs[mask, df_confidences['y_true']]\n",
        "# # confidence_true\n",
        "\n",
        "# df_merged['conf_true'] = confidence_true.round(2)\n",
        "# df_merged['conf_pred'] = confidence_pred.round(2)\n",
        "# # df_merged.head()\n",
        "\n",
        "# df_merged = df_merged[['url', 'text', 'y_true', 'conf_true', 'y_pred', 'conf_pred']]\n",
        "# # df_merged.head()\n",
        "\n",
        "# save_variable(df_merged, 'df_merged_nn')\n",
        "\n",
        "# misclassified_urls = df_merged['url'].tolist()\n",
        "# # misclassified_urls\n",
        "\n",
        "# wrong_conf_pred = np.max(y_probs[mask], axis=1)\n",
        "# # wrong_conf_pred[:3]\n",
        "\n",
        "# right_conf_pred = np.max(y_probs[~mask], axis=1)\n",
        "# # right_conf_pred[:3]\n",
        "\n",
        "# assert y_probs.shape[0] == wrong_conf_pred.shape[0] + right_conf_pred.shape[0]\n",
        "\n",
        "# print(f'Average confidence of misclassified samples: {np.mean(wrong_conf_pred):.4f}')\n",
        "# print(f'Average confidence of correctly classified samples: {np.mean(right_conf_pred):.4f}')\n",
        "\n",
        "# print(f'Median confidence of misclassified samples: {np.median(wrong_conf_pred):.4f}')\n",
        "# print(f'Median confidence of correctly classified samples: {np.median(right_conf_pred):.4f}')\n",
        "\n",
        "# density=None\n",
        "# plt.hist(wrong_conf_pred, bins=np.linspace(0, 1, 11), density=density)\n",
        "# plt.title('Distribution of confidence in misclassified samples')\n",
        "# plt.show()\n",
        "\n",
        "# plt.hist(right_conf_pred, bins=np.linspace(0, 1, 11), density=density)\n",
        "# plt.title('Distribution of confidence in correctly classified samples')\n",
        "# plt.show()"
      ]
    },
    {
      "cell_type": "markdown",
      "metadata": {
        "id": "Z7CPoCLIj53r"
      },
      "source": [
        "### b) Modeling - DL approach:"
      ]
    },
    {
      "cell_type": "code",
      "execution_count": null,
      "metadata": {
        "colab": {
          "base_uri": "https://localhost:8080/",
          "height": 113,
          "referenced_widgets": [
            "ca70a8fead694cb9a6aad31585627d3a",
            "1ae707df3c9447299b28a5ec7437cd25",
            "5e89997759ac4fe3a382470559dc8d76",
            "1fb5073e204e4127a83731f2a29c908a",
            "fb10da9484aa4c6da6766df40303426d",
            "05e3354547b444aa9ea50229adc6f247",
            "5d535757cd484e0087878b79870ee1ed",
            "c24b646fc07e44dc96a13adc36329be0",
            "15aca514f30e41ae9630f545170a3aac",
            "27a97601715c4ea9ac0c48e62f9f02a3",
            "2b5643c4e65343e3b9712f613fbd61ed",
            "bb32d217b4b6434aab858c67593af794",
            "02c97da9a6734507805e060c10313780",
            "92d8979fe464404387f212068ae9cb1e",
            "cf7e7454485c4de2ba3c6763439aeb41",
            "799e221a6fa3452695a425654e08920a",
            "c9ffbc94cefa43f0b522116a37ce724c",
            "2ed3c696197041888eb476665dd73592",
            "ccb369789ec44b1eac9147753cebd086",
            "eb86b1d480b0450daeef0a683af3eeea",
            "df89f373fc7d471dbb4f522732b01486",
            "022e9354e35140f59cae3f47a8aff17d",
            "681c754e19884061b63c1cab09c7acfc",
            "96a8827ce9274f2788519e884171e0f2",
            "7ad9c776c9294c16856b2b5ef18561c1",
            "ba66417812ed491a8415b00a8ffd877a",
            "e0080fe9d1cb4e9bb2cd9041accffc3b",
            "ed738433d7394a75bc87a4fd0547c427",
            "e1478c8054544bcf8a9c0a80aba37ced",
            "fd4e1052974b47b3bb1b36263aec5674",
            "59d80a42d07149bab11555049829e4d4",
            "a1fc84181640414d83c589a051c3df6c",
            "ad9eddbff33b4b49a38e416cce078f0f"
          ]
        },
        "id": "EormNHj_iHct",
        "outputId": "261af502-32f8-45fc-8e05-c3e7b0679adf"
      },
      "outputs": [
        {
          "output_type": "display_data",
          "data": {
            "text/plain": [
              "  0%|          | 0/1 [00:00<?, ?ba/s]"
            ],
            "application/vnd.jupyter.widget-view+json": {
              "version_major": 2,
              "version_minor": 0,
              "model_id": "ca70a8fead694cb9a6aad31585627d3a"
            }
          },
          "metadata": {}
        },
        {
          "output_type": "display_data",
          "data": {
            "text/plain": [
              "  0%|          | 0/1 [00:00<?, ?ba/s]"
            ],
            "application/vnd.jupyter.widget-view+json": {
              "version_major": 2,
              "version_minor": 0,
              "model_id": "bb32d217b4b6434aab858c67593af794"
            }
          },
          "metadata": {}
        },
        {
          "output_type": "display_data",
          "data": {
            "text/plain": [
              "  0%|          | 0/1 [00:00<?, ?ba/s]"
            ],
            "application/vnd.jupyter.widget-view+json": {
              "version_major": 2,
              "version_minor": 0,
              "model_id": "681c754e19884061b63c1cab09c7acfc"
            }
          },
          "metadata": {}
        }
      ],
      "source": [
        "dataset_encoded = dataset.map(tokenize, batched=True, batch_size=None)"
      ]
    },
    {
      "cell_type": "code",
      "execution_count": null,
      "metadata": {
        "colab": {
          "base_uri": "https://localhost:8080/"
        },
        "id": "IdMqJKGHLpUw",
        "outputId": "0ef28a61-008c-4052-b1db-36c91d0ef085"
      },
      "outputs": [
        {
          "output_type": "execute_result",
          "data": {
            "text/plain": [
              "PreTrainedTokenizerFast(name_or_path='distilbert-base-uncased', vocab_size=30522, model_max_len=512, is_fast=True, padding_side='right', truncation_side='right', special_tokens={'unk_token': '[UNK]', 'sep_token': '[SEP]', 'pad_token': '[PAD]', 'cls_token': '[CLS]', 'mask_token': '[MASK]'})"
            ]
          },
          "metadata": {},
          "execution_count": 183
        }
      ],
      "source": [
        "tokenizer"
      ]
    },
    {
      "cell_type": "code",
      "execution_count": null,
      "metadata": {
        "id": "nkXjn82yN4U5",
        "colab": {
          "base_uri": "https://localhost:8080/"
        },
        "outputId": "c0b65357-eac0-451f-e635-30cfb927eacd"
      },
      "outputs": [
        {
          "output_type": "execute_result",
          "data": {
            "text/plain": [
              "{'unk_token': '[UNK]',\n",
              " 'sep_token': '[SEP]',\n",
              " 'pad_token': '[PAD]',\n",
              " 'cls_token': '[CLS]',\n",
              " 'mask_token': '[MASK]'}"
            ]
          },
          "metadata": {},
          "execution_count": 184
        }
      ],
      "source": [
        "tokenizer.special_tokens_map"
      ]
    },
    {
      "cell_type": "code",
      "execution_count": null,
      "metadata": {
        "id": "s_ThtXZJSpqK",
        "colab": {
          "base_uri": "https://localhost:8080/"
        },
        "outputId": "d92eccc4-a8dc-4744-c5e4-08b0d977821a"
      },
      "outputs": [
        {
          "output_type": "stream",
          "name": "stderr",
          "text": [
            "You're using a DistilBertTokenizerFast tokenizer. Please note that with a fast tokenizer, using the `__call__` method is faster than using a method to encode the text followed by a call to the `pad` method to get a padded encoding.\n"
          ]
        },
        {
          "output_type": "execute_result",
          "data": {
            "text/plain": [
              "<PrefetchDataset element_spec=({'input_ids': TensorSpec(shape=(None, 512), dtype=tf.int64, name=None), 'attention_mask': TensorSpec(shape=(None, 512), dtype=tf.int64, name=None)}, TensorSpec(shape=(None,), dtype=tf.int64, name=None))>"
            ]
          },
          "metadata": {},
          "execution_count": 185
        }
      ],
      "source": [
        "# The column names to convert to TensorFlow tensors\n",
        "# from transformers import DataCollatorForTokenClassification\n",
        "# from transformers import DefaultDataCollator\n",
        "\n",
        "tokenizer_columns = tokenizer.model_input_names\n",
        "\n",
        "# Define a batch size\n",
        "batch_size = 16\n",
        "\n",
        "# data_collator = DataCollatorForTokenClassification(tokenizer=tokenizer, return_tensors='tf')\n",
        "# data_collator = DefaultDataCollator(return_tensors='tf')\n",
        "data_collator = DataCollatorWithPadding(tokenizer=tokenizer, return_tensors='tf')\n",
        "\n",
        "tf_train_dataset = dataset_encoded['train'].to_tf_dataset(\n",
        "    columns=tokenizer_columns, \n",
        "    label_cols=['label'], \n",
        "    shuffle=True,\n",
        "    batch_size=batch_size,\n",
        "    collate_fn=data_collator\n",
        "    )\n",
        "\n",
        "tf_eval_dataset = dataset_encoded['validation'].to_tf_dataset(\n",
        "    columns=tokenizer_columns, \n",
        "    label_cols=['label'], \n",
        "    shuffle=False,\n",
        "    batch_size=batch_size,\n",
        "    collate_fn=data_collator\n",
        "    )\n",
        "\n",
        "tf_train_dataset"
      ]
    },
    {
      "cell_type": "code",
      "execution_count": null,
      "metadata": {
        "id": "zV8PbNr5Z3ta"
      },
      "outputs": [],
      "source": [
        "tf_test_dataset = dataset_encoded[\"test\"].to_tf_dataset(\n",
        "    columns=tokenizer_columns,\n",
        "    label_cols=[\"label\"], \n",
        "    shuffle=False,\n",
        "    batch_size=batch_size,\n",
        "    collate_fn=data_collator\n",
        "    )"
      ]
    },
    {
      "cell_type": "code",
      "execution_count": null,
      "metadata": {
        "id": "AJ6UI__x2HO2"
      },
      "outputs": [],
      "source": [
        "num_labels = len(y_train.value_counts())"
      ]
    },
    {
      "cell_type": "code",
      "execution_count": null,
      "metadata": {
        "id": "9sS1maLeG_91"
      },
      "outputs": [],
      "source": [
        "from transformers import TFDistilBertModel, DistilBertConfig\n",
        "\n",
        "DISTILBERT_DROPOUT = 0.2\n",
        "DISTILBERT_ATT_DROPOUT = 0.1\n",
        " \n",
        "# Configure DistilBERT's initialization\n",
        "config = DistilBertConfig(\n",
        "    dropout=DISTILBERT_DROPOUT, \n",
        "    attention_dropout=DISTILBERT_ATT_DROPOUT,\n",
        "    output_hidden_states=True,\n",
        "    num_labels=num_labels,\n",
        "    )\n",
        "                          \n",
        "# The bare, pre-trained DistilBERT transformer model outputting raw hidden-states \n",
        "# and without any specific head on top.\n",
        "# tf_model = TFDistilBertModel.from_pretrained(\n",
        "#     'distilbert-base-uncased', \n",
        "#     config=config\n",
        "#     )\n",
        "\n",
        "# # # Make tf_model layers untrainable\n",
        "# for layer in tf_model.layers:\n",
        "#     layer.trainable = False"
      ]
    },
    {
      "cell_type": "code",
      "execution_count": null,
      "metadata": {
        "colab": {
          "base_uri": "https://localhost:8080/"
        },
        "id": "HU9-N9IA2HU_",
        "outputId": "3984f18e-0ddc-4e2a-df49-47c051365a39"
      },
      "outputs": [
        {
          "output_type": "stream",
          "name": "stderr",
          "text": [
            "Some layers from the model checkpoint at distilbert-base-uncased were not used when initializing TFDistilBertForSequenceClassification: ['vocab_projector', 'activation_13', 'vocab_transform', 'vocab_layer_norm']\n",
            "- This IS expected if you are initializing TFDistilBertForSequenceClassification from the checkpoint of a model trained on another task or with another architecture (e.g. initializing a BertForSequenceClassification model from a BertForPreTraining model).\n",
            "- This IS NOT expected if you are initializing TFDistilBertForSequenceClassification from the checkpoint of a model that you expect to be exactly identical (initializing a BertForSequenceClassification model from a BertForSequenceClassification model).\n",
            "Some layers of TFDistilBertForSequenceClassification were not initialized from the model checkpoint at distilbert-base-uncased and are newly initialized: ['pre_classifier', 'dropout_38', 'classifier']\n",
            "You should probably TRAIN this model on a down-stream task to be able to use it for predictions and inference.\n"
          ]
        }
      ],
      "source": [
        "from transformers import TFAutoModelForSequenceClassification\n",
        "tf_model = (TFAutoModelForSequenceClassification.from_pretrained(\n",
        "    model_ckpt, \n",
        "    config=config, \n",
        "    # num_labels=num_labels,\n",
        "    )\n",
        ")"
      ]
    },
    {
      "cell_type": "code",
      "execution_count": null,
      "metadata": {
        "colab": {
          "base_uri": "https://localhost:8080/"
        },
        "id": "SunhfZis0qYC",
        "outputId": "67df0f7e-addd-44c7-e3e3-1e2f87b365a3"
      },
      "outputs": [
        {
          "output_type": "stream",
          "name": "stdout",
          "text": [
            "Epoch 1/1000\n",
            "38/38 [==============================] - 48s 1s/step - loss: 1.7609 - sparse_categorical_accuracy: 0.2521 - val_loss: 1.6946 - val_sparse_categorical_accuracy: 0.4767\n",
            "Epoch 2/1000\n",
            "38/38 [==============================] - 37s 979ms/step - loss: 1.6179 - sparse_categorical_accuracy: 0.5893 - val_loss: 1.5302 - val_sparse_categorical_accuracy: 0.7093\n",
            "Epoch 3/1000\n",
            "38/38 [==============================] - 37s 980ms/step - loss: 1.4147 - sparse_categorical_accuracy: 0.6878 - val_loss: 1.3233 - val_sparse_categorical_accuracy: 0.6977\n",
            "Epoch 4/1000\n",
            "38/38 [==============================] - 37s 987ms/step - loss: 1.2047 - sparse_categorical_accuracy: 0.7078 - val_loss: 1.1303 - val_sparse_categorical_accuracy: 0.7093\n",
            "Epoch 5/1000\n",
            "38/38 [==============================] - 37s 982ms/step - loss: 1.0323 - sparse_categorical_accuracy: 0.7579 - val_loss: 0.9867 - val_sparse_categorical_accuracy: 0.7209\n",
            "Epoch 6/1000\n",
            "38/38 [==============================] - 38s 988ms/step - loss: 0.8964 - sparse_categorical_accuracy: 0.7947 - val_loss: 0.8939 - val_sparse_categorical_accuracy: 0.7326\n",
            "Epoch 7/1000\n",
            "38/38 [==============================] - 37s 981ms/step - loss: 0.7852 - sparse_categorical_accuracy: 0.8197 - val_loss: 0.8319 - val_sparse_categorical_accuracy: 0.7326\n",
            "Epoch 8/1000\n",
            "38/38 [==============================] - 37s 985ms/step - loss: 0.6981 - sparse_categorical_accuracy: 0.8297 - val_loss: 0.7620 - val_sparse_categorical_accuracy: 0.7558\n",
            "Epoch 9/1000\n",
            "38/38 [==============================] - 37s 983ms/step - loss: 0.6245 - sparse_categorical_accuracy: 0.8514 - val_loss: 0.7302 - val_sparse_categorical_accuracy: 0.7791\n",
            "Epoch 10/1000\n",
            "38/38 [==============================] - 37s 981ms/step - loss: 0.5610 - sparse_categorical_accuracy: 0.8681 - val_loss: 0.7190 - val_sparse_categorical_accuracy: 0.7674\n",
            "Epoch 11/1000\n",
            "38/38 [==============================] - 37s 985ms/step - loss: 0.5073 - sparse_categorical_accuracy: 0.8798 - val_loss: 0.6730 - val_sparse_categorical_accuracy: 0.8023\n",
            "Epoch 12/1000\n",
            "38/38 [==============================] - 37s 984ms/step - loss: 0.4582 - sparse_categorical_accuracy: 0.8932 - val_loss: 0.6607 - val_sparse_categorical_accuracy: 0.7791\n",
            "Epoch 13/1000\n",
            "38/38 [==============================] - 37s 983ms/step - loss: 0.4052 - sparse_categorical_accuracy: 0.9115 - val_loss: 0.6618 - val_sparse_categorical_accuracy: 0.7791\n",
            "Epoch 14/1000\n",
            "38/38 [==============================] - 37s 981ms/step - loss: 0.3678 - sparse_categorical_accuracy: 0.9282 - val_loss: 0.6611 - val_sparse_categorical_accuracy: 0.7674\n",
            "Epoch 15/1000\n",
            "38/38 [==============================] - 37s 983ms/step - loss: 0.3330 - sparse_categorical_accuracy: 0.9382 - val_loss: 0.6298 - val_sparse_categorical_accuracy: 0.8023\n",
            "Epoch 16/1000\n",
            "38/38 [==============================] - 37s 978ms/step - loss: 0.2878 - sparse_categorical_accuracy: 0.9516 - val_loss: 0.6325 - val_sparse_categorical_accuracy: 0.8140\n",
            "Epoch 17/1000\n",
            "38/38 [==============================] - 37s 983ms/step - loss: 0.2569 - sparse_categorical_accuracy: 0.9599 - val_loss: 0.6287 - val_sparse_categorical_accuracy: 0.8372\n",
            "Epoch 18/1000\n",
            "38/38 [==============================] - 37s 981ms/step - loss: 0.2362 - sparse_categorical_accuracy: 0.9583 - val_loss: 0.6427 - val_sparse_categorical_accuracy: 0.8256\n",
            "Epoch 19/1000\n",
            "38/38 [==============================] - 37s 983ms/step - loss: 0.2069 - sparse_categorical_accuracy: 0.9683 - val_loss: 0.6126 - val_sparse_categorical_accuracy: 0.8256\n",
            "Epoch 20/1000\n",
            "38/38 [==============================] - 37s 982ms/step - loss: 0.1870 - sparse_categorical_accuracy: 0.9733 - val_loss: 0.6539 - val_sparse_categorical_accuracy: 0.7907\n",
            "Epoch 21/1000\n",
            "38/38 [==============================] - 37s 978ms/step - loss: 0.1884 - sparse_categorical_accuracy: 0.9733 - val_loss: 0.6506 - val_sparse_categorical_accuracy: 0.8140\n",
            "Epoch 22/1000\n",
            "38/38 [==============================] - 37s 985ms/step - loss: 0.1577 - sparse_categorical_accuracy: 0.9800 - val_loss: 0.6704 - val_sparse_categorical_accuracy: 0.8023\n",
            "Epoch 23/1000\n",
            "38/38 [==============================] - 37s 977ms/step - loss: 0.1286 - sparse_categorical_accuracy: 0.9883 - val_loss: 0.6630 - val_sparse_categorical_accuracy: 0.8023\n",
            "Epoch 24/1000\n",
            "38/38 [==============================] - 37s 983ms/step - loss: 0.1100 - sparse_categorical_accuracy: 0.9917 - val_loss: 0.6460 - val_sparse_categorical_accuracy: 0.8256\n"
          ]
        }
      ],
      "source": [
        "import tensorflow as tf\n",
        "from tensorflow.keras.callbacks import EarlyStopping\n",
        "\n",
        "# With:\n",
        "# DISTILBERT_DROPOUT = 0.2\n",
        "# DISTILBERT_ATT_DROPOUT = 0.1\n",
        "\n",
        "epochs = 1000\n",
        "patience = 5\n",
        "\n",
        "tf_model.compile(\n",
        "    optimizer=tf.keras.optimizers.Adam(learning_rate=5e-6),\n",
        "    loss=tf.keras.losses.SparseCategoricalCrossentropy(from_logits=True),\n",
        "    metrics=tf.metrics.SparseCategoricalAccuracy()\n",
        "    )\n",
        "\n",
        "callback = EarlyStopping(\n",
        "    monitor='val_loss',\n",
        "    patience=patience,\n",
        "    restore_best_weights=True\n",
        "    )\n",
        "\n",
        "history = tf_model.fit(\n",
        "    tf_train_dataset,\n",
        "    validation_data=tf_eval_dataset, \n",
        "    epochs=epochs,\n",
        "    callbacks=[callback]\n",
        "    )"
      ]
    },
    {
      "cell_type": "code",
      "execution_count": null,
      "metadata": {
        "id": "5NjkbvAyXSPy"
      },
      "outputs": [],
      "source": [
        "# tf.keras.models.save_model(\n",
        "#     tf_model, \n",
        "#     filepath='/content/drive/MyDrive/url_classification/my_model_val0.84_test0.89', \n",
        "#     overwrite=True, \n",
        "#     save_format='tf'\n",
        "#     )"
      ]
    },
    {
      "cell_type": "code",
      "execution_count": null,
      "metadata": {
        "colab": {
          "base_uri": "https://localhost:8080/"
        },
        "id": "86mOF1PLlLI0",
        "outputId": "41fd396e-1639-4878-9bca-911bc81cf1bc"
      },
      "outputs": [
        {
          "name": "stderr",
          "output_type": "stream",
          "text": [
            "WARNING:tensorflow:Skipping full serialization of Keras layer <keras.layers.regularization.dropout.Dropout object at 0x7f2f8b5438e0>, because it is not built.\n",
            "WARNING:tensorflow:Skipping full serialization of Keras layer <keras.layers.regularization.dropout.Dropout object at 0x7f2f891a1df0>, because it is not built.\n",
            "WARNING:tensorflow:Skipping full serialization of Keras layer <keras.layers.regularization.dropout.Dropout object at 0x7f2f87882310>, because it is not built.\n",
            "WARNING:tensorflow:Skipping full serialization of Keras layer <keras.layers.regularization.dropout.Dropout object at 0x7f2f8bc87880>, because it is not built.\n",
            "WARNING:tensorflow:Skipping full serialization of Keras layer <keras.layers.regularization.dropout.Dropout object at 0x7f2f8bc7c040>, because it is not built.\n",
            "WARNING:tensorflow:Skipping full serialization of Keras layer <keras.layers.regularization.dropout.Dropout object at 0x7f2f878b5b80>, because it is not built.\n",
            "WARNING:absl:Found untraced functions such as embeddings_layer_call_fn, embeddings_layer_call_and_return_conditional_losses, transformer_layer_call_fn, transformer_layer_call_and_return_conditional_losses, LayerNorm_layer_call_fn while saving (showing 5 of 164). These functions will not be directly callable after loading.\n"
          ]
        }
      ],
      "source": [
        "tf_model.save('/content/drive/MyDrive/Brew/my_model_val0.87_test0.8')"
      ]
    },
    {
      "cell_type": "code",
      "execution_count": null,
      "metadata": {
        "colab": {
          "base_uri": "https://localhost:8080/"
        },
        "id": "NQaCLUlUkkHM",
        "outputId": "380327b4-2669-4e8e-a444-80cc1ba8f9b5"
      },
      "outputs": [
        {
          "name": "stdout",
          "output_type": "stream",
          "text": [
            "/content/drive/.shortcut-targets-by-id/1vLy-uUgLo6ivB3DawGntodciS6HG1L58/url_classification\n"
          ]
        }
      ],
      "source": [
        "# ! pwd"
      ]
    },
    {
      "cell_type": "code",
      "execution_count": null,
      "metadata": {
        "id": "b07qsp-Gnele"
      },
      "outputs": [],
      "source": [
        "# tf.saved_model.save(tf_model, '/content/drive/MyDrive/Brew/my_model_delete')"
      ]
    },
    {
      "cell_type": "code",
      "execution_count": null,
      "metadata": {
        "id": "tdPtBRqXjjAx"
      },
      "outputs": [],
      "source": [
        "from tensorflow.keras.models import load_model\n",
        "tf_model2 = load_model(filepath='/content/drive/MyDrive/Brew/my_model_delete') "
      ]
    },
    {
      "cell_type": "code",
      "execution_count": null,
      "metadata": {
        "id": "9EzAv2tnoE-l"
      },
      "outputs": [],
      "source": [
        "tf_model2 = tf.saved_model.load('/content/drive/MyDrive/Brew/my_model_delete')"
      ]
    },
    {
      "cell_type": "code",
      "execution_count": null,
      "metadata": {
        "colab": {
          "base_uri": "https://localhost:8080/"
        },
        "id": "xtEcqbvsozvN",
        "outputId": "bdbf0861-0a20-44a7-cdd3-3bc1da8e0444"
      },
      "outputs": [
        {
          "output_type": "stream",
          "name": "stderr",
          "text": [
            "WARNING:tensorflow:Skipping full serialization of Keras layer <keras.layers.regularization.dropout.Dropout object at 0x7fc180392640>, because it is not built.\n",
            "WARNING:tensorflow:Skipping full serialization of Keras layer <keras.layers.regularization.dropout.Dropout object at 0x7fc219b07cd0>, because it is not built.\n",
            "WARNING:tensorflow:Skipping full serialization of Keras layer <keras.layers.regularization.dropout.Dropout object at 0x7fc184920be0>, because it is not built.\n",
            "WARNING:tensorflow:Skipping full serialization of Keras layer <keras.layers.regularization.dropout.Dropout object at 0x7fc180345580>, because it is not built.\n",
            "WARNING:tensorflow:Skipping full serialization of Keras layer <keras.layers.regularization.dropout.Dropout object at 0x7fc1845bfe80>, because it is not built.\n",
            "WARNING:tensorflow:Skipping full serialization of Keras layer <keras.layers.regularization.dropout.Dropout object at 0x7fc18dfb4220>, because it is not built.\n",
            "WARNING:absl:Found untraced functions such as embeddings_layer_call_fn, embeddings_layer_call_and_return_conditional_losses, transformer_layer_call_fn, transformer_layer_call_and_return_conditional_losses, LayerNorm_layer_call_fn while saving (showing 5 of 164). These functions will not be directly callable after loading.\n"
          ]
        }
      ],
      "source": [
        "tf.keras.models.save_model(tf_model, '/content/drive/MyDrive/url_classification/my_model_val0.81_test0.85')"
      ]
    },
    {
      "cell_type": "code",
      "execution_count": null,
      "metadata": {
        "colab": {
          "base_uri": "https://localhost:8080/"
        },
        "id": "FhEaOJRroW82",
        "outputId": "59e5a49b-0e90-4c2f-c4ae-90405c052a24"
      },
      "outputs": [
        {
          "data": {
            "text/plain": [
              "<transformers.models.distilbert.modeling_tf_distilbert.TFDistilBertForSequenceClassification at 0x7f5eddedc6a0>"
            ]
          },
          "execution_count": 215,
          "metadata": {},
          "output_type": "execute_result"
        }
      ],
      "source": [
        "tf_model"
      ]
    },
    {
      "cell_type": "code",
      "execution_count": null,
      "metadata": {
        "id": "PI81vL5ivl4H",
        "colab": {
          "base_uri": "https://localhost:8080/",
          "height": 336
        },
        "outputId": "75fbaf68-a4e2-4b4b-c540-6a5960ef01d4"
      },
      "outputs": [
        {
          "output_type": "error",
          "ename": "OSError",
          "evalue": "ignored",
          "traceback": [
            "\u001b[0;31m---------------------------------------------------------------------------\u001b[0m",
            "\u001b[0;31mOSError\u001b[0m                                   Traceback (most recent call last)",
            "\u001b[0;32m<ipython-input-186-041ba962a252>\u001b[0m in \u001b[0;36m<module>\u001b[0;34m\u001b[0m\n\u001b[0;32m----> 1\u001b[0;31m \u001b[0mtf_model2\u001b[0m \u001b[0;34m=\u001b[0m \u001b[0mtf\u001b[0m\u001b[0;34m.\u001b[0m\u001b[0mkeras\u001b[0m\u001b[0;34m.\u001b[0m\u001b[0mmodels\u001b[0m\u001b[0;34m.\u001b[0m\u001b[0mload_model\u001b[0m\u001b[0;34m(\u001b[0m\u001b[0mfilepath\u001b[0m\u001b[0;34m=\u001b[0m\u001b[0;34m'/content/drive/MyDrive/url_classification/my_model_val0.81_test0.85'\u001b[0m\u001b[0;34m)\u001b[0m\u001b[0;34m\u001b[0m\u001b[0;34m\u001b[0m\u001b[0m\n\u001b[0m\u001b[1;32m      2\u001b[0m \u001b[0;31m# # why doesn't it work when running the next cell with the loaded model?\u001b[0m\u001b[0;34m\u001b[0m\u001b[0;34m\u001b[0m\u001b[0;34m\u001b[0m\u001b[0m\n",
            "\u001b[0;32m/usr/local/lib/python3.8/dist-packages/keras/utils/traceback_utils.py\u001b[0m in \u001b[0;36merror_handler\u001b[0;34m(*args, **kwargs)\u001b[0m\n\u001b[1;32m     65\u001b[0m     \u001b[0;32mexcept\u001b[0m \u001b[0mException\u001b[0m \u001b[0;32mas\u001b[0m \u001b[0me\u001b[0m\u001b[0;34m:\u001b[0m  \u001b[0;31m# pylint: disable=broad-except\u001b[0m\u001b[0;34m\u001b[0m\u001b[0;34m\u001b[0m\u001b[0m\n\u001b[1;32m     66\u001b[0m       \u001b[0mfiltered_tb\u001b[0m \u001b[0;34m=\u001b[0m \u001b[0m_process_traceback_frames\u001b[0m\u001b[0;34m(\u001b[0m\u001b[0me\u001b[0m\u001b[0;34m.\u001b[0m\u001b[0m__traceback__\u001b[0m\u001b[0;34m)\u001b[0m\u001b[0;34m\u001b[0m\u001b[0;34m\u001b[0m\u001b[0m\n\u001b[0;32m---> 67\u001b[0;31m       \u001b[0;32mraise\u001b[0m \u001b[0me\u001b[0m\u001b[0;34m.\u001b[0m\u001b[0mwith_traceback\u001b[0m\u001b[0;34m(\u001b[0m\u001b[0mfiltered_tb\u001b[0m\u001b[0;34m)\u001b[0m \u001b[0;32mfrom\u001b[0m \u001b[0;32mNone\u001b[0m\u001b[0;34m\u001b[0m\u001b[0;34m\u001b[0m\u001b[0m\n\u001b[0m\u001b[1;32m     68\u001b[0m     \u001b[0;32mfinally\u001b[0m\u001b[0;34m:\u001b[0m\u001b[0;34m\u001b[0m\u001b[0;34m\u001b[0m\u001b[0m\n\u001b[1;32m     69\u001b[0m       \u001b[0;32mdel\u001b[0m \u001b[0mfiltered_tb\u001b[0m\u001b[0;34m\u001b[0m\u001b[0;34m\u001b[0m\u001b[0m\n",
            "\u001b[0;32m/usr/local/lib/python3.8/dist-packages/keras/saving/save.py\u001b[0m in \u001b[0;36mload_model\u001b[0;34m(filepath, custom_objects, compile, options)\u001b[0m\n\u001b[1;32m    204\u001b[0m         \u001b[0;32mif\u001b[0m \u001b[0misinstance\u001b[0m\u001b[0;34m(\u001b[0m\u001b[0mfilepath_str\u001b[0m\u001b[0;34m,\u001b[0m \u001b[0mstr\u001b[0m\u001b[0;34m)\u001b[0m\u001b[0;34m:\u001b[0m\u001b[0;34m\u001b[0m\u001b[0;34m\u001b[0m\u001b[0m\n\u001b[1;32m    205\u001b[0m           \u001b[0;32mif\u001b[0m \u001b[0;32mnot\u001b[0m \u001b[0mtf\u001b[0m\u001b[0;34m.\u001b[0m\u001b[0mio\u001b[0m\u001b[0;34m.\u001b[0m\u001b[0mgfile\u001b[0m\u001b[0;34m.\u001b[0m\u001b[0mexists\u001b[0m\u001b[0;34m(\u001b[0m\u001b[0mfilepath_str\u001b[0m\u001b[0;34m)\u001b[0m\u001b[0;34m:\u001b[0m\u001b[0;34m\u001b[0m\u001b[0;34m\u001b[0m\u001b[0m\n\u001b[0;32m--> 206\u001b[0;31m             \u001b[0;32mraise\u001b[0m \u001b[0mIOError\u001b[0m\u001b[0;34m(\u001b[0m\u001b[0;34mf'No file or directory found at {filepath_str}'\u001b[0m\u001b[0;34m)\u001b[0m\u001b[0;34m\u001b[0m\u001b[0;34m\u001b[0m\u001b[0m\n\u001b[0m\u001b[1;32m    207\u001b[0m \u001b[0;34m\u001b[0m\u001b[0m\n\u001b[1;32m    208\u001b[0m           \u001b[0;32mif\u001b[0m \u001b[0mtf\u001b[0m\u001b[0;34m.\u001b[0m\u001b[0mio\u001b[0m\u001b[0;34m.\u001b[0m\u001b[0mgfile\u001b[0m\u001b[0;34m.\u001b[0m\u001b[0misdir\u001b[0m\u001b[0;34m(\u001b[0m\u001b[0mfilepath_str\u001b[0m\u001b[0;34m)\u001b[0m\u001b[0;34m:\u001b[0m\u001b[0;34m\u001b[0m\u001b[0;34m\u001b[0m\u001b[0m\n",
            "\u001b[0;31mOSError\u001b[0m: No file or directory found at /content/drive/MyDrive/url_classification/my_model_val0.81_test0.85"
          ]
        }
      ],
      "source": [
        "tf_model2 = tf.keras.models.load_model(filepath='/content/drive/MyDrive/url_classification/my_model_val0.84_test0.89') \n",
        "# # why doesn't it work when running the next cell with the loaded model?"
      ]
    },
    {
      "cell_type": "code",
      "execution_count": null,
      "metadata": {
        "id": "4F0dji0QrxxZ"
      },
      "outputs": [],
      "source": [
        "custom_objects = {\"TFAutoModelForSequenceClassification\": TFAutoModelForSequenceClassification}\n",
        "\n",
        "tf_model2 = tf.keras.models.load_model('/content/drive/MyDrive/Brew/my_model_delete', custom_objects=custom_objects)"
      ]
    },
    {
      "cell_type": "code",
      "execution_count": null,
      "metadata": {
        "id": "IgyF9uA9QN2L"
      },
      "outputs": [],
      "source": [
        "# loss, train_accuracy = tf_model2.evaluate(tf_train_dataset)\n",
        "# print(\"Loss: {}\\t Train Accuracy: {}\".format(loss, train_accuracy))"
      ]
    },
    {
      "cell_type": "code",
      "execution_count": null,
      "metadata": {
        "colab": {
          "base_uri": "https://localhost:8080/"
        },
        "id": "F1Nkbt-X4d2h",
        "outputId": "44f8c513-d020-4f96-c31d-6c1e15a3daf7"
      },
      "outputs": [
        {
          "output_type": "stream",
          "name": "stdout",
          "text": [
            "38/38 [==============================] - 12s 316ms/step - loss: 0.1531 - sparse_categorical_accuracy: 0.9750\n",
            "Loss: 0.15307635068893433\t Train Accuracy: 0.9749582409858704\n"
          ]
        }
      ],
      "source": [
        "loss, train_accuracy = tf_model.evaluate(tf_train_dataset)\n",
        "print(\"Loss: {}\\t Train Accuracy: {}\".format(loss, train_accuracy))"
      ]
    },
    {
      "cell_type": "code",
      "execution_count": null,
      "metadata": {
        "colab": {
          "base_uri": "https://localhost:8080/"
        },
        "id": "tP52v3J-a7Rn",
        "outputId": "c455e233-2740-48dc-ffc1-7db55934b582"
      },
      "outputs": [
        {
          "output_type": "stream",
          "name": "stdout",
          "text": [
            "6/6 [==============================] - 2s 285ms/step - loss: 0.6126 - sparse_categorical_accuracy: 0.8256\n",
            "Loss: 0.6125950813293457\t Eval Accuracy: 0.8255813717842102\n"
          ]
        }
      ],
      "source": [
        "loss, eval_accuracy = tf_model.evaluate(tf_eval_dataset)\n",
        "print(\"Loss: {}\\t Eval Accuracy: {}\".format(loss, eval_accuracy))"
      ]
    },
    {
      "cell_type": "code",
      "execution_count": null,
      "metadata": {
        "colab": {
          "base_uri": "https://localhost:8080/"
        },
        "id": "RzkN9PXFaDZ9",
        "outputId": "d446f05a-7782-468b-9f79-bfa776b00a58"
      },
      "outputs": [
        {
          "output_type": "stream",
          "name": "stdout",
          "text": [
            "11/11 [==============================] - 4s 325ms/step - loss: 0.5771 - sparse_categorical_accuracy: 0.8372\n",
            "Loss: 0.5770680904388428\t Test Accuracy: 0.8372092843055725\n"
          ]
        }
      ],
      "source": [
        "loss, test_accuracy = tf_model.evaluate(tf_test_dataset)\n",
        "print(\"Loss: {}\\t Test Accuracy: {}\".format(loss, test_accuracy))"
      ]
    },
    {
      "cell_type": "code",
      "execution_count": null,
      "metadata": {
        "colab": {
          "base_uri": "https://localhost:8080/"
        },
        "id": "F8UVUf8Ra7V6",
        "outputId": "cfcf23de-7a77-4892-ac8e-38a7109752cd"
      },
      "outputs": [
        {
          "output_type": "stream",
          "name": "stdout",
          "text": [
            "11/11 [==============================] - 5s 321ms/step\n"
          ]
        }
      ],
      "source": [
        "output_logits = tf_model.predict(tf_test_dataset).logits\n",
        "y_pred = np.argmax(output_logits, axis=-1)"
      ]
    },
    {
      "cell_type": "code",
      "execution_count": null,
      "metadata": {
        "colab": {
          "base_uri": "https://localhost:8080/"
        },
        "id": "-1rJLIKSbnC0",
        "outputId": "18837503-73f7-4000-fd20-08ecaaf2dc12"
      },
      "outputs": [
        {
          "output_type": "execute_result",
          "data": {
            "text/plain": [
              "array([1, 0, 1, 1, 3, 5, 4, 4, 2, 4, 1, 3, 1, 0, 3, 3, 4, 3, 2, 2, 3, 4,\n",
              "       4, 5, 2, 2, 5, 3, 3, 4, 1, 2, 5, 2, 1, 1, 1, 1, 0, 1, 4, 3, 3, 2,\n",
              "       1, 1, 3, 4, 3, 2, 3, 1, 4, 3, 1, 4, 3, 4, 2, 3, 5, 0, 2, 4, 3, 1,\n",
              "       2, 1, 4, 2, 1, 1, 2, 2, 1, 2, 4, 1, 1, 3, 2, 2, 4, 1, 1, 4, 0, 1,\n",
              "       1, 4, 5, 2, 1, 1, 4, 1, 4, 4, 3, 3, 2, 5, 0, 3, 5, 4, 1, 2, 4, 5,\n",
              "       1, 4, 0, 0, 3, 2, 2, 3, 3, 0, 2, 2, 4, 2, 3, 4, 1, 2, 1, 2, 3, 3,\n",
              "       4, 5, 2, 1, 2, 4, 4, 5, 3, 4, 3, 1, 3, 1, 1, 2, 2, 4, 2, 3, 3, 0,\n",
              "       0, 4, 3, 3, 2, 5, 2, 5, 4, 3, 2, 1, 2, 2, 2, 3, 1, 3])"
            ]
          },
          "metadata": {},
          "execution_count": 195
        }
      ],
      "source": [
        "y_pred"
      ]
    },
    {
      "cell_type": "code",
      "execution_count": null,
      "metadata": {
        "colab": {
          "base_uri": "https://localhost:8080/"
        },
        "id": "EMHZVSwk5NkK",
        "outputId": "165df14e-bec4-457e-8e6f-cf15b7a6b544"
      },
      "outputs": [
        {
          "output_type": "execute_result",
          "data": {
            "text/plain": [
              "<tf.Tensor: shape=(3, 6), dtype=float32, numpy=\n",
              "array([[0.08416542, 0.878566  , 0.00733409, 0.01031895, 0.00701632,\n",
              "        0.01259932],\n",
              "       [0.7317688 , 0.05313385, 0.0171092 , 0.01492369, 0.12416278,\n",
              "        0.05890167],\n",
              "       [0.08567395, 0.85064834, 0.01047275, 0.03116656, 0.0085467 ,\n",
              "        0.01349174]], dtype=float32)>"
            ]
          },
          "metadata": {},
          "execution_count": 196
        }
      ],
      "source": [
        "y_probs = tf.nn.softmax(output_logits)\n",
        "y_probs[:3]"
      ]
    },
    {
      "cell_type": "code",
      "source": [
        "sns.set_theme(style='white')"
      ],
      "metadata": {
        "id": "WQ5Z9mE4fMSj"
      },
      "execution_count": null,
      "outputs": []
    },
    {
      "cell_type": "code",
      "source": [
        "print_confusion_matrix(y_test, y_pred, with_report=True)"
      ],
      "metadata": {
        "colab": {
          "base_uri": "https://localhost:8080/",
          "height": 553
        },
        "id": "GHru20dze7K1",
        "outputId": "095cdfa7-19c3-4ad3-8c18-22366e875f6a"
      },
      "execution_count": null,
      "outputs": [
        {
          "output_type": "display_data",
          "data": {
            "text/plain": [
              "<Figure size 432x288 with 2 Axes>"
            ],
            "image/png": "[encoded data removed]"
          },
          "metadata": {}
        },
        {
          "output_type": "stream",
          "name": "stdout",
          "text": [
            "\n",
            "              precision    recall  f1-score   support\n",
            "\n",
            "     Article       0.64      0.41      0.50        17\n",
            "        Blog       0.90      0.88      0.89        40\n",
            "       Event       0.85      0.94      0.89        35\n",
            "        MISC       0.77      0.67      0.71        15\n",
            "          PR       0.85      0.93      0.89        30\n",
            "     Webinar       0.84      0.89      0.86        35\n",
            "\n",
            "    accuracy                           0.84       172\n",
            "   macro avg       0.81      0.79      0.79       172\n",
            "weighted avg       0.83      0.84      0.83       172\n",
            "\n"
          ]
        }
      ]
    },
    {
      "cell_type": "code",
      "source": [
        "print_confusion_matrix(y_test, y_pred, with_report=True)"
      ],
      "metadata": {
        "colab": {
          "base_uri": "https://localhost:8080/",
          "height": 547
        },
        "id": "IhNZ_t8lX5MU",
        "outputId": "bbdbce70-c038-4fed-dec6-3fbabdea14e1"
      },
      "execution_count": null,
      "outputs": [
        {
          "output_type": "display_data",
          "data": {
            "text/plain": [
              "<Figure size 432x288 with 2 Axes>"
            ],
            "image/png": "[encoded data removed]"
          },
          "metadata": {
            "needs_background": "light"
          }
        },
        {
          "output_type": "stream",
          "name": "stdout",
          "text": [
            "\n",
            "              precision    recall  f1-score   support\n",
            "\n",
            "     Article       0.75      0.53      0.62        17\n",
            "        Blog       0.88      0.88      0.88        40\n",
            "       Event       0.86      0.91      0.89        35\n",
            "        MISC       0.77      0.67      0.71        15\n",
            "          PR       0.94      0.97      0.95        30\n",
            "     Webinar       0.82      0.91      0.86        35\n",
            "\n",
            "    accuracy                           0.85       172\n",
            "   macro avg       0.84      0.81      0.82       172\n",
            "weighted avg       0.85      0.85      0.85       172\n",
            "\n"
          ]
        }
      ]
    },
    {
      "cell_type": "code",
      "execution_count": null,
      "metadata": {
        "colab": {
          "base_uri": "https://localhost:8080/"
        },
        "id": "a4qp0NEHa7d9",
        "outputId": "557212b4-f63a-4c27-c7b3-bf7d3a836c46"
      },
      "outputs": [
        {
          "output_type": "execute_result",
          "data": {
            "text/plain": [
              "array([1, 0, 1, 1, 3, 5, 4, 4, 2, 4, 1, 3, 1, 0, 3, 3, 4, 3, 2, 2, 3, 4,\n",
              "       4, 5, 2, 2, 5, 3, 3, 4, 1, 2, 5, 2, 1, 1, 1, 1, 0, 1, 4, 3, 3, 2,\n",
              "       1, 1, 3, 4, 3, 2, 3, 1, 4, 3, 1, 4, 3, 4, 2, 3, 5, 0, 2, 4, 3, 1,\n",
              "       2, 1, 4, 2, 1, 1, 2, 2, 1, 2, 4, 1, 1, 3, 2, 2, 4, 1, 1, 4, 0, 1,\n",
              "       1, 4, 5, 2, 1, 1, 4, 1, 4, 4, 3, 3, 2, 5, 0, 3, 5, 4, 1, 2, 4, 5,\n",
              "       1, 4, 0, 0, 3, 2, 2, 3, 3, 0, 2, 2, 4, 2, 3, 4, 1, 2, 1, 2, 3, 3,\n",
              "       4, 5, 2, 1, 2, 4, 4, 5, 3, 4, 3, 1, 3, 1, 1, 2, 2, 4, 2, 3, 3, 0,\n",
              "       0, 4, 3, 3, 2, 5, 2, 5, 4, 3, 2, 1, 2, 2, 2, 3, 1, 3])"
            ]
          },
          "metadata": {},
          "execution_count": 201
        }
      ],
      "source": [
        "y_pred"
      ]
    },
    {
      "cell_type": "code",
      "execution_count": null,
      "metadata": {
        "colab": {
          "base_uri": "https://localhost:8080/"
        },
        "id": "PWJ40D7s9cox",
        "outputId": "e19603c3-13a9-4d34-d0e9-d8e206ef16f4"
      },
      "outputs": [
        {
          "output_type": "execute_result",
          "data": {
            "text/plain": [
              "831    1\n",
              "932    4\n",
              "821    1\n",
              "843    1\n",
              "642    3\n",
              "      ..\n",
              "404    2\n",
              "405    2\n",
              "563    3\n",
              "909    1\n",
              "580    3\n",
              "Name: label, Length: 172, dtype: int64"
            ]
          },
          "metadata": {},
          "execution_count": 202
        }
      ],
      "source": [
        "y_test"
      ]
    },
    {
      "cell_type": "code",
      "execution_count": null,
      "metadata": {
        "colab": {
          "base_uri": "https://localhost:8080/"
        },
        "id": "s0nXs5Q19SAY",
        "outputId": "f7f85eeb-732a-498d-8b13-5b261e94d726"
      },
      "outputs": [
        {
          "output_type": "execute_result",
          "data": {
            "text/plain": [
              "831    False\n",
              "932     True\n",
              "821    False\n",
              "843    False\n",
              "642    False\n",
              "       ...  \n",
              "404    False\n",
              "405    False\n",
              "563    False\n",
              "909    False\n",
              "580    False\n",
              "Name: label, Length: 172, dtype: bool"
            ]
          },
          "metadata": {},
          "execution_count": 203
        }
      ],
      "source": [
        "mask = y_pred != y_test\n",
        "mask"
      ]
    },
    {
      "cell_type": "code",
      "execution_count": null,
      "metadata": {
        "colab": {
          "base_uri": "https://localhost:8080/"
        },
        "id": "vjszLucl-QKb",
        "outputId": "2039e81e-209c-45c5-89ab-7d5bc146e8f8"
      },
      "outputs": [
        {
          "output_type": "execute_result",
          "data": {
            "text/plain": [
              "array([1, 0, 1, 1, 3, 5, 4, 4, 2, 4, 1, 3, 1, 0, 3, 3, 4, 3, 2, 2, 3, 4,\n",
              "       4, 5, 2, 2, 5, 3, 3, 4, 1, 2, 5, 2, 1, 1, 1, 1, 0, 1, 4, 3, 3, 2,\n",
              "       1, 1, 3, 4, 3, 2, 3, 1, 4, 3, 1, 4, 3, 4, 2, 3, 5, 0, 2, 4, 3, 1,\n",
              "       2, 1, 4, 2, 1, 1, 2, 2, 1, 2, 4, 1, 1, 3, 2, 2, 4, 1, 1, 4, 0, 1,\n",
              "       1, 4, 5, 2, 1, 1, 4, 1, 4, 4, 3, 3, 2, 5, 0, 3, 5, 4, 1, 2, 4, 5,\n",
              "       1, 4, 0, 0, 3, 2, 2, 3, 3, 0, 2, 2, 4, 2, 3, 4, 1, 2, 1, 2, 3, 3,\n",
              "       4, 5, 2, 1, 2, 4, 4, 5, 3, 4, 3, 1, 3, 1, 1, 2, 2, 4, 2, 3, 3, 0,\n",
              "       0, 4, 3, 3, 2, 5, 2, 5, 4, 3, 2, 1, 2, 2, 2, 3, 1, 3])"
            ]
          },
          "metadata": {},
          "execution_count": 204
        }
      ],
      "source": [
        "y_pred"
      ]
    },
    {
      "cell_type": "code",
      "execution_count": null,
      "metadata": {
        "colab": {
          "base_uri": "https://localhost:8080/"
        },
        "id": "nSXr-RNH-RiE",
        "outputId": "075e9102-1fe1-460e-baac-97119122da44"
      },
      "outputs": [
        {
          "output_type": "execute_result",
          "data": {
            "text/plain": [
              "array([1, 4, 1, 1, 3, 0, 0, 4, 2, 4, 1, 1, 1, 0, 3, 1, 4, 3, 3, 2, 3, 4,\n",
              "       4, 0, 2, 2, 5, 3, 3, 4, 1, 3, 5, 2, 1, 1, 1, 1, 4, 1, 4, 1, 3, 2,\n",
              "       1, 0, 2, 0, 3, 2, 3, 1, 0, 3, 1, 4, 3, 4, 2, 3, 5, 0, 1, 4, 3, 1,\n",
              "       2, 1, 4, 2, 1, 1, 2, 2, 1, 2, 4, 1, 1, 3, 2, 5, 0, 1, 1, 4, 0, 1,\n",
              "       1, 4, 3, 5, 1, 0, 4, 1, 4, 4, 3, 3, 3, 5, 1, 3, 5, 4, 5, 2, 4, 5,\n",
              "       1, 4, 0, 0, 3, 2, 2, 3, 3, 0, 2, 2, 0, 2, 3, 4, 1, 2, 1, 2, 3, 3,\n",
              "       4, 5, 2, 5, 2, 4, 4, 5, 3, 4, 3, 1, 3, 1, 1, 2, 2, 4, 2, 3, 0, 0,\n",
              "       5, 4, 3, 2, 2, 5, 2, 5, 4, 3, 2, 1, 2, 2, 2, 3, 1, 3])"
            ]
          },
          "metadata": {},
          "execution_count": 205
        }
      ],
      "source": [
        "np.array(y_test)"
      ]
    },
    {
      "cell_type": "code",
      "execution_count": null,
      "metadata": {
        "colab": {
          "base_uri": "https://localhost:8080/"
        },
        "id": "d0HYagJX-K7X",
        "outputId": "a634d6a8-bc78-45f1-8955-864cfdec86d6"
      },
      "outputs": [
        {
          "output_type": "execute_result",
          "data": {
            "text/plain": [
              "(172, 172)"
            ]
          },
          "metadata": {},
          "execution_count": 206
        }
      ],
      "source": [
        "len(y_test), len(y_pred)"
      ]
    },
    {
      "cell_type": "code",
      "execution_count": null,
      "metadata": {
        "colab": {
          "base_uri": "https://localhost:8080/",
          "height": 927
        },
        "id": "vb_LWE2q870f",
        "outputId": "6f85ce27-2ce6-43a4-b429-8ed5e0945aab"
      },
      "outputs": [
        {
          "output_type": "execute_result",
          "data": {
            "text/plain": [
              "      y_true   y_pred\n",
              "932       PR  Article\n",
              "713  Article     MISC\n",
              "680  Article       PR\n",
              "791     Blog  Webinar\n",
              "904     Blog  Webinar\n",
              "524  Webinar    Event\n",
              "207  Article     MISC\n",
              "538  Webinar    Event\n",
              "951       PR  Article\n",
              "842     Blog  Webinar\n",
              "105  Article     Blog\n",
              "338    Event  Webinar\n",
              "688  Article       PR\n",
              "921  Article       PR\n",
              "822     Blog    Event\n",
              "329     MISC    Event\n",
              "778  Article       PR\n",
              "429  Webinar     MISC\n",
              "626     MISC    Event\n",
              "102  Article     Blog\n",
              "228  Webinar    Event\n",
              "912     Blog  Article\n",
              "112     MISC     Blog\n",
              "768  Article       PR\n",
              "39      MISC     Blog\n",
              "206  Article  Webinar\n",
              "121     MISC  Article\n",
              "299    Event  Webinar"
            ],
            "text/html": [
              "\n",
              "  <div id=\"df-b3588090-fb3e-4448-b177-bb466a34a3a8\">\n",
              "    <div class=\"colab-df-container\">\n",
              "      <div>\n",
              "<style scoped>\n",
              "    .dataframe tbody tr th:only-of-type {\n",
              "        vertical-align: middle;\n",
              "    }\n",
              "\n",
              "    .dataframe tbody tr th {\n",
              "        vertical-align: top;\n",
              "    }\n",
              "\n",
              "    .dataframe thead th {\n",
              "        text-align: right;\n",
              "    }\n",
              "</style>\n",
              "<table border=\"1\" class=\"dataframe\">\n",
              "  <thead>\n",
              "    <tr style=\"text-align: right;\">\n",
              "      <th></th>\n",
              "      <th>y_true</th>\n",
              "      <th>y_pred</th>\n",
              "    </tr>\n",
              "  </thead>\n",
              "  <tbody>\n",
              "    <tr>\n",
              "      <th>932</th>\n",
              "      <td>PR</td>\n",
              "      <td>Article</td>\n",
              "    </tr>\n",
              "    <tr>\n",
              "      <th>713</th>\n",
              "      <td>Article</td>\n",
              "      <td>MISC</td>\n",
              "    </tr>\n",
              "    <tr>\n",
              "      <th>680</th>\n",
              "      <td>Article</td>\n",
              "      <td>PR</td>\n",
              "    </tr>\n",
              "    <tr>\n",
              "      <th>791</th>\n",
              "      <td>Blog</td>\n",
              "      <td>Webinar</td>\n",
              "    </tr>\n",
              "    <tr>\n",
              "      <th>904</th>\n",
              "      <td>Blog</td>\n",
              "      <td>Webinar</td>\n",
              "    </tr>\n",
              "    <tr>\n",
              "      <th>524</th>\n",
              "      <td>Webinar</td>\n",
              "      <td>Event</td>\n",
              "    </tr>\n",
              "    <tr>\n",
              "      <th>207</th>\n",
              "      <td>Article</td>\n",
              "      <td>MISC</td>\n",
              "    </tr>\n",
              "    <tr>\n",
              "      <th>538</th>\n",
              "      <td>Webinar</td>\n",
              "      <td>Event</td>\n",
              "    </tr>\n",
              "    <tr>\n",
              "      <th>951</th>\n",
              "      <td>PR</td>\n",
              "      <td>Article</td>\n",
              "    </tr>\n",
              "    <tr>\n",
              "      <th>842</th>\n",
              "      <td>Blog</td>\n",
              "      <td>Webinar</td>\n",
              "    </tr>\n",
              "    <tr>\n",
              "      <th>105</th>\n",
              "      <td>Article</td>\n",
              "      <td>Blog</td>\n",
              "    </tr>\n",
              "    <tr>\n",
              "      <th>338</th>\n",
              "      <td>Event</td>\n",
              "      <td>Webinar</td>\n",
              "    </tr>\n",
              "    <tr>\n",
              "      <th>688</th>\n",
              "      <td>Article</td>\n",
              "      <td>PR</td>\n",
              "    </tr>\n",
              "    <tr>\n",
              "      <th>921</th>\n",
              "      <td>Article</td>\n",
              "      <td>PR</td>\n",
              "    </tr>\n",
              "    <tr>\n",
              "      <th>822</th>\n",
              "      <td>Blog</td>\n",
              "      <td>Event</td>\n",
              "    </tr>\n",
              "    <tr>\n",
              "      <th>329</th>\n",
              "      <td>MISC</td>\n",
              "      <td>Event</td>\n",
              "    </tr>\n",
              "    <tr>\n",
              "      <th>778</th>\n",
              "      <td>Article</td>\n",
              "      <td>PR</td>\n",
              "    </tr>\n",
              "    <tr>\n",
              "      <th>429</th>\n",
              "      <td>Webinar</td>\n",
              "      <td>MISC</td>\n",
              "    </tr>\n",
              "    <tr>\n",
              "      <th>626</th>\n",
              "      <td>MISC</td>\n",
              "      <td>Event</td>\n",
              "    </tr>\n",
              "    <tr>\n",
              "      <th>102</th>\n",
              "      <td>Article</td>\n",
              "      <td>Blog</td>\n",
              "    </tr>\n",
              "    <tr>\n",
              "      <th>228</th>\n",
              "      <td>Webinar</td>\n",
              "      <td>Event</td>\n",
              "    </tr>\n",
              "    <tr>\n",
              "      <th>912</th>\n",
              "      <td>Blog</td>\n",
              "      <td>Article</td>\n",
              "    </tr>\n",
              "    <tr>\n",
              "      <th>112</th>\n",
              "      <td>MISC</td>\n",
              "      <td>Blog</td>\n",
              "    </tr>\n",
              "    <tr>\n",
              "      <th>768</th>\n",
              "      <td>Article</td>\n",
              "      <td>PR</td>\n",
              "    </tr>\n",
              "    <tr>\n",
              "      <th>39</th>\n",
              "      <td>MISC</td>\n",
              "      <td>Blog</td>\n",
              "    </tr>\n",
              "    <tr>\n",
              "      <th>206</th>\n",
              "      <td>Article</td>\n",
              "      <td>Webinar</td>\n",
              "    </tr>\n",
              "    <tr>\n",
              "      <th>121</th>\n",
              "      <td>MISC</td>\n",
              "      <td>Article</td>\n",
              "    </tr>\n",
              "    <tr>\n",
              "      <th>299</th>\n",
              "      <td>Event</td>\n",
              "      <td>Webinar</td>\n",
              "    </tr>\n",
              "  </tbody>\n",
              "</table>\n",
              "</div>\n",
              "      <button class=\"colab-df-convert\" onclick=\"convertToInteractive('df-b3588090-fb3e-4448-b177-bb466a34a3a8')\"\n",
              "              title=\"Convert this dataframe to an interactive table.\"\n",
              "              style=\"display:none;\">\n",
              "        \n",
              "  <svg xmlns=\"http://www.w3.org/2000/svg\" height=\"24px\"viewBox=\"0 0 24 24\"\n",
              "       width=\"24px\">\n",
              "    <path d=\"M0 0h24v24H0V0z\" fill=\"none\"/>\n",
              "    <path d=\"M18.56 5.44l.94 2.06.94-2.06 2.06-.94-2.06-.94-.94-2.06-.94 2.06-2.06.94zm-11 1L8.5 8.5l.94-2.06 2.06-.94-2.06-.94L8.5 2.5l-.94 2.06-2.06.94zm10 10l.94 2.06.94-2.06 2.06-.94-2.06-.94-.94-2.06-.94 2.06-2.06.94z\"/><path d=\"M17.41 7.96l-1.37-1.37c-.4-.4-.92-.59-1.43-.59-.52 0-1.04.2-1.43.59L10.3 9.45l-7.72 7.72c-.78.78-.78 2.05 0 2.83L4 21.41c.39.39.9.59 1.41.59.51 0 1.02-.2 1.41-.59l7.78-7.78 2.81-2.81c.8-.78.8-2.07 0-2.86zM5.41 20L4 18.59l7.72-7.72 1.47 1.35L5.41 20z\"/>\n",
              "  </svg>\n",
              "      </button>\n",
              "      \n",
              "  <style>\n",
              "    .colab-df-container {\n",
              "      display:flex;\n",
              "      flex-wrap:wrap;\n",
              "      gap: 12px;\n",
              "    }\n",
              "\n",
              "    .colab-df-convert {\n",
              "      background-color: #E8F0FE;\n",
              "      border: none;\n",
              "      border-radius: 50%;\n",
              "      cursor: pointer;\n",
              "      display: none;\n",
              "      fill: #1967D2;\n",
              "      height: 32px;\n",
              "      padding: 0 0 0 0;\n",
              "      width: 32px;\n",
              "    }\n",
              "\n",
              "    .colab-df-convert:hover {\n",
              "      background-color: #E2EBFA;\n",
              "      box-shadow: 0px 1px 2px rgba(60, 64, 67, 0.3), 0px 1px 3px 1px rgba(60, 64, 67, 0.15);\n",
              "      fill: #174EA6;\n",
              "    }\n",
              "\n",
              "    [theme=dark] .colab-df-convert {\n",
              "      background-color: #3B4455;\n",
              "      fill: #D2E3FC;\n",
              "    }\n",
              "\n",
              "    [theme=dark] .colab-df-convert:hover {\n",
              "      background-color: #434B5C;\n",
              "      box-shadow: 0px 1px 3px 1px rgba(0, 0, 0, 0.15);\n",
              "      filter: drop-shadow(0px 1px 2px rgba(0, 0, 0, 0.3));\n",
              "      fill: #FFFFFF;\n",
              "    }\n",
              "  </style>\n",
              "\n",
              "      <script>\n",
              "        const buttonEl =\n",
              "          document.querySelector('#df-b3588090-fb3e-4448-b177-bb466a34a3a8 button.colab-df-convert');\n",
              "        buttonEl.style.display =\n",
              "          google.colab.kernel.accessAllowed ? 'block' : 'none';\n",
              "\n",
              "        async function convertToInteractive(key) {\n",
              "          const element = document.querySelector('#df-b3588090-fb3e-4448-b177-bb466a34a3a8');\n",
              "          const dataTable =\n",
              "            await google.colab.kernel.invokeFunction('convertToInteractive',\n",
              "                                                     [key], {});\n",
              "          if (!dataTable) return;\n",
              "\n",
              "          const docLinkHtml = 'Like what you see? Visit the ' +\n",
              "            '<a target=\"_blank\" href=https://colab.research.google.com/notebooks/data_table.ipynb>data table notebook</a>'\n",
              "            + ' to learn more about interactive tables.';\n",
              "          element.innerHTML = '';\n",
              "          dataTable['output_type'] = 'display_data';\n",
              "          await google.colab.output.renderOutput(dataTable, element);\n",
              "          const docLink = document.createElement('div');\n",
              "          docLink.innerHTML = docLinkHtml;\n",
              "          element.appendChild(docLink);\n",
              "        }\n",
              "      </script>\n",
              "    </div>\n",
              "  </div>\n",
              "  "
            ]
          },
          "metadata": {},
          "execution_count": 207
        }
      ],
      "source": [
        "misclassified_df_nn = pd.DataFrame(\n",
        "    {'y_true': y_test[mask].reset_index(drop=True).replace(labels_decoded),\n",
        "     'y_pred': pd.Series(y_pred[mask]).replace(labels_decoded),\n",
        "     }).set_index(y_test[mask].index)\n",
        "misclassified_df_nn"
      ]
    },
    {
      "cell_type": "code",
      "execution_count": null,
      "metadata": {
        "id": "OHamJOVg-8H0"
      },
      "outputs": [],
      "source": [
        "# I can merge with url/text using the index of y_test, do it later."
      ]
    },
    {
      "cell_type": "code",
      "execution_count": null,
      "metadata": {
        "colab": {
          "base_uri": "https://localhost:8080/",
          "height": 206
        },
        "id": "ZdmMWghJ_-5z",
        "outputId": "6f215a3b-1a78-455f-b0f6-077a7a79a3c5"
      },
      "outputs": [
        {
          "output_type": "execute_result",
          "data": {
            "text/plain": [
              "     y_true  y_pred\n",
              "932       4       0\n",
              "713       0       5\n",
              "680       0       4\n",
              "791       1       3\n",
              "904       1       3"
            ],
            "text/html": [
              "\n",
              "  <div id=\"df-2097c96d-54f9-47e4-9adf-4f21111d7ae1\">\n",
              "    <div class=\"colab-df-container\">\n",
              "      <div>\n",
              "<style scoped>\n",
              "    .dataframe tbody tr th:only-of-type {\n",
              "        vertical-align: middle;\n",
              "    }\n",
              "\n",
              "    .dataframe tbody tr th {\n",
              "        vertical-align: top;\n",
              "    }\n",
              "\n",
              "    .dataframe thead th {\n",
              "        text-align: right;\n",
              "    }\n",
              "</style>\n",
              "<table border=\"1\" class=\"dataframe\">\n",
              "  <thead>\n",
              "    <tr style=\"text-align: right;\">\n",
              "      <th></th>\n",
              "      <th>y_true</th>\n",
              "      <th>y_pred</th>\n",
              "    </tr>\n",
              "  </thead>\n",
              "  <tbody>\n",
              "    <tr>\n",
              "      <th>932</th>\n",
              "      <td>4</td>\n",
              "      <td>0</td>\n",
              "    </tr>\n",
              "    <tr>\n",
              "      <th>713</th>\n",
              "      <td>0</td>\n",
              "      <td>5</td>\n",
              "    </tr>\n",
              "    <tr>\n",
              "      <th>680</th>\n",
              "      <td>0</td>\n",
              "      <td>4</td>\n",
              "    </tr>\n",
              "    <tr>\n",
              "      <th>791</th>\n",
              "      <td>1</td>\n",
              "      <td>3</td>\n",
              "    </tr>\n",
              "    <tr>\n",
              "      <th>904</th>\n",
              "      <td>1</td>\n",
              "      <td>3</td>\n",
              "    </tr>\n",
              "  </tbody>\n",
              "</table>\n",
              "</div>\n",
              "      <button class=\"colab-df-convert\" onclick=\"convertToInteractive('df-2097c96d-54f9-47e4-9adf-4f21111d7ae1')\"\n",
              "              title=\"Convert this dataframe to an interactive table.\"\n",
              "              style=\"display:none;\">\n",
              "        \n",
              "  <svg xmlns=\"http://www.w3.org/2000/svg\" height=\"24px\"viewBox=\"0 0 24 24\"\n",
              "       width=\"24px\">\n",
              "    <path d=\"M0 0h24v24H0V0z\" fill=\"none\"/>\n",
              "    <path d=\"M18.56 5.44l.94 2.06.94-2.06 2.06-.94-2.06-.94-.94-2.06-.94 2.06-2.06.94zm-11 1L8.5 8.5l.94-2.06 2.06-.94-2.06-.94L8.5 2.5l-.94 2.06-2.06.94zm10 10l.94 2.06.94-2.06 2.06-.94-2.06-.94-.94-2.06-.94 2.06-2.06.94z\"/><path d=\"M17.41 7.96l-1.37-1.37c-.4-.4-.92-.59-1.43-.59-.52 0-1.04.2-1.43.59L10.3 9.45l-7.72 7.72c-.78.78-.78 2.05 0 2.83L4 21.41c.39.39.9.59 1.41.59.51 0 1.02-.2 1.41-.59l7.78-7.78 2.81-2.81c.8-.78.8-2.07 0-2.86zM5.41 20L4 18.59l7.72-7.72 1.47 1.35L5.41 20z\"/>\n",
              "  </svg>\n",
              "      </button>\n",
              "      \n",
              "  <style>\n",
              "    .colab-df-container {\n",
              "      display:flex;\n",
              "      flex-wrap:wrap;\n",
              "      gap: 12px;\n",
              "    }\n",
              "\n",
              "    .colab-df-convert {\n",
              "      background-color: #E8F0FE;\n",
              "      border: none;\n",
              "      border-radius: 50%;\n",
              "      cursor: pointer;\n",
              "      display: none;\n",
              "      fill: #1967D2;\n",
              "      height: 32px;\n",
              "      padding: 0 0 0 0;\n",
              "      width: 32px;\n",
              "    }\n",
              "\n",
              "    .colab-df-convert:hover {\n",
              "      background-color: #E2EBFA;\n",
              "      box-shadow: 0px 1px 2px rgba(60, 64, 67, 0.3), 0px 1px 3px 1px rgba(60, 64, 67, 0.15);\n",
              "      fill: #174EA6;\n",
              "    }\n",
              "\n",
              "    [theme=dark] .colab-df-convert {\n",
              "      background-color: #3B4455;\n",
              "      fill: #D2E3FC;\n",
              "    }\n",
              "\n",
              "    [theme=dark] .colab-df-convert:hover {\n",
              "      background-color: #434B5C;\n",
              "      box-shadow: 0px 1px 3px 1px rgba(0, 0, 0, 0.15);\n",
              "      filter: drop-shadow(0px 1px 2px rgba(0, 0, 0, 0.3));\n",
              "      fill: #FFFFFF;\n",
              "    }\n",
              "  </style>\n",
              "\n",
              "      <script>\n",
              "        const buttonEl =\n",
              "          document.querySelector('#df-2097c96d-54f9-47e4-9adf-4f21111d7ae1 button.colab-df-convert');\n",
              "        buttonEl.style.display =\n",
              "          google.colab.kernel.accessAllowed ? 'block' : 'none';\n",
              "\n",
              "        async function convertToInteractive(key) {\n",
              "          const element = document.querySelector('#df-2097c96d-54f9-47e4-9adf-4f21111d7ae1');\n",
              "          const dataTable =\n",
              "            await google.colab.kernel.invokeFunction('convertToInteractive',\n",
              "                                                     [key], {});\n",
              "          if (!dataTable) return;\n",
              "\n",
              "          const docLinkHtml = 'Like what you see? Visit the ' +\n",
              "            '<a target=\"_blank\" href=https://colab.research.google.com/notebooks/data_table.ipynb>data table notebook</a>'\n",
              "            + ' to learn more about interactive tables.';\n",
              "          element.innerHTML = '';\n",
              "          dataTable['output_type'] = 'display_data';\n",
              "          await google.colab.output.renderOutput(dataTable, element);\n",
              "          const docLink = document.createElement('div');\n",
              "          docLink.innerHTML = docLinkHtml;\n",
              "          element.appendChild(docLink);\n",
              "        }\n",
              "      </script>\n",
              "    </div>\n",
              "  </div>\n",
              "  "
            ]
          },
          "metadata": {},
          "execution_count": 209
        }
      ],
      "source": [
        "df_confidences_nn = misclassified_df_nn[['y_true', 'y_pred']].applymap(lambda x: labels_encoded[x])\n",
        "df_confidences_nn.head()"
      ]
    },
    {
      "cell_type": "code",
      "execution_count": null,
      "metadata": {
        "id": "UjVzjHREER5Z"
      },
      "outputs": [],
      "source": [
        "y_probs_array = np.array(y_probs)"
      ]
    },
    {
      "cell_type": "code",
      "execution_count": null,
      "metadata": {
        "colab": {
          "base_uri": "https://localhost:8080/"
        },
        "id": "CKVqZ_VN_AMn",
        "outputId": "19500027-f5ea-471e-da88-297b9534c393"
      },
      "outputs": [
        {
          "output_type": "execute_result",
          "data": {
            "text/plain": [
              "array([0.7317688 , 0.6880048 , 0.87609005, 0.8604847 , 0.9083877 ,\n",
              "       0.6410547 , 0.81165284, 0.9317813 , 0.47587645, 0.9376277 ,\n",
              "       0.61182654, 0.84027946, 0.8377481 , 0.8389856 , 0.851417  ,\n",
              "       0.9430426 , 0.9203028 , 0.54665744, 0.9204443 , 0.8084895 ,\n",
              "       0.9474942 , 0.32922313, 0.8855198 , 0.694019  , 0.7159665 ,\n",
              "       0.85666305, 0.73370403, 0.9439738 ], dtype=float32)"
            ]
          },
          "metadata": {},
          "execution_count": 211
        }
      ],
      "source": [
        "confidence_pred_nn = y_probs_array[mask, df_confidences_nn['y_pred']]\n",
        "confidence_pred_nn"
      ]
    },
    {
      "cell_type": "code",
      "execution_count": null,
      "metadata": {
        "colab": {
          "base_uri": "https://localhost:8080/"
        },
        "id": "UHuYKAZxDGum",
        "outputId": "76720734-8291-4a41-db22-954370585915"
      },
      "outputs": [
        {
          "output_type": "execute_result",
          "data": {
            "text/plain": [
              "array([0.12416278, 0.06829616, 0.0711691 , 0.02685313, 0.02636965,\n",
              "       0.26135868, 0.0567484 , 0.02559043, 0.4171192 , 0.01154234,\n",
              "       0.32100692, 0.04748523, 0.11640108, 0.10977008, 0.0378789 ,\n",
              "       0.01535015, 0.04170987, 0.31138265, 0.02573165, 0.14057119,\n",
              "       0.0131673 , 0.25806272, 0.01883534, 0.22927858, 0.06642533,\n",
              "       0.00938151, 0.05739936, 0.0123579 ], dtype=float32)"
            ]
          },
          "metadata": {},
          "execution_count": 212
        }
      ],
      "source": [
        "confidence_true_nn = y_probs_array[mask, df_confidences_nn['y_true']]\n",
        "confidence_true_nn"
      ]
    },
    {
      "cell_type": "code",
      "execution_count": null,
      "metadata": {
        "colab": {
          "base_uri": "https://localhost:8080/",
          "height": 206
        },
        "id": "wxFQAlV2DOXn",
        "outputId": "0693934e-c807-4ad9-c889-98d84575d5ed"
      },
      "outputs": [
        {
          "output_type": "execute_result",
          "data": {
            "text/plain": [
              "      y_true   y_pred  conf_true  conf_pred\n",
              "932       PR  Article       0.12       0.73\n",
              "713  Article     MISC       0.07       0.69\n",
              "680  Article       PR       0.07       0.88\n",
              "791     Blog  Webinar       0.03       0.86\n",
              "904     Blog  Webinar       0.03       0.91"
            ],
            "text/html": [
              "\n",
              "  <div id=\"df-af549924-19fa-40ba-bec0-b4abd17db230\">\n",
              "    <div class=\"colab-df-container\">\n",
              "      <div>\n",
              "<style scoped>\n",
              "    .dataframe tbody tr th:only-of-type {\n",
              "        vertical-align: middle;\n",
              "    }\n",
              "\n",
              "    .dataframe tbody tr th {\n",
              "        vertical-align: top;\n",
              "    }\n",
              "\n",
              "    .dataframe thead th {\n",
              "        text-align: right;\n",
              "    }\n",
              "</style>\n",
              "<table border=\"1\" class=\"dataframe\">\n",
              "  <thead>\n",
              "    <tr style=\"text-align: right;\">\n",
              "      <th></th>\n",
              "      <th>y_true</th>\n",
              "      <th>y_pred</th>\n",
              "      <th>conf_true</th>\n",
              "      <th>conf_pred</th>\n",
              "    </tr>\n",
              "  </thead>\n",
              "  <tbody>\n",
              "    <tr>\n",
              "      <th>932</th>\n",
              "      <td>PR</td>\n",
              "      <td>Article</td>\n",
              "      <td>0.12</td>\n",
              "      <td>0.73</td>\n",
              "    </tr>\n",
              "    <tr>\n",
              "      <th>713</th>\n",
              "      <td>Article</td>\n",
              "      <td>MISC</td>\n",
              "      <td>0.07</td>\n",
              "      <td>0.69</td>\n",
              "    </tr>\n",
              "    <tr>\n",
              "      <th>680</th>\n",
              "      <td>Article</td>\n",
              "      <td>PR</td>\n",
              "      <td>0.07</td>\n",
              "      <td>0.88</td>\n",
              "    </tr>\n",
              "    <tr>\n",
              "      <th>791</th>\n",
              "      <td>Blog</td>\n",
              "      <td>Webinar</td>\n",
              "      <td>0.03</td>\n",
              "      <td>0.86</td>\n",
              "    </tr>\n",
              "    <tr>\n",
              "      <th>904</th>\n",
              "      <td>Blog</td>\n",
              "      <td>Webinar</td>\n",
              "      <td>0.03</td>\n",
              "      <td>0.91</td>\n",
              "    </tr>\n",
              "  </tbody>\n",
              "</table>\n",
              "</div>\n",
              "      <button class=\"colab-df-convert\" onclick=\"convertToInteractive('df-af549924-19fa-40ba-bec0-b4abd17db230')\"\n",
              "              title=\"Convert this dataframe to an interactive table.\"\n",
              "              style=\"display:none;\">\n",
              "        \n",
              "  <svg xmlns=\"http://www.w3.org/2000/svg\" height=\"24px\"viewBox=\"0 0 24 24\"\n",
              "       width=\"24px\">\n",
              "    <path d=\"M0 0h24v24H0V0z\" fill=\"none\"/>\n",
              "    <path d=\"M18.56 5.44l.94 2.06.94-2.06 2.06-.94-2.06-.94-.94-2.06-.94 2.06-2.06.94zm-11 1L8.5 8.5l.94-2.06 2.06-.94-2.06-.94L8.5 2.5l-.94 2.06-2.06.94zm10 10l.94 2.06.94-2.06 2.06-.94-2.06-.94-.94-2.06-.94 2.06-2.06.94z\"/><path d=\"M17.41 7.96l-1.37-1.37c-.4-.4-.92-.59-1.43-.59-.52 0-1.04.2-1.43.59L10.3 9.45l-7.72 7.72c-.78.78-.78 2.05 0 2.83L4 21.41c.39.39.9.59 1.41.59.51 0 1.02-.2 1.41-.59l7.78-7.78 2.81-2.81c.8-.78.8-2.07 0-2.86zM5.41 20L4 18.59l7.72-7.72 1.47 1.35L5.41 20z\"/>\n",
              "  </svg>\n",
              "      </button>\n",
              "      \n",
              "  <style>\n",
              "    .colab-df-container {\n",
              "      display:flex;\n",
              "      flex-wrap:wrap;\n",
              "      gap: 12px;\n",
              "    }\n",
              "\n",
              "    .colab-df-convert {\n",
              "      background-color: #E8F0FE;\n",
              "      border: none;\n",
              "      border-radius: 50%;\n",
              "      cursor: pointer;\n",
              "      display: none;\n",
              "      fill: #1967D2;\n",
              "      height: 32px;\n",
              "      padding: 0 0 0 0;\n",
              "      width: 32px;\n",
              "    }\n",
              "\n",
              "    .colab-df-convert:hover {\n",
              "      background-color: #E2EBFA;\n",
              "      box-shadow: 0px 1px 2px rgba(60, 64, 67, 0.3), 0px 1px 3px 1px rgba(60, 64, 67, 0.15);\n",
              "      fill: #174EA6;\n",
              "    }\n",
              "\n",
              "    [theme=dark] .colab-df-convert {\n",
              "      background-color: #3B4455;\n",
              "      fill: #D2E3FC;\n",
              "    }\n",
              "\n",
              "    [theme=dark] .colab-df-convert:hover {\n",
              "      background-color: #434B5C;\n",
              "      box-shadow: 0px 1px 3px 1px rgba(0, 0, 0, 0.15);\n",
              "      filter: drop-shadow(0px 1px 2px rgba(0, 0, 0, 0.3));\n",
              "      fill: #FFFFFF;\n",
              "    }\n",
              "  </style>\n",
              "\n",
              "      <script>\n",
              "        const buttonEl =\n",
              "          document.querySelector('#df-af549924-19fa-40ba-bec0-b4abd17db230 button.colab-df-convert');\n",
              "        buttonEl.style.display =\n",
              "          google.colab.kernel.accessAllowed ? 'block' : 'none';\n",
              "\n",
              "        async function convertToInteractive(key) {\n",
              "          const element = document.querySelector('#df-af549924-19fa-40ba-bec0-b4abd17db230');\n",
              "          const dataTable =\n",
              "            await google.colab.kernel.invokeFunction('convertToInteractive',\n",
              "                                                     [key], {});\n",
              "          if (!dataTable) return;\n",
              "\n",
              "          const docLinkHtml = 'Like what you see? Visit the ' +\n",
              "            '<a target=\"_blank\" href=https://colab.research.google.com/notebooks/data_table.ipynb>data table notebook</a>'\n",
              "            + ' to learn more about interactive tables.';\n",
              "          element.innerHTML = '';\n",
              "          dataTable['output_type'] = 'display_data';\n",
              "          await google.colab.output.renderOutput(dataTable, element);\n",
              "          const docLink = document.createElement('div');\n",
              "          docLink.innerHTML = docLinkHtml;\n",
              "          element.appendChild(docLink);\n",
              "        }\n",
              "      </script>\n",
              "    </div>\n",
              "  </div>\n",
              "  "
            ]
          },
          "metadata": {},
          "execution_count": 213
        }
      ],
      "source": [
        "misclassified_df_nn['conf_true'] = confidence_true_nn.round(2)\n",
        "misclassified_df_nn['conf_pred'] = confidence_pred_nn.round(2)\n",
        "misclassified_df_nn.head()"
      ]
    },
    {
      "cell_type": "code",
      "execution_count": null,
      "metadata": {
        "colab": {
          "base_uri": "https://localhost:8080/",
          "height": 927
        },
        "id": "BEpZddraDOaB",
        "outputId": "0619a579-02b1-4028-8b9e-4af72f046ea3"
      },
      "outputs": [
        {
          "output_type": "execute_result",
          "data": {
            "text/plain": [
              "      y_true  conf_true   y_pred  conf_pred\n",
              "932       PR       0.12  Article       0.73\n",
              "713  Article       0.07     MISC       0.69\n",
              "680  Article       0.07       PR       0.88\n",
              "791     Blog       0.03  Webinar       0.86\n",
              "904     Blog       0.03  Webinar       0.91\n",
              "524  Webinar       0.26    Event       0.64\n",
              "207  Article       0.06     MISC       0.81\n",
              "538  Webinar       0.03    Event       0.93\n",
              "951       PR       0.42  Article       0.48\n",
              "842     Blog       0.01  Webinar       0.94\n",
              "105  Article       0.32     Blog       0.61\n",
              "338    Event       0.05  Webinar       0.84\n",
              "688  Article       0.12       PR       0.84\n",
              "921  Article       0.11       PR       0.84\n",
              "822     Blog       0.04    Event       0.85\n",
              "329     MISC       0.02    Event       0.94\n",
              "778  Article       0.04       PR       0.92\n",
              "429  Webinar       0.31     MISC       0.55\n",
              "626     MISC       0.03    Event       0.92\n",
              "102  Article       0.14     Blog       0.81\n",
              "228  Webinar       0.01    Event       0.95\n",
              "912     Blog       0.26  Article       0.33\n",
              "112     MISC       0.02     Blog       0.89\n",
              "768  Article       0.23       PR       0.69\n",
              "39      MISC       0.07     Blog       0.72\n",
              "206  Article       0.01  Webinar       0.86\n",
              "121     MISC       0.06  Article       0.73\n",
              "299    Event       0.01  Webinar       0.94"
            ],
            "text/html": [
              "\n",
              "  <div id=\"df-c55a227b-3d6d-4fdd-8ad3-feab77bf0692\">\n",
              "    <div class=\"colab-df-container\">\n",
              "      <div>\n",
              "<style scoped>\n",
              "    .dataframe tbody tr th:only-of-type {\n",
              "        vertical-align: middle;\n",
              "    }\n",
              "\n",
              "    .dataframe tbody tr th {\n",
              "        vertical-align: top;\n",
              "    }\n",
              "\n",
              "    .dataframe thead th {\n",
              "        text-align: right;\n",
              "    }\n",
              "</style>\n",
              "<table border=\"1\" class=\"dataframe\">\n",
              "  <thead>\n",
              "    <tr style=\"text-align: right;\">\n",
              "      <th></th>\n",
              "      <th>y_true</th>\n",
              "      <th>conf_true</th>\n",
              "      <th>y_pred</th>\n",
              "      <th>conf_pred</th>\n",
              "    </tr>\n",
              "  </thead>\n",
              "  <tbody>\n",
              "    <tr>\n",
              "      <th>932</th>\n",
              "      <td>PR</td>\n",
              "      <td>0.12</td>\n",
              "      <td>Article</td>\n",
              "      <td>0.73</td>\n",
              "    </tr>\n",
              "    <tr>\n",
              "      <th>713</th>\n",
              "      <td>Article</td>\n",
              "      <td>0.07</td>\n",
              "      <td>MISC</td>\n",
              "      <td>0.69</td>\n",
              "    </tr>\n",
              "    <tr>\n",
              "      <th>680</th>\n",
              "      <td>Article</td>\n",
              "      <td>0.07</td>\n",
              "      <td>PR</td>\n",
              "      <td>0.88</td>\n",
              "    </tr>\n",
              "    <tr>\n",
              "      <th>791</th>\n",
              "      <td>Blog</td>\n",
              "      <td>0.03</td>\n",
              "      <td>Webinar</td>\n",
              "      <td>0.86</td>\n",
              "    </tr>\n",
              "    <tr>\n",
              "      <th>904</th>\n",
              "      <td>Blog</td>\n",
              "      <td>0.03</td>\n",
              "      <td>Webinar</td>\n",
              "      <td>0.91</td>\n",
              "    </tr>\n",
              "    <tr>\n",
              "      <th>524</th>\n",
              "      <td>Webinar</td>\n",
              "      <td>0.26</td>\n",
              "      <td>Event</td>\n",
              "      <td>0.64</td>\n",
              "    </tr>\n",
              "    <tr>\n",
              "      <th>207</th>\n",
              "      <td>Article</td>\n",
              "      <td>0.06</td>\n",
              "      <td>MISC</td>\n",
              "      <td>0.81</td>\n",
              "    </tr>\n",
              "    <tr>\n",
              "      <th>538</th>\n",
              "      <td>Webinar</td>\n",
              "      <td>0.03</td>\n",
              "      <td>Event</td>\n",
              "      <td>0.93</td>\n",
              "    </tr>\n",
              "    <tr>\n",
              "      <th>951</th>\n",
              "      <td>PR</td>\n",
              "      <td>0.42</td>\n",
              "      <td>Article</td>\n",
              "      <td>0.48</td>\n",
              "    </tr>\n",
              "    <tr>\n",
              "      <th>842</th>\n",
              "      <td>Blog</td>\n",
              "      <td>0.01</td>\n",
              "      <td>Webinar</td>\n",
              "      <td>0.94</td>\n",
              "    </tr>\n",
              "    <tr>\n",
              "      <th>105</th>\n",
              "      <td>Article</td>\n",
              "      <td>0.32</td>\n",
              "      <td>Blog</td>\n",
              "      <td>0.61</td>\n",
              "    </tr>\n",
              "    <tr>\n",
              "      <th>338</th>\n",
              "      <td>Event</td>\n",
              "      <td>0.05</td>\n",
              "      <td>Webinar</td>\n",
              "      <td>0.84</td>\n",
              "    </tr>\n",
              "    <tr>\n",
              "      <th>688</th>\n",
              "      <td>Article</td>\n",
              "      <td>0.12</td>\n",
              "      <td>PR</td>\n",
              "      <td>0.84</td>\n",
              "    </tr>\n",
              "    <tr>\n",
              "      <th>921</th>\n",
              "      <td>Article</td>\n",
              "      <td>0.11</td>\n",
              "      <td>PR</td>\n",
              "      <td>0.84</td>\n",
              "    </tr>\n",
              "    <tr>\n",
              "      <th>822</th>\n",
              "      <td>Blog</td>\n",
              "      <td>0.04</td>\n",
              "      <td>Event</td>\n",
              "      <td>0.85</td>\n",
              "    </tr>\n",
              "    <tr>\n",
              "      <th>329</th>\n",
              "      <td>MISC</td>\n",
              "      <td>0.02</td>\n",
              "      <td>Event</td>\n",
              "      <td>0.94</td>\n",
              "    </tr>\n",
              "    <tr>\n",
              "      <th>778</th>\n",
              "      <td>Article</td>\n",
              "      <td>0.04</td>\n",
              "      <td>PR</td>\n",
              "      <td>0.92</td>\n",
              "    </tr>\n",
              "    <tr>\n",
              "      <th>429</th>\n",
              "      <td>Webinar</td>\n",
              "      <td>0.31</td>\n",
              "      <td>MISC</td>\n",
              "      <td>0.55</td>\n",
              "    </tr>\n",
              "    <tr>\n",
              "      <th>626</th>\n",
              "      <td>MISC</td>\n",
              "      <td>0.03</td>\n",
              "      <td>Event</td>\n",
              "      <td>0.92</td>\n",
              "    </tr>\n",
              "    <tr>\n",
              "      <th>102</th>\n",
              "      <td>Article</td>\n",
              "      <td>0.14</td>\n",
              "      <td>Blog</td>\n",
              "      <td>0.81</td>\n",
              "    </tr>\n",
              "    <tr>\n",
              "      <th>228</th>\n",
              "      <td>Webinar</td>\n",
              "      <td>0.01</td>\n",
              "      <td>Event</td>\n",
              "      <td>0.95</td>\n",
              "    </tr>\n",
              "    <tr>\n",
              "      <th>912</th>\n",
              "      <td>Blog</td>\n",
              "      <td>0.26</td>\n",
              "      <td>Article</td>\n",
              "      <td>0.33</td>\n",
              "    </tr>\n",
              "    <tr>\n",
              "      <th>112</th>\n",
              "      <td>MISC</td>\n",
              "      <td>0.02</td>\n",
              "      <td>Blog</td>\n",
              "      <td>0.89</td>\n",
              "    </tr>\n",
              "    <tr>\n",
              "      <th>768</th>\n",
              "      <td>Article</td>\n",
              "      <td>0.23</td>\n",
              "      <td>PR</td>\n",
              "      <td>0.69</td>\n",
              "    </tr>\n",
              "    <tr>\n",
              "      <th>39</th>\n",
              "      <td>MISC</td>\n",
              "      <td>0.07</td>\n",
              "      <td>Blog</td>\n",
              "      <td>0.72</td>\n",
              "    </tr>\n",
              "    <tr>\n",
              "      <th>206</th>\n",
              "      <td>Article</td>\n",
              "      <td>0.01</td>\n",
              "      <td>Webinar</td>\n",
              "      <td>0.86</td>\n",
              "    </tr>\n",
              "    <tr>\n",
              "      <th>121</th>\n",
              "      <td>MISC</td>\n",
              "      <td>0.06</td>\n",
              "      <td>Article</td>\n",
              "      <td>0.73</td>\n",
              "    </tr>\n",
              "    <tr>\n",
              "      <th>299</th>\n",
              "      <td>Event</td>\n",
              "      <td>0.01</td>\n",
              "      <td>Webinar</td>\n",
              "      <td>0.94</td>\n",
              "    </tr>\n",
              "  </tbody>\n",
              "</table>\n",
              "</div>\n",
              "      <button class=\"colab-df-convert\" onclick=\"convertToInteractive('df-c55a227b-3d6d-4fdd-8ad3-feab77bf0692')\"\n",
              "              title=\"Convert this dataframe to an interactive table.\"\n",
              "              style=\"display:none;\">\n",
              "        \n",
              "  <svg xmlns=\"http://www.w3.org/2000/svg\" height=\"24px\"viewBox=\"0 0 24 24\"\n",
              "       width=\"24px\">\n",
              "    <path d=\"M0 0h24v24H0V0z\" fill=\"none\"/>\n",
              "    <path d=\"M18.56 5.44l.94 2.06.94-2.06 2.06-.94-2.06-.94-.94-2.06-.94 2.06-2.06.94zm-11 1L8.5 8.5l.94-2.06 2.06-.94-2.06-.94L8.5 2.5l-.94 2.06-2.06.94zm10 10l.94 2.06.94-2.06 2.06-.94-2.06-.94-.94-2.06-.94 2.06-2.06.94z\"/><path d=\"M17.41 7.96l-1.37-1.37c-.4-.4-.92-.59-1.43-.59-.52 0-1.04.2-1.43.59L10.3 9.45l-7.72 7.72c-.78.78-.78 2.05 0 2.83L4 21.41c.39.39.9.59 1.41.59.51 0 1.02-.2 1.41-.59l7.78-7.78 2.81-2.81c.8-.78.8-2.07 0-2.86zM5.41 20L4 18.59l7.72-7.72 1.47 1.35L5.41 20z\"/>\n",
              "  </svg>\n",
              "      </button>\n",
              "      \n",
              "  <style>\n",
              "    .colab-df-container {\n",
              "      display:flex;\n",
              "      flex-wrap:wrap;\n",
              "      gap: 12px;\n",
              "    }\n",
              "\n",
              "    .colab-df-convert {\n",
              "      background-color: #E8F0FE;\n",
              "      border: none;\n",
              "      border-radius: 50%;\n",
              "      cursor: pointer;\n",
              "      display: none;\n",
              "      fill: #1967D2;\n",
              "      height: 32px;\n",
              "      padding: 0 0 0 0;\n",
              "      width: 32px;\n",
              "    }\n",
              "\n",
              "    .colab-df-convert:hover {\n",
              "      background-color: #E2EBFA;\n",
              "      box-shadow: 0px 1px 2px rgba(60, 64, 67, 0.3), 0px 1px 3px 1px rgba(60, 64, 67, 0.15);\n",
              "      fill: #174EA6;\n",
              "    }\n",
              "\n",
              "    [theme=dark] .colab-df-convert {\n",
              "      background-color: #3B4455;\n",
              "      fill: #D2E3FC;\n",
              "    }\n",
              "\n",
              "    [theme=dark] .colab-df-convert:hover {\n",
              "      background-color: #434B5C;\n",
              "      box-shadow: 0px 1px 3px 1px rgba(0, 0, 0, 0.15);\n",
              "      filter: drop-shadow(0px 1px 2px rgba(0, 0, 0, 0.3));\n",
              "      fill: #FFFFFF;\n",
              "    }\n",
              "  </style>\n",
              "\n",
              "      <script>\n",
              "        const buttonEl =\n",
              "          document.querySelector('#df-c55a227b-3d6d-4fdd-8ad3-feab77bf0692 button.colab-df-convert');\n",
              "        buttonEl.style.display =\n",
              "          google.colab.kernel.accessAllowed ? 'block' : 'none';\n",
              "\n",
              "        async function convertToInteractive(key) {\n",
              "          const element = document.querySelector('#df-c55a227b-3d6d-4fdd-8ad3-feab77bf0692');\n",
              "          const dataTable =\n",
              "            await google.colab.kernel.invokeFunction('convertToInteractive',\n",
              "                                                     [key], {});\n",
              "          if (!dataTable) return;\n",
              "\n",
              "          const docLinkHtml = 'Like what you see? Visit the ' +\n",
              "            '<a target=\"_blank\" href=https://colab.research.google.com/notebooks/data_table.ipynb>data table notebook</a>'\n",
              "            + ' to learn more about interactive tables.';\n",
              "          element.innerHTML = '';\n",
              "          dataTable['output_type'] = 'display_data';\n",
              "          await google.colab.output.renderOutput(dataTable, element);\n",
              "          const docLink = document.createElement('div');\n",
              "          docLink.innerHTML = docLinkHtml;\n",
              "          element.appendChild(docLink);\n",
              "        }\n",
              "      </script>\n",
              "    </div>\n",
              "  </div>\n",
              "  "
            ]
          },
          "metadata": {},
          "execution_count": 214
        }
      ],
      "source": [
        "misclassified_df_nn = misclassified_df_nn[['y_true', 'conf_true', 'y_pred', 'conf_pred']]\n",
        "misclassified_df_nn"
      ]
    },
    {
      "cell_type": "code",
      "execution_count": null,
      "metadata": {
        "id": "_dtgr5-GDOcg"
      },
      "outputs": [],
      "source": [
        "save_variable(misclassified_df_nn, 'df_merged_nn')"
      ]
    },
    {
      "cell_type": "code",
      "execution_count": null,
      "metadata": {
        "colab": {
          "base_uri": "https://localhost:8080/"
        },
        "id": "b9AwBYtFD5Tr",
        "outputId": "cfa36215-a279-46af-bf7e-7a33e8430626"
      },
      "outputs": [
        {
          "output_type": "execute_result",
          "data": {
            "text/plain": [
              "array([0.7317688 , 0.6880048 , 0.87609005], dtype=float32)"
            ]
          },
          "metadata": {},
          "execution_count": 215
        }
      ],
      "source": [
        "wrong_conf_pred = np.max(y_probs_array[mask], axis=1)\n",
        "wrong_conf_pred[:3]"
      ]
    },
    {
      "cell_type": "code",
      "execution_count": null,
      "metadata": {
        "colab": {
          "base_uri": "https://localhost:8080/"
        },
        "id": "tpMA0BJbD5WW",
        "outputId": "ae380732-53ba-4cc0-890f-896a56a0b6b3"
      },
      "outputs": [
        {
          "output_type": "execute_result",
          "data": {
            "text/plain": [
              "array([0.878566  , 0.85064834, 0.9120738 ], dtype=float32)"
            ]
          },
          "metadata": {},
          "execution_count": 216
        }
      ],
      "source": [
        "right_conf_pred = np.max(y_probs_array[~mask], axis=1)\n",
        "right_conf_pred[:3]"
      ]
    },
    {
      "cell_type": "code",
      "execution_count": null,
      "metadata": {
        "id": "PDGcnRoQD5aX"
      },
      "outputs": [],
      "source": [
        "assert y_probs_array.shape[0] == wrong_conf_pred.shape[0] + right_conf_pred.shape[0]"
      ]
    },
    {
      "cell_type": "code",
      "source": [
        "print(f'Confidence of incorrectly classified samples \\t- Median: {np.median(wrong_conf_pred):.4f}, Mean: {np.mean(wrong_conf_pred):.4f}.')\n",
        "print(f'Confidence of correctly classified samples \\t- Median: {np.median(right_conf_pred):.4f}, Mean: {np.mean(right_conf_pred):.4f}.')"
      ],
      "metadata": {
        "colab": {
          "base_uri": "https://localhost:8080/"
        },
        "id": "2mwV82AUnMst",
        "outputId": "01d1c24e-fdf1-44d7-de25-914c78a18397"
      },
      "execution_count": null,
      "outputs": [
        {
          "output_type": "stream",
          "name": "stdout",
          "text": [
            "Confidence of incorrectly classified samples \t- Median: 0.8021, Mean: 0.7702.\n",
            "Confidence of correctly classified samples \t- Median: 0.9231, Mean: 0.8750.\n"
          ]
        }
      ]
    },
    {
      "cell_type": "code",
      "source": [
        "sns.set_theme()"
      ],
      "metadata": {
        "id": "RgqMZBBvk_B1"
      },
      "execution_count": null,
      "outputs": []
    },
    {
      "cell_type": "code",
      "source": [
        "density=True\n",
        "# plt.hist(wrong_conf_pred, bins=np.linspace(0, 1, 11), density=density, color='r', alpha=0.6)\n",
        "plt.hist(wrong_conf_pred, bins=np.linspace(0, 1, 11), density=density, color='r', alpha=0.6, cumulative=1)\n",
        "# plt.title('Cumulative confidence distribution in misclassified samples\\n', size=14)\n",
        "plt.title('Incorrectly classified samples', size=15)\n",
        "plt.xlabel('Confidence')\n",
        "plt.show()"
      ],
      "metadata": {
        "colab": {
          "base_uri": "https://localhost:8080/",
          "height": 303
        },
        "id": "1Hw_MmntcWnP",
        "outputId": "84a4259f-2bfb-4724-83bd-2e1ded5c162e"
      },
      "execution_count": null,
      "outputs": [
        {
          "output_type": "display_data",
          "data": {
            "text/plain": [
              "<Figure size 432x288 with 1 Axes>"
            ],
            "image/png": "[encoded data removed]"
          },
          "metadata": {}
        }
      ]
    },
    {
      "cell_type": "code",
      "source": [
        "density=True\n",
        "# plt.hist(right_conf_pred, bins=np.linspace(0, 1, 11), density=density, color='b', alpha=0.6)\n",
        "plt.hist(right_conf_pred, bins=np.linspace(0, 1, 11), density=density, color='g', alpha=0.6, cumulative=1)\n",
        "# plt.title('Cumulative confidence distribution in correctly classified samples\\n', size=14)\n",
        "plt.title('Correctly classified samples', size=15)\n",
        "plt.xlabel('Confidence')\n",
        "plt.show()"
      ],
      "metadata": {
        "colab": {
          "base_uri": "https://localhost:8080/",
          "height": 303
        },
        "id": "I895B6O9cWpT",
        "outputId": "d7b0545f-11d9-44bf-fedc-dd7cd0135ebb"
      },
      "execution_count": null,
      "outputs": [
        {
          "output_type": "display_data",
          "data": {
            "text/plain": [
              "<Figure size 432x288 with 1 Axes>"
            ],
            "image/png": "[encoded data removed]"
          },
          "metadata": {}
        }
      ]
    },
    {
      "cell_type": "code",
      "source": [
        "density=False\n",
        "plt.hist(wrong_conf_pred, bins=np.linspace(0, 1, 11), density=density, alpha=0.6, color='r')\n",
        "# plt.title('Confidence distribution in misclassified samples\\n', size=14)\n",
        "plt.title('Incorrectly classified samples', size=15)\n",
        "plt.xlabel('Confidence')\n",
        "plt.ylabel('Number of samples')\n",
        "plt.show()"
      ],
      "metadata": {
        "colab": {
          "base_uri": "https://localhost:8080/",
          "height": 303
        },
        "id": "XnHJrRPhhYx_",
        "outputId": "cf0fd4f2-6c62-48ab-f496-2d9f53d61efd"
      },
      "execution_count": null,
      "outputs": [
        {
          "output_type": "display_data",
          "data": {
            "text/plain": [
              "<Figure size 432x288 with 1 Axes>"
            ],
            "image/png": "[encoded data removed]"
          },
          "metadata": {}
        }
      ]
    },
    {
      "cell_type": "code",
      "execution_count": null,
      "metadata": {
        "colab": {
          "base_uri": "https://localhost:8080/",
          "height": 303
        },
        "id": "mfnfhdnkEigN",
        "outputId": "1c627314-34df-4691-8c59-68f96088cf05"
      },
      "outputs": [
        {
          "output_type": "display_data",
          "data": {
            "text/plain": [
              "<Figure size 432x288 with 1 Axes>"
            ],
            "image/png": "[encoded data removed]"
          },
          "metadata": {}
        }
      ],
      "source": [
        "density=False\n",
        "plt.hist(right_conf_pred, bins=np.linspace(0, 1, 11), density=density, alpha=0.6, color='g')\n",
        "# plt.title('Confidence distribution in correctly classified samples\\n', size=14)\n",
        "plt.title('Correctly classified samples', size=15)\n",
        "plt.xlabel('Confidence')\n",
        "plt.ylabel('Number of samples')\n",
        "plt.show()"
      ]
    },
    {
      "cell_type": "code",
      "execution_count": null,
      "metadata": {
        "id": "2sYN7nzHv9da"
      },
      "outputs": [],
      "source": [
        "# misclassified_df = create_misclassified_df(X_test=X_valid_test, y_test=y_test, y_pred=y_pred)\n",
        "# assert (misclassified_df['y_true'] != misclassified_df['y_pred']).all()\n",
        "# misclassified_df\n",
        "\n",
        "# df_merged = pd.merge(misclassified_df, df_text[['url', 'text']], on='text')\n",
        "# df_merged.index = misclassified_df.index\n",
        "# # df_merged\n",
        "\n",
        "# df_confidences = df_merged[['y_true', 'y_pred']].applymap(lambda x: labels_encoded[x])\n",
        "# # df_confidences.head()\n",
        "\n",
        "# mask = y_pred != y_valid_test_\n",
        "\n",
        "# confidence_pred = y_probs[mask, df_confidences['y_pred']]\n",
        "# # confidence_pred\n",
        "\n",
        "# confidence_true = y_probs[mask, df_confidences['y_true']]\n",
        "# # confidence_true\n",
        "\n",
        "# df_merged['conf_true'] = confidence_true.round(2)\n",
        "# df_merged['conf_pred'] = confidence_pred.round(2)\n",
        "# # df_merged.head()\n",
        "\n",
        "# df_merged = df_merged[['url', 'text', 'y_true', 'conf_true', 'y_pred', 'conf_pred']]\n",
        "# # df_merged.head()\n",
        "\n",
        "# save_variable(df_merged, 'df_merged_nn')\n",
        "\n",
        "# misclassified_urls = df_merged['url'].tolist()\n",
        "# # misclassified_urls\n",
        "\n",
        "# wrong_conf_pred = np.max(y_probs[mask], axis=1)\n",
        "# # wrong_conf_pred[:3]\n",
        "\n",
        "# right_conf_pred = np.max(y_probs[~mask], axis=1)\n",
        "# # right_conf_pred[:3]\n",
        "\n",
        "# assert y_probs.shape[0] == wrong_conf_pred.shape[0] + right_conf_pred.shape[0]\n",
        "\n",
        "# print(f'Average confidence of misclassified samples: {np.mean(wrong_conf_pred):.4f}')\n",
        "# print(f'Average confidence of correctly classified samples: {np.mean(right_conf_pred):.4f}')\n",
        "\n",
        "# print(f'Median confidence of misclassified samples: {np.median(wrong_conf_pred):.4f}')\n",
        "# print(f'Median confidence of correctly classified samples: {np.median(right_conf_pred):.4f}')\n",
        "\n",
        "# density=None\n",
        "# plt.hist(wrong_conf_pred, bins=np.linspace(0, 1, 11), density=density)\n",
        "# plt.title('Distribution of confidence in misclassified samples')\n",
        "# plt.show()\n",
        "\n",
        "# plt.hist(right_conf_pred, bins=np.linspace(0, 1, 11), density=density)\n",
        "# plt.title('Distribution of confidence in correctly classified samples')\n",
        "# plt.show()"
      ]
    }
  ],
  "metadata": {
    "colab": {
      "collapsed_sections": [
        "ETBiYhSFxLNt",
        "iLz28NRNt37B",
        "4GwHtk5on9DE",
        "LYi72BOuqFgy",
        "qQDm4AyuDZuC",
        "USmRK3kDqLiQ",
        "5pvCA0rrs4dD",
        "5G9XYkHXS-VR",
        "GdUa4JQWiS-j",
        "W3WHVdpY2x8u",
        "0gmbS9VMU4qb",
        "NiNNjVFqWwB0",
        "uZwWQnXV5mhk",
        "aTICn2Pbqsdk",
        "u3EYegdLd7v7"
      ],
      "provenance": []
    },
    "gpuClass": "standard",
    "kernelspec": {
      "display_name": "Python 3",
      "name": "python3"
    },
    "language_info": {
      "name": "python"
    },
    "widgets": {
      "application/vnd.jupyter.widget-state+json": {
        "ca70a8fead694cb9a6aad31585627d3a": {
          "model_module": "@jupyter-widgets/controls",
          "model_name": "HBoxModel",
          "model_module_version": "1.5.0",
          "state": {
            "_dom_classes": [],
            "_model_module": "@jupyter-widgets/controls",
            "_model_module_version": "1.5.0",
            "_model_name": "HBoxModel",
            "_view_count": null,
            "_view_module": "@jupyter-widgets/controls",
            "_view_module_version": "1.5.0",
            "_view_name": "HBoxView",
            "box_style": "",
            "children": [
              "IPY_MODEL_1ae707df3c9447299b28a5ec7437cd25",
              "IPY_MODEL_5e89997759ac4fe3a382470559dc8d76",
              "IPY_MODEL_1fb5073e204e4127a83731f2a29c908a"
            ],
            "layout": "IPY_MODEL_fb10da9484aa4c6da6766df40303426d"
          }
        },
        "1ae707df3c9447299b28a5ec7437cd25": {
          "model_module": "@jupyter-widgets/controls",
          "model_name": "HTMLModel",
          "model_module_version": "1.5.0",
          "state": {
            "_dom_classes": [],
            "_model_module": "@jupyter-widgets/controls",
            "_model_module_version": "1.5.0",
            "_model_name": "HTMLModel",
            "_view_count": null,
            "_view_module": "@jupyter-widgets/controls",
            "_view_module_version": "1.5.0",
            "_view_name": "HTMLView",
            "description": "",
            "description_tooltip": null,
            "layout": "IPY_MODEL_05e3354547b444aa9ea50229adc6f247",
            "placeholder": "​",
            "style": "IPY_MODEL_5d535757cd484e0087878b79870ee1ed",
            "value": "100%"
          }
        },
        "5e89997759ac4fe3a382470559dc8d76": {
          "model_module": "@jupyter-widgets/controls",
          "model_name": "FloatProgressModel",
          "model_module_version": "1.5.0",
          "state": {
            "_dom_classes": [],
            "_model_module": "@jupyter-widgets/controls",
            "_model_module_version": "1.5.0",
            "_model_name": "FloatProgressModel",
            "_view_count": null,
            "_view_module": "@jupyter-widgets/controls",
            "_view_module_version": "1.5.0",
            "_view_name": "ProgressView",
            "bar_style": "success",
            "description": "",
            "description_tooltip": null,
            "layout": "IPY_MODEL_c24b646fc07e44dc96a13adc36329be0",
            "max": 1,
            "min": 0,
            "orientation": "horizontal",
            "style": "IPY_MODEL_15aca514f30e41ae9630f545170a3aac",
            "value": 1
          }
        },
        "1fb5073e204e4127a83731f2a29c908a": {
          "model_module": "@jupyter-widgets/controls",
          "model_name": "HTMLModel",
          "model_module_version": "1.5.0",
          "state": {
            "_dom_classes": [],
            "_model_module": "@jupyter-widgets/controls",
            "_model_module_version": "1.5.0",
            "_model_name": "HTMLModel",
            "_view_count": null,
            "_view_module": "@jupyter-widgets/controls",
            "_view_module_version": "1.5.0",
            "_view_name": "HTMLView",
            "description": "",
            "description_tooltip": null,
            "layout": "IPY_MODEL_27a97601715c4ea9ac0c48e62f9f02a3",
            "placeholder": "​",
            "style": "IPY_MODEL_2b5643c4e65343e3b9712f613fbd61ed",
            "value": " 1/1 [00:02&lt;00:00,  2.43s/ba]"
          }
        },
        "fb10da9484aa4c6da6766df40303426d": {
          "model_module": "@jupyter-widgets/base",
          "model_name": "LayoutModel",
          "model_module_version": "1.2.0",
          "state": {
            "_model_module": "@jupyter-widgets/base",
            "_model_module_version": "1.2.0",
            "_model_name": "LayoutModel",
            "_view_count": null,
            "_view_module": "@jupyter-widgets/base",
            "_view_module_version": "1.2.0",
            "_view_name": "LayoutView",
            "align_content": null,
            "align_items": null,
            "align_self": null,
            "border": null,
            "bottom": null,
            "display": null,
            "flex": null,
            "flex_flow": null,
            "grid_area": null,
            "grid_auto_columns": null,
            "grid_auto_flow": null,
            "grid_auto_rows": null,
            "grid_column": null,
            "grid_gap": null,
            "grid_row": null,
            "grid_template_areas": null,
            "grid_template_columns": null,
            "grid_template_rows": null,
            "height": null,
            "justify_content": null,
            "justify_items": null,
            "left": null,
            "margin": null,
            "max_height": null,
            "max_width": null,
            "min_height": null,
            "min_width": null,
            "object_fit": null,
            "object_position": null,
            "order": null,
            "overflow": null,
            "overflow_x": null,
            "overflow_y": null,
            "padding": null,
            "right": null,
            "top": null,
            "visibility": null,
            "width": null
          }
        },
        "05e3354547b444aa9ea50229adc6f247": {
          "model_module": "@jupyter-widgets/base",
          "model_name": "LayoutModel",
          "model_module_version": "1.2.0",
          "state": {
            "_model_module": "@jupyter-widgets/base",
            "_model_module_version": "1.2.0",
            "_model_name": "LayoutModel",
            "_view_count": null,
            "_view_module": "@jupyter-widgets/base",
            "_view_module_version": "1.2.0",
            "_view_name": "LayoutView",
            "align_content": null,
            "align_items": null,
            "align_self": null,
            "border": null,
            "bottom": null,
            "display": null,
            "flex": null,
            "flex_flow": null,
            "grid_area": null,
            "grid_auto_columns": null,
            "grid_auto_flow": null,
            "grid_auto_rows": null,
            "grid_column": null,
            "grid_gap": null,
            "grid_row": null,
            "grid_template_areas": null,
            "grid_template_columns": null,
            "grid_template_rows": null,
            "height": null,
            "justify_content": null,
            "justify_items": null,
            "left": null,
            "margin": null,
            "max_height": null,
            "max_width": null,
            "min_height": null,
            "min_width": null,
            "object_fit": null,
            "object_position": null,
            "order": null,
            "overflow": null,
            "overflow_x": null,
            "overflow_y": null,
            "padding": null,
            "right": null,
            "top": null,
            "visibility": null,
            "width": null
          }
        },
        "5d535757cd484e0087878b79870ee1ed": {
          "model_module": "@jupyter-widgets/controls",
          "model_name": "DescriptionStyleModel",
          "model_module_version": "1.5.0",
          "state": {
            "_model_module": "@jupyter-widgets/controls",
            "_model_module_version": "1.5.0",
            "_model_name": "DescriptionStyleModel",
            "_view_count": null,
            "_view_module": "@jupyter-widgets/base",
            "_view_module_version": "1.2.0",
            "_view_name": "StyleView",
            "description_width": ""
          }
        },
        "c24b646fc07e44dc96a13adc36329be0": {
          "model_module": "@jupyter-widgets/base",
          "model_name": "LayoutModel",
          "model_module_version": "1.2.0",
          "state": {
            "_model_module": "@jupyter-widgets/base",
            "_model_module_version": "1.2.0",
            "_model_name": "LayoutModel",
            "_view_count": null,
            "_view_module": "@jupyter-widgets/base",
            "_view_module_version": "1.2.0",
            "_view_name": "LayoutView",
            "align_content": null,
            "align_items": null,
            "align_self": null,
            "border": null,
            "bottom": null,
            "display": null,
            "flex": null,
            "flex_flow": null,
            "grid_area": null,
            "grid_auto_columns": null,
            "grid_auto_flow": null,
            "grid_auto_rows": null,
            "grid_column": null,
            "grid_gap": null,
            "grid_row": null,
            "grid_template_areas": null,
            "grid_template_columns": null,
            "grid_template_rows": null,
            "height": null,
            "justify_content": null,
            "justify_items": null,
            "left": null,
            "margin": null,
            "max_height": null,
            "max_width": null,
            "min_height": null,
            "min_width": null,
            "object_fit": null,
            "object_position": null,
            "order": null,
            "overflow": null,
            "overflow_x": null,
            "overflow_y": null,
            "padding": null,
            "right": null,
            "top": null,
            "visibility": null,
            "width": null
          }
        },
        "15aca514f30e41ae9630f545170a3aac": {
          "model_module": "@jupyter-widgets/controls",
          "model_name": "ProgressStyleModel",
          "model_module_version": "1.5.0",
          "state": {
            "_model_module": "@jupyter-widgets/controls",
            "_model_module_version": "1.5.0",
            "_model_name": "ProgressStyleModel",
            "_view_count": null,
            "_view_module": "@jupyter-widgets/base",
            "_view_module_version": "1.2.0",
            "_view_name": "StyleView",
            "bar_color": null,
            "description_width": ""
          }
        },
        "27a97601715c4ea9ac0c48e62f9f02a3": {
          "model_module": "@jupyter-widgets/base",
          "model_name": "LayoutModel",
          "model_module_version": "1.2.0",
          "state": {
            "_model_module": "@jupyter-widgets/base",
            "_model_module_version": "1.2.0",
            "_model_name": "LayoutModel",
            "_view_count": null,
            "_view_module": "@jupyter-widgets/base",
            "_view_module_version": "1.2.0",
            "_view_name": "LayoutView",
            "align_content": null,
            "align_items": null,
            "align_self": null,
            "border": null,
            "bottom": null,
            "display": null,
            "flex": null,
            "flex_flow": null,
            "grid_area": null,
            "grid_auto_columns": null,
            "grid_auto_flow": null,
            "grid_auto_rows": null,
            "grid_column": null,
            "grid_gap": null,
            "grid_row": null,
            "grid_template_areas": null,
            "grid_template_columns": null,
            "grid_template_rows": null,
            "height": null,
            "justify_content": null,
            "justify_items": null,
            "left": null,
            "margin": null,
            "max_height": null,
            "max_width": null,
            "min_height": null,
            "min_width": null,
            "object_fit": null,
            "object_position": null,
            "order": null,
            "overflow": null,
            "overflow_x": null,
            "overflow_y": null,
            "padding": null,
            "right": null,
            "top": null,
            "visibility": null,
            "width": null
          }
        },
        "2b5643c4e65343e3b9712f613fbd61ed": {
          "model_module": "@jupyter-widgets/controls",
          "model_name": "DescriptionStyleModel",
          "model_module_version": "1.5.0",
          "state": {
            "_model_module": "@jupyter-widgets/controls",
            "_model_module_version": "1.5.0",
            "_model_name": "DescriptionStyleModel",
            "_view_count": null,
            "_view_module": "@jupyter-widgets/base",
            "_view_module_version": "1.2.0",
            "_view_name": "StyleView",
            "description_width": ""
          }
        },
        "bb32d217b4b6434aab858c67593af794": {
          "model_module": "@jupyter-widgets/controls",
          "model_name": "HBoxModel",
          "model_module_version": "1.5.0",
          "state": {
            "_dom_classes": [],
            "_model_module": "@jupyter-widgets/controls",
            "_model_module_version": "1.5.0",
            "_model_name": "HBoxModel",
            "_view_count": null,
            "_view_module": "@jupyter-widgets/controls",
            "_view_module_version": "1.5.0",
            "_view_name": "HBoxView",
            "box_style": "",
            "children": [
              "IPY_MODEL_02c97da9a6734507805e060c10313780",
              "IPY_MODEL_92d8979fe464404387f212068ae9cb1e",
              "IPY_MODEL_cf7e7454485c4de2ba3c6763439aeb41"
            ],
            "layout": "IPY_MODEL_799e221a6fa3452695a425654e08920a"
          }
        },
        "02c97da9a6734507805e060c10313780": {
          "model_module": "@jupyter-widgets/controls",
          "model_name": "HTMLModel",
          "model_module_version": "1.5.0",
          "state": {
            "_dom_classes": [],
            "_model_module": "@jupyter-widgets/controls",
            "_model_module_version": "1.5.0",
            "_model_name": "HTMLModel",
            "_view_count": null,
            "_view_module": "@jupyter-widgets/controls",
            "_view_module_version": "1.5.0",
            "_view_name": "HTMLView",
            "description": "",
            "description_tooltip": null,
            "layout": "IPY_MODEL_c9ffbc94cefa43f0b522116a37ce724c",
            "placeholder": "​",
            "style": "IPY_MODEL_2ed3c696197041888eb476665dd73592",
            "value": "100%"
          }
        },
        "92d8979fe464404387f212068ae9cb1e": {
          "model_module": "@jupyter-widgets/controls",
          "model_name": "FloatProgressModel",
          "model_module_version": "1.5.0",
          "state": {
            "_dom_classes": [],
            "_model_module": "@jupyter-widgets/controls",
            "_model_module_version": "1.5.0",
            "_model_name": "FloatProgressModel",
            "_view_count": null,
            "_view_module": "@jupyter-widgets/controls",
            "_view_module_version": "1.5.0",
            "_view_name": "ProgressView",
            "bar_style": "success",
            "description": "",
            "description_tooltip": null,
            "layout": "IPY_MODEL_ccb369789ec44b1eac9147753cebd086",
            "max": 1,
            "min": 0,
            "orientation": "horizontal",
            "style": "IPY_MODEL_eb86b1d480b0450daeef0a683af3eeea",
            "value": 1
          }
        },
        "cf7e7454485c4de2ba3c6763439aeb41": {
          "model_module": "@jupyter-widgets/controls",
          "model_name": "HTMLModel",
          "model_module_version": "1.5.0",
          "state": {
            "_dom_classes": [],
            "_model_module": "@jupyter-widgets/controls",
            "_model_module_version": "1.5.0",
            "_model_name": "HTMLModel",
            "_view_count": null,
            "_view_module": "@jupyter-widgets/controls",
            "_view_module_version": "1.5.0",
            "_view_name": "HTMLView",
            "description": "",
            "description_tooltip": null,
            "layout": "IPY_MODEL_df89f373fc7d471dbb4f522732b01486",
            "placeholder": "​",
            "style": "IPY_MODEL_022e9354e35140f59cae3f47a8aff17d",
            "value": " 1/1 [00:00&lt;00:00,  2.59ba/s]"
          }
        },
        "799e221a6fa3452695a425654e08920a": {
          "model_module": "@jupyter-widgets/base",
          "model_name": "LayoutModel",
          "model_module_version": "1.2.0",
          "state": {
            "_model_module": "@jupyter-widgets/base",
            "_model_module_version": "1.2.0",
            "_model_name": "LayoutModel",
            "_view_count": null,
            "_view_module": "@jupyter-widgets/base",
            "_view_module_version": "1.2.0",
            "_view_name": "LayoutView",
            "align_content": null,
            "align_items": null,
            "align_self": null,
            "border": null,
            "bottom": null,
            "display": null,
            "flex": null,
            "flex_flow": null,
            "grid_area": null,
            "grid_auto_columns": null,
            "grid_auto_flow": null,
            "grid_auto_rows": null,
            "grid_column": null,
            "grid_gap": null,
            "grid_row": null,
            "grid_template_areas": null,
            "grid_template_columns": null,
            "grid_template_rows": null,
            "height": null,
            "justify_content": null,
            "justify_items": null,
            "left": null,
            "margin": null,
            "max_height": null,
            "max_width": null,
            "min_height": null,
            "min_width": null,
            "object_fit": null,
            "object_position": null,
            "order": null,
            "overflow": null,
            "overflow_x": null,
            "overflow_y": null,
            "padding": null,
            "right": null,
            "top": null,
            "visibility": null,
            "width": null
          }
        },
        "c9ffbc94cefa43f0b522116a37ce724c": {
          "model_module": "@jupyter-widgets/base",
          "model_name": "LayoutModel",
          "model_module_version": "1.2.0",
          "state": {
            "_model_module": "@jupyter-widgets/base",
            "_model_module_version": "1.2.0",
            "_model_name": "LayoutModel",
            "_view_count": null,
            "_view_module": "@jupyter-widgets/base",
            "_view_module_version": "1.2.0",
            "_view_name": "LayoutView",
            "align_content": null,
            "align_items": null,
            "align_self": null,
            "border": null,
            "bottom": null,
            "display": null,
            "flex": null,
            "flex_flow": null,
            "grid_area": null,
            "grid_auto_columns": null,
            "grid_auto_flow": null,
            "grid_auto_rows": null,
            "grid_column": null,
            "grid_gap": null,
            "grid_row": null,
            "grid_template_areas": null,
            "grid_template_columns": null,
            "grid_template_rows": null,
            "height": null,
            "justify_content": null,
            "justify_items": null,
            "left": null,
            "margin": null,
            "max_height": null,
            "max_width": null,
            "min_height": null,
            "min_width": null,
            "object_fit": null,
            "object_position": null,
            "order": null,
            "overflow": null,
            "overflow_x": null,
            "overflow_y": null,
            "padding": null,
            "right": null,
            "top": null,
            "visibility": null,
            "width": null
          }
        },
        "2ed3c696197041888eb476665dd73592": {
          "model_module": "@jupyter-widgets/controls",
          "model_name": "DescriptionStyleModel",
          "model_module_version": "1.5.0",
          "state": {
            "_model_module": "@jupyter-widgets/controls",
            "_model_module_version": "1.5.0",
            "_model_name": "DescriptionStyleModel",
            "_view_count": null,
            "_view_module": "@jupyter-widgets/base",
            "_view_module_version": "1.2.0",
            "_view_name": "StyleView",
            "description_width": ""
          }
        },
        "ccb369789ec44b1eac9147753cebd086": {
          "model_module": "@jupyter-widgets/base",
          "model_name": "LayoutModel",
          "model_module_version": "1.2.0",
          "state": {
            "_model_module": "@jupyter-widgets/base",
            "_model_module_version": "1.2.0",
            "_model_name": "LayoutModel",
            "_view_count": null,
            "_view_module": "@jupyter-widgets/base",
            "_view_module_version": "1.2.0",
            "_view_name": "LayoutView",
            "align_content": null,
            "align_items": null,
            "align_self": null,
            "border": null,
            "bottom": null,
            "display": null,
            "flex": null,
            "flex_flow": null,
            "grid_area": null,
            "grid_auto_columns": null,
            "grid_auto_flow": null,
            "grid_auto_rows": null,
            "grid_column": null,
            "grid_gap": null,
            "grid_row": null,
            "grid_template_areas": null,
            "grid_template_columns": null,
            "grid_template_rows": null,
            "height": null,
            "justify_content": null,
            "justify_items": null,
            "left": null,
            "margin": null,
            "max_height": null,
            "max_width": null,
            "min_height": null,
            "min_width": null,
            "object_fit": null,
            "object_position": null,
            "order": null,
            "overflow": null,
            "overflow_x": null,
            "overflow_y": null,
            "padding": null,
            "right": null,
            "top": null,
            "visibility": null,
            "width": null
          }
        },
        "eb86b1d480b0450daeef0a683af3eeea": {
          "model_module": "@jupyter-widgets/controls",
          "model_name": "ProgressStyleModel",
          "model_module_version": "1.5.0",
          "state": {
            "_model_module": "@jupyter-widgets/controls",
            "_model_module_version": "1.5.0",
            "_model_name": "ProgressStyleModel",
            "_view_count": null,
            "_view_module": "@jupyter-widgets/base",
            "_view_module_version": "1.2.0",
            "_view_name": "StyleView",
            "bar_color": null,
            "description_width": ""
          }
        },
        "df89f373fc7d471dbb4f522732b01486": {
          "model_module": "@jupyter-widgets/base",
          "model_name": "LayoutModel",
          "model_module_version": "1.2.0",
          "state": {
            "_model_module": "@jupyter-widgets/base",
            "_model_module_version": "1.2.0",
            "_model_name": "LayoutModel",
            "_view_count": null,
            "_view_module": "@jupyter-widgets/base",
            "_view_module_version": "1.2.0",
            "_view_name": "LayoutView",
            "align_content": null,
            "align_items": null,
            "align_self": null,
            "border": null,
            "bottom": null,
            "display": null,
            "flex": null,
            "flex_flow": null,
            "grid_area": null,
            "grid_auto_columns": null,
            "grid_auto_flow": null,
            "grid_auto_rows": null,
            "grid_column": null,
            "grid_gap": null,
            "grid_row": null,
            "grid_template_areas": null,
            "grid_template_columns": null,
            "grid_template_rows": null,
            "height": null,
            "justify_content": null,
            "justify_items": null,
            "left": null,
            "margin": null,
            "max_height": null,
            "max_width": null,
            "min_height": null,
            "min_width": null,
            "object_fit": null,
            "object_position": null,
            "order": null,
            "overflow": null,
            "overflow_x": null,
            "overflow_y": null,
            "padding": null,
            "right": null,
            "top": null,
            "visibility": null,
            "width": null
          }
        },
        "022e9354e35140f59cae3f47a8aff17d": {
          "model_module": "@jupyter-widgets/controls",
          "model_name": "DescriptionStyleModel",
          "model_module_version": "1.5.0",
          "state": {
            "_model_module": "@jupyter-widgets/controls",
            "_model_module_version": "1.5.0",
            "_model_name": "DescriptionStyleModel",
            "_view_count": null,
            "_view_module": "@jupyter-widgets/base",
            "_view_module_version": "1.2.0",
            "_view_name": "StyleView",
            "description_width": ""
          }
        },
        "681c754e19884061b63c1cab09c7acfc": {
          "model_module": "@jupyter-widgets/controls",
          "model_name": "HBoxModel",
          "model_module_version": "1.5.0",
          "state": {
            "_dom_classes": [],
            "_model_module": "@jupyter-widgets/controls",
            "_model_module_version": "1.5.0",
            "_model_name": "HBoxModel",
            "_view_count": null,
            "_view_module": "@jupyter-widgets/controls",
            "_view_module_version": "1.5.0",
            "_view_name": "HBoxView",
            "box_style": "",
            "children": [
              "IPY_MODEL_96a8827ce9274f2788519e884171e0f2",
              "IPY_MODEL_7ad9c776c9294c16856b2b5ef18561c1",
              "IPY_MODEL_ba66417812ed491a8415b00a8ffd877a"
            ],
            "layout": "IPY_MODEL_e0080fe9d1cb4e9bb2cd9041accffc3b"
          }
        },
        "96a8827ce9274f2788519e884171e0f2": {
          "model_module": "@jupyter-widgets/controls",
          "model_name": "HTMLModel",
          "model_module_version": "1.5.0",
          "state": {
            "_dom_classes": [],
            "_model_module": "@jupyter-widgets/controls",
            "_model_module_version": "1.5.0",
            "_model_name": "HTMLModel",
            "_view_count": null,
            "_view_module": "@jupyter-widgets/controls",
            "_view_module_version": "1.5.0",
            "_view_name": "HTMLView",
            "description": "",
            "description_tooltip": null,
            "layout": "IPY_MODEL_ed738433d7394a75bc87a4fd0547c427",
            "placeholder": "​",
            "style": "IPY_MODEL_e1478c8054544bcf8a9c0a80aba37ced",
            "value": "100%"
          }
        },
        "7ad9c776c9294c16856b2b5ef18561c1": {
          "model_module": "@jupyter-widgets/controls",
          "model_name": "FloatProgressModel",
          "model_module_version": "1.5.0",
          "state": {
            "_dom_classes": [],
            "_model_module": "@jupyter-widgets/controls",
            "_model_module_version": "1.5.0",
            "_model_name": "FloatProgressModel",
            "_view_count": null,
            "_view_module": "@jupyter-widgets/controls",
            "_view_module_version": "1.5.0",
            "_view_name": "ProgressView",
            "bar_style": "success",
            "description": "",
            "description_tooltip": null,
            "layout": "IPY_MODEL_fd4e1052974b47b3bb1b36263aec5674",
            "max": 1,
            "min": 0,
            "orientation": "horizontal",
            "style": "IPY_MODEL_59d80a42d07149bab11555049829e4d4",
            "value": 1
          }
        },
        "ba66417812ed491a8415b00a8ffd877a": {
          "model_module": "@jupyter-widgets/controls",
          "model_name": "HTMLModel",
          "model_module_version": "1.5.0",
          "state": {
            "_dom_classes": [],
            "_model_module": "@jupyter-widgets/controls",
            "_model_module_version": "1.5.0",
            "_model_name": "HTMLModel",
            "_view_count": null,
            "_view_module": "@jupyter-widgets/controls",
            "_view_module_version": "1.5.0",
            "_view_name": "HTMLView",
            "description": "",
            "description_tooltip": null,
            "layout": "IPY_MODEL_a1fc84181640414d83c589a051c3df6c",
            "placeholder": "​",
            "style": "IPY_MODEL_ad9eddbff33b4b49a38e416cce078f0f",
            "value": " 1/1 [00:00&lt;00:00,  2.04ba/s]"
          }
        },
        "e0080fe9d1cb4e9bb2cd9041accffc3b": {
          "model_module": "@jupyter-widgets/base",
          "model_name": "LayoutModel",
          "model_module_version": "1.2.0",
          "state": {
            "_model_module": "@jupyter-widgets/base",
            "_model_module_version": "1.2.0",
            "_model_name": "LayoutModel",
            "_view_count": null,
            "_view_module": "@jupyter-widgets/base",
            "_view_module_version": "1.2.0",
            "_view_name": "LayoutView",
            "align_content": null,
            "align_items": null,
            "align_self": null,
            "border": null,
            "bottom": null,
            "display": null,
            "flex": null,
            "flex_flow": null,
            "grid_area": null,
            "grid_auto_columns": null,
            "grid_auto_flow": null,
            "grid_auto_rows": null,
            "grid_column": null,
            "grid_gap": null,
            "grid_row": null,
            "grid_template_areas": null,
            "grid_template_columns": null,
            "grid_template_rows": null,
            "height": null,
            "justify_content": null,
            "justify_items": null,
            "left": null,
            "margin": null,
            "max_height": null,
            "max_width": null,
            "min_height": null,
            "min_width": null,
            "object_fit": null,
            "object_position": null,
            "order": null,
            "overflow": null,
            "overflow_x": null,
            "overflow_y": null,
            "padding": null,
            "right": null,
            "top": null,
            "visibility": null,
            "width": null
          }
        },
        "ed738433d7394a75bc87a4fd0547c427": {
          "model_module": "@jupyter-widgets/base",
          "model_name": "LayoutModel",
          "model_module_version": "1.2.0",
          "state": {
            "_model_module": "@jupyter-widgets/base",
            "_model_module_version": "1.2.0",
            "_model_name": "LayoutModel",
            "_view_count": null,
            "_view_module": "@jupyter-widgets/base",
            "_view_module_version": "1.2.0",
            "_view_name": "LayoutView",
            "align_content": null,
            "align_items": null,
            "align_self": null,
            "border": null,
            "bottom": null,
            "display": null,
            "flex": null,
            "flex_flow": null,
            "grid_area": null,
            "grid_auto_columns": null,
            "grid_auto_flow": null,
            "grid_auto_rows": null,
            "grid_column": null,
            "grid_gap": null,
            "grid_row": null,
            "grid_template_areas": null,
            "grid_template_columns": null,
            "grid_template_rows": null,
            "height": null,
            "justify_content": null,
            "justify_items": null,
            "left": null,
            "margin": null,
            "max_height": null,
            "max_width": null,
            "min_height": null,
            "min_width": null,
            "object_fit": null,
            "object_position": null,
            "order": null,
            "overflow": null,
            "overflow_x": null,
            "overflow_y": null,
            "padding": null,
            "right": null,
            "top": null,
            "visibility": null,
            "width": null
          }
        },
        "e1478c8054544bcf8a9c0a80aba37ced": {
          "model_module": "@jupyter-widgets/controls",
          "model_name": "DescriptionStyleModel",
          "model_module_version": "1.5.0",
          "state": {
            "_model_module": "@jupyter-widgets/controls",
            "_model_module_version": "1.5.0",
            "_model_name": "DescriptionStyleModel",
            "_view_count": null,
            "_view_module": "@jupyter-widgets/base",
            "_view_module_version": "1.2.0",
            "_view_name": "StyleView",
            "description_width": ""
          }
        },
        "fd4e1052974b47b3bb1b36263aec5674": {
          "model_module": "@jupyter-widgets/base",
          "model_name": "LayoutModel",
          "model_module_version": "1.2.0",
          "state": {
            "_model_module": "@jupyter-widgets/base",
            "_model_module_version": "1.2.0",
            "_model_name": "LayoutModel",
            "_view_count": null,
            "_view_module": "@jupyter-widgets/base",
            "_view_module_version": "1.2.0",
            "_view_name": "LayoutView",
            "align_content": null,
            "align_items": null,
            "align_self": null,
            "border": null,
            "bottom": null,
            "display": null,
            "flex": null,
            "flex_flow": null,
            "grid_area": null,
            "grid_auto_columns": null,
            "grid_auto_flow": null,
            "grid_auto_rows": null,
            "grid_column": null,
            "grid_gap": null,
            "grid_row": null,
            "grid_template_areas": null,
            "grid_template_columns": null,
            "grid_template_rows": null,
            "height": null,
            "justify_content": null,
            "justify_items": null,
            "left": null,
            "margin": null,
            "max_height": null,
            "max_width": null,
            "min_height": null,
            "min_width": null,
            "object_fit": null,
            "object_position": null,
            "order": null,
            "overflow": null,
            "overflow_x": null,
            "overflow_y": null,
            "padding": null,
            "right": null,
            "top": null,
            "visibility": null,
            "width": null
          }
        },
        "59d80a42d07149bab11555049829e4d4": {
          "model_module": "@jupyter-widgets/controls",
          "model_name": "ProgressStyleModel",
          "model_module_version": "1.5.0",
          "state": {
            "_model_module": "@jupyter-widgets/controls",
            "_model_module_version": "1.5.0",
            "_model_name": "ProgressStyleModel",
            "_view_count": null,
            "_view_module": "@jupyter-widgets/base",
            "_view_module_version": "1.2.0",
            "_view_name": "StyleView",
            "bar_color": null,
            "description_width": ""
          }
        },
        "a1fc84181640414d83c589a051c3df6c": {
          "model_module": "@jupyter-widgets/base",
          "model_name": "LayoutModel",
          "model_module_version": "1.2.0",
          "state": {
            "_model_module": "@jupyter-widgets/base",
            "_model_module_version": "1.2.0",
            "_model_name": "LayoutModel",
            "_view_count": null,
            "_view_module": "@jupyter-widgets/base",
            "_view_module_version": "1.2.0",
            "_view_name": "LayoutView",
            "align_content": null,
            "align_items": null,
            "align_self": null,
            "border": null,
            "bottom": null,
            "display": null,
            "flex": null,
            "flex_flow": null,
            "grid_area": null,
            "grid_auto_columns": null,
            "grid_auto_flow": null,
            "grid_auto_rows": null,
            "grid_column": null,
            "grid_gap": null,
            "grid_row": null,
            "grid_template_areas": null,
            "grid_template_columns": null,
            "grid_template_rows": null,
            "height": null,
            "justify_content": null,
            "justify_items": null,
            "left": null,
            "margin": null,
            "max_height": null,
            "max_width": null,
            "min_height": null,
            "min_width": null,
            "object_fit": null,
            "object_position": null,
            "order": null,
            "overflow": null,
            "overflow_x": null,
            "overflow_y": null,
            "padding": null,
            "right": null,
            "top": null,
            "visibility": null,
            "width": null
          }
        },
        "ad9eddbff33b4b49a38e416cce078f0f": {
          "model_module": "@jupyter-widgets/controls",
          "model_name": "DescriptionStyleModel",
          "model_module_version": "1.5.0",
          "state": {
            "_model_module": "@jupyter-widgets/controls",
            "_model_module_version": "1.5.0",
            "_model_name": "DescriptionStyleModel",
            "_view_count": null,
            "_view_module": "@jupyter-widgets/base",
            "_view_module_version": "1.2.0",
            "_view_name": "StyleView",
            "description_width": ""
          }
        },
        "b0b9a278aaee41708e49a5192e1cf3b9": {
          "model_module": "@jupyter-widgets/controls",
          "model_name": "HBoxModel",
          "model_module_version": "1.5.0",
          "state": {
            "_dom_classes": [],
            "_model_module": "@jupyter-widgets/controls",
            "_model_module_version": "1.5.0",
            "_model_name": "HBoxModel",
            "_view_count": null,
            "_view_module": "@jupyter-widgets/controls",
            "_view_module_version": "1.5.0",
            "_view_name": "HBoxView",
            "box_style": "",
            "children": [
              "IPY_MODEL_ede1b0f1d02040fdb46598eec4913e1a",
              "IPY_MODEL_b390316fb04f4e07a1a599dadfb29a1b",
              "IPY_MODEL_87d7463e44d14977ae51f5b3b6352737"
            ],
            "layout": "IPY_MODEL_6392fc56961345bd830af2236bc6a68c"
          }
        },
        "ede1b0f1d02040fdb46598eec4913e1a": {
          "model_module": "@jupyter-widgets/controls",
          "model_name": "HTMLModel",
          "model_module_version": "1.5.0",
          "state": {
            "_dom_classes": [],
            "_model_module": "@jupyter-widgets/controls",
            "_model_module_version": "1.5.0",
            "_model_name": "HTMLModel",
            "_view_count": null,
            "_view_module": "@jupyter-widgets/controls",
            "_view_module_version": "1.5.0",
            "_view_name": "HTMLView",
            "description": "",
            "description_tooltip": null,
            "layout": "IPY_MODEL_5235d88f78b748bb854686629613b6d1",
            "placeholder": "​",
            "style": "IPY_MODEL_e1dde7d23ab045fa9675d00b65b2b437",
            "value": "100%"
          }
        },
        "b390316fb04f4e07a1a599dadfb29a1b": {
          "model_module": "@jupyter-widgets/controls",
          "model_name": "FloatProgressModel",
          "model_module_version": "1.5.0",
          "state": {
            "_dom_classes": [],
            "_model_module": "@jupyter-widgets/controls",
            "_model_module_version": "1.5.0",
            "_model_name": "FloatProgressModel",
            "_view_count": null,
            "_view_module": "@jupyter-widgets/controls",
            "_view_module_version": "1.5.0",
            "_view_name": "ProgressView",
            "bar_style": "success",
            "description": "",
            "description_tooltip": null,
            "layout": "IPY_MODEL_4b055e87c1a747bda082f3f13633d129",
            "max": 1,
            "min": 0,
            "orientation": "horizontal",
            "style": "IPY_MODEL_c84de846c76f459fbf65f8f8b9440f0e",
            "value": 1
          }
        },
        "87d7463e44d14977ae51f5b3b6352737": {
          "model_module": "@jupyter-widgets/controls",
          "model_name": "HTMLModel",
          "model_module_version": "1.5.0",
          "state": {
            "_dom_classes": [],
            "_model_module": "@jupyter-widgets/controls",
            "_model_module_version": "1.5.0",
            "_model_name": "HTMLModel",
            "_view_count": null,
            "_view_module": "@jupyter-widgets/controls",
            "_view_module_version": "1.5.0",
            "_view_name": "HTMLView",
            "description": "",
            "description_tooltip": null,
            "layout": "IPY_MODEL_9080673b39234771bcbcdeb884730c0c",
            "placeholder": "​",
            "style": "IPY_MODEL_97524ce82a4c4327a8ee4d489000f72e",
            "value": " 1/1 [00:01&lt;00:00,  1.98s/ba]"
          }
        },
        "6392fc56961345bd830af2236bc6a68c": {
          "model_module": "@jupyter-widgets/base",
          "model_name": "LayoutModel",
          "model_module_version": "1.2.0",
          "state": {
            "_model_module": "@jupyter-widgets/base",
            "_model_module_version": "1.2.0",
            "_model_name": "LayoutModel",
            "_view_count": null,
            "_view_module": "@jupyter-widgets/base",
            "_view_module_version": "1.2.0",
            "_view_name": "LayoutView",
            "align_content": null,
            "align_items": null,
            "align_self": null,
            "border": null,
            "bottom": null,
            "display": null,
            "flex": null,
            "flex_flow": null,
            "grid_area": null,
            "grid_auto_columns": null,
            "grid_auto_flow": null,
            "grid_auto_rows": null,
            "grid_column": null,
            "grid_gap": null,
            "grid_row": null,
            "grid_template_areas": null,
            "grid_template_columns": null,
            "grid_template_rows": null,
            "height": null,
            "justify_content": null,
            "justify_items": null,
            "left": null,
            "margin": null,
            "max_height": null,
            "max_width": null,
            "min_height": null,
            "min_width": null,
            "object_fit": null,
            "object_position": null,
            "order": null,
            "overflow": null,
            "overflow_x": null,
            "overflow_y": null,
            "padding": null,
            "right": null,
            "top": null,
            "visibility": null,
            "width": null
          }
        },
        "5235d88f78b748bb854686629613b6d1": {
          "model_module": "@jupyter-widgets/base",
          "model_name": "LayoutModel",
          "model_module_version": "1.2.0",
          "state": {
            "_model_module": "@jupyter-widgets/base",
            "_model_module_version": "1.2.0",
            "_model_name": "LayoutModel",
            "_view_count": null,
            "_view_module": "@jupyter-widgets/base",
            "_view_module_version": "1.2.0",
            "_view_name": "LayoutView",
            "align_content": null,
            "align_items": null,
            "align_self": null,
            "border": null,
            "bottom": null,
            "display": null,
            "flex": null,
            "flex_flow": null,
            "grid_area": null,
            "grid_auto_columns": null,
            "grid_auto_flow": null,
            "grid_auto_rows": null,
            "grid_column": null,
            "grid_gap": null,
            "grid_row": null,
            "grid_template_areas": null,
            "grid_template_columns": null,
            "grid_template_rows": null,
            "height": null,
            "justify_content": null,
            "justify_items": null,
            "left": null,
            "margin": null,
            "max_height": null,
            "max_width": null,
            "min_height": null,
            "min_width": null,
            "object_fit": null,
            "object_position": null,
            "order": null,
            "overflow": null,
            "overflow_x": null,
            "overflow_y": null,
            "padding": null,
            "right": null,
            "top": null,
            "visibility": null,
            "width": null
          }
        },
        "e1dde7d23ab045fa9675d00b65b2b437": {
          "model_module": "@jupyter-widgets/controls",
          "model_name": "DescriptionStyleModel",
          "model_module_version": "1.5.0",
          "state": {
            "_model_module": "@jupyter-widgets/controls",
            "_model_module_version": "1.5.0",
            "_model_name": "DescriptionStyleModel",
            "_view_count": null,
            "_view_module": "@jupyter-widgets/base",
            "_view_module_version": "1.2.0",
            "_view_name": "StyleView",
            "description_width": ""
          }
        },
        "4b055e87c1a747bda082f3f13633d129": {
          "model_module": "@jupyter-widgets/base",
          "model_name": "LayoutModel",
          "model_module_version": "1.2.0",
          "state": {
            "_model_module": "@jupyter-widgets/base",
            "_model_module_version": "1.2.0",
            "_model_name": "LayoutModel",
            "_view_count": null,
            "_view_module": "@jupyter-widgets/base",
            "_view_module_version": "1.2.0",
            "_view_name": "LayoutView",
            "align_content": null,
            "align_items": null,
            "align_self": null,
            "border": null,
            "bottom": null,
            "display": null,
            "flex": null,
            "flex_flow": null,
            "grid_area": null,
            "grid_auto_columns": null,
            "grid_auto_flow": null,
            "grid_auto_rows": null,
            "grid_column": null,
            "grid_gap": null,
            "grid_row": null,
            "grid_template_areas": null,
            "grid_template_columns": null,
            "grid_template_rows": null,
            "height": null,
            "justify_content": null,
            "justify_items": null,
            "left": null,
            "margin": null,
            "max_height": null,
            "max_width": null,
            "min_height": null,
            "min_width": null,
            "object_fit": null,
            "object_position": null,
            "order": null,
            "overflow": null,
            "overflow_x": null,
            "overflow_y": null,
            "padding": null,
            "right": null,
            "top": null,
            "visibility": null,
            "width": null
          }
        },
        "c84de846c76f459fbf65f8f8b9440f0e": {
          "model_module": "@jupyter-widgets/controls",
          "model_name": "ProgressStyleModel",
          "model_module_version": "1.5.0",
          "state": {
            "_model_module": "@jupyter-widgets/controls",
            "_model_module_version": "1.5.0",
            "_model_name": "ProgressStyleModel",
            "_view_count": null,
            "_view_module": "@jupyter-widgets/base",
            "_view_module_version": "1.2.0",
            "_view_name": "StyleView",
            "bar_color": null,
            "description_width": ""
          }
        },
        "9080673b39234771bcbcdeb884730c0c": {
          "model_module": "@jupyter-widgets/base",
          "model_name": "LayoutModel",
          "model_module_version": "1.2.0",
          "state": {
            "_model_module": "@jupyter-widgets/base",
            "_model_module_version": "1.2.0",
            "_model_name": "LayoutModel",
            "_view_count": null,
            "_view_module": "@jupyter-widgets/base",
            "_view_module_version": "1.2.0",
            "_view_name": "LayoutView",
            "align_content": null,
            "align_items": null,
            "align_self": null,
            "border": null,
            "bottom": null,
            "display": null,
            "flex": null,
            "flex_flow": null,
            "grid_area": null,
            "grid_auto_columns": null,
            "grid_auto_flow": null,
            "grid_auto_rows": null,
            "grid_column": null,
            "grid_gap": null,
            "grid_row": null,
            "grid_template_areas": null,
            "grid_template_columns": null,
            "grid_template_rows": null,
            "height": null,
            "justify_content": null,
            "justify_items": null,
            "left": null,
            "margin": null,
            "max_height": null,
            "max_width": null,
            "min_height": null,
            "min_width": null,
            "object_fit": null,
            "object_position": null,
            "order": null,
            "overflow": null,
            "overflow_x": null,
            "overflow_y": null,
            "padding": null,
            "right": null,
            "top": null,
            "visibility": null,
            "width": null
          }
        },
        "97524ce82a4c4327a8ee4d489000f72e": {
          "model_module": "@jupyter-widgets/controls",
          "model_name": "DescriptionStyleModel",
          "model_module_version": "1.5.0",
          "state": {
            "_model_module": "@jupyter-widgets/controls",
            "_model_module_version": "1.5.0",
            "_model_name": "DescriptionStyleModel",
            "_view_count": null,
            "_view_module": "@jupyter-widgets/base",
            "_view_module_version": "1.2.0",
            "_view_name": "StyleView",
            "description_width": ""
          }
        },
        "2b420b4cdbce41708eadfee6de609218": {
          "model_module": "@jupyter-widgets/controls",
          "model_name": "HBoxModel",
          "model_module_version": "1.5.0",
          "state": {
            "_dom_classes": [],
            "_model_module": "@jupyter-widgets/controls",
            "_model_module_version": "1.5.0",
            "_model_name": "HBoxModel",
            "_view_count": null,
            "_view_module": "@jupyter-widgets/controls",
            "_view_module_version": "1.5.0",
            "_view_name": "HBoxView",
            "box_style": "",
            "children": [
              "IPY_MODEL_7295378feefd43d69462170a47de0d7e",
              "IPY_MODEL_aec9a93595d84748a7ffc802856625f1",
              "IPY_MODEL_718a6bbe0a16490e9ef4d1dfe2a9d884"
            ],
            "layout": "IPY_MODEL_82b5b93b24ec4e81a6aea726f9680b45"
          }
        },
        "7295378feefd43d69462170a47de0d7e": {
          "model_module": "@jupyter-widgets/controls",
          "model_name": "HTMLModel",
          "model_module_version": "1.5.0",
          "state": {
            "_dom_classes": [],
            "_model_module": "@jupyter-widgets/controls",
            "_model_module_version": "1.5.0",
            "_model_name": "HTMLModel",
            "_view_count": null,
            "_view_module": "@jupyter-widgets/controls",
            "_view_module_version": "1.5.0",
            "_view_name": "HTMLView",
            "description": "",
            "description_tooltip": null,
            "layout": "IPY_MODEL_15ff61937c404a388f04d6a218d05d66",
            "placeholder": "​",
            "style": "IPY_MODEL_3dfdfda47b214d019d0a7debf67f7420",
            "value": "100%"
          }
        },
        "aec9a93595d84748a7ffc802856625f1": {
          "model_module": "@jupyter-widgets/controls",
          "model_name": "FloatProgressModel",
          "model_module_version": "1.5.0",
          "state": {
            "_dom_classes": [],
            "_model_module": "@jupyter-widgets/controls",
            "_model_module_version": "1.5.0",
            "_model_name": "FloatProgressModel",
            "_view_count": null,
            "_view_module": "@jupyter-widgets/controls",
            "_view_module_version": "1.5.0",
            "_view_name": "ProgressView",
            "bar_style": "success",
            "description": "",
            "description_tooltip": null,
            "layout": "IPY_MODEL_295804a9540145b2b3d78e501af69314",
            "max": 1,
            "min": 0,
            "orientation": "horizontal",
            "style": "IPY_MODEL_fd5bfcf898ca4d58bd1c4cbdddc03956",
            "value": 1
          }
        },
        "718a6bbe0a16490e9ef4d1dfe2a9d884": {
          "model_module": "@jupyter-widgets/controls",
          "model_name": "HTMLModel",
          "model_module_version": "1.5.0",
          "state": {
            "_dom_classes": [],
            "_model_module": "@jupyter-widgets/controls",
            "_model_module_version": "1.5.0",
            "_model_name": "HTMLModel",
            "_view_count": null,
            "_view_module": "@jupyter-widgets/controls",
            "_view_module_version": "1.5.0",
            "_view_name": "HTMLView",
            "description": "",
            "description_tooltip": null,
            "layout": "IPY_MODEL_d1eca58a707d4681b06c4e8ce3c9ac48",
            "placeholder": "​",
            "style": "IPY_MODEL_aab690a02334427682d422b269074375",
            "value": " 1/1 [00:00&lt;00:00,  2.10ba/s]"
          }
        },
        "82b5b93b24ec4e81a6aea726f9680b45": {
          "model_module": "@jupyter-widgets/base",
          "model_name": "LayoutModel",
          "model_module_version": "1.2.0",
          "state": {
            "_model_module": "@jupyter-widgets/base",
            "_model_module_version": "1.2.0",
            "_model_name": "LayoutModel",
            "_view_count": null,
            "_view_module": "@jupyter-widgets/base",
            "_view_module_version": "1.2.0",
            "_view_name": "LayoutView",
            "align_content": null,
            "align_items": null,
            "align_self": null,
            "border": null,
            "bottom": null,
            "display": null,
            "flex": null,
            "flex_flow": null,
            "grid_area": null,
            "grid_auto_columns": null,
            "grid_auto_flow": null,
            "grid_auto_rows": null,
            "grid_column": null,
            "grid_gap": null,
            "grid_row": null,
            "grid_template_areas": null,
            "grid_template_columns": null,
            "grid_template_rows": null,
            "height": null,
            "justify_content": null,
            "justify_items": null,
            "left": null,
            "margin": null,
            "max_height": null,
            "max_width": null,
            "min_height": null,
            "min_width": null,
            "object_fit": null,
            "object_position": null,
            "order": null,
            "overflow": null,
            "overflow_x": null,
            "overflow_y": null,
            "padding": null,
            "right": null,
            "top": null,
            "visibility": null,
            "width": null
          }
        },
        "15ff61937c404a388f04d6a218d05d66": {
          "model_module": "@jupyter-widgets/base",
          "model_name": "LayoutModel",
          "model_module_version": "1.2.0",
          "state": {
            "_model_module": "@jupyter-widgets/base",
            "_model_module_version": "1.2.0",
            "_model_name": "LayoutModel",
            "_view_count": null,
            "_view_module": "@jupyter-widgets/base",
            "_view_module_version": "1.2.0",
            "_view_name": "LayoutView",
            "align_content": null,
            "align_items": null,
            "align_self": null,
            "border": null,
            "bottom": null,
            "display": null,
            "flex": null,
            "flex_flow": null,
            "grid_area": null,
            "grid_auto_columns": null,
            "grid_auto_flow": null,
            "grid_auto_rows": null,
            "grid_column": null,
            "grid_gap": null,
            "grid_row": null,
            "grid_template_areas": null,
            "grid_template_columns": null,
            "grid_template_rows": null,
            "height": null,
            "justify_content": null,
            "justify_items": null,
            "left": null,
            "margin": null,
            "max_height": null,
            "max_width": null,
            "min_height": null,
            "min_width": null,
            "object_fit": null,
            "object_position": null,
            "order": null,
            "overflow": null,
            "overflow_x": null,
            "overflow_y": null,
            "padding": null,
            "right": null,
            "top": null,
            "visibility": null,
            "width": null
          }
        },
        "3dfdfda47b214d019d0a7debf67f7420": {
          "model_module": "@jupyter-widgets/controls",
          "model_name": "DescriptionStyleModel",
          "model_module_version": "1.5.0",
          "state": {
            "_model_module": "@jupyter-widgets/controls",
            "_model_module_version": "1.5.0",
            "_model_name": "DescriptionStyleModel",
            "_view_count": null,
            "_view_module": "@jupyter-widgets/base",
            "_view_module_version": "1.2.0",
            "_view_name": "StyleView",
            "description_width": ""
          }
        },
        "295804a9540145b2b3d78e501af69314": {
          "model_module": "@jupyter-widgets/base",
          "model_name": "LayoutModel",
          "model_module_version": "1.2.0",
          "state": {
            "_model_module": "@jupyter-widgets/base",
            "_model_module_version": "1.2.0",
            "_model_name": "LayoutModel",
            "_view_count": null,
            "_view_module": "@jupyter-widgets/base",
            "_view_module_version": "1.2.0",
            "_view_name": "LayoutView",
            "align_content": null,
            "align_items": null,
            "align_self": null,
            "border": null,
            "bottom": null,
            "display": null,
            "flex": null,
            "flex_flow": null,
            "grid_area": null,
            "grid_auto_columns": null,
            "grid_auto_flow": null,
            "grid_auto_rows": null,
            "grid_column": null,
            "grid_gap": null,
            "grid_row": null,
            "grid_template_areas": null,
            "grid_template_columns": null,
            "grid_template_rows": null,
            "height": null,
            "justify_content": null,
            "justify_items": null,
            "left": null,
            "margin": null,
            "max_height": null,
            "max_width": null,
            "min_height": null,
            "min_width": null,
            "object_fit": null,
            "object_position": null,
            "order": null,
            "overflow": null,
            "overflow_x": null,
            "overflow_y": null,
            "padding": null,
            "right": null,
            "top": null,
            "visibility": null,
            "width": null
          }
        },
        "fd5bfcf898ca4d58bd1c4cbdddc03956": {
          "model_module": "@jupyter-widgets/controls",
          "model_name": "ProgressStyleModel",
          "model_module_version": "1.5.0",
          "state": {
            "_model_module": "@jupyter-widgets/controls",
            "_model_module_version": "1.5.0",
            "_model_name": "ProgressStyleModel",
            "_view_count": null,
            "_view_module": "@jupyter-widgets/base",
            "_view_module_version": "1.2.0",
            "_view_name": "StyleView",
            "bar_color": null,
            "description_width": ""
          }
        },
        "d1eca58a707d4681b06c4e8ce3c9ac48": {
          "model_module": "@jupyter-widgets/base",
          "model_name": "LayoutModel",
          "model_module_version": "1.2.0",
          "state": {
            "_model_module": "@jupyter-widgets/base",
            "_model_module_version": "1.2.0",
            "_model_name": "LayoutModel",
            "_view_count": null,
            "_view_module": "@jupyter-widgets/base",
            "_view_module_version": "1.2.0",
            "_view_name": "LayoutView",
            "align_content": null,
            "align_items": null,
            "align_self": null,
            "border": null,
            "bottom": null,
            "display": null,
            "flex": null,
            "flex_flow": null,
            "grid_area": null,
            "grid_auto_columns": null,
            "grid_auto_flow": null,
            "grid_auto_rows": null,
            "grid_column": null,
            "grid_gap": null,
            "grid_row": null,
            "grid_template_areas": null,
            "grid_template_columns": null,
            "grid_template_rows": null,
            "height": null,
            "justify_content": null,
            "justify_items": null,
            "left": null,
            "margin": null,
            "max_height": null,
            "max_width": null,
            "min_height": null,
            "min_width": null,
            "object_fit": null,
            "object_position": null,
            "order": null,
            "overflow": null,
            "overflow_x": null,
            "overflow_y": null,
            "padding": null,
            "right": null,
            "top": null,
            "visibility": null,
            "width": null
          }
        },
        "aab690a02334427682d422b269074375": {
          "model_module": "@jupyter-widgets/controls",
          "model_name": "DescriptionStyleModel",
          "model_module_version": "1.5.0",
          "state": {
            "_model_module": "@jupyter-widgets/controls",
            "_model_module_version": "1.5.0",
            "_model_name": "DescriptionStyleModel",
            "_view_count": null,
            "_view_module": "@jupyter-widgets/base",
            "_view_module_version": "1.2.0",
            "_view_name": "StyleView",
            "description_width": ""
          }
        },
        "95e02698a13042ffa4dfad82af71f2b4": {
          "model_module": "@jupyter-widgets/controls",
          "model_name": "HBoxModel",
          "model_module_version": "1.5.0",
          "state": {
            "_dom_classes": [],
            "_model_module": "@jupyter-widgets/controls",
            "_model_module_version": "1.5.0",
            "_model_name": "HBoxModel",
            "_view_count": null,
            "_view_module": "@jupyter-widgets/controls",
            "_view_module_version": "1.5.0",
            "_view_name": "HBoxView",
            "box_style": "",
            "children": [
              "IPY_MODEL_177697eda6204cc1a309d2b444c807af",
              "IPY_MODEL_3891c73eb5c94a6c962c32b16f68064e",
              "IPY_MODEL_f6fa8b76cf7745b4bcfad07deb2e9e4a"
            ],
            "layout": "IPY_MODEL_e08bc0ca9e3c49d492f190e1c19eaf22"
          }
        },
        "177697eda6204cc1a309d2b444c807af": {
          "model_module": "@jupyter-widgets/controls",
          "model_name": "HTMLModel",
          "model_module_version": "1.5.0",
          "state": {
            "_dom_classes": [],
            "_model_module": "@jupyter-widgets/controls",
            "_model_module_version": "1.5.0",
            "_model_name": "HTMLModel",
            "_view_count": null,
            "_view_module": "@jupyter-widgets/controls",
            "_view_module_version": "1.5.0",
            "_view_name": "HTMLView",
            "description": "",
            "description_tooltip": null,
            "layout": "IPY_MODEL_556b3024f17a48b9baddd7590020df2d",
            "placeholder": "​",
            "style": "IPY_MODEL_010bd429c554429eb259888e37eecb3a",
            "value": "100%"
          }
        },
        "3891c73eb5c94a6c962c32b16f68064e": {
          "model_module": "@jupyter-widgets/controls",
          "model_name": "FloatProgressModel",
          "model_module_version": "1.5.0",
          "state": {
            "_dom_classes": [],
            "_model_module": "@jupyter-widgets/controls",
            "_model_module_version": "1.5.0",
            "_model_name": "FloatProgressModel",
            "_view_count": null,
            "_view_module": "@jupyter-widgets/controls",
            "_view_module_version": "1.5.0",
            "_view_name": "ProgressView",
            "bar_style": "success",
            "description": "",
            "description_tooltip": null,
            "layout": "IPY_MODEL_8cfa4dadfb21465d8ba88d53c15dfec1",
            "max": 43,
            "min": 0,
            "orientation": "horizontal",
            "style": "IPY_MODEL_b53b608ceaf64c4bbc7b57cd23503b32",
            "value": 43
          }
        },
        "f6fa8b76cf7745b4bcfad07deb2e9e4a": {
          "model_module": "@jupyter-widgets/controls",
          "model_name": "HTMLModel",
          "model_module_version": "1.5.0",
          "state": {
            "_dom_classes": [],
            "_model_module": "@jupyter-widgets/controls",
            "_model_module_version": "1.5.0",
            "_model_name": "HTMLModel",
            "_view_count": null,
            "_view_module": "@jupyter-widgets/controls",
            "_view_module_version": "1.5.0",
            "_view_name": "HTMLView",
            "description": "",
            "description_tooltip": null,
            "layout": "IPY_MODEL_909a329d28494de398e2c7c5fa0d7398",
            "placeholder": "​",
            "style": "IPY_MODEL_f1799d8b4cd244c689cbb924223ed6b5",
            "value": " 43/43 [12:39&lt;00:00, 16.07s/ba]"
          }
        },
        "e08bc0ca9e3c49d492f190e1c19eaf22": {
          "model_module": "@jupyter-widgets/base",
          "model_name": "LayoutModel",
          "model_module_version": "1.2.0",
          "state": {
            "_model_module": "@jupyter-widgets/base",
            "_model_module_version": "1.2.0",
            "_model_name": "LayoutModel",
            "_view_count": null,
            "_view_module": "@jupyter-widgets/base",
            "_view_module_version": "1.2.0",
            "_view_name": "LayoutView",
            "align_content": null,
            "align_items": null,
            "align_self": null,
            "border": null,
            "bottom": null,
            "display": null,
            "flex": null,
            "flex_flow": null,
            "grid_area": null,
            "grid_auto_columns": null,
            "grid_auto_flow": null,
            "grid_auto_rows": null,
            "grid_column": null,
            "grid_gap": null,
            "grid_row": null,
            "grid_template_areas": null,
            "grid_template_columns": null,
            "grid_template_rows": null,
            "height": null,
            "justify_content": null,
            "justify_items": null,
            "left": null,
            "margin": null,
            "max_height": null,
            "max_width": null,
            "min_height": null,
            "min_width": null,
            "object_fit": null,
            "object_position": null,
            "order": null,
            "overflow": null,
            "overflow_x": null,
            "overflow_y": null,
            "padding": null,
            "right": null,
            "top": null,
            "visibility": null,
            "width": null
          }
        },
        "556b3024f17a48b9baddd7590020df2d": {
          "model_module": "@jupyter-widgets/base",
          "model_name": "LayoutModel",
          "model_module_version": "1.2.0",
          "state": {
            "_model_module": "@jupyter-widgets/base",
            "_model_module_version": "1.2.0",
            "_model_name": "LayoutModel",
            "_view_count": null,
            "_view_module": "@jupyter-widgets/base",
            "_view_module_version": "1.2.0",
            "_view_name": "LayoutView",
            "align_content": null,
            "align_items": null,
            "align_self": null,
            "border": null,
            "bottom": null,
            "display": null,
            "flex": null,
            "flex_flow": null,
            "grid_area": null,
            "grid_auto_columns": null,
            "grid_auto_flow": null,
            "grid_auto_rows": null,
            "grid_column": null,
            "grid_gap": null,
            "grid_row": null,
            "grid_template_areas": null,
            "grid_template_columns": null,
            "grid_template_rows": null,
            "height": null,
            "justify_content": null,
            "justify_items": null,
            "left": null,
            "margin": null,
            "max_height": null,
            "max_width": null,
            "min_height": null,
            "min_width": null,
            "object_fit": null,
            "object_position": null,
            "order": null,
            "overflow": null,
            "overflow_x": null,
            "overflow_y": null,
            "padding": null,
            "right": null,
            "top": null,
            "visibility": null,
            "width": null
          }
        },
        "010bd429c554429eb259888e37eecb3a": {
          "model_module": "@jupyter-widgets/controls",
          "model_name": "DescriptionStyleModel",
          "model_module_version": "1.5.0",
          "state": {
            "_model_module": "@jupyter-widgets/controls",
            "_model_module_version": "1.5.0",
            "_model_name": "DescriptionStyleModel",
            "_view_count": null,
            "_view_module": "@jupyter-widgets/base",
            "_view_module_version": "1.2.0",
            "_view_name": "StyleView",
            "description_width": ""
          }
        },
        "8cfa4dadfb21465d8ba88d53c15dfec1": {
          "model_module": "@jupyter-widgets/base",
          "model_name": "LayoutModel",
          "model_module_version": "1.2.0",
          "state": {
            "_model_module": "@jupyter-widgets/base",
            "_model_module_version": "1.2.0",
            "_model_name": "LayoutModel",
            "_view_count": null,
            "_view_module": "@jupyter-widgets/base",
            "_view_module_version": "1.2.0",
            "_view_name": "LayoutView",
            "align_content": null,
            "align_items": null,
            "align_self": null,
            "border": null,
            "bottom": null,
            "display": null,
            "flex": null,
            "flex_flow": null,
            "grid_area": null,
            "grid_auto_columns": null,
            "grid_auto_flow": null,
            "grid_auto_rows": null,
            "grid_column": null,
            "grid_gap": null,
            "grid_row": null,
            "grid_template_areas": null,
            "grid_template_columns": null,
            "grid_template_rows": null,
            "height": null,
            "justify_content": null,
            "justify_items": null,
            "left": null,
            "margin": null,
            "max_height": null,
            "max_width": null,
            "min_height": null,
            "min_width": null,
            "object_fit": null,
            "object_position": null,
            "order": null,
            "overflow": null,
            "overflow_x": null,
            "overflow_y": null,
            "padding": null,
            "right": null,
            "top": null,
            "visibility": null,
            "width": null
          }
        },
        "b53b608ceaf64c4bbc7b57cd23503b32": {
          "model_module": "@jupyter-widgets/controls",
          "model_name": "ProgressStyleModel",
          "model_module_version": "1.5.0",
          "state": {
            "_model_module": "@jupyter-widgets/controls",
            "_model_module_version": "1.5.0",
            "_model_name": "ProgressStyleModel",
            "_view_count": null,
            "_view_module": "@jupyter-widgets/base",
            "_view_module_version": "1.2.0",
            "_view_name": "StyleView",
            "bar_color": null,
            "description_width": ""
          }
        },
        "909a329d28494de398e2c7c5fa0d7398": {
          "model_module": "@jupyter-widgets/base",
          "model_name": "LayoutModel",
          "model_module_version": "1.2.0",
          "state": {
            "_model_module": "@jupyter-widgets/base",
            "_model_module_version": "1.2.0",
            "_model_name": "LayoutModel",
            "_view_count": null,
            "_view_module": "@jupyter-widgets/base",
            "_view_module_version": "1.2.0",
            "_view_name": "LayoutView",
            "align_content": null,
            "align_items": null,
            "align_self": null,
            "border": null,
            "bottom": null,
            "display": null,
            "flex": null,
            "flex_flow": null,
            "grid_area": null,
            "grid_auto_columns": null,
            "grid_auto_flow": null,
            "grid_auto_rows": null,
            "grid_column": null,
            "grid_gap": null,
            "grid_row": null,
            "grid_template_areas": null,
            "grid_template_columns": null,
            "grid_template_rows": null,
            "height": null,
            "justify_content": null,
            "justify_items": null,
            "left": null,
            "margin": null,
            "max_height": null,
            "max_width": null,
            "min_height": null,
            "min_width": null,
            "object_fit": null,
            "object_position": null,
            "order": null,
            "overflow": null,
            "overflow_x": null,
            "overflow_y": null,
            "padding": null,
            "right": null,
            "top": null,
            "visibility": null,
            "width": null
          }
        },
        "f1799d8b4cd244c689cbb924223ed6b5": {
          "model_module": "@jupyter-widgets/controls",
          "model_name": "DescriptionStyleModel",
          "model_module_version": "1.5.0",
          "state": {
            "_model_module": "@jupyter-widgets/controls",
            "_model_module_version": "1.5.0",
            "_model_name": "DescriptionStyleModel",
            "_view_count": null,
            "_view_module": "@jupyter-widgets/base",
            "_view_module_version": "1.2.0",
            "_view_name": "StyleView",
            "description_width": ""
          }
        },
        "b5de9e113b4c410bb2a9dddd2957db7c": {
          "model_module": "@jupyter-widgets/controls",
          "model_name": "HBoxModel",
          "model_module_version": "1.5.0",
          "state": {
            "_dom_classes": [],
            "_model_module": "@jupyter-widgets/controls",
            "_model_module_version": "1.5.0",
            "_model_name": "HBoxModel",
            "_view_count": null,
            "_view_module": "@jupyter-widgets/controls",
            "_view_module_version": "1.5.0",
            "_view_name": "HBoxView",
            "box_style": "",
            "children": [
              "IPY_MODEL_d9d9f36e2a2e42f293a42c00ae15ff6e",
              "IPY_MODEL_02425dedb5c042f2a53f980962f99c24",
              "IPY_MODEL_0141ad57415542adbaf2ee8d4338e9d4"
            ],
            "layout": "IPY_MODEL_b67bf5ef60bf42a4a40d9c6b8f583564"
          }
        },
        "d9d9f36e2a2e42f293a42c00ae15ff6e": {
          "model_module": "@jupyter-widgets/controls",
          "model_name": "HTMLModel",
          "model_module_version": "1.5.0",
          "state": {
            "_dom_classes": [],
            "_model_module": "@jupyter-widgets/controls",
            "_model_module_version": "1.5.0",
            "_model_name": "HTMLModel",
            "_view_count": null,
            "_view_module": "@jupyter-widgets/controls",
            "_view_module_version": "1.5.0",
            "_view_name": "HTMLView",
            "description": "",
            "description_tooltip": null,
            "layout": "IPY_MODEL_edfd8578e61b4fc080cbd746964c38d6",
            "placeholder": "​",
            "style": "IPY_MODEL_2c8b38388a32400380dcc2aa6b37b9e1",
            "value": "100%"
          }
        },
        "02425dedb5c042f2a53f980962f99c24": {
          "model_module": "@jupyter-widgets/controls",
          "model_name": "FloatProgressModel",
          "model_module_version": "1.5.0",
          "state": {
            "_dom_classes": [],
            "_model_module": "@jupyter-widgets/controls",
            "_model_module_version": "1.5.0",
            "_model_name": "FloatProgressModel",
            "_view_count": null,
            "_view_module": "@jupyter-widgets/controls",
            "_view_module_version": "1.5.0",
            "_view_name": "ProgressView",
            "bar_style": "success",
            "description": "",
            "description_tooltip": null,
            "layout": "IPY_MODEL_fc1e2f5307fe45bea590268a3d1df978",
            "max": 11,
            "min": 0,
            "orientation": "horizontal",
            "style": "IPY_MODEL_5d737dc31980425fbe13c9afef247064",
            "value": 11
          }
        },
        "0141ad57415542adbaf2ee8d4338e9d4": {
          "model_module": "@jupyter-widgets/controls",
          "model_name": "HTMLModel",
          "model_module_version": "1.5.0",
          "state": {
            "_dom_classes": [],
            "_model_module": "@jupyter-widgets/controls",
            "_model_module_version": "1.5.0",
            "_model_name": "HTMLModel",
            "_view_count": null,
            "_view_module": "@jupyter-widgets/controls",
            "_view_module_version": "1.5.0",
            "_view_name": "HTMLView",
            "description": "",
            "description_tooltip": null,
            "layout": "IPY_MODEL_3a294c010fc949d9843d6aef24322fe0",
            "placeholder": "​",
            "style": "IPY_MODEL_ab18772bb9d6495bb92420a8b96bc38c",
            "value": " 11/11 [03:05&lt;00:00, 16.02s/ba]"
          }
        },
        "b67bf5ef60bf42a4a40d9c6b8f583564": {
          "model_module": "@jupyter-widgets/base",
          "model_name": "LayoutModel",
          "model_module_version": "1.2.0",
          "state": {
            "_model_module": "@jupyter-widgets/base",
            "_model_module_version": "1.2.0",
            "_model_name": "LayoutModel",
            "_view_count": null,
            "_view_module": "@jupyter-widgets/base",
            "_view_module_version": "1.2.0",
            "_view_name": "LayoutView",
            "align_content": null,
            "align_items": null,
            "align_self": null,
            "border": null,
            "bottom": null,
            "display": null,
            "flex": null,
            "flex_flow": null,
            "grid_area": null,
            "grid_auto_columns": null,
            "grid_auto_flow": null,
            "grid_auto_rows": null,
            "grid_column": null,
            "grid_gap": null,
            "grid_row": null,
            "grid_template_areas": null,
            "grid_template_columns": null,
            "grid_template_rows": null,
            "height": null,
            "justify_content": null,
            "justify_items": null,
            "left": null,
            "margin": null,
            "max_height": null,
            "max_width": null,
            "min_height": null,
            "min_width": null,
            "object_fit": null,
            "object_position": null,
            "order": null,
            "overflow": null,
            "overflow_x": null,
            "overflow_y": null,
            "padding": null,
            "right": null,
            "top": null,
            "visibility": null,
            "width": null
          }
        },
        "edfd8578e61b4fc080cbd746964c38d6": {
          "model_module": "@jupyter-widgets/base",
          "model_name": "LayoutModel",
          "model_module_version": "1.2.0",
          "state": {
            "_model_module": "@jupyter-widgets/base",
            "_model_module_version": "1.2.0",
            "_model_name": "LayoutModel",
            "_view_count": null,
            "_view_module": "@jupyter-widgets/base",
            "_view_module_version": "1.2.0",
            "_view_name": "LayoutView",
            "align_content": null,
            "align_items": null,
            "align_self": null,
            "border": null,
            "bottom": null,
            "display": null,
            "flex": null,
            "flex_flow": null,
            "grid_area": null,
            "grid_auto_columns": null,
            "grid_auto_flow": null,
            "grid_auto_rows": null,
            "grid_column": null,
            "grid_gap": null,
            "grid_row": null,
            "grid_template_areas": null,
            "grid_template_columns": null,
            "grid_template_rows": null,
            "height": null,
            "justify_content": null,
            "justify_items": null,
            "left": null,
            "margin": null,
            "max_height": null,
            "max_width": null,
            "min_height": null,
            "min_width": null,
            "object_fit": null,
            "object_position": null,
            "order": null,
            "overflow": null,
            "overflow_x": null,
            "overflow_y": null,
            "padding": null,
            "right": null,
            "top": null,
            "visibility": null,
            "width": null
          }
        },
        "2c8b38388a32400380dcc2aa6b37b9e1": {
          "model_module": "@jupyter-widgets/controls",
          "model_name": "DescriptionStyleModel",
          "model_module_version": "1.5.0",
          "state": {
            "_model_module": "@jupyter-widgets/controls",
            "_model_module_version": "1.5.0",
            "_model_name": "DescriptionStyleModel",
            "_view_count": null,
            "_view_module": "@jupyter-widgets/base",
            "_view_module_version": "1.2.0",
            "_view_name": "StyleView",
            "description_width": ""
          }
        },
        "fc1e2f5307fe45bea590268a3d1df978": {
          "model_module": "@jupyter-widgets/base",
          "model_name": "LayoutModel",
          "model_module_version": "1.2.0",
          "state": {
            "_model_module": "@jupyter-widgets/base",
            "_model_module_version": "1.2.0",
            "_model_name": "LayoutModel",
            "_view_count": null,
            "_view_module": "@jupyter-widgets/base",
            "_view_module_version": "1.2.0",
            "_view_name": "LayoutView",
            "align_content": null,
            "align_items": null,
            "align_self": null,
            "border": null,
            "bottom": null,
            "display": null,
            "flex": null,
            "flex_flow": null,
            "grid_area": null,
            "grid_auto_columns": null,
            "grid_auto_flow": null,
            "grid_auto_rows": null,
            "grid_column": null,
            "grid_gap": null,
            "grid_row": null,
            "grid_template_areas": null,
            "grid_template_columns": null,
            "grid_template_rows": null,
            "height": null,
            "justify_content": null,
            "justify_items": null,
            "left": null,
            "margin": null,
            "max_height": null,
            "max_width": null,
            "min_height": null,
            "min_width": null,
            "object_fit": null,
            "object_position": null,
            "order": null,
            "overflow": null,
            "overflow_x": null,
            "overflow_y": null,
            "padding": null,
            "right": null,
            "top": null,
            "visibility": null,
            "width": null
          }
        },
        "5d737dc31980425fbe13c9afef247064": {
          "model_module": "@jupyter-widgets/controls",
          "model_name": "ProgressStyleModel",
          "model_module_version": "1.5.0",
          "state": {
            "_model_module": "@jupyter-widgets/controls",
            "_model_module_version": "1.5.0",
            "_model_name": "ProgressStyleModel",
            "_view_count": null,
            "_view_module": "@jupyter-widgets/base",
            "_view_module_version": "1.2.0",
            "_view_name": "StyleView",
            "bar_color": null,
            "description_width": ""
          }
        },
        "3a294c010fc949d9843d6aef24322fe0": {
          "model_module": "@jupyter-widgets/base",
          "model_name": "LayoutModel",
          "model_module_version": "1.2.0",
          "state": {
            "_model_module": "@jupyter-widgets/base",
            "_model_module_version": "1.2.0",
            "_model_name": "LayoutModel",
            "_view_count": null,
            "_view_module": "@jupyter-widgets/base",
            "_view_module_version": "1.2.0",
            "_view_name": "LayoutView",
            "align_content": null,
            "align_items": null,
            "align_self": null,
            "border": null,
            "bottom": null,
            "display": null,
            "flex": null,
            "flex_flow": null,
            "grid_area": null,
            "grid_auto_columns": null,
            "grid_auto_flow": null,
            "grid_auto_rows": null,
            "grid_column": null,
            "grid_gap": null,
            "grid_row": null,
            "grid_template_areas": null,
            "grid_template_columns": null,
            "grid_template_rows": null,
            "height": null,
            "justify_content": null,
            "justify_items": null,
            "left": null,
            "margin": null,
            "max_height": null,
            "max_width": null,
            "min_height": null,
            "min_width": null,
            "object_fit": null,
            "object_position": null,
            "order": null,
            "overflow": null,
            "overflow_x": null,
            "overflow_y": null,
            "padding": null,
            "right": null,
            "top": null,
            "visibility": null,
            "width": null
          }
        },
        "ab18772bb9d6495bb92420a8b96bc38c": {
          "model_module": "@jupyter-widgets/controls",
          "model_name": "DescriptionStyleModel",
          "model_module_version": "1.5.0",
          "state": {
            "_model_module": "@jupyter-widgets/controls",
            "_model_module_version": "1.5.0",
            "_model_name": "DescriptionStyleModel",
            "_view_count": null,
            "_view_module": "@jupyter-widgets/base",
            "_view_module_version": "1.2.0",
            "_view_name": "StyleView",
            "description_width": ""
          }
        }
      }
    }
  },
  "nbformat": 4,
  "nbformat_minor": 0
}