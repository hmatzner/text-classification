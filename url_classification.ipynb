{
  "nbformat": 4,
  "nbformat_minor": 0,
  "metadata": {
    "colab": {
      "provenance": []
    },
    "kernelspec": {
      "name": "python3",
      "display_name": "Python 3"
    },
    "language_info": {
      "name": "python"
    },
    "widgets": {
      "application/vnd.jupyter.widget-state+json": {
        "bcf7e3bda50843548185a1ea1fdeca98": {
          "model_module": "@jupyter-widgets/controls",
          "model_name": "HBoxModel",
          "model_module_version": "1.5.0",
          "state": {
            "_dom_classes": [],
            "_model_module": "@jupyter-widgets/controls",
            "_model_module_version": "1.5.0",
            "_model_name": "HBoxModel",
            "_view_count": null,
            "_view_module": "@jupyter-widgets/controls",
            "_view_module_version": "1.5.0",
            "_view_name": "HBoxView",
            "box_style": "",
            "children": [
              "IPY_MODEL_fa5c3bd4e4ff456dbf0ab2f7f54116af",
              "IPY_MODEL_5c100cda2b204d50b48f63e203d47367",
              "IPY_MODEL_a5c3aaee519a40eca7a5ebc97c644fa3"
            ],
            "layout": "IPY_MODEL_d31c2c9b034444789aedc6689cdb9337"
          }
        },
        "fa5c3bd4e4ff456dbf0ab2f7f54116af": {
          "model_module": "@jupyter-widgets/controls",
          "model_name": "HTMLModel",
          "model_module_version": "1.5.0",
          "state": {
            "_dom_classes": [],
            "_model_module": "@jupyter-widgets/controls",
            "_model_module_version": "1.5.0",
            "_model_name": "HTMLModel",
            "_view_count": null,
            "_view_module": "@jupyter-widgets/controls",
            "_view_module_version": "1.5.0",
            "_view_name": "HTMLView",
            "description": "",
            "description_tooltip": null,
            "layout": "IPY_MODEL_f6506486b78843b9bf4363a65b2fd8a6",
            "placeholder": "​",
            "style": "IPY_MODEL_97a6f997ef074659853e459ddf092f3b",
            "value": "Downloading: 100%"
          }
        },
        "5c100cda2b204d50b48f63e203d47367": {
          "model_module": "@jupyter-widgets/controls",
          "model_name": "FloatProgressModel",
          "model_module_version": "1.5.0",
          "state": {
            "_dom_classes": [],
            "_model_module": "@jupyter-widgets/controls",
            "_model_module_version": "1.5.0",
            "_model_name": "FloatProgressModel",
            "_view_count": null,
            "_view_module": "@jupyter-widgets/controls",
            "_view_module_version": "1.5.0",
            "_view_name": "ProgressView",
            "bar_style": "success",
            "description": "",
            "description_tooltip": null,
            "layout": "IPY_MODEL_19b7f362711147c79e8c10456e7ea2d1",
            "max": 28,
            "min": 0,
            "orientation": "horizontal",
            "style": "IPY_MODEL_cb2397f77a244a33a20fdb67945e6ba9",
            "value": 28
          }
        },
        "a5c3aaee519a40eca7a5ebc97c644fa3": {
          "model_module": "@jupyter-widgets/controls",
          "model_name": "HTMLModel",
          "model_module_version": "1.5.0",
          "state": {
            "_dom_classes": [],
            "_model_module": "@jupyter-widgets/controls",
            "_model_module_version": "1.5.0",
            "_model_name": "HTMLModel",
            "_view_count": null,
            "_view_module": "@jupyter-widgets/controls",
            "_view_module_version": "1.5.0",
            "_view_name": "HTMLView",
            "description": "",
            "description_tooltip": null,
            "layout": "IPY_MODEL_6359e88e6b9e4baea4f7ad050219fa3a",
            "placeholder": "​",
            "style": "IPY_MODEL_4497612c98104d1aa0c8168f0e962ef9",
            "value": " 28.0/28.0 [00:00&lt;00:00, 385B/s]"
          }
        },
        "d31c2c9b034444789aedc6689cdb9337": {
          "model_module": "@jupyter-widgets/base",
          "model_name": "LayoutModel",
          "model_module_version": "1.2.0",
          "state": {
            "_model_module": "@jupyter-widgets/base",
            "_model_module_version": "1.2.0",
            "_model_name": "LayoutModel",
            "_view_count": null,
            "_view_module": "@jupyter-widgets/base",
            "_view_module_version": "1.2.0",
            "_view_name": "LayoutView",
            "align_content": null,
            "align_items": null,
            "align_self": null,
            "border": null,
            "bottom": null,
            "display": null,
            "flex": null,
            "flex_flow": null,
            "grid_area": null,
            "grid_auto_columns": null,
            "grid_auto_flow": null,
            "grid_auto_rows": null,
            "grid_column": null,
            "grid_gap": null,
            "grid_row": null,
            "grid_template_areas": null,
            "grid_template_columns": null,
            "grid_template_rows": null,
            "height": null,
            "justify_content": null,
            "justify_items": null,
            "left": null,
            "margin": null,
            "max_height": null,
            "max_width": null,
            "min_height": null,
            "min_width": null,
            "object_fit": null,
            "object_position": null,
            "order": null,
            "overflow": null,
            "overflow_x": null,
            "overflow_y": null,
            "padding": null,
            "right": null,
            "top": null,
            "visibility": null,
            "width": null
          }
        },
        "f6506486b78843b9bf4363a65b2fd8a6": {
          "model_module": "@jupyter-widgets/base",
          "model_name": "LayoutModel",
          "model_module_version": "1.2.0",
          "state": {
            "_model_module": "@jupyter-widgets/base",
            "_model_module_version": "1.2.0",
            "_model_name": "LayoutModel",
            "_view_count": null,
            "_view_module": "@jupyter-widgets/base",
            "_view_module_version": "1.2.0",
            "_view_name": "LayoutView",
            "align_content": null,
            "align_items": null,
            "align_self": null,
            "border": null,
            "bottom": null,
            "display": null,
            "flex": null,
            "flex_flow": null,
            "grid_area": null,
            "grid_auto_columns": null,
            "grid_auto_flow": null,
            "grid_auto_rows": null,
            "grid_column": null,
            "grid_gap": null,
            "grid_row": null,
            "grid_template_areas": null,
            "grid_template_columns": null,
            "grid_template_rows": null,
            "height": null,
            "justify_content": null,
            "justify_items": null,
            "left": null,
            "margin": null,
            "max_height": null,
            "max_width": null,
            "min_height": null,
            "min_width": null,
            "object_fit": null,
            "object_position": null,
            "order": null,
            "overflow": null,
            "overflow_x": null,
            "overflow_y": null,
            "padding": null,
            "right": null,
            "top": null,
            "visibility": null,
            "width": null
          }
        },
        "97a6f997ef074659853e459ddf092f3b": {
          "model_module": "@jupyter-widgets/controls",
          "model_name": "DescriptionStyleModel",
          "model_module_version": "1.5.0",
          "state": {
            "_model_module": "@jupyter-widgets/controls",
            "_model_module_version": "1.5.0",
            "_model_name": "DescriptionStyleModel",
            "_view_count": null,
            "_view_module": "@jupyter-widgets/base",
            "_view_module_version": "1.2.0",
            "_view_name": "StyleView",
            "description_width": ""
          }
        },
        "19b7f362711147c79e8c10456e7ea2d1": {
          "model_module": "@jupyter-widgets/base",
          "model_name": "LayoutModel",
          "model_module_version": "1.2.0",
          "state": {
            "_model_module": "@jupyter-widgets/base",
            "_model_module_version": "1.2.0",
            "_model_name": "LayoutModel",
            "_view_count": null,
            "_view_module": "@jupyter-widgets/base",
            "_view_module_version": "1.2.0",
            "_view_name": "LayoutView",
            "align_content": null,
            "align_items": null,
            "align_self": null,
            "border": null,
            "bottom": null,
            "display": null,
            "flex": null,
            "flex_flow": null,
            "grid_area": null,
            "grid_auto_columns": null,
            "grid_auto_flow": null,
            "grid_auto_rows": null,
            "grid_column": null,
            "grid_gap": null,
            "grid_row": null,
            "grid_template_areas": null,
            "grid_template_columns": null,
            "grid_template_rows": null,
            "height": null,
            "justify_content": null,
            "justify_items": null,
            "left": null,
            "margin": null,
            "max_height": null,
            "max_width": null,
            "min_height": null,
            "min_width": null,
            "object_fit": null,
            "object_position": null,
            "order": null,
            "overflow": null,
            "overflow_x": null,
            "overflow_y": null,
            "padding": null,
            "right": null,
            "top": null,
            "visibility": null,
            "width": null
          }
        },
        "cb2397f77a244a33a20fdb67945e6ba9": {
          "model_module": "@jupyter-widgets/controls",
          "model_name": "ProgressStyleModel",
          "model_module_version": "1.5.0",
          "state": {
            "_model_module": "@jupyter-widgets/controls",
            "_model_module_version": "1.5.0",
            "_model_name": "ProgressStyleModel",
            "_view_count": null,
            "_view_module": "@jupyter-widgets/base",
            "_view_module_version": "1.2.0",
            "_view_name": "StyleView",
            "bar_color": null,
            "description_width": ""
          }
        },
        "6359e88e6b9e4baea4f7ad050219fa3a": {
          "model_module": "@jupyter-widgets/base",
          "model_name": "LayoutModel",
          "model_module_version": "1.2.0",
          "state": {
            "_model_module": "@jupyter-widgets/base",
            "_model_module_version": "1.2.0",
            "_model_name": "LayoutModel",
            "_view_count": null,
            "_view_module": "@jupyter-widgets/base",
            "_view_module_version": "1.2.0",
            "_view_name": "LayoutView",
            "align_content": null,
            "align_items": null,
            "align_self": null,
            "border": null,
            "bottom": null,
            "display": null,
            "flex": null,
            "flex_flow": null,
            "grid_area": null,
            "grid_auto_columns": null,
            "grid_auto_flow": null,
            "grid_auto_rows": null,
            "grid_column": null,
            "grid_gap": null,
            "grid_row": null,
            "grid_template_areas": null,
            "grid_template_columns": null,
            "grid_template_rows": null,
            "height": null,
            "justify_content": null,
            "justify_items": null,
            "left": null,
            "margin": null,
            "max_height": null,
            "max_width": null,
            "min_height": null,
            "min_width": null,
            "object_fit": null,
            "object_position": null,
            "order": null,
            "overflow": null,
            "overflow_x": null,
            "overflow_y": null,
            "padding": null,
            "right": null,
            "top": null,
            "visibility": null,
            "width": null
          }
        },
        "4497612c98104d1aa0c8168f0e962ef9": {
          "model_module": "@jupyter-widgets/controls",
          "model_name": "DescriptionStyleModel",
          "model_module_version": "1.5.0",
          "state": {
            "_model_module": "@jupyter-widgets/controls",
            "_model_module_version": "1.5.0",
            "_model_name": "DescriptionStyleModel",
            "_view_count": null,
            "_view_module": "@jupyter-widgets/base",
            "_view_module_version": "1.2.0",
            "_view_name": "StyleView",
            "description_width": ""
          }
        },
        "7fc911a878d94527be1095add83af27d": {
          "model_module": "@jupyter-widgets/controls",
          "model_name": "HBoxModel",
          "model_module_version": "1.5.0",
          "state": {
            "_dom_classes": [],
            "_model_module": "@jupyter-widgets/controls",
            "_model_module_version": "1.5.0",
            "_model_name": "HBoxModel",
            "_view_count": null,
            "_view_module": "@jupyter-widgets/controls",
            "_view_module_version": "1.5.0",
            "_view_name": "HBoxView",
            "box_style": "",
            "children": [
              "IPY_MODEL_409673b390864aa4b64a4e289b3a17fe",
              "IPY_MODEL_44c20697d9c3438293a227316404ccb2",
              "IPY_MODEL_f72b973703a44bb3b34c0be05cc540aa"
            ],
            "layout": "IPY_MODEL_74af51b0d52b4773877600e9d5386c7b"
          }
        },
        "409673b390864aa4b64a4e289b3a17fe": {
          "model_module": "@jupyter-widgets/controls",
          "model_name": "HTMLModel",
          "model_module_version": "1.5.0",
          "state": {
            "_dom_classes": [],
            "_model_module": "@jupyter-widgets/controls",
            "_model_module_version": "1.5.0",
            "_model_name": "HTMLModel",
            "_view_count": null,
            "_view_module": "@jupyter-widgets/controls",
            "_view_module_version": "1.5.0",
            "_view_name": "HTMLView",
            "description": "",
            "description_tooltip": null,
            "layout": "IPY_MODEL_882413285a454fe99cac9af05b0062d6",
            "placeholder": "​",
            "style": "IPY_MODEL_2ef29e2ff5d34da9870c28b0831baae4",
            "value": "Downloading: 100%"
          }
        },
        "44c20697d9c3438293a227316404ccb2": {
          "model_module": "@jupyter-widgets/controls",
          "model_name": "FloatProgressModel",
          "model_module_version": "1.5.0",
          "state": {
            "_dom_classes": [],
            "_model_module": "@jupyter-widgets/controls",
            "_model_module_version": "1.5.0",
            "_model_name": "FloatProgressModel",
            "_view_count": null,
            "_view_module": "@jupyter-widgets/controls",
            "_view_module_version": "1.5.0",
            "_view_name": "ProgressView",
            "bar_style": "success",
            "description": "",
            "description_tooltip": null,
            "layout": "IPY_MODEL_974b619a5a434e38a1cab16c9f9f74ab",
            "max": 483,
            "min": 0,
            "orientation": "horizontal",
            "style": "IPY_MODEL_5c631518062e458ebd59433a17bd36f3",
            "value": 483
          }
        },
        "f72b973703a44bb3b34c0be05cc540aa": {
          "model_module": "@jupyter-widgets/controls",
          "model_name": "HTMLModel",
          "model_module_version": "1.5.0",
          "state": {
            "_dom_classes": [],
            "_model_module": "@jupyter-widgets/controls",
            "_model_module_version": "1.5.0",
            "_model_name": "HTMLModel",
            "_view_count": null,
            "_view_module": "@jupyter-widgets/controls",
            "_view_module_version": "1.5.0",
            "_view_name": "HTMLView",
            "description": "",
            "description_tooltip": null,
            "layout": "IPY_MODEL_2043cde0036441c59cd68d22abefea5c",
            "placeholder": "​",
            "style": "IPY_MODEL_cc2ae70ae71543d3948f34c4b4f405e1",
            "value": " 483/483 [00:00&lt;00:00, 5.47kB/s]"
          }
        },
        "74af51b0d52b4773877600e9d5386c7b": {
          "model_module": "@jupyter-widgets/base",
          "model_name": "LayoutModel",
          "model_module_version": "1.2.0",
          "state": {
            "_model_module": "@jupyter-widgets/base",
            "_model_module_version": "1.2.0",
            "_model_name": "LayoutModel",
            "_view_count": null,
            "_view_module": "@jupyter-widgets/base",
            "_view_module_version": "1.2.0",
            "_view_name": "LayoutView",
            "align_content": null,
            "align_items": null,
            "align_self": null,
            "border": null,
            "bottom": null,
            "display": null,
            "flex": null,
            "flex_flow": null,
            "grid_area": null,
            "grid_auto_columns": null,
            "grid_auto_flow": null,
            "grid_auto_rows": null,
            "grid_column": null,
            "grid_gap": null,
            "grid_row": null,
            "grid_template_areas": null,
            "grid_template_columns": null,
            "grid_template_rows": null,
            "height": null,
            "justify_content": null,
            "justify_items": null,
            "left": null,
            "margin": null,
            "max_height": null,
            "max_width": null,
            "min_height": null,
            "min_width": null,
            "object_fit": null,
            "object_position": null,
            "order": null,
            "overflow": null,
            "overflow_x": null,
            "overflow_y": null,
            "padding": null,
            "right": null,
            "top": null,
            "visibility": null,
            "width": null
          }
        },
        "882413285a454fe99cac9af05b0062d6": {
          "model_module": "@jupyter-widgets/base",
          "model_name": "LayoutModel",
          "model_module_version": "1.2.0",
          "state": {
            "_model_module": "@jupyter-widgets/base",
            "_model_module_version": "1.2.0",
            "_model_name": "LayoutModel",
            "_view_count": null,
            "_view_module": "@jupyter-widgets/base",
            "_view_module_version": "1.2.0",
            "_view_name": "LayoutView",
            "align_content": null,
            "align_items": null,
            "align_self": null,
            "border": null,
            "bottom": null,
            "display": null,
            "flex": null,
            "flex_flow": null,
            "grid_area": null,
            "grid_auto_columns": null,
            "grid_auto_flow": null,
            "grid_auto_rows": null,
            "grid_column": null,
            "grid_gap": null,
            "grid_row": null,
            "grid_template_areas": null,
            "grid_template_columns": null,
            "grid_template_rows": null,
            "height": null,
            "justify_content": null,
            "justify_items": null,
            "left": null,
            "margin": null,
            "max_height": null,
            "max_width": null,
            "min_height": null,
            "min_width": null,
            "object_fit": null,
            "object_position": null,
            "order": null,
            "overflow": null,
            "overflow_x": null,
            "overflow_y": null,
            "padding": null,
            "right": null,
            "top": null,
            "visibility": null,
            "width": null
          }
        },
        "2ef29e2ff5d34da9870c28b0831baae4": {
          "model_module": "@jupyter-widgets/controls",
          "model_name": "DescriptionStyleModel",
          "model_module_version": "1.5.0",
          "state": {
            "_model_module": "@jupyter-widgets/controls",
            "_model_module_version": "1.5.0",
            "_model_name": "DescriptionStyleModel",
            "_view_count": null,
            "_view_module": "@jupyter-widgets/base",
            "_view_module_version": "1.2.0",
            "_view_name": "StyleView",
            "description_width": ""
          }
        },
        "974b619a5a434e38a1cab16c9f9f74ab": {
          "model_module": "@jupyter-widgets/base",
          "model_name": "LayoutModel",
          "model_module_version": "1.2.0",
          "state": {
            "_model_module": "@jupyter-widgets/base",
            "_model_module_version": "1.2.0",
            "_model_name": "LayoutModel",
            "_view_count": null,
            "_view_module": "@jupyter-widgets/base",
            "_view_module_version": "1.2.0",
            "_view_name": "LayoutView",
            "align_content": null,
            "align_items": null,
            "align_self": null,
            "border": null,
            "bottom": null,
            "display": null,
            "flex": null,
            "flex_flow": null,
            "grid_area": null,
            "grid_auto_columns": null,
            "grid_auto_flow": null,
            "grid_auto_rows": null,
            "grid_column": null,
            "grid_gap": null,
            "grid_row": null,
            "grid_template_areas": null,
            "grid_template_columns": null,
            "grid_template_rows": null,
            "height": null,
            "justify_content": null,
            "justify_items": null,
            "left": null,
            "margin": null,
            "max_height": null,
            "max_width": null,
            "min_height": null,
            "min_width": null,
            "object_fit": null,
            "object_position": null,
            "order": null,
            "overflow": null,
            "overflow_x": null,
            "overflow_y": null,
            "padding": null,
            "right": null,
            "top": null,
            "visibility": null,
            "width": null
          }
        },
        "5c631518062e458ebd59433a17bd36f3": {
          "model_module": "@jupyter-widgets/controls",
          "model_name": "ProgressStyleModel",
          "model_module_version": "1.5.0",
          "state": {
            "_model_module": "@jupyter-widgets/controls",
            "_model_module_version": "1.5.0",
            "_model_name": "ProgressStyleModel",
            "_view_count": null,
            "_view_module": "@jupyter-widgets/base",
            "_view_module_version": "1.2.0",
            "_view_name": "StyleView",
            "bar_color": null,
            "description_width": ""
          }
        },
        "2043cde0036441c59cd68d22abefea5c": {
          "model_module": "@jupyter-widgets/base",
          "model_name": "LayoutModel",
          "model_module_version": "1.2.0",
          "state": {
            "_model_module": "@jupyter-widgets/base",
            "_model_module_version": "1.2.0",
            "_model_name": "LayoutModel",
            "_view_count": null,
            "_view_module": "@jupyter-widgets/base",
            "_view_module_version": "1.2.0",
            "_view_name": "LayoutView",
            "align_content": null,
            "align_items": null,
            "align_self": null,
            "border": null,
            "bottom": null,
            "display": null,
            "flex": null,
            "flex_flow": null,
            "grid_area": null,
            "grid_auto_columns": null,
            "grid_auto_flow": null,
            "grid_auto_rows": null,
            "grid_column": null,
            "grid_gap": null,
            "grid_row": null,
            "grid_template_areas": null,
            "grid_template_columns": null,
            "grid_template_rows": null,
            "height": null,
            "justify_content": null,
            "justify_items": null,
            "left": null,
            "margin": null,
            "max_height": null,
            "max_width": null,
            "min_height": null,
            "min_width": null,
            "object_fit": null,
            "object_position": null,
            "order": null,
            "overflow": null,
            "overflow_x": null,
            "overflow_y": null,
            "padding": null,
            "right": null,
            "top": null,
            "visibility": null,
            "width": null
          }
        },
        "cc2ae70ae71543d3948f34c4b4f405e1": {
          "model_module": "@jupyter-widgets/controls",
          "model_name": "DescriptionStyleModel",
          "model_module_version": "1.5.0",
          "state": {
            "_model_module": "@jupyter-widgets/controls",
            "_model_module_version": "1.5.0",
            "_model_name": "DescriptionStyleModel",
            "_view_count": null,
            "_view_module": "@jupyter-widgets/base",
            "_view_module_version": "1.2.0",
            "_view_name": "StyleView",
            "description_width": ""
          }
        },
        "17defdf6caef4d18bc871eeb05bfeef2": {
          "model_module": "@jupyter-widgets/controls",
          "model_name": "HBoxModel",
          "model_module_version": "1.5.0",
          "state": {
            "_dom_classes": [],
            "_model_module": "@jupyter-widgets/controls",
            "_model_module_version": "1.5.0",
            "_model_name": "HBoxModel",
            "_view_count": null,
            "_view_module": "@jupyter-widgets/controls",
            "_view_module_version": "1.5.0",
            "_view_name": "HBoxView",
            "box_style": "",
            "children": [
              "IPY_MODEL_11fa194ed57a420d9f317d15860fb264",
              "IPY_MODEL_6be779930adb4a1489efc0af869f8d06",
              "IPY_MODEL_15434f15c429468ba25732d2e7ec039c"
            ],
            "layout": "IPY_MODEL_2b9a326302ba4e869623553a26930fd1"
          }
        },
        "11fa194ed57a420d9f317d15860fb264": {
          "model_module": "@jupyter-widgets/controls",
          "model_name": "HTMLModel",
          "model_module_version": "1.5.0",
          "state": {
            "_dom_classes": [],
            "_model_module": "@jupyter-widgets/controls",
            "_model_module_version": "1.5.0",
            "_model_name": "HTMLModel",
            "_view_count": null,
            "_view_module": "@jupyter-widgets/controls",
            "_view_module_version": "1.5.0",
            "_view_name": "HTMLView",
            "description": "",
            "description_tooltip": null,
            "layout": "IPY_MODEL_191e9c06c47341b59f2824694668f02c",
            "placeholder": "​",
            "style": "IPY_MODEL_92b1cabf14d44780898a4f5a5f7bf290",
            "value": "Downloading: 100%"
          }
        },
        "6be779930adb4a1489efc0af869f8d06": {
          "model_module": "@jupyter-widgets/controls",
          "model_name": "FloatProgressModel",
          "model_module_version": "1.5.0",
          "state": {
            "_dom_classes": [],
            "_model_module": "@jupyter-widgets/controls",
            "_model_module_version": "1.5.0",
            "_model_name": "FloatProgressModel",
            "_view_count": null,
            "_view_module": "@jupyter-widgets/controls",
            "_view_module_version": "1.5.0",
            "_view_name": "ProgressView",
            "bar_style": "success",
            "description": "",
            "description_tooltip": null,
            "layout": "IPY_MODEL_f66e47aa9d3440ca9e57d3f588f926eb",
            "max": 231508,
            "min": 0,
            "orientation": "horizontal",
            "style": "IPY_MODEL_3d9417d6e9884f378ab1da12b7b992f7",
            "value": 231508
          }
        },
        "15434f15c429468ba25732d2e7ec039c": {
          "model_module": "@jupyter-widgets/controls",
          "model_name": "HTMLModel",
          "model_module_version": "1.5.0",
          "state": {
            "_dom_classes": [],
            "_model_module": "@jupyter-widgets/controls",
            "_model_module_version": "1.5.0",
            "_model_name": "HTMLModel",
            "_view_count": null,
            "_view_module": "@jupyter-widgets/controls",
            "_view_module_version": "1.5.0",
            "_view_name": "HTMLView",
            "description": "",
            "description_tooltip": null,
            "layout": "IPY_MODEL_d3108c714f0b486e9d074cdc7449933b",
            "placeholder": "​",
            "style": "IPY_MODEL_622dcd97544a41f189d5dbc3b89568a9",
            "value": " 232k/232k [00:00&lt;00:00, 4.36MB/s]"
          }
        },
        "2b9a326302ba4e869623553a26930fd1": {
          "model_module": "@jupyter-widgets/base",
          "model_name": "LayoutModel",
          "model_module_version": "1.2.0",
          "state": {
            "_model_module": "@jupyter-widgets/base",
            "_model_module_version": "1.2.0",
            "_model_name": "LayoutModel",
            "_view_count": null,
            "_view_module": "@jupyter-widgets/base",
            "_view_module_version": "1.2.0",
            "_view_name": "LayoutView",
            "align_content": null,
            "align_items": null,
            "align_self": null,
            "border": null,
            "bottom": null,
            "display": null,
            "flex": null,
            "flex_flow": null,
            "grid_area": null,
            "grid_auto_columns": null,
            "grid_auto_flow": null,
            "grid_auto_rows": null,
            "grid_column": null,
            "grid_gap": null,
            "grid_row": null,
            "grid_template_areas": null,
            "grid_template_columns": null,
            "grid_template_rows": null,
            "height": null,
            "justify_content": null,
            "justify_items": null,
            "left": null,
            "margin": null,
            "max_height": null,
            "max_width": null,
            "min_height": null,
            "min_width": null,
            "object_fit": null,
            "object_position": null,
            "order": null,
            "overflow": null,
            "overflow_x": null,
            "overflow_y": null,
            "padding": null,
            "right": null,
            "top": null,
            "visibility": null,
            "width": null
          }
        },
        "191e9c06c47341b59f2824694668f02c": {
          "model_module": "@jupyter-widgets/base",
          "model_name": "LayoutModel",
          "model_module_version": "1.2.0",
          "state": {
            "_model_module": "@jupyter-widgets/base",
            "_model_module_version": "1.2.0",
            "_model_name": "LayoutModel",
            "_view_count": null,
            "_view_module": "@jupyter-widgets/base",
            "_view_module_version": "1.2.0",
            "_view_name": "LayoutView",
            "align_content": null,
            "align_items": null,
            "align_self": null,
            "border": null,
            "bottom": null,
            "display": null,
            "flex": null,
            "flex_flow": null,
            "grid_area": null,
            "grid_auto_columns": null,
            "grid_auto_flow": null,
            "grid_auto_rows": null,
            "grid_column": null,
            "grid_gap": null,
            "grid_row": null,
            "grid_template_areas": null,
            "grid_template_columns": null,
            "grid_template_rows": null,
            "height": null,
            "justify_content": null,
            "justify_items": null,
            "left": null,
            "margin": null,
            "max_height": null,
            "max_width": null,
            "min_height": null,
            "min_width": null,
            "object_fit": null,
            "object_position": null,
            "order": null,
            "overflow": null,
            "overflow_x": null,
            "overflow_y": null,
            "padding": null,
            "right": null,
            "top": null,
            "visibility": null,
            "width": null
          }
        },
        "92b1cabf14d44780898a4f5a5f7bf290": {
          "model_module": "@jupyter-widgets/controls",
          "model_name": "DescriptionStyleModel",
          "model_module_version": "1.5.0",
          "state": {
            "_model_module": "@jupyter-widgets/controls",
            "_model_module_version": "1.5.0",
            "_model_name": "DescriptionStyleModel",
            "_view_count": null,
            "_view_module": "@jupyter-widgets/base",
            "_view_module_version": "1.2.0",
            "_view_name": "StyleView",
            "description_width": ""
          }
        },
        "f66e47aa9d3440ca9e57d3f588f926eb": {
          "model_module": "@jupyter-widgets/base",
          "model_name": "LayoutModel",
          "model_module_version": "1.2.0",
          "state": {
            "_model_module": "@jupyter-widgets/base",
            "_model_module_version": "1.2.0",
            "_model_name": "LayoutModel",
            "_view_count": null,
            "_view_module": "@jupyter-widgets/base",
            "_view_module_version": "1.2.0",
            "_view_name": "LayoutView",
            "align_content": null,
            "align_items": null,
            "align_self": null,
            "border": null,
            "bottom": null,
            "display": null,
            "flex": null,
            "flex_flow": null,
            "grid_area": null,
            "grid_auto_columns": null,
            "grid_auto_flow": null,
            "grid_auto_rows": null,
            "grid_column": null,
            "grid_gap": null,
            "grid_row": null,
            "grid_template_areas": null,
            "grid_template_columns": null,
            "grid_template_rows": null,
            "height": null,
            "justify_content": null,
            "justify_items": null,
            "left": null,
            "margin": null,
            "max_height": null,
            "max_width": null,
            "min_height": null,
            "min_width": null,
            "object_fit": null,
            "object_position": null,
            "order": null,
            "overflow": null,
            "overflow_x": null,
            "overflow_y": null,
            "padding": null,
            "right": null,
            "top": null,
            "visibility": null,
            "width": null
          }
        },
        "3d9417d6e9884f378ab1da12b7b992f7": {
          "model_module": "@jupyter-widgets/controls",
          "model_name": "ProgressStyleModel",
          "model_module_version": "1.5.0",
          "state": {
            "_model_module": "@jupyter-widgets/controls",
            "_model_module_version": "1.5.0",
            "_model_name": "ProgressStyleModel",
            "_view_count": null,
            "_view_module": "@jupyter-widgets/base",
            "_view_module_version": "1.2.0",
            "_view_name": "StyleView",
            "bar_color": null,
            "description_width": ""
          }
        },
        "d3108c714f0b486e9d074cdc7449933b": {
          "model_module": "@jupyter-widgets/base",
          "model_name": "LayoutModel",
          "model_module_version": "1.2.0",
          "state": {
            "_model_module": "@jupyter-widgets/base",
            "_model_module_version": "1.2.0",
            "_model_name": "LayoutModel",
            "_view_count": null,
            "_view_module": "@jupyter-widgets/base",
            "_view_module_version": "1.2.0",
            "_view_name": "LayoutView",
            "align_content": null,
            "align_items": null,
            "align_self": null,
            "border": null,
            "bottom": null,
            "display": null,
            "flex": null,
            "flex_flow": null,
            "grid_area": null,
            "grid_auto_columns": null,
            "grid_auto_flow": null,
            "grid_auto_rows": null,
            "grid_column": null,
            "grid_gap": null,
            "grid_row": null,
            "grid_template_areas": null,
            "grid_template_columns": null,
            "grid_template_rows": null,
            "height": null,
            "justify_content": null,
            "justify_items": null,
            "left": null,
            "margin": null,
            "max_height": null,
            "max_width": null,
            "min_height": null,
            "min_width": null,
            "object_fit": null,
            "object_position": null,
            "order": null,
            "overflow": null,
            "overflow_x": null,
            "overflow_y": null,
            "padding": null,
            "right": null,
            "top": null,
            "visibility": null,
            "width": null
          }
        },
        "622dcd97544a41f189d5dbc3b89568a9": {
          "model_module": "@jupyter-widgets/controls",
          "model_name": "DescriptionStyleModel",
          "model_module_version": "1.5.0",
          "state": {
            "_model_module": "@jupyter-widgets/controls",
            "_model_module_version": "1.5.0",
            "_model_name": "DescriptionStyleModel",
            "_view_count": null,
            "_view_module": "@jupyter-widgets/base",
            "_view_module_version": "1.2.0",
            "_view_name": "StyleView",
            "description_width": ""
          }
        },
        "33bc5c99716d4023ade76309a7cc6572": {
          "model_module": "@jupyter-widgets/controls",
          "model_name": "HBoxModel",
          "model_module_version": "1.5.0",
          "state": {
            "_dom_classes": [],
            "_model_module": "@jupyter-widgets/controls",
            "_model_module_version": "1.5.0",
            "_model_name": "HBoxModel",
            "_view_count": null,
            "_view_module": "@jupyter-widgets/controls",
            "_view_module_version": "1.5.0",
            "_view_name": "HBoxView",
            "box_style": "",
            "children": [
              "IPY_MODEL_98756a798db24cdeb963ac5c11da1431",
              "IPY_MODEL_ca28c874e6f7446cb611f2fdddcbcabd",
              "IPY_MODEL_6e794e5390984e5a940b75c981028ad8"
            ],
            "layout": "IPY_MODEL_2b37776953b24866b62f685bc5b40fe4"
          }
        },
        "98756a798db24cdeb963ac5c11da1431": {
          "model_module": "@jupyter-widgets/controls",
          "model_name": "HTMLModel",
          "model_module_version": "1.5.0",
          "state": {
            "_dom_classes": [],
            "_model_module": "@jupyter-widgets/controls",
            "_model_module_version": "1.5.0",
            "_model_name": "HTMLModel",
            "_view_count": null,
            "_view_module": "@jupyter-widgets/controls",
            "_view_module_version": "1.5.0",
            "_view_name": "HTMLView",
            "description": "",
            "description_tooltip": null,
            "layout": "IPY_MODEL_36885f0ded364f1db1302e6064268b39",
            "placeholder": "​",
            "style": "IPY_MODEL_14f6e61f5082477bbcd5364f4e475661",
            "value": "Downloading: 100%"
          }
        },
        "ca28c874e6f7446cb611f2fdddcbcabd": {
          "model_module": "@jupyter-widgets/controls",
          "model_name": "FloatProgressModel",
          "model_module_version": "1.5.0",
          "state": {
            "_dom_classes": [],
            "_model_module": "@jupyter-widgets/controls",
            "_model_module_version": "1.5.0",
            "_model_name": "FloatProgressModel",
            "_view_count": null,
            "_view_module": "@jupyter-widgets/controls",
            "_view_module_version": "1.5.0",
            "_view_name": "ProgressView",
            "bar_style": "success",
            "description": "",
            "description_tooltip": null,
            "layout": "IPY_MODEL_005296fb5123400caa71c4116093a823",
            "max": 466062,
            "min": 0,
            "orientation": "horizontal",
            "style": "IPY_MODEL_16729b9c76814693bbfd23697c7cb0ba",
            "value": 466062
          }
        },
        "6e794e5390984e5a940b75c981028ad8": {
          "model_module": "@jupyter-widgets/controls",
          "model_name": "HTMLModel",
          "model_module_version": "1.5.0",
          "state": {
            "_dom_classes": [],
            "_model_module": "@jupyter-widgets/controls",
            "_model_module_version": "1.5.0",
            "_model_name": "HTMLModel",
            "_view_count": null,
            "_view_module": "@jupyter-widgets/controls",
            "_view_module_version": "1.5.0",
            "_view_name": "HTMLView",
            "description": "",
            "description_tooltip": null,
            "layout": "IPY_MODEL_fb61274e59e4492eaa5de3aebc161b02",
            "placeholder": "​",
            "style": "IPY_MODEL_1cae521e76db43fc8fcdd20e5be74a50",
            "value": " 466k/466k [00:00&lt;00:00, 6.72MB/s]"
          }
        },
        "2b37776953b24866b62f685bc5b40fe4": {
          "model_module": "@jupyter-widgets/base",
          "model_name": "LayoutModel",
          "model_module_version": "1.2.0",
          "state": {
            "_model_module": "@jupyter-widgets/base",
            "_model_module_version": "1.2.0",
            "_model_name": "LayoutModel",
            "_view_count": null,
            "_view_module": "@jupyter-widgets/base",
            "_view_module_version": "1.2.0",
            "_view_name": "LayoutView",
            "align_content": null,
            "align_items": null,
            "align_self": null,
            "border": null,
            "bottom": null,
            "display": null,
            "flex": null,
            "flex_flow": null,
            "grid_area": null,
            "grid_auto_columns": null,
            "grid_auto_flow": null,
            "grid_auto_rows": null,
            "grid_column": null,
            "grid_gap": null,
            "grid_row": null,
            "grid_template_areas": null,
            "grid_template_columns": null,
            "grid_template_rows": null,
            "height": null,
            "justify_content": null,
            "justify_items": null,
            "left": null,
            "margin": null,
            "max_height": null,
            "max_width": null,
            "min_height": null,
            "min_width": null,
            "object_fit": null,
            "object_position": null,
            "order": null,
            "overflow": null,
            "overflow_x": null,
            "overflow_y": null,
            "padding": null,
            "right": null,
            "top": null,
            "visibility": null,
            "width": null
          }
        },
        "36885f0ded364f1db1302e6064268b39": {
          "model_module": "@jupyter-widgets/base",
          "model_name": "LayoutModel",
          "model_module_version": "1.2.0",
          "state": {
            "_model_module": "@jupyter-widgets/base",
            "_model_module_version": "1.2.0",
            "_model_name": "LayoutModel",
            "_view_count": null,
            "_view_module": "@jupyter-widgets/base",
            "_view_module_version": "1.2.0",
            "_view_name": "LayoutView",
            "align_content": null,
            "align_items": null,
            "align_self": null,
            "border": null,
            "bottom": null,
            "display": null,
            "flex": null,
            "flex_flow": null,
            "grid_area": null,
            "grid_auto_columns": null,
            "grid_auto_flow": null,
            "grid_auto_rows": null,
            "grid_column": null,
            "grid_gap": null,
            "grid_row": null,
            "grid_template_areas": null,
            "grid_template_columns": null,
            "grid_template_rows": null,
            "height": null,
            "justify_content": null,
            "justify_items": null,
            "left": null,
            "margin": null,
            "max_height": null,
            "max_width": null,
            "min_height": null,
            "min_width": null,
            "object_fit": null,
            "object_position": null,
            "order": null,
            "overflow": null,
            "overflow_x": null,
            "overflow_y": null,
            "padding": null,
            "right": null,
            "top": null,
            "visibility": null,
            "width": null
          }
        },
        "14f6e61f5082477bbcd5364f4e475661": {
          "model_module": "@jupyter-widgets/controls",
          "model_name": "DescriptionStyleModel",
          "model_module_version": "1.5.0",
          "state": {
            "_model_module": "@jupyter-widgets/controls",
            "_model_module_version": "1.5.0",
            "_model_name": "DescriptionStyleModel",
            "_view_count": null,
            "_view_module": "@jupyter-widgets/base",
            "_view_module_version": "1.2.0",
            "_view_name": "StyleView",
            "description_width": ""
          }
        },
        "005296fb5123400caa71c4116093a823": {
          "model_module": "@jupyter-widgets/base",
          "model_name": "LayoutModel",
          "model_module_version": "1.2.0",
          "state": {
            "_model_module": "@jupyter-widgets/base",
            "_model_module_version": "1.2.0",
            "_model_name": "LayoutModel",
            "_view_count": null,
            "_view_module": "@jupyter-widgets/base",
            "_view_module_version": "1.2.0",
            "_view_name": "LayoutView",
            "align_content": null,
            "align_items": null,
            "align_self": null,
            "border": null,
            "bottom": null,
            "display": null,
            "flex": null,
            "flex_flow": null,
            "grid_area": null,
            "grid_auto_columns": null,
            "grid_auto_flow": null,
            "grid_auto_rows": null,
            "grid_column": null,
            "grid_gap": null,
            "grid_row": null,
            "grid_template_areas": null,
            "grid_template_columns": null,
            "grid_template_rows": null,
            "height": null,
            "justify_content": null,
            "justify_items": null,
            "left": null,
            "margin": null,
            "max_height": null,
            "max_width": null,
            "min_height": null,
            "min_width": null,
            "object_fit": null,
            "object_position": null,
            "order": null,
            "overflow": null,
            "overflow_x": null,
            "overflow_y": null,
            "padding": null,
            "right": null,
            "top": null,
            "visibility": null,
            "width": null
          }
        },
        "16729b9c76814693bbfd23697c7cb0ba": {
          "model_module": "@jupyter-widgets/controls",
          "model_name": "ProgressStyleModel",
          "model_module_version": "1.5.0",
          "state": {
            "_model_module": "@jupyter-widgets/controls",
            "_model_module_version": "1.5.0",
            "_model_name": "ProgressStyleModel",
            "_view_count": null,
            "_view_module": "@jupyter-widgets/base",
            "_view_module_version": "1.2.0",
            "_view_name": "StyleView",
            "bar_color": null,
            "description_width": ""
          }
        },
        "fb61274e59e4492eaa5de3aebc161b02": {
          "model_module": "@jupyter-widgets/base",
          "model_name": "LayoutModel",
          "model_module_version": "1.2.0",
          "state": {
            "_model_module": "@jupyter-widgets/base",
            "_model_module_version": "1.2.0",
            "_model_name": "LayoutModel",
            "_view_count": null,
            "_view_module": "@jupyter-widgets/base",
            "_view_module_version": "1.2.0",
            "_view_name": "LayoutView",
            "align_content": null,
            "align_items": null,
            "align_self": null,
            "border": null,
            "bottom": null,
            "display": null,
            "flex": null,
            "flex_flow": null,
            "grid_area": null,
            "grid_auto_columns": null,
            "grid_auto_flow": null,
            "grid_auto_rows": null,
            "grid_column": null,
            "grid_gap": null,
            "grid_row": null,
            "grid_template_areas": null,
            "grid_template_columns": null,
            "grid_template_rows": null,
            "height": null,
            "justify_content": null,
            "justify_items": null,
            "left": null,
            "margin": null,
            "max_height": null,
            "max_width": null,
            "min_height": null,
            "min_width": null,
            "object_fit": null,
            "object_position": null,
            "order": null,
            "overflow": null,
            "overflow_x": null,
            "overflow_y": null,
            "padding": null,
            "right": null,
            "top": null,
            "visibility": null,
            "width": null
          }
        },
        "1cae521e76db43fc8fcdd20e5be74a50": {
          "model_module": "@jupyter-widgets/controls",
          "model_name": "DescriptionStyleModel",
          "model_module_version": "1.5.0",
          "state": {
            "_model_module": "@jupyter-widgets/controls",
            "_model_module_version": "1.5.0",
            "_model_name": "DescriptionStyleModel",
            "_view_count": null,
            "_view_module": "@jupyter-widgets/base",
            "_view_module_version": "1.2.0",
            "_view_name": "StyleView",
            "description_width": ""
          }
        },
        "fc1e1c83a5054d2dada789996b00a6be": {
          "model_module": "@jupyter-widgets/controls",
          "model_name": "HBoxModel",
          "model_module_version": "1.5.0",
          "state": {
            "_dom_classes": [],
            "_model_module": "@jupyter-widgets/controls",
            "_model_module_version": "1.5.0",
            "_model_name": "HBoxModel",
            "_view_count": null,
            "_view_module": "@jupyter-widgets/controls",
            "_view_module_version": "1.5.0",
            "_view_name": "HBoxView",
            "box_style": "",
            "children": [
              "IPY_MODEL_e0b038e66feb4ad2ae048a45b24d82e0",
              "IPY_MODEL_1de27dee2f6645ad81e01c5b5ade0b7c",
              "IPY_MODEL_fe709f2491904d9cb8236e8a76ec4ee2"
            ],
            "layout": "IPY_MODEL_521015ab49a844b88e7278a65d6d423e"
          }
        },
        "e0b038e66feb4ad2ae048a45b24d82e0": {
          "model_module": "@jupyter-widgets/controls",
          "model_name": "HTMLModel",
          "model_module_version": "1.5.0",
          "state": {
            "_dom_classes": [],
            "_model_module": "@jupyter-widgets/controls",
            "_model_module_version": "1.5.0",
            "_model_name": "HTMLModel",
            "_view_count": null,
            "_view_module": "@jupyter-widgets/controls",
            "_view_module_version": "1.5.0",
            "_view_name": "HTMLView",
            "description": "",
            "description_tooltip": null,
            "layout": "IPY_MODEL_2f61022f13d646b59c5d1a9c97e012a4",
            "placeholder": "​",
            "style": "IPY_MODEL_6df69bca59d04a79bc0c1767f0d0594d",
            "value": "100%"
          }
        },
        "1de27dee2f6645ad81e01c5b5ade0b7c": {
          "model_module": "@jupyter-widgets/controls",
          "model_name": "FloatProgressModel",
          "model_module_version": "1.5.0",
          "state": {
            "_dom_classes": [],
            "_model_module": "@jupyter-widgets/controls",
            "_model_module_version": "1.5.0",
            "_model_name": "FloatProgressModel",
            "_view_count": null,
            "_view_module": "@jupyter-widgets/controls",
            "_view_module_version": "1.5.0",
            "_view_name": "ProgressView",
            "bar_style": "success",
            "description": "",
            "description_tooltip": null,
            "layout": "IPY_MODEL_a8437d977a1046068b862a27ed513085",
            "max": 1,
            "min": 0,
            "orientation": "horizontal",
            "style": "IPY_MODEL_d8f692fffa5242e695967a4204431aeb",
            "value": 1
          }
        },
        "fe709f2491904d9cb8236e8a76ec4ee2": {
          "model_module": "@jupyter-widgets/controls",
          "model_name": "HTMLModel",
          "model_module_version": "1.5.0",
          "state": {
            "_dom_classes": [],
            "_model_module": "@jupyter-widgets/controls",
            "_model_module_version": "1.5.0",
            "_model_name": "HTMLModel",
            "_view_count": null,
            "_view_module": "@jupyter-widgets/controls",
            "_view_module_version": "1.5.0",
            "_view_name": "HTMLView",
            "description": "",
            "description_tooltip": null,
            "layout": "IPY_MODEL_93a67407a2234d12a174ce604982915a",
            "placeholder": "​",
            "style": "IPY_MODEL_920810b9e6b3440a91f21441442b0085",
            "value": " 1/1 [00:02&lt;00:00,  2.16s/ba]"
          }
        },
        "521015ab49a844b88e7278a65d6d423e": {
          "model_module": "@jupyter-widgets/base",
          "model_name": "LayoutModel",
          "model_module_version": "1.2.0",
          "state": {
            "_model_module": "@jupyter-widgets/base",
            "_model_module_version": "1.2.0",
            "_model_name": "LayoutModel",
            "_view_count": null,
            "_view_module": "@jupyter-widgets/base",
            "_view_module_version": "1.2.0",
            "_view_name": "LayoutView",
            "align_content": null,
            "align_items": null,
            "align_self": null,
            "border": null,
            "bottom": null,
            "display": null,
            "flex": null,
            "flex_flow": null,
            "grid_area": null,
            "grid_auto_columns": null,
            "grid_auto_flow": null,
            "grid_auto_rows": null,
            "grid_column": null,
            "grid_gap": null,
            "grid_row": null,
            "grid_template_areas": null,
            "grid_template_columns": null,
            "grid_template_rows": null,
            "height": null,
            "justify_content": null,
            "justify_items": null,
            "left": null,
            "margin": null,
            "max_height": null,
            "max_width": null,
            "min_height": null,
            "min_width": null,
            "object_fit": null,
            "object_position": null,
            "order": null,
            "overflow": null,
            "overflow_x": null,
            "overflow_y": null,
            "padding": null,
            "right": null,
            "top": null,
            "visibility": null,
            "width": null
          }
        },
        "2f61022f13d646b59c5d1a9c97e012a4": {
          "model_module": "@jupyter-widgets/base",
          "model_name": "LayoutModel",
          "model_module_version": "1.2.0",
          "state": {
            "_model_module": "@jupyter-widgets/base",
            "_model_module_version": "1.2.0",
            "_model_name": "LayoutModel",
            "_view_count": null,
            "_view_module": "@jupyter-widgets/base",
            "_view_module_version": "1.2.0",
            "_view_name": "LayoutView",
            "align_content": null,
            "align_items": null,
            "align_self": null,
            "border": null,
            "bottom": null,
            "display": null,
            "flex": null,
            "flex_flow": null,
            "grid_area": null,
            "grid_auto_columns": null,
            "grid_auto_flow": null,
            "grid_auto_rows": null,
            "grid_column": null,
            "grid_gap": null,
            "grid_row": null,
            "grid_template_areas": null,
            "grid_template_columns": null,
            "grid_template_rows": null,
            "height": null,
            "justify_content": null,
            "justify_items": null,
            "left": null,
            "margin": null,
            "max_height": null,
            "max_width": null,
            "min_height": null,
            "min_width": null,
            "object_fit": null,
            "object_position": null,
            "order": null,
            "overflow": null,
            "overflow_x": null,
            "overflow_y": null,
            "padding": null,
            "right": null,
            "top": null,
            "visibility": null,
            "width": null
          }
        },
        "6df69bca59d04a79bc0c1767f0d0594d": {
          "model_module": "@jupyter-widgets/controls",
          "model_name": "DescriptionStyleModel",
          "model_module_version": "1.5.0",
          "state": {
            "_model_module": "@jupyter-widgets/controls",
            "_model_module_version": "1.5.0",
            "_model_name": "DescriptionStyleModel",
            "_view_count": null,
            "_view_module": "@jupyter-widgets/base",
            "_view_module_version": "1.2.0",
            "_view_name": "StyleView",
            "description_width": ""
          }
        },
        "a8437d977a1046068b862a27ed513085": {
          "model_module": "@jupyter-widgets/base",
          "model_name": "LayoutModel",
          "model_module_version": "1.2.0",
          "state": {
            "_model_module": "@jupyter-widgets/base",
            "_model_module_version": "1.2.0",
            "_model_name": "LayoutModel",
            "_view_count": null,
            "_view_module": "@jupyter-widgets/base",
            "_view_module_version": "1.2.0",
            "_view_name": "LayoutView",
            "align_content": null,
            "align_items": null,
            "align_self": null,
            "border": null,
            "bottom": null,
            "display": null,
            "flex": null,
            "flex_flow": null,
            "grid_area": null,
            "grid_auto_columns": null,
            "grid_auto_flow": null,
            "grid_auto_rows": null,
            "grid_column": null,
            "grid_gap": null,
            "grid_row": null,
            "grid_template_areas": null,
            "grid_template_columns": null,
            "grid_template_rows": null,
            "height": null,
            "justify_content": null,
            "justify_items": null,
            "left": null,
            "margin": null,
            "max_height": null,
            "max_width": null,
            "min_height": null,
            "min_width": null,
            "object_fit": null,
            "object_position": null,
            "order": null,
            "overflow": null,
            "overflow_x": null,
            "overflow_y": null,
            "padding": null,
            "right": null,
            "top": null,
            "visibility": null,
            "width": null
          }
        },
        "d8f692fffa5242e695967a4204431aeb": {
          "model_module": "@jupyter-widgets/controls",
          "model_name": "ProgressStyleModel",
          "model_module_version": "1.5.0",
          "state": {
            "_model_module": "@jupyter-widgets/controls",
            "_model_module_version": "1.5.0",
            "_model_name": "ProgressStyleModel",
            "_view_count": null,
            "_view_module": "@jupyter-widgets/base",
            "_view_module_version": "1.2.0",
            "_view_name": "StyleView",
            "bar_color": null,
            "description_width": ""
          }
        },
        "93a67407a2234d12a174ce604982915a": {
          "model_module": "@jupyter-widgets/base",
          "model_name": "LayoutModel",
          "model_module_version": "1.2.0",
          "state": {
            "_model_module": "@jupyter-widgets/base",
            "_model_module_version": "1.2.0",
            "_model_name": "LayoutModel",
            "_view_count": null,
            "_view_module": "@jupyter-widgets/base",
            "_view_module_version": "1.2.0",
            "_view_name": "LayoutView",
            "align_content": null,
            "align_items": null,
            "align_self": null,
            "border": null,
            "bottom": null,
            "display": null,
            "flex": null,
            "flex_flow": null,
            "grid_area": null,
            "grid_auto_columns": null,
            "grid_auto_flow": null,
            "grid_auto_rows": null,
            "grid_column": null,
            "grid_gap": null,
            "grid_row": null,
            "grid_template_areas": null,
            "grid_template_columns": null,
            "grid_template_rows": null,
            "height": null,
            "justify_content": null,
            "justify_items": null,
            "left": null,
            "margin": null,
            "max_height": null,
            "max_width": null,
            "min_height": null,
            "min_width": null,
            "object_fit": null,
            "object_position": null,
            "order": null,
            "overflow": null,
            "overflow_x": null,
            "overflow_y": null,
            "padding": null,
            "right": null,
            "top": null,
            "visibility": null,
            "width": null
          }
        },
        "920810b9e6b3440a91f21441442b0085": {
          "model_module": "@jupyter-widgets/controls",
          "model_name": "DescriptionStyleModel",
          "model_module_version": "1.5.0",
          "state": {
            "_model_module": "@jupyter-widgets/controls",
            "_model_module_version": "1.5.0",
            "_model_name": "DescriptionStyleModel",
            "_view_count": null,
            "_view_module": "@jupyter-widgets/base",
            "_view_module_version": "1.2.0",
            "_view_name": "StyleView",
            "description_width": ""
          }
        },
        "a329c1f8134c42c0a86d7d841e632a4d": {
          "model_module": "@jupyter-widgets/controls",
          "model_name": "HBoxModel",
          "model_module_version": "1.5.0",
          "state": {
            "_dom_classes": [],
            "_model_module": "@jupyter-widgets/controls",
            "_model_module_version": "1.5.0",
            "_model_name": "HBoxModel",
            "_view_count": null,
            "_view_module": "@jupyter-widgets/controls",
            "_view_module_version": "1.5.0",
            "_view_name": "HBoxView",
            "box_style": "",
            "children": [
              "IPY_MODEL_c3a8ea1ea2cc4672857deddd12384ddb",
              "IPY_MODEL_e9456e8ff0244e61b32037e69fdb5acf",
              "IPY_MODEL_776711f3bc4e4221b1c1ccb1ec8f508a"
            ],
            "layout": "IPY_MODEL_7b08a4173b584da69f97bd7ba0702fc8"
          }
        },
        "c3a8ea1ea2cc4672857deddd12384ddb": {
          "model_module": "@jupyter-widgets/controls",
          "model_name": "HTMLModel",
          "model_module_version": "1.5.0",
          "state": {
            "_dom_classes": [],
            "_model_module": "@jupyter-widgets/controls",
            "_model_module_version": "1.5.0",
            "_model_name": "HTMLModel",
            "_view_count": null,
            "_view_module": "@jupyter-widgets/controls",
            "_view_module_version": "1.5.0",
            "_view_name": "HTMLView",
            "description": "",
            "description_tooltip": null,
            "layout": "IPY_MODEL_bb203ced5e4242b69e274c4c94cf79b7",
            "placeholder": "​",
            "style": "IPY_MODEL_4e3af9a67e234787b5ca37ef675dcf61",
            "value": "100%"
          }
        },
        "e9456e8ff0244e61b32037e69fdb5acf": {
          "model_module": "@jupyter-widgets/controls",
          "model_name": "FloatProgressModel",
          "model_module_version": "1.5.0",
          "state": {
            "_dom_classes": [],
            "_model_module": "@jupyter-widgets/controls",
            "_model_module_version": "1.5.0",
            "_model_name": "FloatProgressModel",
            "_view_count": null,
            "_view_module": "@jupyter-widgets/controls",
            "_view_module_version": "1.5.0",
            "_view_name": "ProgressView",
            "bar_style": "success",
            "description": "",
            "description_tooltip": null,
            "layout": "IPY_MODEL_d094fb13d9354a0d910b089796f6a1b8",
            "max": 1,
            "min": 0,
            "orientation": "horizontal",
            "style": "IPY_MODEL_795e109c36fd4143ab44b139c8879af4",
            "value": 1
          }
        },
        "776711f3bc4e4221b1c1ccb1ec8f508a": {
          "model_module": "@jupyter-widgets/controls",
          "model_name": "HTMLModel",
          "model_module_version": "1.5.0",
          "state": {
            "_dom_classes": [],
            "_model_module": "@jupyter-widgets/controls",
            "_model_module_version": "1.5.0",
            "_model_name": "HTMLModel",
            "_view_count": null,
            "_view_module": "@jupyter-widgets/controls",
            "_view_module_version": "1.5.0",
            "_view_name": "HTMLView",
            "description": "",
            "description_tooltip": null,
            "layout": "IPY_MODEL_3159d263e94148c0ac849c026eaf0a01",
            "placeholder": "​",
            "style": "IPY_MODEL_998b475d57f644bab0e288235e0b8168",
            "value": " 1/1 [00:00&lt;00:00,  4.65ba/s]"
          }
        },
        "7b08a4173b584da69f97bd7ba0702fc8": {
          "model_module": "@jupyter-widgets/base",
          "model_name": "LayoutModel",
          "model_module_version": "1.2.0",
          "state": {
            "_model_module": "@jupyter-widgets/base",
            "_model_module_version": "1.2.0",
            "_model_name": "LayoutModel",
            "_view_count": null,
            "_view_module": "@jupyter-widgets/base",
            "_view_module_version": "1.2.0",
            "_view_name": "LayoutView",
            "align_content": null,
            "align_items": null,
            "align_self": null,
            "border": null,
            "bottom": null,
            "display": null,
            "flex": null,
            "flex_flow": null,
            "grid_area": null,
            "grid_auto_columns": null,
            "grid_auto_flow": null,
            "grid_auto_rows": null,
            "grid_column": null,
            "grid_gap": null,
            "grid_row": null,
            "grid_template_areas": null,
            "grid_template_columns": null,
            "grid_template_rows": null,
            "height": null,
            "justify_content": null,
            "justify_items": null,
            "left": null,
            "margin": null,
            "max_height": null,
            "max_width": null,
            "min_height": null,
            "min_width": null,
            "object_fit": null,
            "object_position": null,
            "order": null,
            "overflow": null,
            "overflow_x": null,
            "overflow_y": null,
            "padding": null,
            "right": null,
            "top": null,
            "visibility": null,
            "width": null
          }
        },
        "bb203ced5e4242b69e274c4c94cf79b7": {
          "model_module": "@jupyter-widgets/base",
          "model_name": "LayoutModel",
          "model_module_version": "1.2.0",
          "state": {
            "_model_module": "@jupyter-widgets/base",
            "_model_module_version": "1.2.0",
            "_model_name": "LayoutModel",
            "_view_count": null,
            "_view_module": "@jupyter-widgets/base",
            "_view_module_version": "1.2.0",
            "_view_name": "LayoutView",
            "align_content": null,
            "align_items": null,
            "align_self": null,
            "border": null,
            "bottom": null,
            "display": null,
            "flex": null,
            "flex_flow": null,
            "grid_area": null,
            "grid_auto_columns": null,
            "grid_auto_flow": null,
            "grid_auto_rows": null,
            "grid_column": null,
            "grid_gap": null,
            "grid_row": null,
            "grid_template_areas": null,
            "grid_template_columns": null,
            "grid_template_rows": null,
            "height": null,
            "justify_content": null,
            "justify_items": null,
            "left": null,
            "margin": null,
            "max_height": null,
            "max_width": null,
            "min_height": null,
            "min_width": null,
            "object_fit": null,
            "object_position": null,
            "order": null,
            "overflow": null,
            "overflow_x": null,
            "overflow_y": null,
            "padding": null,
            "right": null,
            "top": null,
            "visibility": null,
            "width": null
          }
        },
        "4e3af9a67e234787b5ca37ef675dcf61": {
          "model_module": "@jupyter-widgets/controls",
          "model_name": "DescriptionStyleModel",
          "model_module_version": "1.5.0",
          "state": {
            "_model_module": "@jupyter-widgets/controls",
            "_model_module_version": "1.5.0",
            "_model_name": "DescriptionStyleModel",
            "_view_count": null,
            "_view_module": "@jupyter-widgets/base",
            "_view_module_version": "1.2.0",
            "_view_name": "StyleView",
            "description_width": ""
          }
        },
        "d094fb13d9354a0d910b089796f6a1b8": {
          "model_module": "@jupyter-widgets/base",
          "model_name": "LayoutModel",
          "model_module_version": "1.2.0",
          "state": {
            "_model_module": "@jupyter-widgets/base",
            "_model_module_version": "1.2.0",
            "_model_name": "LayoutModel",
            "_view_count": null,
            "_view_module": "@jupyter-widgets/base",
            "_view_module_version": "1.2.0",
            "_view_name": "LayoutView",
            "align_content": null,
            "align_items": null,
            "align_self": null,
            "border": null,
            "bottom": null,
            "display": null,
            "flex": null,
            "flex_flow": null,
            "grid_area": null,
            "grid_auto_columns": null,
            "grid_auto_flow": null,
            "grid_auto_rows": null,
            "grid_column": null,
            "grid_gap": null,
            "grid_row": null,
            "grid_template_areas": null,
            "grid_template_columns": null,
            "grid_template_rows": null,
            "height": null,
            "justify_content": null,
            "justify_items": null,
            "left": null,
            "margin": null,
            "max_height": null,
            "max_width": null,
            "min_height": null,
            "min_width": null,
            "object_fit": null,
            "object_position": null,
            "order": null,
            "overflow": null,
            "overflow_x": null,
            "overflow_y": null,
            "padding": null,
            "right": null,
            "top": null,
            "visibility": null,
            "width": null
          }
        },
        "795e109c36fd4143ab44b139c8879af4": {
          "model_module": "@jupyter-widgets/controls",
          "model_name": "ProgressStyleModel",
          "model_module_version": "1.5.0",
          "state": {
            "_model_module": "@jupyter-widgets/controls",
            "_model_module_version": "1.5.0",
            "_model_name": "ProgressStyleModel",
            "_view_count": null,
            "_view_module": "@jupyter-widgets/base",
            "_view_module_version": "1.2.0",
            "_view_name": "StyleView",
            "bar_color": null,
            "description_width": ""
          }
        },
        "3159d263e94148c0ac849c026eaf0a01": {
          "model_module": "@jupyter-widgets/base",
          "model_name": "LayoutModel",
          "model_module_version": "1.2.0",
          "state": {
            "_model_module": "@jupyter-widgets/base",
            "_model_module_version": "1.2.0",
            "_model_name": "LayoutModel",
            "_view_count": null,
            "_view_module": "@jupyter-widgets/base",
            "_view_module_version": "1.2.0",
            "_view_name": "LayoutView",
            "align_content": null,
            "align_items": null,
            "align_self": null,
            "border": null,
            "bottom": null,
            "display": null,
            "flex": null,
            "flex_flow": null,
            "grid_area": null,
            "grid_auto_columns": null,
            "grid_auto_flow": null,
            "grid_auto_rows": null,
            "grid_column": null,
            "grid_gap": null,
            "grid_row": null,
            "grid_template_areas": null,
            "grid_template_columns": null,
            "grid_template_rows": null,
            "height": null,
            "justify_content": null,
            "justify_items": null,
            "left": null,
            "margin": null,
            "max_height": null,
            "max_width": null,
            "min_height": null,
            "min_width": null,
            "object_fit": null,
            "object_position": null,
            "order": null,
            "overflow": null,
            "overflow_x": null,
            "overflow_y": null,
            "padding": null,
            "right": null,
            "top": null,
            "visibility": null,
            "width": null
          }
        },
        "998b475d57f644bab0e288235e0b8168": {
          "model_module": "@jupyter-widgets/controls",
          "model_name": "DescriptionStyleModel",
          "model_module_version": "1.5.0",
          "state": {
            "_model_module": "@jupyter-widgets/controls",
            "_model_module_version": "1.5.0",
            "_model_name": "DescriptionStyleModel",
            "_view_count": null,
            "_view_module": "@jupyter-widgets/base",
            "_view_module_version": "1.2.0",
            "_view_name": "StyleView",
            "description_width": ""
          }
        },
        "d4d89a0ebe4d429e8189c9dbacaafdd6": {
          "model_module": "@jupyter-widgets/controls",
          "model_name": "HBoxModel",
          "model_module_version": "1.5.0",
          "state": {
            "_dom_classes": [],
            "_model_module": "@jupyter-widgets/controls",
            "_model_module_version": "1.5.0",
            "_model_name": "HBoxModel",
            "_view_count": null,
            "_view_module": "@jupyter-widgets/controls",
            "_view_module_version": "1.5.0",
            "_view_name": "HBoxView",
            "box_style": "",
            "children": [
              "IPY_MODEL_4bd94425ddee47929a7ff048c0f1bfa5",
              "IPY_MODEL_b006e8b4ab9b4d1c8a3efb0377079778",
              "IPY_MODEL_724a480a8b64485ba3b021950ea83f8d"
            ],
            "layout": "IPY_MODEL_5a6325f9f5804588ace9f0799aa4b1e3"
          }
        },
        "4bd94425ddee47929a7ff048c0f1bfa5": {
          "model_module": "@jupyter-widgets/controls",
          "model_name": "HTMLModel",
          "model_module_version": "1.5.0",
          "state": {
            "_dom_classes": [],
            "_model_module": "@jupyter-widgets/controls",
            "_model_module_version": "1.5.0",
            "_model_name": "HTMLModel",
            "_view_count": null,
            "_view_module": "@jupyter-widgets/controls",
            "_view_module_version": "1.5.0",
            "_view_name": "HTMLView",
            "description": "",
            "description_tooltip": null,
            "layout": "IPY_MODEL_48840b6c8dad43c89a29f975604c8ce1",
            "placeholder": "​",
            "style": "IPY_MODEL_2c160c53bd374894afe02e5d05b24de4",
            "value": "100%"
          }
        },
        "b006e8b4ab9b4d1c8a3efb0377079778": {
          "model_module": "@jupyter-widgets/controls",
          "model_name": "FloatProgressModel",
          "model_module_version": "1.5.0",
          "state": {
            "_dom_classes": [],
            "_model_module": "@jupyter-widgets/controls",
            "_model_module_version": "1.5.0",
            "_model_name": "FloatProgressModel",
            "_view_count": null,
            "_view_module": "@jupyter-widgets/controls",
            "_view_module_version": "1.5.0",
            "_view_name": "ProgressView",
            "bar_style": "success",
            "description": "",
            "description_tooltip": null,
            "layout": "IPY_MODEL_a78b263222524d50ab933beaa51eb16a",
            "max": 1,
            "min": 0,
            "orientation": "horizontal",
            "style": "IPY_MODEL_5e6b8d9fc6a341388dd80a9f99d5fd9a",
            "value": 1
          }
        },
        "724a480a8b64485ba3b021950ea83f8d": {
          "model_module": "@jupyter-widgets/controls",
          "model_name": "HTMLModel",
          "model_module_version": "1.5.0",
          "state": {
            "_dom_classes": [],
            "_model_module": "@jupyter-widgets/controls",
            "_model_module_version": "1.5.0",
            "_model_name": "HTMLModel",
            "_view_count": null,
            "_view_module": "@jupyter-widgets/controls",
            "_view_module_version": "1.5.0",
            "_view_name": "HTMLView",
            "description": "",
            "description_tooltip": null,
            "layout": "IPY_MODEL_f80687f744b941e38eef93a946aa9ebb",
            "placeholder": "​",
            "style": "IPY_MODEL_92c1e55402064a9e835139942526b6a1",
            "value": " 1/1 [00:00&lt;00:00,  3.78ba/s]"
          }
        },
        "5a6325f9f5804588ace9f0799aa4b1e3": {
          "model_module": "@jupyter-widgets/base",
          "model_name": "LayoutModel",
          "model_module_version": "1.2.0",
          "state": {
            "_model_module": "@jupyter-widgets/base",
            "_model_module_version": "1.2.0",
            "_model_name": "LayoutModel",
            "_view_count": null,
            "_view_module": "@jupyter-widgets/base",
            "_view_module_version": "1.2.0",
            "_view_name": "LayoutView",
            "align_content": null,
            "align_items": null,
            "align_self": null,
            "border": null,
            "bottom": null,
            "display": null,
            "flex": null,
            "flex_flow": null,
            "grid_area": null,
            "grid_auto_columns": null,
            "grid_auto_flow": null,
            "grid_auto_rows": null,
            "grid_column": null,
            "grid_gap": null,
            "grid_row": null,
            "grid_template_areas": null,
            "grid_template_columns": null,
            "grid_template_rows": null,
            "height": null,
            "justify_content": null,
            "justify_items": null,
            "left": null,
            "margin": null,
            "max_height": null,
            "max_width": null,
            "min_height": null,
            "min_width": null,
            "object_fit": null,
            "object_position": null,
            "order": null,
            "overflow": null,
            "overflow_x": null,
            "overflow_y": null,
            "padding": null,
            "right": null,
            "top": null,
            "visibility": null,
            "width": null
          }
        },
        "48840b6c8dad43c89a29f975604c8ce1": {
          "model_module": "@jupyter-widgets/base",
          "model_name": "LayoutModel",
          "model_module_version": "1.2.0",
          "state": {
            "_model_module": "@jupyter-widgets/base",
            "_model_module_version": "1.2.0",
            "_model_name": "LayoutModel",
            "_view_count": null,
            "_view_module": "@jupyter-widgets/base",
            "_view_module_version": "1.2.0",
            "_view_name": "LayoutView",
            "align_content": null,
            "align_items": null,
            "align_self": null,
            "border": null,
            "bottom": null,
            "display": null,
            "flex": null,
            "flex_flow": null,
            "grid_area": null,
            "grid_auto_columns": null,
            "grid_auto_flow": null,
            "grid_auto_rows": null,
            "grid_column": null,
            "grid_gap": null,
            "grid_row": null,
            "grid_template_areas": null,
            "grid_template_columns": null,
            "grid_template_rows": null,
            "height": null,
            "justify_content": null,
            "justify_items": null,
            "left": null,
            "margin": null,
            "max_height": null,
            "max_width": null,
            "min_height": null,
            "min_width": null,
            "object_fit": null,
            "object_position": null,
            "order": null,
            "overflow": null,
            "overflow_x": null,
            "overflow_y": null,
            "padding": null,
            "right": null,
            "top": null,
            "visibility": null,
            "width": null
          }
        },
        "2c160c53bd374894afe02e5d05b24de4": {
          "model_module": "@jupyter-widgets/controls",
          "model_name": "DescriptionStyleModel",
          "model_module_version": "1.5.0",
          "state": {
            "_model_module": "@jupyter-widgets/controls",
            "_model_module_version": "1.5.0",
            "_model_name": "DescriptionStyleModel",
            "_view_count": null,
            "_view_module": "@jupyter-widgets/base",
            "_view_module_version": "1.2.0",
            "_view_name": "StyleView",
            "description_width": ""
          }
        },
        "a78b263222524d50ab933beaa51eb16a": {
          "model_module": "@jupyter-widgets/base",
          "model_name": "LayoutModel",
          "model_module_version": "1.2.0",
          "state": {
            "_model_module": "@jupyter-widgets/base",
            "_model_module_version": "1.2.0",
            "_model_name": "LayoutModel",
            "_view_count": null,
            "_view_module": "@jupyter-widgets/base",
            "_view_module_version": "1.2.0",
            "_view_name": "LayoutView",
            "align_content": null,
            "align_items": null,
            "align_self": null,
            "border": null,
            "bottom": null,
            "display": null,
            "flex": null,
            "flex_flow": null,
            "grid_area": null,
            "grid_auto_columns": null,
            "grid_auto_flow": null,
            "grid_auto_rows": null,
            "grid_column": null,
            "grid_gap": null,
            "grid_row": null,
            "grid_template_areas": null,
            "grid_template_columns": null,
            "grid_template_rows": null,
            "height": null,
            "justify_content": null,
            "justify_items": null,
            "left": null,
            "margin": null,
            "max_height": null,
            "max_width": null,
            "min_height": null,
            "min_width": null,
            "object_fit": null,
            "object_position": null,
            "order": null,
            "overflow": null,
            "overflow_x": null,
            "overflow_y": null,
            "padding": null,
            "right": null,
            "top": null,
            "visibility": null,
            "width": null
          }
        },
        "5e6b8d9fc6a341388dd80a9f99d5fd9a": {
          "model_module": "@jupyter-widgets/controls",
          "model_name": "ProgressStyleModel",
          "model_module_version": "1.5.0",
          "state": {
            "_model_module": "@jupyter-widgets/controls",
            "_model_module_version": "1.5.0",
            "_model_name": "ProgressStyleModel",
            "_view_count": null,
            "_view_module": "@jupyter-widgets/base",
            "_view_module_version": "1.2.0",
            "_view_name": "StyleView",
            "bar_color": null,
            "description_width": ""
          }
        },
        "f80687f744b941e38eef93a946aa9ebb": {
          "model_module": "@jupyter-widgets/base",
          "model_name": "LayoutModel",
          "model_module_version": "1.2.0",
          "state": {
            "_model_module": "@jupyter-widgets/base",
            "_model_module_version": "1.2.0",
            "_model_name": "LayoutModel",
            "_view_count": null,
            "_view_module": "@jupyter-widgets/base",
            "_view_module_version": "1.2.0",
            "_view_name": "LayoutView",
            "align_content": null,
            "align_items": null,
            "align_self": null,
            "border": null,
            "bottom": null,
            "display": null,
            "flex": null,
            "flex_flow": null,
            "grid_area": null,
            "grid_auto_columns": null,
            "grid_auto_flow": null,
            "grid_auto_rows": null,
            "grid_column": null,
            "grid_gap": null,
            "grid_row": null,
            "grid_template_areas": null,
            "grid_template_columns": null,
            "grid_template_rows": null,
            "height": null,
            "justify_content": null,
            "justify_items": null,
            "left": null,
            "margin": null,
            "max_height": null,
            "max_width": null,
            "min_height": null,
            "min_width": null,
            "object_fit": null,
            "object_position": null,
            "order": null,
            "overflow": null,
            "overflow_x": null,
            "overflow_y": null,
            "padding": null,
            "right": null,
            "top": null,
            "visibility": null,
            "width": null
          }
        },
        "92c1e55402064a9e835139942526b6a1": {
          "model_module": "@jupyter-widgets/controls",
          "model_name": "DescriptionStyleModel",
          "model_module_version": "1.5.0",
          "state": {
            "_model_module": "@jupyter-widgets/controls",
            "_model_module_version": "1.5.0",
            "_model_name": "DescriptionStyleModel",
            "_view_count": null,
            "_view_module": "@jupyter-widgets/base",
            "_view_module_version": "1.2.0",
            "_view_name": "StyleView",
            "description_width": ""
          }
        },
        "ad10812d4a114798b8ec9c5a0f8125d1": {
          "model_module": "@jupyter-widgets/controls",
          "model_name": "HBoxModel",
          "model_module_version": "1.5.0",
          "state": {
            "_dom_classes": [],
            "_model_module": "@jupyter-widgets/controls",
            "_model_module_version": "1.5.0",
            "_model_name": "HBoxModel",
            "_view_count": null,
            "_view_module": "@jupyter-widgets/controls",
            "_view_module_version": "1.5.0",
            "_view_name": "HBoxView",
            "box_style": "",
            "children": [
              "IPY_MODEL_4dd18ccff30147b9b68bf91f25b33a70",
              "IPY_MODEL_df6355627ac34832b71d0371b7fa7b6e",
              "IPY_MODEL_0923f36103f34095890eb727656ffe5a"
            ],
            "layout": "IPY_MODEL_0f695e7da74e4255ac6195fb075aa3d2"
          }
        },
        "4dd18ccff30147b9b68bf91f25b33a70": {
          "model_module": "@jupyter-widgets/controls",
          "model_name": "HTMLModel",
          "model_module_version": "1.5.0",
          "state": {
            "_dom_classes": [],
            "_model_module": "@jupyter-widgets/controls",
            "_model_module_version": "1.5.0",
            "_model_name": "HTMLModel",
            "_view_count": null,
            "_view_module": "@jupyter-widgets/controls",
            "_view_module_version": "1.5.0",
            "_view_name": "HTMLView",
            "description": "",
            "description_tooltip": null,
            "layout": "IPY_MODEL_7d8e33016b33467aa5cb851fbf03388f",
            "placeholder": "​",
            "style": "IPY_MODEL_e56629789f4946b29d6134ee5c434e8f",
            "value": "Downloading: 100%"
          }
        },
        "df6355627ac34832b71d0371b7fa7b6e": {
          "model_module": "@jupyter-widgets/controls",
          "model_name": "FloatProgressModel",
          "model_module_version": "1.5.0",
          "state": {
            "_dom_classes": [],
            "_model_module": "@jupyter-widgets/controls",
            "_model_module_version": "1.5.0",
            "_model_name": "FloatProgressModel",
            "_view_count": null,
            "_view_module": "@jupyter-widgets/controls",
            "_view_module_version": "1.5.0",
            "_view_name": "ProgressView",
            "bar_style": "success",
            "description": "",
            "description_tooltip": null,
            "layout": "IPY_MODEL_eee19961858a42e0915447e4b21d4b54",
            "max": 363423424,
            "min": 0,
            "orientation": "horizontal",
            "style": "IPY_MODEL_e6eccbd9790f4d0e87dba2b68f6ee962",
            "value": 363423424
          }
        },
        "0923f36103f34095890eb727656ffe5a": {
          "model_module": "@jupyter-widgets/controls",
          "model_name": "HTMLModel",
          "model_module_version": "1.5.0",
          "state": {
            "_dom_classes": [],
            "_model_module": "@jupyter-widgets/controls",
            "_model_module_version": "1.5.0",
            "_model_name": "HTMLModel",
            "_view_count": null,
            "_view_module": "@jupyter-widgets/controls",
            "_view_module_version": "1.5.0",
            "_view_name": "HTMLView",
            "description": "",
            "description_tooltip": null,
            "layout": "IPY_MODEL_638d79c96ea44b47b8a49411adf9cf5c",
            "placeholder": "​",
            "style": "IPY_MODEL_0e5c4a59444f471793f9cb93be3d910a",
            "value": " 363M/363M [00:09&lt;00:00, 49.8MB/s]"
          }
        },
        "0f695e7da74e4255ac6195fb075aa3d2": {
          "model_module": "@jupyter-widgets/base",
          "model_name": "LayoutModel",
          "model_module_version": "1.2.0",
          "state": {
            "_model_module": "@jupyter-widgets/base",
            "_model_module_version": "1.2.0",
            "_model_name": "LayoutModel",
            "_view_count": null,
            "_view_module": "@jupyter-widgets/base",
            "_view_module_version": "1.2.0",
            "_view_name": "LayoutView",
            "align_content": null,
            "align_items": null,
            "align_self": null,
            "border": null,
            "bottom": null,
            "display": null,
            "flex": null,
            "flex_flow": null,
            "grid_area": null,
            "grid_auto_columns": null,
            "grid_auto_flow": null,
            "grid_auto_rows": null,
            "grid_column": null,
            "grid_gap": null,
            "grid_row": null,
            "grid_template_areas": null,
            "grid_template_columns": null,
            "grid_template_rows": null,
            "height": null,
            "justify_content": null,
            "justify_items": null,
            "left": null,
            "margin": null,
            "max_height": null,
            "max_width": null,
            "min_height": null,
            "min_width": null,
            "object_fit": null,
            "object_position": null,
            "order": null,
            "overflow": null,
            "overflow_x": null,
            "overflow_y": null,
            "padding": null,
            "right": null,
            "top": null,
            "visibility": null,
            "width": null
          }
        },
        "7d8e33016b33467aa5cb851fbf03388f": {
          "model_module": "@jupyter-widgets/base",
          "model_name": "LayoutModel",
          "model_module_version": "1.2.0",
          "state": {
            "_model_module": "@jupyter-widgets/base",
            "_model_module_version": "1.2.0",
            "_model_name": "LayoutModel",
            "_view_count": null,
            "_view_module": "@jupyter-widgets/base",
            "_view_module_version": "1.2.0",
            "_view_name": "LayoutView",
            "align_content": null,
            "align_items": null,
            "align_self": null,
            "border": null,
            "bottom": null,
            "display": null,
            "flex": null,
            "flex_flow": null,
            "grid_area": null,
            "grid_auto_columns": null,
            "grid_auto_flow": null,
            "grid_auto_rows": null,
            "grid_column": null,
            "grid_gap": null,
            "grid_row": null,
            "grid_template_areas": null,
            "grid_template_columns": null,
            "grid_template_rows": null,
            "height": null,
            "justify_content": null,
            "justify_items": null,
            "left": null,
            "margin": null,
            "max_height": null,
            "max_width": null,
            "min_height": null,
            "min_width": null,
            "object_fit": null,
            "object_position": null,
            "order": null,
            "overflow": null,
            "overflow_x": null,
            "overflow_y": null,
            "padding": null,
            "right": null,
            "top": null,
            "visibility": null,
            "width": null
          }
        },
        "e56629789f4946b29d6134ee5c434e8f": {
          "model_module": "@jupyter-widgets/controls",
          "model_name": "DescriptionStyleModel",
          "model_module_version": "1.5.0",
          "state": {
            "_model_module": "@jupyter-widgets/controls",
            "_model_module_version": "1.5.0",
            "_model_name": "DescriptionStyleModel",
            "_view_count": null,
            "_view_module": "@jupyter-widgets/base",
            "_view_module_version": "1.2.0",
            "_view_name": "StyleView",
            "description_width": ""
          }
        },
        "eee19961858a42e0915447e4b21d4b54": {
          "model_module": "@jupyter-widgets/base",
          "model_name": "LayoutModel",
          "model_module_version": "1.2.0",
          "state": {
            "_model_module": "@jupyter-widgets/base",
            "_model_module_version": "1.2.0",
            "_model_name": "LayoutModel",
            "_view_count": null,
            "_view_module": "@jupyter-widgets/base",
            "_view_module_version": "1.2.0",
            "_view_name": "LayoutView",
            "align_content": null,
            "align_items": null,
            "align_self": null,
            "border": null,
            "bottom": null,
            "display": null,
            "flex": null,
            "flex_flow": null,
            "grid_area": null,
            "grid_auto_columns": null,
            "grid_auto_flow": null,
            "grid_auto_rows": null,
            "grid_column": null,
            "grid_gap": null,
            "grid_row": null,
            "grid_template_areas": null,
            "grid_template_columns": null,
            "grid_template_rows": null,
            "height": null,
            "justify_content": null,
            "justify_items": null,
            "left": null,
            "margin": null,
            "max_height": null,
            "max_width": null,
            "min_height": null,
            "min_width": null,
            "object_fit": null,
            "object_position": null,
            "order": null,
            "overflow": null,
            "overflow_x": null,
            "overflow_y": null,
            "padding": null,
            "right": null,
            "top": null,
            "visibility": null,
            "width": null
          }
        },
        "e6eccbd9790f4d0e87dba2b68f6ee962": {
          "model_module": "@jupyter-widgets/controls",
          "model_name": "ProgressStyleModel",
          "model_module_version": "1.5.0",
          "state": {
            "_model_module": "@jupyter-widgets/controls",
            "_model_module_version": "1.5.0",
            "_model_name": "ProgressStyleModel",
            "_view_count": null,
            "_view_module": "@jupyter-widgets/base",
            "_view_module_version": "1.2.0",
            "_view_name": "StyleView",
            "bar_color": null,
            "description_width": ""
          }
        },
        "638d79c96ea44b47b8a49411adf9cf5c": {
          "model_module": "@jupyter-widgets/base",
          "model_name": "LayoutModel",
          "model_module_version": "1.2.0",
          "state": {
            "_model_module": "@jupyter-widgets/base",
            "_model_module_version": "1.2.0",
            "_model_name": "LayoutModel",
            "_view_count": null,
            "_view_module": "@jupyter-widgets/base",
            "_view_module_version": "1.2.0",
            "_view_name": "LayoutView",
            "align_content": null,
            "align_items": null,
            "align_self": null,
            "border": null,
            "bottom": null,
            "display": null,
            "flex": null,
            "flex_flow": null,
            "grid_area": null,
            "grid_auto_columns": null,
            "grid_auto_flow": null,
            "grid_auto_rows": null,
            "grid_column": null,
            "grid_gap": null,
            "grid_row": null,
            "grid_template_areas": null,
            "grid_template_columns": null,
            "grid_template_rows": null,
            "height": null,
            "justify_content": null,
            "justify_items": null,
            "left": null,
            "margin": null,
            "max_height": null,
            "max_width": null,
            "min_height": null,
            "min_width": null,
            "object_fit": null,
            "object_position": null,
            "order": null,
            "overflow": null,
            "overflow_x": null,
            "overflow_y": null,
            "padding": null,
            "right": null,
            "top": null,
            "visibility": null,
            "width": null
          }
        },
        "0e5c4a59444f471793f9cb93be3d910a": {
          "model_module": "@jupyter-widgets/controls",
          "model_name": "DescriptionStyleModel",
          "model_module_version": "1.5.0",
          "state": {
            "_model_module": "@jupyter-widgets/controls",
            "_model_module_version": "1.5.0",
            "_model_name": "DescriptionStyleModel",
            "_view_count": null,
            "_view_module": "@jupyter-widgets/base",
            "_view_module_version": "1.2.0",
            "_view_name": "StyleView",
            "description_width": ""
          }
        },
        "d87a47ddbde0452a9149686f9a56115c": {
          "model_module": "@jupyter-widgets/controls",
          "model_name": "HBoxModel",
          "model_module_version": "1.5.0",
          "state": {
            "_dom_classes": [],
            "_model_module": "@jupyter-widgets/controls",
            "_model_module_version": "1.5.0",
            "_model_name": "HBoxModel",
            "_view_count": null,
            "_view_module": "@jupyter-widgets/controls",
            "_view_module_version": "1.5.0",
            "_view_name": "HBoxView",
            "box_style": "",
            "children": [
              "IPY_MODEL_867763251ab84c25bdd4e45f66bb2f68",
              "IPY_MODEL_095ebd3929124f8eabd2c50994261fbf",
              "IPY_MODEL_ab54958516cf436e8238f9b1a4f73b21"
            ],
            "layout": "IPY_MODEL_eddcca2301d74d61895f977d910a03a0"
          }
        },
        "867763251ab84c25bdd4e45f66bb2f68": {
          "model_module": "@jupyter-widgets/controls",
          "model_name": "HTMLModel",
          "model_module_version": "1.5.0",
          "state": {
            "_dom_classes": [],
            "_model_module": "@jupyter-widgets/controls",
            "_model_module_version": "1.5.0",
            "_model_name": "HTMLModel",
            "_view_count": null,
            "_view_module": "@jupyter-widgets/controls",
            "_view_module_version": "1.5.0",
            "_view_name": "HTMLView",
            "description": "",
            "description_tooltip": null,
            "layout": "IPY_MODEL_45ae28743c0c4532b5aedadc2b6f8f84",
            "placeholder": "​",
            "style": "IPY_MODEL_681495cf9a144aa6a6ee2a61d14ff3ab",
            "value": "100%"
          }
        },
        "095ebd3929124f8eabd2c50994261fbf": {
          "model_module": "@jupyter-widgets/controls",
          "model_name": "FloatProgressModel",
          "model_module_version": "1.5.0",
          "state": {
            "_dom_classes": [],
            "_model_module": "@jupyter-widgets/controls",
            "_model_module_version": "1.5.0",
            "_model_name": "FloatProgressModel",
            "_view_count": null,
            "_view_module": "@jupyter-widgets/controls",
            "_view_module_version": "1.5.0",
            "_view_name": "ProgressView",
            "bar_style": "success",
            "description": "",
            "description_tooltip": null,
            "layout": "IPY_MODEL_3fb3afa44f114f529a9c5a4423284b76",
            "max": 1,
            "min": 0,
            "orientation": "horizontal",
            "style": "IPY_MODEL_62523c09d5a540bdb69b5c78401d477a",
            "value": 1
          }
        },
        "ab54958516cf436e8238f9b1a4f73b21": {
          "model_module": "@jupyter-widgets/controls",
          "model_name": "HTMLModel",
          "model_module_version": "1.5.0",
          "state": {
            "_dom_classes": [],
            "_model_module": "@jupyter-widgets/controls",
            "_model_module_version": "1.5.0",
            "_model_name": "HTMLModel",
            "_view_count": null,
            "_view_module": "@jupyter-widgets/controls",
            "_view_module_version": "1.5.0",
            "_view_name": "HTMLView",
            "description": "",
            "description_tooltip": null,
            "layout": "IPY_MODEL_e3ddb9f3be794789921f6f8286a420c3",
            "placeholder": "​",
            "style": "IPY_MODEL_3c0e429dd66f4114bd9593b633c05dc5",
            "value": " 1/1 [02:48&lt;00:00, 168.80s/ba]"
          }
        },
        "eddcca2301d74d61895f977d910a03a0": {
          "model_module": "@jupyter-widgets/base",
          "model_name": "LayoutModel",
          "model_module_version": "1.2.0",
          "state": {
            "_model_module": "@jupyter-widgets/base",
            "_model_module_version": "1.2.0",
            "_model_name": "LayoutModel",
            "_view_count": null,
            "_view_module": "@jupyter-widgets/base",
            "_view_module_version": "1.2.0",
            "_view_name": "LayoutView",
            "align_content": null,
            "align_items": null,
            "align_self": null,
            "border": null,
            "bottom": null,
            "display": null,
            "flex": null,
            "flex_flow": null,
            "grid_area": null,
            "grid_auto_columns": null,
            "grid_auto_flow": null,
            "grid_auto_rows": null,
            "grid_column": null,
            "grid_gap": null,
            "grid_row": null,
            "grid_template_areas": null,
            "grid_template_columns": null,
            "grid_template_rows": null,
            "height": null,
            "justify_content": null,
            "justify_items": null,
            "left": null,
            "margin": null,
            "max_height": null,
            "max_width": null,
            "min_height": null,
            "min_width": null,
            "object_fit": null,
            "object_position": null,
            "order": null,
            "overflow": null,
            "overflow_x": null,
            "overflow_y": null,
            "padding": null,
            "right": null,
            "top": null,
            "visibility": null,
            "width": null
          }
        },
        "45ae28743c0c4532b5aedadc2b6f8f84": {
          "model_module": "@jupyter-widgets/base",
          "model_name": "LayoutModel",
          "model_module_version": "1.2.0",
          "state": {
            "_model_module": "@jupyter-widgets/base",
            "_model_module_version": "1.2.0",
            "_model_name": "LayoutModel",
            "_view_count": null,
            "_view_module": "@jupyter-widgets/base",
            "_view_module_version": "1.2.0",
            "_view_name": "LayoutView",
            "align_content": null,
            "align_items": null,
            "align_self": null,
            "border": null,
            "bottom": null,
            "display": null,
            "flex": null,
            "flex_flow": null,
            "grid_area": null,
            "grid_auto_columns": null,
            "grid_auto_flow": null,
            "grid_auto_rows": null,
            "grid_column": null,
            "grid_gap": null,
            "grid_row": null,
            "grid_template_areas": null,
            "grid_template_columns": null,
            "grid_template_rows": null,
            "height": null,
            "justify_content": null,
            "justify_items": null,
            "left": null,
            "margin": null,
            "max_height": null,
            "max_width": null,
            "min_height": null,
            "min_width": null,
            "object_fit": null,
            "object_position": null,
            "order": null,
            "overflow": null,
            "overflow_x": null,
            "overflow_y": null,
            "padding": null,
            "right": null,
            "top": null,
            "visibility": null,
            "width": null
          }
        },
        "681495cf9a144aa6a6ee2a61d14ff3ab": {
          "model_module": "@jupyter-widgets/controls",
          "model_name": "DescriptionStyleModel",
          "model_module_version": "1.5.0",
          "state": {
            "_model_module": "@jupyter-widgets/controls",
            "_model_module_version": "1.5.0",
            "_model_name": "DescriptionStyleModel",
            "_view_count": null,
            "_view_module": "@jupyter-widgets/base",
            "_view_module_version": "1.2.0",
            "_view_name": "StyleView",
            "description_width": ""
          }
        },
        "3fb3afa44f114f529a9c5a4423284b76": {
          "model_module": "@jupyter-widgets/base",
          "model_name": "LayoutModel",
          "model_module_version": "1.2.0",
          "state": {
            "_model_module": "@jupyter-widgets/base",
            "_model_module_version": "1.2.0",
            "_model_name": "LayoutModel",
            "_view_count": null,
            "_view_module": "@jupyter-widgets/base",
            "_view_module_version": "1.2.0",
            "_view_name": "LayoutView",
            "align_content": null,
            "align_items": null,
            "align_self": null,
            "border": null,
            "bottom": null,
            "display": null,
            "flex": null,
            "flex_flow": null,
            "grid_area": null,
            "grid_auto_columns": null,
            "grid_auto_flow": null,
            "grid_auto_rows": null,
            "grid_column": null,
            "grid_gap": null,
            "grid_row": null,
            "grid_template_areas": null,
            "grid_template_columns": null,
            "grid_template_rows": null,
            "height": null,
            "justify_content": null,
            "justify_items": null,
            "left": null,
            "margin": null,
            "max_height": null,
            "max_width": null,
            "min_height": null,
            "min_width": null,
            "object_fit": null,
            "object_position": null,
            "order": null,
            "overflow": null,
            "overflow_x": null,
            "overflow_y": null,
            "padding": null,
            "right": null,
            "top": null,
            "visibility": null,
            "width": null
          }
        },
        "62523c09d5a540bdb69b5c78401d477a": {
          "model_module": "@jupyter-widgets/controls",
          "model_name": "ProgressStyleModel",
          "model_module_version": "1.5.0",
          "state": {
            "_model_module": "@jupyter-widgets/controls",
            "_model_module_version": "1.5.0",
            "_model_name": "ProgressStyleModel",
            "_view_count": null,
            "_view_module": "@jupyter-widgets/base",
            "_view_module_version": "1.2.0",
            "_view_name": "StyleView",
            "bar_color": null,
            "description_width": ""
          }
        },
        "e3ddb9f3be794789921f6f8286a420c3": {
          "model_module": "@jupyter-widgets/base",
          "model_name": "LayoutModel",
          "model_module_version": "1.2.0",
          "state": {
            "_model_module": "@jupyter-widgets/base",
            "_model_module_version": "1.2.0",
            "_model_name": "LayoutModel",
            "_view_count": null,
            "_view_module": "@jupyter-widgets/base",
            "_view_module_version": "1.2.0",
            "_view_name": "LayoutView",
            "align_content": null,
            "align_items": null,
            "align_self": null,
            "border": null,
            "bottom": null,
            "display": null,
            "flex": null,
            "flex_flow": null,
            "grid_area": null,
            "grid_auto_columns": null,
            "grid_auto_flow": null,
            "grid_auto_rows": null,
            "grid_column": null,
            "grid_gap": null,
            "grid_row": null,
            "grid_template_areas": null,
            "grid_template_columns": null,
            "grid_template_rows": null,
            "height": null,
            "justify_content": null,
            "justify_items": null,
            "left": null,
            "margin": null,
            "max_height": null,
            "max_width": null,
            "min_height": null,
            "min_width": null,
            "object_fit": null,
            "object_position": null,
            "order": null,
            "overflow": null,
            "overflow_x": null,
            "overflow_y": null,
            "padding": null,
            "right": null,
            "top": null,
            "visibility": null,
            "width": null
          }
        },
        "3c0e429dd66f4114bd9593b633c05dc5": {
          "model_module": "@jupyter-widgets/controls",
          "model_name": "DescriptionStyleModel",
          "model_module_version": "1.5.0",
          "state": {
            "_model_module": "@jupyter-widgets/controls",
            "_model_module_version": "1.5.0",
            "_model_name": "DescriptionStyleModel",
            "_view_count": null,
            "_view_module": "@jupyter-widgets/base",
            "_view_module_version": "1.2.0",
            "_view_name": "StyleView",
            "description_width": ""
          }
        },
        "fd7ea0220f3a4d219d38a21880fa6ae2": {
          "model_module": "@jupyter-widgets/controls",
          "model_name": "HBoxModel",
          "model_module_version": "1.5.0",
          "state": {
            "_dom_classes": [],
            "_model_module": "@jupyter-widgets/controls",
            "_model_module_version": "1.5.0",
            "_model_name": "HBoxModel",
            "_view_count": null,
            "_view_module": "@jupyter-widgets/controls",
            "_view_module_version": "1.5.0",
            "_view_name": "HBoxView",
            "box_style": "",
            "children": [
              "IPY_MODEL_68708709ae0e404ba2159a9019bbffe3",
              "IPY_MODEL_84f27678a6d144bd9b4d4bf1fad069e7",
              "IPY_MODEL_1f7536d6425f4ba7924c3bfc368beae6"
            ],
            "layout": "IPY_MODEL_c866f4d762c34e579e5c94ae251c8be1"
          }
        },
        "68708709ae0e404ba2159a9019bbffe3": {
          "model_module": "@jupyter-widgets/controls",
          "model_name": "HTMLModel",
          "model_module_version": "1.5.0",
          "state": {
            "_dom_classes": [],
            "_model_module": "@jupyter-widgets/controls",
            "_model_module_version": "1.5.0",
            "_model_name": "HTMLModel",
            "_view_count": null,
            "_view_module": "@jupyter-widgets/controls",
            "_view_module_version": "1.5.0",
            "_view_name": "HTMLView",
            "description": "",
            "description_tooltip": null,
            "layout": "IPY_MODEL_ea0e036d58b14850b31d7b729a3f1faf",
            "placeholder": "​",
            "style": "IPY_MODEL_4c5500b44aa94ad8bbbfeb31b9a7a39c",
            "value": "100%"
          }
        },
        "84f27678a6d144bd9b4d4bf1fad069e7": {
          "model_module": "@jupyter-widgets/controls",
          "model_name": "FloatProgressModel",
          "model_module_version": "1.5.0",
          "state": {
            "_dom_classes": [],
            "_model_module": "@jupyter-widgets/controls",
            "_model_module_version": "1.5.0",
            "_model_name": "FloatProgressModel",
            "_view_count": null,
            "_view_module": "@jupyter-widgets/controls",
            "_view_module_version": "1.5.0",
            "_view_name": "ProgressView",
            "bar_style": "success",
            "description": "",
            "description_tooltip": null,
            "layout": "IPY_MODEL_e5b9c560c32144c8920fb32acf0bbdbe",
            "max": 1,
            "min": 0,
            "orientation": "horizontal",
            "style": "IPY_MODEL_e7650bbcf7654ac89dc4293ebb2cc59b",
            "value": 1
          }
        },
        "1f7536d6425f4ba7924c3bfc368beae6": {
          "model_module": "@jupyter-widgets/controls",
          "model_name": "HTMLModel",
          "model_module_version": "1.5.0",
          "state": {
            "_dom_classes": [],
            "_model_module": "@jupyter-widgets/controls",
            "_model_module_version": "1.5.0",
            "_model_name": "HTMLModel",
            "_view_count": null,
            "_view_module": "@jupyter-widgets/controls",
            "_view_module_version": "1.5.0",
            "_view_name": "HTMLView",
            "description": "",
            "description_tooltip": null,
            "layout": "IPY_MODEL_b09a97b5c80e42b4b024c0282892f72b",
            "placeholder": "​",
            "style": "IPY_MODEL_d36a88ed1e0e41e4a65cab7070fdcff1",
            "value": " 1/1 [00:35&lt;00:00, 35.03s/ba]"
          }
        },
        "c866f4d762c34e579e5c94ae251c8be1": {
          "model_module": "@jupyter-widgets/base",
          "model_name": "LayoutModel",
          "model_module_version": "1.2.0",
          "state": {
            "_model_module": "@jupyter-widgets/base",
            "_model_module_version": "1.2.0",
            "_model_name": "LayoutModel",
            "_view_count": null,
            "_view_module": "@jupyter-widgets/base",
            "_view_module_version": "1.2.0",
            "_view_name": "LayoutView",
            "align_content": null,
            "align_items": null,
            "align_self": null,
            "border": null,
            "bottom": null,
            "display": null,
            "flex": null,
            "flex_flow": null,
            "grid_area": null,
            "grid_auto_columns": null,
            "grid_auto_flow": null,
            "grid_auto_rows": null,
            "grid_column": null,
            "grid_gap": null,
            "grid_row": null,
            "grid_template_areas": null,
            "grid_template_columns": null,
            "grid_template_rows": null,
            "height": null,
            "justify_content": null,
            "justify_items": null,
            "left": null,
            "margin": null,
            "max_height": null,
            "max_width": null,
            "min_height": null,
            "min_width": null,
            "object_fit": null,
            "object_position": null,
            "order": null,
            "overflow": null,
            "overflow_x": null,
            "overflow_y": null,
            "padding": null,
            "right": null,
            "top": null,
            "visibility": null,
            "width": null
          }
        },
        "ea0e036d58b14850b31d7b729a3f1faf": {
          "model_module": "@jupyter-widgets/base",
          "model_name": "LayoutModel",
          "model_module_version": "1.2.0",
          "state": {
            "_model_module": "@jupyter-widgets/base",
            "_model_module_version": "1.2.0",
            "_model_name": "LayoutModel",
            "_view_count": null,
            "_view_module": "@jupyter-widgets/base",
            "_view_module_version": "1.2.0",
            "_view_name": "LayoutView",
            "align_content": null,
            "align_items": null,
            "align_self": null,
            "border": null,
            "bottom": null,
            "display": null,
            "flex": null,
            "flex_flow": null,
            "grid_area": null,
            "grid_auto_columns": null,
            "grid_auto_flow": null,
            "grid_auto_rows": null,
            "grid_column": null,
            "grid_gap": null,
            "grid_row": null,
            "grid_template_areas": null,
            "grid_template_columns": null,
            "grid_template_rows": null,
            "height": null,
            "justify_content": null,
            "justify_items": null,
            "left": null,
            "margin": null,
            "max_height": null,
            "max_width": null,
            "min_height": null,
            "min_width": null,
            "object_fit": null,
            "object_position": null,
            "order": null,
            "overflow": null,
            "overflow_x": null,
            "overflow_y": null,
            "padding": null,
            "right": null,
            "top": null,
            "visibility": null,
            "width": null
          }
        },
        "4c5500b44aa94ad8bbbfeb31b9a7a39c": {
          "model_module": "@jupyter-widgets/controls",
          "model_name": "DescriptionStyleModel",
          "model_module_version": "1.5.0",
          "state": {
            "_model_module": "@jupyter-widgets/controls",
            "_model_module_version": "1.5.0",
            "_model_name": "DescriptionStyleModel",
            "_view_count": null,
            "_view_module": "@jupyter-widgets/base",
            "_view_module_version": "1.2.0",
            "_view_name": "StyleView",
            "description_width": ""
          }
        },
        "e5b9c560c32144c8920fb32acf0bbdbe": {
          "model_module": "@jupyter-widgets/base",
          "model_name": "LayoutModel",
          "model_module_version": "1.2.0",
          "state": {
            "_model_module": "@jupyter-widgets/base",
            "_model_module_version": "1.2.0",
            "_model_name": "LayoutModel",
            "_view_count": null,
            "_view_module": "@jupyter-widgets/base",
            "_view_module_version": "1.2.0",
            "_view_name": "LayoutView",
            "align_content": null,
            "align_items": null,
            "align_self": null,
            "border": null,
            "bottom": null,
            "display": null,
            "flex": null,
            "flex_flow": null,
            "grid_area": null,
            "grid_auto_columns": null,
            "grid_auto_flow": null,
            "grid_auto_rows": null,
            "grid_column": null,
            "grid_gap": null,
            "grid_row": null,
            "grid_template_areas": null,
            "grid_template_columns": null,
            "grid_template_rows": null,
            "height": null,
            "justify_content": null,
            "justify_items": null,
            "left": null,
            "margin": null,
            "max_height": null,
            "max_width": null,
            "min_height": null,
            "min_width": null,
            "object_fit": null,
            "object_position": null,
            "order": null,
            "overflow": null,
            "overflow_x": null,
            "overflow_y": null,
            "padding": null,
            "right": null,
            "top": null,
            "visibility": null,
            "width": null
          }
        },
        "e7650bbcf7654ac89dc4293ebb2cc59b": {
          "model_module": "@jupyter-widgets/controls",
          "model_name": "ProgressStyleModel",
          "model_module_version": "1.5.0",
          "state": {
            "_model_module": "@jupyter-widgets/controls",
            "_model_module_version": "1.5.0",
            "_model_name": "ProgressStyleModel",
            "_view_count": null,
            "_view_module": "@jupyter-widgets/base",
            "_view_module_version": "1.2.0",
            "_view_name": "StyleView",
            "bar_color": null,
            "description_width": ""
          }
        },
        "b09a97b5c80e42b4b024c0282892f72b": {
          "model_module": "@jupyter-widgets/base",
          "model_name": "LayoutModel",
          "model_module_version": "1.2.0",
          "state": {
            "_model_module": "@jupyter-widgets/base",
            "_model_module_version": "1.2.0",
            "_model_name": "LayoutModel",
            "_view_count": null,
            "_view_module": "@jupyter-widgets/base",
            "_view_module_version": "1.2.0",
            "_view_name": "LayoutView",
            "align_content": null,
            "align_items": null,
            "align_self": null,
            "border": null,
            "bottom": null,
            "display": null,
            "flex": null,
            "flex_flow": null,
            "grid_area": null,
            "grid_auto_columns": null,
            "grid_auto_flow": null,
            "grid_auto_rows": null,
            "grid_column": null,
            "grid_gap": null,
            "grid_row": null,
            "grid_template_areas": null,
            "grid_template_columns": null,
            "grid_template_rows": null,
            "height": null,
            "justify_content": null,
            "justify_items": null,
            "left": null,
            "margin": null,
            "max_height": null,
            "max_width": null,
            "min_height": null,
            "min_width": null,
            "object_fit": null,
            "object_position": null,
            "order": null,
            "overflow": null,
            "overflow_x": null,
            "overflow_y": null,
            "padding": null,
            "right": null,
            "top": null,
            "visibility": null,
            "width": null
          }
        },
        "d36a88ed1e0e41e4a65cab7070fdcff1": {
          "model_module": "@jupyter-widgets/controls",
          "model_name": "DescriptionStyleModel",
          "model_module_version": "1.5.0",
          "state": {
            "_model_module": "@jupyter-widgets/controls",
            "_model_module_version": "1.5.0",
            "_model_name": "DescriptionStyleModel",
            "_view_count": null,
            "_view_module": "@jupyter-widgets/base",
            "_view_module_version": "1.2.0",
            "_view_name": "StyleView",
            "description_width": ""
          }
        },
        "6192d7f2f6f649108b40d396c6a657e4": {
          "model_module": "@jupyter-widgets/controls",
          "model_name": "HBoxModel",
          "model_module_version": "1.5.0",
          "state": {
            "_dom_classes": [],
            "_model_module": "@jupyter-widgets/controls",
            "_model_module_version": "1.5.0",
            "_model_name": "HBoxModel",
            "_view_count": null,
            "_view_module": "@jupyter-widgets/controls",
            "_view_module_version": "1.5.0",
            "_view_name": "HBoxView",
            "box_style": "",
            "children": [
              "IPY_MODEL_f67f140d44a84c79b569acc9ff76534d",
              "IPY_MODEL_e567419b3a864d6ea369886fc4c82779",
              "IPY_MODEL_3775c9bfa0e54a608fe7d4b1520845d6"
            ],
            "layout": "IPY_MODEL_59ee1bd8184f4346829477bdc388fafb"
          }
        },
        "f67f140d44a84c79b569acc9ff76534d": {
          "model_module": "@jupyter-widgets/controls",
          "model_name": "HTMLModel",
          "model_module_version": "1.5.0",
          "state": {
            "_dom_classes": [],
            "_model_module": "@jupyter-widgets/controls",
            "_model_module_version": "1.5.0",
            "_model_name": "HTMLModel",
            "_view_count": null,
            "_view_module": "@jupyter-widgets/controls",
            "_view_module_version": "1.5.0",
            "_view_name": "HTMLView",
            "description": "",
            "description_tooltip": null,
            "layout": "IPY_MODEL_791935c8871a4efcaf661f90e8987e68",
            "placeholder": "​",
            "style": "IPY_MODEL_46497c0e59cf499f93575ba753bd7706",
            "value": "100%"
          }
        },
        "e567419b3a864d6ea369886fc4c82779": {
          "model_module": "@jupyter-widgets/controls",
          "model_name": "FloatProgressModel",
          "model_module_version": "1.5.0",
          "state": {
            "_dom_classes": [],
            "_model_module": "@jupyter-widgets/controls",
            "_model_module_version": "1.5.0",
            "_model_name": "FloatProgressModel",
            "_view_count": null,
            "_view_module": "@jupyter-widgets/controls",
            "_view_module_version": "1.5.0",
            "_view_name": "ProgressView",
            "bar_style": "success",
            "description": "",
            "description_tooltip": null,
            "layout": "IPY_MODEL_dbe56bf61687447681439aee5918f7d4",
            "max": 1,
            "min": 0,
            "orientation": "horizontal",
            "style": "IPY_MODEL_0ac2900bb8f542f1b161966e61bd8521",
            "value": 1
          }
        },
        "3775c9bfa0e54a608fe7d4b1520845d6": {
          "model_module": "@jupyter-widgets/controls",
          "model_name": "HTMLModel",
          "model_module_version": "1.5.0",
          "state": {
            "_dom_classes": [],
            "_model_module": "@jupyter-widgets/controls",
            "_model_module_version": "1.5.0",
            "_model_name": "HTMLModel",
            "_view_count": null,
            "_view_module": "@jupyter-widgets/controls",
            "_view_module_version": "1.5.0",
            "_view_name": "HTMLView",
            "description": "",
            "description_tooltip": null,
            "layout": "IPY_MODEL_c39f544b64f547ba86e38d7bd40c626e",
            "placeholder": "​",
            "style": "IPY_MODEL_56c43811cd0a4edfb38a8c830ae7964c",
            "value": " 1/1 [00:33&lt;00:00, 33.20s/ba]"
          }
        },
        "59ee1bd8184f4346829477bdc388fafb": {
          "model_module": "@jupyter-widgets/base",
          "model_name": "LayoutModel",
          "model_module_version": "1.2.0",
          "state": {
            "_model_module": "@jupyter-widgets/base",
            "_model_module_version": "1.2.0",
            "_model_name": "LayoutModel",
            "_view_count": null,
            "_view_module": "@jupyter-widgets/base",
            "_view_module_version": "1.2.0",
            "_view_name": "LayoutView",
            "align_content": null,
            "align_items": null,
            "align_self": null,
            "border": null,
            "bottom": null,
            "display": null,
            "flex": null,
            "flex_flow": null,
            "grid_area": null,
            "grid_auto_columns": null,
            "grid_auto_flow": null,
            "grid_auto_rows": null,
            "grid_column": null,
            "grid_gap": null,
            "grid_row": null,
            "grid_template_areas": null,
            "grid_template_columns": null,
            "grid_template_rows": null,
            "height": null,
            "justify_content": null,
            "justify_items": null,
            "left": null,
            "margin": null,
            "max_height": null,
            "max_width": null,
            "min_height": null,
            "min_width": null,
            "object_fit": null,
            "object_position": null,
            "order": null,
            "overflow": null,
            "overflow_x": null,
            "overflow_y": null,
            "padding": null,
            "right": null,
            "top": null,
            "visibility": null,
            "width": null
          }
        },
        "791935c8871a4efcaf661f90e8987e68": {
          "model_module": "@jupyter-widgets/base",
          "model_name": "LayoutModel",
          "model_module_version": "1.2.0",
          "state": {
            "_model_module": "@jupyter-widgets/base",
            "_model_module_version": "1.2.0",
            "_model_name": "LayoutModel",
            "_view_count": null,
            "_view_module": "@jupyter-widgets/base",
            "_view_module_version": "1.2.0",
            "_view_name": "LayoutView",
            "align_content": null,
            "align_items": null,
            "align_self": null,
            "border": null,
            "bottom": null,
            "display": null,
            "flex": null,
            "flex_flow": null,
            "grid_area": null,
            "grid_auto_columns": null,
            "grid_auto_flow": null,
            "grid_auto_rows": null,
            "grid_column": null,
            "grid_gap": null,
            "grid_row": null,
            "grid_template_areas": null,
            "grid_template_columns": null,
            "grid_template_rows": null,
            "height": null,
            "justify_content": null,
            "justify_items": null,
            "left": null,
            "margin": null,
            "max_height": null,
            "max_width": null,
            "min_height": null,
            "min_width": null,
            "object_fit": null,
            "object_position": null,
            "order": null,
            "overflow": null,
            "overflow_x": null,
            "overflow_y": null,
            "padding": null,
            "right": null,
            "top": null,
            "visibility": null,
            "width": null
          }
        },
        "46497c0e59cf499f93575ba753bd7706": {
          "model_module": "@jupyter-widgets/controls",
          "model_name": "DescriptionStyleModel",
          "model_module_version": "1.5.0",
          "state": {
            "_model_module": "@jupyter-widgets/controls",
            "_model_module_version": "1.5.0",
            "_model_name": "DescriptionStyleModel",
            "_view_count": null,
            "_view_module": "@jupyter-widgets/base",
            "_view_module_version": "1.2.0",
            "_view_name": "StyleView",
            "description_width": ""
          }
        },
        "dbe56bf61687447681439aee5918f7d4": {
          "model_module": "@jupyter-widgets/base",
          "model_name": "LayoutModel",
          "model_module_version": "1.2.0",
          "state": {
            "_model_module": "@jupyter-widgets/base",
            "_model_module_version": "1.2.0",
            "_model_name": "LayoutModel",
            "_view_count": null,
            "_view_module": "@jupyter-widgets/base",
            "_view_module_version": "1.2.0",
            "_view_name": "LayoutView",
            "align_content": null,
            "align_items": null,
            "align_self": null,
            "border": null,
            "bottom": null,
            "display": null,
            "flex": null,
            "flex_flow": null,
            "grid_area": null,
            "grid_auto_columns": null,
            "grid_auto_flow": null,
            "grid_auto_rows": null,
            "grid_column": null,
            "grid_gap": null,
            "grid_row": null,
            "grid_template_areas": null,
            "grid_template_columns": null,
            "grid_template_rows": null,
            "height": null,
            "justify_content": null,
            "justify_items": null,
            "left": null,
            "margin": null,
            "max_height": null,
            "max_width": null,
            "min_height": null,
            "min_width": null,
            "object_fit": null,
            "object_position": null,
            "order": null,
            "overflow": null,
            "overflow_x": null,
            "overflow_y": null,
            "padding": null,
            "right": null,
            "top": null,
            "visibility": null,
            "width": null
          }
        },
        "0ac2900bb8f542f1b161966e61bd8521": {
          "model_module": "@jupyter-widgets/controls",
          "model_name": "ProgressStyleModel",
          "model_module_version": "1.5.0",
          "state": {
            "_model_module": "@jupyter-widgets/controls",
            "_model_module_version": "1.5.0",
            "_model_name": "ProgressStyleModel",
            "_view_count": null,
            "_view_module": "@jupyter-widgets/base",
            "_view_module_version": "1.2.0",
            "_view_name": "StyleView",
            "bar_color": null,
            "description_width": ""
          }
        },
        "c39f544b64f547ba86e38d7bd40c626e": {
          "model_module": "@jupyter-widgets/base",
          "model_name": "LayoutModel",
          "model_module_version": "1.2.0",
          "state": {
            "_model_module": "@jupyter-widgets/base",
            "_model_module_version": "1.2.0",
            "_model_name": "LayoutModel",
            "_view_count": null,
            "_view_module": "@jupyter-widgets/base",
            "_view_module_version": "1.2.0",
            "_view_name": "LayoutView",
            "align_content": null,
            "align_items": null,
            "align_self": null,
            "border": null,
            "bottom": null,
            "display": null,
            "flex": null,
            "flex_flow": null,
            "grid_area": null,
            "grid_auto_columns": null,
            "grid_auto_flow": null,
            "grid_auto_rows": null,
            "grid_column": null,
            "grid_gap": null,
            "grid_row": null,
            "grid_template_areas": null,
            "grid_template_columns": null,
            "grid_template_rows": null,
            "height": null,
            "justify_content": null,
            "justify_items": null,
            "left": null,
            "margin": null,
            "max_height": null,
            "max_width": null,
            "min_height": null,
            "min_width": null,
            "object_fit": null,
            "object_position": null,
            "order": null,
            "overflow": null,
            "overflow_x": null,
            "overflow_y": null,
            "padding": null,
            "right": null,
            "top": null,
            "visibility": null,
            "width": null
          }
        },
        "56c43811cd0a4edfb38a8c830ae7964c": {
          "model_module": "@jupyter-widgets/controls",
          "model_name": "DescriptionStyleModel",
          "model_module_version": "1.5.0",
          "state": {
            "_model_module": "@jupyter-widgets/controls",
            "_model_module_version": "1.5.0",
            "_model_name": "DescriptionStyleModel",
            "_view_count": null,
            "_view_module": "@jupyter-widgets/base",
            "_view_module_version": "1.2.0",
            "_view_name": "StyleView",
            "description_width": ""
          }
        }
      }
    }
  },
  "cells": [
    {
      "cell_type": "markdown",
      "source": [
        "# 0. Setup"
      ],
      "metadata": {
        "id": "ETBiYhSFxLNt"
      }
    },
    {
      "cell_type": "code",
      "source": [
        "# ! pip install urllib3==1.26.12\n",
        "! pip install urllib3==1.25.11"
      ],
      "metadata": {
        "colab": {
          "base_uri": "https://localhost:8080/"
        },
        "id": "pzEbUNSLW9e1",
        "outputId": "02cc80a4-a329-46fe-81ac-273afd4c5c12"
      },
      "execution_count": 1,
      "outputs": [
        {
          "output_type": "stream",
          "name": "stdout",
          "text": [
            "Looking in indexes: https://pypi.org/simple, https://us-python.pkg.dev/colab-wheels/public/simple/\n",
            "Requirement already satisfied: urllib3==1.25.11 in /usr/local/lib/python3.8/dist-packages (1.25.11)\n"
          ]
        }
      ]
    },
    {
      "cell_type": "code",
      "execution_count": 2,
      "metadata": {
        "id": "-QLU-43EwevJ",
        "colab": {
          "base_uri": "https://localhost:8080/"
        },
        "outputId": "b95080e7-dcdf-40f3-dfbe-6f2c2be5f0a6"
      },
      "outputs": [
        {
          "output_type": "stream",
          "name": "stdout",
          "text": [
            "Looking in indexes: https://pypi.org/simple, https://us-python.pkg.dev/colab-wheels/public/simple/\n",
            "Requirement already satisfied: transformers in /usr/local/lib/python3.8/dist-packages (4.25.1)\n",
            "Requirement already satisfied: newspaper3k in /usr/local/lib/python3.8/dist-packages (0.2.8)\n",
            "Requirement already satisfied: huggingface-hub<1.0,>=0.10.0 in /usr/local/lib/python3.8/dist-packages (from transformers) (0.11.1)\n",
            "Requirement already satisfied: numpy>=1.17 in /usr/local/lib/python3.8/dist-packages (from transformers) (1.21.6)\n",
            "Requirement already satisfied: tqdm>=4.27 in /usr/local/lib/python3.8/dist-packages (from transformers) (4.64.1)\n",
            "Requirement already satisfied: packaging>=20.0 in /usr/local/lib/python3.8/dist-packages (from transformers) (21.3)\n",
            "Requirement already satisfied: pyyaml>=5.1 in /usr/local/lib/python3.8/dist-packages (from transformers) (6.0)\n",
            "Requirement already satisfied: requests in /usr/local/lib/python3.8/dist-packages (from transformers) (2.23.0)\n",
            "Requirement already satisfied: regex!=2019.12.17 in /usr/local/lib/python3.8/dist-packages (from transformers) (2022.6.2)\n",
            "Requirement already satisfied: tokenizers!=0.11.3,<0.14,>=0.11.1 in /usr/local/lib/python3.8/dist-packages (from transformers) (0.13.2)\n",
            "Requirement already satisfied: filelock in /usr/local/lib/python3.8/dist-packages (from transformers) (3.8.0)\n",
            "Requirement already satisfied: typing-extensions>=3.7.4.3 in /usr/local/lib/python3.8/dist-packages (from huggingface-hub<1.0,>=0.10.0->transformers) (4.4.0)\n",
            "Requirement already satisfied: pyparsing!=3.0.5,>=2.0.2 in /usr/local/lib/python3.8/dist-packages (from packaging>=20.0->transformers) (3.0.9)\n",
            "Requirement already satisfied: tldextract>=2.0.1 in /usr/local/lib/python3.8/dist-packages (from newspaper3k) (3.4.0)\n",
            "Requirement already satisfied: lxml>=3.6.0 in /usr/local/lib/python3.8/dist-packages (from newspaper3k) (4.9.1)\n",
            "Requirement already satisfied: beautifulsoup4>=4.4.1 in /usr/local/lib/python3.8/dist-packages (from newspaper3k) (4.6.3)\n",
            "Requirement already satisfied: nltk>=3.2.1 in /usr/local/lib/python3.8/dist-packages (from newspaper3k) (3.7)\n",
            "Requirement already satisfied: jieba3k>=0.35.1 in /usr/local/lib/python3.8/dist-packages (from newspaper3k) (0.35.1)\n",
            "Requirement already satisfied: python-dateutil>=2.5.3 in /usr/local/lib/python3.8/dist-packages (from newspaper3k) (2.8.2)\n",
            "Requirement already satisfied: feedfinder2>=0.0.4 in /usr/local/lib/python3.8/dist-packages (from newspaper3k) (0.0.4)\n",
            "Requirement already satisfied: Pillow>=3.3.0 in /usr/local/lib/python3.8/dist-packages (from newspaper3k) (7.1.2)\n",
            "Requirement already satisfied: tinysegmenter==0.3 in /usr/local/lib/python3.8/dist-packages (from newspaper3k) (0.3)\n",
            "Requirement already satisfied: cssselect>=0.9.2 in /usr/local/lib/python3.8/dist-packages (from newspaper3k) (1.2.0)\n",
            "Requirement already satisfied: feedparser>=5.2.1 in /usr/local/lib/python3.8/dist-packages (from newspaper3k) (6.0.10)\n",
            "Requirement already satisfied: six in /usr/local/lib/python3.8/dist-packages (from feedfinder2>=0.0.4->newspaper3k) (1.15.0)\n",
            "Requirement already satisfied: sgmllib3k in /usr/local/lib/python3.8/dist-packages (from feedparser>=5.2.1->newspaper3k) (1.0.0)\n",
            "Requirement already satisfied: click in /usr/local/lib/python3.8/dist-packages (from nltk>=3.2.1->newspaper3k) (7.1.2)\n",
            "Requirement already satisfied: joblib in /usr/local/lib/python3.8/dist-packages (from nltk>=3.2.1->newspaper3k) (1.2.0)\n",
            "Requirement already satisfied: chardet<4,>=3.0.2 in /usr/local/lib/python3.8/dist-packages (from requests->transformers) (3.0.4)\n",
            "Requirement already satisfied: urllib3!=1.25.0,!=1.25.1,<1.26,>=1.21.1 in /usr/local/lib/python3.8/dist-packages (from requests->transformers) (1.25.11)\n",
            "Requirement already satisfied: certifi>=2017.4.17 in /usr/local/lib/python3.8/dist-packages (from requests->transformers) (2022.9.24)\n",
            "Requirement already satisfied: idna<3,>=2.5 in /usr/local/lib/python3.8/dist-packages (from requests->transformers) (2.10)\n",
            "Requirement already satisfied: requests-file>=1.4 in /usr/local/lib/python3.8/dist-packages (from tldextract>=2.0.1->newspaper3k) (1.5.1)\n"
          ]
        }
      ],
      "source": [
        "! pip install transformers newspaper3k"
      ]
    },
    {
      "cell_type": "code",
      "source": [
        "import urllib3\n",
        "urllib3.__version__"
      ],
      "metadata": {
        "colab": {
          "base_uri": "https://localhost:8080/",
          "height": 35
        },
        "id": "MYqmtC1gWpJ6",
        "outputId": "e22cc8e8-9718-4bed-ccd5-4b423193fa20"
      },
      "execution_count": 3,
      "outputs": [
        {
          "output_type": "execute_result",
          "data": {
            "text/plain": [
              "'1.25.11'"
            ],
            "application/vnd.google.colaboratory.intrinsic+json": {
              "type": "string"
            }
          },
          "metadata": {},
          "execution_count": 3
        }
      ]
    },
    {
      "cell_type": "code",
      "source": [
        "import os\n",
        "import re\n",
        "import pandas as pd\n",
        "import numpy as np\n",
        "import matplotlib.pyplot as plt\n",
        "from tqdm import tqdm\n",
        "from newspaper import Article\n",
        "from collections import Counter\n",
        "from sklearn.model_selection import train_test_split\n",
        "from sklearn.preprocessing import OneHotEncoder, OrdinalEncoder\n",
        "from sklearn.feature_extraction.text import CountVectorizer, TfidfVectorizer\n",
        "from sklearn.linear_model import LogisticRegression\n",
        "from sklearn.svm import SVC\n",
        "from sklearn.ensemble import RandomForestClassifier\n",
        "from sklearn.neighbors import KNeighborsClassifier\n",
        "from sklearn.naive_bayes import MultinomialNB\n",
        "from sklearn.model_selection import GridSearchCV\n",
        "from sklearn.metrics import ConfusionMatrixDisplay\n",
        "from sklearn.metrics import classification_report\n",
        "from sklearn.metrics import roc_auc_score\n",
        "from sklearn.model_selection import StratifiedKFold\n",
        "from sklearn.model_selection import cross_val_score\n",
        "from transformers import pipeline\n",
        "from nltk.tokenize import word_tokenize\n",
        "from nltk.stem.porter import *\n",
        "from nltk.corpus import stopwords\n",
        "import nltk\n",
        "nltk.download('punkt')\n",
        "nltk.download('stopwords')"
      ],
      "metadata": {
        "colab": {
          "base_uri": "https://localhost:8080/"
        },
        "id": "GNOP_xBSwpM9",
        "outputId": "18491211-7944-46d4-faa2-c23d8e818bb2"
      },
      "execution_count": 4,
      "outputs": [
        {
          "output_type": "stream",
          "name": "stderr",
          "text": [
            "[nltk_data] Downloading package punkt to /root/nltk_data...\n",
            "[nltk_data]   Package punkt is already up-to-date!\n",
            "[nltk_data] Downloading package stopwords to /root/nltk_data...\n",
            "[nltk_data]   Package stopwords is already up-to-date!\n"
          ]
        },
        {
          "output_type": "execute_result",
          "data": {
            "text/plain": [
              "True"
            ]
          },
          "metadata": {},
          "execution_count": 4
        }
      ]
    },
    {
      "cell_type": "code",
      "source": [
        "from google.colab import drive\n",
        "drive.mount('/content/drive', force_remount=True)"
      ],
      "metadata": {
        "id": "eXRjeKlWwsL9",
        "colab": {
          "base_uri": "https://localhost:8080/"
        },
        "outputId": "8bf973f9-299d-4769-c2cd-fd81a67cd65f"
      },
      "execution_count": 5,
      "outputs": [
        {
          "output_type": "stream",
          "name": "stdout",
          "text": [
            "Mounted at /content/drive\n"
          ]
        }
      ]
    },
    {
      "cell_type": "code",
      "source": [
        "MAIN_FOLDER = '/content/drive/MyDrive/url_classification/'\n",
        "HTML_FOLDER = MAIN_FOLDER + 'html_files_Nov-24-2022/'\n",
        "os.chdir(MAIN_FOLDER)"
      ],
      "metadata": {
        "id": "yDXkNQiWwvNc"
      },
      "execution_count": 6,
      "outputs": []
    },
    {
      "cell_type": "markdown",
      "source": [
        "# 0.5 General preprocessing"
      ],
      "metadata": {
        "id": "O1e9tg4WLjTE"
      }
    },
    {
      "cell_type": "code",
      "source": [
        "import spacy\n",
        "# ! python -m spacy download en_core_web_sm"
      ],
      "metadata": {
        "colab": {
          "base_uri": "https://localhost:8080/"
        },
        "id": "MtnN0_f6dgum",
        "outputId": "c0586e7f-0322-4b1a-da26-35c368b4a71f"
      },
      "execution_count": 7,
      "outputs": [
        {
          "output_type": "stream",
          "name": "stderr",
          "text": [
            "/usr/local/lib/python3.8/dist-packages/torch/cuda/__init__.py:497: UserWarning: Can't initialize NVML\n",
            "  warnings.warn(\"Can't initialize NVML\")\n"
          ]
        }
      ]
    },
    {
      "cell_type": "code",
      "source": [
        "import spacy"
      ],
      "metadata": {
        "id": "wR9tLF6rFgoQ"
      },
      "execution_count": 8,
      "outputs": []
    },
    {
      "cell_type": "code",
      "source": [
        "TARGET = 'label'\n",
        "TEXT = 'text'\n",
        "STOPWORDS = set(stopwords.words('english'))\n",
        "nlp = spacy.load('en_core_web_sm')"
      ],
      "metadata": {
        "id": "yjrwhtCawyPC"
      },
      "execution_count": 9,
      "outputs": []
    },
    {
      "cell_type": "code",
      "source": [
        "# Constants that will disappear when transitioning to functions:\n",
        "# Cell 1\n",
        "html_folder = HTML_FOLDER\n",
        "# Cell 2\n",
        "csv_path = 'url_classification_temporary481.csv'\n",
        "usecols = ['File Name', 'Label']"
      ],
      "metadata": {
        "id": "9z0GPcPMyKH8"
      },
      "execution_count": 10,
      "outputs": []
    },
    {
      "cell_type": "code",
      "source": [
        "# Important cell # 1\n",
        "html_files = os.listdir(html_folder)"
      ],
      "metadata": {
        "id": "WmL38EDmw010"
      },
      "execution_count": 11,
      "outputs": []
    },
    {
      "cell_type": "code",
      "source": [
        "# Important cell # 2\n",
        "\n",
        "df = pd.read_csv(csv_path, usecols=usecols)\n",
        "df.rename(columns={usecols[0]: 'filename', usecols[1]: 'label'}, inplace=True)\n",
        "df = df[~df['filename'].isna()]\n",
        "print(f'Original shape: {df.shape}')\n",
        "df = df[df['label'] != '-']\n",
        "df.reset_index(drop=True, inplace=True)\n",
        "print(f'Final shape: {df.shape}')"
      ],
      "metadata": {
        "id": "hwDprEpnxbjn",
        "colab": {
          "base_uri": "https://localhost:8080/"
        },
        "outputId": "b6bdc18d-e699-4fad-9d02-487eeb138b2e"
      },
      "execution_count": 12,
      "outputs": [
        {
          "output_type": "stream",
          "name": "stdout",
          "text": [
            "Original shape: (480, 2)\n",
            "Final shape: (410, 2)\n"
          ]
        }
      ]
    },
    {
      "cell_type": "code",
      "source": [
        "# Important cell # 3\n",
        "df[TARGET].value_counts(normalize=False)"
      ],
      "metadata": {
        "id": "dVNIK1Woysxl",
        "colab": {
          "base_uri": "https://localhost:8080/"
        },
        "outputId": "eea3f70d-036d-4f8c-e241-ccad41e815e8"
      },
      "execution_count": 13,
      "outputs": [
        {
          "output_type": "execute_result",
          "data": {
            "text/plain": [
              "Home Page        143\n",
              "Blog              79\n",
              "MISC              74\n",
              "Product Page      41\n",
              "Article           32\n",
              "Event             15\n",
              "White Paper       12\n",
              "Education          6\n",
              "?                  3\n",
              "Press Release      2\n",
              "Video Content      1\n",
              "About Page         1\n",
              "Publication        1\n",
              "Name: label, dtype: int64"
            ]
          },
          "metadata": {},
          "execution_count": 13
        }
      ]
    },
    {
      "cell_type": "code",
      "source": [
        "# Important cell # 4\n",
        "filenames = df['filename'].values\n",
        "htmls = list()\n",
        "\n",
        "for i, filename in enumerate(filenames):\n",
        "  try:\n",
        "    with open(f'{HTML_FOLDER}{filename}') as f:\n",
        "      html = f.read()\n",
        "      htmls.append(html)\n",
        "  except FileNotFoundError:\n",
        "    print(f'File {i} not found: \"{filename}\"')"
      ],
      "metadata": {
        "id": "9ZTbA0dAy6ro"
      },
      "execution_count": 14,
      "outputs": []
    },
    {
      "cell_type": "code",
      "source": [
        "# Important cell # 5\n",
        "toi_articles = list()\n",
        "\n",
        "for html in htmls:\n",
        "  toi_article = Article(url = ' ', language = \"en\")\n",
        "  toi_article.set_html(html)\n",
        "  toi_article.parse()\n",
        "  toi_article.nlp()\n",
        "  toi_articles.append(toi_article)"
      ],
      "metadata": {
        "id": "gJaab-K1zYiK"
      },
      "execution_count": 15,
      "outputs": []
    },
    {
      "cell_type": "code",
      "source": [
        "# Important cell # 6\n",
        "y = df[TARGET].tolist()"
      ],
      "metadata": {
        "id": "2c3an8110IRS"
      },
      "execution_count": 16,
      "outputs": []
    },
    {
      "cell_type": "code",
      "source": [
        "# Important cell # 7\n",
        "summaries = [(toi_article.title + '. ' + toi_article.text).replace('\\n', ' ') for toi_article in toi_articles]"
      ],
      "metadata": {
        "id": "4_1z6sdX0Ouh"
      },
      "execution_count": 17,
      "outputs": []
    },
    {
      "cell_type": "code",
      "source": [
        "len(y), len(summaries)"
      ],
      "metadata": {
        "id": "OgBKazGq24_W",
        "colab": {
          "base_uri": "https://localhost:8080/"
        },
        "outputId": "d0703f73-e1da-4f35-dfaf-94044c7312f7"
      },
      "execution_count": 18,
      "outputs": [
        {
          "output_type": "execute_result",
          "data": {
            "text/plain": [
              "(410, 410)"
            ]
          },
          "metadata": {},
          "execution_count": 18
        }
      ]
    },
    {
      "cell_type": "code",
      "source": [
        "# Cell 8\n",
        "minimum_words = 30 \n",
        "maximum_classes = 4\n",
        "\n",
        "# Important cell # 8\n",
        "df_text = pd.DataFrame({TEXT: summaries, TARGET: y})\n",
        "\n",
        "if minimum_words:\n",
        "  df_text = df_text[df_text[TEXT].str.split().str.len() > minimum_words]\n",
        "\n",
        "if maximum_classes:\n",
        "  relevant_labels = df_text[TARGET].value_counts()[:maximum_classes].index\n",
        "  df_text = df_text[df_text[TARGET].isin(relevant_labels)] # this is to erase all classes after 'maximum_classes'\n",
        "  # df_text.loc[~df_text[TARGET].isin(relevant_labels), TARGET] = 'MISC' # this is to not erase them, but change their value to 'MISC'\n",
        "\n",
        "df_text.reset_index(drop=True, inplace=True)"
      ],
      "metadata": {
        "id": "xw-rz_bJ0bGT"
      },
      "execution_count": 19,
      "outputs": []
    },
    {
      "cell_type": "code",
      "source": [
        "df_text[TARGET].value_counts()"
      ],
      "metadata": {
        "colab": {
          "base_uri": "https://localhost:8080/"
        },
        "id": "0uxDzCrp4CL-",
        "outputId": "bf3ad0ee-cf94-4385-f211-d58a6aa18adc"
      },
      "execution_count": 20,
      "outputs": [
        {
          "output_type": "execute_result",
          "data": {
            "text/plain": [
              "Home Page       114\n",
              "Blog             79\n",
              "MISC             64\n",
              "Product Page     41\n",
              "Name: label, dtype: int64"
            ]
          },
          "metadata": {},
          "execution_count": 20
        }
      ]
    },
    {
      "cell_type": "code",
      "source": [
        "df_text"
      ],
      "metadata": {
        "id": "UW5qXkQu07TV",
        "colab": {
          "base_uri": "https://localhost:8080/",
          "height": 424
        },
        "outputId": "eb9d9c7f-b582-495a-f4d9-f99428b6406a"
      },
      "execution_count": 21,
      "outputs": [
        {
          "output_type": "execute_result",
          "data": {
            "text/plain": [
              "                                                  text      label\n",
              "0    Write For Us. Want to Write for Us?  Digital L...       MISC\n",
              "1    Write for Us. Yes, you. We’re always looking f...       MISC\n",
              "2    FAQs for some new features available in the Be...       Blog\n",
              "3    The Web Credibility Project. Our research in W...  Home Page\n",
              "4    Model DJs for Retail. DJPeoples is the nation’...       MISC\n",
              "..                                                 ...        ...\n",
              "293  Geniuz Media. The USPS is undoubtedly one of t...  Home Page\n",
              "294  Submit Guest Post. Yes! We accept guest/Sponso...       MISC\n",
              "295  Digital Marketing & Entrepreneurship Blog. Why...       MISC\n",
              "296  Real Estate, Fashion, Software, Travel. Write ...       MISC\n",
              "297  Amateur Bloggers Guide To WordPress For Start ...  Home Page\n",
              "\n",
              "[298 rows x 2 columns]"
            ],
            "text/html": [
              "\n",
              "  <div id=\"df-4aabb7a7-b94a-4907-b75f-5cbc9b4696b9\">\n",
              "    <div class=\"colab-df-container\">\n",
              "      <div>\n",
              "<style scoped>\n",
              "    .dataframe tbody tr th:only-of-type {\n",
              "        vertical-align: middle;\n",
              "    }\n",
              "\n",
              "    .dataframe tbody tr th {\n",
              "        vertical-align: top;\n",
              "    }\n",
              "\n",
              "    .dataframe thead th {\n",
              "        text-align: right;\n",
              "    }\n",
              "</style>\n",
              "<table border=\"1\" class=\"dataframe\">\n",
              "  <thead>\n",
              "    <tr style=\"text-align: right;\">\n",
              "      <th></th>\n",
              "      <th>text</th>\n",
              "      <th>label</th>\n",
              "    </tr>\n",
              "  </thead>\n",
              "  <tbody>\n",
              "    <tr>\n",
              "      <th>0</th>\n",
              "      <td>Write For Us. Want to Write for Us?  Digital L...</td>\n",
              "      <td>MISC</td>\n",
              "    </tr>\n",
              "    <tr>\n",
              "      <th>1</th>\n",
              "      <td>Write for Us. Yes, you. We’re always looking f...</td>\n",
              "      <td>MISC</td>\n",
              "    </tr>\n",
              "    <tr>\n",
              "      <th>2</th>\n",
              "      <td>FAQs for some new features available in the Be...</td>\n",
              "      <td>Blog</td>\n",
              "    </tr>\n",
              "    <tr>\n",
              "      <th>3</th>\n",
              "      <td>The Web Credibility Project. Our research in W...</td>\n",
              "      <td>Home Page</td>\n",
              "    </tr>\n",
              "    <tr>\n",
              "      <th>4</th>\n",
              "      <td>Model DJs for Retail. DJPeoples is the nation’...</td>\n",
              "      <td>MISC</td>\n",
              "    </tr>\n",
              "    <tr>\n",
              "      <th>...</th>\n",
              "      <td>...</td>\n",
              "      <td>...</td>\n",
              "    </tr>\n",
              "    <tr>\n",
              "      <th>293</th>\n",
              "      <td>Geniuz Media. The USPS is undoubtedly one of t...</td>\n",
              "      <td>Home Page</td>\n",
              "    </tr>\n",
              "    <tr>\n",
              "      <th>294</th>\n",
              "      <td>Submit Guest Post. Yes! We accept guest/Sponso...</td>\n",
              "      <td>MISC</td>\n",
              "    </tr>\n",
              "    <tr>\n",
              "      <th>295</th>\n",
              "      <td>Digital Marketing &amp; Entrepreneurship Blog. Why...</td>\n",
              "      <td>MISC</td>\n",
              "    </tr>\n",
              "    <tr>\n",
              "      <th>296</th>\n",
              "      <td>Real Estate, Fashion, Software, Travel. Write ...</td>\n",
              "      <td>MISC</td>\n",
              "    </tr>\n",
              "    <tr>\n",
              "      <th>297</th>\n",
              "      <td>Amateur Bloggers Guide To WordPress For Start ...</td>\n",
              "      <td>Home Page</td>\n",
              "    </tr>\n",
              "  </tbody>\n",
              "</table>\n",
              "<p>298 rows × 2 columns</p>\n",
              "</div>\n",
              "      <button class=\"colab-df-convert\" onclick=\"convertToInteractive('df-4aabb7a7-b94a-4907-b75f-5cbc9b4696b9')\"\n",
              "              title=\"Convert this dataframe to an interactive table.\"\n",
              "              style=\"display:none;\">\n",
              "        \n",
              "  <svg xmlns=\"http://www.w3.org/2000/svg\" height=\"24px\"viewBox=\"0 0 24 24\"\n",
              "       width=\"24px\">\n",
              "    <path d=\"M0 0h24v24H0V0z\" fill=\"none\"/>\n",
              "    <path d=\"M18.56 5.44l.94 2.06.94-2.06 2.06-.94-2.06-.94-.94-2.06-.94 2.06-2.06.94zm-11 1L8.5 8.5l.94-2.06 2.06-.94-2.06-.94L8.5 2.5l-.94 2.06-2.06.94zm10 10l.94 2.06.94-2.06 2.06-.94-2.06-.94-.94-2.06-.94 2.06-2.06.94z\"/><path d=\"M17.41 7.96l-1.37-1.37c-.4-.4-.92-.59-1.43-.59-.52 0-1.04.2-1.43.59L10.3 9.45l-7.72 7.72c-.78.78-.78 2.05 0 2.83L4 21.41c.39.39.9.59 1.41.59.51 0 1.02-.2 1.41-.59l7.78-7.78 2.81-2.81c.8-.78.8-2.07 0-2.86zM5.41 20L4 18.59l7.72-7.72 1.47 1.35L5.41 20z\"/>\n",
              "  </svg>\n",
              "      </button>\n",
              "      \n",
              "  <style>\n",
              "    .colab-df-container {\n",
              "      display:flex;\n",
              "      flex-wrap:wrap;\n",
              "      gap: 12px;\n",
              "    }\n",
              "\n",
              "    .colab-df-convert {\n",
              "      background-color: #E8F0FE;\n",
              "      border: none;\n",
              "      border-radius: 50%;\n",
              "      cursor: pointer;\n",
              "      display: none;\n",
              "      fill: #1967D2;\n",
              "      height: 32px;\n",
              "      padding: 0 0 0 0;\n",
              "      width: 32px;\n",
              "    }\n",
              "\n",
              "    .colab-df-convert:hover {\n",
              "      background-color: #E2EBFA;\n",
              "      box-shadow: 0px 1px 2px rgba(60, 64, 67, 0.3), 0px 1px 3px 1px rgba(60, 64, 67, 0.15);\n",
              "      fill: #174EA6;\n",
              "    }\n",
              "\n",
              "    [theme=dark] .colab-df-convert {\n",
              "      background-color: #3B4455;\n",
              "      fill: #D2E3FC;\n",
              "    }\n",
              "\n",
              "    [theme=dark] .colab-df-convert:hover {\n",
              "      background-color: #434B5C;\n",
              "      box-shadow: 0px 1px 3px 1px rgba(0, 0, 0, 0.15);\n",
              "      filter: drop-shadow(0px 1px 2px rgba(0, 0, 0, 0.3));\n",
              "      fill: #FFFFFF;\n",
              "    }\n",
              "  </style>\n",
              "\n",
              "      <script>\n",
              "        const buttonEl =\n",
              "          document.querySelector('#df-4aabb7a7-b94a-4907-b75f-5cbc9b4696b9 button.colab-df-convert');\n",
              "        buttonEl.style.display =\n",
              "          google.colab.kernel.accessAllowed ? 'block' : 'none';\n",
              "\n",
              "        async function convertToInteractive(key) {\n",
              "          const element = document.querySelector('#df-4aabb7a7-b94a-4907-b75f-5cbc9b4696b9');\n",
              "          const dataTable =\n",
              "            await google.colab.kernel.invokeFunction('convertToInteractive',\n",
              "                                                     [key], {});\n",
              "          if (!dataTable) return;\n",
              "\n",
              "          const docLinkHtml = 'Like what you see? Visit the ' +\n",
              "            '<a target=\"_blank\" href=https://colab.research.google.com/notebooks/data_table.ipynb>data table notebook</a>'\n",
              "            + ' to learn more about interactive tables.';\n",
              "          element.innerHTML = '';\n",
              "          dataTable['output_type'] = 'display_data';\n",
              "          await google.colab.output.renderOutput(dataTable, element);\n",
              "          const docLink = document.createElement('div');\n",
              "          docLink.innerHTML = docLinkHtml;\n",
              "          element.appendChild(docLink);\n",
              "        }\n",
              "      </script>\n",
              "    </div>\n",
              "  </div>\n",
              "  "
            ]
          },
          "metadata": {},
          "execution_count": 21
        }
      ]
    },
    {
      "cell_type": "code",
      "source": [
        "# Important cell # 8\n",
        "REPLACE_BY_SPACE_RE = re.compile('[/(){}\\[\\]\\|@,;]')\n",
        "BAD_SYMBOLS_RE = re.compile('[^0-9A-Za-z #+_]')\n",
        "STOPWORDS = set(stopwords.words('english'))\n",
        "\n",
        "def clean_text(text):\n",
        "    \"\"\"\n",
        "        text: a string\n",
        "        \n",
        "        return: modified initial string\n",
        "    \"\"\"\n",
        "    \n",
        "    # text = text.lower() # lowercase text\n",
        "    text = REPLACE_BY_SPACE_RE.sub(' ', text) # replace REPLACE_BY_SPACE_RE symbols by space in text\n",
        "    text = BAD_SYMBOLS_RE.sub('', text) # delete symbols which are in BAD_SYMBOLS_RE from text\n",
        "    text = ' '.join(word for word in text.split() if word not in STOPWORDS) # delete stopwords from text\n",
        "\n",
        "    # nlp = load_nlp()\n",
        "    # text = ' '.join(token.lemma_ for token in nlp(text))\n",
        "\n",
        "    return text\n",
        "\n",
        "print(f\"Amount of words before cleaning text: {df_text[TEXT].apply(lambda x: len(x.split(' '))).sum()}\")\n",
        "print(f\"Amount of unique words before cleaning text: {np.unique(np.concatenate(df_text[TEXT].str.split().values, axis=0)).shape[0]}\\n\")\n",
        "df_text['cleaned_text'] = df_text[TEXT].apply(clean_text)\n",
        "print(f\"Amount of words after cleaning text: {df_text['cleaned_text'].apply(lambda x: len(x.split(' '))).sum()}\")\n",
        "print(f\"Amount of unique words before cleaning text: {np.unique(np.concatenate(df_text['cleaned_text'].str.split().values, axis=0)).shape[0]}\")"
      ],
      "metadata": {
        "id": "2G8LfNta1B9g",
        "colab": {
          "base_uri": "https://localhost:8080/"
        },
        "outputId": "72f1b939-6ef1-4b50-cac0-3feb965788d4"
      },
      "execution_count": 22,
      "outputs": [
        {
          "output_type": "stream",
          "name": "stdout",
          "text": [
            "Amount of words before cleaning text: 259791\n",
            "Amount of unique words before cleaning text: 29203\n",
            "\n",
            "Amount of words after cleaning text: 155600\n",
            "Amount of unique words before cleaning text: 17981\n"
          ]
        }
      ]
    },
    {
      "cell_type": "code",
      "source": [
        "def lemmatize_text(text):\n",
        "    lemmatized = ' '.join(token.lemma_ for token in nlp(text))\n",
        "    return lemmatized\n",
        "\n",
        "print(f\"Amount of words before lemmatizing text: {df_text[TEXT].apply(lambda x: len(x.split(' '))).sum()}\")\n",
        "print(f\"Amount of unique words before lemmatizing text: {np.unique(np.concatenate(df_text[TEXT].str.split().values, axis=0)).shape[0]}\\n\")\n",
        "df_text['lemmatized_text'] = df_text[TEXT].apply(lemmatize_text)\n",
        "print(f\"Amount of words after lemmatizing text: {df_text['lemmatized_text'].apply(lambda x: len(x.split(' '))).sum()}\")\n",
        "print(f\"Amount of unique words before lemmatizing text: {np.unique(np.concatenate(df_text['lemmatized_text'].str.split().values, axis=0)).shape[0]}\")"
      ],
      "metadata": {
        "id": "hbDdNryGEPLc",
        "colab": {
          "base_uri": "https://localhost:8080/"
        },
        "outputId": "75d9ed29-c493-4c0a-fd47-d2d7d41ffec6"
      },
      "execution_count": 23,
      "outputs": [
        {
          "output_type": "stream",
          "name": "stdout",
          "text": [
            "Amount of words before lemmatizing text: 259791\n",
            "Amount of unique words before lemmatizing text: 29203\n",
            "\n",
            "Amount of words after lemmatizing text: 313428\n",
            "Amount of unique words before lemmatizing text: 13759\n"
          ]
        }
      ]
    },
    {
      "cell_type": "code",
      "source": [
        "print(f\"Amount of words before cleaning lemmatized text: {df_text['lemmatized_text'].apply(lambda x: len(x.split(' '))).sum()}\")\n",
        "print(f\"Amount of unique words before cleaning lemmatized text: {np.unique(np.concatenate(df_text['lemmatized_text'].str.split().values, axis=0)).shape[0]}\\n\")\n",
        "df_text['lemmatized_cleaned_text'] = df_text['lemmatized_text'].apply(clean_text)\n",
        "print(f\"Amount of words after cleaning lemmatized text: {df_text['lemmatized_cleaned_text'].apply(lambda x: len(x.split(' '))).sum()}\")\n",
        "print(f\"Amount of unique words before cleaning lemmatized text: {np.unique(np.concatenate(df_text['lemmatized_cleaned_text'].str.split().values, axis=0)).shape[0]}\")"
      ],
      "metadata": {
        "colab": {
          "base_uri": "https://localhost:8080/"
        },
        "id": "P4vKBYdPfD7B",
        "outputId": "b9f63d6c-82d1-469f-c942-f55497a0cccf"
      },
      "execution_count": 24,
      "outputs": [
        {
          "output_type": "stream",
          "name": "stdout",
          "text": [
            "Amount of words before cleaning lemmatized text: 313428\n",
            "Amount of unique words before cleaning lemmatized text: 13759\n",
            "\n",
            "Amount of words after cleaning lemmatized text: 145758\n",
            "Amount of unique words before cleaning lemmatized text: 13021\n"
          ]
        }
      ]
    },
    {
      "cell_type": "code",
      "source": [
        "df_text.head(3) # df with different techniques for preprocessing of the text"
      ],
      "metadata": {
        "colab": {
          "base_uri": "https://localhost:8080/",
          "height": 483
        },
        "id": "zTnFCN_7mAjU",
        "outputId": "6e02be42-ec3b-437b-bdb3-4e8302165bdb"
      },
      "execution_count": 25,
      "outputs": [
        {
          "output_type": "execute_result",
          "data": {
            "text/plain": [
              "                                                text label  \\\n",
              "0  Write For Us. Want to Write for Us?  Digital L...  MISC   \n",
              "1  Write for Us. Yes, you. We’re always looking f...  MISC   \n",
              "2  FAQs for some new features available in the Be...  Blog   \n",
              "\n",
              "                                        cleaned_text  \\\n",
              "0  Write For Us Want Write Us Digital Lamp one fa...   \n",
              "1  Write Us Yes Were always looking new authors I...   \n",
              "2  FAQs new features available Beta Wayback Machi...   \n",
              "\n",
              "                                     lemmatized_text  \\\n",
              "0  write for we . want to write for we ?   Digita...   \n",
              "1  write for we . yes , you . we ’re always look ...   \n",
              "2  FAQs for some new feature available in the Bet...   \n",
              "\n",
              "                             lemmatized_cleaned_text  \n",
              "0  write want write Digital Lamp one fast grow te...  \n",
              "1  write yes always look new author get idea chal...  \n",
              "2  FAQs new feature available Beta Wayback Machin...  "
            ],
            "text/html": [
              "\n",
              "  <div id=\"df-f322484a-d8af-4d2f-b525-59f68d79a654\">\n",
              "    <div class=\"colab-df-container\">\n",
              "      <div>\n",
              "<style scoped>\n",
              "    .dataframe tbody tr th:only-of-type {\n",
              "        vertical-align: middle;\n",
              "    }\n",
              "\n",
              "    .dataframe tbody tr th {\n",
              "        vertical-align: top;\n",
              "    }\n",
              "\n",
              "    .dataframe thead th {\n",
              "        text-align: right;\n",
              "    }\n",
              "</style>\n",
              "<table border=\"1\" class=\"dataframe\">\n",
              "  <thead>\n",
              "    <tr style=\"text-align: right;\">\n",
              "      <th></th>\n",
              "      <th>text</th>\n",
              "      <th>label</th>\n",
              "      <th>cleaned_text</th>\n",
              "      <th>lemmatized_text</th>\n",
              "      <th>lemmatized_cleaned_text</th>\n",
              "    </tr>\n",
              "  </thead>\n",
              "  <tbody>\n",
              "    <tr>\n",
              "      <th>0</th>\n",
              "      <td>Write For Us. Want to Write for Us?  Digital L...</td>\n",
              "      <td>MISC</td>\n",
              "      <td>Write For Us Want Write Us Digital Lamp one fa...</td>\n",
              "      <td>write for we . want to write for we ?   Digita...</td>\n",
              "      <td>write want write Digital Lamp one fast grow te...</td>\n",
              "    </tr>\n",
              "    <tr>\n",
              "      <th>1</th>\n",
              "      <td>Write for Us. Yes, you. We’re always looking f...</td>\n",
              "      <td>MISC</td>\n",
              "      <td>Write Us Yes Were always looking new authors I...</td>\n",
              "      <td>write for we . yes , you . we ’re always look ...</td>\n",
              "      <td>write yes always look new author get idea chal...</td>\n",
              "    </tr>\n",
              "    <tr>\n",
              "      <th>2</th>\n",
              "      <td>FAQs for some new features available in the Be...</td>\n",
              "      <td>Blog</td>\n",
              "      <td>FAQs new features available Beta Wayback Machi...</td>\n",
              "      <td>FAQs for some new feature available in the Bet...</td>\n",
              "      <td>FAQs new feature available Beta Wayback Machin...</td>\n",
              "    </tr>\n",
              "  </tbody>\n",
              "</table>\n",
              "</div>\n",
              "      <button class=\"colab-df-convert\" onclick=\"convertToInteractive('df-f322484a-d8af-4d2f-b525-59f68d79a654')\"\n",
              "              title=\"Convert this dataframe to an interactive table.\"\n",
              "              style=\"display:none;\">\n",
              "        \n",
              "  <svg xmlns=\"http://www.w3.org/2000/svg\" height=\"24px\"viewBox=\"0 0 24 24\"\n",
              "       width=\"24px\">\n",
              "    <path d=\"M0 0h24v24H0V0z\" fill=\"none\"/>\n",
              "    <path d=\"M18.56 5.44l.94 2.06.94-2.06 2.06-.94-2.06-.94-.94-2.06-.94 2.06-2.06.94zm-11 1L8.5 8.5l.94-2.06 2.06-.94-2.06-.94L8.5 2.5l-.94 2.06-2.06.94zm10 10l.94 2.06.94-2.06 2.06-.94-2.06-.94-.94-2.06-.94 2.06-2.06.94z\"/><path d=\"M17.41 7.96l-1.37-1.37c-.4-.4-.92-.59-1.43-.59-.52 0-1.04.2-1.43.59L10.3 9.45l-7.72 7.72c-.78.78-.78 2.05 0 2.83L4 21.41c.39.39.9.59 1.41.59.51 0 1.02-.2 1.41-.59l7.78-7.78 2.81-2.81c.8-.78.8-2.07 0-2.86zM5.41 20L4 18.59l7.72-7.72 1.47 1.35L5.41 20z\"/>\n",
              "  </svg>\n",
              "      </button>\n",
              "      \n",
              "  <style>\n",
              "    .colab-df-container {\n",
              "      display:flex;\n",
              "      flex-wrap:wrap;\n",
              "      gap: 12px;\n",
              "    }\n",
              "\n",
              "    .colab-df-convert {\n",
              "      background-color: #E8F0FE;\n",
              "      border: none;\n",
              "      border-radius: 50%;\n",
              "      cursor: pointer;\n",
              "      display: none;\n",
              "      fill: #1967D2;\n",
              "      height: 32px;\n",
              "      padding: 0 0 0 0;\n",
              "      width: 32px;\n",
              "    }\n",
              "\n",
              "    .colab-df-convert:hover {\n",
              "      background-color: #E2EBFA;\n",
              "      box-shadow: 0px 1px 2px rgba(60, 64, 67, 0.3), 0px 1px 3px 1px rgba(60, 64, 67, 0.15);\n",
              "      fill: #174EA6;\n",
              "    }\n",
              "\n",
              "    [theme=dark] .colab-df-convert {\n",
              "      background-color: #3B4455;\n",
              "      fill: #D2E3FC;\n",
              "    }\n",
              "\n",
              "    [theme=dark] .colab-df-convert:hover {\n",
              "      background-color: #434B5C;\n",
              "      box-shadow: 0px 1px 3px 1px rgba(0, 0, 0, 0.15);\n",
              "      filter: drop-shadow(0px 1px 2px rgba(0, 0, 0, 0.3));\n",
              "      fill: #FFFFFF;\n",
              "    }\n",
              "  </style>\n",
              "\n",
              "      <script>\n",
              "        const buttonEl =\n",
              "          document.querySelector('#df-f322484a-d8af-4d2f-b525-59f68d79a654 button.colab-df-convert');\n",
              "        buttonEl.style.display =\n",
              "          google.colab.kernel.accessAllowed ? 'block' : 'none';\n",
              "\n",
              "        async function convertToInteractive(key) {\n",
              "          const element = document.querySelector('#df-f322484a-d8af-4d2f-b525-59f68d79a654');\n",
              "          const dataTable =\n",
              "            await google.colab.kernel.invokeFunction('convertToInteractive',\n",
              "                                                     [key], {});\n",
              "          if (!dataTable) return;\n",
              "\n",
              "          const docLinkHtml = 'Like what you see? Visit the ' +\n",
              "            '<a target=\"_blank\" href=https://colab.research.google.com/notebooks/data_table.ipynb>data table notebook</a>'\n",
              "            + ' to learn more about interactive tables.';\n",
              "          element.innerHTML = '';\n",
              "          dataTable['output_type'] = 'display_data';\n",
              "          await google.colab.output.renderOutput(dataTable, element);\n",
              "          const docLink = document.createElement('div');\n",
              "          docLink.innerHTML = docLinkHtml;\n",
              "          element.appendChild(docLink);\n",
              "        }\n",
              "      </script>\n",
              "    </div>\n",
              "  </div>\n",
              "  "
            ]
          },
          "metadata": {},
          "execution_count": 25
        }
      ]
    },
    {
      "cell_type": "code",
      "source": [
        "df_text.loc[0, TEXT]"
      ],
      "metadata": {
        "id": "XEJNZ4gspn1-",
        "colab": {
          "base_uri": "https://localhost:8080/",
          "height": 268
        },
        "outputId": "d8d75df3-6bec-4a2a-b41c-f13c9c7c0f1a"
      },
      "execution_count": 26,
      "outputs": [
        {
          "output_type": "execute_result",
          "data": {
            "text/plain": [
              "'Write For Us. Want to Write for Us?  Digital Lamp, is one of the fastest-growing tech blog. We allow you an endless opportunity for new authors, technical content writers, freelance content writing professionals, and guest writers to technology + “write for us” + guest post (Contribute or Submit Guest Post Article) about the topics related to Technology, Business, Internet, Gadgets, Digital Marketing, Security, SEO, Tech Blog, etc.  Technology is the way progressive for online businesses. Why not share your expertise by guest blogging on technology blogs to highlight awareness of this emerging trend.  You will obtain the benefits of being a guest blogger by establishing yourself as an authority in the industry. On top of that, you will build social proof, create a robust online presence, develop new relationships with bloggers and readers and rank better in the search engines.  All you need to do is meet the criteria set out by the technology blogs below and submit your best work as a guest blogger.  Guidelines for Write for us Technology Blog  Content must be high quality, informative and 100% Copyscape pass articles. The article must be in the English language. The content length should be minimum of 1000+ words. Content must be well formatted with the sub-headings and short paragraphs (2-3 lines). Once the article is published then it will be owned by Digital Lamp. No requests for removal will be entertained. (We will remove your link on request) All links in the post should be to relevant and quality websites. 1 link per 500 words is ideal, max 2-3 links in total. Please include a meta description for your article. We appreciate you linking back to your post in your future articles – so please write something worth linking to. We reserve the right to do minor edits to your article.  How to Submit Content?  With a subject Guest Post Submission or Write for us – guest post, send the article in .docx, .doc, .txt file format and with images (if possiable) adigitallamp[@]gmail.com .  . You can also send meta description with the article content.  Top reasons of content rejected or no reply  Content not relevant to our website, duplicate content, etc.  Article or same topic already posted on Digital Lamp. Please make sure the article you have sent is not published on our website.  Use below search query to find guest blogging opportunities on Digital Lamp:  technology “write for us”  technology + “write for us” + guest post  technology + “write for us”  technology + “write for us” + “guest post”  technology write for us  write for us technology  write for us tech  tech “write for us”  technology “write for us”  tech write for us  tech + “write for us”  “write for us” tech  technology + “write for us”  technology write for us guest post  write for us tech blog  tech write for us guest post  “write for us” technology  technology + write for us + guest post  technology guest post  guest post technology  tech “write for us”  technology + write for us  write for us technology guest post  technology write for us” + guest post  technology blog “write for us”  write for us + technology  technology “guest post”  tech + write for us  write for us “tech”  tech blogs write for us  “technology” + “write for us”  “write for us” technology  technology articles write for us  business+technology “write for us”  write for us “tech blog”  web design “write for us”  technology + guest post submission  information technology write for us  tech blog write for us  tech blog guest post  submit guest post technology  tech guest post  tech blogs “write for us”  tech news write for us  web design write for us  business technology write for us  technical write for us  write for us technology content post  write for us guest post technology  marketing “write for us”  technology + write for us + paid guest post  tech”write for us”  “write for us” “technology”  tech blogs + “write for us”  guest post tech  tech blog “write for us”  technology sites write for us  write for us guest post  tech blog “write for us”  submit guest post + technology  “write for us” tech blog  “write for us” + tech blog  technology submit guest post  write for us +technology  tech tips write for us  “technology” “write for us”  write for us + tech blog  write for us tech blogs  technology blog “write for us”  gadgets “write for us”  write for us “technology”  technology+write for us  tech submit guest post  write for us technology blog  tech “guest post”  technology + write for us + free guest post  submit a guest post technology  technology submit a guest post  mobile technology + “write for us”  technology blogs write for us  technology, business write for us  write for us web design  write for us marketing  contribute to technology guest post  mobile technology “write for us”  technology blog write for us  write for us  guest post write for us  web design blog write for us  write for us “technology”  technology business “write for us”  “education” + “blogs” + “write for us”  business technology + “write for us”  marketing”+“write for us”  site write for us technology  business marketing “write for us”  technology write for us free guest post  “write for us” marketing  technology blog “write for us”  technology + “write for us”  gadgets write for us  gadgets “write for us”  technology “write for us”  business “write for us”  technology + “write for us” + guest post  “write for us” SEO  “write for us” Finance  in url write for us technology  “write for us” Digital Marketing  “write for us” Technology  business blog “write for us”  web development “write for us”  technology blog “write for us”  “submit guest post” + “technology”  technology guest post guidelines'"
            ],
            "application/vnd.google.colaboratory.intrinsic+json": {
              "type": "string"
            }
          },
          "metadata": {},
          "execution_count": 26
        }
      ]
    },
    {
      "cell_type": "code",
      "source": [
        "df_text.loc[0, 'lemmatized_text']"
      ],
      "metadata": {
        "id": "UqtS5dcHp0BL",
        "colab": {
          "base_uri": "https://localhost:8080/",
          "height": 268
        },
        "outputId": "39ffa8ce-4ace-484d-d75a-62b630e08a7e"
      },
      "execution_count": 27,
      "outputs": [
        {
          "output_type": "execute_result",
          "data": {
            "text/plain": [
              "'write for we . want to write for we ?   Digital Lamp , be one of the fast - grow tech blog . we allow you an endless opportunity for new author , technical content writer , freelance content write professional , and guest writer to technology + \" write for we \" + guest post ( contribute or submit Guest Post Article ) about the topic relate to Technology , Business , Internet , Gadgets , Digital Marketing , security , seo , Tech Blog , etc .   Technology be the way progressive for online business . why not share your expertise by guest blogging on technology blog to highlight awareness of this emerge trend .   you will obtain the benefit of be a guest blogger by establish yourself as an authority in the industry . on top of that , you will build social proof , create a robust online presence , develop new relationship with blogger and reader and rank well in the search engine .   all you need to do be meet the criterion set out by the technology blog below and submit your good work as a guest blogger .   guideline for Write for we Technology Blog   Content must be high quality , informative and 100 % Copyscape pass article . the article must be in the english language . the content length should be minimum of 1000 + word . Content must be well format with the sub - heading and short paragraph ( 2 - 3 line ) . once the article be publish then it will be own by Digital Lamp . no request for removal will be entertain . ( we will remove your link on request ) all link in the post should be to relevant and quality website . 1 link per 500 word be ideal , max 2 - 3 link in total . please include a meta description for your article . we appreciate you link back to your post in your future article – so please write something worth link to . we reserve the right to do minor edit to your article .   how to submit Content ?   with a subject Guest Post Submission or write for we – guest post , send the article in .docx , .doc , .txt file format and with image ( if possiable ) adigitallamp[@]gmail.com .   . you can also send meta description with the article content .   top reason of content reject or no reply   Content not relevant to our website , duplicate content , etc .   article or same topic already post on Digital Lamp . please make sure the article you have send be not publish on our website .   Use below search query to find guest blogging opportunity on Digital Lamp :   technology \" write for we \"   technology + \" write for we \" + guest post   technology + \" write for we \"   technology + \" write for we \" + \" guest post \"   technology write for we   write for we technology   write for we tech   tech \" write for we \"   technology \" write for we \"   tech write for we   tech + \" write for we \"   \" write for we \" tech   technology + \" write for we \"   technology write for we guest post   write for we tech blog   tech write for we guest post   \" write for we \" technology   technology + write for we + guest post   technology guest post   guest post technology   tech \" write for we \"   technology + write for we   write for we technology guest post   technology write for we \" + guest post   technology blog \" write for we \"   write for we + technology   technology \" guest post \"   tech + write for we   write for we \" tech \"   tech blog write for we   \" technology \" + \" write for we \"   \" write for we \" technology   technology article write for we   business+technology \" write for we \"   write for we \" tech blog \"   web design \" write for we \"   technology + guest post submission   information technology write for we   tech blog write for we   tech blog guest post   submit guest post technology   tech guest post   tech blog \" write for we \"   tech news write for we   web design write for we   business technology write for we   technical write for we   write for us technology content post   write for we guest post technology   marketing \" write for we \"   technology + write for we + pay guest post   tech”write for we \"   \" write for we \" \" technology \"   tech blog + \" write for we \"   guest post tech   tech blog \" write for we \"   technology site write for we   write for we guest post   tech blog \" write for we \"   submit guest post + technology   \" write for we \" tech blog   \" write for we \" + tech blog   technology submit guest post   write for we + technology   tech tip write for we   \" technology \" \" write for we \"   write for we + tech blog   write for we tech blog   technology blog \" write for we \"   gadget \" write for we \"   write for we \" technology \"   technology+write for we   tech submit guest post   write for us technology blog   tech \" guest post \"   technology + write for we + free guest post   submit a guest post technology   technology submit a guest post   mobile technology + \" write for we \"   technology blog write for we   technology , business write for we   write for us web design   write for us marketing   contribute to technology guest post   mobile technology \" write for we \"   technology blog write for we   write for we   guest post write for we   web design blog write for we   write for we \" technology \"   technology business \" write for we \"   \" education \" + \" blog \" + \" write for we \"   business technology + \" write for we \"   marketing”+“write for we \"   site write for us technology   business marketing \" write for we \"   technology write for we free guest post   \" write for we \" marketing   technology blog \" write for we \"   technology + \" write for we \"   gadget write for we   gadget \" write for we \"   technology \" write for we \"   business \" write for we \"   technology + \" write for we \" + guest post   \" write for we \" seo   \" write for we \" Finance   in url write for us technology   \" write for we \" Digital Marketing   \" write for we \" Technology   business blog \" write for we \"   web development \" write for we \"   technology blog \" write for we \"   \" submit guest post \" + \" technology \"   technology guest post guideline'"
            ],
            "application/vnd.google.colaboratory.intrinsic+json": {
              "type": "string"
            }
          },
          "metadata": {},
          "execution_count": 27
        }
      ]
    },
    {
      "cell_type": "code",
      "source": [
        "df_text.loc[0, 'lemmatized_cleaned_text']"
      ],
      "metadata": {
        "colab": {
          "base_uri": "https://localhost:8080/",
          "height": 268
        },
        "id": "8KKh-BmFf-bF",
        "outputId": "777f2deb-79be-4d52-891b-1ded23d8ad0f"
      },
      "execution_count": 28,
      "outputs": [
        {
          "output_type": "execute_result",
          "data": {
            "text/plain": [
              "'write want write Digital Lamp one fast grow tech blog allow endless opportunity new author technical content writer freelance content write professional guest writer technology + write + guest post contribute submit Guest Post Article topic relate Technology Business Internet Gadgets Digital Marketing security seo Tech Blog etc Technology way progressive online business share expertise guest blogging technology blog highlight awareness emerge trend obtain benefit guest blogger establish authority industry top build social proof create robust online presence develop new relationship blogger reader rank well search engine need meet criterion set technology blog submit good work guest blogger guideline Write Technology Blog Content must high quality informative 100 Copyscape pass article article must english language content length minimum 1000 + word Content must well format sub heading short paragraph 2 3 line article publish Digital Lamp request removal entertain remove link request link post relevant quality website 1 link per 500 word ideal max 2 3 link total please include meta description article appreciate link back post future article please write something worth link reserve right minor edit article submit Content subject Guest Post Submission write guest post send article docx doc txt file format image possiable adigitallamp gmailcom also send meta description article content top reason content reject reply Content relevant website duplicate content etc article topic already post Digital Lamp please make sure article send publish website Use search query find guest blogging opportunity Digital Lamp technology write technology + write + guest post technology + write technology + write + guest post technology write write technology write tech tech write technology write tech write tech + write write tech technology + write technology write guest post write tech blog tech write guest post write technology technology + write + guest post technology guest post guest post technology tech write technology + write write technology guest post technology write + guest post technology blog write write + technology technology guest post tech + write write tech tech blog write technology + write write technology technology article write business+technology write write tech blog web design write technology + guest post submission information technology write tech blog write tech blog guest post submit guest post technology tech guest post tech blog write tech news write web design write business technology write technical write write us technology content post write guest post technology marketing write technology + write + pay guest post techwrite write technology tech blog + write guest post tech tech blog write technology site write write guest post tech blog write submit guest post + technology write tech blog write + tech blog technology submit guest post write + technology tech tip write technology write write + tech blog write tech blog technology blog write gadget write write technology technology+write tech submit guest post write us technology blog tech guest post technology + write + free guest post submit guest post technology technology submit guest post mobile technology + write technology blog write technology business write write us web design write us marketing contribute technology guest post mobile technology write technology blog write write guest post write web design blog write write technology technology business write education + blog + write business technology + write marketing+write site write us technology business marketing write technology write free guest post write marketing technology blog write technology + write gadget write gadget write technology write business write technology + write + guest post write seo write Finance url write us technology write Digital Marketing write Technology business blog write web development write technology blog write submit guest post + technology technology guest post guideline'"
            ],
            "application/vnd.google.colaboratory.intrinsic+json": {
              "type": "string"
            }
          },
          "metadata": {},
          "execution_count": 28
        }
      ]
    },
    {
      "cell_type": "code",
      "source": [
        "# df_text['lemmatized_text'].tolist()[10:30]"
      ],
      "metadata": {
        "id": "P1X85Q3RGkbC"
      },
      "execution_count": 29,
      "outputs": []
    },
    {
      "cell_type": "code",
      "source": [
        "def get_most_common_tokens(df, column, amount=10):\n",
        "  tokenized = [word_tokenize(string) for string in df[column]]\n",
        "  flat_list = [item for sublist in tokenized for item in sublist]\n",
        "  return Counter(flat_list).most_common(amount)"
      ],
      "metadata": {
        "id": "f9pkhMMIdsWg"
      },
      "execution_count": 30,
      "outputs": []
    },
    {
      "cell_type": "code",
      "source": [
        "def lemmatize_text2(text):\n",
        "    lemmatized = ' '.join(token.text.lower() for token in nlp(text))\n",
        "    return lemmatized\n",
        "\n",
        "df_text['w2v_text'] = df_text[TEXT].apply(lemmatize_text2)"
      ],
      "metadata": {
        "id": "W8u9xUt6e59W"
      },
      "execution_count": 31,
      "outputs": []
    },
    {
      "cell_type": "markdown",
      "source": [
        "# 0.7 General modeling functions"
      ],
      "metadata": {
        "id": "vw7gQxNeYJ6T"
      }
    },
    {
      "cell_type": "code",
      "source": [
        "def fit_model(clf, X_train_transformed, y_train):\n",
        "  clf.fit(X_train_transformed, y_train)\n",
        "  return clf\n",
        "\n",
        "\n",
        "def predict(clf, X_test_transformed):\n",
        "  y_pred = clf.predict(X_test_transformed)\n",
        "  return y_pred\n",
        "\n",
        "\n",
        "def get_accuracy(y_test, y_pred):\n",
        "  accuracy = sum(y_pred == y_test) / len(y_test)\n",
        "  return accuracy\n",
        "\n",
        "\n",
        "def print_important_features(clf, features=5):\n",
        "  \"\"\" \n",
        "  Get the most important features of a classifier when using a linear kernel (e.g. Logistic Regression, not SVM)\n",
        "  \"\"\"\n",
        "  coef_importances = np.argsort(clf.coef_, axis=1)\n",
        "  for i, class_ in enumerate(coef_importances[:, :features]):\n",
        "      print(f'Class \"{clf.classes_[i]}\" - {features} most important features: '\n",
        "            f'{vectorizer.get_feature_names_out()[class_]}')\n",
        "      \n",
        "\n",
        "def print_confusion_matrix(y_test, y_pred, with_report=False):\n",
        "  ConfusionMatrixDisplay.from_predictions(y_test, y_pred)\n",
        "  plt.title(f'Confusion matrix - acc {get_accuracy(y_test, y_pred):.3f}', size=15)\n",
        "  plt.show()\n",
        "  if with_report:\n",
        "    print('\\n' + classification_report(y_test, y_pred))\n",
        "\n",
        "\n",
        "def get_best_clf(clfs, X_train, X_test, y_train, y_test):\n",
        "    results = []\n",
        "    best_clf = None\n",
        "    best_clf_name = None\n",
        "    best_accuracy = 0\n",
        "\n",
        "    for clf_name, clf in clfs:\n",
        "        clf.fit(X_train, y_train)\n",
        "        acc = clf.score(X_test, y_test) # accuracy score\n",
        "        \n",
        "        if acc > best_accuracy:\n",
        "            best_accuracy = acc\n",
        "            best_clf = clf\n",
        "            best_clf_name = clf_name\n",
        "\n",
        "        results.append({'clf': clf_name,\n",
        "                        'accuracy': acc})\n",
        "        \n",
        "    print(pd.DataFrame(results).set_index('clf'))\n",
        "    return best_clf, best_clf_name, best_accuracy\n",
        "\n",
        "\n",
        "def print_important_features(clf, features=5):\n",
        "  \"\"\" \n",
        "  Get the most important features of a classifier when using a linear kernel (e.g. Logistic Regression, not SVM)\n",
        "  \"\"\"\n",
        "  coef_importances = np.argsort(clf.coef_, axis=1)\n",
        "  for i, class_ in enumerate(coef_importances[:, :features]):\n",
        "      print(f'Class \"{clf.classes_[i]}\" - {features} most important features: '\n",
        "            f'{vectorizer.get_feature_names_out()[class_]}')\n",
        "      \n",
        "\n",
        "def create_misclassified_df(X_test, y_test, y_pred):\n",
        "  df = X_test.copy()[y_pred != y_test]\n",
        "  df['y_true'] = y_test[y_pred != y_test]\n",
        "  df['y_pred'] = y_pred[y_pred != y_test]\n",
        "  return df"
      ],
      "metadata": {
        "id": "HdFcmX4HYOUC"
      },
      "execution_count": 32,
      "outputs": []
    },
    {
      "cell_type": "markdown",
      "source": [
        "# 1. Bag of Words approach"
      ],
      "metadata": {
        "id": "hi5Q4K3TXrVa"
      }
    },
    {
      "cell_type": "markdown",
      "source": [
        "## Preprocessing"
      ],
      "metadata": {
        "id": "VgRRupt9X9DS"
      }
    },
    {
      "cell_type": "code",
      "source": [
        "# Cell 9\n",
        "test_size = 0.2\n",
        "random_state = 0\n",
        "\n",
        "# Important cell # 9\n",
        "column_used = 'lemmatized_cleaned_text'\n",
        "\n",
        "X = df_text[[column_used]]\n",
        "y = df_text[TARGET]\n",
        "\n",
        "X_train, X_test, y_train, y_test = train_test_split(X, y, \n",
        "                                                    test_size=test_size,\n",
        "                                                    stratify=y, \n",
        "                                                    random_state=random_state)"
      ],
      "metadata": {
        "id": "qLNr3vkKeDOh"
      },
      "execution_count": null,
      "outputs": []
    },
    {
      "cell_type": "code",
      "source": [
        "# def print_train_val_len_start(train_index, val_index):\n",
        "#     print(f'TRAIN index len: {len(train_index)}, start: {train_index[:3]}, '\n",
        "#           f'\\tVALIDATION index len: {len(val_index)}, start: {val_index[:3]}')\n",
        "\n",
        "# def print_val_scores(scores, extra_info=False):\n",
        "#     print(f'Cross validation scores: mean: {np.mean(scores):.3f}, all: {[round(score, 3) for score in scores]}')\n",
        "#     if extra_info:\n",
        "#         print('(std: {np.std(scores):.3f}, min: {min(scores):.3f}, max: {max(scores):.3f})')\n",
        "\n",
        "# print('\\nStratifiedKFold:\\n')\n",
        "# skf = StratifiedKFold(n_splits=5)\n",
        "# for train_index, val_index in skf.split(X_train, y_train):\n",
        "#     print_train_val_len_start(train_index, val_index)\n",
        "#     print(f'\\tMean y: TRAIN: {y_train.iloc[train_index].mean():.3f},\\tVALIDATION: {y_train.iloc[val_index].mean():.3f}')\n",
        "\n",
        "# scores = cross_val_score(KNeighborsClassifier(), \n",
        "#                          X_train,\n",
        "#                          y_train,\n",
        "#                          cv=skf)\n",
        "# print_val_scores(scores)"
      ],
      "metadata": {
        "id": "iAtoTQHdeDRV"
      },
      "execution_count": null,
      "outputs": []
    },
    {
      "cell_type": "code",
      "source": [
        "# Important cell # 10\n",
        "majority_class = y_train.value_counts().index[0]\n",
        "baseline_accuracy = sum(y_test == majority_class) / len(y_test)\n",
        "print(f'Baseline accuracy: {baseline_accuracy:.4f}')"
      ],
      "metadata": {
        "id": "Kbj-QbqheG4C"
      },
      "execution_count": null,
      "outputs": []
    },
    {
      "cell_type": "code",
      "source": [
        "get_most_common_tokens(df=df_text, column='lemmatized_cleaned_text', amount=10)"
      ],
      "metadata": {
        "id": "mb-sAzBJeG6t"
      },
      "execution_count": null,
      "outputs": []
    },
    {
      "cell_type": "code",
      "source": [
        "# Important cell # 11\n",
        "vectorizer = TfidfVectorizer(ngram_range=(1, 3))\n",
        "X_train_tr = vectorizer.fit_transform(X_train[column_used])\n",
        "X_test_tr = vectorizer.transform(X_test[column_used])"
      ],
      "metadata": {
        "id": "C2hZ0HxiVPc7"
      },
      "execution_count": 31,
      "outputs": []
    },
    {
      "cell_type": "code",
      "source": [
        "X_train_tr.toarray().shape, X_test_tr.toarray().shape"
      ],
      "metadata": {
        "id": "qZ3g9StMLuVL",
        "colab": {
          "base_uri": "https://localhost:8080/"
        },
        "outputId": "c5992602-1f1d-4f8e-9fb4-2404ba6129e9"
      },
      "execution_count": 32,
      "outputs": [
        {
          "output_type": "execute_result",
          "data": {
            "text/plain": [
              "((238, 183386), (60, 183386))"
            ]
          },
          "metadata": {},
          "execution_count": 32
        }
      ]
    },
    {
      "cell_type": "code",
      "source": [
        "# import string\n",
        "\n",
        "# # STOPWORDS = stop_words.ENGLISH_STOP_WORDS\n",
        "\n",
        "# #Function for basic cleaning/preprocessing texts\n",
        "# def clean(doc):\n",
        "#     # Removal of punctuation marks (.,/\\][{} etc) and numbers\n",
        "#     doc = \"\".join([char for char in doc if char not in string.punctuation and not char.isdigit()])\n",
        "#     # Removal of stopwords\n",
        "#     doc = \" \".join([token for token in doc.split() if token not in STOPWORDS])\n",
        "#     return doc.lower()\n",
        "\n",
        "# string.punctuation"
      ],
      "metadata": {
        "id": "JOjyg4MA8dIJ"
      },
      "execution_count": 33,
      "outputs": []
    },
    {
      "cell_type": "markdown",
      "source": [
        "## Modeling"
      ],
      "metadata": {
        "id": "Oh4hWsssUReP"
      }
    },
    {
      "cell_type": "code",
      "source": [
        "clfs = [\n",
        "    ('LogisticRegression', LogisticRegression(max_iter=3000,\n",
        "                                              class_weight='balanced')), \n",
        "    ('RandomForest', RandomForestClassifier(max_depth=18,\n",
        "                                            n_estimators=75,\n",
        "                                            random_state=0)), \n",
        "    ('KNN 5', KNeighborsClassifier(n_neighbors=5)),\n",
        "    # ('KNN 7', KNeighborsClassifier(n_neighbors=7)),\n",
        "    # ('KNN 12', KNeighborsClassifier(n_neighbors=12)),\n",
        "    # ('KNN 20', KNeighborsClassifier(n_neighbors=20)),\n",
        "    ('SVM C1', SVC(C=1, \n",
        "                   class_weight='balanced')),\n",
        "    ('MultinomialNB', MultinomialNB())\n",
        "]\n",
        "\n",
        "# clf, clf_name, val_acc = get_best_clf(clfs, X_train, X_test, y_train, y_test) # To use when I have more data for validation set\n",
        "# print(f'Best classifier: {clf_name}, validation accuracy: {val_acc:.3f}, '\n",
        "#       f'test accuracy: {clf.score(X_test, y_test):.3f}')\n",
        "\n",
        "clf, clf_name, test_acc = get_best_clf(clfs, X_train_tr, X_test_tr, y_train, y_test)\n",
        "print(f'Best classifier: {clf_name}, test accuracy: {test_acc:.3f}')"
      ],
      "metadata": {
        "id": "aGg_SS1hW1yw",
        "colab": {
          "base_uri": "https://localhost:8080/"
        },
        "outputId": "2bbeb645-9b57-4245-8b8e-394b2e8c134f"
      },
      "execution_count": 40,
      "outputs": [
        {
          "output_type": "stream",
          "name": "stdout",
          "text": [
            "                    accuracy\n",
            "clf                         \n",
            "LogisticRegression  0.816667\n",
            "RandomForest        0.700000\n",
            "KNN 5               0.500000\n",
            "SVM C1              0.700000\n",
            "MultinomialNB       0.566667\n",
            "Best classifier: LogisticRegression, test accuracy: 0.817\n"
          ]
        }
      ]
    },
    {
      "cell_type": "code",
      "source": [
        "clf = fit_model(SVC(C=1, \n",
        "                    class_weight='balanced'\n",
        "                    ),\n",
        "                X_train_tr, \n",
        "                y_train)\n",
        "\n",
        "y_pred = predict(clf, X_test_tr)\n",
        "\n",
        "print_confusion_matrix(y_test, y_pred, with_report=True)"
      ],
      "metadata": {
        "colab": {
          "base_uri": "https://localhost:8080/",
          "height": 511
        },
        "id": "iwpto42C5dQR",
        "outputId": "4efad72b-7229-46a2-bdd6-1fad181c7e9d"
      },
      "execution_count": 41,
      "outputs": [
        {
          "output_type": "display_data",
          "data": {
            "text/plain": [
              "<Figure size 432x288 with 2 Axes>"
            ],
            "image/png": "[encoded data removed]"
          },
          "metadata": {
            "needs_background": "light"
          }
        },
        {
          "output_type": "stream",
          "name": "stdout",
          "text": [
            "\n",
            "              precision    recall  f1-score   support\n",
            "\n",
            "        Blog       0.79      0.94      0.86        16\n",
            "   Home Page       0.62      0.91      0.74        23\n",
            "        MISC       0.83      0.38      0.53        13\n",
            "Product Page       1.00      0.12      0.22         8\n",
            "\n",
            "    accuracy                           0.70        60\n",
            "   macro avg       0.81      0.59      0.59        60\n",
            "weighted avg       0.76      0.70      0.65        60\n",
            "\n"
          ]
        }
      ]
    },
    {
      "cell_type": "code",
      "source": [
        "clf = fit_model(LogisticRegression(max_iter=3000, \n",
        "                                   class_weight='balanced'\n",
        "                                   ), \n",
        "                X_train_tr, \n",
        "                y_train)\n",
        "\n",
        "y_pred = predict(clf, X_test_tr)\n",
        "\n",
        "print_confusion_matrix(y_test, y_pred, with_report=True)"
      ],
      "metadata": {
        "id": "Hs_XD8NeWDLB",
        "colab": {
          "base_uri": "https://localhost:8080/",
          "height": 511
        },
        "outputId": "396aff94-a498-47b8-e9b8-af1149f20d0a"
      },
      "execution_count": 42,
      "outputs": [
        {
          "output_type": "display_data",
          "data": {
            "text/plain": [
              "<Figure size 432x288 with 2 Axes>"
            ],
            "image/png": "[encoded data removed]"
          },
          "metadata": {
            "needs_background": "light"
          }
        },
        {
          "output_type": "stream",
          "name": "stdout",
          "text": [
            "\n",
            "              precision    recall  f1-score   support\n",
            "\n",
            "        Blog       0.68      0.94      0.79        16\n",
            "   Home Page       0.86      0.83      0.84        23\n",
            "        MISC       0.91      0.77      0.83        13\n",
            "Product Page       1.00      0.62      0.77         8\n",
            "\n",
            "    accuracy                           0.82        60\n",
            "   macro avg       0.86      0.79      0.81        60\n",
            "weighted avg       0.84      0.82      0.82        60\n",
            "\n"
          ]
        }
      ]
    },
    {
      "cell_type": "code",
      "source": [
        "print_important_features(clf, features=5)"
      ],
      "metadata": {
        "colab": {
          "base_uri": "https://localhost:8080/"
        },
        "id": "n3JbYJvieeoD",
        "outputId": "77e9b3d7-401a-4c0f-f529-0ef17a0780e9"
      },
      "execution_count": 43,
      "outputs": [
        {
          "output_type": "stream",
          "name": "stdout",
          "text": [
            "Class \"Blog\" - 5 most important features: ['guest' 'guest post' 'please' 'digital' 'shipping']\n",
            "Class \"Home Page\" - 5 most important features: ['post' 'write' 'content' 'customer' 'guest']\n",
            "Class \"MISC\" - 5 most important features: ['search' 'seo' 'essay' 'stock' 'google']\n",
            "Class \"Product Page\" - 5 most important features: ['post' 'guest' 'article' 'blog' 'guest post']\n"
          ]
        }
      ]
    },
    {
      "cell_type": "code",
      "source": [
        "misclassified_df = create_misclassified_df(X_test, y_test, y_pred)\n",
        "misclassified_df"
      ],
      "metadata": {
        "id": "Ox6JIG0mqPzP",
        "colab": {
          "base_uri": "https://localhost:8080/",
          "height": 394
        },
        "outputId": "341066fc-5916-4bb7-8689-c327739425d4"
      },
      "execution_count": 44,
      "outputs": [
        {
          "output_type": "execute_result",
          "data": {
            "text/plain": [
              "                               lemmatized_cleaned_text        y_true  \\\n",
              "234  MIPA DKIM Home Deployment ietf WG FAQ mipa dki...          MISC   \n",
              "184  Content Strategy Enterprise Marketers Content ...     Home Page   \n",
              "295  Digital Marketing Entrepreneurship Blog would ...          MISC   \n",
              "52   search listening tool market customer content ...     Home Page   \n",
              "26   AI Chatbot Software Automated Customer Service...  Product Page   \n",
              "173  Content Analytics Insights Digital Publishing ...     Home Page   \n",
              "212  powerful api Stack Data drive seo Tools datafo...          Blog   \n",
              "42   seo Toolbar Ahrefs Ahrefs seo Toolbar Ahrefs s...  Product Page   \n",
              "263  Fearlessflyercom interested writing fuel artic...     Home Page   \n",
              "57   check Visibility Index check SISTRIX Visibilit...  Product Page   \n",
              "163  help custom send good abroad I need fill custo...          MISC   \n",
              "\n",
              "        y_pred  \n",
              "234       Blog  \n",
              "184       Blog  \n",
              "295  Home Page  \n",
              "52        Blog  \n",
              "26   Home Page  \n",
              "173       Blog  \n",
              "212  Home Page  \n",
              "42        Blog  \n",
              "263       MISC  \n",
              "57        Blog  \n",
              "163       Blog  "
            ],
            "text/html": [
              "\n",
              "  <div id=\"df-8efbf9a6-57b4-4642-80f5-f1c91f4e9a33\">\n",
              "    <div class=\"colab-df-container\">\n",
              "      <div>\n",
              "<style scoped>\n",
              "    .dataframe tbody tr th:only-of-type {\n",
              "        vertical-align: middle;\n",
              "    }\n",
              "\n",
              "    .dataframe tbody tr th {\n",
              "        vertical-align: top;\n",
              "    }\n",
              "\n",
              "    .dataframe thead th {\n",
              "        text-align: right;\n",
              "    }\n",
              "</style>\n",
              "<table border=\"1\" class=\"dataframe\">\n",
              "  <thead>\n",
              "    <tr style=\"text-align: right;\">\n",
              "      <th></th>\n",
              "      <th>lemmatized_cleaned_text</th>\n",
              "      <th>y_true</th>\n",
              "      <th>y_pred</th>\n",
              "    </tr>\n",
              "  </thead>\n",
              "  <tbody>\n",
              "    <tr>\n",
              "      <th>234</th>\n",
              "      <td>MIPA DKIM Home Deployment ietf WG FAQ mipa dki...</td>\n",
              "      <td>MISC</td>\n",
              "      <td>Blog</td>\n",
              "    </tr>\n",
              "    <tr>\n",
              "      <th>184</th>\n",
              "      <td>Content Strategy Enterprise Marketers Content ...</td>\n",
              "      <td>Home Page</td>\n",
              "      <td>Blog</td>\n",
              "    </tr>\n",
              "    <tr>\n",
              "      <th>295</th>\n",
              "      <td>Digital Marketing Entrepreneurship Blog would ...</td>\n",
              "      <td>MISC</td>\n",
              "      <td>Home Page</td>\n",
              "    </tr>\n",
              "    <tr>\n",
              "      <th>52</th>\n",
              "      <td>search listening tool market customer content ...</td>\n",
              "      <td>Home Page</td>\n",
              "      <td>Blog</td>\n",
              "    </tr>\n",
              "    <tr>\n",
              "      <th>26</th>\n",
              "      <td>AI Chatbot Software Automated Customer Service...</td>\n",
              "      <td>Product Page</td>\n",
              "      <td>Home Page</td>\n",
              "    </tr>\n",
              "    <tr>\n",
              "      <th>173</th>\n",
              "      <td>Content Analytics Insights Digital Publishing ...</td>\n",
              "      <td>Home Page</td>\n",
              "      <td>Blog</td>\n",
              "    </tr>\n",
              "    <tr>\n",
              "      <th>212</th>\n",
              "      <td>powerful api Stack Data drive seo Tools datafo...</td>\n",
              "      <td>Blog</td>\n",
              "      <td>Home Page</td>\n",
              "    </tr>\n",
              "    <tr>\n",
              "      <th>42</th>\n",
              "      <td>seo Toolbar Ahrefs Ahrefs seo Toolbar Ahrefs s...</td>\n",
              "      <td>Product Page</td>\n",
              "      <td>Blog</td>\n",
              "    </tr>\n",
              "    <tr>\n",
              "      <th>263</th>\n",
              "      <td>Fearlessflyercom interested writing fuel artic...</td>\n",
              "      <td>Home Page</td>\n",
              "      <td>MISC</td>\n",
              "    </tr>\n",
              "    <tr>\n",
              "      <th>57</th>\n",
              "      <td>check Visibility Index check SISTRIX Visibilit...</td>\n",
              "      <td>Product Page</td>\n",
              "      <td>Blog</td>\n",
              "    </tr>\n",
              "    <tr>\n",
              "      <th>163</th>\n",
              "      <td>help custom send good abroad I need fill custo...</td>\n",
              "      <td>MISC</td>\n",
              "      <td>Blog</td>\n",
              "    </tr>\n",
              "  </tbody>\n",
              "</table>\n",
              "</div>\n",
              "      <button class=\"colab-df-convert\" onclick=\"convertToInteractive('df-8efbf9a6-57b4-4642-80f5-f1c91f4e9a33')\"\n",
              "              title=\"Convert this dataframe to an interactive table.\"\n",
              "              style=\"display:none;\">\n",
              "        \n",
              "  <svg xmlns=\"http://www.w3.org/2000/svg\" height=\"24px\"viewBox=\"0 0 24 24\"\n",
              "       width=\"24px\">\n",
              "    <path d=\"M0 0h24v24H0V0z\" fill=\"none\"/>\n",
              "    <path d=\"M18.56 5.44l.94 2.06.94-2.06 2.06-.94-2.06-.94-.94-2.06-.94 2.06-2.06.94zm-11 1L8.5 8.5l.94-2.06 2.06-.94-2.06-.94L8.5 2.5l-.94 2.06-2.06.94zm10 10l.94 2.06.94-2.06 2.06-.94-2.06-.94-.94-2.06-.94 2.06-2.06.94z\"/><path d=\"M17.41 7.96l-1.37-1.37c-.4-.4-.92-.59-1.43-.59-.52 0-1.04.2-1.43.59L10.3 9.45l-7.72 7.72c-.78.78-.78 2.05 0 2.83L4 21.41c.39.39.9.59 1.41.59.51 0 1.02-.2 1.41-.59l7.78-7.78 2.81-2.81c.8-.78.8-2.07 0-2.86zM5.41 20L4 18.59l7.72-7.72 1.47 1.35L5.41 20z\"/>\n",
              "  </svg>\n",
              "      </button>\n",
              "      \n",
              "  <style>\n",
              "    .colab-df-container {\n",
              "      display:flex;\n",
              "      flex-wrap:wrap;\n",
              "      gap: 12px;\n",
              "    }\n",
              "\n",
              "    .colab-df-convert {\n",
              "      background-color: #E8F0FE;\n",
              "      border: none;\n",
              "      border-radius: 50%;\n",
              "      cursor: pointer;\n",
              "      display: none;\n",
              "      fill: #1967D2;\n",
              "      height: 32px;\n",
              "      padding: 0 0 0 0;\n",
              "      width: 32px;\n",
              "    }\n",
              "\n",
              "    .colab-df-convert:hover {\n",
              "      background-color: #E2EBFA;\n",
              "      box-shadow: 0px 1px 2px rgba(60, 64, 67, 0.3), 0px 1px 3px 1px rgba(60, 64, 67, 0.15);\n",
              "      fill: #174EA6;\n",
              "    }\n",
              "\n",
              "    [theme=dark] .colab-df-convert {\n",
              "      background-color: #3B4455;\n",
              "      fill: #D2E3FC;\n",
              "    }\n",
              "\n",
              "    [theme=dark] .colab-df-convert:hover {\n",
              "      background-color: #434B5C;\n",
              "      box-shadow: 0px 1px 3px 1px rgba(0, 0, 0, 0.15);\n",
              "      filter: drop-shadow(0px 1px 2px rgba(0, 0, 0, 0.3));\n",
              "      fill: #FFFFFF;\n",
              "    }\n",
              "  </style>\n",
              "\n",
              "      <script>\n",
              "        const buttonEl =\n",
              "          document.querySelector('#df-8efbf9a6-57b4-4642-80f5-f1c91f4e9a33 button.colab-df-convert');\n",
              "        buttonEl.style.display =\n",
              "          google.colab.kernel.accessAllowed ? 'block' : 'none';\n",
              "\n",
              "        async function convertToInteractive(key) {\n",
              "          const element = document.querySelector('#df-8efbf9a6-57b4-4642-80f5-f1c91f4e9a33');\n",
              "          const dataTable =\n",
              "            await google.colab.kernel.invokeFunction('convertToInteractive',\n",
              "                                                     [key], {});\n",
              "          if (!dataTable) return;\n",
              "\n",
              "          const docLinkHtml = 'Like what you see? Visit the ' +\n",
              "            '<a target=\"_blank\" href=https://colab.research.google.com/notebooks/data_table.ipynb>data table notebook</a>'\n",
              "            + ' to learn more about interactive tables.';\n",
              "          element.innerHTML = '';\n",
              "          dataTable['output_type'] = 'display_data';\n",
              "          await google.colab.output.renderOutput(dataTable, element);\n",
              "          const docLink = document.createElement('div');\n",
              "          docLink.innerHTML = docLinkHtml;\n",
              "          element.appendChild(docLink);\n",
              "        }\n",
              "      </script>\n",
              "    </div>\n",
              "  </div>\n",
              "  "
            ]
          },
          "metadata": {},
          "execution_count": 44
        }
      ]
    },
    {
      "cell_type": "markdown",
      "source": [
        "# 2. Word2Vec approach"
      ],
      "metadata": {
        "id": "IfP2ZPbILrIG"
      }
    },
    {
      "cell_type": "code",
      "source": [
        "# Deleting heavy variables no longer useful:\n",
        "del X_train_tr\n",
        "del X_test_tr"
      ],
      "metadata": {
        "id": "iQXuOb1ZTO6b"
      },
      "execution_count": 45,
      "outputs": []
    },
    {
      "cell_type": "code",
      "source": [
        "from gensim.models import Word2Vec, KeyedVectors"
      ],
      "metadata": {
        "id": "NUe0dNLxMVOQ"
      },
      "execution_count": 46,
      "outputs": []
    },
    {
      "cell_type": "code",
      "source": [
        "import gensim.downloader as api\n",
        "path = api.load(\"word2vec-google-news-300\", return_path=True)\n",
        "print(path)"
      ],
      "metadata": {
        "colab": {
          "base_uri": "https://localhost:8080/"
        },
        "id": "VvgpcOINOrQ7",
        "outputId": "9055bbe2-380c-462a-8f74-c01a87042e41"
      },
      "execution_count": 47,
      "outputs": [
        {
          "output_type": "stream",
          "name": "stdout",
          "text": [
            "[==================================================] 100.0% 1662.8/1662.8MB downloaded\n",
            "/root/gensim-data/word2vec-google-news-300/word2vec-google-news-300.gz\n"
          ]
        }
      ]
    },
    {
      "cell_type": "code",
      "source": [
        "w2v_model = KeyedVectors.load_word2vec_format(path, binary=True)"
      ],
      "metadata": {
        "id": "cnxbRh5ERLCD"
      },
      "execution_count": 48,
      "outputs": []
    },
    {
      "cell_type": "code",
      "source": [
        "w2v_model.word_vec(\"test\").shape"
      ],
      "metadata": {
        "colab": {
          "base_uri": "https://localhost:8080/"
        },
        "id": "KeS4FUKcRY-s",
        "outputId": "1b48291a-bff7-46a5-d0bc-883242d047e7"
      },
      "execution_count": 49,
      "outputs": [
        {
          "output_type": "execute_result",
          "data": {
            "text/plain": [
              "(300,)"
            ]
          },
          "metadata": {},
          "execution_count": 49
        }
      ]
    },
    {
      "cell_type": "code",
      "source": [
        "print(\"Shape of embedding vector\", w2v_model[\"Natural\"].shape)\n",
        "print(\"First 20 numbers in the embedding of the word Natural\\n\\n\", w2v_model[\"Natural\"][:20])"
      ],
      "metadata": {
        "colab": {
          "base_uri": "https://localhost:8080/"
        },
        "id": "78jKD3tJSI6W",
        "outputId": "2cf23b65-d294-4ac5-8c30-4ecc435c02f8"
      },
      "execution_count": 50,
      "outputs": [
        {
          "output_type": "stream",
          "name": "stdout",
          "text": [
            "Shape of embedding vector (300,)\n",
            "First 20 numbers in the embedding of the word Natural\n",
            "\n",
            " [-0.22753906 -0.07617188 -0.06787109 -0.1015625   0.20214844  0.12890625\n",
            "  0.1796875  -0.11035156  0.01123047  0.01794434  0.12402344  0.11132812\n",
            " -0.3359375  -0.01104736 -0.16015625 -0.16113281 -0.13769531  0.4296875\n",
            " -0.03979492  0.05297852]\n"
          ]
        }
      ]
    },
    {
      "cell_type": "code",
      "source": [
        "df_text"
      ],
      "metadata": {
        "colab": {
          "base_uri": "https://localhost:8080/",
          "height": 659
        },
        "id": "mcb_AmMXMa5E",
        "outputId": "038fc825-b467-4b46-c1aa-81d2645371fa"
      },
      "execution_count": 79,
      "outputs": [
        {
          "output_type": "execute_result",
          "data": {
            "text/plain": [
              "                                                  text      label  \\\n",
              "0    Write For Us. Want to Write for Us?  Digital L...       MISC   \n",
              "1    Write for Us. Yes, you. We’re always looking f...       MISC   \n",
              "2    FAQs for some new features available in the Be...       Blog   \n",
              "3    The Web Credibility Project. Our research in W...  Home Page   \n",
              "4    Model DJs for Retail. DJPeoples is the nation’...       MISC   \n",
              "..                                                 ...        ...   \n",
              "293  Geniuz Media. The USPS is undoubtedly one of t...  Home Page   \n",
              "294  Submit Guest Post. Yes! We accept guest/Sponso...       MISC   \n",
              "295  Digital Marketing & Entrepreneurship Blog. Why...       MISC   \n",
              "296  Real Estate, Fashion, Software, Travel. Write ...       MISC   \n",
              "297  Amateur Bloggers Guide To WordPress For Start ...  Home Page   \n",
              "\n",
              "                                          cleaned_text  \\\n",
              "0    Write For Us Want Write Us Digital Lamp one fa...   \n",
              "1    Write Us Yes Were always looking new authors I...   \n",
              "2    FAQs new features available Beta Wayback Machi...   \n",
              "3    The Web Credibility Project Our research Web c...   \n",
              "4    Model DJs Retail DJPeoples nations premier age...   \n",
              "..                                                 ...   \n",
              "293  Geniuz Media The USPS undoubtedly one best cou...   \n",
              "294  Submit Guest Post Yes We accept guest Sponsore...   \n",
              "295  Digital Marketing Entrepreneurship Blog Why wo...   \n",
              "296  Real Estate Fashion Software Travel Write us G...   \n",
              "297  Amateur Bloggers Guide To WordPress For Start ...   \n",
              "\n",
              "                                       lemmatized_text  \\\n",
              "0    write for we . want to write for we ?   Digita...   \n",
              "1    write for we . yes , you . we ’re always look ...   \n",
              "2    FAQs for some new feature available in the Bet...   \n",
              "3    the web Credibility Project . our research in ...   \n",
              "4    Model dj for Retail . djpeople be the nation ’...   \n",
              "..                                                 ...   \n",
              "293  Geniuz Media . the USPS be undoubtedly one of ...   \n",
              "294  submit Guest Post . yes ! we accept guest / sp...   \n",
              "295  Digital Marketing & Entrepreneurship Blog . wh...   \n",
              "296  real Estate , Fashion , Software , Travel . wr...   \n",
              "297  Amateur Bloggers Guide to WordPress for Start ...   \n",
              "\n",
              "                               lemmatized_cleaned_text  \\\n",
              "0    write want write Digital Lamp one fast grow te...   \n",
              "1    write yes always look new author get idea chal...   \n",
              "2    FAQs new feature available Beta Wayback Machin...   \n",
              "3    web Credibility Project research web credibili...   \n",
              "4    Model dj Retail djpeople nation premier agency...   \n",
              "..                                                 ...   \n",
              "293  Geniuz Media USPS undoubtedly one good courier...   \n",
              "294  submit Guest Post yes accept guest sponsor pos...   \n",
              "295  Digital Marketing Entrepreneurship Blog would ...   \n",
              "296  real Estate Fashion Software Travel write guid...   \n",
              "297  Amateur Bloggers Guide WordPress Start Learnin...   \n",
              "\n",
              "                                            text_lemma  \n",
              "0    write for us . want to write for us ?   digita...  \n",
              "1    write for us . yes , you . we ’re always looki...  \n",
              "2    faqs for some new features available in the be...  \n",
              "3    the web credibility project . our research in ...  \n",
              "4    model djs for retail . djpeoples is the nation...  \n",
              "..                                                 ...  \n",
              "293  geniuz media . the usps is undoubtedly one of ...  \n",
              "294  submit guest post . yes ! we accept guest / sp...  \n",
              "295  digital marketing & entrepreneurship blog . wh...  \n",
              "296  real estate , fashion , software , travel . wr...  \n",
              "297  amateur bloggers guide to wordpress for start ...  \n",
              "\n",
              "[298 rows x 6 columns]"
            ],
            "text/html": [
              "\n",
              "  <div id=\"df-26319388-fd99-4183-91cc-ceba4663a2fa\">\n",
              "    <div class=\"colab-df-container\">\n",
              "      <div>\n",
              "<style scoped>\n",
              "    .dataframe tbody tr th:only-of-type {\n",
              "        vertical-align: middle;\n",
              "    }\n",
              "\n",
              "    .dataframe tbody tr th {\n",
              "        vertical-align: top;\n",
              "    }\n",
              "\n",
              "    .dataframe thead th {\n",
              "        text-align: right;\n",
              "    }\n",
              "</style>\n",
              "<table border=\"1\" class=\"dataframe\">\n",
              "  <thead>\n",
              "    <tr style=\"text-align: right;\">\n",
              "      <th></th>\n",
              "      <th>text</th>\n",
              "      <th>label</th>\n",
              "      <th>cleaned_text</th>\n",
              "      <th>lemmatized_text</th>\n",
              "      <th>lemmatized_cleaned_text</th>\n",
              "      <th>text_lemma</th>\n",
              "    </tr>\n",
              "  </thead>\n",
              "  <tbody>\n",
              "    <tr>\n",
              "      <th>0</th>\n",
              "      <td>Write For Us. Want to Write for Us?  Digital L...</td>\n",
              "      <td>MISC</td>\n",
              "      <td>Write For Us Want Write Us Digital Lamp one fa...</td>\n",
              "      <td>write for we . want to write for we ?   Digita...</td>\n",
              "      <td>write want write Digital Lamp one fast grow te...</td>\n",
              "      <td>write for us . want to write for us ?   digita...</td>\n",
              "    </tr>\n",
              "    <tr>\n",
              "      <th>1</th>\n",
              "      <td>Write for Us. Yes, you. We’re always looking f...</td>\n",
              "      <td>MISC</td>\n",
              "      <td>Write Us Yes Were always looking new authors I...</td>\n",
              "      <td>write for we . yes , you . we ’re always look ...</td>\n",
              "      <td>write yes always look new author get idea chal...</td>\n",
              "      <td>write for us . yes , you . we ’re always looki...</td>\n",
              "    </tr>\n",
              "    <tr>\n",
              "      <th>2</th>\n",
              "      <td>FAQs for some new features available in the Be...</td>\n",
              "      <td>Blog</td>\n",
              "      <td>FAQs new features available Beta Wayback Machi...</td>\n",
              "      <td>FAQs for some new feature available in the Bet...</td>\n",
              "      <td>FAQs new feature available Beta Wayback Machin...</td>\n",
              "      <td>faqs for some new features available in the be...</td>\n",
              "    </tr>\n",
              "    <tr>\n",
              "      <th>3</th>\n",
              "      <td>The Web Credibility Project. Our research in W...</td>\n",
              "      <td>Home Page</td>\n",
              "      <td>The Web Credibility Project Our research Web c...</td>\n",
              "      <td>the web Credibility Project . our research in ...</td>\n",
              "      <td>web Credibility Project research web credibili...</td>\n",
              "      <td>the web credibility project . our research in ...</td>\n",
              "    </tr>\n",
              "    <tr>\n",
              "      <th>4</th>\n",
              "      <td>Model DJs for Retail. DJPeoples is the nation’...</td>\n",
              "      <td>MISC</td>\n",
              "      <td>Model DJs Retail DJPeoples nations premier age...</td>\n",
              "      <td>Model dj for Retail . djpeople be the nation ’...</td>\n",
              "      <td>Model dj Retail djpeople nation premier agency...</td>\n",
              "      <td>model djs for retail . djpeoples is the nation...</td>\n",
              "    </tr>\n",
              "    <tr>\n",
              "      <th>...</th>\n",
              "      <td>...</td>\n",
              "      <td>...</td>\n",
              "      <td>...</td>\n",
              "      <td>...</td>\n",
              "      <td>...</td>\n",
              "      <td>...</td>\n",
              "    </tr>\n",
              "    <tr>\n",
              "      <th>293</th>\n",
              "      <td>Geniuz Media. The USPS is undoubtedly one of t...</td>\n",
              "      <td>Home Page</td>\n",
              "      <td>Geniuz Media The USPS undoubtedly one best cou...</td>\n",
              "      <td>Geniuz Media . the USPS be undoubtedly one of ...</td>\n",
              "      <td>Geniuz Media USPS undoubtedly one good courier...</td>\n",
              "      <td>geniuz media . the usps is undoubtedly one of ...</td>\n",
              "    </tr>\n",
              "    <tr>\n",
              "      <th>294</th>\n",
              "      <td>Submit Guest Post. Yes! We accept guest/Sponso...</td>\n",
              "      <td>MISC</td>\n",
              "      <td>Submit Guest Post Yes We accept guest Sponsore...</td>\n",
              "      <td>submit Guest Post . yes ! we accept guest / sp...</td>\n",
              "      <td>submit Guest Post yes accept guest sponsor pos...</td>\n",
              "      <td>submit guest post . yes ! we accept guest / sp...</td>\n",
              "    </tr>\n",
              "    <tr>\n",
              "      <th>295</th>\n",
              "      <td>Digital Marketing &amp; Entrepreneurship Blog. Why...</td>\n",
              "      <td>MISC</td>\n",
              "      <td>Digital Marketing Entrepreneurship Blog Why wo...</td>\n",
              "      <td>Digital Marketing &amp; Entrepreneurship Blog . wh...</td>\n",
              "      <td>Digital Marketing Entrepreneurship Blog would ...</td>\n",
              "      <td>digital marketing &amp; entrepreneurship blog . wh...</td>\n",
              "    </tr>\n",
              "    <tr>\n",
              "      <th>296</th>\n",
              "      <td>Real Estate, Fashion, Software, Travel. Write ...</td>\n",
              "      <td>MISC</td>\n",
              "      <td>Real Estate Fashion Software Travel Write us G...</td>\n",
              "      <td>real Estate , Fashion , Software , Travel . wr...</td>\n",
              "      <td>real Estate Fashion Software Travel write guid...</td>\n",
              "      <td>real estate , fashion , software , travel . wr...</td>\n",
              "    </tr>\n",
              "    <tr>\n",
              "      <th>297</th>\n",
              "      <td>Amateur Bloggers Guide To WordPress For Start ...</td>\n",
              "      <td>Home Page</td>\n",
              "      <td>Amateur Bloggers Guide To WordPress For Start ...</td>\n",
              "      <td>Amateur Bloggers Guide to WordPress for Start ...</td>\n",
              "      <td>Amateur Bloggers Guide WordPress Start Learnin...</td>\n",
              "      <td>amateur bloggers guide to wordpress for start ...</td>\n",
              "    </tr>\n",
              "  </tbody>\n",
              "</table>\n",
              "<p>298 rows × 6 columns</p>\n",
              "</div>\n",
              "      <button class=\"colab-df-convert\" onclick=\"convertToInteractive('df-26319388-fd99-4183-91cc-ceba4663a2fa')\"\n",
              "              title=\"Convert this dataframe to an interactive table.\"\n",
              "              style=\"display:none;\">\n",
              "        \n",
              "  <svg xmlns=\"http://www.w3.org/2000/svg\" height=\"24px\"viewBox=\"0 0 24 24\"\n",
              "       width=\"24px\">\n",
              "    <path d=\"M0 0h24v24H0V0z\" fill=\"none\"/>\n",
              "    <path d=\"M18.56 5.44l.94 2.06.94-2.06 2.06-.94-2.06-.94-.94-2.06-.94 2.06-2.06.94zm-11 1L8.5 8.5l.94-2.06 2.06-.94-2.06-.94L8.5 2.5l-.94 2.06-2.06.94zm10 10l.94 2.06.94-2.06 2.06-.94-2.06-.94-.94-2.06-.94 2.06-2.06.94z\"/><path d=\"M17.41 7.96l-1.37-1.37c-.4-.4-.92-.59-1.43-.59-.52 0-1.04.2-1.43.59L10.3 9.45l-7.72 7.72c-.78.78-.78 2.05 0 2.83L4 21.41c.39.39.9.59 1.41.59.51 0 1.02-.2 1.41-.59l7.78-7.78 2.81-2.81c.8-.78.8-2.07 0-2.86zM5.41 20L4 18.59l7.72-7.72 1.47 1.35L5.41 20z\"/>\n",
              "  </svg>\n",
              "      </button>\n",
              "      \n",
              "  <style>\n",
              "    .colab-df-container {\n",
              "      display:flex;\n",
              "      flex-wrap:wrap;\n",
              "      gap: 12px;\n",
              "    }\n",
              "\n",
              "    .colab-df-convert {\n",
              "      background-color: #E8F0FE;\n",
              "      border: none;\n",
              "      border-radius: 50%;\n",
              "      cursor: pointer;\n",
              "      display: none;\n",
              "      fill: #1967D2;\n",
              "      height: 32px;\n",
              "      padding: 0 0 0 0;\n",
              "      width: 32px;\n",
              "    }\n",
              "\n",
              "    .colab-df-convert:hover {\n",
              "      background-color: #E2EBFA;\n",
              "      box-shadow: 0px 1px 2px rgba(60, 64, 67, 0.3), 0px 1px 3px 1px rgba(60, 64, 67, 0.15);\n",
              "      fill: #174EA6;\n",
              "    }\n",
              "\n",
              "    [theme=dark] .colab-df-convert {\n",
              "      background-color: #3B4455;\n",
              "      fill: #D2E3FC;\n",
              "    }\n",
              "\n",
              "    [theme=dark] .colab-df-convert:hover {\n",
              "      background-color: #434B5C;\n",
              "      box-shadow: 0px 1px 3px 1px rgba(0, 0, 0, 0.15);\n",
              "      filter: drop-shadow(0px 1px 2px rgba(0, 0, 0, 0.3));\n",
              "      fill: #FFFFFF;\n",
              "    }\n",
              "  </style>\n",
              "\n",
              "      <script>\n",
              "        const buttonEl =\n",
              "          document.querySelector('#df-26319388-fd99-4183-91cc-ceba4663a2fa button.colab-df-convert');\n",
              "        buttonEl.style.display =\n",
              "          google.colab.kernel.accessAllowed ? 'block' : 'none';\n",
              "\n",
              "        async function convertToInteractive(key) {\n",
              "          const element = document.querySelector('#df-26319388-fd99-4183-91cc-ceba4663a2fa');\n",
              "          const dataTable =\n",
              "            await google.colab.kernel.invokeFunction('convertToInteractive',\n",
              "                                                     [key], {});\n",
              "          if (!dataTable) return;\n",
              "\n",
              "          const docLinkHtml = 'Like what you see? Visit the ' +\n",
              "            '<a target=\"_blank\" href=https://colab.research.google.com/notebooks/data_table.ipynb>data table notebook</a>'\n",
              "            + ' to learn more about interactive tables.';\n",
              "          element.innerHTML = '';\n",
              "          dataTable['output_type'] = 'display_data';\n",
              "          await google.colab.output.renderOutput(dataTable, element);\n",
              "          const docLink = document.createElement('div');\n",
              "          docLink.innerHTML = docLinkHtml;\n",
              "          element.appendChild(docLink);\n",
              "        }\n",
              "      </script>\n",
              "    </div>\n",
              "  </div>\n",
              "  "
            ]
          },
          "metadata": {},
          "execution_count": 79
        }
      ]
    },
    {
      "cell_type": "code",
      "source": [
        "list_of_lists = df_text['text_lemma'].str.split().tolist()"
      ],
      "metadata": {
        "id": "7Ibzv2cRn51Y"
      },
      "execution_count": 80,
      "outputs": []
    },
    {
      "cell_type": "code",
      "source": [
        "#Function that takes in the input text dataset in form of list of lists where each sentence is a list of words all the sentences are \n",
        "#inside a list\n",
        "def embedding_feats(list_of_lists, DIMENSION, w2v_model):\n",
        "    zeros_vector = np.zeros(DIMENSION)\n",
        "    feats = []\n",
        "    missing = set()\n",
        "    missing_sentences = set()\n",
        "    #Traverse over each sentence\n",
        "    for tokens in tqdm(list_of_lists):\n",
        "        # Initially assign zeroes as the embedding vector for the sentence\n",
        "        feat_for_this = zeros_vector\n",
        "        #Count the number of words in the embedding for this sentence\n",
        "        count_for_this = 0\n",
        "        #Traverse over each word of a sentence\n",
        "        for token in tokens:\n",
        "            #Check if the word is in the embedding vector\n",
        "            if token in w2v_model:\n",
        "                #Add the vector of the word to vector for the sentence\n",
        "                feat_for_this += w2v_model[token]\n",
        "                count_for_this +=1\n",
        "            #Else assign the missing word to missing set just to have a look at it\n",
        "            else:\n",
        "                missing.add(token)\n",
        "        #If no words are found in the embedding for the sentence\n",
        "        if count_for_this == 0:\n",
        "            #Assign all zeroes vector for that sentence\n",
        "            feats.append(feat_for_this)\n",
        "            #Assign the missing sentence to missing_sentences just to have a look at it\n",
        "            missing_sentences.add(' '.join(tokens))\n",
        "        #Else take average of the values of the embedding for each word to get the embedding of the sentence\n",
        "        else:\n",
        "            feats.append(feat_for_this/count_for_this)\n",
        "    return feats, missing, missing_sentences"
      ],
      "metadata": {
        "id": "Zw5XSKQJTBTd"
      },
      "execution_count": 81,
      "outputs": []
    },
    {
      "cell_type": "code",
      "source": [
        "vectors, missing, missing_sentences = embedding_feats(list_of_lists, 300, w2v_model)"
      ],
      "metadata": {
        "colab": {
          "base_uri": "https://localhost:8080/"
        },
        "id": "gEBx-1kpoqU5",
        "outputId": "a1a9497d-d614-44e9-eae7-20e266654f5a"
      },
      "execution_count": 82,
      "outputs": [
        {
          "output_type": "stream",
          "name": "stderr",
          "text": [
            "100%|██████████| 298/298 [00:00<00:00, 358.16it/s]\n"
          ]
        }
      ]
    },
    {
      "cell_type": "code",
      "source": [
        "print(\"Shape of the final embeddings for the sentences\", np.array(vectors).shape)\n",
        "print(\"First 20 numbers in the embedding of the first train sentence\\n\\n\", np.array(vectors)[0][:20])"
      ],
      "metadata": {
        "colab": {
          "base_uri": "https://localhost:8080/"
        },
        "id": "XmC-QNOmoy2Y",
        "outputId": "3032cbce-4b5b-4b98-ec84-29c71faee572"
      },
      "execution_count": 83,
      "outputs": [
        {
          "output_type": "stream",
          "name": "stdout",
          "text": [
            "Shape of the final embeddings for the sentences (298, 300)\n",
            "First 20 numbers in the embedding of the first train sentence\n",
            "\n",
            " [ 0.01043723 -0.00884224  0.00654875  0.06653393 -0.05622904  0.02908419\n",
            " -0.00106272 -0.05186044  0.03571645 -0.00347303 -0.10706675 -0.08256114\n",
            "  0.0127479   0.00736069 -0.11823477  0.07284687  0.09000731  0.01420004\n",
            " -0.01915573 -0.05401642]\n"
          ]
        }
      ]
    },
    {
      "cell_type": "code",
      "source": [
        "len(vectors), vectors[0].shape"
      ],
      "metadata": {
        "colab": {
          "base_uri": "https://localhost:8080/"
        },
        "id": "fybx2p5No_wu",
        "outputId": "49ab8d1f-e12b-48ca-eb7f-3dbac703e087"
      },
      "execution_count": 84,
      "outputs": [
        {
          "output_type": "execute_result",
          "data": {
            "text/plain": [
              "(298, (300,))"
            ]
          },
          "metadata": {},
          "execution_count": 84
        }
      ]
    },
    {
      "cell_type": "code",
      "source": [
        "#Function for calculating roc auc with given actual binary values across target variables\n",
        "#and the probability score made by the model\n",
        "def accuracy(y_test, y_pred):\n",
        "    aucs = []\n",
        "    #Calculate the ROC-AUC for each of the target column\n",
        "    for col in range(y_test.shape[1]):\n",
        "        aucs.append(roc_auc_score(y_test[:,col],y_pred[:,col]))\n",
        "    return aucs"
      ],
      "metadata": {
        "id": "VPKdXk12pQtr"
      },
      "execution_count": 85,
      "outputs": []
    },
    {
      "cell_type": "code",
      "source": [
        "from statistics import mean"
      ],
      "metadata": {
        "id": "djfXPxCAwVMp"
      },
      "execution_count": 86,
      "outputs": []
    },
    {
      "cell_type": "code",
      "source": [
        "vectors, missing, missing_sentences = embedding_feats(list_of_lists, 300, w2v_model)"
      ],
      "metadata": {
        "colab": {
          "base_uri": "https://localhost:8080/"
        },
        "id": "JXx82SNLxIqs",
        "outputId": "3939fc6e-561f-4a27-ede4-3022c30ea894"
      },
      "execution_count": 87,
      "outputs": [
        {
          "output_type": "stream",
          "name": "stderr",
          "text": [
            "100%|██████████| 298/298 [00:00<00:00, 406.70it/s]\n"
          ]
        }
      ]
    },
    {
      "cell_type": "code",
      "source": [
        "train_data, val_data, train_cats, val_cats = train_test_split(vectors, y, \n",
        "                                                              test_size=test_size,\n",
        "                                                              stratify=y, \n",
        "                                                              random_state=random_state)"
      ],
      "metadata": {
        "id": "OC7Dktguz0Ns"
      },
      "execution_count": 88,
      "outputs": []
    },
    {
      "cell_type": "code",
      "source": [
        "lr = LogisticRegression(max_iter=10000, class_weight='balanced').fit(train_data, train_cats)"
      ],
      "metadata": {
        "id": "umjhVW6ux-Qn"
      },
      "execution_count": 89,
      "outputs": []
    },
    {
      "cell_type": "code",
      "source": [
        "y_vals = val_cats"
      ],
      "metadata": {
        "id": "tOk8JbXjyHbx"
      },
      "execution_count": 90,
      "outputs": []
    },
    {
      "cell_type": "code",
      "source": [
        "y_preds = lr.predict(val_data)"
      ],
      "metadata": {
        "id": "wrY7SISxyQ3U"
      },
      "execution_count": 91,
      "outputs": []
    },
    {
      "cell_type": "code",
      "source": [
        "y_test.value_counts() # checking how many there were before"
      ],
      "metadata": {
        "colab": {
          "base_uri": "https://localhost:8080/"
        },
        "id": "8Q_iQQ7uzhCD",
        "outputId": "df19721c-ea97-4a61-9270-9d9dd08a3d1f"
      },
      "execution_count": 92,
      "outputs": [
        {
          "output_type": "execute_result",
          "data": {
            "text/plain": [
              "Home Page       23\n",
              "Blog            16\n",
              "MISC            13\n",
              "Product Page     8\n",
              "Name: label, dtype: int64"
            ]
          },
          "metadata": {},
          "execution_count": 92
        }
      ]
    },
    {
      "cell_type": "code",
      "source": [
        "y_vals.value_counts()"
      ],
      "metadata": {
        "colab": {
          "base_uri": "https://localhost:8080/"
        },
        "id": "e0ypvea1ze1o",
        "outputId": "7788418d-8480-4ded-b49c-020a39e54eb3"
      },
      "execution_count": 93,
      "outputs": [
        {
          "output_type": "execute_result",
          "data": {
            "text/plain": [
              "Home Page       23\n",
              "Blog            16\n",
              "MISC            13\n",
              "Product Page     8\n",
              "Name: label, dtype: int64"
            ]
          },
          "metadata": {},
          "execution_count": 93
        }
      ]
    },
    {
      "cell_type": "code",
      "source": [
        "print_confusion_matrix(y_vals, y_preds, with_report=False)"
      ],
      "metadata": {
        "colab": {
          "base_uri": "https://localhost:8080/",
          "height": 297
        },
        "id": "hIBuNelWqruI",
        "outputId": "d769fb32-a5e0-491a-c087-0fe1729e0346"
      },
      "execution_count": 94,
      "outputs": [
        {
          "output_type": "display_data",
          "data": {
            "text/plain": [
              "<Figure size 432x288 with 2 Axes>"
            ],
            "image/png": "[encoded data removed]"
          },
          "metadata": {
            "needs_background": "light"
          }
        }
      ]
    },
    {
      "cell_type": "markdown",
      "source": [
        "# 3. BERT approach"
      ],
      "metadata": {
        "id": "NLRh9mXsSv6w"
      }
    },
    {
      "cell_type": "code",
      "source": [
        "# Deleting heavy variables no longer useful:\n",
        "try:\n",
        "  del path, w2v_model\n",
        "except NameError:\n",
        "  pass"
      ],
      "metadata": {
        "id": "7i5OcK-RPMpS"
      },
      "execution_count": 37,
      "outputs": []
    },
    {
      "cell_type": "code",
      "source": [
        "import urllib3\n",
        "urllib3.__version__"
      ],
      "metadata": {
        "colab": {
          "base_uri": "https://localhost:8080/",
          "height": 35
        },
        "id": "30T5eGo3UrhP",
        "outputId": "39de5047-5ccc-4772-dac7-8183d5a853a3"
      },
      "execution_count": 39,
      "outputs": [
        {
          "output_type": "execute_result",
          "data": {
            "text/plain": [
              "'1.25.11'"
            ],
            "application/vnd.google.colaboratory.intrinsic+json": {
              "type": "string"
            }
          },
          "metadata": {},
          "execution_count": 39
        }
      ]
    },
    {
      "cell_type": "code",
      "source": [
        "from pytorch_pretrained_bert import BertTokenizer, BertForSequenceClassification, BertAdam\n",
        "import torch\n",
        "from torch.utils.data import TensorDataset, RandomSampler, SequentialSampler, DataLoader\n",
        "from torch.nn import BCEWithLogitsLoss, Sigmoid\n",
        "\n",
        "from tqdm.notebook import tqdm, trange\n",
        "\n",
        "# from keras.preprocessing.sequence import pad_sequences"
      ],
      "metadata": {
        "id": "WJVcIyUoSzEG"
      },
      "execution_count": 42,
      "outputs": []
    },
    {
      "cell_type": "code",
      "source": [
        "df_text"
      ],
      "metadata": {
        "colab": {
          "base_uri": "https://localhost:8080/",
          "height": 659
        },
        "id": "RINwVrjcedAZ",
        "outputId": "2b839109-38e0-4028-f824-6e5c6e1e3f0b"
      },
      "execution_count": 47,
      "outputs": [
        {
          "output_type": "execute_result",
          "data": {
            "text/plain": [
              "                                                  text      label  \\\n",
              "0    Write For Us. Want to Write for Us?  Digital L...       MISC   \n",
              "1    Write for Us. Yes, you. We’re always looking f...       MISC   \n",
              "2    FAQs for some new features available in the Be...       Blog   \n",
              "3    The Web Credibility Project. Our research in W...  Home Page   \n",
              "4    Model DJs for Retail. DJPeoples is the nation’...       MISC   \n",
              "..                                                 ...        ...   \n",
              "293  Geniuz Media. The USPS is undoubtedly one of t...  Home Page   \n",
              "294  Submit Guest Post. Yes! We accept guest/Sponso...       MISC   \n",
              "295  Digital Marketing & Entrepreneurship Blog. Why...       MISC   \n",
              "296  Real Estate, Fashion, Software, Travel. Write ...       MISC   \n",
              "297  Amateur Bloggers Guide To WordPress For Start ...  Home Page   \n",
              "\n",
              "                                          cleaned_text  \\\n",
              "0    Write For Us Want Write Us Digital Lamp one fa...   \n",
              "1    Write Us Yes Were always looking new authors I...   \n",
              "2    FAQs new features available Beta Wayback Machi...   \n",
              "3    The Web Credibility Project Our research Web c...   \n",
              "4    Model DJs Retail DJPeoples nations premier age...   \n",
              "..                                                 ...   \n",
              "293  Geniuz Media The USPS undoubtedly one best cou...   \n",
              "294  Submit Guest Post Yes We accept guest Sponsore...   \n",
              "295  Digital Marketing Entrepreneurship Blog Why wo...   \n",
              "296  Real Estate Fashion Software Travel Write us G...   \n",
              "297  Amateur Bloggers Guide To WordPress For Start ...   \n",
              "\n",
              "                                       lemmatized_text  \\\n",
              "0    write for we . want to write for we ?   Digita...   \n",
              "1    write for we . yes , you . we ’re always look ...   \n",
              "2    FAQs for some new feature available in the Bet...   \n",
              "3    the web Credibility Project . our research in ...   \n",
              "4    Model dj for Retail . djpeople be the nation ’...   \n",
              "..                                                 ...   \n",
              "293  Geniuz Media . the USPS be undoubtedly one of ...   \n",
              "294  submit Guest Post . yes ! we accept guest / sp...   \n",
              "295  Digital Marketing & Entrepreneurship Blog . wh...   \n",
              "296  real Estate , Fashion , Software , Travel . wr...   \n",
              "297  Amateur Bloggers Guide to WordPress for Start ...   \n",
              "\n",
              "                               lemmatized_cleaned_text  \\\n",
              "0    write want write Digital Lamp one fast grow te...   \n",
              "1    write yes always look new author get idea chal...   \n",
              "2    FAQs new feature available Beta Wayback Machin...   \n",
              "3    web Credibility Project research web credibili...   \n",
              "4    Model dj Retail djpeople nation premier agency...   \n",
              "..                                                 ...   \n",
              "293  Geniuz Media USPS undoubtedly one good courier...   \n",
              "294  submit Guest Post yes accept guest sponsor pos...   \n",
              "295  Digital Marketing Entrepreneurship Blog would ...   \n",
              "296  real Estate Fashion Software Travel write guid...   \n",
              "297  Amateur Bloggers Guide WordPress Start Learnin...   \n",
              "\n",
              "                                              w2v_text  \n",
              "0    write for us . want to write for us ?   digita...  \n",
              "1    write for us . yes , you . we ’re always looki...  \n",
              "2    faqs for some new features available in the be...  \n",
              "3    the web credibility project . our research in ...  \n",
              "4    model djs for retail . djpeoples is the nation...  \n",
              "..                                                 ...  \n",
              "293  geniuz media . the usps is undoubtedly one of ...  \n",
              "294  submit guest post . yes ! we accept guest / sp...  \n",
              "295  digital marketing & entrepreneurship blog . wh...  \n",
              "296  real estate , fashion , software , travel . wr...  \n",
              "297  amateur bloggers guide to wordpress for start ...  \n",
              "\n",
              "[298 rows x 6 columns]"
            ],
            "text/html": [
              "\n",
              "  <div id=\"df-a3836d07-ad5b-45c4-8f64-86d001a8a585\">\n",
              "    <div class=\"colab-df-container\">\n",
              "      <div>\n",
              "<style scoped>\n",
              "    .dataframe tbody tr th:only-of-type {\n",
              "        vertical-align: middle;\n",
              "    }\n",
              "\n",
              "    .dataframe tbody tr th {\n",
              "        vertical-align: top;\n",
              "    }\n",
              "\n",
              "    .dataframe thead th {\n",
              "        text-align: right;\n",
              "    }\n",
              "</style>\n",
              "<table border=\"1\" class=\"dataframe\">\n",
              "  <thead>\n",
              "    <tr style=\"text-align: right;\">\n",
              "      <th></th>\n",
              "      <th>text</th>\n",
              "      <th>label</th>\n",
              "      <th>cleaned_text</th>\n",
              "      <th>lemmatized_text</th>\n",
              "      <th>lemmatized_cleaned_text</th>\n",
              "      <th>w2v_text</th>\n",
              "    </tr>\n",
              "  </thead>\n",
              "  <tbody>\n",
              "    <tr>\n",
              "      <th>0</th>\n",
              "      <td>Write For Us. Want to Write for Us?  Digital L...</td>\n",
              "      <td>MISC</td>\n",
              "      <td>Write For Us Want Write Us Digital Lamp one fa...</td>\n",
              "      <td>write for we . want to write for we ?   Digita...</td>\n",
              "      <td>write want write Digital Lamp one fast grow te...</td>\n",
              "      <td>write for us . want to write for us ?   digita...</td>\n",
              "    </tr>\n",
              "    <tr>\n",
              "      <th>1</th>\n",
              "      <td>Write for Us. Yes, you. We’re always looking f...</td>\n",
              "      <td>MISC</td>\n",
              "      <td>Write Us Yes Were always looking new authors I...</td>\n",
              "      <td>write for we . yes , you . we ’re always look ...</td>\n",
              "      <td>write yes always look new author get idea chal...</td>\n",
              "      <td>write for us . yes , you . we ’re always looki...</td>\n",
              "    </tr>\n",
              "    <tr>\n",
              "      <th>2</th>\n",
              "      <td>FAQs for some new features available in the Be...</td>\n",
              "      <td>Blog</td>\n",
              "      <td>FAQs new features available Beta Wayback Machi...</td>\n",
              "      <td>FAQs for some new feature available in the Bet...</td>\n",
              "      <td>FAQs new feature available Beta Wayback Machin...</td>\n",
              "      <td>faqs for some new features available in the be...</td>\n",
              "    </tr>\n",
              "    <tr>\n",
              "      <th>3</th>\n",
              "      <td>The Web Credibility Project. Our research in W...</td>\n",
              "      <td>Home Page</td>\n",
              "      <td>The Web Credibility Project Our research Web c...</td>\n",
              "      <td>the web Credibility Project . our research in ...</td>\n",
              "      <td>web Credibility Project research web credibili...</td>\n",
              "      <td>the web credibility project . our research in ...</td>\n",
              "    </tr>\n",
              "    <tr>\n",
              "      <th>4</th>\n",
              "      <td>Model DJs for Retail. DJPeoples is the nation’...</td>\n",
              "      <td>MISC</td>\n",
              "      <td>Model DJs Retail DJPeoples nations premier age...</td>\n",
              "      <td>Model dj for Retail . djpeople be the nation ’...</td>\n",
              "      <td>Model dj Retail djpeople nation premier agency...</td>\n",
              "      <td>model djs for retail . djpeoples is the nation...</td>\n",
              "    </tr>\n",
              "    <tr>\n",
              "      <th>...</th>\n",
              "      <td>...</td>\n",
              "      <td>...</td>\n",
              "      <td>...</td>\n",
              "      <td>...</td>\n",
              "      <td>...</td>\n",
              "      <td>...</td>\n",
              "    </tr>\n",
              "    <tr>\n",
              "      <th>293</th>\n",
              "      <td>Geniuz Media. The USPS is undoubtedly one of t...</td>\n",
              "      <td>Home Page</td>\n",
              "      <td>Geniuz Media The USPS undoubtedly one best cou...</td>\n",
              "      <td>Geniuz Media . the USPS be undoubtedly one of ...</td>\n",
              "      <td>Geniuz Media USPS undoubtedly one good courier...</td>\n",
              "      <td>geniuz media . the usps is undoubtedly one of ...</td>\n",
              "    </tr>\n",
              "    <tr>\n",
              "      <th>294</th>\n",
              "      <td>Submit Guest Post. Yes! We accept guest/Sponso...</td>\n",
              "      <td>MISC</td>\n",
              "      <td>Submit Guest Post Yes We accept guest Sponsore...</td>\n",
              "      <td>submit Guest Post . yes ! we accept guest / sp...</td>\n",
              "      <td>submit Guest Post yes accept guest sponsor pos...</td>\n",
              "      <td>submit guest post . yes ! we accept guest / sp...</td>\n",
              "    </tr>\n",
              "    <tr>\n",
              "      <th>295</th>\n",
              "      <td>Digital Marketing &amp; Entrepreneurship Blog. Why...</td>\n",
              "      <td>MISC</td>\n",
              "      <td>Digital Marketing Entrepreneurship Blog Why wo...</td>\n",
              "      <td>Digital Marketing &amp; Entrepreneurship Blog . wh...</td>\n",
              "      <td>Digital Marketing Entrepreneurship Blog would ...</td>\n",
              "      <td>digital marketing &amp; entrepreneurship blog . wh...</td>\n",
              "    </tr>\n",
              "    <tr>\n",
              "      <th>296</th>\n",
              "      <td>Real Estate, Fashion, Software, Travel. Write ...</td>\n",
              "      <td>MISC</td>\n",
              "      <td>Real Estate Fashion Software Travel Write us G...</td>\n",
              "      <td>real Estate , Fashion , Software , Travel . wr...</td>\n",
              "      <td>real Estate Fashion Software Travel write guid...</td>\n",
              "      <td>real estate , fashion , software , travel . wr...</td>\n",
              "    </tr>\n",
              "    <tr>\n",
              "      <th>297</th>\n",
              "      <td>Amateur Bloggers Guide To WordPress For Start ...</td>\n",
              "      <td>Home Page</td>\n",
              "      <td>Amateur Bloggers Guide To WordPress For Start ...</td>\n",
              "      <td>Amateur Bloggers Guide to WordPress for Start ...</td>\n",
              "      <td>Amateur Bloggers Guide WordPress Start Learnin...</td>\n",
              "      <td>amateur bloggers guide to wordpress for start ...</td>\n",
              "    </tr>\n",
              "  </tbody>\n",
              "</table>\n",
              "<p>298 rows × 6 columns</p>\n",
              "</div>\n",
              "      <button class=\"colab-df-convert\" onclick=\"convertToInteractive('df-a3836d07-ad5b-45c4-8f64-86d001a8a585')\"\n",
              "              title=\"Convert this dataframe to an interactive table.\"\n",
              "              style=\"display:none;\">\n",
              "        \n",
              "  <svg xmlns=\"http://www.w3.org/2000/svg\" height=\"24px\"viewBox=\"0 0 24 24\"\n",
              "       width=\"24px\">\n",
              "    <path d=\"M0 0h24v24H0V0z\" fill=\"none\"/>\n",
              "    <path d=\"M18.56 5.44l.94 2.06.94-2.06 2.06-.94-2.06-.94-.94-2.06-.94 2.06-2.06.94zm-11 1L8.5 8.5l.94-2.06 2.06-.94-2.06-.94L8.5 2.5l-.94 2.06-2.06.94zm10 10l.94 2.06.94-2.06 2.06-.94-2.06-.94-.94-2.06-.94 2.06-2.06.94z\"/><path d=\"M17.41 7.96l-1.37-1.37c-.4-.4-.92-.59-1.43-.59-.52 0-1.04.2-1.43.59L10.3 9.45l-7.72 7.72c-.78.78-.78 2.05 0 2.83L4 21.41c.39.39.9.59 1.41.59.51 0 1.02-.2 1.41-.59l7.78-7.78 2.81-2.81c.8-.78.8-2.07 0-2.86zM5.41 20L4 18.59l7.72-7.72 1.47 1.35L5.41 20z\"/>\n",
              "  </svg>\n",
              "      </button>\n",
              "      \n",
              "  <style>\n",
              "    .colab-df-container {\n",
              "      display:flex;\n",
              "      flex-wrap:wrap;\n",
              "      gap: 12px;\n",
              "    }\n",
              "\n",
              "    .colab-df-convert {\n",
              "      background-color: #E8F0FE;\n",
              "      border: none;\n",
              "      border-radius: 50%;\n",
              "      cursor: pointer;\n",
              "      display: none;\n",
              "      fill: #1967D2;\n",
              "      height: 32px;\n",
              "      padding: 0 0 0 0;\n",
              "      width: 32px;\n",
              "    }\n",
              "\n",
              "    .colab-df-convert:hover {\n",
              "      background-color: #E2EBFA;\n",
              "      box-shadow: 0px 1px 2px rgba(60, 64, 67, 0.3), 0px 1px 3px 1px rgba(60, 64, 67, 0.15);\n",
              "      fill: #174EA6;\n",
              "    }\n",
              "\n",
              "    [theme=dark] .colab-df-convert {\n",
              "      background-color: #3B4455;\n",
              "      fill: #D2E3FC;\n",
              "    }\n",
              "\n",
              "    [theme=dark] .colab-df-convert:hover {\n",
              "      background-color: #434B5C;\n",
              "      box-shadow: 0px 1px 3px 1px rgba(0, 0, 0, 0.15);\n",
              "      filter: drop-shadow(0px 1px 2px rgba(0, 0, 0, 0.3));\n",
              "      fill: #FFFFFF;\n",
              "    }\n",
              "  </style>\n",
              "\n",
              "      <script>\n",
              "        const buttonEl =\n",
              "          document.querySelector('#df-a3836d07-ad5b-45c4-8f64-86d001a8a585 button.colab-df-convert');\n",
              "        buttonEl.style.display =\n",
              "          google.colab.kernel.accessAllowed ? 'block' : 'none';\n",
              "\n",
              "        async function convertToInteractive(key) {\n",
              "          const element = document.querySelector('#df-a3836d07-ad5b-45c4-8f64-86d001a8a585');\n",
              "          const dataTable =\n",
              "            await google.colab.kernel.invokeFunction('convertToInteractive',\n",
              "                                                     [key], {});\n",
              "          if (!dataTable) return;\n",
              "\n",
              "          const docLinkHtml = 'Like what you see? Visit the ' +\n",
              "            '<a target=\"_blank\" href=https://colab.research.google.com/notebooks/data_table.ipynb>data table notebook</a>'\n",
              "            + ' to learn more about interactive tables.';\n",
              "          element.innerHTML = '';\n",
              "          dataTable['output_type'] = 'display_data';\n",
              "          await google.colab.output.renderOutput(dataTable, element);\n",
              "          const docLink = document.createElement('div');\n",
              "          docLink.innerHTML = docLinkHtml;\n",
              "          element.appendChild(docLink);\n",
              "        }\n",
              "      </script>\n",
              "    </div>\n",
              "  </div>\n",
              "  "
            ]
          },
          "metadata": {},
          "execution_count": 47
        }
      ]
    },
    {
      "cell_type": "code",
      "source": [
        "# Cell 9\n",
        "test_size = 0.2\n",
        "random_state = 0\n",
        "\n",
        "# Important cell # 9\n",
        "column_used = 'w2v_text'\n",
        "\n",
        "X = df_text[[column_used]]\n",
        "y = df_text[TARGET]\n",
        "\n",
        "X_train, X_test, y_train, y_test = train_test_split(X, y, \n",
        "                                                    test_size=test_size,\n",
        "                                                    stratify=y, \n",
        "                                                    random_state=random_state)"
      ],
      "metadata": {
        "id": "hLw_Nw5XTxVF"
      },
      "execution_count": 48,
      "outputs": []
    },
    {
      "cell_type": "markdown",
      "source": [
        "# 3. 2nd BERT approach"
      ],
      "metadata": {
        "id": "pkv3vI9Bj1P6"
      }
    },
    {
      "cell_type": "code",
      "source": [
        "! pip install datasets"
      ],
      "metadata": {
        "colab": {
          "base_uri": "https://localhost:8080/"
        },
        "id": "g26xl0nUj6fV",
        "outputId": "ac1919a2-74ba-44c5-937a-cfd159038020"
      },
      "execution_count": 33,
      "outputs": [
        {
          "output_type": "stream",
          "name": "stdout",
          "text": [
            "Looking in indexes: https://pypi.org/simple, https://us-python.pkg.dev/colab-wheels/public/simple/\n",
            "Requirement already satisfied: datasets in /usr/local/lib/python3.8/dist-packages (2.7.1)\n",
            "Requirement already satisfied: pandas in /usr/local/lib/python3.8/dist-packages (from datasets) (1.3.5)\n",
            "Requirement already satisfied: requests>=2.19.0 in /usr/local/lib/python3.8/dist-packages (from datasets) (2.23.0)\n",
            "Requirement already satisfied: packaging in /usr/local/lib/python3.8/dist-packages (from datasets) (21.3)\n",
            "Requirement already satisfied: fsspec[http]>=2021.11.1 in /usr/local/lib/python3.8/dist-packages (from datasets) (2022.11.0)\n",
            "Requirement already satisfied: huggingface-hub<1.0.0,>=0.2.0 in /usr/local/lib/python3.8/dist-packages (from datasets) (0.11.1)\n",
            "Requirement already satisfied: pyarrow>=6.0.0 in /usr/local/lib/python3.8/dist-packages (from datasets) (9.0.0)\n",
            "Requirement already satisfied: pyyaml>=5.1 in /usr/local/lib/python3.8/dist-packages (from datasets) (6.0)\n",
            "Requirement already satisfied: xxhash in /usr/local/lib/python3.8/dist-packages (from datasets) (3.1.0)\n",
            "Requirement already satisfied: tqdm>=4.62.1 in /usr/local/lib/python3.8/dist-packages (from datasets) (4.64.1)\n",
            "Requirement already satisfied: numpy>=1.17 in /usr/local/lib/python3.8/dist-packages (from datasets) (1.21.6)\n",
            "Requirement already satisfied: aiohttp in /usr/local/lib/python3.8/dist-packages (from datasets) (3.8.3)\n",
            "Requirement already satisfied: dill<0.3.7 in /usr/local/lib/python3.8/dist-packages (from datasets) (0.3.6)\n",
            "Requirement already satisfied: responses<0.19 in /usr/local/lib/python3.8/dist-packages (from datasets) (0.18.0)\n",
            "Requirement already satisfied: multiprocess in /usr/local/lib/python3.8/dist-packages (from datasets) (0.70.14)\n",
            "Requirement already satisfied: attrs>=17.3.0 in /usr/local/lib/python3.8/dist-packages (from aiohttp->datasets) (22.1.0)\n",
            "Requirement already satisfied: frozenlist>=1.1.1 in /usr/local/lib/python3.8/dist-packages (from aiohttp->datasets) (1.3.3)\n",
            "Requirement already satisfied: yarl<2.0,>=1.0 in /usr/local/lib/python3.8/dist-packages (from aiohttp->datasets) (1.8.2)\n",
            "Requirement already satisfied: multidict<7.0,>=4.5 in /usr/local/lib/python3.8/dist-packages (from aiohttp->datasets) (6.0.3)\n",
            "Requirement already satisfied: aiosignal>=1.1.2 in /usr/local/lib/python3.8/dist-packages (from aiohttp->datasets) (1.3.1)\n",
            "Requirement already satisfied: charset-normalizer<3.0,>=2.0 in /usr/local/lib/python3.8/dist-packages (from aiohttp->datasets) (2.1.1)\n",
            "Requirement already satisfied: async-timeout<5.0,>=4.0.0a3 in /usr/local/lib/python3.8/dist-packages (from aiohttp->datasets) (4.0.2)\n",
            "Requirement already satisfied: typing-extensions>=3.7.4.3 in /usr/local/lib/python3.8/dist-packages (from huggingface-hub<1.0.0,>=0.2.0->datasets) (4.4.0)\n",
            "Requirement already satisfied: filelock in /usr/local/lib/python3.8/dist-packages (from huggingface-hub<1.0.0,>=0.2.0->datasets) (3.8.0)\n",
            "Requirement already satisfied: pyparsing!=3.0.5,>=2.0.2 in /usr/local/lib/python3.8/dist-packages (from packaging->datasets) (3.0.9)\n",
            "Requirement already satisfied: urllib3!=1.25.0,!=1.25.1,<1.26,>=1.21.1 in /usr/local/lib/python3.8/dist-packages (from requests>=2.19.0->datasets) (1.25.11)\n",
            "Requirement already satisfied: certifi>=2017.4.17 in /usr/local/lib/python3.8/dist-packages (from requests>=2.19.0->datasets) (2022.9.24)\n",
            "Requirement already satisfied: chardet<4,>=3.0.2 in /usr/local/lib/python3.8/dist-packages (from requests>=2.19.0->datasets) (3.0.4)\n",
            "Requirement already satisfied: idna<3,>=2.5 in /usr/local/lib/python3.8/dist-packages (from requests>=2.19.0->datasets) (2.10)\n",
            "Requirement already satisfied: pytz>=2017.3 in /usr/local/lib/python3.8/dist-packages (from pandas->datasets) (2022.6)\n",
            "Requirement already satisfied: python-dateutil>=2.7.3 in /usr/local/lib/python3.8/dist-packages (from pandas->datasets) (2.8.2)\n",
            "Requirement already satisfied: six>=1.5 in /usr/local/lib/python3.8/dist-packages (from python-dateutil>=2.7.3->pandas->datasets) (1.15.0)\n"
          ]
        }
      ]
    },
    {
      "cell_type": "code",
      "source": [
        "from datasets import load_dataset"
      ],
      "metadata": {
        "id": "5KM3xQpFfejK"
      },
      "execution_count": 34,
      "outputs": []
    },
    {
      "cell_type": "code",
      "source": [
        "! pwd"
      ],
      "metadata": {
        "colab": {
          "base_uri": "https://localhost:8080/"
        },
        "id": "0GSUnmgfkS4J",
        "outputId": "ef61cb65-ab81-483f-e27e-3ff09224531e"
      },
      "execution_count": 35,
      "outputs": [
        {
          "output_type": "stream",
          "name": "stdout",
          "text": [
            "/content/drive/MyDrive/url_classification\n"
          ]
        }
      ]
    },
    {
      "cell_type": "code",
      "source": [
        "csv_path"
      ],
      "metadata": {
        "colab": {
          "base_uri": "https://localhost:8080/",
          "height": 35
        },
        "id": "Ce_iT91Ij4x0",
        "outputId": "bb4d4dea-880a-49d6-f773-b661e970dae1"
      },
      "execution_count": 36,
      "outputs": [
        {
          "output_type": "execute_result",
          "data": {
            "text/plain": [
              "'url_classification_temporary481.csv'"
            ],
            "application/vnd.google.colaboratory.intrinsic+json": {
              "type": "string"
            }
          },
          "metadata": {},
          "execution_count": 36
        }
      ]
    },
    {
      "cell_type": "code",
      "source": [
        "df_text.head(3)"
      ],
      "metadata": {
        "colab": {
          "base_uri": "https://localhost:8080/",
          "height": 240
        },
        "id": "wcG1vMfrmVCs",
        "outputId": "74cb9d7e-22ed-46be-ad3f-97c996260002"
      },
      "execution_count": 37,
      "outputs": [
        {
          "output_type": "execute_result",
          "data": {
            "text/plain": [
              "                                                text label  \\\n",
              "0  Write For Us. Want to Write for Us?  Digital L...  MISC   \n",
              "1  Write for Us. Yes, you. We’re always looking f...  MISC   \n",
              "2  FAQs for some new features available in the Be...  Blog   \n",
              "\n",
              "                                        cleaned_text  \\\n",
              "0  Write For Us Want Write Us Digital Lamp one fa...   \n",
              "1  Write Us Yes Were always looking new authors I...   \n",
              "2  FAQs new features available Beta Wayback Machi...   \n",
              "\n",
              "                                     lemmatized_text  \\\n",
              "0  write for we . want to write for we ?   Digita...   \n",
              "1  write for we . yes , you . we ’re always look ...   \n",
              "2  FAQs for some new feature available in the Bet...   \n",
              "\n",
              "                             lemmatized_cleaned_text  \\\n",
              "0  write want write Digital Lamp one fast grow te...   \n",
              "1  write yes always look new author get idea chal...   \n",
              "2  FAQs new feature available Beta Wayback Machin...   \n",
              "\n",
              "                                            w2v_text  \n",
              "0  write for us . want to write for us ?   digita...  \n",
              "1  write for us . yes , you . we ’re always looki...  \n",
              "2  faqs for some new features available in the be...  "
            ],
            "text/html": [
              "\n",
              "  <div id=\"df-1f942dda-6840-433e-8b4e-6e9ddeb29b52\">\n",
              "    <div class=\"colab-df-container\">\n",
              "      <div>\n",
              "<style scoped>\n",
              "    .dataframe tbody tr th:only-of-type {\n",
              "        vertical-align: middle;\n",
              "    }\n",
              "\n",
              "    .dataframe tbody tr th {\n",
              "        vertical-align: top;\n",
              "    }\n",
              "\n",
              "    .dataframe thead th {\n",
              "        text-align: right;\n",
              "    }\n",
              "</style>\n",
              "<table border=\"1\" class=\"dataframe\">\n",
              "  <thead>\n",
              "    <tr style=\"text-align: right;\">\n",
              "      <th></th>\n",
              "      <th>text</th>\n",
              "      <th>label</th>\n",
              "      <th>cleaned_text</th>\n",
              "      <th>lemmatized_text</th>\n",
              "      <th>lemmatized_cleaned_text</th>\n",
              "      <th>w2v_text</th>\n",
              "    </tr>\n",
              "  </thead>\n",
              "  <tbody>\n",
              "    <tr>\n",
              "      <th>0</th>\n",
              "      <td>Write For Us. Want to Write for Us?  Digital L...</td>\n",
              "      <td>MISC</td>\n",
              "      <td>Write For Us Want Write Us Digital Lamp one fa...</td>\n",
              "      <td>write for we . want to write for we ?   Digita...</td>\n",
              "      <td>write want write Digital Lamp one fast grow te...</td>\n",
              "      <td>write for us . want to write for us ?   digita...</td>\n",
              "    </tr>\n",
              "    <tr>\n",
              "      <th>1</th>\n",
              "      <td>Write for Us. Yes, you. We’re always looking f...</td>\n",
              "      <td>MISC</td>\n",
              "      <td>Write Us Yes Were always looking new authors I...</td>\n",
              "      <td>write for we . yes , you . we ’re always look ...</td>\n",
              "      <td>write yes always look new author get idea chal...</td>\n",
              "      <td>write for us . yes , you . we ’re always looki...</td>\n",
              "    </tr>\n",
              "    <tr>\n",
              "      <th>2</th>\n",
              "      <td>FAQs for some new features available in the Be...</td>\n",
              "      <td>Blog</td>\n",
              "      <td>FAQs new features available Beta Wayback Machi...</td>\n",
              "      <td>FAQs for some new feature available in the Bet...</td>\n",
              "      <td>FAQs new feature available Beta Wayback Machin...</td>\n",
              "      <td>faqs for some new features available in the be...</td>\n",
              "    </tr>\n",
              "  </tbody>\n",
              "</table>\n",
              "</div>\n",
              "      <button class=\"colab-df-convert\" onclick=\"convertToInteractive('df-1f942dda-6840-433e-8b4e-6e9ddeb29b52')\"\n",
              "              title=\"Convert this dataframe to an interactive table.\"\n",
              "              style=\"display:none;\">\n",
              "        \n",
              "  <svg xmlns=\"http://www.w3.org/2000/svg\" height=\"24px\"viewBox=\"0 0 24 24\"\n",
              "       width=\"24px\">\n",
              "    <path d=\"M0 0h24v24H0V0z\" fill=\"none\"/>\n",
              "    <path d=\"M18.56 5.44l.94 2.06.94-2.06 2.06-.94-2.06-.94-.94-2.06-.94 2.06-2.06.94zm-11 1L8.5 8.5l.94-2.06 2.06-.94-2.06-.94L8.5 2.5l-.94 2.06-2.06.94zm10 10l.94 2.06.94-2.06 2.06-.94-2.06-.94-.94-2.06-.94 2.06-2.06.94z\"/><path d=\"M17.41 7.96l-1.37-1.37c-.4-.4-.92-.59-1.43-.59-.52 0-1.04.2-1.43.59L10.3 9.45l-7.72 7.72c-.78.78-.78 2.05 0 2.83L4 21.41c.39.39.9.59 1.41.59.51 0 1.02-.2 1.41-.59l7.78-7.78 2.81-2.81c.8-.78.8-2.07 0-2.86zM5.41 20L4 18.59l7.72-7.72 1.47 1.35L5.41 20z\"/>\n",
              "  </svg>\n",
              "      </button>\n",
              "      \n",
              "  <style>\n",
              "    .colab-df-container {\n",
              "      display:flex;\n",
              "      flex-wrap:wrap;\n",
              "      gap: 12px;\n",
              "    }\n",
              "\n",
              "    .colab-df-convert {\n",
              "      background-color: #E8F0FE;\n",
              "      border: none;\n",
              "      border-radius: 50%;\n",
              "      cursor: pointer;\n",
              "      display: none;\n",
              "      fill: #1967D2;\n",
              "      height: 32px;\n",
              "      padding: 0 0 0 0;\n",
              "      width: 32px;\n",
              "    }\n",
              "\n",
              "    .colab-df-convert:hover {\n",
              "      background-color: #E2EBFA;\n",
              "      box-shadow: 0px 1px 2px rgba(60, 64, 67, 0.3), 0px 1px 3px 1px rgba(60, 64, 67, 0.15);\n",
              "      fill: #174EA6;\n",
              "    }\n",
              "\n",
              "    [theme=dark] .colab-df-convert {\n",
              "      background-color: #3B4455;\n",
              "      fill: #D2E3FC;\n",
              "    }\n",
              "\n",
              "    [theme=dark] .colab-df-convert:hover {\n",
              "      background-color: #434B5C;\n",
              "      box-shadow: 0px 1px 3px 1px rgba(0, 0, 0, 0.15);\n",
              "      filter: drop-shadow(0px 1px 2px rgba(0, 0, 0, 0.3));\n",
              "      fill: #FFFFFF;\n",
              "    }\n",
              "  </style>\n",
              "\n",
              "      <script>\n",
              "        const buttonEl =\n",
              "          document.querySelector('#df-1f942dda-6840-433e-8b4e-6e9ddeb29b52 button.colab-df-convert');\n",
              "        buttonEl.style.display =\n",
              "          google.colab.kernel.accessAllowed ? 'block' : 'none';\n",
              "\n",
              "        async function convertToInteractive(key) {\n",
              "          const element = document.querySelector('#df-1f942dda-6840-433e-8b4e-6e9ddeb29b52');\n",
              "          const dataTable =\n",
              "            await google.colab.kernel.invokeFunction('convertToInteractive',\n",
              "                                                     [key], {});\n",
              "          if (!dataTable) return;\n",
              "\n",
              "          const docLinkHtml = 'Like what you see? Visit the ' +\n",
              "            '<a target=\"_blank\" href=https://colab.research.google.com/notebooks/data_table.ipynb>data table notebook</a>'\n",
              "            + ' to learn more about interactive tables.';\n",
              "          element.innerHTML = '';\n",
              "          dataTable['output_type'] = 'display_data';\n",
              "          await google.colab.output.renderOutput(dataTable, element);\n",
              "          const docLink = document.createElement('div');\n",
              "          docLink.innerHTML = docLinkHtml;\n",
              "          element.appendChild(docLink);\n",
              "        }\n",
              "      </script>\n",
              "    </div>\n",
              "  </div>\n",
              "  "
            ]
          },
          "metadata": {},
          "execution_count": 37
        }
      ]
    },
    {
      "cell_type": "code",
      "source": [
        "df_text[['w2v_text', 'label']]"
      ],
      "metadata": {
        "colab": {
          "base_uri": "https://localhost:8080/",
          "height": 424
        },
        "id": "hX5JYGn5GLbF",
        "outputId": "5655a27c-cb0d-4fe0-a172-4cd5a88e6c31"
      },
      "execution_count": 92,
      "outputs": [
        {
          "output_type": "execute_result",
          "data": {
            "text/plain": [
              "                                              w2v_text      label\n",
              "0    write for us . want to write for us ?   digita...       MISC\n",
              "1    write for us . yes , you . we ’re always looki...       MISC\n",
              "2    faqs for some new features available in the be...       Blog\n",
              "3    the web credibility project . our research in ...  Home Page\n",
              "4    model djs for retail . djpeoples is the nation...       MISC\n",
              "..                                                 ...        ...\n",
              "293  geniuz media . the usps is undoubtedly one of ...  Home Page\n",
              "294  submit guest post . yes ! we accept guest / sp...       MISC\n",
              "295  digital marketing & entrepreneurship blog . wh...       MISC\n",
              "296  real estate , fashion , software , travel . wr...       MISC\n",
              "297  amateur bloggers guide to wordpress for start ...  Home Page\n",
              "\n",
              "[298 rows x 2 columns]"
            ],
            "text/html": [
              "\n",
              "  <div id=\"df-14ef23f8-5fa1-4172-a482-686e0cc925b4\">\n",
              "    <div class=\"colab-df-container\">\n",
              "      <div>\n",
              "<style scoped>\n",
              "    .dataframe tbody tr th:only-of-type {\n",
              "        vertical-align: middle;\n",
              "    }\n",
              "\n",
              "    .dataframe tbody tr th {\n",
              "        vertical-align: top;\n",
              "    }\n",
              "\n",
              "    .dataframe thead th {\n",
              "        text-align: right;\n",
              "    }\n",
              "</style>\n",
              "<table border=\"1\" class=\"dataframe\">\n",
              "  <thead>\n",
              "    <tr style=\"text-align: right;\">\n",
              "      <th></th>\n",
              "      <th>w2v_text</th>\n",
              "      <th>label</th>\n",
              "    </tr>\n",
              "  </thead>\n",
              "  <tbody>\n",
              "    <tr>\n",
              "      <th>0</th>\n",
              "      <td>write for us . want to write for us ?   digita...</td>\n",
              "      <td>MISC</td>\n",
              "    </tr>\n",
              "    <tr>\n",
              "      <th>1</th>\n",
              "      <td>write for us . yes , you . we ’re always looki...</td>\n",
              "      <td>MISC</td>\n",
              "    </tr>\n",
              "    <tr>\n",
              "      <th>2</th>\n",
              "      <td>faqs for some new features available in the be...</td>\n",
              "      <td>Blog</td>\n",
              "    </tr>\n",
              "    <tr>\n",
              "      <th>3</th>\n",
              "      <td>the web credibility project . our research in ...</td>\n",
              "      <td>Home Page</td>\n",
              "    </tr>\n",
              "    <tr>\n",
              "      <th>4</th>\n",
              "      <td>model djs for retail . djpeoples is the nation...</td>\n",
              "      <td>MISC</td>\n",
              "    </tr>\n",
              "    <tr>\n",
              "      <th>...</th>\n",
              "      <td>...</td>\n",
              "      <td>...</td>\n",
              "    </tr>\n",
              "    <tr>\n",
              "      <th>293</th>\n",
              "      <td>geniuz media . the usps is undoubtedly one of ...</td>\n",
              "      <td>Home Page</td>\n",
              "    </tr>\n",
              "    <tr>\n",
              "      <th>294</th>\n",
              "      <td>submit guest post . yes ! we accept guest / sp...</td>\n",
              "      <td>MISC</td>\n",
              "    </tr>\n",
              "    <tr>\n",
              "      <th>295</th>\n",
              "      <td>digital marketing &amp; entrepreneurship blog . wh...</td>\n",
              "      <td>MISC</td>\n",
              "    </tr>\n",
              "    <tr>\n",
              "      <th>296</th>\n",
              "      <td>real estate , fashion , software , travel . wr...</td>\n",
              "      <td>MISC</td>\n",
              "    </tr>\n",
              "    <tr>\n",
              "      <th>297</th>\n",
              "      <td>amateur bloggers guide to wordpress for start ...</td>\n",
              "      <td>Home Page</td>\n",
              "    </tr>\n",
              "  </tbody>\n",
              "</table>\n",
              "<p>298 rows × 2 columns</p>\n",
              "</div>\n",
              "      <button class=\"colab-df-convert\" onclick=\"convertToInteractive('df-14ef23f8-5fa1-4172-a482-686e0cc925b4')\"\n",
              "              title=\"Convert this dataframe to an interactive table.\"\n",
              "              style=\"display:none;\">\n",
              "        \n",
              "  <svg xmlns=\"http://www.w3.org/2000/svg\" height=\"24px\"viewBox=\"0 0 24 24\"\n",
              "       width=\"24px\">\n",
              "    <path d=\"M0 0h24v24H0V0z\" fill=\"none\"/>\n",
              "    <path d=\"M18.56 5.44l.94 2.06.94-2.06 2.06-.94-2.06-.94-.94-2.06-.94 2.06-2.06.94zm-11 1L8.5 8.5l.94-2.06 2.06-.94-2.06-.94L8.5 2.5l-.94 2.06-2.06.94zm10 10l.94 2.06.94-2.06 2.06-.94-2.06-.94-.94-2.06-.94 2.06-2.06.94z\"/><path d=\"M17.41 7.96l-1.37-1.37c-.4-.4-.92-.59-1.43-.59-.52 0-1.04.2-1.43.59L10.3 9.45l-7.72 7.72c-.78.78-.78 2.05 0 2.83L4 21.41c.39.39.9.59 1.41.59.51 0 1.02-.2 1.41-.59l7.78-7.78 2.81-2.81c.8-.78.8-2.07 0-2.86zM5.41 20L4 18.59l7.72-7.72 1.47 1.35L5.41 20z\"/>\n",
              "  </svg>\n",
              "      </button>\n",
              "      \n",
              "  <style>\n",
              "    .colab-df-container {\n",
              "      display:flex;\n",
              "      flex-wrap:wrap;\n",
              "      gap: 12px;\n",
              "    }\n",
              "\n",
              "    .colab-df-convert {\n",
              "      background-color: #E8F0FE;\n",
              "      border: none;\n",
              "      border-radius: 50%;\n",
              "      cursor: pointer;\n",
              "      display: none;\n",
              "      fill: #1967D2;\n",
              "      height: 32px;\n",
              "      padding: 0 0 0 0;\n",
              "      width: 32px;\n",
              "    }\n",
              "\n",
              "    .colab-df-convert:hover {\n",
              "      background-color: #E2EBFA;\n",
              "      box-shadow: 0px 1px 2px rgba(60, 64, 67, 0.3), 0px 1px 3px 1px rgba(60, 64, 67, 0.15);\n",
              "      fill: #174EA6;\n",
              "    }\n",
              "\n",
              "    [theme=dark] .colab-df-convert {\n",
              "      background-color: #3B4455;\n",
              "      fill: #D2E3FC;\n",
              "    }\n",
              "\n",
              "    [theme=dark] .colab-df-convert:hover {\n",
              "      background-color: #434B5C;\n",
              "      box-shadow: 0px 1px 3px 1px rgba(0, 0, 0, 0.15);\n",
              "      filter: drop-shadow(0px 1px 2px rgba(0, 0, 0, 0.3));\n",
              "      fill: #FFFFFF;\n",
              "    }\n",
              "  </style>\n",
              "\n",
              "      <script>\n",
              "        const buttonEl =\n",
              "          document.querySelector('#df-14ef23f8-5fa1-4172-a482-686e0cc925b4 button.colab-df-convert');\n",
              "        buttonEl.style.display =\n",
              "          google.colab.kernel.accessAllowed ? 'block' : 'none';\n",
              "\n",
              "        async function convertToInteractive(key) {\n",
              "          const element = document.querySelector('#df-14ef23f8-5fa1-4172-a482-686e0cc925b4');\n",
              "          const dataTable =\n",
              "            await google.colab.kernel.invokeFunction('convertToInteractive',\n",
              "                                                     [key], {});\n",
              "          if (!dataTable) return;\n",
              "\n",
              "          const docLinkHtml = 'Like what you see? Visit the ' +\n",
              "            '<a target=\"_blank\" href=https://colab.research.google.com/notebooks/data_table.ipynb>data table notebook</a>'\n",
              "            + ' to learn more about interactive tables.';\n",
              "          element.innerHTML = '';\n",
              "          dataTable['output_type'] = 'display_data';\n",
              "          await google.colab.output.renderOutput(dataTable, element);\n",
              "          const docLink = document.createElement('div');\n",
              "          docLink.innerHTML = docLinkHtml;\n",
              "          element.appendChild(docLink);\n",
              "        }\n",
              "      </script>\n",
              "    </div>\n",
              "  </div>\n",
              "  "
            ]
          },
          "metadata": {},
          "execution_count": 92
        }
      ]
    },
    {
      "cell_type": "code",
      "source": [
        "# Cell 9\n",
        "test_size = 0.15\n",
        "random_state = 0\n",
        "\n",
        "# Important cell # 9\n",
        "column_used = 'w2v_text'\n",
        "\n",
        "X = df_text[[column_used]]\n",
        "y = df_text[TARGET]\n",
        "\n",
        "X_train_val, X_test, y_train_val, y_test = train_test_split(X, y, \n",
        "                                                    test_size=test_size,\n",
        "                                                    stratify=y, \n",
        "                                                    random_state=random_state)\n",
        "\n",
        "X_train, X_val, y_train, y_val = train_test_split(X_train_val, y_train_val, \n",
        "                                                    test_size=1/((1-test_size)/test_size),\n",
        "                                                    stratify=y_train_val, \n",
        "                                                    random_state=random_state)\n",
        "\n",
        "X_train.shape, X_val.shape, X_test.shape, y_train.shape, y_val.shape, y_test.shape"
      ],
      "metadata": {
        "colab": {
          "base_uri": "https://localhost:8080/"
        },
        "id": "ocXx3av_GhgW",
        "outputId": "8b5d3386-2649-4036-b87d-bf09e314788d"
      },
      "execution_count": 94,
      "outputs": [
        {
          "output_type": "execute_result",
          "data": {
            "text/plain": [
              "((208, 1), (45, 1), (45, 1), (208,), (45,), (45,))"
            ]
          },
          "metadata": {},
          "execution_count": 94
        }
      ]
    },
    {
      "cell_type": "code",
      "source": [
        "y_train.value_counts()"
      ],
      "metadata": {
        "colab": {
          "base_uri": "https://localhost:8080/"
        },
        "id": "fQqP4YnUHhOS",
        "outputId": "368a9b7b-9d52-405f-c89c-435eeeaeae90"
      },
      "execution_count": 97,
      "outputs": [
        {
          "output_type": "execute_result",
          "data": {
            "text/plain": [
              "Home Page       80\n",
              "Blog            55\n",
              "MISC            44\n",
              "Product Page    29\n",
              "Name: label, dtype: int64"
            ]
          },
          "metadata": {},
          "execution_count": 97
        }
      ]
    },
    {
      "cell_type": "code",
      "source": [
        "y_val.value_counts()"
      ],
      "metadata": {
        "colab": {
          "base_uri": "https://localhost:8080/"
        },
        "id": "9L39QbXRHq-I",
        "outputId": "96bbbe63-6d43-4eee-bcc8-982a5368b789"
      },
      "execution_count": 98,
      "outputs": [
        {
          "output_type": "execute_result",
          "data": {
            "text/plain": [
              "Home Page       17\n",
              "Blog            12\n",
              "MISC            10\n",
              "Product Page     6\n",
              "Name: label, dtype: int64"
            ]
          },
          "metadata": {},
          "execution_count": 98
        }
      ]
    },
    {
      "cell_type": "code",
      "source": [
        "y_test.value_counts()"
      ],
      "metadata": {
        "colab": {
          "base_uri": "https://localhost:8080/"
        },
        "id": "IU6i4BvLHtcM",
        "outputId": "61efd77f-f114-42df-8d4a-9fe08ed3a01c"
      },
      "execution_count": 99,
      "outputs": [
        {
          "output_type": "execute_result",
          "data": {
            "text/plain": [
              "Home Page       17\n",
              "Blog            12\n",
              "MISC            10\n",
              "Product Page     6\n",
              "Name: label, dtype: int64"
            ]
          },
          "metadata": {},
          "execution_count": 99
        }
      ]
    },
    {
      "cell_type": "code",
      "source": [
        "# df_train = pd.concat([X_train, y_train], axis=1)\n",
        "# df_val = pd.concat([X_val, y_val], axis=1)\n",
        "# df_test = pd.concat([X_test, y_test], axis=1)\n",
        "\n",
        "# df_train.shape, df_val.shape, df_test.shape"
      ],
      "metadata": {
        "id": "BgTnQmjTHzz4"
      },
      "execution_count": 106,
      "outputs": []
    },
    {
      "cell_type": "code",
      "source": [
        "# train_path, val_path, test_path = 'bert_train.csv', 'bert_val.csv', 'bert_test.csv'\n",
        "# df_train.to_csv(train_path, index=False)\n",
        "# df_val.to_csv(val_path, index=False)\n",
        "# df_test.to_csv(test_path, index=False)"
      ],
      "metadata": {
        "id": "09wFylT8IMjT"
      },
      "execution_count": 107,
      "outputs": []
    },
    {
      "cell_type": "code",
      "source": [
        "from datasets.dataset_dict import DatasetDict\n",
        "from datasets import Dataset\n",
        "\n",
        "dataset = DatasetDict({\n",
        "    'train':Dataset.from_dict({'text': X_train[column_used],'label': y_train}),\n",
        "    'validation':Dataset.from_dict({'text': X_val[column_used],'label': y_val}),\n",
        "    'test':Dataset.from_dict({'text': X_test[column_used],'label': y_test})\n",
        "    })\n",
        "\n",
        "dataset"
      ],
      "metadata": {
        "colab": {
          "base_uri": "https://localhost:8080/"
        },
        "id": "yRICeqHqIMqW",
        "outputId": "437087c9-3682-40f1-d44d-6de9f3ccd298"
      },
      "execution_count": 111,
      "outputs": [
        {
          "output_type": "execute_result",
          "data": {
            "text/plain": [
              "DatasetDict({\n",
              "    train: Dataset({\n",
              "        features: ['text', 'label'],\n",
              "        num_rows: 208\n",
              "    })\n",
              "    validation: Dataset({\n",
              "        features: ['text', 'label'],\n",
              "        num_rows: 45\n",
              "    })\n",
              "    test: Dataset({\n",
              "        features: ['text', 'label'],\n",
              "        num_rows: 45\n",
              "    })\n",
              "})"
            ]
          },
          "metadata": {},
          "execution_count": 111
        }
      ]
    },
    {
      "cell_type": "code",
      "source": [
        "train_ds = dataset['train']"
      ],
      "metadata": {
        "id": "DggnPESpII3s"
      },
      "execution_count": 112,
      "outputs": []
    },
    {
      "cell_type": "code",
      "source": [
        "print(train_ds[:5])"
      ],
      "metadata": {
        "colab": {
          "base_uri": "https://localhost:8080/"
        },
        "id": "Q5Mh6Z3mKD6c",
        "outputId": "54d4ac93-73b3-4773-cf81-037595c22193"
      },
      "execution_count": 120,
      "outputs": [
        {
          "output_type": "stream",
          "name": "stdout",
          "text": [
            "{'text': ['foursixty . frankies bikinis is one of the most recognizable names in swimwear , a dominating force within the instagram community , and has been with foursixty since the beginning . since their instagram content is such a significant part of the brand , frankies founder , francesca aiello , wanted to take advantage of the amazing photos and videos they had access to . foursixty made it easy for them to harness the power of their instagram content and # ugc by placing their content in the most contextually relevant locations within their online store . not only did foursixty help drive customers to the point of sale , we also helped generate over 23 % of frankies ’ online revenue .', 'reach more , sell more . do you want to showcase your writing skills to the world ?   do you want to get noticed ? then you are in the right place !   datacaptive is accepting guest posts from all the talented writers out there .   in business for more than a decade , datacaptive has made its mark in the marketing world not only with its fantastic services but also with the diligence with which it meets customer expectations .   our platform has attracted a mammoth following that includes readers from all around the globe . the exposure is massive and success in the blogging arena is a guarantee with datacaptive .   we have laid down a list of guidelines that need to be followed when writing for us .', 'seo conference & training courses . entering the ballot gives you a chance to win one of thousands of free tickets for the in - person conference .   typically there is around a 20 % chance of success in the ballot .   ballot tickets are valid for one specified day only .   more info about the ballot is at brightonseo.com/ballot and you can sign up to our mailing list for reminders and more event information .   the ballot for april ’s event will be open for 48 hours from 12 pm gmt 30 november .', 'slim your wallet : minimalist wallets & card holders . made from premium , environmentally certified leather , that only gets better with age ...   made from premium , environmentally certified leather , that only gets better with age ...   and fewer layers of leather , to eliminate bulk from the start ...   and fewer layers of leather , to eliminate bulk from the start ...   their clever design features help keep them slim , even when they ’re full …   their clever design features help keep them slim , even when they ’re full …', 'coming soon & maintenance mode for wordpress . 5 tips to nail your instagram marketing strategy   published on november 21 , 2022 by peter hughes are you looking to leverage instagram to market and promote your business ? if you answered “ yes , ” you need to develop a strategy to help set your instagram marketing efforts for success . data shows that 70 % of shoppers look to instagram for their next purchase . the figure highlights how you can leverage instagram to market your … read more   manage group classes , on - demand appointments , and payments on one platform   published on november 16 , 2022 by amila ramic we all indeed have many obligations , but successful individuals differ from others in how they manage their time . time management allows us to do what we need to and enjoy the activities that make us happy . those who perform tasks spontaneously are more often under stress and , despite the effort invested , do not achieve the … read more   sms marketing : definition , benefits , and best practices   published on november 3 , 2022 by janani h the world of marketing is changing . in the past , marketers were forced to rely on traditional methods like print ads and tv spots to reach their target audiences . today , however , businesses have many more options available to them — and one of those options is sms marketing . what is sms marketing ? sms marketing is a type of … read more   fetch reviews from numerous platforms and boost your brand ’s credibility   published on october 31 , 2022 by lorena muzinic undoubtedly , reviews are an essential part of your business . they can either make or break your brand ’s reputation . however , it is vital that you present them on your site . that ’s because as soon as prospects see that customers have reviewed your services or products before them , the credibility of your business goes up . reviews are … read more   create a user - friendly admin panel for any database   published on october 29 , 2022 by patricia paun you may need an administrative panel to maintain your database , but locating one sounds like a lot of effort , and you ’re not sure where to look for one . if this is how you think , then you could n’t be more wrong . i am pleased to introduce you to stationdb , a simple tool that can be used … read more   top seo agencies ranked globally   published on october 17 , 2022 by natasa tomic do you want to outsource your seo marketing ? we all know how important seo is for business success in the modern age . so , you definitely want to invest in an agency that can give you top - notch service . straight north ignite visibility delante ceek seo discovery panem agency manta top seo agencies ranked globally – overview … read more   how to export business contacts from google maps   published on october 7 , 2022 by miljan buha collecting contacts became almost an everyday activity for freelancers and agencies , and sometimes safe management of all that we gathered can be frustrating . speaking of that , google contacts became equally if not more important for many users than contacts held on other platforms . especially contacts gotten through google maps . easy export and import of contacts … read more   how to maintain good customer service ?   published on september 27 , 2022 by peter hughes if you think that building a customer service department is hard , then let us break it to you ; maintaining it to be the best is going to be harder . however , do not worry , as we have some easy yet practical tips for you on how you can maintain the quality of your customer service . let … read more   4 proven ways to grow your youtube channel fast in 2022   published on september 24 , 2022 by peter hughes success on youtube is more complicated than it was a few years ago . the youtube algorithm has undergone numerous adjustments over time . as a result , to grow your channel in 2022 , you must concentrate on a few key kpis . in addition to all other strategies , the caliber of your videos is crucial , so make sure … read more'], 'label': ['Home Page', 'MISC', 'Home Page', 'Home Page', 'Blog']}\n"
          ]
        }
      ]
    },
    {
      "cell_type": "code",
      "source": [
        "from transformers import AutoTokenizer\n",
        "model_ckpt = \"distilbert-base-uncased\"\n",
        "tokenizer = AutoTokenizer.from_pretrained(model_ckpt)"
      ],
      "metadata": {
        "colab": {
          "base_uri": "https://localhost:8080/",
          "height": 145,
          "referenced_widgets": [
            "bcf7e3bda50843548185a1ea1fdeca98",
            "fa5c3bd4e4ff456dbf0ab2f7f54116af",
            "5c100cda2b204d50b48f63e203d47367",
            "a5c3aaee519a40eca7a5ebc97c644fa3",
            "d31c2c9b034444789aedc6689cdb9337",
            "f6506486b78843b9bf4363a65b2fd8a6",
            "97a6f997ef074659853e459ddf092f3b",
            "19b7f362711147c79e8c10456e7ea2d1",
            "cb2397f77a244a33a20fdb67945e6ba9",
            "6359e88e6b9e4baea4f7ad050219fa3a",
            "4497612c98104d1aa0c8168f0e962ef9",
            "7fc911a878d94527be1095add83af27d",
            "409673b390864aa4b64a4e289b3a17fe",
            "44c20697d9c3438293a227316404ccb2",
            "f72b973703a44bb3b34c0be05cc540aa",
            "74af51b0d52b4773877600e9d5386c7b",
            "882413285a454fe99cac9af05b0062d6",
            "2ef29e2ff5d34da9870c28b0831baae4",
            "974b619a5a434e38a1cab16c9f9f74ab",
            "5c631518062e458ebd59433a17bd36f3",
            "2043cde0036441c59cd68d22abefea5c",
            "cc2ae70ae71543d3948f34c4b4f405e1",
            "17defdf6caef4d18bc871eeb05bfeef2",
            "11fa194ed57a420d9f317d15860fb264",
            "6be779930adb4a1489efc0af869f8d06",
            "15434f15c429468ba25732d2e7ec039c",
            "2b9a326302ba4e869623553a26930fd1",
            "191e9c06c47341b59f2824694668f02c",
            "92b1cabf14d44780898a4f5a5f7bf290",
            "f66e47aa9d3440ca9e57d3f588f926eb",
            "3d9417d6e9884f378ab1da12b7b992f7",
            "d3108c714f0b486e9d074cdc7449933b",
            "622dcd97544a41f189d5dbc3b89568a9",
            "33bc5c99716d4023ade76309a7cc6572",
            "98756a798db24cdeb963ac5c11da1431",
            "ca28c874e6f7446cb611f2fdddcbcabd",
            "6e794e5390984e5a940b75c981028ad8",
            "2b37776953b24866b62f685bc5b40fe4",
            "36885f0ded364f1db1302e6064268b39",
            "14f6e61f5082477bbcd5364f4e475661",
            "005296fb5123400caa71c4116093a823",
            "16729b9c76814693bbfd23697c7cb0ba",
            "fb61274e59e4492eaa5de3aebc161b02",
            "1cae521e76db43fc8fcdd20e5be74a50"
          ]
        },
        "id": "FJ2rH2UeKGOH",
        "outputId": "bfc39663-ecef-4788-a6cc-0a590b3fe6b4"
      },
      "execution_count": 116,
      "outputs": [
        {
          "output_type": "display_data",
          "data": {
            "text/plain": [
              "Downloading:   0%|          | 0.00/28.0 [00:00<?, ?B/s]"
            ],
            "application/vnd.jupyter.widget-view+json": {
              "version_major": 2,
              "version_minor": 0,
              "model_id": "bcf7e3bda50843548185a1ea1fdeca98"
            }
          },
          "metadata": {}
        },
        {
          "output_type": "display_data",
          "data": {
            "text/plain": [
              "Downloading:   0%|          | 0.00/483 [00:00<?, ?B/s]"
            ],
            "application/vnd.jupyter.widget-view+json": {
              "version_major": 2,
              "version_minor": 0,
              "model_id": "7fc911a878d94527be1095add83af27d"
            }
          },
          "metadata": {}
        },
        {
          "output_type": "display_data",
          "data": {
            "text/plain": [
              "Downloading:   0%|          | 0.00/232k [00:00<?, ?B/s]"
            ],
            "application/vnd.jupyter.widget-view+json": {
              "version_major": 2,
              "version_minor": 0,
              "model_id": "17defdf6caef4d18bc871eeb05bfeef2"
            }
          },
          "metadata": {}
        },
        {
          "output_type": "display_data",
          "data": {
            "text/plain": [
              "Downloading:   0%|          | 0.00/466k [00:00<?, ?B/s]"
            ],
            "application/vnd.jupyter.widget-view+json": {
              "version_major": 2,
              "version_minor": 0,
              "model_id": "33bc5c99716d4023ade76309a7cc6572"
            }
          },
          "metadata": {}
        }
      ]
    },
    {
      "cell_type": "code",
      "source": [
        "text = \"Tokenizing text is a core task of NLP.\"\n",
        "encoded_text = tokenizer(text)\n",
        "encoded_text"
      ],
      "metadata": {
        "colab": {
          "base_uri": "https://localhost:8080/"
        },
        "id": "jgsdPyZuK0AE",
        "outputId": "b061b500-a288-4e89-e8fe-0543903a87cd"
      },
      "execution_count": 118,
      "outputs": [
        {
          "output_type": "execute_result",
          "data": {
            "text/plain": [
              "{'input_ids': [101, 19204, 6026, 3793, 2003, 1037, 4563, 4708, 1997, 17953, 2361, 1012, 102], 'attention_mask': [1, 1, 1, 1, 1, 1, 1, 1, 1, 1, 1, 1, 1]}"
            ]
          },
          "metadata": {},
          "execution_count": 118
        }
      ]
    },
    {
      "cell_type": "code",
      "source": [
        "tokens = tokenizer.convert_ids_to_tokens(encoded_text.input_ids)\n",
        "print(tokens)"
      ],
      "metadata": {
        "colab": {
          "base_uri": "https://localhost:8080/"
        },
        "id": "VVGMkFeQLBJJ",
        "outputId": "bd3c6af2-7c80-4ea6-e6b8-716cde700015"
      },
      "execution_count": 121,
      "outputs": [
        {
          "output_type": "stream",
          "name": "stdout",
          "text": [
            "['[CLS]', 'token', '##izing', 'text', 'is', 'a', 'core', 'task', 'of', 'nl', '##p', '.', '[SEP]']\n"
          ]
        }
      ]
    },
    {
      "cell_type": "code",
      "source": [
        "print(tokenizer.convert_tokens_to_string(tokens))"
      ],
      "metadata": {
        "colab": {
          "base_uri": "https://localhost:8080/"
        },
        "id": "lA-2qSJGLL_5",
        "outputId": "1344afdd-9ff6-4e2e-817d-28513038c149"
      },
      "execution_count": 122,
      "outputs": [
        {
          "output_type": "stream",
          "name": "stdout",
          "text": [
            "[CLS] tokenizing text is a core task of nlp. [SEP]\n"
          ]
        }
      ]
    },
    {
      "cell_type": "code",
      "source": [
        "def tokenize(batch):\n",
        "    return tokenizer(batch[\"text\"], padding=True, truncation=True)"
      ],
      "metadata": {
        "id": "oo83xEZNLSb4"
      },
      "execution_count": 123,
      "outputs": []
    },
    {
      "cell_type": "code",
      "source": [
        "print(tokenize(dataset[\"train\"][:2])) "
      ],
      "metadata": {
        "colab": {
          "base_uri": "https://localhost:8080/"
        },
        "id": "QshS2zMZLZWJ",
        "outputId": "589234c1-5a56-4590-9e51-4048e7de6961"
      },
      "execution_count": 124,
      "outputs": [
        {
          "output_type": "stream",
          "name": "stdout",
          "text": [
            "{'input_ids': [[101, 23817, 7646, 3723, 1012, 12784, 2015, 20345, 2015, 2003, 2028, 1997, 1996, 2087, 20123, 3415, 1999, 9880, 16689, 1010, 1037, 21949, 2486, 2306, 1996, 16021, 23091, 2451, 1010, 1998, 2038, 2042, 2007, 23817, 7646, 3723, 2144, 1996, 2927, 1012, 2144, 2037, 16021, 23091, 4180, 2003, 2107, 1037, 3278, 2112, 1997, 1996, 4435, 1010, 12784, 2015, 3910, 1010, 15409, 9932, 15350, 1010, 2359, 2000, 2202, 5056, 1997, 1996, 6429, 7760, 1998, 6876, 2027, 2018, 3229, 2000, 1012, 23817, 7646, 3723, 2081, 2009, 3733, 2005, 2068, 2000, 17445, 1996, 2373, 1997, 2037, 16021, 23091, 4180, 1998, 1001, 1057, 18195, 2011, 6885, 2037, 4180, 1999, 1996, 2087, 6123, 28488, 7882, 5269, 2306, 2037, 3784, 3573, 1012, 2025, 2069, 2106, 23817, 7646, 3723, 2393, 3298, 6304, 2000, 1996, 2391, 1997, 5096, 1010, 2057, 2036, 3271, 9699, 2058, 2603, 1003, 1997, 12784, 2015, 1521, 3784, 6599, 1012, 102], [101, 3362, 2062, 1010, 5271, 2062, 1012, 2079, 2017, 2215, 2000, 13398, 2115, 3015, 4813, 2000, 1996, 2088, 1029, 2079, 2017, 2215, 2000, 2131, 4384, 1029, 2059, 2017, 2024, 1999, 1996, 2157, 2173, 999, 2951, 17695, 6024, 2003, 10564, 4113, 8466, 2013, 2035, 1996, 10904, 4898, 2041, 2045, 1012, 1999, 2449, 2005, 2062, 2084, 1037, 5476, 1010, 2951, 17695, 6024, 2038, 2081, 2049, 2928, 1999, 1996, 5821, 2088, 2025, 2069, 2007, 2049, 10392, 2578, 2021, 2036, 2007, 1996, 29454, 29206, 3401, 2007, 2029, 2009, 6010, 8013, 10908, 1012, 2256, 4132, 2038, 6296, 1037, 23714, 2206, 2008, 2950, 8141, 2013, 2035, 2105, 1996, 7595, 1012, 1996, 7524, 2003, 5294, 1998, 3112, 1999, 1996, 9927, 4726, 5196, 2003, 1037, 11302, 2007, 2951, 17695, 6024, 1012, 2057, 2031, 4201, 2091, 1037, 2862, 1997, 11594, 2008, 2342, 2000, 2022, 2628, 2043, 3015, 2005, 2149, 1012, 102, 0, 0]], 'attention_mask': [[1, 1, 1, 1, 1, 1, 1, 1, 1, 1, 1, 1, 1, 1, 1, 1, 1, 1, 1, 1, 1, 1, 1, 1, 1, 1, 1, 1, 1, 1, 1, 1, 1, 1, 1, 1, 1, 1, 1, 1, 1, 1, 1, 1, 1, 1, 1, 1, 1, 1, 1, 1, 1, 1, 1, 1, 1, 1, 1, 1, 1, 1, 1, 1, 1, 1, 1, 1, 1, 1, 1, 1, 1, 1, 1, 1, 1, 1, 1, 1, 1, 1, 1, 1, 1, 1, 1, 1, 1, 1, 1, 1, 1, 1, 1, 1, 1, 1, 1, 1, 1, 1, 1, 1, 1, 1, 1, 1, 1, 1, 1, 1, 1, 1, 1, 1, 1, 1, 1, 1, 1, 1, 1, 1, 1, 1, 1, 1, 1, 1, 1, 1, 1, 1, 1, 1, 1, 1, 1, 1, 1, 1, 1, 1], [1, 1, 1, 1, 1, 1, 1, 1, 1, 1, 1, 1, 1, 1, 1, 1, 1, 1, 1, 1, 1, 1, 1, 1, 1, 1, 1, 1, 1, 1, 1, 1, 1, 1, 1, 1, 1, 1, 1, 1, 1, 1, 1, 1, 1, 1, 1, 1, 1, 1, 1, 1, 1, 1, 1, 1, 1, 1, 1, 1, 1, 1, 1, 1, 1, 1, 1, 1, 1, 1, 1, 1, 1, 1, 1, 1, 1, 1, 1, 1, 1, 1, 1, 1, 1, 1, 1, 1, 1, 1, 1, 1, 1, 1, 1, 1, 1, 1, 1, 1, 1, 1, 1, 1, 1, 1, 1, 1, 1, 1, 1, 1, 1, 1, 1, 1, 1, 1, 1, 1, 1, 1, 1, 1, 1, 1, 1, 1, 1, 1, 1, 1, 1, 1, 1, 1, 1, 1, 1, 1, 1, 1, 0, 0]]}\n"
          ]
        }
      ]
    },
    {
      "cell_type": "code",
      "source": [
        "dataset_encoded = dataset.map(tokenize, batched=True, batch_size=None)"
      ],
      "metadata": {
        "colab": {
          "base_uri": "https://localhost:8080/",
          "height": 113,
          "referenced_widgets": [
            "fc1e1c83a5054d2dada789996b00a6be",
            "e0b038e66feb4ad2ae048a45b24d82e0",
            "1de27dee2f6645ad81e01c5b5ade0b7c",
            "fe709f2491904d9cb8236e8a76ec4ee2",
            "521015ab49a844b88e7278a65d6d423e",
            "2f61022f13d646b59c5d1a9c97e012a4",
            "6df69bca59d04a79bc0c1767f0d0594d",
            "a8437d977a1046068b862a27ed513085",
            "d8f692fffa5242e695967a4204431aeb",
            "93a67407a2234d12a174ce604982915a",
            "920810b9e6b3440a91f21441442b0085",
            "a329c1f8134c42c0a86d7d841e632a4d",
            "c3a8ea1ea2cc4672857deddd12384ddb",
            "e9456e8ff0244e61b32037e69fdb5acf",
            "776711f3bc4e4221b1c1ccb1ec8f508a",
            "7b08a4173b584da69f97bd7ba0702fc8",
            "bb203ced5e4242b69e274c4c94cf79b7",
            "4e3af9a67e234787b5ca37ef675dcf61",
            "d094fb13d9354a0d910b089796f6a1b8",
            "795e109c36fd4143ab44b139c8879af4",
            "3159d263e94148c0ac849c026eaf0a01",
            "998b475d57f644bab0e288235e0b8168",
            "d4d89a0ebe4d429e8189c9dbacaafdd6",
            "4bd94425ddee47929a7ff048c0f1bfa5",
            "b006e8b4ab9b4d1c8a3efb0377079778",
            "724a480a8b64485ba3b021950ea83f8d",
            "5a6325f9f5804588ace9f0799aa4b1e3",
            "48840b6c8dad43c89a29f975604c8ce1",
            "2c160c53bd374894afe02e5d05b24de4",
            "a78b263222524d50ab933beaa51eb16a",
            "5e6b8d9fc6a341388dd80a9f99d5fd9a",
            "f80687f744b941e38eef93a946aa9ebb",
            "92c1e55402064a9e835139942526b6a1"
          ]
        },
        "id": "XjUpsqs0LdI9",
        "outputId": "8ccf8616-c12a-4cb3-b8f3-79daf727aaa1"
      },
      "execution_count": 125,
      "outputs": [
        {
          "output_type": "display_data",
          "data": {
            "text/plain": [
              "  0%|          | 0/1 [00:00<?, ?ba/s]"
            ],
            "application/vnd.jupyter.widget-view+json": {
              "version_major": 2,
              "version_minor": 0,
              "model_id": "fc1e1c83a5054d2dada789996b00a6be"
            }
          },
          "metadata": {}
        },
        {
          "output_type": "display_data",
          "data": {
            "text/plain": [
              "  0%|          | 0/1 [00:00<?, ?ba/s]"
            ],
            "application/vnd.jupyter.widget-view+json": {
              "version_major": 2,
              "version_minor": 0,
              "model_id": "a329c1f8134c42c0a86d7d841e632a4d"
            }
          },
          "metadata": {}
        },
        {
          "output_type": "display_data",
          "data": {
            "text/plain": [
              "  0%|          | 0/1 [00:00<?, ?ba/s]"
            ],
            "application/vnd.jupyter.widget-view+json": {
              "version_major": 2,
              "version_minor": 0,
              "model_id": "d4d89a0ebe4d429e8189c9dbacaafdd6"
            }
          },
          "metadata": {}
        }
      ]
    },
    {
      "cell_type": "code",
      "source": [
        "dataset_encoded"
      ],
      "metadata": {
        "colab": {
          "base_uri": "https://localhost:8080/"
        },
        "id": "PwDK4B2ALnOj",
        "outputId": "c97f2c33-383d-4eae-f55c-ecc5aef728b6"
      },
      "execution_count": 127,
      "outputs": [
        {
          "output_type": "execute_result",
          "data": {
            "text/plain": [
              "DatasetDict({\n",
              "    train: Dataset({\n",
              "        features: ['text', 'label', 'input_ids', 'attention_mask'],\n",
              "        num_rows: 208\n",
              "    })\n",
              "    validation: Dataset({\n",
              "        features: ['text', 'label', 'input_ids', 'attention_mask'],\n",
              "        num_rows: 45\n",
              "    })\n",
              "    test: Dataset({\n",
              "        features: ['text', 'label', 'input_ids', 'attention_mask'],\n",
              "        num_rows: 45\n",
              "    })\n",
              "})"
            ]
          },
          "metadata": {},
          "execution_count": 127
        }
      ]
    },
    {
      "cell_type": "code",
      "source": [
        "from transformers import TFAutoModel \n",
        "tf_model = TFAutoModel.from_pretrained(model_ckpt)"
      ],
      "metadata": {
        "colab": {
          "base_uri": "https://localhost:8080/",
          "height": 158,
          "referenced_widgets": [
            "ad10812d4a114798b8ec9c5a0f8125d1",
            "4dd18ccff30147b9b68bf91f25b33a70",
            "df6355627ac34832b71d0371b7fa7b6e",
            "0923f36103f34095890eb727656ffe5a",
            "0f695e7da74e4255ac6195fb075aa3d2",
            "7d8e33016b33467aa5cb851fbf03388f",
            "e56629789f4946b29d6134ee5c434e8f",
            "eee19961858a42e0915447e4b21d4b54",
            "e6eccbd9790f4d0e87dba2b68f6ee962",
            "638d79c96ea44b47b8a49411adf9cf5c",
            "0e5c4a59444f471793f9cb93be3d910a"
          ]
        },
        "id": "QF4E2nnILqDh",
        "outputId": "ada599ba-f59f-48d4-dbc8-b0282dbe7b82"
      },
      "execution_count": 128,
      "outputs": [
        {
          "output_type": "display_data",
          "data": {
            "text/plain": [
              "Downloading:   0%|          | 0.00/363M [00:00<?, ?B/s]"
            ],
            "application/vnd.jupyter.widget-view+json": {
              "version_major": 2,
              "version_minor": 0,
              "model_id": "ad10812d4a114798b8ec9c5a0f8125d1"
            }
          },
          "metadata": {}
        },
        {
          "output_type": "stream",
          "name": "stderr",
          "text": [
            "Some layers from the model checkpoint at distilbert-base-uncased were not used when initializing TFDistilBertModel: ['vocab_layer_norm', 'vocab_projector', 'vocab_transform', 'activation_13']\n",
            "- This IS expected if you are initializing TFDistilBertModel from the checkpoint of a model trained on another task or with another architecture (e.g. initializing a BertForSequenceClassification model from a BertForPreTraining model).\n",
            "- This IS NOT expected if you are initializing TFDistilBertModel from the checkpoint of a model that you expect to be exactly identical (initializing a BertForSequenceClassification model from a BertForSequenceClassification model).\n",
            "All the layers of TFDistilBertModel were initialized from the model checkpoint at distilbert-base-uncased.\n",
            "If your task is similar to the task the model of the checkpoint was trained on, you can already use TFDistilBertModel for predictions without further training.\n"
          ]
        }
      ]
    },
    {
      "cell_type": "code",
      "source": [
        "text = \"this is a test\"\n",
        "inputs = tokenizer(text, return_tensors='tf')\n",
        "inputs"
      ],
      "metadata": {
        "colab": {
          "base_uri": "https://localhost:8080/"
        },
        "id": "8HnwF8WfLzVI",
        "outputId": "22f3b408-d3b1-4c5d-f11f-eb1d18e47bc3"
      },
      "execution_count": 129,
      "outputs": [
        {
          "output_type": "execute_result",
          "data": {
            "text/plain": [
              "{'input_ids': <tf.Tensor: shape=(1, 6), dtype=int32, numpy=array([[ 101, 2023, 2003, 1037, 3231,  102]], dtype=int32)>, 'attention_mask': <tf.Tensor: shape=(1, 6), dtype=int32, numpy=array([[1, 1, 1, 1, 1, 1]], dtype=int32)>}"
            ]
          },
          "metadata": {},
          "execution_count": 129
        }
      ]
    },
    {
      "cell_type": "code",
      "source": [
        "outputs = tf_model(inputs)\n",
        "outputs"
      ],
      "metadata": {
        "colab": {
          "base_uri": "https://localhost:8080/"
        },
        "id": "NvZqQmO8L76t",
        "outputId": "23b44e48-f51b-47a1-accc-aa036ad9a7bc"
      },
      "execution_count": 130,
      "outputs": [
        {
          "output_type": "execute_result",
          "data": {
            "text/plain": [
              "TFBaseModelOutput(last_hidden_state=<tf.Tensor: shape=(1, 6, 768), dtype=float32, numpy=\n",
              "array([[[-0.15651304, -0.18619652,  0.0527766 , ..., -0.11881151,\n",
              "          0.06620612,  0.54701567],\n",
              "        [-0.35751358, -0.6483556 , -0.06178969, ..., -0.30401963,\n",
              "          0.35076863,  0.5220685 ],\n",
              "        [-0.27718437, -0.4459444 ,  0.18184267, ..., -0.09477945,\n",
              "         -0.0075747 ,  0.9958283 ],\n",
              "        [-0.2840854 , -0.39167666,  0.37525564, ..., -0.21505743,\n",
              "         -0.1172516 ,  1.0526477 ],\n",
              "        [ 0.26608238, -0.50936407, -0.31801325, ..., -0.42029822,\n",
              "          0.01444231, -0.21489474],\n",
              "        [ 0.9440614 ,  0.01117298, -0.47139406, ...,  0.14394695,\n",
              "         -0.72878385, -0.16194941]]], dtype=float32)>, hidden_states=None, attentions=None)"
            ]
          },
          "metadata": {},
          "execution_count": 130
        }
      ]
    },
    {
      "cell_type": "code",
      "source": [
        "outputs.last_hidden_state.shape"
      ],
      "metadata": {
        "colab": {
          "base_uri": "https://localhost:8080/"
        },
        "id": "24yX-uY7MHM1",
        "outputId": "1055454f-4b46-49a9-94bb-1f17b5d3bbf0"
      },
      "execution_count": 131,
      "outputs": [
        {
          "output_type": "execute_result",
          "data": {
            "text/plain": [
              "TensorShape([1, 6, 768])"
            ]
          },
          "metadata": {},
          "execution_count": 131
        }
      ]
    },
    {
      "cell_type": "code",
      "source": [
        "dataset_encoded.reset_format()\n",
        "\n",
        "def extract_hidden_states(batch):\n",
        "    # First convert text to tokens\n",
        "    inputs = tokenizer(batch[\"text\"], padding=True, \n",
        "                       truncation=True, return_tensors='tf')\n",
        "    # Extract last hidden states\n",
        "    outputs = tf_model(inputs)\n",
        "     # Return vector for [CLS] token\n",
        "    return {\"hidden_state\": outputs.last_hidden_state[:,0].numpy()}"
      ],
      "metadata": {
        "id": "2UirnPdrMLyd"
      },
      "execution_count": 132,
      "outputs": []
    },
    {
      "cell_type": "code",
      "source": [
        "dataset_hidden = dataset_encoded.map(extract_hidden_states, batched=True, batch_size=512)\n",
        "dataset_hidden"
      ],
      "metadata": {
        "colab": {
          "base_uri": "https://localhost:8080/",
          "height": 758,
          "referenced_widgets": [
            "d87a47ddbde0452a9149686f9a56115c",
            "867763251ab84c25bdd4e45f66bb2f68",
            "095ebd3929124f8eabd2c50994261fbf",
            "ab54958516cf436e8238f9b1a4f73b21",
            "eddcca2301d74d61895f977d910a03a0",
            "45ae28743c0c4532b5aedadc2b6f8f84",
            "681495cf9a144aa6a6ee2a61d14ff3ab",
            "3fb3afa44f114f529a9c5a4423284b76",
            "62523c09d5a540bdb69b5c78401d477a",
            "e3ddb9f3be794789921f6f8286a420c3",
            "3c0e429dd66f4114bd9593b633c05dc5",
            "fd7ea0220f3a4d219d38a21880fa6ae2",
            "68708709ae0e404ba2159a9019bbffe3",
            "84f27678a6d144bd9b4d4bf1fad069e7",
            "1f7536d6425f4ba7924c3bfc368beae6",
            "c866f4d762c34e579e5c94ae251c8be1",
            "ea0e036d58b14850b31d7b729a3f1faf",
            "4c5500b44aa94ad8bbbfeb31b9a7a39c",
            "e5b9c560c32144c8920fb32acf0bbdbe",
            "e7650bbcf7654ac89dc4293ebb2cc59b",
            "b09a97b5c80e42b4b024c0282892f72b",
            "d36a88ed1e0e41e4a65cab7070fdcff1",
            "6192d7f2f6f649108b40d396c6a657e4",
            "f67f140d44a84c79b569acc9ff76534d",
            "e567419b3a864d6ea369886fc4c82779",
            "3775c9bfa0e54a608fe7d4b1520845d6",
            "59ee1bd8184f4346829477bdc388fafb",
            "791935c8871a4efcaf661f90e8987e68",
            "46497c0e59cf499f93575ba753bd7706",
            "dbe56bf61687447681439aee5918f7d4",
            "0ac2900bb8f542f1b161966e61bd8521",
            "c39f544b64f547ba86e38d7bd40c626e",
            "56c43811cd0a4edfb38a8c830ae7964c"
          ]
        },
        "id": "NbIkt76cOXDD",
        "outputId": "6bd99c66-3e75-4526-b097-d48149c5d4a9"
      },
      "execution_count": 133,
      "outputs": [
        {
          "output_type": "stream",
          "name": "stderr",
          "text": [
            "WARNING:tensorflow:Skipping full serialization of Keras layer <keras.layers.regularization.dropout.Dropout object at 0x7fd51d0fc850>, because it is not built.\n",
            "WARNING:tensorflow:Skipping full serialization of Keras layer <keras.layers.regularization.dropout.Dropout object at 0x7fd52cdf0310>, because it is not built.\n",
            "WARNING:tensorflow:Skipping full serialization of Keras layer <keras.layers.regularization.dropout.Dropout object at 0x7fd52ce66df0>, because it is not built.\n",
            "WARNING:tensorflow:Skipping full serialization of Keras layer <keras.layers.regularization.dropout.Dropout object at 0x7fd52ce4c550>, because it is not built.\n",
            "WARNING:tensorflow:Skipping full serialization of Keras layer <keras.layers.regularization.dropout.Dropout object at 0x7fd52ce56c70>, because it is not built.\n",
            "WARNING:tensorflow:Skipping full serialization of Keras layer <keras.layers.regularization.dropout.Dropout object at 0x7fd51711b3d0>, because it is not built.\n",
            "WARNING:absl:Found untraced functions such as embeddings_layer_call_fn, embeddings_layer_call_and_return_conditional_losses, transformer_layer_call_fn, transformer_layer_call_and_return_conditional_losses, LayerNorm_layer_call_fn while saving (showing 5 of 164). These functions will not be directly callable after loading.\n"
          ]
        },
        {
          "output_type": "display_data",
          "data": {
            "text/plain": [
              "  0%|          | 0/1 [00:00<?, ?ba/s]"
            ],
            "application/vnd.jupyter.widget-view+json": {
              "version_major": 2,
              "version_minor": 0,
              "model_id": "d87a47ddbde0452a9149686f9a56115c"
            }
          },
          "metadata": {}
        },
        {
          "output_type": "stream",
          "name": "stderr",
          "text": [
            "WARNING:tensorflow:Skipping full serialization of Keras layer <keras.layers.regularization.dropout.Dropout object at 0x7fd51d0fc850>, because it is not built.\n",
            "WARNING:tensorflow:Skipping full serialization of Keras layer <keras.layers.regularization.dropout.Dropout object at 0x7fd52cdf0310>, because it is not built.\n",
            "WARNING:tensorflow:Skipping full serialization of Keras layer <keras.layers.regularization.dropout.Dropout object at 0x7fd52ce66df0>, because it is not built.\n",
            "WARNING:tensorflow:Skipping full serialization of Keras layer <keras.layers.regularization.dropout.Dropout object at 0x7fd52ce4c550>, because it is not built.\n",
            "WARNING:tensorflow:Skipping full serialization of Keras layer <keras.layers.regularization.dropout.Dropout object at 0x7fd52ce56c70>, because it is not built.\n",
            "WARNING:tensorflow:Skipping full serialization of Keras layer <keras.layers.regularization.dropout.Dropout object at 0x7fd51711b3d0>, because it is not built.\n",
            "WARNING:absl:Found untraced functions such as embeddings_layer_call_fn, embeddings_layer_call_and_return_conditional_losses, transformer_layer_call_fn, transformer_layer_call_and_return_conditional_losses, LayerNorm_layer_call_fn while saving (showing 5 of 164). These functions will not be directly callable after loading.\n"
          ]
        },
        {
          "output_type": "display_data",
          "data": {
            "text/plain": [
              "  0%|          | 0/1 [00:00<?, ?ba/s]"
            ],
            "application/vnd.jupyter.widget-view+json": {
              "version_major": 2,
              "version_minor": 0,
              "model_id": "fd7ea0220f3a4d219d38a21880fa6ae2"
            }
          },
          "metadata": {}
        },
        {
          "output_type": "stream",
          "name": "stderr",
          "text": [
            "WARNING:tensorflow:Skipping full serialization of Keras layer <keras.layers.regularization.dropout.Dropout object at 0x7fd51d0fc850>, because it is not built.\n",
            "WARNING:tensorflow:Skipping full serialization of Keras layer <keras.layers.regularization.dropout.Dropout object at 0x7fd52cdf0310>, because it is not built.\n",
            "WARNING:tensorflow:Skipping full serialization of Keras layer <keras.layers.regularization.dropout.Dropout object at 0x7fd52ce66df0>, because it is not built.\n",
            "WARNING:tensorflow:Skipping full serialization of Keras layer <keras.layers.regularization.dropout.Dropout object at 0x7fd52ce4c550>, because it is not built.\n",
            "WARNING:tensorflow:Skipping full serialization of Keras layer <keras.layers.regularization.dropout.Dropout object at 0x7fd52ce56c70>, because it is not built.\n",
            "WARNING:tensorflow:Skipping full serialization of Keras layer <keras.layers.regularization.dropout.Dropout object at 0x7fd51711b3d0>, because it is not built.\n",
            "WARNING:absl:Found untraced functions such as embeddings_layer_call_fn, embeddings_layer_call_and_return_conditional_losses, transformer_layer_call_fn, transformer_layer_call_and_return_conditional_losses, LayerNorm_layer_call_fn while saving (showing 5 of 164). These functions will not be directly callable after loading.\n"
          ]
        },
        {
          "output_type": "display_data",
          "data": {
            "text/plain": [
              "  0%|          | 0/1 [00:00<?, ?ba/s]"
            ],
            "application/vnd.jupyter.widget-view+json": {
              "version_major": 2,
              "version_minor": 0,
              "model_id": "6192d7f2f6f649108b40d396c6a657e4"
            }
          },
          "metadata": {}
        },
        {
          "output_type": "execute_result",
          "data": {
            "text/plain": [
              "DatasetDict({\n",
              "    train: Dataset({\n",
              "        features: ['text', 'label', 'input_ids', 'attention_mask', 'hidden_state'],\n",
              "        num_rows: 208\n",
              "    })\n",
              "    validation: Dataset({\n",
              "        features: ['text', 'label', 'input_ids', 'attention_mask', 'hidden_state'],\n",
              "        num_rows: 45\n",
              "    })\n",
              "    test: Dataset({\n",
              "        features: ['text', 'label', 'input_ids', 'attention_mask', 'hidden_state'],\n",
              "        num_rows: 45\n",
              "    })\n",
              "})"
            ]
          },
          "metadata": {},
          "execution_count": 133
        }
      ]
    },
    {
      "cell_type": "code",
      "source": [
        "import numpy as np\n",
        "X_train_ = np.array(dataset_hidden[\"train\"][\"hidden_state\"])\n",
        "X_valid_ = np.array(dataset_hidden[\"validation\"][\"hidden_state\"])\n",
        "y_train_ = np.array(dataset_hidden[\"train\"][\"label\"])\n",
        "y_valid_ = np.array(dataset_hidden[\"validation\"][\"label\"])\n",
        "X_train_.shape, X_valid_.shape"
      ],
      "metadata": {
        "colab": {
          "base_uri": "https://localhost:8080/"
        },
        "id": "sUM-AR0AOb0-",
        "outputId": "319ca8b8-4995-4e09-8f19-5b72416a6697"
      },
      "execution_count": 135,
      "outputs": [
        {
          "output_type": "execute_result",
          "data": {
            "text/plain": [
              "((208, 768), (45, 768))"
            ]
          },
          "metadata": {},
          "execution_count": 135
        }
      ]
    },
    {
      "cell_type": "code",
      "source": [
        "# We increase `max_iter` to guarantee convergence\n",
        "lr_clf = LogisticRegression(max_iter=3000)\n",
        "lr_clf.fit(X_train_, y_train_)\n",
        "lr_clf.score(X_valid_, y_valid_)"
      ],
      "metadata": {
        "colab": {
          "base_uri": "https://localhost:8080/"
        },
        "id": "EPY4m5g7QtGe",
        "outputId": "4b57fb9f-82ea-4722-97d5-9e155296854b"
      },
      "execution_count": 136,
      "outputs": [
        {
          "output_type": "execute_result",
          "data": {
            "text/plain": [
              "0.8222222222222222"
            ]
          },
          "metadata": {},
          "execution_count": 136
        }
      ]
    },
    {
      "cell_type": "code",
      "source": [
        "lr_clf = fit_model(LogisticRegression(max_iter=3000, \n",
        "                                  #  class_weight='balanced'\n",
        "                                   ), \n",
        "                X_train_, \n",
        "                y_train_)\n",
        "\n",
        "y_val_pred = predict(lr_clf, X_valid_)\n",
        "\n",
        "print_confusion_matrix(y_val, y_val_pred, with_report=True)"
      ],
      "metadata": {
        "colab": {
          "base_uri": "https://localhost:8080/",
          "height": 511
        },
        "id": "IR-jSzF4ROxc",
        "outputId": "649b4603-ae7b-4077-ee99-0aeb7d76d94c"
      },
      "execution_count": 138,
      "outputs": [
        {
          "output_type": "display_data",
          "data": {
            "text/plain": [
              "<Figure size 432x288 with 2 Axes>"
            ],
            "image/png": "[encoded data removed]"
          },
          "metadata": {
            "needs_background": "light"
          }
        },
        {
          "output_type": "stream",
          "name": "stdout",
          "text": [
            "\n",
            "              precision    recall  f1-score   support\n",
            "\n",
            "        Blog       0.92      0.92      0.92        12\n",
            "   Home Page       0.93      0.76      0.84        17\n",
            "        MISC       0.69      0.90      0.78        10\n",
            "Product Page       0.67      0.67      0.67         6\n",
            "\n",
            "    accuracy                           0.82        45\n",
            "   macro avg       0.80      0.81      0.80        45\n",
            "weighted avg       0.84      0.82      0.82        45\n",
            "\n"
          ]
        }
      ]
    },
    {
      "cell_type": "code",
      "source": [
        "num_labels = len(y_train.value_counts())"
      ],
      "metadata": {
        "id": "lBskkuEDSdBn"
      },
      "execution_count": 141,
      "outputs": []
    },
    {
      "cell_type": "code",
      "source": [
        "from transformers import TFAutoModelForSequenceClassification\n",
        "tf_model = (TFAutoModelForSequenceClassification.from_pretrained(model_ckpt, num_labels=num_labels))"
      ],
      "metadata": {
        "colab": {
          "base_uri": "https://localhost:8080/"
        },
        "id": "HYiyj_cvR0nT",
        "outputId": "75523e87-637e-472e-a358-e9d9c37e5622"
      },
      "execution_count": 142,
      "outputs": [
        {
          "output_type": "stream",
          "name": "stderr",
          "text": [
            "Some layers from the model checkpoint at distilbert-base-uncased were not used when initializing TFDistilBertForSequenceClassification: ['vocab_layer_norm', 'vocab_projector', 'vocab_transform', 'activation_13']\n",
            "- This IS expected if you are initializing TFDistilBertForSequenceClassification from the checkpoint of a model trained on another task or with another architecture (e.g. initializing a BertForSequenceClassification model from a BertForPreTraining model).\n",
            "- This IS NOT expected if you are initializing TFDistilBertForSequenceClassification from the checkpoint of a model that you expect to be exactly identical (initializing a BertForSequenceClassification model from a BertForSequenceClassification model).\n",
            "Some layers of TFDistilBertForSequenceClassification were not initialized from the model checkpoint at distilbert-base-uncased and are newly initialized: ['pre_classifier', 'classifier', 'dropout_38']\n",
            "You should probably TRAIN this model on a down-stream task to be able to use it for predictions and inference.\n"
          ]
        }
      ]
    },
    {
      "cell_type": "code",
      "source": [
        "dataset_encoded = dataset.map(tokenize, batched=True, batch_size=None)"
      ],
      "metadata": {
        "id": "EormNHj_iHct"
      },
      "execution_count": null,
      "outputs": []
    },
    {
      "cell_type": "code",
      "source": [
        "# The column names to convert to TensorFlow tensors\n",
        "from transformers import DataCollatorWithPadding\n",
        "from transformers import DataCollatorForTokenClassification\n",
        "from transformers import DefaultDataCollator\n",
        "\n",
        "\n",
        "tokenizer_columns = tokenizer.model_input_names\n",
        "\n",
        "# Define a batch size\n",
        "batch_size = 64\n",
        "\n",
        "# data_collator = DataCollatorWithPadding(tokenizer=tokenizer, return_tensors=\"tf\")\n",
        "# data_collator = DataCollatorForTokenClassification(tokenizer=tokenizer, return_tensors=\"tf\")\n",
        "data_collator = DefaultDataCollator(return_tensors=\"tf\")\n",
        "\n",
        "\n",
        "tf_train_dataset = dataset_encoded[\"train\"].to_tf_dataset(columns=tokenizer_columns, \n",
        "                                                           label_cols=[\"label\"], shuffle=True,\n",
        "                                                           batch_size=batch_size,\n",
        "                                                           collate_fn=data_collator\n",
        "                                                          )\n",
        "tf_eval_dataset = dataset_encoded[\"validation\"].to_tf_dataset(columns=tokenizer_columns, \n",
        "                                                               label_cols=[\"label\"], shuffle=False,\n",
        "                                                               batch_size=batch_size,\n",
        "                                                               collate_fn=data_collator\n",
        "                                                              )\n",
        "\n",
        "tf_train_dataset"
      ],
      "metadata": {
        "colab": {
          "base_uri": "https://localhost:8080/",
          "height": 389
        },
        "id": "s_ThtXZJSpqK",
        "outputId": "c7cfaedb-247e-4152-ffad-957a089cd63a"
      },
      "execution_count": 157,
      "outputs": [
        {
          "output_type": "error",
          "ename": "TypeError",
          "evalue": "ignored",
          "traceback": [
            "\u001b[0;31m---------------------------------------------------------------------------\u001b[0m",
            "\u001b[0;31mTypeError\u001b[0m                                 Traceback (most recent call last)",
            "\u001b[0;32m<ipython-input-157-51ddbc8793db>\u001b[0m in \u001b[0;36m<module>\u001b[0;34m\u001b[0m\n\u001b[1;32m     15\u001b[0m \u001b[0;34m\u001b[0m\u001b[0m\n\u001b[1;32m     16\u001b[0m \u001b[0;34m\u001b[0m\u001b[0m\n\u001b[0;32m---> 17\u001b[0;31m tf_train_dataset = dataset_encoded[\"train\"].to_tf_dataset(columns=tokenizer_columns, \n\u001b[0m\u001b[1;32m     18\u001b[0m                                                            \u001b[0mlabel_cols\u001b[0m\u001b[0;34m=\u001b[0m\u001b[0;34m[\u001b[0m\u001b[0;34m\"label\"\u001b[0m\u001b[0;34m]\u001b[0m\u001b[0;34m,\u001b[0m \u001b[0mshuffle\u001b[0m\u001b[0;34m=\u001b[0m\u001b[0;32mTrue\u001b[0m\u001b[0;34m,\u001b[0m\u001b[0;34m\u001b[0m\u001b[0;34m\u001b[0m\u001b[0m\n\u001b[1;32m     19\u001b[0m                                                            \u001b[0mbatch_size\u001b[0m\u001b[0;34m=\u001b[0m\u001b[0mbatch_size\u001b[0m\u001b[0;34m,\u001b[0m\u001b[0;34m\u001b[0m\u001b[0;34m\u001b[0m\u001b[0m\n",
            "\u001b[0;32m/usr/local/lib/python3.8/dist-packages/datasets/arrow_dataset.py\u001b[0m in \u001b[0;36mto_tf_dataset\u001b[0;34m(self, batch_size, columns, shuffle, collate_fn, drop_remainder, collate_fn_args, label_cols, prefetch)\u001b[0m\n\u001b[1;32m    426\u001b[0m         \u001b[0;31m# TODO(Matt, QL): deprecate the retention of label_ids and label\u001b[0m\u001b[0;34m\u001b[0m\u001b[0;34m\u001b[0m\u001b[0;34m\u001b[0m\u001b[0m\n\u001b[1;32m    427\u001b[0m \u001b[0;34m\u001b[0m\u001b[0m\n\u001b[0;32m--> 428\u001b[0;31m         output_signature, columns_to_np_types = dataset._get_output_signature(\n\u001b[0m\u001b[1;32m    429\u001b[0m             \u001b[0mdataset\u001b[0m\u001b[0;34m,\u001b[0m\u001b[0;34m\u001b[0m\u001b[0;34m\u001b[0m\u001b[0m\n\u001b[1;32m    430\u001b[0m             \u001b[0mcollate_fn\u001b[0m\u001b[0;34m=\u001b[0m\u001b[0mcollate_fn\u001b[0m\u001b[0;34m,\u001b[0m\u001b[0;34m\u001b[0m\u001b[0;34m\u001b[0m\u001b[0m\n",
            "\u001b[0;32m/usr/local/lib/python3.8/dist-packages/datasets/arrow_dataset.py\u001b[0m in \u001b[0;36m_get_output_signature\u001b[0;34m(dataset, collate_fn, collate_fn_args, cols_to_retain, batch_size, num_test_batches)\u001b[0m\n\u001b[1;32m    287\u001b[0m                 \u001b[0mtest_batch\u001b[0m \u001b[0;34m=\u001b[0m \u001b[0;34m{\u001b[0m\u001b[0mkey\u001b[0m\u001b[0;34m:\u001b[0m \u001b[0mvalue\u001b[0m \u001b[0;32mfor\u001b[0m \u001b[0mkey\u001b[0m\u001b[0;34m,\u001b[0m \u001b[0mvalue\u001b[0m \u001b[0;32min\u001b[0m \u001b[0mtest_batch\u001b[0m\u001b[0;34m.\u001b[0m\u001b[0mitems\u001b[0m\u001b[0;34m(\u001b[0m\u001b[0;34m)\u001b[0m \u001b[0;32mif\u001b[0m \u001b[0mkey\u001b[0m \u001b[0;32min\u001b[0m \u001b[0mcols_to_retain\u001b[0m\u001b[0;34m}\u001b[0m\u001b[0;34m\u001b[0m\u001b[0;34m\u001b[0m\u001b[0m\n\u001b[1;32m    288\u001b[0m             \u001b[0mtest_batch\u001b[0m \u001b[0;34m=\u001b[0m \u001b[0;34m[\u001b[0m\u001b[0;34m{\u001b[0m\u001b[0mkey\u001b[0m\u001b[0;34m:\u001b[0m \u001b[0mvalue\u001b[0m\u001b[0;34m[\u001b[0m\u001b[0mi\u001b[0m\u001b[0;34m]\u001b[0m \u001b[0;32mfor\u001b[0m \u001b[0mkey\u001b[0m\u001b[0;34m,\u001b[0m \u001b[0mvalue\u001b[0m \u001b[0;32min\u001b[0m \u001b[0mtest_batch\u001b[0m\u001b[0;34m.\u001b[0m\u001b[0mitems\u001b[0m\u001b[0;34m(\u001b[0m\u001b[0;34m)\u001b[0m\u001b[0;34m}\u001b[0m \u001b[0;32mfor\u001b[0m \u001b[0mi\u001b[0m \u001b[0;32min\u001b[0m \u001b[0mrange\u001b[0m\u001b[0;34m(\u001b[0m\u001b[0mtest_batch_size\u001b[0m\u001b[0;34m)\u001b[0m\u001b[0;34m]\u001b[0m\u001b[0;34m\u001b[0m\u001b[0;34m\u001b[0m\u001b[0m\n\u001b[0;32m--> 289\u001b[0;31m             \u001b[0mtest_batch\u001b[0m \u001b[0;34m=\u001b[0m \u001b[0mcollate_fn\u001b[0m\u001b[0;34m(\u001b[0m\u001b[0mtest_batch\u001b[0m\u001b[0;34m,\u001b[0m \u001b[0;34m**\u001b[0m\u001b[0mcollate_fn_args\u001b[0m\u001b[0;34m)\u001b[0m\u001b[0;34m\u001b[0m\u001b[0;34m\u001b[0m\u001b[0m\n\u001b[0m\u001b[1;32m    290\u001b[0m             \u001b[0mtest_batches\u001b[0m\u001b[0;34m.\u001b[0m\u001b[0mappend\u001b[0m\u001b[0;34m(\u001b[0m\u001b[0mtest_batch\u001b[0m\u001b[0;34m)\u001b[0m\u001b[0;34m\u001b[0m\u001b[0;34m\u001b[0m\u001b[0m\n\u001b[1;32m    291\u001b[0m \u001b[0;34m\u001b[0m\u001b[0m\n",
            "\u001b[0;32m/usr/local/lib/python3.8/dist-packages/transformers/data/data_collator.py\u001b[0m in \u001b[0;36m__call__\u001b[0;34m(self, features, return_tensors)\u001b[0m\n\u001b[1;32m    100\u001b[0m         \u001b[0;32mif\u001b[0m \u001b[0mreturn_tensors\u001b[0m \u001b[0;32mis\u001b[0m \u001b[0;32mNone\u001b[0m\u001b[0;34m:\u001b[0m\u001b[0;34m\u001b[0m\u001b[0;34m\u001b[0m\u001b[0m\n\u001b[1;32m    101\u001b[0m             \u001b[0mreturn_tensors\u001b[0m \u001b[0;34m=\u001b[0m \u001b[0mself\u001b[0m\u001b[0;34m.\u001b[0m\u001b[0mreturn_tensors\u001b[0m\u001b[0;34m\u001b[0m\u001b[0;34m\u001b[0m\u001b[0m\n\u001b[0;32m--> 102\u001b[0;31m         \u001b[0;32mreturn\u001b[0m \u001b[0mdefault_data_collator\u001b[0m\u001b[0;34m(\u001b[0m\u001b[0mfeatures\u001b[0m\u001b[0;34m,\u001b[0m \u001b[0mreturn_tensors\u001b[0m\u001b[0;34m)\u001b[0m\u001b[0;34m\u001b[0m\u001b[0;34m\u001b[0m\u001b[0m\n\u001b[0m\u001b[1;32m    103\u001b[0m \u001b[0;34m\u001b[0m\u001b[0m\n\u001b[1;32m    104\u001b[0m \u001b[0;34m\u001b[0m\u001b[0m\n",
            "\u001b[0;32m/usr/local/lib/python3.8/dist-packages/transformers/data/data_collator.py\u001b[0m in \u001b[0;36mdefault_data_collator\u001b[0;34m(features, return_tensors)\u001b[0m\n\u001b[1;32m     70\u001b[0m         \u001b[0;32mreturn\u001b[0m \u001b[0mtorch_default_data_collator\u001b[0m\u001b[0;34m(\u001b[0m\u001b[0mfeatures\u001b[0m\u001b[0;34m)\u001b[0m\u001b[0;34m\u001b[0m\u001b[0;34m\u001b[0m\u001b[0m\n\u001b[1;32m     71\u001b[0m     \u001b[0;32melif\u001b[0m \u001b[0mreturn_tensors\u001b[0m \u001b[0;34m==\u001b[0m \u001b[0;34m\"tf\"\u001b[0m\u001b[0;34m:\u001b[0m\u001b[0;34m\u001b[0m\u001b[0;34m\u001b[0m\u001b[0m\n\u001b[0;32m---> 72\u001b[0;31m         \u001b[0;32mreturn\u001b[0m \u001b[0mtf_default_data_collator\u001b[0m\u001b[0;34m(\u001b[0m\u001b[0mfeatures\u001b[0m\u001b[0;34m)\u001b[0m\u001b[0;34m\u001b[0m\u001b[0;34m\u001b[0m\u001b[0m\n\u001b[0m\u001b[1;32m     73\u001b[0m     \u001b[0;32melif\u001b[0m \u001b[0mreturn_tensors\u001b[0m \u001b[0;34m==\u001b[0m \u001b[0;34m\"np\"\u001b[0m\u001b[0;34m:\u001b[0m\u001b[0;34m\u001b[0m\u001b[0;34m\u001b[0m\u001b[0m\n\u001b[1;32m     74\u001b[0m         \u001b[0;32mreturn\u001b[0m \u001b[0mnumpy_default_data_collator\u001b[0m\u001b[0;34m(\u001b[0m\u001b[0mfeatures\u001b[0m\u001b[0;34m)\u001b[0m\u001b[0;34m\u001b[0m\u001b[0;34m\u001b[0m\u001b[0m\n",
            "\u001b[0;32m/usr/local/lib/python3.8/dist-packages/transformers/data/data_collator.py\u001b[0m in \u001b[0;36mtf_default_data_collator\u001b[0;34m(features)\u001b[0m\n\u001b[1;32m    167\u001b[0m         \u001b[0;32melse\u001b[0m\u001b[0;34m:\u001b[0m\u001b[0;34m\u001b[0m\u001b[0;34m\u001b[0m\u001b[0m\n\u001b[1;32m    168\u001b[0m             \u001b[0mdtype\u001b[0m \u001b[0;34m=\u001b[0m \u001b[0mtf\u001b[0m\u001b[0;34m.\u001b[0m\u001b[0mint64\u001b[0m \u001b[0;32mif\u001b[0m \u001b[0misinstance\u001b[0m\u001b[0;34m(\u001b[0m\u001b[0mfirst\u001b[0m\u001b[0;34m[\u001b[0m\u001b[0mlabel_col_name\u001b[0m\u001b[0;34m]\u001b[0m\u001b[0;34m,\u001b[0m \u001b[0mint\u001b[0m\u001b[0;34m)\u001b[0m \u001b[0;32melse\u001b[0m \u001b[0mtf\u001b[0m\u001b[0;34m.\u001b[0m\u001b[0mfloat32\u001b[0m\u001b[0;34m\u001b[0m\u001b[0;34m\u001b[0m\u001b[0m\n\u001b[0;32m--> 169\u001b[0;31m         \u001b[0mbatch\u001b[0m\u001b[0;34m[\u001b[0m\u001b[0;34m\"labels\"\u001b[0m\u001b[0;34m]\u001b[0m \u001b[0;34m=\u001b[0m \u001b[0mtf\u001b[0m\u001b[0;34m.\u001b[0m\u001b[0mconvert_to_tensor\u001b[0m\u001b[0;34m(\u001b[0m\u001b[0;34m[\u001b[0m\u001b[0mf\u001b[0m\u001b[0;34m[\u001b[0m\u001b[0mlabel_col_name\u001b[0m\u001b[0;34m]\u001b[0m \u001b[0;32mfor\u001b[0m \u001b[0mf\u001b[0m \u001b[0;32min\u001b[0m \u001b[0mfeatures\u001b[0m\u001b[0;34m]\u001b[0m\u001b[0;34m,\u001b[0m \u001b[0mdtype\u001b[0m\u001b[0;34m=\u001b[0m\u001b[0mdtype\u001b[0m\u001b[0;34m)\u001b[0m\u001b[0;34m\u001b[0m\u001b[0;34m\u001b[0m\u001b[0m\n\u001b[0m\u001b[1;32m    170\u001b[0m     \u001b[0;31m# Handling of all other possible keys.\u001b[0m\u001b[0;34m\u001b[0m\u001b[0;34m\u001b[0m\u001b[0;34m\u001b[0m\u001b[0m\n\u001b[1;32m    171\u001b[0m     \u001b[0;31m# Again, we will use the first element to figure out which key/values are not None for this model.\u001b[0m\u001b[0;34m\u001b[0m\u001b[0;34m\u001b[0m\u001b[0;34m\u001b[0m\u001b[0m\n",
            "\u001b[0;32m/usr/local/lib/python3.8/dist-packages/tensorflow/python/util/traceback_utils.py\u001b[0m in \u001b[0;36merror_handler\u001b[0;34m(*args, **kwargs)\u001b[0m\n\u001b[1;32m    151\u001b[0m     \u001b[0;32mexcept\u001b[0m \u001b[0mException\u001b[0m \u001b[0;32mas\u001b[0m \u001b[0me\u001b[0m\u001b[0;34m:\u001b[0m\u001b[0;34m\u001b[0m\u001b[0;34m\u001b[0m\u001b[0m\n\u001b[1;32m    152\u001b[0m       \u001b[0mfiltered_tb\u001b[0m \u001b[0;34m=\u001b[0m \u001b[0m_process_traceback_frames\u001b[0m\u001b[0;34m(\u001b[0m\u001b[0me\u001b[0m\u001b[0;34m.\u001b[0m\u001b[0m__traceback__\u001b[0m\u001b[0;34m)\u001b[0m\u001b[0;34m\u001b[0m\u001b[0;34m\u001b[0m\u001b[0m\n\u001b[0;32m--> 153\u001b[0;31m       \u001b[0;32mraise\u001b[0m \u001b[0me\u001b[0m\u001b[0;34m.\u001b[0m\u001b[0mwith_traceback\u001b[0m\u001b[0;34m(\u001b[0m\u001b[0mfiltered_tb\u001b[0m\u001b[0;34m)\u001b[0m \u001b[0;32mfrom\u001b[0m \u001b[0;32mNone\u001b[0m\u001b[0;34m\u001b[0m\u001b[0;34m\u001b[0m\u001b[0m\n\u001b[0m\u001b[1;32m    154\u001b[0m     \u001b[0;32mfinally\u001b[0m\u001b[0;34m:\u001b[0m\u001b[0;34m\u001b[0m\u001b[0;34m\u001b[0m\u001b[0m\n\u001b[1;32m    155\u001b[0m       \u001b[0;32mdel\u001b[0m \u001b[0mfiltered_tb\u001b[0m\u001b[0;34m\u001b[0m\u001b[0;34m\u001b[0m\u001b[0m\n",
            "\u001b[0;32m/usr/local/lib/python3.8/dist-packages/tensorflow/python/framework/constant_op.py\u001b[0m in \u001b[0;36mconvert_to_eager_tensor\u001b[0;34m(value, ctx, dtype)\u001b[0m\n\u001b[1;32m    100\u001b[0m       \u001b[0mdtype\u001b[0m \u001b[0;34m=\u001b[0m \u001b[0mdtypes\u001b[0m\u001b[0;34m.\u001b[0m\u001b[0mas_dtype\u001b[0m\u001b[0;34m(\u001b[0m\u001b[0mdtype\u001b[0m\u001b[0;34m)\u001b[0m\u001b[0;34m.\u001b[0m\u001b[0mas_datatype_enum\u001b[0m\u001b[0;34m\u001b[0m\u001b[0;34m\u001b[0m\u001b[0m\n\u001b[1;32m    101\u001b[0m   \u001b[0mctx\u001b[0m\u001b[0;34m.\u001b[0m\u001b[0mensure_initialized\u001b[0m\u001b[0;34m(\u001b[0m\u001b[0;34m)\u001b[0m\u001b[0;34m\u001b[0m\u001b[0;34m\u001b[0m\u001b[0m\n\u001b[0;32m--> 102\u001b[0;31m   \u001b[0;32mreturn\u001b[0m \u001b[0mops\u001b[0m\u001b[0;34m.\u001b[0m\u001b[0mEagerTensor\u001b[0m\u001b[0;34m(\u001b[0m\u001b[0mvalue\u001b[0m\u001b[0;34m,\u001b[0m \u001b[0mctx\u001b[0m\u001b[0;34m.\u001b[0m\u001b[0mdevice_name\u001b[0m\u001b[0;34m,\u001b[0m \u001b[0mdtype\u001b[0m\u001b[0;34m)\u001b[0m\u001b[0;34m\u001b[0m\u001b[0;34m\u001b[0m\u001b[0m\n\u001b[0m\u001b[1;32m    103\u001b[0m \u001b[0;34m\u001b[0m\u001b[0m\n\u001b[1;32m    104\u001b[0m \u001b[0;34m\u001b[0m\u001b[0m\n",
            "\u001b[0;31mTypeError\u001b[0m: Cannot convert ['Home Page', 'Product Page'] to EagerTensor of dtype float"
          ]
        }
      ]
    },
    {
      "cell_type": "code",
      "source": [
        "import tensorflow as tf\n",
        "\n",
        "# tf_model.compile(optimizer=tf.keras.optimizers.Adam(learning_rate=5e-5),\n",
        "#                  loss=tf.keras.losses.SparseCategoricalCrossentropy(from_logits=True),\n",
        "#                  metrics=tf.metrics.SparseCategoricalAccuracy()\n",
        "#                  )\n",
        "\n",
        "tf_model.compile(optimizer=tf.keras.optimizers.Adam(learning_rate=5e-5),\n",
        "                 loss=tf.keras.losses.SparseCategoricalCrossentropy(from_logits=True),\n",
        "                 metrics='accuracy'\n",
        "                 )\n",
        "\n",
        "tf_model.fit(tf_train_dataset, validation_data=tf_eval_dataset, epochs=2)"
      ],
      "metadata": {
        "colab": {
          "base_uri": "https://localhost:8080/",
          "height": 353
        },
        "id": "aAUvhUgKS0aM",
        "outputId": "b3ccee35-7298-4a75-a6b3-1cc5fc2e21ae"
      },
      "execution_count": 153,
      "outputs": [
        {
          "output_type": "error",
          "ename": "ValueError",
          "evalue": "ignored",
          "traceback": [
            "\u001b[0;31m---------------------------------------------------------------------------\u001b[0m",
            "\u001b[0;31mValueError\u001b[0m                                Traceback (most recent call last)",
            "\u001b[0;32m<ipython-input-153-2493931e1c04>\u001b[0m in \u001b[0;36m<module>\u001b[0;34m\u001b[0m\n\u001b[1;32m     11\u001b[0m                  )\n\u001b[1;32m     12\u001b[0m \u001b[0;34m\u001b[0m\u001b[0m\n\u001b[0;32m---> 13\u001b[0;31m \u001b[0mtf_model\u001b[0m\u001b[0;34m.\u001b[0m\u001b[0mfit\u001b[0m\u001b[0;34m(\u001b[0m\u001b[0mtf_train_dataset\u001b[0m\u001b[0;34m,\u001b[0m \u001b[0mtf_eval_dataset\u001b[0m\u001b[0;34m,\u001b[0m \u001b[0mepochs\u001b[0m\u001b[0;34m=\u001b[0m\u001b[0;36m2\u001b[0m\u001b[0;34m)\u001b[0m\u001b[0;34m\u001b[0m\u001b[0;34m\u001b[0m\u001b[0m\n\u001b[0m",
            "\u001b[0;32m/usr/local/lib/python3.8/dist-packages/keras/utils/traceback_utils.py\u001b[0m in \u001b[0;36merror_handler\u001b[0;34m(*args, **kwargs)\u001b[0m\n\u001b[1;32m     65\u001b[0m     \u001b[0;32mexcept\u001b[0m \u001b[0mException\u001b[0m \u001b[0;32mas\u001b[0m \u001b[0me\u001b[0m\u001b[0;34m:\u001b[0m  \u001b[0;31m# pylint: disable=broad-except\u001b[0m\u001b[0;34m\u001b[0m\u001b[0;34m\u001b[0m\u001b[0m\n\u001b[1;32m     66\u001b[0m       \u001b[0mfiltered_tb\u001b[0m \u001b[0;34m=\u001b[0m \u001b[0m_process_traceback_frames\u001b[0m\u001b[0;34m(\u001b[0m\u001b[0me\u001b[0m\u001b[0;34m.\u001b[0m\u001b[0m__traceback__\u001b[0m\u001b[0;34m)\u001b[0m\u001b[0;34m\u001b[0m\u001b[0;34m\u001b[0m\u001b[0m\n\u001b[0;32m---> 67\u001b[0;31m       \u001b[0;32mraise\u001b[0m \u001b[0me\u001b[0m\u001b[0;34m.\u001b[0m\u001b[0mwith_traceback\u001b[0m\u001b[0;34m(\u001b[0m\u001b[0mfiltered_tb\u001b[0m\u001b[0;34m)\u001b[0m \u001b[0;32mfrom\u001b[0m \u001b[0;32mNone\u001b[0m\u001b[0;34m\u001b[0m\u001b[0;34m\u001b[0m\u001b[0m\n\u001b[0m\u001b[1;32m     68\u001b[0m     \u001b[0;32mfinally\u001b[0m\u001b[0;34m:\u001b[0m\u001b[0;34m\u001b[0m\u001b[0;34m\u001b[0m\u001b[0m\n\u001b[1;32m     69\u001b[0m       \u001b[0;32mdel\u001b[0m \u001b[0mfiltered_tb\u001b[0m\u001b[0;34m\u001b[0m\u001b[0;34m\u001b[0m\u001b[0m\n",
            "\u001b[0;32m/usr/local/lib/python3.8/dist-packages/keras/engine/data_adapter.py\u001b[0m in \u001b[0;36m_validate_args\u001b[0;34m(self, y, sample_weights, steps)\u001b[0m\n\u001b[1;32m    745\u001b[0m     \u001b[0;31m# Arguments that shouldn't be passed.\u001b[0m\u001b[0;34m\u001b[0m\u001b[0;34m\u001b[0m\u001b[0;34m\u001b[0m\u001b[0m\n\u001b[1;32m    746\u001b[0m     \u001b[0;32mif\u001b[0m \u001b[0;32mnot\u001b[0m \u001b[0mis_none_or_empty\u001b[0m\u001b[0;34m(\u001b[0m\u001b[0my\u001b[0m\u001b[0;34m)\u001b[0m\u001b[0;34m:\u001b[0m\u001b[0;34m\u001b[0m\u001b[0;34m\u001b[0m\u001b[0m\n\u001b[0;32m--> 747\u001b[0;31m       raise ValueError(\"`y` argument is not supported when using \"\n\u001b[0m\u001b[1;32m    748\u001b[0m                        \"dataset as input.\")\n\u001b[1;32m    749\u001b[0m     \u001b[0;32mif\u001b[0m \u001b[0;32mnot\u001b[0m \u001b[0mis_none_or_empty\u001b[0m\u001b[0;34m(\u001b[0m\u001b[0msample_weights\u001b[0m\u001b[0;34m)\u001b[0m\u001b[0;34m:\u001b[0m\u001b[0;34m\u001b[0m\u001b[0;34m\u001b[0m\u001b[0m\n",
            "\u001b[0;31mValueError\u001b[0m: `y` argument is not supported when using dataset as input."
          ]
        }
      ]
    },
    {
      "cell_type": "code",
      "source": [
        "tf.keras.models.save_model(tf_model, filepath='my_model', overwrite=True, save_format='tf')"
      ],
      "metadata": {
        "id": "5NjkbvAyXSPy"
      },
      "execution_count": null,
      "outputs": []
    },
    {
      "cell_type": "code",
      "source": [
        "loss, eval_accuracy = tf_model.evaluate(tf_eval_dataset)\n",
        "print(\"Loss: {}\\t Test Accuracy: {}\".format(loss, eval_accuracy))"
      ],
      "metadata": {
        "id": "tP52v3J-a7Rn"
      },
      "execution_count": null,
      "outputs": []
    },
    {
      "cell_type": "code",
      "source": [
        "output_logits = tf_model.predict(tf_eval_dataset).logits\n",
        "pred_labels = np.argmax(output_logits, axis=-1)"
      ],
      "metadata": {
        "id": "F8UVUf8Ra7V6"
      },
      "execution_count": null,
      "outputs": []
    },
    {
      "cell_type": "code",
      "source": [],
      "metadata": {
        "id": "a4qp0NEHa7d9"
      },
      "execution_count": null,
      "outputs": []
    }
  ]
}