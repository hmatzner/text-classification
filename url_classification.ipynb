{
  "cells": [
    {
      "cell_type": "markdown",
      "metadata": {
        "id": "ETBiYhSFxLNt"
      },
      "source": [
        "# 0. Setup"
      ]
    },
    {
      "cell_type": "code",
      "execution_count": 1,
      "metadata": {
        "colab": {
          "base_uri": "https://localhost:8080/"
        },
        "id": "-QLU-43EwevJ",
        "outputId": "32d579fb-4057-44ea-c6a6-1629f21c87be"
      },
      "outputs": [
        {
          "output_type": "stream",
          "name": "stdout",
          "text": [
            "Looking in indexes: https://pypi.org/simple, https://us-python.pkg.dev/colab-wheels/public/simple/\n",
            "Collecting transformers\n",
            "  Downloading transformers-4.25.1-py3-none-any.whl (5.8 MB)\n",
            "\u001b[K     |████████████████████████████████| 5.8 MB 11.5 MB/s \n",
            "\u001b[?25hCollecting newspaper3k\n",
            "  Downloading newspaper3k-0.2.8-py3-none-any.whl (211 kB)\n",
            "\u001b[K     |████████████████████████████████| 211 kB 66.6 MB/s \n",
            "\u001b[?25hCollecting datasets\n",
            "  Downloading datasets-2.8.0-py3-none-any.whl (452 kB)\n",
            "\u001b[K     |████████████████████████████████| 452 kB 59.6 MB/s \n",
            "\u001b[?25hCollecting urllib3==1.25.11\n",
            "  Downloading urllib3-1.25.11-py2.py3-none-any.whl (127 kB)\n",
            "\u001b[K     |████████████████████████████████| 127 kB 53.9 MB/s \n",
            "\u001b[?25hRequirement already satisfied: pyyaml>=5.1 in /usr/local/lib/python3.8/dist-packages (from transformers) (6.0)\n",
            "Collecting tokenizers!=0.11.3,<0.14,>=0.11.1\n",
            "  Downloading tokenizers-0.13.2-cp38-cp38-manylinux_2_17_x86_64.manylinux2014_x86_64.whl (7.6 MB)\n",
            "\u001b[K     |████████████████████████████████| 7.6 MB 41.3 MB/s \n",
            "\u001b[?25hRequirement already satisfied: requests in /usr/local/lib/python3.8/dist-packages (from transformers) (2.23.0)\n",
            "Requirement already satisfied: numpy>=1.17 in /usr/local/lib/python3.8/dist-packages (from transformers) (1.21.6)\n",
            "Collecting huggingface-hub<1.0,>=0.10.0\n",
            "  Downloading huggingface_hub-0.11.1-py3-none-any.whl (182 kB)\n",
            "\u001b[K     |████████████████████████████████| 182 kB 55.4 MB/s \n",
            "\u001b[?25hRequirement already satisfied: regex!=2019.12.17 in /usr/local/lib/python3.8/dist-packages (from transformers) (2022.6.2)\n",
            "Requirement already satisfied: filelock in /usr/local/lib/python3.8/dist-packages (from transformers) (3.8.2)\n",
            "Requirement already satisfied: packaging>=20.0 in /usr/local/lib/python3.8/dist-packages (from transformers) (21.3)\n",
            "Requirement already satisfied: tqdm>=4.27 in /usr/local/lib/python3.8/dist-packages (from transformers) (4.64.1)\n",
            "Requirement already satisfied: typing-extensions>=3.7.4.3 in /usr/local/lib/python3.8/dist-packages (from huggingface-hub<1.0,>=0.10.0->transformers) (4.4.0)\n",
            "Requirement already satisfied: pyparsing!=3.0.5,>=2.0.2 in /usr/local/lib/python3.8/dist-packages (from packaging>=20.0->transformers) (3.0.9)\n",
            "Requirement already satisfied: beautifulsoup4>=4.4.1 in /usr/local/lib/python3.8/dist-packages (from newspaper3k) (4.6.3)\n",
            "Collecting tldextract>=2.0.1\n",
            "  Downloading tldextract-3.4.0-py3-none-any.whl (93 kB)\n",
            "\u001b[K     |████████████████████████████████| 93 kB 3.1 MB/s \n",
            "\u001b[?25hRequirement already satisfied: python-dateutil>=2.5.3 in /usr/local/lib/python3.8/dist-packages (from newspaper3k) (2.8.2)\n",
            "Collecting jieba3k>=0.35.1\n",
            "  Downloading jieba3k-0.35.1.zip (7.4 MB)\n",
            "\u001b[K     |████████████████████████████████| 7.4 MB 50.9 MB/s \n",
            "\u001b[?25hCollecting tinysegmenter==0.3\n",
            "  Downloading tinysegmenter-0.3.tar.gz (16 kB)\n",
            "Collecting feedfinder2>=0.0.4\n",
            "  Downloading feedfinder2-0.0.4.tar.gz (3.3 kB)\n",
            "Collecting feedparser>=5.2.1\n",
            "  Downloading feedparser-6.0.10-py3-none-any.whl (81 kB)\n",
            "\u001b[K     |████████████████████████████████| 81 kB 3.8 MB/s \n",
            "\u001b[?25hRequirement already satisfied: Pillow>=3.3.0 in /usr/local/lib/python3.8/dist-packages (from newspaper3k) (7.1.2)\n",
            "Collecting cssselect>=0.9.2\n",
            "  Downloading cssselect-1.2.0-py2.py3-none-any.whl (18 kB)\n",
            "Requirement already satisfied: nltk>=3.2.1 in /usr/local/lib/python3.8/dist-packages (from newspaper3k) (3.7)\n",
            "Requirement already satisfied: lxml>=3.6.0 in /usr/local/lib/python3.8/dist-packages (from newspaper3k) (4.9.2)\n",
            "Requirement already satisfied: six in /usr/local/lib/python3.8/dist-packages (from feedfinder2>=0.0.4->newspaper3k) (1.15.0)\n",
            "Collecting sgmllib3k\n",
            "  Downloading sgmllib3k-1.0.0.tar.gz (5.8 kB)\n",
            "Requirement already satisfied: click in /usr/local/lib/python3.8/dist-packages (from nltk>=3.2.1->newspaper3k) (7.1.2)\n",
            "Requirement already satisfied: joblib in /usr/local/lib/python3.8/dist-packages (from nltk>=3.2.1->newspaper3k) (1.2.0)\n",
            "Requirement already satisfied: chardet<4,>=3.0.2 in /usr/local/lib/python3.8/dist-packages (from requests->transformers) (3.0.4)\n",
            "Requirement already satisfied: idna<3,>=2.5 in /usr/local/lib/python3.8/dist-packages (from requests->transformers) (2.10)\n",
            "Requirement already satisfied: certifi>=2017.4.17 in /usr/local/lib/python3.8/dist-packages (from requests->transformers) (2022.12.7)\n",
            "Collecting requests-file>=1.4\n",
            "  Downloading requests_file-1.5.1-py2.py3-none-any.whl (3.7 kB)\n",
            "Requirement already satisfied: pyarrow>=6.0.0 in /usr/local/lib/python3.8/dist-packages (from datasets) (9.0.0)\n",
            "Collecting responses<0.19\n",
            "  Downloading responses-0.18.0-py3-none-any.whl (38 kB)\n",
            "Requirement already satisfied: dill<0.3.7 in /usr/local/lib/python3.8/dist-packages (from datasets) (0.3.6)\n",
            "Requirement already satisfied: aiohttp in /usr/local/lib/python3.8/dist-packages (from datasets) (3.8.3)\n",
            "Requirement already satisfied: fsspec[http]>=2021.11.1 in /usr/local/lib/python3.8/dist-packages (from datasets) (2022.11.0)\n",
            "Collecting xxhash\n",
            "  Downloading xxhash-3.2.0-cp38-cp38-manylinux_2_17_x86_64.manylinux2014_x86_64.whl (213 kB)\n",
            "\u001b[K     |████████████████████████████████| 213 kB 75.9 MB/s \n",
            "\u001b[?25hRequirement already satisfied: pandas in /usr/local/lib/python3.8/dist-packages (from datasets) (1.3.5)\n",
            "Collecting multiprocess\n",
            "  Downloading multiprocess-0.70.14-py38-none-any.whl (132 kB)\n",
            "\u001b[K     |████████████████████████████████| 132 kB 79.3 MB/s \n",
            "\u001b[?25hRequirement already satisfied: charset-normalizer<3.0,>=2.0 in /usr/local/lib/python3.8/dist-packages (from aiohttp->datasets) (2.1.1)\n",
            "Requirement already satisfied: aiosignal>=1.1.2 in /usr/local/lib/python3.8/dist-packages (from aiohttp->datasets) (1.3.1)\n",
            "Requirement already satisfied: frozenlist>=1.1.1 in /usr/local/lib/python3.8/dist-packages (from aiohttp->datasets) (1.3.3)\n",
            "Requirement already satisfied: attrs>=17.3.0 in /usr/local/lib/python3.8/dist-packages (from aiohttp->datasets) (22.1.0)\n",
            "Requirement already satisfied: multidict<7.0,>=4.5 in /usr/local/lib/python3.8/dist-packages (from aiohttp->datasets) (6.0.3)\n",
            "Requirement already satisfied: yarl<2.0,>=1.0 in /usr/local/lib/python3.8/dist-packages (from aiohttp->datasets) (1.8.2)\n",
            "Requirement already satisfied: async-timeout<5.0,>=4.0.0a3 in /usr/local/lib/python3.8/dist-packages (from aiohttp->datasets) (4.0.2)\n",
            "Requirement already satisfied: pytz>=2017.3 in /usr/local/lib/python3.8/dist-packages (from pandas->datasets) (2022.6)\n",
            "Building wheels for collected packages: tinysegmenter, feedfinder2, jieba3k, sgmllib3k\n",
            "  Building wheel for tinysegmenter (setup.py) ... \u001b[?25l\u001b[?25hdone\n",
            "  Created wheel for tinysegmenter: filename=tinysegmenter-0.3-py3-none-any.whl size=13552 sha256=3016d3dedf9544bfe4b113cbd27f869b114d724d52fbdbac555b9ddad6dd93e3\n",
            "  Stored in directory: /root/.cache/pip/wheels/99/74/83/8fac1c8d9c648cfabebbbffe97a889f6624817f3aa0bbe6c09\n",
            "  Building wheel for feedfinder2 (setup.py) ... \u001b[?25l\u001b[?25hdone\n",
            "  Created wheel for feedfinder2: filename=feedfinder2-0.0.4-py3-none-any.whl size=3354 sha256=108b682d434f2195271be5961103f0aa6b2eb09bf9be0f8b68189de02c47c119\n",
            "  Stored in directory: /root/.cache/pip/wheels/b6/09/68/a9f15498ac02c23dde29f18745bc6a6f574ba4ab41861a3575\n",
            "  Building wheel for jieba3k (setup.py) ... \u001b[?25l\u001b[?25hdone\n",
            "  Created wheel for jieba3k: filename=jieba3k-0.35.1-py3-none-any.whl size=7398405 sha256=9e997f2b6c0b424295dd87d7223b0d64eed06afba1a1253d9f1252de8f553635\n",
            "  Stored in directory: /root/.cache/pip/wheels/1f/7e/0c/54f3b0f5164278677899f2db08f2b07943ce2d024a3c862afb\n",
            "  Building wheel for sgmllib3k (setup.py) ... \u001b[?25l\u001b[?25hdone\n",
            "  Created wheel for sgmllib3k: filename=sgmllib3k-1.0.0-py3-none-any.whl size=6066 sha256=44756dfc77445063b2d3489a23dec56ec8d1aee0e190e03b3383464afe8dafd4\n",
            "  Stored in directory: /root/.cache/pip/wheels/83/63/2f/117884c3b19d46b64d3d61690333aa80c88dc14050e269c546\n",
            "Successfully built tinysegmenter feedfinder2 jieba3k sgmllib3k\n",
            "Installing collected packages: urllib3, sgmllib3k, requests-file, xxhash, tokenizers, tldextract, tinysegmenter, responses, multiprocess, jieba3k, huggingface-hub, feedparser, feedfinder2, cssselect, transformers, newspaper3k, datasets\n",
            "  Attempting uninstall: urllib3\n",
            "    Found existing installation: urllib3 1.24.3\n",
            "    Uninstalling urllib3-1.24.3:\n",
            "      Successfully uninstalled urllib3-1.24.3\n",
            "Successfully installed cssselect-1.2.0 datasets-2.8.0 feedfinder2-0.0.4 feedparser-6.0.10 huggingface-hub-0.11.1 jieba3k-0.35.1 multiprocess-0.70.14 newspaper3k-0.2.8 requests-file-1.5.1 responses-0.18.0 sgmllib3k-1.0.0 tinysegmenter-0.3 tldextract-3.4.0 tokenizers-0.13.2 transformers-4.25.1 urllib3-1.25.11 xxhash-3.2.0\n"
          ]
        }
      ],
      "source": [
        "# TO REMOVE\n",
        "! pip install transformers newspaper3k datasets urllib3==1.25.11"
      ]
    },
    {
      "cell_type": "code",
      "execution_count": 2,
      "metadata": {
        "colab": {
          "base_uri": "https://localhost:8080/"
        },
        "id": "GNOP_xBSwpM9",
        "outputId": "f9ba5137-6dd7-4a7d-aa7f-34d5a94df643"
      },
      "outputs": [
        {
          "output_type": "stream",
          "name": "stderr",
          "text": [
            "[nltk_data] Downloading package punkt to /root/nltk_data...\n",
            "[nltk_data]   Unzipping tokenizers/punkt.zip.\n",
            "[nltk_data] Downloading package stopwords to /root/nltk_data...\n",
            "[nltk_data]   Unzipping corpora/stopwords.zip.\n"
          ]
        },
        {
          "output_type": "execute_result",
          "data": {
            "text/plain": [
              "True"
            ]
          },
          "metadata": {},
          "execution_count": 2
        }
      ],
      "source": [
        "import urllib3\n",
        "import os\n",
        "import re\n",
        "import pickle\n",
        "import pandas as pd\n",
        "import numpy as np\n",
        "import matplotlib.pyplot as plt\n",
        "import seaborn as sns\n",
        "from typing import List, Dict, Tuple, Union, Any\n",
        "from tqdm import tqdm\n",
        "import newspaper\n",
        "from newspaper import Article\n",
        "from collections import Counter\n",
        "from sklearn.model_selection import train_test_split, GridSearchCV, StratifiedKFold, cross_val_score\n",
        "from sklearn.metrics import ConfusionMatrixDisplay, classification_report, roc_auc_score\n",
        "from sklearn.preprocessing import OneHotEncoder, OrdinalEncoder\n",
        "from sklearn.feature_extraction.text import CountVectorizer, TfidfVectorizer\n",
        "from sklearn.linear_model import LogisticRegression\n",
        "from sklearn.svm import SVC\n",
        "from sklearn.ensemble import RandomForestClassifier\n",
        "from sklearn.neighbors import KNeighborsClassifier\n",
        "from sklearn.naive_bayes import MultinomialNB\n",
        "import datasets\n",
        "from datasets.dataset_dict import DatasetDict\n",
        "from datasets import Dataset, load_dataset\n",
        "import transformers\n",
        "from transformers import pipeline\n",
        "from transformers import AutoTokenizer, DataCollatorWithPadding\n",
        "from transformers import TFDistilBertModel, DistilBertConfig\n",
        "from transformers import TFAutoModel, TFAutoModelForSequenceClassification\n",
        "import tensorflow as tf\n",
        "from tensorflow.keras.callbacks import EarlyStopping\n",
        "from tensorflow.keras.models import load_model\n",
        "from nltk.tokenize import word_tokenize\n",
        "from nltk.stem.porter import *\n",
        "from nltk.corpus import stopwords\n",
        "import nltk\n",
        "nltk.download('punkt')\n",
        "nltk.download('stopwords')"
      ]
    },
    {
      "cell_type": "code",
      "execution_count": 3,
      "metadata": {
        "id": "u97Iw7hIlzoq"
      },
      "outputs": [],
      "source": [
        "import spacy"
      ]
    },
    {
      "cell_type": "code",
      "execution_count": 4,
      "metadata": {
        "id": "lurQqiFLlz3W"
      },
      "outputs": [],
      "source": [
        "import spacy"
      ]
    },
    {
      "cell_type": "code",
      "execution_count": 5,
      "metadata": {
        "colab": {
          "base_uri": "https://localhost:8080/"
        },
        "id": "eXRjeKlWwsL9",
        "outputId": "c4da7380-f99f-4ac4-b0e9-2bc5a661e70c"
      },
      "outputs": [
        {
          "output_type": "stream",
          "name": "stdout",
          "text": [
            "Mounted at /content/drive\n"
          ]
        }
      ],
      "source": [
        "# TO REMOVE\n",
        "from google.colab import drive\n",
        "drive.mount('/content/drive', force_remount=True)"
      ]
    },
    {
      "cell_type": "markdown",
      "metadata": {
        "id": "iLz28NRNt37B"
      },
      "source": [
        "# 0.1 Defining variables"
      ]
    },
    {
      "cell_type": "code",
      "execution_count": 6,
      "metadata": {
        "id": "9piP3Hcmt7Zt"
      },
      "outputs": [],
      "source": [
        "URL = 'url'\n",
        "TEXT = 'text'\n",
        "LEMMATIZED = 'cleaned_lemmatized_text'\n",
        "TARGET = 'label'\n",
        "\n",
        "MAIN_FOLDER = '/content/drive/MyDrive/url_classification/'\n",
        "HTML_FOLDER = MAIN_FOLDER + 'html_files_Nov-24-2022/'\n",
        "\n",
        "html_folder = HTML_FOLDER # is it being used or I can delete it?\n",
        "\n",
        "nlp = spacy.load('en_core_web_sm')\n",
        "\n",
        "DISTILBERT_MAX_INPUT = 510 # 512 - the [CLS] and [SEP] tokens\n",
        "\n",
        "labels_encoded = {'Article': 0, 'Blog': 1, 'Event': 2, 'Webinar': 3, 'PR': 4, 'MISC': 5}\n",
        "labels_decoded = {y: x for x, y in labels_encoded.items()}\n",
        "\n",
        "maximum_classes = len(labels_encoded)\n",
        "\n",
        "REPLACE_BY_SPACE_RE = re.compile('[/(){}\\[\\]\\|@,;]')\n",
        "BAD_SYMBOLS_RE = re.compile('[^0-9A-Za-z #+_]')\n",
        "STOPWORDS = set(stopwords.words('english'))"
      ]
    },
    {
      "cell_type": "code",
      "source": [
        "os.chdir(MAIN_FOLDER)"
      ],
      "metadata": {
        "id": "LF9b6MWaZH2u"
      },
      "execution_count": 7,
      "outputs": []
    },
    {
      "cell_type": "markdown",
      "metadata": {
        "id": "4GwHtk5on9DE"
      },
      "source": [
        "# 0.2 Functions"
      ]
    },
    {
      "cell_type": "markdown",
      "metadata": {
        "id": "LYi72BOuqFgy"
      },
      "source": [
        "## Saving/loading variables"
      ]
    },
    {
      "cell_type": "code",
      "execution_count": 8,
      "metadata": {
        "id": "0ksnZ0TYn5v2"
      },
      "outputs": [],
      "source": [
        "def save_variables(variables: Dict[str, Any]) -> None:\n",
        "  \"\"\"\n",
        "  Saves variables to disk using pickle.\n",
        "  \n",
        "  @variables: dictionary where the keys are the names to use when saving the variables, and the values are the variables to be saved.\n",
        "  \n",
        "  Returns:\n",
        "  None\n",
        "  \"\"\"\n",
        "\n",
        "  for variable_name, variable in variables.items():\n",
        "    with open(f'./saved_variables/{variable_name}.pickle', 'wb') as f:\n",
        "      pickle.dump(variable, f)\n",
        "\n",
        "\n",
        "def read_variable(variable_name):\n",
        "  \"\"\"\n",
        "  Loads a variable previously saved in disk using pickle.\n",
        "\n",
        "  @variable_name: path of the variable saved\n",
        "\n",
        "  Returns:\n",
        "  - variable: the loaded variable\n",
        "  \"\"\"\n",
        "\n",
        "  with open(f'./saved_variables/{variable_name}.pickle', 'rb') as f:\n",
        "    variable = pickle.load(f)\n",
        "  return variable"
      ]
    },
    {
      "cell_type": "markdown",
      "metadata": {
        "id": "qQDm4AyuDZuC"
      },
      "source": [
        "## Preprocessing"
      ]
    },
    {
      "cell_type": "code",
      "execution_count": 9,
      "metadata": {
        "id": "WSG3LYaKDZ65"
      },
      "outputs": [],
      "source": [
        "def read_csv(csv_path: str, usecols: List[str] = None, namecols: List[str] = None, remove_nan: str = None, ignore_dash: bool = False) -> pd.DataFrame:\n",
        "  \"\"\"\n",
        "  Create a DataFrame from a CSV file.\n",
        "\n",
        "  @csv_path: the path to the CSV file.\n",
        "  @usecols: a list of column names to use from the CSV file. If not provided, all columns will be used.\n",
        "  @namecols: a list of new names for the columns from the CSV file. If not provided, the original column names will be used.\n",
        "  @remove_nan: the name of the column from where rows with missing values will be removed. It must be from namecols (or from usecols, if namecols was not provided). If not provided, all rows will be kept.\n",
        "  @ignore_dash: a flag indicating whether to ignore rows with a dash (`-`) in the target column. If not provided, rows with a dash in the target column will be included in the data.\n",
        "\n",
        "  Returns: \n",
        "  - df: a pandas DataFrame object.\n",
        "  \"\"\"\n",
        "\n",
        "  df = pd.read_csv(csv_path, usecols=usecols)\n",
        "\n",
        "  if namecols:\n",
        "    assert len(usecols) == len(namecols)\n",
        "    rename_columns = {usecols[i]: namecols[i] for i in range(len(usecols))}\n",
        "    df.rename(columns=rename_columns, inplace=True)\n",
        "  \n",
        "  if remove_nan:\n",
        "    df = df[~df[remove_nan].isna()]\n",
        "\n",
        "  if ignore_dash:\n",
        "    df = df[df['label'] != '-']\n",
        "  \n",
        "  df.loc[df[TARGET] == 'MISC/Blog?', TARGET] = 'MISC' # all sections of blogs labeled as 'MISC/Blog?' become part of 'MISC'.\n",
        "\n",
        "  df.reset_index(drop=True, inplace=True)\n",
        "\n",
        "  return df\n",
        "\n",
        "\n",
        "def read_htmls(df: pd.DataFrame, column: str) -> List[str]:\n",
        "  \"\"\"\n",
        "  Read HTML files from a pandas DataFrame.\n",
        "\n",
        "  @df: a DataFrame with a column containing the names of the HTML files.\n",
        "  @column: the name of the column in the DataFrame where the filenames are stored.\n",
        "\n",
        "  Returns: \n",
        "  - htmls: a list of strings, one for each HTML file.\n",
        "  \"\"\"\n",
        "\n",
        "  filenames = df[column].values\n",
        "  htmls = list()\n",
        "\n",
        "  for i, filename in enumerate(tqdm(filenames)):\n",
        "    try:\n",
        "      with open(f'{HTML_FOLDER}{filename}') as f:\n",
        "        html = f.read()\n",
        "        htmls.append(html)\n",
        "    except FileNotFoundError:\n",
        "      print(f'File {i} not found: \"{filename}\"')\n",
        "  \n",
        "  return htmls\n",
        "\n",
        "\n",
        "def read_articles(htmls: List[str]) -> List[newspaper.article.Article]:\n",
        "  \"\"\"\n",
        "  Read articles from a list of HTML strings.\n",
        "  \n",
        "  @htmls: a list of HTML strings representing articles.\n",
        "  \n",
        "  Returns: \n",
        "  - toi_articles: a list of newspaper.article.Article objects, one for each HTML string.\n",
        "  \"\"\"\n",
        "  \n",
        "  toi_articles = list()\n",
        "\n",
        "  for html in tqdm(htmls):\n",
        "    toi_article = Article(url = ' ', language = 'en')\n",
        "    toi_article.set_html(html)\n",
        "    toi_article.parse()\n",
        "    toi_article.nlp()\n",
        "    toi_articles.append(toi_article)\n",
        "\n",
        "  return toi_articles\n",
        "\n",
        "\n",
        "def create_df_from_articles(df: pd.DataFrame, toi_articles: List[newspaper.article.Article]) -> pd.DataFrame:\n",
        "  \"\"\"\n",
        "  Create a DataFrame with article text and labels from a list of articles.\n",
        "  \n",
        "  @df: a DataFrame with a TARGET column containing the labels for the articles.\n",
        "  @toi_articles: a list of newspaper.article.Article objects.\n",
        "  \n",
        "  Returns: a DataFrame with two columns: TEXT, containing the concatenated title and text of the articles, and TARGET, containing the labels for the articles.\n",
        "  \"\"\"\n",
        "\n",
        "  summaries = [(toi_article.title + '. ' + toi_article.text).replace('\\n', ' ') for toi_article in toi_articles]\n",
        "  y = df[TARGET].tolist()\n",
        "  assert len(y) == len(summaries)\n",
        "\n",
        "  df_text1 = pd.DataFrame({TEXT: summaries, TARGET: y})\n",
        "\n",
        "  return df_text1"
      ]
    },
    {
      "cell_type": "code",
      "source": [
        "def read_or_create_variables(variable_names: List[str]) -> List[Any]:\n",
        "  \"\"\"\n",
        "  Read or create variables with the given names. If a variable exists, it is read and returned. \n",
        "  If a variable with a given name does not exist, it is created and an empty list is returned.\n",
        "  \n",
        "  @variable_names: list of strings representing the names of the variables to be read and/or created.\n",
        "  \n",
        "  Returns:\n",
        "  - variables: list of the read and/or created variables.\n",
        "  \"\"\"\n",
        "\n",
        "  variables = list()\n",
        "\n",
        "  for variable_name in variable_names:\n",
        "    try:\n",
        "      variable = read_variable(variable_name)\n",
        "      print(f'SUCCESS: variable {variable_name} was read, it contains {len(variable)} elements.')\n",
        "    except FileNotFoundError:\n",
        "      variable = list()\n",
        "      print(f'Variable {variable_name} was just created and contains {len(variable)} elements.')\n",
        "\n",
        "    variables.append(variable)\n",
        "\n",
        "  return variables\n",
        "\n",
        "\n",
        "def create_new_urls(df: pd.DataFrame, column: str) -> pd.Series:\n",
        "  \"\"\"\n",
        "  Creates the urls to read based on the difference between all URLs and the ones already read.\n",
        "\n",
        "  @df (pd.DataFrame): a DataFrame with a column containing the URLs.\n",
        "  @column (str): the name of the column in the DataFrame where the URLs are stored.\n",
        "\n",
        "  Returns:\n",
        "  - urls_new: pandas Series object with strings of the URLs to read.\n",
        "  \"\"\"\n",
        "\n",
        "  urls = df[column]\n",
        "  mask = np.isin(urls, urls_old)\n",
        "  urls_new = urls[~mask]\n",
        "  print(f'There are {len(urls_new)} new URLs to read.')\n",
        "\n",
        "  return urls_new\n",
        "\n",
        "\n",
        "def read_texts_from_urls(urls_new: pd.Series, urls_old: List[str]) -> Tuple[List[str], List[int], List[int]]:\n",
        "  \"\"\"\n",
        "  Reads the relevant text from each URL.\n",
        "\n",
        "  @urls_new: pandas Series object with strings of the URLs to read.\n",
        "  @urls_old: list of strings of the URLs that have already been read.\n",
        "  \n",
        "  Returns a tuple of three elements:\n",
        "  - texts_new: list of strings of the texts read from the URLs.\n",
        "  - indexes_new: list of integers representing the indexes of the URLs that were read successfully.\n",
        "  - idx_label_to_remove: list of integers representing the indexes, starting from 0, that threw errors and should be deleted.\n",
        "  \"\"\"\n",
        "\n",
        "  texts_new = list()\n",
        "  indexes_new = list()\n",
        "\n",
        "  idx_label_to_remove = list()\n",
        "  idx_label = 0\n",
        "\n",
        "  for i, url in enumerate(urls_new, len(urls_old)):\n",
        "    try:\n",
        "      toi_article = Article(url=url, language='en')\n",
        "      toi_article.download()\n",
        "      toi_article.parse()\n",
        "      toi_article.nlp()\n",
        "      text = (toi_article.title + '. ' + toi_article.text).replace('\\n', ' ')\n",
        "      texts_new.append(text)\n",
        "      indexes_new.append(i)\n",
        "      print(f'{i}: url \"{url}\" read successfully.')\n",
        "    except Exception:\n",
        "      idx_label_to_remove.append(idx_label)\n",
        "      print(f'{i}: ERROR: url \"{url}\" was not read successfully.')\n",
        "    \n",
        "    idx_label += 1\n",
        "  \n",
        "  if idx_label_to_remove:\n",
        "    print(f'\\nWhen reading the new URLs, {len(urls_new) - len(indexes_new)} of them threw an error and could not be read.')\n",
        "  elif texts_new:\n",
        "    print('All URLs were successfully read.')\n",
        "  else:\n",
        "    print('No new URL was read.')\n",
        "\n",
        "  return texts_new, indexes_new, idx_label_to_remove\n",
        "\n",
        "\n",
        "def create_new_labels(df: pd.DataFrame, urls_to_read: pd.Series, idx_label_to_remove: List[int]) -> List[str]:\n",
        "  \"\"\"\n",
        "  Creates a list of labels for the given URLs and removes the labels corresponding to the URLs that threw errors.\n",
        "  \n",
        "  @df: pandas DataFrame containing the labels.\n",
        "  @urls_to_read: pandas Series object with strings of the URLs for which the labels should be created.\n",
        "  @idx_label_to_remove: list of integers representing the indexes of the URLs that threw errors and should have their labels removed.\n",
        "  \n",
        "  Returns:\n",
        "  - labels_new: list of labels according to the new URLs, discarding the ones that threw errors.\n",
        "  \"\"\"\n",
        "  \n",
        "  labels_new = df.loc[urls_to_read.index, TARGET]\n",
        "  assert (labels_new == df.loc[labels_new.index, TARGET]).all()\n",
        "  labels_new.reset_index(drop=True, inplace=True)\n",
        "  labels_new = labels_new.drop(idx_label_to_remove).tolist()\n",
        "\n",
        "  return labels_new\n",
        "\n",
        "\n",
        "def update_variables(old_variables: List[Any], new_variables: List[Any]) -> List[Any]:\n",
        "  \"\"\"\n",
        "  Updates the old variables with the new variables.\n",
        "  \n",
        "  @old_variables: list of variables that should be updated.\n",
        "  @new_variables: list of variables used to update the old variables, should be of same length and order as `old_variables`.\n",
        "  \n",
        "  Returns:\n",
        "  - updated_variables: list of variables that are the result of updating the old variables with the new variables.\n",
        "  \"\"\"\n",
        "\n",
        "  assert len(old_variables) == len(new_variables)\n",
        "\n",
        "  updated_variables = list()\n",
        "  zipped_variables = list(zip(old_variables, new_variables))\n",
        "\n",
        "  for old_var, new_var in zipped_variables:\n",
        "    updated_variable = old_var + new_var\n",
        "    updated_variables.append(updated_variable)\n",
        "\n",
        "  return updated_variables\n",
        "\n",
        "\n",
        "def create_df_from_lists(labels: List[str], indexes: List[int], texts: List[str], urls: List[str]) -> pd.DataFrame:\n",
        "  \"\"\"\n",
        "  Creates a pandas DataFrame with columns for URLs, texts, and labels.\n",
        "  \n",
        "  @labels: list of strings representing the labels of the articles.\n",
        "  @indexes: list of integers representing the indexes of the articles.\n",
        "  @texts: list of strings representing the texts of the articles.\n",
        "  @urls: list of strings representing the URLs of the articles.\n",
        "  \n",
        "  Returns:\n",
        "  - df_text2: pandas DataFrame with columns for URLs, texts, and labels.\n",
        "  \"\"\"\n",
        "\n",
        "  df_text2 = pd.DataFrame({\n",
        "      URL: pd.Series(urls).loc[indexes],\n",
        "      TEXT: texts,\n",
        "      TARGET: labels,\n",
        "      }).reset_index(drop=True)\n",
        "\n",
        "  return df_text2"
      ],
      "metadata": {
        "id": "pij5B9aluZnF"
      },
      "execution_count": 10,
      "outputs": []
    },
    {
      "cell_type": "code",
      "source": [
        "def remove_duplicates(df: pd.DataFrame, column: str) -> pd.DataFrame:\n",
        "  \"\"\"\n",
        "  Remove duplicate rows from a DataFrame based on a specific column.\n",
        "  \n",
        "  Parameters:\n",
        "  - df: a DataFrame with a column containing values to be checked for duplicates.\n",
        "  - column: the name of the column in the DataFrame where the values are stored.\n",
        "  \n",
        "  Returns:\n",
        "  - df: DataFrame with duplicate rows removed. If there were no duplicates, the original DataFrame is returned.\n",
        "  \"\"\"\n",
        "\n",
        "  if df[column].duplicated().any():\n",
        "    original_amount = df.shape[0]\n",
        "    df = df[~df[column].duplicated()]\n",
        "    print(f\"{original_amount - df.shape[0]} rows had duplicate values in the dataframe's column '{column}' and were deleted.\")\n",
        "    assert not df[column].duplicated().any()\n",
        "\n",
        "  else:\n",
        "    print(f\"There are no duplicate values in the dataframe's column '{column}'.\")\n",
        "  \n",
        "  return df\n",
        "\n",
        "\n",
        "def remove_rows(df: pd.DataFrame, with_errors: bool = False, irrelevant: bool = False, below_threshold: int = None) -> pd.DataFrame:\n",
        "  \"\"\"\n",
        "  Removes rows from a pandas DataFrame that meet certain conditions.\n",
        "  \n",
        "  Parameters:\n",
        "  - df: pandas DataFrame from which rows should be removed.\n",
        "  - with_errors: boolean flag indicating whether rows with URLs' texts that throw errors should be removed. If set to True, rows with texts that have less than 100 words and contain both the strings \" 404 \" and \" error \" will be removed.\n",
        "  - irrelevant: boolean flag indicating whether rows with irrelevant labels should be removed. If set to True, rows with labels that are not included in the dictionary `labels_encoded` will be removed.\n",
        "  - below_threshold: integer representing the minimum number of words that the text of a URL must contain for it to be included in the final DataFrame. Rows with texts containing fewer words than this threshold will be removed.\n",
        "\n",
        "  Returns:\n",
        "  - df: pandas DataFrame with rows that met a condition removed.\n",
        "  \"\"\"\n",
        "\n",
        "  if with_errors:\n",
        "    words = df[TEXT].str.split().str.len()\n",
        "    condition1 = words < 100 # empirical threshold\n",
        "    condition2 = df[TEXT].str.contains(' 404 ')\n",
        "    condition3 = df[TEXT].str.contains(' error ')\n",
        "    df = df[~(condition1 & condition2 & condition3)]\n",
        "\n",
        "  if irrelevant:\n",
        "    df = df[df[TARGET].isin(labels_encoded)]\n",
        "    df.reset_index(drop=True, inplace=True)\n",
        "\n",
        "  # If the words that the text a URL contains is below this threshold, the row is discarded\n",
        "  if below_threshold:\n",
        "    words = df[TEXT].str.split().str.len()\n",
        "    df = df[words >= below_threshold]\n",
        "\n",
        "  return df\n",
        "\n",
        "\n",
        "def text_preprocessing(text: str, lemmatize: bool = False, clean: bool = False) -> str:\n",
        "  \"\"\"\n",
        "  Preprocess text by applying lemmatization and cleaning operations.\n",
        "  \n",
        "  Parameters:\n",
        "  - text: a string of the text to be preprocessed.\n",
        "  - lemmatize: a flag indicating whether to apply lemmatization to the text. Default is False.\n",
        "  - clean: a flag indicating whether to clean the text. Default is False.\n",
        "  \n",
        "  Returns:\n",
        "  - text: a string of the preprocessed text.\n",
        "  \"\"\"\n",
        "\n",
        "  if lemmatize:\n",
        "    text = ' '.join(token.lemma_ for token in nlp(text))\n",
        "  \n",
        "  if clean:\n",
        "    text = REPLACE_BY_SPACE_RE.sub(' ', text)\n",
        "    text = BAD_SYMBOLS_RE.sub('', text)\n",
        "    text = ' '.join(word for word in text.split() if word not in STOPWORDS)\n",
        "\n",
        "  return text"
      ],
      "metadata": {
        "id": "RTB1aY4ozErs"
      },
      "execution_count": 11,
      "outputs": []
    },
    {
      "cell_type": "code",
      "source": [
        "def split_data(df: pd.DataFrame, column: str, test_size: float = 0.2, val_size: float = None, random_state: int = None) -> Union[Tuple[pd.DataFrame, pd.DataFrame, pd.Series, pd.Series], Tuple[pd.DataFrame, pd.DataFrame, pd.DataFrame, pd.Series, pd.Series, pd.Series]]:\n",
        "  \"\"\"\n",
        "  Splits a pandas DataFrame into training, validation (if needed), and test sets.\n",
        "  Data is split in a stratified fashion according to `df[TARGET]`.\n",
        "  \n",
        "  Parameters:\n",
        "  - df: pandas DataFrame containing the data to be split.\n",
        "  - column: name of the column in the DataFrame to be used as the input data (X).\n",
        "  - test_size: float representing the proportion of the whole data to be used for the test set. Must be between 0.0 and 1.0.\n",
        "  - val_size: float representing the proportion of the whole data to be used for the validation set. Must be between 0.0 and 1.0.\n",
        "  - random_state: integer seed for the random number generator.\n",
        "  \n",
        "  Returns:\n",
        "  - X_train: pandas DataFrame containing the input data for the training set.\n",
        "  - (if `val_size` is provided) X_val: pandas DataFrame containing the input data for the validation set.\n",
        "  - X_test: pandas DataFrame containing the input data for the test set.\n",
        "  - y_train: pandas Series containing the target data for the training set.\n",
        "  - (if `val_size` is provided) y_val: pandas Series containing the target data for the validation set.\n",
        "  - y_test: pandas Series containing the target data for the test set.\n",
        "  \"\"\"\n",
        "\n",
        "  X = df[[column]]\n",
        "  y = df[TARGET]\n",
        "\n",
        "  X_train, X_test, y_train, y_test = train_test_split(X, y, \n",
        "                                                      test_size=test_size,\n",
        "                                                      stratify=y, \n",
        "                                                      random_state=random_state\n",
        "                                                      )\n",
        "  \n",
        "  if val_size:\n",
        "    X_train, X_val, y_train, y_val = train_test_split(X_train, y_train, \n",
        "                                                      test_size=1/((1-test_size)/val_size),\n",
        "                                                      stratify=y_train, \n",
        "                                                      random_state=random_state)\n",
        "    \n",
        "    return X_train, X_val, X_test, y_train, y_val, y_test\n",
        "\n",
        "  return X_train, X_test, y_train, y_test\n",
        "\n",
        "\n",
        "def vectorize_data(column: str, X_train: pd.DataFrame, X_test: pd.DataFrame, X_val: pd.DataFrame = None, ngram_range: Tuple[int, int] = (1, 1)) -> Union[Tuple[pd.DataFrame, pd.DataFrame], Tuple[pd.DataFrame, pd.DataFrame, pd.DataFrame]]:\n",
        "  \"\"\"\n",
        "  Vectorizes the data in a pandas DataFrame column using the TfidfVectorizer.\n",
        "  \n",
        "  Parameters:\n",
        "  - column: name of the column in the DataFrame to be vectorized.\n",
        "  - X_train: pandas DataFrame containing the input data for the training set.\n",
        "  - X_test: pandas DataFrame containing the input data for the test set.\n",
        "  - X_val: (optional) pandas DataFrame containing the input data for the validation set.\n",
        "  - ngram_range: tuple of integers specifying the lower and upper boundaries of the range of n-values for different n-grams to be extracted.\n",
        "  \n",
        "  Returns:\n",
        "  - X_train: pandas DataFrame containing the vectorized input data for the training set.\n",
        "  - X_test: pandas DataFrame containing the vectorized input data for the test set.\n",
        "  - (if `X_val` is provided) X_val: pandas DataFrame containing the vectorized input data for the validation set.\n",
        "  \"\"\"\n",
        "\n",
        "  vectorizer = TfidfVectorizer(ngram_range=ngram_range)\n",
        "  X_train_tr = vectorizer.fit_transform(X_train[column])\n",
        "  X_test_tr = vectorizer.transform(X_test[column])\n",
        "\n",
        "  if X_val:\n",
        "    X_val_tr = vectorizer.transform(X_val[column])\n",
        "\n",
        "    return X_train_tr, X_val_tr, X_test_tr\n",
        "\n",
        "  return X_train_tr, X_test_tr"
      ],
      "metadata": {
        "id": "W1nD2opwwomj"
      },
      "execution_count": 12,
      "outputs": []
    },
    {
      "cell_type": "code",
      "source": [
        "def create_dataset_dict(X_train: pd.DataFrame, X_test: pd.DataFrame, y_train: pd.Series, \n",
        "                       y_test: pd.Series, X_val: pd.DataFrame = None, y_val: pd.Series = None) -> DatasetDict:\n",
        "  \"\"\"\n",
        "  Creates a DatasetDict object from pandas DataFrames and Series.\n",
        "  \n",
        "  Parameters:\n",
        "  - X_train: pandas DataFrame containing the input data for the training set.\n",
        "  - X_test: pandas DataFrame containing the input data for the test set.\n",
        "  - y_train: pandas Series containing the target data for the training set.\n",
        "  - y_test: pandas Series containing the target data for the test set.\n",
        "  - X_val: (optional) pandas DataFrame containing the input data for the validation set.\n",
        "  - y_val: (optional) pandas Series containing the target data for the validation set.\n",
        "  \n",
        "  Returns:\n",
        "  - dataset: DatasetDict object containing the training, validation (optional) and test sets.\n",
        "  \"\"\"\n",
        "\n",
        "  datasets = {\n",
        "    'train': Dataset.from_dict(\n",
        "        {TEXT: X_train[TEXT],\n",
        "         TARGET: y_train,\n",
        "         }\n",
        "         ),\n",
        "    'test': Dataset.from_dict(\n",
        "        {TEXT: X_test[TEXT],\n",
        "         TARGET: y_test,\n",
        "         }\n",
        "         )\n",
        "    }\n",
        "  \n",
        "  if X_val is not None and y_val is not None:\n",
        "    datasets['validation'] = Dataset.from_dict(\n",
        "        {TEXT: X_val[TEXT],\n",
        "         TARGET: y_val,\n",
        "         }\n",
        "         )\n",
        "\n",
        "  dataset = DatasetDict(datasets)\n",
        "  \n",
        "  return dataset\n",
        "\n",
        "\n",
        "def tokenize(batch: Dict[str, Any]) -> Dict[str, Any]:\n",
        "  \"\"\"\n",
        "  Tokenizes the text data in a batch.\n",
        "  \n",
        "  Parameters:\n",
        "  - batch: dictionary containing the batch data.\n",
        "  \n",
        "  Returns:\n",
        "  - batch: dictionary with the text data tokenized.\n",
        "  \"\"\"\n",
        "\n",
        "  return tokenizer(batch[TEXT], padding=True, truncation=True)\n",
        "\n",
        "\n",
        "def extract_hidden_states(batch: Dict[str, Any]) -> Dict[str, Any]:\n",
        "  \"\"\"\n",
        "  Extracts the hidden states of the input text in a batch.\n",
        "  \n",
        "  Parameters:\n",
        "  - batch: dictionary containing the batch data.\n",
        "  \n",
        "  Returns:\n",
        "  - hidden_state: numpy array with the hidden states for the [CLS] tokens of the input texts in the batch.\n",
        "  \"\"\"\n",
        "\n",
        "  # Convert text to tokens\n",
        "  inputs = tokenizer(\n",
        "      batch[TEXT], \n",
        "      padding=True, \n",
        "      truncation=True, \n",
        "      return_tensors='tf',\n",
        "      )\n",
        "  \n",
        "  # Extract last hidden states\n",
        "  outputs = tf_model(inputs)\n",
        "\n",
        "  # Return vector for [CLS] token\n",
        "  return {'hidden_state': outputs.last_hidden_state[:, 0].numpy()}"
      ],
      "metadata": {
        "id": "t_SijvVZ37k0"
      },
      "execution_count": 13,
      "outputs": []
    },
    {
      "cell_type": "markdown",
      "metadata": {
        "id": "USmRK3kDqLiQ"
      },
      "source": [
        "## Modeling"
      ]
    },
    {
      "cell_type": "code",
      "execution_count": 49,
      "metadata": {
        "id": "guCVwFCNqQhY"
      },
      "outputs": [],
      "source": [
        "def fit_model(clf, X_train, y_train):\n",
        "  clf.fit(X_train, y_train)\n",
        "  return clf\n",
        "\n",
        "\n",
        "def predict(clf, X_test):\n",
        "  y_pred = clf.predict(X_test)\n",
        "  return y_pred\n",
        "\n",
        "\n",
        "def get_accuracy(y_test, y_pred):\n",
        "  accuracy = sum(y_pred == y_test) / len(y_test)\n",
        "  return accuracy\n",
        "\n",
        "\n",
        "def print_stratified_kfold(clfs: List[Tuple[str, Any]], X_train: pd.DataFrame, y_train: pd.Series, n_splits: int = 5, cv: int = 5) -> None:\n",
        "  \"\"\"\n",
        "  Prints the results of a Stratified K-Fold cross-validation for a list of classifiers.\n",
        "  \n",
        "  Parameters:\n",
        "  - clfs: a list of tuples with a string representing the name of the classifier and the classifier object.\n",
        "  - X_train: the training data, as a Pandas DataFrame.\n",
        "  - y_train: the training labels, as a Pandas Series.\n",
        "  - n_splits: the number of splits for the Stratified K-Fold cross-validation. Default is 5.\n",
        "  - cv: the number of folds for the cross-validation. Default is 5.\n",
        "\n",
        "  Returns:\n",
        "  - None\n",
        "  \"\"\"\n",
        "  \n",
        "  for clf in clfs:\n",
        "    print(f'\\nStratifiedKFold - classifier: {clf[0]}:\\n')\n",
        "    skf = StratifiedKFold(n_splits=n_splits)\n",
        "\n",
        "    for train_index, val_index in skf.split(X_train, y_train):\n",
        "        print_train_val_len_start(train_index, val_index)\n",
        "        print(f'\\tMean y: TRAIN: {y_train.iloc[train_index].mean():.3f},\\tVALIDATION: {y_train.iloc[val_index].mean():.3f}')\n",
        "\n",
        "    scores = cross_val_score(clf[1], \n",
        "                            X_train,\n",
        "                            y_train,\n",
        "                            cv=cv)\n",
        "    \n",
        "    print_val_scores(scores)\n",
        "\n",
        "\n",
        "def create_df_mistakes(df_text: pd.DataFrame, column: str, X_test: pd.DataFrame, y_test: pd.Series, y_pred: Union[np.ndarray, pd.Series], y_probs: np.ndarray) -> pd.DataFrame:\n",
        "  \"\"\"\n",
        "  Creates a pandas DataFrame with the rows from `X_test` that have been misclassified and their respective true and predicted labels, along with the confidences of each of those predictions.\n",
        "  The DataFrame also includes the URLs from `df_text` that correspond to the rows of `X_test` that have been misclassified.\n",
        "\n",
        "  Parameters:\n",
        "  - df_text: pandas DataFrame that contains the URLs of the samples in `X_test`.\n",
        "  - column: string that represents the name of the column in `df_text` and `X_test` that contains the indices that link both DataFrames.\n",
        "  - X_test: pandas DataFrame that contains the features of the test set.\n",
        "  - y_test: pandas Series that contains the true labels of the test set.\n",
        "  - y_pred: NumPy array or pandas Series with the predicted labels of the test set.\n",
        "  - y_probs: NumPy array with the probabilities of each label in `y_pred`.\n",
        "\n",
        "  Returns:\n",
        "  - df_mistakes: pandas DataFrame detailed in the function explanation\n",
        "  \"\"\"\n",
        "  \n",
        "  if type(y_test) == pd.core.series.Series:\n",
        "    y_pred = pd.Series(y_pred, index=y_test.index) # setting y_pred to same type and indexes as y_test\n",
        "  \n",
        "  elif type(y_test) == np.ndarray:\n",
        "    y_pred = pd.Series(y_pred)\n",
        "    y_test = pd.Series(y_test)\n",
        "\n",
        "  mask = y_pred != y_test\n",
        "    \n",
        "  df = X_test.copy()[mask]\n",
        "  df['y_true'] = y_test[mask].replace(labels_decoded)\n",
        "  df['y_pred'] = y_pred[mask].replace(labels_decoded) \n",
        "\n",
        "  assert (df['y_true'] != df['y_pred']).all()\n",
        "\n",
        "  df_mistakes = pd.merge(df, df_text[[URL, column]], on=column)\n",
        "  df_mistakes.index = df.index\n",
        "\n",
        "  df_confidences = df_mistakes[['y_true', 'y_pred']].applymap(lambda x: labels_encoded[x])\n",
        "\n",
        "  confidence_pred = y_probs[mask, df_confidences['y_pred']]\n",
        "  confidence_true = y_probs[mask, df_confidences['y_true']]\n",
        "\n",
        "  df_mistakes['conf_true'] = confidence_true.round(2)\n",
        "  df_mistakes['conf_pred'] = confidence_pred.round(2)\n",
        "\n",
        "  df_mistakes = df_mistakes[[URL, column, 'y_true', 'conf_true', 'y_pred', 'conf_pred']]\n",
        "\n",
        "  return df_mistakes\n",
        "\n",
        "\n",
        "def plot_distribution_of_confidences(y_test: pd.Series, y_pred: np.ndarray, y_probs: np.ndarray) -> None:\n",
        "  \"\"\"\n",
        "  Plots the distribution of confidence scores for correctly and incorrectly classified samples.\n",
        "\n",
        "  Parameters:\n",
        "  - y_test: numpy array of shape (n_samples,) containing the true labels for the test set.\n",
        "  - y_pred: numpy array of shape (n_samples,) containing the predicted labels for the test set.\n",
        "  - y_probs: numpy array of shape (n_samples, n_classes) containing the predicted probabilities for each class in the test set.\n",
        "\n",
        "  Returns:\n",
        "  - None\n",
        "  \"\"\"\n",
        "\n",
        "  sns.set_theme()\n",
        "\n",
        "  mask = y_test != y_pred\n",
        "\n",
        "  wrong_conf_pred = np.max(y_probs[mask], axis=1)\n",
        "  right_conf_pred = np.max(y_probs[~mask], axis=1)\n",
        "  assert y_probs.shape[0] == wrong_conf_pred.shape[0] + right_conf_pred.shape[0]\n",
        "\n",
        "  print(f'Confidence of incorrectly classified samples \\t- Median: {np.median(wrong_conf_pred):.4f}, Mean: {np.mean(wrong_conf_pred):.4f}.')\n",
        "  print(f'Confidence of correctly classified samples \\t- Median: {np.median(right_conf_pred):.4f}, Mean: {np.mean(right_conf_pred):.4f}.\\n')\n",
        "\n",
        "  fig, ax = plt.subplots(nrows=2, ncols=2, figsize=(12, 8))\n",
        "\n",
        "  ax[0, 0].hist(wrong_conf_pred, bins=np.linspace(0, 1, 11), density=None, color='r', alpha=0.6)\n",
        "  ax[0, 0].set_title('Incorrectly classified samples', size=16)\n",
        "  ax[0, 0].set_xlabel('Confidence')\n",
        "  ax[0, 0].set_ylabel('Number of samples')\n",
        "\n",
        "  ax[0, 1].hist(right_conf_pred, bins=np.linspace(0, 1, 11), density=None, color='g', alpha=0.6)\n",
        "  ax[0, 1].set_title('Correctly classified samples', size=16)\n",
        "  ax[0, 1].set_xlabel('Confidence')\n",
        "  ax[0, 1].set_ylabel('Number of samples')\n",
        "\n",
        "  ax[1, 0].hist(wrong_conf_pred, bins=np.linspace(0, 1, 11), density=True, color='r', alpha=0.6, cumulative=1)\n",
        "  ax[1, 0].set_xlabel('Confidence')\n",
        "  ax[1, 0].set_ylabel('Cumulative distribution')\n",
        "\n",
        "  ax[1, 1].hist(right_conf_pred, bins=np.linspace(0, 1, 11), density=True, color='g', alpha=0.6, cumulative=1)\n",
        "  ax[1, 1].set_xlabel('Confidence')\n",
        "  ax[1, 1].set_ylabel('Cumulative distribution')\n",
        "\n",
        "  plt.tight_layout()\n",
        "  plt.show()\n",
        "\n",
        "  sns.reset_orig()\n",
        "\n",
        "\n",
        "def create_tf_dataset(dataset_encoded: DatasetDict, tokenizer: AutoTokenizer, batch_size: int = 16) -> Tuple[tf.data.Dataset, tf.data.Dataset, tf.data.Dataset]:\n",
        "  \"\"\"\n",
        "  Convert a `DatasetDict` object to a tuple of `tf.data.Dataset` objects.\n",
        "\n",
        "  Parameters:\n",
        "  - dataset_encoded: DatasetDict object containing datasets with the encoded text data and labels.\n",
        "  - tokenizer: AutoTokenizer object that will be used to encode the text data.\n",
        "  - batch_size: integer representing the number of samples per batch.\n",
        "  \n",
        "  Returns:\n",
        "  - tuple of tf.data.Dataset objects for the train, validation, and test datasets.\n",
        "  \"\"\"\n",
        "\n",
        "  tokenizer_columns = tokenizer.model_input_names\n",
        "\n",
        "  data_collator = DataCollatorWithPadding(tokenizer=tokenizer, return_tensors='tf')\n",
        "\n",
        "  tf_train_dataset = dataset_encoded['train'].to_tf_dataset(\n",
        "      columns=tokenizer_columns, \n",
        "      label_cols=[TARGET], \n",
        "      shuffle=True,\n",
        "      batch_size=batch_size,\n",
        "      collate_fn=data_collator\n",
        "      )\n",
        "\n",
        "  tf_val_dataset = dataset_encoded['validation'].to_tf_dataset(\n",
        "      columns=tokenizer_columns, \n",
        "      label_cols=[TARGET], \n",
        "      shuffle=False,\n",
        "      batch_size=batch_size,\n",
        "      collate_fn=data_collator\n",
        "      )\n",
        "\n",
        "  tf_test_dataset = dataset_encoded['test'].to_tf_dataset(\n",
        "      columns=tokenizer_columns,\n",
        "      label_cols=[TARGET], \n",
        "      shuffle=False,\n",
        "      batch_size=batch_size,\n",
        "      collate_fn=data_collator\n",
        "      )\n",
        "  \n",
        "  return tf_train_dataset, tf_val_dataset, tf_test_dataset\n",
        "\n",
        "\n",
        "def create_distilbert_config(dropout: float = 0.1, attention_dropout: float = 0.1) -> transformers.DistilBertConfig:\n",
        "  \"\"\"\n",
        "  Creates a DistilBERT configuration with specified dropout and attention dropout values.\n",
        "  \n",
        "  Parameters:\n",
        "  - dropout: the dropout rate for the DistilBERT model. Default is 0.1.\n",
        "  - attention_dropout: the attention dropout rate for the DistilBERT model. Default is 0.1.\n",
        "  \n",
        "  Returns:\n",
        "  - A transformers.DistilBertConfig object representing the configuration of the DistilBERT model.\n",
        "  \"\"\"\n",
        "  num_labels = len(y_train.value_counts())\n",
        " \n",
        "  # Configure DistilBERT's initialization\n",
        "  config = DistilBertConfig(\n",
        "      dropout=dropout, \n",
        "      attention_dropout=attention_dropout,\n",
        "      output_hidden_states=True,\n",
        "      num_labels=num_labels,\n",
        "      )\n",
        "  \n",
        "  return config\n",
        "\n",
        "\n",
        "def compile_model(tf_model: tf.keras.Model, learning_rate: float = 5e-6) -> tf.keras.Model:\n",
        "  \"\"\"\n",
        "  Compile a TensorFlow model with Adam optimizer and Sparse Categorical Crossentropy loss.\n",
        "  \n",
        "  Parameters:\n",
        "  - tf_model: a TensorFlow model to be compiled.\n",
        "  - learning_rate: the learning rate for the Adam optimizer. Default is 5e-6.\n",
        "  \n",
        "  Returns:\n",
        "  - The compiled TensorFlow model.\n",
        "  \"\"\"\n",
        "\n",
        "  tf_model.compile(\n",
        "      optimizer=tf.keras.optimizers.Adam(learning_rate=learning_rate),\n",
        "      loss=tf.keras.losses.SparseCategoricalCrossentropy(from_logits=True),\n",
        "      metrics=tf.metrics.SparseCategoricalAccuracy()\n",
        "      )  \n",
        "  \n",
        "  return tf_model\n",
        "\n",
        "\n",
        "def train_model(tf_model: tf.keras.Model, tf_train_dataset: tf.data.Dataset, tf_val_dataset: tf.data.Dataset, epochs: int = 100, patience: int = 3) -> tf.keras.Model:\n",
        "  \"\"\"\n",
        "  Train a TensorFlow model using a training and validation datasets, with early stopping.\n",
        "  \n",
        "  Parameters:\n",
        "  - tf_model: a compiled TensorFlow model to be trained.\n",
        "  - tf_train_dataset: a TensorFlow dataset with the training data.\n",
        "  - tf_val_dataset: a TensorFlow dataset with the validation data.\n",
        "  - epochs: the number of epochs to train the model. Default is 100.\n",
        "  - patience: the number of epochs to wait before stopping training if the validation loss doesn't improve. Default is 3.\n",
        "  \n",
        "  Returns:\n",
        "  - The trained TensorFlow model.\n",
        "\n",
        "  \"\"\"\n",
        "\n",
        "  callback = EarlyStopping(\n",
        "    monitor='val_loss',\n",
        "    patience=patience,\n",
        "    restore_best_weights=True\n",
        "    )\n",
        "\n",
        "  tf_model.fit(\n",
        "      tf_train_dataset,\n",
        "      validation_data=tf_val_dataset, \n",
        "      epochs=epochs,\n",
        "      callbacks=[callback]\n",
        "      )\n",
        "  \n",
        "  return tf_model"
      ]
    },
    {
      "cell_type": "markdown",
      "source": [
        "## EDA (not needed in the .py file):"
      ],
      "metadata": {
        "id": "5pvCA0rrs4dD"
      }
    },
    {
      "cell_type": "code",
      "source": [
        "def check_if_exists(variable_name):\n",
        "  \"\"\"\n",
        "  Checks if a variable exists in the global scope.\n",
        "\n",
        "  @variable_name: name of the variable\n",
        "\n",
        "  Returns:\n",
        "  None\n",
        "  \"\"\"\n",
        "  \n",
        "  if variable_name in globals():\n",
        "    print(f'Variable \"{variable_name}\" exists.')\n",
        "  else:\n",
        "    print(f'Variable \"{variable_name}\" does not exist.')\n",
        "\n",
        "\n",
        "def get_most_common_tokens(df, column, amount=10):\n",
        "  tokenized = [word_tokenize(string) for string in df[column]]\n",
        "  flat_list = [item for sublist in tokenized for item in sublist]\n",
        "  return Counter(flat_list).most_common(amount)\n",
        "\n",
        "\n",
        "def print_important_features(clf, vectorizer, features=5):\n",
        "  \"\"\" \n",
        "  Get the most important features of a classifier when using a linear kernel (e.g. Logistic Regression)\n",
        "  \"\"\"\n",
        "  coef_importances = np.argsort(clf.coef_, axis=1)\n",
        "  \n",
        "  for i, class_ in enumerate(coef_importances[:, :features]):\n",
        "      print(f'Class \"{labels_decoded[clf.classes_[i]]}\" - {features} most important features: '\n",
        "            f'{vectorizer.get_feature_names_out()[class_]}')\n",
        "      \n",
        "\n",
        "def get_best_clf(clfs, X_train, X_test, y_train, y_test):\n",
        "    results = []\n",
        "    best_clf = None\n",
        "    best_clf_name = None\n",
        "    best_accuracy = 0\n",
        "\n",
        "    for clf_name, clf in clfs:\n",
        "        clf.fit(X_train, y_train)\n",
        "        acc = clf.score(X_test, y_test) # accuracy score\n",
        "        \n",
        "        if acc > best_accuracy:\n",
        "            best_accuracy = acc\n",
        "            best_clf = clf\n",
        "            best_clf_name = clf_name\n",
        "\n",
        "        results.append({'clf': clf_name,\n",
        "                        'accuracy': acc})\n",
        "        \n",
        "    print(pd.DataFrame(results).set_index('clf'))\n",
        "    return best_clf, best_clf_name, best_accuracy\n",
        "\n",
        "\n",
        "\n",
        "def print_train_val_len_start(train_index, val_index):\n",
        "    print(f'TRAIN index len: {len(train_index)}, start: {train_index[:3]}, '\n",
        "          f'\\tVALIDATION index len: {len(val_index)}, start: {val_index[:3]}')\n",
        "\n",
        "\n",
        "def print_val_scores(scores, extra_info=False):\n",
        "    print(f'Cross validation scores: mean: {np.mean(scores):.3f}, all: {[round(score, 3) for score in scores]}')\n",
        "    if extra_info:\n",
        "        print('(std: {np.std(scores):.3f}, min: {min(scores):.3f}, max: {max(scores):.3f})')\n",
        "\n",
        "\n",
        "def print_confusion_matrix(clf_name, y_test, y_pred, with_report=False):\n",
        "\n",
        "  accuracy = get_accuracy(y_test, y_pred)\n",
        "\n",
        "  y_test = list(map(lambda x: labels_decoded[x], y_test))\n",
        "  y_pred = list(map(lambda x: labels_decoded[x], y_pred))\n",
        "\n",
        "  ConfusionMatrixDisplay.from_predictions(y_test, y_pred)\n",
        "  plt.title(f'{clf_name} - acc {accuracy:.3f}', size=15)\n",
        "  plt.show()\n",
        "  if with_report:\n",
        "    print('\\n' + classification_report(y_test, y_pred))"
      ],
      "metadata": {
        "id": "Iti-V6NAtCaR"
      },
      "execution_count": 15,
      "outputs": []
    },
    {
      "cell_type": "markdown",
      "metadata": {
        "id": "5G9XYkHXS-VR"
      },
      "source": [
        "# 0.3 (Optional) Load \"df_text1\""
      ]
    },
    {
      "cell_type": "code",
      "execution_count": 16,
      "metadata": {
        "colab": {
          "base_uri": "https://localhost:8080/"
        },
        "id": "2rwBFwhITAm-",
        "outputId": "b1862315-6df5-4121-8208-d171d29f15e2"
      },
      "outputs": [
        {
          "output_type": "stream",
          "name": "stdout",
          "text": [
            "Variable \"df_text1\" does not exist.\n",
            "Reading variable \"df_text1\"...\n",
            "Variable \"df_text1\" exists.\n"
          ]
        }
      ],
      "source": [
        "VARIABLE = 'df_text1'\n",
        "\n",
        "check_if_exists(VARIABLE)\n",
        "print(f'Reading variable \"{VARIABLE}\"...')\n",
        "df_text1 = read_variable(VARIABLE)\n",
        "check_if_exists(VARIABLE)"
      ]
    },
    {
      "cell_type": "code",
      "source": [
        "df_text1"
      ],
      "metadata": {
        "colab": {
          "base_uri": "https://localhost:8080/",
          "height": 0
        },
        "id": "gaBZvjv2Sn2P",
        "outputId": "b049612e-5428-4b08-fff2-029f9e49f67a"
      },
      "execution_count": 17,
      "outputs": [
        {
          "output_type": "execute_result",
          "data": {
            "text/plain": [
              "                                                  text         label\n",
              "0    2020 User Summit. 2020 User Summit  *UPDATE - ...         Event\n",
              "1    When Is ADA Compliance Legally Required?. The ...   White Paper\n",
              "2    Write For Us. Want to Write for Us?  Digital L...          MISC\n",
              "3    Write for Us. Yes, you. We’re always looking f...          MISC\n",
              "4    FAQs for some new features available in the Be...          Blog\n",
              "..                                                 ...           ...\n",
              "456  The Art of SEO, 2nd Edition. Four acknowledged...  Product Page\n",
              "457  Submit A Guest Post – Guidelines (Write for Us...          MISC\n",
              "458  Fully Managed Magento Hosting — JetRails. Full...          MISC\n",
              "459  Mission-Critical Hosting For Magento Open Sour...          MISC\n",
              "460  How to Write an Engaging Title Tag for Better ...          Blog\n",
              "\n",
              "[461 rows x 2 columns]"
            ],
            "text/html": [
              "\n",
              "  <div id=\"df-4bf3f8b7-eb89-46ad-851a-e8857a11e15e\">\n",
              "    <div class=\"colab-df-container\">\n",
              "      <div>\n",
              "<style scoped>\n",
              "    .dataframe tbody tr th:only-of-type {\n",
              "        vertical-align: middle;\n",
              "    }\n",
              "\n",
              "    .dataframe tbody tr th {\n",
              "        vertical-align: top;\n",
              "    }\n",
              "\n",
              "    .dataframe thead th {\n",
              "        text-align: right;\n",
              "    }\n",
              "</style>\n",
              "<table border=\"1\" class=\"dataframe\">\n",
              "  <thead>\n",
              "    <tr style=\"text-align: right;\">\n",
              "      <th></th>\n",
              "      <th>text</th>\n",
              "      <th>label</th>\n",
              "    </tr>\n",
              "  </thead>\n",
              "  <tbody>\n",
              "    <tr>\n",
              "      <th>0</th>\n",
              "      <td>2020 User Summit. 2020 User Summit  *UPDATE - ...</td>\n",
              "      <td>Event</td>\n",
              "    </tr>\n",
              "    <tr>\n",
              "      <th>1</th>\n",
              "      <td>When Is ADA Compliance Legally Required?. The ...</td>\n",
              "      <td>White Paper</td>\n",
              "    </tr>\n",
              "    <tr>\n",
              "      <th>2</th>\n",
              "      <td>Write For Us. Want to Write for Us?  Digital L...</td>\n",
              "      <td>MISC</td>\n",
              "    </tr>\n",
              "    <tr>\n",
              "      <th>3</th>\n",
              "      <td>Write for Us. Yes, you. We’re always looking f...</td>\n",
              "      <td>MISC</td>\n",
              "    </tr>\n",
              "    <tr>\n",
              "      <th>4</th>\n",
              "      <td>FAQs for some new features available in the Be...</td>\n",
              "      <td>Blog</td>\n",
              "    </tr>\n",
              "    <tr>\n",
              "      <th>...</th>\n",
              "      <td>...</td>\n",
              "      <td>...</td>\n",
              "    </tr>\n",
              "    <tr>\n",
              "      <th>456</th>\n",
              "      <td>The Art of SEO, 2nd Edition. Four acknowledged...</td>\n",
              "      <td>Product Page</td>\n",
              "    </tr>\n",
              "    <tr>\n",
              "      <th>457</th>\n",
              "      <td>Submit A Guest Post – Guidelines (Write for Us...</td>\n",
              "      <td>MISC</td>\n",
              "    </tr>\n",
              "    <tr>\n",
              "      <th>458</th>\n",
              "      <td>Fully Managed Magento Hosting — JetRails. Full...</td>\n",
              "      <td>MISC</td>\n",
              "    </tr>\n",
              "    <tr>\n",
              "      <th>459</th>\n",
              "      <td>Mission-Critical Hosting For Magento Open Sour...</td>\n",
              "      <td>MISC</td>\n",
              "    </tr>\n",
              "    <tr>\n",
              "      <th>460</th>\n",
              "      <td>How to Write an Engaging Title Tag for Better ...</td>\n",
              "      <td>Blog</td>\n",
              "    </tr>\n",
              "  </tbody>\n",
              "</table>\n",
              "<p>461 rows × 2 columns</p>\n",
              "</div>\n",
              "      <button class=\"colab-df-convert\" onclick=\"convertToInteractive('df-4bf3f8b7-eb89-46ad-851a-e8857a11e15e')\"\n",
              "              title=\"Convert this dataframe to an interactive table.\"\n",
              "              style=\"display:none;\">\n",
              "        \n",
              "  <svg xmlns=\"http://www.w3.org/2000/svg\" height=\"24px\"viewBox=\"0 0 24 24\"\n",
              "       width=\"24px\">\n",
              "    <path d=\"M0 0h24v24H0V0z\" fill=\"none\"/>\n",
              "    <path d=\"M18.56 5.44l.94 2.06.94-2.06 2.06-.94-2.06-.94-.94-2.06-.94 2.06-2.06.94zm-11 1L8.5 8.5l.94-2.06 2.06-.94-2.06-.94L8.5 2.5l-.94 2.06-2.06.94zm10 10l.94 2.06.94-2.06 2.06-.94-2.06-.94-.94-2.06-.94 2.06-2.06.94z\"/><path d=\"M17.41 7.96l-1.37-1.37c-.4-.4-.92-.59-1.43-.59-.52 0-1.04.2-1.43.59L10.3 9.45l-7.72 7.72c-.78.78-.78 2.05 0 2.83L4 21.41c.39.39.9.59 1.41.59.51 0 1.02-.2 1.41-.59l7.78-7.78 2.81-2.81c.8-.78.8-2.07 0-2.86zM5.41 20L4 18.59l7.72-7.72 1.47 1.35L5.41 20z\"/>\n",
              "  </svg>\n",
              "      </button>\n",
              "      \n",
              "  <style>\n",
              "    .colab-df-container {\n",
              "      display:flex;\n",
              "      flex-wrap:wrap;\n",
              "      gap: 12px;\n",
              "    }\n",
              "\n",
              "    .colab-df-convert {\n",
              "      background-color: #E8F0FE;\n",
              "      border: none;\n",
              "      border-radius: 50%;\n",
              "      cursor: pointer;\n",
              "      display: none;\n",
              "      fill: #1967D2;\n",
              "      height: 32px;\n",
              "      padding: 0 0 0 0;\n",
              "      width: 32px;\n",
              "    }\n",
              "\n",
              "    .colab-df-convert:hover {\n",
              "      background-color: #E2EBFA;\n",
              "      box-shadow: 0px 1px 2px rgba(60, 64, 67, 0.3), 0px 1px 3px 1px rgba(60, 64, 67, 0.15);\n",
              "      fill: #174EA6;\n",
              "    }\n",
              "\n",
              "    [theme=dark] .colab-df-convert {\n",
              "      background-color: #3B4455;\n",
              "      fill: #D2E3FC;\n",
              "    }\n",
              "\n",
              "    [theme=dark] .colab-df-convert:hover {\n",
              "      background-color: #434B5C;\n",
              "      box-shadow: 0px 1px 3px 1px rgba(0, 0, 0, 0.15);\n",
              "      filter: drop-shadow(0px 1px 2px rgba(0, 0, 0, 0.3));\n",
              "      fill: #FFFFFF;\n",
              "    }\n",
              "  </style>\n",
              "\n",
              "      <script>\n",
              "        const buttonEl =\n",
              "          document.querySelector('#df-4bf3f8b7-eb89-46ad-851a-e8857a11e15e button.colab-df-convert');\n",
              "        buttonEl.style.display =\n",
              "          google.colab.kernel.accessAllowed ? 'block' : 'none';\n",
              "\n",
              "        async function convertToInteractive(key) {\n",
              "          const element = document.querySelector('#df-4bf3f8b7-eb89-46ad-851a-e8857a11e15e');\n",
              "          const dataTable =\n",
              "            await google.colab.kernel.invokeFunction('convertToInteractive',\n",
              "                                                     [key], {});\n",
              "          if (!dataTable) return;\n",
              "\n",
              "          const docLinkHtml = 'Like what you see? Visit the ' +\n",
              "            '<a target=\"_blank\" href=https://colab.research.google.com/notebooks/data_table.ipynb>data table notebook</a>'\n",
              "            + ' to learn more about interactive tables.';\n",
              "          element.innerHTML = '';\n",
              "          dataTable['output_type'] = 'display_data';\n",
              "          await google.colab.output.renderOutput(dataTable, element);\n",
              "          const docLink = document.createElement('div');\n",
              "          docLink.innerHTML = docLinkHtml;\n",
              "          element.appendChild(docLink);\n",
              "        }\n",
              "      </script>\n",
              "    </div>\n",
              "  </div>\n",
              "  "
            ]
          },
          "metadata": {},
          "execution_count": 17
        }
      ]
    },
    {
      "cell_type": "markdown",
      "metadata": {
        "id": "GdUa4JQWiS-j"
      },
      "source": [
        "# 0.4 (Optional) Load \"df_text2\""
      ]
    },
    {
      "cell_type": "code",
      "execution_count": 18,
      "metadata": {
        "colab": {
          "base_uri": "https://localhost:8080/"
        },
        "id": "pv5HSQJ3kOgm",
        "outputId": "03047e02-6b38-46b3-d927-b9abd942cb30"
      },
      "outputs": [
        {
          "output_type": "stream",
          "name": "stdout",
          "text": [
            "Variable \"df_text2\" does not exist.\n",
            "Reading variable \"df_text2\"...\n",
            "Variable \"df_text2\" exists.\n"
          ]
        }
      ],
      "source": [
        "VARIABLE = 'df_text2'\n",
        "\n",
        "check_if_exists(VARIABLE)\n",
        "print(f'Reading variable \"{VARIABLE}\"...')\n",
        "df_text2 = read_variable(VARIABLE)\n",
        "check_if_exists(VARIABLE)"
      ]
    },
    {
      "cell_type": "code",
      "execution_count": 19,
      "metadata": {
        "colab": {
          "base_uri": "https://localhost:8080/",
          "height": 0
        },
        "id": "r1tLPsCmMEEV",
        "outputId": "c89a0bf9-4f35-4af9-a586-75ccd5aa2aad"
      },
      "outputs": [
        {
          "output_type": "execute_result",
          "data": {
            "text/plain": [
              "                                                    url  \\\n",
              "0     http://www.nctech.org/events/event/2021/awards...   \n",
              "1                             http://cdd-biologics.com/   \n",
              "2                                 http://sfesummit.com/   \n",
              "3      http://www.obviohealth.com/events/informa-1-2021   \n",
              "4                     http://www.genesisconference.com/   \n",
              "...                                                 ...   \n",
              "1014         http://www.entrepreneur.com/article/400416   \n",
              "1015  http://www.koreabiomed.com/news/articleView.ht...   \n",
              "1016  http://www.finsmes.com/2021/10/science-37-clos...   \n",
              "1017  http://seekingalpha.com/article/4450420-labora...   \n",
              "1018  http://washingtontechnology.com/companies/2022...   \n",
              "\n",
              "                                                   text    label  \n",
              "0     NC TECH Awards Gala. #nctechawards  Awards Gal...    Event  \n",
              "1     Computational Drug Development for Biologics 2...    Event  \n",
              "2     12th Annual Sales Force Effectiveness & Digita...    Event  \n",
              "3     ObvioHealth. MAGI Clinical Research Conference...  Webinar  \n",
              "4                                 Home : Genesis 2022.     Event  \n",
              "...                                                 ...      ...  \n",
              "1014  Veeva Systems is a Top Stock for 2022. Veeva S...  Article  \n",
              "1015  Medidata’s Acorn AI solution raises clinical t...  Article  \n",
              "1016  Science 37 Closes Business Combination with Li...        ?  \n",
              "1017  Laboratory Corp: 18%-20% Yearly Return With Sa...        -  \n",
              "1018  Accenture’s federal arm hires new applied inte...  Article  \n",
              "\n",
              "[1019 rows x 3 columns]"
            ],
            "text/html": [
              "\n",
              "  <div id=\"df-392c5972-72b3-4abb-b0da-b3a8568d40dc\">\n",
              "    <div class=\"colab-df-container\">\n",
              "      <div>\n",
              "<style scoped>\n",
              "    .dataframe tbody tr th:only-of-type {\n",
              "        vertical-align: middle;\n",
              "    }\n",
              "\n",
              "    .dataframe tbody tr th {\n",
              "        vertical-align: top;\n",
              "    }\n",
              "\n",
              "    .dataframe thead th {\n",
              "        text-align: right;\n",
              "    }\n",
              "</style>\n",
              "<table border=\"1\" class=\"dataframe\">\n",
              "  <thead>\n",
              "    <tr style=\"text-align: right;\">\n",
              "      <th></th>\n",
              "      <th>url</th>\n",
              "      <th>text</th>\n",
              "      <th>label</th>\n",
              "    </tr>\n",
              "  </thead>\n",
              "  <tbody>\n",
              "    <tr>\n",
              "      <th>0</th>\n",
              "      <td>http://www.nctech.org/events/event/2021/awards...</td>\n",
              "      <td>NC TECH Awards Gala. #nctechawards  Awards Gal...</td>\n",
              "      <td>Event</td>\n",
              "    </tr>\n",
              "    <tr>\n",
              "      <th>1</th>\n",
              "      <td>http://cdd-biologics.com/</td>\n",
              "      <td>Computational Drug Development for Biologics 2...</td>\n",
              "      <td>Event</td>\n",
              "    </tr>\n",
              "    <tr>\n",
              "      <th>2</th>\n",
              "      <td>http://sfesummit.com/</td>\n",
              "      <td>12th Annual Sales Force Effectiveness &amp; Digita...</td>\n",
              "      <td>Event</td>\n",
              "    </tr>\n",
              "    <tr>\n",
              "      <th>3</th>\n",
              "      <td>http://www.obviohealth.com/events/informa-1-2021</td>\n",
              "      <td>ObvioHealth. MAGI Clinical Research Conference...</td>\n",
              "      <td>Webinar</td>\n",
              "    </tr>\n",
              "    <tr>\n",
              "      <th>4</th>\n",
              "      <td>http://www.genesisconference.com/</td>\n",
              "      <td>Home : Genesis 2022.</td>\n",
              "      <td>Event</td>\n",
              "    </tr>\n",
              "    <tr>\n",
              "      <th>...</th>\n",
              "      <td>...</td>\n",
              "      <td>...</td>\n",
              "      <td>...</td>\n",
              "    </tr>\n",
              "    <tr>\n",
              "      <th>1014</th>\n",
              "      <td>http://www.entrepreneur.com/article/400416</td>\n",
              "      <td>Veeva Systems is a Top Stock for 2022. Veeva S...</td>\n",
              "      <td>Article</td>\n",
              "    </tr>\n",
              "    <tr>\n",
              "      <th>1015</th>\n",
              "      <td>http://www.koreabiomed.com/news/articleView.ht...</td>\n",
              "      <td>Medidata’s Acorn AI solution raises clinical t...</td>\n",
              "      <td>Article</td>\n",
              "    </tr>\n",
              "    <tr>\n",
              "      <th>1016</th>\n",
              "      <td>http://www.finsmes.com/2021/10/science-37-clos...</td>\n",
              "      <td>Science 37 Closes Business Combination with Li...</td>\n",
              "      <td>?</td>\n",
              "    </tr>\n",
              "    <tr>\n",
              "      <th>1017</th>\n",
              "      <td>http://seekingalpha.com/article/4450420-labora...</td>\n",
              "      <td>Laboratory Corp: 18%-20% Yearly Return With Sa...</td>\n",
              "      <td>-</td>\n",
              "    </tr>\n",
              "    <tr>\n",
              "      <th>1018</th>\n",
              "      <td>http://washingtontechnology.com/companies/2022...</td>\n",
              "      <td>Accenture’s federal arm hires new applied inte...</td>\n",
              "      <td>Article</td>\n",
              "    </tr>\n",
              "  </tbody>\n",
              "</table>\n",
              "<p>1019 rows × 3 columns</p>\n",
              "</div>\n",
              "      <button class=\"colab-df-convert\" onclick=\"convertToInteractive('df-392c5972-72b3-4abb-b0da-b3a8568d40dc')\"\n",
              "              title=\"Convert this dataframe to an interactive table.\"\n",
              "              style=\"display:none;\">\n",
              "        \n",
              "  <svg xmlns=\"http://www.w3.org/2000/svg\" height=\"24px\"viewBox=\"0 0 24 24\"\n",
              "       width=\"24px\">\n",
              "    <path d=\"M0 0h24v24H0V0z\" fill=\"none\"/>\n",
              "    <path d=\"M18.56 5.44l.94 2.06.94-2.06 2.06-.94-2.06-.94-.94-2.06-.94 2.06-2.06.94zm-11 1L8.5 8.5l.94-2.06 2.06-.94-2.06-.94L8.5 2.5l-.94 2.06-2.06.94zm10 10l.94 2.06.94-2.06 2.06-.94-2.06-.94-.94-2.06-.94 2.06-2.06.94z\"/><path d=\"M17.41 7.96l-1.37-1.37c-.4-.4-.92-.59-1.43-.59-.52 0-1.04.2-1.43.59L10.3 9.45l-7.72 7.72c-.78.78-.78 2.05 0 2.83L4 21.41c.39.39.9.59 1.41.59.51 0 1.02-.2 1.41-.59l7.78-7.78 2.81-2.81c.8-.78.8-2.07 0-2.86zM5.41 20L4 18.59l7.72-7.72 1.47 1.35L5.41 20z\"/>\n",
              "  </svg>\n",
              "      </button>\n",
              "      \n",
              "  <style>\n",
              "    .colab-df-container {\n",
              "      display:flex;\n",
              "      flex-wrap:wrap;\n",
              "      gap: 12px;\n",
              "    }\n",
              "\n",
              "    .colab-df-convert {\n",
              "      background-color: #E8F0FE;\n",
              "      border: none;\n",
              "      border-radius: 50%;\n",
              "      cursor: pointer;\n",
              "      display: none;\n",
              "      fill: #1967D2;\n",
              "      height: 32px;\n",
              "      padding: 0 0 0 0;\n",
              "      width: 32px;\n",
              "    }\n",
              "\n",
              "    .colab-df-convert:hover {\n",
              "      background-color: #E2EBFA;\n",
              "      box-shadow: 0px 1px 2px rgba(60, 64, 67, 0.3), 0px 1px 3px 1px rgba(60, 64, 67, 0.15);\n",
              "      fill: #174EA6;\n",
              "    }\n",
              "\n",
              "    [theme=dark] .colab-df-convert {\n",
              "      background-color: #3B4455;\n",
              "      fill: #D2E3FC;\n",
              "    }\n",
              "\n",
              "    [theme=dark] .colab-df-convert:hover {\n",
              "      background-color: #434B5C;\n",
              "      box-shadow: 0px 1px 3px 1px rgba(0, 0, 0, 0.15);\n",
              "      filter: drop-shadow(0px 1px 2px rgba(0, 0, 0, 0.3));\n",
              "      fill: #FFFFFF;\n",
              "    }\n",
              "  </style>\n",
              "\n",
              "      <script>\n",
              "        const buttonEl =\n",
              "          document.querySelector('#df-392c5972-72b3-4abb-b0da-b3a8568d40dc button.colab-df-convert');\n",
              "        buttonEl.style.display =\n",
              "          google.colab.kernel.accessAllowed ? 'block' : 'none';\n",
              "\n",
              "        async function convertToInteractive(key) {\n",
              "          const element = document.querySelector('#df-392c5972-72b3-4abb-b0da-b3a8568d40dc');\n",
              "          const dataTable =\n",
              "            await google.colab.kernel.invokeFunction('convertToInteractive',\n",
              "                                                     [key], {});\n",
              "          if (!dataTable) return;\n",
              "\n",
              "          const docLinkHtml = 'Like what you see? Visit the ' +\n",
              "            '<a target=\"_blank\" href=https://colab.research.google.com/notebooks/data_table.ipynb>data table notebook</a>'\n",
              "            + ' to learn more about interactive tables.';\n",
              "          element.innerHTML = '';\n",
              "          dataTable['output_type'] = 'display_data';\n",
              "          await google.colab.output.renderOutput(dataTable, element);\n",
              "          const docLink = document.createElement('div');\n",
              "          docLink.innerHTML = docLinkHtml;\n",
              "          element.appendChild(docLink);\n",
              "        }\n",
              "      </script>\n",
              "    </div>\n",
              "  </div>\n",
              "  "
            ]
          },
          "metadata": {},
          "execution_count": 19
        }
      ],
      "source": [
        "df_text2"
      ]
    },
    {
      "cell_type": "markdown",
      "metadata": {
        "id": "W3WHVdpY2x8u"
      },
      "source": [
        "# 0.5 (Optional) Load \"df_text\""
      ]
    },
    {
      "cell_type": "code",
      "execution_count": 20,
      "metadata": {
        "colab": {
          "base_uri": "https://localhost:8080/"
        },
        "id": "8rJocXLB23Vz",
        "outputId": "d5c2cf2e-af81-43fc-c533-49848513da93"
      },
      "outputs": [
        {
          "output_type": "stream",
          "name": "stdout",
          "text": [
            "Variable \"df_text\" does not exist.\n",
            "Reading variable \"df_text\"...\n",
            "Variable \"df_text\" exists.\n"
          ]
        }
      ],
      "source": [
        "VARIABLE = 'df_text'\n",
        "\n",
        "check_if_exists(VARIABLE)\n",
        "print(f'Reading variable \"{VARIABLE}\"...')\n",
        "df_text = read_variable(VARIABLE)\n",
        "check_if_exists(VARIABLE)"
      ]
    },
    {
      "cell_type": "code",
      "source": [
        "df_text"
      ],
      "metadata": {
        "colab": {
          "base_uri": "https://localhost:8080/",
          "height": 0
        },
        "id": "ludGXcXlStTz",
        "outputId": "618b3eff-c32d-4e83-916b-258f06f6847f"
      },
      "execution_count": 21,
      "outputs": [
        {
          "output_type": "execute_result",
          "data": {
            "text/plain": [
              "                                                  text    label  \\\n",
              "0    2020 User Summit. 2020 User Summit  *UPDATE - ...    Event   \n",
              "1    Write For Us. Want to Write for Us?  Digital L...     MISC   \n",
              "2    Write for Us. Yes, you. We’re always looking f...     MISC   \n",
              "3    FAQs for some new features available in the Be...     Blog   \n",
              "4    The Best Nootropic Stack to Replace Adderall &...  Article   \n",
              "..                                                 ...      ...   \n",
              "959  Veeva Systems Korea aims to become cloud SW le...  Article   \n",
              "960  Digital transformation of clinical research ac...  Article   \n",
              "961  Veeva Systems is a Top Stock for 2022. Veeva S...  Article   \n",
              "962  Medidata’s Acorn AI solution raises clinical t...  Article   \n",
              "963  Accenture’s federal arm hires new applied inte...  Article   \n",
              "\n",
              "                                                   url  \\\n",
              "0                                                  NaN   \n",
              "1                                                  NaN   \n",
              "2                                                  NaN   \n",
              "3                                                  NaN   \n",
              "4                                                  NaN   \n",
              "..                                                 ...   \n",
              "959  http://www.koreabiomed.com/news/articleView.ht...   \n",
              "960  http://www.outsourcing-pharma.com/Article/2021...   \n",
              "961         http://www.entrepreneur.com/article/400416   \n",
              "962  http://www.koreabiomed.com/news/articleView.ht...   \n",
              "963  http://washingtontechnology.com/companies/2022...   \n",
              "\n",
              "                               cleaned_lemmatized_text  \n",
              "0    2020 User Summit 2020 User Summit update March...  \n",
              "1    write want write Digital Lamp one fast grow te...  \n",
              "2    write yes always look new author get idea chal...  \n",
              "3    FAQs new feature available Beta Wayback Machin...  \n",
              "4    Best Nootropic Stack replace Adderall Ritalin ...  \n",
              "..                                                 ...  \n",
              "959  Veeva Systems Korea aim become cloud SW leader...  \n",
              "960  digital transformation clinical research accel...  \n",
              "961  Veeva Systems Top Stock 2022 Veeva Systems VEE...  \n",
              "962  Medidata Acorn AI solution raise clinical tria...  \n",
              "963  Accenture federal arm hire new apply intellige...  \n",
              "\n",
              "[857 rows x 4 columns]"
            ],
            "text/html": [
              "\n",
              "  <div id=\"df-461b1a60-74a0-453a-a17a-39ca8e9f499a\">\n",
              "    <div class=\"colab-df-container\">\n",
              "      <div>\n",
              "<style scoped>\n",
              "    .dataframe tbody tr th:only-of-type {\n",
              "        vertical-align: middle;\n",
              "    }\n",
              "\n",
              "    .dataframe tbody tr th {\n",
              "        vertical-align: top;\n",
              "    }\n",
              "\n",
              "    .dataframe thead th {\n",
              "        text-align: right;\n",
              "    }\n",
              "</style>\n",
              "<table border=\"1\" class=\"dataframe\">\n",
              "  <thead>\n",
              "    <tr style=\"text-align: right;\">\n",
              "      <th></th>\n",
              "      <th>text</th>\n",
              "      <th>label</th>\n",
              "      <th>url</th>\n",
              "      <th>cleaned_lemmatized_text</th>\n",
              "    </tr>\n",
              "  </thead>\n",
              "  <tbody>\n",
              "    <tr>\n",
              "      <th>0</th>\n",
              "      <td>2020 User Summit. 2020 User Summit  *UPDATE - ...</td>\n",
              "      <td>Event</td>\n",
              "      <td>NaN</td>\n",
              "      <td>2020 User Summit 2020 User Summit update March...</td>\n",
              "    </tr>\n",
              "    <tr>\n",
              "      <th>1</th>\n",
              "      <td>Write For Us. Want to Write for Us?  Digital L...</td>\n",
              "      <td>MISC</td>\n",
              "      <td>NaN</td>\n",
              "      <td>write want write Digital Lamp one fast grow te...</td>\n",
              "    </tr>\n",
              "    <tr>\n",
              "      <th>2</th>\n",
              "      <td>Write for Us. Yes, you. We’re always looking f...</td>\n",
              "      <td>MISC</td>\n",
              "      <td>NaN</td>\n",
              "      <td>write yes always look new author get idea chal...</td>\n",
              "    </tr>\n",
              "    <tr>\n",
              "      <th>3</th>\n",
              "      <td>FAQs for some new features available in the Be...</td>\n",
              "      <td>Blog</td>\n",
              "      <td>NaN</td>\n",
              "      <td>FAQs new feature available Beta Wayback Machin...</td>\n",
              "    </tr>\n",
              "    <tr>\n",
              "      <th>4</th>\n",
              "      <td>The Best Nootropic Stack to Replace Adderall &amp;...</td>\n",
              "      <td>Article</td>\n",
              "      <td>NaN</td>\n",
              "      <td>Best Nootropic Stack replace Adderall Ritalin ...</td>\n",
              "    </tr>\n",
              "    <tr>\n",
              "      <th>...</th>\n",
              "      <td>...</td>\n",
              "      <td>...</td>\n",
              "      <td>...</td>\n",
              "      <td>...</td>\n",
              "    </tr>\n",
              "    <tr>\n",
              "      <th>959</th>\n",
              "      <td>Veeva Systems Korea aims to become cloud SW le...</td>\n",
              "      <td>Article</td>\n",
              "      <td>http://www.koreabiomed.com/news/articleView.ht...</td>\n",
              "      <td>Veeva Systems Korea aim become cloud SW leader...</td>\n",
              "    </tr>\n",
              "    <tr>\n",
              "      <th>960</th>\n",
              "      <td>Digital transformation of clinical research ac...</td>\n",
              "      <td>Article</td>\n",
              "      <td>http://www.outsourcing-pharma.com/Article/2021...</td>\n",
              "      <td>digital transformation clinical research accel...</td>\n",
              "    </tr>\n",
              "    <tr>\n",
              "      <th>961</th>\n",
              "      <td>Veeva Systems is a Top Stock for 2022. Veeva S...</td>\n",
              "      <td>Article</td>\n",
              "      <td>http://www.entrepreneur.com/article/400416</td>\n",
              "      <td>Veeva Systems Top Stock 2022 Veeva Systems VEE...</td>\n",
              "    </tr>\n",
              "    <tr>\n",
              "      <th>962</th>\n",
              "      <td>Medidata’s Acorn AI solution raises clinical t...</td>\n",
              "      <td>Article</td>\n",
              "      <td>http://www.koreabiomed.com/news/articleView.ht...</td>\n",
              "      <td>Medidata Acorn AI solution raise clinical tria...</td>\n",
              "    </tr>\n",
              "    <tr>\n",
              "      <th>963</th>\n",
              "      <td>Accenture’s federal arm hires new applied inte...</td>\n",
              "      <td>Article</td>\n",
              "      <td>http://washingtontechnology.com/companies/2022...</td>\n",
              "      <td>Accenture federal arm hire new apply intellige...</td>\n",
              "    </tr>\n",
              "  </tbody>\n",
              "</table>\n",
              "<p>857 rows × 4 columns</p>\n",
              "</div>\n",
              "      <button class=\"colab-df-convert\" onclick=\"convertToInteractive('df-461b1a60-74a0-453a-a17a-39ca8e9f499a')\"\n",
              "              title=\"Convert this dataframe to an interactive table.\"\n",
              "              style=\"display:none;\">\n",
              "        \n",
              "  <svg xmlns=\"http://www.w3.org/2000/svg\" height=\"24px\"viewBox=\"0 0 24 24\"\n",
              "       width=\"24px\">\n",
              "    <path d=\"M0 0h24v24H0V0z\" fill=\"none\"/>\n",
              "    <path d=\"M18.56 5.44l.94 2.06.94-2.06 2.06-.94-2.06-.94-.94-2.06-.94 2.06-2.06.94zm-11 1L8.5 8.5l.94-2.06 2.06-.94-2.06-.94L8.5 2.5l-.94 2.06-2.06.94zm10 10l.94 2.06.94-2.06 2.06-.94-2.06-.94-.94-2.06-.94 2.06-2.06.94z\"/><path d=\"M17.41 7.96l-1.37-1.37c-.4-.4-.92-.59-1.43-.59-.52 0-1.04.2-1.43.59L10.3 9.45l-7.72 7.72c-.78.78-.78 2.05 0 2.83L4 21.41c.39.39.9.59 1.41.59.51 0 1.02-.2 1.41-.59l7.78-7.78 2.81-2.81c.8-.78.8-2.07 0-2.86zM5.41 20L4 18.59l7.72-7.72 1.47 1.35L5.41 20z\"/>\n",
              "  </svg>\n",
              "      </button>\n",
              "      \n",
              "  <style>\n",
              "    .colab-df-container {\n",
              "      display:flex;\n",
              "      flex-wrap:wrap;\n",
              "      gap: 12px;\n",
              "    }\n",
              "\n",
              "    .colab-df-convert {\n",
              "      background-color: #E8F0FE;\n",
              "      border: none;\n",
              "      border-radius: 50%;\n",
              "      cursor: pointer;\n",
              "      display: none;\n",
              "      fill: #1967D2;\n",
              "      height: 32px;\n",
              "      padding: 0 0 0 0;\n",
              "      width: 32px;\n",
              "    }\n",
              "\n",
              "    .colab-df-convert:hover {\n",
              "      background-color: #E2EBFA;\n",
              "      box-shadow: 0px 1px 2px rgba(60, 64, 67, 0.3), 0px 1px 3px 1px rgba(60, 64, 67, 0.15);\n",
              "      fill: #174EA6;\n",
              "    }\n",
              "\n",
              "    [theme=dark] .colab-df-convert {\n",
              "      background-color: #3B4455;\n",
              "      fill: #D2E3FC;\n",
              "    }\n",
              "\n",
              "    [theme=dark] .colab-df-convert:hover {\n",
              "      background-color: #434B5C;\n",
              "      box-shadow: 0px 1px 3px 1px rgba(0, 0, 0, 0.15);\n",
              "      filter: drop-shadow(0px 1px 2px rgba(0, 0, 0, 0.3));\n",
              "      fill: #FFFFFF;\n",
              "    }\n",
              "  </style>\n",
              "\n",
              "      <script>\n",
              "        const buttonEl =\n",
              "          document.querySelector('#df-461b1a60-74a0-453a-a17a-39ca8e9f499a button.colab-df-convert');\n",
              "        buttonEl.style.display =\n",
              "          google.colab.kernel.accessAllowed ? 'block' : 'none';\n",
              "\n",
              "        async function convertToInteractive(key) {\n",
              "          const element = document.querySelector('#df-461b1a60-74a0-453a-a17a-39ca8e9f499a');\n",
              "          const dataTable =\n",
              "            await google.colab.kernel.invokeFunction('convertToInteractive',\n",
              "                                                     [key], {});\n",
              "          if (!dataTable) return;\n",
              "\n",
              "          const docLinkHtml = 'Like what you see? Visit the ' +\n",
              "            '<a target=\"_blank\" href=https://colab.research.google.com/notebooks/data_table.ipynb>data table notebook</a>'\n",
              "            + ' to learn more about interactive tables.';\n",
              "          element.innerHTML = '';\n",
              "          dataTable['output_type'] = 'display_data';\n",
              "          await google.colab.output.renderOutput(dataTable, element);\n",
              "          const docLink = document.createElement('div');\n",
              "          docLink.innerHTML = docLinkHtml;\n",
              "          element.appendChild(docLink);\n",
              "        }\n",
              "      </script>\n",
              "    </div>\n",
              "  </div>\n",
              "  "
            ]
          },
          "metadata": {},
          "execution_count": 21
        }
      ]
    },
    {
      "cell_type": "markdown",
      "metadata": {
        "id": "0gmbS9VMU4qb"
      },
      "source": [
        "# 0.6 (Optional) Create and save \"df_text1\" - general preprocessing of html"
      ]
    },
    {
      "cell_type": "code",
      "source": [
        "df1 = read_csv('activities_unlabeled.csv', \n",
        "               usecols=['File Name', 'Label'], \n",
        "               namecols=['filename', 'label'], \n",
        "               remove_nan='filename', \n",
        "               ignore_dash=True)\n",
        "\n",
        "htmls = read_htmls(df1, 'filename')\n",
        "\n",
        "toi_articles = read_articles(htmls)\n",
        "\n",
        "df_text1 = create_df_from_articles(df1, toi_articles)"
      ],
      "metadata": {
        "colab": {
          "base_uri": "https://localhost:8080/"
        },
        "id": "U8EdLlkBN_Sd",
        "outputId": "015269cd-4eba-4125-9390-45b4b985ebfe"
      },
      "execution_count": null,
      "outputs": [
        {
          "output_type": "stream",
          "name": "stderr",
          "text": [
            "100%|██████████| 461/461 [02:08<00:00,  3.59it/s]\n",
            "100%|██████████| 461/461 [01:32<00:00,  4.99it/s]\n"
          ]
        }
      ]
    },
    {
      "cell_type": "code",
      "source": [
        "df_text1"
      ],
      "metadata": {
        "colab": {
          "base_uri": "https://localhost:8080/",
          "height": 424
        },
        "id": "MRV6alpnHf8X",
        "outputId": "9b8fa564-579b-400e-cd85-9a89ec931eeb"
      },
      "execution_count": null,
      "outputs": [
        {
          "output_type": "execute_result",
          "data": {
            "text/plain": [
              "                                                  text         label\n",
              "0    2020 User Summit. 2020 User Summit  *UPDATE - ...         Event\n",
              "1    When Is ADA Compliance Legally Required?. The ...   White Paper\n",
              "2    Write For Us. Want to Write for Us?  Digital L...          MISC\n",
              "3    Write for Us. Yes, you. We’re always looking f...          MISC\n",
              "4    FAQs for some new features available in the Be...          Blog\n",
              "..                                                 ...           ...\n",
              "456  The Art of SEO, 2nd Edition. Four acknowledged...  Product Page\n",
              "457  Submit A Guest Post – Guidelines (Write for Us...          MISC\n",
              "458  Fully Managed Magento Hosting — JetRails. Full...          MISC\n",
              "459  Mission-Critical Hosting For Magento Open Sour...          MISC\n",
              "460  How to Write an Engaging Title Tag for Better ...          Blog\n",
              "\n",
              "[461 rows x 2 columns]"
            ],
            "text/html": [
              "\n",
              "  <div id=\"df-19510c33-34c7-495d-a769-026dcf7dc46e\">\n",
              "    <div class=\"colab-df-container\">\n",
              "      <div>\n",
              "<style scoped>\n",
              "    .dataframe tbody tr th:only-of-type {\n",
              "        vertical-align: middle;\n",
              "    }\n",
              "\n",
              "    .dataframe tbody tr th {\n",
              "        vertical-align: top;\n",
              "    }\n",
              "\n",
              "    .dataframe thead th {\n",
              "        text-align: right;\n",
              "    }\n",
              "</style>\n",
              "<table border=\"1\" class=\"dataframe\">\n",
              "  <thead>\n",
              "    <tr style=\"text-align: right;\">\n",
              "      <th></th>\n",
              "      <th>text</th>\n",
              "      <th>label</th>\n",
              "    </tr>\n",
              "  </thead>\n",
              "  <tbody>\n",
              "    <tr>\n",
              "      <th>0</th>\n",
              "      <td>2020 User Summit. 2020 User Summit  *UPDATE - ...</td>\n",
              "      <td>Event</td>\n",
              "    </tr>\n",
              "    <tr>\n",
              "      <th>1</th>\n",
              "      <td>When Is ADA Compliance Legally Required?. The ...</td>\n",
              "      <td>White Paper</td>\n",
              "    </tr>\n",
              "    <tr>\n",
              "      <th>2</th>\n",
              "      <td>Write For Us. Want to Write for Us?  Digital L...</td>\n",
              "      <td>MISC</td>\n",
              "    </tr>\n",
              "    <tr>\n",
              "      <th>3</th>\n",
              "      <td>Write for Us. Yes, you. We’re always looking f...</td>\n",
              "      <td>MISC</td>\n",
              "    </tr>\n",
              "    <tr>\n",
              "      <th>4</th>\n",
              "      <td>FAQs for some new features available in the Be...</td>\n",
              "      <td>Blog</td>\n",
              "    </tr>\n",
              "    <tr>\n",
              "      <th>...</th>\n",
              "      <td>...</td>\n",
              "      <td>...</td>\n",
              "    </tr>\n",
              "    <tr>\n",
              "      <th>456</th>\n",
              "      <td>The Art of SEO, 2nd Edition. Four acknowledged...</td>\n",
              "      <td>Product Page</td>\n",
              "    </tr>\n",
              "    <tr>\n",
              "      <th>457</th>\n",
              "      <td>Submit A Guest Post – Guidelines (Write for Us...</td>\n",
              "      <td>MISC</td>\n",
              "    </tr>\n",
              "    <tr>\n",
              "      <th>458</th>\n",
              "      <td>Fully Managed Magento Hosting — JetRails. Full...</td>\n",
              "      <td>MISC</td>\n",
              "    </tr>\n",
              "    <tr>\n",
              "      <th>459</th>\n",
              "      <td>Mission-Critical Hosting For Magento Open Sour...</td>\n",
              "      <td>MISC</td>\n",
              "    </tr>\n",
              "    <tr>\n",
              "      <th>460</th>\n",
              "      <td>How to Write an Engaging Title Tag for Better ...</td>\n",
              "      <td>Blog</td>\n",
              "    </tr>\n",
              "  </tbody>\n",
              "</table>\n",
              "<p>461 rows × 2 columns</p>\n",
              "</div>\n",
              "      <button class=\"colab-df-convert\" onclick=\"convertToInteractive('df-19510c33-34c7-495d-a769-026dcf7dc46e')\"\n",
              "              title=\"Convert this dataframe to an interactive table.\"\n",
              "              style=\"display:none;\">\n",
              "        \n",
              "  <svg xmlns=\"http://www.w3.org/2000/svg\" height=\"24px\"viewBox=\"0 0 24 24\"\n",
              "       width=\"24px\">\n",
              "    <path d=\"M0 0h24v24H0V0z\" fill=\"none\"/>\n",
              "    <path d=\"M18.56 5.44l.94 2.06.94-2.06 2.06-.94-2.06-.94-.94-2.06-.94 2.06-2.06.94zm-11 1L8.5 8.5l.94-2.06 2.06-.94-2.06-.94L8.5 2.5l-.94 2.06-2.06.94zm10 10l.94 2.06.94-2.06 2.06-.94-2.06-.94-.94-2.06-.94 2.06-2.06.94z\"/><path d=\"M17.41 7.96l-1.37-1.37c-.4-.4-.92-.59-1.43-.59-.52 0-1.04.2-1.43.59L10.3 9.45l-7.72 7.72c-.78.78-.78 2.05 0 2.83L4 21.41c.39.39.9.59 1.41.59.51 0 1.02-.2 1.41-.59l7.78-7.78 2.81-2.81c.8-.78.8-2.07 0-2.86zM5.41 20L4 18.59l7.72-7.72 1.47 1.35L5.41 20z\"/>\n",
              "  </svg>\n",
              "      </button>\n",
              "      \n",
              "  <style>\n",
              "    .colab-df-container {\n",
              "      display:flex;\n",
              "      flex-wrap:wrap;\n",
              "      gap: 12px;\n",
              "    }\n",
              "\n",
              "    .colab-df-convert {\n",
              "      background-color: #E8F0FE;\n",
              "      border: none;\n",
              "      border-radius: 50%;\n",
              "      cursor: pointer;\n",
              "      display: none;\n",
              "      fill: #1967D2;\n",
              "      height: 32px;\n",
              "      padding: 0 0 0 0;\n",
              "      width: 32px;\n",
              "    }\n",
              "\n",
              "    .colab-df-convert:hover {\n",
              "      background-color: #E2EBFA;\n",
              "      box-shadow: 0px 1px 2px rgba(60, 64, 67, 0.3), 0px 1px 3px 1px rgba(60, 64, 67, 0.15);\n",
              "      fill: #174EA6;\n",
              "    }\n",
              "\n",
              "    [theme=dark] .colab-df-convert {\n",
              "      background-color: #3B4455;\n",
              "      fill: #D2E3FC;\n",
              "    }\n",
              "\n",
              "    [theme=dark] .colab-df-convert:hover {\n",
              "      background-color: #434B5C;\n",
              "      box-shadow: 0px 1px 3px 1px rgba(0, 0, 0, 0.15);\n",
              "      filter: drop-shadow(0px 1px 2px rgba(0, 0, 0, 0.3));\n",
              "      fill: #FFFFFF;\n",
              "    }\n",
              "  </style>\n",
              "\n",
              "      <script>\n",
              "        const buttonEl =\n",
              "          document.querySelector('#df-19510c33-34c7-495d-a769-026dcf7dc46e button.colab-df-convert');\n",
              "        buttonEl.style.display =\n",
              "          google.colab.kernel.accessAllowed ? 'block' : 'none';\n",
              "\n",
              "        async function convertToInteractive(key) {\n",
              "          const element = document.querySelector('#df-19510c33-34c7-495d-a769-026dcf7dc46e');\n",
              "          const dataTable =\n",
              "            await google.colab.kernel.invokeFunction('convertToInteractive',\n",
              "                                                     [key], {});\n",
              "          if (!dataTable) return;\n",
              "\n",
              "          const docLinkHtml = 'Like what you see? Visit the ' +\n",
              "            '<a target=\"_blank\" href=https://colab.research.google.com/notebooks/data_table.ipynb>data table notebook</a>'\n",
              "            + ' to learn more about interactive tables.';\n",
              "          element.innerHTML = '';\n",
              "          dataTable['output_type'] = 'display_data';\n",
              "          await google.colab.output.renderOutput(dataTable, element);\n",
              "          const docLink = document.createElement('div');\n",
              "          docLink.innerHTML = docLinkHtml;\n",
              "          element.appendChild(docLink);\n",
              "        }\n",
              "      </script>\n",
              "    </div>\n",
              "  </div>\n",
              "  "
            ]
          },
          "metadata": {},
          "execution_count": 94
        }
      ]
    },
    {
      "cell_type": "code",
      "execution_count": null,
      "metadata": {
        "id": "UyiIxV6MVgM0"
      },
      "outputs": [],
      "source": [
        "save_variables(variables={'df_text1': df_text1})"
      ]
    },
    {
      "cell_type": "markdown",
      "metadata": {
        "id": "NiNNjVFqWwB0"
      },
      "source": [
        "# 0.7 (Optional) Create and save \"df_text2\" - general preprocessing of urls"
      ]
    },
    {
      "cell_type": "code",
      "source": [
        "df2 = read_csv('activities_labeled13.csv', \n",
        "               usecols=['url', 'true_label'], \n",
        "               namecols=['url', 'label'], \n",
        "               remove_nan='label')\n",
        "\n",
        "labels_old, indexes_old, texts_old, urls_old = read_or_create_variables(['labels_old', 'indexes_old', 'texts_old', 'urls_old'])\n",
        "\n",
        "urls_new = create_new_urls(df2, 'url')\n",
        "\n",
        "texts_new, indexes_new, idx_label_to_remove = read_texts_from_urls(urls_new, urls_old)\n",
        "\n",
        "labels_new = create_new_labels(df2, urls_new, idx_label_to_remove)\n",
        "\n",
        "labels, indexes, texts, urls = update_variables(old_variables=[labels_old, indexes_old, texts_old, urls_old],\n",
        "                                                new_variables=[labels_new, indexes_new, texts_new, urls_new.tolist()])\n",
        "\n",
        "assert len(texts) == len(pd.Series(urls).loc[indexes]) == len(indexes) == len(labels)\n",
        "\n",
        "df_text2 = create_df_from_lists(labels, indexes, texts, urls)"
      ],
      "metadata": {
        "colab": {
          "base_uri": "https://localhost:8080/"
        },
        "id": "fR2QQK0HXERz",
        "outputId": "54dd8eee-d6fd-4a8a-bce5-d4c89f065bcb"
      },
      "execution_count": null,
      "outputs": [
        {
          "output_type": "stream",
          "name": "stdout",
          "text": [
            "SUCCESS: variable labels_old was read, it contains 1019 elements.\n",
            "SUCCESS: variable indexes_old was read, it contains 1019 elements.\n",
            "SUCCESS: variable texts_old was read, it contains 1019 elements.\n",
            "SUCCESS: variable urls_old was read, it contains 1246 elements.\n",
            "There are 0 new URLs to read.\n",
            "No new URL was read.\n"
          ]
        }
      ]
    },
    {
      "cell_type": "code",
      "source": [
        "df_text2"
      ],
      "metadata": {
        "colab": {
          "base_uri": "https://localhost:8080/",
          "height": 424
        },
        "id": "hGjFLrxtH6h8",
        "outputId": "7b467fc8-79bc-4f38-f2ef-3d791c158c3f"
      },
      "execution_count": null,
      "outputs": [
        {
          "output_type": "execute_result",
          "data": {
            "text/plain": [
              "                                                    url  \\\n",
              "0     http://www.nctech.org/events/event/2021/awards...   \n",
              "1                             http://cdd-biologics.com/   \n",
              "2                                 http://sfesummit.com/   \n",
              "3      http://www.obviohealth.com/events/informa-1-2021   \n",
              "4                     http://www.genesisconference.com/   \n",
              "...                                                 ...   \n",
              "1014         http://www.entrepreneur.com/article/400416   \n",
              "1015  http://www.koreabiomed.com/news/articleView.ht...   \n",
              "1016  http://www.finsmes.com/2021/10/science-37-clos...   \n",
              "1017  http://seekingalpha.com/article/4450420-labora...   \n",
              "1018  http://washingtontechnology.com/companies/2022...   \n",
              "\n",
              "                                                   text    label  \n",
              "0     NC TECH Awards Gala. #nctechawards  Awards Gal...    Event  \n",
              "1     Computational Drug Development for Biologics 2...    Event  \n",
              "2     12th Annual Sales Force Effectiveness & Digita...    Event  \n",
              "3     ObvioHealth. MAGI Clinical Research Conference...  Webinar  \n",
              "4                                 Home : Genesis 2022.     Event  \n",
              "...                                                 ...      ...  \n",
              "1014  Veeva Systems is a Top Stock for 2022. Veeva S...  Article  \n",
              "1015  Medidata’s Acorn AI solution raises clinical t...  Article  \n",
              "1016  Science 37 Closes Business Combination with Li...        ?  \n",
              "1017  Laboratory Corp: 18%-20% Yearly Return With Sa...        -  \n",
              "1018  Accenture’s federal arm hires new applied inte...  Article  \n",
              "\n",
              "[1019 rows x 3 columns]"
            ],
            "text/html": [
              "\n",
              "  <div id=\"df-0003df76-3227-43c3-aef3-2e17b355db24\">\n",
              "    <div class=\"colab-df-container\">\n",
              "      <div>\n",
              "<style scoped>\n",
              "    .dataframe tbody tr th:only-of-type {\n",
              "        vertical-align: middle;\n",
              "    }\n",
              "\n",
              "    .dataframe tbody tr th {\n",
              "        vertical-align: top;\n",
              "    }\n",
              "\n",
              "    .dataframe thead th {\n",
              "        text-align: right;\n",
              "    }\n",
              "</style>\n",
              "<table border=\"1\" class=\"dataframe\">\n",
              "  <thead>\n",
              "    <tr style=\"text-align: right;\">\n",
              "      <th></th>\n",
              "      <th>url</th>\n",
              "      <th>text</th>\n",
              "      <th>label</th>\n",
              "    </tr>\n",
              "  </thead>\n",
              "  <tbody>\n",
              "    <tr>\n",
              "      <th>0</th>\n",
              "      <td>http://www.nctech.org/events/event/2021/awards...</td>\n",
              "      <td>NC TECH Awards Gala. #nctechawards  Awards Gal...</td>\n",
              "      <td>Event</td>\n",
              "    </tr>\n",
              "    <tr>\n",
              "      <th>1</th>\n",
              "      <td>http://cdd-biologics.com/</td>\n",
              "      <td>Computational Drug Development for Biologics 2...</td>\n",
              "      <td>Event</td>\n",
              "    </tr>\n",
              "    <tr>\n",
              "      <th>2</th>\n",
              "      <td>http://sfesummit.com/</td>\n",
              "      <td>12th Annual Sales Force Effectiveness &amp; Digita...</td>\n",
              "      <td>Event</td>\n",
              "    </tr>\n",
              "    <tr>\n",
              "      <th>3</th>\n",
              "      <td>http://www.obviohealth.com/events/informa-1-2021</td>\n",
              "      <td>ObvioHealth. MAGI Clinical Research Conference...</td>\n",
              "      <td>Webinar</td>\n",
              "    </tr>\n",
              "    <tr>\n",
              "      <th>4</th>\n",
              "      <td>http://www.genesisconference.com/</td>\n",
              "      <td>Home : Genesis 2022.</td>\n",
              "      <td>Event</td>\n",
              "    </tr>\n",
              "    <tr>\n",
              "      <th>...</th>\n",
              "      <td>...</td>\n",
              "      <td>...</td>\n",
              "      <td>...</td>\n",
              "    </tr>\n",
              "    <tr>\n",
              "      <th>1014</th>\n",
              "      <td>http://www.entrepreneur.com/article/400416</td>\n",
              "      <td>Veeva Systems is a Top Stock for 2022. Veeva S...</td>\n",
              "      <td>Article</td>\n",
              "    </tr>\n",
              "    <tr>\n",
              "      <th>1015</th>\n",
              "      <td>http://www.koreabiomed.com/news/articleView.ht...</td>\n",
              "      <td>Medidata’s Acorn AI solution raises clinical t...</td>\n",
              "      <td>Article</td>\n",
              "    </tr>\n",
              "    <tr>\n",
              "      <th>1016</th>\n",
              "      <td>http://www.finsmes.com/2021/10/science-37-clos...</td>\n",
              "      <td>Science 37 Closes Business Combination with Li...</td>\n",
              "      <td>?</td>\n",
              "    </tr>\n",
              "    <tr>\n",
              "      <th>1017</th>\n",
              "      <td>http://seekingalpha.com/article/4450420-labora...</td>\n",
              "      <td>Laboratory Corp: 18%-20% Yearly Return With Sa...</td>\n",
              "      <td>-</td>\n",
              "    </tr>\n",
              "    <tr>\n",
              "      <th>1018</th>\n",
              "      <td>http://washingtontechnology.com/companies/2022...</td>\n",
              "      <td>Accenture’s federal arm hires new applied inte...</td>\n",
              "      <td>Article</td>\n",
              "    </tr>\n",
              "  </tbody>\n",
              "</table>\n",
              "<p>1019 rows × 3 columns</p>\n",
              "</div>\n",
              "      <button class=\"colab-df-convert\" onclick=\"convertToInteractive('df-0003df76-3227-43c3-aef3-2e17b355db24')\"\n",
              "              title=\"Convert this dataframe to an interactive table.\"\n",
              "              style=\"display:none;\">\n",
              "        \n",
              "  <svg xmlns=\"http://www.w3.org/2000/svg\" height=\"24px\"viewBox=\"0 0 24 24\"\n",
              "       width=\"24px\">\n",
              "    <path d=\"M0 0h24v24H0V0z\" fill=\"none\"/>\n",
              "    <path d=\"M18.56 5.44l.94 2.06.94-2.06 2.06-.94-2.06-.94-.94-2.06-.94 2.06-2.06.94zm-11 1L8.5 8.5l.94-2.06 2.06-.94-2.06-.94L8.5 2.5l-.94 2.06-2.06.94zm10 10l.94 2.06.94-2.06 2.06-.94-2.06-.94-.94-2.06-.94 2.06-2.06.94z\"/><path d=\"M17.41 7.96l-1.37-1.37c-.4-.4-.92-.59-1.43-.59-.52 0-1.04.2-1.43.59L10.3 9.45l-7.72 7.72c-.78.78-.78 2.05 0 2.83L4 21.41c.39.39.9.59 1.41.59.51 0 1.02-.2 1.41-.59l7.78-7.78 2.81-2.81c.8-.78.8-2.07 0-2.86zM5.41 20L4 18.59l7.72-7.72 1.47 1.35L5.41 20z\"/>\n",
              "  </svg>\n",
              "      </button>\n",
              "      \n",
              "  <style>\n",
              "    .colab-df-container {\n",
              "      display:flex;\n",
              "      flex-wrap:wrap;\n",
              "      gap: 12px;\n",
              "    }\n",
              "\n",
              "    .colab-df-convert {\n",
              "      background-color: #E8F0FE;\n",
              "      border: none;\n",
              "      border-radius: 50%;\n",
              "      cursor: pointer;\n",
              "      display: none;\n",
              "      fill: #1967D2;\n",
              "      height: 32px;\n",
              "      padding: 0 0 0 0;\n",
              "      width: 32px;\n",
              "    }\n",
              "\n",
              "    .colab-df-convert:hover {\n",
              "      background-color: #E2EBFA;\n",
              "      box-shadow: 0px 1px 2px rgba(60, 64, 67, 0.3), 0px 1px 3px 1px rgba(60, 64, 67, 0.15);\n",
              "      fill: #174EA6;\n",
              "    }\n",
              "\n",
              "    [theme=dark] .colab-df-convert {\n",
              "      background-color: #3B4455;\n",
              "      fill: #D2E3FC;\n",
              "    }\n",
              "\n",
              "    [theme=dark] .colab-df-convert:hover {\n",
              "      background-color: #434B5C;\n",
              "      box-shadow: 0px 1px 3px 1px rgba(0, 0, 0, 0.15);\n",
              "      filter: drop-shadow(0px 1px 2px rgba(0, 0, 0, 0.3));\n",
              "      fill: #FFFFFF;\n",
              "    }\n",
              "  </style>\n",
              "\n",
              "      <script>\n",
              "        const buttonEl =\n",
              "          document.querySelector('#df-0003df76-3227-43c3-aef3-2e17b355db24 button.colab-df-convert');\n",
              "        buttonEl.style.display =\n",
              "          google.colab.kernel.accessAllowed ? 'block' : 'none';\n",
              "\n",
              "        async function convertToInteractive(key) {\n",
              "          const element = document.querySelector('#df-0003df76-3227-43c3-aef3-2e17b355db24');\n",
              "          const dataTable =\n",
              "            await google.colab.kernel.invokeFunction('convertToInteractive',\n",
              "                                                     [key], {});\n",
              "          if (!dataTable) return;\n",
              "\n",
              "          const docLinkHtml = 'Like what you see? Visit the ' +\n",
              "            '<a target=\"_blank\" href=https://colab.research.google.com/notebooks/data_table.ipynb>data table notebook</a>'\n",
              "            + ' to learn more about interactive tables.';\n",
              "          element.innerHTML = '';\n",
              "          dataTable['output_type'] = 'display_data';\n",
              "          await google.colab.output.renderOutput(dataTable, element);\n",
              "          const docLink = document.createElement('div');\n",
              "          docLink.innerHTML = docLinkHtml;\n",
              "          element.appendChild(docLink);\n",
              "        }\n",
              "      </script>\n",
              "    </div>\n",
              "  </div>\n",
              "  "
            ]
          },
          "metadata": {},
          "execution_count": 97
        }
      ]
    },
    {
      "cell_type": "code",
      "execution_count": null,
      "metadata": {
        "id": "1q8wFLvIiC3p"
      },
      "outputs": [],
      "source": [
        "save_variables(variables={'labels_old': labels,\n",
        "                          'indexes_old': indexes,\n",
        "                          'texts_old': texts,\n",
        "                          'urls_old': urls,\n",
        "                          'df_text2': df_text2})"
      ]
    },
    {
      "cell_type": "markdown",
      "metadata": {
        "id": "uZwWQnXV5mhk"
      },
      "source": [
        "# 0.8 (Optional) Create and save \"df_text\""
      ]
    },
    {
      "cell_type": "code",
      "source": [
        "df_text2 = remove_duplicates(df_text2, URL)\n",
        "\n",
        "df_text = pd.concat([df_text1, df_text2]).reset_index(drop=True)\n",
        "\n",
        "df_text = remove_duplicates(df_text, TEXT)\n",
        "\n",
        "df_text = remove_rows(df_text, with_errors=True, irrelevant=True, below_threshold=51)\n",
        "\n",
        "df_text[LEMMATIZED] = df_text[TEXT].apply(lambda x: text_preprocessing(x, lemmatize=True, clean=True))"
      ],
      "metadata": {
        "colab": {
          "base_uri": "https://localhost:8080/"
        },
        "id": "xpoavElBjPJW",
        "outputId": "ab70cac2-6ba0-4ad3-d4d2-1a69ad825dd0"
      },
      "execution_count": null,
      "outputs": [
        {
          "output_type": "stream",
          "name": "stdout",
          "text": [
            "There are no duplicate values in the dataframe's column 'url'.\n",
            "59 rows had duplicate values in the dataframe's column 'text' and were deleted.\n"
          ]
        }
      ]
    },
    {
      "cell_type": "code",
      "source": [
        "df_text"
      ],
      "metadata": {
        "colab": {
          "base_uri": "https://localhost:8080/",
          "height": 424
        },
        "id": "Im6n6mArIqpm",
        "outputId": "4286e54c-0b61-4056-cd6f-cf3c7cef19eb"
      },
      "execution_count": null,
      "outputs": [
        {
          "output_type": "execute_result",
          "data": {
            "text/plain": [
              "                                                  text    label  \\\n",
              "0    2020 User Summit. 2020 User Summit  *UPDATE - ...    Event   \n",
              "1    Write For Us. Want to Write for Us?  Digital L...     MISC   \n",
              "2    Write for Us. Yes, you. We’re always looking f...     MISC   \n",
              "3    FAQs for some new features available in the Be...     Blog   \n",
              "4    The Best Nootropic Stack to Replace Adderall &...  Article   \n",
              "..                                                 ...      ...   \n",
              "959  Veeva Systems Korea aims to become cloud SW le...  Article   \n",
              "960  Digital transformation of clinical research ac...  Article   \n",
              "961  Veeva Systems is a Top Stock for 2022. Veeva S...  Article   \n",
              "962  Medidata’s Acorn AI solution raises clinical t...  Article   \n",
              "963  Accenture’s federal arm hires new applied inte...  Article   \n",
              "\n",
              "                                                   url  \\\n",
              "0                                                  NaN   \n",
              "1                                                  NaN   \n",
              "2                                                  NaN   \n",
              "3                                                  NaN   \n",
              "4                                                  NaN   \n",
              "..                                                 ...   \n",
              "959  http://www.koreabiomed.com/news/articleView.ht...   \n",
              "960  http://www.outsourcing-pharma.com/Article/2021...   \n",
              "961         http://www.entrepreneur.com/article/400416   \n",
              "962  http://www.koreabiomed.com/news/articleView.ht...   \n",
              "963  http://washingtontechnology.com/companies/2022...   \n",
              "\n",
              "                               cleaned_lemmatized_text  \n",
              "0    2020 User Summit 2020 User Summit update March...  \n",
              "1    write want write Digital Lamp one fast grow te...  \n",
              "2    write yes always look new author get idea chal...  \n",
              "3    FAQs new feature available Beta Wayback Machin...  \n",
              "4    Best Nootropic Stack replace Adderall Ritalin ...  \n",
              "..                                                 ...  \n",
              "959  Veeva Systems Korea aim become cloud SW leader...  \n",
              "960  digital transformation clinical research accel...  \n",
              "961  Veeva Systems Top Stock 2022 Veeva Systems VEE...  \n",
              "962  Medidata Acorn AI solution raise clinical tria...  \n",
              "963  Accenture federal arm hire new apply intellige...  \n",
              "\n",
              "[857 rows x 4 columns]"
            ],
            "text/html": [
              "\n",
              "  <div id=\"df-414056b2-092b-4958-b0b8-bf9411bad9e7\">\n",
              "    <div class=\"colab-df-container\">\n",
              "      <div>\n",
              "<style scoped>\n",
              "    .dataframe tbody tr th:only-of-type {\n",
              "        vertical-align: middle;\n",
              "    }\n",
              "\n",
              "    .dataframe tbody tr th {\n",
              "        vertical-align: top;\n",
              "    }\n",
              "\n",
              "    .dataframe thead th {\n",
              "        text-align: right;\n",
              "    }\n",
              "</style>\n",
              "<table border=\"1\" class=\"dataframe\">\n",
              "  <thead>\n",
              "    <tr style=\"text-align: right;\">\n",
              "      <th></th>\n",
              "      <th>text</th>\n",
              "      <th>label</th>\n",
              "      <th>url</th>\n",
              "      <th>cleaned_lemmatized_text</th>\n",
              "    </tr>\n",
              "  </thead>\n",
              "  <tbody>\n",
              "    <tr>\n",
              "      <th>0</th>\n",
              "      <td>2020 User Summit. 2020 User Summit  *UPDATE - ...</td>\n",
              "      <td>Event</td>\n",
              "      <td>NaN</td>\n",
              "      <td>2020 User Summit 2020 User Summit update March...</td>\n",
              "    </tr>\n",
              "    <tr>\n",
              "      <th>1</th>\n",
              "      <td>Write For Us. Want to Write for Us?  Digital L...</td>\n",
              "      <td>MISC</td>\n",
              "      <td>NaN</td>\n",
              "      <td>write want write Digital Lamp one fast grow te...</td>\n",
              "    </tr>\n",
              "    <tr>\n",
              "      <th>2</th>\n",
              "      <td>Write for Us. Yes, you. We’re always looking f...</td>\n",
              "      <td>MISC</td>\n",
              "      <td>NaN</td>\n",
              "      <td>write yes always look new author get idea chal...</td>\n",
              "    </tr>\n",
              "    <tr>\n",
              "      <th>3</th>\n",
              "      <td>FAQs for some new features available in the Be...</td>\n",
              "      <td>Blog</td>\n",
              "      <td>NaN</td>\n",
              "      <td>FAQs new feature available Beta Wayback Machin...</td>\n",
              "    </tr>\n",
              "    <tr>\n",
              "      <th>4</th>\n",
              "      <td>The Best Nootropic Stack to Replace Adderall &amp;...</td>\n",
              "      <td>Article</td>\n",
              "      <td>NaN</td>\n",
              "      <td>Best Nootropic Stack replace Adderall Ritalin ...</td>\n",
              "    </tr>\n",
              "    <tr>\n",
              "      <th>...</th>\n",
              "      <td>...</td>\n",
              "      <td>...</td>\n",
              "      <td>...</td>\n",
              "      <td>...</td>\n",
              "    </tr>\n",
              "    <tr>\n",
              "      <th>959</th>\n",
              "      <td>Veeva Systems Korea aims to become cloud SW le...</td>\n",
              "      <td>Article</td>\n",
              "      <td>http://www.koreabiomed.com/news/articleView.ht...</td>\n",
              "      <td>Veeva Systems Korea aim become cloud SW leader...</td>\n",
              "    </tr>\n",
              "    <tr>\n",
              "      <th>960</th>\n",
              "      <td>Digital transformation of clinical research ac...</td>\n",
              "      <td>Article</td>\n",
              "      <td>http://www.outsourcing-pharma.com/Article/2021...</td>\n",
              "      <td>digital transformation clinical research accel...</td>\n",
              "    </tr>\n",
              "    <tr>\n",
              "      <th>961</th>\n",
              "      <td>Veeva Systems is a Top Stock for 2022. Veeva S...</td>\n",
              "      <td>Article</td>\n",
              "      <td>http://www.entrepreneur.com/article/400416</td>\n",
              "      <td>Veeva Systems Top Stock 2022 Veeva Systems VEE...</td>\n",
              "    </tr>\n",
              "    <tr>\n",
              "      <th>962</th>\n",
              "      <td>Medidata’s Acorn AI solution raises clinical t...</td>\n",
              "      <td>Article</td>\n",
              "      <td>http://www.koreabiomed.com/news/articleView.ht...</td>\n",
              "      <td>Medidata Acorn AI solution raise clinical tria...</td>\n",
              "    </tr>\n",
              "    <tr>\n",
              "      <th>963</th>\n",
              "      <td>Accenture’s federal arm hires new applied inte...</td>\n",
              "      <td>Article</td>\n",
              "      <td>http://washingtontechnology.com/companies/2022...</td>\n",
              "      <td>Accenture federal arm hire new apply intellige...</td>\n",
              "    </tr>\n",
              "  </tbody>\n",
              "</table>\n",
              "<p>857 rows × 4 columns</p>\n",
              "</div>\n",
              "      <button class=\"colab-df-convert\" onclick=\"convertToInteractive('df-414056b2-092b-4958-b0b8-bf9411bad9e7')\"\n",
              "              title=\"Convert this dataframe to an interactive table.\"\n",
              "              style=\"display:none;\">\n",
              "        \n",
              "  <svg xmlns=\"http://www.w3.org/2000/svg\" height=\"24px\"viewBox=\"0 0 24 24\"\n",
              "       width=\"24px\">\n",
              "    <path d=\"M0 0h24v24H0V0z\" fill=\"none\"/>\n",
              "    <path d=\"M18.56 5.44l.94 2.06.94-2.06 2.06-.94-2.06-.94-.94-2.06-.94 2.06-2.06.94zm-11 1L8.5 8.5l.94-2.06 2.06-.94-2.06-.94L8.5 2.5l-.94 2.06-2.06.94zm10 10l.94 2.06.94-2.06 2.06-.94-2.06-.94-.94-2.06-.94 2.06-2.06.94z\"/><path d=\"M17.41 7.96l-1.37-1.37c-.4-.4-.92-.59-1.43-.59-.52 0-1.04.2-1.43.59L10.3 9.45l-7.72 7.72c-.78.78-.78 2.05 0 2.83L4 21.41c.39.39.9.59 1.41.59.51 0 1.02-.2 1.41-.59l7.78-7.78 2.81-2.81c.8-.78.8-2.07 0-2.86zM5.41 20L4 18.59l7.72-7.72 1.47 1.35L5.41 20z\"/>\n",
              "  </svg>\n",
              "      </button>\n",
              "      \n",
              "  <style>\n",
              "    .colab-df-container {\n",
              "      display:flex;\n",
              "      flex-wrap:wrap;\n",
              "      gap: 12px;\n",
              "    }\n",
              "\n",
              "    .colab-df-convert {\n",
              "      background-color: #E8F0FE;\n",
              "      border: none;\n",
              "      border-radius: 50%;\n",
              "      cursor: pointer;\n",
              "      display: none;\n",
              "      fill: #1967D2;\n",
              "      height: 32px;\n",
              "      padding: 0 0 0 0;\n",
              "      width: 32px;\n",
              "    }\n",
              "\n",
              "    .colab-df-convert:hover {\n",
              "      background-color: #E2EBFA;\n",
              "      box-shadow: 0px 1px 2px rgba(60, 64, 67, 0.3), 0px 1px 3px 1px rgba(60, 64, 67, 0.15);\n",
              "      fill: #174EA6;\n",
              "    }\n",
              "\n",
              "    [theme=dark] .colab-df-convert {\n",
              "      background-color: #3B4455;\n",
              "      fill: #D2E3FC;\n",
              "    }\n",
              "\n",
              "    [theme=dark] .colab-df-convert:hover {\n",
              "      background-color: #434B5C;\n",
              "      box-shadow: 0px 1px 3px 1px rgba(0, 0, 0, 0.15);\n",
              "      filter: drop-shadow(0px 1px 2px rgba(0, 0, 0, 0.3));\n",
              "      fill: #FFFFFF;\n",
              "    }\n",
              "  </style>\n",
              "\n",
              "      <script>\n",
              "        const buttonEl =\n",
              "          document.querySelector('#df-414056b2-092b-4958-b0b8-bf9411bad9e7 button.colab-df-convert');\n",
              "        buttonEl.style.display =\n",
              "          google.colab.kernel.accessAllowed ? 'block' : 'none';\n",
              "\n",
              "        async function convertToInteractive(key) {\n",
              "          const element = document.querySelector('#df-414056b2-092b-4958-b0b8-bf9411bad9e7');\n",
              "          const dataTable =\n",
              "            await google.colab.kernel.invokeFunction('convertToInteractive',\n",
              "                                                     [key], {});\n",
              "          if (!dataTable) return;\n",
              "\n",
              "          const docLinkHtml = 'Like what you see? Visit the ' +\n",
              "            '<a target=\"_blank\" href=https://colab.research.google.com/notebooks/data_table.ipynb>data table notebook</a>'\n",
              "            + ' to learn more about interactive tables.';\n",
              "          element.innerHTML = '';\n",
              "          dataTable['output_type'] = 'display_data';\n",
              "          await google.colab.output.renderOutput(dataTable, element);\n",
              "          const docLink = document.createElement('div');\n",
              "          docLink.innerHTML = docLinkHtml;\n",
              "          element.appendChild(docLink);\n",
              "        }\n",
              "      </script>\n",
              "    </div>\n",
              "  </div>\n",
              "  "
            ]
          },
          "metadata": {},
          "execution_count": 103
        }
      ]
    },
    {
      "cell_type": "code",
      "execution_count": null,
      "metadata": {
        "id": "HPv761fdnuHV"
      },
      "outputs": [],
      "source": [
        "save_variables({'df_text': df_text})"
      ]
    },
    {
      "cell_type": "markdown",
      "metadata": {
        "id": "aTICn2Pbqsdk"
      },
      "source": [
        "# 0.9 Further EDA and preprocessing on \"df_text\" (all not to be included in the .py file)"
      ]
    },
    {
      "cell_type": "code",
      "execution_count": 22,
      "metadata": {
        "colab": {
          "base_uri": "https://localhost:8080/"
        },
        "id": "POCgjKRDQeUQ",
        "outputId": "6762d676-b5d8-4b98-ef86-9ac0eec876ae"
      },
      "outputs": [
        {
          "output_type": "execute_result",
          "data": {
            "text/plain": [
              "['Marcus Evans: Evolution Summit USA. The Evolution Summit is an invitation-only, premium Summit bringing leading clinical trial executives and innovative suppliers and solution providers together. The Summit’s content is aligned with key clinical trial challenges and interests, relevant market developments, and practical and progressive ideas and strategies adopted by successful pioneers.']"
            ]
          },
          "metadata": {},
          "execution_count": 22
        }
      ],
      "source": [
        "# To find the best threshold of minimum words empirically:\n",
        "\n",
        "THRESHOLD1 = 50\n",
        "THRESHOLD2 = 51\n",
        "\n",
        "characters = df_text[TEXT].str.split().str.len()\n",
        "df_text.loc[(characters >= THRESHOLD1) & (characters <= THRESHOLD2), TEXT].tolist()"
      ]
    },
    {
      "cell_type": "code",
      "execution_count": 23,
      "metadata": {
        "colab": {
          "base_uri": "https://localhost:8080/"
        },
        "id": "Yo4new9SROKG",
        "outputId": "a9b6266e-681b-4388-ed99-f5e48c7c06ac"
      },
      "outputs": [
        {
          "output_type": "execute_result",
          "data": {
            "text/plain": [
              "111.0"
            ]
          },
          "metadata": {},
          "execution_count": 23
        }
      ],
      "source": [
        "# By analizing the texts, errors started to show up in the ones that had below 51 words.\n",
        "\n",
        "fraction_ignored = 0.165 # We will lose 16.5% of our data\n",
        "\n",
        "values = df_text['text'].str.split().str.len()\n",
        "minimum_words = values.quantile(fraction_ignored)\n",
        "minimum_words"
      ]
    },
    {
      "cell_type": "code",
      "execution_count": 24,
      "metadata": {
        "colab": {
          "base_uri": "https://localhost:8080/"
        },
        "id": "OkaRinySQ8ho",
        "outputId": "07e2b76d-28d3-43a1-df83-c399c63947e6"
      },
      "outputs": [
        {
          "output_type": "execute_result",
          "data": {
            "text/plain": [
              "25%    147.0\n",
              "75%    770.0\n",
              "Name: text, dtype: float64"
            ]
          },
          "metadata": {},
          "execution_count": 24
        }
      ],
      "source": [
        "values.describe()[['25%', '75%']]"
      ]
    },
    {
      "cell_type": "code",
      "source": [
        "mask = df_text[TEXT].str.split().str.len() > DISTILBERT_MAX_INPUT\n",
        "print(f'There are {mask.sum()} texts ({mask.sum() / df_text.shape[0]:.0%} of the total) that will be truncated by DistilBERT '\n",
        "      f'for having more than {DISTILBERT_MAX_INPUT} words.')"
      ],
      "metadata": {
        "id": "8gZzvBteImXg",
        "colab": {
          "base_uri": "https://localhost:8080/"
        },
        "outputId": "57356243-042c-4ec5-9bbc-e366c2e59be9"
      },
      "execution_count": 25,
      "outputs": [
        {
          "output_type": "stream",
          "name": "stdout",
          "text": [
            "There are 365 texts (43% of the total) that will be truncated by DistilBERT for having more than 510 words.\n"
          ]
        }
      ]
    },
    {
      "cell_type": "code",
      "source": [
        "plt.hist(df_text[TEXT].str.split().str.len(), bins=16)\n",
        "plt.show()"
      ],
      "metadata": {
        "id": "ipTWe8bIIr_X",
        "colab": {
          "base_uri": "https://localhost:8080/",
          "height": 0
        },
        "outputId": "55ec01c4-5801-435a-e7bb-e383d198e43c"
      },
      "execution_count": 26,
      "outputs": [
        {
          "output_type": "display_data",
          "data": {
            "text/plain": [
              "<Figure size 432x288 with 1 Axes>"
            ],
            "image/png": "[encoded data removed]"
          },
          "metadata": {
            "needs_background": "light"
          }
        }
      ]
    },
    {
      "cell_type": "code",
      "source": [
        "# df_text.loc[df_text[TEXT].str.split().str.len() > DISTILBERT_MAX_INPUT, TEXT].str.split().str.len()"
      ],
      "metadata": {
        "id": "gvgjdibHIsMN"
      },
      "execution_count": 27,
      "outputs": []
    },
    {
      "cell_type": "code",
      "source": [
        "def clean_text(text):\n",
        "    \"\"\"\n",
        "    @text: a string\n",
        "    Returns a cleaned version of the provided string\n",
        "    \"\"\"\n",
        "    text = REPLACE_BY_SPACE_RE.sub(' ', text) # replaces REPLACE_BY_SPACE_RE symbols by space in text\n",
        "    text = BAD_SYMBOLS_RE.sub('', text) # deletes symbols which are in BAD_SYMBOLS_RE from text\n",
        "    text = ' '.join(word for word in text.split() if word not in STOPWORDS) # deletes stopwords from text\n",
        "    return text\n",
        "\n",
        "def lemmatize_text(text):\n",
        "    \"\"\"\n",
        "    @text: a string\n",
        "    Returns a lemmatized version of the provided string\n",
        "    \"\"\"\n",
        "    lemmatized = ' '.join(token.lemma_ for token in nlp(text))\n",
        "    return lemmatized"
      ],
      "metadata": {
        "id": "JZ9CDYmuhYOQ"
      },
      "execution_count": 28,
      "outputs": []
    },
    {
      "cell_type": "code",
      "source": [
        "# print(f\"Amount of words before lemmatizing text: {df_text[TEXT].apply(lambda x: len(x.split(' '))).sum()}\")\n",
        "# print(f\"Amount of unique words before lemmatizing text: {np.unique(np.concatenate(df_text[TEXT].str.split().values, axis=0)).shape[0]}\\n\")\n",
        "\n",
        "# df_text['lemmatized_text'] = df_text[TEXT].apply(lemmatize_text)\n",
        "# print(f\"Amount of words after lemmatizing text: {df_text['lemmatized_text'].apply(lambda x: len(x.split(' '))).sum()}\")\n",
        "# print(f\"Amount of unique words before lemmatizing text: {np.unique(np.concatenate(df_text['lemmatized_text'].str.split().values, axis=0)).shape[0]}\")\n",
        "\n",
        "# df_text['lemmatized_cleaned_text'] = df_text['lemmatized_text'].apply(clean_text)\n",
        "# print(f\"Amount of words after cleaning text: {df_text['lemmatized_cleaned_text'].apply(lambda x: len(x.split(' '))).sum()}\")\n",
        "# print(f\"Amount of unique words before cleaning text: {np.unique(np.concatenate(df_text['lemmatized_cleaned_text'].str.split().values, axis=0)).shape[0]}\")"
      ],
      "metadata": {
        "id": "xVwxdf-3hYX4"
      },
      "execution_count": 29,
      "outputs": []
    },
    {
      "cell_type": "code",
      "source": [],
      "metadata": {
        "id": "R2UnGV8ShYih"
      },
      "execution_count": 29,
      "outputs": []
    },
    {
      "cell_type": "markdown",
      "metadata": {
        "id": "hi5Q4K3TXrVa"
      },
      "source": [
        "# 1. BoW approach"
      ]
    },
    {
      "cell_type": "markdown",
      "metadata": {
        "id": "VgRRupt9X9DS"
      },
      "source": [
        "## Preprocessing"
      ]
    },
    {
      "cell_type": "code",
      "source": [
        "df_text[TARGET] = df_text[TARGET].replace(labels_encoded)\n",
        "\n",
        "X_train, X_test, y_train, y_test = split_data(df_text, LEMMATIZED, test_size=0.2, random_state=0)\n",
        "\n",
        "X_train_tr, X_test_tr = vectorize_data(LEMMATIZED, X_train, X_test, ngram_range=(1, 1))"
      ],
      "metadata": {
        "id": "VEq6F8DQCqrk"
      },
      "execution_count": 30,
      "outputs": []
    },
    {
      "cell_type": "markdown",
      "metadata": {
        "id": "u3EYegdLd7v7"
      },
      "source": [
        "## Modeling"
      ]
    },
    {
      "cell_type": "code",
      "execution_count": 31,
      "metadata": {
        "id": "0aVfjqrWeA0q"
      },
      "outputs": [],
      "source": [
        "clfs = [\n",
        "    ('LogisticRegression', LogisticRegression(max_iter=3000,\n",
        "                                              class_weight='balanced')\n",
        "    ), \n",
        "    ('RandomForest', RandomForestClassifier(max_depth=18,\n",
        "                                            n_estimators=75,\n",
        "                                            random_state=0)\n",
        "    ), \n",
        "    ('KNN 5', KNeighborsClassifier(n_neighbors=5)\n",
        "    ),\n",
        "    ('SVM C1', SVC(C=1, \n",
        "                   class_weight='balanced')\n",
        "    ),\n",
        "    ('MultinomialNB', MultinomialNB()\n",
        "    ),\n",
        "    ]"
      ]
    },
    {
      "cell_type": "code",
      "source": [
        "print_stratified_kfold(clfs, X_train_tr, y_train)"
      ],
      "metadata": {
        "id": "VNon4Szw5Z2P",
        "colab": {
          "base_uri": "https://localhost:8080/"
        },
        "outputId": "782b0c41-739c-438f-c40b-068f79614e4b"
      },
      "execution_count": 32,
      "outputs": [
        {
          "output_type": "stream",
          "name": "stdout",
          "text": [
            "\n",
            "StratifiedKFold - classifier: LogisticRegression:\n",
            "\n",
            "TRAIN index len: 548, start: [121 122 125], \tVALIDATION index len: 137, start: [0 1 2]\n",
            "\tMean y: TRAIN: 2.389,\tVALIDATION: 2.394\n",
            "TRAIN index len: 548, start: [0 1 2], \tVALIDATION index len: 137, start: [121 122 125]\n",
            "\tMean y: TRAIN: 2.394,\tVALIDATION: 2.372\n",
            "TRAIN index len: 548, start: [0 1 2], \tVALIDATION index len: 137, start: [255 258 260]\n",
            "\tMean y: TRAIN: 2.387,\tVALIDATION: 2.401\n",
            "TRAIN index len: 548, start: [0 1 2], \tVALIDATION index len: 137, start: [364 370 371]\n",
            "\tMean y: TRAIN: 2.387,\tVALIDATION: 2.401\n",
            "TRAIN index len: 548, start: [0 1 2], \tVALIDATION index len: 137, start: [481 498 512]\n",
            "\tMean y: TRAIN: 2.392,\tVALIDATION: 2.380\n",
            "Cross validation scores: mean: 0.780, all: [0.723, 0.788, 0.818, 0.73, 0.839]\n",
            "\n",
            "StratifiedKFold - classifier: RandomForest:\n",
            "\n",
            "TRAIN index len: 548, start: [121 122 125], \tVALIDATION index len: 137, start: [0 1 2]\n",
            "\tMean y: TRAIN: 2.389,\tVALIDATION: 2.394\n",
            "TRAIN index len: 548, start: [0 1 2], \tVALIDATION index len: 137, start: [121 122 125]\n",
            "\tMean y: TRAIN: 2.394,\tVALIDATION: 2.372\n",
            "TRAIN index len: 548, start: [0 1 2], \tVALIDATION index len: 137, start: [255 258 260]\n",
            "\tMean y: TRAIN: 2.387,\tVALIDATION: 2.401\n",
            "TRAIN index len: 548, start: [0 1 2], \tVALIDATION index len: 137, start: [364 370 371]\n",
            "\tMean y: TRAIN: 2.387,\tVALIDATION: 2.401\n",
            "TRAIN index len: 548, start: [0 1 2], \tVALIDATION index len: 137, start: [481 498 512]\n",
            "\tMean y: TRAIN: 2.392,\tVALIDATION: 2.380\n",
            "Cross validation scores: mean: 0.721, all: [0.664, 0.781, 0.745, 0.664, 0.752]\n",
            "\n",
            "StratifiedKFold - classifier: KNN 5:\n",
            "\n",
            "TRAIN index len: 548, start: [121 122 125], \tVALIDATION index len: 137, start: [0 1 2]\n",
            "\tMean y: TRAIN: 2.389,\tVALIDATION: 2.394\n",
            "TRAIN index len: 548, start: [0 1 2], \tVALIDATION index len: 137, start: [121 122 125]\n",
            "\tMean y: TRAIN: 2.394,\tVALIDATION: 2.372\n",
            "TRAIN index len: 548, start: [0 1 2], \tVALIDATION index len: 137, start: [255 258 260]\n",
            "\tMean y: TRAIN: 2.387,\tVALIDATION: 2.401\n",
            "TRAIN index len: 548, start: [0 1 2], \tVALIDATION index len: 137, start: [364 370 371]\n",
            "\tMean y: TRAIN: 2.387,\tVALIDATION: 2.401\n",
            "TRAIN index len: 548, start: [0 1 2], \tVALIDATION index len: 137, start: [481 498 512]\n",
            "\tMean y: TRAIN: 2.392,\tVALIDATION: 2.380\n",
            "Cross validation scores: mean: 0.631, all: [0.62, 0.635, 0.65, 0.584, 0.664]\n",
            "\n",
            "StratifiedKFold - classifier: SVM C1:\n",
            "\n",
            "TRAIN index len: 548, start: [121 122 125], \tVALIDATION index len: 137, start: [0 1 2]\n",
            "\tMean y: TRAIN: 2.389,\tVALIDATION: 2.394\n",
            "TRAIN index len: 548, start: [0 1 2], \tVALIDATION index len: 137, start: [121 122 125]\n",
            "\tMean y: TRAIN: 2.394,\tVALIDATION: 2.372\n",
            "TRAIN index len: 548, start: [0 1 2], \tVALIDATION index len: 137, start: [255 258 260]\n",
            "\tMean y: TRAIN: 2.387,\tVALIDATION: 2.401\n",
            "TRAIN index len: 548, start: [0 1 2], \tVALIDATION index len: 137, start: [364 370 371]\n",
            "\tMean y: TRAIN: 2.387,\tVALIDATION: 2.401\n",
            "TRAIN index len: 548, start: [0 1 2], \tVALIDATION index len: 137, start: [481 498 512]\n",
            "\tMean y: TRAIN: 2.392,\tVALIDATION: 2.380\n",
            "Cross validation scores: mean: 0.752, all: [0.701, 0.803, 0.759, 0.693, 0.803]\n",
            "\n",
            "StratifiedKFold - classifier: MultinomialNB:\n",
            "\n",
            "TRAIN index len: 548, start: [121 122 125], \tVALIDATION index len: 137, start: [0 1 2]\n",
            "\tMean y: TRAIN: 2.389,\tVALIDATION: 2.394\n",
            "TRAIN index len: 548, start: [0 1 2], \tVALIDATION index len: 137, start: [121 122 125]\n",
            "\tMean y: TRAIN: 2.394,\tVALIDATION: 2.372\n",
            "TRAIN index len: 548, start: [0 1 2], \tVALIDATION index len: 137, start: [255 258 260]\n",
            "\tMean y: TRAIN: 2.387,\tVALIDATION: 2.401\n",
            "TRAIN index len: 548, start: [0 1 2], \tVALIDATION index len: 137, start: [364 370 371]\n",
            "\tMean y: TRAIN: 2.387,\tVALIDATION: 2.401\n",
            "TRAIN index len: 548, start: [0 1 2], \tVALIDATION index len: 137, start: [481 498 512]\n",
            "\tMean y: TRAIN: 2.392,\tVALIDATION: 2.380\n",
            "Cross validation scores: mean: 0.642, all: [0.635, 0.664, 0.65, 0.577, 0.686]\n"
          ]
        }
      ]
    },
    {
      "cell_type": "markdown",
      "metadata": {
        "id": "A8SShZlAiM-s"
      },
      "source": [
        "Logistic Regression is the model with the best results on the validation set, so it will be the chosen model.\n",
        "\n",
        "We will calculate results on the test set on all models just to compare, without changing the decision, hence without causing data leakage:"
      ]
    },
    {
      "cell_type": "code",
      "execution_count": 33,
      "metadata": {
        "colab": {
          "base_uri": "https://localhost:8080/"
        },
        "id": "aGg_SS1hW1yw",
        "outputId": "6ae7115c-03c6-4835-901e-187affc8bca7"
      },
      "outputs": [
        {
          "output_type": "stream",
          "name": "stdout",
          "text": [
            "                    accuracy\n",
            "clf                         \n",
            "LogisticRegression  0.790698\n",
            "RandomForest        0.750000\n",
            "KNN 5               0.668605\n",
            "SVM C1              0.761628\n",
            "MultinomialNB       0.616279\n",
            "Best classifier: LogisticRegression, test accuracy: 0.791\n"
          ]
        }
      ],
      "source": [
        "clf, clf_name, test_acc = get_best_clf(clfs, X_train_tr, X_test_tr, y_train, y_test)\n",
        "print(f'Best classifier: {clf_name}, test accuracy: {test_acc:.3f}')"
      ]
    },
    {
      "cell_type": "code",
      "execution_count": 34,
      "metadata": {
        "colab": {
          "base_uri": "https://localhost:8080/",
          "height": 547
        },
        "id": "FsGzsdhfiMEl",
        "outputId": "396c3326-2641-4a5f-92e1-3cb813f84fd9"
      },
      "outputs": [
        {
          "output_type": "display_data",
          "data": {
            "text/plain": [
              "<Figure size 432x288 with 2 Axes>"
            ],
            "image/png": "[encoded data removed]"
          },
          "metadata": {
            "needs_background": "light"
          }
        },
        {
          "output_type": "stream",
          "name": "stdout",
          "text": [
            "\n",
            "              precision    recall  f1-score   support\n",
            "\n",
            "     Article       0.33      0.29      0.31        17\n",
            "        Blog       0.61      0.82      0.70        40\n",
            "       Event       0.88      0.66      0.75        35\n",
            "        MISC       0.90      0.60      0.72        15\n",
            "          PR       0.63      0.90      0.74        30\n",
            "     Webinar       0.88      0.60      0.71        35\n",
            "\n",
            "    accuracy                           0.69       172\n",
            "   macro avg       0.71      0.65      0.66       172\n",
            "weighted avg       0.72      0.69      0.68       172\n",
            "\n"
          ]
        }
      ],
      "source": [
        "# Just for comparison purposes\n",
        "\n",
        "clf = fit_model(LogisticRegression(\n",
        "    max_iter=3000, \n",
        "    class_weight='balanced',\n",
        "    solver='liblinear', # default: 'lbfgs' \n",
        "    penalty='l1', # default: 'l2'\n",
        "    ), \n",
        "    X_train_tr, \n",
        "    y_train,\n",
        "    )\n",
        "\n",
        "y_pred = predict(clf, X_test_tr)\n",
        "\n",
        "print_confusion_matrix('Logistic Regression', y_test, y_pred, with_report=True)"
      ]
    },
    {
      "cell_type": "code",
      "source": [
        "# Chosen model\n",
        "\n",
        "clf = fit_model(LogisticRegression(max_iter=3000, \n",
        "                                   class_weight='balanced',\n",
        "                                   ), \n",
        "                X_train_tr, \n",
        "                y_train,\n",
        "                )\n",
        "\n",
        "y_pred = predict(clf, X_test_tr)\n",
        "y_probs = clf.predict_proba(X_test_tr)\n",
        "\n",
        "print_confusion_matrix('Logistic Regression', y_test, y_pred, with_report=True)"
      ],
      "metadata": {
        "id": "L2SK5FF5OIKb",
        "colab": {
          "base_uri": "https://localhost:8080/",
          "height": 547
        },
        "outputId": "53b0cab5-c5e0-40f6-8398-cd4c0a489562"
      },
      "execution_count": 52,
      "outputs": [
        {
          "output_type": "display_data",
          "data": {
            "text/plain": [
              "<Figure size 432x288 with 2 Axes>"
            ],
            "image/png": "[encoded data removed]"
          },
          "metadata": {
            "needs_background": "light"
          }
        },
        {
          "output_type": "stream",
          "name": "stdout",
          "text": [
            "\n",
            "              precision    recall  f1-score   support\n",
            "\n",
            "     Article       0.55      0.35      0.43        17\n",
            "        Blog       0.82      0.80      0.81        40\n",
            "       Event       0.79      0.89      0.84        35\n",
            "        MISC       0.91      0.67      0.77        15\n",
            "          PR       0.87      0.87      0.87        30\n",
            "     Webinar       0.74      0.89      0.81        35\n",
            "\n",
            "    accuracy                           0.79       172\n",
            "   macro avg       0.78      0.74      0.75       172\n",
            "weighted avg       0.79      0.79      0.78       172\n",
            "\n"
          ]
        }
      ]
    },
    {
      "cell_type": "code",
      "source": [
        "pickle.dump(clf, open('/content/drive/MyDrive/url_classification/Models/bow_lr_clf', 'wb'))"
      ],
      "metadata": {
        "id": "SFMuHV_Q7MA6"
      },
      "execution_count": 29,
      "outputs": []
    },
    {
      "cell_type": "code",
      "source": [
        "# bow_lr_clf = pickle.load(open('/content/drive/MyDrive/url_classification/Models/bow_lr_clf', 'rb'))"
      ],
      "metadata": {
        "id": "UpL0w-T67M-F"
      },
      "execution_count": null,
      "outputs": []
    },
    {
      "cell_type": "code",
      "source": [
        "df_mistakes = create_df_mistakes(df_text, LEMMATIZED, X_test, y_test, y_pred, y_probs)"
      ],
      "metadata": {
        "id": "3d-4n_5h7sbP"
      },
      "execution_count": 36,
      "outputs": []
    },
    {
      "cell_type": "code",
      "source": [
        "save_variables({'df_mistakes_bow_lr_clf': df_mistakes})"
      ],
      "metadata": {
        "id": "W0w67eVg0Sco"
      },
      "execution_count": 45,
      "outputs": []
    },
    {
      "cell_type": "code",
      "source": [
        "df_mistakes.head()"
      ],
      "metadata": {
        "id": "cXrBZNm98QnY",
        "colab": {
          "base_uri": "https://localhost:8080/",
          "height": 206
        },
        "outputId": "cf70c6bd-348e-4700-ce8d-cd06459666f2"
      },
      "execution_count": 37,
      "outputs": [
        {
          "output_type": "execute_result",
          "data": {
            "text/plain": [
              "                                                   url  \\\n",
              "932  http://www.zacks.com/stock/news/1348735/iqvia-...   \n",
              "821  http://www.threadresearch.com/blog/reduce-clin...   \n",
              "880  http://medrio.com/resource/the-power-of-patien...   \n",
              "958  http://www.outsourcing-pharma.com/Article/2021...   \n",
              "904  http://www.calyx.ai/journal/a-medical-perspect...   \n",
              "\n",
              "                               cleaned_lemmatized_text   y_true  conf_true  \\\n",
              "932  IQVIA IQV buy remain Q2 Solutions Stake Ups EP...       PR       0.10   \n",
              "821  reduce Clinical Trial Costs use decentralize c...     Blog       0.19   \n",
              "880  Power Patient Centricity Rare Disease Studies ...     Blog       0.09   \n",
              "958  PPD Clinical Ink join lupus assessment endpoin...  Article       0.22   \n",
              "904  introduce Medical Perspective Clinical Trial T...     Blog       0.09   \n",
              "\n",
              "      y_pred  conf_pred  \n",
              "932  Article       0.23  \n",
              "821  Webinar       0.26  \n",
              "880  Webinar       0.29  \n",
              "958  Webinar       0.28  \n",
              "904  Webinar       0.28  "
            ],
            "text/html": [
              "\n",
              "  <div id=\"df-e0b1f63d-05ef-44f3-994d-e0af79f9a07c\">\n",
              "    <div class=\"colab-df-container\">\n",
              "      <div>\n",
              "<style scoped>\n",
              "    .dataframe tbody tr th:only-of-type {\n",
              "        vertical-align: middle;\n",
              "    }\n",
              "\n",
              "    .dataframe tbody tr th {\n",
              "        vertical-align: top;\n",
              "    }\n",
              "\n",
              "    .dataframe thead th {\n",
              "        text-align: right;\n",
              "    }\n",
              "</style>\n",
              "<table border=\"1\" class=\"dataframe\">\n",
              "  <thead>\n",
              "    <tr style=\"text-align: right;\">\n",
              "      <th></th>\n",
              "      <th>url</th>\n",
              "      <th>cleaned_lemmatized_text</th>\n",
              "      <th>y_true</th>\n",
              "      <th>conf_true</th>\n",
              "      <th>y_pred</th>\n",
              "      <th>conf_pred</th>\n",
              "    </tr>\n",
              "  </thead>\n",
              "  <tbody>\n",
              "    <tr>\n",
              "      <th>932</th>\n",
              "      <td>http://www.zacks.com/stock/news/1348735/iqvia-...</td>\n",
              "      <td>IQVIA IQV buy remain Q2 Solutions Stake Ups EP...</td>\n",
              "      <td>PR</td>\n",
              "      <td>0.10</td>\n",
              "      <td>Article</td>\n",
              "      <td>0.23</td>\n",
              "    </tr>\n",
              "    <tr>\n",
              "      <th>821</th>\n",
              "      <td>http://www.threadresearch.com/blog/reduce-clin...</td>\n",
              "      <td>reduce Clinical Trial Costs use decentralize c...</td>\n",
              "      <td>Blog</td>\n",
              "      <td>0.19</td>\n",
              "      <td>Webinar</td>\n",
              "      <td>0.26</td>\n",
              "    </tr>\n",
              "    <tr>\n",
              "      <th>880</th>\n",
              "      <td>http://medrio.com/resource/the-power-of-patien...</td>\n",
              "      <td>Power Patient Centricity Rare Disease Studies ...</td>\n",
              "      <td>Blog</td>\n",
              "      <td>0.09</td>\n",
              "      <td>Webinar</td>\n",
              "      <td>0.29</td>\n",
              "    </tr>\n",
              "    <tr>\n",
              "      <th>958</th>\n",
              "      <td>http://www.outsourcing-pharma.com/Article/2021...</td>\n",
              "      <td>PPD Clinical Ink join lupus assessment endpoin...</td>\n",
              "      <td>Article</td>\n",
              "      <td>0.22</td>\n",
              "      <td>Webinar</td>\n",
              "      <td>0.28</td>\n",
              "    </tr>\n",
              "    <tr>\n",
              "      <th>904</th>\n",
              "      <td>http://www.calyx.ai/journal/a-medical-perspect...</td>\n",
              "      <td>introduce Medical Perspective Clinical Trial T...</td>\n",
              "      <td>Blog</td>\n",
              "      <td>0.09</td>\n",
              "      <td>Webinar</td>\n",
              "      <td>0.28</td>\n",
              "    </tr>\n",
              "  </tbody>\n",
              "</table>\n",
              "</div>\n",
              "      <button class=\"colab-df-convert\" onclick=\"convertToInteractive('df-e0b1f63d-05ef-44f3-994d-e0af79f9a07c')\"\n",
              "              title=\"Convert this dataframe to an interactive table.\"\n",
              "              style=\"display:none;\">\n",
              "        \n",
              "  <svg xmlns=\"http://www.w3.org/2000/svg\" height=\"24px\"viewBox=\"0 0 24 24\"\n",
              "       width=\"24px\">\n",
              "    <path d=\"M0 0h24v24H0V0z\" fill=\"none\"/>\n",
              "    <path d=\"M18.56 5.44l.94 2.06.94-2.06 2.06-.94-2.06-.94-.94-2.06-.94 2.06-2.06.94zm-11 1L8.5 8.5l.94-2.06 2.06-.94-2.06-.94L8.5 2.5l-.94 2.06-2.06.94zm10 10l.94 2.06.94-2.06 2.06-.94-2.06-.94-.94-2.06-.94 2.06-2.06.94z\"/><path d=\"M17.41 7.96l-1.37-1.37c-.4-.4-.92-.59-1.43-.59-.52 0-1.04.2-1.43.59L10.3 9.45l-7.72 7.72c-.78.78-.78 2.05 0 2.83L4 21.41c.39.39.9.59 1.41.59.51 0 1.02-.2 1.41-.59l7.78-7.78 2.81-2.81c.8-.78.8-2.07 0-2.86zM5.41 20L4 18.59l7.72-7.72 1.47 1.35L5.41 20z\"/>\n",
              "  </svg>\n",
              "      </button>\n",
              "      \n",
              "  <style>\n",
              "    .colab-df-container {\n",
              "      display:flex;\n",
              "      flex-wrap:wrap;\n",
              "      gap: 12px;\n",
              "    }\n",
              "\n",
              "    .colab-df-convert {\n",
              "      background-color: #E8F0FE;\n",
              "      border: none;\n",
              "      border-radius: 50%;\n",
              "      cursor: pointer;\n",
              "      display: none;\n",
              "      fill: #1967D2;\n",
              "      height: 32px;\n",
              "      padding: 0 0 0 0;\n",
              "      width: 32px;\n",
              "    }\n",
              "\n",
              "    .colab-df-convert:hover {\n",
              "      background-color: #E2EBFA;\n",
              "      box-shadow: 0px 1px 2px rgba(60, 64, 67, 0.3), 0px 1px 3px 1px rgba(60, 64, 67, 0.15);\n",
              "      fill: #174EA6;\n",
              "    }\n",
              "\n",
              "    [theme=dark] .colab-df-convert {\n",
              "      background-color: #3B4455;\n",
              "      fill: #D2E3FC;\n",
              "    }\n",
              "\n",
              "    [theme=dark] .colab-df-convert:hover {\n",
              "      background-color: #434B5C;\n",
              "      box-shadow: 0px 1px 3px 1px rgba(0, 0, 0, 0.15);\n",
              "      filter: drop-shadow(0px 1px 2px rgba(0, 0, 0, 0.3));\n",
              "      fill: #FFFFFF;\n",
              "    }\n",
              "  </style>\n",
              "\n",
              "      <script>\n",
              "        const buttonEl =\n",
              "          document.querySelector('#df-e0b1f63d-05ef-44f3-994d-e0af79f9a07c button.colab-df-convert');\n",
              "        buttonEl.style.display =\n",
              "          google.colab.kernel.accessAllowed ? 'block' : 'none';\n",
              "\n",
              "        async function convertToInteractive(key) {\n",
              "          const element = document.querySelector('#df-e0b1f63d-05ef-44f3-994d-e0af79f9a07c');\n",
              "          const dataTable =\n",
              "            await google.colab.kernel.invokeFunction('convertToInteractive',\n",
              "                                                     [key], {});\n",
              "          if (!dataTable) return;\n",
              "\n",
              "          const docLinkHtml = 'Like what you see? Visit the ' +\n",
              "            '<a target=\"_blank\" href=https://colab.research.google.com/notebooks/data_table.ipynb>data table notebook</a>'\n",
              "            + ' to learn more about interactive tables.';\n",
              "          element.innerHTML = '';\n",
              "          dataTable['output_type'] = 'display_data';\n",
              "          await google.colab.output.renderOutput(dataTable, element);\n",
              "          const docLink = document.createElement('div');\n",
              "          docLink.innerHTML = docLinkHtml;\n",
              "          element.appendChild(docLink);\n",
              "        }\n",
              "      </script>\n",
              "    </div>\n",
              "  </div>\n",
              "  "
            ]
          },
          "metadata": {},
          "execution_count": 37
        }
      ]
    },
    {
      "cell_type": "code",
      "source": [
        "plot_distribution_of_confidences(y_test, y_pred, y_probs)"
      ],
      "metadata": {
        "colab": {
          "base_uri": "https://localhost:8080/",
          "height": 635
        },
        "id": "MW1R5ERI8oCs",
        "outputId": "bce8dca6-e05b-44df-d248-135ef8d69cdc"
      },
      "execution_count": 51,
      "outputs": [
        {
          "output_type": "stream",
          "name": "stdout",
          "text": [
            "Confidence of incorrectly classified samples \t- Median: 0.2809, Mean: 0.3066.\n",
            "Confidence of correctly classified samples \t- Median: 0.4467, Mean: 0.4813.\n",
            "\n"
          ]
        },
        {
          "output_type": "display_data",
          "data": {
            "text/plain": [
              "<Figure size 864x576 with 4 Axes>"
            ],
            "image/png": "[encoded data removed]"
          },
          "metadata": {}
        }
      ]
    },
    {
      "cell_type": "markdown",
      "metadata": {
        "id": "pkv3vI9Bj1P6"
      },
      "source": [
        "# 2. DistilBERT approach (Ashwin N)"
      ]
    },
    {
      "cell_type": "markdown",
      "metadata": {
        "id": "PFTfCyWBkUn8"
      },
      "source": [
        "### Preprocessing"
      ]
    },
    {
      "cell_type": "code",
      "source": [
        "model_ckpt = 'distilbert-base-uncased'\n",
        "tokenizer = AutoTokenizer.from_pretrained(model_ckpt)\n",
        "\n",
        "df_text[TARGET] = df_text[TARGET].replace(labels_encoded)"
      ],
      "metadata": {
        "id": "fPPl7ZVn22h5"
      },
      "execution_count": 101,
      "outputs": []
    },
    {
      "cell_type": "markdown",
      "metadata": {
        "id": "AB6HG9dIkFhJ"
      },
      "source": [
        "### a) ML approach - extra preprocessing + modeling:"
      ]
    },
    {
      "cell_type": "markdown",
      "source": [
        "### Extra preprocessing"
      ],
      "metadata": {
        "id": "pYjtce2grlxp"
      }
    },
    {
      "cell_type": "code",
      "source": [
        "X_train, X_test, y_train, y_test = split_data(df_text, column=TEXT, test_size=0.2, val_size=None, random_state=0)\n",
        "\n",
        "dataset = create_dataset_dict(X_train, X_test, y_train, y_test)\n",
        "\n",
        "dataset_encoded = dataset.map(\n",
        "    tokenize, \n",
        "    batched=True, \n",
        "    batch_size=None,\n",
        "    )\n",
        "\n",
        "dataset_encoded.reset_format()\n",
        "\n",
        "dataset_hidden = dataset_encoded.map(\n",
        "    extract_hidden_states, \n",
        "    batched=True, \n",
        "    batch_size=16,\n",
        "    )\n",
        "\n",
        "X_train_hidden = np.array(dataset_hidden['train']['hidden_state'])\n",
        "y_train_hidden = np.array(dataset_hidden['train'][TARGET])\n",
        "\n",
        "X_test_hidden = np.array(dataset_hidden['test']['hidden_state'])\n",
        "y_test_hidden = np.array(dataset_hidden['test'][TARGET])"
      ],
      "metadata": {
        "id": "hWiq085vrFY0"
      },
      "execution_count": null,
      "outputs": []
    },
    {
      "cell_type": "code",
      "source": [
        "save_variables({'X_train_hidden': X_train_hidden,\n",
        "                'X_test_hidden': X_test_hidden,\n",
        "                'y_train_hidden': y_train_hidden,\n",
        "                'y_test_hidden': y_test_hidden,\n",
        "                })"
      ],
      "metadata": {
        "id": "5lAeGhM_r6jM"
      },
      "execution_count": null,
      "outputs": []
    },
    {
      "cell_type": "markdown",
      "source": [
        "### Modeling"
      ],
      "metadata": {
        "id": "Jae_nGI9roxu"
      }
    },
    {
      "cell_type": "code",
      "source": [
        "clfs = [\n",
        "    ('LogisticRegression', LogisticRegression(max_iter=3000,\n",
        "                                              class_weight='balanced')\n",
        "    ), \n",
        "    ('RandomForest', RandomForestClassifier(max_depth=18,\n",
        "                                            n_estimators=75,\n",
        "                                            random_state=0)\n",
        "    ), \n",
        "    ('KNN 5', KNeighborsClassifier(n_neighbors=5)\n",
        "    ),\n",
        "    ('SVM C1', SVC(C=1, \n",
        "                   class_weight='balanced')\n",
        "    ),\n",
        "    ]"
      ],
      "metadata": {
        "id": "risO6J4p_EBw"
      },
      "execution_count": 40,
      "outputs": []
    },
    {
      "cell_type": "code",
      "source": [
        "print_stratified_kfold(clfs, X_train_hidden, y_train)"
      ],
      "metadata": {
        "colab": {
          "base_uri": "https://localhost:8080/"
        },
        "id": "_3MCvDM_-0hI",
        "outputId": "bebebae3-678e-44d6-c6a5-6dbd6c41b50c"
      },
      "execution_count": 41,
      "outputs": [
        {
          "output_type": "stream",
          "name": "stdout",
          "text": [
            "\n",
            "StratifiedKFold - classifier: LogisticRegression:\n",
            "\n",
            "TRAIN index len: 548, start: [121 122 125], \tVALIDATION index len: 137, start: [0 1 2]\n",
            "\tMean y: TRAIN: 2.389,\tVALIDATION: 2.394\n",
            "TRAIN index len: 548, start: [0 1 2], \tVALIDATION index len: 137, start: [121 122 125]\n",
            "\tMean y: TRAIN: 2.394,\tVALIDATION: 2.372\n",
            "TRAIN index len: 548, start: [0 1 2], \tVALIDATION index len: 137, start: [255 258 260]\n",
            "\tMean y: TRAIN: 2.387,\tVALIDATION: 2.401\n",
            "TRAIN index len: 548, start: [0 1 2], \tVALIDATION index len: 137, start: [364 370 371]\n",
            "\tMean y: TRAIN: 2.387,\tVALIDATION: 2.401\n",
            "TRAIN index len: 548, start: [0 1 2], \tVALIDATION index len: 137, start: [481 498 512]\n",
            "\tMean y: TRAIN: 2.392,\tVALIDATION: 2.380\n",
            "Cross validation scores: mean: 0.794, all: [0.788, 0.788, 0.839, 0.73, 0.825]\n",
            "\n",
            "StratifiedKFold - classifier: RandomForest:\n",
            "\n",
            "TRAIN index len: 548, start: [121 122 125], \tVALIDATION index len: 137, start: [0 1 2]\n",
            "\tMean y: TRAIN: 2.389,\tVALIDATION: 2.394\n",
            "TRAIN index len: 548, start: [0 1 2], \tVALIDATION index len: 137, start: [121 122 125]\n",
            "\tMean y: TRAIN: 2.394,\tVALIDATION: 2.372\n",
            "TRAIN index len: 548, start: [0 1 2], \tVALIDATION index len: 137, start: [255 258 260]\n",
            "\tMean y: TRAIN: 2.387,\tVALIDATION: 2.401\n",
            "TRAIN index len: 548, start: [0 1 2], \tVALIDATION index len: 137, start: [364 370 371]\n",
            "\tMean y: TRAIN: 2.387,\tVALIDATION: 2.401\n",
            "TRAIN index len: 548, start: [0 1 2], \tVALIDATION index len: 137, start: [481 498 512]\n",
            "\tMean y: TRAIN: 2.392,\tVALIDATION: 2.380\n",
            "Cross validation scores: mean: 0.750, all: [0.715, 0.766, 0.752, 0.723, 0.796]\n",
            "\n",
            "StratifiedKFold - classifier: KNN 5:\n",
            "\n",
            "TRAIN index len: 548, start: [121 122 125], \tVALIDATION index len: 137, start: [0 1 2]\n",
            "\tMean y: TRAIN: 2.389,\tVALIDATION: 2.394\n",
            "TRAIN index len: 548, start: [0 1 2], \tVALIDATION index len: 137, start: [121 122 125]\n",
            "\tMean y: TRAIN: 2.394,\tVALIDATION: 2.372\n",
            "TRAIN index len: 548, start: [0 1 2], \tVALIDATION index len: 137, start: [255 258 260]\n",
            "\tMean y: TRAIN: 2.387,\tVALIDATION: 2.401\n",
            "TRAIN index len: 548, start: [0 1 2], \tVALIDATION index len: 137, start: [364 370 371]\n",
            "\tMean y: TRAIN: 2.387,\tVALIDATION: 2.401\n",
            "TRAIN index len: 548, start: [0 1 2], \tVALIDATION index len: 137, start: [481 498 512]\n",
            "\tMean y: TRAIN: 2.392,\tVALIDATION: 2.380\n",
            "Cross validation scores: mean: 0.743, all: [0.701, 0.774, 0.745, 0.723, 0.774]\n",
            "\n",
            "StratifiedKFold - classifier: SVM C1:\n",
            "\n",
            "TRAIN index len: 548, start: [121 122 125], \tVALIDATION index len: 137, start: [0 1 2]\n",
            "\tMean y: TRAIN: 2.389,\tVALIDATION: 2.394\n",
            "TRAIN index len: 548, start: [0 1 2], \tVALIDATION index len: 137, start: [121 122 125]\n",
            "\tMean y: TRAIN: 2.394,\tVALIDATION: 2.372\n",
            "TRAIN index len: 548, start: [0 1 2], \tVALIDATION index len: 137, start: [255 258 260]\n",
            "\tMean y: TRAIN: 2.387,\tVALIDATION: 2.401\n",
            "TRAIN index len: 548, start: [0 1 2], \tVALIDATION index len: 137, start: [364 370 371]\n",
            "\tMean y: TRAIN: 2.387,\tVALIDATION: 2.401\n",
            "TRAIN index len: 548, start: [0 1 2], \tVALIDATION index len: 137, start: [481 498 512]\n",
            "\tMean y: TRAIN: 2.392,\tVALIDATION: 2.380\n",
            "Cross validation scores: mean: 0.742, all: [0.73, 0.759, 0.781, 0.664, 0.774]\n"
          ]
        }
      ]
    },
    {
      "cell_type": "markdown",
      "source": [
        "Again Logistic Regression is the model with the best score when doing cross validation, so that's the chosen model."
      ],
      "metadata": {
        "id": "pxRCBUPA_jRM"
      }
    },
    {
      "cell_type": "code",
      "execution_count": 53,
      "metadata": {
        "colab": {
          "base_uri": "https://localhost:8080/",
          "height": 547
        },
        "id": "95U-aGaS9n2F",
        "outputId": "8b4b46bd-31fd-45ee-f78f-c6ab4be50784"
      },
      "outputs": [
        {
          "output_type": "display_data",
          "data": {
            "text/plain": [
              "<Figure size 432x288 with 2 Axes>"
            ],
            "image/png": "[encoded data removed]"
          },
          "metadata": {
            "needs_background": "light"
          }
        },
        {
          "output_type": "stream",
          "name": "stdout",
          "text": [
            "\n",
            "              precision    recall  f1-score   support\n",
            "\n",
            "     Article       0.73      0.47      0.57        17\n",
            "        Blog       0.85      0.82      0.84        40\n",
            "       Event       0.83      0.83      0.83        35\n",
            "        MISC       0.77      0.67      0.71        15\n",
            "          PR       0.71      0.83      0.77        30\n",
            "     Webinar       0.77      0.86      0.81        35\n",
            "\n",
            "    accuracy                           0.78       172\n",
            "   macro avg       0.78      0.75      0.75       172\n",
            "weighted avg       0.79      0.78      0.78       172\n",
            "\n"
          ]
        }
      ],
      "source": [
        "# Just for comparison\n",
        "\n",
        "lr_clf = fit_model(LogisticRegression(max_iter=3000, \n",
        "                                      class_weight='balanced',\n",
        "                                      solver='liblinear', # default: 'lbfgs' \n",
        "                                      penalty='l1', # default: 'l2'\n",
        "                                      ), \n",
        "                   X_train_hidden, \n",
        "                   y_train_hidden,\n",
        "                   )\n",
        "\n",
        "y_pred = predict(lr_clf, X_test_hidden)\n",
        "y_probs = lr_clf.predict_proba(X_test_hidden)\n",
        "\n",
        "print_confusion_matrix('Logistic Regression', y_test_hidden, y_pred, with_report=True)"
      ]
    },
    {
      "cell_type": "code",
      "execution_count": 54,
      "metadata": {
        "colab": {
          "base_uri": "https://localhost:8080/",
          "height": 547
        },
        "id": "F-fbLHtAN4J1",
        "outputId": "1a6d3c89-eb4a-4be6-cb31-a5af36f0f0fa"
      },
      "outputs": [
        {
          "output_type": "display_data",
          "data": {
            "text/plain": [
              "<Figure size 432x288 with 2 Axes>"
            ],
            "image/png": "[encoded data removed]"
          },
          "metadata": {
            "needs_background": "light"
          }
        },
        {
          "output_type": "stream",
          "name": "stdout",
          "text": [
            "\n",
            "              precision    recall  f1-score   support\n",
            "\n",
            "     Article       0.82      0.67      0.74        69\n",
            "        Blog       0.92      0.92      0.92       158\n",
            "       Event       0.90      0.91      0.91       139\n",
            "        MISC       0.90      0.85      0.88        62\n",
            "          PR       0.87      0.95      0.91       120\n",
            "     Webinar       0.91      0.93      0.92       137\n",
            "\n",
            "    accuracy                           0.89       685\n",
            "   macro avg       0.89      0.87      0.88       685\n",
            "weighted avg       0.89      0.89      0.89       685\n",
            "\n"
          ]
        }
      ],
      "source": [
        "# Check if it's overfitting\n",
        "y_pred_train = predict(lr_clf, X_train_hidden)\n",
        "print_confusion_matrix('Logistic Regression', y_train_hidden, y_pred_train, with_report=True)"
      ]
    },
    {
      "cell_type": "code",
      "execution_count": 55,
      "metadata": {
        "colab": {
          "base_uri": "https://localhost:8080/",
          "height": 547
        },
        "id": "Cdmbe1tmo9iX",
        "outputId": "7adc7b77-a7b9-4388-a93a-0543f57a218f"
      },
      "outputs": [
        {
          "output_type": "display_data",
          "data": {
            "text/plain": [
              "<Figure size 432x288 with 2 Axes>"
            ],
            "image/png": "[encoded data removed]"
          },
          "metadata": {
            "needs_background": "light"
          }
        },
        {
          "output_type": "stream",
          "name": "stdout",
          "text": [
            "\n",
            "              precision    recall  f1-score   support\n",
            "\n",
            "     Article       0.54      0.41      0.47        17\n",
            "        Blog       0.92      0.85      0.88        40\n",
            "       Event       0.79      0.89      0.84        35\n",
            "        MISC       0.90      0.60      0.72        15\n",
            "          PR       0.75      0.90      0.82        30\n",
            "     Webinar       0.81      0.86      0.83        35\n",
            "\n",
            "    accuracy                           0.80       172\n",
            "   macro avg       0.79      0.75      0.76       172\n",
            "weighted avg       0.80      0.80      0.80       172\n",
            "\n"
          ]
        }
      ],
      "source": [
        "# Just for comparison\n",
        "\n",
        "lr_clf = fit_model(LogisticRegression(max_iter=3000, \n",
        "                                  #  class_weight='balanced', \n",
        "                                   ), \n",
        "                X_train_hidden, \n",
        "                y_train_hidden)\n",
        "\n",
        "y_pred = predict(lr_clf, X_test_hidden)\n",
        "y_probs = lr_clf.predict_proba(X_test_hidden)\n",
        "\n",
        "print_confusion_matrix('Logistic Regression', y_test_hidden, y_pred, with_report=True)"
      ]
    },
    {
      "cell_type": "code",
      "execution_count": 56,
      "metadata": {
        "id": "xI0UTfYNMGu6",
        "colab": {
          "base_uri": "https://localhost:8080/",
          "height": 547
        },
        "outputId": "0619d037-bebb-4e0c-f675-1eb03dd2748e"
      },
      "outputs": [
        {
          "output_type": "display_data",
          "data": {
            "text/plain": [
              "<Figure size 432x288 with 2 Axes>"
            ],
            "image/png": "[encoded data removed]"
          },
          "metadata": {
            "needs_background": "light"
          }
        },
        {
          "output_type": "stream",
          "name": "stdout",
          "text": [
            "\n",
            "              precision    recall  f1-score   support\n",
            "\n",
            "     Article       0.64      0.53      0.58        17\n",
            "        Blog       0.90      0.88      0.89        40\n",
            "       Event       0.78      0.83      0.81        35\n",
            "        MISC       0.82      0.60      0.69        15\n",
            "          PR       0.79      0.90      0.84        30\n",
            "     Webinar       0.81      0.86      0.83        35\n",
            "\n",
            "    accuracy                           0.81       172\n",
            "   macro avg       0.79      0.77      0.77       172\n",
            "weighted avg       0.81      0.81      0.80       172\n",
            "\n"
          ]
        }
      ],
      "source": [
        "# Just for comparison\n",
        "\n",
        "lr_clf = fit_model(LogisticRegression(\n",
        "    max_iter=3000, \n",
        "    class_weight='balanced',\n",
        "    solver='saga', # default: 'lbfgs' \n",
        "    penalty='elasticnet', # default: 'l2',\n",
        "    l1_ratio=0.5, # only relevant when penalty='elasticnet'\n",
        "    ), \n",
        "                X_train_hidden, \n",
        "                y_train_hidden)\n",
        "\n",
        "y_pred = predict(lr_clf, X_test_hidden)\n",
        "y_probs = lr_clf.predict_proba(X_test_hidden)\n",
        "\n",
        "print_confusion_matrix('Logistic Regression', y_test_hidden, y_pred, with_report=True)"
      ]
    },
    {
      "cell_type": "code",
      "execution_count": 57,
      "metadata": {
        "colab": {
          "base_uri": "https://localhost:8080/",
          "height": 547
        },
        "id": "ydsp-E-_JRqL",
        "outputId": "b1016aee-1bac-45bc-8e4d-8562354d09be"
      },
      "outputs": [
        {
          "output_type": "display_data",
          "data": {
            "text/plain": [
              "<Figure size 432x288 with 2 Axes>"
            ],
            "image/png": "[encoded data removed]"
          },
          "metadata": {
            "needs_background": "light"
          }
        },
        {
          "output_type": "stream",
          "name": "stdout",
          "text": [
            "\n",
            "              precision    recall  f1-score   support\n",
            "\n",
            "     Article       0.87      0.90      0.89        69\n",
            "        Blog       0.97      0.94      0.95       158\n",
            "       Event       0.95      0.94      0.95       139\n",
            "        MISC       0.94      0.94      0.94        62\n",
            "          PR       0.94      0.97      0.96       120\n",
            "     Webinar       0.94      0.94      0.94       137\n",
            "\n",
            "    accuracy                           0.94       685\n",
            "   macro avg       0.93      0.94      0.94       685\n",
            "weighted avg       0.94      0.94      0.94       685\n",
            "\n"
          ]
        }
      ],
      "source": [
        "# Check if it's overfitting\n",
        "y_pred_train = predict(lr_clf, X_train_hidden)\n",
        "print_confusion_matrix('Logistic Regression', y_train_hidden, y_pred_train, with_report=True)"
      ]
    },
    {
      "cell_type": "code",
      "execution_count": 58,
      "metadata": {
        "colab": {
          "base_uri": "https://localhost:8080/",
          "height": 547
        },
        "id": "1NxnDCjnUPd4",
        "outputId": "63af6176-424e-4396-c25e-391f08ef79c9"
      },
      "outputs": [
        {
          "output_type": "display_data",
          "data": {
            "text/plain": [
              "<Figure size 432x288 with 2 Axes>"
            ],
            "image/png": "[encoded data removed]"
          },
          "metadata": {
            "needs_background": "light"
          }
        },
        {
          "output_type": "stream",
          "name": "stdout",
          "text": [
            "\n",
            "              precision    recall  f1-score   support\n",
            "\n",
            "     Article       0.53      0.53      0.53        17\n",
            "        Blog       0.91      0.80      0.85        40\n",
            "       Event       0.79      0.89      0.84        35\n",
            "        MISC       0.90      0.60      0.72        15\n",
            "          PR       0.79      0.90      0.84        30\n",
            "     Webinar       0.81      0.86      0.83        35\n",
            "\n",
            "    accuracy                           0.80       172\n",
            "   macro avg       0.79      0.76      0.77       172\n",
            "weighted avg       0.81      0.80      0.80       172\n",
            "\n"
          ]
        }
      ],
      "source": [
        "# Chosen model\n",
        "\n",
        "lr_clf = fit_model(LogisticRegression(max_iter=3000, \n",
        "                                   class_weight='balanced', \n",
        "                                   ), \n",
        "                X_train_hidden, \n",
        "                y_train_hidden)\n",
        "\n",
        "y_pred = predict(lr_clf, X_test_hidden)\n",
        "y_probs = lr_clf.predict_proba(X_test_hidden)\n",
        "\n",
        "print_confusion_matrix('Logistic Regression', y_test_hidden, y_pred, with_report=True)"
      ]
    },
    {
      "cell_type": "code",
      "source": [
        "# Check if it's overfitting\n",
        "y_pred_train = predict(lr_clf, X_train_hidden)\n",
        "print_confusion_matrix('Logistic Regression', y_train_hidden, y_pred_train, with_report=True)"
      ],
      "metadata": {
        "id": "WmwW1C1J7DHH",
        "colab": {
          "base_uri": "https://localhost:8080/",
          "height": 547
        },
        "outputId": "c9757fcd-717e-4476-cd27-0228026be968"
      },
      "execution_count": 59,
      "outputs": [
        {
          "output_type": "display_data",
          "data": {
            "text/plain": [
              "<Figure size 432x288 with 2 Axes>"
            ],
            "image/png": "[encoded data removed]"
          },
          "metadata": {
            "needs_background": "light"
          }
        },
        {
          "output_type": "stream",
          "name": "stdout",
          "text": [
            "\n",
            "              precision    recall  f1-score   support\n",
            "\n",
            "     Article       0.94      0.99      0.96        69\n",
            "        Blog       1.00      0.98      0.99       158\n",
            "       Event       0.99      0.97      0.98       139\n",
            "        MISC       0.98      0.98      0.98        62\n",
            "          PR       0.99      0.98      0.99       120\n",
            "     Webinar       0.97      0.99      0.98       137\n",
            "\n",
            "    accuracy                           0.98       685\n",
            "   macro avg       0.98      0.98      0.98       685\n",
            "weighted avg       0.98      0.98      0.98       685\n",
            "\n"
          ]
        }
      ]
    },
    {
      "cell_type": "code",
      "source": [
        "pickle.dump(lr_clf, open('/content/drive/MyDrive/url_classification/Models/distilbert_lr_clf', 'wb'))"
      ],
      "metadata": {
        "id": "R_qBAWFGO9V5"
      },
      "execution_count": 46,
      "outputs": []
    },
    {
      "cell_type": "code",
      "source": [
        "# lr_clf = pickle.load(open('/content/drive/MyDrive/url_classification/Models/distilbert_lr_clf', 'rb'))"
      ],
      "metadata": {
        "id": "2-NlnFLYOzyK"
      },
      "execution_count": null,
      "outputs": []
    },
    {
      "cell_type": "code",
      "source": [
        "df_mistakes = create_df_mistakes(df_text, TEXT, X_test, y_test, y_pred, y_probs)"
      ],
      "metadata": {
        "id": "6FQ6OG6w9CV0"
      },
      "execution_count": 60,
      "outputs": []
    },
    {
      "cell_type": "code",
      "source": [
        "save_variables({'df_mistakes_distilbert_lr_clf': df_mistakes})"
      ],
      "metadata": {
        "id": "M1D5pWYx0xzm"
      },
      "execution_count": 49,
      "outputs": []
    },
    {
      "cell_type": "code",
      "source": [
        "df_mistakes.head()"
      ],
      "metadata": {
        "colab": {
          "base_uri": "https://localhost:8080/",
          "height": 206
        },
        "id": "PwyLG49w9NuF",
        "outputId": "7dbe245c-c211-4b3d-97d8-0977bc4fa336"
      },
      "execution_count": 61,
      "outputs": [
        {
          "output_type": "execute_result",
          "data": {
            "text/plain": [
              "                                                   url  \\\n",
              "932  http://www.zacks.com/stock/news/1348735/iqvia-...   \n",
              "713  http://www.statnews.com/2022/02/08/cvs-medable...   \n",
              "680  http://www.beckershospitalreview.com/healthcar...   \n",
              "84                                                 NaN   \n",
              "791  http://www.calyx.ai/journal/overview-ema-lates...   \n",
              "\n",
              "                                                  text   y_true  conf_true  \\\n",
              "932  IQVIA (IQV) Buys Remaining Q2 Solutions Stake,...       PR       0.01   \n",
              "713  CVS inks a deal with Medable to enroll more pa...  Article       0.00   \n",
              "680  California ends Verily COVID-19 testing partne...  Article       0.22   \n",
              "84   How to Use Hashtags: How Many, Best Ones, and ...     Blog       0.21   \n",
              "791  Overview of EMA's latest IDMP Updates in 2022....     Blog       0.04   \n",
              "\n",
              "      y_pred  conf_pred  \n",
              "932  Article       0.48  \n",
              "713  Webinar       0.66  \n",
              "680       PR       0.76  \n",
              "84   Article       0.52  \n",
              "791  Webinar       0.58  "
            ],
            "text/html": [
              "\n",
              "  <div id=\"df-2f1189ee-4988-46c7-b123-e96f852be15e\">\n",
              "    <div class=\"colab-df-container\">\n",
              "      <div>\n",
              "<style scoped>\n",
              "    .dataframe tbody tr th:only-of-type {\n",
              "        vertical-align: middle;\n",
              "    }\n",
              "\n",
              "    .dataframe tbody tr th {\n",
              "        vertical-align: top;\n",
              "    }\n",
              "\n",
              "    .dataframe thead th {\n",
              "        text-align: right;\n",
              "    }\n",
              "</style>\n",
              "<table border=\"1\" class=\"dataframe\">\n",
              "  <thead>\n",
              "    <tr style=\"text-align: right;\">\n",
              "      <th></th>\n",
              "      <th>url</th>\n",
              "      <th>text</th>\n",
              "      <th>y_true</th>\n",
              "      <th>conf_true</th>\n",
              "      <th>y_pred</th>\n",
              "      <th>conf_pred</th>\n",
              "    </tr>\n",
              "  </thead>\n",
              "  <tbody>\n",
              "    <tr>\n",
              "      <th>932</th>\n",
              "      <td>http://www.zacks.com/stock/news/1348735/iqvia-...</td>\n",
              "      <td>IQVIA (IQV) Buys Remaining Q2 Solutions Stake,...</td>\n",
              "      <td>PR</td>\n",
              "      <td>0.01</td>\n",
              "      <td>Article</td>\n",
              "      <td>0.48</td>\n",
              "    </tr>\n",
              "    <tr>\n",
              "      <th>713</th>\n",
              "      <td>http://www.statnews.com/2022/02/08/cvs-medable...</td>\n",
              "      <td>CVS inks a deal with Medable to enroll more pa...</td>\n",
              "      <td>Article</td>\n",
              "      <td>0.00</td>\n",
              "      <td>Webinar</td>\n",
              "      <td>0.66</td>\n",
              "    </tr>\n",
              "    <tr>\n",
              "      <th>680</th>\n",
              "      <td>http://www.beckershospitalreview.com/healthcar...</td>\n",
              "      <td>California ends Verily COVID-19 testing partne...</td>\n",
              "      <td>Article</td>\n",
              "      <td>0.22</td>\n",
              "      <td>PR</td>\n",
              "      <td>0.76</td>\n",
              "    </tr>\n",
              "    <tr>\n",
              "      <th>84</th>\n",
              "      <td>NaN</td>\n",
              "      <td>How to Use Hashtags: How Many, Best Ones, and ...</td>\n",
              "      <td>Blog</td>\n",
              "      <td>0.21</td>\n",
              "      <td>Article</td>\n",
              "      <td>0.52</td>\n",
              "    </tr>\n",
              "    <tr>\n",
              "      <th>791</th>\n",
              "      <td>http://www.calyx.ai/journal/overview-ema-lates...</td>\n",
              "      <td>Overview of EMA's latest IDMP Updates in 2022....</td>\n",
              "      <td>Blog</td>\n",
              "      <td>0.04</td>\n",
              "      <td>Webinar</td>\n",
              "      <td>0.58</td>\n",
              "    </tr>\n",
              "  </tbody>\n",
              "</table>\n",
              "</div>\n",
              "      <button class=\"colab-df-convert\" onclick=\"convertToInteractive('df-2f1189ee-4988-46c7-b123-e96f852be15e')\"\n",
              "              title=\"Convert this dataframe to an interactive table.\"\n",
              "              style=\"display:none;\">\n",
              "        \n",
              "  <svg xmlns=\"http://www.w3.org/2000/svg\" height=\"24px\"viewBox=\"0 0 24 24\"\n",
              "       width=\"24px\">\n",
              "    <path d=\"M0 0h24v24H0V0z\" fill=\"none\"/>\n",
              "    <path d=\"M18.56 5.44l.94 2.06.94-2.06 2.06-.94-2.06-.94-.94-2.06-.94 2.06-2.06.94zm-11 1L8.5 8.5l.94-2.06 2.06-.94-2.06-.94L8.5 2.5l-.94 2.06-2.06.94zm10 10l.94 2.06.94-2.06 2.06-.94-2.06-.94-.94-2.06-.94 2.06-2.06.94z\"/><path d=\"M17.41 7.96l-1.37-1.37c-.4-.4-.92-.59-1.43-.59-.52 0-1.04.2-1.43.59L10.3 9.45l-7.72 7.72c-.78.78-.78 2.05 0 2.83L4 21.41c.39.39.9.59 1.41.59.51 0 1.02-.2 1.41-.59l7.78-7.78 2.81-2.81c.8-.78.8-2.07 0-2.86zM5.41 20L4 18.59l7.72-7.72 1.47 1.35L5.41 20z\"/>\n",
              "  </svg>\n",
              "      </button>\n",
              "      \n",
              "  <style>\n",
              "    .colab-df-container {\n",
              "      display:flex;\n",
              "      flex-wrap:wrap;\n",
              "      gap: 12px;\n",
              "    }\n",
              "\n",
              "    .colab-df-convert {\n",
              "      background-color: #E8F0FE;\n",
              "      border: none;\n",
              "      border-radius: 50%;\n",
              "      cursor: pointer;\n",
              "      display: none;\n",
              "      fill: #1967D2;\n",
              "      height: 32px;\n",
              "      padding: 0 0 0 0;\n",
              "      width: 32px;\n",
              "    }\n",
              "\n",
              "    .colab-df-convert:hover {\n",
              "      background-color: #E2EBFA;\n",
              "      box-shadow: 0px 1px 2px rgba(60, 64, 67, 0.3), 0px 1px 3px 1px rgba(60, 64, 67, 0.15);\n",
              "      fill: #174EA6;\n",
              "    }\n",
              "\n",
              "    [theme=dark] .colab-df-convert {\n",
              "      background-color: #3B4455;\n",
              "      fill: #D2E3FC;\n",
              "    }\n",
              "\n",
              "    [theme=dark] .colab-df-convert:hover {\n",
              "      background-color: #434B5C;\n",
              "      box-shadow: 0px 1px 3px 1px rgba(0, 0, 0, 0.15);\n",
              "      filter: drop-shadow(0px 1px 2px rgba(0, 0, 0, 0.3));\n",
              "      fill: #FFFFFF;\n",
              "    }\n",
              "  </style>\n",
              "\n",
              "      <script>\n",
              "        const buttonEl =\n",
              "          document.querySelector('#df-2f1189ee-4988-46c7-b123-e96f852be15e button.colab-df-convert');\n",
              "        buttonEl.style.display =\n",
              "          google.colab.kernel.accessAllowed ? 'block' : 'none';\n",
              "\n",
              "        async function convertToInteractive(key) {\n",
              "          const element = document.querySelector('#df-2f1189ee-4988-46c7-b123-e96f852be15e');\n",
              "          const dataTable =\n",
              "            await google.colab.kernel.invokeFunction('convertToInteractive',\n",
              "                                                     [key], {});\n",
              "          if (!dataTable) return;\n",
              "\n",
              "          const docLinkHtml = 'Like what you see? Visit the ' +\n",
              "            '<a target=\"_blank\" href=https://colab.research.google.com/notebooks/data_table.ipynb>data table notebook</a>'\n",
              "            + ' to learn more about interactive tables.';\n",
              "          element.innerHTML = '';\n",
              "          dataTable['output_type'] = 'display_data';\n",
              "          await google.colab.output.renderOutput(dataTable, element);\n",
              "          const docLink = document.createElement('div');\n",
              "          docLink.innerHTML = docLinkHtml;\n",
              "          element.appendChild(docLink);\n",
              "        }\n",
              "      </script>\n",
              "    </div>\n",
              "  </div>\n",
              "  "
            ]
          },
          "metadata": {},
          "execution_count": 61
        }
      ]
    },
    {
      "cell_type": "code",
      "source": [
        "misclassified = df_mistakes.shape[0]\n",
        "misclassified_truncated = (df_mistakes[TEXT].str.split().str.len() > DISTILBERT_MAX_INPUT).sum()\n",
        "print(f'Out of the {misclassified} misclassified samples, {misclassified_truncated}'\n",
        "      f' ({misclassified_truncated / misclassified:.0%} of the total) were truncated.')"
      ],
      "metadata": {
        "colab": {
          "base_uri": "https://localhost:8080/"
        },
        "id": "wuJvKfQAGbFi",
        "outputId": "240e0c20-ca30-4d97-8425-9f01096fe358"
      },
      "execution_count": 62,
      "outputs": [
        {
          "output_type": "stream",
          "name": "stdout",
          "text": [
            "Out of the 34 misclassified samples, 11 (32% of the total) were truncated.\n"
          ]
        }
      ]
    },
    {
      "cell_type": "code",
      "source": [
        "plot_distribution_of_confidences(y_test, y_pred, y_probs)"
      ],
      "metadata": {
        "colab": {
          "base_uri": "https://localhost:8080/",
          "height": 635
        },
        "id": "FWyCg9FD2Vj1",
        "outputId": "193aacd2-d452-485b-8053-f1e0bcebfeed"
      },
      "execution_count": 63,
      "outputs": [
        {
          "output_type": "stream",
          "name": "stdout",
          "text": [
            "Confidence of incorrectly classified samples \t- Median: 0.5863, Mean: 0.6127.\n",
            "Confidence of correctly classified samples \t- Median: 0.8798, Mean: 0.8284.\n",
            "\n"
          ]
        },
        {
          "output_type": "display_data",
          "data": {
            "text/plain": [
              "<Figure size 864x576 with 4 Axes>"
            ],
            "image/png": "[encoded data removed]"
          },
          "metadata": {}
        }
      ]
    },
    {
      "cell_type": "markdown",
      "source": [
        "We can see that the model is a lot more confident in the correctly classified samples than what it was with the BoW approach, where a lot of times it was very confused even though it was right in its prediction."
      ],
      "metadata": {
        "id": "Z12HDpUSnWOQ"
      }
    },
    {
      "cell_type": "markdown",
      "metadata": {
        "id": "Z7CPoCLIj53r"
      },
      "source": [
        "### b) DL approach - extra preprocessing + modeling:"
      ]
    },
    {
      "cell_type": "markdown",
      "source": [
        "### Extra preprocessing"
      ],
      "metadata": {
        "id": "87cBE7PVsCsE"
      }
    },
    {
      "cell_type": "code",
      "source": [
        "X_train, X_val, X_test, y_train, y_val, y_test = split_data(df_text, column=TEXT, test_size=0.2, val_size=0.1, random_state=0)\n",
        "\n",
        "dataset = create_dataset_dict(X_train, X_test, y_train, y_test, X_val, y_val)\n",
        "\n",
        "dataset_encoded = dataset.map(\n",
        "    tokenize, \n",
        "    batched=True, \n",
        "    batch_size=None,\n",
        "    )\n",
        "\n",
        "tf_model = TFAutoModel.from_pretrained(model_ckpt)\n",
        "\n",
        "tf_train_dataset, tf_val_dataset, tf_test_dataset = create_tf_dataset(dataset_encoded, tokenizer)\n",
        "\n",
        "config = create_distilbert_config(dropout=0.1, attention_dropout=0.1)\n",
        "\n",
        "tf_model = (TFAutoModelForSequenceClassification.from_pretrained(\n",
        "    model_ckpt, \n",
        "    config=config, \n",
        "    )\n",
        ")"
      ],
      "metadata": {
        "colab": {
          "base_uri": "https://localhost:8080/",
          "height": 329,
          "referenced_widgets": [
            "e8f77f7628de4d09ac20c4329a6e3ecd",
            "27983d77f7b847a3aa5dfc8b8387dbc6",
            "f052cb8c89d84b7eb89c6602b31652f3",
            "dcc617df21d84bd68c94e7d0c15cd058",
            "c1f325bfc204407d99aa4c35ec44b765",
            "bb169d72650c4f68b49f2318faf8b3f3",
            "072446c1b485477d89baafa469781699",
            "6bb733ed5ca84bb09c59b340516de287",
            "7b3b5f958ff54cd5a1c25d06e014a709",
            "afb0bf1f9475431eb7077d9d98df9c22",
            "a66a6d04e4ac45238d42f60e4b4178c4",
            "303f3bbe8e1e4d649730cd30edf52489",
            "9552f0d04ecb41c68840eeedb530770c",
            "a3a7bd7edefe469aa2b625adb8a60e6e",
            "e0f09e78a02b4aaa9454e342c2524c4e",
            "45b3935ff069469a8d9a2bb52781f262",
            "03610e8016e14d2d848ba7a93cc1f41e",
            "c4c61600fd1e4921a615a00f6f5cc2ef",
            "ec752ac20b89410ba29c69a917105e2e",
            "ef155fb3f5b446b18b1d2c3aaa288c1b",
            "a7ac58dd24ca4b17b9f23ab09a06e50c",
            "a382322e9a6e4a94854133a21f9164c8",
            "c3a94e89b77b4372b2744ead4a72ace4",
            "ff3c28c3c7e645a78045f8f12ebfdc71",
            "583c179b0c324bee9012fe1b4e705fd1",
            "be56d853d5a2457fb244c2db643f6634",
            "59f17d6db02f494c94026988d3ec45c4",
            "b596a0f352fe49e7bc2a292a2be2f835",
            "cd90c68dae244114a3e6c1bf637bef11",
            "1a997d0ea01b4ca9a0dfac5ef3b0ef6d",
            "97c1e32e528049a38d4a59b48e3f2b41",
            "1b57f07689844ed4a75abd117480aca9",
            "2964e421ff794b72ab8a4d67ab41461b"
          ]
        },
        "id": "9GqZnjAen738",
        "outputId": "c571989b-816b-4cf0-ab82-2898678ab2f9"
      },
      "execution_count": 102,
      "outputs": [
        {
          "output_type": "display_data",
          "data": {
            "text/plain": [
              "  0%|          | 0/1 [00:00<?, ?ba/s]"
            ],
            "application/vnd.jupyter.widget-view+json": {
              "version_major": 2,
              "version_minor": 0,
              "model_id": "e8f77f7628de4d09ac20c4329a6e3ecd"
            }
          },
          "metadata": {}
        },
        {
          "output_type": "display_data",
          "data": {
            "text/plain": [
              "  0%|          | 0/1 [00:00<?, ?ba/s]"
            ],
            "application/vnd.jupyter.widget-view+json": {
              "version_major": 2,
              "version_minor": 0,
              "model_id": "303f3bbe8e1e4d649730cd30edf52489"
            }
          },
          "metadata": {}
        },
        {
          "output_type": "display_data",
          "data": {
            "text/plain": [
              "  0%|          | 0/1 [00:00<?, ?ba/s]"
            ],
            "application/vnd.jupyter.widget-view+json": {
              "version_major": 2,
              "version_minor": 0,
              "model_id": "c3a94e89b77b4372b2744ead4a72ace4"
            }
          },
          "metadata": {}
        },
        {
          "output_type": "stream",
          "name": "stderr",
          "text": [
            "Some layers from the model checkpoint at distilbert-base-uncased were not used when initializing TFDistilBertModel: ['vocab_transform', 'vocab_layer_norm', 'activation_13', 'vocab_projector']\n",
            "- This IS expected if you are initializing TFDistilBertModel from the checkpoint of a model trained on another task or with another architecture (e.g. initializing a BertForSequenceClassification model from a BertForPreTraining model).\n",
            "- This IS NOT expected if you are initializing TFDistilBertModel from the checkpoint of a model that you expect to be exactly identical (initializing a BertForSequenceClassification model from a BertForSequenceClassification model).\n",
            "All the layers of TFDistilBertModel were initialized from the model checkpoint at distilbert-base-uncased.\n",
            "If your task is similar to the task the model of the checkpoint was trained on, you can already use TFDistilBertModel for predictions without further training.\n",
            "You're using a DistilBertTokenizerFast tokenizer. Please note that with a fast tokenizer, using the `__call__` method is faster than using a method to encode the text followed by a call to the `pad` method to get a padded encoding.\n",
            "Some layers from the model checkpoint at distilbert-base-uncased were not used when initializing TFDistilBertForSequenceClassification: ['vocab_transform', 'vocab_layer_norm', 'activation_13', 'vocab_projector']\n",
            "- This IS expected if you are initializing TFDistilBertForSequenceClassification from the checkpoint of a model trained on another task or with another architecture (e.g. initializing a BertForSequenceClassification model from a BertForPreTraining model).\n",
            "- This IS NOT expected if you are initializing TFDistilBertForSequenceClassification from the checkpoint of a model that you expect to be exactly identical (initializing a BertForSequenceClassification model from a BertForSequenceClassification model).\n",
            "Some layers of TFDistilBertForSequenceClassification were not initialized from the model checkpoint at distilbert-base-uncased and are newly initialized: ['classifier', 'pre_classifier', 'dropout_77']\n",
            "You should probably TRAIN this model on a down-stream task to be able to use it for predictions and inference.\n"
          ]
        }
      ]
    },
    {
      "cell_type": "markdown",
      "source": [
        "### Modeling"
      ],
      "metadata": {
        "id": "gaP8PEyRsdlE"
      }
    },
    {
      "cell_type": "code",
      "source": [
        "tf_model = compile_model(tf_model, learning_rate=5e-6)"
      ],
      "metadata": {
        "id": "7EsTUZbPB1p7"
      },
      "execution_count": 74,
      "outputs": []
    },
    {
      "cell_type": "code",
      "source": [
        "tf_model = train_model(tf_model, tf_train_dataset, tf_val_dataset, epochs=1000, patience=5)"
      ],
      "metadata": {
        "id": "fhxHmOEXCYK2",
        "colab": {
          "base_uri": "https://localhost:8080/",
          "height": 588
        },
        "outputId": "58b04388-3521-4fd7-fb59-e49473d745d5"
      },
      "execution_count": 76,
      "outputs": [
        {
          "output_type": "stream",
          "name": "stdout",
          "text": [
            "Epoch 1/1000\n",
            "38/38 [==============================] - 39s 1s/step - loss: 1.7366 - sparse_categorical_accuracy: 0.3773 - val_loss: 1.6817 - val_sparse_categorical_accuracy: 0.5581\n",
            "Epoch 2/1000\n",
            "38/38 [==============================] - 37s 968ms/step - loss: 1.5819 - sparse_categorical_accuracy: 0.5192 - val_loss: 1.4792 - val_sparse_categorical_accuracy: 0.6395\n",
            "Epoch 3/1000\n",
            "38/38 [==============================] - 37s 980ms/step - loss: 1.3402 - sparse_categorical_accuracy: 0.6912 - val_loss: 1.2807 - val_sparse_categorical_accuracy: 0.6395\n",
            "Epoch 4/1000\n",
            "38/38 [==============================] - 37s 969ms/step - loss: 1.1370 - sparse_categorical_accuracy: 0.7129 - val_loss: 1.0966 - val_sparse_categorical_accuracy: 0.6977\n",
            "Epoch 5/1000\n",
            "38/38 [==============================] - 37s 968ms/step - loss: 0.9675 - sparse_categorical_accuracy: 0.7663 - val_loss: 0.9856 - val_sparse_categorical_accuracy: 0.7093\n",
            "Epoch 6/1000\n",
            "38/38 [==============================] - 37s 964ms/step - loss: 0.8334 - sparse_categorical_accuracy: 0.8047 - val_loss: 0.8707 - val_sparse_categorical_accuracy: 0.7209\n",
            "Epoch 7/1000\n",
            " 3/38 [=>............................] - ETA: 33s - loss: 0.6669 - sparse_categorical_accuracy: 0.8958"
          ]
        },
        {
          "output_type": "error",
          "ename": "KeyboardInterrupt",
          "evalue": "ignored",
          "traceback": [
            "\u001b[0;31m---------------------------------------------------------------------------\u001b[0m",
            "\u001b[0;31mKeyboardInterrupt\u001b[0m                         Traceback (most recent call last)",
            "\u001b[0;32m<ipython-input-76-1d1e507050bb>\u001b[0m in \u001b[0;36m<module>\u001b[0;34m\u001b[0m\n\u001b[0;32m----> 1\u001b[0;31m \u001b[0mtf_model\u001b[0m \u001b[0;34m=\u001b[0m \u001b[0mtrain_model\u001b[0m\u001b[0;34m(\u001b[0m\u001b[0mtf_model\u001b[0m\u001b[0;34m,\u001b[0m \u001b[0mtf_train_dataset\u001b[0m\u001b[0;34m,\u001b[0m \u001b[0mtf_val_dataset\u001b[0m\u001b[0;34m,\u001b[0m \u001b[0mepochs\u001b[0m\u001b[0;34m=\u001b[0m\u001b[0;36m1000\u001b[0m\u001b[0;34m,\u001b[0m \u001b[0mpatience\u001b[0m\u001b[0;34m=\u001b[0m\u001b[0;36m5\u001b[0m\u001b[0;34m)\u001b[0m\u001b[0;34m\u001b[0m\u001b[0;34m\u001b[0m\u001b[0m\n\u001b[0m",
            "\u001b[0;32m<ipython-input-49-38468212ff1b>\u001b[0m in \u001b[0;36mtrain_model\u001b[0;34m(tf_model, tf_train_dataset, tf_val_dataset, epochs, patience)\u001b[0m\n\u001b[1;32m    254\u001b[0m     )\n\u001b[1;32m    255\u001b[0m \u001b[0;34m\u001b[0m\u001b[0m\n\u001b[0;32m--> 256\u001b[0;31m   tf_model.fit(\n\u001b[0m\u001b[1;32m    257\u001b[0m       \u001b[0mtf_train_dataset\u001b[0m\u001b[0;34m,\u001b[0m\u001b[0;34m\u001b[0m\u001b[0;34m\u001b[0m\u001b[0m\n\u001b[1;32m    258\u001b[0m       \u001b[0mvalidation_data\u001b[0m\u001b[0;34m=\u001b[0m\u001b[0mtf_val_dataset\u001b[0m\u001b[0;34m,\u001b[0m\u001b[0;34m\u001b[0m\u001b[0;34m\u001b[0m\u001b[0m\n",
            "\u001b[0;32m/usr/local/lib/python3.8/dist-packages/keras/utils/traceback_utils.py\u001b[0m in \u001b[0;36merror_handler\u001b[0;34m(*args, **kwargs)\u001b[0m\n\u001b[1;32m     62\u001b[0m     \u001b[0mfiltered_tb\u001b[0m \u001b[0;34m=\u001b[0m \u001b[0;32mNone\u001b[0m\u001b[0;34m\u001b[0m\u001b[0;34m\u001b[0m\u001b[0m\n\u001b[1;32m     63\u001b[0m     \u001b[0;32mtry\u001b[0m\u001b[0;34m:\u001b[0m\u001b[0;34m\u001b[0m\u001b[0;34m\u001b[0m\u001b[0m\n\u001b[0;32m---> 64\u001b[0;31m       \u001b[0;32mreturn\u001b[0m \u001b[0mfn\u001b[0m\u001b[0;34m(\u001b[0m\u001b[0;34m*\u001b[0m\u001b[0margs\u001b[0m\u001b[0;34m,\u001b[0m \u001b[0;34m**\u001b[0m\u001b[0mkwargs\u001b[0m\u001b[0;34m)\u001b[0m\u001b[0;34m\u001b[0m\u001b[0;34m\u001b[0m\u001b[0m\n\u001b[0m\u001b[1;32m     65\u001b[0m     \u001b[0;32mexcept\u001b[0m \u001b[0mException\u001b[0m \u001b[0;32mas\u001b[0m \u001b[0me\u001b[0m\u001b[0;34m:\u001b[0m  \u001b[0;31m# pylint: disable=broad-except\u001b[0m\u001b[0;34m\u001b[0m\u001b[0;34m\u001b[0m\u001b[0m\n\u001b[1;32m     66\u001b[0m       \u001b[0mfiltered_tb\u001b[0m \u001b[0;34m=\u001b[0m \u001b[0m_process_traceback_frames\u001b[0m\u001b[0;34m(\u001b[0m\u001b[0me\u001b[0m\u001b[0;34m.\u001b[0m\u001b[0m__traceback__\u001b[0m\u001b[0;34m)\u001b[0m\u001b[0;34m\u001b[0m\u001b[0;34m\u001b[0m\u001b[0m\n",
            "\u001b[0;32m/usr/local/lib/python3.8/dist-packages/keras/engine/training.py\u001b[0m in \u001b[0;36mfit\u001b[0;34m(self, x, y, batch_size, epochs, verbose, callbacks, validation_split, validation_data, shuffle, class_weight, sample_weight, initial_epoch, steps_per_epoch, validation_steps, validation_batch_size, validation_freq, max_queue_size, workers, use_multiprocessing)\u001b[0m\n\u001b[1;32m   1407\u001b[0m                 _r=1):\n\u001b[1;32m   1408\u001b[0m               \u001b[0mcallbacks\u001b[0m\u001b[0;34m.\u001b[0m\u001b[0mon_train_batch_begin\u001b[0m\u001b[0;34m(\u001b[0m\u001b[0mstep\u001b[0m\u001b[0;34m)\u001b[0m\u001b[0;34m\u001b[0m\u001b[0;34m\u001b[0m\u001b[0m\n\u001b[0;32m-> 1409\u001b[0;31m               \u001b[0mtmp_logs\u001b[0m \u001b[0;34m=\u001b[0m \u001b[0mself\u001b[0m\u001b[0;34m.\u001b[0m\u001b[0mtrain_function\u001b[0m\u001b[0;34m(\u001b[0m\u001b[0miterator\u001b[0m\u001b[0;34m)\u001b[0m\u001b[0;34m\u001b[0m\u001b[0;34m\u001b[0m\u001b[0m\n\u001b[0m\u001b[1;32m   1410\u001b[0m               \u001b[0;32mif\u001b[0m \u001b[0mdata_handler\u001b[0m\u001b[0;34m.\u001b[0m\u001b[0mshould_sync\u001b[0m\u001b[0;34m:\u001b[0m\u001b[0;34m\u001b[0m\u001b[0;34m\u001b[0m\u001b[0m\n\u001b[1;32m   1411\u001b[0m                 \u001b[0mcontext\u001b[0m\u001b[0;34m.\u001b[0m\u001b[0masync_wait\u001b[0m\u001b[0;34m(\u001b[0m\u001b[0;34m)\u001b[0m\u001b[0;34m\u001b[0m\u001b[0;34m\u001b[0m\u001b[0m\n",
            "\u001b[0;32m/usr/local/lib/python3.8/dist-packages/tensorflow/python/util/traceback_utils.py\u001b[0m in \u001b[0;36merror_handler\u001b[0;34m(*args, **kwargs)\u001b[0m\n\u001b[1;32m    148\u001b[0m     \u001b[0mfiltered_tb\u001b[0m \u001b[0;34m=\u001b[0m \u001b[0;32mNone\u001b[0m\u001b[0;34m\u001b[0m\u001b[0;34m\u001b[0m\u001b[0m\n\u001b[1;32m    149\u001b[0m     \u001b[0;32mtry\u001b[0m\u001b[0;34m:\u001b[0m\u001b[0;34m\u001b[0m\u001b[0;34m\u001b[0m\u001b[0m\n\u001b[0;32m--> 150\u001b[0;31m       \u001b[0;32mreturn\u001b[0m \u001b[0mfn\u001b[0m\u001b[0;34m(\u001b[0m\u001b[0;34m*\u001b[0m\u001b[0margs\u001b[0m\u001b[0;34m,\u001b[0m \u001b[0;34m**\u001b[0m\u001b[0mkwargs\u001b[0m\u001b[0;34m)\u001b[0m\u001b[0;34m\u001b[0m\u001b[0;34m\u001b[0m\u001b[0m\n\u001b[0m\u001b[1;32m    151\u001b[0m     \u001b[0;32mexcept\u001b[0m \u001b[0mException\u001b[0m \u001b[0;32mas\u001b[0m \u001b[0me\u001b[0m\u001b[0;34m:\u001b[0m\u001b[0;34m\u001b[0m\u001b[0;34m\u001b[0m\u001b[0m\n\u001b[1;32m    152\u001b[0m       \u001b[0mfiltered_tb\u001b[0m \u001b[0;34m=\u001b[0m \u001b[0m_process_traceback_frames\u001b[0m\u001b[0;34m(\u001b[0m\u001b[0me\u001b[0m\u001b[0;34m.\u001b[0m\u001b[0m__traceback__\u001b[0m\u001b[0;34m)\u001b[0m\u001b[0;34m\u001b[0m\u001b[0;34m\u001b[0m\u001b[0m\n",
            "\u001b[0;32m/usr/local/lib/python3.8/dist-packages/tensorflow/python/eager/def_function.py\u001b[0m in \u001b[0;36m__call__\u001b[0;34m(self, *args, **kwds)\u001b[0m\n\u001b[1;32m    913\u001b[0m \u001b[0;34m\u001b[0m\u001b[0m\n\u001b[1;32m    914\u001b[0m       \u001b[0;32mwith\u001b[0m \u001b[0mOptionalXlaContext\u001b[0m\u001b[0;34m(\u001b[0m\u001b[0mself\u001b[0m\u001b[0;34m.\u001b[0m\u001b[0m_jit_compile\u001b[0m\u001b[0;34m)\u001b[0m\u001b[0;34m:\u001b[0m\u001b[0;34m\u001b[0m\u001b[0;34m\u001b[0m\u001b[0m\n\u001b[0;32m--> 915\u001b[0;31m         \u001b[0mresult\u001b[0m \u001b[0;34m=\u001b[0m \u001b[0mself\u001b[0m\u001b[0;34m.\u001b[0m\u001b[0m_call\u001b[0m\u001b[0;34m(\u001b[0m\u001b[0;34m*\u001b[0m\u001b[0margs\u001b[0m\u001b[0;34m,\u001b[0m \u001b[0;34m**\u001b[0m\u001b[0mkwds\u001b[0m\u001b[0;34m)\u001b[0m\u001b[0;34m\u001b[0m\u001b[0;34m\u001b[0m\u001b[0m\n\u001b[0m\u001b[1;32m    916\u001b[0m \u001b[0;34m\u001b[0m\u001b[0m\n\u001b[1;32m    917\u001b[0m       \u001b[0mnew_tracing_count\u001b[0m \u001b[0;34m=\u001b[0m \u001b[0mself\u001b[0m\u001b[0;34m.\u001b[0m\u001b[0mexperimental_get_tracing_count\u001b[0m\u001b[0;34m(\u001b[0m\u001b[0;34m)\u001b[0m\u001b[0;34m\u001b[0m\u001b[0;34m\u001b[0m\u001b[0m\n",
            "\u001b[0;32m/usr/local/lib/python3.8/dist-packages/tensorflow/python/eager/def_function.py\u001b[0m in \u001b[0;36m_call\u001b[0;34m(self, *args, **kwds)\u001b[0m\n\u001b[1;32m    945\u001b[0m       \u001b[0;31m# In this case we have created variables on the first call, so we run the\u001b[0m\u001b[0;34m\u001b[0m\u001b[0;34m\u001b[0m\u001b[0;34m\u001b[0m\u001b[0m\n\u001b[1;32m    946\u001b[0m       \u001b[0;31m# defunned version which is guaranteed to never create variables.\u001b[0m\u001b[0;34m\u001b[0m\u001b[0;34m\u001b[0m\u001b[0;34m\u001b[0m\u001b[0m\n\u001b[0;32m--> 947\u001b[0;31m       \u001b[0;32mreturn\u001b[0m \u001b[0mself\u001b[0m\u001b[0;34m.\u001b[0m\u001b[0m_stateless_fn\u001b[0m\u001b[0;34m(\u001b[0m\u001b[0;34m*\u001b[0m\u001b[0margs\u001b[0m\u001b[0;34m,\u001b[0m \u001b[0;34m**\u001b[0m\u001b[0mkwds\u001b[0m\u001b[0;34m)\u001b[0m  \u001b[0;31m# pylint: disable=not-callable\u001b[0m\u001b[0;34m\u001b[0m\u001b[0;34m\u001b[0m\u001b[0m\n\u001b[0m\u001b[1;32m    948\u001b[0m     \u001b[0;32melif\u001b[0m \u001b[0mself\u001b[0m\u001b[0;34m.\u001b[0m\u001b[0m_stateful_fn\u001b[0m \u001b[0;32mis\u001b[0m \u001b[0;32mnot\u001b[0m \u001b[0;32mNone\u001b[0m\u001b[0;34m:\u001b[0m\u001b[0;34m\u001b[0m\u001b[0;34m\u001b[0m\u001b[0m\n\u001b[1;32m    949\u001b[0m       \u001b[0;31m# Release the lock early so that multiple threads can perform the call\u001b[0m\u001b[0;34m\u001b[0m\u001b[0;34m\u001b[0m\u001b[0;34m\u001b[0m\u001b[0m\n",
            "\u001b[0;32m/usr/local/lib/python3.8/dist-packages/tensorflow/python/eager/function.py\u001b[0m in \u001b[0;36m__call__\u001b[0;34m(self, *args, **kwargs)\u001b[0m\n\u001b[1;32m   2451\u001b[0m       (graph_function,\n\u001b[1;32m   2452\u001b[0m        filtered_flat_args) = self._maybe_define_function(args, kwargs)\n\u001b[0;32m-> 2453\u001b[0;31m     return graph_function._call_flat(\n\u001b[0m\u001b[1;32m   2454\u001b[0m         filtered_flat_args, captured_inputs=graph_function.captured_inputs)  # pylint: disable=protected-access\n\u001b[1;32m   2455\u001b[0m \u001b[0;34m\u001b[0m\u001b[0m\n",
            "\u001b[0;32m/usr/local/lib/python3.8/dist-packages/tensorflow/python/eager/function.py\u001b[0m in \u001b[0;36m_call_flat\u001b[0;34m(self, args, captured_inputs, cancellation_manager)\u001b[0m\n\u001b[1;32m   1858\u001b[0m         and executing_eagerly):\n\u001b[1;32m   1859\u001b[0m       \u001b[0;31m# No tape is watching; skip to running the function.\u001b[0m\u001b[0;34m\u001b[0m\u001b[0;34m\u001b[0m\u001b[0;34m\u001b[0m\u001b[0m\n\u001b[0;32m-> 1860\u001b[0;31m       return self._build_call_outputs(self._inference_function.call(\n\u001b[0m\u001b[1;32m   1861\u001b[0m           ctx, args, cancellation_manager=cancellation_manager))\n\u001b[1;32m   1862\u001b[0m     forward_backward = self._select_forward_and_backward_functions(\n",
            "\u001b[0;32m/usr/local/lib/python3.8/dist-packages/tensorflow/python/eager/function.py\u001b[0m in \u001b[0;36mcall\u001b[0;34m(self, ctx, args, cancellation_manager)\u001b[0m\n\u001b[1;32m    495\u001b[0m       \u001b[0;32mwith\u001b[0m \u001b[0m_InterpolateFunctionError\u001b[0m\u001b[0;34m(\u001b[0m\u001b[0mself\u001b[0m\u001b[0;34m)\u001b[0m\u001b[0;34m:\u001b[0m\u001b[0;34m\u001b[0m\u001b[0;34m\u001b[0m\u001b[0m\n\u001b[1;32m    496\u001b[0m         \u001b[0;32mif\u001b[0m \u001b[0mcancellation_manager\u001b[0m \u001b[0;32mis\u001b[0m \u001b[0;32mNone\u001b[0m\u001b[0;34m:\u001b[0m\u001b[0;34m\u001b[0m\u001b[0;34m\u001b[0m\u001b[0m\n\u001b[0;32m--> 497\u001b[0;31m           outputs = execute.execute(\n\u001b[0m\u001b[1;32m    498\u001b[0m               \u001b[0mstr\u001b[0m\u001b[0;34m(\u001b[0m\u001b[0mself\u001b[0m\u001b[0;34m.\u001b[0m\u001b[0msignature\u001b[0m\u001b[0;34m.\u001b[0m\u001b[0mname\u001b[0m\u001b[0;34m)\u001b[0m\u001b[0;34m,\u001b[0m\u001b[0;34m\u001b[0m\u001b[0;34m\u001b[0m\u001b[0m\n\u001b[1;32m    499\u001b[0m               \u001b[0mnum_outputs\u001b[0m\u001b[0;34m=\u001b[0m\u001b[0mself\u001b[0m\u001b[0;34m.\u001b[0m\u001b[0m_num_outputs\u001b[0m\u001b[0;34m,\u001b[0m\u001b[0;34m\u001b[0m\u001b[0;34m\u001b[0m\u001b[0m\n",
            "\u001b[0;32m/usr/local/lib/python3.8/dist-packages/tensorflow/python/eager/execute.py\u001b[0m in \u001b[0;36mquick_execute\u001b[0;34m(op_name, num_outputs, inputs, attrs, ctx, name)\u001b[0m\n\u001b[1;32m     52\u001b[0m   \u001b[0;32mtry\u001b[0m\u001b[0;34m:\u001b[0m\u001b[0;34m\u001b[0m\u001b[0;34m\u001b[0m\u001b[0m\n\u001b[1;32m     53\u001b[0m     \u001b[0mctx\u001b[0m\u001b[0;34m.\u001b[0m\u001b[0mensure_initialized\u001b[0m\u001b[0;34m(\u001b[0m\u001b[0;34m)\u001b[0m\u001b[0;34m\u001b[0m\u001b[0;34m\u001b[0m\u001b[0m\n\u001b[0;32m---> 54\u001b[0;31m     tensors = pywrap_tfe.TFE_Py_Execute(ctx._handle, device_name, op_name,\n\u001b[0m\u001b[1;32m     55\u001b[0m                                         inputs, attrs, num_outputs)\n\u001b[1;32m     56\u001b[0m   \u001b[0;32mexcept\u001b[0m \u001b[0mcore\u001b[0m\u001b[0;34m.\u001b[0m\u001b[0m_NotOkStatusException\u001b[0m \u001b[0;32mas\u001b[0m \u001b[0me\u001b[0m\u001b[0;34m:\u001b[0m\u001b[0;34m\u001b[0m\u001b[0;34m\u001b[0m\u001b[0m\n",
            "\u001b[0;31mKeyboardInterrupt\u001b[0m: "
          ]
        }
      ]
    },
    {
      "cell_type": "code",
      "execution_count": null,
      "metadata": {
        "colab": {
          "base_uri": "https://localhost:8080/"
        },
        "id": "SunhfZis0qYC",
        "outputId": "67df0f7e-addd-44c7-e3e3-1e2f87b365a3"
      },
      "outputs": [
        {
          "output_type": "stream",
          "name": "stdout",
          "text": [
            "Epoch 1/1000\n",
            "38/38 [==============================] - 48s 1s/step - loss: 1.7609 - sparse_categorical_accuracy: 0.2521 - val_loss: 1.6946 - val_sparse_categorical_accuracy: 0.4767\n",
            "Epoch 2/1000\n",
            "38/38 [==============================] - 37s 979ms/step - loss: 1.6179 - sparse_categorical_accuracy: 0.5893 - val_loss: 1.5302 - val_sparse_categorical_accuracy: 0.7093\n",
            "Epoch 3/1000\n",
            "38/38 [==============================] - 37s 980ms/step - loss: 1.4147 - sparse_categorical_accuracy: 0.6878 - val_loss: 1.3233 - val_sparse_categorical_accuracy: 0.6977\n",
            "Epoch 4/1000\n",
            "38/38 [==============================] - 37s 987ms/step - loss: 1.2047 - sparse_categorical_accuracy: 0.7078 - val_loss: 1.1303 - val_sparse_categorical_accuracy: 0.7093\n",
            "Epoch 5/1000\n",
            "38/38 [==============================] - 37s 982ms/step - loss: 1.0323 - sparse_categorical_accuracy: 0.7579 - val_loss: 0.9867 - val_sparse_categorical_accuracy: 0.7209\n",
            "Epoch 6/1000\n",
            "38/38 [==============================] - 38s 988ms/step - loss: 0.8964 - sparse_categorical_accuracy: 0.7947 - val_loss: 0.8939 - val_sparse_categorical_accuracy: 0.7326\n",
            "Epoch 7/1000\n",
            "38/38 [==============================] - 37s 981ms/step - loss: 0.7852 - sparse_categorical_accuracy: 0.8197 - val_loss: 0.8319 - val_sparse_categorical_accuracy: 0.7326\n",
            "Epoch 8/1000\n",
            "38/38 [==============================] - 37s 985ms/step - loss: 0.6981 - sparse_categorical_accuracy: 0.8297 - val_loss: 0.7620 - val_sparse_categorical_accuracy: 0.7558\n",
            "Epoch 9/1000\n",
            "38/38 [==============================] - 37s 983ms/step - loss: 0.6245 - sparse_categorical_accuracy: 0.8514 - val_loss: 0.7302 - val_sparse_categorical_accuracy: 0.7791\n",
            "Epoch 10/1000\n",
            "38/38 [==============================] - 37s 981ms/step - loss: 0.5610 - sparse_categorical_accuracy: 0.8681 - val_loss: 0.7190 - val_sparse_categorical_accuracy: 0.7674\n",
            "Epoch 11/1000\n",
            "38/38 [==============================] - 37s 985ms/step - loss: 0.5073 - sparse_categorical_accuracy: 0.8798 - val_loss: 0.6730 - val_sparse_categorical_accuracy: 0.8023\n",
            "Epoch 12/1000\n",
            "38/38 [==============================] - 37s 984ms/step - loss: 0.4582 - sparse_categorical_accuracy: 0.8932 - val_loss: 0.6607 - val_sparse_categorical_accuracy: 0.7791\n",
            "Epoch 13/1000\n",
            "38/38 [==============================] - 37s 983ms/step - loss: 0.4052 - sparse_categorical_accuracy: 0.9115 - val_loss: 0.6618 - val_sparse_categorical_accuracy: 0.7791\n",
            "Epoch 14/1000\n",
            "38/38 [==============================] - 37s 981ms/step - loss: 0.3678 - sparse_categorical_accuracy: 0.9282 - val_loss: 0.6611 - val_sparse_categorical_accuracy: 0.7674\n",
            "Epoch 15/1000\n",
            "38/38 [==============================] - 37s 983ms/step - loss: 0.3330 - sparse_categorical_accuracy: 0.9382 - val_loss: 0.6298 - val_sparse_categorical_accuracy: 0.8023\n",
            "Epoch 16/1000\n",
            "38/38 [==============================] - 37s 978ms/step - loss: 0.2878 - sparse_categorical_accuracy: 0.9516 - val_loss: 0.6325 - val_sparse_categorical_accuracy: 0.8140\n",
            "Epoch 17/1000\n",
            "38/38 [==============================] - 37s 983ms/step - loss: 0.2569 - sparse_categorical_accuracy: 0.9599 - val_loss: 0.6287 - val_sparse_categorical_accuracy: 0.8372\n",
            "Epoch 18/1000\n",
            "38/38 [==============================] - 37s 981ms/step - loss: 0.2362 - sparse_categorical_accuracy: 0.9583 - val_loss: 0.6427 - val_sparse_categorical_accuracy: 0.8256\n",
            "Epoch 19/1000\n",
            "38/38 [==============================] - 37s 983ms/step - loss: 0.2069 - sparse_categorical_accuracy: 0.9683 - val_loss: 0.6126 - val_sparse_categorical_accuracy: 0.8256\n",
            "Epoch 20/1000\n",
            "38/38 [==============================] - 37s 982ms/step - loss: 0.1870 - sparse_categorical_accuracy: 0.9733 - val_loss: 0.6539 - val_sparse_categorical_accuracy: 0.7907\n",
            "Epoch 21/1000\n",
            "38/38 [==============================] - 37s 978ms/step - loss: 0.1884 - sparse_categorical_accuracy: 0.9733 - val_loss: 0.6506 - val_sparse_categorical_accuracy: 0.8140\n",
            "Epoch 22/1000\n",
            "38/38 [==============================] - 37s 985ms/step - loss: 0.1577 - sparse_categorical_accuracy: 0.9800 - val_loss: 0.6704 - val_sparse_categorical_accuracy: 0.8023\n",
            "Epoch 23/1000\n",
            "38/38 [==============================] - 37s 977ms/step - loss: 0.1286 - sparse_categorical_accuracy: 0.9883 - val_loss: 0.6630 - val_sparse_categorical_accuracy: 0.8023\n",
            "Epoch 24/1000\n",
            "38/38 [==============================] - 37s 983ms/step - loss: 0.1100 - sparse_categorical_accuracy: 0.9917 - val_loss: 0.6460 - val_sparse_categorical_accuracy: 0.8256\n"
          ]
        }
      ],
      "source": [
        "# epochs = 1000\n",
        "# patience = 5\n",
        "\n",
        "# tf_model.compile(\n",
        "#     optimizer=tf.keras.optimizers.Adam(learning_rate=5e-6),\n",
        "#     loss=tf.keras.losses.SparseCategoricalCrossentropy(from_logits=True),\n",
        "#     metrics=tf.metrics.SparseCategoricalAccuracy()\n",
        "#     )\n",
        "\n",
        "# callback = EarlyStopping(\n",
        "#     monitor='val_loss',\n",
        "#     patience=patience,\n",
        "#     restore_best_weights=True\n",
        "#     )\n",
        "\n",
        "# history = tf_model.fit(\n",
        "#     tf_train_dataset,\n",
        "#     validation_data=tf_val_dataset, \n",
        "#     epochs=epochs,\n",
        "#     callbacks=[callback]\n",
        "#     )"
      ]
    },
    {
      "cell_type": "code",
      "execution_count": null,
      "metadata": {
        "id": "5NjkbvAyXSPy"
      },
      "outputs": [],
      "source": [
        "# tf.keras.models.save_model(\n",
        "#     tf_model, \n",
        "#     filepath='/content/drive/MyDrive/url_classification/my_model_val0.84_test0.89', \n",
        "#     overwrite=True, \n",
        "#     save_format='tf'\n",
        "#     )"
      ]
    },
    {
      "cell_type": "code",
      "execution_count": null,
      "metadata": {
        "colab": {
          "base_uri": "https://localhost:8080/"
        },
        "id": "86mOF1PLlLI0",
        "outputId": "41fd396e-1639-4878-9bca-911bc81cf1bc"
      },
      "outputs": [
        {
          "name": "stderr",
          "output_type": "stream",
          "text": [
            "WARNING:tensorflow:Skipping full serialization of Keras layer <keras.layers.regularization.dropout.Dropout object at 0x7f2f8b5438e0>, because it is not built.\n",
            "WARNING:tensorflow:Skipping full serialization of Keras layer <keras.layers.regularization.dropout.Dropout object at 0x7f2f891a1df0>, because it is not built.\n",
            "WARNING:tensorflow:Skipping full serialization of Keras layer <keras.layers.regularization.dropout.Dropout object at 0x7f2f87882310>, because it is not built.\n",
            "WARNING:tensorflow:Skipping full serialization of Keras layer <keras.layers.regularization.dropout.Dropout object at 0x7f2f8bc87880>, because it is not built.\n",
            "WARNING:tensorflow:Skipping full serialization of Keras layer <keras.layers.regularization.dropout.Dropout object at 0x7f2f8bc7c040>, because it is not built.\n",
            "WARNING:tensorflow:Skipping full serialization of Keras layer <keras.layers.regularization.dropout.Dropout object at 0x7f2f878b5b80>, because it is not built.\n",
            "WARNING:absl:Found untraced functions such as embeddings_layer_call_fn, embeddings_layer_call_and_return_conditional_losses, transformer_layer_call_fn, transformer_layer_call_and_return_conditional_losses, LayerNorm_layer_call_fn while saving (showing 5 of 164). These functions will not be directly callable after loading.\n"
          ]
        }
      ],
      "source": [
        "tf_model.save('/content/drive/MyDrive/Brew/my_model_val0.87_test0.8')"
      ]
    },
    {
      "cell_type": "code",
      "execution_count": null,
      "metadata": {
        "colab": {
          "base_uri": "https://localhost:8080/"
        },
        "id": "NQaCLUlUkkHM",
        "outputId": "380327b4-2669-4e8e-a444-80cc1ba8f9b5"
      },
      "outputs": [
        {
          "name": "stdout",
          "output_type": "stream",
          "text": [
            "/content/drive/.shortcut-targets-by-id/1vLy-uUgLo6ivB3DawGntodciS6HG1L58/url_classification\n"
          ]
        }
      ],
      "source": [
        "# ! pwd"
      ]
    },
    {
      "cell_type": "code",
      "execution_count": null,
      "metadata": {
        "id": "b07qsp-Gnele"
      },
      "outputs": [],
      "source": [
        "# tf.saved_model.save(tf_model, '/content/drive/MyDrive/Brew/my_model_delete')"
      ]
    },
    {
      "cell_type": "code",
      "execution_count": null,
      "metadata": {
        "id": "tdPtBRqXjjAx"
      },
      "outputs": [],
      "source": [
        "tf_model2 = load_model(filepath='/content/drive/MyDrive/Brew/my_model_delete') "
      ]
    },
    {
      "cell_type": "code",
      "execution_count": null,
      "metadata": {
        "id": "9EzAv2tnoE-l"
      },
      "outputs": [],
      "source": [
        "tf_model2 = tf.saved_model.load('/content/drive/MyDrive/Brew/my_model_delete')"
      ]
    },
    {
      "cell_type": "code",
      "execution_count": null,
      "metadata": {
        "colab": {
          "base_uri": "https://localhost:8080/"
        },
        "id": "xtEcqbvsozvN",
        "outputId": "bdbf0861-0a20-44a7-cdd3-3bc1da8e0444"
      },
      "outputs": [
        {
          "output_type": "stream",
          "name": "stderr",
          "text": [
            "WARNING:tensorflow:Skipping full serialization of Keras layer <keras.layers.regularization.dropout.Dropout object at 0x7fc180392640>, because it is not built.\n",
            "WARNING:tensorflow:Skipping full serialization of Keras layer <keras.layers.regularization.dropout.Dropout object at 0x7fc219b07cd0>, because it is not built.\n",
            "WARNING:tensorflow:Skipping full serialization of Keras layer <keras.layers.regularization.dropout.Dropout object at 0x7fc184920be0>, because it is not built.\n",
            "WARNING:tensorflow:Skipping full serialization of Keras layer <keras.layers.regularization.dropout.Dropout object at 0x7fc180345580>, because it is not built.\n",
            "WARNING:tensorflow:Skipping full serialization of Keras layer <keras.layers.regularization.dropout.Dropout object at 0x7fc1845bfe80>, because it is not built.\n",
            "WARNING:tensorflow:Skipping full serialization of Keras layer <keras.layers.regularization.dropout.Dropout object at 0x7fc18dfb4220>, because it is not built.\n",
            "WARNING:absl:Found untraced functions such as embeddings_layer_call_fn, embeddings_layer_call_and_return_conditional_losses, transformer_layer_call_fn, transformer_layer_call_and_return_conditional_losses, LayerNorm_layer_call_fn while saving (showing 5 of 164). These functions will not be directly callable after loading.\n"
          ]
        }
      ],
      "source": [
        "tf.keras.models.save_model(tf_model, '/content/drive/MyDrive/url_classification/my_model_val0.81_test0.85')"
      ]
    },
    {
      "cell_type": "code",
      "execution_count": null,
      "metadata": {
        "id": "PI81vL5ivl4H",
        "colab": {
          "base_uri": "https://localhost:8080/",
          "height": 336
        },
        "outputId": "75fbaf68-a4e2-4b4b-c540-6a5960ef01d4"
      },
      "outputs": [
        {
          "output_type": "error",
          "ename": "OSError",
          "evalue": "ignored",
          "traceback": [
            "\u001b[0;31m---------------------------------------------------------------------------\u001b[0m",
            "\u001b[0;31mOSError\u001b[0m                                   Traceback (most recent call last)",
            "\u001b[0;32m<ipython-input-186-041ba962a252>\u001b[0m in \u001b[0;36m<module>\u001b[0;34m\u001b[0m\n\u001b[0;32m----> 1\u001b[0;31m \u001b[0mtf_model2\u001b[0m \u001b[0;34m=\u001b[0m \u001b[0mtf\u001b[0m\u001b[0;34m.\u001b[0m\u001b[0mkeras\u001b[0m\u001b[0;34m.\u001b[0m\u001b[0mmodels\u001b[0m\u001b[0;34m.\u001b[0m\u001b[0mload_model\u001b[0m\u001b[0;34m(\u001b[0m\u001b[0mfilepath\u001b[0m\u001b[0;34m=\u001b[0m\u001b[0;34m'/content/drive/MyDrive/url_classification/my_model_val0.81_test0.85'\u001b[0m\u001b[0;34m)\u001b[0m\u001b[0;34m\u001b[0m\u001b[0;34m\u001b[0m\u001b[0m\n\u001b[0m\u001b[1;32m      2\u001b[0m \u001b[0;31m# # why doesn't it work when running the next cell with the loaded model?\u001b[0m\u001b[0;34m\u001b[0m\u001b[0;34m\u001b[0m\u001b[0;34m\u001b[0m\u001b[0m\n",
            "\u001b[0;32m/usr/local/lib/python3.8/dist-packages/keras/utils/traceback_utils.py\u001b[0m in \u001b[0;36merror_handler\u001b[0;34m(*args, **kwargs)\u001b[0m\n\u001b[1;32m     65\u001b[0m     \u001b[0;32mexcept\u001b[0m \u001b[0mException\u001b[0m \u001b[0;32mas\u001b[0m \u001b[0me\u001b[0m\u001b[0;34m:\u001b[0m  \u001b[0;31m# pylint: disable=broad-except\u001b[0m\u001b[0;34m\u001b[0m\u001b[0;34m\u001b[0m\u001b[0m\n\u001b[1;32m     66\u001b[0m       \u001b[0mfiltered_tb\u001b[0m \u001b[0;34m=\u001b[0m \u001b[0m_process_traceback_frames\u001b[0m\u001b[0;34m(\u001b[0m\u001b[0me\u001b[0m\u001b[0;34m.\u001b[0m\u001b[0m__traceback__\u001b[0m\u001b[0;34m)\u001b[0m\u001b[0;34m\u001b[0m\u001b[0;34m\u001b[0m\u001b[0m\n\u001b[0;32m---> 67\u001b[0;31m       \u001b[0;32mraise\u001b[0m \u001b[0me\u001b[0m\u001b[0;34m.\u001b[0m\u001b[0mwith_traceback\u001b[0m\u001b[0;34m(\u001b[0m\u001b[0mfiltered_tb\u001b[0m\u001b[0;34m)\u001b[0m \u001b[0;32mfrom\u001b[0m \u001b[0;32mNone\u001b[0m\u001b[0;34m\u001b[0m\u001b[0;34m\u001b[0m\u001b[0m\n\u001b[0m\u001b[1;32m     68\u001b[0m     \u001b[0;32mfinally\u001b[0m\u001b[0;34m:\u001b[0m\u001b[0;34m\u001b[0m\u001b[0;34m\u001b[0m\u001b[0m\n\u001b[1;32m     69\u001b[0m       \u001b[0;32mdel\u001b[0m \u001b[0mfiltered_tb\u001b[0m\u001b[0;34m\u001b[0m\u001b[0;34m\u001b[0m\u001b[0m\n",
            "\u001b[0;32m/usr/local/lib/python3.8/dist-packages/keras/saving/save.py\u001b[0m in \u001b[0;36mload_model\u001b[0;34m(filepath, custom_objects, compile, options)\u001b[0m\n\u001b[1;32m    204\u001b[0m         \u001b[0;32mif\u001b[0m \u001b[0misinstance\u001b[0m\u001b[0;34m(\u001b[0m\u001b[0mfilepath_str\u001b[0m\u001b[0;34m,\u001b[0m \u001b[0mstr\u001b[0m\u001b[0;34m)\u001b[0m\u001b[0;34m:\u001b[0m\u001b[0;34m\u001b[0m\u001b[0;34m\u001b[0m\u001b[0m\n\u001b[1;32m    205\u001b[0m           \u001b[0;32mif\u001b[0m \u001b[0;32mnot\u001b[0m \u001b[0mtf\u001b[0m\u001b[0;34m.\u001b[0m\u001b[0mio\u001b[0m\u001b[0;34m.\u001b[0m\u001b[0mgfile\u001b[0m\u001b[0;34m.\u001b[0m\u001b[0mexists\u001b[0m\u001b[0;34m(\u001b[0m\u001b[0mfilepath_str\u001b[0m\u001b[0;34m)\u001b[0m\u001b[0;34m:\u001b[0m\u001b[0;34m\u001b[0m\u001b[0;34m\u001b[0m\u001b[0m\n\u001b[0;32m--> 206\u001b[0;31m             \u001b[0;32mraise\u001b[0m \u001b[0mIOError\u001b[0m\u001b[0;34m(\u001b[0m\u001b[0;34mf'No file or directory found at {filepath_str}'\u001b[0m\u001b[0;34m)\u001b[0m\u001b[0;34m\u001b[0m\u001b[0;34m\u001b[0m\u001b[0m\n\u001b[0m\u001b[1;32m    207\u001b[0m \u001b[0;34m\u001b[0m\u001b[0m\n\u001b[1;32m    208\u001b[0m           \u001b[0;32mif\u001b[0m \u001b[0mtf\u001b[0m\u001b[0;34m.\u001b[0m\u001b[0mio\u001b[0m\u001b[0;34m.\u001b[0m\u001b[0mgfile\u001b[0m\u001b[0;34m.\u001b[0m\u001b[0misdir\u001b[0m\u001b[0;34m(\u001b[0m\u001b[0mfilepath_str\u001b[0m\u001b[0;34m)\u001b[0m\u001b[0;34m:\u001b[0m\u001b[0;34m\u001b[0m\u001b[0;34m\u001b[0m\u001b[0m\n",
            "\u001b[0;31mOSError\u001b[0m: No file or directory found at /content/drive/MyDrive/url_classification/my_model_val0.81_test0.85"
          ]
        }
      ],
      "source": [
        "tf_model2 = tf.keras.models.load_model(filepath='/content/drive/MyDrive/url_classification/my_model_val0.84_test0.89') \n",
        "# # why doesn't it work when running the next cell with the loaded model?"
      ]
    },
    {
      "cell_type": "code",
      "execution_count": null,
      "metadata": {
        "id": "4F0dji0QrxxZ"
      },
      "outputs": [],
      "source": [
        "custom_objects = {\"TFAutoModelForSequenceClassification\": TFAutoModelForSequenceClassification}\n",
        "\n",
        "tf_model2 = tf.keras.models.load_model('/content/drive/MyDrive/Brew/my_model_delete', custom_objects=custom_objects)"
      ]
    },
    {
      "cell_type": "code",
      "execution_count": null,
      "metadata": {
        "id": "IgyF9uA9QN2L"
      },
      "outputs": [],
      "source": [
        "# loss, train_accuracy = tf_model2.evaluate(tf_train_dataset)\n",
        "# print(\"Loss: {}\\t Train Accuracy: {}\".format(loss, train_accuracy))"
      ]
    },
    {
      "cell_type": "code",
      "execution_count": 77,
      "metadata": {
        "colab": {
          "base_uri": "https://localhost:8080/"
        },
        "id": "F1Nkbt-X4d2h",
        "outputId": "d3f99acf-6d7e-4b30-ed76-7fcb0e39578d"
      },
      "outputs": [
        {
          "output_type": "stream",
          "name": "stdout",
          "text": [
            "38/38 [==============================] - 12s 303ms/step - loss: 0.7129 - sparse_categorical_accuracy: 0.8347\n",
            "Loss: 0.7129414677619934\t Train Accuracy: 0.8347245454788208\n"
          ]
        }
      ],
      "source": [
        "loss, train_accuracy = tf_model.evaluate(tf_train_dataset)\n",
        "print(\"Loss: {}\\t Train Accuracy: {}\".format(loss, train_accuracy))"
      ]
    },
    {
      "cell_type": "code",
      "execution_count": 78,
      "metadata": {
        "colab": {
          "base_uri": "https://localhost:8080/"
        },
        "id": "tP52v3J-a7Rn",
        "outputId": "50962266-60ac-41b7-d925-099da62c3451"
      },
      "outputs": [
        {
          "output_type": "stream",
          "name": "stdout",
          "text": [
            "6/6 [==============================] - 2s 275ms/step - loss: 0.8639 - sparse_categorical_accuracy: 0.7326\n",
            "Loss: 0.8638859987258911\t Eval Accuracy: 0.7325581312179565\n"
          ]
        }
      ],
      "source": [
        "loss, eval_accuracy = tf_model.evaluate(tf_val_dataset)\n",
        "print(\"Loss: {}\\t Eval Accuracy: {}\".format(loss, eval_accuracy))"
      ]
    },
    {
      "cell_type": "code",
      "execution_count": 79,
      "metadata": {
        "colab": {
          "base_uri": "https://localhost:8080/"
        },
        "id": "RzkN9PXFaDZ9",
        "outputId": "1e83e044-9f86-420f-bbec-a3b39c5050fa"
      },
      "outputs": [
        {
          "output_type": "stream",
          "name": "stdout",
          "text": [
            "11/11 [==============================] - 3s 306ms/step - loss: 0.8307 - sparse_categorical_accuracy: 0.7791\n",
            "Loss: 0.830740749835968\t Test Accuracy: 0.7790697813034058\n"
          ]
        }
      ],
      "source": [
        "loss, test_accuracy = tf_model.evaluate(tf_test_dataset)\n",
        "print(\"Loss: {}\\t Test Accuracy: {}\".format(loss, test_accuracy))"
      ]
    },
    {
      "cell_type": "code",
      "execution_count": 80,
      "metadata": {
        "colab": {
          "base_uri": "https://localhost:8080/"
        },
        "id": "F8UVUf8Ra7V6",
        "outputId": "2da8691f-7379-4563-a46d-e3470d65d4c2"
      },
      "outputs": [
        {
          "output_type": "stream",
          "name": "stdout",
          "text": [
            "11/11 [==============================] - 5s 308ms/step\n"
          ]
        }
      ],
      "source": [
        "output_logits = tf_model.predict(tf_test_dataset).logits\n",
        "y_pred = np.argmax(output_logits, axis=-1)"
      ]
    },
    {
      "cell_type": "code",
      "execution_count": 93,
      "metadata": {
        "colab": {
          "base_uri": "https://localhost:8080/"
        },
        "id": "EMHZVSwk5NkK",
        "outputId": "a36b61ce-0fe0-46d8-f40f-89d74c2cab07"
      },
      "outputs": [
        {
          "output_type": "execute_result",
          "data": {
            "text/plain": [
              "array([[0.10250348, 0.70475256, 0.02832884, 0.0459688 , 0.04692442,\n",
              "        0.07152189],\n",
              "       [0.17751543, 0.35870397, 0.059831  , 0.06598082, 0.16091269,\n",
              "        0.17705615],\n",
              "       [0.12317823, 0.6029603 , 0.03500713, 0.09156387, 0.07884642,\n",
              "        0.06844407]], dtype=float32)"
            ]
          },
          "metadata": {},
          "execution_count": 93
        }
      ],
      "source": [
        "y_probs = tf.nn.softmax(output_logits).numpy()\n",
        "y_probs[:3]"
      ]
    },
    {
      "cell_type": "code",
      "source": [
        "print_confusion_matrix('Deep Learning', y_test, y_pred, with_report=True)"
      ],
      "metadata": {
        "colab": {
          "base_uri": "https://localhost:8080/",
          "height": 553
        },
        "id": "GHru20dze7K1",
        "outputId": "095cdfa7-19c3-4ad3-8c18-22366e875f6a"
      },
      "execution_count": null,
      "outputs": [
        {
          "output_type": "display_data",
          "data": {
            "text/plain": [
              "<Figure size 432x288 with 2 Axes>"
            ],
            "image/png": "[encoded data removed]"
          },
          "metadata": {}
        },
        {
          "output_type": "stream",
          "name": "stdout",
          "text": [
            "\n",
            "              precision    recall  f1-score   support\n",
            "\n",
            "     Article       0.64      0.41      0.50        17\n",
            "        Blog       0.90      0.88      0.89        40\n",
            "       Event       0.85      0.94      0.89        35\n",
            "        MISC       0.77      0.67      0.71        15\n",
            "          PR       0.85      0.93      0.89        30\n",
            "     Webinar       0.84      0.89      0.86        35\n",
            "\n",
            "    accuracy                           0.84       172\n",
            "   macro avg       0.81      0.79      0.79       172\n",
            "weighted avg       0.83      0.84      0.83       172\n",
            "\n"
          ]
        }
      ]
    },
    {
      "cell_type": "code",
      "source": [
        "df_mistakes = create_df_mistakes(df_text, TEXT, X_test, y_test, y_pred, y_probs)"
      ],
      "metadata": {
        "id": "CEFir8iKoxuE"
      },
      "execution_count": 95,
      "outputs": []
    },
    {
      "cell_type": "code",
      "source": [
        "df_mistakes.head()"
      ],
      "metadata": {
        "colab": {
          "base_uri": "https://localhost:8080/",
          "height": 206
        },
        "id": "sRV4PEiHozjs",
        "outputId": "6983f2b2-30aa-4026-c30d-af8434887052"
      },
      "execution_count": 99,
      "outputs": [
        {
          "output_type": "execute_result",
          "data": {
            "text/plain": [
              "                                                   url  \\\n",
              "932  http://www.zacks.com/stock/news/1348735/iqvia-...   \n",
              "713  http://www.statnews.com/2022/02/08/cvs-medable...   \n",
              "680  http://www.beckershospitalreview.com/healthcar...   \n",
              "791  http://www.calyx.ai/journal/overview-ema-lates...   \n",
              "958  http://www.outsourcing-pharma.com/Article/2021...   \n",
              "\n",
              "                                                  text   y_true  conf_true  \\\n",
              "932  IQVIA (IQV) Buys Remaining Q2 Solutions Stake,...       PR       0.16   \n",
              "713  CVS inks a deal with Medable to enroll more pa...  Article       0.06   \n",
              "680  California ends Verily COVID-19 testing partne...  Article       0.22   \n",
              "791  Overview of EMA's latest IDMP Updates in 2022....     Blog       0.06   \n",
              "958  PPD, Clinical Ink join on lupus assessment and...  Article       0.20   \n",
              "\n",
              "      y_pred  conf_pred  \n",
              "932     Blog       0.36  \n",
              "713  Webinar       0.37  \n",
              "680       PR       0.44  \n",
              "791  Webinar       0.55  \n",
              "958       PR       0.46  "
            ],
            "text/html": [
              "\n",
              "  <div id=\"df-04bb756f-a42e-4c60-a3ef-65fd77d77a25\">\n",
              "    <div class=\"colab-df-container\">\n",
              "      <div>\n",
              "<style scoped>\n",
              "    .dataframe tbody tr th:only-of-type {\n",
              "        vertical-align: middle;\n",
              "    }\n",
              "\n",
              "    .dataframe tbody tr th {\n",
              "        vertical-align: top;\n",
              "    }\n",
              "\n",
              "    .dataframe thead th {\n",
              "        text-align: right;\n",
              "    }\n",
              "</style>\n",
              "<table border=\"1\" class=\"dataframe\">\n",
              "  <thead>\n",
              "    <tr style=\"text-align: right;\">\n",
              "      <th></th>\n",
              "      <th>url</th>\n",
              "      <th>text</th>\n",
              "      <th>y_true</th>\n",
              "      <th>conf_true</th>\n",
              "      <th>y_pred</th>\n",
              "      <th>conf_pred</th>\n",
              "    </tr>\n",
              "  </thead>\n",
              "  <tbody>\n",
              "    <tr>\n",
              "      <th>932</th>\n",
              "      <td>http://www.zacks.com/stock/news/1348735/iqvia-...</td>\n",
              "      <td>IQVIA (IQV) Buys Remaining Q2 Solutions Stake,...</td>\n",
              "      <td>PR</td>\n",
              "      <td>0.16</td>\n",
              "      <td>Blog</td>\n",
              "      <td>0.36</td>\n",
              "    </tr>\n",
              "    <tr>\n",
              "      <th>713</th>\n",
              "      <td>http://www.statnews.com/2022/02/08/cvs-medable...</td>\n",
              "      <td>CVS inks a deal with Medable to enroll more pa...</td>\n",
              "      <td>Article</td>\n",
              "      <td>0.06</td>\n",
              "      <td>Webinar</td>\n",
              "      <td>0.37</td>\n",
              "    </tr>\n",
              "    <tr>\n",
              "      <th>680</th>\n",
              "      <td>http://www.beckershospitalreview.com/healthcar...</td>\n",
              "      <td>California ends Verily COVID-19 testing partne...</td>\n",
              "      <td>Article</td>\n",
              "      <td>0.22</td>\n",
              "      <td>PR</td>\n",
              "      <td>0.44</td>\n",
              "    </tr>\n",
              "    <tr>\n",
              "      <th>791</th>\n",
              "      <td>http://www.calyx.ai/journal/overview-ema-lates...</td>\n",
              "      <td>Overview of EMA's latest IDMP Updates in 2022....</td>\n",
              "      <td>Blog</td>\n",
              "      <td>0.06</td>\n",
              "      <td>Webinar</td>\n",
              "      <td>0.55</td>\n",
              "    </tr>\n",
              "    <tr>\n",
              "      <th>958</th>\n",
              "      <td>http://www.outsourcing-pharma.com/Article/2021...</td>\n",
              "      <td>PPD, Clinical Ink join on lupus assessment and...</td>\n",
              "      <td>Article</td>\n",
              "      <td>0.20</td>\n",
              "      <td>PR</td>\n",
              "      <td>0.46</td>\n",
              "    </tr>\n",
              "  </tbody>\n",
              "</table>\n",
              "</div>\n",
              "      <button class=\"colab-df-convert\" onclick=\"convertToInteractive('df-04bb756f-a42e-4c60-a3ef-65fd77d77a25')\"\n",
              "              title=\"Convert this dataframe to an interactive table.\"\n",
              "              style=\"display:none;\">\n",
              "        \n",
              "  <svg xmlns=\"http://www.w3.org/2000/svg\" height=\"24px\"viewBox=\"0 0 24 24\"\n",
              "       width=\"24px\">\n",
              "    <path d=\"M0 0h24v24H0V0z\" fill=\"none\"/>\n",
              "    <path d=\"M18.56 5.44l.94 2.06.94-2.06 2.06-.94-2.06-.94-.94-2.06-.94 2.06-2.06.94zm-11 1L8.5 8.5l.94-2.06 2.06-.94-2.06-.94L8.5 2.5l-.94 2.06-2.06.94zm10 10l.94 2.06.94-2.06 2.06-.94-2.06-.94-.94-2.06-.94 2.06-2.06.94z\"/><path d=\"M17.41 7.96l-1.37-1.37c-.4-.4-.92-.59-1.43-.59-.52 0-1.04.2-1.43.59L10.3 9.45l-7.72 7.72c-.78.78-.78 2.05 0 2.83L4 21.41c.39.39.9.59 1.41.59.51 0 1.02-.2 1.41-.59l7.78-7.78 2.81-2.81c.8-.78.8-2.07 0-2.86zM5.41 20L4 18.59l7.72-7.72 1.47 1.35L5.41 20z\"/>\n",
              "  </svg>\n",
              "      </button>\n",
              "      \n",
              "  <style>\n",
              "    .colab-df-container {\n",
              "      display:flex;\n",
              "      flex-wrap:wrap;\n",
              "      gap: 12px;\n",
              "    }\n",
              "\n",
              "    .colab-df-convert {\n",
              "      background-color: #E8F0FE;\n",
              "      border: none;\n",
              "      border-radius: 50%;\n",
              "      cursor: pointer;\n",
              "      display: none;\n",
              "      fill: #1967D2;\n",
              "      height: 32px;\n",
              "      padding: 0 0 0 0;\n",
              "      width: 32px;\n",
              "    }\n",
              "\n",
              "    .colab-df-convert:hover {\n",
              "      background-color: #E2EBFA;\n",
              "      box-shadow: 0px 1px 2px rgba(60, 64, 67, 0.3), 0px 1px 3px 1px rgba(60, 64, 67, 0.15);\n",
              "      fill: #174EA6;\n",
              "    }\n",
              "\n",
              "    [theme=dark] .colab-df-convert {\n",
              "      background-color: #3B4455;\n",
              "      fill: #D2E3FC;\n",
              "    }\n",
              "\n",
              "    [theme=dark] .colab-df-convert:hover {\n",
              "      background-color: #434B5C;\n",
              "      box-shadow: 0px 1px 3px 1px rgba(0, 0, 0, 0.15);\n",
              "      filter: drop-shadow(0px 1px 2px rgba(0, 0, 0, 0.3));\n",
              "      fill: #FFFFFF;\n",
              "    }\n",
              "  </style>\n",
              "\n",
              "      <script>\n",
              "        const buttonEl =\n",
              "          document.querySelector('#df-04bb756f-a42e-4c60-a3ef-65fd77d77a25 button.colab-df-convert');\n",
              "        buttonEl.style.display =\n",
              "          google.colab.kernel.accessAllowed ? 'block' : 'none';\n",
              "\n",
              "        async function convertToInteractive(key) {\n",
              "          const element = document.querySelector('#df-04bb756f-a42e-4c60-a3ef-65fd77d77a25');\n",
              "          const dataTable =\n",
              "            await google.colab.kernel.invokeFunction('convertToInteractive',\n",
              "                                                     [key], {});\n",
              "          if (!dataTable) return;\n",
              "\n",
              "          const docLinkHtml = 'Like what you see? Visit the ' +\n",
              "            '<a target=\"_blank\" href=https://colab.research.google.com/notebooks/data_table.ipynb>data table notebook</a>'\n",
              "            + ' to learn more about interactive tables.';\n",
              "          element.innerHTML = '';\n",
              "          dataTable['output_type'] = 'display_data';\n",
              "          await google.colab.output.renderOutput(dataTable, element);\n",
              "          const docLink = document.createElement('div');\n",
              "          docLink.innerHTML = docLinkHtml;\n",
              "          element.appendChild(docLink);\n",
              "        }\n",
              "      </script>\n",
              "    </div>\n",
              "  </div>\n",
              "  "
            ]
          },
          "metadata": {},
          "execution_count": 99
        }
      ]
    },
    {
      "cell_type": "code",
      "source": [
        "plot_distribution_of_confidences(y_test, y_pred, y_probs)"
      ],
      "metadata": {
        "colab": {
          "base_uri": "https://localhost:8080/",
          "height": 635
        },
        "id": "CEFajksOoxwm",
        "outputId": "92b8374e-a303-4ecc-c805-bb13d848e064"
      },
      "execution_count": 97,
      "outputs": [
        {
          "output_type": "stream",
          "name": "stdout",
          "text": [
            "Confidence of incorrectly classified samples \t- Median: 0.4870, Mean: 0.4846.\n",
            "Confidence of correctly classified samples \t- Median: 0.6349, Mean: 0.6061.\n",
            "\n"
          ]
        },
        {
          "output_type": "display_data",
          "data": {
            "text/plain": [
              "<Figure size 864x576 with 4 Axes>"
            ],
            "image/png": "[encoded data removed]"
          },
          "metadata": {}
        }
      ]
    },
    {
      "cell_type": "code",
      "source": [
        "print_confusion_matrix('Deep Learning', y_test, y_pred, with_report=True)"
      ],
      "metadata": {
        "colab": {
          "base_uri": "https://localhost:8080/",
          "height": 674
        },
        "id": "IhNZ_t8lX5MU",
        "outputId": "fa42dba5-1406-4213-b18c-8cc0b96e7a3d"
      },
      "execution_count": 84,
      "outputs": [
        {
          "output_type": "display_data",
          "data": {
            "text/plain": [
              "<Figure size 432x288 with 2 Axes>"
            ],
            "image/png": "[encoded data removed]"
          },
          "metadata": {
            "needs_background": "light"
          }
        },
        {
          "output_type": "stream",
          "name": "stdout",
          "text": [
            "\n",
            "              precision    recall  f1-score   support\n",
            "\n",
            "     Article       0.00      0.00      0.00        17\n",
            "        Blog       0.73      0.90      0.81        40\n",
            "       Event       0.82      0.91      0.86        35\n",
            "        MISC       0.86      0.40      0.55        15\n",
            "          PR       0.78      0.97      0.87        30\n",
            "     Webinar       0.78      0.89      0.83        35\n",
            "\n",
            "    accuracy                           0.78       172\n",
            "   macro avg       0.66      0.68      0.65       172\n",
            "weighted avg       0.71      0.78      0.73       172\n",
            "\n"
          ]
        },
        {
          "output_type": "stream",
          "name": "stderr",
          "text": [
            "/usr/local/lib/python3.8/dist-packages/sklearn/metrics/_classification.py:1318: UndefinedMetricWarning: Precision and F-score are ill-defined and being set to 0.0 in labels with no predicted samples. Use `zero_division` parameter to control this behavior.\n",
            "  _warn_prf(average, modifier, msg_start, len(result))\n",
            "/usr/local/lib/python3.8/dist-packages/sklearn/metrics/_classification.py:1318: UndefinedMetricWarning: Precision and F-score are ill-defined and being set to 0.0 in labels with no predicted samples. Use `zero_division` parameter to control this behavior.\n",
            "  _warn_prf(average, modifier, msg_start, len(result))\n",
            "/usr/local/lib/python3.8/dist-packages/sklearn/metrics/_classification.py:1318: UndefinedMetricWarning: Precision and F-score are ill-defined and being set to 0.0 in labels with no predicted samples. Use `zero_division` parameter to control this behavior.\n",
            "  _warn_prf(average, modifier, msg_start, len(result))\n"
          ]
        }
      ]
    },
    {
      "cell_type": "code",
      "execution_count": 100,
      "metadata": {
        "id": "_dtgr5-GDOcg"
      },
      "outputs": [],
      "source": [
        "save_variables({'df_mistakes_distilbert_nn': df_mistakes})"
      ]
    }
  ],
  "metadata": {
    "colab": {
      "collapsed_sections": [
        "ETBiYhSFxLNt",
        "iLz28NRNt37B",
        "4GwHtk5on9DE",
        "LYi72BOuqFgy",
        "qQDm4AyuDZuC",
        "5G9XYkHXS-VR",
        "GdUa4JQWiS-j",
        "W3WHVdpY2x8u",
        "0gmbS9VMU4qb",
        "NiNNjVFqWwB0",
        "uZwWQnXV5mhk",
        "aTICn2Pbqsdk"
      ],
      "provenance": []
    },
    "gpuClass": "standard",
    "kernelspec": {
      "display_name": "Python 3",
      "name": "python3"
    },
    "language_info": {
      "name": "python"
    },
    "widgets": {
      "application/vnd.jupyter.widget-state+json": {
        "e8f77f7628de4d09ac20c4329a6e3ecd": {
          "model_module": "@jupyter-widgets/controls",
          "model_name": "HBoxModel",
          "model_module_version": "1.5.0",
          "state": {
            "_dom_classes": [],
            "_model_module": "@jupyter-widgets/controls",
            "_model_module_version": "1.5.0",
            "_model_name": "HBoxModel",
            "_view_count": null,
            "_view_module": "@jupyter-widgets/controls",
            "_view_module_version": "1.5.0",
            "_view_name": "HBoxView",
            "box_style": "",
            "children": [
              "IPY_MODEL_27983d77f7b847a3aa5dfc8b8387dbc6",
              "IPY_MODEL_f052cb8c89d84b7eb89c6602b31652f3",
              "IPY_MODEL_dcc617df21d84bd68c94e7d0c15cd058"
            ],
            "layout": "IPY_MODEL_c1f325bfc204407d99aa4c35ec44b765"
          }
        },
        "27983d77f7b847a3aa5dfc8b8387dbc6": {
          "model_module": "@jupyter-widgets/controls",
          "model_name": "HTMLModel",
          "model_module_version": "1.5.0",
          "state": {
            "_dom_classes": [],
            "_model_module": "@jupyter-widgets/controls",
            "_model_module_version": "1.5.0",
            "_model_name": "HTMLModel",
            "_view_count": null,
            "_view_module": "@jupyter-widgets/controls",
            "_view_module_version": "1.5.0",
            "_view_name": "HTMLView",
            "description": "",
            "description_tooltip": null,
            "layout": "IPY_MODEL_bb169d72650c4f68b49f2318faf8b3f3",
            "placeholder": "​",
            "style": "IPY_MODEL_072446c1b485477d89baafa469781699",
            "value": "100%"
          }
        },
        "f052cb8c89d84b7eb89c6602b31652f3": {
          "model_module": "@jupyter-widgets/controls",
          "model_name": "FloatProgressModel",
          "model_module_version": "1.5.0",
          "state": {
            "_dom_classes": [],
            "_model_module": "@jupyter-widgets/controls",
            "_model_module_version": "1.5.0",
            "_model_name": "FloatProgressModel",
            "_view_count": null,
            "_view_module": "@jupyter-widgets/controls",
            "_view_module_version": "1.5.0",
            "_view_name": "ProgressView",
            "bar_style": "success",
            "description": "",
            "description_tooltip": null,
            "layout": "IPY_MODEL_6bb733ed5ca84bb09c59b340516de287",
            "max": 1,
            "min": 0,
            "orientation": "horizontal",
            "style": "IPY_MODEL_7b3b5f958ff54cd5a1c25d06e014a709",
            "value": 1
          }
        },
        "dcc617df21d84bd68c94e7d0c15cd058": {
          "model_module": "@jupyter-widgets/controls",
          "model_name": "HTMLModel",
          "model_module_version": "1.5.0",
          "state": {
            "_dom_classes": [],
            "_model_module": "@jupyter-widgets/controls",
            "_model_module_version": "1.5.0",
            "_model_name": "HTMLModel",
            "_view_count": null,
            "_view_module": "@jupyter-widgets/controls",
            "_view_module_version": "1.5.0",
            "_view_name": "HTMLView",
            "description": "",
            "description_tooltip": null,
            "layout": "IPY_MODEL_afb0bf1f9475431eb7077d9d98df9c22",
            "placeholder": "​",
            "style": "IPY_MODEL_a66a6d04e4ac45238d42f60e4b4178c4",
            "value": " 1/1 [00:02&lt;00:00,  2.28s/ba]"
          }
        },
        "c1f325bfc204407d99aa4c35ec44b765": {
          "model_module": "@jupyter-widgets/base",
          "model_name": "LayoutModel",
          "model_module_version": "1.2.0",
          "state": {
            "_model_module": "@jupyter-widgets/base",
            "_model_module_version": "1.2.0",
            "_model_name": "LayoutModel",
            "_view_count": null,
            "_view_module": "@jupyter-widgets/base",
            "_view_module_version": "1.2.0",
            "_view_name": "LayoutView",
            "align_content": null,
            "align_items": null,
            "align_self": null,
            "border": null,
            "bottom": null,
            "display": null,
            "flex": null,
            "flex_flow": null,
            "grid_area": null,
            "grid_auto_columns": null,
            "grid_auto_flow": null,
            "grid_auto_rows": null,
            "grid_column": null,
            "grid_gap": null,
            "grid_row": null,
            "grid_template_areas": null,
            "grid_template_columns": null,
            "grid_template_rows": null,
            "height": null,
            "justify_content": null,
            "justify_items": null,
            "left": null,
            "margin": null,
            "max_height": null,
            "max_width": null,
            "min_height": null,
            "min_width": null,
            "object_fit": null,
            "object_position": null,
            "order": null,
            "overflow": null,
            "overflow_x": null,
            "overflow_y": null,
            "padding": null,
            "right": null,
            "top": null,
            "visibility": null,
            "width": null
          }
        },
        "bb169d72650c4f68b49f2318faf8b3f3": {
          "model_module": "@jupyter-widgets/base",
          "model_name": "LayoutModel",
          "model_module_version": "1.2.0",
          "state": {
            "_model_module": "@jupyter-widgets/base",
            "_model_module_version": "1.2.0",
            "_model_name": "LayoutModel",
            "_view_count": null,
            "_view_module": "@jupyter-widgets/base",
            "_view_module_version": "1.2.0",
            "_view_name": "LayoutView",
            "align_content": null,
            "align_items": null,
            "align_self": null,
            "border": null,
            "bottom": null,
            "display": null,
            "flex": null,
            "flex_flow": null,
            "grid_area": null,
            "grid_auto_columns": null,
            "grid_auto_flow": null,
            "grid_auto_rows": null,
            "grid_column": null,
            "grid_gap": null,
            "grid_row": null,
            "grid_template_areas": null,
            "grid_template_columns": null,
            "grid_template_rows": null,
            "height": null,
            "justify_content": null,
            "justify_items": null,
            "left": null,
            "margin": null,
            "max_height": null,
            "max_width": null,
            "min_height": null,
            "min_width": null,
            "object_fit": null,
            "object_position": null,
            "order": null,
            "overflow": null,
            "overflow_x": null,
            "overflow_y": null,
            "padding": null,
            "right": null,
            "top": null,
            "visibility": null,
            "width": null
          }
        },
        "072446c1b485477d89baafa469781699": {
          "model_module": "@jupyter-widgets/controls",
          "model_name": "DescriptionStyleModel",
          "model_module_version": "1.5.0",
          "state": {
            "_model_module": "@jupyter-widgets/controls",
            "_model_module_version": "1.5.0",
            "_model_name": "DescriptionStyleModel",
            "_view_count": null,
            "_view_module": "@jupyter-widgets/base",
            "_view_module_version": "1.2.0",
            "_view_name": "StyleView",
            "description_width": ""
          }
        },
        "6bb733ed5ca84bb09c59b340516de287": {
          "model_module": "@jupyter-widgets/base",
          "model_name": "LayoutModel",
          "model_module_version": "1.2.0",
          "state": {
            "_model_module": "@jupyter-widgets/base",
            "_model_module_version": "1.2.0",
            "_model_name": "LayoutModel",
            "_view_count": null,
            "_view_module": "@jupyter-widgets/base",
            "_view_module_version": "1.2.0",
            "_view_name": "LayoutView",
            "align_content": null,
            "align_items": null,
            "align_self": null,
            "border": null,
            "bottom": null,
            "display": null,
            "flex": null,
            "flex_flow": null,
            "grid_area": null,
            "grid_auto_columns": null,
            "grid_auto_flow": null,
            "grid_auto_rows": null,
            "grid_column": null,
            "grid_gap": null,
            "grid_row": null,
            "grid_template_areas": null,
            "grid_template_columns": null,
            "grid_template_rows": null,
            "height": null,
            "justify_content": null,
            "justify_items": null,
            "left": null,
            "margin": null,
            "max_height": null,
            "max_width": null,
            "min_height": null,
            "min_width": null,
            "object_fit": null,
            "object_position": null,
            "order": null,
            "overflow": null,
            "overflow_x": null,
            "overflow_y": null,
            "padding": null,
            "right": null,
            "top": null,
            "visibility": null,
            "width": null
          }
        },
        "7b3b5f958ff54cd5a1c25d06e014a709": {
          "model_module": "@jupyter-widgets/controls",
          "model_name": "ProgressStyleModel",
          "model_module_version": "1.5.0",
          "state": {
            "_model_module": "@jupyter-widgets/controls",
            "_model_module_version": "1.5.0",
            "_model_name": "ProgressStyleModel",
            "_view_count": null,
            "_view_module": "@jupyter-widgets/base",
            "_view_module_version": "1.2.0",
            "_view_name": "StyleView",
            "bar_color": null,
            "description_width": ""
          }
        },
        "afb0bf1f9475431eb7077d9d98df9c22": {
          "model_module": "@jupyter-widgets/base",
          "model_name": "LayoutModel",
          "model_module_version": "1.2.0",
          "state": {
            "_model_module": "@jupyter-widgets/base",
            "_model_module_version": "1.2.0",
            "_model_name": "LayoutModel",
            "_view_count": null,
            "_view_module": "@jupyter-widgets/base",
            "_view_module_version": "1.2.0",
            "_view_name": "LayoutView",
            "align_content": null,
            "align_items": null,
            "align_self": null,
            "border": null,
            "bottom": null,
            "display": null,
            "flex": null,
            "flex_flow": null,
            "grid_area": null,
            "grid_auto_columns": null,
            "grid_auto_flow": null,
            "grid_auto_rows": null,
            "grid_column": null,
            "grid_gap": null,
            "grid_row": null,
            "grid_template_areas": null,
            "grid_template_columns": null,
            "grid_template_rows": null,
            "height": null,
            "justify_content": null,
            "justify_items": null,
            "left": null,
            "margin": null,
            "max_height": null,
            "max_width": null,
            "min_height": null,
            "min_width": null,
            "object_fit": null,
            "object_position": null,
            "order": null,
            "overflow": null,
            "overflow_x": null,
            "overflow_y": null,
            "padding": null,
            "right": null,
            "top": null,
            "visibility": null,
            "width": null
          }
        },
        "a66a6d04e4ac45238d42f60e4b4178c4": {
          "model_module": "@jupyter-widgets/controls",
          "model_name": "DescriptionStyleModel",
          "model_module_version": "1.5.0",
          "state": {
            "_model_module": "@jupyter-widgets/controls",
            "_model_module_version": "1.5.0",
            "_model_name": "DescriptionStyleModel",
            "_view_count": null,
            "_view_module": "@jupyter-widgets/base",
            "_view_module_version": "1.2.0",
            "_view_name": "StyleView",
            "description_width": ""
          }
        },
        "303f3bbe8e1e4d649730cd30edf52489": {
          "model_module": "@jupyter-widgets/controls",
          "model_name": "HBoxModel",
          "model_module_version": "1.5.0",
          "state": {
            "_dom_classes": [],
            "_model_module": "@jupyter-widgets/controls",
            "_model_module_version": "1.5.0",
            "_model_name": "HBoxModel",
            "_view_count": null,
            "_view_module": "@jupyter-widgets/controls",
            "_view_module_version": "1.5.0",
            "_view_name": "HBoxView",
            "box_style": "",
            "children": [
              "IPY_MODEL_9552f0d04ecb41c68840eeedb530770c",
              "IPY_MODEL_a3a7bd7edefe469aa2b625adb8a60e6e",
              "IPY_MODEL_e0f09e78a02b4aaa9454e342c2524c4e"
            ],
            "layout": "IPY_MODEL_45b3935ff069469a8d9a2bb52781f262"
          }
        },
        "9552f0d04ecb41c68840eeedb530770c": {
          "model_module": "@jupyter-widgets/controls",
          "model_name": "HTMLModel",
          "model_module_version": "1.5.0",
          "state": {
            "_dom_classes": [],
            "_model_module": "@jupyter-widgets/controls",
            "_model_module_version": "1.5.0",
            "_model_name": "HTMLModel",
            "_view_count": null,
            "_view_module": "@jupyter-widgets/controls",
            "_view_module_version": "1.5.0",
            "_view_name": "HTMLView",
            "description": "",
            "description_tooltip": null,
            "layout": "IPY_MODEL_03610e8016e14d2d848ba7a93cc1f41e",
            "placeholder": "​",
            "style": "IPY_MODEL_c4c61600fd1e4921a615a00f6f5cc2ef",
            "value": "100%"
          }
        },
        "a3a7bd7edefe469aa2b625adb8a60e6e": {
          "model_module": "@jupyter-widgets/controls",
          "model_name": "FloatProgressModel",
          "model_module_version": "1.5.0",
          "state": {
            "_dom_classes": [],
            "_model_module": "@jupyter-widgets/controls",
            "_model_module_version": "1.5.0",
            "_model_name": "FloatProgressModel",
            "_view_count": null,
            "_view_module": "@jupyter-widgets/controls",
            "_view_module_version": "1.5.0",
            "_view_name": "ProgressView",
            "bar_style": "success",
            "description": "",
            "description_tooltip": null,
            "layout": "IPY_MODEL_ec752ac20b89410ba29c69a917105e2e",
            "max": 1,
            "min": 0,
            "orientation": "horizontal",
            "style": "IPY_MODEL_ef155fb3f5b446b18b1d2c3aaa288c1b",
            "value": 1
          }
        },
        "e0f09e78a02b4aaa9454e342c2524c4e": {
          "model_module": "@jupyter-widgets/controls",
          "model_name": "HTMLModel",
          "model_module_version": "1.5.0",
          "state": {
            "_dom_classes": [],
            "_model_module": "@jupyter-widgets/controls",
            "_model_module_version": "1.5.0",
            "_model_name": "HTMLModel",
            "_view_count": null,
            "_view_module": "@jupyter-widgets/controls",
            "_view_module_version": "1.5.0",
            "_view_name": "HTMLView",
            "description": "",
            "description_tooltip": null,
            "layout": "IPY_MODEL_a7ac58dd24ca4b17b9f23ab09a06e50c",
            "placeholder": "​",
            "style": "IPY_MODEL_a382322e9a6e4a94854133a21f9164c8",
            "value": " 1/1 [00:00&lt;00:00,  1.31ba/s]"
          }
        },
        "45b3935ff069469a8d9a2bb52781f262": {
          "model_module": "@jupyter-widgets/base",
          "model_name": "LayoutModel",
          "model_module_version": "1.2.0",
          "state": {
            "_model_module": "@jupyter-widgets/base",
            "_model_module_version": "1.2.0",
            "_model_name": "LayoutModel",
            "_view_count": null,
            "_view_module": "@jupyter-widgets/base",
            "_view_module_version": "1.2.0",
            "_view_name": "LayoutView",
            "align_content": null,
            "align_items": null,
            "align_self": null,
            "border": null,
            "bottom": null,
            "display": null,
            "flex": null,
            "flex_flow": null,
            "grid_area": null,
            "grid_auto_columns": null,
            "grid_auto_flow": null,
            "grid_auto_rows": null,
            "grid_column": null,
            "grid_gap": null,
            "grid_row": null,
            "grid_template_areas": null,
            "grid_template_columns": null,
            "grid_template_rows": null,
            "height": null,
            "justify_content": null,
            "justify_items": null,
            "left": null,
            "margin": null,
            "max_height": null,
            "max_width": null,
            "min_height": null,
            "min_width": null,
            "object_fit": null,
            "object_position": null,
            "order": null,
            "overflow": null,
            "overflow_x": null,
            "overflow_y": null,
            "padding": null,
            "right": null,
            "top": null,
            "visibility": null,
            "width": null
          }
        },
        "03610e8016e14d2d848ba7a93cc1f41e": {
          "model_module": "@jupyter-widgets/base",
          "model_name": "LayoutModel",
          "model_module_version": "1.2.0",
          "state": {
            "_model_module": "@jupyter-widgets/base",
            "_model_module_version": "1.2.0",
            "_model_name": "LayoutModel",
            "_view_count": null,
            "_view_module": "@jupyter-widgets/base",
            "_view_module_version": "1.2.0",
            "_view_name": "LayoutView",
            "align_content": null,
            "align_items": null,
            "align_self": null,
            "border": null,
            "bottom": null,
            "display": null,
            "flex": null,
            "flex_flow": null,
            "grid_area": null,
            "grid_auto_columns": null,
            "grid_auto_flow": null,
            "grid_auto_rows": null,
            "grid_column": null,
            "grid_gap": null,
            "grid_row": null,
            "grid_template_areas": null,
            "grid_template_columns": null,
            "grid_template_rows": null,
            "height": null,
            "justify_content": null,
            "justify_items": null,
            "left": null,
            "margin": null,
            "max_height": null,
            "max_width": null,
            "min_height": null,
            "min_width": null,
            "object_fit": null,
            "object_position": null,
            "order": null,
            "overflow": null,
            "overflow_x": null,
            "overflow_y": null,
            "padding": null,
            "right": null,
            "top": null,
            "visibility": null,
            "width": null
          }
        },
        "c4c61600fd1e4921a615a00f6f5cc2ef": {
          "model_module": "@jupyter-widgets/controls",
          "model_name": "DescriptionStyleModel",
          "model_module_version": "1.5.0",
          "state": {
            "_model_module": "@jupyter-widgets/controls",
            "_model_module_version": "1.5.0",
            "_model_name": "DescriptionStyleModel",
            "_view_count": null,
            "_view_module": "@jupyter-widgets/base",
            "_view_module_version": "1.2.0",
            "_view_name": "StyleView",
            "description_width": ""
          }
        },
        "ec752ac20b89410ba29c69a917105e2e": {
          "model_module": "@jupyter-widgets/base",
          "model_name": "LayoutModel",
          "model_module_version": "1.2.0",
          "state": {
            "_model_module": "@jupyter-widgets/base",
            "_model_module_version": "1.2.0",
            "_model_name": "LayoutModel",
            "_view_count": null,
            "_view_module": "@jupyter-widgets/base",
            "_view_module_version": "1.2.0",
            "_view_name": "LayoutView",
            "align_content": null,
            "align_items": null,
            "align_self": null,
            "border": null,
            "bottom": null,
            "display": null,
            "flex": null,
            "flex_flow": null,
            "grid_area": null,
            "grid_auto_columns": null,
            "grid_auto_flow": null,
            "grid_auto_rows": null,
            "grid_column": null,
            "grid_gap": null,
            "grid_row": null,
            "grid_template_areas": null,
            "grid_template_columns": null,
            "grid_template_rows": null,
            "height": null,
            "justify_content": null,
            "justify_items": null,
            "left": null,
            "margin": null,
            "max_height": null,
            "max_width": null,
            "min_height": null,
            "min_width": null,
            "object_fit": null,
            "object_position": null,
            "order": null,
            "overflow": null,
            "overflow_x": null,
            "overflow_y": null,
            "padding": null,
            "right": null,
            "top": null,
            "visibility": null,
            "width": null
          }
        },
        "ef155fb3f5b446b18b1d2c3aaa288c1b": {
          "model_module": "@jupyter-widgets/controls",
          "model_name": "ProgressStyleModel",
          "model_module_version": "1.5.0",
          "state": {
            "_model_module": "@jupyter-widgets/controls",
            "_model_module_version": "1.5.0",
            "_model_name": "ProgressStyleModel",
            "_view_count": null,
            "_view_module": "@jupyter-widgets/base",
            "_view_module_version": "1.2.0",
            "_view_name": "StyleView",
            "bar_color": null,
            "description_width": ""
          }
        },
        "a7ac58dd24ca4b17b9f23ab09a06e50c": {
          "model_module": "@jupyter-widgets/base",
          "model_name": "LayoutModel",
          "model_module_version": "1.2.0",
          "state": {
            "_model_module": "@jupyter-widgets/base",
            "_model_module_version": "1.2.0",
            "_model_name": "LayoutModel",
            "_view_count": null,
            "_view_module": "@jupyter-widgets/base",
            "_view_module_version": "1.2.0",
            "_view_name": "LayoutView",
            "align_content": null,
            "align_items": null,
            "align_self": null,
            "border": null,
            "bottom": null,
            "display": null,
            "flex": null,
            "flex_flow": null,
            "grid_area": null,
            "grid_auto_columns": null,
            "grid_auto_flow": null,
            "grid_auto_rows": null,
            "grid_column": null,
            "grid_gap": null,
            "grid_row": null,
            "grid_template_areas": null,
            "grid_template_columns": null,
            "grid_template_rows": null,
            "height": null,
            "justify_content": null,
            "justify_items": null,
            "left": null,
            "margin": null,
            "max_height": null,
            "max_width": null,
            "min_height": null,
            "min_width": null,
            "object_fit": null,
            "object_position": null,
            "order": null,
            "overflow": null,
            "overflow_x": null,
            "overflow_y": null,
            "padding": null,
            "right": null,
            "top": null,
            "visibility": null,
            "width": null
          }
        },
        "a382322e9a6e4a94854133a21f9164c8": {
          "model_module": "@jupyter-widgets/controls",
          "model_name": "DescriptionStyleModel",
          "model_module_version": "1.5.0",
          "state": {
            "_model_module": "@jupyter-widgets/controls",
            "_model_module_version": "1.5.0",
            "_model_name": "DescriptionStyleModel",
            "_view_count": null,
            "_view_module": "@jupyter-widgets/base",
            "_view_module_version": "1.2.0",
            "_view_name": "StyleView",
            "description_width": ""
          }
        },
        "c3a94e89b77b4372b2744ead4a72ace4": {
          "model_module": "@jupyter-widgets/controls",
          "model_name": "HBoxModel",
          "model_module_version": "1.5.0",
          "state": {
            "_dom_classes": [],
            "_model_module": "@jupyter-widgets/controls",
            "_model_module_version": "1.5.0",
            "_model_name": "HBoxModel",
            "_view_count": null,
            "_view_module": "@jupyter-widgets/controls",
            "_view_module_version": "1.5.0",
            "_view_name": "HBoxView",
            "box_style": "",
            "children": [
              "IPY_MODEL_ff3c28c3c7e645a78045f8f12ebfdc71",
              "IPY_MODEL_583c179b0c324bee9012fe1b4e705fd1",
              "IPY_MODEL_be56d853d5a2457fb244c2db643f6634"
            ],
            "layout": "IPY_MODEL_59f17d6db02f494c94026988d3ec45c4"
          }
        },
        "ff3c28c3c7e645a78045f8f12ebfdc71": {
          "model_module": "@jupyter-widgets/controls",
          "model_name": "HTMLModel",
          "model_module_version": "1.5.0",
          "state": {
            "_dom_classes": [],
            "_model_module": "@jupyter-widgets/controls",
            "_model_module_version": "1.5.0",
            "_model_name": "HTMLModel",
            "_view_count": null,
            "_view_module": "@jupyter-widgets/controls",
            "_view_module_version": "1.5.0",
            "_view_name": "HTMLView",
            "description": "",
            "description_tooltip": null,
            "layout": "IPY_MODEL_b596a0f352fe49e7bc2a292a2be2f835",
            "placeholder": "​",
            "style": "IPY_MODEL_cd90c68dae244114a3e6c1bf637bef11",
            "value": "100%"
          }
        },
        "583c179b0c324bee9012fe1b4e705fd1": {
          "model_module": "@jupyter-widgets/controls",
          "model_name": "FloatProgressModel",
          "model_module_version": "1.5.0",
          "state": {
            "_dom_classes": [],
            "_model_module": "@jupyter-widgets/controls",
            "_model_module_version": "1.5.0",
            "_model_name": "FloatProgressModel",
            "_view_count": null,
            "_view_module": "@jupyter-widgets/controls",
            "_view_module_version": "1.5.0",
            "_view_name": "ProgressView",
            "bar_style": "success",
            "description": "",
            "description_tooltip": null,
            "layout": "IPY_MODEL_1a997d0ea01b4ca9a0dfac5ef3b0ef6d",
            "max": 1,
            "min": 0,
            "orientation": "horizontal",
            "style": "IPY_MODEL_97c1e32e528049a38d4a59b48e3f2b41",
            "value": 1
          }
        },
        "be56d853d5a2457fb244c2db643f6634": {
          "model_module": "@jupyter-widgets/controls",
          "model_name": "HTMLModel",
          "model_module_version": "1.5.0",
          "state": {
            "_dom_classes": [],
            "_model_module": "@jupyter-widgets/controls",
            "_model_module_version": "1.5.0",
            "_model_name": "HTMLModel",
            "_view_count": null,
            "_view_module": "@jupyter-widgets/controls",
            "_view_module_version": "1.5.0",
            "_view_name": "HTMLView",
            "description": "",
            "description_tooltip": null,
            "layout": "IPY_MODEL_1b57f07689844ed4a75abd117480aca9",
            "placeholder": "​",
            "style": "IPY_MODEL_2964e421ff794b72ab8a4d67ab41461b",
            "value": " 1/1 [00:00&lt;00:00,  2.13ba/s]"
          }
        },
        "59f17d6db02f494c94026988d3ec45c4": {
          "model_module": "@jupyter-widgets/base",
          "model_name": "LayoutModel",
          "model_module_version": "1.2.0",
          "state": {
            "_model_module": "@jupyter-widgets/base",
            "_model_module_version": "1.2.0",
            "_model_name": "LayoutModel",
            "_view_count": null,
            "_view_module": "@jupyter-widgets/base",
            "_view_module_version": "1.2.0",
            "_view_name": "LayoutView",
            "align_content": null,
            "align_items": null,
            "align_self": null,
            "border": null,
            "bottom": null,
            "display": null,
            "flex": null,
            "flex_flow": null,
            "grid_area": null,
            "grid_auto_columns": null,
            "grid_auto_flow": null,
            "grid_auto_rows": null,
            "grid_column": null,
            "grid_gap": null,
            "grid_row": null,
            "grid_template_areas": null,
            "grid_template_columns": null,
            "grid_template_rows": null,
            "height": null,
            "justify_content": null,
            "justify_items": null,
            "left": null,
            "margin": null,
            "max_height": null,
            "max_width": null,
            "min_height": null,
            "min_width": null,
            "object_fit": null,
            "object_position": null,
            "order": null,
            "overflow": null,
            "overflow_x": null,
            "overflow_y": null,
            "padding": null,
            "right": null,
            "top": null,
            "visibility": null,
            "width": null
          }
        },
        "b596a0f352fe49e7bc2a292a2be2f835": {
          "model_module": "@jupyter-widgets/base",
          "model_name": "LayoutModel",
          "model_module_version": "1.2.0",
          "state": {
            "_model_module": "@jupyter-widgets/base",
            "_model_module_version": "1.2.0",
            "_model_name": "LayoutModel",
            "_view_count": null,
            "_view_module": "@jupyter-widgets/base",
            "_view_module_version": "1.2.0",
            "_view_name": "LayoutView",
            "align_content": null,
            "align_items": null,
            "align_self": null,
            "border": null,
            "bottom": null,
            "display": null,
            "flex": null,
            "flex_flow": null,
            "grid_area": null,
            "grid_auto_columns": null,
            "grid_auto_flow": null,
            "grid_auto_rows": null,
            "grid_column": null,
            "grid_gap": null,
            "grid_row": null,
            "grid_template_areas": null,
            "grid_template_columns": null,
            "grid_template_rows": null,
            "height": null,
            "justify_content": null,
            "justify_items": null,
            "left": null,
            "margin": null,
            "max_height": null,
            "max_width": null,
            "min_height": null,
            "min_width": null,
            "object_fit": null,
            "object_position": null,
            "order": null,
            "overflow": null,
            "overflow_x": null,
            "overflow_y": null,
            "padding": null,
            "right": null,
            "top": null,
            "visibility": null,
            "width": null
          }
        },
        "cd90c68dae244114a3e6c1bf637bef11": {
          "model_module": "@jupyter-widgets/controls",
          "model_name": "DescriptionStyleModel",
          "model_module_version": "1.5.0",
          "state": {
            "_model_module": "@jupyter-widgets/controls",
            "_model_module_version": "1.5.0",
            "_model_name": "DescriptionStyleModel",
            "_view_count": null,
            "_view_module": "@jupyter-widgets/base",
            "_view_module_version": "1.2.0",
            "_view_name": "StyleView",
            "description_width": ""
          }
        },
        "1a997d0ea01b4ca9a0dfac5ef3b0ef6d": {
          "model_module": "@jupyter-widgets/base",
          "model_name": "LayoutModel",
          "model_module_version": "1.2.0",
          "state": {
            "_model_module": "@jupyter-widgets/base",
            "_model_module_version": "1.2.0",
            "_model_name": "LayoutModel",
            "_view_count": null,
            "_view_module": "@jupyter-widgets/base",
            "_view_module_version": "1.2.0",
            "_view_name": "LayoutView",
            "align_content": null,
            "align_items": null,
            "align_self": null,
            "border": null,
            "bottom": null,
            "display": null,
            "flex": null,
            "flex_flow": null,
            "grid_area": null,
            "grid_auto_columns": null,
            "grid_auto_flow": null,
            "grid_auto_rows": null,
            "grid_column": null,
            "grid_gap": null,
            "grid_row": null,
            "grid_template_areas": null,
            "grid_template_columns": null,
            "grid_template_rows": null,
            "height": null,
            "justify_content": null,
            "justify_items": null,
            "left": null,
            "margin": null,
            "max_height": null,
            "max_width": null,
            "min_height": null,
            "min_width": null,
            "object_fit": null,
            "object_position": null,
            "order": null,
            "overflow": null,
            "overflow_x": null,
            "overflow_y": null,
            "padding": null,
            "right": null,
            "top": null,
            "visibility": null,
            "width": null
          }
        },
        "97c1e32e528049a38d4a59b48e3f2b41": {
          "model_module": "@jupyter-widgets/controls",
          "model_name": "ProgressStyleModel",
          "model_module_version": "1.5.0",
          "state": {
            "_model_module": "@jupyter-widgets/controls",
            "_model_module_version": "1.5.0",
            "_model_name": "ProgressStyleModel",
            "_view_count": null,
            "_view_module": "@jupyter-widgets/base",
            "_view_module_version": "1.2.0",
            "_view_name": "StyleView",
            "bar_color": null,
            "description_width": ""
          }
        },
        "1b57f07689844ed4a75abd117480aca9": {
          "model_module": "@jupyter-widgets/base",
          "model_name": "LayoutModel",
          "model_module_version": "1.2.0",
          "state": {
            "_model_module": "@jupyter-widgets/base",
            "_model_module_version": "1.2.0",
            "_model_name": "LayoutModel",
            "_view_count": null,
            "_view_module": "@jupyter-widgets/base",
            "_view_module_version": "1.2.0",
            "_view_name": "LayoutView",
            "align_content": null,
            "align_items": null,
            "align_self": null,
            "border": null,
            "bottom": null,
            "display": null,
            "flex": null,
            "flex_flow": null,
            "grid_area": null,
            "grid_auto_columns": null,
            "grid_auto_flow": null,
            "grid_auto_rows": null,
            "grid_column": null,
            "grid_gap": null,
            "grid_row": null,
            "grid_template_areas": null,
            "grid_template_columns": null,
            "grid_template_rows": null,
            "height": null,
            "justify_content": null,
            "justify_items": null,
            "left": null,
            "margin": null,
            "max_height": null,
            "max_width": null,
            "min_height": null,
            "min_width": null,
            "object_fit": null,
            "object_position": null,
            "order": null,
            "overflow": null,
            "overflow_x": null,
            "overflow_y": null,
            "padding": null,
            "right": null,
            "top": null,
            "visibility": null,
            "width": null
          }
        },
        "2964e421ff794b72ab8a4d67ab41461b": {
          "model_module": "@jupyter-widgets/controls",
          "model_name": "DescriptionStyleModel",
          "model_module_version": "1.5.0",
          "state": {
            "_model_module": "@jupyter-widgets/controls",
            "_model_module_version": "1.5.0",
            "_model_name": "DescriptionStyleModel",
            "_view_count": null,
            "_view_module": "@jupyter-widgets/base",
            "_view_module_version": "1.2.0",
            "_view_name": "StyleView",
            "description_width": ""
          }
        }
      }
    },
    "accelerator": "GPU"
  },
  "nbformat": 4,
  "nbformat_minor": 0
}