{
  "nbformat": 4,
  "nbformat_minor": 0,
  "metadata": {
    "colab": {
      "provenance": []
    },
    "kernelspec": {
      "name": "python3",
      "display_name": "Python 3"
    },
    "language_info": {
      "name": "python"
    }
  },
  "cells": [
    {
      "cell_type": "markdown",
      "source": [
        "# Setup"
      ],
      "metadata": {
        "id": "ETBiYhSFxLNt"
      }
    },
    {
      "cell_type": "code",
      "execution_count": 2,
      "metadata": {
        "colab": {
          "base_uri": "https://localhost:8080/"
        },
        "id": "-QLU-43EwevJ",
        "outputId": "05bd68ee-0919-4254-dab5-3f7a86c24ad0"
      },
      "outputs": [
        {
          "output_type": "stream",
          "name": "stdout",
          "text": [
            "Looking in indexes: https://pypi.org/simple, https://us-python.pkg.dev/colab-wheels/public/simple/\n",
            "Collecting transformers\n",
            "  Downloading transformers-4.25.1-py3-none-any.whl (5.8 MB)\n",
            "\u001b[K     |████████████████████████████████| 5.8 MB 6.7 MB/s \n",
            "\u001b[?25hCollecting newspaper3k\n",
            "  Downloading newspaper3k-0.2.8-py3-none-any.whl (211 kB)\n",
            "\u001b[K     |████████████████████████████████| 211 kB 50.9 MB/s \n",
            "\u001b[?25hCollecting huggingface-hub<1.0,>=0.10.0\n",
            "  Downloading huggingface_hub-0.11.1-py3-none-any.whl (182 kB)\n",
            "\u001b[K     |████████████████████████████████| 182 kB 52.9 MB/s \n",
            "\u001b[?25hRequirement already satisfied: filelock in /usr/local/lib/python3.8/dist-packages (from transformers) (3.8.0)\n",
            "Requirement already satisfied: requests in /usr/local/lib/python3.8/dist-packages (from transformers) (2.23.0)\n",
            "Requirement already satisfied: pyyaml>=5.1 in /usr/local/lib/python3.8/dist-packages (from transformers) (6.0)\n",
            "Requirement already satisfied: packaging>=20.0 in /usr/local/lib/python3.8/dist-packages (from transformers) (21.3)\n",
            "Requirement already satisfied: tqdm>=4.27 in /usr/local/lib/python3.8/dist-packages (from transformers) (4.64.1)\n",
            "Requirement already satisfied: regex!=2019.12.17 in /usr/local/lib/python3.8/dist-packages (from transformers) (2022.6.2)\n",
            "Collecting tokenizers!=0.11.3,<0.14,>=0.11.1\n",
            "  Downloading tokenizers-0.13.2-cp38-cp38-manylinux_2_17_x86_64.manylinux2014_x86_64.whl (7.6 MB)\n",
            "\u001b[K     |████████████████████████████████| 7.6 MB 44.1 MB/s \n",
            "\u001b[?25hRequirement already satisfied: numpy>=1.17 in /usr/local/lib/python3.8/dist-packages (from transformers) (1.21.6)\n",
            "Requirement already satisfied: typing-extensions>=3.7.4.3 in /usr/local/lib/python3.8/dist-packages (from huggingface-hub<1.0,>=0.10.0->transformers) (4.4.0)\n",
            "Requirement already satisfied: pyparsing!=3.0.5,>=2.0.2 in /usr/local/lib/python3.8/dist-packages (from packaging>=20.0->transformers) (3.0.9)\n",
            "Requirement already satisfied: Pillow>=3.3.0 in /usr/local/lib/python3.8/dist-packages (from newspaper3k) (7.1.2)\n",
            "Collecting jieba3k>=0.35.1\n",
            "  Downloading jieba3k-0.35.1.zip (7.4 MB)\n",
            "\u001b[K     |████████████████████████████████| 7.4 MB 38.7 MB/s \n",
            "\u001b[?25hRequirement already satisfied: beautifulsoup4>=4.4.1 in /usr/local/lib/python3.8/dist-packages (from newspaper3k) (4.6.3)\n",
            "Requirement already satisfied: nltk>=3.2.1 in /usr/local/lib/python3.8/dist-packages (from newspaper3k) (3.7)\n",
            "Requirement already satisfied: python-dateutil>=2.5.3 in /usr/local/lib/python3.8/dist-packages (from newspaper3k) (2.8.2)\n",
            "Requirement already satisfied: lxml>=3.6.0 in /usr/local/lib/python3.8/dist-packages (from newspaper3k) (4.9.1)\n",
            "Collecting tinysegmenter==0.3\n",
            "  Downloading tinysegmenter-0.3.tar.gz (16 kB)\n",
            "Collecting tldextract>=2.0.1\n",
            "  Downloading tldextract-3.4.0-py3-none-any.whl (93 kB)\n",
            "\u001b[K     |████████████████████████████████| 93 kB 2.5 MB/s \n",
            "\u001b[?25hCollecting feedfinder2>=0.0.4\n",
            "  Downloading feedfinder2-0.0.4.tar.gz (3.3 kB)\n",
            "Collecting cssselect>=0.9.2\n",
            "  Downloading cssselect-1.2.0-py2.py3-none-any.whl (18 kB)\n",
            "Collecting feedparser>=5.2.1\n",
            "  Downloading feedparser-6.0.10-py3-none-any.whl (81 kB)\n",
            "\u001b[K     |████████████████████████████████| 81 kB 4.2 MB/s \n",
            "\u001b[?25hRequirement already satisfied: six in /usr/local/lib/python3.8/dist-packages (from feedfinder2>=0.0.4->newspaper3k) (1.15.0)\n",
            "Collecting sgmllib3k\n",
            "  Downloading sgmllib3k-1.0.0.tar.gz (5.8 kB)\n",
            "Requirement already satisfied: click in /usr/local/lib/python3.8/dist-packages (from nltk>=3.2.1->newspaper3k) (7.1.2)\n",
            "Requirement already satisfied: joblib in /usr/local/lib/python3.8/dist-packages (from nltk>=3.2.1->newspaper3k) (1.2.0)\n",
            "Requirement already satisfied: certifi>=2017.4.17 in /usr/local/lib/python3.8/dist-packages (from requests->transformers) (2022.9.24)\n",
            "Requirement already satisfied: chardet<4,>=3.0.2 in /usr/local/lib/python3.8/dist-packages (from requests->transformers) (3.0.4)\n",
            "Requirement already satisfied: urllib3!=1.25.0,!=1.25.1,<1.26,>=1.21.1 in /usr/local/lib/python3.8/dist-packages (from requests->transformers) (1.24.3)\n",
            "Requirement already satisfied: idna<3,>=2.5 in /usr/local/lib/python3.8/dist-packages (from requests->transformers) (2.10)\n",
            "Collecting requests-file>=1.4\n",
            "  Downloading requests_file-1.5.1-py2.py3-none-any.whl (3.7 kB)\n",
            "Building wheels for collected packages: tinysegmenter, feedfinder2, jieba3k, sgmllib3k\n",
            "  Building wheel for tinysegmenter (setup.py) ... \u001b[?25l\u001b[?25hdone\n",
            "  Created wheel for tinysegmenter: filename=tinysegmenter-0.3-py3-none-any.whl size=13552 sha256=e1c1e28aee2b10d346f3c802fae0e52e4dea57dbfc6efe63d9273a1fbc42fac4\n",
            "  Stored in directory: /root/.cache/pip/wheels/99/74/83/8fac1c8d9c648cfabebbbffe97a889f6624817f3aa0bbe6c09\n",
            "  Building wheel for feedfinder2 (setup.py) ... \u001b[?25l\u001b[?25hdone\n",
            "  Created wheel for feedfinder2: filename=feedfinder2-0.0.4-py3-none-any.whl size=3354 sha256=5b8106b588fc6e37750cd556d598e1eb81e2f6f43464f0038c247b1eee412277\n",
            "  Stored in directory: /root/.cache/pip/wheels/b6/09/68/a9f15498ac02c23dde29f18745bc6a6f574ba4ab41861a3575\n",
            "  Building wheel for jieba3k (setup.py) ... \u001b[?25l\u001b[?25hdone\n",
            "  Created wheel for jieba3k: filename=jieba3k-0.35.1-py3-none-any.whl size=7398405 sha256=9c7e2ce2f8287ca84f45dea2e86ff84064fd7cee8c4b7d1f4253ce3dba06c30f\n",
            "  Stored in directory: /root/.cache/pip/wheels/1f/7e/0c/54f3b0f5164278677899f2db08f2b07943ce2d024a3c862afb\n",
            "  Building wheel for sgmllib3k (setup.py) ... \u001b[?25l\u001b[?25hdone\n",
            "  Created wheel for sgmllib3k: filename=sgmllib3k-1.0.0-py3-none-any.whl size=6066 sha256=cdc62ca77adc37c0dcba1c4136857cd1751b7f8c79eda1ef09f2ef0aa32254bf\n",
            "  Stored in directory: /root/.cache/pip/wheels/83/63/2f/117884c3b19d46b64d3d61690333aa80c88dc14050e269c546\n",
            "Successfully built tinysegmenter feedfinder2 jieba3k sgmllib3k\n",
            "Installing collected packages: sgmllib3k, requests-file, tokenizers, tldextract, tinysegmenter, jieba3k, huggingface-hub, feedparser, feedfinder2, cssselect, transformers, newspaper3k\n",
            "Successfully installed cssselect-1.2.0 feedfinder2-0.0.4 feedparser-6.0.10 huggingface-hub-0.11.1 jieba3k-0.35.1 newspaper3k-0.2.8 requests-file-1.5.1 sgmllib3k-1.0.0 tinysegmenter-0.3 tldextract-3.4.0 tokenizers-0.13.2 transformers-4.25.1\n"
          ]
        }
      ],
      "source": [
        "! pip install transformers newspaper3k"
      ]
    },
    {
      "cell_type": "code",
      "source": [
        "# ! python -m spacy download en_core_web_sm"
      ],
      "metadata": {
        "id": "JafpZ0eZwmbM"
      },
      "execution_count": 3,
      "outputs": []
    },
    {
      "cell_type": "code",
      "source": [
        "import os\n",
        "import re\n",
        "import pandas as pd\n",
        "import numpy as np\n",
        "import matplotlib.pyplot as plt\n",
        "import spacy\n",
        "from tqdm import tqdm\n",
        "from newspaper import Article\n",
        "from collections import Counter\n",
        "from sklearn.model_selection import train_test_split\n",
        "from sklearn.preprocessing import OneHotEncoder, OrdinalEncoder\n",
        "from sklearn.feature_extraction.text import CountVectorizer, TfidfVectorizer\n",
        "from sklearn.linear_model import LogisticRegression\n",
        "from sklearn.svm import SVC\n",
        "from sklearn.ensemble import RandomForestClassifier\n",
        "from sklearn.neighbors import KNeighborsClassifier\n",
        "from sklearn.naive_bayes import MultinomialNB\n",
        "from sklearn.model_selection import GridSearchCV\n",
        "from sklearn.metrics import ConfusionMatrixDisplay\n",
        "from sklearn.metrics import classification_report\n",
        "from transformers import pipeline\n",
        "from nltk.tokenize import word_tokenize\n",
        "from nltk.stem.porter import *\n",
        "from nltk.corpus import stopwords\n",
        "import nltk\n",
        "nltk.download('punkt')\n",
        "nltk.download('stopwords')"
      ],
      "metadata": {
        "colab": {
          "base_uri": "https://localhost:8080/"
        },
        "id": "GNOP_xBSwpM9",
        "outputId": "6256eea8-4432-479a-b0e9-46de494d18a0"
      },
      "execution_count": 35,
      "outputs": [
        {
          "output_type": "stream",
          "name": "stderr",
          "text": [
            "[nltk_data] Downloading package punkt to /root/nltk_data...\n",
            "[nltk_data]   Package punkt is already up-to-date!\n",
            "[nltk_data] Downloading package stopwords to /root/nltk_data...\n",
            "[nltk_data]   Package stopwords is already up-to-date!\n"
          ]
        },
        {
          "output_type": "execute_result",
          "data": {
            "text/plain": [
              "True"
            ]
          },
          "metadata": {},
          "execution_count": 35
        }
      ]
    },
    {
      "cell_type": "code",
      "source": [
        "from google.colab import drive\n",
        "drive.mount('/content/drive', force_remount=True)"
      ],
      "metadata": {
        "colab": {
          "base_uri": "https://localhost:8080/"
        },
        "id": "eXRjeKlWwsL9",
        "outputId": "11c51dc4-8cdd-440d-c849-556a8b3bb970"
      },
      "execution_count": 5,
      "outputs": [
        {
          "output_type": "stream",
          "name": "stdout",
          "text": [
            "Mounted at /content/drive\n"
          ]
        }
      ]
    },
    {
      "cell_type": "code",
      "source": [
        "MAIN_FOLDER = '/content/drive/MyDrive/url_classification/'\n",
        "HTML_FOLDER = MAIN_FOLDER + 'html_files_Nov-24-2022/'\n",
        "os.chdir(MAIN_FOLDER)"
      ],
      "metadata": {
        "id": "yDXkNQiWwvNc"
      },
      "execution_count": 6,
      "outputs": []
    },
    {
      "cell_type": "markdown",
      "source": [
        "# Preprocessing"
      ],
      "metadata": {
        "id": "y7bwAKRlUWFn"
      }
    },
    {
      "cell_type": "code",
      "source": [
        "TARGET = 'label'\n",
        "TEXT = 'text'\n",
        "STOPWORDS = set(stopwords.words('english'))\n",
        "nlp = spacy.load('en_core_web_sm')"
      ],
      "metadata": {
        "id": "yjrwhtCawyPC"
      },
      "execution_count": 172,
      "outputs": []
    },
    {
      "cell_type": "code",
      "source": [
        "# Constants that will disappear when transitioning to functions:\n",
        "# Cell 1\n",
        "html_folder = HTML_FOLDER\n",
        "# Cell 2\n",
        "csv_path = 'url_classification_temporary481.csv'\n",
        "usecols = ['File Name', 'Label']"
      ],
      "metadata": {
        "id": "9z0GPcPMyKH8"
      },
      "execution_count": 8,
      "outputs": []
    },
    {
      "cell_type": "code",
      "source": [
        "# Important cell # 1\n",
        "html_files = os.listdir(html_folder)"
      ],
      "metadata": {
        "id": "WmL38EDmw010"
      },
      "execution_count": 9,
      "outputs": []
    },
    {
      "cell_type": "code",
      "source": [
        "# Important cell # 2\n",
        "\n",
        "df = pd.read_csv(csv_path, usecols=usecols)\n",
        "df.rename(columns={usecols[0]: 'filename', usecols[1]: 'label'}, inplace=True)\n",
        "df = df[~df['filename'].isna()]\n",
        "print(f'Original shape: {df.shape}')\n",
        "df = df[df['label'] != '-']\n",
        "df.reset_index(drop=True, inplace=True)\n",
        "print(f'Final shape: {df.shape}')"
      ],
      "metadata": {
        "colab": {
          "base_uri": "https://localhost:8080/"
        },
        "id": "hwDprEpnxbjn",
        "outputId": "6e62779a-fd9e-476e-d853-c2038e680522"
      },
      "execution_count": 10,
      "outputs": [
        {
          "output_type": "stream",
          "name": "stdout",
          "text": [
            "Original shape: (480, 2)\n",
            "Final shape: (410, 2)\n"
          ]
        }
      ]
    },
    {
      "cell_type": "code",
      "source": [
        "# Important cell # 3\n",
        "df[TARGET].value_counts(normalize=False)"
      ],
      "metadata": {
        "colab": {
          "base_uri": "https://localhost:8080/"
        },
        "id": "dVNIK1Woysxl",
        "outputId": "1b0a59d1-3340-4dfe-d713-55530fd227d8"
      },
      "execution_count": 11,
      "outputs": [
        {
          "output_type": "execute_result",
          "data": {
            "text/plain": [
              "Home Page        143\n",
              "Blog              79\n",
              "MISC              74\n",
              "Product Page      41\n",
              "Article           32\n",
              "Event             15\n",
              "White Paper       12\n",
              "Education          6\n",
              "?                  3\n",
              "Press Release      2\n",
              "Video Content      1\n",
              "About Page         1\n",
              "Publication        1\n",
              "Name: label, dtype: int64"
            ]
          },
          "metadata": {},
          "execution_count": 11
        }
      ]
    },
    {
      "cell_type": "code",
      "source": [
        "# Important cell # 4\n",
        "filenames = df['filename'].values\n",
        "htmls = list()\n",
        "\n",
        "for i, filename in enumerate(filenames):\n",
        "  try:\n",
        "    with open(f'{HTML_FOLDER}{filename}') as f:\n",
        "      html = f.read()\n",
        "      htmls.append(html)\n",
        "  except FileNotFoundError:\n",
        "    print(f'File {i} not found: \"{filename}\"')"
      ],
      "metadata": {
        "id": "9ZTbA0dAy6ro"
      },
      "execution_count": 12,
      "outputs": []
    },
    {
      "cell_type": "code",
      "source": [
        "# Important cell # 5\n",
        "toi_articles = list()\n",
        "\n",
        "for html in htmls:\n",
        "  toi_article = Article(url = ' ', language = \"en\")\n",
        "  toi_article.set_html(html)\n",
        "  toi_article.parse()\n",
        "  toi_article.nlp()\n",
        "  toi_articles.append(toi_article)"
      ],
      "metadata": {
        "id": "gJaab-K1zYiK"
      },
      "execution_count": 13,
      "outputs": []
    },
    {
      "cell_type": "code",
      "source": [
        "# Important cell # 6\n",
        "y = df[TARGET].tolist()"
      ],
      "metadata": {
        "id": "2c3an8110IRS"
      },
      "execution_count": 136,
      "outputs": []
    },
    {
      "cell_type": "code",
      "source": [
        "# Important cell # 7\n",
        "summaries = [(toi_article.title + '. ' + toi_article.summary).replace('\\n', ' ') for toi_article in toi_articles]"
      ],
      "metadata": {
        "id": "4_1z6sdX0Ouh"
      },
      "execution_count": 137,
      "outputs": []
    },
    {
      "cell_type": "code",
      "source": [
        "len(y), len(summaries)"
      ],
      "metadata": {
        "colab": {
          "base_uri": "https://localhost:8080/"
        },
        "id": "OgBKazGq24_W",
        "outputId": "315b178b-f4a1-4d84-d211-5475292c2e9b"
      },
      "execution_count": 138,
      "outputs": [
        {
          "output_type": "execute_result",
          "data": {
            "text/plain": [
              "(410, 410)"
            ]
          },
          "metadata": {},
          "execution_count": 138
        }
      ]
    },
    {
      "cell_type": "code",
      "source": [
        "# Cell 8\n",
        "minimum_words = 30 \n",
        "maximum_classes = 4\n",
        "\n",
        "# Important cell # 8\n",
        "df_text = pd.DataFrame({TEXT: summaries, TARGET: y})\n",
        "\n",
        "if minimum_words:\n",
        "  df_text = df_text[df_text[TEXT].str.split().str.len() > minimum_words]\n",
        "\n",
        "if maximum_classes:\n",
        "  relevant_labels = df_text[TARGET].value_counts()[:maximum_classes].index\n",
        "  df_text = df_text[df_text[TARGET].isin(relevant_labels)]\n",
        "  \n",
        "df_text.reset_index(drop=True, inplace=True)"
      ],
      "metadata": {
        "id": "xw-rz_bJ0bGT"
      },
      "execution_count": 139,
      "outputs": []
    },
    {
      "cell_type": "code",
      "source": [
        "df_text"
      ],
      "metadata": {
        "colab": {
          "base_uri": "https://localhost:8080/",
          "height": 424
        },
        "id": "UW5qXkQu07TV",
        "outputId": "39a90855-46c1-4fc4-ff4b-b929fde68b01"
      },
      "execution_count": 140,
      "outputs": [
        {
          "output_type": "execute_result",
          "data": {
            "text/plain": [
              "                                                  text      label\n",
              "0    Write For Us. We allow you an endless opportun...       MISC\n",
              "1    Write for Us. If you’ve got an idea that will ...       MISC\n",
              "2    FAQs for some new features available in the Be...       Blog\n",
              "3    The Web Credibility Project. Our research in W...  Home Page\n",
              "4    Model DJs for Retail. DJPeoples is the nation’...       MISC\n",
              "..                                                 ...        ...\n",
              "291  Geniuz Media. The USPS is undoubtedly one of t...  Home Page\n",
              "292  Submit Guest Post. Do you have any compelling ...       MISC\n",
              "293  Digital Marketing & Entrepreneurship Blog. Why...       MISC\n",
              "294  Real Estate, Fashion, Software, Travel. I acce...       MISC\n",
              "295  Amateur Bloggers Guide To WordPress For Start ...  Home Page\n",
              "\n",
              "[296 rows x 2 columns]"
            ],
            "text/html": [
              "\n",
              "  <div id=\"df-4d06f830-6ba2-4605-9d44-4e372ffacb6b\">\n",
              "    <div class=\"colab-df-container\">\n",
              "      <div>\n",
              "<style scoped>\n",
              "    .dataframe tbody tr th:only-of-type {\n",
              "        vertical-align: middle;\n",
              "    }\n",
              "\n",
              "    .dataframe tbody tr th {\n",
              "        vertical-align: top;\n",
              "    }\n",
              "\n",
              "    .dataframe thead th {\n",
              "        text-align: right;\n",
              "    }\n",
              "</style>\n",
              "<table border=\"1\" class=\"dataframe\">\n",
              "  <thead>\n",
              "    <tr style=\"text-align: right;\">\n",
              "      <th></th>\n",
              "      <th>text</th>\n",
              "      <th>label</th>\n",
              "    </tr>\n",
              "  </thead>\n",
              "  <tbody>\n",
              "    <tr>\n",
              "      <th>0</th>\n",
              "      <td>Write For Us. We allow you an endless opportun...</td>\n",
              "      <td>MISC</td>\n",
              "    </tr>\n",
              "    <tr>\n",
              "      <th>1</th>\n",
              "      <td>Write for Us. If you’ve got an idea that will ...</td>\n",
              "      <td>MISC</td>\n",
              "    </tr>\n",
              "    <tr>\n",
              "      <th>2</th>\n",
              "      <td>FAQs for some new features available in the Be...</td>\n",
              "      <td>Blog</td>\n",
              "    </tr>\n",
              "    <tr>\n",
              "      <th>3</th>\n",
              "      <td>The Web Credibility Project. Our research in W...</td>\n",
              "      <td>Home Page</td>\n",
              "    </tr>\n",
              "    <tr>\n",
              "      <th>4</th>\n",
              "      <td>Model DJs for Retail. DJPeoples is the nation’...</td>\n",
              "      <td>MISC</td>\n",
              "    </tr>\n",
              "    <tr>\n",
              "      <th>...</th>\n",
              "      <td>...</td>\n",
              "      <td>...</td>\n",
              "    </tr>\n",
              "    <tr>\n",
              "      <th>291</th>\n",
              "      <td>Geniuz Media. The USPS is undoubtedly one of t...</td>\n",
              "      <td>Home Page</td>\n",
              "    </tr>\n",
              "    <tr>\n",
              "      <th>292</th>\n",
              "      <td>Submit Guest Post. Do you have any compelling ...</td>\n",
              "      <td>MISC</td>\n",
              "    </tr>\n",
              "    <tr>\n",
              "      <th>293</th>\n",
              "      <td>Digital Marketing &amp; Entrepreneurship Blog. Why...</td>\n",
              "      <td>MISC</td>\n",
              "    </tr>\n",
              "    <tr>\n",
              "      <th>294</th>\n",
              "      <td>Real Estate, Fashion, Software, Travel. I acce...</td>\n",
              "      <td>MISC</td>\n",
              "    </tr>\n",
              "    <tr>\n",
              "      <th>295</th>\n",
              "      <td>Amateur Bloggers Guide To WordPress For Start ...</td>\n",
              "      <td>Home Page</td>\n",
              "    </tr>\n",
              "  </tbody>\n",
              "</table>\n",
              "<p>296 rows × 2 columns</p>\n",
              "</div>\n",
              "      <button class=\"colab-df-convert\" onclick=\"convertToInteractive('df-4d06f830-6ba2-4605-9d44-4e372ffacb6b')\"\n",
              "              title=\"Convert this dataframe to an interactive table.\"\n",
              "              style=\"display:none;\">\n",
              "        \n",
              "  <svg xmlns=\"http://www.w3.org/2000/svg\" height=\"24px\"viewBox=\"0 0 24 24\"\n",
              "       width=\"24px\">\n",
              "    <path d=\"M0 0h24v24H0V0z\" fill=\"none\"/>\n",
              "    <path d=\"M18.56 5.44l.94 2.06.94-2.06 2.06-.94-2.06-.94-.94-2.06-.94 2.06-2.06.94zm-11 1L8.5 8.5l.94-2.06 2.06-.94-2.06-.94L8.5 2.5l-.94 2.06-2.06.94zm10 10l.94 2.06.94-2.06 2.06-.94-2.06-.94-.94-2.06-.94 2.06-2.06.94z\"/><path d=\"M17.41 7.96l-1.37-1.37c-.4-.4-.92-.59-1.43-.59-.52 0-1.04.2-1.43.59L10.3 9.45l-7.72 7.72c-.78.78-.78 2.05 0 2.83L4 21.41c.39.39.9.59 1.41.59.51 0 1.02-.2 1.41-.59l7.78-7.78 2.81-2.81c.8-.78.8-2.07 0-2.86zM5.41 20L4 18.59l7.72-7.72 1.47 1.35L5.41 20z\"/>\n",
              "  </svg>\n",
              "      </button>\n",
              "      \n",
              "  <style>\n",
              "    .colab-df-container {\n",
              "      display:flex;\n",
              "      flex-wrap:wrap;\n",
              "      gap: 12px;\n",
              "    }\n",
              "\n",
              "    .colab-df-convert {\n",
              "      background-color: #E8F0FE;\n",
              "      border: none;\n",
              "      border-radius: 50%;\n",
              "      cursor: pointer;\n",
              "      display: none;\n",
              "      fill: #1967D2;\n",
              "      height: 32px;\n",
              "      padding: 0 0 0 0;\n",
              "      width: 32px;\n",
              "    }\n",
              "\n",
              "    .colab-df-convert:hover {\n",
              "      background-color: #E2EBFA;\n",
              "      box-shadow: 0px 1px 2px rgba(60, 64, 67, 0.3), 0px 1px 3px 1px rgba(60, 64, 67, 0.15);\n",
              "      fill: #174EA6;\n",
              "    }\n",
              "\n",
              "    [theme=dark] .colab-df-convert {\n",
              "      background-color: #3B4455;\n",
              "      fill: #D2E3FC;\n",
              "    }\n",
              "\n",
              "    [theme=dark] .colab-df-convert:hover {\n",
              "      background-color: #434B5C;\n",
              "      box-shadow: 0px 1px 3px 1px rgba(0, 0, 0, 0.15);\n",
              "      filter: drop-shadow(0px 1px 2px rgba(0, 0, 0, 0.3));\n",
              "      fill: #FFFFFF;\n",
              "    }\n",
              "  </style>\n",
              "\n",
              "      <script>\n",
              "        const buttonEl =\n",
              "          document.querySelector('#df-4d06f830-6ba2-4605-9d44-4e372ffacb6b button.colab-df-convert');\n",
              "        buttonEl.style.display =\n",
              "          google.colab.kernel.accessAllowed ? 'block' : 'none';\n",
              "\n",
              "        async function convertToInteractive(key) {\n",
              "          const element = document.querySelector('#df-4d06f830-6ba2-4605-9d44-4e372ffacb6b');\n",
              "          const dataTable =\n",
              "            await google.colab.kernel.invokeFunction('convertToInteractive',\n",
              "                                                     [key], {});\n",
              "          if (!dataTable) return;\n",
              "\n",
              "          const docLinkHtml = 'Like what you see? Visit the ' +\n",
              "            '<a target=\"_blank\" href=https://colab.research.google.com/notebooks/data_table.ipynb>data table notebook</a>'\n",
              "            + ' to learn more about interactive tables.';\n",
              "          element.innerHTML = '';\n",
              "          dataTable['output_type'] = 'display_data';\n",
              "          await google.colab.output.renderOutput(dataTable, element);\n",
              "          const docLink = document.createElement('div');\n",
              "          docLink.innerHTML = docLinkHtml;\n",
              "          element.appendChild(docLink);\n",
              "        }\n",
              "      </script>\n",
              "    </div>\n",
              "  </div>\n",
              "  "
            ]
          },
          "metadata": {},
          "execution_count": 140
        }
      ]
    },
    {
      "cell_type": "code",
      "source": [
        "# Cell 9\n",
        "test_size = 0.2\n",
        "random_state = 0\n",
        "\n",
        "# Important cell # 8\n",
        "REPLACE_BY_SPACE_RE = re.compile('[/(){}\\[\\]\\|@,;]')\n",
        "BAD_SYMBOLS_RE = re.compile('[^0-9a-z #+_]')\n",
        "STOPWORDS = set(stopwords.words('english'))\n",
        "\n",
        "def clean_text(text):\n",
        "    \"\"\"\n",
        "        text: a string\n",
        "        \n",
        "        return: modified initial string\n",
        "    \"\"\"\n",
        "    \n",
        "    text = text.lower() # lowercase text\n",
        "    text = REPLACE_BY_SPACE_RE.sub(' ', text) # replace REPLACE_BY_SPACE_RE symbols by space in text\n",
        "    text = BAD_SYMBOLS_RE.sub('', text) # delete symbols which are in BAD_SYMBOLS_RE from text\n",
        "    text = ' '.join(word for word in text.split() if word not in STOPWORDS) # delete stopwords from text\n",
        "\n",
        "    # nlp = load_nlp()\n",
        "    # text = ' '.join(token.lemma_ for token in nlp(text))\n",
        "\n",
        "    return text\n",
        "\n",
        "print(f\"Amount of words before cleaning text: {df_text[TEXT].apply(lambda x: len(x.split(' '))).sum()}\")\n",
        "df_text['cleaned_text'] = df_text[TEXT].apply(clean_text)\n",
        "print(f\"Amount of words after cleaning text: {df_text['cleaned_text'].apply(lambda x: len(x.split(' '))).sum()}\")"
      ],
      "metadata": {
        "colab": {
          "base_uri": "https://localhost:8080/"
        },
        "id": "2G8LfNta1B9g",
        "outputId": "071124b1-7839-4369-f3f9-a790eb0d3c17"
      },
      "execution_count": 141,
      "outputs": [
        {
          "output_type": "stream",
          "name": "stdout",
          "text": [
            "Amount of words before cleaning text: 28575\n",
            "Amount of words after cleaning text: 17497\n"
          ]
        }
      ]
    },
    {
      "cell_type": "code",
      "source": [
        "def lemmatize_text(text):\n",
        "    lemmatized = ' '.join(token.lemma_ for token in nlp(text))\n",
        "    return lemmatized\n",
        "\n",
        "print(f\"Amount of words before lemmatizing text: {df_text[TEXT].apply(lambda x: len(x.split(' '))).sum()}\")\n",
        "df_text['lemmatized_text'] = df_text[TEXT].apply(lemmatize_text)\n",
        "print(f\"Amount of words after lemmatizing text: {df_text['lemmatized_text'].apply(lambda x: len(x.split(' '))).sum()}\")"
      ],
      "metadata": {
        "colab": {
          "base_uri": "https://localhost:8080/"
        },
        "id": "hbDdNryGEPLc",
        "outputId": "69a0de7b-a183-459e-928a-b04d579f765e"
      },
      "execution_count": 180,
      "outputs": [
        {
          "output_type": "stream",
          "name": "stdout",
          "text": [
            "Amount of words before lemmatizing text: 28575\n",
            "Amount of words after lemmatizing text: 33447\n"
          ]
        }
      ]
    },
    {
      "cell_type": "code",
      "source": [
        "df_text"
      ],
      "metadata": {
        "colab": {
          "base_uri": "https://localhost:8080/",
          "height": 424
        },
        "id": "eeLI8c9iGYlU",
        "outputId": "500d3410-71cd-4150-df17-772320adcb4f"
      },
      "execution_count": 181,
      "outputs": [
        {
          "output_type": "execute_result",
          "data": {
            "text/plain": [
              "                                                  text      label  \\\n",
              "0    Write For Us. We allow you an endless opportun...       MISC   \n",
              "1    Write for Us. If you’ve got an idea that will ...       MISC   \n",
              "2    FAQs for some new features available in the Be...       Blog   \n",
              "3    The Web Credibility Project. Our research in W...  Home Page   \n",
              "4    Model DJs for Retail. DJPeoples is the nation’...       MISC   \n",
              "..                                                 ...        ...   \n",
              "291  Geniuz Media. The USPS is undoubtedly one of t...  Home Page   \n",
              "292  Submit Guest Post. Do you have any compelling ...       MISC   \n",
              "293  Digital Marketing & Entrepreneurship Blog. Why...       MISC   \n",
              "294  Real Estate, Fashion, Software, Travel. I acce...       MISC   \n",
              "295  Amateur Bloggers Guide To WordPress For Start ...  Home Page   \n",
              "\n",
              "                                          cleaned_text  \\\n",
              "0    write us allow endless opportunity new authors...   \n",
              "1    write us youve got idea challenge readers move...   \n",
              "2    faqs new features available beta wayback machi...   \n",
              "3    web credibility project research web credibili...   \n",
              "4    model djs retail djpeoples nations premier age...   \n",
              "..                                                 ...   \n",
              "291  geniuz media usps undoubtedly one best courier...   \n",
              "292  submit guest post compelling article think rea...   \n",
              "293  digital marketing entrepreneurship blog would ...   \n",
              "294  real estate fashion software travel accept rea...   \n",
              "295  amateur bloggers guide wordpress start learnin...   \n",
              "\n",
              "                                       lemmatized_text  \n",
              "0    write for we . we allow you an endless opportu...  \n",
              "1    write for we . if you ’ve get an idea that wil...  \n",
              "2    FAQs for some new feature available in the Bet...  \n",
              "3    the web Credibility Project . our research in ...  \n",
              "4    Model dj for Retail . djpeople be the nation ’...  \n",
              "..                                                 ...  \n",
              "291  Geniuz Media . the USPS be undoubtedly one of ...  \n",
              "292  submit Guest Post . do you have any compelling...  \n",
              "293  Digital Marketing & Entrepreneurship Blog . wh...  \n",
              "294  real Estate , Fashion , Software , Travel . I ...  \n",
              "295  Amateur Bloggers Guide to WordPress for Start ...  \n",
              "\n",
              "[296 rows x 4 columns]"
            ],
            "text/html": [
              "\n",
              "  <div id=\"df-c701824e-855f-4526-b461-19d16730bde0\">\n",
              "    <div class=\"colab-df-container\">\n",
              "      <div>\n",
              "<style scoped>\n",
              "    .dataframe tbody tr th:only-of-type {\n",
              "        vertical-align: middle;\n",
              "    }\n",
              "\n",
              "    .dataframe tbody tr th {\n",
              "        vertical-align: top;\n",
              "    }\n",
              "\n",
              "    .dataframe thead th {\n",
              "        text-align: right;\n",
              "    }\n",
              "</style>\n",
              "<table border=\"1\" class=\"dataframe\">\n",
              "  <thead>\n",
              "    <tr style=\"text-align: right;\">\n",
              "      <th></th>\n",
              "      <th>text</th>\n",
              "      <th>label</th>\n",
              "      <th>cleaned_text</th>\n",
              "      <th>lemmatized_text</th>\n",
              "    </tr>\n",
              "  </thead>\n",
              "  <tbody>\n",
              "    <tr>\n",
              "      <th>0</th>\n",
              "      <td>Write For Us. We allow you an endless opportun...</td>\n",
              "      <td>MISC</td>\n",
              "      <td>write us allow endless opportunity new authors...</td>\n",
              "      <td>write for we . we allow you an endless opportu...</td>\n",
              "    </tr>\n",
              "    <tr>\n",
              "      <th>1</th>\n",
              "      <td>Write for Us. If you’ve got an idea that will ...</td>\n",
              "      <td>MISC</td>\n",
              "      <td>write us youve got idea challenge readers move...</td>\n",
              "      <td>write for we . if you ’ve get an idea that wil...</td>\n",
              "    </tr>\n",
              "    <tr>\n",
              "      <th>2</th>\n",
              "      <td>FAQs for some new features available in the Be...</td>\n",
              "      <td>Blog</td>\n",
              "      <td>faqs new features available beta wayback machi...</td>\n",
              "      <td>FAQs for some new feature available in the Bet...</td>\n",
              "    </tr>\n",
              "    <tr>\n",
              "      <th>3</th>\n",
              "      <td>The Web Credibility Project. Our research in W...</td>\n",
              "      <td>Home Page</td>\n",
              "      <td>web credibility project research web credibili...</td>\n",
              "      <td>the web Credibility Project . our research in ...</td>\n",
              "    </tr>\n",
              "    <tr>\n",
              "      <th>4</th>\n",
              "      <td>Model DJs for Retail. DJPeoples is the nation’...</td>\n",
              "      <td>MISC</td>\n",
              "      <td>model djs retail djpeoples nations premier age...</td>\n",
              "      <td>Model dj for Retail . djpeople be the nation ’...</td>\n",
              "    </tr>\n",
              "    <tr>\n",
              "      <th>...</th>\n",
              "      <td>...</td>\n",
              "      <td>...</td>\n",
              "      <td>...</td>\n",
              "      <td>...</td>\n",
              "    </tr>\n",
              "    <tr>\n",
              "      <th>291</th>\n",
              "      <td>Geniuz Media. The USPS is undoubtedly one of t...</td>\n",
              "      <td>Home Page</td>\n",
              "      <td>geniuz media usps undoubtedly one best courier...</td>\n",
              "      <td>Geniuz Media . the USPS be undoubtedly one of ...</td>\n",
              "    </tr>\n",
              "    <tr>\n",
              "      <th>292</th>\n",
              "      <td>Submit Guest Post. Do you have any compelling ...</td>\n",
              "      <td>MISC</td>\n",
              "      <td>submit guest post compelling article think rea...</td>\n",
              "      <td>submit Guest Post . do you have any compelling...</td>\n",
              "    </tr>\n",
              "    <tr>\n",
              "      <th>293</th>\n",
              "      <td>Digital Marketing &amp; Entrepreneurship Blog. Why...</td>\n",
              "      <td>MISC</td>\n",
              "      <td>digital marketing entrepreneurship blog would ...</td>\n",
              "      <td>Digital Marketing &amp; Entrepreneurship Blog . wh...</td>\n",
              "    </tr>\n",
              "    <tr>\n",
              "      <th>294</th>\n",
              "      <td>Real Estate, Fashion, Software, Travel. I acce...</td>\n",
              "      <td>MISC</td>\n",
              "      <td>real estate fashion software travel accept rea...</td>\n",
              "      <td>real Estate , Fashion , Software , Travel . I ...</td>\n",
              "    </tr>\n",
              "    <tr>\n",
              "      <th>295</th>\n",
              "      <td>Amateur Bloggers Guide To WordPress For Start ...</td>\n",
              "      <td>Home Page</td>\n",
              "      <td>amateur bloggers guide wordpress start learnin...</td>\n",
              "      <td>Amateur Bloggers Guide to WordPress for Start ...</td>\n",
              "    </tr>\n",
              "  </tbody>\n",
              "</table>\n",
              "<p>296 rows × 4 columns</p>\n",
              "</div>\n",
              "      <button class=\"colab-df-convert\" onclick=\"convertToInteractive('df-c701824e-855f-4526-b461-19d16730bde0')\"\n",
              "              title=\"Convert this dataframe to an interactive table.\"\n",
              "              style=\"display:none;\">\n",
              "        \n",
              "  <svg xmlns=\"http://www.w3.org/2000/svg\" height=\"24px\"viewBox=\"0 0 24 24\"\n",
              "       width=\"24px\">\n",
              "    <path d=\"M0 0h24v24H0V0z\" fill=\"none\"/>\n",
              "    <path d=\"M18.56 5.44l.94 2.06.94-2.06 2.06-.94-2.06-.94-.94-2.06-.94 2.06-2.06.94zm-11 1L8.5 8.5l.94-2.06 2.06-.94-2.06-.94L8.5 2.5l-.94 2.06-2.06.94zm10 10l.94 2.06.94-2.06 2.06-.94-2.06-.94-.94-2.06-.94 2.06-2.06.94z\"/><path d=\"M17.41 7.96l-1.37-1.37c-.4-.4-.92-.59-1.43-.59-.52 0-1.04.2-1.43.59L10.3 9.45l-7.72 7.72c-.78.78-.78 2.05 0 2.83L4 21.41c.39.39.9.59 1.41.59.51 0 1.02-.2 1.41-.59l7.78-7.78 2.81-2.81c.8-.78.8-2.07 0-2.86zM5.41 20L4 18.59l7.72-7.72 1.47 1.35L5.41 20z\"/>\n",
              "  </svg>\n",
              "      </button>\n",
              "      \n",
              "  <style>\n",
              "    .colab-df-container {\n",
              "      display:flex;\n",
              "      flex-wrap:wrap;\n",
              "      gap: 12px;\n",
              "    }\n",
              "\n",
              "    .colab-df-convert {\n",
              "      background-color: #E8F0FE;\n",
              "      border: none;\n",
              "      border-radius: 50%;\n",
              "      cursor: pointer;\n",
              "      display: none;\n",
              "      fill: #1967D2;\n",
              "      height: 32px;\n",
              "      padding: 0 0 0 0;\n",
              "      width: 32px;\n",
              "    }\n",
              "\n",
              "    .colab-df-convert:hover {\n",
              "      background-color: #E2EBFA;\n",
              "      box-shadow: 0px 1px 2px rgba(60, 64, 67, 0.3), 0px 1px 3px 1px rgba(60, 64, 67, 0.15);\n",
              "      fill: #174EA6;\n",
              "    }\n",
              "\n",
              "    [theme=dark] .colab-df-convert {\n",
              "      background-color: #3B4455;\n",
              "      fill: #D2E3FC;\n",
              "    }\n",
              "\n",
              "    [theme=dark] .colab-df-convert:hover {\n",
              "      background-color: #434B5C;\n",
              "      box-shadow: 0px 1px 3px 1px rgba(0, 0, 0, 0.15);\n",
              "      filter: drop-shadow(0px 1px 2px rgba(0, 0, 0, 0.3));\n",
              "      fill: #FFFFFF;\n",
              "    }\n",
              "  </style>\n",
              "\n",
              "      <script>\n",
              "        const buttonEl =\n",
              "          document.querySelector('#df-c701824e-855f-4526-b461-19d16730bde0 button.colab-df-convert');\n",
              "        buttonEl.style.display =\n",
              "          google.colab.kernel.accessAllowed ? 'block' : 'none';\n",
              "\n",
              "        async function convertToInteractive(key) {\n",
              "          const element = document.querySelector('#df-c701824e-855f-4526-b461-19d16730bde0');\n",
              "          const dataTable =\n",
              "            await google.colab.kernel.invokeFunction('convertToInteractive',\n",
              "                                                     [key], {});\n",
              "          if (!dataTable) return;\n",
              "\n",
              "          const docLinkHtml = 'Like what you see? Visit the ' +\n",
              "            '<a target=\"_blank\" href=https://colab.research.google.com/notebooks/data_table.ipynb>data table notebook</a>'\n",
              "            + ' to learn more about interactive tables.';\n",
              "          element.innerHTML = '';\n",
              "          dataTable['output_type'] = 'display_data';\n",
              "          await google.colab.output.renderOutput(dataTable, element);\n",
              "          const docLink = document.createElement('div');\n",
              "          docLink.innerHTML = docLinkHtml;\n",
              "          element.appendChild(docLink);\n",
              "        }\n",
              "      </script>\n",
              "    </div>\n",
              "  </div>\n",
              "  "
            ]
          },
          "metadata": {},
          "execution_count": 181
        }
      ]
    },
    {
      "cell_type": "code",
      "source": [
        "df_text['lemmatized_text'].tolist()[10:30]"
      ],
      "metadata": {
        "colab": {
          "base_uri": "https://localhost:8080/"
        },
        "id": "P1X85Q3RGkbC",
        "outputId": "6cf3727c-217e-46bc-be59-53cf9a55a577"
      },
      "execution_count": 156,
      "outputs": [
        {
          "output_type": "execute_result",
          "data": {
            "text/plain": [
              "['Health , Fitness , Nutrition and Lifestyle Write for Us { Instant Approval } . ad Blocker DetectedOur website be make possible by display online advertisement to our visitor . please consider support we by disable your ad blocker .',\n",
              " 'Maryland , Virginia , Web & Graphic Design , Digital Marketing Agency . serve the biomedical industry as innovator and educator , ABI spearhead the creation and manufacture of product instrumental to improve human diagnostic . HindSite Interactive provide design , development and maintenance include : site design and development ; e - commerce ; administration',\n",
              " 'Element Index . if it apply to the body element , then it instead apply to the document as a whole . < /dd > < dt > article</dt > < dd > the article element represent a section of a page that consist of a composition that form an independent part of a document , page , or site . if it apply to the body element , then it instead apply to the document as a whole . \\' ) ; < /script><section > < h1 > level 1</h1 > < section > < h1 > Level 2</h1 > < section > < h1 > level 3</h1 > < /section > < /section > < /section><label for=\"title\">title</label > < select id=\"title \" name=\"title \" > < option value= \" \" select > please choose</option > < option value=\"mr\">mr</option > < option value=\"miss\">miss</option > < option value=\"mrs\">mrs</option > < option value=\"ms\">ms</option > < option value=\"dr\">dr</option > < option value=\"other\">other</option > < /select><footer > < address > for more detail , contact < a href=\"mailto : hello@html5doctor.com\">HTML5 Doctor</a > . < /small > < /footer><video control > < source src=\"video.mp4 \" type=\"video / mp4 \" > < source src=\"video.webm \" type=\"video / webm \" > < source src=\"video.ogg \" type=\"video / ogg \" > < /video><span > this be an example of the span element < /span><strong > warning</strong > .',\n",
              " \"responsive Design Testing . responsive web design Testing ToolThis tool have be build to help with test your responsive website while you design and build they . you can enter your website 's url into the address bar at the top of this page ( not your browser 's address bar ) to test a specific page . unfortunately , with the way browser security work , you be unable to navigate your site through the frame that your website appear in . the only way this be possible be if you host the testing tool on your website 's own hosting . I have provide a github repository for you to download and install the tool on your own site .\",\n",
              " 'man with Pens Guest Post Guidelines and Policies . in fact , it ’s be say that have a guest post publish on the Men with Pens blog be a badge of honor . therefore , we only review post that pass the initial gatekeeper test and meet our guest post guideline . your Guest Post should be PracticalThe Men with Pens blog provide our audience with useful , practical , actionable information that bring they immediate benefit . your Guest Post article should be Well WrittenThe Men with Pens blog be by writer , for writer . when your guest post be accept for publication , you grant a license for man with pen to be the exclusive publisher .',\n",
              " 'write for we . write for OilPrice.comWe be look for writer , analyst and company who focus on Energy , commodity , finance and geopolitical topic . we be look for original article that cover all energy topic and sector from fossil fuel to alternative technology . you assign to we First World Serial Rights ; which mean that your contribution must be your own original work and not publish elsewhere . if you have engage anyone to write the contribution for you , you must make sure you have an assignment to you of all right that person have in the contribution . all submission must be your own original work .',\n",
              " 'what be Page experience and why be it important ? . one such rank factor that have now gain immense importance be call page experience . \" page experience be a set of signal that measure how user perceive the experience of interact with a web page beyond its pure information value , both on mobile and desktop device . ”In simple term , it can be think of as a metric for measure the navigation experience and interaction of user on a web page . it be important to note that page experience be not the same as user experience . why Page experience be important ? page experience signalscore web VitalsCore web vital be a set of factor that Google consider important in a web page ’s overall user experience .',\n",
              " 'download : Optimize Templates for Keyword Glossary & Editorial Plan . a keyword glossary template and an editorial plan template . they help manage the mapping of keyword to content so content asset do not get too keyword heavy or light in any particular area . below be a link to a basic keyword glossary that will be a helpful tool for track keyword on a small website of under 500 page . after you ’ve thoroughly research keyword that customer be search for and organize they into the glossary template above , the next step be to form an editorial plan . if you think these be just a little useful , you ’ll find Optimize a LOT useful .',\n",
              " 'write for we . thus … you want to write a guest post for the Outingvibe.com , right ? if you be look for guest post opportunity in a blog , we ’re the place to be . write as though you be speak with a close friend . Guest Posting Search Queries to find USYou can make use of new Outdoor Guest Posting Search Queries to find the heath blog for guest blogging . out door \" write for us”outdoor write for usskate + write for we + guest postoutdoor blog write for ustrekke write for usoutdoor write for ustrekke tip guest postcontribute a outdoor guest postskating guest posthunting write for usoute blog write for usoutdoor guest postoutdoor blog accept guest postshelp \" write for us”submit guest post outdoorlength of articlei’m not look for something in particular in term of length .',\n",
              " \"metal , Mining , Recycled Product . 1986 Royce Corporation be found in New York City Royce be establish as a trading company in New York City . 2004 Royce Corporation launch its european and Indian Satellite office Royce ’s global reach expand far with the vision of become a worldwide player . 2011 the Copper semi - finished business and Minerals division be launch in a move to become more vertically integrate , Royce launch both division simultaneously in 2011 . 2014 Primary Aluminum Trading Vertical be create Royce 's Primary Aluminum business be establish to far expand our value proposition to customer and supplier in one of our core metal . 2016 Royce Corporation turn 30 royce celebrate a happy and successful 30 year in business .\",\n",
              " 'Top Digital Marketing Agency . Thomas Greenage18:02 18 Jul 22when I start my program and new website with 1seo I be skeptical because I really do not know much about what they do other then an I.T. friend of mine recommend their service to help with my company online presence and to build quote \" an incredible website \" . I must say after only a few month the phone and email start to pick up and now we have literally have day when we can not keep up with the phone and email I be very happy with the hard work that the team at 1seo be do for my business and they be always happy to explain anything I may not totally understand . 1seo be hand down the good at what they do ! I look forward to a very long business relationship with 1SEO!Thank you 1seothomas J. GreenagePresident of OperationsA-1 electric',\n",
              " '4 T Medical . what our CUSTOMERS SAYI have be use product from 4 T Medical for over 2 year now . the customer care provide be second to none and I have always be impress by the product and rapidity of delivery . the training provide have also be excellent , thorough , with good note , extensive practical session & aftercare . Dr Ros Debenham , Radiance MediSpa',\n",
              " 'Logos , web , Graphic Design & More .. we want something fun and eye - catch that do not look like every other coffee logo out there … there be so many design to choose from and all of the designer be friendly and willing to change thing up base on our preference . in the end , we go with a design from Wintrygrey that we absolutely love . I would definitely recommend 99designs to anyone look for logo and branding . \"',\n",
              " '301 Madison Consulting , LLC . almost 90 % of consumer say that their decision to buy start at a search engine . so , it ’ impossible to overstate the importance of search engine optimization ( seo ) . the algorithm use by search engine be constantly be update . once the basic be in place , we add relevant content that search engine love . build backlink with our outreach team be an essential part of seo , and we have a strategy to ensure your link building campaign be successful .',\n",
              " \"Moz Academy . seo essential CertificationLearn seo and get certify with this intensive 6 - part course and exam series ! $ 3956 CoursesTechnical seo CertificationLearn technical seo comprehensively and get certify with this intensive 5 - part course and exam series ! $ 3955 coursesseo Competitive Analysis CertificationLearn how to confidently build an seo competitive analysis plan and get certify with this 6 - part course and exam series ! $ 2953 CoursesHow to use Moz ProThis course describe how to use Moz tool in short , easy to follow video . FREE201 minThe Insider 's Guide to Moz Pro : your 4 - week seo Game PlanFREE with a Moz Pro subscription or free trial !\",\n",
              " 'AcademyOcean — LMS Platform for Automated Onboarding and Interactive Online Training . I be so happy that you have visit our site and be interested in our story . why we create AcademyOcean : our storythe idea of AcademyOcean come to we in 2016 , when we be build a different saas product . secondly , we want our customer to see just how much value they could get from use our product . we want to show they not only how to use our product , but why they should be use it . they love the idea and want to build an Academy of their own for their company .',\n",
              " 'AI Chatbot Software for Automated Customer Service . any channel , anytimerather than rely on single - point solution for each support channel , pair live chat with chatbot , voice , video , cobrowse , and email to connect with your customer anywhere they choose at any time — all within Acquire ’s unify customer service platform .',\n",
              " 'tip for Building Trust with your client · blog · ActiveCollab . if you wish to build trust with your client , keep in mind you need to do thing in a particular way . this be one of the way to build trust with your client by stay true to your word . you may offer high - quality product or service , but if your target customer do not trust you , your business be doom . tip for build trust with clientsIf you ever wonder how to build trust with client or improve your relationship , we have a couple of tip to get you start . get personalif you have a purely business relationship , trust will not come naturally .',\n",
              " 'marketing automation platform for B2B , B2C , Email . Act - on marketing automation be make for the one who blaze trail . it ’ the straight - forward tool you need to get creative , launch and test your good campaign , and nurture lead automatically . and if you ’re think , \" yeah , but datum . \" of course , and integration , too . but first , we make these box to tell you what Act - On doe . what if you could … ?',\n",
              " 'write for we . so , if you ’re look to pay we to have an article place on our website , pay we to have a link place in our article or simply want to write one time for we to get a backlink , you have come to the wrong place . before submit your article to we , please read our guideline below to ensure the good chance of have your article review and accept . so anything over 1500 word will not be review .. we ’re look for clear and concise article that deliver huge impact . the article you submit to we have to be something new that have never be publish online before . please submit article in a google doc and make sure that document be in edit mode when you share it with we !']"
            ]
          },
          "metadata": {},
          "execution_count": 156
        }
      ]
    },
    {
      "cell_type": "code",
      "source": [],
      "metadata": {
        "id": "n2pym9nxU_4S"
      },
      "execution_count": 93,
      "outputs": []
    },
    {
      "cell_type": "code",
      "source": [
        "# Important cell # 9\n",
        "column_used = 'lemmatized_text'\n",
        "\n",
        "X = df_text[[column_used]]\n",
        "y = df_text[TARGET]\n",
        "\n",
        "X_train, X_test, y_train, y_test = train_test_split(X, y, \n",
        "                                                    test_size=test_size,\n",
        "                                                    stratify=y, \n",
        "                                                    random_state=random_state)"
      ],
      "metadata": {
        "id": "I5Sjgtn7U_7b"
      },
      "execution_count": 182,
      "outputs": []
    },
    {
      "cell_type": "code",
      "source": [
        "# Important cell # 10\n",
        "majority_class = y_train.value_counts().index[0]\n",
        "baseline_accuracy = sum(y_test == majority_class) / len(y_test)\n",
        "print(f'Baseline accuracy: {baseline_accuracy:.4f}')"
      ],
      "metadata": {
        "colab": {
          "base_uri": "https://localhost:8080/"
        },
        "id": "40jI-LxoVPZW",
        "outputId": "861b4b8f-0a33-4b23-d542-d255ea1297f3"
      },
      "execution_count": 183,
      "outputs": [
        {
          "output_type": "stream",
          "name": "stdout",
          "text": [
            "Baseline accuracy: 0.3833\n"
          ]
        }
      ]
    },
    {
      "cell_type": "code",
      "source": [
        "# Important cell # 11\n",
        "vectorizer = TfidfVectorizer(ngram_range=(1, 3))\n",
        "X_train_tr = vectorizer.fit_transform(X_train[column_used])\n",
        "X_test_tr = vectorizer.transform(X_test[column_used])"
      ],
      "metadata": {
        "id": "C2hZ0HxiVPc7"
      },
      "execution_count": 193,
      "outputs": []
    },
    {
      "cell_type": "code",
      "source": [
        "X_train_tr.toarray().shape, X_test_tr.toarray().shape"
      ],
      "metadata": {
        "colab": {
          "base_uri": "https://localhost:8080/"
        },
        "id": "qZ3g9StMLuVL",
        "outputId": "54982b5d-5dd1-44a8-8ce3-775705d1a7b6"
      },
      "execution_count": 194,
      "outputs": [
        {
          "output_type": "execute_result",
          "data": {
            "text/plain": [
              "((236, 38600), (60, 38600))"
            ]
          },
          "metadata": {},
          "execution_count": 194
        }
      ]
    },
    {
      "cell_type": "code",
      "source": [
        "import string\n",
        "string.punctuation"
      ],
      "metadata": {
        "colab": {
          "base_uri": "https://localhost:8080/",
          "height": 35
        },
        "id": "kOm2-aOWFzXs",
        "outputId": "155d8079-f4a4-4374-94a8-2506a2673183"
      },
      "execution_count": 185,
      "outputs": [
        {
          "output_type": "execute_result",
          "data": {
            "text/plain": [
              "'!\"#$%&\\'()*+,-./:;<=>?@[\\\\]^_`{|}~'"
            ],
            "application/vnd.google.colaboratory.intrinsic+json": {
              "type": "string"
            }
          },
          "metadata": {},
          "execution_count": 185
        }
      ]
    },
    {
      "cell_type": "code",
      "source": [
        "import string\n",
        "\n",
        "# STOPWORDS = stop_words.ENGLISH_STOP_WORDS\n",
        "\n",
        "#Function for basic cleaning/preprocessing texts\n",
        "def clean(doc):\n",
        "    # Removal of punctuation marks (.,/\\][{} etc) and numbers\n",
        "    doc = \"\".join([char for char in doc if char not in string.punctuation and not char.isdigit()])\n",
        "    # Removal of stopwords\n",
        "    doc = \" \".join([token for token in doc.split() if token not in STOPWORDS])\n",
        "    return doc.lower()"
      ],
      "metadata": {
        "id": "JOjyg4MA8dIJ"
      },
      "execution_count": 27,
      "outputs": []
    },
    {
      "cell_type": "markdown",
      "source": [
        "# Modeling"
      ],
      "metadata": {
        "id": "Oh4hWsssUReP"
      }
    },
    {
      "cell_type": "code",
      "source": [
        "def fit_model(clf, X_train_transformed, y_train):\n",
        "  clf.fit(X_train_transformed, y_train)\n",
        "  return clf"
      ],
      "metadata": {
        "id": "boW_aOuiUTXE"
      },
      "execution_count": 28,
      "outputs": []
    },
    {
      "cell_type": "code",
      "source": [
        "def predict(clf, X_test_transformed):\n",
        "  y_pred = clf.predict(X_test_transformed)\n",
        "  return y_pred"
      ],
      "metadata": {
        "id": "Y6Cqnf2NV8Tn"
      },
      "execution_count": 29,
      "outputs": []
    },
    {
      "cell_type": "code",
      "source": [
        "def get_accuracy(y_test, y_pred):\n",
        "  accuracy = sum(y_pred == y_test) / len(y_test)\n",
        "  return accuracy"
      ],
      "metadata": {
        "id": "GQYLRK78V-ID"
      },
      "execution_count": 30,
      "outputs": []
    },
    {
      "cell_type": "code",
      "source": [
        "def print_important_features(clf, features=5):\n",
        "  \"\"\" \n",
        "  Get the most important features of a classifier when using a linear kernel (e.g. Logistic Regression, not SVM)\n",
        "  \"\"\"\n",
        "  coef_importances = np.argsort(clf.coef_, axis=1)\n",
        "  for i, class_ in enumerate(coef_importances[:, :features]):\n",
        "      print(f'Class \"{clf.classes_[i]}\" - {features} most important features: '\n",
        "            f'{vectorizer.get_feature_names_out()[class_]}')"
      ],
      "metadata": {
        "id": "HnBEtElRV_27"
      },
      "execution_count": 31,
      "outputs": []
    },
    {
      "cell_type": "code",
      "source": [
        "def print_confusion_matrix(y_test, y_pred, with_report=False):\n",
        "  ConfusionMatrixDisplay.from_predictions(y_test, y_pred)\n",
        "  plt.title(f'Confusion matrix - acc {get_accuracy(y_test, y_pred):.3f}', size=15)\n",
        "  plt.show()\n",
        "  if with_report:\n",
        "    print('\\n' + classification_report(y_test, y_pred))"
      ],
      "metadata": {
        "id": "3-nmKS_TWBhH"
      },
      "execution_count": 123,
      "outputs": []
    },
    {
      "cell_type": "code",
      "source": [
        "def get_best_clf(clfs, X_train, X_test, y_train, y_test):\n",
        "    results = []\n",
        "    best_clf = None\n",
        "    best_clf_name = None\n",
        "    best_accuracy = 0\n",
        "\n",
        "    for clf_name, clf in clfs:\n",
        "        clf.fit(X_train, y_train)\n",
        "        acc = clf.score(X_test, y_test) # accuracy score\n",
        "        \n",
        "        if acc > best_accuracy:\n",
        "            best_accuracy = acc\n",
        "            best_clf = clf\n",
        "            best_clf_name = clf_name\n",
        "\n",
        "        results.append({'clf': clf_name,\n",
        "                        'accuracy': acc})\n",
        "        \n",
        "    print(pd.DataFrame(results).set_index('clf'))\n",
        "    return best_clf, best_clf_name, best_accuracy"
      ],
      "metadata": {
        "id": "X-BD-0YMW1wY"
      },
      "execution_count": 50,
      "outputs": []
    },
    {
      "cell_type": "code",
      "source": [
        "clfs = [\n",
        "    ('LogisticRegression', LogisticRegression(max_iter=3000,\n",
        "                                              class_weight='balanced')), \n",
        "    ('RandomForest', RandomForestClassifier(max_depth=18,\n",
        "                                            n_estimators=75,\n",
        "                                            random_state=0)), \n",
        "    ('KNN 15', KNeighborsClassifier(n_neighbors=15)),\n",
        "    ('KNN 25', KNeighborsClassifier(n_neighbors=25)),\n",
        "    ('KNN 35', KNeighborsClassifier(n_neighbors=35)),\n",
        "    ('KNN 55', KNeighborsClassifier(n_neighbors=55)),\n",
        "    ('KNN 75', KNeighborsClassifier(n_neighbors=75)),\n",
        "    ('KNN 100', KNeighborsClassifier(n_neighbors=100)),\n",
        "    ('SVM C1', SVC(C=1,\n",
        "                   class_weight='balanced', \n",
        "                   random_state=0), ),\n",
        "    ('MultinomialNB', MultinomialNB())\n",
        "]\n",
        "\n",
        "# clf, clf_name, val_acc = get_best_clf(clfs, X_train, X_test, y_train, y_test) # To use when I have more data for validation set\n",
        "# print(f'Best classifier: {clf_name}, validation accuracy: {val_acc:.3f}, '\n",
        "#       f'test accuracy: {clf.score(X_test, y_test):.3f}')\n",
        "\n",
        "clf, clf_name, test_acc = get_best_clf(clfs, X_train_tr, X_test_tr, y_train, y_test)\n",
        "print(f'Best classifier: {clf_name}, test accuracy: {test_acc:.3f}')"
      ],
      "metadata": {
        "colab": {
          "base_uri": "https://localhost:8080/"
        },
        "id": "aGg_SS1hW1yw",
        "outputId": "a3086e8a-5805-43d3-c4c1-b7978e65209b"
      },
      "execution_count": 201,
      "outputs": [
        {
          "output_type": "stream",
          "name": "stdout",
          "text": [
            "                    accuracy\n",
            "clf                         \n",
            "LogisticRegression  0.683333\n",
            "RandomForest        0.500000\n",
            "KNN 15              0.566667\n",
            "KNN 25              0.616667\n",
            "KNN 35              0.633333\n",
            "KNN 55              0.600000\n",
            "KNN 75              0.616667\n",
            "KNN 100             0.583333\n",
            "SVM C1              0.483333\n",
            "MultinomialNB       0.416667\n",
            "Best classifier: LogisticRegression, test accuracy: 0.683\n"
          ]
        }
      ]
    },
    {
      "cell_type": "code",
      "source": [
        "clf = fit_model(LogisticRegression(max_iter=3000, \n",
        "                                   class_weight='balanced',\n",
        "                                   random_state=0\n",
        "                                   ), \n",
        "                X_train_tr, \n",
        "                y_train)\n",
        "\n",
        "y_pred = predict(clf, X_test_tr)\n",
        "\n",
        "print_confusion_matrix(y_test, y_pred, with_report=True)"
      ],
      "metadata": {
        "colab": {
          "base_uri": "https://localhost:8080/",
          "height": 511
        },
        "id": "Hs_XD8NeWDLB",
        "outputId": "a4efc3d4-8733-427d-9a8c-b1e6c3153746"
      },
      "execution_count": 196,
      "outputs": [
        {
          "output_type": "display_data",
          "data": {
            "text/plain": [
              "<Figure size 432x288 with 2 Axes>"
            ],
            "image/png": "[encoded data removed]"
          },
          "metadata": {
            "needs_background": "light"
          }
        },
        {
          "output_type": "stream",
          "name": "stdout",
          "text": [
            "\n",
            "              precision    recall  f1-score   support\n",
            "\n",
            "        Blog       0.60      0.75      0.67        16\n",
            "   Home Page       0.65      0.74      0.69        23\n",
            "        MISC       0.80      0.62      0.70        13\n",
            "Product Page       1.00      0.50      0.67         8\n",
            "\n",
            "    accuracy                           0.68        60\n",
            "   macro avg       0.76      0.65      0.68        60\n",
            "weighted avg       0.72      0.68      0.68        60\n",
            "\n"
          ]
        }
      ]
    },
    {
      "cell_type": "code",
      "source": [
        "clf = fit_model(KNeighborsClassifier(n_neighbors=5\n",
        "                                      ), \n",
        "                X_train_tr, \n",
        "                y_train)\n",
        "\n",
        "y_pred = predict(clf, X_test_tr)\n",
        "\n",
        "print_confusion_matrix(y_test, y_pred, with_report=True)"
      ],
      "metadata": {
        "colab": {
          "base_uri": "https://localhost:8080/",
          "height": 511
        },
        "id": "49nqsaBKWJ1q",
        "outputId": "0b24fed4-2ba0-436f-823f-8d9879e3d48e"
      },
      "execution_count": 125,
      "outputs": [
        {
          "output_type": "display_data",
          "data": {
            "text/plain": [
              "<Figure size 432x288 with 2 Axes>"
            ],
            "image/png": "[encoded data removed]"
          },
          "metadata": {
            "needs_background": "light"
          }
        },
        {
          "output_type": "stream",
          "name": "stdout",
          "text": [
            "\n",
            "              precision    recall  f1-score   support\n",
            "\n",
            "        Blog       0.58      0.69      0.63        16\n",
            "   Home Page       0.59      0.57      0.58        23\n",
            "        MISC       0.53      0.62      0.57        13\n",
            "Product Page       1.00      0.50      0.67         8\n",
            "\n",
            "    accuracy                           0.60        60\n",
            "   macro avg       0.68      0.59      0.61        60\n",
            "weighted avg       0.63      0.60      0.60        60\n",
            "\n"
          ]
        }
      ]
    },
    {
      "cell_type": "code",
      "source": [],
      "metadata": {
        "id": "ZyKLHYt63-nx"
      },
      "execution_count": 76,
      "outputs": []
    }
  ]
}