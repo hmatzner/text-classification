{
  "nbformat": 4,
  "nbformat_minor": 0,
  "metadata": {
    "colab": {
      "provenance": []
    },
    "kernelspec": {
      "name": "python3",
      "display_name": "Python 3"
    },
    "language_info": {
      "name": "python"
    }
  },
  "cells": [
    {
      "cell_type": "markdown",
      "source": [
        "# Setup"
      ],
      "metadata": {
        "id": "ETBiYhSFxLNt"
      }
    },
    {
      "cell_type": "code",
      "execution_count": 1,
      "metadata": {
        "id": "-QLU-43EwevJ",
        "colab": {
          "base_uri": "https://localhost:8080/"
        },
        "outputId": "c2b7d35b-303a-4926-c086-9787d4b7db93"
      },
      "outputs": [
        {
          "output_type": "stream",
          "name": "stdout",
          "text": [
            "Looking in indexes: https://pypi.org/simple, https://us-python.pkg.dev/colab-wheels/public/simple/\n",
            "Collecting transformers\n",
            "  Downloading transformers-4.25.1-py3-none-any.whl (5.8 MB)\n",
            "\u001b[K     |████████████████████████████████| 5.8 MB 5.1 MB/s \n",
            "\u001b[?25hCollecting newspaper3k\n",
            "  Downloading newspaper3k-0.2.8-py3-none-any.whl (211 kB)\n",
            "\u001b[K     |████████████████████████████████| 211 kB 26.7 MB/s \n",
            "\u001b[?25hRequirement already satisfied: filelock in /usr/local/lib/python3.8/dist-packages (from transformers) (3.8.0)\n",
            "Requirement already satisfied: requests in /usr/local/lib/python3.8/dist-packages (from transformers) (2.23.0)\n",
            "Collecting huggingface-hub<1.0,>=0.10.0\n",
            "  Downloading huggingface_hub-0.11.1-py3-none-any.whl (182 kB)\n",
            "\u001b[K     |████████████████████████████████| 182 kB 66.9 MB/s \n",
            "\u001b[?25hRequirement already satisfied: pyyaml>=5.1 in /usr/local/lib/python3.8/dist-packages (from transformers) (6.0)\n",
            "Requirement already satisfied: packaging>=20.0 in /usr/local/lib/python3.8/dist-packages (from transformers) (21.3)\n",
            "Requirement already satisfied: regex!=2019.12.17 in /usr/local/lib/python3.8/dist-packages (from transformers) (2022.6.2)\n",
            "Requirement already satisfied: tqdm>=4.27 in /usr/local/lib/python3.8/dist-packages (from transformers) (4.64.1)\n",
            "Collecting tokenizers!=0.11.3,<0.14,>=0.11.1\n",
            "  Downloading tokenizers-0.13.2-cp38-cp38-manylinux_2_17_x86_64.manylinux2014_x86_64.whl (7.6 MB)\n",
            "\u001b[K     |████████████████████████████████| 7.6 MB 31.8 MB/s \n",
            "\u001b[?25hRequirement already satisfied: numpy>=1.17 in /usr/local/lib/python3.8/dist-packages (from transformers) (1.21.6)\n",
            "Requirement already satisfied: typing-extensions>=3.7.4.3 in /usr/local/lib/python3.8/dist-packages (from huggingface-hub<1.0,>=0.10.0->transformers) (4.4.0)\n",
            "Requirement already satisfied: pyparsing!=3.0.5,>=2.0.2 in /usr/local/lib/python3.8/dist-packages (from packaging>=20.0->transformers) (3.0.9)\n",
            "Requirement already satisfied: lxml>=3.6.0 in /usr/local/lib/python3.8/dist-packages (from newspaper3k) (4.9.1)\n",
            "Collecting cssselect>=0.9.2\n",
            "  Downloading cssselect-1.2.0-py2.py3-none-any.whl (18 kB)\n",
            "Collecting feedparser>=5.2.1\n",
            "  Downloading feedparser-6.0.10-py3-none-any.whl (81 kB)\n",
            "\u001b[K     |████████████████████████████████| 81 kB 4.2 MB/s \n",
            "\u001b[?25hCollecting feedfinder2>=0.0.4\n",
            "  Downloading feedfinder2-0.0.4.tar.gz (3.3 kB)\n",
            "Collecting jieba3k>=0.35.1\n",
            "  Downloading jieba3k-0.35.1.zip (7.4 MB)\n",
            "\u001b[K     |████████████████████████████████| 7.4 MB 11.6 MB/s \n",
            "\u001b[?25hRequirement already satisfied: Pillow>=3.3.0 in /usr/local/lib/python3.8/dist-packages (from newspaper3k) (7.1.2)\n",
            "Requirement already satisfied: python-dateutil>=2.5.3 in /usr/local/lib/python3.8/dist-packages (from newspaper3k) (2.8.2)\n",
            "Requirement already satisfied: beautifulsoup4>=4.4.1 in /usr/local/lib/python3.8/dist-packages (from newspaper3k) (4.6.3)\n",
            "Collecting tinysegmenter==0.3\n",
            "  Downloading tinysegmenter-0.3.tar.gz (16 kB)\n",
            "Collecting tldextract>=2.0.1\n",
            "  Downloading tldextract-3.4.0-py3-none-any.whl (93 kB)\n",
            "\u001b[K     |████████████████████████████████| 93 kB 1.4 MB/s \n",
            "\u001b[?25hRequirement already satisfied: nltk>=3.2.1 in /usr/local/lib/python3.8/dist-packages (from newspaper3k) (3.7)\n",
            "Requirement already satisfied: six in /usr/local/lib/python3.8/dist-packages (from feedfinder2>=0.0.4->newspaper3k) (1.15.0)\n",
            "Collecting sgmllib3k\n",
            "  Downloading sgmllib3k-1.0.0.tar.gz (5.8 kB)\n",
            "Requirement already satisfied: click in /usr/local/lib/python3.8/dist-packages (from nltk>=3.2.1->newspaper3k) (7.1.2)\n",
            "Requirement already satisfied: joblib in /usr/local/lib/python3.8/dist-packages (from nltk>=3.2.1->newspaper3k) (1.2.0)\n",
            "Requirement already satisfied: certifi>=2017.4.17 in /usr/local/lib/python3.8/dist-packages (from requests->transformers) (2022.9.24)\n",
            "Requirement already satisfied: urllib3!=1.25.0,!=1.25.1,<1.26,>=1.21.1 in /usr/local/lib/python3.8/dist-packages (from requests->transformers) (1.24.3)\n",
            "Requirement already satisfied: chardet<4,>=3.0.2 in /usr/local/lib/python3.8/dist-packages (from requests->transformers) (3.0.4)\n",
            "Requirement already satisfied: idna<3,>=2.5 in /usr/local/lib/python3.8/dist-packages (from requests->transformers) (2.10)\n",
            "Collecting requests-file>=1.4\n",
            "  Downloading requests_file-1.5.1-py2.py3-none-any.whl (3.7 kB)\n",
            "Building wheels for collected packages: tinysegmenter, feedfinder2, jieba3k, sgmllib3k\n",
            "  Building wheel for tinysegmenter (setup.py) ... \u001b[?25l\u001b[?25hdone\n",
            "  Created wheel for tinysegmenter: filename=tinysegmenter-0.3-py3-none-any.whl size=13552 sha256=67c3ac56d0dc2fd0331e8d09b1f258e0c6a3bddbeeea48cd451ae534ee6fc91c\n",
            "  Stored in directory: /root/.cache/pip/wheels/99/74/83/8fac1c8d9c648cfabebbbffe97a889f6624817f3aa0bbe6c09\n",
            "  Building wheel for feedfinder2 (setup.py) ... \u001b[?25l\u001b[?25hdone\n",
            "  Created wheel for feedfinder2: filename=feedfinder2-0.0.4-py3-none-any.whl size=3354 sha256=8d0c0d41c34df23a8de78d27d5368831a8ff3514f2cdf9b84807cdfcf39205b3\n",
            "  Stored in directory: /root/.cache/pip/wheels/b6/09/68/a9f15498ac02c23dde29f18745bc6a6f574ba4ab41861a3575\n",
            "  Building wheel for jieba3k (setup.py) ... \u001b[?25l\u001b[?25hdone\n",
            "  Created wheel for jieba3k: filename=jieba3k-0.35.1-py3-none-any.whl size=7398405 sha256=487c945ac6a1cc251c8396214b9203e6d88906b81e59f16a7324eb020014d534\n",
            "  Stored in directory: /root/.cache/pip/wheels/1f/7e/0c/54f3b0f5164278677899f2db08f2b07943ce2d024a3c862afb\n",
            "  Building wheel for sgmllib3k (setup.py) ... \u001b[?25l\u001b[?25hdone\n",
            "  Created wheel for sgmllib3k: filename=sgmllib3k-1.0.0-py3-none-any.whl size=6066 sha256=63e459bd82fdcde707705cfb2f0be37d2e72719a341fd293b9fce13df490c301\n",
            "  Stored in directory: /root/.cache/pip/wheels/83/63/2f/117884c3b19d46b64d3d61690333aa80c88dc14050e269c546\n",
            "Successfully built tinysegmenter feedfinder2 jieba3k sgmllib3k\n",
            "Installing collected packages: sgmllib3k, requests-file, tokenizers, tldextract, tinysegmenter, jieba3k, huggingface-hub, feedparser, feedfinder2, cssselect, transformers, newspaper3k\n",
            "Successfully installed cssselect-1.2.0 feedfinder2-0.0.4 feedparser-6.0.10 huggingface-hub-0.11.1 jieba3k-0.35.1 newspaper3k-0.2.8 requests-file-1.5.1 sgmllib3k-1.0.0 tinysegmenter-0.3 tldextract-3.4.0 tokenizers-0.13.2 transformers-4.25.1\n"
          ]
        }
      ],
      "source": [
        "! pip install transformers newspaper3k"
      ]
    },
    {
      "cell_type": "code",
      "source": [
        "# ! python -m spacy download en_core_web_sm"
      ],
      "metadata": {
        "id": "JafpZ0eZwmbM"
      },
      "execution_count": 2,
      "outputs": []
    },
    {
      "cell_type": "code",
      "source": [
        "import os\n",
        "import re\n",
        "import pandas as pd\n",
        "import numpy as np\n",
        "import matplotlib.pyplot as plt\n",
        "import spacy\n",
        "from tqdm import tqdm\n",
        "from newspaper import Article\n",
        "from collections import Counter\n",
        "from sklearn.model_selection import train_test_split\n",
        "from sklearn.preprocessing import OneHotEncoder, OrdinalEncoder\n",
        "from sklearn.feature_extraction.text import CountVectorizer, TfidfVectorizer\n",
        "from sklearn.linear_model import LogisticRegression\n",
        "from sklearn.svm import SVC\n",
        "from sklearn.ensemble import RandomForestClassifier\n",
        "from sklearn.neighbors import KNeighborsClassifier\n",
        "from sklearn.naive_bayes import MultinomialNB\n",
        "from sklearn.model_selection import GridSearchCV\n",
        "from sklearn.metrics import ConfusionMatrixDisplay\n",
        "from sklearn.metrics import classification_report\n",
        "from transformers import pipeline\n",
        "from nltk.tokenize import word_tokenize\n",
        "from nltk.stem.porter import *\n",
        "from nltk.corpus import stopwords\n",
        "import nltk\n",
        "nltk.download('punkt')\n",
        "nltk.download('stopwords')"
      ],
      "metadata": {
        "colab": {
          "base_uri": "https://localhost:8080/"
        },
        "id": "GNOP_xBSwpM9",
        "outputId": "9a5724cb-0f8d-4900-d0b1-1c0e8cb9cc7a"
      },
      "execution_count": 4,
      "outputs": [
        {
          "output_type": "stream",
          "name": "stderr",
          "text": [
            "[nltk_data] Downloading package punkt to /root/nltk_data...\n",
            "[nltk_data]   Package punkt is already up-to-date!\n",
            "[nltk_data] Downloading package stopwords to /root/nltk_data...\n",
            "[nltk_data]   Package stopwords is already up-to-date!\n"
          ]
        },
        {
          "output_type": "execute_result",
          "data": {
            "text/plain": [
              "True"
            ]
          },
          "metadata": {},
          "execution_count": 4
        }
      ]
    },
    {
      "cell_type": "code",
      "source": [
        "from google.colab import drive\n",
        "drive.mount('/content/drive', force_remount=True)"
      ],
      "metadata": {
        "id": "eXRjeKlWwsL9",
        "colab": {
          "base_uri": "https://localhost:8080/"
        },
        "outputId": "9a098eb3-b75c-4136-856c-951f940d159b"
      },
      "execution_count": 5,
      "outputs": [
        {
          "output_type": "stream",
          "name": "stdout",
          "text": [
            "Mounted at /content/drive\n"
          ]
        }
      ]
    },
    {
      "cell_type": "code",
      "source": [
        "MAIN_FOLDER = '/content/drive/MyDrive/url_classification/'\n",
        "HTML_FOLDER = MAIN_FOLDER + 'html_files_Nov-24-2022/'\n",
        "os.chdir(MAIN_FOLDER)"
      ],
      "metadata": {
        "id": "yDXkNQiWwvNc"
      },
      "execution_count": 6,
      "outputs": []
    },
    {
      "cell_type": "markdown",
      "source": [
        "# Preprocessing"
      ],
      "metadata": {
        "id": "y7bwAKRlUWFn"
      }
    },
    {
      "cell_type": "code",
      "source": [
        "TARGET = 'label'\n",
        "TEXT = 'text'\n",
        "STOPWORDS = set(stopwords.words('english'))\n",
        "nlp = spacy.load('en_core_web_sm')"
      ],
      "metadata": {
        "id": "yjrwhtCawyPC"
      },
      "execution_count": 7,
      "outputs": []
    },
    {
      "cell_type": "code",
      "source": [
        "# Constants that will disappear when transitioning to functions:\n",
        "# Cell 1\n",
        "html_folder = HTML_FOLDER\n",
        "# Cell 2\n",
        "csv_path = 'url_classification_temporary481.csv'\n",
        "usecols = ['File Name', 'Label']"
      ],
      "metadata": {
        "id": "9z0GPcPMyKH8"
      },
      "execution_count": 8,
      "outputs": []
    },
    {
      "cell_type": "code",
      "source": [
        "# Important cell # 1\n",
        "html_files = os.listdir(html_folder)"
      ],
      "metadata": {
        "id": "WmL38EDmw010"
      },
      "execution_count": 9,
      "outputs": []
    },
    {
      "cell_type": "code",
      "source": [
        "# Important cell # 2\n",
        "\n",
        "df = pd.read_csv(csv_path, usecols=usecols)\n",
        "df.rename(columns={usecols[0]: 'filename', usecols[1]: 'label'}, inplace=True)\n",
        "df = df[~df['filename'].isna()]\n",
        "print(f'Original shape: {df.shape}')\n",
        "df = df[df['label'] != '-']\n",
        "df.reset_index(drop=True, inplace=True)\n",
        "print(f'Final shape: {df.shape}')"
      ],
      "metadata": {
        "id": "hwDprEpnxbjn",
        "colab": {
          "base_uri": "https://localhost:8080/"
        },
        "outputId": "5ac0d115-0323-4297-d51d-32db3c6085b8"
      },
      "execution_count": 10,
      "outputs": [
        {
          "output_type": "stream",
          "name": "stdout",
          "text": [
            "Original shape: (480, 2)\n",
            "Final shape: (410, 2)\n"
          ]
        }
      ]
    },
    {
      "cell_type": "code",
      "source": [
        "# Important cell # 3\n",
        "df[TARGET].value_counts(normalize=False)"
      ],
      "metadata": {
        "id": "dVNIK1Woysxl",
        "colab": {
          "base_uri": "https://localhost:8080/"
        },
        "outputId": "98d76398-fe9f-4020-94a0-44a967449e72"
      },
      "execution_count": 11,
      "outputs": [
        {
          "output_type": "execute_result",
          "data": {
            "text/plain": [
              "Home Page        143\n",
              "Blog              79\n",
              "MISC              74\n",
              "Product Page      41\n",
              "Article           32\n",
              "Event             15\n",
              "White Paper       12\n",
              "Education          6\n",
              "?                  3\n",
              "Press Release      2\n",
              "Video Content      1\n",
              "About Page         1\n",
              "Publication        1\n",
              "Name: label, dtype: int64"
            ]
          },
          "metadata": {},
          "execution_count": 11
        }
      ]
    },
    {
      "cell_type": "code",
      "source": [
        "# Important cell # 4\n",
        "filenames = df['filename'].values\n",
        "htmls = list()\n",
        "\n",
        "for i, filename in enumerate(filenames):\n",
        "  try:\n",
        "    with open(f'{HTML_FOLDER}{filename}') as f:\n",
        "      html = f.read()\n",
        "      htmls.append(html)\n",
        "  except FileNotFoundError:\n",
        "    print(f'File {i} not found: \"{filename}\"')"
      ],
      "metadata": {
        "id": "9ZTbA0dAy6ro"
      },
      "execution_count": 12,
      "outputs": []
    },
    {
      "cell_type": "code",
      "source": [
        "# Important cell # 5\n",
        "toi_articles = list()\n",
        "\n",
        "for html in htmls:\n",
        "  toi_article = Article(url = ' ', language = \"en\")\n",
        "  toi_article.set_html(html)\n",
        "  toi_article.parse()\n",
        "  toi_article.nlp()\n",
        "  toi_articles.append(toi_article)"
      ],
      "metadata": {
        "id": "gJaab-K1zYiK"
      },
      "execution_count": 13,
      "outputs": []
    },
    {
      "cell_type": "code",
      "source": [
        "# Important cell # 6\n",
        "y = df[TARGET].tolist()"
      ],
      "metadata": {
        "id": "2c3an8110IRS"
      },
      "execution_count": 47,
      "outputs": []
    },
    {
      "cell_type": "code",
      "source": [
        "# Important cell # 7\n",
        "summaries = [(toi_article.title + '. ' + toi_article.text).replace('\\n', ' ') for toi_article in toi_articles]"
      ],
      "metadata": {
        "id": "4_1z6sdX0Ouh"
      },
      "execution_count": 48,
      "outputs": []
    },
    {
      "cell_type": "code",
      "source": [
        "len(y), len(summaries)"
      ],
      "metadata": {
        "id": "OgBKazGq24_W",
        "colab": {
          "base_uri": "https://localhost:8080/"
        },
        "outputId": "e964372e-0c51-4f43-d5de-6982aa3fdf22"
      },
      "execution_count": 49,
      "outputs": [
        {
          "output_type": "execute_result",
          "data": {
            "text/plain": [
              "(410, 410)"
            ]
          },
          "metadata": {},
          "execution_count": 49
        }
      ]
    },
    {
      "cell_type": "code",
      "source": [
        "# Cell 8\n",
        "minimum_words = 30 \n",
        "maximum_classes = 4\n",
        "\n",
        "# Important cell # 8\n",
        "df_text = pd.DataFrame({TEXT: summaries, TARGET: y})\n",
        "\n",
        "if minimum_words:\n",
        "  df_text = df_text[df_text[TEXT].str.split().str.len() > minimum_words]\n",
        "\n",
        "if maximum_classes:\n",
        "  relevant_labels = df_text[TARGET].value_counts()[:maximum_classes].index\n",
        "  df_text = df_text[df_text[TARGET].isin(relevant_labels)]\n",
        "  \n",
        "df_text.reset_index(drop=True, inplace=True)"
      ],
      "metadata": {
        "id": "xw-rz_bJ0bGT"
      },
      "execution_count": 50,
      "outputs": []
    },
    {
      "cell_type": "code",
      "source": [
        "df_text"
      ],
      "metadata": {
        "id": "UW5qXkQu07TV",
        "colab": {
          "base_uri": "https://localhost:8080/",
          "height": 424
        },
        "outputId": "7c13c007-9353-44ba-e6d3-85d11537ad76"
      },
      "execution_count": 51,
      "outputs": [
        {
          "output_type": "execute_result",
          "data": {
            "text/plain": [
              "                                                  text      label\n",
              "0    Write For Us. Want to Write for Us?  Digital L...       MISC\n",
              "1    Write for Us. Yes, you. We’re always looking f...       MISC\n",
              "2    FAQs for some new features available in the Be...       Blog\n",
              "3    The Web Credibility Project. Our research in W...  Home Page\n",
              "4    Model DJs for Retail. DJPeoples is the nation’...       MISC\n",
              "..                                                 ...        ...\n",
              "293  Geniuz Media. The USPS is undoubtedly one of t...  Home Page\n",
              "294  Submit Guest Post. Yes! We accept guest/Sponso...       MISC\n",
              "295  Digital Marketing & Entrepreneurship Blog. Why...       MISC\n",
              "296  Real Estate, Fashion, Software, Travel. Write ...       MISC\n",
              "297  Amateur Bloggers Guide To WordPress For Start ...  Home Page\n",
              "\n",
              "[298 rows x 2 columns]"
            ],
            "text/html": [
              "\n",
              "  <div id=\"df-19ed1022-e54a-4d27-b813-d0ab04d8fb8d\">\n",
              "    <div class=\"colab-df-container\">\n",
              "      <div>\n",
              "<style scoped>\n",
              "    .dataframe tbody tr th:only-of-type {\n",
              "        vertical-align: middle;\n",
              "    }\n",
              "\n",
              "    .dataframe tbody tr th {\n",
              "        vertical-align: top;\n",
              "    }\n",
              "\n",
              "    .dataframe thead th {\n",
              "        text-align: right;\n",
              "    }\n",
              "</style>\n",
              "<table border=\"1\" class=\"dataframe\">\n",
              "  <thead>\n",
              "    <tr style=\"text-align: right;\">\n",
              "      <th></th>\n",
              "      <th>text</th>\n",
              "      <th>label</th>\n",
              "    </tr>\n",
              "  </thead>\n",
              "  <tbody>\n",
              "    <tr>\n",
              "      <th>0</th>\n",
              "      <td>Write For Us. Want to Write for Us?  Digital L...</td>\n",
              "      <td>MISC</td>\n",
              "    </tr>\n",
              "    <tr>\n",
              "      <th>1</th>\n",
              "      <td>Write for Us. Yes, you. We’re always looking f...</td>\n",
              "      <td>MISC</td>\n",
              "    </tr>\n",
              "    <tr>\n",
              "      <th>2</th>\n",
              "      <td>FAQs for some new features available in the Be...</td>\n",
              "      <td>Blog</td>\n",
              "    </tr>\n",
              "    <tr>\n",
              "      <th>3</th>\n",
              "      <td>The Web Credibility Project. Our research in W...</td>\n",
              "      <td>Home Page</td>\n",
              "    </tr>\n",
              "    <tr>\n",
              "      <th>4</th>\n",
              "      <td>Model DJs for Retail. DJPeoples is the nation’...</td>\n",
              "      <td>MISC</td>\n",
              "    </tr>\n",
              "    <tr>\n",
              "      <th>...</th>\n",
              "      <td>...</td>\n",
              "      <td>...</td>\n",
              "    </tr>\n",
              "    <tr>\n",
              "      <th>293</th>\n",
              "      <td>Geniuz Media. The USPS is undoubtedly one of t...</td>\n",
              "      <td>Home Page</td>\n",
              "    </tr>\n",
              "    <tr>\n",
              "      <th>294</th>\n",
              "      <td>Submit Guest Post. Yes! We accept guest/Sponso...</td>\n",
              "      <td>MISC</td>\n",
              "    </tr>\n",
              "    <tr>\n",
              "      <th>295</th>\n",
              "      <td>Digital Marketing &amp; Entrepreneurship Blog. Why...</td>\n",
              "      <td>MISC</td>\n",
              "    </tr>\n",
              "    <tr>\n",
              "      <th>296</th>\n",
              "      <td>Real Estate, Fashion, Software, Travel. Write ...</td>\n",
              "      <td>MISC</td>\n",
              "    </tr>\n",
              "    <tr>\n",
              "      <th>297</th>\n",
              "      <td>Amateur Bloggers Guide To WordPress For Start ...</td>\n",
              "      <td>Home Page</td>\n",
              "    </tr>\n",
              "  </tbody>\n",
              "</table>\n",
              "<p>298 rows × 2 columns</p>\n",
              "</div>\n",
              "      <button class=\"colab-df-convert\" onclick=\"convertToInteractive('df-19ed1022-e54a-4d27-b813-d0ab04d8fb8d')\"\n",
              "              title=\"Convert this dataframe to an interactive table.\"\n",
              "              style=\"display:none;\">\n",
              "        \n",
              "  <svg xmlns=\"http://www.w3.org/2000/svg\" height=\"24px\"viewBox=\"0 0 24 24\"\n",
              "       width=\"24px\">\n",
              "    <path d=\"M0 0h24v24H0V0z\" fill=\"none\"/>\n",
              "    <path d=\"M18.56 5.44l.94 2.06.94-2.06 2.06-.94-2.06-.94-.94-2.06-.94 2.06-2.06.94zm-11 1L8.5 8.5l.94-2.06 2.06-.94-2.06-.94L8.5 2.5l-.94 2.06-2.06.94zm10 10l.94 2.06.94-2.06 2.06-.94-2.06-.94-.94-2.06-.94 2.06-2.06.94z\"/><path d=\"M17.41 7.96l-1.37-1.37c-.4-.4-.92-.59-1.43-.59-.52 0-1.04.2-1.43.59L10.3 9.45l-7.72 7.72c-.78.78-.78 2.05 0 2.83L4 21.41c.39.39.9.59 1.41.59.51 0 1.02-.2 1.41-.59l7.78-7.78 2.81-2.81c.8-.78.8-2.07 0-2.86zM5.41 20L4 18.59l7.72-7.72 1.47 1.35L5.41 20z\"/>\n",
              "  </svg>\n",
              "      </button>\n",
              "      \n",
              "  <style>\n",
              "    .colab-df-container {\n",
              "      display:flex;\n",
              "      flex-wrap:wrap;\n",
              "      gap: 12px;\n",
              "    }\n",
              "\n",
              "    .colab-df-convert {\n",
              "      background-color: #E8F0FE;\n",
              "      border: none;\n",
              "      border-radius: 50%;\n",
              "      cursor: pointer;\n",
              "      display: none;\n",
              "      fill: #1967D2;\n",
              "      height: 32px;\n",
              "      padding: 0 0 0 0;\n",
              "      width: 32px;\n",
              "    }\n",
              "\n",
              "    .colab-df-convert:hover {\n",
              "      background-color: #E2EBFA;\n",
              "      box-shadow: 0px 1px 2px rgba(60, 64, 67, 0.3), 0px 1px 3px 1px rgba(60, 64, 67, 0.15);\n",
              "      fill: #174EA6;\n",
              "    }\n",
              "\n",
              "    [theme=dark] .colab-df-convert {\n",
              "      background-color: #3B4455;\n",
              "      fill: #D2E3FC;\n",
              "    }\n",
              "\n",
              "    [theme=dark] .colab-df-convert:hover {\n",
              "      background-color: #434B5C;\n",
              "      box-shadow: 0px 1px 3px 1px rgba(0, 0, 0, 0.15);\n",
              "      filter: drop-shadow(0px 1px 2px rgba(0, 0, 0, 0.3));\n",
              "      fill: #FFFFFF;\n",
              "    }\n",
              "  </style>\n",
              "\n",
              "      <script>\n",
              "        const buttonEl =\n",
              "          document.querySelector('#df-19ed1022-e54a-4d27-b813-d0ab04d8fb8d button.colab-df-convert');\n",
              "        buttonEl.style.display =\n",
              "          google.colab.kernel.accessAllowed ? 'block' : 'none';\n",
              "\n",
              "        async function convertToInteractive(key) {\n",
              "          const element = document.querySelector('#df-19ed1022-e54a-4d27-b813-d0ab04d8fb8d');\n",
              "          const dataTable =\n",
              "            await google.colab.kernel.invokeFunction('convertToInteractive',\n",
              "                                                     [key], {});\n",
              "          if (!dataTable) return;\n",
              "\n",
              "          const docLinkHtml = 'Like what you see? Visit the ' +\n",
              "            '<a target=\"_blank\" href=https://colab.research.google.com/notebooks/data_table.ipynb>data table notebook</a>'\n",
              "            + ' to learn more about interactive tables.';\n",
              "          element.innerHTML = '';\n",
              "          dataTable['output_type'] = 'display_data';\n",
              "          await google.colab.output.renderOutput(dataTable, element);\n",
              "          const docLink = document.createElement('div');\n",
              "          docLink.innerHTML = docLinkHtml;\n",
              "          element.appendChild(docLink);\n",
              "        }\n",
              "      </script>\n",
              "    </div>\n",
              "  </div>\n",
              "  "
            ]
          },
          "metadata": {},
          "execution_count": 51
        }
      ]
    },
    {
      "cell_type": "code",
      "source": [
        "# Cell 9\n",
        "test_size = 0.2\n",
        "random_state = 0\n",
        "\n",
        "# Important cell # 8\n",
        "REPLACE_BY_SPACE_RE = re.compile('[/(){}\\[\\]\\|@,;]')\n",
        "BAD_SYMBOLS_RE = re.compile('[^0-9A-Za-z #+_]')\n",
        "STOPWORDS = set(stopwords.words('english'))\n",
        "\n",
        "def clean_text(text):\n",
        "    \"\"\"\n",
        "        text: a string\n",
        "        \n",
        "        return: modified initial string\n",
        "    \"\"\"\n",
        "    \n",
        "    # text = text.lower() # lowercase text\n",
        "    text = REPLACE_BY_SPACE_RE.sub(' ', text) # replace REPLACE_BY_SPACE_RE symbols by space in text\n",
        "    text = BAD_SYMBOLS_RE.sub('', text) # delete symbols which are in BAD_SYMBOLS_RE from text\n",
        "    text = ' '.join(word for word in text.split() if word not in STOPWORDS) # delete stopwords from text\n",
        "\n",
        "    # nlp = load_nlp()\n",
        "    # text = ' '.join(token.lemma_ for token in nlp(text))\n",
        "\n",
        "    return text\n",
        "\n",
        "print(f\"Amount of words before cleaning text: {df_text[TEXT].apply(lambda x: len(x.split(' '))).sum()}\")\n",
        "print(f\"Amount of unique words before cleaning text: {np.unique(np.concatenate(df_text[TEXT].str.split().values, axis=0)).shape[0]}\\n\")\n",
        "df_text['cleaned_text'] = df_text[TEXT].apply(clean_text)\n",
        "print(f\"Amount of words after cleaning text: {df_text['cleaned_text'].apply(lambda x: len(x.split(' '))).sum()}\")\n",
        "print(f\"Amount of unique words before cleaning text: {np.unique(np.concatenate(df_text['cleaned_text'].str.split().values, axis=0)).shape[0]}\")"
      ],
      "metadata": {
        "id": "2G8LfNta1B9g",
        "colab": {
          "base_uri": "https://localhost:8080/"
        },
        "outputId": "fb8c3448-4275-44b2-87cd-95aaba8d9565"
      },
      "execution_count": 72,
      "outputs": [
        {
          "output_type": "stream",
          "name": "stdout",
          "text": [
            "Amount of words before cleaning text: 259791\n",
            "Amount of unique words before cleaning text: 29203\n",
            "\n",
            "Amount of words after cleaning text: 155600\n",
            "Amount of unique words before cleaning text: 17981\n"
          ]
        }
      ]
    },
    {
      "cell_type": "code",
      "source": [
        "def lemmatize_text(text):\n",
        "    lemmatized = ' '.join(token.lemma_ for token in nlp(text))\n",
        "    return lemmatized\n",
        "\n",
        "print(f\"Amount of words before lemmatizing text: {df_text[TEXT].apply(lambda x: len(x.split(' '))).sum()}\")\n",
        "print(f\"Amount of unique words before lemmatizing text: {np.unique(np.concatenate(df_text[TEXT].str.split().values, axis=0)).shape[0]}\\n\")\n",
        "df_text['lemmatized_text'] = df_text[TEXT].apply(lemmatize_text)\n",
        "print(f\"Amount of words after lemmatizing text: {df_text['lemmatized_text'].apply(lambda x: len(x.split(' '))).sum()}\")\n",
        "print(f\"Amount of unique words before lemmatizing text: {np.unique(np.concatenate(df_text['lemmatized_text'].str.split().values, axis=0)).shape[0]}\")"
      ],
      "metadata": {
        "id": "hbDdNryGEPLc",
        "colab": {
          "base_uri": "https://localhost:8080/"
        },
        "outputId": "1b78ae31-f29b-4c97-a86b-71716462942d"
      },
      "execution_count": 67,
      "outputs": [
        {
          "output_type": "stream",
          "name": "stdout",
          "text": [
            "Amount of words before lemmatizing text: 259791\n",
            "Amount of unique words before lemmatizing text: 29203\n",
            "\n",
            "Amount of words after lemmatizing text: 313428\n",
            "Amount of unique words before lemmatizing text: 13759\n"
          ]
        }
      ]
    },
    {
      "cell_type": "code",
      "source": [
        "print(f\"Amount of words before cleaning lemmatized text: {df_text['lemmatized_text'].apply(lambda x: len(x.split(' '))).sum()}\")\n",
        "print(f\"Amount of unique words before cleaning lemmatized text: {np.unique(np.concatenate(df_text['lemmatized_text'].str.split().values, axis=0)).shape[0]}\\n\")\n",
        "df_text['lemmatized_cleaned_text'] = df_text['lemmatized_text'].apply(clean_text)\n",
        "print(f\"Amount of words after cleaning lemmatized text: {df_text['lemmatized_cleaned_text'].apply(lambda x: len(x.split(' '))).sum()}\")\n",
        "print(f\"Amount of unique words before cleaning lemmatized text: {np.unique(np.concatenate(df_text['lemmatized_cleaned_text'].str.split().values, axis=0)).shape[0]}\")"
      ],
      "metadata": {
        "colab": {
          "base_uri": "https://localhost:8080/"
        },
        "id": "P4vKBYdPfD7B",
        "outputId": "63cfa23c-bbaf-4418-c0f7-87f922853cdc"
      },
      "execution_count": 73,
      "outputs": [
        {
          "output_type": "stream",
          "name": "stdout",
          "text": [
            "Amount of words before cleaning lemmatized text: 313428\n",
            "Amount of unique words before cleaning lemmatized text: 13759\n",
            "\n",
            "Amount of words after cleaning lemmatized text: 145758\n",
            "Amount of unique words before cleaning lemmatized text: 13021\n"
          ]
        }
      ]
    },
    {
      "cell_type": "code",
      "source": [
        "df_text.loc[0, TEXT]"
      ],
      "metadata": {
        "id": "XEJNZ4gspn1-",
        "colab": {
          "base_uri": "https://localhost:8080/",
          "height": 143
        },
        "outputId": "803cb723-2f6c-4f66-ee63-40d8a40290f7"
      },
      "execution_count": 69,
      "outputs": [
        {
          "output_type": "execute_result",
          "data": {
            "text/plain": [
              "'Write For Us. Want to Write for Us?  Digital Lamp, is one of the fastest-growing tech blog. We allow you an endless opportunity for new authors, technical content writers, freelance content writing professionals, and guest writers to technology + “write for us” + guest post (Contribute or Submit Guest Post Article) about the topics related to Technology, Business, Internet, Gadgets, Digital Marketing, Security, SEO, Tech Blog, etc.  Technology is the way progressive for online businesses. Why not share your expertise by guest blogging on technology blogs to highlight awareness of this emerging trend.  You will obtain the benefits of being a guest blogger by establishing yourself as an authority in the industry. On top of that, you will build social proof, create a robust online presence, develop new relationships with bloggers and readers and rank better in the search engines.  All you need to do is meet the criteria set out by the technology blogs below and submit your best work as a guest blogger.  Guidelines for Write for us Technology Blog  Content must be high quality, informative and 100% Copyscape pass articles. The article must be in the English language. The content length should be minimum of 1000+ words. Content must be well formatted with the sub-headings and short paragraphs (2-3 lines). Once the article is published then it will be owned by Digital Lamp. No requests for removal will be entertained. (We will remove your link on request) All links in the post should be to relevant and quality websites. 1 link per 500 words is ideal, max 2-3 links in total. Please include a meta description for your article. We appreciate you linking back to your post in your future articles – so please write something worth linking to. We reserve the right to do minor edits to your article.  How to Submit Content?  With a subject Guest Post Submission or Write for us – guest post, send the article in .docx, .doc, .txt file format and with images (if possiable) adigitallamp[@]gmail.com .  . You can also send meta description with the article content.  Top reasons of content rejected or no reply  Content not relevant to our website, duplicate content, etc.  Article or same topic already posted on Digital Lamp. Please make sure the article you have sent is not published on our website.  Use below search query to find guest blogging opportunities on Digital Lamp:  technology “write for us”  technology + “write for us” + guest post  technology + “write for us”  technology + “write for us” + “guest post”  technology write for us  write for us technology  write for us tech  tech “write for us”  technology “write for us”  tech write for us  tech + “write for us”  “write for us” tech  technology + “write for us”  technology write for us guest post  write for us tech blog  tech write for us guest post  “write for us” technology  technology + write for us + guest post  technology guest post  guest post technology  tech “write for us”  technology + write for us  write for us technology guest post  technology write for us” + guest post  technology blog “write for us”  write for us + technology  technology “guest post”  tech + write for us  write for us “tech”  tech blogs write for us  “technology” + “write for us”  “write for us” technology  technology articles write for us  business+technology “write for us”  write for us “tech blog”  web design “write for us”  technology + guest post submission  information technology write for us  tech blog write for us  tech blog guest post  submit guest post technology  tech guest post  tech blogs “write for us”  tech news write for us  web design write for us  business technology write for us  technical write for us  write for us technology content post  write for us guest post technology  marketing “write for us”  technology + write for us + paid guest post  tech”write for us”  “write for us” “technology”  tech blogs + “write for us”  guest post tech  tech blog “write for us”  technology sites write for us  write for us guest post  tech blog “write for us”  submit guest post + technology  “write for us” tech blog  “write for us” + tech blog  technology submit guest post  write for us +technology  tech tips write for us  “technology” “write for us”  write for us + tech blog  write for us tech blogs  technology blog “write for us”  gadgets “write for us”  write for us “technology”  technology+write for us  tech submit guest post  write for us technology blog  tech “guest post”  technology + write for us + free guest post  submit a guest post technology  technology submit a guest post  mobile technology + “write for us”  technology blogs write for us  technology, business write for us  write for us web design  write for us marketing  contribute to technology guest post  mobile technology “write for us”  technology blog write for us  write for us  guest post write for us  web design blog write for us  write for us “technology”  technology business “write for us”  “education” + “blogs” + “write for us”  business technology + “write for us”  marketing”+“write for us”  site write for us technology  business marketing “write for us”  technology write for us free guest post  “write for us” marketing  technology blog “write for us”  technology + “write for us”  gadgets write for us  gadgets “write for us”  technology “write for us”  business “write for us”  technology + “write for us” + guest post  “write for us” SEO  “write for us” Finance  in url write for us technology  “write for us” Digital Marketing  “write for us” Technology  business blog “write for us”  web development “write for us”  technology blog “write for us”  “submit guest post” + “technology”  technology guest post guidelines'"
            ],
            "application/vnd.google.colaboratory.intrinsic+json": {
              "type": "string"
            }
          },
          "metadata": {},
          "execution_count": 69
        }
      ]
    },
    {
      "cell_type": "code",
      "source": [
        "df_text.loc[0, 'lemmatized_text']"
      ],
      "metadata": {
        "id": "UqtS5dcHp0BL",
        "colab": {
          "base_uri": "https://localhost:8080/",
          "height": 143
        },
        "outputId": "bf903b9b-d544-4988-daf6-1b14a52fe027"
      },
      "execution_count": 70,
      "outputs": [
        {
          "output_type": "execute_result",
          "data": {
            "text/plain": [
              "'write for we . want to write for we ?   Digital Lamp , be one of the fast - grow tech blog . we allow you an endless opportunity for new author , technical content writer , freelance content write professional , and guest writer to technology + \" write for we \" + guest post ( contribute or submit Guest Post Article ) about the topic relate to Technology , Business , Internet , Gadgets , Digital Marketing , security , seo , Tech Blog , etc .   Technology be the way progressive for online business . why not share your expertise by guest blogging on technology blog to highlight awareness of this emerge trend .   you will obtain the benefit of be a guest blogger by establish yourself as an authority in the industry . on top of that , you will build social proof , create a robust online presence , develop new relationship with blogger and reader and rank well in the search engine .   all you need to do be meet the criterion set out by the technology blog below and submit your good work as a guest blogger .   guideline for Write for we Technology Blog   Content must be high quality , informative and 100 % Copyscape pass article . the article must be in the english language . the content length should be minimum of 1000 + word . Content must be well format with the sub - heading and short paragraph ( 2 - 3 line ) . once the article be publish then it will be own by Digital Lamp . no request for removal will be entertain . ( we will remove your link on request ) all link in the post should be to relevant and quality website . 1 link per 500 word be ideal , max 2 - 3 link in total . please include a meta description for your article . we appreciate you link back to your post in your future article – so please write something worth link to . we reserve the right to do minor edit to your article .   how to submit Content ?   with a subject Guest Post Submission or write for we – guest post , send the article in .docx , .doc , .txt file format and with image ( if possiable ) adigitallamp[@]gmail.com .   . you can also send meta description with the article content .   top reason of content reject or no reply   Content not relevant to our website , duplicate content , etc .   article or same topic already post on Digital Lamp . please make sure the article you have send be not publish on our website .   Use below search query to find guest blogging opportunity on Digital Lamp :   technology \" write for we \"   technology + \" write for we \" + guest post   technology + \" write for we \"   technology + \" write for we \" + \" guest post \"   technology write for we   write for we technology   write for we tech   tech \" write for we \"   technology \" write for we \"   tech write for we   tech + \" write for we \"   \" write for we \" tech   technology + \" write for we \"   technology write for we guest post   write for we tech blog   tech write for we guest post   \" write for we \" technology   technology + write for we + guest post   technology guest post   guest post technology   tech \" write for we \"   technology + write for we   write for we technology guest post   technology write for we \" + guest post   technology blog \" write for we \"   write for we + technology   technology \" guest post \"   tech + write for we   write for we \" tech \"   tech blog write for we   \" technology \" + \" write for we \"   \" write for we \" technology   technology article write for we   business+technology \" write for we \"   write for we \" tech blog \"   web design \" write for we \"   technology + guest post submission   information technology write for we   tech blog write for we   tech blog guest post   submit guest post technology   tech guest post   tech blog \" write for we \"   tech news write for we   web design write for we   business technology write for we   technical write for we   write for us technology content post   write for we guest post technology   marketing \" write for we \"   technology + write for we + pay guest post   tech”write for we \"   \" write for we \" \" technology \"   tech blog + \" write for we \"   guest post tech   tech blog \" write for we \"   technology site write for we   write for we guest post   tech blog \" write for we \"   submit guest post + technology   \" write for we \" tech blog   \" write for we \" + tech blog   technology submit guest post   write for we + technology   tech tip write for we   \" technology \" \" write for we \"   write for we + tech blog   write for we tech blog   technology blog \" write for we \"   gadget \" write for we \"   write for we \" technology \"   technology+write for we   tech submit guest post   write for us technology blog   tech \" guest post \"   technology + write for we + free guest post   submit a guest post technology   technology submit a guest post   mobile technology + \" write for we \"   technology blog write for we   technology , business write for we   write for us web design   write for us marketing   contribute to technology guest post   mobile technology \" write for we \"   technology blog write for we   write for we   guest post write for we   web design blog write for we   write for we \" technology \"   technology business \" write for we \"   \" education \" + \" blog \" + \" write for we \"   business technology + \" write for we \"   marketing”+“write for we \"   site write for us technology   business marketing \" write for we \"   technology write for we free guest post   \" write for we \" marketing   technology blog \" write for we \"   technology + \" write for we \"   gadget write for we   gadget \" write for we \"   technology \" write for we \"   business \" write for we \"   technology + \" write for we \" + guest post   \" write for we \" seo   \" write for we \" Finance   in url write for us technology   \" write for we \" Digital Marketing   \" write for we \" Technology   business blog \" write for we \"   web development \" write for we \"   technology blog \" write for we \"   \" submit guest post \" + \" technology \"   technology guest post guideline'"
            ],
            "application/vnd.google.colaboratory.intrinsic+json": {
              "type": "string"
            }
          },
          "metadata": {},
          "execution_count": 70
        }
      ]
    },
    {
      "cell_type": "code",
      "source": [
        "df_text.loc[0, 'lemmatized_cleaned_text']"
      ],
      "metadata": {
        "colab": {
          "base_uri": "https://localhost:8080/",
          "height": 143
        },
        "id": "8KKh-BmFf-bF",
        "outputId": "fee23515-d74d-4e83-ec10-d5a9e7bc066c"
      },
      "execution_count": 74,
      "outputs": [
        {
          "output_type": "execute_result",
          "data": {
            "text/plain": [
              "'write want write Digital Lamp one fast grow tech blog allow endless opportunity new author technical content writer freelance content write professional guest writer technology + write + guest post contribute submit Guest Post Article topic relate Technology Business Internet Gadgets Digital Marketing security seo Tech Blog etc Technology way progressive online business share expertise guest blogging technology blog highlight awareness emerge trend obtain benefit guest blogger establish authority industry top build social proof create robust online presence develop new relationship blogger reader rank well search engine need meet criterion set technology blog submit good work guest blogger guideline Write Technology Blog Content must high quality informative 100 Copyscape pass article article must english language content length minimum 1000 + word Content must well format sub heading short paragraph 2 3 line article publish Digital Lamp request removal entertain remove link request link post relevant quality website 1 link per 500 word ideal max 2 3 link total please include meta description article appreciate link back post future article please write something worth link reserve right minor edit article submit Content subject Guest Post Submission write guest post send article docx doc txt file format image possiable adigitallamp gmailcom also send meta description article content top reason content reject reply Content relevant website duplicate content etc article topic already post Digital Lamp please make sure article send publish website Use search query find guest blogging opportunity Digital Lamp technology write technology + write + guest post technology + write technology + write + guest post technology write write technology write tech tech write technology write tech write tech + write write tech technology + write technology write guest post write tech blog tech write guest post write technology technology + write + guest post technology guest post guest post technology tech write technology + write write technology guest post technology write + guest post technology blog write write + technology technology guest post tech + write write tech tech blog write technology + write write technology technology article write business+technology write write tech blog web design write technology + guest post submission information technology write tech blog write tech blog guest post submit guest post technology tech guest post tech blog write tech news write web design write business technology write technical write write us technology content post write guest post technology marketing write technology + write + pay guest post techwrite write technology tech blog + write guest post tech tech blog write technology site write write guest post tech blog write submit guest post + technology write tech blog write + tech blog technology submit guest post write + technology tech tip write technology write write + tech blog write tech blog technology blog write gadget write write technology technology+write tech submit guest post write us technology blog tech guest post technology + write + free guest post submit guest post technology technology submit guest post mobile technology + write technology blog write technology business write write us web design write us marketing contribute technology guest post mobile technology write technology blog write write guest post write web design blog write write technology technology business write education + blog + write business technology + write marketing+write site write us technology business marketing write technology write free guest post write marketing technology blog write technology + write gadget write gadget write technology write business write technology + write + guest post write seo write Finance url write us technology write Digital Marketing write Technology business blog write web development write technology blog write submit guest post + technology technology guest post guideline'"
            ],
            "application/vnd.google.colaboratory.intrinsic+json": {
              "type": "string"
            }
          },
          "metadata": {},
          "execution_count": 74
        }
      ]
    },
    {
      "cell_type": "code",
      "source": [
        "# df_text['lemmatized_text'].tolist()[10:30]"
      ],
      "metadata": {
        "id": "P1X85Q3RGkbC"
      },
      "execution_count": 23,
      "outputs": []
    },
    {
      "cell_type": "code",
      "source": [],
      "metadata": {
        "id": "5dRu6lBpdeUF"
      },
      "execution_count": null,
      "outputs": []
    },
    {
      "cell_type": "code",
      "source": [
        "# Important cell # 9\n",
        "column_used = 'lemmatized_cleaned_text'\n",
        "\n",
        "X = df_text[[column_used]]\n",
        "y = df_text[TARGET]\n",
        "\n",
        "X_train, X_test, y_train, y_test = train_test_split(X, y, \n",
        "                                                    test_size=test_size,\n",
        "                                                    stratify=y, \n",
        "                                                    random_state=random_state)"
      ],
      "metadata": {
        "id": "I5Sjgtn7U_7b"
      },
      "execution_count": 75,
      "outputs": []
    },
    {
      "cell_type": "code",
      "source": [
        "# Important cell # 10\n",
        "majority_class = y_train.value_counts().index[0]\n",
        "baseline_accuracy = sum(y_test == majority_class) / len(y_test)\n",
        "print(f'Baseline accuracy: {baseline_accuracy:.4f}')"
      ],
      "metadata": {
        "id": "40jI-LxoVPZW",
        "colab": {
          "base_uri": "https://localhost:8080/"
        },
        "outputId": "0ae3ac1a-1a3d-45be-89f8-2c9ae3704c3b"
      },
      "execution_count": 76,
      "outputs": [
        {
          "output_type": "stream",
          "name": "stdout",
          "text": [
            "Baseline accuracy: 0.3833\n"
          ]
        }
      ]
    },
    {
      "cell_type": "code",
      "source": [
        "def get_most_common_tokens(df, column, amount=10):\n",
        "  tokenized = [word_tokenize(string) for string in df[column]]\n",
        "  flat_list = [item for sublist in tokenized for item in sublist]\n",
        "  return Counter(flat_list).most_common(amount)\n",
        "\n",
        "get_most_common_tokens(df=df_text, column='lemmatized_cleaned_text', amount=10)"
      ],
      "metadata": {
        "colab": {
          "base_uri": "https://localhost:8080/"
        },
        "id": "f9pkhMMIdsWg",
        "outputId": "3274eb3a-e36d-4ce5-b025-4d4c832c38b7"
      },
      "execution_count": 77,
      "outputs": [
        {
          "output_type": "execute_result",
          "data": {
            "text/plain": [
              "[('use', 1197),\n",
              " ('content', 1154),\n",
              " ('I', 1043),\n",
              " ('post', 999),\n",
              " ('get', 840),\n",
              " ('make', 827),\n",
              " ('write', 762),\n",
              " ('search', 756),\n",
              " ('email', 740),\n",
              " ('page', 711)]"
            ]
          },
          "metadata": {},
          "execution_count": 77
        }
      ]
    },
    {
      "cell_type": "code",
      "source": [
        "# Important cell # 11\n",
        "vectorizer = TfidfVectorizer(ngram_range=(1, 3))\n",
        "X_train_tr = vectorizer.fit_transform(X_train[column_used])\n",
        "X_test_tr = vectorizer.transform(X_test[column_used])"
      ],
      "metadata": {
        "id": "C2hZ0HxiVPc7"
      },
      "execution_count": 78,
      "outputs": []
    },
    {
      "cell_type": "code",
      "source": [
        "X_train_tr.toarray().shape, X_test_tr.toarray().shape"
      ],
      "metadata": {
        "id": "qZ3g9StMLuVL",
        "colab": {
          "base_uri": "https://localhost:8080/"
        },
        "outputId": "e8de751d-2e1b-4118-faf5-94daa7ad169d"
      },
      "execution_count": 79,
      "outputs": [
        {
          "output_type": "execute_result",
          "data": {
            "text/plain": [
              "((238, 183386), (60, 183386))"
            ]
          },
          "metadata": {},
          "execution_count": 79
        }
      ]
    },
    {
      "cell_type": "code",
      "source": [
        "# import string\n",
        "\n",
        "# # STOPWORDS = stop_words.ENGLISH_STOP_WORDS\n",
        "\n",
        "# #Function for basic cleaning/preprocessing texts\n",
        "# def clean(doc):\n",
        "#     # Removal of punctuation marks (.,/\\][{} etc) and numbers\n",
        "#     doc = \"\".join([char for char in doc if char not in string.punctuation and not char.isdigit()])\n",
        "#     # Removal of stopwords\n",
        "#     doc = \" \".join([token for token in doc.split() if token not in STOPWORDS])\n",
        "#     return doc.lower()\n",
        "\n",
        "# string.punctuation"
      ],
      "metadata": {
        "id": "JOjyg4MA8dIJ"
      },
      "execution_count": 28,
      "outputs": []
    },
    {
      "cell_type": "markdown",
      "source": [
        "# Modeling"
      ],
      "metadata": {
        "id": "Oh4hWsssUReP"
      }
    },
    {
      "cell_type": "code",
      "source": [
        "def fit_model(clf, X_train_transformed, y_train):\n",
        "  clf.fit(X_train_transformed, y_train)\n",
        "  return clf"
      ],
      "metadata": {
        "id": "boW_aOuiUTXE"
      },
      "execution_count": 29,
      "outputs": []
    },
    {
      "cell_type": "code",
      "source": [
        "def predict(clf, X_test_transformed):\n",
        "  y_pred = clf.predict(X_test_transformed)\n",
        "  return y_pred"
      ],
      "metadata": {
        "id": "Y6Cqnf2NV8Tn"
      },
      "execution_count": 30,
      "outputs": []
    },
    {
      "cell_type": "code",
      "source": [
        "def get_accuracy(y_test, y_pred):\n",
        "  accuracy = sum(y_pred == y_test) / len(y_test)\n",
        "  return accuracy"
      ],
      "metadata": {
        "id": "GQYLRK78V-ID"
      },
      "execution_count": 31,
      "outputs": []
    },
    {
      "cell_type": "code",
      "source": [
        "def print_important_features(clf, features=5):\n",
        "  \"\"\" \n",
        "  Get the most important features of a classifier when using a linear kernel (e.g. Logistic Regression, not SVM)\n",
        "  \"\"\"\n",
        "  coef_importances = np.argsort(clf.coef_, axis=1)\n",
        "  for i, class_ in enumerate(coef_importances[:, :features]):\n",
        "      print(f'Class \"{clf.classes_[i]}\" - {features} most important features: '\n",
        "            f'{vectorizer.get_feature_names_out()[class_]}')"
      ],
      "metadata": {
        "id": "HnBEtElRV_27"
      },
      "execution_count": 32,
      "outputs": []
    },
    {
      "cell_type": "code",
      "source": [
        "def print_confusion_matrix(y_test, y_pred, with_report=False):\n",
        "  ConfusionMatrixDisplay.from_predictions(y_test, y_pred)\n",
        "  plt.title(f'Confusion matrix - acc {get_accuracy(y_test, y_pred):.3f}', size=15)\n",
        "  plt.show()\n",
        "  if with_report:\n",
        "    print('\\n' + classification_report(y_test, y_pred))"
      ],
      "metadata": {
        "id": "3-nmKS_TWBhH"
      },
      "execution_count": 33,
      "outputs": []
    },
    {
      "cell_type": "code",
      "source": [
        "def get_best_clf(clfs, X_train, X_test, y_train, y_test):\n",
        "    results = []\n",
        "    best_clf = None\n",
        "    best_clf_name = None\n",
        "    best_accuracy = 0\n",
        "\n",
        "    for clf_name, clf in clfs:\n",
        "        clf.fit(X_train, y_train)\n",
        "        acc = clf.score(X_test, y_test) # accuracy score\n",
        "        \n",
        "        if acc > best_accuracy:\n",
        "            best_accuracy = acc\n",
        "            best_clf = clf\n",
        "            best_clf_name = clf_name\n",
        "\n",
        "        results.append({'clf': clf_name,\n",
        "                        'accuracy': acc})\n",
        "        \n",
        "    print(pd.DataFrame(results).set_index('clf'))\n",
        "    return best_clf, best_clf_name, best_accuracy"
      ],
      "metadata": {
        "id": "X-BD-0YMW1wY"
      },
      "execution_count": 34,
      "outputs": []
    },
    {
      "cell_type": "code",
      "source": [
        "clfs = [\n",
        "    ('LogisticRegression', LogisticRegression(max_iter=3000,\n",
        "                                              class_weight='balanced')), \n",
        "    ('RandomForest', RandomForestClassifier(max_depth=18,\n",
        "                                            n_estimators=75,\n",
        "                                            random_state=0)), \n",
        "    ('KNN 5', KNeighborsClassifier(n_neighbors=5)),\n",
        "    # ('KNN 7', KNeighborsClassifier(n_neighbors=7)),\n",
        "    # ('KNN 12', KNeighborsClassifier(n_neighbors=12)),\n",
        "    # ('KNN 20', KNeighborsClassifier(n_neighbors=20)),\n",
        "    ('SVM C1', SVC(C=1, \n",
        "                   class_weight='balanced')),\n",
        "    ('MultinomialNB', MultinomialNB())\n",
        "]\n",
        "\n",
        "# clf, clf_name, val_acc = get_best_clf(clfs, X_train, X_test, y_train, y_test) # To use when I have more data for validation set\n",
        "# print(f'Best classifier: {clf_name}, validation accuracy: {val_acc:.3f}, '\n",
        "#       f'test accuracy: {clf.score(X_test, y_test):.3f}')\n",
        "\n",
        "clf, clf_name, test_acc = get_best_clf(clfs, X_train_tr, X_test_tr, y_train, y_test)\n",
        "print(f'Best classifier: {clf_name}, test accuracy: {test_acc:.3f}')"
      ],
      "metadata": {
        "id": "aGg_SS1hW1yw",
        "colab": {
          "base_uri": "https://localhost:8080/"
        },
        "outputId": "294f5ac4-3746-47b1-fe02-7e7ae82608fb"
      },
      "execution_count": 83,
      "outputs": [
        {
          "output_type": "stream",
          "name": "stdout",
          "text": [
            "                    accuracy\n",
            "clf                         \n",
            "LogisticRegression  0.816667\n",
            "RandomForest        0.700000\n",
            "KNN 5               0.500000\n",
            "SVM C1              0.700000\n",
            "MultinomialNB       0.566667\n",
            "Best classifier: LogisticRegression, test accuracy: 0.817\n"
          ]
        }
      ]
    },
    {
      "cell_type": "code",
      "source": [
        "clf = fit_model(SVC(C=1, \n",
        "                    class_weight='balanced'\n",
        "                    ),\n",
        "                X_train_tr, \n",
        "                y_train)\n",
        "\n",
        "y_pred = predict(clf, X_test_tr)\n",
        "\n",
        "print_confusion_matrix(y_test, y_pred, with_report=True)"
      ],
      "metadata": {
        "id": "cvB7vYsd0CEv",
        "colab": {
          "base_uri": "https://localhost:8080/",
          "height": 511
        },
        "outputId": "7cd2124b-3c58-4f02-af2e-12c6fd7ef9b3"
      },
      "execution_count": 81,
      "outputs": [
        {
          "output_type": "display_data",
          "data": {
            "text/plain": [
              "<Figure size 432x288 with 2 Axes>"
            ],
            "image/png": "[encoded data removed]"
          },
          "metadata": {
            "needs_background": "light"
          }
        },
        {
          "output_type": "stream",
          "name": "stdout",
          "text": [
            "\n",
            "              precision    recall  f1-score   support\n",
            "\n",
            "        Blog       0.79      0.94      0.86        16\n",
            "   Home Page       0.62      0.91      0.74        23\n",
            "        MISC       0.83      0.38      0.53        13\n",
            "Product Page       1.00      0.12      0.22         8\n",
            "\n",
            "    accuracy                           0.70        60\n",
            "   macro avg       0.81      0.59      0.59        60\n",
            "weighted avg       0.76      0.70      0.65        60\n",
            "\n"
          ]
        }
      ]
    },
    {
      "cell_type": "code",
      "source": [
        "clf = fit_model(LogisticRegression(max_iter=3000, \n",
        "                                   class_weight='balanced'\n",
        "                                   ), \n",
        "                X_train_tr, \n",
        "                y_train)\n",
        "\n",
        "y_pred = predict(clf, X_test_tr)\n",
        "\n",
        "print_confusion_matrix(y_test, y_pred, with_report=True)"
      ],
      "metadata": {
        "id": "Hs_XD8NeWDLB",
        "colab": {
          "base_uri": "https://localhost:8080/",
          "height": 511
        },
        "outputId": "12c6f777-ad85-4f67-9824-a063d26c9f49"
      },
      "execution_count": 84,
      "outputs": [
        {
          "output_type": "display_data",
          "data": {
            "text/plain": [
              "<Figure size 432x288 with 2 Axes>"
            ],
            "image/png": "[encoded data removed]"
          },
          "metadata": {
            "needs_background": "light"
          }
        },
        {
          "output_type": "stream",
          "name": "stdout",
          "text": [
            "\n",
            "              precision    recall  f1-score   support\n",
            "\n",
            "        Blog       0.68      0.94      0.79        16\n",
            "   Home Page       0.86      0.83      0.84        23\n",
            "        MISC       0.91      0.77      0.83        13\n",
            "Product Page       1.00      0.62      0.77         8\n",
            "\n",
            "    accuracy                           0.82        60\n",
            "   macro avg       0.86      0.79      0.81        60\n",
            "weighted avg       0.84      0.82      0.82        60\n",
            "\n"
          ]
        }
      ]
    },
    {
      "cell_type": "code",
      "source": [
        "def print_important_features(clf, features=5):\n",
        "  \"\"\" \n",
        "  Get the most important features of a classifier when using a linear kernel (e.g. Logistic Regression, not SVM)\n",
        "  \"\"\"\n",
        "  coef_importances = np.argsort(clf.coef_, axis=1)\n",
        "  for i, class_ in enumerate(coef_importances[:, :features]):\n",
        "      print(f'Class \"{clf.classes_[i]}\" - {features} most important features: '\n",
        "            f'{vectorizer.get_feature_names_out()[class_]}')\n",
        "\n",
        "print_important_features(clf, features=5) # with 'lemmatized_text' column"
      ],
      "metadata": {
        "colab": {
          "base_uri": "https://localhost:8080/"
        },
        "id": "n3JbYJvieeoD",
        "outputId": "3e7e9a7b-219e-4a74-c94c-f0a1bd9252a4"
      },
      "execution_count": 45,
      "outputs": [
        {
          "output_type": "stream",
          "name": "stdout",
          "text": [
            "Class \"Blog\" - 5 most important features: ['guest' 'guest post' 'product' 'our' 'ecommerce']\n",
            "Class \"Home Page\" - 5 most important features: ['to' 'the' 'be' 'your' 'you']\n",
            "Class \"MISC\" - 5 most important features: ['search' 'seo' 'of' 'that' 'essay']\n",
            "Class \"Product Page\" - 5 most important features: ['the' 'post' 'be' 'guest' 'to']\n"
          ]
        }
      ]
    },
    {
      "cell_type": "code",
      "source": [
        "print_important_features(clf, features=5) # with 'lemmatized_cleaned_text' column"
      ],
      "metadata": {
        "colab": {
          "base_uri": "https://localhost:8080/"
        },
        "id": "iydJ_Jw9jmRU",
        "outputId": "ddf58d6d-25f6-401f-f682-a909ebd5dadb"
      },
      "execution_count": 85,
      "outputs": [
        {
          "output_type": "stream",
          "name": "stdout",
          "text": [
            "Class \"Blog\" - 5 most important features: ['guest' 'guest post' 'please' 'digital' 'shipping']\n",
            "Class \"Home Page\" - 5 most important features: ['post' 'write' 'content' 'customer' 'guest']\n",
            "Class \"MISC\" - 5 most important features: ['search' 'seo' 'essay' 'stock' 'google']\n",
            "Class \"Product Page\" - 5 most important features: ['post' 'guest' 'article' 'blog' 'guest post']\n"
          ]
        }
      ]
    },
    {
      "cell_type": "code",
      "source": [
        "def create_misclassified_df(X_test, y_test, y_pred):\n",
        "  df = X_test.copy()[y_pred != y_test]\n",
        "  df['y_true'] = y_test[y_pred != y_test]\n",
        "  df['y_pred'] = y_pred[y_pred != y_test]\n",
        "  return df\n",
        "\n",
        "misclassified_df = create_misclassified_df(X_test, y_test, y_pred) # with 'lemmatized_text' column\n",
        "misclassified_df"
      ],
      "metadata": {
        "id": "Ox6JIG0mqPzP",
        "colab": {
          "base_uri": "https://localhost:8080/",
          "height": 457
        },
        "outputId": "ab45b6f0-6d3a-43ec-f949-99e62937f79c"
      },
      "execution_count": 38,
      "outputs": [
        {
          "output_type": "execute_result",
          "data": {
            "text/plain": [
              "                                       lemmatized_text        y_true  \\\n",
              "234  MIPA - DKIM .    Home Deployment ietf WG FAQ m...          MISC   \n",
              "203  Cryptonizor – know how to Store . Aug 1 , 2022...     Home Page   \n",
              "235  dmarc.org – Domain Message Authentication Repo...     Home Page   \n",
              "295  Digital Marketing & Entrepreneurship Blog . wh...          MISC   \n",
              "52   search listening tool for market , customer & ...     Home Page   \n",
              "26   AI Chatbot Software for Automated Customer Ser...  Product Page   \n",
              "173  Content Analytics and Insights for Digital Pub...     Home Page   \n",
              "212  powerful api Stack for Data - drive seo Tools ...          Blog   \n",
              "42   seo Toolbar by Ahrefs . what be Ahrefs seo Too...  Product Page   \n",
              "263  Fearlessflyer.com . interested in writing for ...     Home Page   \n",
              "201  the CPD Certification Service - CPD Accreditat...     Home Page   \n",
              "57   check Visibility Index . check the SISTRIX Vis...  Product Page   \n",
              "163  help with custom and send good abroad . do I n...          MISC   \n",
              "\n",
              "        y_pred  \n",
              "234       Blog  \n",
              "203       Blog  \n",
              "235       Blog  \n",
              "295  Home Page  \n",
              "52        Blog  \n",
              "26   Home Page  \n",
              "173       Blog  \n",
              "212  Home Page  \n",
              "42   Home Page  \n",
              "263       MISC  \n",
              "201       Blog  \n",
              "57        Blog  \n",
              "163       Blog  "
            ],
            "text/html": [
              "\n",
              "  <div id=\"df-6a19d8da-5a57-4307-911e-8c04cd8c212c\">\n",
              "    <div class=\"colab-df-container\">\n",
              "      <div>\n",
              "<style scoped>\n",
              "    .dataframe tbody tr th:only-of-type {\n",
              "        vertical-align: middle;\n",
              "    }\n",
              "\n",
              "    .dataframe tbody tr th {\n",
              "        vertical-align: top;\n",
              "    }\n",
              "\n",
              "    .dataframe thead th {\n",
              "        text-align: right;\n",
              "    }\n",
              "</style>\n",
              "<table border=\"1\" class=\"dataframe\">\n",
              "  <thead>\n",
              "    <tr style=\"text-align: right;\">\n",
              "      <th></th>\n",
              "      <th>lemmatized_text</th>\n",
              "      <th>y_true</th>\n",
              "      <th>y_pred</th>\n",
              "    </tr>\n",
              "  </thead>\n",
              "  <tbody>\n",
              "    <tr>\n",
              "      <th>234</th>\n",
              "      <td>MIPA - DKIM .    Home Deployment ietf WG FAQ m...</td>\n",
              "      <td>MISC</td>\n",
              "      <td>Blog</td>\n",
              "    </tr>\n",
              "    <tr>\n",
              "      <th>203</th>\n",
              "      <td>Cryptonizor – know how to Store . Aug 1 , 2022...</td>\n",
              "      <td>Home Page</td>\n",
              "      <td>Blog</td>\n",
              "    </tr>\n",
              "    <tr>\n",
              "      <th>235</th>\n",
              "      <td>dmarc.org – Domain Message Authentication Repo...</td>\n",
              "      <td>Home Page</td>\n",
              "      <td>Blog</td>\n",
              "    </tr>\n",
              "    <tr>\n",
              "      <th>295</th>\n",
              "      <td>Digital Marketing &amp; Entrepreneurship Blog . wh...</td>\n",
              "      <td>MISC</td>\n",
              "      <td>Home Page</td>\n",
              "    </tr>\n",
              "    <tr>\n",
              "      <th>52</th>\n",
              "      <td>search listening tool for market , customer &amp; ...</td>\n",
              "      <td>Home Page</td>\n",
              "      <td>Blog</td>\n",
              "    </tr>\n",
              "    <tr>\n",
              "      <th>26</th>\n",
              "      <td>AI Chatbot Software for Automated Customer Ser...</td>\n",
              "      <td>Product Page</td>\n",
              "      <td>Home Page</td>\n",
              "    </tr>\n",
              "    <tr>\n",
              "      <th>173</th>\n",
              "      <td>Content Analytics and Insights for Digital Pub...</td>\n",
              "      <td>Home Page</td>\n",
              "      <td>Blog</td>\n",
              "    </tr>\n",
              "    <tr>\n",
              "      <th>212</th>\n",
              "      <td>powerful api Stack for Data - drive seo Tools ...</td>\n",
              "      <td>Blog</td>\n",
              "      <td>Home Page</td>\n",
              "    </tr>\n",
              "    <tr>\n",
              "      <th>42</th>\n",
              "      <td>seo Toolbar by Ahrefs . what be Ahrefs seo Too...</td>\n",
              "      <td>Product Page</td>\n",
              "      <td>Home Page</td>\n",
              "    </tr>\n",
              "    <tr>\n",
              "      <th>263</th>\n",
              "      <td>Fearlessflyer.com . interested in writing for ...</td>\n",
              "      <td>Home Page</td>\n",
              "      <td>MISC</td>\n",
              "    </tr>\n",
              "    <tr>\n",
              "      <th>201</th>\n",
              "      <td>the CPD Certification Service - CPD Accreditat...</td>\n",
              "      <td>Home Page</td>\n",
              "      <td>Blog</td>\n",
              "    </tr>\n",
              "    <tr>\n",
              "      <th>57</th>\n",
              "      <td>check Visibility Index . check the SISTRIX Vis...</td>\n",
              "      <td>Product Page</td>\n",
              "      <td>Blog</td>\n",
              "    </tr>\n",
              "    <tr>\n",
              "      <th>163</th>\n",
              "      <td>help with custom and send good abroad . do I n...</td>\n",
              "      <td>MISC</td>\n",
              "      <td>Blog</td>\n",
              "    </tr>\n",
              "  </tbody>\n",
              "</table>\n",
              "</div>\n",
              "      <button class=\"colab-df-convert\" onclick=\"convertToInteractive('df-6a19d8da-5a57-4307-911e-8c04cd8c212c')\"\n",
              "              title=\"Convert this dataframe to an interactive table.\"\n",
              "              style=\"display:none;\">\n",
              "        \n",
              "  <svg xmlns=\"http://www.w3.org/2000/svg\" height=\"24px\"viewBox=\"0 0 24 24\"\n",
              "       width=\"24px\">\n",
              "    <path d=\"M0 0h24v24H0V0z\" fill=\"none\"/>\n",
              "    <path d=\"M18.56 5.44l.94 2.06.94-2.06 2.06-.94-2.06-.94-.94-2.06-.94 2.06-2.06.94zm-11 1L8.5 8.5l.94-2.06 2.06-.94-2.06-.94L8.5 2.5l-.94 2.06-2.06.94zm10 10l.94 2.06.94-2.06 2.06-.94-2.06-.94-.94-2.06-.94 2.06-2.06.94z\"/><path d=\"M17.41 7.96l-1.37-1.37c-.4-.4-.92-.59-1.43-.59-.52 0-1.04.2-1.43.59L10.3 9.45l-7.72 7.72c-.78.78-.78 2.05 0 2.83L4 21.41c.39.39.9.59 1.41.59.51 0 1.02-.2 1.41-.59l7.78-7.78 2.81-2.81c.8-.78.8-2.07 0-2.86zM5.41 20L4 18.59l7.72-7.72 1.47 1.35L5.41 20z\"/>\n",
              "  </svg>\n",
              "      </button>\n",
              "      \n",
              "  <style>\n",
              "    .colab-df-container {\n",
              "      display:flex;\n",
              "      flex-wrap:wrap;\n",
              "      gap: 12px;\n",
              "    }\n",
              "\n",
              "    .colab-df-convert {\n",
              "      background-color: #E8F0FE;\n",
              "      border: none;\n",
              "      border-radius: 50%;\n",
              "      cursor: pointer;\n",
              "      display: none;\n",
              "      fill: #1967D2;\n",
              "      height: 32px;\n",
              "      padding: 0 0 0 0;\n",
              "      width: 32px;\n",
              "    }\n",
              "\n",
              "    .colab-df-convert:hover {\n",
              "      background-color: #E2EBFA;\n",
              "      box-shadow: 0px 1px 2px rgba(60, 64, 67, 0.3), 0px 1px 3px 1px rgba(60, 64, 67, 0.15);\n",
              "      fill: #174EA6;\n",
              "    }\n",
              "\n",
              "    [theme=dark] .colab-df-convert {\n",
              "      background-color: #3B4455;\n",
              "      fill: #D2E3FC;\n",
              "    }\n",
              "\n",
              "    [theme=dark] .colab-df-convert:hover {\n",
              "      background-color: #434B5C;\n",
              "      box-shadow: 0px 1px 3px 1px rgba(0, 0, 0, 0.15);\n",
              "      filter: drop-shadow(0px 1px 2px rgba(0, 0, 0, 0.3));\n",
              "      fill: #FFFFFF;\n",
              "    }\n",
              "  </style>\n",
              "\n",
              "      <script>\n",
              "        const buttonEl =\n",
              "          document.querySelector('#df-6a19d8da-5a57-4307-911e-8c04cd8c212c button.colab-df-convert');\n",
              "        buttonEl.style.display =\n",
              "          google.colab.kernel.accessAllowed ? 'block' : 'none';\n",
              "\n",
              "        async function convertToInteractive(key) {\n",
              "          const element = document.querySelector('#df-6a19d8da-5a57-4307-911e-8c04cd8c212c');\n",
              "          const dataTable =\n",
              "            await google.colab.kernel.invokeFunction('convertToInteractive',\n",
              "                                                     [key], {});\n",
              "          if (!dataTable) return;\n",
              "\n",
              "          const docLinkHtml = 'Like what you see? Visit the ' +\n",
              "            '<a target=\"_blank\" href=https://colab.research.google.com/notebooks/data_table.ipynb>data table notebook</a>'\n",
              "            + ' to learn more about interactive tables.';\n",
              "          element.innerHTML = '';\n",
              "          dataTable['output_type'] = 'display_data';\n",
              "          await google.colab.output.renderOutput(dataTable, element);\n",
              "          const docLink = document.createElement('div');\n",
              "          docLink.innerHTML = docLinkHtml;\n",
              "          element.appendChild(docLink);\n",
              "        }\n",
              "      </script>\n",
              "    </div>\n",
              "  </div>\n",
              "  "
            ]
          },
          "metadata": {},
          "execution_count": 38
        }
      ]
    },
    {
      "cell_type": "code",
      "source": [
        "misclassified_df = create_misclassified_df(X_test, y_test, y_pred) # with 'lemmatized_cleaned_text' column\n",
        "misclassified_df"
      ],
      "metadata": {
        "id": "MSpwCbLo2Jty",
        "colab": {
          "base_uri": "https://localhost:8080/",
          "height": 394
        },
        "outputId": "dceca4b1-b25d-4296-9081-13dbe37f348d"
      },
      "execution_count": 86,
      "outputs": [
        {
          "output_type": "execute_result",
          "data": {
            "text/plain": [
              "                               lemmatized_cleaned_text        y_true  \\\n",
              "234  MIPA DKIM Home Deployment ietf WG FAQ mipa dki...          MISC   \n",
              "184  Content Strategy Enterprise Marketers Content ...     Home Page   \n",
              "295  Digital Marketing Entrepreneurship Blog would ...          MISC   \n",
              "52   search listening tool market customer content ...     Home Page   \n",
              "26   AI Chatbot Software Automated Customer Service...  Product Page   \n",
              "173  Content Analytics Insights Digital Publishing ...     Home Page   \n",
              "212  powerful api Stack Data drive seo Tools datafo...          Blog   \n",
              "42   seo Toolbar Ahrefs Ahrefs seo Toolbar Ahrefs s...  Product Page   \n",
              "263  Fearlessflyercom interested writing fuel artic...     Home Page   \n",
              "57   check Visibility Index check SISTRIX Visibilit...  Product Page   \n",
              "163  help custom send good abroad I need fill custo...          MISC   \n",
              "\n",
              "        y_pred  \n",
              "234       Blog  \n",
              "184       Blog  \n",
              "295  Home Page  \n",
              "52        Blog  \n",
              "26   Home Page  \n",
              "173       Blog  \n",
              "212  Home Page  \n",
              "42        Blog  \n",
              "263       MISC  \n",
              "57        Blog  \n",
              "163       Blog  "
            ],
            "text/html": [
              "\n",
              "  <div id=\"df-d3a6ab44-64c0-41a1-afa0-142c5d4e7177\">\n",
              "    <div class=\"colab-df-container\">\n",
              "      <div>\n",
              "<style scoped>\n",
              "    .dataframe tbody tr th:only-of-type {\n",
              "        vertical-align: middle;\n",
              "    }\n",
              "\n",
              "    .dataframe tbody tr th {\n",
              "        vertical-align: top;\n",
              "    }\n",
              "\n",
              "    .dataframe thead th {\n",
              "        text-align: right;\n",
              "    }\n",
              "</style>\n",
              "<table border=\"1\" class=\"dataframe\">\n",
              "  <thead>\n",
              "    <tr style=\"text-align: right;\">\n",
              "      <th></th>\n",
              "      <th>lemmatized_cleaned_text</th>\n",
              "      <th>y_true</th>\n",
              "      <th>y_pred</th>\n",
              "    </tr>\n",
              "  </thead>\n",
              "  <tbody>\n",
              "    <tr>\n",
              "      <th>234</th>\n",
              "      <td>MIPA DKIM Home Deployment ietf WG FAQ mipa dki...</td>\n",
              "      <td>MISC</td>\n",
              "      <td>Blog</td>\n",
              "    </tr>\n",
              "    <tr>\n",
              "      <th>184</th>\n",
              "      <td>Content Strategy Enterprise Marketers Content ...</td>\n",
              "      <td>Home Page</td>\n",
              "      <td>Blog</td>\n",
              "    </tr>\n",
              "    <tr>\n",
              "      <th>295</th>\n",
              "      <td>Digital Marketing Entrepreneurship Blog would ...</td>\n",
              "      <td>MISC</td>\n",
              "      <td>Home Page</td>\n",
              "    </tr>\n",
              "    <tr>\n",
              "      <th>52</th>\n",
              "      <td>search listening tool market customer content ...</td>\n",
              "      <td>Home Page</td>\n",
              "      <td>Blog</td>\n",
              "    </tr>\n",
              "    <tr>\n",
              "      <th>26</th>\n",
              "      <td>AI Chatbot Software Automated Customer Service...</td>\n",
              "      <td>Product Page</td>\n",
              "      <td>Home Page</td>\n",
              "    </tr>\n",
              "    <tr>\n",
              "      <th>173</th>\n",
              "      <td>Content Analytics Insights Digital Publishing ...</td>\n",
              "      <td>Home Page</td>\n",
              "      <td>Blog</td>\n",
              "    </tr>\n",
              "    <tr>\n",
              "      <th>212</th>\n",
              "      <td>powerful api Stack Data drive seo Tools datafo...</td>\n",
              "      <td>Blog</td>\n",
              "      <td>Home Page</td>\n",
              "    </tr>\n",
              "    <tr>\n",
              "      <th>42</th>\n",
              "      <td>seo Toolbar Ahrefs Ahrefs seo Toolbar Ahrefs s...</td>\n",
              "      <td>Product Page</td>\n",
              "      <td>Blog</td>\n",
              "    </tr>\n",
              "    <tr>\n",
              "      <th>263</th>\n",
              "      <td>Fearlessflyercom interested writing fuel artic...</td>\n",
              "      <td>Home Page</td>\n",
              "      <td>MISC</td>\n",
              "    </tr>\n",
              "    <tr>\n",
              "      <th>57</th>\n",
              "      <td>check Visibility Index check SISTRIX Visibilit...</td>\n",
              "      <td>Product Page</td>\n",
              "      <td>Blog</td>\n",
              "    </tr>\n",
              "    <tr>\n",
              "      <th>163</th>\n",
              "      <td>help custom send good abroad I need fill custo...</td>\n",
              "      <td>MISC</td>\n",
              "      <td>Blog</td>\n",
              "    </tr>\n",
              "  </tbody>\n",
              "</table>\n",
              "</div>\n",
              "      <button class=\"colab-df-convert\" onclick=\"convertToInteractive('df-d3a6ab44-64c0-41a1-afa0-142c5d4e7177')\"\n",
              "              title=\"Convert this dataframe to an interactive table.\"\n",
              "              style=\"display:none;\">\n",
              "        \n",
              "  <svg xmlns=\"http://www.w3.org/2000/svg\" height=\"24px\"viewBox=\"0 0 24 24\"\n",
              "       width=\"24px\">\n",
              "    <path d=\"M0 0h24v24H0V0z\" fill=\"none\"/>\n",
              "    <path d=\"M18.56 5.44l.94 2.06.94-2.06 2.06-.94-2.06-.94-.94-2.06-.94 2.06-2.06.94zm-11 1L8.5 8.5l.94-2.06 2.06-.94-2.06-.94L8.5 2.5l-.94 2.06-2.06.94zm10 10l.94 2.06.94-2.06 2.06-.94-2.06-.94-.94-2.06-.94 2.06-2.06.94z\"/><path d=\"M17.41 7.96l-1.37-1.37c-.4-.4-.92-.59-1.43-.59-.52 0-1.04.2-1.43.59L10.3 9.45l-7.72 7.72c-.78.78-.78 2.05 0 2.83L4 21.41c.39.39.9.59 1.41.59.51 0 1.02-.2 1.41-.59l7.78-7.78 2.81-2.81c.8-.78.8-2.07 0-2.86zM5.41 20L4 18.59l7.72-7.72 1.47 1.35L5.41 20z\"/>\n",
              "  </svg>\n",
              "      </button>\n",
              "      \n",
              "  <style>\n",
              "    .colab-df-container {\n",
              "      display:flex;\n",
              "      flex-wrap:wrap;\n",
              "      gap: 12px;\n",
              "    }\n",
              "\n",
              "    .colab-df-convert {\n",
              "      background-color: #E8F0FE;\n",
              "      border: none;\n",
              "      border-radius: 50%;\n",
              "      cursor: pointer;\n",
              "      display: none;\n",
              "      fill: #1967D2;\n",
              "      height: 32px;\n",
              "      padding: 0 0 0 0;\n",
              "      width: 32px;\n",
              "    }\n",
              "\n",
              "    .colab-df-convert:hover {\n",
              "      background-color: #E2EBFA;\n",
              "      box-shadow: 0px 1px 2px rgba(60, 64, 67, 0.3), 0px 1px 3px 1px rgba(60, 64, 67, 0.15);\n",
              "      fill: #174EA6;\n",
              "    }\n",
              "\n",
              "    [theme=dark] .colab-df-convert {\n",
              "      background-color: #3B4455;\n",
              "      fill: #D2E3FC;\n",
              "    }\n",
              "\n",
              "    [theme=dark] .colab-df-convert:hover {\n",
              "      background-color: #434B5C;\n",
              "      box-shadow: 0px 1px 3px 1px rgba(0, 0, 0, 0.15);\n",
              "      filter: drop-shadow(0px 1px 2px rgba(0, 0, 0, 0.3));\n",
              "      fill: #FFFFFF;\n",
              "    }\n",
              "  </style>\n",
              "\n",
              "      <script>\n",
              "        const buttonEl =\n",
              "          document.querySelector('#df-d3a6ab44-64c0-41a1-afa0-142c5d4e7177 button.colab-df-convert');\n",
              "        buttonEl.style.display =\n",
              "          google.colab.kernel.accessAllowed ? 'block' : 'none';\n",
              "\n",
              "        async function convertToInteractive(key) {\n",
              "          const element = document.querySelector('#df-d3a6ab44-64c0-41a1-afa0-142c5d4e7177');\n",
              "          const dataTable =\n",
              "            await google.colab.kernel.invokeFunction('convertToInteractive',\n",
              "                                                     [key], {});\n",
              "          if (!dataTable) return;\n",
              "\n",
              "          const docLinkHtml = 'Like what you see? Visit the ' +\n",
              "            '<a target=\"_blank\" href=https://colab.research.google.com/notebooks/data_table.ipynb>data table notebook</a>'\n",
              "            + ' to learn more about interactive tables.';\n",
              "          element.innerHTML = '';\n",
              "          dataTable['output_type'] = 'display_data';\n",
              "          await google.colab.output.renderOutput(dataTable, element);\n",
              "          const docLink = document.createElement('div');\n",
              "          docLink.innerHTML = docLinkHtml;\n",
              "          element.appendChild(docLink);\n",
              "        }\n",
              "      </script>\n",
              "    </div>\n",
              "  </div>\n",
              "  "
            ]
          },
          "metadata": {},
          "execution_count": 86
        }
      ]
    },
    {
      "cell_type": "code",
      "source": [],
      "metadata": {
        "id": "96o7mmTHg6oE"
      },
      "execution_count": null,
      "outputs": []
    }
  ]
}