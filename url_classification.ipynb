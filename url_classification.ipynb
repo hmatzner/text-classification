{
  "nbformat": 4,
  "nbformat_minor": 0,
  "metadata": {
    "colab": {
      "provenance": [],
      "collapsed_sections": [
        "4GwHtk5on9DE",
        "O1e9tg4WLjTE",
        "v1UU_t-0aVQv",
        "hi5Q4K3TXrVa",
        "VgRRupt9X9DS",
        "IfP2ZPbILrIG",
        "NLRh9mXsSv6w",
        "pkv3vI9Bj1P6"
      ]
    },
    "kernelspec": {
      "name": "python3",
      "display_name": "Python 3"
    },
    "language_info": {
      "name": "python"
    },
    "accelerator": "GPU",
    "gpuClass": "standard",
    "widgets": {
      "application/vnd.jupyter.widget-state+json": {
        "708c4a5b256a4d3b89af0a5c846ffdd0": {
          "model_module": "@jupyter-widgets/controls",
          "model_name": "HBoxModel",
          "model_module_version": "1.5.0",
          "state": {
            "_dom_classes": [],
            "_model_module": "@jupyter-widgets/controls",
            "_model_module_version": "1.5.0",
            "_model_name": "HBoxModel",
            "_view_count": null,
            "_view_module": "@jupyter-widgets/controls",
            "_view_module_version": "1.5.0",
            "_view_name": "HBoxView",
            "box_style": "",
            "children": [
              "IPY_MODEL_896cbce03caf4e07818b493dbcfe0a55",
              "IPY_MODEL_4e74032f168747d9a4fca57938e84292",
              "IPY_MODEL_11d6b2695a764642b03e22a83ff186f8"
            ],
            "layout": "IPY_MODEL_e7d1b7b4a7984e0d8573e4d28fa55e22"
          }
        },
        "896cbce03caf4e07818b493dbcfe0a55": {
          "model_module": "@jupyter-widgets/controls",
          "model_name": "HTMLModel",
          "model_module_version": "1.5.0",
          "state": {
            "_dom_classes": [],
            "_model_module": "@jupyter-widgets/controls",
            "_model_module_version": "1.5.0",
            "_model_name": "HTMLModel",
            "_view_count": null,
            "_view_module": "@jupyter-widgets/controls",
            "_view_module_version": "1.5.0",
            "_view_name": "HTMLView",
            "description": "",
            "description_tooltip": null,
            "layout": "IPY_MODEL_11d36cf567b342efadc7c02afffa895b",
            "placeholder": "​",
            "style": "IPY_MODEL_4cda1a24394b46ec97436a3a5e238e68",
            "value": "Downloading: 100%"
          }
        },
        "4e74032f168747d9a4fca57938e84292": {
          "model_module": "@jupyter-widgets/controls",
          "model_name": "FloatProgressModel",
          "model_module_version": "1.5.0",
          "state": {
            "_dom_classes": [],
            "_model_module": "@jupyter-widgets/controls",
            "_model_module_version": "1.5.0",
            "_model_name": "FloatProgressModel",
            "_view_count": null,
            "_view_module": "@jupyter-widgets/controls",
            "_view_module_version": "1.5.0",
            "_view_name": "ProgressView",
            "bar_style": "success",
            "description": "",
            "description_tooltip": null,
            "layout": "IPY_MODEL_7cec5ed0c8f34c5c89be9970b00fe552",
            "max": 28,
            "min": 0,
            "orientation": "horizontal",
            "style": "IPY_MODEL_a4e6f698798f4f82a4f08f93a67eb072",
            "value": 28
          }
        },
        "11d6b2695a764642b03e22a83ff186f8": {
          "model_module": "@jupyter-widgets/controls",
          "model_name": "HTMLModel",
          "model_module_version": "1.5.0",
          "state": {
            "_dom_classes": [],
            "_model_module": "@jupyter-widgets/controls",
            "_model_module_version": "1.5.0",
            "_model_name": "HTMLModel",
            "_view_count": null,
            "_view_module": "@jupyter-widgets/controls",
            "_view_module_version": "1.5.0",
            "_view_name": "HTMLView",
            "description": "",
            "description_tooltip": null,
            "layout": "IPY_MODEL_3d4e691632384dcb93fec1201764a1da",
            "placeholder": "​",
            "style": "IPY_MODEL_e4fc855c0d9c4bf8828ce503be9d5a34",
            "value": " 28.0/28.0 [00:00&lt;00:00, 590B/s]"
          }
        },
        "e7d1b7b4a7984e0d8573e4d28fa55e22": {
          "model_module": "@jupyter-widgets/base",
          "model_name": "LayoutModel",
          "model_module_version": "1.2.0",
          "state": {
            "_model_module": "@jupyter-widgets/base",
            "_model_module_version": "1.2.0",
            "_model_name": "LayoutModel",
            "_view_count": null,
            "_view_module": "@jupyter-widgets/base",
            "_view_module_version": "1.2.0",
            "_view_name": "LayoutView",
            "align_content": null,
            "align_items": null,
            "align_self": null,
            "border": null,
            "bottom": null,
            "display": null,
            "flex": null,
            "flex_flow": null,
            "grid_area": null,
            "grid_auto_columns": null,
            "grid_auto_flow": null,
            "grid_auto_rows": null,
            "grid_column": null,
            "grid_gap": null,
            "grid_row": null,
            "grid_template_areas": null,
            "grid_template_columns": null,
            "grid_template_rows": null,
            "height": null,
            "justify_content": null,
            "justify_items": null,
            "left": null,
            "margin": null,
            "max_height": null,
            "max_width": null,
            "min_height": null,
            "min_width": null,
            "object_fit": null,
            "object_position": null,
            "order": null,
            "overflow": null,
            "overflow_x": null,
            "overflow_y": null,
            "padding": null,
            "right": null,
            "top": null,
            "visibility": null,
            "width": null
          }
        },
        "11d36cf567b342efadc7c02afffa895b": {
          "model_module": "@jupyter-widgets/base",
          "model_name": "LayoutModel",
          "model_module_version": "1.2.0",
          "state": {
            "_model_module": "@jupyter-widgets/base",
            "_model_module_version": "1.2.0",
            "_model_name": "LayoutModel",
            "_view_count": null,
            "_view_module": "@jupyter-widgets/base",
            "_view_module_version": "1.2.0",
            "_view_name": "LayoutView",
            "align_content": null,
            "align_items": null,
            "align_self": null,
            "border": null,
            "bottom": null,
            "display": null,
            "flex": null,
            "flex_flow": null,
            "grid_area": null,
            "grid_auto_columns": null,
            "grid_auto_flow": null,
            "grid_auto_rows": null,
            "grid_column": null,
            "grid_gap": null,
            "grid_row": null,
            "grid_template_areas": null,
            "grid_template_columns": null,
            "grid_template_rows": null,
            "height": null,
            "justify_content": null,
            "justify_items": null,
            "left": null,
            "margin": null,
            "max_height": null,
            "max_width": null,
            "min_height": null,
            "min_width": null,
            "object_fit": null,
            "object_position": null,
            "order": null,
            "overflow": null,
            "overflow_x": null,
            "overflow_y": null,
            "padding": null,
            "right": null,
            "top": null,
            "visibility": null,
            "width": null
          }
        },
        "4cda1a24394b46ec97436a3a5e238e68": {
          "model_module": "@jupyter-widgets/controls",
          "model_name": "DescriptionStyleModel",
          "model_module_version": "1.5.0",
          "state": {
            "_model_module": "@jupyter-widgets/controls",
            "_model_module_version": "1.5.0",
            "_model_name": "DescriptionStyleModel",
            "_view_count": null,
            "_view_module": "@jupyter-widgets/base",
            "_view_module_version": "1.2.0",
            "_view_name": "StyleView",
            "description_width": ""
          }
        },
        "7cec5ed0c8f34c5c89be9970b00fe552": {
          "model_module": "@jupyter-widgets/base",
          "model_name": "LayoutModel",
          "model_module_version": "1.2.0",
          "state": {
            "_model_module": "@jupyter-widgets/base",
            "_model_module_version": "1.2.0",
            "_model_name": "LayoutModel",
            "_view_count": null,
            "_view_module": "@jupyter-widgets/base",
            "_view_module_version": "1.2.0",
            "_view_name": "LayoutView",
            "align_content": null,
            "align_items": null,
            "align_self": null,
            "border": null,
            "bottom": null,
            "display": null,
            "flex": null,
            "flex_flow": null,
            "grid_area": null,
            "grid_auto_columns": null,
            "grid_auto_flow": null,
            "grid_auto_rows": null,
            "grid_column": null,
            "grid_gap": null,
            "grid_row": null,
            "grid_template_areas": null,
            "grid_template_columns": null,
            "grid_template_rows": null,
            "height": null,
            "justify_content": null,
            "justify_items": null,
            "left": null,
            "margin": null,
            "max_height": null,
            "max_width": null,
            "min_height": null,
            "min_width": null,
            "object_fit": null,
            "object_position": null,
            "order": null,
            "overflow": null,
            "overflow_x": null,
            "overflow_y": null,
            "padding": null,
            "right": null,
            "top": null,
            "visibility": null,
            "width": null
          }
        },
        "a4e6f698798f4f82a4f08f93a67eb072": {
          "model_module": "@jupyter-widgets/controls",
          "model_name": "ProgressStyleModel",
          "model_module_version": "1.5.0",
          "state": {
            "_model_module": "@jupyter-widgets/controls",
            "_model_module_version": "1.5.0",
            "_model_name": "ProgressStyleModel",
            "_view_count": null,
            "_view_module": "@jupyter-widgets/base",
            "_view_module_version": "1.2.0",
            "_view_name": "StyleView",
            "bar_color": null,
            "description_width": ""
          }
        },
        "3d4e691632384dcb93fec1201764a1da": {
          "model_module": "@jupyter-widgets/base",
          "model_name": "LayoutModel",
          "model_module_version": "1.2.0",
          "state": {
            "_model_module": "@jupyter-widgets/base",
            "_model_module_version": "1.2.0",
            "_model_name": "LayoutModel",
            "_view_count": null,
            "_view_module": "@jupyter-widgets/base",
            "_view_module_version": "1.2.0",
            "_view_name": "LayoutView",
            "align_content": null,
            "align_items": null,
            "align_self": null,
            "border": null,
            "bottom": null,
            "display": null,
            "flex": null,
            "flex_flow": null,
            "grid_area": null,
            "grid_auto_columns": null,
            "grid_auto_flow": null,
            "grid_auto_rows": null,
            "grid_column": null,
            "grid_gap": null,
            "grid_row": null,
            "grid_template_areas": null,
            "grid_template_columns": null,
            "grid_template_rows": null,
            "height": null,
            "justify_content": null,
            "justify_items": null,
            "left": null,
            "margin": null,
            "max_height": null,
            "max_width": null,
            "min_height": null,
            "min_width": null,
            "object_fit": null,
            "object_position": null,
            "order": null,
            "overflow": null,
            "overflow_x": null,
            "overflow_y": null,
            "padding": null,
            "right": null,
            "top": null,
            "visibility": null,
            "width": null
          }
        },
        "e4fc855c0d9c4bf8828ce503be9d5a34": {
          "model_module": "@jupyter-widgets/controls",
          "model_name": "DescriptionStyleModel",
          "model_module_version": "1.5.0",
          "state": {
            "_model_module": "@jupyter-widgets/controls",
            "_model_module_version": "1.5.0",
            "_model_name": "DescriptionStyleModel",
            "_view_count": null,
            "_view_module": "@jupyter-widgets/base",
            "_view_module_version": "1.2.0",
            "_view_name": "StyleView",
            "description_width": ""
          }
        },
        "6a0d9b09752c436a8962ba283ee9850b": {
          "model_module": "@jupyter-widgets/controls",
          "model_name": "HBoxModel",
          "model_module_version": "1.5.0",
          "state": {
            "_dom_classes": [],
            "_model_module": "@jupyter-widgets/controls",
            "_model_module_version": "1.5.0",
            "_model_name": "HBoxModel",
            "_view_count": null,
            "_view_module": "@jupyter-widgets/controls",
            "_view_module_version": "1.5.0",
            "_view_name": "HBoxView",
            "box_style": "",
            "children": [
              "IPY_MODEL_6a75e9a75f0948ebb96f3c2bcfd077e8",
              "IPY_MODEL_29bc38a255d245f792207a982e31b46a",
              "IPY_MODEL_420f94c0ec9740d9b6eb56b0baaed14e"
            ],
            "layout": "IPY_MODEL_e8557cad49304d9aab2c996c4e8d70a8"
          }
        },
        "6a75e9a75f0948ebb96f3c2bcfd077e8": {
          "model_module": "@jupyter-widgets/controls",
          "model_name": "HTMLModel",
          "model_module_version": "1.5.0",
          "state": {
            "_dom_classes": [],
            "_model_module": "@jupyter-widgets/controls",
            "_model_module_version": "1.5.0",
            "_model_name": "HTMLModel",
            "_view_count": null,
            "_view_module": "@jupyter-widgets/controls",
            "_view_module_version": "1.5.0",
            "_view_name": "HTMLView",
            "description": "",
            "description_tooltip": null,
            "layout": "IPY_MODEL_4ec31dd5bc0d4744ab8af5f54a87e9f8",
            "placeholder": "​",
            "style": "IPY_MODEL_3a584c2b9cf444c783a57e4dfdc04c85",
            "value": "Downloading: 100%"
          }
        },
        "29bc38a255d245f792207a982e31b46a": {
          "model_module": "@jupyter-widgets/controls",
          "model_name": "FloatProgressModel",
          "model_module_version": "1.5.0",
          "state": {
            "_dom_classes": [],
            "_model_module": "@jupyter-widgets/controls",
            "_model_module_version": "1.5.0",
            "_model_name": "FloatProgressModel",
            "_view_count": null,
            "_view_module": "@jupyter-widgets/controls",
            "_view_module_version": "1.5.0",
            "_view_name": "ProgressView",
            "bar_style": "success",
            "description": "",
            "description_tooltip": null,
            "layout": "IPY_MODEL_7497892129014f35b502f106bbcf32b2",
            "max": 483,
            "min": 0,
            "orientation": "horizontal",
            "style": "IPY_MODEL_04a220ac2d7248eeb972b12bd292376b",
            "value": 483
          }
        },
        "420f94c0ec9740d9b6eb56b0baaed14e": {
          "model_module": "@jupyter-widgets/controls",
          "model_name": "HTMLModel",
          "model_module_version": "1.5.0",
          "state": {
            "_dom_classes": [],
            "_model_module": "@jupyter-widgets/controls",
            "_model_module_version": "1.5.0",
            "_model_name": "HTMLModel",
            "_view_count": null,
            "_view_module": "@jupyter-widgets/controls",
            "_view_module_version": "1.5.0",
            "_view_name": "HTMLView",
            "description": "",
            "description_tooltip": null,
            "layout": "IPY_MODEL_ad28fb560e4e434cb85100c96cbb29b2",
            "placeholder": "​",
            "style": "IPY_MODEL_1791d9b9b7154b93bb70822f8c16631d",
            "value": " 483/483 [00:00&lt;00:00, 17.4kB/s]"
          }
        },
        "e8557cad49304d9aab2c996c4e8d70a8": {
          "model_module": "@jupyter-widgets/base",
          "model_name": "LayoutModel",
          "model_module_version": "1.2.0",
          "state": {
            "_model_module": "@jupyter-widgets/base",
            "_model_module_version": "1.2.0",
            "_model_name": "LayoutModel",
            "_view_count": null,
            "_view_module": "@jupyter-widgets/base",
            "_view_module_version": "1.2.0",
            "_view_name": "LayoutView",
            "align_content": null,
            "align_items": null,
            "align_self": null,
            "border": null,
            "bottom": null,
            "display": null,
            "flex": null,
            "flex_flow": null,
            "grid_area": null,
            "grid_auto_columns": null,
            "grid_auto_flow": null,
            "grid_auto_rows": null,
            "grid_column": null,
            "grid_gap": null,
            "grid_row": null,
            "grid_template_areas": null,
            "grid_template_columns": null,
            "grid_template_rows": null,
            "height": null,
            "justify_content": null,
            "justify_items": null,
            "left": null,
            "margin": null,
            "max_height": null,
            "max_width": null,
            "min_height": null,
            "min_width": null,
            "object_fit": null,
            "object_position": null,
            "order": null,
            "overflow": null,
            "overflow_x": null,
            "overflow_y": null,
            "padding": null,
            "right": null,
            "top": null,
            "visibility": null,
            "width": null
          }
        },
        "4ec31dd5bc0d4744ab8af5f54a87e9f8": {
          "model_module": "@jupyter-widgets/base",
          "model_name": "LayoutModel",
          "model_module_version": "1.2.0",
          "state": {
            "_model_module": "@jupyter-widgets/base",
            "_model_module_version": "1.2.0",
            "_model_name": "LayoutModel",
            "_view_count": null,
            "_view_module": "@jupyter-widgets/base",
            "_view_module_version": "1.2.0",
            "_view_name": "LayoutView",
            "align_content": null,
            "align_items": null,
            "align_self": null,
            "border": null,
            "bottom": null,
            "display": null,
            "flex": null,
            "flex_flow": null,
            "grid_area": null,
            "grid_auto_columns": null,
            "grid_auto_flow": null,
            "grid_auto_rows": null,
            "grid_column": null,
            "grid_gap": null,
            "grid_row": null,
            "grid_template_areas": null,
            "grid_template_columns": null,
            "grid_template_rows": null,
            "height": null,
            "justify_content": null,
            "justify_items": null,
            "left": null,
            "margin": null,
            "max_height": null,
            "max_width": null,
            "min_height": null,
            "min_width": null,
            "object_fit": null,
            "object_position": null,
            "order": null,
            "overflow": null,
            "overflow_x": null,
            "overflow_y": null,
            "padding": null,
            "right": null,
            "top": null,
            "visibility": null,
            "width": null
          }
        },
        "3a584c2b9cf444c783a57e4dfdc04c85": {
          "model_module": "@jupyter-widgets/controls",
          "model_name": "DescriptionStyleModel",
          "model_module_version": "1.5.0",
          "state": {
            "_model_module": "@jupyter-widgets/controls",
            "_model_module_version": "1.5.0",
            "_model_name": "DescriptionStyleModel",
            "_view_count": null,
            "_view_module": "@jupyter-widgets/base",
            "_view_module_version": "1.2.0",
            "_view_name": "StyleView",
            "description_width": ""
          }
        },
        "7497892129014f35b502f106bbcf32b2": {
          "model_module": "@jupyter-widgets/base",
          "model_name": "LayoutModel",
          "model_module_version": "1.2.0",
          "state": {
            "_model_module": "@jupyter-widgets/base",
            "_model_module_version": "1.2.0",
            "_model_name": "LayoutModel",
            "_view_count": null,
            "_view_module": "@jupyter-widgets/base",
            "_view_module_version": "1.2.0",
            "_view_name": "LayoutView",
            "align_content": null,
            "align_items": null,
            "align_self": null,
            "border": null,
            "bottom": null,
            "display": null,
            "flex": null,
            "flex_flow": null,
            "grid_area": null,
            "grid_auto_columns": null,
            "grid_auto_flow": null,
            "grid_auto_rows": null,
            "grid_column": null,
            "grid_gap": null,
            "grid_row": null,
            "grid_template_areas": null,
            "grid_template_columns": null,
            "grid_template_rows": null,
            "height": null,
            "justify_content": null,
            "justify_items": null,
            "left": null,
            "margin": null,
            "max_height": null,
            "max_width": null,
            "min_height": null,
            "min_width": null,
            "object_fit": null,
            "object_position": null,
            "order": null,
            "overflow": null,
            "overflow_x": null,
            "overflow_y": null,
            "padding": null,
            "right": null,
            "top": null,
            "visibility": null,
            "width": null
          }
        },
        "04a220ac2d7248eeb972b12bd292376b": {
          "model_module": "@jupyter-widgets/controls",
          "model_name": "ProgressStyleModel",
          "model_module_version": "1.5.0",
          "state": {
            "_model_module": "@jupyter-widgets/controls",
            "_model_module_version": "1.5.0",
            "_model_name": "ProgressStyleModel",
            "_view_count": null,
            "_view_module": "@jupyter-widgets/base",
            "_view_module_version": "1.2.0",
            "_view_name": "StyleView",
            "bar_color": null,
            "description_width": ""
          }
        },
        "ad28fb560e4e434cb85100c96cbb29b2": {
          "model_module": "@jupyter-widgets/base",
          "model_name": "LayoutModel",
          "model_module_version": "1.2.0",
          "state": {
            "_model_module": "@jupyter-widgets/base",
            "_model_module_version": "1.2.0",
            "_model_name": "LayoutModel",
            "_view_count": null,
            "_view_module": "@jupyter-widgets/base",
            "_view_module_version": "1.2.0",
            "_view_name": "LayoutView",
            "align_content": null,
            "align_items": null,
            "align_self": null,
            "border": null,
            "bottom": null,
            "display": null,
            "flex": null,
            "flex_flow": null,
            "grid_area": null,
            "grid_auto_columns": null,
            "grid_auto_flow": null,
            "grid_auto_rows": null,
            "grid_column": null,
            "grid_gap": null,
            "grid_row": null,
            "grid_template_areas": null,
            "grid_template_columns": null,
            "grid_template_rows": null,
            "height": null,
            "justify_content": null,
            "justify_items": null,
            "left": null,
            "margin": null,
            "max_height": null,
            "max_width": null,
            "min_height": null,
            "min_width": null,
            "object_fit": null,
            "object_position": null,
            "order": null,
            "overflow": null,
            "overflow_x": null,
            "overflow_y": null,
            "padding": null,
            "right": null,
            "top": null,
            "visibility": null,
            "width": null
          }
        },
        "1791d9b9b7154b93bb70822f8c16631d": {
          "model_module": "@jupyter-widgets/controls",
          "model_name": "DescriptionStyleModel",
          "model_module_version": "1.5.0",
          "state": {
            "_model_module": "@jupyter-widgets/controls",
            "_model_module_version": "1.5.0",
            "_model_name": "DescriptionStyleModel",
            "_view_count": null,
            "_view_module": "@jupyter-widgets/base",
            "_view_module_version": "1.2.0",
            "_view_name": "StyleView",
            "description_width": ""
          }
        },
        "bf16f4e3fd894641944dd1c9121ce4c6": {
          "model_module": "@jupyter-widgets/controls",
          "model_name": "HBoxModel",
          "model_module_version": "1.5.0",
          "state": {
            "_dom_classes": [],
            "_model_module": "@jupyter-widgets/controls",
            "_model_module_version": "1.5.0",
            "_model_name": "HBoxModel",
            "_view_count": null,
            "_view_module": "@jupyter-widgets/controls",
            "_view_module_version": "1.5.0",
            "_view_name": "HBoxView",
            "box_style": "",
            "children": [
              "IPY_MODEL_7e94b79b4b8b454c90054f1309dc074d",
              "IPY_MODEL_23b374f9faca49a3883b688d1b2edbf4",
              "IPY_MODEL_faf7b2fd604d497f83d9cbd9db5b6f97"
            ],
            "layout": "IPY_MODEL_83931533d05b4a489d5777b426d01bb0"
          }
        },
        "7e94b79b4b8b454c90054f1309dc074d": {
          "model_module": "@jupyter-widgets/controls",
          "model_name": "HTMLModel",
          "model_module_version": "1.5.0",
          "state": {
            "_dom_classes": [],
            "_model_module": "@jupyter-widgets/controls",
            "_model_module_version": "1.5.0",
            "_model_name": "HTMLModel",
            "_view_count": null,
            "_view_module": "@jupyter-widgets/controls",
            "_view_module_version": "1.5.0",
            "_view_name": "HTMLView",
            "description": "",
            "description_tooltip": null,
            "layout": "IPY_MODEL_425439652d50461c93340bdaad1c8674",
            "placeholder": "​",
            "style": "IPY_MODEL_6cdd80621d434c77a64c253d49d611c3",
            "value": "Downloading: 100%"
          }
        },
        "23b374f9faca49a3883b688d1b2edbf4": {
          "model_module": "@jupyter-widgets/controls",
          "model_name": "FloatProgressModel",
          "model_module_version": "1.5.0",
          "state": {
            "_dom_classes": [],
            "_model_module": "@jupyter-widgets/controls",
            "_model_module_version": "1.5.0",
            "_model_name": "FloatProgressModel",
            "_view_count": null,
            "_view_module": "@jupyter-widgets/controls",
            "_view_module_version": "1.5.0",
            "_view_name": "ProgressView",
            "bar_style": "success",
            "description": "",
            "description_tooltip": null,
            "layout": "IPY_MODEL_f55251130a23470c8dcc0cd1429a3004",
            "max": 231508,
            "min": 0,
            "orientation": "horizontal",
            "style": "IPY_MODEL_993b4f0dea0948278b8c6c2b7c93b62b",
            "value": 231508
          }
        },
        "faf7b2fd604d497f83d9cbd9db5b6f97": {
          "model_module": "@jupyter-widgets/controls",
          "model_name": "HTMLModel",
          "model_module_version": "1.5.0",
          "state": {
            "_dom_classes": [],
            "_model_module": "@jupyter-widgets/controls",
            "_model_module_version": "1.5.0",
            "_model_name": "HTMLModel",
            "_view_count": null,
            "_view_module": "@jupyter-widgets/controls",
            "_view_module_version": "1.5.0",
            "_view_name": "HTMLView",
            "description": "",
            "description_tooltip": null,
            "layout": "IPY_MODEL_bf55fa9ad1b34799833c45f6927dfa62",
            "placeholder": "​",
            "style": "IPY_MODEL_1f6427ca4256449688869ca4d8474348",
            "value": " 232k/232k [00:00&lt;00:00, 176kB/s]"
          }
        },
        "83931533d05b4a489d5777b426d01bb0": {
          "model_module": "@jupyter-widgets/base",
          "model_name": "LayoutModel",
          "model_module_version": "1.2.0",
          "state": {
            "_model_module": "@jupyter-widgets/base",
            "_model_module_version": "1.2.0",
            "_model_name": "LayoutModel",
            "_view_count": null,
            "_view_module": "@jupyter-widgets/base",
            "_view_module_version": "1.2.0",
            "_view_name": "LayoutView",
            "align_content": null,
            "align_items": null,
            "align_self": null,
            "border": null,
            "bottom": null,
            "display": null,
            "flex": null,
            "flex_flow": null,
            "grid_area": null,
            "grid_auto_columns": null,
            "grid_auto_flow": null,
            "grid_auto_rows": null,
            "grid_column": null,
            "grid_gap": null,
            "grid_row": null,
            "grid_template_areas": null,
            "grid_template_columns": null,
            "grid_template_rows": null,
            "height": null,
            "justify_content": null,
            "justify_items": null,
            "left": null,
            "margin": null,
            "max_height": null,
            "max_width": null,
            "min_height": null,
            "min_width": null,
            "object_fit": null,
            "object_position": null,
            "order": null,
            "overflow": null,
            "overflow_x": null,
            "overflow_y": null,
            "padding": null,
            "right": null,
            "top": null,
            "visibility": null,
            "width": null
          }
        },
        "425439652d50461c93340bdaad1c8674": {
          "model_module": "@jupyter-widgets/base",
          "model_name": "LayoutModel",
          "model_module_version": "1.2.0",
          "state": {
            "_model_module": "@jupyter-widgets/base",
            "_model_module_version": "1.2.0",
            "_model_name": "LayoutModel",
            "_view_count": null,
            "_view_module": "@jupyter-widgets/base",
            "_view_module_version": "1.2.0",
            "_view_name": "LayoutView",
            "align_content": null,
            "align_items": null,
            "align_self": null,
            "border": null,
            "bottom": null,
            "display": null,
            "flex": null,
            "flex_flow": null,
            "grid_area": null,
            "grid_auto_columns": null,
            "grid_auto_flow": null,
            "grid_auto_rows": null,
            "grid_column": null,
            "grid_gap": null,
            "grid_row": null,
            "grid_template_areas": null,
            "grid_template_columns": null,
            "grid_template_rows": null,
            "height": null,
            "justify_content": null,
            "justify_items": null,
            "left": null,
            "margin": null,
            "max_height": null,
            "max_width": null,
            "min_height": null,
            "min_width": null,
            "object_fit": null,
            "object_position": null,
            "order": null,
            "overflow": null,
            "overflow_x": null,
            "overflow_y": null,
            "padding": null,
            "right": null,
            "top": null,
            "visibility": null,
            "width": null
          }
        },
        "6cdd80621d434c77a64c253d49d611c3": {
          "model_module": "@jupyter-widgets/controls",
          "model_name": "DescriptionStyleModel",
          "model_module_version": "1.5.0",
          "state": {
            "_model_module": "@jupyter-widgets/controls",
            "_model_module_version": "1.5.0",
            "_model_name": "DescriptionStyleModel",
            "_view_count": null,
            "_view_module": "@jupyter-widgets/base",
            "_view_module_version": "1.2.0",
            "_view_name": "StyleView",
            "description_width": ""
          }
        },
        "f55251130a23470c8dcc0cd1429a3004": {
          "model_module": "@jupyter-widgets/base",
          "model_name": "LayoutModel",
          "model_module_version": "1.2.0",
          "state": {
            "_model_module": "@jupyter-widgets/base",
            "_model_module_version": "1.2.0",
            "_model_name": "LayoutModel",
            "_view_count": null,
            "_view_module": "@jupyter-widgets/base",
            "_view_module_version": "1.2.0",
            "_view_name": "LayoutView",
            "align_content": null,
            "align_items": null,
            "align_self": null,
            "border": null,
            "bottom": null,
            "display": null,
            "flex": null,
            "flex_flow": null,
            "grid_area": null,
            "grid_auto_columns": null,
            "grid_auto_flow": null,
            "grid_auto_rows": null,
            "grid_column": null,
            "grid_gap": null,
            "grid_row": null,
            "grid_template_areas": null,
            "grid_template_columns": null,
            "grid_template_rows": null,
            "height": null,
            "justify_content": null,
            "justify_items": null,
            "left": null,
            "margin": null,
            "max_height": null,
            "max_width": null,
            "min_height": null,
            "min_width": null,
            "object_fit": null,
            "object_position": null,
            "order": null,
            "overflow": null,
            "overflow_x": null,
            "overflow_y": null,
            "padding": null,
            "right": null,
            "top": null,
            "visibility": null,
            "width": null
          }
        },
        "993b4f0dea0948278b8c6c2b7c93b62b": {
          "model_module": "@jupyter-widgets/controls",
          "model_name": "ProgressStyleModel",
          "model_module_version": "1.5.0",
          "state": {
            "_model_module": "@jupyter-widgets/controls",
            "_model_module_version": "1.5.0",
            "_model_name": "ProgressStyleModel",
            "_view_count": null,
            "_view_module": "@jupyter-widgets/base",
            "_view_module_version": "1.2.0",
            "_view_name": "StyleView",
            "bar_color": null,
            "description_width": ""
          }
        },
        "bf55fa9ad1b34799833c45f6927dfa62": {
          "model_module": "@jupyter-widgets/base",
          "model_name": "LayoutModel",
          "model_module_version": "1.2.0",
          "state": {
            "_model_module": "@jupyter-widgets/base",
            "_model_module_version": "1.2.0",
            "_model_name": "LayoutModel",
            "_view_count": null,
            "_view_module": "@jupyter-widgets/base",
            "_view_module_version": "1.2.0",
            "_view_name": "LayoutView",
            "align_content": null,
            "align_items": null,
            "align_self": null,
            "border": null,
            "bottom": null,
            "display": null,
            "flex": null,
            "flex_flow": null,
            "grid_area": null,
            "grid_auto_columns": null,
            "grid_auto_flow": null,
            "grid_auto_rows": null,
            "grid_column": null,
            "grid_gap": null,
            "grid_row": null,
            "grid_template_areas": null,
            "grid_template_columns": null,
            "grid_template_rows": null,
            "height": null,
            "justify_content": null,
            "justify_items": null,
            "left": null,
            "margin": null,
            "max_height": null,
            "max_width": null,
            "min_height": null,
            "min_width": null,
            "object_fit": null,
            "object_position": null,
            "order": null,
            "overflow": null,
            "overflow_x": null,
            "overflow_y": null,
            "padding": null,
            "right": null,
            "top": null,
            "visibility": null,
            "width": null
          }
        },
        "1f6427ca4256449688869ca4d8474348": {
          "model_module": "@jupyter-widgets/controls",
          "model_name": "DescriptionStyleModel",
          "model_module_version": "1.5.0",
          "state": {
            "_model_module": "@jupyter-widgets/controls",
            "_model_module_version": "1.5.0",
            "_model_name": "DescriptionStyleModel",
            "_view_count": null,
            "_view_module": "@jupyter-widgets/base",
            "_view_module_version": "1.2.0",
            "_view_name": "StyleView",
            "description_width": ""
          }
        },
        "9c53a4207faf4ed3bc357b9311a7b03f": {
          "model_module": "@jupyter-widgets/controls",
          "model_name": "HBoxModel",
          "model_module_version": "1.5.0",
          "state": {
            "_dom_classes": [],
            "_model_module": "@jupyter-widgets/controls",
            "_model_module_version": "1.5.0",
            "_model_name": "HBoxModel",
            "_view_count": null,
            "_view_module": "@jupyter-widgets/controls",
            "_view_module_version": "1.5.0",
            "_view_name": "HBoxView",
            "box_style": "",
            "children": [
              "IPY_MODEL_40302d74563f45fabcfb55842a16d581",
              "IPY_MODEL_2978ac020ad24b21a3cd6abe00704b9f",
              "IPY_MODEL_39111e6e53b8460c899f8d51c01f2cd7"
            ],
            "layout": "IPY_MODEL_99dbdf423b364addab42603a78a0ccc7"
          }
        },
        "40302d74563f45fabcfb55842a16d581": {
          "model_module": "@jupyter-widgets/controls",
          "model_name": "HTMLModel",
          "model_module_version": "1.5.0",
          "state": {
            "_dom_classes": [],
            "_model_module": "@jupyter-widgets/controls",
            "_model_module_version": "1.5.0",
            "_model_name": "HTMLModel",
            "_view_count": null,
            "_view_module": "@jupyter-widgets/controls",
            "_view_module_version": "1.5.0",
            "_view_name": "HTMLView",
            "description": "",
            "description_tooltip": null,
            "layout": "IPY_MODEL_b5855b107d124253936b843881a3559e",
            "placeholder": "​",
            "style": "IPY_MODEL_12d847cac1934b64b2d9e9dc08ea0b83",
            "value": "Downloading: 100%"
          }
        },
        "2978ac020ad24b21a3cd6abe00704b9f": {
          "model_module": "@jupyter-widgets/controls",
          "model_name": "FloatProgressModel",
          "model_module_version": "1.5.0",
          "state": {
            "_dom_classes": [],
            "_model_module": "@jupyter-widgets/controls",
            "_model_module_version": "1.5.0",
            "_model_name": "FloatProgressModel",
            "_view_count": null,
            "_view_module": "@jupyter-widgets/controls",
            "_view_module_version": "1.5.0",
            "_view_name": "ProgressView",
            "bar_style": "success",
            "description": "",
            "description_tooltip": null,
            "layout": "IPY_MODEL_c9ccdc7ceb1147ca9bd10b2647356dbe",
            "max": 466062,
            "min": 0,
            "orientation": "horizontal",
            "style": "IPY_MODEL_be051daf8b5947a2984a85657da9b2d2",
            "value": 466062
          }
        },
        "39111e6e53b8460c899f8d51c01f2cd7": {
          "model_module": "@jupyter-widgets/controls",
          "model_name": "HTMLModel",
          "model_module_version": "1.5.0",
          "state": {
            "_dom_classes": [],
            "_model_module": "@jupyter-widgets/controls",
            "_model_module_version": "1.5.0",
            "_model_name": "HTMLModel",
            "_view_count": null,
            "_view_module": "@jupyter-widgets/controls",
            "_view_module_version": "1.5.0",
            "_view_name": "HTMLView",
            "description": "",
            "description_tooltip": null,
            "layout": "IPY_MODEL_614dc957e7404d66bf31c77716f7a82f",
            "placeholder": "​",
            "style": "IPY_MODEL_8a01c550f0be41e5bb2fa7df5247bd6f",
            "value": " 466k/466k [00:01&lt;00:00, 415kB/s]"
          }
        },
        "99dbdf423b364addab42603a78a0ccc7": {
          "model_module": "@jupyter-widgets/base",
          "model_name": "LayoutModel",
          "model_module_version": "1.2.0",
          "state": {
            "_model_module": "@jupyter-widgets/base",
            "_model_module_version": "1.2.0",
            "_model_name": "LayoutModel",
            "_view_count": null,
            "_view_module": "@jupyter-widgets/base",
            "_view_module_version": "1.2.0",
            "_view_name": "LayoutView",
            "align_content": null,
            "align_items": null,
            "align_self": null,
            "border": null,
            "bottom": null,
            "display": null,
            "flex": null,
            "flex_flow": null,
            "grid_area": null,
            "grid_auto_columns": null,
            "grid_auto_flow": null,
            "grid_auto_rows": null,
            "grid_column": null,
            "grid_gap": null,
            "grid_row": null,
            "grid_template_areas": null,
            "grid_template_columns": null,
            "grid_template_rows": null,
            "height": null,
            "justify_content": null,
            "justify_items": null,
            "left": null,
            "margin": null,
            "max_height": null,
            "max_width": null,
            "min_height": null,
            "min_width": null,
            "object_fit": null,
            "object_position": null,
            "order": null,
            "overflow": null,
            "overflow_x": null,
            "overflow_y": null,
            "padding": null,
            "right": null,
            "top": null,
            "visibility": null,
            "width": null
          }
        },
        "b5855b107d124253936b843881a3559e": {
          "model_module": "@jupyter-widgets/base",
          "model_name": "LayoutModel",
          "model_module_version": "1.2.0",
          "state": {
            "_model_module": "@jupyter-widgets/base",
            "_model_module_version": "1.2.0",
            "_model_name": "LayoutModel",
            "_view_count": null,
            "_view_module": "@jupyter-widgets/base",
            "_view_module_version": "1.2.0",
            "_view_name": "LayoutView",
            "align_content": null,
            "align_items": null,
            "align_self": null,
            "border": null,
            "bottom": null,
            "display": null,
            "flex": null,
            "flex_flow": null,
            "grid_area": null,
            "grid_auto_columns": null,
            "grid_auto_flow": null,
            "grid_auto_rows": null,
            "grid_column": null,
            "grid_gap": null,
            "grid_row": null,
            "grid_template_areas": null,
            "grid_template_columns": null,
            "grid_template_rows": null,
            "height": null,
            "justify_content": null,
            "justify_items": null,
            "left": null,
            "margin": null,
            "max_height": null,
            "max_width": null,
            "min_height": null,
            "min_width": null,
            "object_fit": null,
            "object_position": null,
            "order": null,
            "overflow": null,
            "overflow_x": null,
            "overflow_y": null,
            "padding": null,
            "right": null,
            "top": null,
            "visibility": null,
            "width": null
          }
        },
        "12d847cac1934b64b2d9e9dc08ea0b83": {
          "model_module": "@jupyter-widgets/controls",
          "model_name": "DescriptionStyleModel",
          "model_module_version": "1.5.0",
          "state": {
            "_model_module": "@jupyter-widgets/controls",
            "_model_module_version": "1.5.0",
            "_model_name": "DescriptionStyleModel",
            "_view_count": null,
            "_view_module": "@jupyter-widgets/base",
            "_view_module_version": "1.2.0",
            "_view_name": "StyleView",
            "description_width": ""
          }
        },
        "c9ccdc7ceb1147ca9bd10b2647356dbe": {
          "model_module": "@jupyter-widgets/base",
          "model_name": "LayoutModel",
          "model_module_version": "1.2.0",
          "state": {
            "_model_module": "@jupyter-widgets/base",
            "_model_module_version": "1.2.0",
            "_model_name": "LayoutModel",
            "_view_count": null,
            "_view_module": "@jupyter-widgets/base",
            "_view_module_version": "1.2.0",
            "_view_name": "LayoutView",
            "align_content": null,
            "align_items": null,
            "align_self": null,
            "border": null,
            "bottom": null,
            "display": null,
            "flex": null,
            "flex_flow": null,
            "grid_area": null,
            "grid_auto_columns": null,
            "grid_auto_flow": null,
            "grid_auto_rows": null,
            "grid_column": null,
            "grid_gap": null,
            "grid_row": null,
            "grid_template_areas": null,
            "grid_template_columns": null,
            "grid_template_rows": null,
            "height": null,
            "justify_content": null,
            "justify_items": null,
            "left": null,
            "margin": null,
            "max_height": null,
            "max_width": null,
            "min_height": null,
            "min_width": null,
            "object_fit": null,
            "object_position": null,
            "order": null,
            "overflow": null,
            "overflow_x": null,
            "overflow_y": null,
            "padding": null,
            "right": null,
            "top": null,
            "visibility": null,
            "width": null
          }
        },
        "be051daf8b5947a2984a85657da9b2d2": {
          "model_module": "@jupyter-widgets/controls",
          "model_name": "ProgressStyleModel",
          "model_module_version": "1.5.0",
          "state": {
            "_model_module": "@jupyter-widgets/controls",
            "_model_module_version": "1.5.0",
            "_model_name": "ProgressStyleModel",
            "_view_count": null,
            "_view_module": "@jupyter-widgets/base",
            "_view_module_version": "1.2.0",
            "_view_name": "StyleView",
            "bar_color": null,
            "description_width": ""
          }
        },
        "614dc957e7404d66bf31c77716f7a82f": {
          "model_module": "@jupyter-widgets/base",
          "model_name": "LayoutModel",
          "model_module_version": "1.2.0",
          "state": {
            "_model_module": "@jupyter-widgets/base",
            "_model_module_version": "1.2.0",
            "_model_name": "LayoutModel",
            "_view_count": null,
            "_view_module": "@jupyter-widgets/base",
            "_view_module_version": "1.2.0",
            "_view_name": "LayoutView",
            "align_content": null,
            "align_items": null,
            "align_self": null,
            "border": null,
            "bottom": null,
            "display": null,
            "flex": null,
            "flex_flow": null,
            "grid_area": null,
            "grid_auto_columns": null,
            "grid_auto_flow": null,
            "grid_auto_rows": null,
            "grid_column": null,
            "grid_gap": null,
            "grid_row": null,
            "grid_template_areas": null,
            "grid_template_columns": null,
            "grid_template_rows": null,
            "height": null,
            "justify_content": null,
            "justify_items": null,
            "left": null,
            "margin": null,
            "max_height": null,
            "max_width": null,
            "min_height": null,
            "min_width": null,
            "object_fit": null,
            "object_position": null,
            "order": null,
            "overflow": null,
            "overflow_x": null,
            "overflow_y": null,
            "padding": null,
            "right": null,
            "top": null,
            "visibility": null,
            "width": null
          }
        },
        "8a01c550f0be41e5bb2fa7df5247bd6f": {
          "model_module": "@jupyter-widgets/controls",
          "model_name": "DescriptionStyleModel",
          "model_module_version": "1.5.0",
          "state": {
            "_model_module": "@jupyter-widgets/controls",
            "_model_module_version": "1.5.0",
            "_model_name": "DescriptionStyleModel",
            "_view_count": null,
            "_view_module": "@jupyter-widgets/base",
            "_view_module_version": "1.2.0",
            "_view_name": "StyleView",
            "description_width": ""
          }
        },
        "0e1a718856d2498aa626905c62573944": {
          "model_module": "@jupyter-widgets/controls",
          "model_name": "HBoxModel",
          "model_module_version": "1.5.0",
          "state": {
            "_dom_classes": [],
            "_model_module": "@jupyter-widgets/controls",
            "_model_module_version": "1.5.0",
            "_model_name": "HBoxModel",
            "_view_count": null,
            "_view_module": "@jupyter-widgets/controls",
            "_view_module_version": "1.5.0",
            "_view_name": "HBoxView",
            "box_style": "",
            "children": [
              "IPY_MODEL_b2475f7814a148d2a1fe0820c5b758a1",
              "IPY_MODEL_a41aec09b7964bd7b1484d1ed72bdb14",
              "IPY_MODEL_fea9df1785684858af50d52042d451de"
            ],
            "layout": "IPY_MODEL_9cb11c3836884dab90a295a781fcf09b"
          }
        },
        "b2475f7814a148d2a1fe0820c5b758a1": {
          "model_module": "@jupyter-widgets/controls",
          "model_name": "HTMLModel",
          "model_module_version": "1.5.0",
          "state": {
            "_dom_classes": [],
            "_model_module": "@jupyter-widgets/controls",
            "_model_module_version": "1.5.0",
            "_model_name": "HTMLModel",
            "_view_count": null,
            "_view_module": "@jupyter-widgets/controls",
            "_view_module_version": "1.5.0",
            "_view_name": "HTMLView",
            "description": "",
            "description_tooltip": null,
            "layout": "IPY_MODEL_5e4e1bd65cd84e53ae1ff9209573638d",
            "placeholder": "​",
            "style": "IPY_MODEL_6919aaba856b4498b7bd338bdd04ca11",
            "value": "100%"
          }
        },
        "a41aec09b7964bd7b1484d1ed72bdb14": {
          "model_module": "@jupyter-widgets/controls",
          "model_name": "FloatProgressModel",
          "model_module_version": "1.5.0",
          "state": {
            "_dom_classes": [],
            "_model_module": "@jupyter-widgets/controls",
            "_model_module_version": "1.5.0",
            "_model_name": "FloatProgressModel",
            "_view_count": null,
            "_view_module": "@jupyter-widgets/controls",
            "_view_module_version": "1.5.0",
            "_view_name": "ProgressView",
            "bar_style": "success",
            "description": "",
            "description_tooltip": null,
            "layout": "IPY_MODEL_55eaf8e99c6d41edb3ca9d75dd47e730",
            "max": 1,
            "min": 0,
            "orientation": "horizontal",
            "style": "IPY_MODEL_1f9e9ac2ddb046899f19f24eaa5c0354",
            "value": 1
          }
        },
        "fea9df1785684858af50d52042d451de": {
          "model_module": "@jupyter-widgets/controls",
          "model_name": "HTMLModel",
          "model_module_version": "1.5.0",
          "state": {
            "_dom_classes": [],
            "_model_module": "@jupyter-widgets/controls",
            "_model_module_version": "1.5.0",
            "_model_name": "HTMLModel",
            "_view_count": null,
            "_view_module": "@jupyter-widgets/controls",
            "_view_module_version": "1.5.0",
            "_view_name": "HTMLView",
            "description": "",
            "description_tooltip": null,
            "layout": "IPY_MODEL_bfd5087858e54b79b5c9f609da497672",
            "placeholder": "​",
            "style": "IPY_MODEL_6a7ae15b592e4fd590125d8f32a0fc64",
            "value": " 1/1 [00:01&lt;00:00,  1.03s/ba]"
          }
        },
        "9cb11c3836884dab90a295a781fcf09b": {
          "model_module": "@jupyter-widgets/base",
          "model_name": "LayoutModel",
          "model_module_version": "1.2.0",
          "state": {
            "_model_module": "@jupyter-widgets/base",
            "_model_module_version": "1.2.0",
            "_model_name": "LayoutModel",
            "_view_count": null,
            "_view_module": "@jupyter-widgets/base",
            "_view_module_version": "1.2.0",
            "_view_name": "LayoutView",
            "align_content": null,
            "align_items": null,
            "align_self": null,
            "border": null,
            "bottom": null,
            "display": null,
            "flex": null,
            "flex_flow": null,
            "grid_area": null,
            "grid_auto_columns": null,
            "grid_auto_flow": null,
            "grid_auto_rows": null,
            "grid_column": null,
            "grid_gap": null,
            "grid_row": null,
            "grid_template_areas": null,
            "grid_template_columns": null,
            "grid_template_rows": null,
            "height": null,
            "justify_content": null,
            "justify_items": null,
            "left": null,
            "margin": null,
            "max_height": null,
            "max_width": null,
            "min_height": null,
            "min_width": null,
            "object_fit": null,
            "object_position": null,
            "order": null,
            "overflow": null,
            "overflow_x": null,
            "overflow_y": null,
            "padding": null,
            "right": null,
            "top": null,
            "visibility": null,
            "width": null
          }
        },
        "5e4e1bd65cd84e53ae1ff9209573638d": {
          "model_module": "@jupyter-widgets/base",
          "model_name": "LayoutModel",
          "model_module_version": "1.2.0",
          "state": {
            "_model_module": "@jupyter-widgets/base",
            "_model_module_version": "1.2.0",
            "_model_name": "LayoutModel",
            "_view_count": null,
            "_view_module": "@jupyter-widgets/base",
            "_view_module_version": "1.2.0",
            "_view_name": "LayoutView",
            "align_content": null,
            "align_items": null,
            "align_self": null,
            "border": null,
            "bottom": null,
            "display": null,
            "flex": null,
            "flex_flow": null,
            "grid_area": null,
            "grid_auto_columns": null,
            "grid_auto_flow": null,
            "grid_auto_rows": null,
            "grid_column": null,
            "grid_gap": null,
            "grid_row": null,
            "grid_template_areas": null,
            "grid_template_columns": null,
            "grid_template_rows": null,
            "height": null,
            "justify_content": null,
            "justify_items": null,
            "left": null,
            "margin": null,
            "max_height": null,
            "max_width": null,
            "min_height": null,
            "min_width": null,
            "object_fit": null,
            "object_position": null,
            "order": null,
            "overflow": null,
            "overflow_x": null,
            "overflow_y": null,
            "padding": null,
            "right": null,
            "top": null,
            "visibility": null,
            "width": null
          }
        },
        "6919aaba856b4498b7bd338bdd04ca11": {
          "model_module": "@jupyter-widgets/controls",
          "model_name": "DescriptionStyleModel",
          "model_module_version": "1.5.0",
          "state": {
            "_model_module": "@jupyter-widgets/controls",
            "_model_module_version": "1.5.0",
            "_model_name": "DescriptionStyleModel",
            "_view_count": null,
            "_view_module": "@jupyter-widgets/base",
            "_view_module_version": "1.2.0",
            "_view_name": "StyleView",
            "description_width": ""
          }
        },
        "55eaf8e99c6d41edb3ca9d75dd47e730": {
          "model_module": "@jupyter-widgets/base",
          "model_name": "LayoutModel",
          "model_module_version": "1.2.0",
          "state": {
            "_model_module": "@jupyter-widgets/base",
            "_model_module_version": "1.2.0",
            "_model_name": "LayoutModel",
            "_view_count": null,
            "_view_module": "@jupyter-widgets/base",
            "_view_module_version": "1.2.0",
            "_view_name": "LayoutView",
            "align_content": null,
            "align_items": null,
            "align_self": null,
            "border": null,
            "bottom": null,
            "display": null,
            "flex": null,
            "flex_flow": null,
            "grid_area": null,
            "grid_auto_columns": null,
            "grid_auto_flow": null,
            "grid_auto_rows": null,
            "grid_column": null,
            "grid_gap": null,
            "grid_row": null,
            "grid_template_areas": null,
            "grid_template_columns": null,
            "grid_template_rows": null,
            "height": null,
            "justify_content": null,
            "justify_items": null,
            "left": null,
            "margin": null,
            "max_height": null,
            "max_width": null,
            "min_height": null,
            "min_width": null,
            "object_fit": null,
            "object_position": null,
            "order": null,
            "overflow": null,
            "overflow_x": null,
            "overflow_y": null,
            "padding": null,
            "right": null,
            "top": null,
            "visibility": null,
            "width": null
          }
        },
        "1f9e9ac2ddb046899f19f24eaa5c0354": {
          "model_module": "@jupyter-widgets/controls",
          "model_name": "ProgressStyleModel",
          "model_module_version": "1.5.0",
          "state": {
            "_model_module": "@jupyter-widgets/controls",
            "_model_module_version": "1.5.0",
            "_model_name": "ProgressStyleModel",
            "_view_count": null,
            "_view_module": "@jupyter-widgets/base",
            "_view_module_version": "1.2.0",
            "_view_name": "StyleView",
            "bar_color": null,
            "description_width": ""
          }
        },
        "bfd5087858e54b79b5c9f609da497672": {
          "model_module": "@jupyter-widgets/base",
          "model_name": "LayoutModel",
          "model_module_version": "1.2.0",
          "state": {
            "_model_module": "@jupyter-widgets/base",
            "_model_module_version": "1.2.0",
            "_model_name": "LayoutModel",
            "_view_count": null,
            "_view_module": "@jupyter-widgets/base",
            "_view_module_version": "1.2.0",
            "_view_name": "LayoutView",
            "align_content": null,
            "align_items": null,
            "align_self": null,
            "border": null,
            "bottom": null,
            "display": null,
            "flex": null,
            "flex_flow": null,
            "grid_area": null,
            "grid_auto_columns": null,
            "grid_auto_flow": null,
            "grid_auto_rows": null,
            "grid_column": null,
            "grid_gap": null,
            "grid_row": null,
            "grid_template_areas": null,
            "grid_template_columns": null,
            "grid_template_rows": null,
            "height": null,
            "justify_content": null,
            "justify_items": null,
            "left": null,
            "margin": null,
            "max_height": null,
            "max_width": null,
            "min_height": null,
            "min_width": null,
            "object_fit": null,
            "object_position": null,
            "order": null,
            "overflow": null,
            "overflow_x": null,
            "overflow_y": null,
            "padding": null,
            "right": null,
            "top": null,
            "visibility": null,
            "width": null
          }
        },
        "6a7ae15b592e4fd590125d8f32a0fc64": {
          "model_module": "@jupyter-widgets/controls",
          "model_name": "DescriptionStyleModel",
          "model_module_version": "1.5.0",
          "state": {
            "_model_module": "@jupyter-widgets/controls",
            "_model_module_version": "1.5.0",
            "_model_name": "DescriptionStyleModel",
            "_view_count": null,
            "_view_module": "@jupyter-widgets/base",
            "_view_module_version": "1.2.0",
            "_view_name": "StyleView",
            "description_width": ""
          }
        },
        "a2e5c771c48044deae5938f4dff763a1": {
          "model_module": "@jupyter-widgets/controls",
          "model_name": "HBoxModel",
          "model_module_version": "1.5.0",
          "state": {
            "_dom_classes": [],
            "_model_module": "@jupyter-widgets/controls",
            "_model_module_version": "1.5.0",
            "_model_name": "HBoxModel",
            "_view_count": null,
            "_view_module": "@jupyter-widgets/controls",
            "_view_module_version": "1.5.0",
            "_view_name": "HBoxView",
            "box_style": "",
            "children": [
              "IPY_MODEL_4b09109ea38a4af185552252041d6773",
              "IPY_MODEL_96c66708ee2446fcb79c5fb7038aa672",
              "IPY_MODEL_b3178b78691b419baa0fa5f9240244f9"
            ],
            "layout": "IPY_MODEL_7ba600f9546c4fa29dc732943d99309b"
          }
        },
        "4b09109ea38a4af185552252041d6773": {
          "model_module": "@jupyter-widgets/controls",
          "model_name": "HTMLModel",
          "model_module_version": "1.5.0",
          "state": {
            "_dom_classes": [],
            "_model_module": "@jupyter-widgets/controls",
            "_model_module_version": "1.5.0",
            "_model_name": "HTMLModel",
            "_view_count": null,
            "_view_module": "@jupyter-widgets/controls",
            "_view_module_version": "1.5.0",
            "_view_name": "HTMLView",
            "description": "",
            "description_tooltip": null,
            "layout": "IPY_MODEL_48597b073185428f863fe132077dfa7e",
            "placeholder": "​",
            "style": "IPY_MODEL_130b8c5fbf7c41c3b46d3b0c816e7792",
            "value": "100%"
          }
        },
        "96c66708ee2446fcb79c5fb7038aa672": {
          "model_module": "@jupyter-widgets/controls",
          "model_name": "FloatProgressModel",
          "model_module_version": "1.5.0",
          "state": {
            "_dom_classes": [],
            "_model_module": "@jupyter-widgets/controls",
            "_model_module_version": "1.5.0",
            "_model_name": "FloatProgressModel",
            "_view_count": null,
            "_view_module": "@jupyter-widgets/controls",
            "_view_module_version": "1.5.0",
            "_view_name": "ProgressView",
            "bar_style": "success",
            "description": "",
            "description_tooltip": null,
            "layout": "IPY_MODEL_da303692a04a46d3999e4dbc108071cb",
            "max": 1,
            "min": 0,
            "orientation": "horizontal",
            "style": "IPY_MODEL_4bda40cfd6eb4ff6b3950aa0ad14c45f",
            "value": 1
          }
        },
        "b3178b78691b419baa0fa5f9240244f9": {
          "model_module": "@jupyter-widgets/controls",
          "model_name": "HTMLModel",
          "model_module_version": "1.5.0",
          "state": {
            "_dom_classes": [],
            "_model_module": "@jupyter-widgets/controls",
            "_model_module_version": "1.5.0",
            "_model_name": "HTMLModel",
            "_view_count": null,
            "_view_module": "@jupyter-widgets/controls",
            "_view_module_version": "1.5.0",
            "_view_name": "HTMLView",
            "description": "",
            "description_tooltip": null,
            "layout": "IPY_MODEL_6b7137c24d6a41a8bc99c3c22116b15a",
            "placeholder": "​",
            "style": "IPY_MODEL_2b3fa504d6a249d6ae607824376cc545",
            "value": " 1/1 [00:00&lt;00:00,  6.24ba/s]"
          }
        },
        "7ba600f9546c4fa29dc732943d99309b": {
          "model_module": "@jupyter-widgets/base",
          "model_name": "LayoutModel",
          "model_module_version": "1.2.0",
          "state": {
            "_model_module": "@jupyter-widgets/base",
            "_model_module_version": "1.2.0",
            "_model_name": "LayoutModel",
            "_view_count": null,
            "_view_module": "@jupyter-widgets/base",
            "_view_module_version": "1.2.0",
            "_view_name": "LayoutView",
            "align_content": null,
            "align_items": null,
            "align_self": null,
            "border": null,
            "bottom": null,
            "display": null,
            "flex": null,
            "flex_flow": null,
            "grid_area": null,
            "grid_auto_columns": null,
            "grid_auto_flow": null,
            "grid_auto_rows": null,
            "grid_column": null,
            "grid_gap": null,
            "grid_row": null,
            "grid_template_areas": null,
            "grid_template_columns": null,
            "grid_template_rows": null,
            "height": null,
            "justify_content": null,
            "justify_items": null,
            "left": null,
            "margin": null,
            "max_height": null,
            "max_width": null,
            "min_height": null,
            "min_width": null,
            "object_fit": null,
            "object_position": null,
            "order": null,
            "overflow": null,
            "overflow_x": null,
            "overflow_y": null,
            "padding": null,
            "right": null,
            "top": null,
            "visibility": null,
            "width": null
          }
        },
        "48597b073185428f863fe132077dfa7e": {
          "model_module": "@jupyter-widgets/base",
          "model_name": "LayoutModel",
          "model_module_version": "1.2.0",
          "state": {
            "_model_module": "@jupyter-widgets/base",
            "_model_module_version": "1.2.0",
            "_model_name": "LayoutModel",
            "_view_count": null,
            "_view_module": "@jupyter-widgets/base",
            "_view_module_version": "1.2.0",
            "_view_name": "LayoutView",
            "align_content": null,
            "align_items": null,
            "align_self": null,
            "border": null,
            "bottom": null,
            "display": null,
            "flex": null,
            "flex_flow": null,
            "grid_area": null,
            "grid_auto_columns": null,
            "grid_auto_flow": null,
            "grid_auto_rows": null,
            "grid_column": null,
            "grid_gap": null,
            "grid_row": null,
            "grid_template_areas": null,
            "grid_template_columns": null,
            "grid_template_rows": null,
            "height": null,
            "justify_content": null,
            "justify_items": null,
            "left": null,
            "margin": null,
            "max_height": null,
            "max_width": null,
            "min_height": null,
            "min_width": null,
            "object_fit": null,
            "object_position": null,
            "order": null,
            "overflow": null,
            "overflow_x": null,
            "overflow_y": null,
            "padding": null,
            "right": null,
            "top": null,
            "visibility": null,
            "width": null
          }
        },
        "130b8c5fbf7c41c3b46d3b0c816e7792": {
          "model_module": "@jupyter-widgets/controls",
          "model_name": "DescriptionStyleModel",
          "model_module_version": "1.5.0",
          "state": {
            "_model_module": "@jupyter-widgets/controls",
            "_model_module_version": "1.5.0",
            "_model_name": "DescriptionStyleModel",
            "_view_count": null,
            "_view_module": "@jupyter-widgets/base",
            "_view_module_version": "1.2.0",
            "_view_name": "StyleView",
            "description_width": ""
          }
        },
        "da303692a04a46d3999e4dbc108071cb": {
          "model_module": "@jupyter-widgets/base",
          "model_name": "LayoutModel",
          "model_module_version": "1.2.0",
          "state": {
            "_model_module": "@jupyter-widgets/base",
            "_model_module_version": "1.2.0",
            "_model_name": "LayoutModel",
            "_view_count": null,
            "_view_module": "@jupyter-widgets/base",
            "_view_module_version": "1.2.0",
            "_view_name": "LayoutView",
            "align_content": null,
            "align_items": null,
            "align_self": null,
            "border": null,
            "bottom": null,
            "display": null,
            "flex": null,
            "flex_flow": null,
            "grid_area": null,
            "grid_auto_columns": null,
            "grid_auto_flow": null,
            "grid_auto_rows": null,
            "grid_column": null,
            "grid_gap": null,
            "grid_row": null,
            "grid_template_areas": null,
            "grid_template_columns": null,
            "grid_template_rows": null,
            "height": null,
            "justify_content": null,
            "justify_items": null,
            "left": null,
            "margin": null,
            "max_height": null,
            "max_width": null,
            "min_height": null,
            "min_width": null,
            "object_fit": null,
            "object_position": null,
            "order": null,
            "overflow": null,
            "overflow_x": null,
            "overflow_y": null,
            "padding": null,
            "right": null,
            "top": null,
            "visibility": null,
            "width": null
          }
        },
        "4bda40cfd6eb4ff6b3950aa0ad14c45f": {
          "model_module": "@jupyter-widgets/controls",
          "model_name": "ProgressStyleModel",
          "model_module_version": "1.5.0",
          "state": {
            "_model_module": "@jupyter-widgets/controls",
            "_model_module_version": "1.5.0",
            "_model_name": "ProgressStyleModel",
            "_view_count": null,
            "_view_module": "@jupyter-widgets/base",
            "_view_module_version": "1.2.0",
            "_view_name": "StyleView",
            "bar_color": null,
            "description_width": ""
          }
        },
        "6b7137c24d6a41a8bc99c3c22116b15a": {
          "model_module": "@jupyter-widgets/base",
          "model_name": "LayoutModel",
          "model_module_version": "1.2.0",
          "state": {
            "_model_module": "@jupyter-widgets/base",
            "_model_module_version": "1.2.0",
            "_model_name": "LayoutModel",
            "_view_count": null,
            "_view_module": "@jupyter-widgets/base",
            "_view_module_version": "1.2.0",
            "_view_name": "LayoutView",
            "align_content": null,
            "align_items": null,
            "align_self": null,
            "border": null,
            "bottom": null,
            "display": null,
            "flex": null,
            "flex_flow": null,
            "grid_area": null,
            "grid_auto_columns": null,
            "grid_auto_flow": null,
            "grid_auto_rows": null,
            "grid_column": null,
            "grid_gap": null,
            "grid_row": null,
            "grid_template_areas": null,
            "grid_template_columns": null,
            "grid_template_rows": null,
            "height": null,
            "justify_content": null,
            "justify_items": null,
            "left": null,
            "margin": null,
            "max_height": null,
            "max_width": null,
            "min_height": null,
            "min_width": null,
            "object_fit": null,
            "object_position": null,
            "order": null,
            "overflow": null,
            "overflow_x": null,
            "overflow_y": null,
            "padding": null,
            "right": null,
            "top": null,
            "visibility": null,
            "width": null
          }
        },
        "2b3fa504d6a249d6ae607824376cc545": {
          "model_module": "@jupyter-widgets/controls",
          "model_name": "DescriptionStyleModel",
          "model_module_version": "1.5.0",
          "state": {
            "_model_module": "@jupyter-widgets/controls",
            "_model_module_version": "1.5.0",
            "_model_name": "DescriptionStyleModel",
            "_view_count": null,
            "_view_module": "@jupyter-widgets/base",
            "_view_module_version": "1.2.0",
            "_view_name": "StyleView",
            "description_width": ""
          }
        },
        "063305bf02f944c38a9f86bdfc0ba6b4": {
          "model_module": "@jupyter-widgets/controls",
          "model_name": "HBoxModel",
          "model_module_version": "1.5.0",
          "state": {
            "_dom_classes": [],
            "_model_module": "@jupyter-widgets/controls",
            "_model_module_version": "1.5.0",
            "_model_name": "HBoxModel",
            "_view_count": null,
            "_view_module": "@jupyter-widgets/controls",
            "_view_module_version": "1.5.0",
            "_view_name": "HBoxView",
            "box_style": "",
            "children": [
              "IPY_MODEL_be9f81b6b3364011afb8eda39d13e3a6",
              "IPY_MODEL_c94e46afd5774110b81ea61b8152bf4c",
              "IPY_MODEL_028e3b3c29c94aa39dc7bcb97bd148b2"
            ],
            "layout": "IPY_MODEL_8e2efb04248f49a39a37541e3b9adcfa"
          }
        },
        "be9f81b6b3364011afb8eda39d13e3a6": {
          "model_module": "@jupyter-widgets/controls",
          "model_name": "HTMLModel",
          "model_module_version": "1.5.0",
          "state": {
            "_dom_classes": [],
            "_model_module": "@jupyter-widgets/controls",
            "_model_module_version": "1.5.0",
            "_model_name": "HTMLModel",
            "_view_count": null,
            "_view_module": "@jupyter-widgets/controls",
            "_view_module_version": "1.5.0",
            "_view_name": "HTMLView",
            "description": "",
            "description_tooltip": null,
            "layout": "IPY_MODEL_152fcaeb7c0645b7bffb71db2cc36372",
            "placeholder": "​",
            "style": "IPY_MODEL_f32702aab59c457fac5746a73ccc14d8",
            "value": "100%"
          }
        },
        "c94e46afd5774110b81ea61b8152bf4c": {
          "model_module": "@jupyter-widgets/controls",
          "model_name": "FloatProgressModel",
          "model_module_version": "1.5.0",
          "state": {
            "_dom_classes": [],
            "_model_module": "@jupyter-widgets/controls",
            "_model_module_version": "1.5.0",
            "_model_name": "FloatProgressModel",
            "_view_count": null,
            "_view_module": "@jupyter-widgets/controls",
            "_view_module_version": "1.5.0",
            "_view_name": "ProgressView",
            "bar_style": "success",
            "description": "",
            "description_tooltip": null,
            "layout": "IPY_MODEL_2b1d71edbc774b96b1b88c1e56e937ca",
            "max": 1,
            "min": 0,
            "orientation": "horizontal",
            "style": "IPY_MODEL_6ec80c9fdde741ff9ac1a25b2403d33f",
            "value": 1
          }
        },
        "028e3b3c29c94aa39dc7bcb97bd148b2": {
          "model_module": "@jupyter-widgets/controls",
          "model_name": "HTMLModel",
          "model_module_version": "1.5.0",
          "state": {
            "_dom_classes": [],
            "_model_module": "@jupyter-widgets/controls",
            "_model_module_version": "1.5.0",
            "_model_name": "HTMLModel",
            "_view_count": null,
            "_view_module": "@jupyter-widgets/controls",
            "_view_module_version": "1.5.0",
            "_view_name": "HTMLView",
            "description": "",
            "description_tooltip": null,
            "layout": "IPY_MODEL_4213d758b3e1470aafc5a6dcdde09a45",
            "placeholder": "​",
            "style": "IPY_MODEL_e22b4f5199b24958adf79055a3452b08",
            "value": " 1/1 [00:00&lt;00:00,  8.79ba/s]"
          }
        },
        "8e2efb04248f49a39a37541e3b9adcfa": {
          "model_module": "@jupyter-widgets/base",
          "model_name": "LayoutModel",
          "model_module_version": "1.2.0",
          "state": {
            "_model_module": "@jupyter-widgets/base",
            "_model_module_version": "1.2.0",
            "_model_name": "LayoutModel",
            "_view_count": null,
            "_view_module": "@jupyter-widgets/base",
            "_view_module_version": "1.2.0",
            "_view_name": "LayoutView",
            "align_content": null,
            "align_items": null,
            "align_self": null,
            "border": null,
            "bottom": null,
            "display": null,
            "flex": null,
            "flex_flow": null,
            "grid_area": null,
            "grid_auto_columns": null,
            "grid_auto_flow": null,
            "grid_auto_rows": null,
            "grid_column": null,
            "grid_gap": null,
            "grid_row": null,
            "grid_template_areas": null,
            "grid_template_columns": null,
            "grid_template_rows": null,
            "height": null,
            "justify_content": null,
            "justify_items": null,
            "left": null,
            "margin": null,
            "max_height": null,
            "max_width": null,
            "min_height": null,
            "min_width": null,
            "object_fit": null,
            "object_position": null,
            "order": null,
            "overflow": null,
            "overflow_x": null,
            "overflow_y": null,
            "padding": null,
            "right": null,
            "top": null,
            "visibility": null,
            "width": null
          }
        },
        "152fcaeb7c0645b7bffb71db2cc36372": {
          "model_module": "@jupyter-widgets/base",
          "model_name": "LayoutModel",
          "model_module_version": "1.2.0",
          "state": {
            "_model_module": "@jupyter-widgets/base",
            "_model_module_version": "1.2.0",
            "_model_name": "LayoutModel",
            "_view_count": null,
            "_view_module": "@jupyter-widgets/base",
            "_view_module_version": "1.2.0",
            "_view_name": "LayoutView",
            "align_content": null,
            "align_items": null,
            "align_self": null,
            "border": null,
            "bottom": null,
            "display": null,
            "flex": null,
            "flex_flow": null,
            "grid_area": null,
            "grid_auto_columns": null,
            "grid_auto_flow": null,
            "grid_auto_rows": null,
            "grid_column": null,
            "grid_gap": null,
            "grid_row": null,
            "grid_template_areas": null,
            "grid_template_columns": null,
            "grid_template_rows": null,
            "height": null,
            "justify_content": null,
            "justify_items": null,
            "left": null,
            "margin": null,
            "max_height": null,
            "max_width": null,
            "min_height": null,
            "min_width": null,
            "object_fit": null,
            "object_position": null,
            "order": null,
            "overflow": null,
            "overflow_x": null,
            "overflow_y": null,
            "padding": null,
            "right": null,
            "top": null,
            "visibility": null,
            "width": null
          }
        },
        "f32702aab59c457fac5746a73ccc14d8": {
          "model_module": "@jupyter-widgets/controls",
          "model_name": "DescriptionStyleModel",
          "model_module_version": "1.5.0",
          "state": {
            "_model_module": "@jupyter-widgets/controls",
            "_model_module_version": "1.5.0",
            "_model_name": "DescriptionStyleModel",
            "_view_count": null,
            "_view_module": "@jupyter-widgets/base",
            "_view_module_version": "1.2.0",
            "_view_name": "StyleView",
            "description_width": ""
          }
        },
        "2b1d71edbc774b96b1b88c1e56e937ca": {
          "model_module": "@jupyter-widgets/base",
          "model_name": "LayoutModel",
          "model_module_version": "1.2.0",
          "state": {
            "_model_module": "@jupyter-widgets/base",
            "_model_module_version": "1.2.0",
            "_model_name": "LayoutModel",
            "_view_count": null,
            "_view_module": "@jupyter-widgets/base",
            "_view_module_version": "1.2.0",
            "_view_name": "LayoutView",
            "align_content": null,
            "align_items": null,
            "align_self": null,
            "border": null,
            "bottom": null,
            "display": null,
            "flex": null,
            "flex_flow": null,
            "grid_area": null,
            "grid_auto_columns": null,
            "grid_auto_flow": null,
            "grid_auto_rows": null,
            "grid_column": null,
            "grid_gap": null,
            "grid_row": null,
            "grid_template_areas": null,
            "grid_template_columns": null,
            "grid_template_rows": null,
            "height": null,
            "justify_content": null,
            "justify_items": null,
            "left": null,
            "margin": null,
            "max_height": null,
            "max_width": null,
            "min_height": null,
            "min_width": null,
            "object_fit": null,
            "object_position": null,
            "order": null,
            "overflow": null,
            "overflow_x": null,
            "overflow_y": null,
            "padding": null,
            "right": null,
            "top": null,
            "visibility": null,
            "width": null
          }
        },
        "6ec80c9fdde741ff9ac1a25b2403d33f": {
          "model_module": "@jupyter-widgets/controls",
          "model_name": "ProgressStyleModel",
          "model_module_version": "1.5.0",
          "state": {
            "_model_module": "@jupyter-widgets/controls",
            "_model_module_version": "1.5.0",
            "_model_name": "ProgressStyleModel",
            "_view_count": null,
            "_view_module": "@jupyter-widgets/base",
            "_view_module_version": "1.2.0",
            "_view_name": "StyleView",
            "bar_color": null,
            "description_width": ""
          }
        },
        "4213d758b3e1470aafc5a6dcdde09a45": {
          "model_module": "@jupyter-widgets/base",
          "model_name": "LayoutModel",
          "model_module_version": "1.2.0",
          "state": {
            "_model_module": "@jupyter-widgets/base",
            "_model_module_version": "1.2.0",
            "_model_name": "LayoutModel",
            "_view_count": null,
            "_view_module": "@jupyter-widgets/base",
            "_view_module_version": "1.2.0",
            "_view_name": "LayoutView",
            "align_content": null,
            "align_items": null,
            "align_self": null,
            "border": null,
            "bottom": null,
            "display": null,
            "flex": null,
            "flex_flow": null,
            "grid_area": null,
            "grid_auto_columns": null,
            "grid_auto_flow": null,
            "grid_auto_rows": null,
            "grid_column": null,
            "grid_gap": null,
            "grid_row": null,
            "grid_template_areas": null,
            "grid_template_columns": null,
            "grid_template_rows": null,
            "height": null,
            "justify_content": null,
            "justify_items": null,
            "left": null,
            "margin": null,
            "max_height": null,
            "max_width": null,
            "min_height": null,
            "min_width": null,
            "object_fit": null,
            "object_position": null,
            "order": null,
            "overflow": null,
            "overflow_x": null,
            "overflow_y": null,
            "padding": null,
            "right": null,
            "top": null,
            "visibility": null,
            "width": null
          }
        },
        "e22b4f5199b24958adf79055a3452b08": {
          "model_module": "@jupyter-widgets/controls",
          "model_name": "DescriptionStyleModel",
          "model_module_version": "1.5.0",
          "state": {
            "_model_module": "@jupyter-widgets/controls",
            "_model_module_version": "1.5.0",
            "_model_name": "DescriptionStyleModel",
            "_view_count": null,
            "_view_module": "@jupyter-widgets/base",
            "_view_module_version": "1.2.0",
            "_view_name": "StyleView",
            "description_width": ""
          }
        },
        "ec0365ec2a81491b8af35b8804d35242": {
          "model_module": "@jupyter-widgets/controls",
          "model_name": "HBoxModel",
          "model_module_version": "1.5.0",
          "state": {
            "_dom_classes": [],
            "_model_module": "@jupyter-widgets/controls",
            "_model_module_version": "1.5.0",
            "_model_name": "HBoxModel",
            "_view_count": null,
            "_view_module": "@jupyter-widgets/controls",
            "_view_module_version": "1.5.0",
            "_view_name": "HBoxView",
            "box_style": "",
            "children": [
              "IPY_MODEL_fe7f82ed46e14b69a878c9bc27e0418b",
              "IPY_MODEL_7c707297e476467d91f2b8994894f98d",
              "IPY_MODEL_cdf1d27b83ba4a69ac5f6eae388d58ac"
            ],
            "layout": "IPY_MODEL_0491fe73a7b7468f8f9a7c4f6e934e67"
          }
        },
        "fe7f82ed46e14b69a878c9bc27e0418b": {
          "model_module": "@jupyter-widgets/controls",
          "model_name": "HTMLModel",
          "model_module_version": "1.5.0",
          "state": {
            "_dom_classes": [],
            "_model_module": "@jupyter-widgets/controls",
            "_model_module_version": "1.5.0",
            "_model_name": "HTMLModel",
            "_view_count": null,
            "_view_module": "@jupyter-widgets/controls",
            "_view_module_version": "1.5.0",
            "_view_name": "HTMLView",
            "description": "",
            "description_tooltip": null,
            "layout": "IPY_MODEL_84c85050fa134df2ac51492f5fce03b8",
            "placeholder": "​",
            "style": "IPY_MODEL_b11b666514c14b2eaacfd0a21a704a25",
            "value": "Downloading: 100%"
          }
        },
        "7c707297e476467d91f2b8994894f98d": {
          "model_module": "@jupyter-widgets/controls",
          "model_name": "FloatProgressModel",
          "model_module_version": "1.5.0",
          "state": {
            "_dom_classes": [],
            "_model_module": "@jupyter-widgets/controls",
            "_model_module_version": "1.5.0",
            "_model_name": "FloatProgressModel",
            "_view_count": null,
            "_view_module": "@jupyter-widgets/controls",
            "_view_module_version": "1.5.0",
            "_view_name": "ProgressView",
            "bar_style": "success",
            "description": "",
            "description_tooltip": null,
            "layout": "IPY_MODEL_e1bd5cd1a6a04312bf98b174b9f6571b",
            "max": 363423424,
            "min": 0,
            "orientation": "horizontal",
            "style": "IPY_MODEL_ffd97dabdce14c748c2c71c4db5a2293",
            "value": 363423424
          }
        },
        "cdf1d27b83ba4a69ac5f6eae388d58ac": {
          "model_module": "@jupyter-widgets/controls",
          "model_name": "HTMLModel",
          "model_module_version": "1.5.0",
          "state": {
            "_dom_classes": [],
            "_model_module": "@jupyter-widgets/controls",
            "_model_module_version": "1.5.0",
            "_model_name": "HTMLModel",
            "_view_count": null,
            "_view_module": "@jupyter-widgets/controls",
            "_view_module_version": "1.5.0",
            "_view_name": "HTMLView",
            "description": "",
            "description_tooltip": null,
            "layout": "IPY_MODEL_82bd8461295d44f585a8702053e9b6dc",
            "placeholder": "​",
            "style": "IPY_MODEL_dc3b70ad274b49808614b306355458ff",
            "value": " 363M/363M [00:05&lt;00:00, 71.9MB/s]"
          }
        },
        "0491fe73a7b7468f8f9a7c4f6e934e67": {
          "model_module": "@jupyter-widgets/base",
          "model_name": "LayoutModel",
          "model_module_version": "1.2.0",
          "state": {
            "_model_module": "@jupyter-widgets/base",
            "_model_module_version": "1.2.0",
            "_model_name": "LayoutModel",
            "_view_count": null,
            "_view_module": "@jupyter-widgets/base",
            "_view_module_version": "1.2.0",
            "_view_name": "LayoutView",
            "align_content": null,
            "align_items": null,
            "align_self": null,
            "border": null,
            "bottom": null,
            "display": null,
            "flex": null,
            "flex_flow": null,
            "grid_area": null,
            "grid_auto_columns": null,
            "grid_auto_flow": null,
            "grid_auto_rows": null,
            "grid_column": null,
            "grid_gap": null,
            "grid_row": null,
            "grid_template_areas": null,
            "grid_template_columns": null,
            "grid_template_rows": null,
            "height": null,
            "justify_content": null,
            "justify_items": null,
            "left": null,
            "margin": null,
            "max_height": null,
            "max_width": null,
            "min_height": null,
            "min_width": null,
            "object_fit": null,
            "object_position": null,
            "order": null,
            "overflow": null,
            "overflow_x": null,
            "overflow_y": null,
            "padding": null,
            "right": null,
            "top": null,
            "visibility": null,
            "width": null
          }
        },
        "84c85050fa134df2ac51492f5fce03b8": {
          "model_module": "@jupyter-widgets/base",
          "model_name": "LayoutModel",
          "model_module_version": "1.2.0",
          "state": {
            "_model_module": "@jupyter-widgets/base",
            "_model_module_version": "1.2.0",
            "_model_name": "LayoutModel",
            "_view_count": null,
            "_view_module": "@jupyter-widgets/base",
            "_view_module_version": "1.2.0",
            "_view_name": "LayoutView",
            "align_content": null,
            "align_items": null,
            "align_self": null,
            "border": null,
            "bottom": null,
            "display": null,
            "flex": null,
            "flex_flow": null,
            "grid_area": null,
            "grid_auto_columns": null,
            "grid_auto_flow": null,
            "grid_auto_rows": null,
            "grid_column": null,
            "grid_gap": null,
            "grid_row": null,
            "grid_template_areas": null,
            "grid_template_columns": null,
            "grid_template_rows": null,
            "height": null,
            "justify_content": null,
            "justify_items": null,
            "left": null,
            "margin": null,
            "max_height": null,
            "max_width": null,
            "min_height": null,
            "min_width": null,
            "object_fit": null,
            "object_position": null,
            "order": null,
            "overflow": null,
            "overflow_x": null,
            "overflow_y": null,
            "padding": null,
            "right": null,
            "top": null,
            "visibility": null,
            "width": null
          }
        },
        "b11b666514c14b2eaacfd0a21a704a25": {
          "model_module": "@jupyter-widgets/controls",
          "model_name": "DescriptionStyleModel",
          "model_module_version": "1.5.0",
          "state": {
            "_model_module": "@jupyter-widgets/controls",
            "_model_module_version": "1.5.0",
            "_model_name": "DescriptionStyleModel",
            "_view_count": null,
            "_view_module": "@jupyter-widgets/base",
            "_view_module_version": "1.2.0",
            "_view_name": "StyleView",
            "description_width": ""
          }
        },
        "e1bd5cd1a6a04312bf98b174b9f6571b": {
          "model_module": "@jupyter-widgets/base",
          "model_name": "LayoutModel",
          "model_module_version": "1.2.0",
          "state": {
            "_model_module": "@jupyter-widgets/base",
            "_model_module_version": "1.2.0",
            "_model_name": "LayoutModel",
            "_view_count": null,
            "_view_module": "@jupyter-widgets/base",
            "_view_module_version": "1.2.0",
            "_view_name": "LayoutView",
            "align_content": null,
            "align_items": null,
            "align_self": null,
            "border": null,
            "bottom": null,
            "display": null,
            "flex": null,
            "flex_flow": null,
            "grid_area": null,
            "grid_auto_columns": null,
            "grid_auto_flow": null,
            "grid_auto_rows": null,
            "grid_column": null,
            "grid_gap": null,
            "grid_row": null,
            "grid_template_areas": null,
            "grid_template_columns": null,
            "grid_template_rows": null,
            "height": null,
            "justify_content": null,
            "justify_items": null,
            "left": null,
            "margin": null,
            "max_height": null,
            "max_width": null,
            "min_height": null,
            "min_width": null,
            "object_fit": null,
            "object_position": null,
            "order": null,
            "overflow": null,
            "overflow_x": null,
            "overflow_y": null,
            "padding": null,
            "right": null,
            "top": null,
            "visibility": null,
            "width": null
          }
        },
        "ffd97dabdce14c748c2c71c4db5a2293": {
          "model_module": "@jupyter-widgets/controls",
          "model_name": "ProgressStyleModel",
          "model_module_version": "1.5.0",
          "state": {
            "_model_module": "@jupyter-widgets/controls",
            "_model_module_version": "1.5.0",
            "_model_name": "ProgressStyleModel",
            "_view_count": null,
            "_view_module": "@jupyter-widgets/base",
            "_view_module_version": "1.2.0",
            "_view_name": "StyleView",
            "bar_color": null,
            "description_width": ""
          }
        },
        "82bd8461295d44f585a8702053e9b6dc": {
          "model_module": "@jupyter-widgets/base",
          "model_name": "LayoutModel",
          "model_module_version": "1.2.0",
          "state": {
            "_model_module": "@jupyter-widgets/base",
            "_model_module_version": "1.2.0",
            "_model_name": "LayoutModel",
            "_view_count": null,
            "_view_module": "@jupyter-widgets/base",
            "_view_module_version": "1.2.0",
            "_view_name": "LayoutView",
            "align_content": null,
            "align_items": null,
            "align_self": null,
            "border": null,
            "bottom": null,
            "display": null,
            "flex": null,
            "flex_flow": null,
            "grid_area": null,
            "grid_auto_columns": null,
            "grid_auto_flow": null,
            "grid_auto_rows": null,
            "grid_column": null,
            "grid_gap": null,
            "grid_row": null,
            "grid_template_areas": null,
            "grid_template_columns": null,
            "grid_template_rows": null,
            "height": null,
            "justify_content": null,
            "justify_items": null,
            "left": null,
            "margin": null,
            "max_height": null,
            "max_width": null,
            "min_height": null,
            "min_width": null,
            "object_fit": null,
            "object_position": null,
            "order": null,
            "overflow": null,
            "overflow_x": null,
            "overflow_y": null,
            "padding": null,
            "right": null,
            "top": null,
            "visibility": null,
            "width": null
          }
        },
        "dc3b70ad274b49808614b306355458ff": {
          "model_module": "@jupyter-widgets/controls",
          "model_name": "DescriptionStyleModel",
          "model_module_version": "1.5.0",
          "state": {
            "_model_module": "@jupyter-widgets/controls",
            "_model_module_version": "1.5.0",
            "_model_name": "DescriptionStyleModel",
            "_view_count": null,
            "_view_module": "@jupyter-widgets/base",
            "_view_module_version": "1.2.0",
            "_view_name": "StyleView",
            "description_width": ""
          }
        },
        "ab053f665d9c4874a37946a486efac45": {
          "model_module": "@jupyter-widgets/controls",
          "model_name": "HBoxModel",
          "model_module_version": "1.5.0",
          "state": {
            "_dom_classes": [],
            "_model_module": "@jupyter-widgets/controls",
            "_model_module_version": "1.5.0",
            "_model_name": "HBoxModel",
            "_view_count": null,
            "_view_module": "@jupyter-widgets/controls",
            "_view_module_version": "1.5.0",
            "_view_name": "HBoxView",
            "box_style": "",
            "children": [
              "IPY_MODEL_e216220d49624948b227768ecbd67d5e",
              "IPY_MODEL_fe1880198a2e49b3a02d7e1e5363c5da",
              "IPY_MODEL_ba896f1975d24d5cb630a44ad0bffa5b"
            ],
            "layout": "IPY_MODEL_d3e1f6bf4940457fa8f7860a57efbc98"
          }
        },
        "e216220d49624948b227768ecbd67d5e": {
          "model_module": "@jupyter-widgets/controls",
          "model_name": "HTMLModel",
          "model_module_version": "1.5.0",
          "state": {
            "_dom_classes": [],
            "_model_module": "@jupyter-widgets/controls",
            "_model_module_version": "1.5.0",
            "_model_name": "HTMLModel",
            "_view_count": null,
            "_view_module": "@jupyter-widgets/controls",
            "_view_module_version": "1.5.0",
            "_view_name": "HTMLView",
            "description": "",
            "description_tooltip": null,
            "layout": "IPY_MODEL_ebbbf562d00c4d37bbd527dec77c039d",
            "placeholder": "​",
            "style": "IPY_MODEL_e2230ae0317c4bd2a04cb3aaada9042d",
            "value": "100%"
          }
        },
        "fe1880198a2e49b3a02d7e1e5363c5da": {
          "model_module": "@jupyter-widgets/controls",
          "model_name": "FloatProgressModel",
          "model_module_version": "1.5.0",
          "state": {
            "_dom_classes": [],
            "_model_module": "@jupyter-widgets/controls",
            "_model_module_version": "1.5.0",
            "_model_name": "FloatProgressModel",
            "_view_count": null,
            "_view_module": "@jupyter-widgets/controls",
            "_view_module_version": "1.5.0",
            "_view_name": "ProgressView",
            "bar_style": "success",
            "description": "",
            "description_tooltip": null,
            "layout": "IPY_MODEL_97080680ccab4133920c4c0df3a18055",
            "max": 15,
            "min": 0,
            "orientation": "horizontal",
            "style": "IPY_MODEL_60a74d590a8b497cbd45683c6312587e",
            "value": 15
          }
        },
        "ba896f1975d24d5cb630a44ad0bffa5b": {
          "model_module": "@jupyter-widgets/controls",
          "model_name": "HTMLModel",
          "model_module_version": "1.5.0",
          "state": {
            "_dom_classes": [],
            "_model_module": "@jupyter-widgets/controls",
            "_model_module_version": "1.5.0",
            "_model_name": "HTMLModel",
            "_view_count": null,
            "_view_module": "@jupyter-widgets/controls",
            "_view_module_version": "1.5.0",
            "_view_name": "HTMLView",
            "description": "",
            "description_tooltip": null,
            "layout": "IPY_MODEL_82f08815a228456b83312ad2239d0c68",
            "placeholder": "​",
            "style": "IPY_MODEL_59017cb6cb3c479c84d5d3f3ff5f32f8",
            "value": " 15/15 [00:05&lt;00:00,  3.44ba/s]"
          }
        },
        "d3e1f6bf4940457fa8f7860a57efbc98": {
          "model_module": "@jupyter-widgets/base",
          "model_name": "LayoutModel",
          "model_module_version": "1.2.0",
          "state": {
            "_model_module": "@jupyter-widgets/base",
            "_model_module_version": "1.2.0",
            "_model_name": "LayoutModel",
            "_view_count": null,
            "_view_module": "@jupyter-widgets/base",
            "_view_module_version": "1.2.0",
            "_view_name": "LayoutView",
            "align_content": null,
            "align_items": null,
            "align_self": null,
            "border": null,
            "bottom": null,
            "display": null,
            "flex": null,
            "flex_flow": null,
            "grid_area": null,
            "grid_auto_columns": null,
            "grid_auto_flow": null,
            "grid_auto_rows": null,
            "grid_column": null,
            "grid_gap": null,
            "grid_row": null,
            "grid_template_areas": null,
            "grid_template_columns": null,
            "grid_template_rows": null,
            "height": null,
            "justify_content": null,
            "justify_items": null,
            "left": null,
            "margin": null,
            "max_height": null,
            "max_width": null,
            "min_height": null,
            "min_width": null,
            "object_fit": null,
            "object_position": null,
            "order": null,
            "overflow": null,
            "overflow_x": null,
            "overflow_y": null,
            "padding": null,
            "right": null,
            "top": null,
            "visibility": null,
            "width": null
          }
        },
        "ebbbf562d00c4d37bbd527dec77c039d": {
          "model_module": "@jupyter-widgets/base",
          "model_name": "LayoutModel",
          "model_module_version": "1.2.0",
          "state": {
            "_model_module": "@jupyter-widgets/base",
            "_model_module_version": "1.2.0",
            "_model_name": "LayoutModel",
            "_view_count": null,
            "_view_module": "@jupyter-widgets/base",
            "_view_module_version": "1.2.0",
            "_view_name": "LayoutView",
            "align_content": null,
            "align_items": null,
            "align_self": null,
            "border": null,
            "bottom": null,
            "display": null,
            "flex": null,
            "flex_flow": null,
            "grid_area": null,
            "grid_auto_columns": null,
            "grid_auto_flow": null,
            "grid_auto_rows": null,
            "grid_column": null,
            "grid_gap": null,
            "grid_row": null,
            "grid_template_areas": null,
            "grid_template_columns": null,
            "grid_template_rows": null,
            "height": null,
            "justify_content": null,
            "justify_items": null,
            "left": null,
            "margin": null,
            "max_height": null,
            "max_width": null,
            "min_height": null,
            "min_width": null,
            "object_fit": null,
            "object_position": null,
            "order": null,
            "overflow": null,
            "overflow_x": null,
            "overflow_y": null,
            "padding": null,
            "right": null,
            "top": null,
            "visibility": null,
            "width": null
          }
        },
        "e2230ae0317c4bd2a04cb3aaada9042d": {
          "model_module": "@jupyter-widgets/controls",
          "model_name": "DescriptionStyleModel",
          "model_module_version": "1.5.0",
          "state": {
            "_model_module": "@jupyter-widgets/controls",
            "_model_module_version": "1.5.0",
            "_model_name": "DescriptionStyleModel",
            "_view_count": null,
            "_view_module": "@jupyter-widgets/base",
            "_view_module_version": "1.2.0",
            "_view_name": "StyleView",
            "description_width": ""
          }
        },
        "97080680ccab4133920c4c0df3a18055": {
          "model_module": "@jupyter-widgets/base",
          "model_name": "LayoutModel",
          "model_module_version": "1.2.0",
          "state": {
            "_model_module": "@jupyter-widgets/base",
            "_model_module_version": "1.2.0",
            "_model_name": "LayoutModel",
            "_view_count": null,
            "_view_module": "@jupyter-widgets/base",
            "_view_module_version": "1.2.0",
            "_view_name": "LayoutView",
            "align_content": null,
            "align_items": null,
            "align_self": null,
            "border": null,
            "bottom": null,
            "display": null,
            "flex": null,
            "flex_flow": null,
            "grid_area": null,
            "grid_auto_columns": null,
            "grid_auto_flow": null,
            "grid_auto_rows": null,
            "grid_column": null,
            "grid_gap": null,
            "grid_row": null,
            "grid_template_areas": null,
            "grid_template_columns": null,
            "grid_template_rows": null,
            "height": null,
            "justify_content": null,
            "justify_items": null,
            "left": null,
            "margin": null,
            "max_height": null,
            "max_width": null,
            "min_height": null,
            "min_width": null,
            "object_fit": null,
            "object_position": null,
            "order": null,
            "overflow": null,
            "overflow_x": null,
            "overflow_y": null,
            "padding": null,
            "right": null,
            "top": null,
            "visibility": null,
            "width": null
          }
        },
        "60a74d590a8b497cbd45683c6312587e": {
          "model_module": "@jupyter-widgets/controls",
          "model_name": "ProgressStyleModel",
          "model_module_version": "1.5.0",
          "state": {
            "_model_module": "@jupyter-widgets/controls",
            "_model_module_version": "1.5.0",
            "_model_name": "ProgressStyleModel",
            "_view_count": null,
            "_view_module": "@jupyter-widgets/base",
            "_view_module_version": "1.2.0",
            "_view_name": "StyleView",
            "bar_color": null,
            "description_width": ""
          }
        },
        "82f08815a228456b83312ad2239d0c68": {
          "model_module": "@jupyter-widgets/base",
          "model_name": "LayoutModel",
          "model_module_version": "1.2.0",
          "state": {
            "_model_module": "@jupyter-widgets/base",
            "_model_module_version": "1.2.0",
            "_model_name": "LayoutModel",
            "_view_count": null,
            "_view_module": "@jupyter-widgets/base",
            "_view_module_version": "1.2.0",
            "_view_name": "LayoutView",
            "align_content": null,
            "align_items": null,
            "align_self": null,
            "border": null,
            "bottom": null,
            "display": null,
            "flex": null,
            "flex_flow": null,
            "grid_area": null,
            "grid_auto_columns": null,
            "grid_auto_flow": null,
            "grid_auto_rows": null,
            "grid_column": null,
            "grid_gap": null,
            "grid_row": null,
            "grid_template_areas": null,
            "grid_template_columns": null,
            "grid_template_rows": null,
            "height": null,
            "justify_content": null,
            "justify_items": null,
            "left": null,
            "margin": null,
            "max_height": null,
            "max_width": null,
            "min_height": null,
            "min_width": null,
            "object_fit": null,
            "object_position": null,
            "order": null,
            "overflow": null,
            "overflow_x": null,
            "overflow_y": null,
            "padding": null,
            "right": null,
            "top": null,
            "visibility": null,
            "width": null
          }
        },
        "59017cb6cb3c479c84d5d3f3ff5f32f8": {
          "model_module": "@jupyter-widgets/controls",
          "model_name": "DescriptionStyleModel",
          "model_module_version": "1.5.0",
          "state": {
            "_model_module": "@jupyter-widgets/controls",
            "_model_module_version": "1.5.0",
            "_model_name": "DescriptionStyleModel",
            "_view_count": null,
            "_view_module": "@jupyter-widgets/base",
            "_view_module_version": "1.2.0",
            "_view_name": "StyleView",
            "description_width": ""
          }
        },
        "61a94ff77ba344808edd11ccf0596f67": {
          "model_module": "@jupyter-widgets/controls",
          "model_name": "HBoxModel",
          "model_module_version": "1.5.0",
          "state": {
            "_dom_classes": [],
            "_model_module": "@jupyter-widgets/controls",
            "_model_module_version": "1.5.0",
            "_model_name": "HBoxModel",
            "_view_count": null,
            "_view_module": "@jupyter-widgets/controls",
            "_view_module_version": "1.5.0",
            "_view_name": "HBoxView",
            "box_style": "",
            "children": [
              "IPY_MODEL_15e05069d9fb40488a3227c699323ea7",
              "IPY_MODEL_ab3f9e5cb9d443b19b329f4860423b30",
              "IPY_MODEL_4769f77ad1604de8bb3c74524e94724b"
            ],
            "layout": "IPY_MODEL_26c698a0ebe8439f8e491beddb38d028"
          }
        },
        "15e05069d9fb40488a3227c699323ea7": {
          "model_module": "@jupyter-widgets/controls",
          "model_name": "HTMLModel",
          "model_module_version": "1.5.0",
          "state": {
            "_dom_classes": [],
            "_model_module": "@jupyter-widgets/controls",
            "_model_module_version": "1.5.0",
            "_model_name": "HTMLModel",
            "_view_count": null,
            "_view_module": "@jupyter-widgets/controls",
            "_view_module_version": "1.5.0",
            "_view_name": "HTMLView",
            "description": "",
            "description_tooltip": null,
            "layout": "IPY_MODEL_1901450f65f54cceacc1e0d06c855baf",
            "placeholder": "​",
            "style": "IPY_MODEL_b0054461ae7044ec91ea71ab7d6d13ac",
            "value": "100%"
          }
        },
        "ab3f9e5cb9d443b19b329f4860423b30": {
          "model_module": "@jupyter-widgets/controls",
          "model_name": "FloatProgressModel",
          "model_module_version": "1.5.0",
          "state": {
            "_dom_classes": [],
            "_model_module": "@jupyter-widgets/controls",
            "_model_module_version": "1.5.0",
            "_model_name": "FloatProgressModel",
            "_view_count": null,
            "_view_module": "@jupyter-widgets/controls",
            "_view_module_version": "1.5.0",
            "_view_name": "ProgressView",
            "bar_style": "success",
            "description": "",
            "description_tooltip": null,
            "layout": "IPY_MODEL_6c6ff42affed4e98aa3c7b3f94a5a77e",
            "max": 4,
            "min": 0,
            "orientation": "horizontal",
            "style": "IPY_MODEL_9b48505a5f9a462580a5c936c3508062",
            "value": 4
          }
        },
        "4769f77ad1604de8bb3c74524e94724b": {
          "model_module": "@jupyter-widgets/controls",
          "model_name": "HTMLModel",
          "model_module_version": "1.5.0",
          "state": {
            "_dom_classes": [],
            "_model_module": "@jupyter-widgets/controls",
            "_model_module_version": "1.5.0",
            "_model_name": "HTMLModel",
            "_view_count": null,
            "_view_module": "@jupyter-widgets/controls",
            "_view_module_version": "1.5.0",
            "_view_name": "HTMLView",
            "description": "",
            "description_tooltip": null,
            "layout": "IPY_MODEL_e8dfb5396c8241ad96fd164aeef5886b",
            "placeholder": "​",
            "style": "IPY_MODEL_c9304cff724c4f1faf292d743670c85d",
            "value": " 4/4 [00:01&lt;00:00,  2.61ba/s]"
          }
        },
        "26c698a0ebe8439f8e491beddb38d028": {
          "model_module": "@jupyter-widgets/base",
          "model_name": "LayoutModel",
          "model_module_version": "1.2.0",
          "state": {
            "_model_module": "@jupyter-widgets/base",
            "_model_module_version": "1.2.0",
            "_model_name": "LayoutModel",
            "_view_count": null,
            "_view_module": "@jupyter-widgets/base",
            "_view_module_version": "1.2.0",
            "_view_name": "LayoutView",
            "align_content": null,
            "align_items": null,
            "align_self": null,
            "border": null,
            "bottom": null,
            "display": null,
            "flex": null,
            "flex_flow": null,
            "grid_area": null,
            "grid_auto_columns": null,
            "grid_auto_flow": null,
            "grid_auto_rows": null,
            "grid_column": null,
            "grid_gap": null,
            "grid_row": null,
            "grid_template_areas": null,
            "grid_template_columns": null,
            "grid_template_rows": null,
            "height": null,
            "justify_content": null,
            "justify_items": null,
            "left": null,
            "margin": null,
            "max_height": null,
            "max_width": null,
            "min_height": null,
            "min_width": null,
            "object_fit": null,
            "object_position": null,
            "order": null,
            "overflow": null,
            "overflow_x": null,
            "overflow_y": null,
            "padding": null,
            "right": null,
            "top": null,
            "visibility": null,
            "width": null
          }
        },
        "1901450f65f54cceacc1e0d06c855baf": {
          "model_module": "@jupyter-widgets/base",
          "model_name": "LayoutModel",
          "model_module_version": "1.2.0",
          "state": {
            "_model_module": "@jupyter-widgets/base",
            "_model_module_version": "1.2.0",
            "_model_name": "LayoutModel",
            "_view_count": null,
            "_view_module": "@jupyter-widgets/base",
            "_view_module_version": "1.2.0",
            "_view_name": "LayoutView",
            "align_content": null,
            "align_items": null,
            "align_self": null,
            "border": null,
            "bottom": null,
            "display": null,
            "flex": null,
            "flex_flow": null,
            "grid_area": null,
            "grid_auto_columns": null,
            "grid_auto_flow": null,
            "grid_auto_rows": null,
            "grid_column": null,
            "grid_gap": null,
            "grid_row": null,
            "grid_template_areas": null,
            "grid_template_columns": null,
            "grid_template_rows": null,
            "height": null,
            "justify_content": null,
            "justify_items": null,
            "left": null,
            "margin": null,
            "max_height": null,
            "max_width": null,
            "min_height": null,
            "min_width": null,
            "object_fit": null,
            "object_position": null,
            "order": null,
            "overflow": null,
            "overflow_x": null,
            "overflow_y": null,
            "padding": null,
            "right": null,
            "top": null,
            "visibility": null,
            "width": null
          }
        },
        "b0054461ae7044ec91ea71ab7d6d13ac": {
          "model_module": "@jupyter-widgets/controls",
          "model_name": "DescriptionStyleModel",
          "model_module_version": "1.5.0",
          "state": {
            "_model_module": "@jupyter-widgets/controls",
            "_model_module_version": "1.5.0",
            "_model_name": "DescriptionStyleModel",
            "_view_count": null,
            "_view_module": "@jupyter-widgets/base",
            "_view_module_version": "1.2.0",
            "_view_name": "StyleView",
            "description_width": ""
          }
        },
        "6c6ff42affed4e98aa3c7b3f94a5a77e": {
          "model_module": "@jupyter-widgets/base",
          "model_name": "LayoutModel",
          "model_module_version": "1.2.0",
          "state": {
            "_model_module": "@jupyter-widgets/base",
            "_model_module_version": "1.2.0",
            "_model_name": "LayoutModel",
            "_view_count": null,
            "_view_module": "@jupyter-widgets/base",
            "_view_module_version": "1.2.0",
            "_view_name": "LayoutView",
            "align_content": null,
            "align_items": null,
            "align_self": null,
            "border": null,
            "bottom": null,
            "display": null,
            "flex": null,
            "flex_flow": null,
            "grid_area": null,
            "grid_auto_columns": null,
            "grid_auto_flow": null,
            "grid_auto_rows": null,
            "grid_column": null,
            "grid_gap": null,
            "grid_row": null,
            "grid_template_areas": null,
            "grid_template_columns": null,
            "grid_template_rows": null,
            "height": null,
            "justify_content": null,
            "justify_items": null,
            "left": null,
            "margin": null,
            "max_height": null,
            "max_width": null,
            "min_height": null,
            "min_width": null,
            "object_fit": null,
            "object_position": null,
            "order": null,
            "overflow": null,
            "overflow_x": null,
            "overflow_y": null,
            "padding": null,
            "right": null,
            "top": null,
            "visibility": null,
            "width": null
          }
        },
        "9b48505a5f9a462580a5c936c3508062": {
          "model_module": "@jupyter-widgets/controls",
          "model_name": "ProgressStyleModel",
          "model_module_version": "1.5.0",
          "state": {
            "_model_module": "@jupyter-widgets/controls",
            "_model_module_version": "1.5.0",
            "_model_name": "ProgressStyleModel",
            "_view_count": null,
            "_view_module": "@jupyter-widgets/base",
            "_view_module_version": "1.2.0",
            "_view_name": "StyleView",
            "bar_color": null,
            "description_width": ""
          }
        },
        "e8dfb5396c8241ad96fd164aeef5886b": {
          "model_module": "@jupyter-widgets/base",
          "model_name": "LayoutModel",
          "model_module_version": "1.2.0",
          "state": {
            "_model_module": "@jupyter-widgets/base",
            "_model_module_version": "1.2.0",
            "_model_name": "LayoutModel",
            "_view_count": null,
            "_view_module": "@jupyter-widgets/base",
            "_view_module_version": "1.2.0",
            "_view_name": "LayoutView",
            "align_content": null,
            "align_items": null,
            "align_self": null,
            "border": null,
            "bottom": null,
            "display": null,
            "flex": null,
            "flex_flow": null,
            "grid_area": null,
            "grid_auto_columns": null,
            "grid_auto_flow": null,
            "grid_auto_rows": null,
            "grid_column": null,
            "grid_gap": null,
            "grid_row": null,
            "grid_template_areas": null,
            "grid_template_columns": null,
            "grid_template_rows": null,
            "height": null,
            "justify_content": null,
            "justify_items": null,
            "left": null,
            "margin": null,
            "max_height": null,
            "max_width": null,
            "min_height": null,
            "min_width": null,
            "object_fit": null,
            "object_position": null,
            "order": null,
            "overflow": null,
            "overflow_x": null,
            "overflow_y": null,
            "padding": null,
            "right": null,
            "top": null,
            "visibility": null,
            "width": null
          }
        },
        "c9304cff724c4f1faf292d743670c85d": {
          "model_module": "@jupyter-widgets/controls",
          "model_name": "DescriptionStyleModel",
          "model_module_version": "1.5.0",
          "state": {
            "_model_module": "@jupyter-widgets/controls",
            "_model_module_version": "1.5.0",
            "_model_name": "DescriptionStyleModel",
            "_view_count": null,
            "_view_module": "@jupyter-widgets/base",
            "_view_module_version": "1.2.0",
            "_view_name": "StyleView",
            "description_width": ""
          }
        },
        "fac91ed254634d70984cc394fa18195d": {
          "model_module": "@jupyter-widgets/controls",
          "model_name": "HBoxModel",
          "model_module_version": "1.5.0",
          "state": {
            "_dom_classes": [],
            "_model_module": "@jupyter-widgets/controls",
            "_model_module_version": "1.5.0",
            "_model_name": "HBoxModel",
            "_view_count": null,
            "_view_module": "@jupyter-widgets/controls",
            "_view_module_version": "1.5.0",
            "_view_name": "HBoxView",
            "box_style": "",
            "children": [
              "IPY_MODEL_dd4bfc6be25149ec87885020c64e15bc",
              "IPY_MODEL_358ce8fb9f7f4349a382f2d6fafb5c84",
              "IPY_MODEL_dd89b40279f44851a976617a58517608"
            ],
            "layout": "IPY_MODEL_634f103ab7f941b4abe833f79470c452"
          }
        },
        "dd4bfc6be25149ec87885020c64e15bc": {
          "model_module": "@jupyter-widgets/controls",
          "model_name": "HTMLModel",
          "model_module_version": "1.5.0",
          "state": {
            "_dom_classes": [],
            "_model_module": "@jupyter-widgets/controls",
            "_model_module_version": "1.5.0",
            "_model_name": "HTMLModel",
            "_view_count": null,
            "_view_module": "@jupyter-widgets/controls",
            "_view_module_version": "1.5.0",
            "_view_name": "HTMLView",
            "description": "",
            "description_tooltip": null,
            "layout": "IPY_MODEL_0854dbeb212844388cc40b8a217d1ffd",
            "placeholder": "​",
            "style": "IPY_MODEL_1141dfff660042249dade6d53c33de44",
            "value": "100%"
          }
        },
        "358ce8fb9f7f4349a382f2d6fafb5c84": {
          "model_module": "@jupyter-widgets/controls",
          "model_name": "FloatProgressModel",
          "model_module_version": "1.5.0",
          "state": {
            "_dom_classes": [],
            "_model_module": "@jupyter-widgets/controls",
            "_model_module_version": "1.5.0",
            "_model_name": "FloatProgressModel",
            "_view_count": null,
            "_view_module": "@jupyter-widgets/controls",
            "_view_module_version": "1.5.0",
            "_view_name": "ProgressView",
            "bar_style": "success",
            "description": "",
            "description_tooltip": null,
            "layout": "IPY_MODEL_f66b8e12142d44e9a1341c71a0d28ef6",
            "max": 4,
            "min": 0,
            "orientation": "horizontal",
            "style": "IPY_MODEL_ec02dddc648649eaa8b7e838d11af41b",
            "value": 4
          }
        },
        "dd89b40279f44851a976617a58517608": {
          "model_module": "@jupyter-widgets/controls",
          "model_name": "HTMLModel",
          "model_module_version": "1.5.0",
          "state": {
            "_dom_classes": [],
            "_model_module": "@jupyter-widgets/controls",
            "_model_module_version": "1.5.0",
            "_model_name": "HTMLModel",
            "_view_count": null,
            "_view_module": "@jupyter-widgets/controls",
            "_view_module_version": "1.5.0",
            "_view_name": "HTMLView",
            "description": "",
            "description_tooltip": null,
            "layout": "IPY_MODEL_8b6b711506ee4a73b147d64754a7e9e1",
            "placeholder": "​",
            "style": "IPY_MODEL_baa1a2aae3474dac9b088f359c9513c4",
            "value": " 4/4 [00:01&lt;00:00,  2.30ba/s]"
          }
        },
        "634f103ab7f941b4abe833f79470c452": {
          "model_module": "@jupyter-widgets/base",
          "model_name": "LayoutModel",
          "model_module_version": "1.2.0",
          "state": {
            "_model_module": "@jupyter-widgets/base",
            "_model_module_version": "1.2.0",
            "_model_name": "LayoutModel",
            "_view_count": null,
            "_view_module": "@jupyter-widgets/base",
            "_view_module_version": "1.2.0",
            "_view_name": "LayoutView",
            "align_content": null,
            "align_items": null,
            "align_self": null,
            "border": null,
            "bottom": null,
            "display": null,
            "flex": null,
            "flex_flow": null,
            "grid_area": null,
            "grid_auto_columns": null,
            "grid_auto_flow": null,
            "grid_auto_rows": null,
            "grid_column": null,
            "grid_gap": null,
            "grid_row": null,
            "grid_template_areas": null,
            "grid_template_columns": null,
            "grid_template_rows": null,
            "height": null,
            "justify_content": null,
            "justify_items": null,
            "left": null,
            "margin": null,
            "max_height": null,
            "max_width": null,
            "min_height": null,
            "min_width": null,
            "object_fit": null,
            "object_position": null,
            "order": null,
            "overflow": null,
            "overflow_x": null,
            "overflow_y": null,
            "padding": null,
            "right": null,
            "top": null,
            "visibility": null,
            "width": null
          }
        },
        "0854dbeb212844388cc40b8a217d1ffd": {
          "model_module": "@jupyter-widgets/base",
          "model_name": "LayoutModel",
          "model_module_version": "1.2.0",
          "state": {
            "_model_module": "@jupyter-widgets/base",
            "_model_module_version": "1.2.0",
            "_model_name": "LayoutModel",
            "_view_count": null,
            "_view_module": "@jupyter-widgets/base",
            "_view_module_version": "1.2.0",
            "_view_name": "LayoutView",
            "align_content": null,
            "align_items": null,
            "align_self": null,
            "border": null,
            "bottom": null,
            "display": null,
            "flex": null,
            "flex_flow": null,
            "grid_area": null,
            "grid_auto_columns": null,
            "grid_auto_flow": null,
            "grid_auto_rows": null,
            "grid_column": null,
            "grid_gap": null,
            "grid_row": null,
            "grid_template_areas": null,
            "grid_template_columns": null,
            "grid_template_rows": null,
            "height": null,
            "justify_content": null,
            "justify_items": null,
            "left": null,
            "margin": null,
            "max_height": null,
            "max_width": null,
            "min_height": null,
            "min_width": null,
            "object_fit": null,
            "object_position": null,
            "order": null,
            "overflow": null,
            "overflow_x": null,
            "overflow_y": null,
            "padding": null,
            "right": null,
            "top": null,
            "visibility": null,
            "width": null
          }
        },
        "1141dfff660042249dade6d53c33de44": {
          "model_module": "@jupyter-widgets/controls",
          "model_name": "DescriptionStyleModel",
          "model_module_version": "1.5.0",
          "state": {
            "_model_module": "@jupyter-widgets/controls",
            "_model_module_version": "1.5.0",
            "_model_name": "DescriptionStyleModel",
            "_view_count": null,
            "_view_module": "@jupyter-widgets/base",
            "_view_module_version": "1.2.0",
            "_view_name": "StyleView",
            "description_width": ""
          }
        },
        "f66b8e12142d44e9a1341c71a0d28ef6": {
          "model_module": "@jupyter-widgets/base",
          "model_name": "LayoutModel",
          "model_module_version": "1.2.0",
          "state": {
            "_model_module": "@jupyter-widgets/base",
            "_model_module_version": "1.2.0",
            "_model_name": "LayoutModel",
            "_view_count": null,
            "_view_module": "@jupyter-widgets/base",
            "_view_module_version": "1.2.0",
            "_view_name": "LayoutView",
            "align_content": null,
            "align_items": null,
            "align_self": null,
            "border": null,
            "bottom": null,
            "display": null,
            "flex": null,
            "flex_flow": null,
            "grid_area": null,
            "grid_auto_columns": null,
            "grid_auto_flow": null,
            "grid_auto_rows": null,
            "grid_column": null,
            "grid_gap": null,
            "grid_row": null,
            "grid_template_areas": null,
            "grid_template_columns": null,
            "grid_template_rows": null,
            "height": null,
            "justify_content": null,
            "justify_items": null,
            "left": null,
            "margin": null,
            "max_height": null,
            "max_width": null,
            "min_height": null,
            "min_width": null,
            "object_fit": null,
            "object_position": null,
            "order": null,
            "overflow": null,
            "overflow_x": null,
            "overflow_y": null,
            "padding": null,
            "right": null,
            "top": null,
            "visibility": null,
            "width": null
          }
        },
        "ec02dddc648649eaa8b7e838d11af41b": {
          "model_module": "@jupyter-widgets/controls",
          "model_name": "ProgressStyleModel",
          "model_module_version": "1.5.0",
          "state": {
            "_model_module": "@jupyter-widgets/controls",
            "_model_module_version": "1.5.0",
            "_model_name": "ProgressStyleModel",
            "_view_count": null,
            "_view_module": "@jupyter-widgets/base",
            "_view_module_version": "1.2.0",
            "_view_name": "StyleView",
            "bar_color": null,
            "description_width": ""
          }
        },
        "8b6b711506ee4a73b147d64754a7e9e1": {
          "model_module": "@jupyter-widgets/base",
          "model_name": "LayoutModel",
          "model_module_version": "1.2.0",
          "state": {
            "_model_module": "@jupyter-widgets/base",
            "_model_module_version": "1.2.0",
            "_model_name": "LayoutModel",
            "_view_count": null,
            "_view_module": "@jupyter-widgets/base",
            "_view_module_version": "1.2.0",
            "_view_name": "LayoutView",
            "align_content": null,
            "align_items": null,
            "align_self": null,
            "border": null,
            "bottom": null,
            "display": null,
            "flex": null,
            "flex_flow": null,
            "grid_area": null,
            "grid_auto_columns": null,
            "grid_auto_flow": null,
            "grid_auto_rows": null,
            "grid_column": null,
            "grid_gap": null,
            "grid_row": null,
            "grid_template_areas": null,
            "grid_template_columns": null,
            "grid_template_rows": null,
            "height": null,
            "justify_content": null,
            "justify_items": null,
            "left": null,
            "margin": null,
            "max_height": null,
            "max_width": null,
            "min_height": null,
            "min_width": null,
            "object_fit": null,
            "object_position": null,
            "order": null,
            "overflow": null,
            "overflow_x": null,
            "overflow_y": null,
            "padding": null,
            "right": null,
            "top": null,
            "visibility": null,
            "width": null
          }
        },
        "baa1a2aae3474dac9b088f359c9513c4": {
          "model_module": "@jupyter-widgets/controls",
          "model_name": "DescriptionStyleModel",
          "model_module_version": "1.5.0",
          "state": {
            "_model_module": "@jupyter-widgets/controls",
            "_model_module_version": "1.5.0",
            "_model_name": "DescriptionStyleModel",
            "_view_count": null,
            "_view_module": "@jupyter-widgets/base",
            "_view_module_version": "1.2.0",
            "_view_name": "StyleView",
            "description_width": ""
          }
        },
        "1354131f62ee4cffb6d5e06c82a4a6ee": {
          "model_module": "@jupyter-widgets/controls",
          "model_name": "HBoxModel",
          "model_module_version": "1.5.0",
          "state": {
            "_dom_classes": [],
            "_model_module": "@jupyter-widgets/controls",
            "_model_module_version": "1.5.0",
            "_model_name": "HBoxModel",
            "_view_count": null,
            "_view_module": "@jupyter-widgets/controls",
            "_view_module_version": "1.5.0",
            "_view_name": "HBoxView",
            "box_style": "",
            "children": [
              "IPY_MODEL_f4baff9d69ea42baa6c3945e7beb818c",
              "IPY_MODEL_e92b6db6a41e4bd39b9f4258e18bc7c5",
              "IPY_MODEL_50169caddf6b4dc0b37665bfa1c48ec7"
            ],
            "layout": "IPY_MODEL_1abb76ee987143d2a16efb35dd9b4616"
          }
        },
        "f4baff9d69ea42baa6c3945e7beb818c": {
          "model_module": "@jupyter-widgets/controls",
          "model_name": "HTMLModel",
          "model_module_version": "1.5.0",
          "state": {
            "_dom_classes": [],
            "_model_module": "@jupyter-widgets/controls",
            "_model_module_version": "1.5.0",
            "_model_name": "HTMLModel",
            "_view_count": null,
            "_view_module": "@jupyter-widgets/controls",
            "_view_module_version": "1.5.0",
            "_view_name": "HTMLView",
            "description": "",
            "description_tooltip": null,
            "layout": "IPY_MODEL_7ac9f476a6f947478d50c96a02323058",
            "placeholder": "​",
            "style": "IPY_MODEL_771d732cc7674416a8df5ad81acce694",
            "value": "100%"
          }
        },
        "e92b6db6a41e4bd39b9f4258e18bc7c5": {
          "model_module": "@jupyter-widgets/controls",
          "model_name": "FloatProgressModel",
          "model_module_version": "1.5.0",
          "state": {
            "_dom_classes": [],
            "_model_module": "@jupyter-widgets/controls",
            "_model_module_version": "1.5.0",
            "_model_name": "FloatProgressModel",
            "_view_count": null,
            "_view_module": "@jupyter-widgets/controls",
            "_view_module_version": "1.5.0",
            "_view_name": "ProgressView",
            "bar_style": "success",
            "description": "",
            "description_tooltip": null,
            "layout": "IPY_MODEL_fb5a1b7a14834d8082264f092f44dd4e",
            "max": 1,
            "min": 0,
            "orientation": "horizontal",
            "style": "IPY_MODEL_3e02a6f64924426eaa0715409de90cd8",
            "value": 1
          }
        },
        "50169caddf6b4dc0b37665bfa1c48ec7": {
          "model_module": "@jupyter-widgets/controls",
          "model_name": "HTMLModel",
          "model_module_version": "1.5.0",
          "state": {
            "_dom_classes": [],
            "_model_module": "@jupyter-widgets/controls",
            "_model_module_version": "1.5.0",
            "_model_name": "HTMLModel",
            "_view_count": null,
            "_view_module": "@jupyter-widgets/controls",
            "_view_module_version": "1.5.0",
            "_view_name": "HTMLView",
            "description": "",
            "description_tooltip": null,
            "layout": "IPY_MODEL_5f91b522aed045a2bd690d73c6481ce8",
            "placeholder": "​",
            "style": "IPY_MODEL_de2ecb1f6a8641968aab5504296e9ec2",
            "value": " 1/1 [00:02&lt;00:00,  2.01s/ba]"
          }
        },
        "1abb76ee987143d2a16efb35dd9b4616": {
          "model_module": "@jupyter-widgets/base",
          "model_name": "LayoutModel",
          "model_module_version": "1.2.0",
          "state": {
            "_model_module": "@jupyter-widgets/base",
            "_model_module_version": "1.2.0",
            "_model_name": "LayoutModel",
            "_view_count": null,
            "_view_module": "@jupyter-widgets/base",
            "_view_module_version": "1.2.0",
            "_view_name": "LayoutView",
            "align_content": null,
            "align_items": null,
            "align_self": null,
            "border": null,
            "bottom": null,
            "display": null,
            "flex": null,
            "flex_flow": null,
            "grid_area": null,
            "grid_auto_columns": null,
            "grid_auto_flow": null,
            "grid_auto_rows": null,
            "grid_column": null,
            "grid_gap": null,
            "grid_row": null,
            "grid_template_areas": null,
            "grid_template_columns": null,
            "grid_template_rows": null,
            "height": null,
            "justify_content": null,
            "justify_items": null,
            "left": null,
            "margin": null,
            "max_height": null,
            "max_width": null,
            "min_height": null,
            "min_width": null,
            "object_fit": null,
            "object_position": null,
            "order": null,
            "overflow": null,
            "overflow_x": null,
            "overflow_y": null,
            "padding": null,
            "right": null,
            "top": null,
            "visibility": null,
            "width": null
          }
        },
        "7ac9f476a6f947478d50c96a02323058": {
          "model_module": "@jupyter-widgets/base",
          "model_name": "LayoutModel",
          "model_module_version": "1.2.0",
          "state": {
            "_model_module": "@jupyter-widgets/base",
            "_model_module_version": "1.2.0",
            "_model_name": "LayoutModel",
            "_view_count": null,
            "_view_module": "@jupyter-widgets/base",
            "_view_module_version": "1.2.0",
            "_view_name": "LayoutView",
            "align_content": null,
            "align_items": null,
            "align_self": null,
            "border": null,
            "bottom": null,
            "display": null,
            "flex": null,
            "flex_flow": null,
            "grid_area": null,
            "grid_auto_columns": null,
            "grid_auto_flow": null,
            "grid_auto_rows": null,
            "grid_column": null,
            "grid_gap": null,
            "grid_row": null,
            "grid_template_areas": null,
            "grid_template_columns": null,
            "grid_template_rows": null,
            "height": null,
            "justify_content": null,
            "justify_items": null,
            "left": null,
            "margin": null,
            "max_height": null,
            "max_width": null,
            "min_height": null,
            "min_width": null,
            "object_fit": null,
            "object_position": null,
            "order": null,
            "overflow": null,
            "overflow_x": null,
            "overflow_y": null,
            "padding": null,
            "right": null,
            "top": null,
            "visibility": null,
            "width": null
          }
        },
        "771d732cc7674416a8df5ad81acce694": {
          "model_module": "@jupyter-widgets/controls",
          "model_name": "DescriptionStyleModel",
          "model_module_version": "1.5.0",
          "state": {
            "_model_module": "@jupyter-widgets/controls",
            "_model_module_version": "1.5.0",
            "_model_name": "DescriptionStyleModel",
            "_view_count": null,
            "_view_module": "@jupyter-widgets/base",
            "_view_module_version": "1.2.0",
            "_view_name": "StyleView",
            "description_width": ""
          }
        },
        "fb5a1b7a14834d8082264f092f44dd4e": {
          "model_module": "@jupyter-widgets/base",
          "model_name": "LayoutModel",
          "model_module_version": "1.2.0",
          "state": {
            "_model_module": "@jupyter-widgets/base",
            "_model_module_version": "1.2.0",
            "_model_name": "LayoutModel",
            "_view_count": null,
            "_view_module": "@jupyter-widgets/base",
            "_view_module_version": "1.2.0",
            "_view_name": "LayoutView",
            "align_content": null,
            "align_items": null,
            "align_self": null,
            "border": null,
            "bottom": null,
            "display": null,
            "flex": null,
            "flex_flow": null,
            "grid_area": null,
            "grid_auto_columns": null,
            "grid_auto_flow": null,
            "grid_auto_rows": null,
            "grid_column": null,
            "grid_gap": null,
            "grid_row": null,
            "grid_template_areas": null,
            "grid_template_columns": null,
            "grid_template_rows": null,
            "height": null,
            "justify_content": null,
            "justify_items": null,
            "left": null,
            "margin": null,
            "max_height": null,
            "max_width": null,
            "min_height": null,
            "min_width": null,
            "object_fit": null,
            "object_position": null,
            "order": null,
            "overflow": null,
            "overflow_x": null,
            "overflow_y": null,
            "padding": null,
            "right": null,
            "top": null,
            "visibility": null,
            "width": null
          }
        },
        "3e02a6f64924426eaa0715409de90cd8": {
          "model_module": "@jupyter-widgets/controls",
          "model_name": "ProgressStyleModel",
          "model_module_version": "1.5.0",
          "state": {
            "_model_module": "@jupyter-widgets/controls",
            "_model_module_version": "1.5.0",
            "_model_name": "ProgressStyleModel",
            "_view_count": null,
            "_view_module": "@jupyter-widgets/base",
            "_view_module_version": "1.2.0",
            "_view_name": "StyleView",
            "bar_color": null,
            "description_width": ""
          }
        },
        "5f91b522aed045a2bd690d73c6481ce8": {
          "model_module": "@jupyter-widgets/base",
          "model_name": "LayoutModel",
          "model_module_version": "1.2.0",
          "state": {
            "_model_module": "@jupyter-widgets/base",
            "_model_module_version": "1.2.0",
            "_model_name": "LayoutModel",
            "_view_count": null,
            "_view_module": "@jupyter-widgets/base",
            "_view_module_version": "1.2.0",
            "_view_name": "LayoutView",
            "align_content": null,
            "align_items": null,
            "align_self": null,
            "border": null,
            "bottom": null,
            "display": null,
            "flex": null,
            "flex_flow": null,
            "grid_area": null,
            "grid_auto_columns": null,
            "grid_auto_flow": null,
            "grid_auto_rows": null,
            "grid_column": null,
            "grid_gap": null,
            "grid_row": null,
            "grid_template_areas": null,
            "grid_template_columns": null,
            "grid_template_rows": null,
            "height": null,
            "justify_content": null,
            "justify_items": null,
            "left": null,
            "margin": null,
            "max_height": null,
            "max_width": null,
            "min_height": null,
            "min_width": null,
            "object_fit": null,
            "object_position": null,
            "order": null,
            "overflow": null,
            "overflow_x": null,
            "overflow_y": null,
            "padding": null,
            "right": null,
            "top": null,
            "visibility": null,
            "width": null
          }
        },
        "de2ecb1f6a8641968aab5504296e9ec2": {
          "model_module": "@jupyter-widgets/controls",
          "model_name": "DescriptionStyleModel",
          "model_module_version": "1.5.0",
          "state": {
            "_model_module": "@jupyter-widgets/controls",
            "_model_module_version": "1.5.0",
            "_model_name": "DescriptionStyleModel",
            "_view_count": null,
            "_view_module": "@jupyter-widgets/base",
            "_view_module_version": "1.2.0",
            "_view_name": "StyleView",
            "description_width": ""
          }
        },
        "71f1d7afefa04965aab862befec573dc": {
          "model_module": "@jupyter-widgets/controls",
          "model_name": "HBoxModel",
          "model_module_version": "1.5.0",
          "state": {
            "_dom_classes": [],
            "_model_module": "@jupyter-widgets/controls",
            "_model_module_version": "1.5.0",
            "_model_name": "HBoxModel",
            "_view_count": null,
            "_view_module": "@jupyter-widgets/controls",
            "_view_module_version": "1.5.0",
            "_view_name": "HBoxView",
            "box_style": "",
            "children": [
              "IPY_MODEL_aea6e7f0ebc744e1b7a5b4e4347abeb9",
              "IPY_MODEL_d28a0ddff66f405a91a8a04ae65f3897",
              "IPY_MODEL_fd9bae1c015b4f4e81bc41a35b78c2bd"
            ],
            "layout": "IPY_MODEL_faafe253f06548b59587f17e4865da9a"
          }
        },
        "aea6e7f0ebc744e1b7a5b4e4347abeb9": {
          "model_module": "@jupyter-widgets/controls",
          "model_name": "HTMLModel",
          "model_module_version": "1.5.0",
          "state": {
            "_dom_classes": [],
            "_model_module": "@jupyter-widgets/controls",
            "_model_module_version": "1.5.0",
            "_model_name": "HTMLModel",
            "_view_count": null,
            "_view_module": "@jupyter-widgets/controls",
            "_view_module_version": "1.5.0",
            "_view_name": "HTMLView",
            "description": "",
            "description_tooltip": null,
            "layout": "IPY_MODEL_6dde9c01a0e6447ba06192a39cdd1873",
            "placeholder": "​",
            "style": "IPY_MODEL_a29adaaee6e1486687a30afe8d3a8a08",
            "value": "100%"
          }
        },
        "d28a0ddff66f405a91a8a04ae65f3897": {
          "model_module": "@jupyter-widgets/controls",
          "model_name": "FloatProgressModel",
          "model_module_version": "1.5.0",
          "state": {
            "_dom_classes": [],
            "_model_module": "@jupyter-widgets/controls",
            "_model_module_version": "1.5.0",
            "_model_name": "FloatProgressModel",
            "_view_count": null,
            "_view_module": "@jupyter-widgets/controls",
            "_view_module_version": "1.5.0",
            "_view_name": "ProgressView",
            "bar_style": "success",
            "description": "",
            "description_tooltip": null,
            "layout": "IPY_MODEL_cd7ce607bb86405380428b27bcefa94b",
            "max": 1,
            "min": 0,
            "orientation": "horizontal",
            "style": "IPY_MODEL_1cb114b77df148b4acfa1808d582ed7c",
            "value": 1
          }
        },
        "fd9bae1c015b4f4e81bc41a35b78c2bd": {
          "model_module": "@jupyter-widgets/controls",
          "model_name": "HTMLModel",
          "model_module_version": "1.5.0",
          "state": {
            "_dom_classes": [],
            "_model_module": "@jupyter-widgets/controls",
            "_model_module_version": "1.5.0",
            "_model_name": "HTMLModel",
            "_view_count": null,
            "_view_module": "@jupyter-widgets/controls",
            "_view_module_version": "1.5.0",
            "_view_name": "HTMLView",
            "description": "",
            "description_tooltip": null,
            "layout": "IPY_MODEL_cba621e200a44f718c78c3e9c88e3339",
            "placeholder": "​",
            "style": "IPY_MODEL_976dd3e6bf7d481cb0045db08ef1ace1",
            "value": " 1/1 [00:00&lt;00:00,  3.58ba/s]"
          }
        },
        "faafe253f06548b59587f17e4865da9a": {
          "model_module": "@jupyter-widgets/base",
          "model_name": "LayoutModel",
          "model_module_version": "1.2.0",
          "state": {
            "_model_module": "@jupyter-widgets/base",
            "_model_module_version": "1.2.0",
            "_model_name": "LayoutModel",
            "_view_count": null,
            "_view_module": "@jupyter-widgets/base",
            "_view_module_version": "1.2.0",
            "_view_name": "LayoutView",
            "align_content": null,
            "align_items": null,
            "align_self": null,
            "border": null,
            "bottom": null,
            "display": null,
            "flex": null,
            "flex_flow": null,
            "grid_area": null,
            "grid_auto_columns": null,
            "grid_auto_flow": null,
            "grid_auto_rows": null,
            "grid_column": null,
            "grid_gap": null,
            "grid_row": null,
            "grid_template_areas": null,
            "grid_template_columns": null,
            "grid_template_rows": null,
            "height": null,
            "justify_content": null,
            "justify_items": null,
            "left": null,
            "margin": null,
            "max_height": null,
            "max_width": null,
            "min_height": null,
            "min_width": null,
            "object_fit": null,
            "object_position": null,
            "order": null,
            "overflow": null,
            "overflow_x": null,
            "overflow_y": null,
            "padding": null,
            "right": null,
            "top": null,
            "visibility": null,
            "width": null
          }
        },
        "6dde9c01a0e6447ba06192a39cdd1873": {
          "model_module": "@jupyter-widgets/base",
          "model_name": "LayoutModel",
          "model_module_version": "1.2.0",
          "state": {
            "_model_module": "@jupyter-widgets/base",
            "_model_module_version": "1.2.0",
            "_model_name": "LayoutModel",
            "_view_count": null,
            "_view_module": "@jupyter-widgets/base",
            "_view_module_version": "1.2.0",
            "_view_name": "LayoutView",
            "align_content": null,
            "align_items": null,
            "align_self": null,
            "border": null,
            "bottom": null,
            "display": null,
            "flex": null,
            "flex_flow": null,
            "grid_area": null,
            "grid_auto_columns": null,
            "grid_auto_flow": null,
            "grid_auto_rows": null,
            "grid_column": null,
            "grid_gap": null,
            "grid_row": null,
            "grid_template_areas": null,
            "grid_template_columns": null,
            "grid_template_rows": null,
            "height": null,
            "justify_content": null,
            "justify_items": null,
            "left": null,
            "margin": null,
            "max_height": null,
            "max_width": null,
            "min_height": null,
            "min_width": null,
            "object_fit": null,
            "object_position": null,
            "order": null,
            "overflow": null,
            "overflow_x": null,
            "overflow_y": null,
            "padding": null,
            "right": null,
            "top": null,
            "visibility": null,
            "width": null
          }
        },
        "a29adaaee6e1486687a30afe8d3a8a08": {
          "model_module": "@jupyter-widgets/controls",
          "model_name": "DescriptionStyleModel",
          "model_module_version": "1.5.0",
          "state": {
            "_model_module": "@jupyter-widgets/controls",
            "_model_module_version": "1.5.0",
            "_model_name": "DescriptionStyleModel",
            "_view_count": null,
            "_view_module": "@jupyter-widgets/base",
            "_view_module_version": "1.2.0",
            "_view_name": "StyleView",
            "description_width": ""
          }
        },
        "cd7ce607bb86405380428b27bcefa94b": {
          "model_module": "@jupyter-widgets/base",
          "model_name": "LayoutModel",
          "model_module_version": "1.2.0",
          "state": {
            "_model_module": "@jupyter-widgets/base",
            "_model_module_version": "1.2.0",
            "_model_name": "LayoutModel",
            "_view_count": null,
            "_view_module": "@jupyter-widgets/base",
            "_view_module_version": "1.2.0",
            "_view_name": "LayoutView",
            "align_content": null,
            "align_items": null,
            "align_self": null,
            "border": null,
            "bottom": null,
            "display": null,
            "flex": null,
            "flex_flow": null,
            "grid_area": null,
            "grid_auto_columns": null,
            "grid_auto_flow": null,
            "grid_auto_rows": null,
            "grid_column": null,
            "grid_gap": null,
            "grid_row": null,
            "grid_template_areas": null,
            "grid_template_columns": null,
            "grid_template_rows": null,
            "height": null,
            "justify_content": null,
            "justify_items": null,
            "left": null,
            "margin": null,
            "max_height": null,
            "max_width": null,
            "min_height": null,
            "min_width": null,
            "object_fit": null,
            "object_position": null,
            "order": null,
            "overflow": null,
            "overflow_x": null,
            "overflow_y": null,
            "padding": null,
            "right": null,
            "top": null,
            "visibility": null,
            "width": null
          }
        },
        "1cb114b77df148b4acfa1808d582ed7c": {
          "model_module": "@jupyter-widgets/controls",
          "model_name": "ProgressStyleModel",
          "model_module_version": "1.5.0",
          "state": {
            "_model_module": "@jupyter-widgets/controls",
            "_model_module_version": "1.5.0",
            "_model_name": "ProgressStyleModel",
            "_view_count": null,
            "_view_module": "@jupyter-widgets/base",
            "_view_module_version": "1.2.0",
            "_view_name": "StyleView",
            "bar_color": null,
            "description_width": ""
          }
        },
        "cba621e200a44f718c78c3e9c88e3339": {
          "model_module": "@jupyter-widgets/base",
          "model_name": "LayoutModel",
          "model_module_version": "1.2.0",
          "state": {
            "_model_module": "@jupyter-widgets/base",
            "_model_module_version": "1.2.0",
            "_model_name": "LayoutModel",
            "_view_count": null,
            "_view_module": "@jupyter-widgets/base",
            "_view_module_version": "1.2.0",
            "_view_name": "LayoutView",
            "align_content": null,
            "align_items": null,
            "align_self": null,
            "border": null,
            "bottom": null,
            "display": null,
            "flex": null,
            "flex_flow": null,
            "grid_area": null,
            "grid_auto_columns": null,
            "grid_auto_flow": null,
            "grid_auto_rows": null,
            "grid_column": null,
            "grid_gap": null,
            "grid_row": null,
            "grid_template_areas": null,
            "grid_template_columns": null,
            "grid_template_rows": null,
            "height": null,
            "justify_content": null,
            "justify_items": null,
            "left": null,
            "margin": null,
            "max_height": null,
            "max_width": null,
            "min_height": null,
            "min_width": null,
            "object_fit": null,
            "object_position": null,
            "order": null,
            "overflow": null,
            "overflow_x": null,
            "overflow_y": null,
            "padding": null,
            "right": null,
            "top": null,
            "visibility": null,
            "width": null
          }
        },
        "976dd3e6bf7d481cb0045db08ef1ace1": {
          "model_module": "@jupyter-widgets/controls",
          "model_name": "DescriptionStyleModel",
          "model_module_version": "1.5.0",
          "state": {
            "_model_module": "@jupyter-widgets/controls",
            "_model_module_version": "1.5.0",
            "_model_name": "DescriptionStyleModel",
            "_view_count": null,
            "_view_module": "@jupyter-widgets/base",
            "_view_module_version": "1.2.0",
            "_view_name": "StyleView",
            "description_width": ""
          }
        },
        "9be262f7da494b2da601d49b6c2882a1": {
          "model_module": "@jupyter-widgets/controls",
          "model_name": "HBoxModel",
          "model_module_version": "1.5.0",
          "state": {
            "_dom_classes": [],
            "_model_module": "@jupyter-widgets/controls",
            "_model_module_version": "1.5.0",
            "_model_name": "HBoxModel",
            "_view_count": null,
            "_view_module": "@jupyter-widgets/controls",
            "_view_module_version": "1.5.0",
            "_view_name": "HBoxView",
            "box_style": "",
            "children": [
              "IPY_MODEL_299219d5a7bd49a6a50beb800471ab03",
              "IPY_MODEL_57ac2c4a2579421fa999760d4adf8e09",
              "IPY_MODEL_835966ab7be448c3bf18f1a203d1a45b"
            ],
            "layout": "IPY_MODEL_a277859c1b9a4bf49ccea4ab560f3c25"
          }
        },
        "299219d5a7bd49a6a50beb800471ab03": {
          "model_module": "@jupyter-widgets/controls",
          "model_name": "HTMLModel",
          "model_module_version": "1.5.0",
          "state": {
            "_dom_classes": [],
            "_model_module": "@jupyter-widgets/controls",
            "_model_module_version": "1.5.0",
            "_model_name": "HTMLModel",
            "_view_count": null,
            "_view_module": "@jupyter-widgets/controls",
            "_view_module_version": "1.5.0",
            "_view_name": "HTMLView",
            "description": "",
            "description_tooltip": null,
            "layout": "IPY_MODEL_79955b9e30944d27bc0cc9fe31a8923e",
            "placeholder": "​",
            "style": "IPY_MODEL_fbc74ed7a507491096ac35f2fb7384b1",
            "value": "100%"
          }
        },
        "57ac2c4a2579421fa999760d4adf8e09": {
          "model_module": "@jupyter-widgets/controls",
          "model_name": "FloatProgressModel",
          "model_module_version": "1.5.0",
          "state": {
            "_dom_classes": [],
            "_model_module": "@jupyter-widgets/controls",
            "_model_module_version": "1.5.0",
            "_model_name": "FloatProgressModel",
            "_view_count": null,
            "_view_module": "@jupyter-widgets/controls",
            "_view_module_version": "1.5.0",
            "_view_name": "ProgressView",
            "bar_style": "success",
            "description": "",
            "description_tooltip": null,
            "layout": "IPY_MODEL_c851503e5d7544d3a45c3637b08e4822",
            "max": 1,
            "min": 0,
            "orientation": "horizontal",
            "style": "IPY_MODEL_07cf645416aa47bfbdf90354dc27413e",
            "value": 1
          }
        },
        "835966ab7be448c3bf18f1a203d1a45b": {
          "model_module": "@jupyter-widgets/controls",
          "model_name": "HTMLModel",
          "model_module_version": "1.5.0",
          "state": {
            "_dom_classes": [],
            "_model_module": "@jupyter-widgets/controls",
            "_model_module_version": "1.5.0",
            "_model_name": "HTMLModel",
            "_view_count": null,
            "_view_module": "@jupyter-widgets/controls",
            "_view_module_version": "1.5.0",
            "_view_name": "HTMLView",
            "description": "",
            "description_tooltip": null,
            "layout": "IPY_MODEL_d728aa66ec7e4bd2a535cd8107c15354",
            "placeholder": "​",
            "style": "IPY_MODEL_24e211ec972247dea66269984f9cb1ad",
            "value": " 1/1 [00:00&lt;00:00,  4.94ba/s]"
          }
        },
        "a277859c1b9a4bf49ccea4ab560f3c25": {
          "model_module": "@jupyter-widgets/base",
          "model_name": "LayoutModel",
          "model_module_version": "1.2.0",
          "state": {
            "_model_module": "@jupyter-widgets/base",
            "_model_module_version": "1.2.0",
            "_model_name": "LayoutModel",
            "_view_count": null,
            "_view_module": "@jupyter-widgets/base",
            "_view_module_version": "1.2.0",
            "_view_name": "LayoutView",
            "align_content": null,
            "align_items": null,
            "align_self": null,
            "border": null,
            "bottom": null,
            "display": null,
            "flex": null,
            "flex_flow": null,
            "grid_area": null,
            "grid_auto_columns": null,
            "grid_auto_flow": null,
            "grid_auto_rows": null,
            "grid_column": null,
            "grid_gap": null,
            "grid_row": null,
            "grid_template_areas": null,
            "grid_template_columns": null,
            "grid_template_rows": null,
            "height": null,
            "justify_content": null,
            "justify_items": null,
            "left": null,
            "margin": null,
            "max_height": null,
            "max_width": null,
            "min_height": null,
            "min_width": null,
            "object_fit": null,
            "object_position": null,
            "order": null,
            "overflow": null,
            "overflow_x": null,
            "overflow_y": null,
            "padding": null,
            "right": null,
            "top": null,
            "visibility": null,
            "width": null
          }
        },
        "79955b9e30944d27bc0cc9fe31a8923e": {
          "model_module": "@jupyter-widgets/base",
          "model_name": "LayoutModel",
          "model_module_version": "1.2.0",
          "state": {
            "_model_module": "@jupyter-widgets/base",
            "_model_module_version": "1.2.0",
            "_model_name": "LayoutModel",
            "_view_count": null,
            "_view_module": "@jupyter-widgets/base",
            "_view_module_version": "1.2.0",
            "_view_name": "LayoutView",
            "align_content": null,
            "align_items": null,
            "align_self": null,
            "border": null,
            "bottom": null,
            "display": null,
            "flex": null,
            "flex_flow": null,
            "grid_area": null,
            "grid_auto_columns": null,
            "grid_auto_flow": null,
            "grid_auto_rows": null,
            "grid_column": null,
            "grid_gap": null,
            "grid_row": null,
            "grid_template_areas": null,
            "grid_template_columns": null,
            "grid_template_rows": null,
            "height": null,
            "justify_content": null,
            "justify_items": null,
            "left": null,
            "margin": null,
            "max_height": null,
            "max_width": null,
            "min_height": null,
            "min_width": null,
            "object_fit": null,
            "object_position": null,
            "order": null,
            "overflow": null,
            "overflow_x": null,
            "overflow_y": null,
            "padding": null,
            "right": null,
            "top": null,
            "visibility": null,
            "width": null
          }
        },
        "fbc74ed7a507491096ac35f2fb7384b1": {
          "model_module": "@jupyter-widgets/controls",
          "model_name": "DescriptionStyleModel",
          "model_module_version": "1.5.0",
          "state": {
            "_model_module": "@jupyter-widgets/controls",
            "_model_module_version": "1.5.0",
            "_model_name": "DescriptionStyleModel",
            "_view_count": null,
            "_view_module": "@jupyter-widgets/base",
            "_view_module_version": "1.2.0",
            "_view_name": "StyleView",
            "description_width": ""
          }
        },
        "c851503e5d7544d3a45c3637b08e4822": {
          "model_module": "@jupyter-widgets/base",
          "model_name": "LayoutModel",
          "model_module_version": "1.2.0",
          "state": {
            "_model_module": "@jupyter-widgets/base",
            "_model_module_version": "1.2.0",
            "_model_name": "LayoutModel",
            "_view_count": null,
            "_view_module": "@jupyter-widgets/base",
            "_view_module_version": "1.2.0",
            "_view_name": "LayoutView",
            "align_content": null,
            "align_items": null,
            "align_self": null,
            "border": null,
            "bottom": null,
            "display": null,
            "flex": null,
            "flex_flow": null,
            "grid_area": null,
            "grid_auto_columns": null,
            "grid_auto_flow": null,
            "grid_auto_rows": null,
            "grid_column": null,
            "grid_gap": null,
            "grid_row": null,
            "grid_template_areas": null,
            "grid_template_columns": null,
            "grid_template_rows": null,
            "height": null,
            "justify_content": null,
            "justify_items": null,
            "left": null,
            "margin": null,
            "max_height": null,
            "max_width": null,
            "min_height": null,
            "min_width": null,
            "object_fit": null,
            "object_position": null,
            "order": null,
            "overflow": null,
            "overflow_x": null,
            "overflow_y": null,
            "padding": null,
            "right": null,
            "top": null,
            "visibility": null,
            "width": null
          }
        },
        "07cf645416aa47bfbdf90354dc27413e": {
          "model_module": "@jupyter-widgets/controls",
          "model_name": "ProgressStyleModel",
          "model_module_version": "1.5.0",
          "state": {
            "_model_module": "@jupyter-widgets/controls",
            "_model_module_version": "1.5.0",
            "_model_name": "ProgressStyleModel",
            "_view_count": null,
            "_view_module": "@jupyter-widgets/base",
            "_view_module_version": "1.2.0",
            "_view_name": "StyleView",
            "bar_color": null,
            "description_width": ""
          }
        },
        "d728aa66ec7e4bd2a535cd8107c15354": {
          "model_module": "@jupyter-widgets/base",
          "model_name": "LayoutModel",
          "model_module_version": "1.2.0",
          "state": {
            "_model_module": "@jupyter-widgets/base",
            "_model_module_version": "1.2.0",
            "_model_name": "LayoutModel",
            "_view_count": null,
            "_view_module": "@jupyter-widgets/base",
            "_view_module_version": "1.2.0",
            "_view_name": "LayoutView",
            "align_content": null,
            "align_items": null,
            "align_self": null,
            "border": null,
            "bottom": null,
            "display": null,
            "flex": null,
            "flex_flow": null,
            "grid_area": null,
            "grid_auto_columns": null,
            "grid_auto_flow": null,
            "grid_auto_rows": null,
            "grid_column": null,
            "grid_gap": null,
            "grid_row": null,
            "grid_template_areas": null,
            "grid_template_columns": null,
            "grid_template_rows": null,
            "height": null,
            "justify_content": null,
            "justify_items": null,
            "left": null,
            "margin": null,
            "max_height": null,
            "max_width": null,
            "min_height": null,
            "min_width": null,
            "object_fit": null,
            "object_position": null,
            "order": null,
            "overflow": null,
            "overflow_x": null,
            "overflow_y": null,
            "padding": null,
            "right": null,
            "top": null,
            "visibility": null,
            "width": null
          }
        },
        "24e211ec972247dea66269984f9cb1ad": {
          "model_module": "@jupyter-widgets/controls",
          "model_name": "DescriptionStyleModel",
          "model_module_version": "1.5.0",
          "state": {
            "_model_module": "@jupyter-widgets/controls",
            "_model_module_version": "1.5.0",
            "_model_name": "DescriptionStyleModel",
            "_view_count": null,
            "_view_module": "@jupyter-widgets/base",
            "_view_module_version": "1.2.0",
            "_view_name": "StyleView",
            "description_width": ""
          }
        }
      }
    }
  },
  "cells": [
    {
      "cell_type": "markdown",
      "source": [
        "# 0. Setup"
      ],
      "metadata": {
        "id": "ETBiYhSFxLNt"
      }
    },
    {
      "cell_type": "code",
      "source": [
        "# ! pip install urllib3==1.26.12\n",
        "! pip install urllib3==1.25.11"
      ],
      "metadata": {
        "colab": {
          "base_uri": "https://localhost:8080/"
        },
        "id": "pzEbUNSLW9e1",
        "outputId": "69a2e5db-f2a5-4b00-92ac-cf250cbad752"
      },
      "execution_count": 1,
      "outputs": [
        {
          "output_type": "stream",
          "name": "stdout",
          "text": [
            "Looking in indexes: https://pypi.org/simple, https://us-python.pkg.dev/colab-wheels/public/simple/\n",
            "Collecting urllib3==1.25.11\n",
            "  Downloading urllib3-1.25.11-py2.py3-none-any.whl (127 kB)\n",
            "\u001b[K     |████████████████████████████████| 127 kB 19.4 MB/s \n",
            "\u001b[?25hInstalling collected packages: urllib3\n",
            "  Attempting uninstall: urllib3\n",
            "    Found existing installation: urllib3 1.24.3\n",
            "    Uninstalling urllib3-1.24.3:\n",
            "      Successfully uninstalled urllib3-1.24.3\n",
            "Successfully installed urllib3-1.25.11\n"
          ]
        }
      ]
    },
    {
      "cell_type": "code",
      "execution_count": 2,
      "metadata": {
        "id": "-QLU-43EwevJ",
        "colab": {
          "base_uri": "https://localhost:8080/"
        },
        "outputId": "066be15c-30c7-4ee0-a732-a53d9acc2da7"
      },
      "outputs": [
        {
          "output_type": "stream",
          "name": "stdout",
          "text": [
            "Looking in indexes: https://pypi.org/simple, https://us-python.pkg.dev/colab-wheels/public/simple/\n",
            "Collecting transformers\n",
            "  Downloading transformers-4.25.1-py3-none-any.whl (5.8 MB)\n",
            "\u001b[K     |████████████████████████████████| 5.8 MB 28.8 MB/s \n",
            "\u001b[?25hCollecting newspaper3k\n",
            "  Downloading newspaper3k-0.2.8-py3-none-any.whl (211 kB)\n",
            "\u001b[K     |████████████████████████████████| 211 kB 77.4 MB/s \n",
            "\u001b[?25hRequirement already satisfied: pyyaml>=5.1 in /usr/local/lib/python3.8/dist-packages (from transformers) (6.0)\n",
            "Requirement already satisfied: tqdm>=4.27 in /usr/local/lib/python3.8/dist-packages (from transformers) (4.64.1)\n",
            "Collecting huggingface-hub<1.0,>=0.10.0\n",
            "  Downloading huggingface_hub-0.11.1-py3-none-any.whl (182 kB)\n",
            "\u001b[K     |████████████████████████████████| 182 kB 66.8 MB/s \n",
            "\u001b[?25hRequirement already satisfied: regex!=2019.12.17 in /usr/local/lib/python3.8/dist-packages (from transformers) (2022.6.2)\n",
            "Requirement already satisfied: packaging>=20.0 in /usr/local/lib/python3.8/dist-packages (from transformers) (21.3)\n",
            "Requirement already satisfied: requests in /usr/local/lib/python3.8/dist-packages (from transformers) (2.23.0)\n",
            "Requirement already satisfied: numpy>=1.17 in /usr/local/lib/python3.8/dist-packages (from transformers) (1.21.6)\n",
            "Collecting tokenizers!=0.11.3,<0.14,>=0.11.1\n",
            "  Downloading tokenizers-0.13.2-cp38-cp38-manylinux_2_17_x86_64.manylinux2014_x86_64.whl (7.6 MB)\n",
            "\u001b[K     |████████████████████████████████| 7.6 MB 54.0 MB/s \n",
            "\u001b[?25hRequirement already satisfied: filelock in /usr/local/lib/python3.8/dist-packages (from transformers) (3.8.0)\n",
            "Requirement already satisfied: typing-extensions>=3.7.4.3 in /usr/local/lib/python3.8/dist-packages (from huggingface-hub<1.0,>=0.10.0->transformers) (4.4.0)\n",
            "Requirement already satisfied: pyparsing!=3.0.5,>=2.0.2 in /usr/local/lib/python3.8/dist-packages (from packaging>=20.0->transformers) (3.0.9)\n",
            "Collecting jieba3k>=0.35.1\n",
            "  Downloading jieba3k-0.35.1.zip (7.4 MB)\n",
            "\u001b[K     |████████████████████████████████| 7.4 MB 63.1 MB/s \n",
            "\u001b[?25hRequirement already satisfied: lxml>=3.6.0 in /usr/local/lib/python3.8/dist-packages (from newspaper3k) (4.9.1)\n",
            "Collecting cssselect>=0.9.2\n",
            "  Downloading cssselect-1.2.0-py2.py3-none-any.whl (18 kB)\n",
            "Requirement already satisfied: nltk>=3.2.1 in /usr/local/lib/python3.8/dist-packages (from newspaper3k) (3.7)\n",
            "Requirement already satisfied: python-dateutil>=2.5.3 in /usr/local/lib/python3.8/dist-packages (from newspaper3k) (2.8.2)\n",
            "Collecting feedparser>=5.2.1\n",
            "  Downloading feedparser-6.0.10-py3-none-any.whl (81 kB)\n",
            "\u001b[K     |████████████████████████████████| 81 kB 11.2 MB/s \n",
            "\u001b[?25hCollecting feedfinder2>=0.0.4\n",
            "  Downloading feedfinder2-0.0.4.tar.gz (3.3 kB)\n",
            "Collecting tldextract>=2.0.1\n",
            "  Downloading tldextract-3.4.0-py3-none-any.whl (93 kB)\n",
            "\u001b[K     |████████████████████████████████| 93 kB 2.7 MB/s \n",
            "\u001b[?25hRequirement already satisfied: Pillow>=3.3.0 in /usr/local/lib/python3.8/dist-packages (from newspaper3k) (7.1.2)\n",
            "Collecting tinysegmenter==0.3\n",
            "  Downloading tinysegmenter-0.3.tar.gz (16 kB)\n",
            "Requirement already satisfied: beautifulsoup4>=4.4.1 in /usr/local/lib/python3.8/dist-packages (from newspaper3k) (4.6.3)\n",
            "Requirement already satisfied: six in /usr/local/lib/python3.8/dist-packages (from feedfinder2>=0.0.4->newspaper3k) (1.15.0)\n",
            "Collecting sgmllib3k\n",
            "  Downloading sgmllib3k-1.0.0.tar.gz (5.8 kB)\n",
            "Requirement already satisfied: click in /usr/local/lib/python3.8/dist-packages (from nltk>=3.2.1->newspaper3k) (7.1.2)\n",
            "Requirement already satisfied: joblib in /usr/local/lib/python3.8/dist-packages (from nltk>=3.2.1->newspaper3k) (1.2.0)\n",
            "Requirement already satisfied: idna<3,>=2.5 in /usr/local/lib/python3.8/dist-packages (from requests->transformers) (2.10)\n",
            "Requirement already satisfied: chardet<4,>=3.0.2 in /usr/local/lib/python3.8/dist-packages (from requests->transformers) (3.0.4)\n",
            "Requirement already satisfied: urllib3!=1.25.0,!=1.25.1,<1.26,>=1.21.1 in /usr/local/lib/python3.8/dist-packages (from requests->transformers) (1.25.11)\n",
            "Requirement already satisfied: certifi>=2017.4.17 in /usr/local/lib/python3.8/dist-packages (from requests->transformers) (2022.9.24)\n",
            "Collecting requests-file>=1.4\n",
            "  Downloading requests_file-1.5.1-py2.py3-none-any.whl (3.7 kB)\n",
            "Building wheels for collected packages: tinysegmenter, feedfinder2, jieba3k, sgmllib3k\n",
            "  Building wheel for tinysegmenter (setup.py) ... \u001b[?25l\u001b[?25hdone\n",
            "  Created wheel for tinysegmenter: filename=tinysegmenter-0.3-py3-none-any.whl size=13552 sha256=f4af791d4c185a3d0fa7ef74bb85434f2121cf560811c1d6ff953b8986c9b5ac\n",
            "  Stored in directory: /root/.cache/pip/wheels/99/74/83/8fac1c8d9c648cfabebbbffe97a889f6624817f3aa0bbe6c09\n",
            "  Building wheel for feedfinder2 (setup.py) ... \u001b[?25l\u001b[?25hdone\n",
            "  Created wheel for feedfinder2: filename=feedfinder2-0.0.4-py3-none-any.whl size=3354 sha256=a4e1bbf765ac773f7437b4ebebd7f6ac338fb6609b2dafc48e318eeb085b727a\n",
            "  Stored in directory: /root/.cache/pip/wheels/b6/09/68/a9f15498ac02c23dde29f18745bc6a6f574ba4ab41861a3575\n",
            "  Building wheel for jieba3k (setup.py) ... \u001b[?25l\u001b[?25hdone\n",
            "  Created wheel for jieba3k: filename=jieba3k-0.35.1-py3-none-any.whl size=7398405 sha256=23075e0f38179012e3102e3cb852a77edd75ee4426a54c8cc524ec612ba1bfd2\n",
            "  Stored in directory: /root/.cache/pip/wheels/1f/7e/0c/54f3b0f5164278677899f2db08f2b07943ce2d024a3c862afb\n",
            "  Building wheel for sgmllib3k (setup.py) ... \u001b[?25l\u001b[?25hdone\n",
            "  Created wheel for sgmllib3k: filename=sgmllib3k-1.0.0-py3-none-any.whl size=6066 sha256=1e4c154c20f8f3e406f1430ca0485d66baa897e956e77a121583dfdf3ea9d645\n",
            "  Stored in directory: /root/.cache/pip/wheels/83/63/2f/117884c3b19d46b64d3d61690333aa80c88dc14050e269c546\n",
            "Successfully built tinysegmenter feedfinder2 jieba3k sgmllib3k\n",
            "Installing collected packages: sgmllib3k, requests-file, tokenizers, tldextract, tinysegmenter, jieba3k, huggingface-hub, feedparser, feedfinder2, cssselect, transformers, newspaper3k\n",
            "Successfully installed cssselect-1.2.0 feedfinder2-0.0.4 feedparser-6.0.10 huggingface-hub-0.11.1 jieba3k-0.35.1 newspaper3k-0.2.8 requests-file-1.5.1 sgmllib3k-1.0.0 tinysegmenter-0.3 tldextract-3.4.0 tokenizers-0.13.2 transformers-4.25.1\n"
          ]
        }
      ],
      "source": [
        "! pip install transformers newspaper3k"
      ]
    },
    {
      "cell_type": "code",
      "source": [
        "import urllib3\n",
        "urllib3.__version__"
      ],
      "metadata": {
        "colab": {
          "base_uri": "https://localhost:8080/",
          "height": 35
        },
        "id": "MYqmtC1gWpJ6",
        "outputId": "097204f2-d9b2-4375-fe21-f8c757665c75"
      },
      "execution_count": 3,
      "outputs": [
        {
          "output_type": "execute_result",
          "data": {
            "text/plain": [
              "'1.25.11'"
            ],
            "application/vnd.google.colaboratory.intrinsic+json": {
              "type": "string"
            }
          },
          "metadata": {},
          "execution_count": 3
        }
      ]
    },
    {
      "cell_type": "code",
      "source": [
        "import os\n",
        "import re\n",
        "import pickle\n",
        "import pandas as pd\n",
        "import numpy as np\n",
        "import matplotlib.pyplot as plt\n",
        "from tqdm import tqdm\n",
        "from newspaper import Article\n",
        "from collections import Counter\n",
        "from sklearn.model_selection import train_test_split\n",
        "from sklearn.preprocessing import OneHotEncoder, OrdinalEncoder\n",
        "from sklearn.feature_extraction.text import CountVectorizer, TfidfVectorizer\n",
        "from sklearn.linear_model import LogisticRegression\n",
        "from sklearn.svm import SVC\n",
        "from sklearn.ensemble import RandomForestClassifier\n",
        "from sklearn.neighbors import KNeighborsClassifier\n",
        "from sklearn.naive_bayes import MultinomialNB\n",
        "from sklearn.model_selection import GridSearchCV\n",
        "from sklearn.metrics import ConfusionMatrixDisplay\n",
        "from sklearn.metrics import classification_report\n",
        "from sklearn.metrics import roc_auc_score\n",
        "from sklearn.model_selection import StratifiedKFold\n",
        "from sklearn.model_selection import cross_val_score\n",
        "from transformers import pipeline\n",
        "from nltk.tokenize import word_tokenize\n",
        "from nltk.stem.porter import *\n",
        "from nltk.corpus import stopwords\n",
        "import nltk\n",
        "nltk.download('punkt')\n",
        "nltk.download('stopwords')"
      ],
      "metadata": {
        "colab": {
          "base_uri": "https://localhost:8080/"
        },
        "id": "GNOP_xBSwpM9",
        "outputId": "ead4c4d5-9533-44be-95b6-3247cedcaf9b"
      },
      "execution_count": 4,
      "outputs": [
        {
          "output_type": "stream",
          "name": "stderr",
          "text": [
            "[nltk_data] Downloading package punkt to /root/nltk_data...\n",
            "[nltk_data]   Unzipping tokenizers/punkt.zip.\n",
            "[nltk_data] Downloading package stopwords to /root/nltk_data...\n",
            "[nltk_data]   Unzipping corpora/stopwords.zip.\n"
          ]
        },
        {
          "output_type": "execute_result",
          "data": {
            "text/plain": [
              "True"
            ]
          },
          "metadata": {},
          "execution_count": 4
        }
      ]
    },
    {
      "cell_type": "code",
      "source": [
        "import spacy\n",
        "# ! python -m spacy download en_core_web_sm"
      ],
      "metadata": {
        "id": "u97Iw7hIlzoq"
      },
      "execution_count": 5,
      "outputs": []
    },
    {
      "cell_type": "code",
      "source": [
        "import spacy"
      ],
      "metadata": {
        "id": "lurQqiFLlz3W"
      },
      "execution_count": 6,
      "outputs": []
    },
    {
      "cell_type": "code",
      "source": [
        "from google.colab import drive\n",
        "drive.mount('/content/drive', force_remount=True)"
      ],
      "metadata": {
        "id": "eXRjeKlWwsL9",
        "colab": {
          "base_uri": "https://localhost:8080/"
        },
        "outputId": "3abf66a5-7231-45c5-a4ee-589ec05b73d4"
      },
      "execution_count": 7,
      "outputs": [
        {
          "output_type": "stream",
          "name": "stdout",
          "text": [
            "Mounted at /content/drive\n"
          ]
        }
      ]
    },
    {
      "cell_type": "code",
      "source": [
        "MAIN_FOLDER = '/content/drive/MyDrive/url_classification/'\n",
        "HTML_FOLDER = MAIN_FOLDER + 'html_files_Nov-24-2022/'\n",
        "os.chdir(MAIN_FOLDER)"
      ],
      "metadata": {
        "id": "yDXkNQiWwvNc"
      },
      "execution_count": 8,
      "outputs": []
    },
    {
      "cell_type": "markdown",
      "source": [
        "# 0.1 Functions"
      ],
      "metadata": {
        "id": "4GwHtk5on9DE"
      }
    },
    {
      "cell_type": "markdown",
      "source": [
        "## Saving/loading variables"
      ],
      "metadata": {
        "id": "LYi72BOuqFgy"
      }
    },
    {
      "cell_type": "code",
      "source": [
        "def save_variable(variable, variable_name):\n",
        "  with open(f'./saved_variables/{variable_name}.pickle', 'wb') as f:\n",
        "    pickle.dump(variable, f)\n",
        "\n",
        "def read_variable(variable_name):\n",
        "  with open(f'./saved_variables/{variable_name}.pickle', 'rb') as f:\n",
        "    variable = pickle.load(f)\n",
        "  return variable\n",
        "\n",
        "def check_if_exists(variable_name):\n",
        "  if variable_name in globals():\n",
        "    print(f'Variable \"{variable_name}\" exists.')\n",
        "  else:\n",
        "    print(f'Variable \"{variable_name}\" does not exist.')"
      ],
      "metadata": {
        "id": "0ksnZ0TYn5v2"
      },
      "execution_count": 9,
      "outputs": []
    },
    {
      "cell_type": "markdown",
      "source": [
        "## Preprocessing"
      ],
      "metadata": {
        "id": "qQDm4AyuDZuC"
      }
    },
    {
      "cell_type": "code",
      "source": [
        "def get_most_common_tokens(df, column, amount=10):\n",
        "  tokenized = [word_tokenize(string) for string in df[column]]\n",
        "  flat_list = [item for sublist in tokenized for item in sublist]\n",
        "  return Counter(flat_list).most_common(amount)"
      ],
      "metadata": {
        "id": "WSG3LYaKDZ65"
      },
      "execution_count": 10,
      "outputs": []
    },
    {
      "cell_type": "markdown",
      "source": [
        "## Modeling"
      ],
      "metadata": {
        "id": "USmRK3kDqLiQ"
      }
    },
    {
      "cell_type": "code",
      "source": [
        "def fit_model(clf, X_train_transformed, y_train):\n",
        "  clf.fit(X_train_transformed, y_train)\n",
        "  return clf\n",
        "\n",
        "\n",
        "def predict(clf, X_test_transformed):\n",
        "  y_pred = clf.predict(X_test_transformed)\n",
        "  return y_pred\n",
        "\n",
        "\n",
        "def get_accuracy(y_test, y_pred):\n",
        "  accuracy = sum(y_pred == y_test) / len(y_test)\n",
        "  return accuracy\n",
        "\n",
        "\n",
        "def print_important_features(clf, features=5):\n",
        "  \"\"\" \n",
        "  Get the most important features of a classifier when using a linear kernel (e.g. Logistic Regression, not SVM)\n",
        "  \"\"\"\n",
        "  coef_importances = np.argsort(clf.coef_, axis=1)\n",
        "  for i, class_ in enumerate(coef_importances[:, :features]):\n",
        "      print(f'Class \"{clf.classes_[i]}\" - {features} most important features: '\n",
        "            f'{vectorizer.get_feature_names_out()[class_]}')\n",
        "      \n",
        "\n",
        "def print_confusion_matrix(y_test, y_pred, with_report=False):\n",
        "  ConfusionMatrixDisplay.from_predictions(y_test, y_pred)\n",
        "  plt.title(f'Confusion matrix - acc {get_accuracy(y_test, y_pred):.3f}', size=15)\n",
        "  plt.show()\n",
        "  if with_report:\n",
        "    print('\\n' + classification_report(y_test, y_pred))\n",
        "\n",
        "\n",
        "def get_best_clf(clfs, X_train, X_test, y_train, y_test):\n",
        "    results = []\n",
        "    best_clf = None\n",
        "    best_clf_name = None\n",
        "    best_accuracy = 0\n",
        "\n",
        "    for clf_name, clf in clfs:\n",
        "        clf.fit(X_train, y_train)\n",
        "        acc = clf.score(X_test, y_test) # accuracy score\n",
        "        \n",
        "        if acc > best_accuracy:\n",
        "            best_accuracy = acc\n",
        "            best_clf = clf\n",
        "            best_clf_name = clf_name\n",
        "\n",
        "        results.append({'clf': clf_name,\n",
        "                        'accuracy': acc})\n",
        "        \n",
        "    print(pd.DataFrame(results).set_index('clf'))\n",
        "    return best_clf, best_clf_name, best_accuracy\n",
        "\n",
        "\n",
        "def print_important_features(clf, features=5):\n",
        "  \"\"\" \n",
        "  Get the most important features of a classifier when using a linear kernel (e.g. Logistic Regression, not SVM)\n",
        "  \"\"\"\n",
        "  coef_importances = np.argsort(clf.coef_, axis=1)\n",
        "  for i, class_ in enumerate(coef_importances[:, :features]):\n",
        "      print(f'Class \"{clf.classes_[i]}\" - {features} most important features: '\n",
        "            f'{vectorizer.get_feature_names_out()[class_]}')\n",
        "      \n",
        "\n",
        "def create_misclassified_df(X_test, y_test, y_pred):\n",
        "  df = X_test.copy()[y_pred != y_test]\n",
        "  df['y_true'] = y_test[y_pred != y_test]\n",
        "  df['y_pred'] = y_pred[y_pred != y_test]\n",
        "  return df\n",
        "  "
      ],
      "metadata": {
        "id": "guCVwFCNqQhY"
      },
      "execution_count": 11,
      "outputs": []
    },
    {
      "cell_type": "markdown",
      "source": [
        "# 0.15 Defining variables"
      ],
      "metadata": {
        "id": "4t9GHinvDB-1"
      }
    },
    {
      "cell_type": "code",
      "source": [
        "TARGET = 'label'\n",
        "TEXT = 'text'\n",
        "\n",
        "# Constants that will disappear when transitioning to functions:\n",
        "# Cell 1\n",
        "html_folder = HTML_FOLDER\n",
        "# Cell 2\n",
        "csv_path = 'url_classification_temporary536.csv'\n",
        "usecols = ['File Name', 'Label']"
      ],
      "metadata": {
        "id": "F18FcwDQDG8z"
      },
      "execution_count": 12,
      "outputs": []
    },
    {
      "cell_type": "markdown",
      "source": [
        "# 0.2 (Optional) Create and save \"df_text\" - general preprocessing"
      ],
      "metadata": {
        "id": "O1e9tg4WLjTE"
      }
    },
    {
      "cell_type": "code",
      "source": [
        "STOPWORDS = set(stopwords.words('english'))\n",
        "nlp = spacy.load('en_core_web_sm')"
      ],
      "metadata": {
        "id": "yjrwhtCawyPC"
      },
      "execution_count": 10,
      "outputs": []
    },
    {
      "cell_type": "code",
      "source": [
        "# Important cell # 1\n",
        "html_files = os.listdir(html_folder)"
      ],
      "metadata": {
        "id": "WmL38EDmw010"
      },
      "execution_count": 12,
      "outputs": []
    },
    {
      "cell_type": "code",
      "source": [
        "# Important cell # 2\n",
        "\n",
        "df = pd.read_csv(csv_path, usecols=usecols)\n",
        "df.rename(columns={usecols[0]: 'filename', usecols[1]: 'label'}, inplace=True)\n",
        "df = df[~df['filename'].isna()]\n",
        "print(f'Original shape: {df.shape}')\n",
        "df = df[df['label'] != '-']\n",
        "df.reset_index(drop=True, inplace=True)\n",
        "print(f'Final shape: {df.shape}')"
      ],
      "metadata": {
        "id": "hwDprEpnxbjn",
        "colab": {
          "base_uri": "https://localhost:8080/"
        },
        "outputId": "6a92fd73-75d2-4dda-978d-9ba1c3af3309"
      },
      "execution_count": 13,
      "outputs": [
        {
          "output_type": "stream",
          "name": "stdout",
          "text": [
            "Original shape: (535, 2)\n",
            "Final shape: (461, 2)\n"
          ]
        }
      ]
    },
    {
      "cell_type": "code",
      "source": [
        "# Important cell # 3\n",
        "df[TARGET].value_counts(normalize=False)"
      ],
      "metadata": {
        "id": "dVNIK1Woysxl",
        "colab": {
          "base_uri": "https://localhost:8080/"
        },
        "outputId": "529c48b5-b818-4d21-f0c7-3844f82b296f"
      },
      "execution_count": 14,
      "outputs": [
        {
          "output_type": "execute_result",
          "data": {
            "text/plain": [
              "Home Page        162\n",
              "MISC              87\n",
              "Blog              84\n",
              "Product Page      44\n",
              "Article           42\n",
              "Event             15\n",
              "White Paper       12\n",
              "Education          6\n",
              "?                  3\n",
              "About Page         2\n",
              "Press Release      2\n",
              "Video Content      1\n",
              "Publication        1\n",
              "Name: label, dtype: int64"
            ]
          },
          "metadata": {},
          "execution_count": 14
        }
      ]
    },
    {
      "cell_type": "code",
      "source": [
        "# Important cell # 4\n",
        "filenames = df['filename'].values\n",
        "htmls = list()\n",
        "\n",
        "for i, filename in enumerate(filenames):\n",
        "  try:\n",
        "    with open(f'{HTML_FOLDER}{filename}') as f:\n",
        "      html = f.read()\n",
        "      htmls.append(html)\n",
        "  except FileNotFoundError:\n",
        "    print(f'File {i} not found: \"{filename}\"')"
      ],
      "metadata": {
        "id": "9ZTbA0dAy6ro"
      },
      "execution_count": 15,
      "outputs": []
    },
    {
      "cell_type": "code",
      "source": [
        "# Important cell # 5\n",
        "toi_articles = list()\n",
        "\n",
        "for html in htmls:\n",
        "  toi_article = Article(url = ' ', language = \"en\")\n",
        "  toi_article.set_html(html)\n",
        "  toi_article.parse()\n",
        "  toi_article.nlp()\n",
        "  toi_articles.append(toi_article)"
      ],
      "metadata": {
        "id": "gJaab-K1zYiK"
      },
      "execution_count": 16,
      "outputs": []
    },
    {
      "cell_type": "code",
      "source": [
        "# Important cell # 6\n",
        "y = df[TARGET].tolist()"
      ],
      "metadata": {
        "id": "2c3an8110IRS"
      },
      "execution_count": 17,
      "outputs": []
    },
    {
      "cell_type": "code",
      "source": [
        "# Important cell # 7\n",
        "summaries = [(toi_article.title + '. ' + toi_article.text).replace('\\n', ' ') for toi_article in toi_articles]"
      ],
      "metadata": {
        "id": "4_1z6sdX0Ouh"
      },
      "execution_count": 18,
      "outputs": []
    },
    {
      "cell_type": "code",
      "source": [
        "len(y), len(summaries)"
      ],
      "metadata": {
        "id": "OgBKazGq24_W",
        "colab": {
          "base_uri": "https://localhost:8080/"
        },
        "outputId": "5c0f02ea-a39f-4557-aa96-7765cfb8259a"
      },
      "execution_count": 19,
      "outputs": [
        {
          "output_type": "execute_result",
          "data": {
            "text/plain": [
              "(461, 461)"
            ]
          },
          "metadata": {},
          "execution_count": 19
        }
      ]
    },
    {
      "cell_type": "code",
      "source": [
        "# Cell 8\n",
        "minimum_words = 30 \n",
        "maximum_classes = 4\n",
        "\n",
        "# Important cell # 8\n",
        "df_text = pd.DataFrame({TEXT: summaries, TARGET: y})\n",
        "\n",
        "if minimum_words:\n",
        "  df_text = df_text[df_text[TEXT].str.split().str.len() > minimum_words]\n",
        "\n",
        "if maximum_classes:\n",
        "  relevant_labels = df_text[TARGET].value_counts()[:maximum_classes].index\n",
        "  df_text = df_text[df_text[TARGET].isin(relevant_labels)] # this is to erase all classes after 'maximum_classes'\n",
        "  # df_text.loc[~df_text[TARGET].isin(relevant_labels), TARGET] = 'MISC' # this is to not erase them, but change their value to 'MISC'\n",
        "\n",
        "df_text.reset_index(drop=True, inplace=True)"
      ],
      "metadata": {
        "id": "xw-rz_bJ0bGT"
      },
      "execution_count": 20,
      "outputs": []
    },
    {
      "cell_type": "code",
      "source": [
        "df_text[TARGET].value_counts()"
      ],
      "metadata": {
        "colab": {
          "base_uri": "https://localhost:8080/"
        },
        "id": "0uxDzCrp4CL-",
        "outputId": "69001fc9-daf3-4175-a975-7779ca46d2b6"
      },
      "execution_count": 21,
      "outputs": [
        {
          "output_type": "execute_result",
          "data": {
            "text/plain": [
              "Home Page       127\n",
              "Blog             83\n",
              "MISC             77\n",
              "Product Page     44\n",
              "Name: label, dtype: int64"
            ]
          },
          "metadata": {},
          "execution_count": 21
        }
      ]
    },
    {
      "cell_type": "code",
      "source": [
        "df_text"
      ],
      "metadata": {
        "id": "UW5qXkQu07TV",
        "colab": {
          "base_uri": "https://localhost:8080/",
          "height": 424
        },
        "outputId": "595f86f6-80d6-4c27-e17d-bd3f95671aa4"
      },
      "execution_count": 22,
      "outputs": [
        {
          "output_type": "execute_result",
          "data": {
            "text/plain": [
              "                                                  text         label\n",
              "0    Write For Us. Want to Write for Us?  Digital L...          MISC\n",
              "1    Write for Us. Yes, you. We’re always looking f...          MISC\n",
              "2    FAQs for some new features available in the Be...          Blog\n",
              "3    The Web Credibility Project. Our research in W...     Home Page\n",
              "4    Model DJs for Retail. DJPeoples is the nation’...          MISC\n",
              "..                                                 ...           ...\n",
              "326  Teach Yourself Visually Search Engine Optimiza...  Product Page\n",
              "327  The Art of SEO, 2nd Edition. Four acknowledged...  Product Page\n",
              "328  Submit A Guest Post – Guidelines (Write for Us...          MISC\n",
              "329  Fully Managed Magento Hosting — JetRails. Full...          MISC\n",
              "330  Mission-Critical Hosting For Magento Open Sour...          MISC\n",
              "\n",
              "[331 rows x 2 columns]"
            ],
            "text/html": [
              "\n",
              "  <div id=\"df-2107eb43-d12b-43aa-8af6-8465d292d464\">\n",
              "    <div class=\"colab-df-container\">\n",
              "      <div>\n",
              "<style scoped>\n",
              "    .dataframe tbody tr th:only-of-type {\n",
              "        vertical-align: middle;\n",
              "    }\n",
              "\n",
              "    .dataframe tbody tr th {\n",
              "        vertical-align: top;\n",
              "    }\n",
              "\n",
              "    .dataframe thead th {\n",
              "        text-align: right;\n",
              "    }\n",
              "</style>\n",
              "<table border=\"1\" class=\"dataframe\">\n",
              "  <thead>\n",
              "    <tr style=\"text-align: right;\">\n",
              "      <th></th>\n",
              "      <th>text</th>\n",
              "      <th>label</th>\n",
              "    </tr>\n",
              "  </thead>\n",
              "  <tbody>\n",
              "    <tr>\n",
              "      <th>0</th>\n",
              "      <td>Write For Us. Want to Write for Us?  Digital L...</td>\n",
              "      <td>MISC</td>\n",
              "    </tr>\n",
              "    <tr>\n",
              "      <th>1</th>\n",
              "      <td>Write for Us. Yes, you. We’re always looking f...</td>\n",
              "      <td>MISC</td>\n",
              "    </tr>\n",
              "    <tr>\n",
              "      <th>2</th>\n",
              "      <td>FAQs for some new features available in the Be...</td>\n",
              "      <td>Blog</td>\n",
              "    </tr>\n",
              "    <tr>\n",
              "      <th>3</th>\n",
              "      <td>The Web Credibility Project. Our research in W...</td>\n",
              "      <td>Home Page</td>\n",
              "    </tr>\n",
              "    <tr>\n",
              "      <th>4</th>\n",
              "      <td>Model DJs for Retail. DJPeoples is the nation’...</td>\n",
              "      <td>MISC</td>\n",
              "    </tr>\n",
              "    <tr>\n",
              "      <th>...</th>\n",
              "      <td>...</td>\n",
              "      <td>...</td>\n",
              "    </tr>\n",
              "    <tr>\n",
              "      <th>326</th>\n",
              "      <td>Teach Yourself Visually Search Engine Optimiza...</td>\n",
              "      <td>Product Page</td>\n",
              "    </tr>\n",
              "    <tr>\n",
              "      <th>327</th>\n",
              "      <td>The Art of SEO, 2nd Edition. Four acknowledged...</td>\n",
              "      <td>Product Page</td>\n",
              "    </tr>\n",
              "    <tr>\n",
              "      <th>328</th>\n",
              "      <td>Submit A Guest Post – Guidelines (Write for Us...</td>\n",
              "      <td>MISC</td>\n",
              "    </tr>\n",
              "    <tr>\n",
              "      <th>329</th>\n",
              "      <td>Fully Managed Magento Hosting — JetRails. Full...</td>\n",
              "      <td>MISC</td>\n",
              "    </tr>\n",
              "    <tr>\n",
              "      <th>330</th>\n",
              "      <td>Mission-Critical Hosting For Magento Open Sour...</td>\n",
              "      <td>MISC</td>\n",
              "    </tr>\n",
              "  </tbody>\n",
              "</table>\n",
              "<p>331 rows × 2 columns</p>\n",
              "</div>\n",
              "      <button class=\"colab-df-convert\" onclick=\"convertToInteractive('df-2107eb43-d12b-43aa-8af6-8465d292d464')\"\n",
              "              title=\"Convert this dataframe to an interactive table.\"\n",
              "              style=\"display:none;\">\n",
              "        \n",
              "  <svg xmlns=\"http://www.w3.org/2000/svg\" height=\"24px\"viewBox=\"0 0 24 24\"\n",
              "       width=\"24px\">\n",
              "    <path d=\"M0 0h24v24H0V0z\" fill=\"none\"/>\n",
              "    <path d=\"M18.56 5.44l.94 2.06.94-2.06 2.06-.94-2.06-.94-.94-2.06-.94 2.06-2.06.94zm-11 1L8.5 8.5l.94-2.06 2.06-.94-2.06-.94L8.5 2.5l-.94 2.06-2.06.94zm10 10l.94 2.06.94-2.06 2.06-.94-2.06-.94-.94-2.06-.94 2.06-2.06.94z\"/><path d=\"M17.41 7.96l-1.37-1.37c-.4-.4-.92-.59-1.43-.59-.52 0-1.04.2-1.43.59L10.3 9.45l-7.72 7.72c-.78.78-.78 2.05 0 2.83L4 21.41c.39.39.9.59 1.41.59.51 0 1.02-.2 1.41-.59l7.78-7.78 2.81-2.81c.8-.78.8-2.07 0-2.86zM5.41 20L4 18.59l7.72-7.72 1.47 1.35L5.41 20z\"/>\n",
              "  </svg>\n",
              "      </button>\n",
              "      \n",
              "  <style>\n",
              "    .colab-df-container {\n",
              "      display:flex;\n",
              "      flex-wrap:wrap;\n",
              "      gap: 12px;\n",
              "    }\n",
              "\n",
              "    .colab-df-convert {\n",
              "      background-color: #E8F0FE;\n",
              "      border: none;\n",
              "      border-radius: 50%;\n",
              "      cursor: pointer;\n",
              "      display: none;\n",
              "      fill: #1967D2;\n",
              "      height: 32px;\n",
              "      padding: 0 0 0 0;\n",
              "      width: 32px;\n",
              "    }\n",
              "\n",
              "    .colab-df-convert:hover {\n",
              "      background-color: #E2EBFA;\n",
              "      box-shadow: 0px 1px 2px rgba(60, 64, 67, 0.3), 0px 1px 3px 1px rgba(60, 64, 67, 0.15);\n",
              "      fill: #174EA6;\n",
              "    }\n",
              "\n",
              "    [theme=dark] .colab-df-convert {\n",
              "      background-color: #3B4455;\n",
              "      fill: #D2E3FC;\n",
              "    }\n",
              "\n",
              "    [theme=dark] .colab-df-convert:hover {\n",
              "      background-color: #434B5C;\n",
              "      box-shadow: 0px 1px 3px 1px rgba(0, 0, 0, 0.15);\n",
              "      filter: drop-shadow(0px 1px 2px rgba(0, 0, 0, 0.3));\n",
              "      fill: #FFFFFF;\n",
              "    }\n",
              "  </style>\n",
              "\n",
              "      <script>\n",
              "        const buttonEl =\n",
              "          document.querySelector('#df-2107eb43-d12b-43aa-8af6-8465d292d464 button.colab-df-convert');\n",
              "        buttonEl.style.display =\n",
              "          google.colab.kernel.accessAllowed ? 'block' : 'none';\n",
              "\n",
              "        async function convertToInteractive(key) {\n",
              "          const element = document.querySelector('#df-2107eb43-d12b-43aa-8af6-8465d292d464');\n",
              "          const dataTable =\n",
              "            await google.colab.kernel.invokeFunction('convertToInteractive',\n",
              "                                                     [key], {});\n",
              "          if (!dataTable) return;\n",
              "\n",
              "          const docLinkHtml = 'Like what you see? Visit the ' +\n",
              "            '<a target=\"_blank\" href=https://colab.research.google.com/notebooks/data_table.ipynb>data table notebook</a>'\n",
              "            + ' to learn more about interactive tables.';\n",
              "          element.innerHTML = '';\n",
              "          dataTable['output_type'] = 'display_data';\n",
              "          await google.colab.output.renderOutput(dataTable, element);\n",
              "          const docLink = document.createElement('div');\n",
              "          docLink.innerHTML = docLinkHtml;\n",
              "          element.appendChild(docLink);\n",
              "        }\n",
              "      </script>\n",
              "    </div>\n",
              "  </div>\n",
              "  "
            ]
          },
          "metadata": {},
          "execution_count": 22
        }
      ]
    },
    {
      "cell_type": "code",
      "source": [
        "# Important cell # 8\n",
        "REPLACE_BY_SPACE_RE = re.compile('[/(){}\\[\\]\\|@,;]')\n",
        "BAD_SYMBOLS_RE = re.compile('[^0-9A-Za-z #+_]')\n",
        "STOPWORDS = set(stopwords.words('english'))\n",
        "\n",
        "def clean_text(text):\n",
        "    \"\"\"\n",
        "        text: a string\n",
        "        \n",
        "        return: modified initial string\n",
        "    \"\"\"\n",
        "    \n",
        "    # text = text.lower() # lowercase text\n",
        "    text = REPLACE_BY_SPACE_RE.sub(' ', text) # replace REPLACE_BY_SPACE_RE symbols by space in text\n",
        "    text = BAD_SYMBOLS_RE.sub('', text) # delete symbols which are in BAD_SYMBOLS_RE from text\n",
        "    text = ' '.join(word for word in text.split() if word not in STOPWORDS) # delete stopwords from text\n",
        "\n",
        "    # nlp = load_nlp()\n",
        "    # text = ' '.join(token.lemma_ for token in nlp(text))\n",
        "\n",
        "    return text\n",
        "\n",
        "print(f\"Amount of words before cleaning text: {df_text[TEXT].apply(lambda x: len(x.split(' '))).sum()}\")\n",
        "print(f\"Amount of unique words before cleaning text: {np.unique(np.concatenate(df_text[TEXT].str.split().values, axis=0)).shape[0]}\\n\")\n",
        "df_text['cleaned_text'] = df_text[TEXT].apply(clean_text)\n",
        "print(f\"Amount of words after cleaning text: {df_text['cleaned_text'].apply(lambda x: len(x.split(' '))).sum()}\")\n",
        "print(f\"Amount of unique words before cleaning text: {np.unique(np.concatenate(df_text['cleaned_text'].str.split().values, axis=0)).shape[0]}\")"
      ],
      "metadata": {
        "id": "2G8LfNta1B9g",
        "colab": {
          "base_uri": "https://localhost:8080/"
        },
        "outputId": "76bfa5cc-abd1-4925-c4c7-14b837d9fab9"
      },
      "execution_count": 23,
      "outputs": [
        {
          "output_type": "stream",
          "name": "stdout",
          "text": [
            "Amount of words before cleaning text: 282667\n",
            "Amount of unique words before cleaning text: 30719\n",
            "\n",
            "Amount of words after cleaning text: 169218\n",
            "Amount of unique words before cleaning text: 18797\n"
          ]
        }
      ]
    },
    {
      "cell_type": "code",
      "source": [
        "def lemmatize_text(text):\n",
        "    lemmatized = ' '.join(token.lemma_ for token in nlp(text))\n",
        "    return lemmatized\n",
        "\n",
        "print(f\"Amount of words before lemmatizing text: {df_text[TEXT].apply(lambda x: len(x.split(' '))).sum()}\")\n",
        "print(f\"Amount of unique words before lemmatizing text: {np.unique(np.concatenate(df_text[TEXT].str.split().values, axis=0)).shape[0]}\\n\")\n",
        "df_text['lemmatized_text'] = df_text[TEXT].apply(lemmatize_text)\n",
        "print(f\"Amount of words after lemmatizing text: {df_text['lemmatized_text'].apply(lambda x: len(x.split(' '))).sum()}\")\n",
        "print(f\"Amount of unique words before lemmatizing text: {np.unique(np.concatenate(df_text['lemmatized_text'].str.split().values, axis=0)).shape[0]}\")"
      ],
      "metadata": {
        "id": "hbDdNryGEPLc",
        "colab": {
          "base_uri": "https://localhost:8080/"
        },
        "outputId": "f7499935-57cc-460c-a580-738a5a9dc376"
      },
      "execution_count": 24,
      "outputs": [
        {
          "output_type": "stream",
          "name": "stdout",
          "text": [
            "Amount of words before lemmatizing text: 282667\n",
            "Amount of unique words before lemmatizing text: 30719\n",
            "\n",
            "Amount of words after lemmatizing text: 340736\n",
            "Amount of unique words before lemmatizing text: 14356\n"
          ]
        }
      ]
    },
    {
      "cell_type": "code",
      "source": [
        "print(f\"Amount of words before cleaning lemmatized text: {df_text['lemmatized_text'].apply(lambda x: len(x.split(' '))).sum()}\")\n",
        "print(f\"Amount of unique words before cleaning lemmatized text: {np.unique(np.concatenate(df_text['lemmatized_text'].str.split().values, axis=0)).shape[0]}\\n\")\n",
        "df_text['lemmatized_cleaned_text'] = df_text['lemmatized_text'].apply(clean_text)\n",
        "print(f\"Amount of words after cleaning lemmatized text: {df_text['lemmatized_cleaned_text'].apply(lambda x: len(x.split(' '))).sum()}\")\n",
        "print(f\"Amount of unique words before cleaning lemmatized text: {np.unique(np.concatenate(df_text['lemmatized_cleaned_text'].str.split().values, axis=0)).shape[0]}\")"
      ],
      "metadata": {
        "colab": {
          "base_uri": "https://localhost:8080/"
        },
        "id": "P4vKBYdPfD7B",
        "outputId": "11a81839-e879-4888-8f56-fc5f03731b03"
      },
      "execution_count": 25,
      "outputs": [
        {
          "output_type": "stream",
          "name": "stdout",
          "text": [
            "Amount of words before cleaning lemmatized text: 340736\n",
            "Amount of unique words before cleaning lemmatized text: 14356\n",
            "\n",
            "Amount of words after cleaning lemmatized text: 158510\n",
            "Amount of unique words before cleaning lemmatized text: 13580\n"
          ]
        }
      ]
    },
    {
      "cell_type": "code",
      "source": [
        "df_text.head(3) # df with different techniques for preprocessing of the text"
      ],
      "metadata": {
        "colab": {
          "base_uri": "https://localhost:8080/",
          "height": 240
        },
        "id": "zTnFCN_7mAjU",
        "outputId": "56c8bf52-847a-4100-a355-a6a47c9fdbdd"
      },
      "execution_count": 26,
      "outputs": [
        {
          "output_type": "execute_result",
          "data": {
            "text/plain": [
              "                                                text label  \\\n",
              "0  Write For Us. Want to Write for Us?  Digital L...  MISC   \n",
              "1  Write for Us. Yes, you. We’re always looking f...  MISC   \n",
              "2  FAQs for some new features available in the Be...  Blog   \n",
              "\n",
              "                                        cleaned_text  \\\n",
              "0  Write For Us Want Write Us Digital Lamp one fa...   \n",
              "1  Write Us Yes Were always looking new authors I...   \n",
              "2  FAQs new features available Beta Wayback Machi...   \n",
              "\n",
              "                                     lemmatized_text  \\\n",
              "0  write for we . want to write for we ?   Digita...   \n",
              "1  write for we . yes , you . we ’re always look ...   \n",
              "2  FAQs for some new feature available in the Bet...   \n",
              "\n",
              "                             lemmatized_cleaned_text  \n",
              "0  write want write Digital Lamp one fast grow te...  \n",
              "1  write yes always look new author get idea chal...  \n",
              "2  FAQs new feature available Beta Wayback Machin...  "
            ],
            "text/html": [
              "\n",
              "  <div id=\"df-0c037abf-bbc4-433d-9311-79efb4159552\">\n",
              "    <div class=\"colab-df-container\">\n",
              "      <div>\n",
              "<style scoped>\n",
              "    .dataframe tbody tr th:only-of-type {\n",
              "        vertical-align: middle;\n",
              "    }\n",
              "\n",
              "    .dataframe tbody tr th {\n",
              "        vertical-align: top;\n",
              "    }\n",
              "\n",
              "    .dataframe thead th {\n",
              "        text-align: right;\n",
              "    }\n",
              "</style>\n",
              "<table border=\"1\" class=\"dataframe\">\n",
              "  <thead>\n",
              "    <tr style=\"text-align: right;\">\n",
              "      <th></th>\n",
              "      <th>text</th>\n",
              "      <th>label</th>\n",
              "      <th>cleaned_text</th>\n",
              "      <th>lemmatized_text</th>\n",
              "      <th>lemmatized_cleaned_text</th>\n",
              "    </tr>\n",
              "  </thead>\n",
              "  <tbody>\n",
              "    <tr>\n",
              "      <th>0</th>\n",
              "      <td>Write For Us. Want to Write for Us?  Digital L...</td>\n",
              "      <td>MISC</td>\n",
              "      <td>Write For Us Want Write Us Digital Lamp one fa...</td>\n",
              "      <td>write for we . want to write for we ?   Digita...</td>\n",
              "      <td>write want write Digital Lamp one fast grow te...</td>\n",
              "    </tr>\n",
              "    <tr>\n",
              "      <th>1</th>\n",
              "      <td>Write for Us. Yes, you. We’re always looking f...</td>\n",
              "      <td>MISC</td>\n",
              "      <td>Write Us Yes Were always looking new authors I...</td>\n",
              "      <td>write for we . yes , you . we ’re always look ...</td>\n",
              "      <td>write yes always look new author get idea chal...</td>\n",
              "    </tr>\n",
              "    <tr>\n",
              "      <th>2</th>\n",
              "      <td>FAQs for some new features available in the Be...</td>\n",
              "      <td>Blog</td>\n",
              "      <td>FAQs new features available Beta Wayback Machi...</td>\n",
              "      <td>FAQs for some new feature available in the Bet...</td>\n",
              "      <td>FAQs new feature available Beta Wayback Machin...</td>\n",
              "    </tr>\n",
              "  </tbody>\n",
              "</table>\n",
              "</div>\n",
              "      <button class=\"colab-df-convert\" onclick=\"convertToInteractive('df-0c037abf-bbc4-433d-9311-79efb4159552')\"\n",
              "              title=\"Convert this dataframe to an interactive table.\"\n",
              "              style=\"display:none;\">\n",
              "        \n",
              "  <svg xmlns=\"http://www.w3.org/2000/svg\" height=\"24px\"viewBox=\"0 0 24 24\"\n",
              "       width=\"24px\">\n",
              "    <path d=\"M0 0h24v24H0V0z\" fill=\"none\"/>\n",
              "    <path d=\"M18.56 5.44l.94 2.06.94-2.06 2.06-.94-2.06-.94-.94-2.06-.94 2.06-2.06.94zm-11 1L8.5 8.5l.94-2.06 2.06-.94-2.06-.94L8.5 2.5l-.94 2.06-2.06.94zm10 10l.94 2.06.94-2.06 2.06-.94-2.06-.94-.94-2.06-.94 2.06-2.06.94z\"/><path d=\"M17.41 7.96l-1.37-1.37c-.4-.4-.92-.59-1.43-.59-.52 0-1.04.2-1.43.59L10.3 9.45l-7.72 7.72c-.78.78-.78 2.05 0 2.83L4 21.41c.39.39.9.59 1.41.59.51 0 1.02-.2 1.41-.59l7.78-7.78 2.81-2.81c.8-.78.8-2.07 0-2.86zM5.41 20L4 18.59l7.72-7.72 1.47 1.35L5.41 20z\"/>\n",
              "  </svg>\n",
              "      </button>\n",
              "      \n",
              "  <style>\n",
              "    .colab-df-container {\n",
              "      display:flex;\n",
              "      flex-wrap:wrap;\n",
              "      gap: 12px;\n",
              "    }\n",
              "\n",
              "    .colab-df-convert {\n",
              "      background-color: #E8F0FE;\n",
              "      border: none;\n",
              "      border-radius: 50%;\n",
              "      cursor: pointer;\n",
              "      display: none;\n",
              "      fill: #1967D2;\n",
              "      height: 32px;\n",
              "      padding: 0 0 0 0;\n",
              "      width: 32px;\n",
              "    }\n",
              "\n",
              "    .colab-df-convert:hover {\n",
              "      background-color: #E2EBFA;\n",
              "      box-shadow: 0px 1px 2px rgba(60, 64, 67, 0.3), 0px 1px 3px 1px rgba(60, 64, 67, 0.15);\n",
              "      fill: #174EA6;\n",
              "    }\n",
              "\n",
              "    [theme=dark] .colab-df-convert {\n",
              "      background-color: #3B4455;\n",
              "      fill: #D2E3FC;\n",
              "    }\n",
              "\n",
              "    [theme=dark] .colab-df-convert:hover {\n",
              "      background-color: #434B5C;\n",
              "      box-shadow: 0px 1px 3px 1px rgba(0, 0, 0, 0.15);\n",
              "      filter: drop-shadow(0px 1px 2px rgba(0, 0, 0, 0.3));\n",
              "      fill: #FFFFFF;\n",
              "    }\n",
              "  </style>\n",
              "\n",
              "      <script>\n",
              "        const buttonEl =\n",
              "          document.querySelector('#df-0c037abf-bbc4-433d-9311-79efb4159552 button.colab-df-convert');\n",
              "        buttonEl.style.display =\n",
              "          google.colab.kernel.accessAllowed ? 'block' : 'none';\n",
              "\n",
              "        async function convertToInteractive(key) {\n",
              "          const element = document.querySelector('#df-0c037abf-bbc4-433d-9311-79efb4159552');\n",
              "          const dataTable =\n",
              "            await google.colab.kernel.invokeFunction('convertToInteractive',\n",
              "                                                     [key], {});\n",
              "          if (!dataTable) return;\n",
              "\n",
              "          const docLinkHtml = 'Like what you see? Visit the ' +\n",
              "            '<a target=\"_blank\" href=https://colab.research.google.com/notebooks/data_table.ipynb>data table notebook</a>'\n",
              "            + ' to learn more about interactive tables.';\n",
              "          element.innerHTML = '';\n",
              "          dataTable['output_type'] = 'display_data';\n",
              "          await google.colab.output.renderOutput(dataTable, element);\n",
              "          const docLink = document.createElement('div');\n",
              "          docLink.innerHTML = docLinkHtml;\n",
              "          element.appendChild(docLink);\n",
              "        }\n",
              "      </script>\n",
              "    </div>\n",
              "  </div>\n",
              "  "
            ]
          },
          "metadata": {},
          "execution_count": 26
        }
      ]
    },
    {
      "cell_type": "code",
      "source": [
        "df_text.loc[0, TEXT]"
      ],
      "metadata": {
        "id": "XEJNZ4gspn1-",
        "colab": {
          "base_uri": "https://localhost:8080/",
          "height": 143
        },
        "outputId": "f4f82f04-2d8e-409b-f800-7465775fc8a8"
      },
      "execution_count": 27,
      "outputs": [
        {
          "output_type": "execute_result",
          "data": {
            "text/plain": [
              "'Write For Us. Want to Write for Us?  Digital Lamp, is one of the fastest-growing tech blog. We allow you an endless opportunity for new authors, technical content writers, freelance content writing professionals, and guest writers to technology + “write for us” + guest post (Contribute or Submit Guest Post Article) about the topics related to Technology, Business, Internet, Gadgets, Digital Marketing, Security, SEO, Tech Blog, etc.  Technology is the way progressive for online businesses. Why not share your expertise by guest blogging on technology blogs to highlight awareness of this emerging trend.  You will obtain the benefits of being a guest blogger by establishing yourself as an authority in the industry. On top of that, you will build social proof, create a robust online presence, develop new relationships with bloggers and readers and rank better in the search engines.  All you need to do is meet the criteria set out by the technology blogs below and submit your best work as a guest blogger.  Guidelines for Write for us Technology Blog  Content must be high quality, informative and 100% Copyscape pass articles. The article must be in the English language. The content length should be minimum of 1000+ words. Content must be well formatted with the sub-headings and short paragraphs (2-3 lines). Once the article is published then it will be owned by Digital Lamp. No requests for removal will be entertained. (We will remove your link on request) All links in the post should be to relevant and quality websites. 1 link per 500 words is ideal, max 2-3 links in total. Please include a meta description for your article. We appreciate you linking back to your post in your future articles – so please write something worth linking to. We reserve the right to do minor edits to your article.  How to Submit Content?  With a subject Guest Post Submission or Write for us – guest post, send the article in .docx, .doc, .txt file format and with images (if possiable) adigitallamp[@]gmail.com .  . You can also send meta description with the article content.  Top reasons of content rejected or no reply  Content not relevant to our website, duplicate content, etc.  Article or same topic already posted on Digital Lamp. Please make sure the article you have sent is not published on our website.  Use below search query to find guest blogging opportunities on Digital Lamp:  technology “write for us”  technology + “write for us” + guest post  technology + “write for us”  technology + “write for us” + “guest post”  technology write for us  write for us technology  write for us tech  tech “write for us”  technology “write for us”  tech write for us  tech + “write for us”  “write for us” tech  technology + “write for us”  technology write for us guest post  write for us tech blog  tech write for us guest post  “write for us” technology  technology + write for us + guest post  technology guest post  guest post technology  tech “write for us”  technology + write for us  write for us technology guest post  technology write for us” + guest post  technology blog “write for us”  write for us + technology  technology “guest post”  tech + write for us  write for us “tech”  tech blogs write for us  “technology” + “write for us”  “write for us” technology  technology articles write for us  business+technology “write for us”  write for us “tech blog”  web design “write for us”  technology + guest post submission  information technology write for us  tech blog write for us  tech blog guest post  submit guest post technology  tech guest post  tech blogs “write for us”  tech news write for us  web design write for us  business technology write for us  technical write for us  write for us technology content post  write for us guest post technology  marketing “write for us”  technology + write for us + paid guest post  tech”write for us”  “write for us” “technology”  tech blogs + “write for us”  guest post tech  tech blog “write for us”  technology sites write for us  write for us guest post  tech blog “write for us”  submit guest post + technology  “write for us” tech blog  “write for us” + tech blog  technology submit guest post  write for us +technology  tech tips write for us  “technology” “write for us”  write for us + tech blog  write for us tech blogs  technology blog “write for us”  gadgets “write for us”  write for us “technology”  technology+write for us  tech submit guest post  write for us technology blog  tech “guest post”  technology + write for us + free guest post  submit a guest post technology  technology submit a guest post  mobile technology + “write for us”  technology blogs write for us  technology, business write for us  write for us web design  write for us marketing  contribute to technology guest post  mobile technology “write for us”  technology blog write for us  write for us  guest post write for us  web design blog write for us  write for us “technology”  technology business “write for us”  “education” + “blogs” + “write for us”  business technology + “write for us”  marketing”+“write for us”  site write for us technology  business marketing “write for us”  technology write for us free guest post  “write for us” marketing  technology blog “write for us”  technology + “write for us”  gadgets write for us  gadgets “write for us”  technology “write for us”  business “write for us”  technology + “write for us” + guest post  “write for us” SEO  “write for us” Finance  in url write for us technology  “write for us” Digital Marketing  “write for us” Technology  business blog “write for us”  web development “write for us”  technology blog “write for us”  “submit guest post” + “technology”  technology guest post guidelines'"
            ],
            "application/vnd.google.colaboratory.intrinsic+json": {
              "type": "string"
            }
          },
          "metadata": {},
          "execution_count": 27
        }
      ]
    },
    {
      "cell_type": "code",
      "source": [
        "# df_text.loc[0, 'lemmatized_text']"
      ],
      "metadata": {
        "id": "UqtS5dcHp0BL"
      },
      "execution_count": 28,
      "outputs": []
    },
    {
      "cell_type": "code",
      "source": [
        "# df_text.loc[0, 'lemmatized_cleaned_text']"
      ],
      "metadata": {
        "id": "8KKh-BmFf-bF"
      },
      "execution_count": 29,
      "outputs": []
    },
    {
      "cell_type": "code",
      "source": [
        "def lemmatize_text2(text):\n",
        "  lemmatized = ' '.join(token.text.lower() for token in nlp(text))\n",
        "  return lemmatized\n",
        "\n",
        "df_text['w2v_text'] = df_text[TEXT].apply(lemmatize_text2)"
      ],
      "metadata": {
        "id": "W8u9xUt6e59W"
      },
      "execution_count": 31,
      "outputs": []
    },
    {
      "cell_type": "code",
      "source": [
        "string = df_text.loc[0, TEXT]"
      ],
      "metadata": {
        "id": "mSAvKcPQV0aU"
      },
      "execution_count": 32,
      "outputs": []
    },
    {
      "cell_type": "code",
      "source": [
        "# print(f\"Amount of words before tokenizing text: {df_text[TEXT].apply(lambda x: len(x.split(' '))).sum()}\")\n",
        "# print(f\"Amount of unique words before tokenizing text: {np.unique(np.concatenate(df_text[TEXT].str.split().values, axis=0)).shape[0]}\\n\")\n",
        "# tokenized = [word_tokenize(string) for string in df_text[TEXT]]\n",
        "# df_text['tokenized'] = list(map(lambda x: ' '.join(x), tokenized))\n",
        "# print(f\"Amount of words after tokenizing text: {df_text['tokenized'].apply(lambda x: len(x.split(' '))).sum()}\")\n",
        "# print(f\"Amount of unique words before tokenizing text: {np.unique(np.concatenate(df_text['tokenized'].str.split().values, axis=0)).shape[0]}\")"
      ],
      "metadata": {
        "id": "EqwkU16KU7bi"
      },
      "execution_count": 33,
      "outputs": []
    },
    {
      "cell_type": "code",
      "source": [
        "df_text"
      ],
      "metadata": {
        "colab": {
          "base_uri": "https://localhost:8080/",
          "height": 641
        },
        "id": "bQraMXtHVcf5",
        "outputId": "79469232-42a1-4509-e1a4-e33870b86ac7"
      },
      "execution_count": 34,
      "outputs": [
        {
          "output_type": "execute_result",
          "data": {
            "text/plain": [
              "                                                  text         label  \\\n",
              "0    Write For Us. Want to Write for Us?  Digital L...          MISC   \n",
              "1    Write for Us. Yes, you. We’re always looking f...          MISC   \n",
              "2    FAQs for some new features available in the Be...          Blog   \n",
              "3    The Web Credibility Project. Our research in W...     Home Page   \n",
              "4    Model DJs for Retail. DJPeoples is the nation’...          MISC   \n",
              "..                                                 ...           ...   \n",
              "326  Teach Yourself Visually Search Engine Optimiza...  Product Page   \n",
              "327  The Art of SEO, 2nd Edition. Four acknowledged...  Product Page   \n",
              "328  Submit A Guest Post – Guidelines (Write for Us...          MISC   \n",
              "329  Fully Managed Magento Hosting — JetRails. Full...          MISC   \n",
              "330  Mission-Critical Hosting For Magento Open Sour...          MISC   \n",
              "\n",
              "                                          cleaned_text  \\\n",
              "0    Write For Us Want Write Us Digital Lamp one fa...   \n",
              "1    Write Us Yes Were always looking new authors I...   \n",
              "2    FAQs new features available Beta Wayback Machi...   \n",
              "3    The Web Credibility Project Our research Web c...   \n",
              "4    Model DJs Retail DJPeoples nations premier age...   \n",
              "..                                                 ...   \n",
              "326  Teach Yourself Visually Search Engine Optimiza...   \n",
              "327  The Art SEO 2nd Edition Four acknowledged expe...   \n",
              "328  Submit A Guest Post Guidelines Write Us We acc...   \n",
              "329  Fully Managed Magento Hosting JetRails Fully M...   \n",
              "330  MissionCritical Hosting For Magento Open Sourc...   \n",
              "\n",
              "                                       lemmatized_text  \\\n",
              "0    write for we . want to write for we ?   Digita...   \n",
              "1    write for we . yes , you . we ’re always look ...   \n",
              "2    FAQs for some new feature available in the Bet...   \n",
              "3    the web Credibility Project . our research in ...   \n",
              "4    Model dj for Retail . djpeople be the nation ’...   \n",
              "..                                                 ...   \n",
              "326  teach yourself Visually Search Engine Optimiza...   \n",
              "327  the art of seo , 2nd Edition . four acknowledg...   \n",
              "328  submit a Guest Post – Guidelines ( write for U...   \n",
              "329  fully manage Magento Hosting — JetRails . full...   \n",
              "330  mission - Critical Hosting for Magento Open So...   \n",
              "\n",
              "                               lemmatized_cleaned_text  \\\n",
              "0    write want write Digital Lamp one fast grow te...   \n",
              "1    write yes always look new author get idea chal...   \n",
              "2    FAQs new feature available Beta Wayback Machin...   \n",
              "3    web Credibility Project research web credibili...   \n",
              "4    Model dj Retail djpeople nation premier agency...   \n",
              "..                                                 ...   \n",
              "326  teach Visually Search Engine Optimization whet...   \n",
              "327  art seo 2nd Edition four acknowledge expert se...   \n",
              "328  submit Guest Post Guidelines write Us accept G...   \n",
              "329  fully manage Magento Hosting JetRails fully ma...   \n",
              "330  mission Critical Hosting Magento Open Source A...   \n",
              "\n",
              "                                              w2v_text  \n",
              "0    write for us . want to write for us ?   digita...  \n",
              "1    write for us . yes , you . we ’re always looki...  \n",
              "2    faqs for some new features available in the be...  \n",
              "3    the web credibility project . our research in ...  \n",
              "4    model djs for retail . djpeoples is the nation...  \n",
              "..                                                 ...  \n",
              "326  teach yourself visually search engine optimiza...  \n",
              "327  the art of seo , 2nd edition . four acknowledg...  \n",
              "328  submit a guest post – guidelines ( write for u...  \n",
              "329  fully managed magento hosting — jetrails . ful...  \n",
              "330  mission - critical hosting for magento open so...  \n",
              "\n",
              "[331 rows x 6 columns]"
            ],
            "text/html": [
              "\n",
              "  <div id=\"df-3d986233-a5dd-480a-b649-1b29418f4892\">\n",
              "    <div class=\"colab-df-container\">\n",
              "      <div>\n",
              "<style scoped>\n",
              "    .dataframe tbody tr th:only-of-type {\n",
              "        vertical-align: middle;\n",
              "    }\n",
              "\n",
              "    .dataframe tbody tr th {\n",
              "        vertical-align: top;\n",
              "    }\n",
              "\n",
              "    .dataframe thead th {\n",
              "        text-align: right;\n",
              "    }\n",
              "</style>\n",
              "<table border=\"1\" class=\"dataframe\">\n",
              "  <thead>\n",
              "    <tr style=\"text-align: right;\">\n",
              "      <th></th>\n",
              "      <th>text</th>\n",
              "      <th>label</th>\n",
              "      <th>cleaned_text</th>\n",
              "      <th>lemmatized_text</th>\n",
              "      <th>lemmatized_cleaned_text</th>\n",
              "      <th>w2v_text</th>\n",
              "    </tr>\n",
              "  </thead>\n",
              "  <tbody>\n",
              "    <tr>\n",
              "      <th>0</th>\n",
              "      <td>Write For Us. Want to Write for Us?  Digital L...</td>\n",
              "      <td>MISC</td>\n",
              "      <td>Write For Us Want Write Us Digital Lamp one fa...</td>\n",
              "      <td>write for we . want to write for we ?   Digita...</td>\n",
              "      <td>write want write Digital Lamp one fast grow te...</td>\n",
              "      <td>write for us . want to write for us ?   digita...</td>\n",
              "    </tr>\n",
              "    <tr>\n",
              "      <th>1</th>\n",
              "      <td>Write for Us. Yes, you. We’re always looking f...</td>\n",
              "      <td>MISC</td>\n",
              "      <td>Write Us Yes Were always looking new authors I...</td>\n",
              "      <td>write for we . yes , you . we ’re always look ...</td>\n",
              "      <td>write yes always look new author get idea chal...</td>\n",
              "      <td>write for us . yes , you . we ’re always looki...</td>\n",
              "    </tr>\n",
              "    <tr>\n",
              "      <th>2</th>\n",
              "      <td>FAQs for some new features available in the Be...</td>\n",
              "      <td>Blog</td>\n",
              "      <td>FAQs new features available Beta Wayback Machi...</td>\n",
              "      <td>FAQs for some new feature available in the Bet...</td>\n",
              "      <td>FAQs new feature available Beta Wayback Machin...</td>\n",
              "      <td>faqs for some new features available in the be...</td>\n",
              "    </tr>\n",
              "    <tr>\n",
              "      <th>3</th>\n",
              "      <td>The Web Credibility Project. Our research in W...</td>\n",
              "      <td>Home Page</td>\n",
              "      <td>The Web Credibility Project Our research Web c...</td>\n",
              "      <td>the web Credibility Project . our research in ...</td>\n",
              "      <td>web Credibility Project research web credibili...</td>\n",
              "      <td>the web credibility project . our research in ...</td>\n",
              "    </tr>\n",
              "    <tr>\n",
              "      <th>4</th>\n",
              "      <td>Model DJs for Retail. DJPeoples is the nation’...</td>\n",
              "      <td>MISC</td>\n",
              "      <td>Model DJs Retail DJPeoples nations premier age...</td>\n",
              "      <td>Model dj for Retail . djpeople be the nation ’...</td>\n",
              "      <td>Model dj Retail djpeople nation premier agency...</td>\n",
              "      <td>model djs for retail . djpeoples is the nation...</td>\n",
              "    </tr>\n",
              "    <tr>\n",
              "      <th>...</th>\n",
              "      <td>...</td>\n",
              "      <td>...</td>\n",
              "      <td>...</td>\n",
              "      <td>...</td>\n",
              "      <td>...</td>\n",
              "      <td>...</td>\n",
              "    </tr>\n",
              "    <tr>\n",
              "      <th>326</th>\n",
              "      <td>Teach Yourself Visually Search Engine Optimiza...</td>\n",
              "      <td>Product Page</td>\n",
              "      <td>Teach Yourself Visually Search Engine Optimiza...</td>\n",
              "      <td>teach yourself Visually Search Engine Optimiza...</td>\n",
              "      <td>teach Visually Search Engine Optimization whet...</td>\n",
              "      <td>teach yourself visually search engine optimiza...</td>\n",
              "    </tr>\n",
              "    <tr>\n",
              "      <th>327</th>\n",
              "      <td>The Art of SEO, 2nd Edition. Four acknowledged...</td>\n",
              "      <td>Product Page</td>\n",
              "      <td>The Art SEO 2nd Edition Four acknowledged expe...</td>\n",
              "      <td>the art of seo , 2nd Edition . four acknowledg...</td>\n",
              "      <td>art seo 2nd Edition four acknowledge expert se...</td>\n",
              "      <td>the art of seo , 2nd edition . four acknowledg...</td>\n",
              "    </tr>\n",
              "    <tr>\n",
              "      <th>328</th>\n",
              "      <td>Submit A Guest Post – Guidelines (Write for Us...</td>\n",
              "      <td>MISC</td>\n",
              "      <td>Submit A Guest Post Guidelines Write Us We acc...</td>\n",
              "      <td>submit a Guest Post – Guidelines ( write for U...</td>\n",
              "      <td>submit Guest Post Guidelines write Us accept G...</td>\n",
              "      <td>submit a guest post – guidelines ( write for u...</td>\n",
              "    </tr>\n",
              "    <tr>\n",
              "      <th>329</th>\n",
              "      <td>Fully Managed Magento Hosting — JetRails. Full...</td>\n",
              "      <td>MISC</td>\n",
              "      <td>Fully Managed Magento Hosting JetRails Fully M...</td>\n",
              "      <td>fully manage Magento Hosting — JetRails . full...</td>\n",
              "      <td>fully manage Magento Hosting JetRails fully ma...</td>\n",
              "      <td>fully managed magento hosting — jetrails . ful...</td>\n",
              "    </tr>\n",
              "    <tr>\n",
              "      <th>330</th>\n",
              "      <td>Mission-Critical Hosting For Magento Open Sour...</td>\n",
              "      <td>MISC</td>\n",
              "      <td>MissionCritical Hosting For Magento Open Sourc...</td>\n",
              "      <td>mission - Critical Hosting for Magento Open So...</td>\n",
              "      <td>mission Critical Hosting Magento Open Source A...</td>\n",
              "      <td>mission - critical hosting for magento open so...</td>\n",
              "    </tr>\n",
              "  </tbody>\n",
              "</table>\n",
              "<p>331 rows × 6 columns</p>\n",
              "</div>\n",
              "      <button class=\"colab-df-convert\" onclick=\"convertToInteractive('df-3d986233-a5dd-480a-b649-1b29418f4892')\"\n",
              "              title=\"Convert this dataframe to an interactive table.\"\n",
              "              style=\"display:none;\">\n",
              "        \n",
              "  <svg xmlns=\"http://www.w3.org/2000/svg\" height=\"24px\"viewBox=\"0 0 24 24\"\n",
              "       width=\"24px\">\n",
              "    <path d=\"M0 0h24v24H0V0z\" fill=\"none\"/>\n",
              "    <path d=\"M18.56 5.44l.94 2.06.94-2.06 2.06-.94-2.06-.94-.94-2.06-.94 2.06-2.06.94zm-11 1L8.5 8.5l.94-2.06 2.06-.94-2.06-.94L8.5 2.5l-.94 2.06-2.06.94zm10 10l.94 2.06.94-2.06 2.06-.94-2.06-.94-.94-2.06-.94 2.06-2.06.94z\"/><path d=\"M17.41 7.96l-1.37-1.37c-.4-.4-.92-.59-1.43-.59-.52 0-1.04.2-1.43.59L10.3 9.45l-7.72 7.72c-.78.78-.78 2.05 0 2.83L4 21.41c.39.39.9.59 1.41.59.51 0 1.02-.2 1.41-.59l7.78-7.78 2.81-2.81c.8-.78.8-2.07 0-2.86zM5.41 20L4 18.59l7.72-7.72 1.47 1.35L5.41 20z\"/>\n",
              "  </svg>\n",
              "      </button>\n",
              "      \n",
              "  <style>\n",
              "    .colab-df-container {\n",
              "      display:flex;\n",
              "      flex-wrap:wrap;\n",
              "      gap: 12px;\n",
              "    }\n",
              "\n",
              "    .colab-df-convert {\n",
              "      background-color: #E8F0FE;\n",
              "      border: none;\n",
              "      border-radius: 50%;\n",
              "      cursor: pointer;\n",
              "      display: none;\n",
              "      fill: #1967D2;\n",
              "      height: 32px;\n",
              "      padding: 0 0 0 0;\n",
              "      width: 32px;\n",
              "    }\n",
              "\n",
              "    .colab-df-convert:hover {\n",
              "      background-color: #E2EBFA;\n",
              "      box-shadow: 0px 1px 2px rgba(60, 64, 67, 0.3), 0px 1px 3px 1px rgba(60, 64, 67, 0.15);\n",
              "      fill: #174EA6;\n",
              "    }\n",
              "\n",
              "    [theme=dark] .colab-df-convert {\n",
              "      background-color: #3B4455;\n",
              "      fill: #D2E3FC;\n",
              "    }\n",
              "\n",
              "    [theme=dark] .colab-df-convert:hover {\n",
              "      background-color: #434B5C;\n",
              "      box-shadow: 0px 1px 3px 1px rgba(0, 0, 0, 0.15);\n",
              "      filter: drop-shadow(0px 1px 2px rgba(0, 0, 0, 0.3));\n",
              "      fill: #FFFFFF;\n",
              "    }\n",
              "  </style>\n",
              "\n",
              "      <script>\n",
              "        const buttonEl =\n",
              "          document.querySelector('#df-3d986233-a5dd-480a-b649-1b29418f4892 button.colab-df-convert');\n",
              "        buttonEl.style.display =\n",
              "          google.colab.kernel.accessAllowed ? 'block' : 'none';\n",
              "\n",
              "        async function convertToInteractive(key) {\n",
              "          const element = document.querySelector('#df-3d986233-a5dd-480a-b649-1b29418f4892');\n",
              "          const dataTable =\n",
              "            await google.colab.kernel.invokeFunction('convertToInteractive',\n",
              "                                                     [key], {});\n",
              "          if (!dataTable) return;\n",
              "\n",
              "          const docLinkHtml = 'Like what you see? Visit the ' +\n",
              "            '<a target=\"_blank\" href=https://colab.research.google.com/notebooks/data_table.ipynb>data table notebook</a>'\n",
              "            + ' to learn more about interactive tables.';\n",
              "          element.innerHTML = '';\n",
              "          dataTable['output_type'] = 'display_data';\n",
              "          await google.colab.output.renderOutput(dataTable, element);\n",
              "          const docLink = document.createElement('div');\n",
              "          docLink.innerHTML = docLinkHtml;\n",
              "          element.appendChild(docLink);\n",
              "        }\n",
              "      </script>\n",
              "    </div>\n",
              "  </div>\n",
              "  "
            ]
          },
          "metadata": {},
          "execution_count": 34
        }
      ]
    },
    {
      "cell_type": "code",
      "source": [
        "save_variable(df_text, 'df_text')"
      ],
      "metadata": {
        "id": "HPv761fdnuHV"
      },
      "execution_count": 35,
      "outputs": []
    },
    {
      "cell_type": "markdown",
      "source": [
        "# 0.3 (Optional) Load \"df_text\""
      ],
      "metadata": {
        "id": "v1UU_t-0aVQv"
      }
    },
    {
      "cell_type": "code",
      "source": [
        "! pwd"
      ],
      "metadata": {
        "colab": {
          "base_uri": "https://localhost:8080/"
        },
        "id": "NVLyOMucar-J",
        "outputId": "931cb44e-ed85-40c1-9b7c-d96827734518"
      },
      "execution_count": 13,
      "outputs": [
        {
          "output_type": "stream",
          "name": "stdout",
          "text": [
            "/content/drive/MyDrive/url_classification\n"
          ]
        }
      ]
    },
    {
      "cell_type": "code",
      "source": [
        "# ! mkdir saved_variables"
      ],
      "metadata": {
        "id": "RBPhTxUGauue"
      },
      "execution_count": 14,
      "outputs": []
    },
    {
      "cell_type": "code",
      "source": [
        "# check_if_exists('df_text')"
      ],
      "metadata": {
        "id": "JoVXG2mDghBD"
      },
      "execution_count": 15,
      "outputs": []
    },
    {
      "cell_type": "code",
      "source": [
        "# save_variable(df_text, 'df_text')"
      ],
      "metadata": {
        "id": "HRoV3X1yk7RG"
      },
      "execution_count": 16,
      "outputs": []
    },
    {
      "cell_type": "code",
      "source": [
        "# del df_text"
      ],
      "metadata": {
        "id": "i6JEAFwbkhgj"
      },
      "execution_count": 17,
      "outputs": []
    },
    {
      "cell_type": "code",
      "source": [
        "check_if_exists('df_text')"
      ],
      "metadata": {
        "colab": {
          "base_uri": "https://localhost:8080/"
        },
        "id": "GII4oRIMbBff",
        "outputId": "7cb68926-5892-433c-877e-2be6ca13f716"
      },
      "execution_count": 18,
      "outputs": [
        {
          "output_type": "stream",
          "name": "stdout",
          "text": [
            "Variable \"df_text\" does not exist.\n"
          ]
        }
      ]
    },
    {
      "cell_type": "code",
      "source": [
        "df_text = read_variable('df_text')"
      ],
      "metadata": {
        "id": "4lyqq7GtksTG"
      },
      "execution_count": 19,
      "outputs": []
    },
    {
      "cell_type": "code",
      "source": [
        "check_if_exists('df_text')"
      ],
      "metadata": {
        "colab": {
          "base_uri": "https://localhost:8080/"
        },
        "id": "uZZn2pLhja-O",
        "outputId": "5472059a-76fa-4504-ddd3-fa9a0b66f5c0"
      },
      "execution_count": 20,
      "outputs": [
        {
          "output_type": "stream",
          "name": "stdout",
          "text": [
            "Variable \"df_text\" exists.\n"
          ]
        }
      ]
    },
    {
      "cell_type": "code",
      "source": [
        "df_text"
      ],
      "metadata": {
        "colab": {
          "base_uri": "https://localhost:8080/",
          "height": 0
        },
        "id": "rNqkD8mJjbHt",
        "outputId": "6dcf5ac9-0fbe-4fe0-8dde-28d82e7d245e"
      },
      "execution_count": 21,
      "outputs": [
        {
          "output_type": "execute_result",
          "data": {
            "text/plain": [
              "                                                  text         label  \\\n",
              "0    Write For Us. Want to Write for Us?  Digital L...          MISC   \n",
              "1    Write for Us. Yes, you. We’re always looking f...          MISC   \n",
              "2    FAQs for some new features available in the Be...          Blog   \n",
              "3    The Web Credibility Project. Our research in W...     Home Page   \n",
              "4    Model DJs for Retail. DJPeoples is the nation’...          MISC   \n",
              "..                                                 ...           ...   \n",
              "326  Teach Yourself Visually Search Engine Optimiza...  Product Page   \n",
              "327  The Art of SEO, 2nd Edition. Four acknowledged...  Product Page   \n",
              "328  Submit A Guest Post – Guidelines (Write for Us...          MISC   \n",
              "329  Fully Managed Magento Hosting — JetRails. Full...          MISC   \n",
              "330  Mission-Critical Hosting For Magento Open Sour...          MISC   \n",
              "\n",
              "                                          cleaned_text  \\\n",
              "0    Write For Us Want Write Us Digital Lamp one fa...   \n",
              "1    Write Us Yes Were always looking new authors I...   \n",
              "2    FAQs new features available Beta Wayback Machi...   \n",
              "3    The Web Credibility Project Our research Web c...   \n",
              "4    Model DJs Retail DJPeoples nations premier age...   \n",
              "..                                                 ...   \n",
              "326  Teach Yourself Visually Search Engine Optimiza...   \n",
              "327  The Art SEO 2nd Edition Four acknowledged expe...   \n",
              "328  Submit A Guest Post Guidelines Write Us We acc...   \n",
              "329  Fully Managed Magento Hosting JetRails Fully M...   \n",
              "330  MissionCritical Hosting For Magento Open Sourc...   \n",
              "\n",
              "                                       lemmatized_text  \\\n",
              "0    write for we . want to write for we ?   Digita...   \n",
              "1    write for we . yes , you . we ’re always look ...   \n",
              "2    FAQs for some new feature available in the Bet...   \n",
              "3    the web Credibility Project . our research in ...   \n",
              "4    Model dj for Retail . djpeople be the nation ’...   \n",
              "..                                                 ...   \n",
              "326  teach yourself Visually Search Engine Optimiza...   \n",
              "327  the art of seo , 2nd Edition . four acknowledg...   \n",
              "328  submit a Guest Post – Guidelines ( write for U...   \n",
              "329  fully manage Magento Hosting — JetRails . full...   \n",
              "330  mission - Critical Hosting for Magento Open So...   \n",
              "\n",
              "                               lemmatized_cleaned_text  \\\n",
              "0    write want write Digital Lamp one fast grow te...   \n",
              "1    write yes always look new author get idea chal...   \n",
              "2    FAQs new feature available Beta Wayback Machin...   \n",
              "3    web Credibility Project research web credibili...   \n",
              "4    Model dj Retail djpeople nation premier agency...   \n",
              "..                                                 ...   \n",
              "326  teach Visually Search Engine Optimization whet...   \n",
              "327  art seo 2nd Edition four acknowledge expert se...   \n",
              "328  submit Guest Post Guidelines write Us accept G...   \n",
              "329  fully manage Magento Hosting JetRails fully ma...   \n",
              "330  mission Critical Hosting Magento Open Source A...   \n",
              "\n",
              "                                              w2v_text  \n",
              "0    write for us . want to write for us ?   digita...  \n",
              "1    write for us . yes , you . we ’re always looki...  \n",
              "2    faqs for some new features available in the be...  \n",
              "3    the web credibility project . our research in ...  \n",
              "4    model djs for retail . djpeoples is the nation...  \n",
              "..                                                 ...  \n",
              "326  teach yourself visually search engine optimiza...  \n",
              "327  the art of seo , 2nd edition . four acknowledg...  \n",
              "328  submit a guest post – guidelines ( write for u...  \n",
              "329  fully managed magento hosting — jetrails . ful...  \n",
              "330  mission - critical hosting for magento open so...  \n",
              "\n",
              "[331 rows x 6 columns]"
            ],
            "text/html": [
              "\n",
              "  <div id=\"df-df2fd553-6130-43f9-bf7f-6de403e4844d\">\n",
              "    <div class=\"colab-df-container\">\n",
              "      <div>\n",
              "<style scoped>\n",
              "    .dataframe tbody tr th:only-of-type {\n",
              "        vertical-align: middle;\n",
              "    }\n",
              "\n",
              "    .dataframe tbody tr th {\n",
              "        vertical-align: top;\n",
              "    }\n",
              "\n",
              "    .dataframe thead th {\n",
              "        text-align: right;\n",
              "    }\n",
              "</style>\n",
              "<table border=\"1\" class=\"dataframe\">\n",
              "  <thead>\n",
              "    <tr style=\"text-align: right;\">\n",
              "      <th></th>\n",
              "      <th>text</th>\n",
              "      <th>label</th>\n",
              "      <th>cleaned_text</th>\n",
              "      <th>lemmatized_text</th>\n",
              "      <th>lemmatized_cleaned_text</th>\n",
              "      <th>w2v_text</th>\n",
              "    </tr>\n",
              "  </thead>\n",
              "  <tbody>\n",
              "    <tr>\n",
              "      <th>0</th>\n",
              "      <td>Write For Us. Want to Write for Us?  Digital L...</td>\n",
              "      <td>MISC</td>\n",
              "      <td>Write For Us Want Write Us Digital Lamp one fa...</td>\n",
              "      <td>write for we . want to write for we ?   Digita...</td>\n",
              "      <td>write want write Digital Lamp one fast grow te...</td>\n",
              "      <td>write for us . want to write for us ?   digita...</td>\n",
              "    </tr>\n",
              "    <tr>\n",
              "      <th>1</th>\n",
              "      <td>Write for Us. Yes, you. We’re always looking f...</td>\n",
              "      <td>MISC</td>\n",
              "      <td>Write Us Yes Were always looking new authors I...</td>\n",
              "      <td>write for we . yes , you . we ’re always look ...</td>\n",
              "      <td>write yes always look new author get idea chal...</td>\n",
              "      <td>write for us . yes , you . we ’re always looki...</td>\n",
              "    </tr>\n",
              "    <tr>\n",
              "      <th>2</th>\n",
              "      <td>FAQs for some new features available in the Be...</td>\n",
              "      <td>Blog</td>\n",
              "      <td>FAQs new features available Beta Wayback Machi...</td>\n",
              "      <td>FAQs for some new feature available in the Bet...</td>\n",
              "      <td>FAQs new feature available Beta Wayback Machin...</td>\n",
              "      <td>faqs for some new features available in the be...</td>\n",
              "    </tr>\n",
              "    <tr>\n",
              "      <th>3</th>\n",
              "      <td>The Web Credibility Project. Our research in W...</td>\n",
              "      <td>Home Page</td>\n",
              "      <td>The Web Credibility Project Our research Web c...</td>\n",
              "      <td>the web Credibility Project . our research in ...</td>\n",
              "      <td>web Credibility Project research web credibili...</td>\n",
              "      <td>the web credibility project . our research in ...</td>\n",
              "    </tr>\n",
              "    <tr>\n",
              "      <th>4</th>\n",
              "      <td>Model DJs for Retail. DJPeoples is the nation’...</td>\n",
              "      <td>MISC</td>\n",
              "      <td>Model DJs Retail DJPeoples nations premier age...</td>\n",
              "      <td>Model dj for Retail . djpeople be the nation ’...</td>\n",
              "      <td>Model dj Retail djpeople nation premier agency...</td>\n",
              "      <td>model djs for retail . djpeoples is the nation...</td>\n",
              "    </tr>\n",
              "    <tr>\n",
              "      <th>...</th>\n",
              "      <td>...</td>\n",
              "      <td>...</td>\n",
              "      <td>...</td>\n",
              "      <td>...</td>\n",
              "      <td>...</td>\n",
              "      <td>...</td>\n",
              "    </tr>\n",
              "    <tr>\n",
              "      <th>326</th>\n",
              "      <td>Teach Yourself Visually Search Engine Optimiza...</td>\n",
              "      <td>Product Page</td>\n",
              "      <td>Teach Yourself Visually Search Engine Optimiza...</td>\n",
              "      <td>teach yourself Visually Search Engine Optimiza...</td>\n",
              "      <td>teach Visually Search Engine Optimization whet...</td>\n",
              "      <td>teach yourself visually search engine optimiza...</td>\n",
              "    </tr>\n",
              "    <tr>\n",
              "      <th>327</th>\n",
              "      <td>The Art of SEO, 2nd Edition. Four acknowledged...</td>\n",
              "      <td>Product Page</td>\n",
              "      <td>The Art SEO 2nd Edition Four acknowledged expe...</td>\n",
              "      <td>the art of seo , 2nd Edition . four acknowledg...</td>\n",
              "      <td>art seo 2nd Edition four acknowledge expert se...</td>\n",
              "      <td>the art of seo , 2nd edition . four acknowledg...</td>\n",
              "    </tr>\n",
              "    <tr>\n",
              "      <th>328</th>\n",
              "      <td>Submit A Guest Post – Guidelines (Write for Us...</td>\n",
              "      <td>MISC</td>\n",
              "      <td>Submit A Guest Post Guidelines Write Us We acc...</td>\n",
              "      <td>submit a Guest Post – Guidelines ( write for U...</td>\n",
              "      <td>submit Guest Post Guidelines write Us accept G...</td>\n",
              "      <td>submit a guest post – guidelines ( write for u...</td>\n",
              "    </tr>\n",
              "    <tr>\n",
              "      <th>329</th>\n",
              "      <td>Fully Managed Magento Hosting — JetRails. Full...</td>\n",
              "      <td>MISC</td>\n",
              "      <td>Fully Managed Magento Hosting JetRails Fully M...</td>\n",
              "      <td>fully manage Magento Hosting — JetRails . full...</td>\n",
              "      <td>fully manage Magento Hosting JetRails fully ma...</td>\n",
              "      <td>fully managed magento hosting — jetrails . ful...</td>\n",
              "    </tr>\n",
              "    <tr>\n",
              "      <th>330</th>\n",
              "      <td>Mission-Critical Hosting For Magento Open Sour...</td>\n",
              "      <td>MISC</td>\n",
              "      <td>MissionCritical Hosting For Magento Open Sourc...</td>\n",
              "      <td>mission - Critical Hosting for Magento Open So...</td>\n",
              "      <td>mission Critical Hosting Magento Open Source A...</td>\n",
              "      <td>mission - critical hosting for magento open so...</td>\n",
              "    </tr>\n",
              "  </tbody>\n",
              "</table>\n",
              "<p>331 rows × 6 columns</p>\n",
              "</div>\n",
              "      <button class=\"colab-df-convert\" onclick=\"convertToInteractive('df-df2fd553-6130-43f9-bf7f-6de403e4844d')\"\n",
              "              title=\"Convert this dataframe to an interactive table.\"\n",
              "              style=\"display:none;\">\n",
              "        \n",
              "  <svg xmlns=\"http://www.w3.org/2000/svg\" height=\"24px\"viewBox=\"0 0 24 24\"\n",
              "       width=\"24px\">\n",
              "    <path d=\"M0 0h24v24H0V0z\" fill=\"none\"/>\n",
              "    <path d=\"M18.56 5.44l.94 2.06.94-2.06 2.06-.94-2.06-.94-.94-2.06-.94 2.06-2.06.94zm-11 1L8.5 8.5l.94-2.06 2.06-.94-2.06-.94L8.5 2.5l-.94 2.06-2.06.94zm10 10l.94 2.06.94-2.06 2.06-.94-2.06-.94-.94-2.06-.94 2.06-2.06.94z\"/><path d=\"M17.41 7.96l-1.37-1.37c-.4-.4-.92-.59-1.43-.59-.52 0-1.04.2-1.43.59L10.3 9.45l-7.72 7.72c-.78.78-.78 2.05 0 2.83L4 21.41c.39.39.9.59 1.41.59.51 0 1.02-.2 1.41-.59l7.78-7.78 2.81-2.81c.8-.78.8-2.07 0-2.86zM5.41 20L4 18.59l7.72-7.72 1.47 1.35L5.41 20z\"/>\n",
              "  </svg>\n",
              "      </button>\n",
              "      \n",
              "  <style>\n",
              "    .colab-df-container {\n",
              "      display:flex;\n",
              "      flex-wrap:wrap;\n",
              "      gap: 12px;\n",
              "    }\n",
              "\n",
              "    .colab-df-convert {\n",
              "      background-color: #E8F0FE;\n",
              "      border: none;\n",
              "      border-radius: 50%;\n",
              "      cursor: pointer;\n",
              "      display: none;\n",
              "      fill: #1967D2;\n",
              "      height: 32px;\n",
              "      padding: 0 0 0 0;\n",
              "      width: 32px;\n",
              "    }\n",
              "\n",
              "    .colab-df-convert:hover {\n",
              "      background-color: #E2EBFA;\n",
              "      box-shadow: 0px 1px 2px rgba(60, 64, 67, 0.3), 0px 1px 3px 1px rgba(60, 64, 67, 0.15);\n",
              "      fill: #174EA6;\n",
              "    }\n",
              "\n",
              "    [theme=dark] .colab-df-convert {\n",
              "      background-color: #3B4455;\n",
              "      fill: #D2E3FC;\n",
              "    }\n",
              "\n",
              "    [theme=dark] .colab-df-convert:hover {\n",
              "      background-color: #434B5C;\n",
              "      box-shadow: 0px 1px 3px 1px rgba(0, 0, 0, 0.15);\n",
              "      filter: drop-shadow(0px 1px 2px rgba(0, 0, 0, 0.3));\n",
              "      fill: #FFFFFF;\n",
              "    }\n",
              "  </style>\n",
              "\n",
              "      <script>\n",
              "        const buttonEl =\n",
              "          document.querySelector('#df-df2fd553-6130-43f9-bf7f-6de403e4844d button.colab-df-convert');\n",
              "        buttonEl.style.display =\n",
              "          google.colab.kernel.accessAllowed ? 'block' : 'none';\n",
              "\n",
              "        async function convertToInteractive(key) {\n",
              "          const element = document.querySelector('#df-df2fd553-6130-43f9-bf7f-6de403e4844d');\n",
              "          const dataTable =\n",
              "            await google.colab.kernel.invokeFunction('convertToInteractive',\n",
              "                                                     [key], {});\n",
              "          if (!dataTable) return;\n",
              "\n",
              "          const docLinkHtml = 'Like what you see? Visit the ' +\n",
              "            '<a target=\"_blank\" href=https://colab.research.google.com/notebooks/data_table.ipynb>data table notebook</a>'\n",
              "            + ' to learn more about interactive tables.';\n",
              "          element.innerHTML = '';\n",
              "          dataTable['output_type'] = 'display_data';\n",
              "          await google.colab.output.renderOutput(dataTable, element);\n",
              "          const docLink = document.createElement('div');\n",
              "          docLink.innerHTML = docLinkHtml;\n",
              "          element.appendChild(docLink);\n",
              "        }\n",
              "      </script>\n",
              "    </div>\n",
              "  </div>\n",
              "  "
            ]
          },
          "metadata": {},
          "execution_count": 21
        }
      ]
    },
    {
      "cell_type": "markdown",
      "source": [
        "# 1. Bag of Words approach"
      ],
      "metadata": {
        "id": "hi5Q4K3TXrVa"
      }
    },
    {
      "cell_type": "markdown",
      "source": [
        "## Preprocessing"
      ],
      "metadata": {
        "id": "VgRRupt9X9DS"
      }
    },
    {
      "cell_type": "code",
      "source": [
        "labels_encoded = {'Home Page': 0, 'Blog': 1, 'MISC': 2, 'Product Page': 3}\n",
        "df_text[TARGET] = df_text[TARGET].replace(labels_encoded)"
      ],
      "metadata": {
        "id": "G04qGtYSbt6Q"
      },
      "execution_count": 25,
      "outputs": []
    },
    {
      "cell_type": "code",
      "source": [
        "# Cell 9\n",
        "test_size = 0.2\n",
        "random_state = 0\n",
        "\n",
        "# Important cell # 9\n",
        "column_used = 'lemmatized_cleaned_text'\n",
        "\n",
        "X = df_text[[column_used]]\n",
        "y = df_text[TARGET]\n",
        "\n",
        "X_train, X_test, y_train, y_test = train_test_split(X, y, \n",
        "                                                    test_size=test_size,\n",
        "                                                    stratify=y, \n",
        "                                                    random_state=random_state)"
      ],
      "metadata": {
        "id": "qLNr3vkKeDOh"
      },
      "execution_count": 26,
      "outputs": []
    },
    {
      "cell_type": "code",
      "source": [
        "X_train.shape, X_test.shape, y_train.shape, y_test.shape"
      ],
      "metadata": {
        "colab": {
          "base_uri": "https://localhost:8080/"
        },
        "id": "lW1bYeP4bGve",
        "outputId": "f872bfa9-1d01-4032-ce84-2838460316c6"
      },
      "execution_count": 27,
      "outputs": [
        {
          "output_type": "execute_result",
          "data": {
            "text/plain": [
              "((264, 1), (67, 1), (264,), (67,))"
            ]
          },
          "metadata": {},
          "execution_count": 27
        }
      ]
    },
    {
      "cell_type": "code",
      "source": [
        "# Important cell # 10\n",
        "majority_class = y_train.value_counts().index[0]\n",
        "baseline_accuracy = sum(y_test == majority_class) / len(y_test)\n",
        "print(f'Baseline accuracy: {baseline_accuracy:.4f}')"
      ],
      "metadata": {
        "colab": {
          "base_uri": "https://localhost:8080/"
        },
        "id": "Kbj-QbqheG4C",
        "outputId": "4e825d07-481f-4398-b1e2-6999354fe831"
      },
      "execution_count": 31,
      "outputs": [
        {
          "output_type": "stream",
          "name": "stdout",
          "text": [
            "Baseline accuracy: 0.3881\n"
          ]
        }
      ]
    },
    {
      "cell_type": "code",
      "source": [
        "get_most_common_tokens(df=df_text, column='lemmatized_cleaned_text', amount=10)"
      ],
      "metadata": {
        "colab": {
          "base_uri": "https://localhost:8080/"
        },
        "id": "mb-sAzBJeG6t",
        "outputId": "e870b2aa-a1d4-42f1-80dd-cdb8d03130df"
      },
      "execution_count": 32,
      "outputs": [
        {
          "output_type": "execute_result",
          "data": {
            "text/plain": [
              "[('use', 1333),\n",
              " ('content', 1247),\n",
              " ('I', 1163),\n",
              " ('post', 1096),\n",
              " ('get', 920),\n",
              " ('make', 908),\n",
              " ('search', 856),\n",
              " ('page', 839),\n",
              " ('write', 796),\n",
              " ('keyword', 785)]"
            ]
          },
          "metadata": {},
          "execution_count": 32
        }
      ]
    },
    {
      "cell_type": "code",
      "source": [
        "# Important cell # 11\n",
        "vectorizer = TfidfVectorizer(ngram_range=(1, 3))\n",
        "X_train_tr = vectorizer.fit_transform(X_train[column_used])\n",
        "X_test_tr = vectorizer.transform(X_test[column_used])"
      ],
      "metadata": {
        "id": "C2hZ0HxiVPc7"
      },
      "execution_count": 33,
      "outputs": []
    },
    {
      "cell_type": "code",
      "source": [
        "X_train_tr.toarray().shape, X_test_tr.toarray().shape"
      ],
      "metadata": {
        "id": "qZ3g9StMLuVL",
        "colab": {
          "base_uri": "https://localhost:8080/"
        },
        "outputId": "3036a4b4-75da-47b6-851c-ed37dd95e652"
      },
      "execution_count": 34,
      "outputs": [
        {
          "output_type": "execute_result",
          "data": {
            "text/plain": [
              "((264, 224086), (67, 224086))"
            ]
          },
          "metadata": {},
          "execution_count": 34
        }
      ]
    },
    {
      "cell_type": "code",
      "source": [
        "# import string\n",
        "\n",
        "# # STOPWORDS = stop_words.ENGLISH_STOP_WORDS\n",
        "\n",
        "# #Function for basic cleaning/preprocessing texts\n",
        "# def clean(doc):\n",
        "#     # Removal of punctuation marks (.,/\\][{} etc) and numbers\n",
        "#     doc = \"\".join([char for char in doc if char not in string.punctuation and not char.isdigit()])\n",
        "#     # Removal of stopwords\n",
        "#     doc = \" \".join([token for token in doc.split() if token not in STOPWORDS])\n",
        "#     return doc.lower()\n",
        "\n",
        "# string.punctuation"
      ],
      "metadata": {
        "id": "JOjyg4MA8dIJ"
      },
      "execution_count": 44,
      "outputs": []
    },
    {
      "cell_type": "markdown",
      "source": [
        "## Modeling"
      ],
      "metadata": {
        "id": "u3EYegdLd7v7"
      }
    },
    {
      "cell_type": "code",
      "source": [
        "clfs = [\n",
        "    ('LogisticRegression', LogisticRegression(max_iter=3000,\n",
        "                                              class_weight='balanced')), \n",
        "    ('RandomForest', RandomForestClassifier(max_depth=18,\n",
        "                                            n_estimators=75,\n",
        "                                            random_state=0)), \n",
        "    ('KNN 5', KNeighborsClassifier(n_neighbors=5)),\n",
        "    # ('KNN 7', KNeighborsClassifier(n_neighbors=7)),\n",
        "    # ('KNN 12', KNeighborsClassifier(n_neighbors=12)),\n",
        "    # ('KNN 20', KNeighborsClassifier(n_neighbors=20)),\n",
        "    ('SVM C1', SVC(C=1, \n",
        "                   class_weight='balanced')),\n",
        "    ('MultinomialNB', MultinomialNB())\n",
        "]"
      ],
      "metadata": {
        "id": "0aVfjqrWeA0q"
      },
      "execution_count": 42,
      "outputs": []
    },
    {
      "cell_type": "code",
      "source": [
        "def print_train_val_len_start(train_index, val_index):\n",
        "    print(f'TRAIN index len: {len(train_index)}, start: {train_index[:3]}, '\n",
        "          f'\\tVALIDATION index len: {len(val_index)}, start: {val_index[:3]}')\n",
        "\n",
        "def print_val_scores(scores, extra_info=False):\n",
        "    print(f'Cross validation scores: mean: {np.mean(scores):.3f}, all: {[round(score, 3) for score in scores]}')\n",
        "    if extra_info:\n",
        "        print('(std: {np.std(scores):.3f}, min: {min(scores):.3f}, max: {max(scores):.3f})')"
      ],
      "metadata": {
        "id": "_kKtJfaFcSYW"
      },
      "execution_count": 36,
      "outputs": []
    },
    {
      "cell_type": "code",
      "source": [
        "print('\\nStratifiedKFold:\\n')\n",
        "skf = StratifiedKFold(n_splits=5)\n",
        "for train_index, val_index in skf.split(X_train_tr, y_train):\n",
        "    print_train_val_len_start(train_index, val_index)\n",
        "    print(f'\\tMean y: TRAIN: {y_train.iloc[train_index].mean():.3f},\\tVALIDATION: {y_train.iloc[val_index].mean():.3f}')\n",
        "\n",
        "scores = cross_val_score(LogisticRegression(class_weight='balanced', max_iter=3000), \n",
        "                         X_train_tr,\n",
        "                         y_train,\n",
        "                         cv=5)\n",
        "\n",
        "print_val_scores(scores)"
      ],
      "metadata": {
        "colab": {
          "base_uri": "https://localhost:8080/"
        },
        "id": "GcwGnqJleztL",
        "outputId": "82b4f51c-9508-47f0-c330-8a6453fad0fb"
      },
      "execution_count": 53,
      "outputs": [
        {
          "output_type": "stream",
          "name": "stdout",
          "text": [
            "\n",
            "StratifiedKFold:\n",
            "\n",
            "TRAIN index len: 211, start: [45 47 49], \tVALIDATION index len: 53, start: [0 1 2]\n",
            "\tMean y: TRAIN: 1.118,\tVALIDATION: 1.113\n",
            "TRAIN index len: 211, start: [0 1 2], \tVALIDATION index len: 53, start: [45 47 49]\n",
            "\tMean y: TRAIN: 1.123,\tVALIDATION: 1.094\n",
            "TRAIN index len: 211, start: [0 1 2], \tVALIDATION index len: 53, start: [ 91  99 101]\n",
            "\tMean y: TRAIN: 1.114,\tVALIDATION: 1.132\n",
            "TRAIN index len: 211, start: [0 1 2], \tVALIDATION index len: 53, start: [140 148 149]\n",
            "\tMean y: TRAIN: 1.114,\tVALIDATION: 1.132\n",
            "TRAIN index len: 212, start: [0 1 2], \tVALIDATION index len: 52, start: [181 183 188]\n",
            "\tMean y: TRAIN: 1.118,\tVALIDATION: 1.115\n",
            "Cross validation scores: mean: 0.746, all: [0.755, 0.755, 0.679, 0.755, 0.788]\n"
          ]
        }
      ]
    },
    {
      "cell_type": "code",
      "source": [
        "for clf in clfs:\n",
        "  print(f'\\nStratifiedKFold - classifier: {clf[0]}:\\n')\n",
        "  skf = StratifiedKFold(n_splits=5)\n",
        "  for train_index, val_index in skf.split(X_train_tr, y_train):\n",
        "      print_train_val_len_start(train_index, val_index)\n",
        "      print(f'\\tMean y: TRAIN: {y_train.iloc[train_index].mean():.3f},\\tVALIDATION: {y_train.iloc[val_index].mean():.3f}')\n",
        "\n",
        "  scores = cross_val_score(clf[1], \n",
        "                          X_train_tr,\n",
        "                          y_train,\n",
        "                          cv=5)\n",
        "  \n",
        "  print_val_scores(scores)"
      ],
      "metadata": {
        "colab": {
          "base_uri": "https://localhost:8080/"
        },
        "id": "sGv5ZSL6f0Db",
        "outputId": "8cb82add-8b75-446a-e45c-73e773321324"
      },
      "execution_count": 51,
      "outputs": [
        {
          "output_type": "stream",
          "name": "stdout",
          "text": [
            "\n",
            "StratifiedKFold - classifier: LogisticRegression:\n",
            "\n",
            "TRAIN index len: 211, start: [45 47 49], \tVALIDATION index len: 53, start: [0 1 2]\n",
            "\tMean y: TRAIN: 1.118,\tVALIDATION: 1.113\n",
            "TRAIN index len: 211, start: [0 1 2], \tVALIDATION index len: 53, start: [45 47 49]\n",
            "\tMean y: TRAIN: 1.123,\tVALIDATION: 1.094\n",
            "TRAIN index len: 211, start: [0 1 2], \tVALIDATION index len: 53, start: [ 91  99 101]\n",
            "\tMean y: TRAIN: 1.114,\tVALIDATION: 1.132\n",
            "TRAIN index len: 211, start: [0 1 2], \tVALIDATION index len: 53, start: [140 148 149]\n",
            "\tMean y: TRAIN: 1.114,\tVALIDATION: 1.132\n",
            "TRAIN index len: 212, start: [0 1 2], \tVALIDATION index len: 52, start: [181 183 188]\n",
            "\tMean y: TRAIN: 1.118,\tVALIDATION: 1.115\n",
            "Cross validation scores: mean: 0.746, all: [0.755, 0.755, 0.679, 0.755, 0.788]\n",
            "\n",
            "StratifiedKFold - classifier: RandomForest:\n",
            "\n",
            "TRAIN index len: 211, start: [45 47 49], \tVALIDATION index len: 53, start: [0 1 2]\n",
            "\tMean y: TRAIN: 1.118,\tVALIDATION: 1.113\n",
            "TRAIN index len: 211, start: [0 1 2], \tVALIDATION index len: 53, start: [45 47 49]\n",
            "\tMean y: TRAIN: 1.123,\tVALIDATION: 1.094\n",
            "TRAIN index len: 211, start: [0 1 2], \tVALIDATION index len: 53, start: [ 91  99 101]\n",
            "\tMean y: TRAIN: 1.114,\tVALIDATION: 1.132\n",
            "TRAIN index len: 211, start: [0 1 2], \tVALIDATION index len: 53, start: [140 148 149]\n",
            "\tMean y: TRAIN: 1.114,\tVALIDATION: 1.132\n",
            "TRAIN index len: 212, start: [0 1 2], \tVALIDATION index len: 52, start: [181 183 188]\n",
            "\tMean y: TRAIN: 1.118,\tVALIDATION: 1.115\n",
            "Cross validation scores: mean: 0.708, all: [0.717, 0.792, 0.679, 0.679, 0.673]\n",
            "\n",
            "StratifiedKFold - classifier: KNN 5:\n",
            "\n",
            "TRAIN index len: 211, start: [45 47 49], \tVALIDATION index len: 53, start: [0 1 2]\n",
            "\tMean y: TRAIN: 1.118,\tVALIDATION: 1.113\n",
            "TRAIN index len: 211, start: [0 1 2], \tVALIDATION index len: 53, start: [45 47 49]\n",
            "\tMean y: TRAIN: 1.123,\tVALIDATION: 1.094\n",
            "TRAIN index len: 211, start: [0 1 2], \tVALIDATION index len: 53, start: [ 91  99 101]\n",
            "\tMean y: TRAIN: 1.114,\tVALIDATION: 1.132\n",
            "TRAIN index len: 211, start: [0 1 2], \tVALIDATION index len: 53, start: [140 148 149]\n",
            "\tMean y: TRAIN: 1.114,\tVALIDATION: 1.132\n",
            "TRAIN index len: 212, start: [0 1 2], \tVALIDATION index len: 52, start: [181 183 188]\n",
            "\tMean y: TRAIN: 1.118,\tVALIDATION: 1.115\n",
            "Cross validation scores: mean: 0.477, all: [0.472, 0.491, 0.453, 0.472, 0.5]\n",
            "\n",
            "StratifiedKFold - classifier: SVM C1:\n",
            "\n",
            "TRAIN index len: 211, start: [45 47 49], \tVALIDATION index len: 53, start: [0 1 2]\n",
            "\tMean y: TRAIN: 1.118,\tVALIDATION: 1.113\n",
            "TRAIN index len: 211, start: [0 1 2], \tVALIDATION index len: 53, start: [45 47 49]\n",
            "\tMean y: TRAIN: 1.123,\tVALIDATION: 1.094\n",
            "TRAIN index len: 211, start: [0 1 2], \tVALIDATION index len: 53, start: [ 91  99 101]\n",
            "\tMean y: TRAIN: 1.114,\tVALIDATION: 1.132\n",
            "TRAIN index len: 211, start: [0 1 2], \tVALIDATION index len: 53, start: [140 148 149]\n",
            "\tMean y: TRAIN: 1.114,\tVALIDATION: 1.132\n",
            "TRAIN index len: 212, start: [0 1 2], \tVALIDATION index len: 52, start: [181 183 188]\n",
            "\tMean y: TRAIN: 1.118,\tVALIDATION: 1.115\n",
            "Cross validation scores: mean: 0.579, all: [0.623, 0.566, 0.585, 0.566, 0.558]\n",
            "\n",
            "StratifiedKFold - classifier: MultinomialNB:\n",
            "\n",
            "TRAIN index len: 211, start: [45 47 49], \tVALIDATION index len: 53, start: [0 1 2]\n",
            "\tMean y: TRAIN: 1.118,\tVALIDATION: 1.113\n",
            "TRAIN index len: 211, start: [0 1 2], \tVALIDATION index len: 53, start: [45 47 49]\n",
            "\tMean y: TRAIN: 1.123,\tVALIDATION: 1.094\n",
            "TRAIN index len: 211, start: [0 1 2], \tVALIDATION index len: 53, start: [ 91  99 101]\n",
            "\tMean y: TRAIN: 1.114,\tVALIDATION: 1.132\n",
            "TRAIN index len: 211, start: [0 1 2], \tVALIDATION index len: 53, start: [140 148 149]\n",
            "\tMean y: TRAIN: 1.114,\tVALIDATION: 1.132\n",
            "TRAIN index len: 212, start: [0 1 2], \tVALIDATION index len: 52, start: [181 183 188]\n",
            "\tMean y: TRAIN: 1.118,\tVALIDATION: 1.115\n",
            "Cross validation scores: mean: 0.705, all: [0.736, 0.698, 0.642, 0.698, 0.75]\n"
          ]
        }
      ]
    },
    {
      "cell_type": "code",
      "source": [
        "y_train.value_counts(normalize=True)"
      ],
      "metadata": {
        "colab": {
          "base_uri": "https://localhost:8080/"
        },
        "id": "oUhJFFWQc9vk",
        "outputId": "6a89c0ea-4fd8-48d4-84c5-abf6a319ece3"
      },
      "execution_count": 41,
      "outputs": [
        {
          "output_type": "execute_result",
          "data": {
            "text/plain": [
              "0    0.382576\n",
              "1    0.250000\n",
              "2    0.234848\n",
              "3    0.132576\n",
              "Name: label, dtype: float64"
            ]
          },
          "metadata": {},
          "execution_count": 41
        }
      ]
    },
    {
      "cell_type": "code",
      "source": [
        "y_test.value_counts(normalize=True)"
      ],
      "metadata": {
        "colab": {
          "base_uri": "https://localhost:8080/"
        },
        "id": "fb029ZA_dA2k",
        "outputId": "1110fa76-1366-4b35-a378-962d9e07dcac"
      },
      "execution_count": 40,
      "outputs": [
        {
          "output_type": "execute_result",
          "data": {
            "text/plain": [
              "0    0.388060\n",
              "1    0.253731\n",
              "2    0.223881\n",
              "3    0.134328\n",
              "Name: label, dtype: float64"
            ]
          },
          "metadata": {},
          "execution_count": 40
        }
      ]
    },
    {
      "cell_type": "code",
      "source": [],
      "metadata": {
        "id": "NyIJFIxmdA7z"
      },
      "execution_count": null,
      "outputs": []
    },
    {
      "cell_type": "code",
      "source": [],
      "metadata": {
        "id": "8iqhC1azdBAn"
      },
      "execution_count": null,
      "outputs": []
    },
    {
      "cell_type": "markdown",
      "source": [
        "Just checking results without CV:"
      ],
      "metadata": {
        "id": "A8SShZlAiM-s"
      }
    },
    {
      "cell_type": "code",
      "source": [
        "# clf, clf_name, val_acc = get_best_clf(clfs, X_train, X_test, y_train, y_test) # To use when I have more data for validation set\n",
        "# print(f'Best classifier: {clf_name}, validation accuracy: {val_acc:.3f}, '\n",
        "#       f'test accuracy: {clf.score(X_test, y_test):.3f}')\n",
        "\n",
        "clf, clf_name, test_acc = get_best_clf(clfs, X_train_tr, X_test_tr, y_train, y_test)\n",
        "print(f'Best classifier: {clf_name}, test accuracy: {test_acc:.3f}')"
      ],
      "metadata": {
        "id": "aGg_SS1hW1yw",
        "colab": {
          "base_uri": "https://localhost:8080/"
        },
        "outputId": "4dafa471-f1f3-4f64-fe84-0f9b28a2ae83"
      },
      "execution_count": 45,
      "outputs": [
        {
          "output_type": "stream",
          "name": "stdout",
          "text": [
            "                    accuracy\n",
            "clf                         \n",
            "LogisticRegression  0.656716\n",
            "RandomForest        0.716418\n",
            "KNN 5               0.447761\n",
            "SVM C1              0.671642\n",
            "MultinomialNB       0.537313\n",
            "Best classifier: RandomForest, test accuracy: 0.716\n"
          ]
        }
      ]
    },
    {
      "cell_type": "code",
      "source": [
        "clf = fit_model(SVC(C=1, \n",
        "                    class_weight='balanced'\n",
        "                    ),\n",
        "                X_train_tr, \n",
        "                y_train)\n",
        "\n",
        "y_pred = predict(clf, X_test_tr)\n",
        "\n",
        "print_confusion_matrix(y_test, y_pred, with_report=True)"
      ],
      "metadata": {
        "colab": {
          "base_uri": "https://localhost:8080/",
          "height": 511
        },
        "id": "iwpto42C5dQR",
        "outputId": "74f60be3-ff5c-4f06-dc2e-c514c007986e"
      },
      "execution_count": 55,
      "outputs": [
        {
          "output_type": "display_data",
          "data": {
            "text/plain": [
              "<Figure size 432x288 with 2 Axes>"
            ],
            "image/png": "[encoded data removed]"
          },
          "metadata": {
            "needs_background": "light"
          }
        },
        {
          "output_type": "stream",
          "name": "stdout",
          "text": [
            "\n",
            "              precision    recall  f1-score   support\n",
            "\n",
            "           0       0.56      0.96      0.70        26\n",
            "           1       0.86      0.71      0.77        17\n",
            "           2       1.00      0.47      0.64        15\n",
            "           3       1.00      0.11      0.20         9\n",
            "\n",
            "    accuracy                           0.67        67\n",
            "   macro avg       0.85      0.56      0.58        67\n",
            "weighted avg       0.79      0.67      0.64        67\n",
            "\n"
          ]
        }
      ]
    },
    {
      "cell_type": "code",
      "source": [
        "clf = fit_model(LogisticRegression(max_iter=3000, \n",
        "                                   class_weight='balanced'\n",
        "                                   ), \n",
        "                X_train_tr, \n",
        "                y_train)\n",
        "\n",
        "y_pred = predict(clf, X_test_tr)\n",
        "\n",
        "print_confusion_matrix(y_test, y_pred, with_report=True)"
      ],
      "metadata": {
        "id": "Hs_XD8NeWDLB",
        "colab": {
          "base_uri": "https://localhost:8080/",
          "height": 511
        },
        "outputId": "f990df46-87f1-4aa8-f51f-df161b12d341"
      },
      "execution_count": 54,
      "outputs": [
        {
          "output_type": "display_data",
          "data": {
            "text/plain": [
              "<Figure size 432x288 with 2 Axes>"
            ],
            "image/png": "[encoded data removed]"
          },
          "metadata": {
            "needs_background": "light"
          }
        },
        {
          "output_type": "stream",
          "name": "stdout",
          "text": [
            "\n",
            "              precision    recall  f1-score   support\n",
            "\n",
            "           0       0.79      0.85      0.81        26\n",
            "           1       0.67      0.94      0.78        17\n",
            "           2       1.00      0.60      0.75        15\n",
            "           3       0.67      0.44      0.53         9\n",
            "\n",
            "    accuracy                           0.76        67\n",
            "   macro avg       0.78      0.71      0.72        67\n",
            "weighted avg       0.79      0.76      0.75        67\n",
            "\n"
          ]
        }
      ]
    },
    {
      "cell_type": "code",
      "source": [
        "clf = fit_model(LogisticRegression(max_iter=3000, \n",
        "                                   class_weight='balanced'\n",
        "                                   ), \n",
        "                X_train_tr, \n",
        "                y_train)\n",
        "\n",
        "y_pred = predict(clf, X_test_tr)\n",
        "\n",
        "print_confusion_matrix(y_test, y_pred, with_report=True)"
      ],
      "metadata": {
        "colab": {
          "base_uri": "https://localhost:8080/",
          "height": 511
        },
        "id": "7NUtygLZxaP7",
        "outputId": "e9ee7fa1-ac21-4356-a312-01c063bc5937"
      },
      "execution_count": 48,
      "outputs": [
        {
          "output_type": "display_data",
          "data": {
            "text/plain": [
              "<Figure size 432x288 with 2 Axes>"
            ],
            "image/png": "[encoded data removed]"
          },
          "metadata": {
            "needs_background": "light"
          }
        },
        {
          "output_type": "stream",
          "name": "stdout",
          "text": [
            "\n",
            "              precision    recall  f1-score   support\n",
            "\n",
            "        Blog       0.53      0.94      0.68        17\n",
            "   Home Page       0.76      0.62      0.68        26\n",
            "        MISC       0.78      0.47      0.58        15\n",
            "Product Page       0.71      0.56      0.63         9\n",
            "\n",
            "    accuracy                           0.66        67\n",
            "   macro avg       0.70      0.64      0.64        67\n",
            "weighted avg       0.70      0.66      0.65        67\n",
            "\n"
          ]
        }
      ]
    },
    {
      "cell_type": "code",
      "source": [
        "print_important_features(clf, features=5)"
      ],
      "metadata": {
        "colab": {
          "base_uri": "https://localhost:8080/"
        },
        "id": "n3JbYJvieeoD",
        "outputId": "02486d69-5020-4d0c-c482-2da4d9c5db50"
      },
      "execution_count": 49,
      "outputs": [
        {
          "output_type": "stream",
          "name": "stdout",
          "text": [
            "Class \"Blog\" - 5 most important features: ['guest' 'guest post' 'digital' 'cart' 'please']\n",
            "Class \"Home Page\" - 5 most important features: ['write' 'content' 'post' 'link' 'article']\n",
            "Class \"MISC\" - 5 most important features: ['search' 'product' 'customer' 'keyword' 'seo']\n",
            "Class \"Product Page\" - 5 most important features: ['post' 'article' 'guest' 'marketing' 'blog']\n"
          ]
        }
      ]
    },
    {
      "cell_type": "code",
      "source": [
        "misclassified_df = create_misclassified_df(X_test, y_test, y_pred)\n",
        "misclassified_df"
      ],
      "metadata": {
        "id": "Ox6JIG0mqPzP",
        "colab": {
          "base_uri": "https://localhost:8080/",
          "height": 771
        },
        "outputId": "f0ec636e-c0ba-44f6-d923-fb6ca98c1cee"
      },
      "execution_count": 50,
      "outputs": [
        {
          "output_type": "execute_result",
          "data": {
            "text/plain": [
              "                               lemmatized_cleaned_text        y_true  \\\n",
              "111  Creator First Accelerator Program Clubhouse ce...          MISC   \n",
              "320  state brand consistency state brand consistenc...          MISC   \n",
              "270  homepage Yellow Pages Emails company use Findt...     Home Page   \n",
              "102  write Essay Unique Features Guarantees offer m...  Product Page   \n",
              "58   airmail 5 Apple Design Award 2017 Winner Airma...  Product Page   \n",
              "184  Content Strategy Enterprise Marketers Content ...     Home Page   \n",
              "243  Ecommerce definition Examples Origin Online Sh...          MISC   \n",
              "43   Site Explorer Ahrefs competitive Analysis Tool...  Product Page   \n",
              "218  Adobe Commerce Developer Guide Adobe Commerce ...     Home Page   \n",
              "263  Fearlessflyercom interested writing fuel artic...     Home Page   \n",
              "204  font display css Tricks font display property ...          MISC   \n",
              "219  woocommerce 36 arrive today excited announce a...          MISC   \n",
              "159  Adobe Web Analytics web analytic marketing way...  Product Page   \n",
              "53   # no1 Email Finder email bounce Anymail finder...     Home Page   \n",
              "4    Model dj Retail djpeople nation premier agency...          MISC   \n",
              "260  submit good Quality Original Articles Massive ...     Home Page   \n",
              "297  Amateur Bloggers Guide WordPress Start Learnin...     Home Page   \n",
              "224  COVID Safe Policy Procedures Guidelines Global...          MISC   \n",
              "212  powerful api Stack Data drive seo Tools datafo...          Blog   \n",
              "3    web Credibility Project research web credibili...     Home Page   \n",
              "265  2019 Amazon Consumer Behavior Report two third...          MISC   \n",
              "114  Website Content write Tips write web use short...     Home Page   \n",
              "173  Content Analytics Insights Digital Publishing ...     Home Page   \n",
              "\n",
              "           y_pred  \n",
              "111          Blog  \n",
              "320     Home Page  \n",
              "270          Blog  \n",
              "102          Blog  \n",
              "58           Blog  \n",
              "184          Blog  \n",
              "243          Blog  \n",
              "43           Blog  \n",
              "218  Product Page  \n",
              "263          MISC  \n",
              "204          Blog  \n",
              "219  Product Page  \n",
              "159          Blog  \n",
              "53           Blog  \n",
              "4       Home Page  \n",
              "260          Blog  \n",
              "297          MISC  \n",
              "224     Home Page  \n",
              "212     Home Page  \n",
              "3            Blog  \n",
              "265     Home Page  \n",
              "114          Blog  \n",
              "173          Blog  "
            ],
            "text/html": [
              "\n",
              "  <div id=\"df-5756e2be-ae31-4853-807a-826c8f754120\">\n",
              "    <div class=\"colab-df-container\">\n",
              "      <div>\n",
              "<style scoped>\n",
              "    .dataframe tbody tr th:only-of-type {\n",
              "        vertical-align: middle;\n",
              "    }\n",
              "\n",
              "    .dataframe tbody tr th {\n",
              "        vertical-align: top;\n",
              "    }\n",
              "\n",
              "    .dataframe thead th {\n",
              "        text-align: right;\n",
              "    }\n",
              "</style>\n",
              "<table border=\"1\" class=\"dataframe\">\n",
              "  <thead>\n",
              "    <tr style=\"text-align: right;\">\n",
              "      <th></th>\n",
              "      <th>lemmatized_cleaned_text</th>\n",
              "      <th>y_true</th>\n",
              "      <th>y_pred</th>\n",
              "    </tr>\n",
              "  </thead>\n",
              "  <tbody>\n",
              "    <tr>\n",
              "      <th>111</th>\n",
              "      <td>Creator First Accelerator Program Clubhouse ce...</td>\n",
              "      <td>MISC</td>\n",
              "      <td>Blog</td>\n",
              "    </tr>\n",
              "    <tr>\n",
              "      <th>320</th>\n",
              "      <td>state brand consistency state brand consistenc...</td>\n",
              "      <td>MISC</td>\n",
              "      <td>Home Page</td>\n",
              "    </tr>\n",
              "    <tr>\n",
              "      <th>270</th>\n",
              "      <td>homepage Yellow Pages Emails company use Findt...</td>\n",
              "      <td>Home Page</td>\n",
              "      <td>Blog</td>\n",
              "    </tr>\n",
              "    <tr>\n",
              "      <th>102</th>\n",
              "      <td>write Essay Unique Features Guarantees offer m...</td>\n",
              "      <td>Product Page</td>\n",
              "      <td>Blog</td>\n",
              "    </tr>\n",
              "    <tr>\n",
              "      <th>58</th>\n",
              "      <td>airmail 5 Apple Design Award 2017 Winner Airma...</td>\n",
              "      <td>Product Page</td>\n",
              "      <td>Blog</td>\n",
              "    </tr>\n",
              "    <tr>\n",
              "      <th>184</th>\n",
              "      <td>Content Strategy Enterprise Marketers Content ...</td>\n",
              "      <td>Home Page</td>\n",
              "      <td>Blog</td>\n",
              "    </tr>\n",
              "    <tr>\n",
              "      <th>243</th>\n",
              "      <td>Ecommerce definition Examples Origin Online Sh...</td>\n",
              "      <td>MISC</td>\n",
              "      <td>Blog</td>\n",
              "    </tr>\n",
              "    <tr>\n",
              "      <th>43</th>\n",
              "      <td>Site Explorer Ahrefs competitive Analysis Tool...</td>\n",
              "      <td>Product Page</td>\n",
              "      <td>Blog</td>\n",
              "    </tr>\n",
              "    <tr>\n",
              "      <th>218</th>\n",
              "      <td>Adobe Commerce Developer Guide Adobe Commerce ...</td>\n",
              "      <td>Home Page</td>\n",
              "      <td>Product Page</td>\n",
              "    </tr>\n",
              "    <tr>\n",
              "      <th>263</th>\n",
              "      <td>Fearlessflyercom interested writing fuel artic...</td>\n",
              "      <td>Home Page</td>\n",
              "      <td>MISC</td>\n",
              "    </tr>\n",
              "    <tr>\n",
              "      <th>204</th>\n",
              "      <td>font display css Tricks font display property ...</td>\n",
              "      <td>MISC</td>\n",
              "      <td>Blog</td>\n",
              "    </tr>\n",
              "    <tr>\n",
              "      <th>219</th>\n",
              "      <td>woocommerce 36 arrive today excited announce a...</td>\n",
              "      <td>MISC</td>\n",
              "      <td>Product Page</td>\n",
              "    </tr>\n",
              "    <tr>\n",
              "      <th>159</th>\n",
              "      <td>Adobe Web Analytics web analytic marketing way...</td>\n",
              "      <td>Product Page</td>\n",
              "      <td>Blog</td>\n",
              "    </tr>\n",
              "    <tr>\n",
              "      <th>53</th>\n",
              "      <td># no1 Email Finder email bounce Anymail finder...</td>\n",
              "      <td>Home Page</td>\n",
              "      <td>Blog</td>\n",
              "    </tr>\n",
              "    <tr>\n",
              "      <th>4</th>\n",
              "      <td>Model dj Retail djpeople nation premier agency...</td>\n",
              "      <td>MISC</td>\n",
              "      <td>Home Page</td>\n",
              "    </tr>\n",
              "    <tr>\n",
              "      <th>260</th>\n",
              "      <td>submit good Quality Original Articles Massive ...</td>\n",
              "      <td>Home Page</td>\n",
              "      <td>Blog</td>\n",
              "    </tr>\n",
              "    <tr>\n",
              "      <th>297</th>\n",
              "      <td>Amateur Bloggers Guide WordPress Start Learnin...</td>\n",
              "      <td>Home Page</td>\n",
              "      <td>MISC</td>\n",
              "    </tr>\n",
              "    <tr>\n",
              "      <th>224</th>\n",
              "      <td>COVID Safe Policy Procedures Guidelines Global...</td>\n",
              "      <td>MISC</td>\n",
              "      <td>Home Page</td>\n",
              "    </tr>\n",
              "    <tr>\n",
              "      <th>212</th>\n",
              "      <td>powerful api Stack Data drive seo Tools datafo...</td>\n",
              "      <td>Blog</td>\n",
              "      <td>Home Page</td>\n",
              "    </tr>\n",
              "    <tr>\n",
              "      <th>3</th>\n",
              "      <td>web Credibility Project research web credibili...</td>\n",
              "      <td>Home Page</td>\n",
              "      <td>Blog</td>\n",
              "    </tr>\n",
              "    <tr>\n",
              "      <th>265</th>\n",
              "      <td>2019 Amazon Consumer Behavior Report two third...</td>\n",
              "      <td>MISC</td>\n",
              "      <td>Home Page</td>\n",
              "    </tr>\n",
              "    <tr>\n",
              "      <th>114</th>\n",
              "      <td>Website Content write Tips write web use short...</td>\n",
              "      <td>Home Page</td>\n",
              "      <td>Blog</td>\n",
              "    </tr>\n",
              "    <tr>\n",
              "      <th>173</th>\n",
              "      <td>Content Analytics Insights Digital Publishing ...</td>\n",
              "      <td>Home Page</td>\n",
              "      <td>Blog</td>\n",
              "    </tr>\n",
              "  </tbody>\n",
              "</table>\n",
              "</div>\n",
              "      <button class=\"colab-df-convert\" onclick=\"convertToInteractive('df-5756e2be-ae31-4853-807a-826c8f754120')\"\n",
              "              title=\"Convert this dataframe to an interactive table.\"\n",
              "              style=\"display:none;\">\n",
              "        \n",
              "  <svg xmlns=\"http://www.w3.org/2000/svg\" height=\"24px\"viewBox=\"0 0 24 24\"\n",
              "       width=\"24px\">\n",
              "    <path d=\"M0 0h24v24H0V0z\" fill=\"none\"/>\n",
              "    <path d=\"M18.56 5.44l.94 2.06.94-2.06 2.06-.94-2.06-.94-.94-2.06-.94 2.06-2.06.94zm-11 1L8.5 8.5l.94-2.06 2.06-.94-2.06-.94L8.5 2.5l-.94 2.06-2.06.94zm10 10l.94 2.06.94-2.06 2.06-.94-2.06-.94-.94-2.06-.94 2.06-2.06.94z\"/><path d=\"M17.41 7.96l-1.37-1.37c-.4-.4-.92-.59-1.43-.59-.52 0-1.04.2-1.43.59L10.3 9.45l-7.72 7.72c-.78.78-.78 2.05 0 2.83L4 21.41c.39.39.9.59 1.41.59.51 0 1.02-.2 1.41-.59l7.78-7.78 2.81-2.81c.8-.78.8-2.07 0-2.86zM5.41 20L4 18.59l7.72-7.72 1.47 1.35L5.41 20z\"/>\n",
              "  </svg>\n",
              "      </button>\n",
              "      \n",
              "  <style>\n",
              "    .colab-df-container {\n",
              "      display:flex;\n",
              "      flex-wrap:wrap;\n",
              "      gap: 12px;\n",
              "    }\n",
              "\n",
              "    .colab-df-convert {\n",
              "      background-color: #E8F0FE;\n",
              "      border: none;\n",
              "      border-radius: 50%;\n",
              "      cursor: pointer;\n",
              "      display: none;\n",
              "      fill: #1967D2;\n",
              "      height: 32px;\n",
              "      padding: 0 0 0 0;\n",
              "      width: 32px;\n",
              "    }\n",
              "\n",
              "    .colab-df-convert:hover {\n",
              "      background-color: #E2EBFA;\n",
              "      box-shadow: 0px 1px 2px rgba(60, 64, 67, 0.3), 0px 1px 3px 1px rgba(60, 64, 67, 0.15);\n",
              "      fill: #174EA6;\n",
              "    }\n",
              "\n",
              "    [theme=dark] .colab-df-convert {\n",
              "      background-color: #3B4455;\n",
              "      fill: #D2E3FC;\n",
              "    }\n",
              "\n",
              "    [theme=dark] .colab-df-convert:hover {\n",
              "      background-color: #434B5C;\n",
              "      box-shadow: 0px 1px 3px 1px rgba(0, 0, 0, 0.15);\n",
              "      filter: drop-shadow(0px 1px 2px rgba(0, 0, 0, 0.3));\n",
              "      fill: #FFFFFF;\n",
              "    }\n",
              "  </style>\n",
              "\n",
              "      <script>\n",
              "        const buttonEl =\n",
              "          document.querySelector('#df-5756e2be-ae31-4853-807a-826c8f754120 button.colab-df-convert');\n",
              "        buttonEl.style.display =\n",
              "          google.colab.kernel.accessAllowed ? 'block' : 'none';\n",
              "\n",
              "        async function convertToInteractive(key) {\n",
              "          const element = document.querySelector('#df-5756e2be-ae31-4853-807a-826c8f754120');\n",
              "          const dataTable =\n",
              "            await google.colab.kernel.invokeFunction('convertToInteractive',\n",
              "                                                     [key], {});\n",
              "          if (!dataTable) return;\n",
              "\n",
              "          const docLinkHtml = 'Like what you see? Visit the ' +\n",
              "            '<a target=\"_blank\" href=https://colab.research.google.com/notebooks/data_table.ipynb>data table notebook</a>'\n",
              "            + ' to learn more about interactive tables.';\n",
              "          element.innerHTML = '';\n",
              "          dataTable['output_type'] = 'display_data';\n",
              "          await google.colab.output.renderOutput(dataTable, element);\n",
              "          const docLink = document.createElement('div');\n",
              "          docLink.innerHTML = docLinkHtml;\n",
              "          element.appendChild(docLink);\n",
              "        }\n",
              "      </script>\n",
              "    </div>\n",
              "  </div>\n",
              "  "
            ]
          },
          "metadata": {},
          "execution_count": 50
        }
      ]
    },
    {
      "cell_type": "markdown",
      "source": [
        "# 2. Word2Vec approach"
      ],
      "metadata": {
        "id": "IfP2ZPbILrIG"
      }
    },
    {
      "cell_type": "code",
      "source": [
        "# Deleting heavy variables no longer useful:\n",
        "del X_train_tr\n",
        "del X_test_tr"
      ],
      "metadata": {
        "id": "iQXuOb1ZTO6b"
      },
      "execution_count": 51,
      "outputs": []
    },
    {
      "cell_type": "code",
      "source": [
        "from gensim.models import Word2Vec, KeyedVectors"
      ],
      "metadata": {
        "id": "NUe0dNLxMVOQ"
      },
      "execution_count": 52,
      "outputs": []
    },
    {
      "cell_type": "code",
      "source": [
        "import gensim.downloader as api\n",
        "path = api.load(\"word2vec-google-news-300\", return_path=True)\n",
        "print(path)"
      ],
      "metadata": {
        "colab": {
          "base_uri": "https://localhost:8080/",
          "height": 371
        },
        "id": "VvgpcOINOrQ7",
        "outputId": "043664b5-5bc1-4366-bb53-def3452b6e7e"
      },
      "execution_count": 53,
      "outputs": [
        {
          "output_type": "stream",
          "name": "stdout",
          "text": [
            "[==------------------------------------------------] 4.3% 70.9/1662.8MB downloaded"
          ]
        },
        {
          "output_type": "error",
          "ename": "KeyboardInterrupt",
          "evalue": "ignored",
          "traceback": [
            "\u001b[0;31m---------------------------------------------------------------------------\u001b[0m",
            "\u001b[0;31mKeyboardInterrupt\u001b[0m                         Traceback (most recent call last)",
            "\u001b[0;32m<ipython-input-53-7d6021d82071>\u001b[0m in \u001b[0;36m<module>\u001b[0;34m\u001b[0m\n\u001b[1;32m      1\u001b[0m \u001b[0;32mimport\u001b[0m \u001b[0mgensim\u001b[0m\u001b[0;34m.\u001b[0m\u001b[0mdownloader\u001b[0m \u001b[0;32mas\u001b[0m \u001b[0mapi\u001b[0m\u001b[0;34m\u001b[0m\u001b[0;34m\u001b[0m\u001b[0m\n\u001b[0;32m----> 2\u001b[0;31m \u001b[0mpath\u001b[0m \u001b[0;34m=\u001b[0m \u001b[0mapi\u001b[0m\u001b[0;34m.\u001b[0m\u001b[0mload\u001b[0m\u001b[0;34m(\u001b[0m\u001b[0;34m\"word2vec-google-news-300\"\u001b[0m\u001b[0;34m,\u001b[0m \u001b[0mreturn_path\u001b[0m\u001b[0;34m=\u001b[0m\u001b[0;32mTrue\u001b[0m\u001b[0;34m)\u001b[0m\u001b[0;34m\u001b[0m\u001b[0;34m\u001b[0m\u001b[0m\n\u001b[0m\u001b[1;32m      3\u001b[0m \u001b[0mprint\u001b[0m\u001b[0;34m(\u001b[0m\u001b[0mpath\u001b[0m\u001b[0;34m)\u001b[0m\u001b[0;34m\u001b[0m\u001b[0;34m\u001b[0m\u001b[0m\n",
            "\u001b[0;32m/usr/local/lib/python3.8/dist-packages/gensim/downloader.py\u001b[0m in \u001b[0;36mload\u001b[0;34m(name, return_path)\u001b[0m\n\u001b[1;32m    415\u001b[0m     \u001b[0mpath\u001b[0m \u001b[0;34m=\u001b[0m \u001b[0mos\u001b[0m\u001b[0;34m.\u001b[0m\u001b[0mpath\u001b[0m\u001b[0;34m.\u001b[0m\u001b[0mjoin\u001b[0m\u001b[0;34m(\u001b[0m\u001b[0mfolder_dir\u001b[0m\u001b[0;34m,\u001b[0m \u001b[0mfile_name\u001b[0m\u001b[0;34m)\u001b[0m\u001b[0;34m\u001b[0m\u001b[0;34m\u001b[0m\u001b[0m\n\u001b[1;32m    416\u001b[0m     \u001b[0;32mif\u001b[0m \u001b[0;32mnot\u001b[0m \u001b[0mos\u001b[0m\u001b[0;34m.\u001b[0m\u001b[0mpath\u001b[0m\u001b[0;34m.\u001b[0m\u001b[0mexists\u001b[0m\u001b[0;34m(\u001b[0m\u001b[0mfolder_dir\u001b[0m\u001b[0;34m)\u001b[0m\u001b[0;34m:\u001b[0m\u001b[0;34m\u001b[0m\u001b[0;34m\u001b[0m\u001b[0m\n\u001b[0;32m--> 417\u001b[0;31m         \u001b[0m_download\u001b[0m\u001b[0;34m(\u001b[0m\u001b[0mname\u001b[0m\u001b[0;34m)\u001b[0m\u001b[0;34m\u001b[0m\u001b[0;34m\u001b[0m\u001b[0m\n\u001b[0m\u001b[1;32m    418\u001b[0m \u001b[0;34m\u001b[0m\u001b[0m\n\u001b[1;32m    419\u001b[0m     \u001b[0;32mif\u001b[0m \u001b[0mreturn_path\u001b[0m\u001b[0;34m:\u001b[0m\u001b[0;34m\u001b[0m\u001b[0;34m\u001b[0m\u001b[0m\n",
            "\u001b[0;32m/usr/local/lib/python3.8/dist-packages/gensim/downloader.py\u001b[0m in \u001b[0;36m_download\u001b[0;34m(name)\u001b[0m\n\u001b[1;32m    322\u001b[0m         \u001b[0mfname\u001b[0m \u001b[0;34m=\u001b[0m \u001b[0;34m\"{fname}.gz\"\u001b[0m\u001b[0;34m.\u001b[0m\u001b[0mformat\u001b[0m\u001b[0;34m(\u001b[0m\u001b[0mfname\u001b[0m\u001b[0;34m=\u001b[0m\u001b[0mname\u001b[0m\u001b[0;34m)\u001b[0m\u001b[0;34m\u001b[0m\u001b[0;34m\u001b[0m\u001b[0m\n\u001b[1;32m    323\u001b[0m         \u001b[0mdst_path\u001b[0m \u001b[0;34m=\u001b[0m \u001b[0mos\u001b[0m\u001b[0;34m.\u001b[0m\u001b[0mpath\u001b[0m\u001b[0;34m.\u001b[0m\u001b[0mjoin\u001b[0m\u001b[0;34m(\u001b[0m\u001b[0mtmp_dir\u001b[0m\u001b[0;34m,\u001b[0m \u001b[0mfname\u001b[0m\u001b[0;34m)\u001b[0m\u001b[0;34m\u001b[0m\u001b[0;34m\u001b[0m\u001b[0m\n\u001b[0;32m--> 324\u001b[0;31m         \u001b[0murllib\u001b[0m\u001b[0;34m.\u001b[0m\u001b[0murlretrieve\u001b[0m\u001b[0;34m(\u001b[0m\u001b[0murl_data\u001b[0m\u001b[0;34m,\u001b[0m \u001b[0mdst_path\u001b[0m\u001b[0;34m,\u001b[0m \u001b[0mreporthook\u001b[0m\u001b[0;34m=\u001b[0m\u001b[0m_progress\u001b[0m\u001b[0;34m)\u001b[0m\u001b[0;34m\u001b[0m\u001b[0;34m\u001b[0m\u001b[0m\n\u001b[0m\u001b[1;32m    325\u001b[0m         \u001b[0;32mif\u001b[0m \u001b[0m_calculate_md5_checksum\u001b[0m\u001b[0;34m(\u001b[0m\u001b[0mdst_path\u001b[0m\u001b[0;34m)\u001b[0m \u001b[0;34m==\u001b[0m \u001b[0m_get_checksum\u001b[0m\u001b[0;34m(\u001b[0m\u001b[0mname\u001b[0m\u001b[0;34m)\u001b[0m\u001b[0;34m:\u001b[0m\u001b[0;34m\u001b[0m\u001b[0;34m\u001b[0m\u001b[0m\n\u001b[1;32m    326\u001b[0m             \u001b[0msys\u001b[0m\u001b[0;34m.\u001b[0m\u001b[0mstdout\u001b[0m\u001b[0;34m.\u001b[0m\u001b[0mwrite\u001b[0m\u001b[0;34m(\u001b[0m\u001b[0;34m\"\\n\"\u001b[0m\u001b[0;34m)\u001b[0m\u001b[0;34m\u001b[0m\u001b[0;34m\u001b[0m\u001b[0m\n",
            "\u001b[0;32m/usr/lib/python3.8/urllib/request.py\u001b[0m in \u001b[0;36murlretrieve\u001b[0;34m(url, filename, reporthook, data)\u001b[0m\n\u001b[1;32m    281\u001b[0m                 \u001b[0mblocknum\u001b[0m \u001b[0;34m+=\u001b[0m \u001b[0;36m1\u001b[0m\u001b[0;34m\u001b[0m\u001b[0;34m\u001b[0m\u001b[0m\n\u001b[1;32m    282\u001b[0m                 \u001b[0;32mif\u001b[0m \u001b[0mreporthook\u001b[0m\u001b[0;34m:\u001b[0m\u001b[0;34m\u001b[0m\u001b[0;34m\u001b[0m\u001b[0m\n\u001b[0;32m--> 283\u001b[0;31m                     \u001b[0mreporthook\u001b[0m\u001b[0;34m(\u001b[0m\u001b[0mblocknum\u001b[0m\u001b[0;34m,\u001b[0m \u001b[0mbs\u001b[0m\u001b[0;34m,\u001b[0m \u001b[0msize\u001b[0m\u001b[0;34m)\u001b[0m\u001b[0;34m\u001b[0m\u001b[0;34m\u001b[0m\u001b[0m\n\u001b[0m\u001b[1;32m    284\u001b[0m \u001b[0;34m\u001b[0m\u001b[0m\n\u001b[1;32m    285\u001b[0m     \u001b[0;32mif\u001b[0m \u001b[0msize\u001b[0m \u001b[0;34m>=\u001b[0m \u001b[0;36m0\u001b[0m \u001b[0;32mand\u001b[0m \u001b[0mread\u001b[0m \u001b[0;34m<\u001b[0m \u001b[0msize\u001b[0m\u001b[0;34m:\u001b[0m\u001b[0;34m\u001b[0m\u001b[0;34m\u001b[0m\u001b[0m\n",
            "\u001b[0;32m/usr/local/lib/python3.8/dist-packages/gensim/downloader.py\u001b[0m in \u001b[0;36m_progress\u001b[0;34m(chunks_downloaded, chunk_size, total_size, part, total_parts)\u001b[0m\n\u001b[1;32m     96\u001b[0m                 round(float(total_size) / (1024 * 1024), 1))\n\u001b[1;32m     97\u001b[0m         )\n\u001b[0;32m---> 98\u001b[0;31m         \u001b[0msys\u001b[0m\u001b[0;34m.\u001b[0m\u001b[0mstdout\u001b[0m\u001b[0;34m.\u001b[0m\u001b[0mflush\u001b[0m\u001b[0;34m(\u001b[0m\u001b[0;34m)\u001b[0m\u001b[0;34m\u001b[0m\u001b[0;34m\u001b[0m\u001b[0m\n\u001b[0m\u001b[1;32m     99\u001b[0m     \u001b[0;32melse\u001b[0m\u001b[0;34m:\u001b[0m\u001b[0;34m\u001b[0m\u001b[0;34m\u001b[0m\u001b[0m\n\u001b[1;32m    100\u001b[0m         sys.stdout.write(\n",
            "\u001b[0;32m/usr/local/lib/python3.8/dist-packages/ipykernel/iostream.py\u001b[0m in \u001b[0;36mflush\u001b[0;34m(self)\u001b[0m\n\u001b[1;32m    350\u001b[0m                 \u001b[0mself\u001b[0m\u001b[0;34m.\u001b[0m\u001b[0mpub_thread\u001b[0m\u001b[0;34m.\u001b[0m\u001b[0mschedule\u001b[0m\u001b[0;34m(\u001b[0m\u001b[0mevt\u001b[0m\u001b[0;34m.\u001b[0m\u001b[0mset\u001b[0m\u001b[0;34m)\u001b[0m\u001b[0;34m\u001b[0m\u001b[0;34m\u001b[0m\u001b[0m\n\u001b[1;32m    351\u001b[0m                 \u001b[0;31m# and give a timeout to avoid\u001b[0m\u001b[0;34m\u001b[0m\u001b[0;34m\u001b[0m\u001b[0;34m\u001b[0m\u001b[0m\n\u001b[0;32m--> 352\u001b[0;31m                 \u001b[0;32mif\u001b[0m \u001b[0;32mnot\u001b[0m \u001b[0mevt\u001b[0m\u001b[0;34m.\u001b[0m\u001b[0mwait\u001b[0m\u001b[0;34m(\u001b[0m\u001b[0mself\u001b[0m\u001b[0;34m.\u001b[0m\u001b[0mflush_timeout\u001b[0m\u001b[0;34m)\u001b[0m\u001b[0;34m:\u001b[0m\u001b[0;34m\u001b[0m\u001b[0;34m\u001b[0m\u001b[0m\n\u001b[0m\u001b[1;32m    353\u001b[0m                     \u001b[0;31m# write directly to __stderr__ instead of warning because\u001b[0m\u001b[0;34m\u001b[0m\u001b[0;34m\u001b[0m\u001b[0;34m\u001b[0m\u001b[0m\n\u001b[1;32m    354\u001b[0m                     \u001b[0;31m# if this is happening sys.stderr may be the problem.\u001b[0m\u001b[0;34m\u001b[0m\u001b[0;34m\u001b[0m\u001b[0;34m\u001b[0m\u001b[0m\n",
            "\u001b[0;32m/usr/lib/python3.8/threading.py\u001b[0m in \u001b[0;36mwait\u001b[0;34m(self, timeout)\u001b[0m\n\u001b[1;32m    556\u001b[0m             \u001b[0msignaled\u001b[0m \u001b[0;34m=\u001b[0m \u001b[0mself\u001b[0m\u001b[0;34m.\u001b[0m\u001b[0m_flag\u001b[0m\u001b[0;34m\u001b[0m\u001b[0;34m\u001b[0m\u001b[0m\n\u001b[1;32m    557\u001b[0m             \u001b[0;32mif\u001b[0m \u001b[0;32mnot\u001b[0m \u001b[0msignaled\u001b[0m\u001b[0;34m:\u001b[0m\u001b[0;34m\u001b[0m\u001b[0;34m\u001b[0m\u001b[0m\n\u001b[0;32m--> 558\u001b[0;31m                 \u001b[0msignaled\u001b[0m \u001b[0;34m=\u001b[0m \u001b[0mself\u001b[0m\u001b[0;34m.\u001b[0m\u001b[0m_cond\u001b[0m\u001b[0;34m.\u001b[0m\u001b[0mwait\u001b[0m\u001b[0;34m(\u001b[0m\u001b[0mtimeout\u001b[0m\u001b[0;34m)\u001b[0m\u001b[0;34m\u001b[0m\u001b[0;34m\u001b[0m\u001b[0m\n\u001b[0m\u001b[1;32m    559\u001b[0m             \u001b[0;32mreturn\u001b[0m \u001b[0msignaled\u001b[0m\u001b[0;34m\u001b[0m\u001b[0;34m\u001b[0m\u001b[0m\n\u001b[1;32m    560\u001b[0m \u001b[0;34m\u001b[0m\u001b[0m\n",
            "\u001b[0;32m/usr/lib/python3.8/threading.py\u001b[0m in \u001b[0;36mwait\u001b[0;34m(self, timeout)\u001b[0m\n\u001b[1;32m    304\u001b[0m             \u001b[0;32melse\u001b[0m\u001b[0;34m:\u001b[0m\u001b[0;34m\u001b[0m\u001b[0;34m\u001b[0m\u001b[0m\n\u001b[1;32m    305\u001b[0m                 \u001b[0;32mif\u001b[0m \u001b[0mtimeout\u001b[0m \u001b[0;34m>\u001b[0m \u001b[0;36m0\u001b[0m\u001b[0;34m:\u001b[0m\u001b[0;34m\u001b[0m\u001b[0;34m\u001b[0m\u001b[0m\n\u001b[0;32m--> 306\u001b[0;31m                     \u001b[0mgotit\u001b[0m \u001b[0;34m=\u001b[0m \u001b[0mwaiter\u001b[0m\u001b[0;34m.\u001b[0m\u001b[0macquire\u001b[0m\u001b[0;34m(\u001b[0m\u001b[0;32mTrue\u001b[0m\u001b[0;34m,\u001b[0m \u001b[0mtimeout\u001b[0m\u001b[0;34m)\u001b[0m\u001b[0;34m\u001b[0m\u001b[0;34m\u001b[0m\u001b[0m\n\u001b[0m\u001b[1;32m    307\u001b[0m                 \u001b[0;32melse\u001b[0m\u001b[0;34m:\u001b[0m\u001b[0;34m\u001b[0m\u001b[0;34m\u001b[0m\u001b[0m\n\u001b[1;32m    308\u001b[0m                     \u001b[0mgotit\u001b[0m \u001b[0;34m=\u001b[0m \u001b[0mwaiter\u001b[0m\u001b[0;34m.\u001b[0m\u001b[0macquire\u001b[0m\u001b[0;34m(\u001b[0m\u001b[0;32mFalse\u001b[0m\u001b[0;34m)\u001b[0m\u001b[0;34m\u001b[0m\u001b[0;34m\u001b[0m\u001b[0m\n",
            "\u001b[0;31mKeyboardInterrupt\u001b[0m: "
          ]
        }
      ]
    },
    {
      "cell_type": "code",
      "source": [
        "w2v_model = KeyedVectors.load_word2vec_format(path, binary=True)"
      ],
      "metadata": {
        "id": "cnxbRh5ERLCD"
      },
      "execution_count": null,
      "outputs": []
    },
    {
      "cell_type": "code",
      "source": [
        "w2v_model.word_vec(\"test\").shape"
      ],
      "metadata": {
        "id": "KeS4FUKcRY-s"
      },
      "execution_count": null,
      "outputs": []
    },
    {
      "cell_type": "code",
      "source": [
        "print(\"Shape of embedding vector\", w2v_model[\"Natural\"].shape)\n",
        "print(\"First 20 numbers in the embedding of the word Natural\\n\\n\", w2v_model[\"Natural\"][:20])"
      ],
      "metadata": {
        "id": "78jKD3tJSI6W"
      },
      "execution_count": null,
      "outputs": []
    },
    {
      "cell_type": "code",
      "source": [
        "df_text"
      ],
      "metadata": {
        "id": "mcb_AmMXMa5E"
      },
      "execution_count": null,
      "outputs": []
    },
    {
      "cell_type": "code",
      "source": [
        "list_of_lists = df_text['text_lemma'].str.split().tolist()"
      ],
      "metadata": {
        "id": "7Ibzv2cRn51Y"
      },
      "execution_count": null,
      "outputs": []
    },
    {
      "cell_type": "code",
      "source": [
        "#Function that takes in the input text dataset in form of list of lists where each sentence is a list of words all the sentences are \n",
        "#inside a list\n",
        "def embedding_feats(list_of_lists, DIMENSION, w2v_model):\n",
        "    zeros_vector = np.zeros(DIMENSION)\n",
        "    feats = []\n",
        "    missing = set()\n",
        "    missing_sentences = set()\n",
        "    #Traverse over each sentence\n",
        "    for tokens in tqdm(list_of_lists):\n",
        "        # Initially assign zeroes as the embedding vector for the sentence\n",
        "        feat_for_this = zeros_vector\n",
        "        #Count the number of words in the embedding for this sentence\n",
        "        count_for_this = 0\n",
        "        #Traverse over each word of a sentence\n",
        "        for token in tokens:\n",
        "            #Check if the word is in the embedding vector\n",
        "            if token in w2v_model:\n",
        "                #Add the vector of the word to vector for the sentence\n",
        "                feat_for_this += w2v_model[token]\n",
        "                count_for_this +=1\n",
        "            #Else assign the missing word to missing set just to have a look at it\n",
        "            else:\n",
        "                missing.add(token)\n",
        "        #If no words are found in the embedding for the sentence\n",
        "        if count_for_this == 0:\n",
        "            #Assign all zeroes vector for that sentence\n",
        "            feats.append(feat_for_this)\n",
        "            #Assign the missing sentence to missing_sentences just to have a look at it\n",
        "            missing_sentences.add(' '.join(tokens))\n",
        "        #Else take average of the values of the embedding for each word to get the embedding of the sentence\n",
        "        else:\n",
        "            feats.append(feat_for_this/count_for_this)\n",
        "    return feats, missing, missing_sentences"
      ],
      "metadata": {
        "id": "Zw5XSKQJTBTd"
      },
      "execution_count": null,
      "outputs": []
    },
    {
      "cell_type": "code",
      "source": [
        "vectors, missing, missing_sentences = embedding_feats(list_of_lists, 300, w2v_model)"
      ],
      "metadata": {
        "id": "gEBx-1kpoqU5"
      },
      "execution_count": null,
      "outputs": []
    },
    {
      "cell_type": "code",
      "source": [
        "print(\"Shape of the final embeddings for the sentences\", np.array(vectors).shape)\n",
        "print(\"First 20 numbers in the embedding of the first train sentence\\n\\n\", np.array(vectors)[0][:20])"
      ],
      "metadata": {
        "id": "XmC-QNOmoy2Y"
      },
      "execution_count": null,
      "outputs": []
    },
    {
      "cell_type": "code",
      "source": [
        "len(vectors), vectors[0].shape"
      ],
      "metadata": {
        "id": "fybx2p5No_wu"
      },
      "execution_count": null,
      "outputs": []
    },
    {
      "cell_type": "code",
      "source": [
        "#Function for calculating roc auc with given actual binary values across target variables\n",
        "#and the probability score made by the model\n",
        "def accuracy(y_test, y_pred):\n",
        "    aucs = []\n",
        "    #Calculate the ROC-AUC for each of the target column\n",
        "    for col in range(y_test.shape[1]):\n",
        "        aucs.append(roc_auc_score(y_test[:,col],y_pred[:,col]))\n",
        "    return aucs"
      ],
      "metadata": {
        "id": "VPKdXk12pQtr"
      },
      "execution_count": null,
      "outputs": []
    },
    {
      "cell_type": "code",
      "source": [
        "from statistics import mean"
      ],
      "metadata": {
        "id": "djfXPxCAwVMp"
      },
      "execution_count": null,
      "outputs": []
    },
    {
      "cell_type": "code",
      "source": [
        "vectors, missing, missing_sentences = embedding_feats(list_of_lists, 300, w2v_model)"
      ],
      "metadata": {
        "id": "JXx82SNLxIqs"
      },
      "execution_count": null,
      "outputs": []
    },
    {
      "cell_type": "code",
      "source": [
        "train_data, val_data, train_cats, val_cats = train_test_split(vectors, y, \n",
        "                                                              test_size=test_size,\n",
        "                                                              stratify=y, \n",
        "                                                              random_state=random_state)"
      ],
      "metadata": {
        "id": "OC7Dktguz0Ns"
      },
      "execution_count": null,
      "outputs": []
    },
    {
      "cell_type": "code",
      "source": [
        "lr = LogisticRegression(max_iter=10000, class_weight='balanced').fit(train_data, train_cats)"
      ],
      "metadata": {
        "id": "umjhVW6ux-Qn"
      },
      "execution_count": null,
      "outputs": []
    },
    {
      "cell_type": "code",
      "source": [
        "y_vals = val_cats"
      ],
      "metadata": {
        "id": "tOk8JbXjyHbx"
      },
      "execution_count": null,
      "outputs": []
    },
    {
      "cell_type": "code",
      "source": [
        "y_preds = lr.predict(val_data)"
      ],
      "metadata": {
        "id": "wrY7SISxyQ3U"
      },
      "execution_count": null,
      "outputs": []
    },
    {
      "cell_type": "code",
      "source": [
        "y_test.value_counts() # checking how many there were before"
      ],
      "metadata": {
        "id": "8Q_iQQ7uzhCD"
      },
      "execution_count": null,
      "outputs": []
    },
    {
      "cell_type": "code",
      "source": [
        "y_vals.value_counts()"
      ],
      "metadata": {
        "id": "e0ypvea1ze1o"
      },
      "execution_count": null,
      "outputs": []
    },
    {
      "cell_type": "code",
      "source": [
        "print_confusion_matrix(y_vals, y_preds, with_report=False)"
      ],
      "metadata": {
        "id": "hIBuNelWqruI"
      },
      "execution_count": null,
      "outputs": []
    },
    {
      "cell_type": "markdown",
      "source": [
        "# 3. BERT approach (anirban sen)"
      ],
      "metadata": {
        "id": "NLRh9mXsSv6w"
      }
    },
    {
      "cell_type": "code",
      "source": [
        "# Deleting heavy variables no longer useful:\n",
        "try:\n",
        "  del path, w2v_model\n",
        "except NameError:\n",
        "  pass"
      ],
      "metadata": {
        "id": "7i5OcK-RPMpS"
      },
      "execution_count": 37,
      "outputs": []
    },
    {
      "cell_type": "code",
      "source": [
        "import urllib3\n",
        "urllib3.__version__"
      ],
      "metadata": {
        "colab": {
          "base_uri": "https://localhost:8080/",
          "height": 35
        },
        "id": "30T5eGo3UrhP",
        "outputId": "39de5047-5ccc-4772-dac7-8183d5a853a3"
      },
      "execution_count": 39,
      "outputs": [
        {
          "output_type": "execute_result",
          "data": {
            "text/plain": [
              "'1.25.11'"
            ],
            "application/vnd.google.colaboratory.intrinsic+json": {
              "type": "string"
            }
          },
          "metadata": {},
          "execution_count": 39
        }
      ]
    },
    {
      "cell_type": "code",
      "source": [
        "from pytorch_pretrained_bert import BertTokenizer, BertForSequenceClassification, BertAdam\n",
        "import torch\n",
        "from torch.utils.data import TensorDataset, RandomSampler, SequentialSampler, DataLoader\n",
        "from torch.nn import BCEWithLogitsLoss, Sigmoid\n",
        "\n",
        "from tqdm.notebook import tqdm, trange\n",
        "\n",
        "# from keras.preprocessing.sequence import pad_sequences"
      ],
      "metadata": {
        "id": "WJVcIyUoSzEG"
      },
      "execution_count": 42,
      "outputs": []
    },
    {
      "cell_type": "code",
      "source": [
        "df_text"
      ],
      "metadata": {
        "colab": {
          "base_uri": "https://localhost:8080/",
          "height": 641
        },
        "id": "RINwVrjcedAZ",
        "outputId": "2b839109-38e0-4028-f824-6e5c6e1e3f0b"
      },
      "execution_count": 47,
      "outputs": [
        {
          "output_type": "execute_result",
          "data": {
            "text/plain": [
              "                                                  text      label  \\\n",
              "0    Write For Us. Want to Write for Us?  Digital L...       MISC   \n",
              "1    Write for Us. Yes, you. We’re always looking f...       MISC   \n",
              "2    FAQs for some new features available in the Be...       Blog   \n",
              "3    The Web Credibility Project. Our research in W...  Home Page   \n",
              "4    Model DJs for Retail. DJPeoples is the nation’...       MISC   \n",
              "..                                                 ...        ...   \n",
              "293  Geniuz Media. The USPS is undoubtedly one of t...  Home Page   \n",
              "294  Submit Guest Post. Yes! We accept guest/Sponso...       MISC   \n",
              "295  Digital Marketing & Entrepreneurship Blog. Why...       MISC   \n",
              "296  Real Estate, Fashion, Software, Travel. Write ...       MISC   \n",
              "297  Amateur Bloggers Guide To WordPress For Start ...  Home Page   \n",
              "\n",
              "                                          cleaned_text  \\\n",
              "0    Write For Us Want Write Us Digital Lamp one fa...   \n",
              "1    Write Us Yes Were always looking new authors I...   \n",
              "2    FAQs new features available Beta Wayback Machi...   \n",
              "3    The Web Credibility Project Our research Web c...   \n",
              "4    Model DJs Retail DJPeoples nations premier age...   \n",
              "..                                                 ...   \n",
              "293  Geniuz Media The USPS undoubtedly one best cou...   \n",
              "294  Submit Guest Post Yes We accept guest Sponsore...   \n",
              "295  Digital Marketing Entrepreneurship Blog Why wo...   \n",
              "296  Real Estate Fashion Software Travel Write us G...   \n",
              "297  Amateur Bloggers Guide To WordPress For Start ...   \n",
              "\n",
              "                                       lemmatized_text  \\\n",
              "0    write for we . want to write for we ?   Digita...   \n",
              "1    write for we . yes , you . we ’re always look ...   \n",
              "2    FAQs for some new feature available in the Bet...   \n",
              "3    the web Credibility Project . our research in ...   \n",
              "4    Model dj for Retail . djpeople be the nation ’...   \n",
              "..                                                 ...   \n",
              "293  Geniuz Media . the USPS be undoubtedly one of ...   \n",
              "294  submit Guest Post . yes ! we accept guest / sp...   \n",
              "295  Digital Marketing & Entrepreneurship Blog . wh...   \n",
              "296  real Estate , Fashion , Software , Travel . wr...   \n",
              "297  Amateur Bloggers Guide to WordPress for Start ...   \n",
              "\n",
              "                               lemmatized_cleaned_text  \\\n",
              "0    write want write Digital Lamp one fast grow te...   \n",
              "1    write yes always look new author get idea chal...   \n",
              "2    FAQs new feature available Beta Wayback Machin...   \n",
              "3    web Credibility Project research web credibili...   \n",
              "4    Model dj Retail djpeople nation premier agency...   \n",
              "..                                                 ...   \n",
              "293  Geniuz Media USPS undoubtedly one good courier...   \n",
              "294  submit Guest Post yes accept guest sponsor pos...   \n",
              "295  Digital Marketing Entrepreneurship Blog would ...   \n",
              "296  real Estate Fashion Software Travel write guid...   \n",
              "297  Amateur Bloggers Guide WordPress Start Learnin...   \n",
              "\n",
              "                                              w2v_text  \n",
              "0    write for us . want to write for us ?   digita...  \n",
              "1    write for us . yes , you . we ’re always looki...  \n",
              "2    faqs for some new features available in the be...  \n",
              "3    the web credibility project . our research in ...  \n",
              "4    model djs for retail . djpeoples is the nation...  \n",
              "..                                                 ...  \n",
              "293  geniuz media . the usps is undoubtedly one of ...  \n",
              "294  submit guest post . yes ! we accept guest / sp...  \n",
              "295  digital marketing & entrepreneurship blog . wh...  \n",
              "296  real estate , fashion , software , travel . wr...  \n",
              "297  amateur bloggers guide to wordpress for start ...  \n",
              "\n",
              "[298 rows x 6 columns]"
            ],
            "text/html": [
              "\n",
              "  <div id=\"df-a3836d07-ad5b-45c4-8f64-86d001a8a585\">\n",
              "    <div class=\"colab-df-container\">\n",
              "      <div>\n",
              "<style scoped>\n",
              "    .dataframe tbody tr th:only-of-type {\n",
              "        vertical-align: middle;\n",
              "    }\n",
              "\n",
              "    .dataframe tbody tr th {\n",
              "        vertical-align: top;\n",
              "    }\n",
              "\n",
              "    .dataframe thead th {\n",
              "        text-align: right;\n",
              "    }\n",
              "</style>\n",
              "<table border=\"1\" class=\"dataframe\">\n",
              "  <thead>\n",
              "    <tr style=\"text-align: right;\">\n",
              "      <th></th>\n",
              "      <th>text</th>\n",
              "      <th>label</th>\n",
              "      <th>cleaned_text</th>\n",
              "      <th>lemmatized_text</th>\n",
              "      <th>lemmatized_cleaned_text</th>\n",
              "      <th>w2v_text</th>\n",
              "    </tr>\n",
              "  </thead>\n",
              "  <tbody>\n",
              "    <tr>\n",
              "      <th>0</th>\n",
              "      <td>Write For Us. Want to Write for Us?  Digital L...</td>\n",
              "      <td>MISC</td>\n",
              "      <td>Write For Us Want Write Us Digital Lamp one fa...</td>\n",
              "      <td>write for we . want to write for we ?   Digita...</td>\n",
              "      <td>write want write Digital Lamp one fast grow te...</td>\n",
              "      <td>write for us . want to write for us ?   digita...</td>\n",
              "    </tr>\n",
              "    <tr>\n",
              "      <th>1</th>\n",
              "      <td>Write for Us. Yes, you. We’re always looking f...</td>\n",
              "      <td>MISC</td>\n",
              "      <td>Write Us Yes Were always looking new authors I...</td>\n",
              "      <td>write for we . yes , you . we ’re always look ...</td>\n",
              "      <td>write yes always look new author get idea chal...</td>\n",
              "      <td>write for us . yes , you . we ’re always looki...</td>\n",
              "    </tr>\n",
              "    <tr>\n",
              "      <th>2</th>\n",
              "      <td>FAQs for some new features available in the Be...</td>\n",
              "      <td>Blog</td>\n",
              "      <td>FAQs new features available Beta Wayback Machi...</td>\n",
              "      <td>FAQs for some new feature available in the Bet...</td>\n",
              "      <td>FAQs new feature available Beta Wayback Machin...</td>\n",
              "      <td>faqs for some new features available in the be...</td>\n",
              "    </tr>\n",
              "    <tr>\n",
              "      <th>3</th>\n",
              "      <td>The Web Credibility Project. Our research in W...</td>\n",
              "      <td>Home Page</td>\n",
              "      <td>The Web Credibility Project Our research Web c...</td>\n",
              "      <td>the web Credibility Project . our research in ...</td>\n",
              "      <td>web Credibility Project research web credibili...</td>\n",
              "      <td>the web credibility project . our research in ...</td>\n",
              "    </tr>\n",
              "    <tr>\n",
              "      <th>4</th>\n",
              "      <td>Model DJs for Retail. DJPeoples is the nation’...</td>\n",
              "      <td>MISC</td>\n",
              "      <td>Model DJs Retail DJPeoples nations premier age...</td>\n",
              "      <td>Model dj for Retail . djpeople be the nation ’...</td>\n",
              "      <td>Model dj Retail djpeople nation premier agency...</td>\n",
              "      <td>model djs for retail . djpeoples is the nation...</td>\n",
              "    </tr>\n",
              "    <tr>\n",
              "      <th>...</th>\n",
              "      <td>...</td>\n",
              "      <td>...</td>\n",
              "      <td>...</td>\n",
              "      <td>...</td>\n",
              "      <td>...</td>\n",
              "      <td>...</td>\n",
              "    </tr>\n",
              "    <tr>\n",
              "      <th>293</th>\n",
              "      <td>Geniuz Media. The USPS is undoubtedly one of t...</td>\n",
              "      <td>Home Page</td>\n",
              "      <td>Geniuz Media The USPS undoubtedly one best cou...</td>\n",
              "      <td>Geniuz Media . the USPS be undoubtedly one of ...</td>\n",
              "      <td>Geniuz Media USPS undoubtedly one good courier...</td>\n",
              "      <td>geniuz media . the usps is undoubtedly one of ...</td>\n",
              "    </tr>\n",
              "    <tr>\n",
              "      <th>294</th>\n",
              "      <td>Submit Guest Post. Yes! We accept guest/Sponso...</td>\n",
              "      <td>MISC</td>\n",
              "      <td>Submit Guest Post Yes We accept guest Sponsore...</td>\n",
              "      <td>submit Guest Post . yes ! we accept guest / sp...</td>\n",
              "      <td>submit Guest Post yes accept guest sponsor pos...</td>\n",
              "      <td>submit guest post . yes ! we accept guest / sp...</td>\n",
              "    </tr>\n",
              "    <tr>\n",
              "      <th>295</th>\n",
              "      <td>Digital Marketing &amp; Entrepreneurship Blog. Why...</td>\n",
              "      <td>MISC</td>\n",
              "      <td>Digital Marketing Entrepreneurship Blog Why wo...</td>\n",
              "      <td>Digital Marketing &amp; Entrepreneurship Blog . wh...</td>\n",
              "      <td>Digital Marketing Entrepreneurship Blog would ...</td>\n",
              "      <td>digital marketing &amp; entrepreneurship blog . wh...</td>\n",
              "    </tr>\n",
              "    <tr>\n",
              "      <th>296</th>\n",
              "      <td>Real Estate, Fashion, Software, Travel. Write ...</td>\n",
              "      <td>MISC</td>\n",
              "      <td>Real Estate Fashion Software Travel Write us G...</td>\n",
              "      <td>real Estate , Fashion , Software , Travel . wr...</td>\n",
              "      <td>real Estate Fashion Software Travel write guid...</td>\n",
              "      <td>real estate , fashion , software , travel . wr...</td>\n",
              "    </tr>\n",
              "    <tr>\n",
              "      <th>297</th>\n",
              "      <td>Amateur Bloggers Guide To WordPress For Start ...</td>\n",
              "      <td>Home Page</td>\n",
              "      <td>Amateur Bloggers Guide To WordPress For Start ...</td>\n",
              "      <td>Amateur Bloggers Guide to WordPress for Start ...</td>\n",
              "      <td>Amateur Bloggers Guide WordPress Start Learnin...</td>\n",
              "      <td>amateur bloggers guide to wordpress for start ...</td>\n",
              "    </tr>\n",
              "  </tbody>\n",
              "</table>\n",
              "<p>298 rows × 6 columns</p>\n",
              "</div>\n",
              "      <button class=\"colab-df-convert\" onclick=\"convertToInteractive('df-a3836d07-ad5b-45c4-8f64-86d001a8a585')\"\n",
              "              title=\"Convert this dataframe to an interactive table.\"\n",
              "              style=\"display:none;\">\n",
              "        \n",
              "  <svg xmlns=\"http://www.w3.org/2000/svg\" height=\"24px\"viewBox=\"0 0 24 24\"\n",
              "       width=\"24px\">\n",
              "    <path d=\"M0 0h24v24H0V0z\" fill=\"none\"/>\n",
              "    <path d=\"M18.56 5.44l.94 2.06.94-2.06 2.06-.94-2.06-.94-.94-2.06-.94 2.06-2.06.94zm-11 1L8.5 8.5l.94-2.06 2.06-.94-2.06-.94L8.5 2.5l-.94 2.06-2.06.94zm10 10l.94 2.06.94-2.06 2.06-.94-2.06-.94-.94-2.06-.94 2.06-2.06.94z\"/><path d=\"M17.41 7.96l-1.37-1.37c-.4-.4-.92-.59-1.43-.59-.52 0-1.04.2-1.43.59L10.3 9.45l-7.72 7.72c-.78.78-.78 2.05 0 2.83L4 21.41c.39.39.9.59 1.41.59.51 0 1.02-.2 1.41-.59l7.78-7.78 2.81-2.81c.8-.78.8-2.07 0-2.86zM5.41 20L4 18.59l7.72-7.72 1.47 1.35L5.41 20z\"/>\n",
              "  </svg>\n",
              "      </button>\n",
              "      \n",
              "  <style>\n",
              "    .colab-df-container {\n",
              "      display:flex;\n",
              "      flex-wrap:wrap;\n",
              "      gap: 12px;\n",
              "    }\n",
              "\n",
              "    .colab-df-convert {\n",
              "      background-color: #E8F0FE;\n",
              "      border: none;\n",
              "      border-radius: 50%;\n",
              "      cursor: pointer;\n",
              "      display: none;\n",
              "      fill: #1967D2;\n",
              "      height: 32px;\n",
              "      padding: 0 0 0 0;\n",
              "      width: 32px;\n",
              "    }\n",
              "\n",
              "    .colab-df-convert:hover {\n",
              "      background-color: #E2EBFA;\n",
              "      box-shadow: 0px 1px 2px rgba(60, 64, 67, 0.3), 0px 1px 3px 1px rgba(60, 64, 67, 0.15);\n",
              "      fill: #174EA6;\n",
              "    }\n",
              "\n",
              "    [theme=dark] .colab-df-convert {\n",
              "      background-color: #3B4455;\n",
              "      fill: #D2E3FC;\n",
              "    }\n",
              "\n",
              "    [theme=dark] .colab-df-convert:hover {\n",
              "      background-color: #434B5C;\n",
              "      box-shadow: 0px 1px 3px 1px rgba(0, 0, 0, 0.15);\n",
              "      filter: drop-shadow(0px 1px 2px rgba(0, 0, 0, 0.3));\n",
              "      fill: #FFFFFF;\n",
              "    }\n",
              "  </style>\n",
              "\n",
              "      <script>\n",
              "        const buttonEl =\n",
              "          document.querySelector('#df-a3836d07-ad5b-45c4-8f64-86d001a8a585 button.colab-df-convert');\n",
              "        buttonEl.style.display =\n",
              "          google.colab.kernel.accessAllowed ? 'block' : 'none';\n",
              "\n",
              "        async function convertToInteractive(key) {\n",
              "          const element = document.querySelector('#df-a3836d07-ad5b-45c4-8f64-86d001a8a585');\n",
              "          const dataTable =\n",
              "            await google.colab.kernel.invokeFunction('convertToInteractive',\n",
              "                                                     [key], {});\n",
              "          if (!dataTable) return;\n",
              "\n",
              "          const docLinkHtml = 'Like what you see? Visit the ' +\n",
              "            '<a target=\"_blank\" href=https://colab.research.google.com/notebooks/data_table.ipynb>data table notebook</a>'\n",
              "            + ' to learn more about interactive tables.';\n",
              "          element.innerHTML = '';\n",
              "          dataTable['output_type'] = 'display_data';\n",
              "          await google.colab.output.renderOutput(dataTable, element);\n",
              "          const docLink = document.createElement('div');\n",
              "          docLink.innerHTML = docLinkHtml;\n",
              "          element.appendChild(docLink);\n",
              "        }\n",
              "      </script>\n",
              "    </div>\n",
              "  </div>\n",
              "  "
            ]
          },
          "metadata": {},
          "execution_count": 47
        }
      ]
    },
    {
      "cell_type": "code",
      "source": [
        "# Cell 9\n",
        "test_size = 0.2\n",
        "random_state = 0\n",
        "\n",
        "# Important cell # 9\n",
        "column_used = 'w2v_text'\n",
        "\n",
        "X = df_text[[column_used]]\n",
        "y = df_text[TARGET]\n",
        "\n",
        "X_train, X_test, y_train, y_test = train_test_split(X, y, \n",
        "                                                    test_size=test_size,\n",
        "                                                    stratify=y, \n",
        "                                                    random_state=random_state)"
      ],
      "metadata": {
        "id": "hLw_Nw5XTxVF"
      },
      "execution_count": 48,
      "outputs": []
    },
    {
      "cell_type": "markdown",
      "source": [
        "# 3. 2nd BERT approach (Ashwin N)"
      ],
      "metadata": {
        "id": "pkv3vI9Bj1P6"
      }
    },
    {
      "cell_type": "code",
      "source": [
        "! pip install datasets"
      ],
      "metadata": {
        "colab": {
          "base_uri": "https://localhost:8080/"
        },
        "id": "g26xl0nUj6fV",
        "outputId": "77aa118d-c55b-4b3e-97df-e73251661fd0"
      },
      "execution_count": 59,
      "outputs": [
        {
          "output_type": "stream",
          "name": "stdout",
          "text": [
            "Looking in indexes: https://pypi.org/simple, https://us-python.pkg.dev/colab-wheels/public/simple/\n",
            "Requirement already satisfied: datasets in /usr/local/lib/python3.8/dist-packages (2.7.1)\n",
            "Requirement already satisfied: fsspec[http]>=2021.11.1 in /usr/local/lib/python3.8/dist-packages (from datasets) (2022.11.0)\n",
            "Requirement already satisfied: pyyaml>=5.1 in /usr/local/lib/python3.8/dist-packages (from datasets) (6.0)\n",
            "Requirement already satisfied: aiohttp in /usr/local/lib/python3.8/dist-packages (from datasets) (3.8.3)\n",
            "Requirement already satisfied: xxhash in /usr/local/lib/python3.8/dist-packages (from datasets) (3.1.0)\n",
            "Requirement already satisfied: packaging in /usr/local/lib/python3.8/dist-packages (from datasets) (21.3)\n",
            "Requirement already satisfied: huggingface-hub<1.0.0,>=0.2.0 in /usr/local/lib/python3.8/dist-packages (from datasets) (0.11.1)\n",
            "Requirement already satisfied: pyarrow>=6.0.0 in /usr/local/lib/python3.8/dist-packages (from datasets) (9.0.0)\n",
            "Requirement already satisfied: responses<0.19 in /usr/local/lib/python3.8/dist-packages (from datasets) (0.18.0)\n",
            "Requirement already satisfied: multiprocess in /usr/local/lib/python3.8/dist-packages (from datasets) (0.70.14)\n",
            "Requirement already satisfied: dill<0.3.7 in /usr/local/lib/python3.8/dist-packages (from datasets) (0.3.6)\n",
            "Requirement already satisfied: tqdm>=4.62.1 in /usr/local/lib/python3.8/dist-packages (from datasets) (4.64.1)\n",
            "Requirement already satisfied: requests>=2.19.0 in /usr/local/lib/python3.8/dist-packages (from datasets) (2.23.0)\n",
            "Requirement already satisfied: numpy>=1.17 in /usr/local/lib/python3.8/dist-packages (from datasets) (1.21.6)\n",
            "Requirement already satisfied: pandas in /usr/local/lib/python3.8/dist-packages (from datasets) (1.3.5)\n",
            "Requirement already satisfied: attrs>=17.3.0 in /usr/local/lib/python3.8/dist-packages (from aiohttp->datasets) (22.1.0)\n",
            "Requirement already satisfied: frozenlist>=1.1.1 in /usr/local/lib/python3.8/dist-packages (from aiohttp->datasets) (1.3.3)\n",
            "Requirement already satisfied: aiosignal>=1.1.2 in /usr/local/lib/python3.8/dist-packages (from aiohttp->datasets) (1.3.1)\n",
            "Requirement already satisfied: charset-normalizer<3.0,>=2.0 in /usr/local/lib/python3.8/dist-packages (from aiohttp->datasets) (2.1.1)\n",
            "Requirement already satisfied: async-timeout<5.0,>=4.0.0a3 in /usr/local/lib/python3.8/dist-packages (from aiohttp->datasets) (4.0.2)\n",
            "Requirement already satisfied: multidict<7.0,>=4.5 in /usr/local/lib/python3.8/dist-packages (from aiohttp->datasets) (6.0.3)\n",
            "Requirement already satisfied: yarl<2.0,>=1.0 in /usr/local/lib/python3.8/dist-packages (from aiohttp->datasets) (1.8.2)\n",
            "Requirement already satisfied: filelock in /usr/local/lib/python3.8/dist-packages (from huggingface-hub<1.0.0,>=0.2.0->datasets) (3.8.0)\n",
            "Requirement already satisfied: typing-extensions>=3.7.4.3 in /usr/local/lib/python3.8/dist-packages (from huggingface-hub<1.0.0,>=0.2.0->datasets) (4.4.0)\n",
            "Requirement already satisfied: pyparsing!=3.0.5,>=2.0.2 in /usr/local/lib/python3.8/dist-packages (from packaging->datasets) (3.0.9)\n",
            "Requirement already satisfied: certifi>=2017.4.17 in /usr/local/lib/python3.8/dist-packages (from requests>=2.19.0->datasets) (2022.9.24)\n",
            "Requirement already satisfied: urllib3!=1.25.0,!=1.25.1,<1.26,>=1.21.1 in /usr/local/lib/python3.8/dist-packages (from requests>=2.19.0->datasets) (1.25.11)\n",
            "Requirement already satisfied: chardet<4,>=3.0.2 in /usr/local/lib/python3.8/dist-packages (from requests>=2.19.0->datasets) (3.0.4)\n",
            "Requirement already satisfied: idna<3,>=2.5 in /usr/local/lib/python3.8/dist-packages (from requests>=2.19.0->datasets) (2.10)\n",
            "Requirement already satisfied: python-dateutil>=2.7.3 in /usr/local/lib/python3.8/dist-packages (from pandas->datasets) (2.8.2)\n",
            "Requirement already satisfied: pytz>=2017.3 in /usr/local/lib/python3.8/dist-packages (from pandas->datasets) (2022.6)\n",
            "Requirement already satisfied: six>=1.5 in /usr/local/lib/python3.8/dist-packages (from python-dateutil>=2.7.3->pandas->datasets) (1.15.0)\n"
          ]
        }
      ]
    },
    {
      "cell_type": "code",
      "source": [
        "from datasets import load_dataset"
      ],
      "metadata": {
        "id": "5KM3xQpFfejK"
      },
      "execution_count": 60,
      "outputs": []
    },
    {
      "cell_type": "code",
      "source": [
        "! pwd"
      ],
      "metadata": {
        "colab": {
          "base_uri": "https://localhost:8080/"
        },
        "id": "0GSUnmgfkS4J",
        "outputId": "3f6c05e6-d90b-4b4b-a0fd-eb18ac720097"
      },
      "execution_count": 61,
      "outputs": [
        {
          "output_type": "stream",
          "name": "stdout",
          "text": [
            "/content/drive/MyDrive/url_classification\n"
          ]
        }
      ]
    },
    {
      "cell_type": "code",
      "source": [
        "csv_path"
      ],
      "metadata": {
        "colab": {
          "base_uri": "https://localhost:8080/",
          "height": 35
        },
        "id": "Ce_iT91Ij4x0",
        "outputId": "fc61eaf0-99fa-4a57-8b6e-976f4896c0d7"
      },
      "execution_count": 62,
      "outputs": [
        {
          "output_type": "execute_result",
          "data": {
            "text/plain": [
              "'url_classification_temporary536.csv'"
            ],
            "application/vnd.google.colaboratory.intrinsic+json": {
              "type": "string"
            }
          },
          "metadata": {},
          "execution_count": 62
        }
      ]
    },
    {
      "cell_type": "code",
      "source": [
        "df_text.head(3)"
      ],
      "metadata": {
        "colab": {
          "base_uri": "https://localhost:8080/",
          "height": 240
        },
        "id": "wcG1vMfrmVCs",
        "outputId": "6ff718c2-2f21-4c93-a483-8668f9d0993c"
      },
      "execution_count": 63,
      "outputs": [
        {
          "output_type": "execute_result",
          "data": {
            "text/plain": [
              "                                                text label  \\\n",
              "0  Write For Us. Want to Write for Us?  Digital L...  MISC   \n",
              "1  Write for Us. Yes, you. We’re always looking f...  MISC   \n",
              "2  FAQs for some new features available in the Be...  Blog   \n",
              "\n",
              "                                        cleaned_text  \\\n",
              "0  Write For Us Want Write Us Digital Lamp one fa...   \n",
              "1  Write Us Yes Were always looking new authors I...   \n",
              "2  FAQs new features available Beta Wayback Machi...   \n",
              "\n",
              "                                     lemmatized_text  \\\n",
              "0  write for we . want to write for we ?   Digita...   \n",
              "1  write for we . yes , you . we ’re always look ...   \n",
              "2  FAQs for some new feature available in the Bet...   \n",
              "\n",
              "                             lemmatized_cleaned_text  \\\n",
              "0  write want write Digital Lamp one fast grow te...   \n",
              "1  write yes always look new author get idea chal...   \n",
              "2  FAQs new feature available Beta Wayback Machin...   \n",
              "\n",
              "                                            w2v_text  \n",
              "0  write for us . want to write for us ?   digita...  \n",
              "1  write for us . yes , you . we ’re always looki...  \n",
              "2  faqs for some new features available in the be...  "
            ],
            "text/html": [
              "\n",
              "  <div id=\"df-185fd6fd-f474-466e-b34d-3ada7b67916b\">\n",
              "    <div class=\"colab-df-container\">\n",
              "      <div>\n",
              "<style scoped>\n",
              "    .dataframe tbody tr th:only-of-type {\n",
              "        vertical-align: middle;\n",
              "    }\n",
              "\n",
              "    .dataframe tbody tr th {\n",
              "        vertical-align: top;\n",
              "    }\n",
              "\n",
              "    .dataframe thead th {\n",
              "        text-align: right;\n",
              "    }\n",
              "</style>\n",
              "<table border=\"1\" class=\"dataframe\">\n",
              "  <thead>\n",
              "    <tr style=\"text-align: right;\">\n",
              "      <th></th>\n",
              "      <th>text</th>\n",
              "      <th>label</th>\n",
              "      <th>cleaned_text</th>\n",
              "      <th>lemmatized_text</th>\n",
              "      <th>lemmatized_cleaned_text</th>\n",
              "      <th>w2v_text</th>\n",
              "    </tr>\n",
              "  </thead>\n",
              "  <tbody>\n",
              "    <tr>\n",
              "      <th>0</th>\n",
              "      <td>Write For Us. Want to Write for Us?  Digital L...</td>\n",
              "      <td>MISC</td>\n",
              "      <td>Write For Us Want Write Us Digital Lamp one fa...</td>\n",
              "      <td>write for we . want to write for we ?   Digita...</td>\n",
              "      <td>write want write Digital Lamp one fast grow te...</td>\n",
              "      <td>write for us . want to write for us ?   digita...</td>\n",
              "    </tr>\n",
              "    <tr>\n",
              "      <th>1</th>\n",
              "      <td>Write for Us. Yes, you. We’re always looking f...</td>\n",
              "      <td>MISC</td>\n",
              "      <td>Write Us Yes Were always looking new authors I...</td>\n",
              "      <td>write for we . yes , you . we ’re always look ...</td>\n",
              "      <td>write yes always look new author get idea chal...</td>\n",
              "      <td>write for us . yes , you . we ’re always looki...</td>\n",
              "    </tr>\n",
              "    <tr>\n",
              "      <th>2</th>\n",
              "      <td>FAQs for some new features available in the Be...</td>\n",
              "      <td>Blog</td>\n",
              "      <td>FAQs new features available Beta Wayback Machi...</td>\n",
              "      <td>FAQs for some new feature available in the Bet...</td>\n",
              "      <td>FAQs new feature available Beta Wayback Machin...</td>\n",
              "      <td>faqs for some new features available in the be...</td>\n",
              "    </tr>\n",
              "  </tbody>\n",
              "</table>\n",
              "</div>\n",
              "      <button class=\"colab-df-convert\" onclick=\"convertToInteractive('df-185fd6fd-f474-466e-b34d-3ada7b67916b')\"\n",
              "              title=\"Convert this dataframe to an interactive table.\"\n",
              "              style=\"display:none;\">\n",
              "        \n",
              "  <svg xmlns=\"http://www.w3.org/2000/svg\" height=\"24px\"viewBox=\"0 0 24 24\"\n",
              "       width=\"24px\">\n",
              "    <path d=\"M0 0h24v24H0V0z\" fill=\"none\"/>\n",
              "    <path d=\"M18.56 5.44l.94 2.06.94-2.06 2.06-.94-2.06-.94-.94-2.06-.94 2.06-2.06.94zm-11 1L8.5 8.5l.94-2.06 2.06-.94-2.06-.94L8.5 2.5l-.94 2.06-2.06.94zm10 10l.94 2.06.94-2.06 2.06-.94-2.06-.94-.94-2.06-.94 2.06-2.06.94z\"/><path d=\"M17.41 7.96l-1.37-1.37c-.4-.4-.92-.59-1.43-.59-.52 0-1.04.2-1.43.59L10.3 9.45l-7.72 7.72c-.78.78-.78 2.05 0 2.83L4 21.41c.39.39.9.59 1.41.59.51 0 1.02-.2 1.41-.59l7.78-7.78 2.81-2.81c.8-.78.8-2.07 0-2.86zM5.41 20L4 18.59l7.72-7.72 1.47 1.35L5.41 20z\"/>\n",
              "  </svg>\n",
              "      </button>\n",
              "      \n",
              "  <style>\n",
              "    .colab-df-container {\n",
              "      display:flex;\n",
              "      flex-wrap:wrap;\n",
              "      gap: 12px;\n",
              "    }\n",
              "\n",
              "    .colab-df-convert {\n",
              "      background-color: #E8F0FE;\n",
              "      border: none;\n",
              "      border-radius: 50%;\n",
              "      cursor: pointer;\n",
              "      display: none;\n",
              "      fill: #1967D2;\n",
              "      height: 32px;\n",
              "      padding: 0 0 0 0;\n",
              "      width: 32px;\n",
              "    }\n",
              "\n",
              "    .colab-df-convert:hover {\n",
              "      background-color: #E2EBFA;\n",
              "      box-shadow: 0px 1px 2px rgba(60, 64, 67, 0.3), 0px 1px 3px 1px rgba(60, 64, 67, 0.15);\n",
              "      fill: #174EA6;\n",
              "    }\n",
              "\n",
              "    [theme=dark] .colab-df-convert {\n",
              "      background-color: #3B4455;\n",
              "      fill: #D2E3FC;\n",
              "    }\n",
              "\n",
              "    [theme=dark] .colab-df-convert:hover {\n",
              "      background-color: #434B5C;\n",
              "      box-shadow: 0px 1px 3px 1px rgba(0, 0, 0, 0.15);\n",
              "      filter: drop-shadow(0px 1px 2px rgba(0, 0, 0, 0.3));\n",
              "      fill: #FFFFFF;\n",
              "    }\n",
              "  </style>\n",
              "\n",
              "      <script>\n",
              "        const buttonEl =\n",
              "          document.querySelector('#df-185fd6fd-f474-466e-b34d-3ada7b67916b button.colab-df-convert');\n",
              "        buttonEl.style.display =\n",
              "          google.colab.kernel.accessAllowed ? 'block' : 'none';\n",
              "\n",
              "        async function convertToInteractive(key) {\n",
              "          const element = document.querySelector('#df-185fd6fd-f474-466e-b34d-3ada7b67916b');\n",
              "          const dataTable =\n",
              "            await google.colab.kernel.invokeFunction('convertToInteractive',\n",
              "                                                     [key], {});\n",
              "          if (!dataTable) return;\n",
              "\n",
              "          const docLinkHtml = 'Like what you see? Visit the ' +\n",
              "            '<a target=\"_blank\" href=https://colab.research.google.com/notebooks/data_table.ipynb>data table notebook</a>'\n",
              "            + ' to learn more about interactive tables.';\n",
              "          element.innerHTML = '';\n",
              "          dataTable['output_type'] = 'display_data';\n",
              "          await google.colab.output.renderOutput(dataTable, element);\n",
              "          const docLink = document.createElement('div');\n",
              "          docLink.innerHTML = docLinkHtml;\n",
              "          element.appendChild(docLink);\n",
              "        }\n",
              "      </script>\n",
              "    </div>\n",
              "  </div>\n",
              "  "
            ]
          },
          "metadata": {},
          "execution_count": 63
        }
      ]
    },
    {
      "cell_type": "code",
      "source": [
        "df_text[['w2v_text', 'label']]"
      ],
      "metadata": {
        "colab": {
          "base_uri": "https://localhost:8080/",
          "height": 424
        },
        "id": "hX5JYGn5GLbF",
        "outputId": "05cddb68-0088-480b-9b61-eb1d112c4027"
      },
      "execution_count": 64,
      "outputs": [
        {
          "output_type": "execute_result",
          "data": {
            "text/plain": [
              "                                              w2v_text         label\n",
              "0    write for us . want to write for us ?   digita...          MISC\n",
              "1    write for us . yes , you . we ’re always looki...          MISC\n",
              "2    faqs for some new features available in the be...          Blog\n",
              "3    the web credibility project . our research in ...     Home Page\n",
              "4    model djs for retail . djpeoples is the nation...          MISC\n",
              "..                                                 ...           ...\n",
              "326  teach yourself visually search engine optimiza...  Product Page\n",
              "327  the art of seo , 2nd edition . four acknowledg...  Product Page\n",
              "328  submit a guest post – guidelines ( write for u...          MISC\n",
              "329  fully managed magento hosting — jetrails . ful...          MISC\n",
              "330  mission - critical hosting for magento open so...          MISC\n",
              "\n",
              "[331 rows x 2 columns]"
            ],
            "text/html": [
              "\n",
              "  <div id=\"df-bdea4845-95b2-4a48-b0dc-eeac31ba12a7\">\n",
              "    <div class=\"colab-df-container\">\n",
              "      <div>\n",
              "<style scoped>\n",
              "    .dataframe tbody tr th:only-of-type {\n",
              "        vertical-align: middle;\n",
              "    }\n",
              "\n",
              "    .dataframe tbody tr th {\n",
              "        vertical-align: top;\n",
              "    }\n",
              "\n",
              "    .dataframe thead th {\n",
              "        text-align: right;\n",
              "    }\n",
              "</style>\n",
              "<table border=\"1\" class=\"dataframe\">\n",
              "  <thead>\n",
              "    <tr style=\"text-align: right;\">\n",
              "      <th></th>\n",
              "      <th>w2v_text</th>\n",
              "      <th>label</th>\n",
              "    </tr>\n",
              "  </thead>\n",
              "  <tbody>\n",
              "    <tr>\n",
              "      <th>0</th>\n",
              "      <td>write for us . want to write for us ?   digita...</td>\n",
              "      <td>MISC</td>\n",
              "    </tr>\n",
              "    <tr>\n",
              "      <th>1</th>\n",
              "      <td>write for us . yes , you . we ’re always looki...</td>\n",
              "      <td>MISC</td>\n",
              "    </tr>\n",
              "    <tr>\n",
              "      <th>2</th>\n",
              "      <td>faqs for some new features available in the be...</td>\n",
              "      <td>Blog</td>\n",
              "    </tr>\n",
              "    <tr>\n",
              "      <th>3</th>\n",
              "      <td>the web credibility project . our research in ...</td>\n",
              "      <td>Home Page</td>\n",
              "    </tr>\n",
              "    <tr>\n",
              "      <th>4</th>\n",
              "      <td>model djs for retail . djpeoples is the nation...</td>\n",
              "      <td>MISC</td>\n",
              "    </tr>\n",
              "    <tr>\n",
              "      <th>...</th>\n",
              "      <td>...</td>\n",
              "      <td>...</td>\n",
              "    </tr>\n",
              "    <tr>\n",
              "      <th>326</th>\n",
              "      <td>teach yourself visually search engine optimiza...</td>\n",
              "      <td>Product Page</td>\n",
              "    </tr>\n",
              "    <tr>\n",
              "      <th>327</th>\n",
              "      <td>the art of seo , 2nd edition . four acknowledg...</td>\n",
              "      <td>Product Page</td>\n",
              "    </tr>\n",
              "    <tr>\n",
              "      <th>328</th>\n",
              "      <td>submit a guest post – guidelines ( write for u...</td>\n",
              "      <td>MISC</td>\n",
              "    </tr>\n",
              "    <tr>\n",
              "      <th>329</th>\n",
              "      <td>fully managed magento hosting — jetrails . ful...</td>\n",
              "      <td>MISC</td>\n",
              "    </tr>\n",
              "    <tr>\n",
              "      <th>330</th>\n",
              "      <td>mission - critical hosting for magento open so...</td>\n",
              "      <td>MISC</td>\n",
              "    </tr>\n",
              "  </tbody>\n",
              "</table>\n",
              "<p>331 rows × 2 columns</p>\n",
              "</div>\n",
              "      <button class=\"colab-df-convert\" onclick=\"convertToInteractive('df-bdea4845-95b2-4a48-b0dc-eeac31ba12a7')\"\n",
              "              title=\"Convert this dataframe to an interactive table.\"\n",
              "              style=\"display:none;\">\n",
              "        \n",
              "  <svg xmlns=\"http://www.w3.org/2000/svg\" height=\"24px\"viewBox=\"0 0 24 24\"\n",
              "       width=\"24px\">\n",
              "    <path d=\"M0 0h24v24H0V0z\" fill=\"none\"/>\n",
              "    <path d=\"M18.56 5.44l.94 2.06.94-2.06 2.06-.94-2.06-.94-.94-2.06-.94 2.06-2.06.94zm-11 1L8.5 8.5l.94-2.06 2.06-.94-2.06-.94L8.5 2.5l-.94 2.06-2.06.94zm10 10l.94 2.06.94-2.06 2.06-.94-2.06-.94-.94-2.06-.94 2.06-2.06.94z\"/><path d=\"M17.41 7.96l-1.37-1.37c-.4-.4-.92-.59-1.43-.59-.52 0-1.04.2-1.43.59L10.3 9.45l-7.72 7.72c-.78.78-.78 2.05 0 2.83L4 21.41c.39.39.9.59 1.41.59.51 0 1.02-.2 1.41-.59l7.78-7.78 2.81-2.81c.8-.78.8-2.07 0-2.86zM5.41 20L4 18.59l7.72-7.72 1.47 1.35L5.41 20z\"/>\n",
              "  </svg>\n",
              "      </button>\n",
              "      \n",
              "  <style>\n",
              "    .colab-df-container {\n",
              "      display:flex;\n",
              "      flex-wrap:wrap;\n",
              "      gap: 12px;\n",
              "    }\n",
              "\n",
              "    .colab-df-convert {\n",
              "      background-color: #E8F0FE;\n",
              "      border: none;\n",
              "      border-radius: 50%;\n",
              "      cursor: pointer;\n",
              "      display: none;\n",
              "      fill: #1967D2;\n",
              "      height: 32px;\n",
              "      padding: 0 0 0 0;\n",
              "      width: 32px;\n",
              "    }\n",
              "\n",
              "    .colab-df-convert:hover {\n",
              "      background-color: #E2EBFA;\n",
              "      box-shadow: 0px 1px 2px rgba(60, 64, 67, 0.3), 0px 1px 3px 1px rgba(60, 64, 67, 0.15);\n",
              "      fill: #174EA6;\n",
              "    }\n",
              "\n",
              "    [theme=dark] .colab-df-convert {\n",
              "      background-color: #3B4455;\n",
              "      fill: #D2E3FC;\n",
              "    }\n",
              "\n",
              "    [theme=dark] .colab-df-convert:hover {\n",
              "      background-color: #434B5C;\n",
              "      box-shadow: 0px 1px 3px 1px rgba(0, 0, 0, 0.15);\n",
              "      filter: drop-shadow(0px 1px 2px rgba(0, 0, 0, 0.3));\n",
              "      fill: #FFFFFF;\n",
              "    }\n",
              "  </style>\n",
              "\n",
              "      <script>\n",
              "        const buttonEl =\n",
              "          document.querySelector('#df-bdea4845-95b2-4a48-b0dc-eeac31ba12a7 button.colab-df-convert');\n",
              "        buttonEl.style.display =\n",
              "          google.colab.kernel.accessAllowed ? 'block' : 'none';\n",
              "\n",
              "        async function convertToInteractive(key) {\n",
              "          const element = document.querySelector('#df-bdea4845-95b2-4a48-b0dc-eeac31ba12a7');\n",
              "          const dataTable =\n",
              "            await google.colab.kernel.invokeFunction('convertToInteractive',\n",
              "                                                     [key], {});\n",
              "          if (!dataTable) return;\n",
              "\n",
              "          const docLinkHtml = 'Like what you see? Visit the ' +\n",
              "            '<a target=\"_blank\" href=https://colab.research.google.com/notebooks/data_table.ipynb>data table notebook</a>'\n",
              "            + ' to learn more about interactive tables.';\n",
              "          element.innerHTML = '';\n",
              "          dataTable['output_type'] = 'display_data';\n",
              "          await google.colab.output.renderOutput(dataTable, element);\n",
              "          const docLink = document.createElement('div');\n",
              "          docLink.innerHTML = docLinkHtml;\n",
              "          element.appendChild(docLink);\n",
              "        }\n",
              "      </script>\n",
              "    </div>\n",
              "  </div>\n",
              "  "
            ]
          },
          "metadata": {},
          "execution_count": 64
        }
      ]
    },
    {
      "cell_type": "code",
      "source": [
        "labels_encoded = {'Home Page': 0, 'Blog': 1, 'MISC': 2, 'Product Page': 3}\n",
        "df_text[TARGET] = df_text[TARGET].replace(labels_encoded)"
      ],
      "metadata": {
        "id": "Q-Jx3Tz_MbwU"
      },
      "execution_count": 65,
      "outputs": []
    },
    {
      "cell_type": "code",
      "source": [
        "df_text[TARGET].value_counts()"
      ],
      "metadata": {
        "colab": {
          "base_uri": "https://localhost:8080/"
        },
        "id": "l09u0uNAMy5b",
        "outputId": "4fe9ccbf-6ed2-475b-ff0c-22cf5d19c96a"
      },
      "execution_count": 66,
      "outputs": [
        {
          "output_type": "execute_result",
          "data": {
            "text/plain": [
              "0    127\n",
              "1     83\n",
              "2     77\n",
              "3     44\n",
              "Name: label, dtype: int64"
            ]
          },
          "metadata": {},
          "execution_count": 66
        }
      ]
    },
    {
      "cell_type": "code",
      "source": [
        "# Cell 9\n",
        "test_size = 0.15\n",
        "random_state = 0\n",
        "\n",
        "# Important cell # 9\n",
        "column_used = 'w2v_text'\n",
        "\n",
        "X = df_text[[column_used]]\n",
        "y = df_text[TARGET]\n",
        "\n",
        "X_train_val, X_test, y_train_val, y_test = train_test_split(X, y, \n",
        "                                                    test_size=test_size,\n",
        "                                                    stratify=y, \n",
        "                                                    random_state=random_state)\n",
        "\n",
        "X_train, X_val, y_train, y_val = train_test_split(X_train_val, y_train_val, \n",
        "                                                    test_size=1/((1-test_size)/test_size),\n",
        "                                                    stratify=y_train_val, \n",
        "                                                    random_state=random_state)\n",
        "\n",
        "X_train.shape, X_val.shape, X_test.shape, y_train.shape, y_val.shape, y_test.shape"
      ],
      "metadata": {
        "colab": {
          "base_uri": "https://localhost:8080/"
        },
        "id": "ocXx3av_GhgW",
        "outputId": "46dc9f67-ccae-45a3-9dba-5eb916a862f9"
      },
      "execution_count": 67,
      "outputs": [
        {
          "output_type": "execute_result",
          "data": {
            "text/plain": [
              "((231, 1), (50, 1), (50, 1), (231,), (50,), (50,))"
            ]
          },
          "metadata": {},
          "execution_count": 67
        }
      ]
    },
    {
      "cell_type": "code",
      "source": [
        "y_train.value_counts()"
      ],
      "metadata": {
        "colab": {
          "base_uri": "https://localhost:8080/"
        },
        "id": "fQqP4YnUHhOS",
        "outputId": "cbc20789-d27e-42e1-ea89-3a1fd92a341d"
      },
      "execution_count": 68,
      "outputs": [
        {
          "output_type": "execute_result",
          "data": {
            "text/plain": [
              "0    89\n",
              "1    58\n",
              "2    54\n",
              "3    30\n",
              "Name: label, dtype: int64"
            ]
          },
          "metadata": {},
          "execution_count": 68
        }
      ]
    },
    {
      "cell_type": "code",
      "source": [
        "y_val.value_counts()"
      ],
      "metadata": {
        "colab": {
          "base_uri": "https://localhost:8080/"
        },
        "id": "9L39QbXRHq-I",
        "outputId": "f484832c-a15a-4f57-c20b-9519dedd6a99"
      },
      "execution_count": 69,
      "outputs": [
        {
          "output_type": "execute_result",
          "data": {
            "text/plain": [
              "0    19\n",
              "1    13\n",
              "2    11\n",
              "3     7\n",
              "Name: label, dtype: int64"
            ]
          },
          "metadata": {},
          "execution_count": 69
        }
      ]
    },
    {
      "cell_type": "code",
      "source": [
        "y_test.value_counts()"
      ],
      "metadata": {
        "colab": {
          "base_uri": "https://localhost:8080/"
        },
        "id": "IU6i4BvLHtcM",
        "outputId": "09df995b-1c9a-4730-bf45-8d478a81bbb0"
      },
      "execution_count": 70,
      "outputs": [
        {
          "output_type": "execute_result",
          "data": {
            "text/plain": [
              "0    19\n",
              "2    12\n",
              "1    12\n",
              "3     7\n",
              "Name: label, dtype: int64"
            ]
          },
          "metadata": {},
          "execution_count": 70
        }
      ]
    },
    {
      "cell_type": "code",
      "source": [
        "# df_train = pd.concat([X_train, y_train], axis=1)\n",
        "# df_val = pd.concat([X_val, y_val], axis=1)\n",
        "# df_test = pd.concat([X_test, y_test], axis=1)\n",
        "\n",
        "# df_train.shape, df_val.shape, df_test.shape"
      ],
      "metadata": {
        "id": "BgTnQmjTHzz4"
      },
      "execution_count": 71,
      "outputs": []
    },
    {
      "cell_type": "code",
      "source": [
        "# train_path, val_path, test_path = 'bert_train.csv', 'bert_val.csv', 'bert_test.csv'\n",
        "# df_train.to_csv(train_path, index=False)\n",
        "# df_val.to_csv(val_path, index=False)\n",
        "# df_test.to_csv(test_path, index=False)"
      ],
      "metadata": {
        "id": "09wFylT8IMjT"
      },
      "execution_count": 72,
      "outputs": []
    },
    {
      "cell_type": "code",
      "source": [
        "from datasets.dataset_dict import DatasetDict\n",
        "from datasets import Dataset\n",
        "\n",
        "dataset = DatasetDict({\n",
        "    'train':Dataset.from_dict({'text': X_train[column_used],'label': y_train}),\n",
        "    'validation':Dataset.from_dict({'text': X_val[column_used],'label': y_val}),\n",
        "    'test':Dataset.from_dict({'text': X_test[column_used],'label': y_test})\n",
        "    })\n",
        "\n",
        "dataset"
      ],
      "metadata": {
        "colab": {
          "base_uri": "https://localhost:8080/"
        },
        "id": "yRICeqHqIMqW",
        "outputId": "51cc80f6-27ac-4def-d71e-228dc0d38966"
      },
      "execution_count": 73,
      "outputs": [
        {
          "output_type": "execute_result",
          "data": {
            "text/plain": [
              "DatasetDict({\n",
              "    train: Dataset({\n",
              "        features: ['text', 'label'],\n",
              "        num_rows: 231\n",
              "    })\n",
              "    validation: Dataset({\n",
              "        features: ['text', 'label'],\n",
              "        num_rows: 50\n",
              "    })\n",
              "    test: Dataset({\n",
              "        features: ['text', 'label'],\n",
              "        num_rows: 50\n",
              "    })\n",
              "})"
            ]
          },
          "metadata": {},
          "execution_count": 73
        }
      ]
    },
    {
      "cell_type": "code",
      "source": [
        "train_ds = dataset['train']"
      ],
      "metadata": {
        "id": "DggnPESpII3s"
      },
      "execution_count": 74,
      "outputs": []
    },
    {
      "cell_type": "code",
      "source": [
        "print(train_ds[:5])"
      ],
      "metadata": {
        "colab": {
          "base_uri": "https://localhost:8080/"
        },
        "id": "Q5Mh6Z3mKD6c",
        "outputId": "f20326ee-3716-4221-be53-0091efd813e1"
      },
      "execution_count": 75,
      "outputs": [
        {
          "output_type": "stream",
          "name": "stdout",
          "text": [
            "{'text': ['how to use hashtags : how many , best ones , and where to use them . this post originally published on april 8 , 2014 . we ’ve updated it here with new info , screenshots , and a special episode of the buffer podcast – the science of social media .   have you ever found yourself explaining how to use hashtags to someone whose only connection with the word is as a telephone button ?   internet language has evolved considerably over the past few years as social media has taken off . hashtags are a huge part of this evolution . what once was a telephone button is now a social media phenomenon . no wonder people are curious .   when they ask , i tell them that hashtags are a pound sign immediately followed by a keyword . they ’re used for categorization on social media . yes , they can be annoying if overused . and yes , i ’ve seen the hashtag video of jimmy fallon and justin timberlake .   hashtags also have the potential to be truly valuable . the stats and info below make a pretty clear case that we should be understanding , using , and appreciating hashtags .     interested in listening to this post in the podcast format ? we invite you to check out an episode on this topic in buffer ’s very own podcast – the science of social media !   how to listen : itunes | google play | soundcloud | stitcher | rss   if you ’re looking for a completely cut - and - dry ruling on the topic of hashtags , then here it is : you should be using hashtags .   the proliferation of hashtags is truly incredible . what began on twitter has now spread to facebook , google+ , instagram , google search , and almost everywhere in between . ( linkedin   before giving up . )   the widespread acceptance of hashtags should give you plenty of reason to consider using them . i also really enjoy the case laid out by steve cooper , writing for forbes.com :   as ridiculous as hashtags might seem to marketing veterans who remember a time before twitter and facebook , the younger generation and potential customers / clients do n’t . to them , using hashtags is as natural and common as typing their query into the search box .   not only could people be typing in your hashtag on a google search , but they could very well be doing it in twitter , too . in this sense , a hashtag will make your content viewable by anyone with an interest in your hashtag , regardless of whether they ’re part of your clan or not .   a hashtag immediately expands the reach of your tweet beyond just those who follow you , to reach anyone interested in that hashtag phrase or keyword .   but how to use hashtags is a different story completely . how do you find the best ones for your content and make sure you ’ve got them in the right number , on the right social network ? let ’s break it down .   tweets with hashtags get two times more engagement than tweets without .   this data , courtesy of buddy media , is one of the most - cited examples of the effectiveness of hashtags , and for good reason : doubling your online engagement is a big deal ! imagine going from four retweets to eight or 10 retweets to 20 . and all it takes is a simple # or two ?   apparently so . although , you ’ll want to keep it to no more than two .   buddy media ’s research also showed that   : one or two hashtags appear to be the max . when you use more than two hashtags , your engagement actually drops by an average of 17 percent .   twitter ’s own research into hashtags confirms that there is significant advantage to using them . individuals can see a 100 percent increase in engagement by using hashtags ( the same bump as seen in the buddy media study ) . brands can see a 50 percent increase .   engagement , as measured in these studies , can include clicks , retweets , favorites , and replies , yet if it ’s only retweets your after , hashtags still would be a smart bet .   tweets with one or more hashtag are 55 percent more likely to be retweeted .   dan zarella discovered this effect in a study on retweeting behavior that included more than 1.2 million tweets . the large scope of the study made for a 99.9 percent confidence interval with the results .   the one caveat to hashtags on twitter might come for those brands looking to gain clicks on twitter ads . in the case of advertisements , twitter found that tweets without a # or @-mention generate 23 percent more clicks .   the reason ? hashtags and @-mentions give people more places to click inside a tweet instead of focusing solely on a call - to - action .   instagram is another hotspot for hashtags , and the good news for those who love to extensively tag photos is that there does n’t seem to be a saturation point .   interactions are highest on instagram posts with 11 + hashtags .   a rule of thumb could be : do n’t sweat your amount of instagram hashtags .   the best part about this recommendation is that the data comes from a set of users with 1,000 or fewer followers — a group that likely includes small businesses and those just diving in to instagram . in other words , hashtags could be your best bet for growing a fast following on instagram .   the instagram shadowban   there has been a lot of talk recently among marketers about what ’s called the instagram shadowban . essentially , a shadowban is when instagram withholds the distribution of your photo or video on instagram due to “ inappropriate content . ” inappropriate content can vary widely , but usually it has to do with the content of the photos or videos themselves or spam - like behavior such as using bots to engage with users or banned hashtags .   later put together an interesting and insightful guide on how to navigate the instagram shadowban in order to keep your account in the green and your photos / videos seen . in that article , later shares a direct statement from the instagram team regarding the proper use of hashtags on the platform :   how to avoid shadowbanning on instagram   alex tooby , instagram expert and influencer , shares her top tips on how to avoid the instagram shadowban . here ’s a quick overview so that you can keep your account in the clear today :   avoid using banned or broken hashtags in your caption and/or comments   avoid using any type of software that violates instagram ’s terms of service   avoid any big surges in your instagram activity ( ex . , liking or commenting with bots )   avoid being reported by users by posting only appropriate content to instagram   looking to learn more about the instagram shadowban ? we cover that and more in this episode of our buffer podcast – the science of social media !   how to listen : itunes | google play | soundcloud | stitcher | rss   so yes , twitter and instagram are clear winners for hashtags . but what about facebook ? here ’s where the recommendation gets a little trickier .   facebook posts without a hashtag fare better than those with a hashtag .   hashtags have only been around on facebook since june 2013 , and three months later , research from edgerank checker found that using hashtags on facebook has zero positive effect on reach . posts without hashtags outperform those with hashtags .   a lot could have changed since september , when this data was first released . should you abandon hashtags on facebook solely due to this research ? it ’s probably best to test . there ’s still a lot of analysis left to be done . for instance , social bakers studied posts in february of this year and found that using hashtags might not be the main worry , but rather using too many hashtags ( just like the advice on twitter ) .   on google+ , your posts are given hashtags automatically based on their content , but you can also edit them or add your own . also unique about google+ : you can add hashtags in your comments as well as your post – double the opportunities to be found .   and since google+ is google ’s social network , hashtags are now built right into google searches . if you type in a hashtag search , you ’ll get the normal search results plus a sidebar of relevant google+ posts . hashtags have truly arrived !   google+ ’s “ related hashtags ” also offer smart marketers a brainstorming opportunity to discover new content ideas and gauge interest level in specific topics .     using the right tools , you can use hashtags as an organization system for your social media campaigns . with everything collected under one hashtag banner , you can see at - a - glance the reach of your campaign and the discussions happening around the topic .   1 . hashtagify.me   one of the most complete hashtag tools you will find , hashtagify.me has reams of data you can use to analyze hashtags . the most helpful could very well be the first data you ’re shown : related hashtags and their popularity . when you type in a hashtag , the service will show you other hashtags to consider and will display visually how popular each hashtag is and how closely it correlates to the original .   2 . ritetag   ritetag helps ensure that the tags you use are well - chosen by showing you how good , great , or overused a particular hashtag is . the visual organization of hashtags into colored bars works great for quick analysis at - a - glance .   3 .   with tagboard , you can see how your hashtag is used across multiple networks . the results pages on tagboard show hashtagged posts from twitter , facebook , instagram , google+ , vine , and app.net   4 . twitalyzer   though not an explicitly hashtag tool , twitalyzer does show hashtags as part of its audit of twitter accounts . input the username of someone you want to investigate , and twitalyzer can tell you what hashtags he or she uses most often . this can be really helpful in finding out how your niche ’s influencers tweet .   local businesses might find value in trendsmap , which shows you relevant hashtags that are being used in your geographic area . ( # wrestlemania is a popular one where i am in idaho . )   4 steps to find the right hashtag to use   using the tools above , you can hone in on a few ideal hashtags to start with , and like most things online , test and iterate from there .   1 . learn from the best : what hashtags are influencers using ?   twitalyzer can give you a good foundation of where to begin for your hashtag search by showing you how influencers are using hashtags . grab a handful of usernames of people and brands in your industry whom you admire , and input the accounts into twitalyzer . at the bottom of the results page , you ’ll see a section for their most commonly - used hashtags . add the relevant ones to your list of potential hashtags .   let ’s say i wanted to find some hashtags to use in promoting social media marketing content . i might start with a list of names like jeff bullas , jay baer , mari smith , and ann handley . here is what the hashtag results on twitalyzer look like for jeff bullas :   info like this would lead me to start a short list of hashtags like :   # socialmedia   # smm   # twitter   # contentmarketing   # social   # content   # marketing   2 . cover all your bases : are there related hashtags you should be considering ?   armed with an idea list of hashtags , you can then hop into hashtagify.me to see which related hashtags might also be worth pursuing . while you ’re doing this exercise , take note of the circle size on your results : the larger the circle , the more popular the hashtag .   again , following our social media marketing example , here is what the results page would look like for a search of # socialmedia :   not every hashtag listed here will be relevant to you , but it does help to see some that you might not have previously considered . in the case of our example , i might add # business , # infographic , and hashtags of specific network names like # twitter and # facebook .   3 . identify the all - stars : which hashtags are the best to use ?   popularity and volume can be good indicators of the value of your hashtag , but you may wish to go one step further . hashtagify.me has advanced , premium tools that let you go deeper into statistics on individual hashtags . in a pinch , you can also get some solid data from ritetag and their visual expression of   how much each tag can boost your post ’s reach .   among posts that contain the word “ marketing , ” ritetag shows these tags as the most likely to be great , good , or overused . ( there ’s that # wrestlemania tag again ! )   4 . double check : could your chosen hashtags mean something else entirely ?   one last check before you finalize your list of hashtags should be whether or not the hashtag you ’ve chosen is being used elsewhere in an entirely different context .   the worst thing that can happen when using a hashtag is to realize after it ’s tweeted that the same hashtag is used for an entirely different topic .   jawbone tried a # knowyourself campaign on instagram , only to find that the hashtag was already being used generically by thousands of users in all sorts of different contexts . this did n’t necessarily ruin jawbone ’s campaign , but it may have made life a little more difficult for the marketing team .   takeaways   hopefully you ’ve learned the value of hashtags here and a few neat ideas on how to find some to use in your social sharing . if you ’re looking for a simple rule of thumb for hashtagging posts , i think there ’s a lot of truth here in this advice from the next web :   rule of thumb : 1 – 3 tags is best over all platforms .   twitter : to categorize   pinterest : to brand , and be specific ( tags are only clickable in pin descriptions )   instagram : to build community , and be unique / detailed   google+ : to categorize ; autogenerates tags based on what it thinks your post is most relevant to   tumblr : to categorize interests , can be specific and general ( has a “ track your tags ” feature )   facebook : sort of a hashtag fail – if your audience is very business - minded , follow twitter rules ; if it is community - oriented , follow pinterest / instagram rules   what hashtags do you routinely use on social media ? i ’d love to hear how you ’ve put hashtags to work in your social media strategy .   p.s. if you liked this post , you might enjoy our buffer blog newsletter . receive each new post delivered right to your inbox , plus our can’t - miss weekly email of the internet ’s best reads . sign up here .   image credit : mikecogh , unsplash , iconfinder , pablo , quick sprout', 'using whiteboard videos in education to get the message to stick . why use whiteboard videos in education   we have this big challenge today , in how to engage people when technology actually is competing for their attention in so many different ways . one of the things we can learn from , is the research into whiteboard videos . we already know that video is a powerful means of communication , it \\'s the language of young people , and we also know that scribe videos or whiteboard videos ; that style of animation , is particularly effective . it \\'s a form of multimedia which richard mayer has shown increases problem solving by up to 75 % . these are incredibly popular videos , this style is loved . if you look at the rsa animate series , those education scribe videos that have over 50 million views on youtube , not quite as many as gangnam style , but still , if you look at those , they are so popular that the psychologist richard wiseman investigated what it was about them that grabbed people \\'s attention so much . what he found was that for information presented in that style , there \\'s an average 15 % increase in remembering information compared to ordinary talking head videos .   whiteboard videos are fun and entertaining .   whiteboard videos are both fun and entertaining . whiteboard animations are fun , its a fun style they put people in a good mood , again wiseman said suddenly its not so much work . it not only makes students have a better time , more importantly it means the information is just going in . so , when you look around your classroom are you seeing people in a good mood ? is it a place of fun ? are you seeing happy faces desperate to learn ? one teacher told us her students clap at the end of her whiteboard videos , and that they get withdrawal symptoms from watching them , and so they go home and watch them at the weekends .   whiteboard videos are both fun and entertaining . whiteboard animations are fun , its a fun style they put people in a good mood , again wiseman said suddenly its not so much work . it not only makes students have a better time , more importantly it means the information is just going in . so , when you look around your classroom are you seeing people in a good mood ? is it a place of fun ? are you seeing happy faces desperate to learn ? one teacher told us her students clap at the end of her whiteboard videos , and that they get withdrawal symptoms from watching them , and so they go home and watch them at the weekends . whiteboard videos stick in your mind .   they are engaging , unique , creative , exciting , and inspiring . something you ca n\\'t get from text alone . do i need to continue ? here \\'s a fact . it has been proven that 80 % of viewers will watch a video and have a positive response . now that \\'s impressive !   they are engaging , unique , creative , exciting , and inspiring . something you ca n\\'t get from text alone . do i need to continue ? here \\'s a fact . it has been proven that 80 % of viewers will watch a video and have a positive response . now that \\'s impressive ! whiteboard videos hold attention .   they are short and engaging and keep us wanting to know more in a compelling way . text alone , even combined with still images , just ca n\\'t do that . take a look at the video and compare it to a powerpoint presentation . bring up any slide presentation and try to judge the attention you are giving it , compared to the video . better still , see our slideshow \" world \\'s most boring presentation \" on the subject and then view the video at the end of the article .   they are short and engaging and keep us wanting to know more in a compelling way . text alone , even combined with still images , just ca n\\'t do that . take a look at the video and compare it to a powerpoint presentation . bring up any slide presentation and try to judge the attention you are giving it , compared to the video . better still , see our slideshow \" world \\'s most boring presentation \" on the subject and then view the video at the end of the article . whiteboard videos communicate .   people do enjoy watching visuals . it gets your message across . they are cheaper to create than a filmed video ( does spielberg come cheap ? ) . viewers will retain your message - which is paramount . universities , schools , other educational establishments , and even museums are realizing the potential of whiteboard animation as a teaching aid . owing to their broad appeal , whiteboard videos can engage an entire class , despite learning preferences . so , reaching out to any audience is possible .', 'ai chatbot software for automated customer service . any channel , anytime   rather than relying on single - point solutions for each support channel , pair live chat with chatbots , voice , video , cobrowse , and email to connect with your customers anywhere they choose at any time — all within acquire ’s unified customer service platform .', 'honest guitar & effects pedal reviews . welcome to guitaarr.com , the online resource filled with everything you need when it comes to playing the guitar .   from buyers guides like our popular multi effects pedal guide and in - depth product reviews to answers to your burning questions . it is our mission to create the ultimate website for guitarists .', 'shippingeasy - automate shipping and save with the best shipping rates . shippingeasy for shopify   shippingeasy is a leading shopify shipping app for businesses of all sizes that features industry - leading , award - winning service — we help you get set up , print labels , and save money .   save money on every order shipped   cut costs on every shipment with discounted usps and ups shipping rates . we also offer proprietary flat rate green cubic shipping rates to save even more . have your own carrier account ? add it and use your rates in shippingeasy .   save time fulfilling orders   powerful yet easy automation with seamless imports from your selling channels cuts hours from your day . our award - winning support team makes sure all your questions are answered and the setup meets your workflows .   sync , manage , process , and print shipping labels for your shopify orders , and everywhere else you sell online , in one place   process orders from shopify many other selling channels and marketplaces , all from the shippingeasy app   eliminate the need for copy / paste of addresses and order information forever   automatically update order status back to shopify and any of your other selling platforms   auto - populate customs forms and simplify international shipments   print labels in batches or 1 by 1 — we support how you ship   boost your customers \\' shopping experience   give your customers a branded shipping experience with branded tracking for your shipments , logos on shipping labels , and custom confirmation emails . build your email list with signup forms and increase sales with our customer marketing tool , which includes abandoned cart emails to reduce lost sales .   more options for customers , including :   automatically email your customers a tracking number in real - time   automated emails and pre - built email marketing templates to earn reviews and repeat business   customer information and purchase history all in one place   beautiful customized packing slips , branded and in color , or print packing slips on 4x6 \" shipping labels   advanced features available to take your business operations to the next level   automatically reduce lost sales with customized abandoned cart emails   build your email marketing list with customized signup forms   brand the entire shipping experience with customized branded tracking pages and emails , with more features to come   process orders faster and more accurately so you can do what \\'s important — grow and promote your business .'], 'label': [1, 1, 3, 0, 3]}\n"
          ]
        }
      ]
    },
    {
      "cell_type": "code",
      "source": [
        "from transformers import AutoTokenizer\n",
        "model_ckpt = \"distilbert-base-uncased\"\n",
        "tokenizer = AutoTokenizer.from_pretrained(model_ckpt)"
      ],
      "metadata": {
        "colab": {
          "base_uri": "https://localhost:8080/",
          "height": 145,
          "referenced_widgets": [
            "708c4a5b256a4d3b89af0a5c846ffdd0",
            "896cbce03caf4e07818b493dbcfe0a55",
            "4e74032f168747d9a4fca57938e84292",
            "11d6b2695a764642b03e22a83ff186f8",
            "e7d1b7b4a7984e0d8573e4d28fa55e22",
            "11d36cf567b342efadc7c02afffa895b",
            "4cda1a24394b46ec97436a3a5e238e68",
            "7cec5ed0c8f34c5c89be9970b00fe552",
            "a4e6f698798f4f82a4f08f93a67eb072",
            "3d4e691632384dcb93fec1201764a1da",
            "e4fc855c0d9c4bf8828ce503be9d5a34",
            "6a0d9b09752c436a8962ba283ee9850b",
            "6a75e9a75f0948ebb96f3c2bcfd077e8",
            "29bc38a255d245f792207a982e31b46a",
            "420f94c0ec9740d9b6eb56b0baaed14e",
            "e8557cad49304d9aab2c996c4e8d70a8",
            "4ec31dd5bc0d4744ab8af5f54a87e9f8",
            "3a584c2b9cf444c783a57e4dfdc04c85",
            "7497892129014f35b502f106bbcf32b2",
            "04a220ac2d7248eeb972b12bd292376b",
            "ad28fb560e4e434cb85100c96cbb29b2",
            "1791d9b9b7154b93bb70822f8c16631d",
            "bf16f4e3fd894641944dd1c9121ce4c6",
            "7e94b79b4b8b454c90054f1309dc074d",
            "23b374f9faca49a3883b688d1b2edbf4",
            "faf7b2fd604d497f83d9cbd9db5b6f97",
            "83931533d05b4a489d5777b426d01bb0",
            "425439652d50461c93340bdaad1c8674",
            "6cdd80621d434c77a64c253d49d611c3",
            "f55251130a23470c8dcc0cd1429a3004",
            "993b4f0dea0948278b8c6c2b7c93b62b",
            "bf55fa9ad1b34799833c45f6927dfa62",
            "1f6427ca4256449688869ca4d8474348",
            "9c53a4207faf4ed3bc357b9311a7b03f",
            "40302d74563f45fabcfb55842a16d581",
            "2978ac020ad24b21a3cd6abe00704b9f",
            "39111e6e53b8460c899f8d51c01f2cd7",
            "99dbdf423b364addab42603a78a0ccc7",
            "b5855b107d124253936b843881a3559e",
            "12d847cac1934b64b2d9e9dc08ea0b83",
            "c9ccdc7ceb1147ca9bd10b2647356dbe",
            "be051daf8b5947a2984a85657da9b2d2",
            "614dc957e7404d66bf31c77716f7a82f",
            "8a01c550f0be41e5bb2fa7df5247bd6f"
          ]
        },
        "id": "FJ2rH2UeKGOH",
        "outputId": "02fb16da-9d0a-4872-b0e0-4b1c22e4c0bb"
      },
      "execution_count": 76,
      "outputs": [
        {
          "output_type": "display_data",
          "data": {
            "text/plain": [
              "Downloading:   0%|          | 0.00/28.0 [00:00<?, ?B/s]"
            ],
            "application/vnd.jupyter.widget-view+json": {
              "version_major": 2,
              "version_minor": 0,
              "model_id": "708c4a5b256a4d3b89af0a5c846ffdd0"
            }
          },
          "metadata": {}
        },
        {
          "output_type": "display_data",
          "data": {
            "text/plain": [
              "Downloading:   0%|          | 0.00/483 [00:00<?, ?B/s]"
            ],
            "application/vnd.jupyter.widget-view+json": {
              "version_major": 2,
              "version_minor": 0,
              "model_id": "6a0d9b09752c436a8962ba283ee9850b"
            }
          },
          "metadata": {}
        },
        {
          "output_type": "display_data",
          "data": {
            "text/plain": [
              "Downloading:   0%|          | 0.00/232k [00:00<?, ?B/s]"
            ],
            "application/vnd.jupyter.widget-view+json": {
              "version_major": 2,
              "version_minor": 0,
              "model_id": "bf16f4e3fd894641944dd1c9121ce4c6"
            }
          },
          "metadata": {}
        },
        {
          "output_type": "display_data",
          "data": {
            "text/plain": [
              "Downloading:   0%|          | 0.00/466k [00:00<?, ?B/s]"
            ],
            "application/vnd.jupyter.widget-view+json": {
              "version_major": 2,
              "version_minor": 0,
              "model_id": "9c53a4207faf4ed3bc357b9311a7b03f"
            }
          },
          "metadata": {}
        }
      ]
    },
    {
      "cell_type": "code",
      "source": [
        "text = \"Tokenizing text is a core task of NLP.\"\n",
        "encoded_text = tokenizer(text)\n",
        "encoded_text"
      ],
      "metadata": {
        "colab": {
          "base_uri": "https://localhost:8080/"
        },
        "id": "jgsdPyZuK0AE",
        "outputId": "60252395-f374-49b7-830a-a6cc791ab16c"
      },
      "execution_count": 77,
      "outputs": [
        {
          "output_type": "execute_result",
          "data": {
            "text/plain": [
              "{'input_ids': [101, 19204, 6026, 3793, 2003, 1037, 4563, 4708, 1997, 17953, 2361, 1012, 102], 'attention_mask': [1, 1, 1, 1, 1, 1, 1, 1, 1, 1, 1, 1, 1]}"
            ]
          },
          "metadata": {},
          "execution_count": 77
        }
      ]
    },
    {
      "cell_type": "code",
      "source": [
        "tokens = tokenizer.convert_ids_to_tokens(encoded_text.input_ids)\n",
        "print(tokens)"
      ],
      "metadata": {
        "colab": {
          "base_uri": "https://localhost:8080/"
        },
        "id": "VVGMkFeQLBJJ",
        "outputId": "763a913e-3087-4716-dbbf-867dfdb029fb"
      },
      "execution_count": 78,
      "outputs": [
        {
          "output_type": "stream",
          "name": "stdout",
          "text": [
            "['[CLS]', 'token', '##izing', 'text', 'is', 'a', 'core', 'task', 'of', 'nl', '##p', '.', '[SEP]']\n"
          ]
        }
      ]
    },
    {
      "cell_type": "code",
      "source": [
        "print(tokenizer.convert_tokens_to_string(tokens))"
      ],
      "metadata": {
        "colab": {
          "base_uri": "https://localhost:8080/"
        },
        "id": "lA-2qSJGLL_5",
        "outputId": "d7a45fc6-17ed-461a-919a-852a2896a78f"
      },
      "execution_count": 79,
      "outputs": [
        {
          "output_type": "stream",
          "name": "stdout",
          "text": [
            "[CLS] tokenizing text is a core task of nlp. [SEP]\n"
          ]
        }
      ]
    },
    {
      "cell_type": "code",
      "source": [
        "def tokenize(batch):\n",
        "    return tokenizer(batch[\"text\"], padding=True, truncation=True)"
      ],
      "metadata": {
        "id": "oo83xEZNLSb4"
      },
      "execution_count": 80,
      "outputs": []
    },
    {
      "cell_type": "code",
      "source": [
        "print(tokenize(dataset[\"train\"][:2])) "
      ],
      "metadata": {
        "colab": {
          "base_uri": "https://localhost:8080/"
        },
        "id": "QshS2zMZLZWJ",
        "outputId": "dc547673-84a1-4f32-b21f-f28e6ec16b2a"
      },
      "execution_count": 81,
      "outputs": [
        {
          "output_type": "stream",
          "name": "stdout",
          "text": [
            "{'input_ids': [[101, 2129, 2000, 2224, 23325, 15900, 2015, 1024, 2129, 2116, 1010, 2190, 3924, 1010, 1998, 2073, 2000, 2224, 2068, 1012, 2023, 2695, 2761, 2405, 2006, 2258, 1022, 1010, 2297, 1012, 2057, 1521, 2310, 7172, 2009, 2182, 2007, 2047, 18558, 1010, 12117, 12326, 2015, 1010, 1998, 1037, 2569, 2792, 1997, 1996, 17698, 16110, 1516, 1996, 2671, 1997, 2591, 2865, 1012, 2031, 2017, 2412, 2179, 4426, 9990, 2129, 2000, 2224, 23325, 15900, 2015, 2000, 2619, 3005, 2069, 4434, 2007, 1996, 2773, 2003, 2004, 1037, 7026, 6462, 1029, 4274, 2653, 2038, 7964, 9839, 2058, 1996, 2627, 2261, 2086, 2004, 2591, 2865, 2038, 2579, 2125, 1012, 23325, 15900, 2015, 2024, 1037, 4121, 2112, 1997, 2023, 6622, 1012, 2054, 2320, 2001, 1037, 7026, 6462, 2003, 2085, 1037, 2591, 2865, 9575, 1012, 2053, 4687, 2111, 2024, 8025, 1012, 2043, 2027, 3198, 1010, 1045, 2425, 2068, 2008, 23325, 15900, 2015, 2024, 1037, 9044, 3696, 3202, 2628, 2011, 1037, 3145, 18351, 1012, 2027, 1521, 2128, 2109, 2005, 4937, 20265, 26910, 2006, 2591, 2865, 1012, 2748, 1010, 2027, 2064, 2022, 15703, 2065, 2058, 13901, 1012, 1998, 2748, 1010, 1045, 1521, 2310, 2464, 1996, 23325, 15900, 2678, 1997, 5261, 16443, 1998, 6796, 7227, 14530, 1012, 23325, 15900, 2015, 2036, 2031, 1996, 4022, 2000, 2022, 5621, 7070, 1012, 1996, 26319, 1998, 18558, 2917, 2191, 1037, 3492, 3154, 2553, 2008, 2057, 2323, 2022, 4824, 1010, 2478, 1010, 1998, 10439, 2890, 7405, 3436, 23325, 15900, 2015, 1012, 4699, 1999, 5962, 2000, 2023, 2695, 1999, 1996, 16110, 4289, 1029, 2057, 13260, 2017, 2000, 4638, 2041, 2019, 2792, 2006, 2023, 8476, 1999, 17698, 1521, 1055, 2200, 2219, 16110, 1516, 1996, 2671, 1997, 2591, 2865, 999, 2129, 2000, 4952, 1024, 11943, 1064, 8224, 2377, 1064, 2614, 20464, 19224, 1064, 26035, 2121, 1064, 12667, 2015, 2065, 2017, 1521, 2128, 2559, 2005, 1037, 3294, 3013, 1011, 1998, 1011, 4318, 6996, 2006, 1996, 8476, 1997, 23325, 15900, 2015, 1010, 2059, 2182, 2009, 2003, 1024, 2017, 2323, 2022, 2478, 23325, 15900, 2015, 1012, 1996, 20250, 1997, 23325, 15900, 2015, 2003, 5621, 9788, 1012, 2054, 2211, 2006, 10474, 2038, 2085, 3659, 2000, 9130, 1010, 8224, 1009, 1010, 16021, 23091, 1010, 8224, 3945, 1010, 1998, 2471, 7249, 1999, 2090, 1012, 1006, 5799, 2378, 2077, 3228, 2039, 1012, 1007, 1996, 6923, 9920, 1997, 23325, 15900, 2015, 2323, 2507, 2017, 7564, 1997, 3114, 2000, 5136, 2478, 2068, 1012, 1045, 2036, 2428, 5959, 1996, 2553, 4201, 2041, 2011, 3889, 6201, 1010, 3015, 2005, 10822, 1012, 4012, 1024, 2004, 9951, 2004, 23325, 15900, 2015, 2453, 4025, 2000, 5821, 8244, 2040, 3342, 1037, 2051, 2077, 10474, 1998, 9130, 1010, 1996, 3920, 4245, 1998, 4022, 6304, 1013, 7846, 2079, 1050, 1521, 1056, 1012, 2000, 2068, 1010, 2478, 23325, 15900, 2015, 2003, 2004, 3019, 1998, 2691, 2004, 22868, 2037, 23032, 2046, 1996, 3945, 3482, 1012, 2025, 2069, 2071, 2111, 2022, 22868, 1999, 2115, 23325, 15900, 2006, 1037, 8224, 3945, 1010, 2021, 2027, 2071, 2200, 2092, 2022, 2725, 2009, 1999, 10474, 1010, 2205, 1012, 1999, 2023, 3168, 1010, 1037, 23325, 15900, 2097, 2191, 2115, 4180, 3193, 3085, 2011, 3087, 2007, 2019, 3037, 1999, 2115, 23325, 15900, 1010, 7539, 1997, 3251, 2027, 102], [101, 2478, 2317, 6277, 6876, 1999, 2495, 2000, 2131, 1996, 4471, 2000, 6293, 1012, 2339, 2224, 2317, 6277, 6876, 1999, 2495, 2057, 2031, 2023, 2502, 4119, 2651, 1010, 1999, 2129, 2000, 8526, 2111, 2043, 2974, 2941, 2003, 6637, 2005, 2037, 3086, 1999, 2061, 2116, 2367, 3971, 1012, 2028, 1997, 1996, 2477, 2057, 2064, 4553, 2013, 1010, 2003, 1996, 2470, 2046, 2317, 6277, 6876, 1012, 2057, 2525, 2113, 2008, 2678, 2003, 1037, 3928, 2965, 1997, 4807, 1010, 2009, 1005, 1055, 1996, 2653, 1997, 2402, 2111, 1010, 1998, 2057, 2036, 2113, 2008, 27789, 6876, 2030, 2317, 6277, 6876, 1025, 2008, 2806, 1997, 7284, 1010, 2003, 3391, 4621, 1012, 2009, 1005, 1055, 1037, 2433, 1997, 14959, 2029, 2957, 14687, 2038, 3491, 7457, 3291, 13729, 2011, 2039, 2000, 4293, 1003, 1012, 2122, 2024, 11757, 2759, 6876, 1010, 2023, 2806, 2003, 3866, 1012, 2065, 2017, 2298, 2012, 1996, 12667, 2050, 2019, 21499, 2186, 1010, 2216, 2495, 27789, 6876, 2008, 2031, 2058, 2753, 2454, 5328, 2006, 7858, 1010, 2025, 3243, 2004, 2116, 2004, 6080, 13129, 2806, 1010, 2021, 2145, 1010, 2065, 2017, 2298, 2012, 2216, 1010, 2027, 2024, 2061, 2759, 2008, 1996, 15034, 2957, 7968, 2386, 10847, 2054, 2009, 2001, 2055, 2068, 2008, 4046, 2111, 1005, 1055, 3086, 2061, 2172, 1012, 2054, 2002, 2179, 2001, 2008, 2005, 2592, 3591, 1999, 2008, 2806, 1010, 2045, 1005, 1055, 2019, 2779, 2321, 1003, 3623, 1999, 10397, 2592, 4102, 2000, 6623, 3331, 2132, 6876, 1012, 2317, 6277, 6876, 2024, 4569, 1998, 14036, 1012, 2317, 6277, 6876, 2024, 2119, 4569, 1998, 14036, 1012, 2317, 6277, 7284, 2015, 2024, 4569, 1010, 2049, 1037, 4569, 2806, 2027, 2404, 2111, 1999, 1037, 2204, 6888, 1010, 2153, 7968, 2386, 2056, 3402, 2049, 2025, 2061, 2172, 2147, 1012, 2009, 2025, 2069, 3084, 2493, 2031, 1037, 2488, 2051, 1010, 2062, 14780, 2009, 2965, 1996, 2592, 2003, 2074, 2183, 1999, 1012, 2061, 1010, 2043, 2017, 2298, 2105, 2115, 9823, 2024, 2017, 3773, 2111, 1999, 1037, 2204, 6888, 1029, 2003, 2009, 1037, 2173, 1997, 4569, 1029, 2024, 2017, 3773, 3407, 5344, 7143, 2000, 4553, 1029, 2028, 3836, 2409, 2149, 2014, 2493, 28618, 2012, 1996, 2203, 1997, 2014, 2317, 6277, 6876, 1010, 1998, 2008, 2027, 2131, 10534, 8030, 2013, 3666, 2068, 1010, 1998, 2061, 2027, 2175, 2188, 1998, 3422, 2068, 2012, 1996, 13499, 1012, 2317, 6277, 6876, 2024, 2119, 4569, 1998, 14036, 1012, 2317, 6277, 7284, 2015, 2024, 4569, 1010, 2049, 1037, 4569, 2806, 2027, 2404, 2111, 1999, 1037, 2204, 6888, 1010, 2153, 7968, 2386, 2056, 3402, 2049, 2025, 2061, 2172, 2147, 1012, 2009, 2025, 2069, 3084, 2493, 2031, 1037, 2488, 2051, 1010, 2062, 14780, 2009, 2965, 1996, 2592, 2003, 2074, 2183, 1999, 1012, 2061, 1010, 2043, 2017, 2298, 2105, 2115, 9823, 2024, 2017, 3773, 2111, 1999, 1037, 2204, 6888, 1029, 2003, 2009, 1037, 2173, 1997, 4569, 1029, 2024, 2017, 3773, 3407, 5344, 7143, 2000, 4553, 1029, 2028, 3836, 2409, 2149, 2014, 2493, 28618, 2012, 1996, 2203, 1997, 2014, 2317, 6277, 6876, 1010, 1998, 2008, 2027, 2131, 10534, 8030, 2013, 3666, 2068, 1010, 1998, 2061, 2027, 2175, 2188, 1998, 3422, 2068, 2012, 1996, 13499, 1012, 2317, 6277, 6876, 6293, 1999, 2115, 102]], 'attention_mask': [[1, 1, 1, 1, 1, 1, 1, 1, 1, 1, 1, 1, 1, 1, 1, 1, 1, 1, 1, 1, 1, 1, 1, 1, 1, 1, 1, 1, 1, 1, 1, 1, 1, 1, 1, 1, 1, 1, 1, 1, 1, 1, 1, 1, 1, 1, 1, 1, 1, 1, 1, 1, 1, 1, 1, 1, 1, 1, 1, 1, 1, 1, 1, 1, 1, 1, 1, 1, 1, 1, 1, 1, 1, 1, 1, 1, 1, 1, 1, 1, 1, 1, 1, 1, 1, 1, 1, 1, 1, 1, 1, 1, 1, 1, 1, 1, 1, 1, 1, 1, 1, 1, 1, 1, 1, 1, 1, 1, 1, 1, 1, 1, 1, 1, 1, 1, 1, 1, 1, 1, 1, 1, 1, 1, 1, 1, 1, 1, 1, 1, 1, 1, 1, 1, 1, 1, 1, 1, 1, 1, 1, 1, 1, 1, 1, 1, 1, 1, 1, 1, 1, 1, 1, 1, 1, 1, 1, 1, 1, 1, 1, 1, 1, 1, 1, 1, 1, 1, 1, 1, 1, 1, 1, 1, 1, 1, 1, 1, 1, 1, 1, 1, 1, 1, 1, 1, 1, 1, 1, 1, 1, 1, 1, 1, 1, 1, 1, 1, 1, 1, 1, 1, 1, 1, 1, 1, 1, 1, 1, 1, 1, 1, 1, 1, 1, 1, 1, 1, 1, 1, 1, 1, 1, 1, 1, 1, 1, 1, 1, 1, 1, 1, 1, 1, 1, 1, 1, 1, 1, 1, 1, 1, 1, 1, 1, 1, 1, 1, 1, 1, 1, 1, 1, 1, 1, 1, 1, 1, 1, 1, 1, 1, 1, 1, 1, 1, 1, 1, 1, 1, 1, 1, 1, 1, 1, 1, 1, 1, 1, 1, 1, 1, 1, 1, 1, 1, 1, 1, 1, 1, 1, 1, 1, 1, 1, 1, 1, 1, 1, 1, 1, 1, 1, 1, 1, 1, 1, 1, 1, 1, 1, 1, 1, 1, 1, 1, 1, 1, 1, 1, 1, 1, 1, 1, 1, 1, 1, 1, 1, 1, 1, 1, 1, 1, 1, 1, 1, 1, 1, 1, 1, 1, 1, 1, 1, 1, 1, 1, 1, 1, 1, 1, 1, 1, 1, 1, 1, 1, 1, 1, 1, 1, 1, 1, 1, 1, 1, 1, 1, 1, 1, 1, 1, 1, 1, 1, 1, 1, 1, 1, 1, 1, 1, 1, 1, 1, 1, 1, 1, 1, 1, 1, 1, 1, 1, 1, 1, 1, 1, 1, 1, 1, 1, 1, 1, 1, 1, 1, 1, 1, 1, 1, 1, 1, 1, 1, 1, 1, 1, 1, 1, 1, 1, 1, 1, 1, 1, 1, 1, 1, 1, 1, 1, 1, 1, 1, 1, 1, 1, 1, 1, 1, 1, 1, 1, 1, 1, 1, 1, 1, 1, 1, 1, 1, 1, 1, 1, 1, 1, 1, 1, 1, 1, 1, 1, 1, 1, 1, 1, 1, 1, 1, 1, 1, 1, 1, 1, 1, 1, 1, 1, 1, 1, 1, 1, 1, 1, 1, 1, 1, 1, 1, 1, 1, 1, 1, 1, 1, 1, 1, 1, 1, 1, 1, 1, 1, 1, 1, 1, 1, 1, 1], [1, 1, 1, 1, 1, 1, 1, 1, 1, 1, 1, 1, 1, 1, 1, 1, 1, 1, 1, 1, 1, 1, 1, 1, 1, 1, 1, 1, 1, 1, 1, 1, 1, 1, 1, 1, 1, 1, 1, 1, 1, 1, 1, 1, 1, 1, 1, 1, 1, 1, 1, 1, 1, 1, 1, 1, 1, 1, 1, 1, 1, 1, 1, 1, 1, 1, 1, 1, 1, 1, 1, 1, 1, 1, 1, 1, 1, 1, 1, 1, 1, 1, 1, 1, 1, 1, 1, 1, 1, 1, 1, 1, 1, 1, 1, 1, 1, 1, 1, 1, 1, 1, 1, 1, 1, 1, 1, 1, 1, 1, 1, 1, 1, 1, 1, 1, 1, 1, 1, 1, 1, 1, 1, 1, 1, 1, 1, 1, 1, 1, 1, 1, 1, 1, 1, 1, 1, 1, 1, 1, 1, 1, 1, 1, 1, 1, 1, 1, 1, 1, 1, 1, 1, 1, 1, 1, 1, 1, 1, 1, 1, 1, 1, 1, 1, 1, 1, 1, 1, 1, 1, 1, 1, 1, 1, 1, 1, 1, 1, 1, 1, 1, 1, 1, 1, 1, 1, 1, 1, 1, 1, 1, 1, 1, 1, 1, 1, 1, 1, 1, 1, 1, 1, 1, 1, 1, 1, 1, 1, 1, 1, 1, 1, 1, 1, 1, 1, 1, 1, 1, 1, 1, 1, 1, 1, 1, 1, 1, 1, 1, 1, 1, 1, 1, 1, 1, 1, 1, 1, 1, 1, 1, 1, 1, 1, 1, 1, 1, 1, 1, 1, 1, 1, 1, 1, 1, 1, 1, 1, 1, 1, 1, 1, 1, 1, 1, 1, 1, 1, 1, 1, 1, 1, 1, 1, 1, 1, 1, 1, 1, 1, 1, 1, 1, 1, 1, 1, 1, 1, 1, 1, 1, 1, 1, 1, 1, 1, 1, 1, 1, 1, 1, 1, 1, 1, 1, 1, 1, 1, 1, 1, 1, 1, 1, 1, 1, 1, 1, 1, 1, 1, 1, 1, 1, 1, 1, 1, 1, 1, 1, 1, 1, 1, 1, 1, 1, 1, 1, 1, 1, 1, 1, 1, 1, 1, 1, 1, 1, 1, 1, 1, 1, 1, 1, 1, 1, 1, 1, 1, 1, 1, 1, 1, 1, 1, 1, 1, 1, 1, 1, 1, 1, 1, 1, 1, 1, 1, 1, 1, 1, 1, 1, 1, 1, 1, 1, 1, 1, 1, 1, 1, 1, 1, 1, 1, 1, 1, 1, 1, 1, 1, 1, 1, 1, 1, 1, 1, 1, 1, 1, 1, 1, 1, 1, 1, 1, 1, 1, 1, 1, 1, 1, 1, 1, 1, 1, 1, 1, 1, 1, 1, 1, 1, 1, 1, 1, 1, 1, 1, 1, 1, 1, 1, 1, 1, 1, 1, 1, 1, 1, 1, 1, 1, 1, 1, 1, 1, 1, 1, 1, 1, 1, 1, 1, 1, 1, 1, 1, 1, 1, 1, 1, 1, 1, 1, 1, 1, 1, 1, 1, 1, 1, 1, 1, 1, 1, 1, 1, 1, 1, 1, 1, 1, 1, 1, 1, 1, 1, 1, 1, 1, 1, 1, 1, 1, 1, 1, 1, 1, 1, 1, 1]]}\n"
          ]
        }
      ]
    },
    {
      "cell_type": "code",
      "source": [
        "dataset_encoded = dataset.map(tokenize, batched=True, batch_size=None)"
      ],
      "metadata": {
        "colab": {
          "base_uri": "https://localhost:8080/",
          "height": 113,
          "referenced_widgets": [
            "0e1a718856d2498aa626905c62573944",
            "b2475f7814a148d2a1fe0820c5b758a1",
            "a41aec09b7964bd7b1484d1ed72bdb14",
            "fea9df1785684858af50d52042d451de",
            "9cb11c3836884dab90a295a781fcf09b",
            "5e4e1bd65cd84e53ae1ff9209573638d",
            "6919aaba856b4498b7bd338bdd04ca11",
            "55eaf8e99c6d41edb3ca9d75dd47e730",
            "1f9e9ac2ddb046899f19f24eaa5c0354",
            "bfd5087858e54b79b5c9f609da497672",
            "6a7ae15b592e4fd590125d8f32a0fc64",
            "a2e5c771c48044deae5938f4dff763a1",
            "4b09109ea38a4af185552252041d6773",
            "96c66708ee2446fcb79c5fb7038aa672",
            "b3178b78691b419baa0fa5f9240244f9",
            "7ba600f9546c4fa29dc732943d99309b",
            "48597b073185428f863fe132077dfa7e",
            "130b8c5fbf7c41c3b46d3b0c816e7792",
            "da303692a04a46d3999e4dbc108071cb",
            "4bda40cfd6eb4ff6b3950aa0ad14c45f",
            "6b7137c24d6a41a8bc99c3c22116b15a",
            "2b3fa504d6a249d6ae607824376cc545",
            "063305bf02f944c38a9f86bdfc0ba6b4",
            "be9f81b6b3364011afb8eda39d13e3a6",
            "c94e46afd5774110b81ea61b8152bf4c",
            "028e3b3c29c94aa39dc7bcb97bd148b2",
            "8e2efb04248f49a39a37541e3b9adcfa",
            "152fcaeb7c0645b7bffb71db2cc36372",
            "f32702aab59c457fac5746a73ccc14d8",
            "2b1d71edbc774b96b1b88c1e56e937ca",
            "6ec80c9fdde741ff9ac1a25b2403d33f",
            "4213d758b3e1470aafc5a6dcdde09a45",
            "e22b4f5199b24958adf79055a3452b08"
          ]
        },
        "id": "XjUpsqs0LdI9",
        "outputId": "43d36982-4ce4-433a-f343-ff5459d1c2e1"
      },
      "execution_count": 82,
      "outputs": [
        {
          "output_type": "display_data",
          "data": {
            "text/plain": [
              "  0%|          | 0/1 [00:00<?, ?ba/s]"
            ],
            "application/vnd.jupyter.widget-view+json": {
              "version_major": 2,
              "version_minor": 0,
              "model_id": "0e1a718856d2498aa626905c62573944"
            }
          },
          "metadata": {}
        },
        {
          "output_type": "display_data",
          "data": {
            "text/plain": [
              "  0%|          | 0/1 [00:00<?, ?ba/s]"
            ],
            "application/vnd.jupyter.widget-view+json": {
              "version_major": 2,
              "version_minor": 0,
              "model_id": "a2e5c771c48044deae5938f4dff763a1"
            }
          },
          "metadata": {}
        },
        {
          "output_type": "display_data",
          "data": {
            "text/plain": [
              "  0%|          | 0/1 [00:00<?, ?ba/s]"
            ],
            "application/vnd.jupyter.widget-view+json": {
              "version_major": 2,
              "version_minor": 0,
              "model_id": "063305bf02f944c38a9f86bdfc0ba6b4"
            }
          },
          "metadata": {}
        }
      ]
    },
    {
      "cell_type": "code",
      "source": [
        "dataset_encoded"
      ],
      "metadata": {
        "colab": {
          "base_uri": "https://localhost:8080/"
        },
        "id": "PwDK4B2ALnOj",
        "outputId": "1290ddaf-bfe6-41bb-82c0-2fcf6bbeef23"
      },
      "execution_count": 83,
      "outputs": [
        {
          "output_type": "execute_result",
          "data": {
            "text/plain": [
              "DatasetDict({\n",
              "    train: Dataset({\n",
              "        features: ['text', 'label', 'input_ids', 'attention_mask'],\n",
              "        num_rows: 231\n",
              "    })\n",
              "    validation: Dataset({\n",
              "        features: ['text', 'label', 'input_ids', 'attention_mask'],\n",
              "        num_rows: 50\n",
              "    })\n",
              "    test: Dataset({\n",
              "        features: ['text', 'label', 'input_ids', 'attention_mask'],\n",
              "        num_rows: 50\n",
              "    })\n",
              "})"
            ]
          },
          "metadata": {},
          "execution_count": 83
        }
      ]
    },
    {
      "cell_type": "code",
      "source": [
        "from transformers import TFAutoModel \n",
        "tf_model = TFAutoModel.from_pretrained(model_ckpt)"
      ],
      "metadata": {
        "colab": {
          "base_uri": "https://localhost:8080/",
          "height": 158,
          "referenced_widgets": [
            "ec0365ec2a81491b8af35b8804d35242",
            "fe7f82ed46e14b69a878c9bc27e0418b",
            "7c707297e476467d91f2b8994894f98d",
            "cdf1d27b83ba4a69ac5f6eae388d58ac",
            "0491fe73a7b7468f8f9a7c4f6e934e67",
            "84c85050fa134df2ac51492f5fce03b8",
            "b11b666514c14b2eaacfd0a21a704a25",
            "e1bd5cd1a6a04312bf98b174b9f6571b",
            "ffd97dabdce14c748c2c71c4db5a2293",
            "82bd8461295d44f585a8702053e9b6dc",
            "dc3b70ad274b49808614b306355458ff"
          ]
        },
        "id": "QF4E2nnILqDh",
        "outputId": "cc04ccf8-7b89-4e3b-86cc-48862a29f484"
      },
      "execution_count": 84,
      "outputs": [
        {
          "output_type": "display_data",
          "data": {
            "text/plain": [
              "Downloading:   0%|          | 0.00/363M [00:00<?, ?B/s]"
            ],
            "application/vnd.jupyter.widget-view+json": {
              "version_major": 2,
              "version_minor": 0,
              "model_id": "ec0365ec2a81491b8af35b8804d35242"
            }
          },
          "metadata": {}
        },
        {
          "output_type": "stream",
          "name": "stderr",
          "text": [
            "Some layers from the model checkpoint at distilbert-base-uncased were not used when initializing TFDistilBertModel: ['vocab_transform', 'vocab_layer_norm', 'activation_13', 'vocab_projector']\n",
            "- This IS expected if you are initializing TFDistilBertModel from the checkpoint of a model trained on another task or with another architecture (e.g. initializing a BertForSequenceClassification model from a BertForPreTraining model).\n",
            "- This IS NOT expected if you are initializing TFDistilBertModel from the checkpoint of a model that you expect to be exactly identical (initializing a BertForSequenceClassification model from a BertForSequenceClassification model).\n",
            "All the layers of TFDistilBertModel were initialized from the model checkpoint at distilbert-base-uncased.\n",
            "If your task is similar to the task the model of the checkpoint was trained on, you can already use TFDistilBertModel for predictions without further training.\n"
          ]
        }
      ]
    },
    {
      "cell_type": "code",
      "source": [
        "text = \"this is a test\"\n",
        "inputs = tokenizer(text, return_tensors='tf')\n",
        "inputs"
      ],
      "metadata": {
        "colab": {
          "base_uri": "https://localhost:8080/"
        },
        "id": "8HnwF8WfLzVI",
        "outputId": "4140b6d9-228e-4279-d973-0de98e2f1b0c"
      },
      "execution_count": 85,
      "outputs": [
        {
          "output_type": "execute_result",
          "data": {
            "text/plain": [
              "{'input_ids': <tf.Tensor: shape=(1, 6), dtype=int32, numpy=array([[ 101, 2023, 2003, 1037, 3231,  102]], dtype=int32)>, 'attention_mask': <tf.Tensor: shape=(1, 6), dtype=int32, numpy=array([[1, 1, 1, 1, 1, 1]], dtype=int32)>}"
            ]
          },
          "metadata": {},
          "execution_count": 85
        }
      ]
    },
    {
      "cell_type": "code",
      "source": [
        "outputs = tf_model(inputs)\n",
        "outputs"
      ],
      "metadata": {
        "colab": {
          "base_uri": "https://localhost:8080/"
        },
        "id": "NvZqQmO8L76t",
        "outputId": "95c66813-5955-4c79-db5a-68e7a67ef14f"
      },
      "execution_count": 86,
      "outputs": [
        {
          "output_type": "execute_result",
          "data": {
            "text/plain": [
              "TFBaseModelOutput(last_hidden_state=<tf.Tensor: shape=(1, 6, 768), dtype=float32, numpy=\n",
              "array([[[-0.156513  , -0.18619666,  0.05277651, ..., -0.11881146,\n",
              "          0.06620602,  0.5470156 ],\n",
              "        [-0.3575139 , -0.6483559 , -0.0617902 , ..., -0.3040195 ,\n",
              "          0.35076872,  0.5220684 ],\n",
              "        [-0.27718496, -0.4459445 ,  0.1818425 , ..., -0.09477941,\n",
              "         -0.00757464,  0.9958281 ],\n",
              "        [-0.28408563, -0.3916768 ,  0.37525558, ..., -0.21505757,\n",
              "         -0.11725189,  1.0526482 ],\n",
              "        [ 0.2660821 , -0.509364  , -0.31801355, ..., -0.42029813,\n",
              "          0.01444179, -0.21489467],\n",
              "        [ 0.9440609 ,  0.01117263, -0.47139442, ...,  0.14394675,\n",
              "         -0.7287836 , -0.16194907]]], dtype=float32)>, hidden_states=None, attentions=None)"
            ]
          },
          "metadata": {},
          "execution_count": 86
        }
      ]
    },
    {
      "cell_type": "code",
      "source": [
        "outputs.last_hidden_state.shape"
      ],
      "metadata": {
        "colab": {
          "base_uri": "https://localhost:8080/"
        },
        "id": "24yX-uY7MHM1",
        "outputId": "88b60433-3cce-4316-ac8f-5cc9f861d94f"
      },
      "execution_count": 87,
      "outputs": [
        {
          "output_type": "execute_result",
          "data": {
            "text/plain": [
              "TensorShape([1, 6, 768])"
            ]
          },
          "metadata": {},
          "execution_count": 87
        }
      ]
    },
    {
      "cell_type": "code",
      "source": [
        "dataset_encoded.reset_format()\n",
        "\n",
        "def extract_hidden_states(batch):\n",
        "    # First convert text to tokens\n",
        "    inputs = tokenizer(batch[\"text\"], padding=True, \n",
        "                       truncation=True, return_tensors='tf')\n",
        "    # Extract last hidden states\n",
        "    outputs = tf_model(inputs)\n",
        "     # Return vector for [CLS] token\n",
        "    return {\"hidden_state\": outputs.last_hidden_state[:,0].numpy()}"
      ],
      "metadata": {
        "id": "2UirnPdrMLyd"
      },
      "execution_count": 88,
      "outputs": []
    },
    {
      "cell_type": "code",
      "source": [
        "dataset_hidden = dataset_encoded.map(extract_hidden_states, batched=True, batch_size=16)\n",
        "dataset_hidden"
      ],
      "metadata": {
        "colab": {
          "base_uri": "https://localhost:8080/",
          "height": 758,
          "referenced_widgets": [
            "ab053f665d9c4874a37946a486efac45",
            "e216220d49624948b227768ecbd67d5e",
            "fe1880198a2e49b3a02d7e1e5363c5da",
            "ba896f1975d24d5cb630a44ad0bffa5b",
            "d3e1f6bf4940457fa8f7860a57efbc98",
            "ebbbf562d00c4d37bbd527dec77c039d",
            "e2230ae0317c4bd2a04cb3aaada9042d",
            "97080680ccab4133920c4c0df3a18055",
            "60a74d590a8b497cbd45683c6312587e",
            "82f08815a228456b83312ad2239d0c68",
            "59017cb6cb3c479c84d5d3f3ff5f32f8",
            "61a94ff77ba344808edd11ccf0596f67",
            "15e05069d9fb40488a3227c699323ea7",
            "ab3f9e5cb9d443b19b329f4860423b30",
            "4769f77ad1604de8bb3c74524e94724b",
            "26c698a0ebe8439f8e491beddb38d028",
            "1901450f65f54cceacc1e0d06c855baf",
            "b0054461ae7044ec91ea71ab7d6d13ac",
            "6c6ff42affed4e98aa3c7b3f94a5a77e",
            "9b48505a5f9a462580a5c936c3508062",
            "e8dfb5396c8241ad96fd164aeef5886b",
            "c9304cff724c4f1faf292d743670c85d",
            "fac91ed254634d70984cc394fa18195d",
            "dd4bfc6be25149ec87885020c64e15bc",
            "358ce8fb9f7f4349a382f2d6fafb5c84",
            "dd89b40279f44851a976617a58517608",
            "634f103ab7f941b4abe833f79470c452",
            "0854dbeb212844388cc40b8a217d1ffd",
            "1141dfff660042249dade6d53c33de44",
            "f66b8e12142d44e9a1341c71a0d28ef6",
            "ec02dddc648649eaa8b7e838d11af41b",
            "8b6b711506ee4a73b147d64754a7e9e1",
            "baa1a2aae3474dac9b088f359c9513c4"
          ]
        },
        "id": "NbIkt76cOXDD",
        "outputId": "f1f251f2-a75c-4e69-d951-27ae2de6d8c4"
      },
      "execution_count": 89,
      "outputs": [
        {
          "output_type": "stream",
          "name": "stderr",
          "text": [
            "WARNING:tensorflow:Skipping full serialization of Keras layer <keras.layers.regularization.dropout.Dropout object at 0x7f62e42b9b20>, because it is not built.\n",
            "WARNING:tensorflow:Skipping full serialization of Keras layer <keras.layers.regularization.dropout.Dropout object at 0x7f6365e9d340>, because it is not built.\n",
            "WARNING:tensorflow:Skipping full serialization of Keras layer <keras.layers.regularization.dropout.Dropout object at 0x7f6365e99a60>, because it is not built.\n",
            "WARNING:tensorflow:Skipping full serialization of Keras layer <keras.layers.regularization.dropout.Dropout object at 0x7f6365eb0220>, because it is not built.\n",
            "WARNING:tensorflow:Skipping full serialization of Keras layer <keras.layers.regularization.dropout.Dropout object at 0x7f62e2cd0730>, because it is not built.\n",
            "WARNING:tensorflow:Skipping full serialization of Keras layer <keras.layers.regularization.dropout.Dropout object at 0x7f62e2cd7e50>, because it is not built.\n",
            "WARNING:absl:Found untraced functions such as embeddings_layer_call_fn, embeddings_layer_call_and_return_conditional_losses, transformer_layer_call_fn, transformer_layer_call_and_return_conditional_losses, LayerNorm_layer_call_fn while saving (showing 5 of 164). These functions will not be directly callable after loading.\n"
          ]
        },
        {
          "output_type": "display_data",
          "data": {
            "text/plain": [
              "  0%|          | 0/15 [00:00<?, ?ba/s]"
            ],
            "application/vnd.jupyter.widget-view+json": {
              "version_major": 2,
              "version_minor": 0,
              "model_id": "ab053f665d9c4874a37946a486efac45"
            }
          },
          "metadata": {}
        },
        {
          "output_type": "stream",
          "name": "stderr",
          "text": [
            "WARNING:tensorflow:Skipping full serialization of Keras layer <keras.layers.regularization.dropout.Dropout object at 0x7f62e42b9b20>, because it is not built.\n",
            "WARNING:tensorflow:Skipping full serialization of Keras layer <keras.layers.regularization.dropout.Dropout object at 0x7f6365e9d340>, because it is not built.\n",
            "WARNING:tensorflow:Skipping full serialization of Keras layer <keras.layers.regularization.dropout.Dropout object at 0x7f6365e99a60>, because it is not built.\n",
            "WARNING:tensorflow:Skipping full serialization of Keras layer <keras.layers.regularization.dropout.Dropout object at 0x7f6365eb0220>, because it is not built.\n",
            "WARNING:tensorflow:Skipping full serialization of Keras layer <keras.layers.regularization.dropout.Dropout object at 0x7f62e2cd0730>, because it is not built.\n",
            "WARNING:tensorflow:Skipping full serialization of Keras layer <keras.layers.regularization.dropout.Dropout object at 0x7f62e2cd7e50>, because it is not built.\n",
            "WARNING:absl:Found untraced functions such as embeddings_layer_call_fn, embeddings_layer_call_and_return_conditional_losses, transformer_layer_call_fn, transformer_layer_call_and_return_conditional_losses, LayerNorm_layer_call_fn while saving (showing 5 of 164). These functions will not be directly callable after loading.\n"
          ]
        },
        {
          "output_type": "display_data",
          "data": {
            "text/plain": [
              "  0%|          | 0/4 [00:00<?, ?ba/s]"
            ],
            "application/vnd.jupyter.widget-view+json": {
              "version_major": 2,
              "version_minor": 0,
              "model_id": "61a94ff77ba344808edd11ccf0596f67"
            }
          },
          "metadata": {}
        },
        {
          "output_type": "stream",
          "name": "stderr",
          "text": [
            "WARNING:tensorflow:Skipping full serialization of Keras layer <keras.layers.regularization.dropout.Dropout object at 0x7f62e42b9b20>, because it is not built.\n",
            "WARNING:tensorflow:Skipping full serialization of Keras layer <keras.layers.regularization.dropout.Dropout object at 0x7f6365e9d340>, because it is not built.\n",
            "WARNING:tensorflow:Skipping full serialization of Keras layer <keras.layers.regularization.dropout.Dropout object at 0x7f6365e99a60>, because it is not built.\n",
            "WARNING:tensorflow:Skipping full serialization of Keras layer <keras.layers.regularization.dropout.Dropout object at 0x7f6365eb0220>, because it is not built.\n",
            "WARNING:tensorflow:Skipping full serialization of Keras layer <keras.layers.regularization.dropout.Dropout object at 0x7f62e2cd0730>, because it is not built.\n",
            "WARNING:tensorflow:Skipping full serialization of Keras layer <keras.layers.regularization.dropout.Dropout object at 0x7f62e2cd7e50>, because it is not built.\n",
            "WARNING:absl:Found untraced functions such as embeddings_layer_call_fn, embeddings_layer_call_and_return_conditional_losses, transformer_layer_call_fn, transformer_layer_call_and_return_conditional_losses, LayerNorm_layer_call_fn while saving (showing 5 of 164). These functions will not be directly callable after loading.\n"
          ]
        },
        {
          "output_type": "display_data",
          "data": {
            "text/plain": [
              "  0%|          | 0/4 [00:00<?, ?ba/s]"
            ],
            "application/vnd.jupyter.widget-view+json": {
              "version_major": 2,
              "version_minor": 0,
              "model_id": "fac91ed254634d70984cc394fa18195d"
            }
          },
          "metadata": {}
        },
        {
          "output_type": "execute_result",
          "data": {
            "text/plain": [
              "DatasetDict({\n",
              "    train: Dataset({\n",
              "        features: ['text', 'label', 'input_ids', 'attention_mask', 'hidden_state'],\n",
              "        num_rows: 231\n",
              "    })\n",
              "    validation: Dataset({\n",
              "        features: ['text', 'label', 'input_ids', 'attention_mask', 'hidden_state'],\n",
              "        num_rows: 50\n",
              "    })\n",
              "    test: Dataset({\n",
              "        features: ['text', 'label', 'input_ids', 'attention_mask', 'hidden_state'],\n",
              "        num_rows: 50\n",
              "    })\n",
              "})"
            ]
          },
          "metadata": {},
          "execution_count": 89
        }
      ]
    },
    {
      "cell_type": "code",
      "source": [
        "import numpy as np\n",
        "X_train_ = np.array(dataset_hidden[\"train\"][\"hidden_state\"])\n",
        "X_valid_ = np.array(dataset_hidden[\"validation\"][\"hidden_state\"])\n",
        "y_train_ = np.array(dataset_hidden[\"train\"][\"label\"])\n",
        "y_valid_ = np.array(dataset_hidden[\"validation\"][\"label\"])\n",
        "X_train_.shape, X_valid_.shape"
      ],
      "metadata": {
        "colab": {
          "base_uri": "https://localhost:8080/"
        },
        "id": "sUM-AR0AOb0-",
        "outputId": "95a6a58d-652b-4afa-fa5b-bbbec457bab1"
      },
      "execution_count": 90,
      "outputs": [
        {
          "output_type": "execute_result",
          "data": {
            "text/plain": [
              "((231, 768), (50, 768))"
            ]
          },
          "metadata": {},
          "execution_count": 90
        }
      ]
    },
    {
      "cell_type": "code",
      "source": [
        "# We increase `max_iter` to guarantee convergence\n",
        "lr_clf = LogisticRegression(max_iter=3000)\n",
        "lr_clf.fit(X_train_, y_train_)\n",
        "lr_clf.score(X_valid_, y_valid_)"
      ],
      "metadata": {
        "colab": {
          "base_uri": "https://localhost:8080/"
        },
        "id": "EPY4m5g7QtGe",
        "outputId": "8a5c0494-64ec-4b2d-d66e-6e6788771d22"
      },
      "execution_count": 91,
      "outputs": [
        {
          "output_type": "execute_result",
          "data": {
            "text/plain": [
              "0.84"
            ]
          },
          "metadata": {},
          "execution_count": 91
        }
      ]
    },
    {
      "cell_type": "code",
      "source": [
        "rf_clf = fit_model(RandomForestClassifier(max_depth=10,\n",
        "                                            n_estimators=50,\n",
        "                                            random_state=0,\n",
        "                                          ),\n",
        "                X_train_, \n",
        "                y_train_)\n",
        "\n",
        "y_val_pred = predict(rf_clf, X_valid_)\n",
        "\n",
        "print_confusion_matrix(y_val, y_val_pred, with_report=True)"
      ],
      "metadata": {
        "colab": {
          "base_uri": "https://localhost:8080/",
          "height": 511
        },
        "id": "G0QrDybR4Qq1",
        "outputId": "f379ecde-7aa8-457d-bf69-d65037be7df2"
      },
      "execution_count": 92,
      "outputs": [
        {
          "output_type": "display_data",
          "data": {
            "text/plain": [
              "<Figure size 432x288 with 2 Axes>"
            ],
            "image/png": "[encoded data removed]"
          },
          "metadata": {
            "needs_background": "light"
          }
        },
        {
          "output_type": "stream",
          "name": "stdout",
          "text": [
            "\n",
            "              precision    recall  f1-score   support\n",
            "\n",
            "           0       0.74      0.89      0.81        19\n",
            "           1       0.80      0.92      0.86        13\n",
            "           2       0.90      0.82      0.86        11\n",
            "           3       1.00      0.29      0.44         7\n",
            "\n",
            "    accuracy                           0.80        50\n",
            "   macro avg       0.86      0.73      0.74        50\n",
            "weighted avg       0.83      0.80      0.78        50\n",
            "\n"
          ]
        }
      ]
    },
    {
      "cell_type": "code",
      "source": [
        "svc_clf = fit_model(SVC(C=1, \n",
        "                    class_weight='balanced'\n",
        "                    ),\n",
        "                X_train_, \n",
        "                y_train_)\n",
        "\n",
        "y_val_pred = predict(svc_clf, X_valid_)\n",
        "\n",
        "print_confusion_matrix(y_val, y_val_pred, with_report=True)"
      ],
      "metadata": {
        "colab": {
          "base_uri": "https://localhost:8080/",
          "height": 511
        },
        "id": "dM91xMM-3wau",
        "outputId": "0f5a8d67-5e2b-411a-ad4e-8dc5fb3e0e80"
      },
      "execution_count": 93,
      "outputs": [
        {
          "output_type": "display_data",
          "data": {
            "text/plain": [
              "<Figure size 432x288 with 2 Axes>"
            ],
            "image/png": "[encoded data removed]"
          },
          "metadata": {
            "needs_background": "light"
          }
        },
        {
          "output_type": "stream",
          "name": "stdout",
          "text": [
            "\n",
            "              precision    recall  f1-score   support\n",
            "\n",
            "           0       0.92      0.63      0.75        19\n",
            "           1       0.65      0.85      0.73        13\n",
            "           2       0.82      0.82      0.82        11\n",
            "           3       0.56      0.71      0.63         7\n",
            "\n",
            "    accuracy                           0.74        50\n",
            "   macro avg       0.74      0.75      0.73        50\n",
            "weighted avg       0.78      0.74      0.74        50\n",
            "\n"
          ]
        }
      ]
    },
    {
      "cell_type": "code",
      "source": [
        "lr_clf = fit_model(LogisticRegression(max_iter=3000, \n",
        "                                  #  class_weight='balanced', \n",
        "                                   ), \n",
        "                X_train_, \n",
        "                y_train_)\n",
        "\n",
        "y_val_pred = predict(lr_clf, X_valid_)\n",
        "\n",
        "print_confusion_matrix(y_val, y_val_pred, with_report=True)"
      ],
      "metadata": {
        "colab": {
          "base_uri": "https://localhost:8080/",
          "height": 511
        },
        "id": "IR-jSzF4ROxc",
        "outputId": "512f9604-2be1-4889-f640-882a2d2f7f86"
      },
      "execution_count": 94,
      "outputs": [
        {
          "output_type": "display_data",
          "data": {
            "text/plain": [
              "<Figure size 432x288 with 2 Axes>"
            ],
            "image/png": "[encoded data removed]"
          },
          "metadata": {
            "needs_background": "light"
          }
        },
        {
          "output_type": "stream",
          "name": "stdout",
          "text": [
            "\n",
            "              precision    recall  f1-score   support\n",
            "\n",
            "           0       0.81      0.89      0.85        19\n",
            "           1       0.87      1.00      0.93        13\n",
            "           2       0.90      0.82      0.86        11\n",
            "           3       0.75      0.43      0.55         7\n",
            "\n",
            "    accuracy                           0.84        50\n",
            "   macro avg       0.83      0.79      0.80        50\n",
            "weighted avg       0.84      0.84      0.83        50\n",
            "\n"
          ]
        }
      ]
    },
    {
      "cell_type": "code",
      "source": [
        "num_labels = len(y_train.value_counts())"
      ],
      "metadata": {
        "id": "lBskkuEDSdBn"
      },
      "execution_count": 95,
      "outputs": []
    },
    {
      "cell_type": "code",
      "source": [
        "from transformers import TFAutoModelForSequenceClassification\n",
        "tf_model = (TFAutoModelForSequenceClassification.from_pretrained(model_ckpt, num_labels=num_labels))"
      ],
      "metadata": {
        "colab": {
          "base_uri": "https://localhost:8080/"
        },
        "id": "HYiyj_cvR0nT",
        "outputId": "84e6a322-9ce0-4a93-cd74-5c9bdeccfec0"
      },
      "execution_count": 96,
      "outputs": [
        {
          "output_type": "stream",
          "name": "stderr",
          "text": [
            "Some layers from the model checkpoint at distilbert-base-uncased were not used when initializing TFDistilBertForSequenceClassification: ['vocab_transform', 'vocab_layer_norm', 'activation_13', 'vocab_projector']\n",
            "- This IS expected if you are initializing TFDistilBertForSequenceClassification from the checkpoint of a model trained on another task or with another architecture (e.g. initializing a BertForSequenceClassification model from a BertForPreTraining model).\n",
            "- This IS NOT expected if you are initializing TFDistilBertForSequenceClassification from the checkpoint of a model that you expect to be exactly identical (initializing a BertForSequenceClassification model from a BertForSequenceClassification model).\n",
            "Some layers of TFDistilBertForSequenceClassification were not initialized from the model checkpoint at distilbert-base-uncased and are newly initialized: ['dropout_38', 'pre_classifier', 'classifier']\n",
            "You should probably TRAIN this model on a down-stream task to be able to use it for predictions and inference.\n"
          ]
        }
      ]
    },
    {
      "cell_type": "code",
      "source": [
        "dataset_encoded = dataset.map(tokenize, batched=True, batch_size=None)"
      ],
      "metadata": {
        "colab": {
          "base_uri": "https://localhost:8080/",
          "height": 113,
          "referenced_widgets": [
            "1354131f62ee4cffb6d5e06c82a4a6ee",
            "f4baff9d69ea42baa6c3945e7beb818c",
            "e92b6db6a41e4bd39b9f4258e18bc7c5",
            "50169caddf6b4dc0b37665bfa1c48ec7",
            "1abb76ee987143d2a16efb35dd9b4616",
            "7ac9f476a6f947478d50c96a02323058",
            "771d732cc7674416a8df5ad81acce694",
            "fb5a1b7a14834d8082264f092f44dd4e",
            "3e02a6f64924426eaa0715409de90cd8",
            "5f91b522aed045a2bd690d73c6481ce8",
            "de2ecb1f6a8641968aab5504296e9ec2",
            "71f1d7afefa04965aab862befec573dc",
            "aea6e7f0ebc744e1b7a5b4e4347abeb9",
            "d28a0ddff66f405a91a8a04ae65f3897",
            "fd9bae1c015b4f4e81bc41a35b78c2bd",
            "faafe253f06548b59587f17e4865da9a",
            "6dde9c01a0e6447ba06192a39cdd1873",
            "a29adaaee6e1486687a30afe8d3a8a08",
            "cd7ce607bb86405380428b27bcefa94b",
            "1cb114b77df148b4acfa1808d582ed7c",
            "cba621e200a44f718c78c3e9c88e3339",
            "976dd3e6bf7d481cb0045db08ef1ace1",
            "9be262f7da494b2da601d49b6c2882a1",
            "299219d5a7bd49a6a50beb800471ab03",
            "57ac2c4a2579421fa999760d4adf8e09",
            "835966ab7be448c3bf18f1a203d1a45b",
            "a277859c1b9a4bf49ccea4ab560f3c25",
            "79955b9e30944d27bc0cc9fe31a8923e",
            "fbc74ed7a507491096ac35f2fb7384b1",
            "c851503e5d7544d3a45c3637b08e4822",
            "07cf645416aa47bfbdf90354dc27413e",
            "d728aa66ec7e4bd2a535cd8107c15354",
            "24e211ec972247dea66269984f9cb1ad"
          ]
        },
        "id": "EormNHj_iHct",
        "outputId": "06eee3fe-1766-40f6-f700-45a78049c0ed"
      },
      "execution_count": 97,
      "outputs": [
        {
          "output_type": "display_data",
          "data": {
            "text/plain": [
              "  0%|          | 0/1 [00:00<?, ?ba/s]"
            ],
            "application/vnd.jupyter.widget-view+json": {
              "version_major": 2,
              "version_minor": 0,
              "model_id": "1354131f62ee4cffb6d5e06c82a4a6ee"
            }
          },
          "metadata": {}
        },
        {
          "output_type": "display_data",
          "data": {
            "text/plain": [
              "  0%|          | 0/1 [00:00<?, ?ba/s]"
            ],
            "application/vnd.jupyter.widget-view+json": {
              "version_major": 2,
              "version_minor": 0,
              "model_id": "71f1d7afefa04965aab862befec573dc"
            }
          },
          "metadata": {}
        },
        {
          "output_type": "display_data",
          "data": {
            "text/plain": [
              "  0%|          | 0/1 [00:00<?, ?ba/s]"
            ],
            "application/vnd.jupyter.widget-view+json": {
              "version_major": 2,
              "version_minor": 0,
              "model_id": "9be262f7da494b2da601d49b6c2882a1"
            }
          },
          "metadata": {}
        }
      ]
    },
    {
      "cell_type": "code",
      "source": [
        "tokenizer"
      ],
      "metadata": {
        "colab": {
          "base_uri": "https://localhost:8080/"
        },
        "id": "IdMqJKGHLpUw",
        "outputId": "fb5fa172-30dd-474d-ddc8-e0484051cee5"
      },
      "execution_count": 98,
      "outputs": [
        {
          "output_type": "execute_result",
          "data": {
            "text/plain": [
              "PreTrainedTokenizerFast(name_or_path='distilbert-base-uncased', vocab_size=30522, model_max_len=512, is_fast=True, padding_side='right', truncation_side='right', special_tokens={'unk_token': '[UNK]', 'sep_token': '[SEP]', 'pad_token': '[PAD]', 'cls_token': '[CLS]', 'mask_token': '[MASK]'})"
            ]
          },
          "metadata": {},
          "execution_count": 98
        }
      ]
    },
    {
      "cell_type": "code",
      "source": [
        "# The column names to convert to TensorFlow tensors\n",
        "from transformers import DataCollatorWithPadding\n",
        "from transformers import DataCollatorForTokenClassification\n",
        "from transformers import DefaultDataCollator\n",
        "\n",
        "\n",
        "tokenizer_columns = tokenizer.model_input_names\n",
        "\n",
        "# Define a batch size\n",
        "batch_size = 16\n",
        "\n",
        "data_collator = DataCollatorWithPadding(tokenizer=tokenizer, return_tensors=\"tf\")\n",
        "# data_collator = DataCollatorForTokenClassification(tokenizer=tokenizer, return_tensors=\"tf\")\n",
        "# data_collator = DefaultDataCollator(return_tensors=\"tf\")\n",
        "\n",
        "\n",
        "tf_train_dataset = dataset_encoded[\"train\"].to_tf_dataset(columns=tokenizer_columns, \n",
        "                                                           label_cols=[\"label\"], shuffle=True,\n",
        "                                                           batch_size=batch_size,\n",
        "                                                           collate_fn=data_collator\n",
        "                                                          )\n",
        "tf_eval_dataset = dataset_encoded[\"validation\"].to_tf_dataset(columns=tokenizer_columns, \n",
        "                                                               label_cols=[\"label\"], shuffle=False,\n",
        "                                                               batch_size=batch_size,\n",
        "                                                               collate_fn=data_collator\n",
        "                                                              )\n",
        "\n",
        "tf_train_dataset"
      ],
      "metadata": {
        "colab": {
          "base_uri": "https://localhost:8080/"
        },
        "id": "s_ThtXZJSpqK",
        "outputId": "303decff-9fc8-4e6b-a4b6-bbdf47bf5886"
      },
      "execution_count": 99,
      "outputs": [
        {
          "output_type": "stream",
          "name": "stderr",
          "text": [
            "You're using a DistilBertTokenizerFast tokenizer. Please note that with a fast tokenizer, using the `__call__` method is faster than using a method to encode the text followed by a call to the `pad` method to get a padded encoding.\n"
          ]
        },
        {
          "output_type": "execute_result",
          "data": {
            "text/plain": [
              "<PrefetchDataset element_spec=({'input_ids': TensorSpec(shape=(None, 512), dtype=tf.int64, name=None), 'attention_mask': TensorSpec(shape=(None, 512), dtype=tf.int64, name=None)}, TensorSpec(shape=(None,), dtype=tf.int64, name=None))>"
            ]
          },
          "metadata": {},
          "execution_count": 99
        }
      ]
    },
    {
      "cell_type": "code",
      "source": [
        "tf_test_dataset = dataset_encoded[\"test\"].to_tf_dataset(columns=tokenizer_columns, \n",
        "                                                               label_cols=[\"label\"], shuffle=False,\n",
        "                                                               batch_size=batch_size,\n",
        "                                                               collate_fn=data_collator\n",
        "                                                              )"
      ],
      "metadata": {
        "id": "zV8PbNr5Z3ta"
      },
      "execution_count": 100,
      "outputs": []
    },
    {
      "cell_type": "code",
      "source": [
        "import tensorflow as tf\n",
        "from tensorflow.keras.callbacks import EarlyStopping\n",
        "\n",
        "epochs = 100\n",
        "patience = 3\n",
        "\n",
        "tf_model.compile(optimizer=tf.keras.optimizers.Adam(learning_rate=5e-6),\n",
        "                 loss=tf.keras.losses.SparseCategoricalCrossentropy(from_logits=True),\n",
        "                 metrics=tf.metrics.SparseCategoricalAccuracy()\n",
        ")\n",
        "\n",
        "callback = EarlyStopping(monitor='val_loss',\n",
        "                          patience=patience,\n",
        "                          restore_best_weights=True)\n",
        "\n",
        "tf_model.fit(tf_train_dataset, \n",
        "             validation_data=tf_eval_dataset, \n",
        "             epochs=epochs,\n",
        "             callbacks=[callback]\n",
        "             )"
      ],
      "metadata": {
        "colab": {
          "base_uri": "https://localhost:8080/"
        },
        "id": "aAUvhUgKS0aM",
        "outputId": "c97fc301-a779-4f99-cf06-381f0b7fea71"
      },
      "execution_count": 101,
      "outputs": [
        {
          "output_type": "stream",
          "name": "stdout",
          "text": [
            "Epoch 1/100\n",
            "15/15 [==============================] - 28s 1s/step - loss: 1.3596 - sparse_categorical_accuracy: 0.3593 - val_loss: 1.3472 - val_sparse_categorical_accuracy: 0.3800\n",
            "Epoch 2/100\n",
            "15/15 [==============================] - 15s 974ms/step - loss: 1.3309 - sparse_categorical_accuracy: 0.4242 - val_loss: 1.3179 - val_sparse_categorical_accuracy: 0.4400\n",
            "Epoch 3/100\n",
            "15/15 [==============================] - 15s 990ms/step - loss: 1.2900 - sparse_categorical_accuracy: 0.5801 - val_loss: 1.2675 - val_sparse_categorical_accuracy: 0.7400\n",
            "Epoch 4/100\n",
            "15/15 [==============================] - 15s 975ms/step - loss: 1.2222 - sparse_categorical_accuracy: 0.7186 - val_loss: 1.1911 - val_sparse_categorical_accuracy: 0.7200\n",
            "Epoch 5/100\n",
            "15/15 [==============================] - 15s 972ms/step - loss: 1.1494 - sparse_categorical_accuracy: 0.7229 - val_loss: 1.1058 - val_sparse_categorical_accuracy: 0.7800\n",
            "Epoch 6/100\n",
            "15/15 [==============================] - 15s 971ms/step - loss: 1.0510 - sparse_categorical_accuracy: 0.7403 - val_loss: 1.0144 - val_sparse_categorical_accuracy: 0.7800\n",
            "Epoch 7/100\n",
            "15/15 [==============================] - 14s 964ms/step - loss: 0.9681 - sparse_categorical_accuracy: 0.7576 - val_loss: 0.9361 - val_sparse_categorical_accuracy: 0.7800\n",
            "Epoch 8/100\n",
            "15/15 [==============================] - 15s 978ms/step - loss: 0.8915 - sparse_categorical_accuracy: 0.7532 - val_loss: 0.8773 - val_sparse_categorical_accuracy: 0.7800\n",
            "Epoch 9/100\n",
            "15/15 [==============================] - 15s 984ms/step - loss: 0.8090 - sparse_categorical_accuracy: 0.7749 - val_loss: 0.8205 - val_sparse_categorical_accuracy: 0.7600\n",
            "Epoch 10/100\n",
            "15/15 [==============================] - 15s 975ms/step - loss: 0.7421 - sparse_categorical_accuracy: 0.8268 - val_loss: 0.7641 - val_sparse_categorical_accuracy: 0.7800\n",
            "Epoch 11/100\n",
            "15/15 [==============================] - 15s 979ms/step - loss: 0.6833 - sparse_categorical_accuracy: 0.8398 - val_loss: 0.7187 - val_sparse_categorical_accuracy: 0.8000\n",
            "Epoch 12/100\n",
            "15/15 [==============================] - 15s 969ms/step - loss: 0.6274 - sparse_categorical_accuracy: 0.8658 - val_loss: 0.7124 - val_sparse_categorical_accuracy: 0.7600\n",
            "Epoch 13/100\n",
            "15/15 [==============================] - 15s 976ms/step - loss: 0.5812 - sparse_categorical_accuracy: 0.8658 - val_loss: 0.6813 - val_sparse_categorical_accuracy: 0.8000\n",
            "Epoch 14/100\n",
            "15/15 [==============================] - 15s 970ms/step - loss: 0.5396 - sparse_categorical_accuracy: 0.8745 - val_loss: 0.6365 - val_sparse_categorical_accuracy: 0.8000\n",
            "Epoch 15/100\n",
            "15/15 [==============================] - 14s 964ms/step - loss: 0.4772 - sparse_categorical_accuracy: 0.8961 - val_loss: 0.6442 - val_sparse_categorical_accuracy: 0.7800\n",
            "Epoch 16/100\n",
            "15/15 [==============================] - 15s 978ms/step - loss: 0.4363 - sparse_categorical_accuracy: 0.9177 - val_loss: 0.6113 - val_sparse_categorical_accuracy: 0.8200\n",
            "Epoch 17/100\n",
            "15/15 [==============================] - 15s 971ms/step - loss: 0.3956 - sparse_categorical_accuracy: 0.9134 - val_loss: 0.6216 - val_sparse_categorical_accuracy: 0.7800\n",
            "Epoch 18/100\n",
            "15/15 [==============================] - 15s 967ms/step - loss: 0.3505 - sparse_categorical_accuracy: 0.9307 - val_loss: 0.5826 - val_sparse_categorical_accuracy: 0.8200\n",
            "Epoch 19/100\n",
            "15/15 [==============================] - 14s 960ms/step - loss: 0.3120 - sparse_categorical_accuracy: 0.9437 - val_loss: 0.5937 - val_sparse_categorical_accuracy: 0.7800\n",
            "Epoch 20/100\n",
            "15/15 [==============================] - 15s 970ms/step - loss: 0.2704 - sparse_categorical_accuracy: 0.9610 - val_loss: 0.5687 - val_sparse_categorical_accuracy: 0.8000\n",
            "Epoch 21/100\n",
            "15/15 [==============================] - 14s 967ms/step - loss: 0.2421 - sparse_categorical_accuracy: 0.9654 - val_loss: 0.5878 - val_sparse_categorical_accuracy: 0.8000\n",
            "Epoch 22/100\n",
            "15/15 [==============================] - 14s 964ms/step - loss: 0.2095 - sparse_categorical_accuracy: 0.9784 - val_loss: 0.5933 - val_sparse_categorical_accuracy: 0.7800\n",
            "Epoch 23/100\n",
            "15/15 [==============================] - 15s 971ms/step - loss: 0.1818 - sparse_categorical_accuracy: 0.9870 - val_loss: 0.5590 - val_sparse_categorical_accuracy: 0.8000\n",
            "Epoch 24/100\n",
            "15/15 [==============================] - 14s 962ms/step - loss: 0.1616 - sparse_categorical_accuracy: 0.9870 - val_loss: 0.5822 - val_sparse_categorical_accuracy: 0.8000\n",
            "Epoch 25/100\n",
            "15/15 [==============================] - 14s 962ms/step - loss: 0.1437 - sparse_categorical_accuracy: 0.9913 - val_loss: 0.5819 - val_sparse_categorical_accuracy: 0.7800\n",
            "Epoch 26/100\n",
            "15/15 [==============================] - 15s 970ms/step - loss: 0.1312 - sparse_categorical_accuracy: 0.9957 - val_loss: 0.6026 - val_sparse_categorical_accuracy: 0.8000\n"
          ]
        },
        {
          "output_type": "execute_result",
          "data": {
            "text/plain": [
              "<keras.callbacks.History at 0x7f624732d4c0>"
            ]
          },
          "metadata": {},
          "execution_count": 101
        }
      ]
    },
    {
      "cell_type": "code",
      "source": [
        "tf.keras.models.save_model(tf_model, filepath='my_model', overwrite=True, save_format='tf')"
      ],
      "metadata": {
        "colab": {
          "base_uri": "https://localhost:8080/"
        },
        "id": "5NjkbvAyXSPy",
        "outputId": "12fc4f44-02b1-479f-c3a5-dfd4fb8f2b6b"
      },
      "execution_count": 102,
      "outputs": [
        {
          "output_type": "stream",
          "name": "stderr",
          "text": [
            "WARNING:tensorflow:Skipping full serialization of Keras layer <keras.layers.regularization.dropout.Dropout object at 0x7f62e26c1af0>, because it is not built.\n",
            "WARNING:tensorflow:Skipping full serialization of Keras layer <keras.layers.regularization.dropout.Dropout object at 0x7f62e26b9490>, because it is not built.\n",
            "WARNING:tensorflow:Skipping full serialization of Keras layer <keras.layers.regularization.dropout.Dropout object at 0x7f62e26f1c70>, because it is not built.\n",
            "WARNING:tensorflow:Skipping full serialization of Keras layer <keras.layers.regularization.dropout.Dropout object at 0x7f62e56ddbe0>, because it is not built.\n",
            "WARNING:tensorflow:Skipping full serialization of Keras layer <keras.layers.regularization.dropout.Dropout object at 0x7f62e5a162b0>, because it is not built.\n",
            "WARNING:tensorflow:Skipping full serialization of Keras layer <keras.layers.regularization.dropout.Dropout object at 0x7f62e297c2e0>, because it is not built.\n",
            "WARNING:absl:Found untraced functions such as embeddings_layer_call_fn, embeddings_layer_call_and_return_conditional_losses, transformer_layer_call_fn, transformer_layer_call_and_return_conditional_losses, LayerNorm_layer_call_fn while saving (showing 5 of 164). These functions will not be directly callable after loading.\n"
          ]
        }
      ]
    },
    {
      "cell_type": "code",
      "source": [
        "loss, eval_accuracy = tf_model.evaluate(tf_eval_dataset)\n",
        "print(\"Loss: {}\\t Val Accuracy: {}\".format(loss, eval_accuracy))"
      ],
      "metadata": {
        "colab": {
          "base_uri": "https://localhost:8080/"
        },
        "id": "tP52v3J-a7Rn",
        "outputId": "64d7af9e-5d5c-48e4-ad3c-3307e28fd61f"
      },
      "execution_count": 111,
      "outputs": [
        {
          "output_type": "stream",
          "name": "stdout",
          "text": [
            "4/4 [==============================] - 1s 228ms/step - loss: 0.5590 - sparse_categorical_accuracy: 0.8000\n",
            "Loss: 0.5590169429779053\t Val Accuracy: 0.800000011920929\n"
          ]
        }
      ]
    },
    {
      "cell_type": "code",
      "source": [
        "loss, test_accuracy = tf_model.evaluate(tf_test_dataset)\n",
        "print(\"Loss: {}\\t Test Accuracy: {}\".format(loss, test_accuracy))"
      ],
      "metadata": {
        "colab": {
          "base_uri": "https://localhost:8080/"
        },
        "id": "RzkN9PXFaDZ9",
        "outputId": "26253362-c992-410c-e774-99129039743c"
      },
      "execution_count": 112,
      "outputs": [
        {
          "output_type": "stream",
          "name": "stdout",
          "text": [
            "4/4 [==============================] - 1s 230ms/step - loss: 0.7120 - sparse_categorical_accuracy: 0.6800\n",
            "Loss: 0.7119796872138977\t Test Accuracy: 0.6800000071525574\n"
          ]
        }
      ]
    },
    {
      "cell_type": "code",
      "source": [],
      "metadata": {
        "id": "pGA3bgRLbeZl"
      },
      "execution_count": 104,
      "outputs": []
    },
    {
      "cell_type": "code",
      "source": [
        "output_logits = tf_model.predict(tf_test_dataset).logits\n",
        "pred_labels = np.argmax(output_logits, axis=-1)"
      ],
      "metadata": {
        "colab": {
          "base_uri": "https://localhost:8080/"
        },
        "id": "F8UVUf8Ra7V6",
        "outputId": "df21cb46-19a5-4e39-e1f1-a9b25ceec323"
      },
      "execution_count": 105,
      "outputs": [
        {
          "output_type": "stream",
          "name": "stdout",
          "text": [
            "4/4 [==============================] - 3s 219ms/step\n"
          ]
        }
      ]
    },
    {
      "cell_type": "code",
      "source": [
        "pred_labels"
      ],
      "metadata": {
        "colab": {
          "base_uri": "https://localhost:8080/"
        },
        "id": "a4qp0NEHa7d9",
        "outputId": "abe1ba51-eec3-4fdc-f967-4d7d7bbcebbb"
      },
      "execution_count": 106,
      "outputs": [
        {
          "output_type": "execute_result",
          "data": {
            "text/plain": [
              "array([2, 1, 2, 0, 0, 0, 0, 3, 0, 1, 1, 1, 2, 3, 0, 1, 1, 3, 1, 0, 1, 0,\n",
              "       1, 0, 0, 0, 0, 0, 0, 3, 1, 0, 1, 0, 3, 2, 1, 2, 3, 0, 1, 0, 1, 0,\n",
              "       2, 0, 2, 1, 0, 2])"
            ]
          },
          "metadata": {},
          "execution_count": 106
        }
      ]
    },
    {
      "cell_type": "code",
      "source": [
        "print_confusion_matrix(y_test, pred_labels, with_report=True)"
      ],
      "metadata": {
        "colab": {
          "base_uri": "https://localhost:8080/",
          "height": 511
        },
        "id": "vlvEBTA3avcX",
        "outputId": "3e3709d1-3d92-4f17-b725-fd7f515f6738"
      },
      "execution_count": 107,
      "outputs": [
        {
          "output_type": "display_data",
          "data": {
            "text/plain": [
              "<Figure size 432x288 with 2 Axes>"
            ],
            "image/png": "[encoded data removed]"
          },
          "metadata": {
            "needs_background": "light"
          }
        },
        {
          "output_type": "stream",
          "name": "stdout",
          "text": [
            "\n",
            "              precision    recall  f1-score   support\n",
            "\n",
            "           0       0.71      0.79      0.75        19\n",
            "           1       0.67      0.83      0.74        12\n",
            "           2       0.88      0.58      0.70        12\n",
            "           3       0.33      0.29      0.31         7\n",
            "\n",
            "    accuracy                           0.68        50\n",
            "   macro avg       0.65      0.62      0.62        50\n",
            "weighted avg       0.69      0.68      0.67        50\n",
            "\n"
          ]
        }
      ]
    }
  ]
}